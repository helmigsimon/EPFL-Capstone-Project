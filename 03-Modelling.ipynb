{
 "cells": [
  {
   "cell_type": "markdown",
   "metadata": {
    "colab_type": "text",
    "id": "buFUSHKt8apx"
   },
   "source": [
    "## 03 - Modelling"
   ]
  },
  {
   "cell_type": "markdown",
   "metadata": {
    "colab_type": "text",
    "id": "lunHqQ7B8apz"
   },
   "source": [
    "## Optional - Colab Setup"
   ]
  },
  {
   "cell_type": "code",
   "execution_count": null,
   "metadata": {
    "colab": {},
    "colab_type": "code",
    "id": "qQQCreB5gAR_"
   },
   "outputs": [],
   "source": [
    "def upgrade_runtime_ram():\n",
    "    meminfo = subprocess.getoutput('cat /proc/meminfo').split('\\n')\n",
    "\n",
    "    memory_info = {entry.split(':')[0]: int(entry.split(':')[1].replace(' kB','').strip()) for entry in meminfo}\n",
    "\n",
    "    if memory_info['MemTotal'] > 17000000:\n",
    "        return\n",
    "\n",
    "    a = []\n",
    "    while(1):\n",
    "        a.append('1')"
   ]
  },
  {
   "cell_type": "code",
   "execution_count": null,
   "metadata": {
    "colab": {},
    "colab_type": "code",
    "id": "waACZBi_8ap2"
   },
   "outputs": [],
   "source": [
    "def restart_runtime():\n",
    "    os.kill(os.getpid(), 9)"
   ]
  },
  {
   "cell_type": "code",
   "execution_count": null,
   "metadata": {
    "colab": {},
    "colab_type": "code",
    "id": "YIsGqbsy8aqB"
   },
   "outputs": [],
   "source": [
    "def setup_rapids():\n",
    "    pynvml.nvmlInit()\n",
    "    handle = pynvml.nvmlDeviceGetHandleByIndex(0)\n",
    "    device_name = pynvml.nvmlDeviceGetName(handle)\n",
    "    if (device_name != b'Tesla T4') and (device_name != b'Tesla P4') and (device_name != b'Tesla P100-PCIE-16GB'):\n",
    "        print(\"Wrong GPU - Restarting Runtime\")\n",
    "        restart_runtime()\n",
    "\n",
    "\n",
    "    # clone RAPIDS AI rapidsai-csp-utils scripts repo\n",
    "    !git clone https://github.com/rapidsai/rapidsai-csp-utils.git\n",
    "\n",
    "    # install RAPIDS\n",
    "    !bash rapidsai-csp-utils/colab/rapids-colab.sh 0.13\n",
    "\n",
    "\n",
    "    # set necessary environment variables \n",
    "    dist_package_index = sys.path.index('/usr/local/lib/python3.6/dist-packages')\n",
    "    sys.path = sys.path[:dist_package_index] + ['/usr/local/lib/python3.6/site-packages'] + sys.path[dist_package_index:]\n",
    "    sys.path\n",
    "\n",
    "    # update pyarrow & modules \n",
    "    exec(open('rapidsai-csp-utils/colab/update_modules.py').read(), globals())"
   ]
  },
  {
   "cell_type": "code",
   "execution_count": null,
   "metadata": {
    "colab": {},
    "colab_type": "code",
    "id": "9CcPvNIo8aqI"
   },
   "outputs": [],
   "source": [
    "def setup_conda():\n",
    "    if not 'Miniconda3-4.5.4-Linux-x86_64.sh' in os.listdir():\n",
    "        !wget https://repo.continuum.io/miniconda/Miniconda3-4.5.4-Linux-x86_64.sh && bash Miniconda3-4.5.4-Linux-x86_64.sh -bfp /usr/local\n",
    "\n",
    "    if not ('EPFL-Capstone-Project' in os.listdir()) and (os.getcwd().split('/')[-1] != 'EPFL-Capstone-Project'):\n",
    "        !git clone https://github.com/helmigsimon/EPFL-Capstone-Project  \n",
    "    if 'EPFL-Capstone-Project' in os.listdir():\n",
    "        os.chdir('EPFL-Capstone-Project')\n",
    "\n",
    "    !conda env create -f environment.yml\n",
    "    !conda activate exts-ml"
   ]
  },
  {
   "cell_type": "code",
   "execution_count": null,
   "metadata": {
    "colab": {},
    "colab_type": "code",
    "id": "WHSZ-lgE8aqP"
   },
   "outputs": [],
   "source": [
    "def setup_drive():\n",
    "    #Mounting Google Drive\n",
    "    global drive\n",
    "    from google.colab import drive\n",
    "    drive.mount('/content/drive')"
   ]
  },
  {
   "cell_type": "code",
   "execution_count": 6,
   "metadata": {
    "colab": {
     "base_uri": "https://localhost:8080/",
     "height": 1000
    },
    "colab_type": "code",
    "id": "N_uPJqb58aqW",
    "outputId": "0e587cec-ca0f-42c0-93ff-bffba0efceb0"
   },
   "outputs": [
    {
     "name": "stdout",
     "output_type": "stream",
     "text": [
      "Go to this URL in a browser: https://accounts.google.com/o/oauth2/auth?client_id=947318989803-6bn6qk8qdgf4n4g3pfee6491hc0brc4i.apps.googleusercontent.com&redirect_uri=urn%3aietf%3awg%3aoauth%3a2.0%3aoob&response_type=code&scope=email%20https%3a%2f%2fwww.googleapis.com%2fauth%2fdocs.test%20https%3a%2f%2fwww.googleapis.com%2fauth%2fdrive%20https%3a%2f%2fwww.googleapis.com%2fauth%2fdrive.photos.readonly%20https%3a%2f%2fwww.googleapis.com%2fauth%2fpeopleapi.readonly\n",
      "\n",
      "Enter your authorization code:\n",
      "··········\n",
      "Mounted at /content/drive\n",
      "Collecting geopandas\n",
      "\u001b[?25l  Downloading https://files.pythonhosted.org/packages/83/c5/3cf9cdc39a6f2552922f79915f36b45a95b71fd343cfc51170a5b6ddb6e8/geopandas-0.7.0-py2.py3-none-any.whl (928kB)\n",
      "\u001b[K     |████████████████████████████████| 931kB 3.4MB/s \n",
      "\u001b[?25hCollecting sparse-dot-topn\n",
      "\u001b[?25l  Downloading https://files.pythonhosted.org/packages/70/d5/2a3a52acd89344f0c45cae320bd41ee49573caec656834b98c5ea48669b7/sparse_dot_topn-0.2.9.tar.gz (106kB)\n",
      "\u001b[K     |████████████████████████████████| 112kB 21.1MB/s \n",
      "\u001b[?25hCollecting pdpipe\n",
      "\u001b[?25l  Downloading https://files.pythonhosted.org/packages/cf/78/029e7781a3029e105b1ad7bc7dc878b46408186c60c21e15d1e68030331e/pdpipe-0.0.46-py3-none-any.whl (47kB)\n",
      "\u001b[K     |████████████████████████████████| 51kB 5.5MB/s \n",
      "\u001b[?25hCollecting category-encoders\n",
      "\u001b[?25l  Downloading https://files.pythonhosted.org/packages/a0/52/c54191ad3782de633ea3d6ee3bb2837bda0cf3bc97644bb6375cf14150a0/category_encoders-2.1.0-py2.py3-none-any.whl (100kB)\n",
      "\u001b[K     |████████████████████████████████| 102kB 7.2MB/s \n",
      "\u001b[?25hRequirement already satisfied: shapely in /usr/local/lib/python3.6/dist-packages (from geopandas) (1.7.0)\n",
      "Collecting pyproj>=2.2.0\n",
      "\u001b[?25l  Downloading https://files.pythonhosted.org/packages/ce/37/705ee471f71130d4ceee41bbcb06f3b52175cb89273cbb5755ed5e6374e0/pyproj-2.6.0-cp36-cp36m-manylinux2010_x86_64.whl (10.4MB)\n",
      "\u001b[K     |████████████████████████████████| 10.4MB 12.3MB/s \n",
      "\u001b[?25hRequirement already satisfied: pandas>=0.23.0 in /usr/local/lib/python3.6/dist-packages (from geopandas) (1.0.3)\n",
      "\u001b[33mWARNING: Retrying (Retry(total=4, connect=None, read=None, redirect=None, status=None)) after connection broken by 'ProtocolError('Connection aborted.', ConnectionResetError(104, 'Connection reset by peer'))': /simple/fiona/\u001b[0m\n",
      "Collecting fiona\n",
      "\u001b[?25l  Downloading https://files.pythonhosted.org/packages/ec/20/4e63bc5c6e62df889297b382c3ccd4a7a488b00946aaaf81a118158c6f09/Fiona-1.8.13.post1-cp36-cp36m-manylinux1_x86_64.whl (14.7MB)\n",
      "\u001b[K     |████████████████████████████████| 14.7MB 211kB/s \n",
      "\u001b[?25hRequirement already satisfied: setuptools>=18.0 in /usr/local/lib/python3.6/dist-packages (from sparse-dot-topn) (46.1.3)\n",
      "Requirement already satisfied: cython>=0.29.15 in /usr/local/lib/python3.6/dist-packages (from sparse-dot-topn) (0.29.16)\n",
      "Requirement already satisfied: numpy>=1.16.6 in /usr/local/lib/python3.6/dist-packages (from sparse-dot-topn) (1.18.2)\n",
      "Requirement already satisfied: scipy>=1.2.3 in /usr/local/lib/python3.6/dist-packages (from sparse-dot-topn) (1.4.1)\n",
      "Collecting skutil>=0.0.15\n",
      "  Downloading https://files.pythonhosted.org/packages/34/2b/1b5c9e7be3c24e1bd5ce35c2d27a5780989c3d90fcee10f3fee3074dda7f/skutil-0.0.16-py2.py3-none-any.whl\n",
      "Collecting strct\n",
      "  Downloading https://files.pythonhosted.org/packages/4a/c4/bd0de8562cb3731bdfcc33a4627c755a2d9c5e6e96b73546134c43acf1be/strct-0.0.30-py2.py3-none-any.whl\n",
      "Requirement already satisfied: tqdm in /usr/local/lib/python3.6/dist-packages (from pdpipe) (4.38.0)\n",
      "Requirement already satisfied: sortedcontainers in /usr/local/lib/python3.6/dist-packages (from pdpipe) (2.1.0)\n",
      "Requirement already satisfied: scikit-learn>=0.20.0 in /usr/local/lib/python3.6/dist-packages (from category-encoders) (0.22.2.post1)\n",
      "Requirement already satisfied: statsmodels>=0.6.1 in /usr/local/lib/python3.6/dist-packages (from category-encoders) (0.10.2)\n",
      "Requirement already satisfied: patsy>=0.4.1 in /usr/local/lib/python3.6/dist-packages (from category-encoders) (0.5.1)\n",
      "Requirement already satisfied: python-dateutil>=2.6.1 in /usr/local/lib/python3.6/dist-packages (from pandas>=0.23.0->geopandas) (2.8.1)\n",
      "Requirement already satisfied: pytz>=2017.2 in /usr/local/lib/python3.6/dist-packages (from pandas>=0.23.0->geopandas) (2018.9)\n",
      "Requirement already satisfied: click<8,>=4.0 in /usr/local/lib/python3.6/dist-packages (from fiona->geopandas) (7.1.1)\n",
      "Collecting click-plugins>=1.0\n",
      "  Downloading https://files.pythonhosted.org/packages/e9/da/824b92d9942f4e472702488857914bdd50f73021efea15b4cad9aca8ecef/click_plugins-1.1.1-py2.py3-none-any.whl\n",
      "Requirement already satisfied: attrs>=17 in /usr/local/lib/python3.6/dist-packages (from fiona->geopandas) (19.3.0)\n",
      "Collecting munch\n",
      "  Downloading https://files.pythonhosted.org/packages/cc/ab/85d8da5c9a45e072301beb37ad7f833cd344e04c817d97e0cc75681d248f/munch-2.5.0-py2.py3-none-any.whl\n",
      "Collecting cligj>=0.5\n",
      "  Downloading https://files.pythonhosted.org/packages/e4/be/30a58b4b0733850280d01f8bd132591b4668ed5c7046761098d665ac2174/cligj-0.5.0-py3-none-any.whl\n",
      "Requirement already satisfied: six>=1.7 in /usr/local/lib/python3.6/dist-packages (from fiona->geopandas) (1.12.0)\n",
      "Collecting decore\n",
      "  Downloading https://files.pythonhosted.org/packages/b4/69/9e3da3a87058d43e5b9f0f668f69da591b8b0c2763b3afbfea084582ea57/decore-0.0.1.tar.gz\n",
      "Requirement already satisfied: joblib>=0.11 in /usr/local/lib/python3.6/dist-packages (from scikit-learn>=0.20.0->category-encoders) (0.14.1)\n",
      "Building wheels for collected packages: sparse-dot-topn, decore\n",
      "  Building wheel for sparse-dot-topn (setup.py) ... \u001b[?25l\u001b[?25hdone\n",
      "  Created wheel for sparse-dot-topn: filename=sparse_dot_topn-0.2.9-cp36-cp36m-linux_x86_64.whl size=322974 sha256=f6dd143c299ba84a4a082bee91c613bfbbdabef6959accba84989dd623207822\n",
      "  Stored in directory: /root/.cache/pip/wheels/aa/e7/c7/e64559d518bcc12ed7e40a605ae304259b957ae8181c8d1e82\n",
      "  Building wheel for decore (setup.py) ... \u001b[?25l\u001b[?25hdone\n",
      "  Created wheel for decore: filename=decore-0.0.1-py2.py3-none-any.whl size=4190 sha256=b295c3ffb1543faa449043c80a8b885d2c835261b2a00800e1cb5afab7e3bce3\n",
      "  Stored in directory: /root/.cache/pip/wheels/6c/1b/9c/71fa8b5df01cc605c4b5cadcd81df76d520149ca5c02b4013b\n",
      "Successfully built sparse-dot-topn decore\n",
      "Installing collected packages: pyproj, click-plugins, munch, cligj, fiona, geopandas, sparse-dot-topn, decore, skutil, strct, pdpipe, category-encoders\n",
      "Successfully installed category-encoders-2.1.0 click-plugins-1.1.1 cligj-0.5.0 decore-0.0.1 fiona-1.8.13.post1 geopandas-0.7.0 munch-2.5.0 pdpipe-0.0.46 pyproj-2.6.0 skutil-0.0.16 sparse-dot-topn-0.2.9 strct-0.0.30\n",
      "--2020-04-24 15:56:53--  https://repo.continuum.io/miniconda/Miniconda3-4.5.4-Linux-x86_64.sh\n",
      "Resolving repo.continuum.io (repo.continuum.io)... 104.18.200.79, 104.18.201.79, 2606:4700::6812:c84f, ...\n",
      "Connecting to repo.continuum.io (repo.continuum.io)|104.18.200.79|:443... connected.\n",
      "HTTP request sent, awaiting response... 301 Moved Permanently\n",
      "Location: https://repo.anaconda.com/miniconda/Miniconda3-4.5.4-Linux-x86_64.sh [following]\n",
      "--2020-04-24 15:56:53--  https://repo.anaconda.com/miniconda/Miniconda3-4.5.4-Linux-x86_64.sh\n",
      "Resolving repo.anaconda.com (repo.anaconda.com)... 104.16.131.3, 104.16.130.3, 2606:4700::6810:8303, ...\n",
      "Connecting to repo.anaconda.com (repo.anaconda.com)|104.16.131.3|:443... connected.\n",
      "HTTP request sent, awaiting response... 200 OK\n",
      "Length: 58468498 (56M) [application/x-sh]\n",
      "Saving to: ‘Miniconda3-4.5.4-Linux-x86_64.sh’\n",
      "\n",
      "Miniconda3-4.5.4-Li 100%[===================>]  55.76M   102MB/s    in 0.5s    \n",
      "\n",
      "2020-04-24 15:56:54 (102 MB/s) - ‘Miniconda3-4.5.4-Linux-x86_64.sh’ saved [58468498/58468498]\n",
      "\n",
      "PREFIX=/usr/local\n",
      "installing: python-3.6.5-hc3d631a_2 ...\n",
      "Python 3.6.5 :: Anaconda, Inc.\n",
      "installing: ca-certificates-2018.03.07-0 ...\n",
      "installing: conda-env-2.6.0-h36134e3_1 ...\n",
      "installing: libgcc-ng-7.2.0-hdf63c60_3 ...\n",
      "installing: libstdcxx-ng-7.2.0-hdf63c60_3 ...\n",
      "installing: libffi-3.2.1-hd88cf55_4 ...\n",
      "installing: ncurses-6.1-hf484d3e_0 ...\n",
      "installing: openssl-1.0.2o-h20670df_0 ...\n",
      "installing: tk-8.6.7-hc745277_3 ...\n",
      "installing: xz-5.2.4-h14c3975_4 ...\n",
      "installing: yaml-0.1.7-had09818_2 ...\n",
      "installing: zlib-1.2.11-ha838bed_2 ...\n",
      "installing: libedit-3.1.20170329-h6b74fdf_2 ...\n",
      "installing: readline-7.0-ha6073c6_4 ...\n",
      "installing: sqlite-3.23.1-he433501_0 ...\n",
      "installing: asn1crypto-0.24.0-py36_0 ...\n",
      "installing: certifi-2018.4.16-py36_0 ...\n",
      "installing: chardet-3.0.4-py36h0f667ec_1 ...\n",
      "installing: idna-2.6-py36h82fb2a8_1 ...\n",
      "installing: pycosat-0.6.3-py36h0a5515d_0 ...\n",
      "installing: pycparser-2.18-py36hf9f622e_1 ...\n",
      "installing: pysocks-1.6.8-py36_0 ...\n",
      "installing: ruamel_yaml-0.15.37-py36h14c3975_2 ...\n",
      "installing: six-1.11.0-py36h372c433_1 ...\n",
      "installing: cffi-1.11.5-py36h9745a5d_0 ...\n",
      "installing: setuptools-39.2.0-py36_0 ...\n",
      "installing: cryptography-2.2.2-py36h14c3975_0 ...\n",
      "installing: wheel-0.31.1-py36_0 ...\n",
      "installing: pip-10.0.1-py36_0 ...\n",
      "installing: pyopenssl-18.0.0-py36_0 ...\n",
      "installing: urllib3-1.22-py36hbe7ace6_0 ...\n",
      "installing: requests-2.18.4-py36he2e5f8d_1 ...\n",
      "installing: conda-4.5.4-py36_0 ...\n",
      "installation finished.\n",
      "WARNING:\n",
      "    You currently have a PYTHONPATH environment variable set. This may cause\n",
      "    unexpected behavior when running the Python interpreter in Miniconda3.\n",
      "    For best results, please verify that your PYTHONPATH only points to\n",
      "    directories of packages that are compatible with the Python interpreter\n",
      "    in Miniconda3: /usr/local\n",
      "Cloning into 'EPFL-Capstone-Project'...\n",
      "remote: Enumerating objects: 43, done.\u001b[K\n",
      "remote: Counting objects: 100% (43/43), done.\u001b[K\n",
      "remote: Compressing objects: 100% (29/29), done.\u001b[K\n",
      "remote: Total 361 (delta 25), reused 31 (delta 14), pack-reused 318\u001b[K\n",
      "Receiving objects: 100% (361/361), 25.59 MiB | 33.12 MiB/s, done.\n",
      "Resolving deltas: 100% (193/193), done.\n",
      "Solving environment: failed\n",
      "\n",
      "ResolvePackageNotFound: \n",
      "  - json-c==0.13.1=h1de35cc_1001\n",
      "  - sqlalchemy==1.3.13=py36h0b31af3_0\n",
      "  - cfitsio==3.470=h84d2f63_2\n",
      "  - hdf5==1.10.5=nompi_h3e39495_1104\n",
      "  - boost-cpp==1.72.0=hdf9ef73_0\n",
      "  - pixman==0.38.0=h01d97ff_1003\n",
      "  - llvmlite==0.31.0=py36hde82470_1\n",
      "  - mistune==0.8.4=py36h0b31af3_1000\n",
      "  - python-levenshtein==0.12.0=py36h0b31af3_1001\n",
      "  - fiona==1.8.13=py36he71f6a4_0\n",
      "  - geos==3.8.1=h4a8c4bd_0\n",
      "  - sqlite==3.30.1=h93121df_0\n",
      "  - libgfortran==4.0.0=2\n",
      "  - xz==5.2.4=h0b31af3_1002\n",
      "  - scipy==1.4.1=py36h82752d6_0\n",
      "  - libedit==3.1.20170329=hcfe32e1_1001\n",
      "  - lz4-c==1.8.3=h6de7cb9_1001\n",
      "  - scikit-learn==0.20.3=py36hca23c92_1\n",
      "  - markupsafe==1.1.1=py36h37b9a7d_1\n",
      "  - proj==6.3.1=h773a61f_1\n",
      "  - numba==0.48.0=py36h4f17bb1_0\n",
      "  - zlib==1.2.11=h0b31af3_1006\n",
      "  - statsmodels==0.11.1=py36h37b9a7d_1\n",
      "  - xerces-c==3.2.2=h8f8adb3_1004\n",
      "  - c-ares==1.15.0=h01d97ff_1001\n",
      "  - openjpeg==2.3.1=h254dc36_3\n",
      "  - tiledb==1.7.0=hd5e958f_2\n",
      "  - tensorflow==1.12.0=mkl_py36h2b2bbaf_0\n",
      "  - tk==8.6.10=hbbe82c9_0\n",
      "  - h5py==2.10.0=nompi_py36h106b333_102\n",
      "  - libpng==1.6.37=hbbe82c9_1\n",
      "  - icu==64.2=h6de7cb9_1\n",
      "  - appnope==0.1.0=py36h9f0ad1d_1001\n",
      "  - libffi==3.2.1=h4a8c4bd_1007\n",
      "  - glib==2.58.3=py36hb0ce7ff_1003\n",
      "  - libprotobuf==3.11.4=hd174df1_0\n",
      "  - pcre==8.44=h4a8c4bd_0\n",
      "  - libcurl==7.68.0=h709d2b2_0\n",
      "  - readline==8.0=hcfe32e1_0\n",
      "  - libpq==12.2=h554dc5a_0\n",
      "  - tzcode==2019a=h01d97ff_1002\n",
      "  - libssh2==1.8.2=hcdc9a53_2\n",
      "  - psutil==5.7.0=py36h37b9a7d_1\n",
      "  - libwebp==1.0.2=hd3bf737_5\n",
      "  - openssl==1.1.1f=h0b31af3_0\n",
      "  - libsodium==1.0.17=h01d97ff_0\n",
      "  - libuv==1.34.0=h0b31af3_0\n",
      "  - zeromq==4.3.2=h6de7cb9_2\n",
      "  - gettext==0.19.8.1=h46ab8bc_1002\n",
      "  - python==3.6.10=hce46be0_1009_cpython\n",
      "  - kealib==1.4.12=h2324030_0\n",
      "  - libiconv==1.15=h0b31af3_1006\n",
      "  - psycopg2==2.8.4=py36hafa8578_1\n",
      "  - pillow==7.0.0=py36h918e99a_0\n",
      "  - matplotlib-base==3.2.0=py36h11da6c2_1\n",
      "  - pandas==1.0.1=py36h4f17bb1_0\n",
      "  - hdf4==4.2.13=h84186c3_1003\n",
      "  - cryptography==2.8=py36hc9d8292_2\n",
      "  - jpeg==9c=h1de35cc_1001\n",
      "  - llvm-openmp==9.0.1=h28b9765_2\n",
      "  - zstd==1.4.4=hed8d7c8_2\n",
      "  - libspatialite==4.3.0a=hbcd37d4_1037\n",
      "  - tornado==6.0.4=py36h37b9a7d_1\n",
      "  - freexl==1.0.5=h1de35cc_1002\n",
      "  - graphviz==2.42.3=h98dfb87_0\n",
      "  - krb5==1.16.4=h1752a42_0\n",
      "  - ncurses==6.1=h0a44026_1002\n",
      "  - numpy==1.18.1=py36hde6bac1_0\n",
      "  - nodejs==13.10.1=h38d8c5a_0\n",
      "  - grpcio==1.23.0=py36h7c1f37e_1\n",
      "  - kiwisolver==1.1.0=py36h863e41a_1\n",
      "  - freetype==2.10.1=h8da9a1a_0\n",
      "  - bzip2==1.0.8=h0b31af3_2\n",
      "  - libopenblas==0.3.9=h3d69b6c_0\n",
      "  - libllvm8==8.0.1=h770b8ee_0\n",
      "  - geotiff==1.5.1=h4bdff65_9\n",
      "  - cairo==1.16.0=hec6a9b0_1003\n",
      "  - fontconfig==2.13.1=h6b1039f_1001\n",
      "  - pyrsistent==0.16.0=py36h37b9a7d_0\n",
      "  - libgdal==3.0.4=hec54991_3\n",
      "  - libtiff==4.1.0=ha78913b_3\n",
      "  - libdap4==3.20.4=habf5908_0\n",
      "  - libxml2==2.9.10=h53d96d6_0\n",
      "  - giflib==5.2.1=h0b31af3_2\n",
      "  - gdal==3.0.4=py36h5a1ef21_3\n",
      "  - libkml==1.3.0=h169b8f9_1011\n",
      "  - shapely==1.7.0=py36hda0b814_2\n",
      "  - sparse_dot_topn==0.2.9=py36h863e41a_0\n",
      "  - postgresql==12.2=h16d8c28_0\n",
      "  - pyzmq==19.0.0=py36h820b253_1\n",
      "  - poppler==0.67.0=h16886b5_8\n",
      "  - cffi==1.14.0=py36h356ff06_0\n",
      "  - tensorflow-base==1.12.0=mkl_py36h70e0e9a_0\n",
      "  - curl==7.68.0=h8754def_0\n",
      "  - libnetcdf==4.7.4=nompi_he461dc0_101\n",
      "  - expat==2.2.9=h4a8c4bd_2\n",
      "\n",
      "\n",
      "CommandNotFoundError: Your shell has not been properly configured to use 'conda activate'.\n",
      "If your shell is Bash or a Bourne variant, enable conda for the current user with\n",
      "\n",
      "    $ echo \". /usr/local/etc/profile.d/conda.sh\" >> ~/.bashrc\n",
      "\n",
      "or, for all users, enable conda with\n",
      "\n",
      "    $ sudo ln -s /usr/local/etc/profile.d/conda.sh /etc/profile.d/conda.sh\n",
      "\n",
      "The options above will permanently enable the 'conda' command, but they do NOT\n",
      "put conda's base (root) environment on PATH.  To do so, run\n",
      "\n",
      "    $ conda activate\n",
      "\n",
      "in your terminal, or to put the base environment on PATH permanently, run\n",
      "\n",
      "    $ echo \"conda activate\" >> ~/.bashrc\n",
      "\n",
      "Previous to conda 4.4, the recommended way to activate conda was to modify PATH in\n",
      "your ~/.bashrc file.  You should manually remove the line that looks like\n",
      "\n",
      "    export PATH=\"/usr/local/bin:$PATH\"\n",
      "\n",
      "^^^ The above line should NO LONGER be in your ~/.bashrc file! ^^^\n",
      "\n",
      "\n",
      "[nltk_data] Downloading package stopwords to /root/nltk_data...\n",
      "[nltk_data]   Unzipping corpora/stopwords.zip.\n",
      "[nltk_data] Downloading package punkt to /root/nltk_data...\n",
      "[nltk_data]   Unzipping tokenizers/punkt.zip.\n",
      "Cloning into 'rapidsai-csp-utils'...\n",
      "remote: Enumerating objects: 89, done.\u001b[K\n",
      "remote: Counting objects: 100% (89/89), done.\u001b[K\n",
      "remote: Compressing objects: 100% (88/88), done.\u001b[K\n",
      "remote: Total 89 (delta 19), reused 9 (delta 0), pack-reused 0\u001b[K\n",
      "Unpacking objects: 100% (89/89), done.\n",
      "PLEASE READ\n",
      "********************************************************************************************************\n",
      "Changes:\n",
      "1. Now that most people have migrated, we have rem0ved the migration notice.\n",
      "2. default stable version is now 0.13.  Nightly is now 0.14\n",
      "3. You can now declare your RAPIDS version as a CLI option and skip the user prompts (ex: '0.13' or '0.14', between 0.11 to 0.14, without the quotes): \n",
      "        \"!bash rapidsai-csp-utils/colab/rapids-colab.sh <version/label>\"\n",
      "        Examples: '!bash rapidsai-csp-utils/colab/rapids-colab.sh 0.13', or '!bash rapidsai-csp-utils/colab/rapids-colab.sh stable', or '!bash rapidsai-csp-utils/colab/rapids-colab.sh s'\n",
      "                  '!bash rapidsai-csp-utils/colab/rapids-colab.sh 0.14, or '!bash rapidsai-csp-utils/colab/rapids-colab.sh nightly', or '!bash rapidsai-csp-utils/colab/rapids-colab.sh n'\n",
      "Enjoy using RAPIDS!\n",
      "RAPIDS Version to install is 0.13\n",
      "Checking for GPU type:\n",
      "Traceback (most recent call last):\n",
      "  File \"rapidsai-csp-utils/colab/env-check.py\", line 7, in <module>\n",
      "    import pynvml\n",
      "ModuleNotFoundError: No module named 'pynvml'\n",
      "Removing conflicting packages, will replace with RAPIDS compatible versions\n",
      "\u001b[33mSkipping xgboost as it is not installed.\u001b[0m\n",
      "\u001b[33mSkipping dask as it is not installed.\u001b[0m\n",
      "\u001b[33mSkipping distributed as it is not installed.\u001b[0m\n",
      "Installing conda\n",
      "--2020-04-24 15:58:10--  https://repo.continuum.io/miniconda/Miniconda3-4.5.4-Linux-x86_64.sh\n",
      "Resolving repo.continuum.io (repo.continuum.io)... 104.18.200.79, 104.18.201.79, 2606:4700::6812:c84f, ...\n",
      "Connecting to repo.continuum.io (repo.continuum.io)|104.18.200.79|:443... connected.\n",
      "HTTP request sent, awaiting response... 301 Moved Permanently\n",
      "Location: https://repo.anaconda.com/miniconda/Miniconda3-4.5.4-Linux-x86_64.sh [following]\n",
      "--2020-04-24 15:58:10--  https://repo.anaconda.com/miniconda/Miniconda3-4.5.4-Linux-x86_64.sh\n",
      "Resolving repo.anaconda.com (repo.anaconda.com)... 104.16.131.3, 104.16.130.3, 2606:4700::6810:8303, ...\n",
      "Connecting to repo.anaconda.com (repo.anaconda.com)|104.16.131.3|:443... connected.\n",
      "HTTP request sent, awaiting response... 200 OK\n",
      "Length: 58468498 (56M) [application/x-sh]\n",
      "Saving to: ‘Miniconda3-4.5.4-Linux-x86_64.sh’\n",
      "\n",
      "Miniconda3-4.5.4-Li 100%[===================>]  55.76M   120MB/s    in 0.5s    \n",
      "\n",
      "2020-04-24 15:58:10 (120 MB/s) - ‘Miniconda3-4.5.4-Linux-x86_64.sh’ saved [58468498/58468498]\n",
      "\n",
      "PREFIX=/usr/local\n",
      "installing: python-3.6.5-hc3d631a_2 ...\n",
      "Python 3.6.5 :: Anaconda, Inc.\n",
      "installing: ca-certificates-2018.03.07-0 ...\n",
      "installing: conda-env-2.6.0-h36134e3_1 ...\n",
      "installing: libgcc-ng-7.2.0-hdf63c60_3 ...\n",
      "installing: libstdcxx-ng-7.2.0-hdf63c60_3 ...\n",
      "installing: libffi-3.2.1-hd88cf55_4 ...\n",
      "installing: ncurses-6.1-hf484d3e_0 ...\n",
      "installing: openssl-1.0.2o-h20670df_0 ...\n",
      "installing: tk-8.6.7-hc745277_3 ...\n",
      "installing: xz-5.2.4-h14c3975_4 ...\n",
      "installing: yaml-0.1.7-had09818_2 ...\n",
      "installing: zlib-1.2.11-ha838bed_2 ...\n",
      "installing: libedit-3.1.20170329-h6b74fdf_2 ...\n",
      "installing: readline-7.0-ha6073c6_4 ...\n",
      "installing: sqlite-3.23.1-he433501_0 ...\n",
      "installing: asn1crypto-0.24.0-py36_0 ...\n",
      "installing: certifi-2018.4.16-py36_0 ...\n",
      "installing: chardet-3.0.4-py36h0f667ec_1 ...\n",
      "installing: idna-2.6-py36h82fb2a8_1 ...\n",
      "installing: pycosat-0.6.3-py36h0a5515d_0 ...\n",
      "installing: pycparser-2.18-py36hf9f622e_1 ...\n",
      "installing: pysocks-1.6.8-py36_0 ...\n",
      "installing: ruamel_yaml-0.15.37-py36h14c3975_2 ...\n",
      "installing: six-1.11.0-py36h372c433_1 ...\n",
      "installing: cffi-1.11.5-py36h9745a5d_0 ...\n",
      "installing: setuptools-39.2.0-py36_0 ...\n",
      "installing: cryptography-2.2.2-py36h14c3975_0 ...\n",
      "installing: wheel-0.31.1-py36_0 ...\n",
      "installing: pip-10.0.1-py36_0 ...\n",
      "installing: pyopenssl-18.0.0-py36_0 ...\n",
      "installing: urllib3-1.22-py36hbe7ace6_0 ...\n",
      "installing: requests-2.18.4-py36he2e5f8d_1 ...\n",
      "installing: conda-4.5.4-py36_0 ...\n",
      "installation finished.\n",
      "WARNING:\n",
      "    You currently have a PYTHONPATH environment variable set. This may cause\n",
      "    unexpected behavior when running the Python interpreter in Miniconda3.\n",
      "    For best results, please verify that your PYTHONPATH only points to\n",
      "    directories of packages that are compatible with the Python interpreter\n",
      "    in Miniconda3: /usr/local\n",
      "Solving environment: done\n",
      "\n",
      "\n",
      "==> WARNING: A newer version of conda exists. <==\n",
      "  current version: 4.5.4\n",
      "  latest version: 4.8.3\n",
      "\n",
      "Please update conda by running\n",
      "\n",
      "    $ conda update -n base conda\n",
      "\n",
      "\n",
      "\n",
      "## Package Plan ##\n",
      "\n",
      "  environment location: /usr/local\n",
      "\n",
      "  added / updated specs: \n",
      "    - openssl\n",
      "    - python=3.6\n",
      "\n",
      "\n",
      "The following packages will be downloaded:\n",
      "\n",
      "    package                    |            build\n",
      "    ---------------------------|-----------------\n",
      "    libffi-3.2.1               |    he1b5a44_1007          47 KB  conda-forge\n",
      "    _openmp_mutex-4.5          |            0_gnu         435 KB  conda-forge\n",
      "    libgomp-9.2.0              |       h24d8f2e_2         816 KB  conda-forge\n",
      "    python-3.6.10              |h8356626_1010_cpython        34.1 MB  conda-forge\n",
      "    openssl-1.1.1g             |       h516909a_0         2.1 MB  conda-forge\n",
      "    readline-8.0               |       hf8c457e_0         441 KB  conda-forge\n",
      "    ncurses-6.1                |    hf484d3e_1002         1.3 MB  conda-forge\n",
      "    ld_impl_linux-64-2.34      |       h53a641e_0         616 KB  conda-forge\n",
      "    pip-20.0.2                 |             py_2         1.0 MB  conda-forge\n",
      "    certifi-2020.4.5.1         |   py36h9f0ad1d_0         151 KB  conda-forge\n",
      "    _libgcc_mutex-0.1          |      conda_forge           3 KB  conda-forge\n",
      "    python_abi-3.6             |          1_cp36m           4 KB  conda-forge\n",
      "    ca-certificates-2020.4.5.1 |       hecc5488_0         146 KB  conda-forge\n",
      "    libstdcxx-ng-9.2.0         |       hdf63c60_2         4.5 MB  conda-forge\n",
      "    sqlite-3.30.1              |       hcee41ef_0         2.0 MB  conda-forge\n",
      "    setuptools-46.1.3          |   py36h9f0ad1d_0         653 KB  conda-forge\n",
      "    zlib-1.2.11                |    h516909a_1006         105 KB  conda-forge\n",
      "    libgcc-ng-9.2.0            |       h24d8f2e_2         8.2 MB  conda-forge\n",
      "    wheel-0.34.2               |             py_1          24 KB  conda-forge\n",
      "    tk-8.6.10                  |       hed695b0_0         3.2 MB  conda-forge\n",
      "    xz-5.2.5                   |       h516909a_0         430 KB  conda-forge\n",
      "    ------------------------------------------------------------\n",
      "                                           Total:        60.2 MB\n",
      "\n",
      "The following NEW packages will be INSTALLED:\n",
      "\n",
      "    _libgcc_mutex:    0.1-conda_forge   conda-forge\n",
      "    _openmp_mutex:    4.5-0_gnu         conda-forge\n",
      "    ld_impl_linux-64: 2.34-h53a641e_0   conda-forge\n",
      "    libgomp:          9.2.0-h24d8f2e_2  conda-forge\n",
      "    python_abi:       3.6-1_cp36m       conda-forge\n",
      "\n",
      "The following packages will be UPDATED:\n",
      "\n",
      "    ca-certificates:  2018.03.07-0                  --> 2020.4.5.1-hecc5488_0        conda-forge\n",
      "    certifi:          2018.4.16-py36_0              --> 2020.4.5.1-py36h9f0ad1d_0    conda-forge\n",
      "    libffi:           3.2.1-hd88cf55_4              --> 3.2.1-he1b5a44_1007          conda-forge\n",
      "    libgcc-ng:        7.2.0-hdf63c60_3              --> 9.2.0-h24d8f2e_2             conda-forge\n",
      "    libstdcxx-ng:     7.2.0-hdf63c60_3              --> 9.2.0-hdf63c60_2             conda-forge\n",
      "    ncurses:          6.1-hf484d3e_0                --> 6.1-hf484d3e_1002            conda-forge\n",
      "    openssl:          1.0.2o-h20670df_0             --> 1.1.1g-h516909a_0            conda-forge\n",
      "    pip:              10.0.1-py36_0                 --> 20.0.2-py_2                  conda-forge\n",
      "    python:           3.6.5-hc3d631a_2              --> 3.6.10-h8356626_1010_cpython conda-forge\n",
      "    readline:         7.0-ha6073c6_4                --> 8.0-hf8c457e_0               conda-forge\n",
      "    setuptools:       39.2.0-py36_0                 --> 46.1.3-py36h9f0ad1d_0        conda-forge\n",
      "    sqlite:           3.23.1-he433501_0             --> 3.30.1-hcee41ef_0            conda-forge\n",
      "    tk:               8.6.7-hc745277_3              --> 8.6.10-hed695b0_0            conda-forge\n",
      "    wheel:            0.31.1-py36_0                 --> 0.34.2-py_1                  conda-forge\n",
      "    xz:               5.2.4-h14c3975_4              --> 5.2.5-h516909a_0             conda-forge\n",
      "    zlib:             1.2.11-ha838bed_2             --> 1.2.11-h516909a_1006         conda-forge\n",
      "\n",
      "\n",
      "Downloading and Extracting Packages\n",
      "libffi-3.2.1         |   47 KB | : 100% 1.0/1 [00:00<00:00,  6.91it/s]               \n",
      "_openmp_mutex-4.5    |  435 KB | : 100% 1.0/1 [00:00<00:00,  7.98it/s]\n",
      "libgomp-9.2.0        |  816 KB | : 100% 1.0/1 [00:00<00:00,  6.23it/s]               \n",
      "python-3.6.10        | 34.1 MB | : 100% 1.0/1 [00:05<00:00,  5.17s/it]               \n",
      "openssl-1.1.1g       |  2.1 MB | : 100% 1.0/1 [00:00<00:00,  2.53it/s]               \n",
      "readline-8.0         |  441 KB | : 100% 1.0/1 [00:00<00:00,  7.19it/s]               \n",
      "ncurses-6.1          |  1.3 MB | : 100% 1.0/1 [00:01<00:00,  1.05s/it]               \n",
      "ld_impl_linux-64-2.3 |  616 KB | : 100% 1.0/1 [00:00<00:00,  5.85it/s]               \n",
      "pip-20.0.2           |  1.0 MB | : 100% 1.0/1 [00:00<00:00,  2.85it/s]               \n",
      "certifi-2020.4.5.1   |  151 KB | : 100% 1.0/1 [00:00<00:00, 13.57it/s]\n",
      "_libgcc_mutex-0.1    |    3 KB | : 100% 1.0/1 [00:00<00:00, 18.52it/s]\n",
      "python_abi-3.6       |    4 KB | : 100% 1.0/1 [00:00<00:00, 19.97it/s]\n",
      "ca-certificates-2020 |  146 KB | : 100% 1.0/1 [00:00<00:00, 12.02it/s]\n",
      "libstdcxx-ng-9.2.0   |  4.5 MB | : 100% 1.0/1 [00:00<00:00,  1.36it/s]               \n",
      "sqlite-3.30.1        |  2.0 MB | : 100% 1.0/1 [00:00<00:00,  2.82it/s]               \n",
      "setuptools-46.1.3    |  653 KB | : 100% 1.0/1 [00:00<00:00,  4.25it/s]               \n",
      "zlib-1.2.11          |  105 KB | : 100% 1.0/1 [00:00<00:00, 13.93it/s]\n",
      "libgcc-ng-9.2.0      |  8.2 MB | : 100% 1.0/1 [00:01<00:00,  1.34s/it]               \n",
      "wheel-0.34.2         |   24 KB | : 100% 1.0/1 [00:00<00:00, 17.04it/s]\n",
      "tk-8.6.10            |  3.2 MB | : 100% 1.0/1 [00:00<00:00,  1.38it/s]               \n",
      "xz-5.2.5             |  430 KB | : 100% 1.0/1 [00:00<00:00,  6.28it/s]               \n",
      "Preparing transaction: done\n",
      "Verifying transaction: done\n",
      "Executing transaction: done\n",
      "Installing RAPIDS 0.13 packages from the stable release channel\n",
      "Please standby, this will take a few minutes...\n",
      "Solving environment: done\n",
      "\n",
      "\n",
      "==> WARNING: A newer version of conda exists. <==\n",
      "  current version: 4.5.4\n",
      "  latest version: 4.8.3\n",
      "\n",
      "Please update conda by running\n",
      "\n",
      "    $ conda update -n base conda\n",
      "\n",
      "\n",
      "\n",
      "## Package Plan ##\n",
      "\n",
      "  environment location: /usr/local\n",
      "\n",
      "  added / updated specs: \n",
      "    - cudatoolkit=10.0\n",
      "    - cudf=0.13\n",
      "    - cugraph\n",
      "    - cuml\n",
      "    - cuspatial\n",
      "    - dask-cudf\n",
      "    - gcsfs\n",
      "    - pynvml\n",
      "    - python=3.6\n",
      "    - xgboost=1.0.2dev.rapidsai0.13\n",
      "\n",
      "\n",
      "The following packages will be downloaded:\n",
      "\n",
      "    package                    |            build\n",
      "    ---------------------------|-----------------\n",
      "    llvmlite-0.31.0            |   py36hfa65bc7_1         325 KB  conda-forge\n",
      "    pthread-stubs-0.4          |    h14c3975_1001           5 KB  conda-forge\n",
      "    freexl-1.0.5               |    h14c3975_1002          43 KB  conda-forge\n",
      "    pyasn1-modules-0.2.7       |             py_0          60 KB  conda-forge\n",
      "    geotiff-1.5.1              |       h38872f0_8         279 KB  conda-forge\n",
      "    libnvstrings-0.13.0        |       cuda10.0_0        29.6 MB  rapidsai/label/main\n",
      "    zstd-1.4.3                 |       h3b9ef0a_0         935 KB  conda-forge\n",
      "    xorg-kbproto-1.0.7         |    h14c3975_1002          26 KB  conda-forge\n",
      "    cairo-1.16.0               |    hcf35c78_1003         1.5 MB  conda-forge\n",
      "    pyparsing-2.4.7            |     pyh9f0ad1d_0          60 KB  conda-forge\n",
      "    libssh2-1.8.2              |       h22169c7_2         257 KB  conda-forge\n",
      "    blinker-1.4                |             py_1          13 KB  conda-forge\n",
      "    xorg-libxext-1.3.4         |       h516909a_0          51 KB  conda-forge\n",
      "    distributed-2.14.0         |   py36h9f0ad1d_0        1007 KB  conda-forge\n",
      "    pyarrow-0.15.0             |   py36h8b68381_1         3.2 MB  conda-forge\n",
      "    glog-0.4.0                 |       h49b9bf7_3         104 KB  conda-forge\n",
      "    lz4-c-1.8.3                |    he1b5a44_1001         187 KB  conda-forge\n",
      "    urllib3-1.25.9             |             py_0          92 KB  conda-forge\n",
      "    decorator-4.4.2            |             py_0          11 KB  conda-forge\n",
      "    hdf5-1.10.5                |nompi_h3c11f04_1104         3.1 MB  conda-forge\n",
      "    proj-6.3.0                 |       hc80f0dc_0        10.3 MB  conda-forge\n",
      "    pcre-8.44                  |       he1b5a44_0         261 KB  conda-forge\n",
      "    dlpack-0.2                 |       he1b5a44_1          13 KB  conda-forge\n",
      "    pillow-7.1.1               |   py36h8328e55_0         654 KB  conda-forge\n",
      "    expat-2.2.9                |       he1b5a44_2         191 KB  conda-forge\n",
      "    libxml2-2.9.10             |       hee79883_0         1.3 MB  conda-forge\n",
      "    cugraph-0.13.0             |           py36_0         7.2 MB  rapidsai/label/main\n",
      "    libllvm8-8.0.1             |       hc9558a2_0        23.2 MB  conda-forge\n",
      "    gettext-0.19.8.1           |    hc5be6a0_1002         3.6 MB  conda-forge\n",
      "    libcuspatial-0.13.0        |       cuda10.0_0         1.7 MB  rapidsai/label/main\n",
      "    ucx-py-0.13.0+g9d06c3a     |           py36_0         287 KB  rapidsai/label/main\n",
      "    libnetcdf-4.7.3            |nompi_h9f9fd6a_101         1.3 MB  conda-forge\n",
      "    dask-cudf-0.13.0           |           py36_0          76 KB  rapidsai/label/main\n",
      "    thrift-cpp-0.12.0          |    hf3afdfd_1004         2.4 MB  conda-forge\n",
      "    snappy-1.1.8               |       he1b5a44_1          39 KB  conda-forge\n",
      "    ucx-1.7.0+g9d06c3a         |       cuda10.0_0         8.2 MB  rapidsai/label/main\n",
      "    libcblas-3.8.0             |      14_openblas          10 KB  conda-forge\n",
      "    nccl-2.5.7.1               |       hd6f8bf8_0        96.6 MB  conda-forge\n",
      "    arrow-cpp-0.15.0           |   py36h090bef1_2        18.1 MB  conda-forge\n",
      "    zict-2.0.0                 |             py_0          10 KB  conda-forge\n",
      "    py-xgboost-1.0.2dev.rapidsai0.13|   cuda10.0py36_6         100 KB  rapidsai/label/main\n",
      "    librmm-0.13.0              |       cuda10.0_0          70 KB  rapidsai/label/main\n",
      "    brotlipy-0.7.0             |py36h8c4c3a4_1000         346 KB  conda-forge\n",
      "    libpng-1.6.37              |       hed695b0_1         308 KB  conda-forge\n",
      "    glib-2.64.2                |       h6f030ca_0         3.4 MB  conda-forge\n",
      "    gflags-2.2.2               |    he1b5a44_1002         175 KB  conda-forge\n",
      "    libxcb-1.13                |    h14c3975_1002         396 KB  conda-forge\n",
      "    hdf4-4.2.13                |    hf30be14_1003         964 KB  conda-forge\n",
      "    pyjwt-1.7.1                |             py_0          17 KB  conda-forge\n",
      "    requests-oauthlib-1.2.0    |             py_0          19 KB  conda-forge\n",
      "    cuspatial-0.13.0           |           py36_0         1.7 MB  rapidsai/label/main\n",
      "    libcugraph-0.13.0          |       cuda10.0_0        40.0 MB  rapidsai/label/main\n",
      "    re2-2020.04.01             |       he1b5a44_0         438 KB  conda-forge\n",
      "    xorg-renderproto-0.11.1    |    h14c3975_1002           8 KB  conda-forge\n",
      "    click-7.1.1                |     pyh8c360ce_0          64 KB  conda-forge\n",
      "    libevent-2.1.10            |       h72c5cf5_0         1.3 MB  conda-forge\n",
      "    sortedcontainers-2.1.0     |             py_0          25 KB  conda-forge\n",
      "    xgboost-1.0.2dev.rapidsai0.13|   cuda10.0py36_6          12 KB  rapidsai/label/main\n",
      "    gcsfs-0.6.1                |             py_0          19 KB  conda-forge\n",
      "    heapdict-1.0.1             |             py_0           7 KB  conda-forge\n",
      "    libpq-12.2                 |       h5513abc_1         2.6 MB  conda-forge\n",
      "    parquet-cpp-1.5.1          |                2           3 KB  conda-forge\n",
      "    libprotobuf-3.8.0          |       h8b12597_0         4.7 MB  conda-forge\n",
      "    psutil-5.7.0               |   py36h8c4c3a4_1         324 KB  conda-forge\n",
      "    tornado-6.0.4              |   py36h8c4c3a4_1         639 KB  conda-forge\n",
      "    liblapack-3.8.0            |      14_openblas          10 KB  conda-forge\n",
      "    fontconfig-2.13.1          |    h86ecdb6_1001         340 KB  conda-forge\n",
      "    locket-0.2.0               |             py_2           6 KB  conda-forge\n",
      "    pyyaml-5.1.2               |   py36h516909a_0         184 KB  conda-forge\n",
      "    olefile-0.46               |             py_0          31 KB  conda-forge\n",
      "    tzcode-2020a               |       h516909a_0         425 KB  conda-forge\n",
      "    libiconv-1.15              |    h516909a_1006         2.0 MB  conda-forge\n",
      "    c-ares-1.15.0              |    h516909a_1001         100 KB  conda-forge\n",
      "    cudatoolkit-10.0.130       |                0       380.0 MB  nvidia\n",
      "    xorg-libxdmcp-1.1.3        |       h516909a_0          18 KB  conda-forge\n",
      "    openjpeg-2.3.1             |       h981e76c_3         475 KB  conda-forge\n",
      "    xorg-libxau-1.0.9          |       h14c3975_0          13 KB  conda-forge\n",
      "    cryptography-2.8           |   py36h45558ae_2         628 KB  conda-forge\n",
      "    grpc-cpp-1.23.0            |       h18db393_0         4.5 MB  conda-forge\n",
      "    xorg-libxrender-0.9.10     |    h516909a_1002          31 KB  conda-forge\n",
      "    libcumlprims-0.13.0        |       cuda10.0_0         3.3 MB  nvidia\n",
      "    xorg-libsm-1.2.3           |    h84519dc_1000          25 KB  conda-forge\n",
      "    libcudf-0.13.0             |       cuda10.0_0       136.8 MB  rapidsai/label/main\n",
      "    postgresql-12.2            |       h8573dbc_1         5.0 MB  conda-forge\n",
      "    dask-core-2.14.0           |             py_0         599 KB  conda-forge\n",
      "    pynvml-8.0.4               |             py_0          31 KB  conda-forge\n",
      "    libblas-3.8.0              |      14_openblas          10 KB  conda-forge\n",
      "    json-c-0.13.1              |    h14c3975_1001          71 KB  conda-forge\n",
      "    packaging-20.1             |             py_0          31 KB  conda-forge\n",
      "    python-dateutil-2.8.1      |             py_0         220 KB  conda-forge\n",
      "    cuml-0.13.0                |  cuda10.0_py36_0         9.2 MB  rapidsai/label/main\n",
      "    boost-cpp-1.70.0           |       h8e57a91_2        21.1 MB  conda-forge\n",
      "    cfitsio-3.470              |       hb60a0a2_2         1.4 MB  conda-forge\n",
      "    geos-3.8.0                 |       he1b5a44_1         1.0 MB  conda-forge\n",
      "    fastrlock-0.4              |py36h831f99a_1001          32 KB  conda-forge\n",
      "    numpy-1.18.1               |   py36h7314795_1         5.2 MB  conda-forge\n",
      "    fastavro-0.23.2            |   py36h8c4c3a4_0         415 KB  conda-forge\n",
      "    xorg-xproto-7.0.31         |    h14c3975_1007          72 KB  conda-forge\n",
      "    numba-0.48.0               |   py36hb3f55d8_0         3.4 MB  conda-forge\n",
      "    pandas-0.25.3              |   py36hb3f55d8_0        11.4 MB  conda-forge\n",
      "    libspatialite-4.3.0a       |    ha48a99a_1034         3.1 MB  conda-forge\n",
      "    toolz-0.10.0               |             py_0          46 KB  conda-forge\n",
      "    jpeg-9c                    |    h14c3975_1001         251 KB  conda-forge\n",
      "    google-auth-1.14.1         |     pyh9f0ad1d_0          54 KB  conda-forge\n",
      "    xorg-libx11-1.6.9          |       h516909a_0         918 KB  conda-forge\n",
      "    cupy-7.3.0                 |   py36h273e724_0        15.2 MB  conda-forge\n",
      "    bzip2-1.0.8                |       h516909a_2         396 KB  conda-forge\n",
      "    markupsafe-1.1.1           |   py36h8c4c3a4_1          26 KB  conda-forge\n",
      "    pyopenssl-19.1.0           |             py_1          47 KB  conda-forge\n",
      "    libxgboost-1.0.2dev.rapidsai0.13|       cuda10.0_6        21.9 MB  rapidsai/label/main\n",
      "    msgpack-python-1.0.0       |   py36hdb11119_1          91 KB  conda-forge\n",
      "    cloudpickle-1.3.0          |             py_0          24 KB  conda-forge\n",
      "    libgdal-2.4.4              |       h2b6fda6_0        18.7 MB  conda-forge\n",
      "    poppler-data-0.4.9         |                1         3.4 MB  conda-forge\n",
      "    double-conversion-3.1.5    |       he1b5a44_2          85 KB  conda-forge\n",
      "    kealib-1.4.13              |       hec59c27_0         172 KB  conda-forge\n",
      "    xerces-c-3.2.2             |    h8412b87_1004         1.7 MB  conda-forge\n",
      "    libkml-1.3.0               |    h4fcabce_1010         643 KB  conda-forge\n",
      "    joblib-0.14.1              |             py_0         198 KB  conda-forge\n",
      "    cudnn-7.6.0                |       cuda10.0_0       216.6 MB  nvidia\n",
      "    nvstrings-0.13.0           |           py36_0         129 KB  rapidsai/label/main\n",
      "    scikit-learn-0.22.2.post1  |   py36hcdab131_0         7.1 MB  conda-forge\n",
      "    tblib-1.6.0                |             py_0          14 KB  conda-forge\n",
      "    bokeh-2.0.1                |   py36h9f0ad1d_0         6.8 MB  conda-forge\n",
      "    gdal-2.4.4                 |   py36h5f563d9_0         1.4 MB  conda-forge\n",
      "    dask-2.14.0                |             py_0           4 KB  conda-forge\n",
      "    libcurl-7.69.1             |       hf7181ac_0         573 KB  conda-forge\n",
      "    cytoolz-0.10.1             |   py36h516909a_0         431 KB  conda-forge\n",
      "    icu-64.2                   |       he1b5a44_1        12.6 MB  conda-forge\n",
      "    cachetools-3.1.1           |             py_0          11 KB  conda-forge\n",
      "    rmm-0.13.0                 |           py36_0         687 KB  rapidsai/label/main\n",
      "    curl-7.69.1                |       h33f0ec9_0         137 KB  conda-forge\n",
      "    libhwloc-2.1.0             |       h3c4fd83_0         2.7 MB  conda-forge\n",
      "    libgfortran-ng-7.3.0       |       hdf63c60_5         1.7 MB  conda-forge\n",
      "    pyasn1-0.4.8               |             py_0          53 KB  conda-forge\n",
      "    xorg-xextproto-7.3.0       |    h14c3975_1002          27 KB  conda-forge\n",
      "    freetype-2.10.1            |       he06d7ca_0         877 KB  conda-forge\n",
      "    libcuml-0.13.0             |       cuda10.0_0        51.6 MB  rapidsai/label/main\n",
      "    krb5-1.17.1                |       h2fd8d38_0         1.5 MB  conda-forge\n",
      "    rsa-4.0                    |             py_0          27 KB  conda-forge\n",
      "    libopenblas-0.3.7          |       h5ec1e0e_6         7.6 MB  conda-forge\n",
      "    fsspec-0.6.3               |             py_0          48 KB  conda-forge\n",
      "    pixman-0.38.0              |    h516909a_1003         594 KB  conda-forge\n",
      "    cudf-0.13.0                |           py36_0        32.7 MB  rapidsai/label/main\n",
      "    partd-1.1.0                |             py_0          17 KB  conda-forge\n",
      "    pytz-2019.3                |             py_0         237 KB  conda-forge\n",
      "    uriparser-0.9.3            |       he1b5a44_1          49 KB  conda-forge\n",
      "    xorg-libice-1.0.10         |       h516909a_0          57 KB  conda-forge\n",
      "    poppler-0.67.0             |       h14e79db_8         8.9 MB  conda-forge\n",
      "    libtiff-4.1.0              |       hfc65ed5_0         595 KB  conda-forge\n",
      "    oauthlib-3.0.1             |             py_0          82 KB  conda-forge\n",
      "    brotli-1.0.7               |    he1b5a44_1001         1.0 MB  conda-forge\n",
      "    giflib-5.1.7               |       h516909a_1         455 KB  conda-forge\n",
      "    libdap4-3.20.6             |       h1d1bd15_0        18.2 MB  conda-forge\n",
      "    typing_extensions-3.7.4.1  |   py36h9f0ad1d_3          38 KB  conda-forge\n",
      "    libuuid-2.32.1             |    h14c3975_1000          26 KB  conda-forge\n",
      "    requests-2.23.0            |     pyh8c360ce_2          47 KB  conda-forge\n",
      "    scipy-1.4.1                |   py36h2d22cac_3        18.9 MB  conda-forge\n",
      "    google-auth-oauthlib-0.4.1 |             py_2          18 KB  conda-forge\n",
      "    jinja2-2.11.2              |     pyh9f0ad1d_0          93 KB  conda-forge\n",
      "    ------------------------------------------------------------\n",
      "                                           Total:        1.29 GB\n",
      "\n",
      "The following NEW packages will be INSTALLED:\n",
      "\n",
      "    arrow-cpp:            0.15.0-py36h090bef1_2                conda-forge        \n",
      "    blinker:              1.4-py_1                             conda-forge        \n",
      "    bokeh:                2.0.1-py36h9f0ad1d_0                 conda-forge        \n",
      "    boost-cpp:            1.70.0-h8e57a91_2                    conda-forge        \n",
      "    brotli:               1.0.7-he1b5a44_1001                  conda-forge        \n",
      "    brotlipy:             0.7.0-py36h8c4c3a4_1000              conda-forge        \n",
      "    bzip2:                1.0.8-h516909a_2                     conda-forge        \n",
      "    c-ares:               1.15.0-h516909a_1001                 conda-forge        \n",
      "    cachetools:           3.1.1-py_0                           conda-forge        \n",
      "    cairo:                1.16.0-hcf35c78_1003                 conda-forge        \n",
      "    cfitsio:              3.470-hb60a0a2_2                     conda-forge        \n",
      "    click:                7.1.1-pyh8c360ce_0                   conda-forge        \n",
      "    cloudpickle:          1.3.0-py_0                           conda-forge        \n",
      "    cudatoolkit:          10.0.130-0                           nvidia             \n",
      "    cudf:                 0.13.0-py36_0                        rapidsai/label/main\n",
      "    cudnn:                7.6.0-cuda10.0_0                     nvidia             \n",
      "    cugraph:              0.13.0-py36_0                        rapidsai/label/main\n",
      "    cuml:                 0.13.0-cuda10.0_py36_0               rapidsai/label/main\n",
      "    cupy:                 7.3.0-py36h273e724_0                 conda-forge        \n",
      "    curl:                 7.69.1-h33f0ec9_0                    conda-forge        \n",
      "    cuspatial:            0.13.0-py36_0                        rapidsai/label/main\n",
      "    cytoolz:              0.10.1-py36h516909a_0                conda-forge        \n",
      "    dask:                 2.14.0-py_0                          conda-forge        \n",
      "    dask-core:            2.14.0-py_0                          conda-forge        \n",
      "    dask-cudf:            0.13.0-py36_0                        rapidsai/label/main\n",
      "    decorator:            4.4.2-py_0                           conda-forge        \n",
      "    distributed:          2.14.0-py36h9f0ad1d_0                conda-forge        \n",
      "    dlpack:               0.2-he1b5a44_1                       conda-forge        \n",
      "    double-conversion:    3.1.5-he1b5a44_2                     conda-forge        \n",
      "    expat:                2.2.9-he1b5a44_2                     conda-forge        \n",
      "    fastavro:             0.23.2-py36h8c4c3a4_0                conda-forge        \n",
      "    fastrlock:            0.4-py36h831f99a_1001                conda-forge        \n",
      "    fontconfig:           2.13.1-h86ecdb6_1001                 conda-forge        \n",
      "    freetype:             2.10.1-he06d7ca_0                    conda-forge        \n",
      "    freexl:               1.0.5-h14c3975_1002                  conda-forge        \n",
      "    fsspec:               0.6.3-py_0                           conda-forge        \n",
      "    gcsfs:                0.6.1-py_0                           conda-forge        \n",
      "    gdal:                 2.4.4-py36h5f563d9_0                 conda-forge        \n",
      "    geos:                 3.8.0-he1b5a44_1                     conda-forge        \n",
      "    geotiff:              1.5.1-h38872f0_8                     conda-forge        \n",
      "    gettext:              0.19.8.1-hc5be6a0_1002               conda-forge        \n",
      "    gflags:               2.2.2-he1b5a44_1002                  conda-forge        \n",
      "    giflib:               5.1.7-h516909a_1                     conda-forge        \n",
      "    glib:                 2.64.2-h6f030ca_0                    conda-forge        \n",
      "    glog:                 0.4.0-h49b9bf7_3                     conda-forge        \n",
      "    google-auth:          1.14.1-pyh9f0ad1d_0                  conda-forge        \n",
      "    google-auth-oauthlib: 0.4.1-py_2                           conda-forge        \n",
      "    grpc-cpp:             1.23.0-h18db393_0                    conda-forge        \n",
      "    hdf4:                 4.2.13-hf30be14_1003                 conda-forge        \n",
      "    hdf5:                 1.10.5-nompi_h3c11f04_1104           conda-forge        \n",
      "    heapdict:             1.0.1-py_0                           conda-forge        \n",
      "    icu:                  64.2-he1b5a44_1                      conda-forge        \n",
      "    jinja2:               2.11.2-pyh9f0ad1d_0                  conda-forge        \n",
      "    joblib:               0.14.1-py_0                          conda-forge        \n",
      "    jpeg:                 9c-h14c3975_1001                     conda-forge        \n",
      "    json-c:               0.13.1-h14c3975_1001                 conda-forge        \n",
      "    kealib:               1.4.13-hec59c27_0                    conda-forge        \n",
      "    krb5:                 1.17.1-h2fd8d38_0                    conda-forge        \n",
      "    libblas:              3.8.0-14_openblas                    conda-forge        \n",
      "    libcblas:             3.8.0-14_openblas                    conda-forge        \n",
      "    libcudf:              0.13.0-cuda10.0_0                    rapidsai/label/main\n",
      "    libcugraph:           0.13.0-cuda10.0_0                    rapidsai/label/main\n",
      "    libcuml:              0.13.0-cuda10.0_0                    rapidsai/label/main\n",
      "    libcumlprims:         0.13.0-cuda10.0_0                    nvidia             \n",
      "    libcurl:              7.69.1-hf7181ac_0                    conda-forge        \n",
      "    libcuspatial:         0.13.0-cuda10.0_0                    rapidsai/label/main\n",
      "    libdap4:              3.20.6-h1d1bd15_0                    conda-forge        \n",
      "    libevent:             2.1.10-h72c5cf5_0                    conda-forge        \n",
      "    libgdal:              2.4.4-h2b6fda6_0                     conda-forge        \n",
      "    libgfortran-ng:       7.3.0-hdf63c60_5                     conda-forge        \n",
      "    libhwloc:             2.1.0-h3c4fd83_0                     conda-forge        \n",
      "    libiconv:             1.15-h516909a_1006                   conda-forge        \n",
      "    libkml:               1.3.0-h4fcabce_1010                  conda-forge        \n",
      "    liblapack:            3.8.0-14_openblas                    conda-forge        \n",
      "    libllvm8:             8.0.1-hc9558a2_0                     conda-forge        \n",
      "    libnetcdf:            4.7.3-nompi_h9f9fd6a_101             conda-forge        \n",
      "    libnvstrings:         0.13.0-cuda10.0_0                    rapidsai/label/main\n",
      "    libopenblas:          0.3.7-h5ec1e0e_6                     conda-forge        \n",
      "    libpng:               1.6.37-hed695b0_1                    conda-forge        \n",
      "    libpq:                12.2-h5513abc_1                      conda-forge        \n",
      "    libprotobuf:          3.8.0-h8b12597_0                     conda-forge        \n",
      "    librmm:               0.13.0-cuda10.0_0                    rapidsai/label/main\n",
      "    libspatialite:        4.3.0a-ha48a99a_1034                 conda-forge        \n",
      "    libssh2:              1.8.2-h22169c7_2                     conda-forge        \n",
      "    libtiff:              4.1.0-hfc65ed5_0                     conda-forge        \n",
      "    libuuid:              2.32.1-h14c3975_1000                 conda-forge        \n",
      "    libxcb:               1.13-h14c3975_1002                   conda-forge        \n",
      "    libxgboost:           1.0.2dev.rapidsai0.13-cuda10.0_6     rapidsai/label/main\n",
      "    libxml2:              2.9.10-hee79883_0                    conda-forge        \n",
      "    llvmlite:             0.31.0-py36hfa65bc7_1                conda-forge        \n",
      "    locket:               0.2.0-py_2                           conda-forge        \n",
      "    lz4-c:                1.8.3-he1b5a44_1001                  conda-forge        \n",
      "    markupsafe:           1.1.1-py36h8c4c3a4_1                 conda-forge        \n",
      "    msgpack-python:       1.0.0-py36hdb11119_1                 conda-forge        \n",
      "    nccl:                 2.5.7.1-hd6f8bf8_0                   conda-forge        \n",
      "    numba:                0.48.0-py36hb3f55d8_0                conda-forge        \n",
      "    numpy:                1.18.1-py36h7314795_1                conda-forge        \n",
      "    nvstrings:            0.13.0-py36_0                        rapidsai/label/main\n",
      "    oauthlib:             3.0.1-py_0                           conda-forge        \n",
      "    olefile:              0.46-py_0                            conda-forge        \n",
      "    openjpeg:             2.3.1-h981e76c_3                     conda-forge        \n",
      "    packaging:            20.1-py_0                            conda-forge        \n",
      "    pandas:               0.25.3-py36hb3f55d8_0                conda-forge        \n",
      "    parquet-cpp:          1.5.1-2                              conda-forge        \n",
      "    partd:                1.1.0-py_0                           conda-forge        \n",
      "    pcre:                 8.44-he1b5a44_0                      conda-forge        \n",
      "    pillow:               7.1.1-py36h8328e55_0                 conda-forge        \n",
      "    pixman:               0.38.0-h516909a_1003                 conda-forge        \n",
      "    poppler:              0.67.0-h14e79db_8                    conda-forge        \n",
      "    poppler-data:         0.4.9-1                              conda-forge        \n",
      "    postgresql:           12.2-h8573dbc_1                      conda-forge        \n",
      "    proj:                 6.3.0-hc80f0dc_0                     conda-forge        \n",
      "    psutil:               5.7.0-py36h8c4c3a4_1                 conda-forge        \n",
      "    pthread-stubs:        0.4-h14c3975_1001                    conda-forge        \n",
      "    py-xgboost:           1.0.2dev.rapidsai0.13-cuda10.0py36_6 rapidsai/label/main\n",
      "    pyarrow:              0.15.0-py36h8b68381_1                conda-forge        \n",
      "    pyasn1:               0.4.8-py_0                           conda-forge        \n",
      "    pyasn1-modules:       0.2.7-py_0                           conda-forge        \n",
      "    pyjwt:                1.7.1-py_0                           conda-forge        \n",
      "    pynvml:               8.0.4-py_0                           conda-forge        \n",
      "    pyparsing:            2.4.7-pyh9f0ad1d_0                   conda-forge        \n",
      "    python-dateutil:      2.8.1-py_0                           conda-forge        \n",
      "    pytz:                 2019.3-py_0                          conda-forge        \n",
      "    pyyaml:               5.1.2-py36h516909a_0                 conda-forge        \n",
      "    re2:                  2020.04.01-he1b5a44_0                conda-forge        \n",
      "    requests-oauthlib:    1.2.0-py_0                           conda-forge        \n",
      "    rmm:                  0.13.0-py36_0                        rapidsai/label/main\n",
      "    rsa:                  4.0-py_0                             conda-forge        \n",
      "    scikit-learn:         0.22.2.post1-py36hcdab131_0          conda-forge        \n",
      "    scipy:                1.4.1-py36h2d22cac_3                 conda-forge        \n",
      "    snappy:               1.1.8-he1b5a44_1                     conda-forge        \n",
      "    sortedcontainers:     2.1.0-py_0                           conda-forge        \n",
      "    tblib:                1.6.0-py_0                           conda-forge        \n",
      "    thrift-cpp:           0.12.0-hf3afdfd_1004                 conda-forge        \n",
      "    toolz:                0.10.0-py_0                          conda-forge        \n",
      "    tornado:              6.0.4-py36h8c4c3a4_1                 conda-forge        \n",
      "    typing_extensions:    3.7.4.1-py36h9f0ad1d_3               conda-forge        \n",
      "    tzcode:               2020a-h516909a_0                     conda-forge        \n",
      "    ucx:                  1.7.0+g9d06c3a-cuda10.0_0            rapidsai/label/main\n",
      "    ucx-py:               0.13.0+g9d06c3a-py36_0               rapidsai/label/main\n",
      "    uriparser:            0.9.3-he1b5a44_1                     conda-forge        \n",
      "    xerces-c:             3.2.2-h8412b87_1004                  conda-forge        \n",
      "    xgboost:              1.0.2dev.rapidsai0.13-cuda10.0py36_6 rapidsai/label/main\n",
      "    xorg-kbproto:         1.0.7-h14c3975_1002                  conda-forge        \n",
      "    xorg-libice:          1.0.10-h516909a_0                    conda-forge        \n",
      "    xorg-libsm:           1.2.3-h84519dc_1000                  conda-forge        \n",
      "    xorg-libx11:          1.6.9-h516909a_0                     conda-forge        \n",
      "    xorg-libxau:          1.0.9-h14c3975_0                     conda-forge        \n",
      "    xorg-libxdmcp:        1.1.3-h516909a_0                     conda-forge        \n",
      "    xorg-libxext:         1.3.4-h516909a_0                     conda-forge        \n",
      "    xorg-libxrender:      0.9.10-h516909a_1002                 conda-forge        \n",
      "    xorg-renderproto:     0.11.1-h14c3975_1002                 conda-forge        \n",
      "    xorg-xextproto:       7.3.0-h14c3975_1002                  conda-forge        \n",
      "    xorg-xproto:          7.0.31-h14c3975_1007                 conda-forge        \n",
      "    zict:                 2.0.0-py_0                           conda-forge        \n",
      "    zstd:                 1.4.3-h3b9ef0a_0                     conda-forge        \n",
      "\n",
      "The following packages will be UPDATED:\n",
      "\n",
      "    cryptography:         2.2.2-py36h14c3975_0                                     --> 2.8-py36h45558ae_2  conda-forge\n",
      "    pyopenssl:            18.0.0-py36_0                                            --> 19.1.0-py_1         conda-forge\n",
      "    requests:             2.18.4-py36he2e5f8d_1                                    --> 2.23.0-pyh8c360ce_2 conda-forge\n",
      "    urllib3:              1.22-py36hbe7ace6_0                                      --> 1.25.9-py_0         conda-forge\n",
      "\n",
      "\n",
      "Downloading and Extracting Packages\n",
      "llvmlite-0.31.0      |  325 KB | : 100% 1.0/1 [00:00<00:00,  3.87it/s]               \n",
      "pthread-stubs-0.4    |    5 KB | : 100% 1.0/1 [00:00<00:00, 21.84it/s]\n",
      "freexl-1.0.5         |   43 KB | : 100% 1.0/1 [00:00<00:00, 12.56it/s]\n",
      "pyasn1-modules-0.2.7 |   60 KB | : 100% 1.0/1 [00:00<00:00, 10.46it/s]\n",
      "geotiff-1.5.1        |  279 KB | : 100% 1.0/1 [00:00<00:00,  7.49it/s]\n",
      "libnvstrings-0.13.0  | 29.6 MB | : 100% 1.0/1 [00:07<00:00,  7.67s/it]               \n",
      "zstd-1.4.3           |  935 KB | : 100% 1.0/1 [00:00<00:00,  4.88it/s]               \n",
      "xorg-kbproto-1.0.7   |   26 KB | : 100% 1.0/1 [00:00<00:00, 18.59it/s]\n",
      "cairo-1.16.0         |  1.5 MB | : 100% 1.0/1 [00:00<00:00,  2.72it/s]               \n",
      "pyparsing-2.4.7      |   60 KB | : 100% 1.0/1 [00:00<00:00, 17.94it/s]\n",
      "libssh2-1.8.2        |  257 KB | : 100% 1.0/1 [00:00<00:00,  6.59it/s]               \n",
      "blinker-1.4          |   13 KB | : 100% 1.0/1 [00:00<00:00, 21.05it/s]\n",
      "xorg-libxext-1.3.4   |   51 KB | : 100% 1.0/1 [00:00<00:00, 16.35it/s]\n",
      "distributed-2.14.0   | 1007 KB | : 100% 1.0/1 [00:00<00:00,  1.66it/s]               \n",
      "pyarrow-0.15.0       |  3.2 MB | : 100% 1.0/1 [00:01<00:00,  1.05s/it]             \n",
      "glog-0.4.0           |  104 KB | : 100% 1.0/1 [00:00<00:00, 15.10it/s]\n",
      "lz4-c-1.8.3          |  187 KB | : 100% 1.0/1 [00:00<00:00, 11.76it/s]\n",
      "urllib3-1.25.9       |   92 KB | : 100% 1.0/1 [00:00<00:00, 13.15it/s]\n",
      "decorator-4.4.2      |   11 KB | : 100% 1.0/1 [00:00<00:00, 23.48it/s]\n",
      "hdf5-1.10.5          |  3.1 MB | : 100% 1.0/1 [00:00<00:00,  1.80it/s]               \n",
      "proj-6.3.0           | 10.3 MB | : 100% 1.0/1 [00:01<00:00,  1.69s/it]               \n",
      "pcre-8.44            |  261 KB | : 100% 1.0/1 [00:00<00:00,  8.70it/s]               \n",
      "dlpack-0.2           |   13 KB | : 100% 1.0/1 [00:00<00:00, 19.36it/s]\n",
      "pillow-7.1.1         |  654 KB | : 100% 1.0/1 [00:00<00:00,  4.51it/s]              \n",
      "expat-2.2.9          |  191 KB | : 100% 1.0/1 [00:00<00:00, 12.19it/s]\n",
      "libxml2-2.9.10       |  1.3 MB | : 100% 1.0/1 [00:00<00:00,  2.26it/s]               \n",
      "cugraph-0.13.0       |  7.2 MB | : 100% 1.0/1 [00:02<00:00,  2.06s/it]               \n",
      "libllvm8-8.0.1       | 23.2 MB | : 100% 1.0/1 [00:04<00:00,  4.03s/it]              \n",
      "gettext-0.19.8.1     |  3.6 MB | : 100% 1.0/1 [00:01<00:00,  1.35s/it]               \n",
      "libcuspatial-0.13.0  |  1.7 MB | : 100% 1.0/1 [00:00<00:00,  1.20it/s]               \n",
      "ucx-py-0.13.0+g9d06c |  287 KB | : 100% 1.0/1 [00:00<00:00,  1.74it/s]                \n",
      "libnetcdf-4.7.3      |  1.3 MB | : 100% 1.0/1 [00:00<00:00,  3.88it/s]               \n",
      "dask-cudf-0.13.0     |   76 KB | : 100% 1.0/1 [00:00<00:00,  1.89it/s]                \n",
      "thrift-cpp-0.12.0    |  2.4 MB | : 100% 1.0/1 [00:00<00:00,  1.78it/s]              \n",
      "snappy-1.1.8         |   39 KB | : 100% 1.0/1 [00:00<00:00, 20.00it/s]\n",
      "ucx-1.7.0+g9d06c3a   |  8.2 MB | : 100% 1.0/1 [00:01<00:00,  1.86s/it]               \n",
      "libcblas-3.8.0       |   10 KB | : 100% 1.0/1 [00:00<00:00, 20.03it/s]\n",
      "nccl-2.5.7.1         | 96.6 MB | : 100% 1.0/1 [00:12<00:00, 12.66s/it]               \n",
      "arrow-cpp-0.15.0     | 18.1 MB | : 100% 1.0/1 [00:03<00:00,  3.29s/it]              \n",
      "zict-2.0.0           |   10 KB | : 100% 1.0/1 [00:00<00:00, 18.59it/s]\n",
      "py-xgboost-1.0.2dev. |  100 KB | : 100% 1.0/1 [00:00<00:00,  2.53s/it]                \n",
      "librmm-0.13.0        |   70 KB | : 100% 1.0/1 [00:00<00:00,  1.77it/s]               \n",
      "brotlipy-0.7.0       |  346 KB | : 100% 1.0/1 [00:00<00:00, 10.88it/s]\n",
      "libpng-1.6.37        |  308 KB | : 100% 1.0/1 [00:00<00:00,  9.72it/s]\n",
      "glib-2.64.2          |  3.4 MB | : 100% 1.0/1 [00:00<00:00,  1.14it/s]               \n",
      "gflags-2.2.2         |  175 KB | : 100% 1.0/1 [00:00<00:00,  9.42it/s]\n",
      "libxcb-1.13          |  396 KB | : 100% 1.0/1 [00:00<00:00,  5.75it/s]               \n",
      "hdf4-4.2.13          |  964 KB | : 100% 1.0/1 [00:00<00:00,  4.00it/s]               \n",
      "pyjwt-1.7.1          |   17 KB | : 100% 1.0/1 [00:00<00:00, 20.74it/s]\n",
      "requests-oauthlib-1. |   19 KB | : 100% 1.0/1 [00:00<00:00, 19.70it/s]\n",
      "cuspatial-0.13.0     |  1.7 MB | : 100% 1.0/1 [00:00<00:00,  1.55it/s]               \n",
      "libcugraph-0.13.0    | 40.0 MB | : 100% 1.0/1 [00:08<00:00,  8.05s/it]               \n",
      "re2-2020.04.01       |  438 KB | : 100% 1.0/1 [00:00<00:00,  6.22it/s]               \n",
      "xorg-renderproto-0.1 |    8 KB | : 100% 1.0/1 [00:00<00:00, 17.70it/s]\n",
      "click-7.1.1          |   64 KB | : 100% 1.0/1 [00:00<00:00, 17.02it/s]\n",
      "libevent-2.1.10      |  1.3 MB | : 100% 1.0/1 [00:00<00:00,  2.06it/s]               \n",
      "sortedcontainers-2.1 |   25 KB | : 100% 1.0/1 [00:00<00:00, 20.65it/s]\n",
      "xgboost-1.0.2dev.rap |   12 KB | : 100% 1.0/1 [00:00<00:00,  2.82it/s] \n",
      "gcsfs-0.6.1          |   19 KB | : 100% 1.0/1 [00:00<00:00, 21.85it/s]\n",
      "heapdict-1.0.1       |    7 KB | : 100% 1.0/1 [00:00<00:00, 24.15it/s]\n",
      "libpq-12.2           |  2.6 MB | : 100% 1.0/1 [00:00<00:00,  1.21it/s]               \n",
      "parquet-cpp-1.5.1    |    3 KB | : 100% 1.0/1 [00:00<00:00, 23.37it/s]\n",
      "libprotobuf-3.8.0    |  4.7 MB | : 100% 1.0/1 [00:01<00:00,  1.04s/it]               \n",
      "psutil-5.7.0         |  324 KB | : 100% 1.0/1 [00:00<00:00,  8.06it/s]               \n",
      "tornado-6.0.4        |  639 KB | : 100% 1.0/1 [00:00<00:00,  4.19it/s]               \n",
      "liblapack-3.8.0      |   10 KB | : 100% 1.0/1 [00:00<00:00, 21.60it/s]\n",
      "fontconfig-2.13.1    |  340 KB | : 100% 1.0/1 [00:00<00:00,  7.28it/s]               \n",
      "locket-0.2.0         |    6 KB | : 100% 1.0/1 [00:00<00:00, 25.85it/s]\n",
      "pyyaml-5.1.2         |  184 KB | : 100% 1.0/1 [00:00<00:00, 11.65it/s]\n",
      "olefile-0.46         |   31 KB | : 100% 1.0/1 [00:00<00:00, 18.78it/s]\n",
      "tzcode-2020a         |  425 KB | : 100% 1.0/1 [00:00<00:00,  2.01it/s]              \n",
      "libiconv-1.15        |  2.0 MB | : 100% 1.0/1 [00:00<00:00,  3.29it/s]              \n",
      "c-ares-1.15.0        |  100 KB | : 100% 1.0/1 [00:00<00:00, 15.77it/s]\n",
      "cudatoolkit-10.0.130 | 380.0 MB | : 100% 1.0/1 [00:54<00:00, 54.06s/it]                \n",
      "xorg-libxdmcp-1.1.3  |   18 KB | : 100% 1.0/1 [00:00<00:00, 17.58it/s]\n",
      "openjpeg-2.3.1       |  475 KB | : 100% 1.0/1 [00:00<00:00,  7.55it/s]               \n",
      "xorg-libxau-1.0.9    |   13 KB | : 100% 1.0/1 [00:00<00:00, 19.84it/s]\n",
      "cryptography-2.8     |  628 KB | : 100% 1.0/1 [00:00<00:00,  3.83it/s]               \n",
      "grpc-cpp-1.23.0      |  4.5 MB | : 100% 1.0/1 [00:01<00:00,  1.13s/it]               \n",
      "xorg-libxrender-0.9. |   31 KB | : 100% 1.0/1 [00:00<00:00, 19.24it/s]\n",
      "libcumlprims-0.13.0  |  3.3 MB | : 100% 1.0/1 [00:01<00:00,  1.56s/it]               \n",
      "xorg-libsm-1.2.3     |   25 KB | : 100% 1.0/1 [00:00<00:00, 17.05it/s]\n",
      "libcudf-0.13.0       | 136.8 MB | : 100% 1.0/1 [00:34<00:00, 34.95s/it]               \n",
      "postgresql-12.2      |  5.0 MB | : 100% 1.0/1 [00:00<00:00,  1.07it/s]               \n",
      "dask-core-2.14.0     |  599 KB | : 100% 1.0/1 [00:00<00:00,  4.35it/s]               \n",
      "pynvml-8.0.4         |   31 KB | : 100% 1.0/1 [00:00<00:00, 18.11it/s]\n",
      "libblas-3.8.0        |   10 KB | : 100% 1.0/1 [00:00<00:00, 21.10it/s]\n",
      "json-c-0.13.1        |   71 KB | : 100% 1.0/1 [00:00<00:00, 14.27it/s]\n",
      "packaging-20.1       |   31 KB | : 100% 1.0/1 [00:00<00:00, 19.84it/s]\n",
      "python-dateutil-2.8. |  220 KB | : 100% 1.0/1 [00:00<00:00, 10.46it/s]\n",
      "cuml-0.13.0          |  9.2 MB | : 100% 1.0/1 [00:02<00:00,  2.62s/it]                \n",
      "boost-cpp-1.70.0     | 21.1 MB | : 100% 1.0/1 [00:10<00:00, 10.54s/it]              \n",
      "cfitsio-3.470        |  1.4 MB | : 100% 1.0/1 [00:00<00:00,  3.23it/s]               \n",
      "geos-3.8.0           |  1.0 MB | : 100% 1.0/1 [00:00<00:00,  2.40it/s]               \n",
      "fastrlock-0.4        |   32 KB | : 100% 1.0/1 [00:00<00:00, 20.56it/s]\n",
      "numpy-1.18.1         |  5.2 MB | : 100% 1.0/1 [00:01<00:00,  1.31s/it]               \n",
      "fastavro-0.23.2      |  415 KB | : 100% 1.0/1 [00:00<00:00,  7.04it/s]              \n",
      "xorg-xproto-7.0.31   |   72 KB | : 100% 1.0/1 [00:00<00:00, 13.64it/s]\n",
      "numba-0.48.0         |  3.4 MB | : 100% 1.0/1 [00:01<00:00,  1.19s/it]              \n",
      "pandas-0.25.3        | 11.4 MB | : 100% 1.0/1 [00:02<00:00,  2.84s/it]               \n",
      "libspatialite-4.3.0a |  3.1 MB | : 100% 1.0/1 [00:00<00:00,  1.69it/s]               \n",
      "toolz-0.10.0         |   46 KB | : 100% 1.0/1 [00:00<00:00, 16.70it/s]\n",
      "jpeg-9c              |  251 KB | : 100% 1.0/1 [00:00<00:00,  9.70it/s]\n",
      "google-auth-1.14.1   |   54 KB | : 100% 1.0/1 [00:00<00:00, 12.36it/s]\n",
      "xorg-libx11-1.6.9    |  918 KB | : 100% 1.0/1 [00:00<00:00,  4.14it/s]               \n",
      "cupy-7.3.0           | 15.2 MB | : 100% 1.0/1 [00:03<00:00,  3.35s/it]               \n",
      "bzip2-1.0.8          |  396 KB | : 100% 1.0/1 [00:00<00:00,  7.81it/s]               \n",
      "markupsafe-1.1.1     |   26 KB | : 100% 1.0/1 [00:00<00:00, 20.49it/s]\n",
      "pyopenssl-19.1.0     |   47 KB | : 100% 1.0/1 [00:00<00:00, 14.96it/s]\n",
      "libxgboost-1.0.2dev. | 21.9 MB | : 100% 1.0/1 [00:05<00:00,  5.87s/it]                \n",
      "msgpack-python-1.0.0 |   91 KB | : 100% 1.0/1 [00:00<00:00, 15.51it/s]\n",
      "cloudpickle-1.3.0    |   24 KB | : 100% 1.0/1 [00:00<00:00, 13.68it/s]\n",
      "libgdal-2.4.4        | 18.7 MB | : 100% 1.0/1 [00:03<00:00,  3.58s/it]               \n",
      "poppler-data-0.4.9   |  3.4 MB | : 100% 1.0/1 [00:00<00:00,  1.54it/s]               \n",
      "double-conversion-3. |   85 KB | : 100% 1.0/1 [00:00<00:00, 16.65it/s]\n",
      "kealib-1.4.13        |  172 KB | : 100% 1.0/1 [00:00<00:00, 12.38it/s]\n",
      "xerces-c-3.2.2       |  1.7 MB | : 100% 1.0/1 [00:00<00:00,  1.70it/s]               \n",
      "libkml-1.3.0         |  643 KB | : 100% 1.0/1 [00:00<00:00,  4.37it/s]               \n",
      "joblib-0.14.1        |  198 KB | : 100% 1.0/1 [00:00<00:00,  7.57it/s]\n",
      "cudnn-7.6.0          | 216.6 MB | : 100% 1.0/1 [00:31<00:00, 31.42s/it]                \n",
      "nvstrings-0.13.0     |  129 KB | : 100% 1.0/1 [00:00<00:00,  5.66s/it]                \n",
      "scikit-learn-0.22.2. |  7.1 MB | : 100% 1.0/1 [00:01<00:00,  1.87s/it]               \n",
      "tblib-1.6.0          |   14 KB | : 100% 1.0/1 [00:00<00:00, 18.73it/s]\n",
      "bokeh-2.0.1          |  6.8 MB | : 100% 1.0/1 [00:02<00:00,  2.12s/it]               \n",
      "gdal-2.4.4           |  1.4 MB | : 100% 1.0/1 [00:00<00:00,  3.07it/s]               \n",
      "dask-2.14.0          |    4 KB | : 100% 1.0/1 [00:00<00:00, 17.31it/s]\n",
      "libcurl-7.69.1       |  573 KB | : 100% 1.0/1 [00:00<00:00,  6.76it/s]               \n",
      "cytoolz-0.10.1       |  431 KB | : 100% 1.0/1 [00:00<00:00,  6.86it/s]               \n",
      "icu-64.2             | 12.6 MB | : 100% 1.0/1 [00:02<00:00,  2.07s/it]               \n",
      "cachetools-3.1.1     |   11 KB | : 100% 1.0/1 [00:00<00:00, 20.00it/s]\n",
      "rmm-0.13.0           |  687 KB | : 100% 1.0/1 [00:00<00:00,  1.49it/s]               \n",
      "curl-7.69.1          |  137 KB | : 100% 1.0/1 [00:00<00:00, 16.30it/s]\n",
      "libhwloc-2.1.0       |  2.7 MB | : 100% 1.0/1 [00:00<00:00,  1.99it/s]               \n",
      "libgfortran-ng-7.3.0 |  1.7 MB | : 100% 1.0/1 [00:00<00:00,  2.91it/s]               \n",
      "pyasn1-0.4.8         |   53 KB | : 100% 1.0/1 [00:00<00:00, 10.32it/s]\n",
      "xorg-xextproto-7.3.0 |   27 KB | : 100% 1.0/1 [00:00<00:00, 16.92it/s]\n",
      "freetype-2.10.1      |  877 KB | : 100% 1.0/1 [00:00<00:00,  4.46it/s]               \n",
      "libcuml-0.13.0       | 51.6 MB | : 100% 1.0/1 [00:11<00:00, 11.72s/it]               \n",
      "krb5-1.17.1          |  1.5 MB | : 100% 1.0/1 [00:00<00:00,  2.95it/s]               \n",
      "rsa-4.0              |   27 KB | : 100% 1.0/1 [00:00<00:00, 19.52it/s]\n",
      "libopenblas-0.3.7    |  7.6 MB | : 100% 1.0/1 [00:01<00:00,  1.46s/it]               \n",
      "fsspec-0.6.3         |   48 KB | : 100% 1.0/1 [00:00<00:00, 14.16it/s]\n",
      "pixman-0.38.0        |  594 KB | : 100% 1.0/1 [00:00<00:00,  7.04it/s]               \n",
      "cudf-0.13.0          | 32.7 MB | : 100% 1.0/1 [00:06<00:00,  6.49s/it]               \n",
      "partd-1.1.0          |   17 KB | : 100% 1.0/1 [00:00<00:00, 20.68it/s]\n",
      "pytz-2019.3          |  237 KB | : 100% 1.0/1 [00:00<00:00,  3.42it/s]               \n",
      "uriparser-0.9.3      |   49 KB | : 100% 1.0/1 [00:00<00:00, 17.76it/s]\n",
      "xorg-libice-1.0.10   |   57 KB | : 100% 1.0/1 [00:00<00:00, 18.41it/s]\n",
      "poppler-0.67.0       |  8.9 MB | : 100% 1.0/1 [00:01<00:00,  1.60s/it]               \n",
      "libtiff-4.1.0        |  595 KB | : 100% 1.0/1 [00:00<00:00,  6.53it/s]               \n",
      "oauthlib-3.0.1       |   82 KB | : 100% 1.0/1 [00:00<00:00, 11.01it/s]\n",
      "brotli-1.0.7         |  1.0 MB | : 100% 1.0/1 [00:00<00:00,  4.99it/s]               \n",
      "giflib-5.1.7         |  455 KB | : 100% 1.0/1 [00:00<00:00,  7.82it/s]               \n",
      "libdap4-3.20.6       | 18.2 MB | : 100% 1.0/1 [00:02<00:00,  2.79s/it]               \n",
      "typing_extensions-3. |   38 KB | : 100% 1.0/1 [00:00<00:00, 18.70it/s]\n",
      "libuuid-2.32.1       |   26 KB | : 100% 1.0/1 [00:00<00:00, 24.67it/s]\n",
      "requests-2.23.0      |   47 KB | : 100% 1.0/1 [00:00<00:00, 16.20it/s]\n",
      "scipy-1.4.1          | 18.9 MB | : 100% 1.0/1 [00:03<00:00,  3.70s/it]               \n",
      "google-auth-oauthlib |   18 KB | : 100% 1.0/1 [00:00<00:00, 15.42it/s]\n",
      "jinja2-2.11.2        |   93 KB | : 100% 1.0/1 [00:00<00:00, 15.01it/s]\n",
      "Preparing transaction: done\n",
      "Verifying transaction: done\n",
      "Executing transaction: done\n",
      "Copying shared object files to /usr/lib\n",
      "Copying RAPIDS compatible xgboost\n",
      "\n",
      "************************************************\n",
      "Your Google Colab instance has RAPIDS installed!\n",
      "************************************************\n",
      "***********************************************************************\n",
      "Let us check on those pyarrow and cffi versions...\n",
      "***********************************************************************\n",
      "\n",
      "unloaded pyarrow 0.14.1\n",
      "unloaded pyarrow 0.14.1\n",
      "unloaded pyarrow 0.14.1\n",
      "unloaded pyarrow 0.14.1\n",
      "unloaded pyarrow 0.14.1\n",
      "unloaded pyarrow 0.14.1\n",
      "unloaded pyarrow 0.14.1\n",
      "unloaded pyarrow 0.14.1\n",
      "unloaded pyarrow 0.14.1\n",
      "unloaded pyarrow 0.14.1\n",
      "unloaded pyarrow 0.14.1\n",
      "unloaded pyarrow 0.14.1\n",
      "loaded pyarrow 0.15.0\n",
      "You're now running pyarrow 0.15.0 and are good to go!\n",
      "unloaded cffi 1.14.0\n",
      "loaded cffi 1.11.5\n"
     ]
    }
   ],
   "source": [
    "try:\n",
    "    import sys,os,subprocess\n",
    "    \n",
    "    upgrade_runtime_ram()\n",
    "    setup_drive()\n",
    "\n",
    "    #Setting up PyPi Packages\n",
    "    !pip install geopandas sparse-dot-topn pdpipe category-encoders\n",
    "    import geopandas as gpd\n",
    "    import sparse_dot_topn.sparse_dot_topn as ct\n",
    "    import pdpipe as pdp\n",
    "    import category_encoders\n",
    "\n",
    "    #Setting up Conda Packages\n",
    "    setup_conda()\n",
    "    \n",
    "    #Initializing NLTK\n",
    "    import nltk\n",
    "    nltk.download('stopwords')\n",
    "    nltk.download('punkt')\n",
    "    \n",
    "    #Setting up RAPIDS AI\n",
    "    import pynvml\n",
    "    setup_rapids()\n",
    "    \n",
    "    from cuml import UMAP\n",
    "    \n",
    "except ModuleNotFoundError as e:\n",
    "    print(e)\n",
    "    print('Not in colab environment, continuing to run locally')\n",
    "    from umap import UMAP"
   ]
  },
  {
   "cell_type": "markdown",
   "metadata": {
    "colab_type": "text",
    "id": "Kvn45BG28aqd"
   },
   "source": [
    "## Imports"
   ]
  },
  {
   "cell_type": "code",
   "execution_count": null,
   "metadata": {
    "colab": {},
    "colab_type": "code",
    "id": "IRijjSry8aqf"
   },
   "outputs": [],
   "source": [
    "%matplotlib inline\n",
    "import pandas as pd\n",
    "import numpy as np\n",
    "from tqdm import tqdm\n",
    "import matplotlib.pyplot as plt\n",
    "from sklearn.linear_model import SGDRegressor\n",
    "from sklearn.preprocessing import StandardScaler\n",
    "from sklearn.model_selection import GridSearchCV, train_test_split,  StratifiedKFold\n",
    "from sklearn.pipeline import Pipeline\n",
    "from sklearn.metrics import mean_absolute_error, mean_squared_error, r2_score\n",
    "tqdm.pandas()"
   ]
  },
  {
   "cell_type": "code",
   "execution_count": null,
   "metadata": {
    "colab": {},
    "colab_type": "code",
    "id": "fEgS7UQD8aqk"
   },
   "outputs": [],
   "source": [
    "from sklearn.model_selection import train_test_split\n",
    "from sklearn.impute import SimpleImputer\n",
    "from sklearn.compose import ColumnTransformer\n",
    "from sklearn.preprocessing import OneHotEncoder, FunctionTransformer"
   ]
  },
  {
   "cell_type": "code",
   "execution_count": null,
   "metadata": {
    "colab": {},
    "colab_type": "code",
    "id": "u5KwAwAe8aqp"
   },
   "outputs": [],
   "source": [
    "from lib.transformers import *\n",
    "from lib.pipelines import *\n",
    "from lib.processing import save_to_pkl, load_from_pkl\n",
    "from data.util.paths import DATA_PATH"
   ]
  },
  {
   "cell_type": "code",
   "execution_count": null,
   "metadata": {
    "colab": {},
    "colab_type": "code",
    "id": "ixGjIOwS8aq1"
   },
   "outputs": [],
   "source": [
    "from category_encoders.leave_one_out import LeaveOneOutEncoder"
   ]
  },
  {
   "cell_type": "markdown",
   "metadata": {
    "colab_type": "text",
    "id": "C6jHrhZT8aq6"
   },
   "source": [
    "## Setting up DataFrame"
   ]
  },
  {
   "cell_type": "code",
   "execution_count": null,
   "metadata": {
    "colab": {},
    "colab_type": "code",
    "id": "xpDf_3kT8aq7"
   },
   "outputs": [],
   "source": [
    "api_df = load_from_pkl('api',DATA_PATH)\n",
    "extracted_df = load_from_pkl('extracted',DATA_PATH)"
   ]
  },
  {
   "cell_type": "code",
   "execution_count": 12,
   "metadata": {
    "colab": {
     "base_uri": "https://localhost:8080/",
     "height": 67,
     "referenced_widgets": [
      "a4ce415af44b462c9570b638670bf3d3",
      "6afc421843164947891eff2520fd33e3",
      "6caebf3031d3421b8638d83f9d6d85e6",
      "12bb3fe26b364530b0484b30aee920c2",
      "25259262c3454b208415b9a7e8eab095",
      "2bc711cdaf0e48308c1c5bf2d4f7fda0",
      "b9c18a6e2eeb43e391b8f4d10861c467",
      "a94590822f5942dfa122eee2c6fbc522"
     ]
    },
    "colab_type": "code",
    "id": "iZP1t_evMdaG",
    "outputId": "02005b97-0804-459f-df8b-e8c861969c77"
   },
   "outputs": [
    {
     "data": {
      "application/vnd.jupyter.widget-view+json": {
       "model_id": "a4ce415af44b462c9570b638670bf3d3",
       "version_major": 2,
       "version_minor": 0
      },
      "text/plain": [
       "HBox(children=(IntProgress(value=1, bar_style='info', max=1), HTML(value='')))"
      ]
     },
     "metadata": {
      "tags": []
     },
     "output_type": "display_data"
    },
    {
     "name": "stdout",
     "output_type": "stream",
     "text": [
      "\n"
     ]
    }
   ],
   "source": [
    "api_df = api_pipe.fit_transform(api_df)\n",
    "extracted_df = extracted_pipe.fit_transform(extracted_df)"
   ]
  },
  {
   "cell_type": "code",
   "execution_count": null,
   "metadata": {
    "colab": {},
    "colab_type": "code",
    "id": "7AdkP_hwPmqQ"
   },
   "outputs": [],
   "source": [
    "#Remove outliers from extracted_df\n",
    "extracted_df = OutlierRemover('market_value').fit_transform(extracted_df)"
   ]
  },
  {
   "cell_type": "markdown",
   "metadata": {
    "colab_type": "text",
    "id": "a6n5farW8arB"
   },
   "source": [
    "## Reducing Dimensionality of Image Embeddings"
   ]
  },
  {
   "cell_type": "code",
   "execution_count": null,
   "metadata": {
    "colab": {},
    "colab_type": "code",
    "id": "hTNDpVXKMdVp"
   },
   "outputs": [],
   "source": [
    "with np.load(os.path.join(DATA_PATH,'high_level_features_labelled.npz')) as data:\n",
    "    image_embedding_df = pd.concat([pd.DataFrame(data[section]) for section in ('release_id','bitmap','features')],axis=1)\n",
    "    image_embedding_df.columns = ['release_id', 'bitmap'] + ['feature_%s' % i for i in range(1,1281)]"
   ]
  },
  {
   "cell_type": "code",
   "execution_count": null,
   "metadata": {
    "colab": {},
    "colab_type": "code",
    "id": "vpYiYhDnmfDT"
   },
   "outputs": [],
   "source": [
    "from cuml import UMAP"
   ]
  },
  {
   "cell_type": "code",
   "execution_count": null,
   "metadata": {
    "colab": {},
    "colab_type": "code",
    "id": "46fQY6W28arC"
   },
   "outputs": [],
   "source": [
    "scaler = StandardScaler()\n",
    "umap = UMAP(n_components=10)\n",
    "image_embeddings_scaled = scaler.fit_transform(image_embedding_df.loc[:,['feature_%s' % i for i in range(1,1281)]])\n"
   ]
  },
  {
   "cell_type": "code",
   "execution_count": 17,
   "metadata": {
    "colab": {
     "base_uri": "https://localhost:8080/",
     "height": 53
    },
    "colab_type": "code",
    "id": "-DiegN158q_u",
    "outputId": "a0807609-fe9e-4b22-9084-d690c5d1aca4"
   },
   "outputs": [
    {
     "name": "stderr",
     "output_type": "stream",
     "text": [
      "/usr/local/lib/python3.6/site-packages/cuml/utils/input_utils.py:188: UserWarning: Expected row ('C') major order, but got the opposite. Converting data, this will result in additional memory utilization.\n",
      "  warnings.warn(\"Expected \" + order_to_str(order) + \" major order, \"\n"
     ]
    }
   ],
   "source": [
    "image_embeddings_reduced = umap.fit_transform(image_embeddings_scaled)"
   ]
  },
  {
   "cell_type": "code",
   "execution_count": null,
   "metadata": {
    "colab": {},
    "colab_type": "code",
    "id": "9O2_hoRwzSio"
   },
   "outputs": [],
   "source": [
    "image_embeddings_reduced = pd.concat([\n",
    "      image_embedding_df.loc[:,'release_id'],\n",
    "      pd.DataFrame(\n",
    "          image_embeddings_reduced,\n",
    "          columns = ['images_umap_%s' % i for i in range(image_embeddings_reduced.shape[1])]\n",
    "      )],\n",
    "      axis=1\n",
    ")\n"
   ]
  },
  {
   "cell_type": "markdown",
   "metadata": {
    "colab_type": "text",
    "id": "DZgR3OYwl_Yy"
   },
   "source": [
    "Combining datasets"
   ]
  },
  {
   "cell_type": "code",
   "execution_count": null,
   "metadata": {
    "colab": {},
    "colab_type": "code",
    "id": "NSZb0b4JT-72"
   },
   "outputs": [],
   "source": [
    "df = api_df.merge(extracted_df,how='inner',on='release_id')\n",
    "df = df.merge(image_embeddings_reduced,how='inner',on='release_id')"
   ]
  },
  {
   "cell_type": "code",
   "execution_count": null,
   "metadata": {
    "colab": {},
    "colab_type": "code",
    "id": "0DBmeMFEUJ0N"
   },
   "outputs": [],
   "source": [
    "del api_df, extracted_df, image_embedding_df, image_embeddings_scaled, image_embeddings_reduced"
   ]
  },
  {
   "cell_type": "code",
   "execution_count": 21,
   "metadata": {
    "colab": {
     "base_uri": "https://localhost:8080/",
     "height": 67,
     "referenced_widgets": [
      "6e854e9e23664fdfaacce8913a67c950",
      "34bcb07281bc4f1fa73cf407af27a3ff",
      "bfaa554a8342446db8b06f3ddb522cac",
      "4286cc868f1b4b9e95918ca812e31a2c",
      "f7a0e38219d1472abb73caa6804b9433",
      "928c9387e8ba42af9ddc38c6ac1af7d1",
      "b57d06a37939401aaf0267da321eea75",
      "6b7f4e16ded4497185489886cff23275"
     ]
    },
    "colab_type": "code",
    "id": "1hbzpOTylHCB",
    "outputId": "0d498083-a171-4485-8858-ad2cfb7756e8"
   },
   "outputs": [
    {
     "data": {
      "application/vnd.jupyter.widget-view+json": {
       "model_id": "6e854e9e23664fdfaacce8913a67c950",
       "version_major": 2,
       "version_minor": 0
      },
      "text/plain": [
       "HBox(children=(IntProgress(value=0, max=8), HTML(value='')))"
      ]
     },
     "metadata": {
      "tags": []
     },
     "output_type": "display_data"
    },
    {
     "name": "stdout",
     "output_type": "stream",
     "text": [
      "\n"
     ]
    }
   ],
   "source": [
    "col_set = {\n",
    "    'format': {\n",
    "        'description': 'format_description_', \n",
    "        'name': 'format_name_', \n",
    "        'text': ('format_text_clean'),\n",
    "        'quantity': ('format_quantity')\n",
    "    },\n",
    "    'geography': {\n",
    "        'superregion': 'superregion_',\n",
    "        'region': 'region_',\n",
    "        'country': 'country_'\n",
    "    },\n",
    "    'timeperiod': {\n",
    "        'period': 'period_',\n",
    "        'era': 'era_'\n",
    "    },\n",
    "    'genre': 'genre_',\n",
    "    'style': 'style_',\n",
    "    'null': None,\n",
    "    'indicator': lambda x: x.max() == 1 and x.min() == 0,\n",
    "    'image_embedding': 'image_umap_'\n",
    "}\n",
    "column_store = ColumnStore()\n",
    "column_store.fit(df,col_set)"
   ]
  },
  {
   "cell_type": "markdown",
   "metadata": {
    "colab_type": "text",
    "id": "Gz00X-1E8arN"
   },
   "source": [
    "## Preparing for Machine Learning"
   ]
  },
  {
   "cell_type": "code",
   "execution_count": null,
   "metadata": {
    "colab": {},
    "colab_type": "code",
    "id": "7hLwsGal8arO"
   },
   "outputs": [],
   "source": [
    "X_tr, X_te, y_tr, y_te = train_test_split(df.drop('market_value',axis=1),df.market_value)"
   ]
  },
  {
   "cell_type": "code",
   "execution_count": null,
   "metadata": {
    "colab": {},
    "colab_type": "code",
    "id": "KHFqqLDIZ8s-"
   },
   "outputs": [],
   "source": [
    "del df"
   ]
  },
  {
   "cell_type": "markdown",
   "metadata": {
    "colab_type": "text",
    "id": "pk_qZ4Lu947Y"
   },
   "source": [
    "## Setting up Dummy Regression for baseline"
   ]
  },
  {
   "cell_type": "code",
   "execution_count": null,
   "metadata": {
    "colab": {},
    "colab_type": "code",
    "id": "LZPTVTuw6ZO-"
   },
   "outputs": [],
   "source": [
    "from sklearn.dummy import DummyRegressor"
   ]
  },
  {
   "cell_type": "code",
   "execution_count": null,
   "metadata": {
    "colab": {},
    "colab_type": "code",
    "id": "tTWU4_un6lR2"
   },
   "outputs": [],
   "source": [
    "dummy_val = GridSearchCV(\n",
    "    DummyRegressor(),\n",
    "    cv=5,\n",
    "    param_grid = {\n",
    "        'strategy': ['mean']\n",
    "    },\n",
    "    scoring='neg_mean_absolute_error',\n",
    "    n_jobs=-1,\n",
    "    verbose=5\n",
    ")"
   ]
  },
  {
   "cell_type": "code",
   "execution_count": 26,
   "metadata": {
    "colab": {
     "base_uri": "https://localhost:8080/",
     "height": 196
    },
    "colab_type": "code",
    "id": "eq6ZiI7y7Rmd",
    "outputId": "f49c60f5-0b40-428d-d1ea-a70bf0947681"
   },
   "outputs": [
    {
     "name": "stdout",
     "output_type": "stream",
     "text": [
      "Fitting 5 folds for each of 1 candidates, totalling 5 fits\n"
     ]
    },
    {
     "name": "stderr",
     "output_type": "stream",
     "text": [
      "[Parallel(n_jobs=-1)]: Using backend LokyBackend with 4 concurrent workers.\n",
      "[Parallel(n_jobs=-1)]: Done   2 out of   5 | elapsed:   16.5s remaining:   24.8s\n",
      "[Parallel(n_jobs=-1)]: Done   5 out of   5 | elapsed:   23.3s finished\n"
     ]
    },
    {
     "data": {
      "text/plain": [
       "GridSearchCV(cv=5, error_score=nan,\n",
       "             estimator=DummyRegressor(constant=None, quantile=None,\n",
       "                                      strategy='mean'),\n",
       "             iid='deprecated', n_jobs=-1, param_grid={'strategy': ['mean']},\n",
       "             pre_dispatch='2*n_jobs', refit=True, return_train_score=False,\n",
       "             scoring='neg_mean_absolute_error', verbose=5)"
      ]
     },
     "execution_count": 26,
     "metadata": {
      "tags": []
     },
     "output_type": "execute_result"
    }
   ],
   "source": [
    "dummy_val.fit(X_tr,np.log(y_tr).values)"
   ]
  },
  {
   "cell_type": "code",
   "execution_count": 27,
   "metadata": {
    "colab": {
     "base_uri": "https://localhost:8080/",
     "height": 35
    },
    "colab_type": "code",
    "id": "gY1jf8Si7eWB",
    "outputId": "41235c69-5fe5-49c1-8af7-967cdde8bed5"
   },
   "outputs": [
    {
     "data": {
      "text/plain": [
       "-0.6974924045404828"
      ]
     },
     "execution_count": 27,
     "metadata": {
      "tags": []
     },
     "output_type": "execute_result"
    }
   ],
   "source": [
    "dummy_val.best_score_"
   ]
  },
  {
   "cell_type": "code",
   "execution_count": null,
   "metadata": {
    "colab": {},
    "colab_type": "code",
    "id": "3ET6x4I-DXWP"
   },
   "outputs": [],
   "source": [
    "y_mean_pred = np.full(shape=y_te.shape,fill_value=np.mean(y_te))"
   ]
  },
  {
   "cell_type": "code",
   "execution_count": 29,
   "metadata": {
    "colab": {
     "base_uri": "https://localhost:8080/",
     "height": 35
    },
    "colab_type": "code",
    "id": "h-oMdqdnDUjz",
    "outputId": "f79de6be-d327-4d38-93cf-4f1163b144aa"
   },
   "outputs": [
    {
     "data": {
      "text/plain": [
       "1.1102230246251565e-16"
      ]
     },
     "execution_count": 29,
     "metadata": {
      "tags": []
     },
     "output_type": "execute_result"
    }
   ],
   "source": [
    "r2_score(y_te,y_mean_pred)"
   ]
  },
  {
   "cell_type": "code",
   "execution_count": 30,
   "metadata": {
    "colab": {
     "base_uri": "https://localhost:8080/",
     "height": 35
    },
    "colab_type": "code",
    "id": "Gw0h8_hCC4x4",
    "outputId": "189b3c28-82be-4562-ab71-525609fe64c9"
   },
   "outputs": [
    {
     "data": {
      "text/plain": [
       "11.95805933297779"
      ]
     },
     "execution_count": 30,
     "metadata": {
      "tags": []
     },
     "output_type": "execute_result"
    }
   ],
   "source": [
    "mean_absolute_error(y_te,y_mean_pred)"
   ]
  },
  {
   "cell_type": "markdown",
   "metadata": {
    "colab_type": "text",
    "id": "DYJYPpPP-AaC"
   },
   "source": [
    "Ridge Regression"
   ]
  },
  {
   "cell_type": "code",
   "execution_count": null,
   "metadata": {
    "colab": {},
    "colab_type": "code",
    "id": "2eULFAcQ8arZ"
   },
   "outputs": [],
   "source": [
    "full_information_transformer = ColumnTransformer(transformers=[\n",
    "    ('units_for_sale_imputer', SimpleImputer(strategy='constant',fill_value=0),['units_for_sale']),\n",
    "    ('average_rating_imputer', SimpleImputer(strategy='mean'),['average_rating']),\n",
    "    ('year_encoder', OneHotEncoder(dtype=np.uint8), ['year'])\n",
    "], remainder='passthrough')"
   ]
  },
  {
   "cell_type": "code",
   "execution_count": null,
   "metadata": {
    "colab": {},
    "colab_type": "code",
    "id": "WCI8WWUu8ard"
   },
   "outputs": [],
   "source": [
    "record_store_lr_transformer = ColumnTransformer(transformers=[\n",
    "    ('year_encoder', OneHotEncoder(dtype=np.uint8,handle_unknown='ignore'), ['year'])\n",
    "], remainder='passthrough')"
   ]
  },
  {
   "cell_type": "code",
   "execution_count": null,
   "metadata": {
    "colab": {},
    "colab_type": "code",
    "id": "AZHfrogk8arh"
   },
   "outputs": [],
   "source": [
    "record_store_lr_removal_columns = [\n",
    "    'market_price','units_for_sale','have','want','average_rating','rating_count','last_sold','lowest','median',\n",
    "    'highest','track_titles','country','genre','style','community_have','community_want','formats','thumb_url',\n",
    "    'release_url','format_description','days_since_last_sale','title',\n",
    "    ]"
   ]
  },
  {
   "cell_type": "code",
   "execution_count": null,
   "metadata": {
    "colab": {},
    "colab_type": "code",
    "id": "nQYFpYd8EfoT"
   },
   "outputs": [],
   "source": [
    "from cuml import LinearRegression\n",
    "from sklearn.model_selection import KFold"
   ]
  },
  {
   "cell_type": "code",
   "execution_count": null,
   "metadata": {
    "colab": {},
    "colab_type": "code",
    "id": "sRH_P30fEM-W"
   },
   "outputs": [],
   "source": [
    "record_store_lr_pipe = Pipeline([\n",
    "    ('running_time_imputer',RunningTimeImputer('running_time','number_of_tracks')),\n",
    "    ('leave_one_out_encoding', LeaveOneOutEncoder(cols=['artist','label','format_text','master_id','format_name'])),\n",
    "    ('record_store_column_remover', ColumnRemover(record_store_lr_removal_columns)),\n",
    "    ('preprocessing',record_store_lr_transformer),\n",
    "    ('scaler', StandardScaler()),\n",
    "    ('lr', GridSearchCV(\n",
    "        LinearRegression(),\n",
    "        param_grid={\n",
    "            'normalize':[False,True]\n",
    "        },\n",
    "        cv=KFold(n_splits=5,shuffle=True),\n",
    "        scoring='neg_mean_absolute_error',\n",
    "        verbose=5,\n",
    "        n_jobs=-1\n",
    "    ))\n",
    "])"
   ]
  },
  {
   "cell_type": "code",
   "execution_count": 36,
   "metadata": {
    "colab": {
     "base_uri": "https://localhost:8080/",
     "height": 483
    },
    "colab_type": "code",
    "id": "s9AtCvkCEM4u",
    "outputId": "1099daca-128b-4509-96d7-2f1ca47ae735"
   },
   "outputs": [
    {
     "name": "stdout",
     "output_type": "stream",
     "text": [
      "Fitting 5 folds for each of 2 candidates, totalling 10 fits\n"
     ]
    },
    {
     "name": "stderr",
     "output_type": "stream",
     "text": [
      "[Parallel(n_jobs=-1)]: Using backend LokyBackend with 4 concurrent workers.\n",
      "/usr/local/lib/python3.6/dist-packages/joblib/externals/loky/process_executor.py:706: UserWarning: A worker stopped while some jobs were given to the executor. This can be caused by a too short worker timeout or by a memory leak.\n",
      "  \"timeout or by a memory leak.\", UserWarning\n",
      "[Parallel(n_jobs=-1)]: Done   6 out of  10 | elapsed:   27.2s remaining:   18.1s\n",
      "[Parallel(n_jobs=-1)]: Done  10 out of  10 | elapsed:   29.3s finished\n",
      "/usr/local/lib/python3.6/site-packages/cuml/utils/input_utils.py:188: UserWarning: Expected column ('F') major order, but got the opposite. Converting data, this will result in additional memory utilization.\n",
      "  warnings.warn(\"Expected \" + order_to_str(order) + \" major order, \"\n"
     ]
    },
    {
     "data": {
      "text/plain": [
       "Pipeline(memory=None,\n",
       "         steps=[('running_time_imputer',\n",
       "                 RunningTimeImputer(number_of_tracks='number_of_tracks',\n",
       "                                    running_time='running_time')),\n",
       "                ('leave_one_out_encoding',\n",
       "                 LeaveOneOutEncoder(cols=['artist', 'label', 'format_text',\n",
       "                                          'master_id', 'format_name'],\n",
       "                                    drop_invariant=False,\n",
       "                                    handle_missing='value',\n",
       "                                    handle_unknown='value', random_state=None,\n",
       "                                    return_df=True, sigm...\n",
       "                              estimator=LinearRegression(algorithm='eig', fit_intercept=True, normalize=False, handle=<cuml.common.handle.Handle object at 0x7f9fbeac6f90>, verbose=False, output_type='input'),\n",
       "                              iid='deprecated', n_jobs=-1,\n",
       "                              param_grid={'normalize': [False, True]},\n",
       "                              pre_dispatch='2*n_jobs', refit=True,\n",
       "                              return_train_score=False,\n",
       "                              scoring='neg_mean_absolute_error', verbose=5))],\n",
       "         verbose=False)"
      ]
     },
     "execution_count": 36,
     "metadata": {
      "tags": []
     },
     "output_type": "execute_result"
    }
   ],
   "source": [
    "record_store_lr_pipe.fit(X_tr,np.log(y_tr).values)"
   ]
  },
  {
   "cell_type": "code",
   "execution_count": 37,
   "metadata": {
    "colab": {
     "base_uri": "https://localhost:8080/",
     "height": 35
    },
    "colab_type": "code",
    "id": "bVqYCgf9EMzZ",
    "outputId": "e2d4612c-2ee0-431b-ca59-8cacf1fc9c9a"
   },
   "outputs": [
    {
     "data": {
      "text/plain": [
       "-0.5663880677265023"
      ]
     },
     "execution_count": 37,
     "metadata": {
      "tags": []
     },
     "output_type": "execute_result"
    }
   ],
   "source": [
    "record_store_lr_pipe['lr'].best_score_"
   ]
  },
  {
   "cell_type": "code",
   "execution_count": 38,
   "metadata": {
    "colab": {
     "base_uri": "https://localhost:8080/",
     "height": 53
    },
    "colab_type": "code",
    "id": "W6IhcYpqEMuK",
    "outputId": "0fd60e8d-2764-4e13-dac3-e0fc72525ac7"
   },
   "outputs": [
    {
     "name": "stderr",
     "output_type": "stream",
     "text": [
      "/usr/local/lib/python3.6/site-packages/cuml/utils/input_utils.py:188: UserWarning: Expected column ('F') major order, but got the opposite. Converting data, this will result in additional memory utilization.\n",
      "  warnings.warn(\"Expected \" + order_to_str(order) + \" major order, \"\n"
     ]
    }
   ],
   "source": [
    "lr_pred = record_store_lr_pipe.predict(X_te)"
   ]
  },
  {
   "cell_type": "code",
   "execution_count": 39,
   "metadata": {
    "colab": {
     "base_uri": "https://localhost:8080/",
     "height": 35
    },
    "colab_type": "code",
    "id": "IVdPIxrzEMoC",
    "outputId": "67931592-ede7-4ae7-c9ae-1094e09c80f9"
   },
   "outputs": [
    {
     "data": {
      "text/plain": [
       "0.16651828811419078"
      ]
     },
     "execution_count": 39,
     "metadata": {
      "tags": []
     },
     "output_type": "execute_result"
    }
   ],
   "source": [
    "r2_score(y_te,np.exp(lr_pred))"
   ]
  },
  {
   "cell_type": "code",
   "execution_count": 40,
   "metadata": {
    "colab": {
     "base_uri": "https://localhost:8080/",
     "height": 35
    },
    "colab_type": "code",
    "id": "opzrKU8LE5DR",
    "outputId": "994dd55b-1d9e-461a-a0a1-98e468a40b2b"
   },
   "outputs": [
    {
     "data": {
      "text/plain": [
       "8.61069074312185"
      ]
     },
     "execution_count": 40,
     "metadata": {
      "tags": []
     },
     "output_type": "execute_result"
    }
   ],
   "source": [
    "mean_absolute_error(y_te,np.exp(lr_pred))"
   ]
  },
  {
   "cell_type": "code",
   "execution_count": null,
   "metadata": {
    "colab": {},
    "colab_type": "code",
    "id": "j_GvTd2E6E4j"
   },
   "outputs": [],
   "source": [
    "from cuml import Ridge"
   ]
  },
  {
   "cell_type": "code",
   "execution_count": null,
   "metadata": {
    "colab": {},
    "colab_type": "code",
    "id": "BP1pxaQ18arp"
   },
   "outputs": [],
   "source": [
    "record_store_ridge_pipe = Pipeline([\n",
    "    ('running_time_imputer',RunningTimeImputer('running_time','number_of_tracks')),\n",
    "    ('leave_one_out_encoding', LeaveOneOutEncoder(cols=['artist','label','format_text','format_name','master_id'])),\n",
    "    ('record_store_column_remover', ColumnRemover(record_store_lr_removal_columns)),\n",
    "    ('preprocessing',record_store_lr_transformer),\n",
    "    ('scaler', StandardScaler()),\n",
    "    ('ridge', GridSearchCV(\n",
    "        Ridge(normalize=False,solver='eig'),\n",
    "        param_grid={\n",
    "            'alpha': np.linspace(200,300,10),\n",
    "        },\n",
    "        cv=KFold(n_splits=5,shuffle=True),\n",
    "        scoring='neg_mean_absolute_error',\n",
    "        verbose=5,\n",
    "        n_jobs=-1\n",
    "    ))\n",
    "])"
   ]
  },
  {
   "cell_type": "code",
   "execution_count": 43,
   "metadata": {
    "colab": {
     "base_uri": "https://localhost:8080/",
     "height": 519
    },
    "colab_type": "code",
    "id": "edNLg2KryH4q",
    "outputId": "48bae61d-0ce3-4e19-b54c-16a6eae6ecc8"
   },
   "outputs": [
    {
     "name": "stdout",
     "output_type": "stream",
     "text": [
      "Fitting 5 folds for each of 10 candidates, totalling 50 fits\n"
     ]
    },
    {
     "name": "stderr",
     "output_type": "stream",
     "text": [
      "[Parallel(n_jobs=-1)]: Using backend LokyBackend with 4 concurrent workers.\n",
      "[Parallel(n_jobs=-1)]: Done  10 tasks      | elapsed:    8.4s\n",
      "/usr/local/lib/python3.6/dist-packages/joblib/externals/loky/process_executor.py:706: UserWarning: A worker stopped while some jobs were given to the executor. This can be caused by a too short worker timeout or by a memory leak.\n",
      "  \"timeout or by a memory leak.\", UserWarning\n",
      "[Parallel(n_jobs=-1)]: Done  50 out of  50 | elapsed:   32.6s finished\n",
      "/usr/local/lib/python3.6/site-packages/cuml/utils/input_utils.py:188: UserWarning: Expected column ('F') major order, but got the opposite. Converting data, this will result in additional memory utilization.\n",
      "  warnings.warn(\"Expected \" + order_to_str(order) + \" major order, \"\n"
     ]
    },
    {
     "data": {
      "text/plain": [
       "Pipeline(memory=None,\n",
       "         steps=[('running_time_imputer',\n",
       "                 RunningTimeImputer(number_of_tracks='number_of_tracks',\n",
       "                                    running_time='running_time')),\n",
       "                ('leave_one_out_encoding',\n",
       "                 LeaveOneOutEncoder(cols=['artist', 'label', 'format_text',\n",
       "                                          'format_name', 'master_id'],\n",
       "                                    drop_invariant=False,\n",
       "                                    handle_missing='value',\n",
       "                                    handle_unknown='value', random_state=None,\n",
       "                                    return_df=True, sigm...\n",
       "                              estimator=Ridge(alpha=1.0, solver='eig', fit_intercept=True, normalize=False, handle=<cuml.common.handle.Handle object at 0x7f9fc1ca3710>, output_type='input'),\n",
       "                              iid='deprecated', n_jobs=-1,\n",
       "                              param_grid={'alpha': array([200.        , 211.11111111, 222.22222222, 233.33333333,\n",
       "       244.44444444, 255.55555556, 266.66666667, 277.77777778,\n",
       "       288.88888889, 300.        ])},\n",
       "                              pre_dispatch='2*n_jobs', refit=True,\n",
       "                              return_train_score=False,\n",
       "                              scoring='neg_mean_absolute_error', verbose=5))],\n",
       "         verbose=False)"
      ]
     },
     "execution_count": 43,
     "metadata": {
      "tags": []
     },
     "output_type": "execute_result"
    }
   ],
   "source": [
    "record_store_ridge_pipe.fit(X_tr,np.log(y_tr).values)"
   ]
  },
  {
   "cell_type": "code",
   "execution_count": 44,
   "metadata": {
    "colab": {
     "base_uri": "https://localhost:8080/",
     "height": 35
    },
    "colab_type": "code",
    "id": "cbV-3Q9A0-hi",
    "outputId": "83fa3512-ef3a-44e4-fa01-50a477373493"
   },
   "outputs": [
    {
     "data": {
      "text/plain": [
       "{'alpha': 200.0}"
      ]
     },
     "execution_count": 44,
     "metadata": {
      "tags": []
     },
     "output_type": "execute_result"
    }
   ],
   "source": [
    "record_store_ridge_pipe['ridge'].best_params_"
   ]
  },
  {
   "cell_type": "code",
   "execution_count": 45,
   "metadata": {
    "colab": {
     "base_uri": "https://localhost:8080/",
     "height": 53
    },
    "colab_type": "code",
    "id": "db1qMG0e8ar7",
    "outputId": "3cd9f408-0d89-4b0a-ad0d-a66dfbafafd2"
   },
   "outputs": [
    {
     "name": "stderr",
     "output_type": "stream",
     "text": [
      "/usr/local/lib/python3.6/site-packages/cuml/utils/input_utils.py:188: UserWarning: Expected column ('F') major order, but got the opposite. Converting data, this will result in additional memory utilization.\n",
      "  warnings.warn(\"Expected \" + order_to_str(order) + \" major order, \"\n"
     ]
    }
   ],
   "source": [
    "ridge_pred = record_store_ridge_pipe.predict(X_te)"
   ]
  },
  {
   "cell_type": "code",
   "execution_count": 46,
   "metadata": {
    "colab": {
     "base_uri": "https://localhost:8080/",
     "height": 35
    },
    "colab_type": "code",
    "id": "GsQHxrUE8ar-",
    "outputId": "5d022f62-a439-4e26-a79c-f5808c3445d3"
   },
   "outputs": [
    {
     "data": {
      "text/plain": [
       "0.1668520763835617"
      ]
     },
     "execution_count": 46,
     "metadata": {
      "tags": []
     },
     "output_type": "execute_result"
    }
   ],
   "source": [
    "r2_score(y_te,np.exp(ridge_pred))"
   ]
  },
  {
   "cell_type": "code",
   "execution_count": 47,
   "metadata": {
    "colab": {
     "base_uri": "https://localhost:8080/",
     "height": 35
    },
    "colab_type": "code",
    "id": "9oKBWYEo8asD",
    "outputId": "ecd11501-903f-47a3-8f83-e5dc887ff01b"
   },
   "outputs": [
    {
     "data": {
      "text/plain": [
       "8.609243004184272"
      ]
     },
     "execution_count": 47,
     "metadata": {
      "tags": []
     },
     "output_type": "execute_result"
    }
   ],
   "source": [
    "mean_absolute_error(y_te,np.exp(ridge_pred))"
   ]
  },
  {
   "cell_type": "markdown",
   "metadata": {
    "colab_type": "text",
    "id": "fbreYK1X8asG"
   },
   "source": [
    "## Random Forest"
   ]
  },
  {
   "cell_type": "code",
   "execution_count": null,
   "metadata": {
    "colab": {},
    "colab_type": "code",
    "id": "LhB3GBom8asH"
   },
   "outputs": [],
   "source": [
    "from sklearn.ensemble import RandomForestRegressor"
   ]
  },
  {
   "cell_type": "code",
   "execution_count": null,
   "metadata": {
    "colab": {},
    "colab_type": "code",
    "id": "9dVL-1Mj8asL"
   },
   "outputs": [],
   "source": [
    "random_forest_param_grid = {\n",
    "    'n_trees': np.linspace(50,350,50),\n",
    "    'max_depth': np.linspace(10,30,5)\n",
    "}"
   ]
  },
  {
   "cell_type": "code",
   "execution_count": null,
   "metadata": {
    "colab": {},
    "colab_type": "code",
    "id": "McTksN6VGPnv"
   },
   "outputs": [],
   "source": [
    "record_store_random_forest_removal_columns = [\n",
    "    'market_price','units_for_sale','have','want','average_rating','rating_count','last_sold','lowest','median',\n",
    "    'highest','track_titles','country','genre','style','community_have','community_want','formats','thumb_url',\n",
    "    'release_url','format_description','days_since_last_sale','title'\n",
    "    ]\n",
    "record_store_random_forest_removal_columns.extend(\n",
    "    column_store._indicator\n",
    ")"
   ]
  },
  {
   "cell_type": "code",
   "execution_count": null,
   "metadata": {
    "colab": {},
    "colab_type": "code",
    "id": "VQpYcJqauUxO"
   },
   "outputs": [],
   "source": [
    "full_information_transformer = ColumnTransformer(transformers=[\n",
    "    ('units_for_sale_imputer', SimpleImputer(strategy='constant',fill_value=0),['units_for_sale']),\n",
    "    ('average_rating_imputer', SimpleImputer(strategy='mean'),['average_rating']),\n",
    "    ('year_encoder', OneHotEncoder(dtype=np.uint8), ['year'])\n",
    "], remainder='passthrough')"
   ]
  },
  {
   "cell_type": "code",
   "execution_count": null,
   "metadata": {
    "colab": {},
    "colab_type": "code",
    "id": "CKQYmIkqAWk9"
   },
   "outputs": [],
   "source": [
    "class IndicatorReducer(BaseEstimator,TransformerMixin):\n",
    "    def __init__(self, indicators, algorithm,components,reduced_column_prefix= 'indicator_reduced'):\n",
    "        self.indicators = indicators\n",
    "        self.algorithm = algorithm\n",
    "        self.components = components\n",
    "        self.reduced_column_prefix = reduced_column_prefix\n",
    "  \n",
    "    def fit(self,X,y=None):\n",
    "        return self\n",
    "\n",
    "    def transform(self,X,y=None):\n",
    "        X = X.copy()\n",
    "\n",
    "        algorithm = self.algorithm(n_components=self.components)\n",
    "\n",
    "        reduced_indicators = pd.DataFrame(\n",
    "            algorithm.fit_transform(X.loc[:,self.indicators].values),\n",
    "            index=X.index,\n",
    "            columns=['_'.join([self.reduced_column_prefix,str(i)]) for i in range(self.components)]\n",
    "            )\n",
    "\n",
    "        return pd.concat([X, reduced_indicators],axis=1)"
   ]
  },
  {
   "cell_type": "code",
   "execution_count": null,
   "metadata": {
    "colab": {},
    "colab_type": "code",
    "id": "ZPepolAxMUxj"
   },
   "outputs": [],
   "source": [
    "from cuml import RandomForestRegressor"
   ]
  },
  {
   "cell_type": "code",
   "execution_count": 65,
   "metadata": {
    "colab": {
     "base_uri": "https://localhost:8080/",
     "height": 53
    },
    "colab_type": "code",
    "id": "BPf-IJfD8asO",
    "outputId": "8398a193-debb-4a1d-ba8e-f94b1b99dfd9"
   },
   "outputs": [
    {
     "name": "stderr",
     "output_type": "stream",
     "text": [
      "/usr/local/lib/python3.6/dist-packages/ipykernel_launcher.py:8: UserWarning: Setting the random seed does not fully guarantee the exact same results at this time.\n",
      "  \n"
     ]
    }
   ],
   "source": [
    "random_forest_pipe = Pipeline([\n",
    "    ('running_time_imputer',RunningTimeImputer('running_time','number_of_tracks')),\n",
    "    ('leave_one_out_encoding', LeaveOneOutEncoder(cols=['artist','label','format_text','format_name','master_id'])),\n",
    "    ('reduce_indicators', IndicatorReducer(indicators=column_store._indicator,algorithm=UMAP,components=40)),\n",
    "    ('record_store_column_remover', ColumnRemover(record_store_random_forest_removal_columns)),\n",
    "    ('cast_to_32', FunctionTransformer(func=lambda x: x.values.astype(np.float32))),\n",
    "    ('random_forest', GridSearchCV(\n",
    "        RandomForestRegressor(seed=0,accuracy_metric='mean_ae',n_bins=20,split_criterion=3,max_depth=12,n_estimators=100),\n",
    "        cv=KFold(n_splits=5,shuffle=True),\n",
    "        param_grid={\n",
    "            'n_bins': np.linspace(75,100,5).astype(int),\n",
    "        },\n",
    "        verbose=50,\n",
    "        scoring='neg_mean_absolute_error',\n",
    "        n_jobs=-1,\n",
    "    ))\n",
    "])"
   ]
  },
  {
   "cell_type": "code",
   "execution_count": null,
   "metadata": {
    "colab": {},
    "colab_type": "code",
    "id": "1ySQKtOpw1yY"
   },
   "outputs": [],
   "source": [
    "df_sample = pd.concat([X_tr,y_tr],axis=1).sample(frac=0.1)\n",
    "X_tr_sample = df_sample.drop('market_value',axis=1)\n",
    "y_tr_sample = df_sample['market_value']"
   ]
  },
  {
   "cell_type": "code",
   "execution_count": 67,
   "metadata": {
    "colab": {
     "base_uri": "https://localhost:8080/",
     "height": 1000
    },
    "colab_type": "code",
    "id": "l97EbEPB8asR",
    "outputId": "fe8421cb-b1a1-455b-9a32-6ca0f326c7d7"
   },
   "outputs": [
    {
     "name": "stderr",
     "output_type": "stream",
     "text": [
      "/usr/local/lib/python3.6/site-packages/cuml/utils/input_utils.py:188: UserWarning: Expected row ('C') major order, but got the opposite. Converting data, this will result in additional memory utilization.\n",
      "  warnings.warn(\"Expected \" + order_to_str(order) + \" major order, \"\n"
     ]
    },
    {
     "name": "stdout",
     "output_type": "stream",
     "text": [
      "Fitting 5 folds for each of 25 candidates, totalling 125 fits\n",
      "[Parallel(n_jobs=-1)]: Using backend LokyBackend with 4 concurrent workers.\n",
      "[Parallel(n_jobs=-1)]: Done   1 tasks      | elapsed:  1.7min\n",
      "[Parallel(n_jobs=-1)]: Done   2 tasks      | elapsed:  1.7min\n",
      "[Parallel(n_jobs=-1)]: Done   3 tasks      | elapsed:  1.7min\n",
      "[Parallel(n_jobs=-1)]: Done   4 tasks      | elapsed:  1.7min\n",
      "[Parallel(n_jobs=-1)]: Done   5 tasks      | elapsed:  3.3min\n",
      "[Parallel(n_jobs=-1)]: Done   6 tasks      | elapsed:  3.5min\n",
      "[Parallel(n_jobs=-1)]: Done   7 tasks      | elapsed:  3.5min\n",
      "[Parallel(n_jobs=-1)]: Done   8 tasks      | elapsed:  3.5min\n",
      "[Parallel(n_jobs=-1)]: Done   9 tasks      | elapsed:  5.1min\n",
      "[Parallel(n_jobs=-1)]: Done  10 tasks      | elapsed:  5.2min\n",
      "[Parallel(n_jobs=-1)]: Done  11 tasks      | elapsed:  5.3min\n",
      "[Parallel(n_jobs=-1)]: Done  12 tasks      | elapsed:  5.3min\n",
      "[Parallel(n_jobs=-1)]: Done  13 tasks      | elapsed:  7.0min\n",
      "[Parallel(n_jobs=-1)]: Done  14 tasks      | elapsed:  7.1min\n",
      "[Parallel(n_jobs=-1)]: Done  15 tasks      | elapsed:  7.2min\n",
      "[Parallel(n_jobs=-1)]: Done  16 tasks      | elapsed:  7.3min\n",
      "[Parallel(n_jobs=-1)]: Done  17 tasks      | elapsed:  9.0min\n",
      "[Parallel(n_jobs=-1)]: Done  18 tasks      | elapsed:  9.1min\n",
      "[Parallel(n_jobs=-1)]: Done  19 tasks      | elapsed:  9.2min\n",
      "[Parallel(n_jobs=-1)]: Done  20 tasks      | elapsed:  9.4min\n",
      "[Parallel(n_jobs=-1)]: Done  21 tasks      | elapsed: 11.1min\n",
      "[Parallel(n_jobs=-1)]: Done  22 tasks      | elapsed: 11.2min\n",
      "[Parallel(n_jobs=-1)]: Done  23 tasks      | elapsed: 11.3min\n",
      "[Parallel(n_jobs=-1)]: Done  24 tasks      | elapsed: 11.4min\n",
      "[Parallel(n_jobs=-1)]: Done  25 tasks      | elapsed: 13.1min\n",
      "[Parallel(n_jobs=-1)]: Done  26 tasks      | elapsed: 13.1min\n",
      "[Parallel(n_jobs=-1)]: Done  27 tasks      | elapsed: 13.2min\n",
      "[Parallel(n_jobs=-1)]: Done  28 tasks      | elapsed: 13.4min\n",
      "[Parallel(n_jobs=-1)]: Done  29 tasks      | elapsed: 15.0min\n",
      "[Parallel(n_jobs=-1)]: Done  30 tasks      | elapsed: 15.0min\n",
      "[Parallel(n_jobs=-1)]: Done  31 tasks      | elapsed: 15.3min\n",
      "[Parallel(n_jobs=-1)]: Done  32 tasks      | elapsed: 15.4min\n",
      "[Parallel(n_jobs=-1)]: Done  33 tasks      | elapsed: 17.1min\n",
      "[Parallel(n_jobs=-1)]: Done  34 tasks      | elapsed: 17.1min\n",
      "[Parallel(n_jobs=-1)]: Done  35 tasks      | elapsed: 17.3min\n",
      "[Parallel(n_jobs=-1)]: Done  36 tasks      | elapsed: 17.6min\n",
      "[Parallel(n_jobs=-1)]: Done  37 tasks      | elapsed: 19.2min\n",
      "[Parallel(n_jobs=-1)]: Done  38 tasks      | elapsed: 19.3min\n",
      "[Parallel(n_jobs=-1)]: Done  39 tasks      | elapsed: 19.6min\n",
      "[Parallel(n_jobs=-1)]: Done  40 tasks      | elapsed: 19.8min\n",
      "[Parallel(n_jobs=-1)]: Done  41 tasks      | elapsed: 21.6min\n",
      "[Parallel(n_jobs=-1)]: Done  42 tasks      | elapsed: 21.6min\n",
      "[Parallel(n_jobs=-1)]: Done  43 tasks      | elapsed: 21.9min\n",
      "[Parallel(n_jobs=-1)]: Done  44 tasks      | elapsed: 22.1min\n",
      "[Parallel(n_jobs=-1)]: Done  45 tasks      | elapsed: 24.0min\n",
      "[Parallel(n_jobs=-1)]: Done  46 tasks      | elapsed: 24.1min\n",
      "[Parallel(n_jobs=-1)]: Done  47 tasks      | elapsed: 24.3min\n",
      "[Parallel(n_jobs=-1)]: Done  48 tasks      | elapsed: 24.6min\n",
      "[Parallel(n_jobs=-1)]: Done  49 tasks      | elapsed: 26.4min\n",
      "[Parallel(n_jobs=-1)]: Done  50 tasks      | elapsed: 26.5min\n",
      "[Parallel(n_jobs=-1)]: Done  51 tasks      | elapsed: 26.9min\n",
      "[Parallel(n_jobs=-1)]: Done  52 tasks      | elapsed: 27.2min\n",
      "[Parallel(n_jobs=-1)]: Done  53 tasks      | elapsed: 28.8min\n",
      "[Parallel(n_jobs=-1)]: Done  54 tasks      | elapsed: 29.0min\n",
      "[Parallel(n_jobs=-1)]: Done  55 tasks      | elapsed: 29.4min\n",
      "[Parallel(n_jobs=-1)]: Done  56 tasks      | elapsed: 29.8min\n",
      "[Parallel(n_jobs=-1)]: Done  57 tasks      | elapsed: 31.5min\n",
      "[Parallel(n_jobs=-1)]: Done  58 tasks      | elapsed: 31.7min\n",
      "[Parallel(n_jobs=-1)]: Done  59 tasks      | elapsed: 32.1min\n",
      "[Parallel(n_jobs=-1)]: Done  60 tasks      | elapsed: 32.5min\n",
      "[Parallel(n_jobs=-1)]: Done  61 tasks      | elapsed: 34.4min\n",
      "[Parallel(n_jobs=-1)]: Done  62 tasks      | elapsed: 34.6min\n",
      "[Parallel(n_jobs=-1)]: Done  63 tasks      | elapsed: 35.0min\n",
      "[Parallel(n_jobs=-1)]: Done  64 tasks      | elapsed: 35.4min\n",
      "[Parallel(n_jobs=-1)]: Done  65 tasks      | elapsed: 37.3min\n",
      "[Parallel(n_jobs=-1)]: Done  66 tasks      | elapsed: 37.6min\n",
      "[Parallel(n_jobs=-1)]: Done  67 tasks      | elapsed: 38.1min\n",
      "[Parallel(n_jobs=-1)]: Done  68 tasks      | elapsed: 38.5min\n",
      "[Parallel(n_jobs=-1)]: Done  69 tasks      | elapsed: 40.4min\n",
      "[Parallel(n_jobs=-1)]: Done  70 tasks      | elapsed: 40.8min\n",
      "[Parallel(n_jobs=-1)]: Done  71 tasks      | elapsed: 41.4min\n",
      "[Parallel(n_jobs=-1)]: Done  72 tasks      | elapsed: 41.8min\n",
      "[Parallel(n_jobs=-1)]: Done  73 tasks      | elapsed: 43.7min\n",
      "[Parallel(n_jobs=-1)]: Done  74 tasks      | elapsed: 44.1min\n",
      "[Parallel(n_jobs=-1)]: Done  75 tasks      | elapsed: 44.7min\n",
      "[Parallel(n_jobs=-1)]: Done  76 tasks      | elapsed: 44.9min\n"
     ]
    },
    {
     "name": "stderr",
     "output_type": "stream",
     "text": [
      "/usr/local/lib/python3.6/dist-packages/joblib/externals/loky/process_executor.py:706: UserWarning: A worker stopped while some jobs were given to the executor. This can be caused by a too short worker timeout or by a memory leak.\n",
      "  \"timeout or by a memory leak.\", UserWarning\n"
     ]
    },
    {
     "name": "stdout",
     "output_type": "stream",
     "text": [
      "[Parallel(n_jobs=-1)]: Done  77 tasks      | elapsed: 46.7min\n",
      "[Parallel(n_jobs=-1)]: Done  78 tasks      | elapsed: 47.0min\n",
      "[Parallel(n_jobs=-1)]: Done  79 tasks      | elapsed: 47.6min\n",
      "[Parallel(n_jobs=-1)]: Done  80 tasks      | elapsed: 48.0min\n",
      "[Parallel(n_jobs=-1)]: Done  81 tasks      | elapsed: 50.0min\n",
      "[Parallel(n_jobs=-1)]: Done  82 tasks      | elapsed: 50.4min\n",
      "[Parallel(n_jobs=-1)]: Done  83 tasks      | elapsed: 51.0min\n",
      "[Parallel(n_jobs=-1)]: Done  84 tasks      | elapsed: 51.3min\n",
      "[Parallel(n_jobs=-1)]: Done  85 tasks      | elapsed: 53.4min\n",
      "[Parallel(n_jobs=-1)]: Done  86 tasks      | elapsed: 53.9min\n",
      "[Parallel(n_jobs=-1)]: Done  87 tasks      | elapsed: 54.6min\n",
      "[Parallel(n_jobs=-1)]: Done  88 tasks      | elapsed: 54.9min\n",
      "[Parallel(n_jobs=-1)]: Done  89 tasks      | elapsed: 57.0min\n",
      "[Parallel(n_jobs=-1)]: Done  90 tasks      | elapsed: 57.5min\n",
      "[Parallel(n_jobs=-1)]: Done  91 tasks      | elapsed: 58.4min\n",
      "[Parallel(n_jobs=-1)]: Done  92 tasks      | elapsed: 58.7min\n",
      "[Parallel(n_jobs=-1)]: Done  93 tasks      | elapsed: 60.8min\n",
      "[Parallel(n_jobs=-1)]: Done  94 tasks      | elapsed: 61.4min\n",
      "[Parallel(n_jobs=-1)]: Done  95 tasks      | elapsed: 62.3min\n",
      "[Parallel(n_jobs=-1)]: Done  96 tasks      | elapsed: 62.8min\n",
      "[Parallel(n_jobs=-1)]: Done  97 tasks      | elapsed: 64.9min\n",
      "[Parallel(n_jobs=-1)]: Done  98 tasks      | elapsed: 65.5min\n",
      "[Parallel(n_jobs=-1)]: Done  99 tasks      | elapsed: 66.4min\n",
      "[Parallel(n_jobs=-1)]: Done 100 tasks      | elapsed: 66.9min\n",
      "[Parallel(n_jobs=-1)]: Done 101 tasks      | elapsed: 66.9min\n",
      "[Parallel(n_jobs=-1)]: Done 102 tasks      | elapsed: 66.9min\n",
      "[Parallel(n_jobs=-1)]: Done 103 tasks      | elapsed: 66.9min\n",
      "[Parallel(n_jobs=-1)]: Done 104 tasks      | elapsed: 66.9min\n",
      "[Parallel(n_jobs=-1)]: Done 105 tasks      | elapsed: 66.9min\n",
      "[Parallel(n_jobs=-1)]: Done 106 tasks      | elapsed: 66.9min\n",
      "[Parallel(n_jobs=-1)]: Done 107 tasks      | elapsed: 66.9min\n",
      "[Parallel(n_jobs=-1)]: Done 108 tasks      | elapsed: 66.9min\n",
      "[Parallel(n_jobs=-1)]: Done 109 tasks      | elapsed: 66.9min\n",
      "[Parallel(n_jobs=-1)]: Done 110 tasks      | elapsed: 66.9min\n",
      "[Parallel(n_jobs=-1)]: Done 111 tasks      | elapsed: 66.9min\n",
      "[Parallel(n_jobs=-1)]: Done 112 tasks      | elapsed: 66.9min\n",
      "[Parallel(n_jobs=-1)]: Done 113 tasks      | elapsed: 66.9min\n",
      "[Parallel(n_jobs=-1)]: Done 114 tasks      | elapsed: 66.9min\n",
      "[Parallel(n_jobs=-1)]: Done 115 tasks      | elapsed: 66.9min\n",
      "[Parallel(n_jobs=-1)]: Done 116 tasks      | elapsed: 66.9min\n",
      "[Parallel(n_jobs=-1)]: Done 117 tasks      | elapsed: 66.9min\n",
      "[Parallel(n_jobs=-1)]: Done 118 tasks      | elapsed: 67.1min\n",
      "[Parallel(n_jobs=-1)]: Done 121 out of 125 | elapsed: 67.1min remaining:  2.2min\n",
      "[Parallel(n_jobs=-1)]: Done 125 out of 125 | elapsed: 69.6min finished\n"
     ]
    },
    {
     "name": "stderr",
     "output_type": "stream",
     "text": [
      "/usr/local/lib/python3.6/site-packages/cuml/utils/input_utils.py:188: UserWarning: Expected column ('F') major order, but got the opposite. Converting data, this will result in additional memory utilization.\n",
      "  warnings.warn(\"Expected \" + order_to_str(order) + \" major order, \"\n"
     ]
    },
    {
     "data": {
      "text/plain": [
       "Pipeline(memory=None,\n",
       "         steps=[('running_time_imputer',\n",
       "                 RunningTimeImputer(number_of_tracks='number_of_tracks',\n",
       "                                    running_time='running_time')),\n",
       "                ('leave_one_out_encoding',\n",
       "                 LeaveOneOutEncoder(cols=['artist', 'label', 'format_text',\n",
       "                                          'format_name', 'master_id'],\n",
       "                                    drop_invariant=False,\n",
       "                                    handle_missing='value',\n",
       "                                    handle_unknown='value', random_state=None,\n",
       "                                    return_df=True, sigm...\n",
       "                              estimator=RandomForestRegressor(n_estimators=100, max_depth=15, handle=<cuml.common.handle.Handle object at 0x7f9fbf89c1f0>, max_features='auto', n_bins=20, n_streams=8, split_algo=1, split_criterion=3, bootstrap=True, bootstrap_features=False, verbose=False, min_rows_per_node=2, rows_sample=1.0, max_leaves=-1, accuracy_metric='mean_ae', output_type='input', min_impurity_decrease=0.0, quantile_per_tree=False, seed=0),\n",
       "                              iid='deprecated', n_jobs=-1,\n",
       "                              param_grid={'max_depth': array([ 5,  7, 10, 12, 15]),\n",
       "                                          'n_bins': array([ 75,  81,  87,  93, 100])},\n",
       "                              pre_dispatch='2*n_jobs', refit=True,\n",
       "                              return_train_score=False,\n",
       "                              scoring='neg_mean_absolute_error', verbose=50))],\n",
       "         verbose=False)"
      ]
     },
     "execution_count": 67,
     "metadata": {
      "tags": []
     },
     "output_type": "execute_result"
    }
   ],
   "source": [
    "random_forest_pipe.fit(X_tr_sample,np.log(y_tr_sample).values.astype(np.float32))"
   ]
  },
  {
   "cell_type": "code",
   "execution_count": 68,
   "metadata": {
    "colab": {
     "base_uri": "https://localhost:8080/",
     "height": 35
    },
    "colab_type": "code",
    "id": "kIzLmO8Bzkdr",
    "outputId": "1176cde9-706f-4ed0-e76e-68e5f586c6a0"
   },
   "outputs": [
    {
     "data": {
      "text/plain": [
       "-0.027724644914269448"
      ]
     },
     "execution_count": 68,
     "metadata": {
      "tags": []
     },
     "output_type": "execute_result"
    }
   ],
   "source": [
    "random_forest_pipe['random_forest'].best_score_"
   ]
  },
  {
   "cell_type": "code",
   "execution_count": 69,
   "metadata": {
    "colab": {
     "base_uri": "https://localhost:8080/",
     "height": 35
    },
    "colab_type": "code",
    "id": "1Jh6GfwRzk2n",
    "outputId": "a6b62d81-7f4b-482f-a678-2fb9318febdd"
   },
   "outputs": [
    {
     "data": {
      "text/plain": [
       "{'max_depth': 12, 'n_bins': 100}"
      ]
     },
     "execution_count": 69,
     "metadata": {
      "tags": []
     },
     "output_type": "execute_result"
    }
   ],
   "source": [
    "random_forest_pipe['random_forest'].best_params_"
   ]
  },
  {
   "cell_type": "code",
   "execution_count": 70,
   "metadata": {
    "colab": {
     "base_uri": "https://localhost:8080/",
     "height": 53
    },
    "colab_type": "code",
    "id": "EOGSmGS_zk6t",
    "outputId": "ffaa3719-98de-4363-e5ad-7ab4fa939ea4"
   },
   "outputs": [
    {
     "name": "stderr",
     "output_type": "stream",
     "text": [
      "/usr/local/lib/python3.6/site-packages/cuml/utils/input_utils.py:188: UserWarning: Expected row ('C') major order, but got the opposite. Converting data, this will result in additional memory utilization.\n",
      "  warnings.warn(\"Expected \" + order_to_str(order) + \" major order, \"\n"
     ]
    }
   ],
   "source": [
    "random_forest_pred = random_forest_pipe.predict(X_te)"
   ]
  },
  {
   "cell_type": "code",
   "execution_count": 71,
   "metadata": {
    "colab": {
     "base_uri": "https://localhost:8080/",
     "height": 35
    },
    "colab_type": "code",
    "id": "wup9qjI4zk-d",
    "outputId": "c984bdb0-d55f-4dd0-c26f-ca66c63cd8fc"
   },
   "outputs": [
    {
     "data": {
      "text/plain": [
       "-0.08538489558775608"
      ]
     },
     "execution_count": 71,
     "metadata": {
      "tags": []
     },
     "output_type": "execute_result"
    }
   ],
   "source": [
    "r2_score(y_te,np.exp(random_forest_pred))"
   ]
  },
  {
   "cell_type": "code",
   "execution_count": 72,
   "metadata": {
    "colab": {
     "base_uri": "https://localhost:8080/",
     "height": 35
    },
    "colab_type": "code",
    "id": "R3cCwv8t0E4R",
    "outputId": "0e3c0d3c-9103-46e5-ac77-eeebbb98fe59"
   },
   "outputs": [
    {
     "data": {
      "text/plain": [
       "10.634478758743661"
      ]
     },
     "execution_count": 72,
     "metadata": {
      "tags": []
     },
     "output_type": "execute_result"
    }
   ],
   "source": [
    "mean_absolute_error(y_te,np.exp(random_forest_pred))"
   ]
  },
  {
   "cell_type": "markdown",
   "metadata": {
    "colab_type": "text",
    "id": "wcM8J6K68asg"
   },
   "source": [
    "## Catboost"
   ]
  },
  {
   "cell_type": "code",
   "execution_count": null,
   "metadata": {
    "colab": {},
    "colab_type": "code",
    "id": "CdbAdWVW8ash"
   },
   "outputs": [],
   "source": [
    "!pip install catboost\n",
    "from catboost import CatBoostRegressor"
   ]
  },
  {
   "cell_type": "code",
   "execution_count": null,
   "metadata": {
    "colab": {},
    "colab_type": "code",
    "id": "OjIxG4pI8asl"
   },
   "outputs": [],
   "source": [
    "record_store_catboost_removal_columns = [\n",
    "    'market_price','units_for_sale','have','want','average_rating','rating_count','last_sold','lowest','median',\n",
    "    'highest','track_titles','genre','style','community_have','community_want','formats','thumb_url',\n",
    "    'release_url','format_description','days_since_last_sale','title'\n",
    "    ]\n",
    "record_store_catboost_removal_columns.extend(\n",
    "    column_store._indicator\n",
    ")"
   ]
  },
  {
   "cell_type": "code",
   "execution_count": null,
   "metadata": {
    "colab": {},
    "colab_type": "code",
    "id": "eyqIBpe88aso"
   },
   "outputs": [],
   "source": [
    "catboost_param_grid = {\n",
    "        'depth': np.linspace(1,16,5).astype(int),\n",
    "        'learning_rate' : np.logspace(-4,-1,5),\n",
    "        'l2_leaf_reg': np.linspace(1,50,5).astype(int),\n",
    "        'iterations': np.linspace(50,250,3),\n",
    "        'n_estimators': np.linspace(20,200,5).astype(int)\n",
    "}"
   ]
  },
  {
   "cell_type": "code",
   "execution_count": null,
   "metadata": {
    "colab": {},
    "colab_type": "code",
    "id": "VCaEIJW18asr"
   },
   "outputs": [],
   "source": [
    "catboost_pipe = Pipeline([\n",
    "    ('running_time_imputer',RunningTimeImputer('running_time','number_of_tracks')),\n",
    "    ('reduce_indicators', IndicatorReducer(indicators=column_store._indicator-column_store._geography,algorithm=UMAP,components=40)),\n",
    "    ('record_store_column_remover', ColumnRemover(record_store_catboost_removal_columns)),   \n",
    "    ('grid_search', GridSearchCV(\n",
    "        CatBoostRegressor(\n",
    "            random_seed=0,\n",
    "            cat_features=['year','format_text','master_id','format_name','artist','label','country'],\n",
    "            one_hot_max_size=25,\n",
    "            task_type='GPU',\n",
    "            devices='0:1',\n",
    "            boosting_type='Ordered',\n",
    "            verbose=True            \n",
    "        ),\n",
    "        param_grid={'depth': np.linspace(1,16,5).astype(int)},\n",
    "        n_jobs=1,\n",
    "        scoring='neg_mean_absolute_error',\n",
    "        verbose=50)\n",
    "    )\n",
    "])"
   ]
  },
  {
   "cell_type": "code",
   "execution_count": null,
   "metadata": {
    "colab": {},
    "colab_type": "code",
    "id": "MQW9Ojz08asu"
   },
   "outputs": [],
   "source": [
    "catboost_pipe.fit(X_tr_sample,np.log(y_tr_sample))"
   ]
  },
  {
   "cell_type": "code",
   "execution_count": null,
   "metadata": {
    "colab": {},
    "colab_type": "code",
    "id": "D82wspKV8XCK"
   },
   "outputs": [],
   "source": [
    "catboost_pipe.best_score_"
   ]
  },
  {
   "cell_type": "code",
   "execution_count": null,
   "metadata": {
    "colab": {},
    "colab_type": "code",
    "id": "iJHB_2xe8ZN_"
   },
   "outputs": [],
   "source": [
    "catboost_pipe.best_params_"
   ]
  },
  {
   "cell_type": "code",
   "execution_count": null,
   "metadata": {
    "colab": {},
    "colab_type": "code",
    "id": "QtP6T-Ir8asx"
   },
   "outputs": [],
   "source": [
    "catboost_pred = catboost_pipe.predict(X_te)"
   ]
  },
  {
   "cell_type": "code",
   "execution_count": null,
   "metadata": {
    "colab": {},
    "colab_type": "code",
    "id": "Ot0BfPu28as0"
   },
   "outputs": [],
   "source": [
    "r2_score(y_te,np.exp(catboost_pred))"
   ]
  },
  {
   "cell_type": "code",
   "execution_count": null,
   "metadata": {
    "colab": {},
    "colab_type": "code",
    "id": "2BLq7nQR42RA"
   },
   "outputs": [],
   "source": [
    "mean_absolute_error(y_te,np.exp(catboost_pred))"
   ]
  },
  {
   "cell_type": "code",
   "execution_count": null,
   "metadata": {
    "colab": {},
    "colab_type": "code",
    "id": "YVufSJ8X4_Qq"
   },
   "outputs": [],
   "source": []
  }
 ],
 "metadata": {
  "accelerator": "GPU",
  "colab": {
   "machine_shape": "hm",
   "name": "03-Modelling.ipynb",
   "provenance": [],
   "toc_visible": true
  },
  "kernelspec": {
   "display_name": "Python 3",
   "language": "python",
   "name": "python3"
  },
  "language_info": {
   "codemirror_mode": {
    "name": "ipython",
    "version": 3
   },
   "file_extension": ".py",
   "mimetype": "text/x-python",
   "name": "python",
   "nbconvert_exporter": "python",
   "pygments_lexer": "ipython3",
   "version": "3.6.10"
  },
  "widgets": {
   "application/vnd.jupyter.widget-state+json": {
    "12bb3fe26b364530b0484b30aee920c2": {
     "model_module": "@jupyter-widgets/controls",
     "model_name": "HTMLModel",
     "state": {
      "_dom_classes": [],
      "_model_module": "@jupyter-widgets/controls",
      "_model_module_version": "1.5.0",
      "_model_name": "HTMLModel",
      "_view_count": null,
      "_view_module": "@jupyter-widgets/controls",
      "_view_module_version": "1.5.0",
      "_view_name": "HTMLView",
      "description": "",
      "description_tooltip": null,
      "layout": "IPY_MODEL_a94590822f5942dfa122eee2c6fbc522",
      "placeholder": "​",
      "style": "IPY_MODEL_b9c18a6e2eeb43e391b8f4d10861c467",
      "value": " 899112/? [00:19&lt;00:00, 46122.18it/s]"
     }
    },
    "25259262c3454b208415b9a7e8eab095": {
     "model_module": "@jupyter-widgets/controls",
     "model_name": "ProgressStyleModel",
     "state": {
      "_model_module": "@jupyter-widgets/controls",
      "_model_module_version": "1.5.0",
      "_model_name": "ProgressStyleModel",
      "_view_count": null,
      "_view_module": "@jupyter-widgets/base",
      "_view_module_version": "1.2.0",
      "_view_name": "StyleView",
      "bar_color": null,
      "description_width": "initial"
     }
    },
    "2bc711cdaf0e48308c1c5bf2d4f7fda0": {
     "model_module": "@jupyter-widgets/base",
     "model_name": "LayoutModel",
     "state": {
      "_model_module": "@jupyter-widgets/base",
      "_model_module_version": "1.2.0",
      "_model_name": "LayoutModel",
      "_view_count": null,
      "_view_module": "@jupyter-widgets/base",
      "_view_module_version": "1.2.0",
      "_view_name": "LayoutView",
      "align_content": null,
      "align_items": null,
      "align_self": null,
      "border": null,
      "bottom": null,
      "display": null,
      "flex": null,
      "flex_flow": null,
      "grid_area": null,
      "grid_auto_columns": null,
      "grid_auto_flow": null,
      "grid_auto_rows": null,
      "grid_column": null,
      "grid_gap": null,
      "grid_row": null,
      "grid_template_areas": null,
      "grid_template_columns": null,
      "grid_template_rows": null,
      "height": null,
      "justify_content": null,
      "justify_items": null,
      "left": null,
      "margin": null,
      "max_height": null,
      "max_width": null,
      "min_height": null,
      "min_width": null,
      "object_fit": null,
      "object_position": null,
      "order": null,
      "overflow": null,
      "overflow_x": null,
      "overflow_y": null,
      "padding": null,
      "right": null,
      "top": null,
      "visibility": null,
      "width": null
     }
    },
    "34bcb07281bc4f1fa73cf407af27a3ff": {
     "model_module": "@jupyter-widgets/base",
     "model_name": "LayoutModel",
     "state": {
      "_model_module": "@jupyter-widgets/base",
      "_model_module_version": "1.2.0",
      "_model_name": "LayoutModel",
      "_view_count": null,
      "_view_module": "@jupyter-widgets/base",
      "_view_module_version": "1.2.0",
      "_view_name": "LayoutView",
      "align_content": null,
      "align_items": null,
      "align_self": null,
      "border": null,
      "bottom": null,
      "display": null,
      "flex": null,
      "flex_flow": null,
      "grid_area": null,
      "grid_auto_columns": null,
      "grid_auto_flow": null,
      "grid_auto_rows": null,
      "grid_column": null,
      "grid_gap": null,
      "grid_row": null,
      "grid_template_areas": null,
      "grid_template_columns": null,
      "grid_template_rows": null,
      "height": null,
      "justify_content": null,
      "justify_items": null,
      "left": null,
      "margin": null,
      "max_height": null,
      "max_width": null,
      "min_height": null,
      "min_width": null,
      "object_fit": null,
      "object_position": null,
      "order": null,
      "overflow": null,
      "overflow_x": null,
      "overflow_y": null,
      "padding": null,
      "right": null,
      "top": null,
      "visibility": null,
      "width": null
     }
    },
    "4286cc868f1b4b9e95918ca812e31a2c": {
     "model_module": "@jupyter-widgets/controls",
     "model_name": "HTMLModel",
     "state": {
      "_dom_classes": [],
      "_model_module": "@jupyter-widgets/controls",
      "_model_module_version": "1.5.0",
      "_model_name": "HTMLModel",
      "_view_count": null,
      "_view_module": "@jupyter-widgets/controls",
      "_view_module_version": "1.5.0",
      "_view_name": "HTMLView",
      "description": "",
      "description_tooltip": null,
      "layout": "IPY_MODEL_6b7f4e16ded4497185489886cff23275",
      "placeholder": "​",
      "style": "IPY_MODEL_b57d06a37939401aaf0267da321eea75",
      "value": " 8/8 [00:02&lt;00:00,  3.70it/s]"
     }
    },
    "6afc421843164947891eff2520fd33e3": {
     "model_module": "@jupyter-widgets/base",
     "model_name": "LayoutModel",
     "state": {
      "_model_module": "@jupyter-widgets/base",
      "_model_module_version": "1.2.0",
      "_model_name": "LayoutModel",
      "_view_count": null,
      "_view_module": "@jupyter-widgets/base",
      "_view_module_version": "1.2.0",
      "_view_name": "LayoutView",
      "align_content": null,
      "align_items": null,
      "align_self": null,
      "border": null,
      "bottom": null,
      "display": null,
      "flex": null,
      "flex_flow": null,
      "grid_area": null,
      "grid_auto_columns": null,
      "grid_auto_flow": null,
      "grid_auto_rows": null,
      "grid_column": null,
      "grid_gap": null,
      "grid_row": null,
      "grid_template_areas": null,
      "grid_template_columns": null,
      "grid_template_rows": null,
      "height": null,
      "justify_content": null,
      "justify_items": null,
      "left": null,
      "margin": null,
      "max_height": null,
      "max_width": null,
      "min_height": null,
      "min_width": null,
      "object_fit": null,
      "object_position": null,
      "order": null,
      "overflow": null,
      "overflow_x": null,
      "overflow_y": null,
      "padding": null,
      "right": null,
      "top": null,
      "visibility": null,
      "width": null
     }
    },
    "6b7f4e16ded4497185489886cff23275": {
     "model_module": "@jupyter-widgets/base",
     "model_name": "LayoutModel",
     "state": {
      "_model_module": "@jupyter-widgets/base",
      "_model_module_version": "1.2.0",
      "_model_name": "LayoutModel",
      "_view_count": null,
      "_view_module": "@jupyter-widgets/base",
      "_view_module_version": "1.2.0",
      "_view_name": "LayoutView",
      "align_content": null,
      "align_items": null,
      "align_self": null,
      "border": null,
      "bottom": null,
      "display": null,
      "flex": null,
      "flex_flow": null,
      "grid_area": null,
      "grid_auto_columns": null,
      "grid_auto_flow": null,
      "grid_auto_rows": null,
      "grid_column": null,
      "grid_gap": null,
      "grid_row": null,
      "grid_template_areas": null,
      "grid_template_columns": null,
      "grid_template_rows": null,
      "height": null,
      "justify_content": null,
      "justify_items": null,
      "left": null,
      "margin": null,
      "max_height": null,
      "max_width": null,
      "min_height": null,
      "min_width": null,
      "object_fit": null,
      "object_position": null,
      "order": null,
      "overflow": null,
      "overflow_x": null,
      "overflow_y": null,
      "padding": null,
      "right": null,
      "top": null,
      "visibility": null,
      "width": null
     }
    },
    "6caebf3031d3421b8638d83f9d6d85e6": {
     "model_module": "@jupyter-widgets/controls",
     "model_name": "IntProgressModel",
     "state": {
      "_dom_classes": [],
      "_model_module": "@jupyter-widgets/controls",
      "_model_module_version": "1.5.0",
      "_model_name": "IntProgressModel",
      "_view_count": null,
      "_view_module": "@jupyter-widgets/controls",
      "_view_module_version": "1.5.0",
      "_view_name": "ProgressView",
      "bar_style": "success",
      "description": "",
      "description_tooltip": null,
      "layout": "IPY_MODEL_2bc711cdaf0e48308c1c5bf2d4f7fda0",
      "max": 1,
      "min": 0,
      "orientation": "horizontal",
      "style": "IPY_MODEL_25259262c3454b208415b9a7e8eab095",
      "value": 1
     }
    },
    "6e854e9e23664fdfaacce8913a67c950": {
     "model_module": "@jupyter-widgets/controls",
     "model_name": "HBoxModel",
     "state": {
      "_dom_classes": [],
      "_model_module": "@jupyter-widgets/controls",
      "_model_module_version": "1.5.0",
      "_model_name": "HBoxModel",
      "_view_count": null,
      "_view_module": "@jupyter-widgets/controls",
      "_view_module_version": "1.5.0",
      "_view_name": "HBoxView",
      "box_style": "",
      "children": [
       "IPY_MODEL_bfaa554a8342446db8b06f3ddb522cac",
       "IPY_MODEL_4286cc868f1b4b9e95918ca812e31a2c"
      ],
      "layout": "IPY_MODEL_34bcb07281bc4f1fa73cf407af27a3ff"
     }
    },
    "928c9387e8ba42af9ddc38c6ac1af7d1": {
     "model_module": "@jupyter-widgets/base",
     "model_name": "LayoutModel",
     "state": {
      "_model_module": "@jupyter-widgets/base",
      "_model_module_version": "1.2.0",
      "_model_name": "LayoutModel",
      "_view_count": null,
      "_view_module": "@jupyter-widgets/base",
      "_view_module_version": "1.2.0",
      "_view_name": "LayoutView",
      "align_content": null,
      "align_items": null,
      "align_self": null,
      "border": null,
      "bottom": null,
      "display": null,
      "flex": null,
      "flex_flow": null,
      "grid_area": null,
      "grid_auto_columns": null,
      "grid_auto_flow": null,
      "grid_auto_rows": null,
      "grid_column": null,
      "grid_gap": null,
      "grid_row": null,
      "grid_template_areas": null,
      "grid_template_columns": null,
      "grid_template_rows": null,
      "height": null,
      "justify_content": null,
      "justify_items": null,
      "left": null,
      "margin": null,
      "max_height": null,
      "max_width": null,
      "min_height": null,
      "min_width": null,
      "object_fit": null,
      "object_position": null,
      "order": null,
      "overflow": null,
      "overflow_x": null,
      "overflow_y": null,
      "padding": null,
      "right": null,
      "top": null,
      "visibility": null,
      "width": null
     }
    },
    "a4ce415af44b462c9570b638670bf3d3": {
     "model_module": "@jupyter-widgets/controls",
     "model_name": "HBoxModel",
     "state": {
      "_dom_classes": [],
      "_model_module": "@jupyter-widgets/controls",
      "_model_module_version": "1.5.0",
      "_model_name": "HBoxModel",
      "_view_count": null,
      "_view_module": "@jupyter-widgets/controls",
      "_view_module_version": "1.5.0",
      "_view_name": "HBoxView",
      "box_style": "",
      "children": [
       "IPY_MODEL_6caebf3031d3421b8638d83f9d6d85e6",
       "IPY_MODEL_12bb3fe26b364530b0484b30aee920c2"
      ],
      "layout": "IPY_MODEL_6afc421843164947891eff2520fd33e3"
     }
    },
    "a94590822f5942dfa122eee2c6fbc522": {
     "model_module": "@jupyter-widgets/base",
     "model_name": "LayoutModel",
     "state": {
      "_model_module": "@jupyter-widgets/base",
      "_model_module_version": "1.2.0",
      "_model_name": "LayoutModel",
      "_view_count": null,
      "_view_module": "@jupyter-widgets/base",
      "_view_module_version": "1.2.0",
      "_view_name": "LayoutView",
      "align_content": null,
      "align_items": null,
      "align_self": null,
      "border": null,
      "bottom": null,
      "display": null,
      "flex": null,
      "flex_flow": null,
      "grid_area": null,
      "grid_auto_columns": null,
      "grid_auto_flow": null,
      "grid_auto_rows": null,
      "grid_column": null,
      "grid_gap": null,
      "grid_row": null,
      "grid_template_areas": null,
      "grid_template_columns": null,
      "grid_template_rows": null,
      "height": null,
      "justify_content": null,
      "justify_items": null,
      "left": null,
      "margin": null,
      "max_height": null,
      "max_width": null,
      "min_height": null,
      "min_width": null,
      "object_fit": null,
      "object_position": null,
      "order": null,
      "overflow": null,
      "overflow_x": null,
      "overflow_y": null,
      "padding": null,
      "right": null,
      "top": null,
      "visibility": null,
      "width": null
     }
    },
    "b57d06a37939401aaf0267da321eea75": {
     "model_module": "@jupyter-widgets/controls",
     "model_name": "DescriptionStyleModel",
     "state": {
      "_model_module": "@jupyter-widgets/controls",
      "_model_module_version": "1.5.0",
      "_model_name": "DescriptionStyleModel",
      "_view_count": null,
      "_view_module": "@jupyter-widgets/base",
      "_view_module_version": "1.2.0",
      "_view_name": "StyleView",
      "description_width": ""
     }
    },
    "b9c18a6e2eeb43e391b8f4d10861c467": {
     "model_module": "@jupyter-widgets/controls",
     "model_name": "DescriptionStyleModel",
     "state": {
      "_model_module": "@jupyter-widgets/controls",
      "_model_module_version": "1.5.0",
      "_model_name": "DescriptionStyleModel",
      "_view_count": null,
      "_view_module": "@jupyter-widgets/base",
      "_view_module_version": "1.2.0",
      "_view_name": "StyleView",
      "description_width": ""
     }
    },
    "bfaa554a8342446db8b06f3ddb522cac": {
     "model_module": "@jupyter-widgets/controls",
     "model_name": "IntProgressModel",
     "state": {
      "_dom_classes": [],
      "_model_module": "@jupyter-widgets/controls",
      "_model_module_version": "1.5.0",
      "_model_name": "IntProgressModel",
      "_view_count": null,
      "_view_module": "@jupyter-widgets/controls",
      "_view_module_version": "1.5.0",
      "_view_name": "ProgressView",
      "bar_style": "success",
      "description": "100%",
      "description_tooltip": null,
      "layout": "IPY_MODEL_928c9387e8ba42af9ddc38c6ac1af7d1",
      "max": 8,
      "min": 0,
      "orientation": "horizontal",
      "style": "IPY_MODEL_f7a0e38219d1472abb73caa6804b9433",
      "value": 8
     }
    },
    "f7a0e38219d1472abb73caa6804b9433": {
     "model_module": "@jupyter-widgets/controls",
     "model_name": "ProgressStyleModel",
     "state": {
      "_model_module": "@jupyter-widgets/controls",
      "_model_module_version": "1.5.0",
      "_model_name": "ProgressStyleModel",
      "_view_count": null,
      "_view_module": "@jupyter-widgets/base",
      "_view_module_version": "1.2.0",
      "_view_name": "StyleView",
      "bar_color": null,
      "description_width": "initial"
     }
    }
   }
  }
 },
 "nbformat": 4,
 "nbformat_minor": 4
}
