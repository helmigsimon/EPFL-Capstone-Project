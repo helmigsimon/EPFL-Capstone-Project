{
 "cells": [
  {
   "cell_type": "markdown",
   "metadata": {
    "colab_type": "text",
    "id": "buFUSHKt8apx"
   },
   "source": [
    "## 03 - Modelling"
   ]
  },
  {
   "cell_type": "markdown",
   "metadata": {
    "colab_type": "text",
    "id": "lunHqQ7B8apz"
   },
   "source": [
    "## Optional - Colab Setup"
   ]
  },
  {
   "cell_type": "code",
   "execution_count": null,
   "metadata": {
    "colab": {},
    "colab_type": "code",
    "id": "qQQCreB5gAR_"
   },
   "outputs": [],
   "source": [
    "def upgrade_runtime_ram():\n",
    "    meminfo = subprocess.getoutput('cat /proc/meminfo').split('\\n')\n",
    "\n",
    "    memory_info = {entry.split(':')[0]: int(entry.split(':')[1].replace(' kB','').strip()) for entry in meminfo}\n",
    "\n",
    "    if memory_info['MemTotal'] > 17000000:\n",
    "        return\n",
    "\n",
    "    a = []\n",
    "    while(1):\n",
    "        a.append('1')"
   ]
  },
  {
   "cell_type": "code",
   "execution_count": null,
   "metadata": {
    "colab": {},
    "colab_type": "code",
    "id": "waACZBi_8ap2"
   },
   "outputs": [],
   "source": [
    "def restart_runtime():\n",
    "    os.kill(os.getpid(), 9)"
   ]
  },
  {
   "cell_type": "code",
   "execution_count": null,
   "metadata": {
    "colab": {},
    "colab_type": "code",
    "id": "YIsGqbsy8aqB"
   },
   "outputs": [],
   "source": [
    "def setup_rapids():\n",
    "    pynvml.nvmlInit()\n",
    "    handle = pynvml.nvmlDeviceGetHandleByIndex(0)\n",
    "    device_name = pynvml.nvmlDeviceGetName(handle)\n",
    "    if (device_name != b'Tesla T4') and (device_name != b'Tesla P4') and (device_name != b'Tesla P100-PCIE-16GB'):\n",
    "        print(\"Wrong GPU - Restarting Runtime\")\n",
    "        restart_runtime()\n",
    "\n",
    "\n",
    "    # clone RAPIDS AI rapidsai-csp-utils scripts repo\n",
    "    !git clone https://github.com/rapidsai/rapidsai-csp-utils.git\n",
    "\n",
    "    # install RAPIDS\n",
    "    !bash rapidsai-csp-utils/colab/rapids-colab.sh 0.13\n",
    "\n",
    "\n",
    "    # set necessary environment variables \n",
    "    dist_package_index = sys.path.index('/usr/local/lib/python3.6/dist-packages')\n",
    "    sys.path = sys.path[:dist_package_index] + ['/usr/local/lib/python3.6/site-packages'] + sys.path[dist_package_index:]\n",
    "    sys.path\n",
    "\n",
    "    # update pyarrow & modules \n",
    "    exec(open('rapidsai-csp-utils/colab/update_modules.py').read(), globals())"
   ]
  },
  {
   "cell_type": "code",
   "execution_count": null,
   "metadata": {
    "colab": {},
    "colab_type": "code",
    "id": "9CcPvNIo8aqI"
   },
   "outputs": [],
   "source": [
    "def setup_conda():\n",
    "    if not 'Miniconda3-4.5.4-Linux-x86_64.sh' in os.listdir():\n",
    "        !wget https://repo.continuum.io/miniconda/Miniconda3-4.5.4-Linux-x86_64.sh && bash Miniconda3-4.5.4-Linux-x86_64.sh -bfp /usr/local\n",
    "\n",
    "    if not ('EPFL-Capstone-Project' in os.listdir()) and (os.getcwd().split('/')[-1] != 'EPFL-Capstone-Project'):\n",
    "        !git clone https://github.com/helmigsimon/EPFL-Capstone-Project  \n",
    "    if 'EPFL-Capstone-Project' in os.listdir():\n",
    "        os.chdir('EPFL-Capstone-Project')\n",
    "\n",
    "    !conda env create -f environment.yml\n",
    "    !conda activate exts-ml"
   ]
  },
  {
   "cell_type": "code",
   "execution_count": null,
   "metadata": {
    "colab": {},
    "colab_type": "code",
    "id": "WHSZ-lgE8aqP"
   },
   "outputs": [],
   "source": [
    "def setup_drive():\n",
    "    #Mounting Google Drive\n",
    "    global drive\n",
    "    from google.colab import drive\n",
    "    drive.mount('/content/drive')"
   ]
  },
  {
   "cell_type": "code",
   "execution_count": null,
   "metadata": {
    "colab": {
     "base_uri": "https://localhost:8080/",
     "height": 1000
    },
    "colab_type": "code",
    "id": "N_uPJqb58aqW",
    "outputId": "406e1592-edd0-44ee-f448-0b282ec3980c"
   },
   "outputs": [],
   "source": [
    "try:\n",
    "    import sys,os,subprocess\n",
    "    \n",
    "    upgrade_runtime_ram()\n",
    "    setup_drive()\n",
    "\n",
    "    #Setting up PyPi Packages\n",
    "    !pip install geopandas sparse-dot-topn pdpipe category-encoders\n",
    "    import geopandas as gpd\n",
    "    import sparse_dot_topn.sparse_dot_topn as ct\n",
    "    import pdpipe as pdp\n",
    "    import category_encoders\n",
    "\n",
    "    #Setting up Conda Packages\n",
    "    setup_conda()\n",
    "    \n",
    "    #Initializing NLTK\n",
    "    import nltk\n",
    "    nltk.download('stopwords')\n",
    "    nltk.download('punkt')\n",
    "    \n",
    "    #Setting up RAPIDS AI\n",
    "    import pynvml\n",
    "    setup_rapids()\n",
    "    \n",
    "    from cuml import UMAP\n",
    "    \n",
    "except ModuleNotFoundError as e:\n",
    "    print(e)\n",
    "    print('Not in colab environment, continuing to run locally')\n",
    "    from umap import UMAP"
   ]
  },
  {
   "cell_type": "markdown",
   "metadata": {
    "colab_type": "text",
    "id": "Kvn45BG28aqd"
   },
   "source": [
    "## Imports"
   ]
  },
  {
   "cell_type": "code",
   "execution_count": null,
   "metadata": {
    "colab": {},
    "colab_type": "code",
    "id": "IRijjSry8aqf"
   },
   "outputs": [],
   "source": [
    "%matplotlib inline\n",
    "import pandas as pd\n",
    "import numpy as np\n",
    "from tqdm import tqdm\n",
    "import matplotlib.pyplot as plt\n",
    "from sklearn.linear_model import SGDRegressor\n",
    "from sklearn.preprocessing import StandardScaler\n",
    "from sklearn.model_selection import GridSearchCV, train_test_split,  StratifiedKFold\n",
    "from sklearn.pipeline import Pipeline\n",
    "from sklearn.metrics import mean_absolute_error, mean_squared_error, r2_score\n",
    "tqdm.pandas()"
   ]
  },
  {
   "cell_type": "code",
   "execution_count": null,
   "metadata": {
    "colab": {},
    "colab_type": "code",
    "id": "fEgS7UQD8aqk"
   },
   "outputs": [],
   "source": [
    "from sklearn.model_selection import train_test_split\n",
    "from sklearn.impute import SimpleImputer\n",
    "from sklearn.compose import ColumnTransformer\n",
    "from sklearn.preprocessing import OneHotEncoder, FunctionTransformer"
   ]
  },
  {
   "cell_type": "code",
   "execution_count": null,
   "metadata": {
    "colab": {},
    "colab_type": "code",
    "id": "u5KwAwAe8aqp"
   },
   "outputs": [],
   "source": [
    "from lib.transformers import *\n",
    "from lib.pipelines import *\n",
    "from lib.processing import save_to_pkl, load_from_pkl\n",
    "from data.util.paths import DATA_PATH"
   ]
  },
  {
   "cell_type": "code",
   "execution_count": null,
   "metadata": {
    "colab": {},
    "colab_type": "code",
    "id": "ixGjIOwS8aq1"
   },
   "outputs": [],
   "source": [
    "from category_encoders.leave_one_out import LeaveOneOutEncoder"
   ]
  },
  {
   "cell_type": "markdown",
   "metadata": {
    "colab_type": "text",
    "id": "C6jHrhZT8aq6"
   },
   "source": [
    "## Setting up DataFrame"
   ]
  },
  {
   "cell_type": "code",
   "execution_count": null,
   "metadata": {
    "colab": {},
    "colab_type": "code",
    "id": "xpDf_3kT8aq7"
   },
   "outputs": [],
   "source": [
    "api_df = load_from_pkl('api',DATA_PATH)\n",
    "extracted_df = load_from_pkl('extracted',DATA_PATH)"
   ]
  },
  {
   "cell_type": "code",
   "execution_count": null,
   "metadata": {
    "colab": {
     "base_uri": "https://localhost:8080/",
     "height": 67,
     "referenced_widgets": [
      "31a7f3bb654843ffbcae806297385289",
      "86bcbf4de6ca4f7d9b2f3bd12a8e98b6",
      "10439bec90dd43cfa2847edc70113c03",
      "bce8d996f0934fcca4aa897c427c2797",
      "aef0c7eccbab43ddbb81fdc2059867f7",
      "93b01a67c3244d2a944e2443146c828b",
      "28d6a7d8ffa247c88783811435161176",
      "83a40c94917a4528905f888c5101c320"
     ]
    },
    "colab_type": "code",
    "id": "iZP1t_evMdaG",
    "outputId": "8f810c88-b74b-4d25-f257-77994c7ffe1d"
   },
   "outputs": [],
   "source": [
    "api_df = api_pipe.fit_transform(api_df)\n",
    "extracted_df = extracted_pipe.fit_transform(extracted_df)"
   ]
  },
  {
   "cell_type": "code",
   "execution_count": null,
   "metadata": {
    "colab": {},
    "colab_type": "code",
    "id": "7AdkP_hwPmqQ"
   },
   "outputs": [],
   "source": [
    "#Remove outliers from extracted_df\n",
    "extracted_df = OutlierRemover('market_value').fit_transform(extracted_df)"
   ]
  },
  {
   "cell_type": "markdown",
   "metadata": {
    "colab_type": "text",
    "id": "a6n5farW8arB"
   },
   "source": [
    "## Reducing Dimensionality of Image Embeddings"
   ]
  },
  {
   "cell_type": "code",
   "execution_count": null,
   "metadata": {
    "colab": {},
    "colab_type": "code",
    "id": "hTNDpVXKMdVp"
   },
   "outputs": [],
   "source": [
    "with np.load(os.path.join(DATA_PATH,'high_level_features_labelled.npz')) as data:\n",
    "    image_embedding_df = pd.concat([pd.DataFrame(data[section]) for section in ('release_id','bitmap','features')],axis=1)\n",
    "    image_embedding_df.columns = ['release_id', 'bitmap'] + ['feature_%s' % i for i in range(1,1281)]"
   ]
  },
  {
   "cell_type": "code",
   "execution_count": null,
   "metadata": {
    "colab": {},
    "colab_type": "code",
    "id": "vpYiYhDnmfDT"
   },
   "outputs": [],
   "source": [
    "from cuml import UMAP"
   ]
  },
  {
   "cell_type": "code",
   "execution_count": null,
   "metadata": {
    "colab": {},
    "colab_type": "code",
    "id": "46fQY6W28arC"
   },
   "outputs": [],
   "source": [
    "scaler = StandardScaler()\n",
    "umap = UMAP(n_components=10)\n",
    "image_embeddings_scaled = scaler.fit_transform(image_embedding_df.loc[:,['feature_%s' % i for i in range(1,1281)]])\n"
   ]
  },
  {
   "cell_type": "code",
   "execution_count": null,
   "metadata": {
    "colab": {
     "base_uri": "https://localhost:8080/",
     "height": 73
    },
    "colab_type": "code",
    "id": "-DiegN158q_u",
    "outputId": "bf8a71c0-ce42-431a-a2f5-3088e7464f5d"
   },
   "outputs": [],
   "source": [
    "image_embeddings_reduced = umap.fit_transform(image_embeddings_scaled)"
   ]
  },
  {
   "cell_type": "code",
   "execution_count": null,
   "metadata": {
    "colab": {},
    "colab_type": "code",
    "id": "9O2_hoRwzSio"
   },
   "outputs": [],
   "source": [
    "image_embeddings_reduced = pd.concat([\n",
    "      image_embedding_df.loc[:,'release_id'],\n",
    "      pd.DataFrame(\n",
    "          image_embeddings_reduced,\n",
    "          columns = ['images_umap_%s' % i for i in range(image_embeddings_reduced.shape[1])]\n",
    "      )],\n",
    "      axis=1\n",
    ")\n"
   ]
  },
  {
   "cell_type": "markdown",
   "metadata": {
    "colab_type": "text",
    "id": "DZgR3OYwl_Yy"
   },
   "source": [
    "Combining datasets"
   ]
  },
  {
   "cell_type": "code",
   "execution_count": null,
   "metadata": {
    "colab": {},
    "colab_type": "code",
    "id": "NSZb0b4JT-72"
   },
   "outputs": [],
   "source": [
    "df = api_df.merge(extracted_df,how='inner',on='release_id')\n",
    "df = df.merge(image_embeddings_reduced,how='inner',on='release_id')"
   ]
  },
  {
   "cell_type": "code",
   "execution_count": null,
   "metadata": {
    "colab": {},
    "colab_type": "code",
    "id": "0DBmeMFEUJ0N"
   },
   "outputs": [],
   "source": [
    "del api_df, extracted_df, image_embedding_df, image_embeddings_scaled, image_embeddings_reduced"
   ]
  },
  {
   "cell_type": "code",
   "execution_count": null,
   "metadata": {
    "colab": {
     "base_uri": "https://localhost:8080/",
     "height": 67,
     "referenced_widgets": [
      "7aaaa1e7d0134515bd37e064d161f075",
      "0ac4a68f9d3c46e389d838a566e91018",
      "50cad978fe4f4445be2002f444c1d4b4",
      "39e5e14a5f4d4c1e88cb561943df45d5",
      "2452254f939f4f538da957be91dbedb0",
      "3c0bd405c7ee4992826294be08811d22",
      "c378a812dbe6421e87842a972e2b3667",
      "4ddf9e5485174ca786b4b3d7ff1ce23e"
     ]
    },
    "colab_type": "code",
    "id": "1hbzpOTylHCB",
    "outputId": "81c6a184-93a8-44bf-ecbf-1e4e5e11219c"
   },
   "outputs": [],
   "source": [
    "col_set = {\n",
    "    'format': {\n",
    "        'description': 'format_description_', \n",
    "        'name': 'format_name_', \n",
    "        'text': ('format_text_clean'),\n",
    "        'quantity': ('format_quantity')\n",
    "    },\n",
    "    'geography': {\n",
    "        'superregion': 'superregion_',\n",
    "        'region': 'region_',\n",
    "        'country': 'country_'\n",
    "    },\n",
    "    'timeperiod': {\n",
    "        'period': 'period_',\n",
    "        'era': 'era_'\n",
    "    },\n",
    "    'genre': 'genre_',\n",
    "    'style': 'style_',\n",
    "    'null': None,\n",
    "    'indicator': lambda x: x.max() == 1 and x.min() == 0,\n",
    "    'image_embedding': 'image_umap_'\n",
    "}\n",
    "column_store = ColumnStore()\n",
    "column_store.fit(df,col_set)"
   ]
  },
  {
   "cell_type": "markdown",
   "metadata": {
    "colab_type": "text",
    "id": "Gz00X-1E8arN"
   },
   "source": [
    "## Preparing for Machine Learning"
   ]
  },
  {
   "cell_type": "code",
   "execution_count": null,
   "metadata": {
    "colab": {},
    "colab_type": "code",
    "id": "7hLwsGal8arO"
   },
   "outputs": [],
   "source": [
    "X_tr, X_te, y_tr, y_te = train_test_split(df.drop('market_value',axis=1),df.market_value)"
   ]
  },
  {
   "cell_type": "code",
   "execution_count": null,
   "metadata": {
    "colab": {},
    "colab_type": "code",
    "id": "KHFqqLDIZ8s-"
   },
   "outputs": [],
   "source": [
    "del df"
   ]
  },
  {
   "cell_type": "markdown",
   "metadata": {
    "colab_type": "text",
    "id": "pk_qZ4Lu947Y"
   },
   "source": [
    "## Setting up Dummy Regression for baseline"
   ]
  },
  {
   "cell_type": "code",
   "execution_count": null,
   "metadata": {
    "colab": {},
    "colab_type": "code",
    "id": "LZPTVTuw6ZO-"
   },
   "outputs": [],
   "source": [
    "from sklearn.dummy import DummyRegressor"
   ]
  },
  {
   "cell_type": "code",
   "execution_count": null,
   "metadata": {
    "colab": {},
    "colab_type": "code",
    "id": "tTWU4_un6lR2"
   },
   "outputs": [],
   "source": [
    "dummy_val = GridSearchCV(\n",
    "    DummyRegressor(),\n",
    "    cv=5,\n",
    "    param_grid = {\n",
    "        'strategy': ['mean','median']\n",
    "    },\n",
    "    scoring='neg_mean_absolute_error',\n",
    "    n_jobs=-1,\n",
    "    verbose=5\n",
    ")"
   ]
  },
  {
   "cell_type": "code",
   "execution_count": null,
   "metadata": {
    "colab": {
     "base_uri": "https://localhost:8080/",
     "height": 270
    },
    "colab_type": "code",
    "id": "eq6ZiI7y7Rmd",
    "outputId": "a7c9297f-eb3d-40b2-89dd-2384ef13476e"
   },
   "outputs": [],
   "source": [
    "dummy_val.fit(X_tr,np.log(y_tr).values)"
   ]
  },
  {
   "cell_type": "code",
   "execution_count": null,
   "metadata": {
    "colab": {
     "base_uri": "https://localhost:8080/",
     "height": 35
    },
    "colab_type": "code",
    "id": "gY1jf8Si7eWB",
    "outputId": "9b030737-cae2-48fb-cb9c-77cd881177b3"
   },
   "outputs": [],
   "source": [
    "dummy_val.best_score_"
   ]
  },
  {
   "cell_type": "code",
   "execution_count": null,
   "metadata": {
    "colab": {},
    "colab_type": "code",
    "id": "3ET6x4I-DXWP"
   },
   "outputs": [],
   "source": [
    "y_mean_pred = np.full(shape=y_te.shape,fill_value=np.mean(y_te))"
   ]
  },
  {
   "cell_type": "code",
   "execution_count": null,
   "metadata": {
    "colab": {
     "base_uri": "https://localhost:8080/",
     "height": 35
    },
    "colab_type": "code",
    "id": "h-oMdqdnDUjz",
    "outputId": "c42f4639-25be-486b-a5ba-6664fdb6dba6"
   },
   "outputs": [],
   "source": [
    "r2_score(y_te,y_mean_pred)"
   ]
  },
  {
   "cell_type": "code",
   "execution_count": null,
   "metadata": {
    "colab": {
     "base_uri": "https://localhost:8080/",
     "height": 35
    },
    "colab_type": "code",
    "id": "Gw0h8_hCC4x4",
    "outputId": "8c6c17de-908c-4e79-8241-ba2dc791bdde"
   },
   "outputs": [],
   "source": [
    "mean_absolute_error(y_te,y_mean_pred)"
   ]
  },
  {
   "cell_type": "markdown",
   "metadata": {
    "colab_type": "text",
    "id": "DYJYPpPP-AaC"
   },
   "source": [
    "Ridge Regression"
   ]
  },
  {
   "cell_type": "code",
   "execution_count": null,
   "metadata": {
    "colab": {},
    "colab_type": "code",
    "id": "2eULFAcQ8arZ"
   },
   "outputs": [],
   "source": [
    "full_information_transformer = ColumnTransformer(transformers=[\n",
    "    ('units_for_sale_imputer', SimpleImputer(strategy='constant',fill_value=0),['units_for_sale']),\n",
    "    ('average_rating_imputer', SimpleImputer(strategy='mean'),['average_rating']),\n",
    "    ('year_encoder', OneHotEncoder(dtype=np.uint8), ['year'])\n",
    "], remainder='passthrough')"
   ]
  },
  {
   "cell_type": "code",
   "execution_count": null,
   "metadata": {
    "colab": {},
    "colab_type": "code",
    "id": "WCI8WWUu8ard"
   },
   "outputs": [],
   "source": [
    "record_store_lr_transformer = ColumnTransformer(transformers=[\n",
    "    ('year_encoder', OneHotEncoder(dtype=np.uint8,handle_unknown='ignore'), ['year'])\n",
    "], remainder='passthrough')"
   ]
  },
  {
   "cell_type": "code",
   "execution_count": null,
   "metadata": {
    "colab": {},
    "colab_type": "code",
    "id": "AZHfrogk8arh"
   },
   "outputs": [],
   "source": [
    "record_store_lr_removal_columns = [\n",
    "    'market_price','units_for_sale','have','want','average_rating','rating_count','last_sold','lowest','median',\n",
    "    'highest','track_titles','country','genre','style','community_have','community_want','formats','master_id','thumb_url',\n",
    "    'release_url','format_description','format_text','days_since_last_sale','title','format_name'\n",
    "    ]"
   ]
  },
  {
   "cell_type": "code",
   "execution_count": null,
   "metadata": {
    "colab": {},
    "colab_type": "code",
    "id": "nQYFpYd8EfoT"
   },
   "outputs": [],
   "source": [
    "from cuml import LinearRegression"
   ]
  },
  {
   "cell_type": "code",
   "execution_count": null,
   "metadata": {
    "colab": {},
    "colab_type": "code",
    "id": "sRH_P30fEM-W"
   },
   "outputs": [],
   "source": [
    "record_store_lr_pipe = Pipeline([\n",
    "    ('running_time_imputer',RunningTimeImputer('running_time','number_of_tracks')),\n",
    "    ('leave_one_out_encoding', LeaveOneOutEncoder(cols=['artist','label'])),\n",
    "    ('record_store_column_remover', ColumnRemover(record_store_lr_removal_columns)),\n",
    "    ('preprocessing',record_store_lr_transformer),\n",
    "    ('scaler', StandardScaler()),\n",
    "    ('lr', GridSearchCV(\n",
    "        LinearRegression(),\n",
    "        param_grid={\n",
    "            'normalize':[False,True]\n",
    "        },\n",
    "        cv=KFold(n_splits=5,shuffle=True),\n",
    "        scoring='neg_mean_absolute_error',\n",
    "        verbose=5,\n",
    "        n_jobs=-1\n",
    "    ))\n",
    "])"
   ]
  },
  {
   "cell_type": "code",
   "execution_count": null,
   "metadata": {
    "colab": {
     "base_uri": "https://localhost:8080/",
     "height": 467
    },
    "colab_type": "code",
    "id": "s9AtCvkCEM4u",
    "outputId": "d4fc3968-4e57-44c0-cab1-e0db5e39ef5c"
   },
   "outputs": [],
   "source": [
    "record_store_lr_pipe.fit(X_tr,np.log(y_tr).values)"
   ]
  },
  {
   "cell_type": "code",
   "execution_count": null,
   "metadata": {
    "colab": {
     "base_uri": "https://localhost:8080/",
     "height": 35
    },
    "colab_type": "code",
    "id": "bVqYCgf9EMzZ",
    "outputId": "b4ad0ed4-7254-4dbe-de95-206681ae6ede"
   },
   "outputs": [],
   "source": [
    "record_store_lr_pipe['lr'].best_score_"
   ]
  },
  {
   "cell_type": "code",
   "execution_count": null,
   "metadata": {
    "colab": {
     "base_uri": "https://localhost:8080/",
     "height": 73
    },
    "colab_type": "code",
    "id": "W6IhcYpqEMuK",
    "outputId": "1dc2574d-225d-4cf1-f9ca-0121fcea5dc4"
   },
   "outputs": [],
   "source": [
    "lr_pred = record_store_lr_pipe.predict(X_te)"
   ]
  },
  {
   "cell_type": "code",
   "execution_count": null,
   "metadata": {
    "colab": {
     "base_uri": "https://localhost:8080/",
     "height": 35
    },
    "colab_type": "code",
    "id": "IVdPIxrzEMoC",
    "outputId": "8903dddd-a4ea-442f-903a-63886f5d0ebb"
   },
   "outputs": [],
   "source": [
    "r2_score(y_te,np.exp(lr_pred))"
   ]
  },
  {
   "cell_type": "code",
   "execution_count": null,
   "metadata": {
    "colab": {
     "base_uri": "https://localhost:8080/",
     "height": 35
    },
    "colab_type": "code",
    "id": "opzrKU8LE5DR",
    "outputId": "edb0a10b-1b2d-4e22-d505-62e229686667"
   },
   "outputs": [],
   "source": [
    "mean_absolute_error(y_te,np.exp(lr_pred))"
   ]
  },
  {
   "cell_type": "code",
   "execution_count": null,
   "metadata": {
    "colab": {},
    "colab_type": "code",
    "id": "j_GvTd2E6E4j"
   },
   "outputs": [],
   "source": [
    "from cuml import Ridge\n",
    "from sklearn.model_selection import KFold"
   ]
  },
  {
   "cell_type": "code",
   "execution_count": null,
   "metadata": {
    "colab": {},
    "colab_type": "code",
    "id": "BP1pxaQ18arp"
   },
   "outputs": [],
   "source": [
    "record_store_ridge_pipe = Pipeline([\n",
    "    ('running_time_imputer',RunningTimeImputer('running_time','number_of_tracks')),\n",
    "    ('leave_one_out_encoding', LeaveOneOutEncoder(cols=['artist','label'])),\n",
    "    ('record_store_column_remover', ColumnRemover(record_store_lr_removal_columns)),\n",
    "    ('preprocessing',record_store_lr_transformer),\n",
    "    ('scaler', StandardScaler()),\n",
    "    ('ridge', GridSearchCV(\n",
    "        Ridge(normalize=False,solver='eig'),\n",
    "        param_grid={\n",
    "            'alpha': np.linspace(200,300,50),\n",
    "        },\n",
    "        cv=KFold(n_splits=5,shuffle=True),\n",
    "        scoring='neg_mean_absolute_error',\n",
    "        verbose=5,\n",
    "        n_jobs=-1\n",
    "    ))\n",
    "])"
   ]
  },
  {
   "cell_type": "code",
   "execution_count": null,
   "metadata": {
    "colab": {
     "base_uri": "https://localhost:8080/",
     "height": 557
    },
    "colab_type": "code",
    "id": "edNLg2KryH4q",
    "outputId": "9256aa23-c40f-482e-fce2-0d839b0fcadf"
   },
   "outputs": [],
   "source": [
    "record_store_ridge_pipe.fit(X_tr,np.log(y_tr).values)"
   ]
  },
  {
   "cell_type": "code",
   "execution_count": null,
   "metadata": {
    "colab": {
     "base_uri": "https://localhost:8080/",
     "height": 35
    },
    "colab_type": "code",
    "id": "cbV-3Q9A0-hi",
    "outputId": "0b006856-e9e7-4620-a61c-3558dfd3556b"
   },
   "outputs": [],
   "source": [
    "record_store_ridge_pipe['ridge'].best_params_"
   ]
  },
  {
   "cell_type": "code",
   "execution_count": null,
   "metadata": {
    "colab": {
     "base_uri": "https://localhost:8080/",
     "height": 73
    },
    "colab_type": "code",
    "id": "db1qMG0e8ar7",
    "outputId": "2eadf890-37e2-49bc-8e2c-c848933f386c"
   },
   "outputs": [],
   "source": [
    "ridge_pred = record_store_ridge_pipe.predict(X_te)"
   ]
  },
  {
   "cell_type": "code",
   "execution_count": null,
   "metadata": {
    "colab": {
     "base_uri": "https://localhost:8080/",
     "height": 35
    },
    "colab_type": "code",
    "id": "GsQHxrUE8ar-",
    "outputId": "19456eee-e448-4f17-f100-ab9d479de3dc"
   },
   "outputs": [],
   "source": [
    "r2_score(y_te,np.exp(ridge_pred))"
   ]
  },
  {
   "cell_type": "code",
   "execution_count": null,
   "metadata": {
    "colab": {
     "base_uri": "https://localhost:8080/",
     "height": 35
    },
    "colab_type": "code",
    "id": "9oKBWYEo8asD",
    "outputId": "a0349b78-dc9f-4935-9c72-320de9f60f46"
   },
   "outputs": [],
   "source": [
    "mean_absolute_error(y_te,np.exp(ridge_pred))"
   ]
  },
  {
   "cell_type": "markdown",
   "metadata": {
    "colab_type": "text",
    "id": "fbreYK1X8asG"
   },
   "source": [
    "## Random Forest"
   ]
  },
  {
   "cell_type": "code",
   "execution_count": null,
   "metadata": {
    "colab": {},
    "colab_type": "code",
    "id": "LhB3GBom8asH"
   },
   "outputs": [],
   "source": [
    "from sklearn.ensemble import RandomForestRegressor"
   ]
  },
  {
   "cell_type": "code",
   "execution_count": null,
   "metadata": {
    "colab": {},
    "colab_type": "code",
    "id": "9dVL-1Mj8asL"
   },
   "outputs": [],
   "source": [
    "random_forest_param_grid = {\n",
    "    'n_trees': np.linspace(50,350,50),\n",
    "    'max_depth': np.linspace(10,30,5)\n",
    "}"
   ]
  },
  {
   "cell_type": "code",
   "execution_count": null,
   "metadata": {
    "colab": {},
    "colab_type": "code",
    "id": "McTksN6VGPnv"
   },
   "outputs": [],
   "source": [
    "record_store_random_forest_removal_columns = [\n",
    "    'market_price','units_for_sale','have','want','average_rating','rating_count','last_sold','lowest','median',\n",
    "    'highest','track_titles','country','genre','style','community_have','community_want','formats','master_id','thumb_url',\n",
    "    'release_url','format_description','format_text','days_since_last_sale','title','format_name'\n",
    "    ]"
   ]
  },
  {
   "cell_type": "code",
   "execution_count": null,
   "metadata": {
    "colab": {},
    "colab_type": "code",
    "id": "BdOny98iD7cc"
   },
   "outputs": [],
   "source": [
    "record_store_random_forest_transformer = ColumnTransformer([\n",
    "    ('dim_reduce_country',UMAP(n_components=10),list(column_store._country)),\n",
    "    ('dim_reduce_genre', UMAP(n_components=5, list(column_store._genre))),\n",
    "    ('dim_reduce_style', UMAP(n_components=10,list(column_store._style))),\n",
    "    ('dim_reduce_format_description',UMAP(n_components=10, list(column_store._format_description)))\n",
    "])"
   ]
  },
  {
   "cell_type": "code",
   "execution_count": null,
   "metadata": {
    "colab": {},
    "colab_type": "code",
    "id": "ZPepolAxMUxj"
   },
   "outputs": [],
   "source": [
    "from cuml import RandomForestRegressor"
   ]
  },
  {
   "cell_type": "code",
   "execution_count": null,
   "metadata": {
    "colab": {},
    "colab_type": "code",
    "id": "BPf-IJfD8asO"
   },
   "outputs": [],
   "source": [
    "random_forest_pipe = Pipeline([\n",
    "    ('running_time_imputer',RunningTimeImputer('running_time','number_of_tracks')),\n",
    "    ('leave_one_out_encoding', LeaveOneOutEncoder(cols=['artist','label'])),\n",
    "    ('record_store_column_remover', ColumnRemover(record_store_random_forest_removal_columns)),\n",
    "    #('preprocessing',record_store_lr_transformer),\n",
    "    ('scaler', StandardScaler()),\n",
    "    ('random_forest', GridSearchCV(\n",
    "        RandomForestRegressor(),\n",
    "        cv=KFold(n_splits=5,shuffle=True),\n",
    "        param_grid={\n",
    "            'max_depth': [20]\n",
    "        },\n",
    "        verbose=50,\n",
    "        scoring='neg_mean_absolute_error',\n",
    "        n_jobs=-1,\n",
    "    ))\n",
    "])"
   ]
  },
  {
   "cell_type": "code",
   "execution_count": null,
   "metadata": {
    "colab": {
     "base_uri": "https://localhost:8080/",
     "height": 390
    },
    "colab_type": "code",
    "id": "l97EbEPB8asR",
    "outputId": "8e55e040-76a7-4c5d-ad41-2458cf8ddaea"
   },
   "outputs": [],
   "source": [
    "random_forest_pipe.fit(X_tr,np.log(y_tr).values)"
   ]
  },
  {
   "cell_type": "code",
   "execution_count": null,
   "metadata": {
    "colab": {},
    "colab_type": "code",
    "id": "wqQrJ2owL4PU"
   },
   "outputs": [],
   "source": []
  },
  {
   "cell_type": "markdown",
   "metadata": {
    "colab_type": "text",
    "id": "W7-xIW1A8asV"
   },
   "source": [
    "## Extremely Randomized Trees"
   ]
  },
  {
   "cell_type": "code",
   "execution_count": null,
   "metadata": {
    "colab": {},
    "colab_type": "code",
    "id": "ozYYRPYM8asW"
   },
   "outputs": [],
   "source": [
    "from sklearn.ensemble import ExtraTreesRegressor"
   ]
  },
  {
   "cell_type": "code",
   "execution_count": null,
   "metadata": {
    "colab": {},
    "colab_type": "code",
    "id": "jW0WICIt8asa"
   },
   "outputs": [],
   "source": [
    "extra_trees_pipe = Pipeline([\n",
    "    ('running_time_imputer',RunningTimeImputer('running_time','number_of_tracks')),\n",
    "    ('leave_one_out_encoding', LeaveOneOutEncoder(cols=['artist_clean','label_clean'])),\n",
    "    ('record_store_column_remover', ColumnRemover(record_store_ridge_removal_columns)),\n",
    "    ('preprocessing',record_store_transformer),\n",
    "    ('scaler', StandardScaler()),\n",
    "    ('random_forest', GridSearchCV(\n",
    "        ExtraTreesRegressor(\n",
    "            random_state=0,\n",
    "            n_jobs=4,\n",
    "            verbose=50\n",
    "        ),\n",
    "        param_grid=random_forest_param_grid,\n",
    "        verbose=50\n",
    "    ))\n",
    "])"
   ]
  },
  {
   "cell_type": "code",
   "execution_count": null,
   "metadata": {
    "colab": {},
    "colab_type": "code",
    "id": "vqJ7R97E8asd"
   },
   "outputs": [],
   "source": [
    "extra_trees_pipe.fit(X_tr,np.log(y_tr))"
   ]
  },
  {
   "cell_type": "markdown",
   "metadata": {
    "colab_type": "text",
    "id": "wcM8J6K68asg"
   },
   "source": [
    "## Catboost"
   ]
  },
  {
   "cell_type": "code",
   "execution_count": null,
   "metadata": {
    "colab": {},
    "colab_type": "code",
    "id": "CdbAdWVW8ash"
   },
   "outputs": [],
   "source": [
    "from catboost import CatBoostRegressor"
   ]
  },
  {
   "cell_type": "code",
   "execution_count": null,
   "metadata": {
    "colab": {},
    "colab_type": "code",
    "id": "OjIxG4pI8asl"
   },
   "outputs": [],
   "source": [
    "record_store_catboost_removal_columns = (\n",
    "    'market_price','units_for_sale','have','want','average_rating','rating_count','last_sold','lowest','median',\n",
    "    'highest','track_titles','community_have','community_want','formats','master_id','thumb_url',\n",
    "    'release_url','artist','title','format_description','format_text_clean', 'no_of_days_since_last_sale'\n",
    ")\n"
   ]
  },
  {
   "cell_type": "code",
   "execution_count": null,
   "metadata": {
    "colab": {},
    "colab_type": "code",
    "id": "eyqIBpe88aso"
   },
   "outputs": [],
   "source": [
    "catboost_param_grid = {\n",
    "        'depth': [4,7,10],\n",
    "        'learning_rate' : np.logspace(-4,-1,5),\n",
    "        'l2_leaf_reg': [1,4,9],\n",
    "        'iterations': [100,300,500]\n",
    "}"
   ]
  },
  {
   "cell_type": "code",
   "execution_count": null,
   "metadata": {
    "colab": {},
    "colab_type": "code",
    "id": "VCaEIJW18asr"
   },
   "outputs": [],
   "source": [
    "catboost_pipe = Pipeline([\n",
    "    ('running_time_imputer',RunningTimeImputer('running_time','number_of_tracks')),\n",
    "    ('leave_one_out_encoding', LeaveOneOutEncoder(cols=['artist_clean','label_clean'])),\n",
    "    ('record_store_column_remover', ColumnRemover(record_store_catboost_removal_columns)),\n",
    "    ('scaler', StandardScaler()),\n",
    "    ('grid_search', GridSearchCV(\n",
    "        CatBoostRegressor(\n",
    "            random_state=0,\n",
    "            cat_features=['year','format_text']),\n",
    "        param_grid=catboost_param_grid,verbose=5)\n",
    "    )\n",
    "])"
   ]
  },
  {
   "cell_type": "code",
   "execution_count": null,
   "metadata": {
    "colab": {},
    "colab_type": "code",
    "id": "MQW9Ojz08asu"
   },
   "outputs": [],
   "source": [
    "catboost_pipe.fit(X_tr,np.log(y_tr))"
   ]
  },
  {
   "cell_type": "code",
   "execution_count": null,
   "metadata": {
    "colab": {},
    "colab_type": "code",
    "id": "QtP6T-Ir8asx"
   },
   "outputs": [],
   "source": []
  },
  {
   "cell_type": "code",
   "execution_count": null,
   "metadata": {
    "colab": {},
    "colab_type": "code",
    "id": "Ot0BfPu28as0"
   },
   "outputs": [],
   "source": []
  }
 ],
 "metadata": {
  "accelerator": "GPU",
  "colab": {
   "machine_shape": "hm",
   "name": "03-Modelling.ipynb",
   "provenance": [],
   "toc_visible": true
  },
  "kernelspec": {
   "display_name": "Python 3",
   "language": "python",
   "name": "python3"
  },
  "language_info": {
   "codemirror_mode": {
    "name": "ipython",
    "version": 3
   },
   "file_extension": ".py",
   "mimetype": "text/x-python",
   "name": "python",
   "nbconvert_exporter": "python",
   "pygments_lexer": "ipython3",
   "version": "3.6.10"
  },
  "widgets": {
   "application/vnd.jupyter.widget-state+json": {
    "0ac4a68f9d3c46e389d838a566e91018": {
     "model_module": "@jupyter-widgets/base",
     "model_name": "LayoutModel",
     "state": {
      "_model_module": "@jupyter-widgets/base",
      "_model_module_version": "1.2.0",
      "_model_name": "LayoutModel",
      "_view_count": null,
      "_view_module": "@jupyter-widgets/base",
      "_view_module_version": "1.2.0",
      "_view_name": "LayoutView",
      "align_content": null,
      "align_items": null,
      "align_self": null,
      "border": null,
      "bottom": null,
      "display": null,
      "flex": null,
      "flex_flow": null,
      "grid_area": null,
      "grid_auto_columns": null,
      "grid_auto_flow": null,
      "grid_auto_rows": null,
      "grid_column": null,
      "grid_gap": null,
      "grid_row": null,
      "grid_template_areas": null,
      "grid_template_columns": null,
      "grid_template_rows": null,
      "height": null,
      "justify_content": null,
      "justify_items": null,
      "left": null,
      "margin": null,
      "max_height": null,
      "max_width": null,
      "min_height": null,
      "min_width": null,
      "object_fit": null,
      "object_position": null,
      "order": null,
      "overflow": null,
      "overflow_x": null,
      "overflow_y": null,
      "padding": null,
      "right": null,
      "top": null,
      "visibility": null,
      "width": null
     }
    },
    "10439bec90dd43cfa2847edc70113c03": {
     "model_module": "@jupyter-widgets/controls",
     "model_name": "IntProgressModel",
     "state": {
      "_dom_classes": [],
      "_model_module": "@jupyter-widgets/controls",
      "_model_module_version": "1.5.0",
      "_model_name": "IntProgressModel",
      "_view_count": null,
      "_view_module": "@jupyter-widgets/controls",
      "_view_module_version": "1.5.0",
      "_view_name": "ProgressView",
      "bar_style": "success",
      "description": "",
      "description_tooltip": null,
      "layout": "IPY_MODEL_93b01a67c3244d2a944e2443146c828b",
      "max": 1,
      "min": 0,
      "orientation": "horizontal",
      "style": "IPY_MODEL_aef0c7eccbab43ddbb81fdc2059867f7",
      "value": 1
     }
    },
    "2452254f939f4f538da957be91dbedb0": {
     "model_module": "@jupyter-widgets/controls",
     "model_name": "ProgressStyleModel",
     "state": {
      "_model_module": "@jupyter-widgets/controls",
      "_model_module_version": "1.5.0",
      "_model_name": "ProgressStyleModel",
      "_view_count": null,
      "_view_module": "@jupyter-widgets/base",
      "_view_module_version": "1.2.0",
      "_view_name": "StyleView",
      "bar_color": null,
      "description_width": "initial"
     }
    },
    "28d6a7d8ffa247c88783811435161176": {
     "model_module": "@jupyter-widgets/controls",
     "model_name": "DescriptionStyleModel",
     "state": {
      "_model_module": "@jupyter-widgets/controls",
      "_model_module_version": "1.5.0",
      "_model_name": "DescriptionStyleModel",
      "_view_count": null,
      "_view_module": "@jupyter-widgets/base",
      "_view_module_version": "1.2.0",
      "_view_name": "StyleView",
      "description_width": ""
     }
    },
    "31a7f3bb654843ffbcae806297385289": {
     "model_module": "@jupyter-widgets/controls",
     "model_name": "HBoxModel",
     "state": {
      "_dom_classes": [],
      "_model_module": "@jupyter-widgets/controls",
      "_model_module_version": "1.5.0",
      "_model_name": "HBoxModel",
      "_view_count": null,
      "_view_module": "@jupyter-widgets/controls",
      "_view_module_version": "1.5.0",
      "_view_name": "HBoxView",
      "box_style": "",
      "children": [
       "IPY_MODEL_10439bec90dd43cfa2847edc70113c03",
       "IPY_MODEL_bce8d996f0934fcca4aa897c427c2797"
      ],
      "layout": "IPY_MODEL_86bcbf4de6ca4f7d9b2f3bd12a8e98b6"
     }
    },
    "39e5e14a5f4d4c1e88cb561943df45d5": {
     "model_module": "@jupyter-widgets/controls",
     "model_name": "HTMLModel",
     "state": {
      "_dom_classes": [],
      "_model_module": "@jupyter-widgets/controls",
      "_model_module_version": "1.5.0",
      "_model_name": "HTMLModel",
      "_view_count": null,
      "_view_module": "@jupyter-widgets/controls",
      "_view_module_version": "1.5.0",
      "_view_name": "HTMLView",
      "description": "",
      "description_tooltip": null,
      "layout": "IPY_MODEL_4ddf9e5485174ca786b4b3d7ff1ce23e",
      "placeholder": "​",
      "style": "IPY_MODEL_c378a812dbe6421e87842a972e2b3667",
      "value": " 8/8 [08:36&lt;00:00, 64.54s/it]"
     }
    },
    "3c0bd405c7ee4992826294be08811d22": {
     "model_module": "@jupyter-widgets/base",
     "model_name": "LayoutModel",
     "state": {
      "_model_module": "@jupyter-widgets/base",
      "_model_module_version": "1.2.0",
      "_model_name": "LayoutModel",
      "_view_count": null,
      "_view_module": "@jupyter-widgets/base",
      "_view_module_version": "1.2.0",
      "_view_name": "LayoutView",
      "align_content": null,
      "align_items": null,
      "align_self": null,
      "border": null,
      "bottom": null,
      "display": null,
      "flex": null,
      "flex_flow": null,
      "grid_area": null,
      "grid_auto_columns": null,
      "grid_auto_flow": null,
      "grid_auto_rows": null,
      "grid_column": null,
      "grid_gap": null,
      "grid_row": null,
      "grid_template_areas": null,
      "grid_template_columns": null,
      "grid_template_rows": null,
      "height": null,
      "justify_content": null,
      "justify_items": null,
      "left": null,
      "margin": null,
      "max_height": null,
      "max_width": null,
      "min_height": null,
      "min_width": null,
      "object_fit": null,
      "object_position": null,
      "order": null,
      "overflow": null,
      "overflow_x": null,
      "overflow_y": null,
      "padding": null,
      "right": null,
      "top": null,
      "visibility": null,
      "width": null
     }
    },
    "4ddf9e5485174ca786b4b3d7ff1ce23e": {
     "model_module": "@jupyter-widgets/base",
     "model_name": "LayoutModel",
     "state": {
      "_model_module": "@jupyter-widgets/base",
      "_model_module_version": "1.2.0",
      "_model_name": "LayoutModel",
      "_view_count": null,
      "_view_module": "@jupyter-widgets/base",
      "_view_module_version": "1.2.0",
      "_view_name": "LayoutView",
      "align_content": null,
      "align_items": null,
      "align_self": null,
      "border": null,
      "bottom": null,
      "display": null,
      "flex": null,
      "flex_flow": null,
      "grid_area": null,
      "grid_auto_columns": null,
      "grid_auto_flow": null,
      "grid_auto_rows": null,
      "grid_column": null,
      "grid_gap": null,
      "grid_row": null,
      "grid_template_areas": null,
      "grid_template_columns": null,
      "grid_template_rows": null,
      "height": null,
      "justify_content": null,
      "justify_items": null,
      "left": null,
      "margin": null,
      "max_height": null,
      "max_width": null,
      "min_height": null,
      "min_width": null,
      "object_fit": null,
      "object_position": null,
      "order": null,
      "overflow": null,
      "overflow_x": null,
      "overflow_y": null,
      "padding": null,
      "right": null,
      "top": null,
      "visibility": null,
      "width": null
     }
    },
    "50cad978fe4f4445be2002f444c1d4b4": {
     "model_module": "@jupyter-widgets/controls",
     "model_name": "IntProgressModel",
     "state": {
      "_dom_classes": [],
      "_model_module": "@jupyter-widgets/controls",
      "_model_module_version": "1.5.0",
      "_model_name": "IntProgressModel",
      "_view_count": null,
      "_view_module": "@jupyter-widgets/controls",
      "_view_module_version": "1.5.0",
      "_view_name": "ProgressView",
      "bar_style": "success",
      "description": "100%",
      "description_tooltip": null,
      "layout": "IPY_MODEL_3c0bd405c7ee4992826294be08811d22",
      "max": 8,
      "min": 0,
      "orientation": "horizontal",
      "style": "IPY_MODEL_2452254f939f4f538da957be91dbedb0",
      "value": 8
     }
    },
    "7aaaa1e7d0134515bd37e064d161f075": {
     "model_module": "@jupyter-widgets/controls",
     "model_name": "HBoxModel",
     "state": {
      "_dom_classes": [],
      "_model_module": "@jupyter-widgets/controls",
      "_model_module_version": "1.5.0",
      "_model_name": "HBoxModel",
      "_view_count": null,
      "_view_module": "@jupyter-widgets/controls",
      "_view_module_version": "1.5.0",
      "_view_name": "HBoxView",
      "box_style": "",
      "children": [
       "IPY_MODEL_50cad978fe4f4445be2002f444c1d4b4",
       "IPY_MODEL_39e5e14a5f4d4c1e88cb561943df45d5"
      ],
      "layout": "IPY_MODEL_0ac4a68f9d3c46e389d838a566e91018"
     }
    },
    "83a40c94917a4528905f888c5101c320": {
     "model_module": "@jupyter-widgets/base",
     "model_name": "LayoutModel",
     "state": {
      "_model_module": "@jupyter-widgets/base",
      "_model_module_version": "1.2.0",
      "_model_name": "LayoutModel",
      "_view_count": null,
      "_view_module": "@jupyter-widgets/base",
      "_view_module_version": "1.2.0",
      "_view_name": "LayoutView",
      "align_content": null,
      "align_items": null,
      "align_self": null,
      "border": null,
      "bottom": null,
      "display": null,
      "flex": null,
      "flex_flow": null,
      "grid_area": null,
      "grid_auto_columns": null,
      "grid_auto_flow": null,
      "grid_auto_rows": null,
      "grid_column": null,
      "grid_gap": null,
      "grid_row": null,
      "grid_template_areas": null,
      "grid_template_columns": null,
      "grid_template_rows": null,
      "height": null,
      "justify_content": null,
      "justify_items": null,
      "left": null,
      "margin": null,
      "max_height": null,
      "max_width": null,
      "min_height": null,
      "min_width": null,
      "object_fit": null,
      "object_position": null,
      "order": null,
      "overflow": null,
      "overflow_x": null,
      "overflow_y": null,
      "padding": null,
      "right": null,
      "top": null,
      "visibility": null,
      "width": null
     }
    },
    "86bcbf4de6ca4f7d9b2f3bd12a8e98b6": {
     "model_module": "@jupyter-widgets/base",
     "model_name": "LayoutModel",
     "state": {
      "_model_module": "@jupyter-widgets/base",
      "_model_module_version": "1.2.0",
      "_model_name": "LayoutModel",
      "_view_count": null,
      "_view_module": "@jupyter-widgets/base",
      "_view_module_version": "1.2.0",
      "_view_name": "LayoutView",
      "align_content": null,
      "align_items": null,
      "align_self": null,
      "border": null,
      "bottom": null,
      "display": null,
      "flex": null,
      "flex_flow": null,
      "grid_area": null,
      "grid_auto_columns": null,
      "grid_auto_flow": null,
      "grid_auto_rows": null,
      "grid_column": null,
      "grid_gap": null,
      "grid_row": null,
      "grid_template_areas": null,
      "grid_template_columns": null,
      "grid_template_rows": null,
      "height": null,
      "justify_content": null,
      "justify_items": null,
      "left": null,
      "margin": null,
      "max_height": null,
      "max_width": null,
      "min_height": null,
      "min_width": null,
      "object_fit": null,
      "object_position": null,
      "order": null,
      "overflow": null,
      "overflow_x": null,
      "overflow_y": null,
      "padding": null,
      "right": null,
      "top": null,
      "visibility": null,
      "width": null
     }
    },
    "93b01a67c3244d2a944e2443146c828b": {
     "model_module": "@jupyter-widgets/base",
     "model_name": "LayoutModel",
     "state": {
      "_model_module": "@jupyter-widgets/base",
      "_model_module_version": "1.2.0",
      "_model_name": "LayoutModel",
      "_view_count": null,
      "_view_module": "@jupyter-widgets/base",
      "_view_module_version": "1.2.0",
      "_view_name": "LayoutView",
      "align_content": null,
      "align_items": null,
      "align_self": null,
      "border": null,
      "bottom": null,
      "display": null,
      "flex": null,
      "flex_flow": null,
      "grid_area": null,
      "grid_auto_columns": null,
      "grid_auto_flow": null,
      "grid_auto_rows": null,
      "grid_column": null,
      "grid_gap": null,
      "grid_row": null,
      "grid_template_areas": null,
      "grid_template_columns": null,
      "grid_template_rows": null,
      "height": null,
      "justify_content": null,
      "justify_items": null,
      "left": null,
      "margin": null,
      "max_height": null,
      "max_width": null,
      "min_height": null,
      "min_width": null,
      "object_fit": null,
      "object_position": null,
      "order": null,
      "overflow": null,
      "overflow_x": null,
      "overflow_y": null,
      "padding": null,
      "right": null,
      "top": null,
      "visibility": null,
      "width": null
     }
    },
    "aef0c7eccbab43ddbb81fdc2059867f7": {
     "model_module": "@jupyter-widgets/controls",
     "model_name": "ProgressStyleModel",
     "state": {
      "_model_module": "@jupyter-widgets/controls",
      "_model_module_version": "1.5.0",
      "_model_name": "ProgressStyleModel",
      "_view_count": null,
      "_view_module": "@jupyter-widgets/base",
      "_view_module_version": "1.2.0",
      "_view_name": "StyleView",
      "bar_color": null,
      "description_width": "initial"
     }
    },
    "bce8d996f0934fcca4aa897c427c2797": {
     "model_module": "@jupyter-widgets/controls",
     "model_name": "HTMLModel",
     "state": {
      "_dom_classes": [],
      "_model_module": "@jupyter-widgets/controls",
      "_model_module_version": "1.5.0",
      "_model_name": "HTMLModel",
      "_view_count": null,
      "_view_module": "@jupyter-widgets/controls",
      "_view_module_version": "1.5.0",
      "_view_name": "HTMLView",
      "description": "",
      "description_tooltip": null,
      "layout": "IPY_MODEL_83a40c94917a4528905f888c5101c320",
      "placeholder": "​",
      "style": "IPY_MODEL_28d6a7d8ffa247c88783811435161176",
      "value": " 899112/? [11:36&lt;00:00, 1290.74it/s]"
     }
    },
    "c378a812dbe6421e87842a972e2b3667": {
     "model_module": "@jupyter-widgets/controls",
     "model_name": "DescriptionStyleModel",
     "state": {
      "_model_module": "@jupyter-widgets/controls",
      "_model_module_version": "1.5.0",
      "_model_name": "DescriptionStyleModel",
      "_view_count": null,
      "_view_module": "@jupyter-widgets/base",
      "_view_module_version": "1.2.0",
      "_view_name": "StyleView",
      "description_width": ""
     }
    }
   }
  }
 },
 "nbformat": 4,
 "nbformat_minor": 4
}
