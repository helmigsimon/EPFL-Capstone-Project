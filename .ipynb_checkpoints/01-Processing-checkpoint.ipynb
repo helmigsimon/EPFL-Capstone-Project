{
 "cells": [
  {
   "cell_type": "markdown",
   "metadata": {},
   "source": [
    "# Data Processing\n",
    "In this notebook, I will be loading the data necessary for this project, combining the data sources and performing initial data processing steps. I will also be performing some exploratory data analysis for the purposes of identifying missing values and outliers, which will then be followed up with the appropriate processing steps."
   ]
  },
  {
   "cell_type": "code",
   "execution_count": 1,
   "metadata": {},
   "outputs": [],
   "source": [
    "%load_ext autoreload\n",
    "%autoreload 2\n",
    "%matplotlib inline\n",
    "%config InlineBackend.figure_format = 'retina'\n",
    "import os\n",
    "import re\n",
    "import pandas as pd\n",
    "import pdpipe as pdp\n",
    "import numpy as np\n",
    "import matplotlib.pyplot as plt\n",
    "import seaborn as sns\n",
    "import pickle\n",
    "from functools import partial\n",
    "from tqdm import tqdm"
   ]
  },
  {
   "cell_type": "code",
   "execution_count": 24,
   "metadata": {},
   "outputs": [],
   "source": [
    "from data.util.paths import DATA_PATH\n",
    "from data.scripts.project_data import DataLoader\n",
    "from scripts.processing import load_geoscheme_df, get_country_region_superregion, get_country_to_dict_mapping, encode_country_column\n",
    "from data.util.environment_variables import COUNTRIES, SUPERREGIONS, REGIONS"
   ]
  },
  {
   "cell_type": "code",
   "execution_count": 3,
   "metadata": {},
   "outputs": [],
   "source": [
    "data_loader = DataLoader()\n",
    "api_df = data_loader.load_api_data()"
   ]
  },
  {
   "cell_type": "code",
   "execution_count": 4,
   "metadata": {},
   "outputs": [
    {
     "data": {
      "text/html": [
       "<div>\n",
       "<style scoped>\n",
       "    .dataframe tbody tr th:only-of-type {\n",
       "        vertical-align: middle;\n",
       "    }\n",
       "\n",
       "    .dataframe tbody tr th {\n",
       "        vertical-align: top;\n",
       "    }\n",
       "\n",
       "    .dataframe thead th {\n",
       "        text-align: right;\n",
       "    }\n",
       "</style>\n",
       "<table border=\"1\" class=\"dataframe\">\n",
       "  <thead>\n",
       "    <tr style=\"text-align: right;\">\n",
       "      <th></th>\n",
       "      <th>id</th>\n",
       "      <th>release_id</th>\n",
       "      <th>title</th>\n",
       "      <th>year</th>\n",
       "      <th>country</th>\n",
       "      <th>genre</th>\n",
       "      <th>style</th>\n",
       "      <th>label</th>\n",
       "      <th>community_have</th>\n",
       "      <th>community_want</th>\n",
       "      <th>formats</th>\n",
       "      <th>master_id</th>\n",
       "      <th>thumb_url</th>\n",
       "      <th>release_url</th>\n",
       "    </tr>\n",
       "  </thead>\n",
       "  <tbody>\n",
       "    <tr>\n",
       "      <th>0</th>\n",
       "      <td>1</td>\n",
       "      <td>11918321</td>\n",
       "      <td>Bing Crosby - Crosbyana</td>\n",
       "      <td>1934</td>\n",
       "      <td>Canada</td>\n",
       "      <td>b'\\x80\\x03]q\\x00(X\\x04\\x00\\x00\\x00Jazzq\\x01X\\x...</td>\n",
       "      <td>b'\\x80\\x03]q\\x00(X\\x08\\x00\\x00\\x00Big Bandq\\x0...</td>\n",
       "      <td>b'\\x80\\x03]q\\x00(X\\x05\\x00\\x00\\x00Deccaq\\x01X\\...</td>\n",
       "      <td>1</td>\n",
       "      <td>2</td>\n",
       "      <td>b'\\x80\\x03]q\\x00}q\\x01(X\\x03\\x00\\x00\\x00qtyq\\x...</td>\n",
       "      <td>1354381</td>\n",
       "      <td>https://img.discogs.com/J7vwmOhWMdUJ5vYuaYZvIj...</td>\n",
       "      <td>https://api.discogs.com/releases/11918321</td>\n",
       "    </tr>\n",
       "    <tr>\n",
       "      <th>1</th>\n",
       "      <td>2</td>\n",
       "      <td>10550056</td>\n",
       "      <td>Bing Crosby - Crosbyana</td>\n",
       "      <td>1934</td>\n",
       "      <td>US</td>\n",
       "      <td>b'\\x80\\x03]q\\x00(X\\x04\\x00\\x00\\x00Jazzq\\x01X\\x...</td>\n",
       "      <td>b'\\x80\\x03]q\\x00(X\\x08\\x00\\x00\\x00Big Bandq\\x0...</td>\n",
       "      <td>b'\\x80\\x03]q\\x00X\\x05\\x00\\x00\\x00Deccaq\\x01a.'</td>\n",
       "      <td>4</td>\n",
       "      <td>4</td>\n",
       "      <td>b'\\x80\\x03]q\\x00}q\\x01(X\\x03\\x00\\x00\\x00qtyq\\x...</td>\n",
       "      <td>1354381</td>\n",
       "      <td>https://img.discogs.com/aLpqYUso3yY53XDHwiqqB-...</td>\n",
       "      <td>https://api.discogs.com/releases/10550056</td>\n",
       "    </tr>\n",
       "    <tr>\n",
       "      <th>2</th>\n",
       "      <td>3</td>\n",
       "      <td>6910984</td>\n",
       "      <td>Tommy Dorsey And His Clambake Seven - Tommy Do...</td>\n",
       "      <td>1935</td>\n",
       "      <td>US</td>\n",
       "      <td>b'\\x80\\x03]q\\x00X\\x04\\x00\\x00\\x00Jazzq\\x01a.'</td>\n",
       "      <td>b'\\x80\\x03]q\\x00X\\x05\\x00\\x00\\x00Swingq\\x01a.'</td>\n",
       "      <td>b'\\x80\\x03]q\\x00(X\\r\\x00\\x00\\x00Swing Classicq...</td>\n",
       "      <td>4</td>\n",
       "      <td>2</td>\n",
       "      <td>b'\\x80\\x03]q\\x00}q\\x01(X\\x0c\\x00\\x00\\x00descri...</td>\n",
       "      <td>0</td>\n",
       "      <td>https://img.discogs.com/FkuaZ7cqdBt5-TvS2ck0hP...</td>\n",
       "      <td>https://api.discogs.com/releases/6910984</td>\n",
       "    </tr>\n",
       "    <tr>\n",
       "      <th>3</th>\n",
       "      <td>4</td>\n",
       "      <td>12959431</td>\n",
       "      <td>Paul Whiteman And His Orchestra, Bix Beiderbec...</td>\n",
       "      <td>1936</td>\n",
       "      <td>US</td>\n",
       "      <td>b'\\x80\\x03]q\\x00X\\x04\\x00\\x00\\x00Jazzq\\x01a.'</td>\n",
       "      <td>b'\\x80\\x03]q\\x00X\\x05\\x00\\x00\\x00Swingq\\x01a.'</td>\n",
       "      <td>b'\\x80\\x03]q\\x00X\\x06\\x00\\x00\\x00Victorq\\x01a.'</td>\n",
       "      <td>3</td>\n",
       "      <td>3</td>\n",
       "      <td>b'\\x80\\x03]q\\x00}q\\x01(X\\x0c\\x00\\x00\\x00descri...</td>\n",
       "      <td>0</td>\n",
       "      <td>https://img.discogs.com/Wg31rg_x6TtOMz-jIDC-3l...</td>\n",
       "      <td>https://api.discogs.com/releases/12959431</td>\n",
       "    </tr>\n",
       "    <tr>\n",
       "      <th>4</th>\n",
       "      <td>5</td>\n",
       "      <td>4453491</td>\n",
       "      <td>Jimmie Lunceford And His Orchestra - For Dance...</td>\n",
       "      <td>1937</td>\n",
       "      <td>Canada</td>\n",
       "      <td>b'\\x80\\x03]q\\x00X\\x04\\x00\\x00\\x00Jazzq\\x01a.'</td>\n",
       "      <td>b'\\x80\\x03]q\\x00.'</td>\n",
       "      <td>b'\\x80\\x03]q\\x00(X\\x05\\x00\\x00\\x00Deccaq\\x01X\\...</td>\n",
       "      <td>5</td>\n",
       "      <td>2</td>\n",
       "      <td>b'\\x80\\x03]q\\x00}q\\x01(X\\x0c\\x00\\x00\\x00descri...</td>\n",
       "      <td>1519538</td>\n",
       "      <td></td>\n",
       "      <td>https://api.discogs.com/releases/4453491</td>\n",
       "    </tr>\n",
       "  </tbody>\n",
       "</table>\n",
       "</div>"
      ],
      "text/plain": [
       "   id  release_id                                              title  year  \\\n",
       "0   1    11918321                            Bing Crosby - Crosbyana  1934   \n",
       "1   2    10550056                            Bing Crosby - Crosbyana  1934   \n",
       "2   3     6910984  Tommy Dorsey And His Clambake Seven - Tommy Do...  1935   \n",
       "3   4    12959431  Paul Whiteman And His Orchestra, Bix Beiderbec...  1936   \n",
       "4   5     4453491  Jimmie Lunceford And His Orchestra - For Dance...  1937   \n",
       "\n",
       "  country                                              genre  \\\n",
       "0  Canada  b'\\x80\\x03]q\\x00(X\\x04\\x00\\x00\\x00Jazzq\\x01X\\x...   \n",
       "1      US  b'\\x80\\x03]q\\x00(X\\x04\\x00\\x00\\x00Jazzq\\x01X\\x...   \n",
       "2      US      b'\\x80\\x03]q\\x00X\\x04\\x00\\x00\\x00Jazzq\\x01a.'   \n",
       "3      US      b'\\x80\\x03]q\\x00X\\x04\\x00\\x00\\x00Jazzq\\x01a.'   \n",
       "4  Canada      b'\\x80\\x03]q\\x00X\\x04\\x00\\x00\\x00Jazzq\\x01a.'   \n",
       "\n",
       "                                               style  \\\n",
       "0  b'\\x80\\x03]q\\x00(X\\x08\\x00\\x00\\x00Big Bandq\\x0...   \n",
       "1  b'\\x80\\x03]q\\x00(X\\x08\\x00\\x00\\x00Big Bandq\\x0...   \n",
       "2     b'\\x80\\x03]q\\x00X\\x05\\x00\\x00\\x00Swingq\\x01a.'   \n",
       "3     b'\\x80\\x03]q\\x00X\\x05\\x00\\x00\\x00Swingq\\x01a.'   \n",
       "4                                 b'\\x80\\x03]q\\x00.'   \n",
       "\n",
       "                                               label  community_have  \\\n",
       "0  b'\\x80\\x03]q\\x00(X\\x05\\x00\\x00\\x00Deccaq\\x01X\\...               1   \n",
       "1     b'\\x80\\x03]q\\x00X\\x05\\x00\\x00\\x00Deccaq\\x01a.'               4   \n",
       "2  b'\\x80\\x03]q\\x00(X\\r\\x00\\x00\\x00Swing Classicq...               4   \n",
       "3    b'\\x80\\x03]q\\x00X\\x06\\x00\\x00\\x00Victorq\\x01a.'               3   \n",
       "4  b'\\x80\\x03]q\\x00(X\\x05\\x00\\x00\\x00Deccaq\\x01X\\...               5   \n",
       "\n",
       "   community_want                                            formats  \\\n",
       "0               2  b'\\x80\\x03]q\\x00}q\\x01(X\\x03\\x00\\x00\\x00qtyq\\x...   \n",
       "1               4  b'\\x80\\x03]q\\x00}q\\x01(X\\x03\\x00\\x00\\x00qtyq\\x...   \n",
       "2               2  b'\\x80\\x03]q\\x00}q\\x01(X\\x0c\\x00\\x00\\x00descri...   \n",
       "3               3  b'\\x80\\x03]q\\x00}q\\x01(X\\x0c\\x00\\x00\\x00descri...   \n",
       "4               2  b'\\x80\\x03]q\\x00}q\\x01(X\\x0c\\x00\\x00\\x00descri...   \n",
       "\n",
       "   master_id                                          thumb_url  \\\n",
       "0    1354381  https://img.discogs.com/J7vwmOhWMdUJ5vYuaYZvIj...   \n",
       "1    1354381  https://img.discogs.com/aLpqYUso3yY53XDHwiqqB-...   \n",
       "2          0  https://img.discogs.com/FkuaZ7cqdBt5-TvS2ck0hP...   \n",
       "3          0  https://img.discogs.com/Wg31rg_x6TtOMz-jIDC-3l...   \n",
       "4    1519538                                                      \n",
       "\n",
       "                                 release_url  \n",
       "0  https://api.discogs.com/releases/11918321  \n",
       "1  https://api.discogs.com/releases/10550056  \n",
       "2   https://api.discogs.com/releases/6910984  \n",
       "3  https://api.discogs.com/releases/12959431  \n",
       "4   https://api.discogs.com/releases/4453491  "
      ]
     },
     "execution_count": 4,
     "metadata": {},
     "output_type": "execute_result"
    }
   ],
   "source": [
    "api_df.head()"
   ]
  },
  {
   "cell_type": "code",
   "execution_count": 5,
   "metadata": {},
   "outputs": [],
   "source": [
    "api_df = pd.concat([api_df,api_df['title'].str.split(' - ',n=1,expand=True)],axis=1)"
   ]
  },
  {
   "cell_type": "code",
   "execution_count": 6,
   "metadata": {},
   "outputs": [],
   "source": [
    "geoscheme_df = load_geoscheme_df()\n",
    "country_region_continent = partial(get_country_region_superregion,geoscheme_df)"
   ]
  },
  {
   "cell_type": "code",
   "execution_count": 7,
   "metadata": {},
   "outputs": [],
   "source": [
    "country_to_dict_mapping = get_country_to_dict_mapping()"
   ]
  },
  {
   "cell_type": "code",
   "execution_count": 8,
   "metadata": {},
   "outputs": [],
   "source": [
    "pipeline_1 = pdp.DropDuplicates('release_id')\n",
    "pipeline_1 += pdp.ColDrop(['title','id'])\n",
    "pipeline_1 += pdp.ColRename({0: 'artist', 1: 'title'})\n",
    "pipeline_1 += pdp.ApplyByCols(['genre','style','label','formats'],pickle.loads)\n",
    "pipeline_1 += pdp.MapColVals('country',country_to_dict_mapping)\n",
    "pipeline_1 += pdp.AdHocStage(pd.DataFrame.rese_index(drop=True,inplace=True))"
   ]
  },
  {
   "cell_type": "code",
   "execution_count": 10,
   "metadata": {},
   "outputs": [],
   "source": [
    "api_df = pipeline_1.apply(api_df)\n",
    "#api_df.reset_index(drop=True,inplace=True)"
   ]
  },
  {
   "cell_type": "code",
   "execution_count": 30,
   "metadata": {},
   "outputs": [
    {
     "name": "stderr",
     "output_type": "stream",
     "text": [
      "100%|██████████| 29/29 [00:00<00:00, 97.09it/s]\n"
     ]
    }
   ],
   "source": [
    "encoded_country_df = encode_country_column(api_df['country'])"
   ]
  },
  {
   "cell_type": "code",
   "execution_count": null,
   "metadata": {},
   "outputs": [],
   "source": [
    "api_df = pd.concat([\n",
    "    api_df.drop('country',axis=1,inplace=True),\n",
    "    encoded_country_df],axis=1\n",
    ")"
   ]
  },
  {
   "cell_type": "markdown",
   "metadata": {},
   "source": [
    "## Test Data Specific Transformations\n",
    "- Any imputations "
   ]
  },
  {
   "cell_type": "code",
   "execution_count": null,
   "metadata": {},
   "outputs": [],
   "source": []
  },
  {
   "cell_type": "code",
   "execution_count": null,
   "metadata": {},
   "outputs": [],
   "source": []
  },
  {
   "cell_type": "code",
   "execution_count": null,
   "metadata": {},
   "outputs": [],
   "source": []
  }
 ],
 "metadata": {
  "kernelspec": {
   "display_name": "Python 3",
   "language": "python",
   "name": "python3"
  },
  "language_info": {
   "codemirror_mode": {
    "name": "ipython",
    "version": 3
   },
   "file_extension": ".py",
   "mimetype": "text/x-python",
   "name": "python",
   "nbconvert_exporter": "python",
   "pygments_lexer": "ipython3",
   "version": "3.6.10"
  }
 },
 "nbformat": 4,
 "nbformat_minor": 4
}
