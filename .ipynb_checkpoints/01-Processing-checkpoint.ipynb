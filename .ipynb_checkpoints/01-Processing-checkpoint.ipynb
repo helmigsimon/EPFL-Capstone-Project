{
 "cells": [
  {
   "cell_type": "markdown",
   "metadata": {},
   "source": [
    "# Data Processing\n",
    "In this notebook, I will be loading the data necessary for this project, combining the data sources and performing initial data processing steps. I will also be performing some exploratory data analysis for the purposes of identifying missing values and outliers, which will then be followed up with the appropriate processing steps."
   ]
  },
  {
   "cell_type": "code",
   "execution_count": 1,
   "metadata": {},
   "outputs": [],
   "source": [
    "%load_ext autoreload\n",
    "%autoreload 2\n",
    "import nltk\n",
    "import numpy as np\n",
    "import os\n",
    "import pandas as pd\n",
    "import pdpipe as pdp\n",
    "import pickle\n",
    "import random\n",
    "import re\n",
    "import string\n",
    "from collections import Counter\n",
    "from functools import partial\n",
    "from sklearn.feature_extraction.text import TfidfVectorizer\n",
    "from tqdm import tqdm\n",
    "tqdm.pandas()"
   ]
  },
  {
   "cell_type": "code",
   "execution_count": 2,
   "metadata": {},
   "outputs": [],
   "source": [
    "from data.util.paths import DATA_PATH\n",
    "from data.scripts.project_data import DataLoader\n",
    "from data.util.environment_variables import COUNTRIES, SUPERREGIONS, REGIONS\n",
    "\n",
    "from lib.processing import load_geoscheme_df, get_country_to_dict_mapping, encode_country_column, encode_genre_column, encode_style_column,clean_artist_column, clean_label_column, save_to_pkl, load_from_pkl, artist_ngrams, cossine_similarity, get_matches_df, label_ngrams, get_cosine_similarity_matches, get_ngrams, create_match_lookup, clean_format_text, make_market_value_col,make_format_description_column, make_format_name_column, make_format_quantity_column, make_format_text_column, expand_format_description_column, match_track_titles_to_standards "
   ]
  },
  {
   "cell_type": "markdown",
   "metadata": {},
   "source": [
    "# Extracted Data\n",
    "## Loading and Cleaning"
   ]
  },
  {
   "cell_type": "code",
   "execution_count": 3,
   "metadata": {},
   "outputs": [],
   "source": [
    "data_loader = DataLoader()"
   ]
  },
  {
   "cell_type": "code",
   "execution_count": 4,
   "metadata": {},
   "outputs": [],
   "source": [
    "extracted_data = data_loader.load_extracted_data()"
   ]
  },
  {
   "cell_type": "code",
   "execution_count": 5,
   "metadata": {},
   "outputs": [],
   "source": [
    "extracted_data.head()\n",
    "extracted_data.drop_duplicates('release_id',inplace=True)"
   ]
  },
  {
   "cell_type": "code",
   "execution_count": 6,
   "metadata": {},
   "outputs": [],
   "source": [
    "extracted_data['market_value'] = make_market_value_col(extracted_data['median'],extracted_data['market_price'])"
   ]
  },
  {
   "cell_type": "code",
   "execution_count": 7,
   "metadata": {},
   "outputs": [],
   "source": [
    "extracted_data.drop('id',inplace=True,axis=1)"
   ]
  },
  {
   "cell_type": "code",
   "execution_count": 8,
   "metadata": {},
   "outputs": [],
   "source": [
    "ids_to_drop = extracted_data[extracted_data['market_value'].isnull()]['release_id']"
   ]
  },
  {
   "cell_type": "code",
   "execution_count": 9,
   "metadata": {},
   "outputs": [],
   "source": [
    "extracted_data.drop(ids_to_drop.index,inplace=True)"
   ]
  },
  {
   "cell_type": "markdown",
   "metadata": {},
   "source": [
    "# API Data\n",
    "## Loading and Cleaning"
   ]
  },
  {
   "cell_type": "code",
   "execution_count": 10,
   "metadata": {},
   "outputs": [],
   "source": [
    "api_df = data_loader.load_api_data()"
   ]
  },
  {
   "cell_type": "code",
   "execution_count": 11,
   "metadata": {},
   "outputs": [],
   "source": [
    "api_df = pd.concat([api_df,api_df['title'].str.split(' - ',n=1,expand=True)],axis=1)"
   ]
  },
  {
   "cell_type": "code",
   "execution_count": 12,
   "metadata": {},
   "outputs": [],
   "source": [
    "geoscheme_df = load_geoscheme_df()"
   ]
  },
  {
   "cell_type": "code",
   "execution_count": 13,
   "metadata": {},
   "outputs": [],
   "source": [
    "country_to_dict_mapping = get_country_to_dict_mapping()"
   ]
  },
  {
   "cell_type": "code",
   "execution_count": 14,
   "metadata": {},
   "outputs": [],
   "source": [
    "pipeline = pdp.DropDuplicates('release_id')\n",
    "pipeline += pdp.ColDrop(['title','id'])\n",
    "pipeline += pdp.ColRename({0: 'artist', 1: 'title'})\n",
    "pipeline += pdp.ApplyByCols(['genre','style','label','formats'],pickle.loads)\n",
    "pipeline += pdp.MapColVals('country',country_to_dict_mapping)"
   ]
  },
  {
   "cell_type": "code",
   "execution_count": 15,
   "metadata": {},
   "outputs": [],
   "source": [
    "api_df = pipeline.apply(api_df)"
   ]
  },
  {
   "cell_type": "code",
   "execution_count": 16,
   "metadata": {},
   "outputs": [],
   "source": [
    "api_df = extracted_data.merge(api_df,how='left',on='release_id')"
   ]
  },
  {
   "cell_type": "markdown",
   "metadata": {},
   "source": [
    "## Encoding Country"
   ]
  },
  {
   "cell_type": "code",
   "execution_count": null,
   "metadata": {},
   "outputs": [],
   "source": [
    "encoded_country_df = encode_country_column(api_df['country'])"
   ]
  },
  {
   "cell_type": "code",
   "execution_count": null,
   "metadata": {},
   "outputs": [],
   "source": [
    "save_to_pkl(encoded_country_df,'country')"
   ]
  },
  {
   "cell_type": "markdown",
   "metadata": {},
   "source": [
    "## Encoding Genre"
   ]
  },
  {
   "cell_type": "code",
   "execution_count": null,
   "metadata": {},
   "outputs": [],
   "source": [
    "encoded_genre_df = encode_genre_column(api_df['genre'])"
   ]
  },
  {
   "cell_type": "code",
   "execution_count": null,
   "metadata": {},
   "outputs": [],
   "source": [
    "save_to_pkl(encoded_genre_df,'genre')"
   ]
  },
  {
   "cell_type": "markdown",
   "metadata": {},
   "source": [
    "## Encoding Style"
   ]
  },
  {
   "cell_type": "code",
   "execution_count": null,
   "metadata": {},
   "outputs": [],
   "source": [
    "encoded_style_df = encode_style_column(api_df['style'])"
   ]
  },
  {
   "cell_type": "code",
   "execution_count": null,
   "metadata": {},
   "outputs": [],
   "source": [
    "save_to_pkl(encoded_style_df,'style')"
   ]
  },
  {
   "cell_type": "markdown",
   "metadata": {},
   "source": [
    "## Cleaning Label and Artist for Later Encoding"
   ]
  },
  {
   "cell_type": "code",
   "execution_count": 17,
   "metadata": {},
   "outputs": [],
   "source": [
    "api_df['artist_clean'] = api_df['artist'].apply(clean_artist_column)\n",
    "api_df['label_clean'] = api_df['label'].apply(lambda x: x[0]).apply(clean_label_column)"
   ]
  },
  {
   "cell_type": "markdown",
   "metadata": {},
   "source": [
    "### Artists Cosine Similarity Matching"
   ]
  },
  {
   "cell_type": "code",
   "execution_count": 18,
   "metadata": {},
   "outputs": [
    {
     "data": {
      "text/html": [
       "<div>\n",
       "<style scoped>\n",
       "    .dataframe tbody tr th:only-of-type {\n",
       "        vertical-align: middle;\n",
       "    }\n",
       "\n",
       "    .dataframe tbody tr th {\n",
       "        vertical-align: top;\n",
       "    }\n",
       "\n",
       "    .dataframe thead th {\n",
       "        text-align: right;\n",
       "    }\n",
       "</style>\n",
       "<table border=\"1\" class=\"dataframe\">\n",
       "  <thead>\n",
       "    <tr style=\"text-align: right;\">\n",
       "      <th></th>\n",
       "      <th>left_side</th>\n",
       "      <th>right_side</th>\n",
       "      <th>similarity</th>\n",
       "    </tr>\n",
       "  </thead>\n",
       "  <tbody>\n",
       "    <tr>\n",
       "      <th>4</th>\n",
       "      <td>benny goodman benny goodman quartet benny goodman</td>\n",
       "      <td>benny goodman</td>\n",
       "      <td>0.941538</td>\n",
       "    </tr>\n",
       "    <tr>\n",
       "      <th>5</th>\n",
       "      <td>benny goodman benny goodman quartet benny goodman</td>\n",
       "      <td>benny goodman benny goodman sextet</td>\n",
       "      <td>0.921802</td>\n",
       "    </tr>\n",
       "    <tr>\n",
       "      <th>6</th>\n",
       "      <td>benny goodman benny goodman quartet benny goodman</td>\n",
       "      <td>benny goodman quartet</td>\n",
       "      <td>0.902357</td>\n",
       "    </tr>\n",
       "    <tr>\n",
       "      <th>9</th>\n",
       "      <td>benny goodman</td>\n",
       "      <td>benny goodman benny goodman quartet benny goodman</td>\n",
       "      <td>0.941538</td>\n",
       "    </tr>\n",
       "    <tr>\n",
       "      <th>10</th>\n",
       "      <td>benny goodman</td>\n",
       "      <td>benny goodman benny goodman sextet</td>\n",
       "      <td>0.921013</td>\n",
       "    </tr>\n",
       "    <tr>\n",
       "      <th>...</th>\n",
       "      <td>...</td>\n",
       "      <td>...</td>\n",
       "      <td>...</td>\n",
       "    </tr>\n",
       "    <tr>\n",
       "      <th>9894</th>\n",
       "      <td>wynton marsalis branford marsalis ellis marsalis</td>\n",
       "      <td>ellis marsalis branford marsalis</td>\n",
       "      <td>0.939691</td>\n",
       "    </tr>\n",
       "    <tr>\n",
       "      <th>9895</th>\n",
       "      <td>wynton marsalis branford marsalis ellis marsalis</td>\n",
       "      <td>wynton marsalis ellis marsalis</td>\n",
       "      <td>0.931852</td>\n",
       "    </tr>\n",
       "    <tr>\n",
       "      <th>9930</th>\n",
       "      <td>abdullah ibrahim</td>\n",
       "      <td>abdullah ibrahim trio</td>\n",
       "      <td>0.905000</td>\n",
       "    </tr>\n",
       "    <tr>\n",
       "      <th>9955</th>\n",
       "      <td>masahiko togashi richard beirach</td>\n",
       "      <td>richard beirach masahiko togashi</td>\n",
       "      <td>0.906908</td>\n",
       "    </tr>\n",
       "    <tr>\n",
       "      <th>9989</th>\n",
       "      <td>monty sunshine jazz</td>\n",
       "      <td>monty sunshine</td>\n",
       "      <td>0.904366</td>\n",
       "    </tr>\n",
       "  </tbody>\n",
       "</table>\n",
       "<p>541 rows × 3 columns</p>\n",
       "</div>"
      ],
      "text/plain": [
       "                                              left_side  \\\n",
       "4     benny goodman benny goodman quartet benny goodman   \n",
       "5     benny goodman benny goodman quartet benny goodman   \n",
       "6     benny goodman benny goodman quartet benny goodman   \n",
       "9                                         benny goodman   \n",
       "10                                        benny goodman   \n",
       "...                                                 ...   \n",
       "9894   wynton marsalis branford marsalis ellis marsalis   \n",
       "9895   wynton marsalis branford marsalis ellis marsalis   \n",
       "9930                                   abdullah ibrahim   \n",
       "9955                   masahiko togashi richard beirach   \n",
       "9989                                monty sunshine jazz   \n",
       "\n",
       "                                             right_side  similarity  \n",
       "4                                         benny goodman    0.941538  \n",
       "5                    benny goodman benny goodman sextet    0.921802  \n",
       "6                                 benny goodman quartet    0.902357  \n",
       "9     benny goodman benny goodman quartet benny goodman    0.941538  \n",
       "10                   benny goodman benny goodman sextet    0.921013  \n",
       "...                                                 ...         ...  \n",
       "9894                   ellis marsalis branford marsalis    0.939691  \n",
       "9895                     wynton marsalis ellis marsalis    0.931852  \n",
       "9930                              abdullah ibrahim trio    0.905000  \n",
       "9955                   richard beirach masahiko togashi    0.906908  \n",
       "9989                                     monty sunshine    0.904366  \n",
       "\n",
       "[541 rows x 3 columns]"
      ]
     },
     "execution_count": 18,
     "metadata": {},
     "output_type": "execute_result"
    }
   ],
   "source": [
    "artist_matches_df = get_cosine_similarity_matches(api_df['artist_clean'],get_ngrams)\n",
    "artist_matches_df"
   ]
  },
  {
   "cell_type": "code",
   "execution_count": 19,
   "metadata": {},
   "outputs": [],
   "source": [
    "artist_match_lookup = create_match_lookup(artist_matches_df)\n",
    "\n",
    "#Check that all lookup values are final nodes\n",
    "for key, value in artist_match_lookup.items():\n",
    "    try:\n",
    "        assert artist_match_lookup[value] == value\n",
    "    except KeyError:\n",
    "        continue\n",
    "        \n",
    "#Convert artist names to best compressed value according to match lookup table\n",
    "api_df['artist_clean'] = api_df['artist_clean'].apply(lambda x: artist_match_lookup[x] if artist_match_lookup.get(x) else x)"
   ]
  },
  {
   "cell_type": "markdown",
   "metadata": {},
   "source": [
    "### Label Cosine Similarity Matching"
   ]
  },
  {
   "cell_type": "code",
   "execution_count": 20,
   "metadata": {},
   "outputs": [
    {
     "data": {
      "text/html": [
       "<div>\n",
       "<style scoped>\n",
       "    .dataframe tbody tr th:only-of-type {\n",
       "        vertical-align: middle;\n",
       "    }\n",
       "\n",
       "    .dataframe tbody tr th {\n",
       "        vertical-align: top;\n",
       "    }\n",
       "\n",
       "    .dataframe thead th {\n",
       "        text-align: right;\n",
       "    }\n",
       "</style>\n",
       "<table border=\"1\" class=\"dataframe\">\n",
       "  <thead>\n",
       "    <tr style=\"text-align: right;\">\n",
       "      <th></th>\n",
       "      <th>left_side</th>\n",
       "      <th>right_side</th>\n",
       "      <th>similarity</th>\n",
       "    </tr>\n",
       "  </thead>\n",
       "  <tbody>\n",
       "    <tr>\n",
       "      <th>8</th>\n",
       "      <td>general</td>\n",
       "      <td>generali</td>\n",
       "      <td>0.921196</td>\n",
       "    </tr>\n",
       "    <tr>\n",
       "      <th>32</th>\n",
       "      <td>signature</td>\n",
       "      <td>signatur</td>\n",
       "      <td>0.941035</td>\n",
       "    </tr>\n",
       "    <tr>\n",
       "      <th>64</th>\n",
       "      <td>atlantic</td>\n",
       "      <td>atlantica</td>\n",
       "      <td>0.950156</td>\n",
       "    </tr>\n",
       "    <tr>\n",
       "      <th>65</th>\n",
       "      <td>atlantic</td>\n",
       "      <td>atlanti</td>\n",
       "      <td>0.929364</td>\n",
       "    </tr>\n",
       "    <tr>\n",
       "      <th>72</th>\n",
       "      <td>custom fidelity</td>\n",
       "      <td>custom fidelity co</td>\n",
       "      <td>0.914510</td>\n",
       "    </tr>\n",
       "    <tr>\n",
       "      <th>...</th>\n",
       "      <td>...</td>\n",
       "      <td>...</td>\n",
       "      <td>...</td>\n",
       "    </tr>\n",
       "    <tr>\n",
       "      <th>9613</th>\n",
       "      <td>digital</td>\n",
       "      <td>digitali</td>\n",
       "      <td>0.923328</td>\n",
       "    </tr>\n",
       "    <tr>\n",
       "      <th>9622</th>\n",
       "      <td>boriginal</td>\n",
       "      <td>original</td>\n",
       "      <td>0.910276</td>\n",
       "    </tr>\n",
       "    <tr>\n",
       "      <th>9855</th>\n",
       "      <td>apollo</td>\n",
       "      <td>apollon</td>\n",
       "      <td>0.901117</td>\n",
       "    </tr>\n",
       "    <tr>\n",
       "      <th>9920</th>\n",
       "      <td>hush</td>\n",
       "      <td>hushush</td>\n",
       "      <td>0.935384</td>\n",
       "    </tr>\n",
       "    <tr>\n",
       "      <th>9960</th>\n",
       "      <td>ionyx</td>\n",
       "      <td>onyx</td>\n",
       "      <td>0.941547</td>\n",
       "    </tr>\n",
       "  </tbody>\n",
       "</table>\n",
       "<p>179 rows × 3 columns</p>\n",
       "</div>"
      ],
      "text/plain": [
       "            left_side          right_side  similarity\n",
       "8             general            generali    0.921196\n",
       "32          signature            signatur    0.941035\n",
       "64           atlantic           atlantica    0.950156\n",
       "65           atlantic             atlanti    0.929364\n",
       "72    custom fidelity  custom fidelity co    0.914510\n",
       "...               ...                 ...         ...\n",
       "9613          digital            digitali    0.923328\n",
       "9622        boriginal            original    0.910276\n",
       "9855           apollo             apollon    0.901117\n",
       "9920             hush             hushush    0.935384\n",
       "9960            ionyx                onyx    0.941547\n",
       "\n",
       "[179 rows x 3 columns]"
      ]
     },
     "execution_count": 20,
     "metadata": {},
     "output_type": "execute_result"
    }
   ],
   "source": [
    "label_matches_df = get_cosine_similarity_matches(api_df['label_clean'],get_ngrams)\n",
    "label_matches_df"
   ]
  },
  {
   "cell_type": "code",
   "execution_count": 21,
   "metadata": {},
   "outputs": [
    {
     "data": {
      "text/plain": [
       "{'generali': 'general',\n",
       " 'atlantica': 'atlanti',\n",
       " 'custom fidelity co': 'custom fidelity',\n",
       " 'summitt': 'summit',\n",
       " 'pp polskie nagrania muza': 'polskie nagrania muza',\n",
       " 'pantone': 'panton',\n",
       " 'marista': 'arista',\n",
       " 'gruppo editoriale lespresso spa': 'gruppo editoriale lespresso',\n",
       " 'membrane': 'membran',\n",
       " 'polskie radio sa': 'polskie radio',\n",
       " 'emivalentim de carvalho': 'valentim de carvalho',\n",
       " 'universal international bv': 'universal international',\n",
       " 'americana': 'america',\n",
       " 'genuine': 'genuin',\n",
       " 'tokuma japan co': 'tokuma japan',\n",
       " 'avanguard': 'vanguard',\n",
       " 'norman': 'norma',\n",
       " 'bel aire': 'bel air',\n",
       " 'higher octave jazz': 'higher octave',\n",
       " 'beggars banquet u': 'beggars banquet',\n",
       " 'hermitage': 'ermitage',\n",
       " 'wydawnictwo a': 'wydawnictwo',\n",
       " 'unisono': 'unison',\n",
       " 'outsider': 'outside',\n",
       " 'dover': 'dove',\n",
       " 'ionyx': 'onyx',\n",
       " 'signature': 'signatur',\n",
       " 'royale': 'royal',\n",
       " 'spirale': 'spiral',\n",
       " 'varèse sarabande jazz': 'varèse sarabande',\n",
       " 'universal portugal sa': 'universal portugal',\n",
       " 'absord japan co': 'absord japan',\n",
       " 'emicapitol special market': 'capitol special market',\n",
       " 'cococon': 'coco',\n",
       " 'favorite': 'favorit',\n",
       " 'melodia': 'melodi',\n",
       " 'atlantic': 'atlanti',\n",
       " 'tipping': 'tippin',\n",
       " 'personal': 'persona',\n",
       " 'ananana': 'nana',\n",
       " 'locomotive': 'locomotiv',\n",
       " 'delmark': 'delmar',\n",
       " 'boptimism': 'optimism',\n",
       " 'wah wah ': 'wah wah',\n",
       " 'harmoni': 'harmon',\n",
       " 'mystica': 'mystic',\n",
       " 'emi pathé marconi sa': 'emi pathé marconi',\n",
       " 'sonotone': 'sonoton',\n",
       " 'american': 'america',\n",
       " 'documento': 'document',\n",
       " 'océane': 'océan',\n",
       " 'tartare': 'tartar',\n",
       " 'nocturne': 'nocturn',\n",
       " 'universal group international bv': 'universal group international',\n",
       " 'impacto': 'impact',\n",
       " 'morpheu': 'orpheu',\n",
       " 'marianne': 'mariann',\n",
       " 'emrec': 'emre',\n",
       " 'wydawnictwo annex': 'wydawnictwo anex',\n",
       " 'brassroot': 'grassroot',\n",
       " 'alison': 'aliso',\n",
       " 'kazz': 'kaz',\n",
       " 'gazelle': 'gazell',\n",
       " 'crimsonic': 'crimson',\n",
       " 'alter': 'alte',\n",
       " 'satsanga': 'satsang',\n",
       " 'coast': 'east coast',\n",
       " 'mandarine': 'mandarin',\n",
       " 'hybrida': 'hybrid',\n",
       " 'halcyon': 'alcyon',\n",
       " 'revolution': 'evolution',\n",
       " 'augusta': 'august',\n",
       " 'beyond beyond beyond': 'beyond',\n",
       " 'preview': 'review',\n",
       " 'monopole': 'monopol',\n",
       " 'monopoly': 'monopol',\n",
       " 'copenhagen c': 'copenhagen',\n",
       " 'hexagone': 'hexagon',\n",
       " 'hexagonal': 'hexagon',\n",
       " 'proper': 'roper',\n",
       " 'dmusica': 'dmusic',\n",
       " 'vibratone': 'vibraton',\n",
       " 'música global discogràfica sl': 'música global discogràfica',\n",
       " 'boriginal': 'original',\n",
       " 'manifesto': 'manifest',\n",
       " 'transitional': 'transition',\n",
       " 'esperanto': 'esperant',\n",
       " 'new international': 'w international',\n",
       " 'litratone': 'litraton',\n",
       " 'beaver': 'beave',\n",
       " 'le chant du monde': 'chant du monde',\n",
       " 'rh pozitif müzik yapım': 'pozitif müzik yapım',\n",
       " 'harmonic': 'harmon',\n",
       " 'harmonia': 'harmon',\n",
       " 'rca special product': 'mca special product',\n",
       " 'concertone': 'concerto',\n",
       " 'revolver': 'evolver',\n",
       " 'coast coast': 'east coast',\n",
       " 'prevue': 'revue',\n",
       " 'pacifica': 'pacific',\n",
       " 'pacifico': 'pacific',\n",
       " 'digitali': 'digital',\n",
       " 'apollon': 'apollo',\n",
       " 'hushush': 'hush',\n",
       " 'elabeth': 'labeth',\n",
       " 'akosh szelevényi trio selfreleased': 'akosh szelevényi selfreleased',\n",
       " 'carling': 'carlin',\n",
       " 'discordian': 'discordia',\n",
       " 'ajazz': 'ajaz',\n",
       " 'leaf': 'eaf',\n",
       " 'jazztone': 'jazzton',\n",
       " 'curcio': 'curci',\n",
       " 'taragon': 'aragon',\n",
       " 'kontran': 'kontra',\n",
       " 'select': 'elect',\n",
       " 'acoustic': 'acousti',\n",
       " 'cypres': 'cypre',\n",
       " 'sonorama': 'sonoram',\n",
       " 'dreamusic': 'reamusic',\n",
       " 'nippon columbia co': 'nippon columbia',\n",
       " 'platinum': 'latinum',\n",
       " 'marvela': 'marvel',\n",
       " 'pentagrama': 'pentagram',\n",
       " 'calibre': 'alibre',\n",
       " 'la drogueria di drugolo srl': 'la drogueria di drugolo',\n",
       " 'stupido': 'stupid',\n",
       " 'jazzman': 'jazzma',\n",
       " 'musicor': 'musico',\n",
       " 'fairplay': 'airplay',\n",
       " 'grabaciones mundiales ca': 'grabaciones mundiale',\n",
       " 'exclusivo': 'exclusiv',\n",
       " 'sensory': 'sensor',\n",
       " 'jase': 'jas',\n",
       " 'airborne': 'airborn',\n",
       " 'manzana producciones discográficas sa': 'manzana producciones discográficas sl',\n",
       " 'brighton': 'righton'}"
      ]
     },
     "execution_count": 21,
     "metadata": {},
     "output_type": "execute_result"
    }
   ],
   "source": [
    "label_match_lookup = create_match_lookup(label_matches_df)\n",
    "label_match_lookup"
   ]
  },
  {
   "cell_type": "markdown",
   "metadata": {},
   "source": [
    "As there are fairly similar labels with almost identical names, only those matches will be kept for which there is a 2 character difference in their names, in order to avoid falsely grouping entries together while reducing the variances of names associated with specific labels"
   ]
  },
  {
   "cell_type": "code",
   "execution_count": 22,
   "metadata": {},
   "outputs": [],
   "source": [
    "label_match_lookup = {key:value for key, value in label_match_lookup.items() if np.abs(len(key) - len(value)) > 2}\n",
    "#Convert artist names to best compressed value according to match lookup table\n",
    "api_df['label_clean'] = api_df['label_clean'].apply(lambda x: label_match_lookup[x] if label_match_lookup.get(x) else x)"
   ]
  },
  {
   "cell_type": "markdown",
   "metadata": {},
   "source": [
    "## Encoding Formats"
   ]
  },
  {
   "cell_type": "code",
   "execution_count": 23,
   "metadata": {},
   "outputs": [],
   "source": [
    "format_columns = ['format_{}'.format(column) for column in ('description','name','quantity','text')]\n",
    "format_functions = (make_format_description_column, make_format_name_column, make_format_quantity_column, make_format_text_column)\n",
    "\n",
    "for column, function in zip(format_columns,format_functions):\n",
    "    api_df[column] = api_df['formats'].apply(function)"
   ]
  },
  {
   "cell_type": "markdown",
   "metadata": {},
   "source": [
    "**Format Name**\n",
    "\n",
    "Prime candidate for one-hot encoding/hash encoding"
   ]
  },
  {
   "cell_type": "code",
   "execution_count": 24,
   "metadata": {},
   "outputs": [
    {
     "data": {
      "text/plain": [
       "array(['Shellac', 'Vinyl', 'Box Set', 'CD', 'Reel-To-Reel', 'Cassette',\n",
       "       'SACD', 'CDr', '8-Track Cartridge', 'All Media', 'Minidisc', 'DVD',\n",
       "       'Hybrid', '4-Track Cartridge', 'Laserdisc', 'Blu-ray', 'Acetate',\n",
       "       'DVDr', 'VHS', 'Memory Stick', 'File', 'PlayTape', 'DAT',\n",
       "       'Flexi-disc', 'HD DVD', 'DCC', 'Lathe Cut', 'RCA Tape Cartridge',\n",
       "       'Floppy Disk'], dtype=object)"
      ]
     },
     "execution_count": 24,
     "metadata": {},
     "output_type": "execute_result"
    }
   ],
   "source": [
    "api_df['format_name'].unique()"
   ]
  },
  {
   "cell_type": "code",
   "execution_count": 25,
   "metadata": {},
   "outputs": [],
   "source": [
    "format_name_dummies = pd.get_dummies(api_df['format_name'],drop_first=True)\n",
    "format_name_dummies.rename(columns={column: 'format_name_{}'.format(column) for column in format_name_dummies.columns},inplace=True)\n",
    "api_df = pd.concat([api_df,format_name_dummies],axis=1).drop('format_name',axis=1)"
   ]
  },
  {
   "cell_type": "markdown",
   "metadata": {},
   "source": [
    "**Format Quantity**\n",
    "\n",
    "Can be left as is in integer format, after some cleaning of values"
   ]
  },
  {
   "cell_type": "code",
   "execution_count": 26,
   "metadata": {},
   "outputs": [
    {
     "data": {
      "text/plain": [
       "array([      6,       4,       5,       3,       2,       1,      25,\n",
       "             7,      16,      10,       8,       9,      26,      14,\n",
       "            13,      24,      28,      20,      55,      11,      50,\n",
       "             0,      37,      12, 1010201,      15,      30,     500,\n",
       "           300,      22,      34,      29,      52])"
      ]
     },
     "execution_count": 26,
     "metadata": {},
     "output_type": "execute_result"
    }
   ],
   "source": [
    "api_df['format_quantity'].unique()"
   ]
  },
  {
   "cell_type": "markdown",
   "metadata": {},
   "source": [
    "**Format Text**\n",
    "Might be eligible for tf-idf vectorizing & label encoding"
   ]
  },
  {
   "cell_type": "code",
   "execution_count": 27,
   "metadata": {},
   "outputs": [
    {
     "data": {
      "text/plain": [
       "array([None, 'Indianapolis pressing', 'Hollywood', ...,\n",
       "       'Gatefold, 180 Grams Vinyl', 'dolby HX PRO', 'Papersleve, K2HD'],\n",
       "      dtype=object)"
      ]
     },
     "execution_count": 27,
     "metadata": {},
     "output_type": "execute_result"
    }
   ],
   "source": [
    "api_df['format_text'].unique()"
   ]
  },
  {
   "cell_type": "code",
   "execution_count": 28,
   "metadata": {},
   "outputs": [
    {
     "data": {
      "text/plain": [
       "5552"
      ]
     },
     "execution_count": 28,
     "metadata": {},
     "output_type": "execute_result"
    }
   ],
   "source": [
    "len(api_df['format_text'].unique())"
   ]
  },
  {
   "cell_type": "code",
   "execution_count": 29,
   "metadata": {},
   "outputs": [],
   "source": [
    "api_df['format_text_clean'] = api_df['format_text'].apply(clean_format_text)"
   ]
  },
  {
   "cell_type": "code",
   "execution_count": 30,
   "metadata": {},
   "outputs": [],
   "source": [
    "format_text_match_df = get_cosine_similarity_matches(api_df['format_text_clean'],get_ngrams)"
   ]
  },
  {
   "cell_type": "code",
   "execution_count": 31,
   "metadata": {},
   "outputs": [],
   "source": [
    "format_text_lookup = create_match_lookup(format_text_match_df)"
   ]
  },
  {
   "cell_type": "code",
   "execution_count": 32,
   "metadata": {},
   "outputs": [
    {
     "data": {
      "text/plain": [
       "4352"
      ]
     },
     "execution_count": 32,
     "metadata": {},
     "output_type": "execute_result"
    }
   ],
   "source": [
    "api_df['format_text'] = api_df['format_text_clean'].apply(lambda x: format_text_lookup[x] if format_text_lookup.get(x) else x)\n",
    "len(api_df['format_text'].unique())"
   ]
  },
  {
   "cell_type": "markdown",
   "metadata": {},
   "source": [
    "**Format Description**\n",
    "\n",
    "As the entries in the ``format_description`` column are saved as lists, the entries will be dummy encoded for applicability"
   ]
  },
  {
   "cell_type": "code",
   "execution_count": null,
   "metadata": {},
   "outputs": [],
   "source": [
    "format_description_df = expand_format_description_column(api_df)"
   ]
  },
  {
   "cell_type": "code",
   "execution_count": null,
   "metadata": {},
   "outputs": [],
   "source": [
    "save_to_pkl(format_description_df,'format_description')"
   ]
  },
  {
   "cell_type": "markdown",
   "metadata": {},
   "source": [
    "## Encoded DF"
   ]
  },
  {
   "cell_type": "markdown",
   "metadata": {},
   "source": [
    "## Feature Engineering\n",
    "## Eras"
   ]
  },
  {
   "cell_type": "code",
   "execution_count": 33,
   "metadata": {},
   "outputs": [],
   "source": [
    "def make_period_column(year,start,end):\n",
    "    if start <= year <= end:\n",
    "        return 1\n",
    "    return 0\n",
    "\n",
    "def make_big_band_period_column(year):\n",
    "    return make_period_column(year,1930,1950)\n",
    "\n",
    "def make_bebop_period_column(year):\n",
    "    return make_period_column(year,1940,1955)\n",
    "\n",
    "def make_cool_period_column(year):\n",
    "    return make_period_column(year,1950,1970)\n",
    "\n",
    "def make_fusion_period_column(year):\n",
    "    return make_period_column(year,1970,2020)\n",
    "\n",
    "def make_swing_era_column(year):\n",
    "    return make_period_column(year,1925,1945)\n",
    "\n",
    "def make_modern_era_column(year):\n",
    "    return make_period_column(year,1940,1970)\n",
    "\n",
    "def make_contemporary_era_column(year):\n",
    "    return make_period_column(year,1970,2020)"
   ]
  },
  {
   "cell_type": "code",
   "execution_count": 35,
   "metadata": {},
   "outputs": [],
   "source": [
    "period_columns = (*tuple('period_%s' % col for col in ('big_band','bebop','cool','fusion')),\n",
    "                  *tuple('era_%s' % col for col in ('swing','modern','contemporary'))\n",
    "                )\n",
    "period_functions = (make_big_band_period_column, make_bebop_period_column, make_cool_period_column, make_fusion_period_column, make_swing_era_column, make_modern_era_column,make_contemporary_era_column)\n",
    "\n",
    "for column, func in zip(period_columns,period_functions):\n",
    "    api_df[column] = api_df['year'].apply(func)"
   ]
  },
  {
   "cell_type": "markdown",
   "metadata": {},
   "source": [
    "## Jazz Standard Count"
   ]
  },
  {
   "cell_type": "code",
   "execution_count": 37,
   "metadata": {},
   "outputs": [],
   "source": [
    "with open(os.path.join(DATA_PATH,'standards.pkl'),'rb') as f:\n",
    "    standards = pickle.load(f)\n",
    "    \n",
    "lowercase_no_punctuation = lambda x: x.lower().translate(str.maketrans('','',string.punctuation))"
   ]
  },
  {
   "cell_type": "code",
   "execution_count": 38,
   "metadata": {},
   "outputs": [],
   "source": [
    "standards_lookup = {lowercase_no_punctuation(standard):0 for standard in standards}"
   ]
  },
  {
   "cell_type": "code",
   "execution_count": 39,
   "metadata": {},
   "outputs": [],
   "source": [
    "def count_jazz_standards(standards_lookup, title_list):\n",
    "    standards_counter = 0\n",
    "    for title in title_list:\n",
    "        title = title.lower().translate(str.maketrans('', '', string.punctuation))\n",
    "        if title in standards_lookup:\n",
    "            standards_counter += 1               \n",
    "    return standards_counter"
   ]
  },
  {
   "cell_type": "code",
   "execution_count": 40,
   "metadata": {},
   "outputs": [
    {
     "name": "stderr",
     "output_type": "stream",
     "text": [
      "100%|██████████| 297546/297546 [00:10<00:00, 28910.60it/s]\n"
     ]
    },
    {
     "data": {
      "application/vnd.jupyter.widget-view+json": {
       "model_id": "d5f9b1b7d2854455b5fb455bdf7ca2d8",
       "version_major": 2,
       "version_minor": 0
      },
      "text/plain": [
       "HBox(children=(FloatProgress(value=1.0, bar_style='info', max=1.0), HTML(value='')))"
      ]
     },
     "metadata": {},
     "output_type": "display_data"
    },
    {
     "name": "stdout",
     "output_type": "stream",
     "text": [
      "\n"
     ]
    }
   ],
   "source": [
    "matched_track_titles = match_track_titles_to_standards(standards,api_df['track_titles'])"
   ]
  },
  {
   "cell_type": "markdown",
   "metadata": {},
   "source": [
    "After some testing of match confidence values, the cutoff for matches will be set at 0.7, leaving 10427 titles which will be matched to the list of jazz standards. After this threshold, the accuracy of the matches degrades to an extent that it will introduce too much bias into the ``no_of_jazz_standards`` feature."
   ]
  },
  {
   "cell_type": "code",
   "execution_count": 41,
   "metadata": {},
   "outputs": [
    {
     "name": "stderr",
     "output_type": "stream",
     "text": [
      "/Users/simonhelmig/anaconda3/envs/exts-ml/lib/python3.6/site-packages/ipykernel_launcher.py:1: UserWarning: Boolean Series key will be reindexed to match DataFrame index.\n",
      "  \"\"\"Entry point for launching an IPython kernel.\n"
     ]
    },
    {
     "data": {
      "text/html": [
       "<div>\n",
       "<style scoped>\n",
       "    .dataframe tbody tr th:only-of-type {\n",
       "        vertical-align: middle;\n",
       "    }\n",
       "\n",
       "    .dataframe tbody tr th {\n",
       "        vertical-align: top;\n",
       "    }\n",
       "\n",
       "    .dataframe thead th {\n",
       "        text-align: right;\n",
       "    }\n",
       "</style>\n",
       "<table border=\"1\" class=\"dataframe\">\n",
       "  <thead>\n",
       "    <tr style=\"text-align: right;\">\n",
       "      <th></th>\n",
       "      <th>Original Name</th>\n",
       "      <th>Matched Name</th>\n",
       "      <th>Match Confidence</th>\n",
       "    </tr>\n",
       "  </thead>\n",
       "  <tbody>\n",
       "    <tr>\n",
       "      <th>265285</th>\n",
       "      <td>ol man river 45 rpm version</td>\n",
       "      <td>ol man river</td>\n",
       "      <td>0.69</td>\n",
       "    </tr>\n",
       "    <tr>\n",
       "      <th>346815</th>\n",
       "      <td>fault lines  i got rhythm</td>\n",
       "      <td>i got rhythm</td>\n",
       "      <td>0.69</td>\n",
       "    </tr>\n",
       "    <tr>\n",
       "      <th>579962</th>\n",
       "      <td>a felicidade happiness</td>\n",
       "      <td>a felicidade</td>\n",
       "      <td>0.69</td>\n",
       "    </tr>\n",
       "    <tr>\n",
       "      <th>195369</th>\n",
       "      <td>youve not changed</td>\n",
       "      <td>youve changed</td>\n",
       "      <td>0.69</td>\n",
       "    </tr>\n",
       "    <tr>\n",
       "      <th>795304</th>\n",
       "      <td>the newness of you</td>\n",
       "      <td>the nearness of you</td>\n",
       "      <td>0.69</td>\n",
       "    </tr>\n",
       "    <tr>\n",
       "      <th>...</th>\n",
       "      <td>...</td>\n",
       "      <td>...</td>\n",
       "      <td>...</td>\n",
       "    </tr>\n",
       "    <tr>\n",
       "      <th>296390</th>\n",
       "      <td>just one of those things\\t</td>\n",
       "      <td>just one of those things</td>\n",
       "      <td>0.00</td>\n",
       "    </tr>\n",
       "    <tr>\n",
       "      <th>82552</th>\n",
       "      <td>back in your own backyard</td>\n",
       "      <td>back in your own backyard</td>\n",
       "      <td>0.00</td>\n",
       "    </tr>\n",
       "    <tr>\n",
       "      <th>610023</th>\n",
       "      <td>have you heard</td>\n",
       "      <td>have you heard</td>\n",
       "      <td>0.00</td>\n",
       "    </tr>\n",
       "    <tr>\n",
       "      <th>222487</th>\n",
       "      <td>a man and a woman</td>\n",
       "      <td>a man and a woman</td>\n",
       "      <td>0.00</td>\n",
       "    </tr>\n",
       "    <tr>\n",
       "      <th>263145</th>\n",
       "      <td>that old black magic</td>\n",
       "      <td>that old black magic</td>\n",
       "      <td>0.00</td>\n",
       "    </tr>\n",
       "  </tbody>\n",
       "</table>\n",
       "<p>10427 rows × 3 columns</p>\n",
       "</div>"
      ],
      "text/plain": [
       "                      Original Name               Matched Name  \\\n",
       "265285  ol man river 45 rpm version               ol man river   \n",
       "346815    fault lines  i got rhythm               i got rhythm   \n",
       "579962       a felicidade happiness               a felicidade   \n",
       "195369           youve not changed               youve changed   \n",
       "795304           the newness of you        the nearness of you   \n",
       "...                             ...                        ...   \n",
       "296390   just one of those things\\t   just one of those things   \n",
       "82552     back in your own backyard  back in your own backyard   \n",
       "610023               have you heard             have you heard   \n",
       "222487            a man and a woman          a man and a woman   \n",
       "263145         that old black magic       that old black magic   \n",
       "\n",
       "        Match Confidence  \n",
       "265285              0.69  \n",
       "346815              0.69  \n",
       "579962              0.69  \n",
       "195369              0.69  \n",
       "795304              0.69  \n",
       "...                  ...  \n",
       "296390              0.00  \n",
       "82552               0.00  \n",
       "610023              0.00  \n",
       "222487              0.00  \n",
       "263145              0.00  \n",
       "\n",
       "[10427 rows x 3 columns]"
      ]
     },
     "execution_count": 41,
     "metadata": {},
     "output_type": "execute_result"
    }
   ],
   "source": [
    "matched_track_titles.sort_values('Match Confidence',ascending=False)[matched_track_titles['Match Confidence'] < 0.7]"
   ]
  },
  {
   "cell_type": "code",
   "execution_count": 42,
   "metadata": {},
   "outputs": [],
   "source": [
    "match_title_to_standards_df = matched_track_titles[matched_track_titles['Match Confidence'] < 0.7]\n",
    "tfidf_lookup = {row['Original Name']:row['Matched Name'] for _, row in match_title_to_standards_df.iterrows() if row['Original Name'] not in standards_lookup}"
   ]
  },
  {
   "cell_type": "code",
   "execution_count": 43,
   "metadata": {},
   "outputs": [],
   "source": [
    "standards_lookup_ = dict(**standards_lookup,**tfidf_lookup)\n",
    "count_jazz_standards_ = partial(count_jazz_standards,standards_lookup_)"
   ]
  },
  {
   "cell_type": "code",
   "execution_count": 44,
   "metadata": {},
   "outputs": [],
   "source": [
    "api_df['standards_count'] = api_df['track_titles'].apply(pickle.loads).apply(count_jazz_standards_)"
   ]
  },
  {
   "cell_type": "code",
   "execution_count": 45,
   "metadata": {},
   "outputs": [
    {
     "data": {
      "text/plain": [
       "count    297546.00000\n",
       "mean          0.87851\n",
       "std           1.66438\n",
       "min           0.00000\n",
       "25%           0.00000\n",
       "50%           0.00000\n",
       "75%           1.00000\n",
       "max          84.00000\n",
       "Name: standards_count, dtype: float64"
      ]
     },
     "execution_count": 45,
     "metadata": {},
     "output_type": "execute_result"
    }
   ],
   "source": [
    "api_df['standards_count'].describe()"
   ]
  },
  {
   "cell_type": "markdown",
   "metadata": {},
   "source": [
    "## Number of tracks"
   ]
  },
  {
   "cell_type": "code",
   "execution_count": 46,
   "metadata": {},
   "outputs": [],
   "source": [
    "api_df['no_of_tracks'] = api_df['track_titles'].apply(lambda x: len(pickle.loads(x)))"
   ]
  },
  {
   "cell_type": "code",
   "execution_count": 47,
   "metadata": {},
   "outputs": [
    {
     "data": {
      "text/plain": [
       "count    297546.000000\n",
       "mean         10.455204\n",
       "std           6.917922\n",
       "min           0.000000\n",
       "25%           7.000000\n",
       "50%          10.000000\n",
       "75%          12.000000\n",
       "max         576.000000\n",
       "Name: no_of_tracks, dtype: float64"
      ]
     },
     "execution_count": 47,
     "metadata": {},
     "output_type": "execute_result"
    }
   ],
   "source": [
    "api_df['no_of_tracks'].describe()"
   ]
  },
  {
   "cell_type": "markdown",
   "metadata": {},
   "source": [
    "## last_sold"
   ]
  },
  {
   "cell_type": "code",
   "execution_count": 48,
   "metadata": {},
   "outputs": [],
   "source": [
    "max_last_sold_value = api_df['last_sold'].max()"
   ]
  },
  {
   "cell_type": "code",
   "execution_count": 49,
   "metadata": {},
   "outputs": [],
   "source": [
    "api_df['no_of_days_since_last_sale'] = api_df['last_sold'].apply(lambda x: (max_last_sold_value - x).days)"
   ]
  },
  {
   "cell_type": "markdown",
   "metadata": {},
   "source": [
    "## Saving api_df"
   ]
  },
  {
   "cell_type": "code",
   "execution_count": 50,
   "metadata": {},
   "outputs": [],
   "source": [
    "save_to_pkl(api_df,'api')"
   ]
  },
  {
   "cell_type": "markdown",
   "metadata": {},
   "source": [
    "## Joining dfs and Saving results to hdf"
   ]
  },
  {
   "cell_type": "code",
   "execution_count": 51,
   "metadata": {},
   "outputs": [],
   "source": [
    "try:\n",
    "    api_df\n",
    "except NameError:\n",
    "    api_df = load_from_pkl('api')\n",
    "    \n",
    "try:\n",
    "    encoded_country_df\n",
    "except NameError:\n",
    "    encoded_country_df = load_from_pkl('country')\n",
    "\n",
    "try:\n",
    "    encoded_genre_df\n",
    "except NameError:\n",
    "    encoded_genre_df = load_from_pkl('genre')\n",
    "\n",
    "try:\n",
    "    encoded_style_df\n",
    "except NameError:\n",
    "    encoded_style_df = load_from_pkl('style')\n",
    "\n",
    "try:\n",
    "    format_description_df\n",
    "except NameError:\n",
    "    format_description_df = load_from_pkl('format_description')"
   ]
  },
  {
   "cell_type": "code",
   "execution_count": 52,
   "metadata": {},
   "outputs": [],
   "source": [
    "concat_df = pd.concat([\n",
    "    api_df,\n",
    "    encoded_country_df,\n",
    "    encoded_genre_df,\n",
    "    encoded_style_df,\n",
    "    format_description_df\n",
    "],axis=1)"
   ]
  },
  {
   "cell_type": "code",
   "execution_count": 53,
   "metadata": {},
   "outputs": [],
   "source": [
    "save_to_pkl(concat_df,'concat')"
   ]
  },
  {
   "cell_type": "code",
   "execution_count": null,
   "metadata": {},
   "outputs": [],
   "source": []
  }
 ],
 "metadata": {
  "kernelspec": {
   "display_name": "Python 3",
   "language": "python",
   "name": "python3"
  },
  "language_info": {
   "codemirror_mode": {
    "name": "ipython",
    "version": 3
   },
   "file_extension": ".py",
   "mimetype": "text/x-python",
   "name": "python",
   "nbconvert_exporter": "python",
   "pygments_lexer": "ipython3",
   "version": "3.6.10"
  }
 },
 "nbformat": 4,
 "nbformat_minor": 4
}
