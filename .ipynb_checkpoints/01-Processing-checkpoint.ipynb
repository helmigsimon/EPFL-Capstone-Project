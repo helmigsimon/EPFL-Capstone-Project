{
 "cells": [
  {
   "cell_type": "markdown",
   "metadata": {},
   "source": [
    "# Data Processing\n",
    "In this notebook, I will be loading the data necessary for this project, combining the data sources and performing initial data processing steps. I will also be performing some exploratory data analysis for the purposes of identifying missing values and outliers, which will then be followed up with the appropriate processing steps."
   ]
  },
  {
   "cell_type": "code",
   "execution_count": 1,
   "metadata": {},
   "outputs": [],
   "source": [
    "%load_ext autoreload\n",
    "%autoreload 2\n",
    "import nltk\n",
    "import numpy as np\n",
    "import os\n",
    "import pandas as pd\n",
    "import pickle\n",
    "import random\n",
    "import re\n",
    "import string\n",
    "from collections import Counter\n",
    "from functools import partial\n",
    "from sklearn.feature_extraction.text import TfidfVectorizer\n",
    "from sklearn.preprocessing import FunctionTransformer\n",
    "from sklearn.pipeline import Pipeline\n",
    "from tqdm import tqdm\n",
    "tqdm.pandas()"
   ]
  },
  {
   "cell_type": "code",
   "execution_count": 2,
   "metadata": {},
   "outputs": [],
   "source": [
    "from data.util.paths import DATA_PATH\n",
    "from data.scripts.project_data import DataLoader\n",
    "from data.util.environment_variables import COUNTRIES, SUPERREGIONS, REGIONS\n",
    "from lib.transformers import *\n",
    "\n",
    "from lib.processing import load_geoscheme_df, encode_country_column, encode_style_column,clean_artist_column, clean_label_column, save_to_pkl, load_from_pkl, artist_ngrams, cossine_similarity, get_matches_df, label_ngrams, get_cosine_similarity_matches, get_ngrams, create_match_lookup, clean_format_text, make_market_value_col,make_format_description_column, make_format_name_column, make_format_quantity_column, make_format_text_column, expand_format_description_column, match_track_titles_to_standards "
   ]
  },
  {
   "cell_type": "markdown",
   "metadata": {},
   "source": [
    "# Extracted Data"
   ]
  },
  {
   "cell_type": "code",
   "execution_count": 12,
   "metadata": {},
   "outputs": [],
   "source": [
    "extracted_pipe = Pipeline([\n",
    "    ('remove_id', ColumnRemover('id')),\n",
    "    ('unpickle', Unpickler(['track_titles'])),\n",
    "    ('make_market_value', ColumnCombiner('median','market_price','market_value')),\n",
    "    ('remove_duplicates', DuplicateRemover('release_id')),\n",
    "    ('remove_nulls',NullRemover('market_value')),\n",
    "    ('count_standards',StandardCountEncoder('track_titles')),\n",
    "    ('count_days_since_last_sale',LastSoldEncoder(feature='last_sold',new_feature='days_since_last_sale'))\n",
    "])"
   ]
  },
  {
   "cell_type": "markdown",
   "metadata": {},
   "source": [
    "# API Data"
   ]
  },
  {
   "cell_type": "code",
   "execution_count": 13,
   "metadata": {},
   "outputs": [],
   "source": [
    "clean_text_pipe = Pipeline([\n",
    "    ('label', LabelCleaner()),\n",
    "    ('artist', ArtistCleaner())\n",
    "])"
   ]
  },
  {
   "cell_type": "code",
   "execution_count": 14,
   "metadata": {},
   "outputs": [],
   "source": [
    "column_encoding_pipe = Pipeline([\n",
    "    ('country',CountryEncoder()),\n",
    "    ('genre',GenreEncoder()),\n",
    "    ('style', MultiValueCategoricalEncoder(feature='style'))\n",
    "])"
   ]
  },
  {
   "cell_type": "code",
   "execution_count": 15,
   "metadata": {},
   "outputs": [],
   "source": [
    "format_pipe = Pipeline([\n",
    "    ('make_columns', FormatEncoder()),\n",
    "    ('encode_descriptions',MultiValueCategoricalEncoder('format_description')),\n",
    "    ('clean_format_text',FormatTextCleaner())\n",
    "])"
   ]
  },
  {
   "cell_type": "code",
   "execution_count": 16,
   "metadata": {},
   "outputs": [],
   "source": [
    "api_pipe = Pipeline([\n",
    "    ('remove_columns', ColumnRemover('id')),\n",
    "    ('split_title', TitleSplitter()),\n",
    "    ('unpickle', Unpickler(['genre','style','label','formats'])),\n",
    "    ('clean_text',clean_text_pipe),\n",
    "    ('remove_duplicates', DuplicateRemover('release_id')),\n",
    "    ('encode_columns',column_encoding_pipe),\n",
    "    ('format_columns', format_pipe),\n",
    "    ('encode_time_periods', TimePeriodEncoder())\n",
    "])"
   ]
  },
  {
   "cell_type": "markdown",
   "metadata": {},
   "source": [
    "# Transforming"
   ]
  },
  {
   "cell_type": "code",
   "execution_count": 8,
   "metadata": {},
   "outputs": [],
   "source": [
    "data_loader = DataLoader(db_name='jazz_album',db_path=DATA_PATH,db_dialect='sqlite')\n",
    "extracted_df = data_loader.load_extracted_data()\n",
    "api_df = data_loader.load_api_data()"
   ]
  },
  {
   "cell_type": "code",
   "execution_count": 18,
   "metadata": {},
   "outputs": [
    {
     "name": "stderr",
     "output_type": "stream",
     "text": [
      "100%|██████████| 297546/297546 [00:11<00:00, 25138.20it/s]\n"
     ]
    },
    {
     "data": {
      "application/vnd.jupyter.widget-view+json": {
       "model_id": "01be4f5f03d448a9bd98bd6949839526",
       "version_major": 2,
       "version_minor": 0
      },
      "text/plain": [
       "HBox(children=(FloatProgress(value=1.0, bar_style='info', max=1.0), HTML(value='')))"
      ]
     },
     "metadata": {},
     "output_type": "display_data"
    },
    {
     "name": "stdout",
     "output_type": "stream",
     "text": [
      "\n"
     ]
    }
   ],
   "source": [
    "extracted_df = extracted_pipe.fit_transform(extracted_df)"
   ]
  },
  {
   "cell_type": "code",
   "execution_count": 19,
   "metadata": {},
   "outputs": [],
   "source": [
    "api_df = api_pipe.fit_transform(api_df)"
   ]
  },
  {
   "cell_type": "markdown",
   "metadata": {},
   "source": [
    "## Pickling Pipelines"
   ]
  },
  {
   "cell_type": "code",
   "execution_count": 24,
   "metadata": {},
   "outputs": [],
   "source": [
    "from lib.util.paths import PIPELINE_PATH"
   ]
  },
  {
   "cell_type": "code",
   "execution_count": 26,
   "metadata": {},
   "outputs": [],
   "source": [
    "pipeline_pickle_config = (\n",
    "    (extracted_pipe,'extracted_pipe','extracted'),\n",
    "    (clean_text_pipe,'clean_text_pipe','api'),\n",
    "    (column_encoding_pipe,'column_encoding_pipe','api'),\n",
    "    (format_pipe,'format_pipe','api'),\n",
    "    (api_pipe,'api_pipe','api')\n",
    ")\n",
    "for pipe, pipe_name, folder in pipeline_pickle_config:\n",
    "    save_to_pkl(pipe,pipe_name,os.path.join(PIPELINE_PATH,folder))"
   ]
  }
 ],
 "metadata": {
  "kernelspec": {
   "display_name": "Python 3",
   "language": "python",
   "name": "python3"
  },
  "language_info": {
   "codemirror_mode": {
    "name": "ipython",
    "version": 3
   },
   "file_extension": ".py",
   "mimetype": "text/x-python",
   "name": "python",
   "nbconvert_exporter": "python",
   "pygments_lexer": "ipython3",
   "version": "3.6.10"
  }
 },
 "nbformat": 4,
 "nbformat_minor": 4
}
