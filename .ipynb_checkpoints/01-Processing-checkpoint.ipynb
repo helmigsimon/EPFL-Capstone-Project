{
 "cells": [
  {
   "cell_type": "markdown",
   "metadata": {},
   "source": [
    "# Data Processing\n",
    "In this notebook, I will be loading the data necessary for this project, combining the data sources and performing initial data processing steps. I will also be performing some exploratory data analysis for the purposes of identifying missing values and outliers, which will then be followed up with the appropriate processing steps."
   ]
  },
  {
   "cell_type": "code",
   "execution_count": 51,
   "metadata": {},
   "outputs": [
    {
     "name": "stdout",
     "output_type": "stream",
     "text": [
      "The autoreload extension is already loaded. To reload it, use:\n",
      "  %reload_ext autoreload\n"
     ]
    }
   ],
   "source": [
    "%load_ext autoreload\n",
    "%autoreload 2\n",
    "import nltk\n",
    "import numpy as np\n",
    "import os\n",
    "import pandas as pd\n",
    "import pickle\n",
    "import random\n",
    "import re\n",
    "import string\n",
    "from collections import Counter\n",
    "from functools import partial\n",
    "from sklearn.feature_extraction.text import TfidfVectorizer\n",
    "from sklearn.preprocessing import FunctionTransformer\n",
    "from sklearn.pipeline import Pipeline\n",
    "from tqdm import tqdm\n",
    "tqdm.pandas()"
   ]
  },
  {
   "cell_type": "code",
   "execution_count": 5,
   "metadata": {},
   "outputs": [],
   "source": [
    "from data.util.paths import DATA_PATH\n",
    "from data.scripts.project_data import DataLoader\n",
    "from data.util.environment_variables import COUNTRIES, SUPERREGIONS, REGIONS\n",
    "from lib.transformers import *\n",
    "\n",
    "from lib.processing import load_geoscheme_df, encode_country_column, encode_style_column,clean_artist_column, clean_label_column, save_to_pkl, load_from_pkl, artist_ngrams, cossine_similarity, get_matches_df, label_ngrams, get_cosine_similarity_matches, get_ngrams, create_match_lookup, clean_format_text, make_market_value_col,make_format_description_column, make_format_name_column, make_format_quantity_column, make_format_text_column, expand_format_description_column, match_track_titles_to_standards "
   ]
  },
  {
   "cell_type": "markdown",
   "metadata": {},
   "source": [
    "# Extracted Data"
   ]
  },
  {
   "cell_type": "code",
   "execution_count": 34,
   "metadata": {},
   "outputs": [],
   "source": [
    "extracted_pipe = Pipeline([\n",
    "    ('remove_id', ColumnRemover('id')),\n",
    "    ('unpickle', Unpickler(['track_titles'])),\n",
    "    ('make_market_value', ColumnCombiner('median','market_price','market_value')),\n",
    "    ('remove_duplicates', DuplicateRemover('release_id')),\n",
    "    ('remove_nulls',NullRemover('market_value')),\n",
    "    ('count_standards',StandardCountEncoder('track_titles')),\n",
    "    ('count_days_since_last_sale',LastSoldEncoder(feature='last_sold',new_feature='days_since_last_sale'))\n",
    "])"
   ]
  },
  {
   "cell_type": "markdown",
   "metadata": {},
   "source": [
    "# API Data"
   ]
  },
  {
   "cell_type": "code",
   "execution_count": 8,
   "metadata": {},
   "outputs": [],
   "source": [
    "clean_text_pipe = Pipeline([\n",
    "    ('label', LabelCleaner()),\n",
    "    ('artist', ArtistCleaner())\n",
    "])"
   ]
  },
  {
   "cell_type": "code",
   "execution_count": 9,
   "metadata": {},
   "outputs": [],
   "source": [
    "column_encoding_pipe = Pipeline([\n",
    "    ('country',CountryEncoder()),\n",
    "    ('genre',GenreEncoder()),\n",
    "    ('style', MultiValueCategoricalEncoder(feature='style'))\n",
    "])"
   ]
  },
  {
   "cell_type": "code",
   "execution_count": 10,
   "metadata": {},
   "outputs": [],
   "source": [
    "format_pipe = Pipeline([\n",
    "    ('make_columns', FormatEncoder()),\n",
    "    ('encode_descriptions',MultiValueCategoricalEncoder('format_description')),\n",
    "    ('clean_format_text',FormatTextCleaner())\n",
    "])"
   ]
  },
  {
   "cell_type": "code",
   "execution_count": 12,
   "metadata": {},
   "outputs": [],
   "source": [
    "api_pipe = Pipeline([\n",
    "    ('remove_columns', ColumnRemover('id')),\n",
    "    ('split_title', TitleSplitter()),\n",
    "    ('unpickle', Unpickler(['genre','style','label','formats'])),\n",
    "    ('clean_text',clean_text_pipe),\n",
    "    ('remove_duplicates', DuplicateRemover('release_id')),\n",
    "    ('encode_columns',column_encoding_pipe),\n",
    "    ('format_columns', format_pipe),\n",
    "    ('encode_time_periods', TimePeriodEncoder)\n",
    "])"
   ]
  },
  {
   "cell_type": "markdown",
   "metadata": {},
   "source": [
    "# Transforming"
   ]
  },
  {
   "cell_type": "code",
   "execution_count": 32,
   "metadata": {},
   "outputs": [],
   "source": [
    "data_loader = DataLoader(db_name='jazz_album',db_path=DATA_PATH,db_dialect='sqlite')\n",
    "extracted_df = data_loader.load_extracted_data()\n",
    "api_df = data_loader.load_api_data()"
   ]
  },
  {
   "cell_type": "code",
   "execution_count": 47,
   "metadata": {},
   "outputs": [
    {
     "name": "stderr",
     "output_type": "stream",
     "text": [
      "\n",
      "  0%|          | 0/297546 [00:00<?, ?it/s]\u001b[A\n",
      "  1%|          | 2012/297546 [00:00<00:14, 20118.44it/s]\u001b[A\n",
      "  1%|▏         | 4222/297546 [00:00<00:14, 20672.16it/s]\u001b[A\n",
      "  2%|▏         | 6353/297546 [00:00<00:13, 20857.28it/s]\u001b[A\n",
      "  3%|▎         | 8590/297546 [00:00<00:13, 21286.61it/s]\u001b[A\n",
      "  4%|▎         | 10793/297546 [00:00<00:13, 21504.18it/s]\u001b[A\n",
      "  4%|▍         | 13176/297546 [00:00<00:12, 22152.75it/s]\u001b[A\n",
      "  5%|▌         | 15465/297546 [00:00<00:12, 22366.58it/s]\u001b[A\n",
      "  6%|▌         | 17680/297546 [00:00<00:12, 22300.85it/s]\u001b[A\n",
      "  7%|▋         | 19861/297546 [00:00<00:12, 22148.11it/s]\u001b[A\n",
      "  7%|▋         | 21998/297546 [00:01<00:12, 21774.18it/s]\u001b[A\n",
      "  8%|▊         | 24213/297546 [00:01<00:12, 21885.28it/s]\u001b[A\n",
      "  9%|▉         | 26535/297546 [00:01<00:12, 22268.19it/s]\u001b[A\n",
      " 10%|▉         | 28738/297546 [00:01<00:12, 21857.80it/s]\u001b[A\n",
      " 10%|█         | 30909/297546 [00:01<00:12, 21352.61it/s]\u001b[A\n",
      " 11%|█         | 33098/297546 [00:01<00:12, 21510.83it/s]\u001b[A\n",
      " 12%|█▏        | 35428/297546 [00:01<00:11, 22016.81it/s]\u001b[A\n",
      " 13%|█▎        | 37655/297546 [00:01<00:11, 22092.02it/s]\u001b[A\n",
      " 13%|█▎        | 39939/297546 [00:01<00:11, 22295.42it/s]\u001b[A\n",
      " 14%|█▍        | 42169/297546 [00:01<00:11, 21801.63it/s]\u001b[A\n",
      " 15%|█▍        | 44352/297546 [00:02<00:11, 21382.97it/s]\u001b[A\n",
      " 16%|█▌        | 46500/297546 [00:02<00:11, 21409.31it/s]\u001b[A\n",
      " 16%|█▋        | 48706/297546 [00:02<00:11, 21595.81it/s]\u001b[A\n",
      " 17%|█▋        | 51044/297546 [00:02<00:11, 22100.69it/s]\u001b[A\n",
      " 18%|█▊        | 53259/297546 [00:02<00:11, 21939.21it/s]\u001b[A\n",
      " 19%|█▊        | 55457/297546 [00:02<00:11, 21792.64it/s]\u001b[A\n",
      " 19%|█▉        | 57639/297546 [00:02<00:11, 21521.91it/s]\u001b[A\n",
      " 20%|██        | 59794/297546 [00:02<00:11, 21144.31it/s]\u001b[A\n",
      " 21%|██        | 61912/297546 [00:02<00:11, 20371.71it/s]\u001b[A\n",
      " 21%|██▏       | 63958/297546 [00:02<00:11, 19869.84it/s]\u001b[A\n",
      " 22%|██▏       | 66123/297546 [00:03<00:11, 20370.78it/s]\u001b[A\n",
      " 23%|██▎       | 68182/297546 [00:03<00:11, 20435.62it/s]\u001b[A\n",
      " 24%|██▎       | 70256/297546 [00:03<00:11, 20520.32it/s]\u001b[A\n",
      " 24%|██▍       | 72336/297546 [00:03<00:10, 20603.07it/s]\u001b[A\n",
      " 25%|██▌       | 74400/297546 [00:03<00:10, 20558.57it/s]\u001b[A\n",
      " 26%|██▌       | 76459/297546 [00:03<00:10, 20434.91it/s]\u001b[A\n",
      " 26%|██▋       | 78607/297546 [00:03<00:10, 20735.52it/s]\u001b[A\n",
      " 27%|██▋       | 80806/297546 [00:03<00:10, 21096.39it/s]\u001b[A\n",
      " 28%|██▊       | 83025/297546 [00:03<00:10, 21411.45it/s]\u001b[A\n",
      " 29%|██▊       | 85192/297546 [00:03<00:09, 21488.36it/s]\u001b[A\n",
      " 29%|██▉       | 87370/297546 [00:04<00:09, 21574.56it/s]\u001b[A\n",
      " 30%|███       | 89598/297546 [00:04<00:09, 21780.82it/s]\u001b[A\n",
      " 31%|███       | 91812/297546 [00:04<00:09, 21885.26it/s]\u001b[A\n",
      " 32%|███▏      | 94002/297546 [00:04<00:09, 21588.30it/s]\u001b[A\n",
      " 32%|███▏      | 96234/297546 [00:04<00:09, 21802.28it/s]\u001b[A\n",
      " 33%|███▎      | 98417/297546 [00:04<00:09, 21772.87it/s]\u001b[A\n",
      " 34%|███▍      | 100605/297546 [00:04<00:09, 21802.40it/s]\u001b[A\n",
      " 35%|███▍      | 102802/297546 [00:04<00:08, 21846.99it/s]\u001b[A\n",
      " 35%|███▌      | 104989/297546 [00:04<00:08, 21851.46it/s]\u001b[A\n",
      " 36%|███▌      | 107240/297546 [00:04<00:08, 22043.06it/s]\u001b[A\n",
      " 37%|███▋      | 109446/297546 [00:05<00:08, 21349.12it/s]\u001b[A\n",
      " 38%|███▊      | 111587/297546 [00:05<00:08, 21244.90it/s]\u001b[A\n",
      " 38%|███▊      | 113716/297546 [00:05<00:08, 21108.50it/s]\u001b[A\n",
      " 39%|███▉      | 115894/297546 [00:05<00:08, 21304.36it/s]\u001b[A\n",
      " 40%|███▉      | 118102/297546 [00:05<00:08, 21528.75it/s]\u001b[A\n",
      " 40%|████      | 120258/297546 [00:05<00:08, 21239.02it/s]\u001b[A\n",
      " 41%|████      | 122500/297546 [00:05<00:08, 21580.03it/s]\u001b[A\n",
      " 42%|████▏     | 124675/297546 [00:05<00:07, 21628.75it/s]\u001b[A\n",
      " 43%|████▎     | 126841/297546 [00:05<00:07, 21551.62it/s]\u001b[A\n",
      " 43%|████▎     | 128998/297546 [00:05<00:07, 21504.09it/s]\u001b[A\n",
      " 44%|████▍     | 131191/297546 [00:06<00:07, 21629.15it/s]\u001b[A\n",
      " 45%|████▍     | 133355/297546 [00:06<00:07, 21489.65it/s]\u001b[A\n",
      " 46%|████▌     | 135505/297546 [00:06<00:07, 20888.86it/s]\u001b[A\n",
      " 46%|████▌     | 137599/297546 [00:06<00:07, 20369.54it/s]\u001b[A\n",
      " 47%|████▋     | 139716/297546 [00:06<00:07, 20601.81it/s]\u001b[A\n",
      " 48%|████▊     | 141809/297546 [00:06<00:07, 20695.79it/s]\u001b[A\n",
      " 48%|████▊     | 143961/297546 [00:06<00:07, 20934.82it/s]\u001b[A\n",
      " 49%|████▉     | 146081/297546 [00:06<00:07, 21013.04it/s]\u001b[A\n",
      " 50%|████▉     | 148234/297546 [00:06<00:07, 21164.45it/s]\u001b[A\n",
      " 51%|█████     | 150489/297546 [00:07<00:06, 21560.17it/s]\u001b[A\n",
      " 51%|█████▏    | 152649/297546 [00:07<00:06, 21392.77it/s]\u001b[A\n",
      " 52%|█████▏    | 154809/297546 [00:07<00:06, 21452.80it/s]\u001b[A\n",
      " 53%|█████▎    | 156957/297546 [00:07<00:06, 21381.28it/s]\u001b[A\n",
      " 53%|█████▎    | 159097/297546 [00:07<00:06, 21372.17it/s]\u001b[A\n",
      " 54%|█████▍    | 161247/297546 [00:07<00:06, 21409.72it/s]\u001b[A\n",
      " 55%|█████▍    | 163389/297546 [00:07<00:06, 21398.17it/s]\u001b[A\n",
      " 56%|█████▌    | 165530/297546 [00:07<00:06, 21333.19it/s]\u001b[A\n",
      " 56%|█████▋    | 167664/297546 [00:07<00:06, 21313.23it/s]\u001b[A\n",
      " 57%|█████▋    | 169806/297546 [00:07<00:05, 21344.44it/s]\u001b[A\n",
      " 58%|█████▊    | 171941/297546 [00:08<00:05, 21249.80it/s]\u001b[A\n",
      " 59%|█████▊    | 174067/297546 [00:08<00:05, 20917.62it/s]\u001b[A\n",
      " 59%|█████▉    | 176161/297546 [00:08<00:05, 20683.33it/s]\u001b[A\n",
      " 60%|█████▉    | 178231/297546 [00:08<00:05, 20521.94it/s]\u001b[A\n",
      " 61%|██████    | 180285/297546 [00:08<00:05, 20454.19it/s]\u001b[A\n",
      " 61%|██████▏   | 182380/297546 [00:08<00:05, 20600.32it/s]\u001b[A\n",
      " 62%|██████▏   | 184441/297546 [00:08<00:05, 20374.27it/s]\u001b[A\n",
      " 63%|██████▎   | 186505/297546 [00:08<00:05, 20452.53it/s]\u001b[A\n",
      " 63%|██████▎   | 188552/297546 [00:08<00:05, 20308.35it/s]\u001b[A\n",
      " 64%|██████▍   | 190584/297546 [00:08<00:05, 20088.53it/s]\u001b[A\n",
      " 65%|██████▍   | 192634/297546 [00:09<00:05, 20209.76it/s]\u001b[A\n",
      " 65%|██████▌   | 194732/297546 [00:09<00:05, 20433.98it/s]\u001b[A\n",
      " 66%|██████▌   | 196777/297546 [00:09<00:04, 20225.50it/s]\u001b[A\n",
      " 67%|██████▋   | 198801/297546 [00:09<00:04, 20185.78it/s]\u001b[A\n",
      " 68%|██████▊   | 200876/297546 [00:09<00:04, 20351.50it/s]\u001b[A\n",
      " 68%|██████▊   | 203035/297546 [00:09<00:04, 20705.96it/s]\u001b[A\n",
      " 69%|██████▉   | 205199/297546 [00:09<00:04, 20977.16it/s]\u001b[A\n",
      " 70%|██████▉   | 207329/297546 [00:09<00:04, 21072.85it/s]\u001b[A\n",
      " 70%|███████   | 209439/297546 [00:09<00:04, 20848.09it/s]\u001b[A\n",
      " 71%|███████   | 211615/297546 [00:09<00:04, 21113.23it/s]\u001b[A\n",
      " 72%|███████▏  | 213795/297546 [00:10<00:03, 21312.61it/s]\u001b[A\n",
      " 73%|███████▎  | 215929/297546 [00:10<00:03, 21215.52it/s]\u001b[A\n",
      " 73%|███████▎  | 218052/297546 [00:10<00:03, 21189.99it/s]\u001b[A\n",
      " 74%|███████▍  | 220285/297546 [00:10<00:03, 21514.49it/s]\u001b[A\n",
      " 75%|███████▍  | 222439/297546 [00:10<00:03, 20702.87it/s]\u001b[A\n",
      " 75%|███████▌  | 224530/297546 [00:10<00:03, 20763.34it/s]\u001b[A\n",
      " 76%|███████▌  | 226776/297546 [00:10<00:03, 21243.54it/s]\u001b[A\n",
      " 77%|███████▋  | 228984/297546 [00:10<00:03, 21486.11it/s]\u001b[A\n",
      " 78%|███████▊  | 231138/297546 [00:10<00:03, 21439.26it/s]\u001b[A\n",
      " 78%|███████▊  | 233286/297546 [00:10<00:03, 21144.11it/s]\u001b[A\n",
      " 79%|███████▉  | 235447/297546 [00:11<00:02, 21280.48it/s]\u001b[A\n",
      " 80%|███████▉  | 237578/297546 [00:11<00:02, 21200.03it/s]\u001b[A\n",
      " 81%|████████  | 239700/297546 [00:11<00:02, 20983.45it/s]\u001b[A\n",
      " 81%|████████▏ | 241801/297546 [00:11<00:02, 20944.89it/s]\u001b[A\n",
      " 82%|████████▏ | 243897/297546 [00:11<00:02, 20149.42it/s]\u001b[A\n",
      " 83%|████████▎ | 246003/297546 [00:11<00:02, 20414.05it/s]\u001b[A\n",
      " 83%|████████▎ | 248051/297546 [00:11<00:02, 20268.96it/s]\u001b[A\n",
      " 84%|████████▍ | 250108/297546 [00:11<00:02, 20357.37it/s]\u001b[A\n",
      " 85%|████████▍ | 252147/297546 [00:11<00:02, 20189.51it/s]\u001b[A\n",
      " 85%|████████▌ | 254169/297546 [00:12<00:02, 19496.42it/s]\u001b[A\n",
      " 86%|████████▌ | 256294/297546 [00:12<00:02, 19974.59it/s]\u001b[A\n",
      " 87%|████████▋ | 258392/297546 [00:12<00:01, 20264.19it/s]\u001b[A\n",
      " 88%|████████▊ | 260640/297546 [00:12<00:01, 20877.72it/s]\u001b[A\n",
      " 88%|████████▊ | 262940/297546 [00:12<00:01, 21470.35it/s]\u001b[A\n",
      " 89%|████████▉ | 265208/297546 [00:12<00:01, 21818.36it/s]\u001b[A\n",
      " 90%|████████▉ | 267446/297546 [00:12<00:01, 21983.74it/s]\u001b[A\n",
      " 91%|█████████ | 269651/297546 [00:12<00:01, 21904.69it/s]\u001b[A\n",
      " 91%|█████████▏| 271847/297546 [00:12<00:01, 21609.33it/s]\u001b[A\n",
      " 92%|█████████▏| 274013/297546 [00:12<00:01, 21406.32it/s]\u001b[A\n",
      " 93%|█████████▎| 276157/297546 [00:13<00:01, 21309.01it/s]\u001b[A\n",
      " 94%|█████████▎| 278409/297546 [00:13<00:00, 21656.40it/s]\u001b[A\n",
      " 94%|█████████▍| 280736/297546 [00:13<00:00, 22114.54it/s]\u001b[A\n",
      " 95%|█████████▌| 283201/297546 [00:13<00:00, 22816.45it/s]\u001b[A\n",
      " 96%|█████████▌| 285633/297546 [00:13<00:00, 23242.42it/s]\u001b[A\n",
      " 97%|█████████▋| 288122/297546 [00:13<00:00, 23712.51it/s]\u001b[A\n",
      " 98%|█████████▊| 290568/297546 [00:13<00:00, 23931.02it/s]\u001b[A\n",
      " 98%|█████████▊| 293036/297546 [00:13<00:00, 24146.78it/s]\u001b[A\n",
      "100%|██████████| 297546/297546 [00:13<00:00, 21342.88it/s]\u001b[A\n"
     ]
    },
    {
     "data": {
      "application/vnd.jupyter.widget-view+json": {
       "model_id": "3e6a1cc1721c422492eda4058c1288bb",
       "version_major": 2,
       "version_minor": 0
      },
      "text/plain": [
       "HBox(children=(FloatProgress(value=1.0, bar_style='info', max=1.0), HTML(value='')))"
      ]
     },
     "metadata": {},
     "output_type": "display_data"
    },
    {
     "name": "stdout",
     "output_type": "stream",
     "text": [
      "\n"
     ]
    }
   ],
   "source": [
    "extracted_data = extracted_pipe.fit_transform(extracted_df)"
   ]
  },
  {
   "cell_type": "code",
   "execution_count": null,
   "metadata": {},
   "outputs": [],
   "source": [
    "api_df = api_pipe.fit_transform(api_df)"
   ]
  }
 ],
 "metadata": {
  "kernelspec": {
   "display_name": "Python 3",
   "language": "python",
   "name": "python3"
  },
  "language_info": {
   "codemirror_mode": {
    "name": "ipython",
    "version": 3
   },
   "file_extension": ".py",
   "mimetype": "text/x-python",
   "name": "python",
   "nbconvert_exporter": "python",
   "pygments_lexer": "ipython3",
   "version": "3.6.10"
  }
 },
 "nbformat": 4,
 "nbformat_minor": 4
}
