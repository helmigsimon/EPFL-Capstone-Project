{
 "cells": [
  {
   "cell_type": "markdown",
   "metadata": {},
   "source": [
    "# Data Processing\n",
    "In this notebook, I will be loading the data necessary for this project, combining the data sources and performing initial data processing steps. I will also be performing some exploratory data analysis for the purposes of identifying missing values and outliers, which will then be followed up with the appropriate processing steps."
   ]
  },
  {
   "cell_type": "code",
   "execution_count": 190,
   "metadata": {},
   "outputs": [
    {
     "name": "stdout",
     "output_type": "stream",
     "text": [
      "The autoreload extension is already loaded. To reload it, use:\n",
      "  %reload_ext autoreload\n"
     ]
    }
   ],
   "source": [
    "%load_ext autoreload\n",
    "%autoreload 2\n",
    "%matplotlib inline\n",
    "%config InlineBackend.figure_format = 'retina'\n",
    "import os\n",
    "import re\n",
    "import pandas as pd\n",
    "import pdpipe as pdp\n",
    "import numpy as np\n",
    "import matplotlib.pyplot as plt\n",
    "import random\n",
    "import seaborn as sns\n",
    "import string\n",
    "import pickle\n",
    "from functools import partial\n",
    "import nltk\n",
    "from tqdm import tqdm\n",
    "from collections import Counter\n",
    "from sklearn.feature_extraction.text import TfidfVectorizer\n",
    "from functools import partial\n",
    "tqdm.pandas()"
   ]
  },
  {
   "cell_type": "code",
   "execution_count": 61,
   "metadata": {},
   "outputs": [],
   "source": [
    "from data.util.paths import DATA_PATH\n",
    "from data.scripts.project_data import DataLoader\n",
    "from data.util.environment_variables import COUNTRIES, SUPERREGIONS, REGIONS\n",
    "\n",
    "from lib.processing import load_geoscheme_df, get_country_to_dict_mapping, encode_country_column, encode_genre_column, encode_style_column, clean_artist_column, clean_label_column, save_to_pkl, load_from_pkl, artist_ngrams, cossine_similarity, get_matches_df, label_ngrams, get_cosine_similarity_matches, get_ngrams, create_match_lookup, clean_format_text"
   ]
  },
  {
   "cell_type": "markdown",
   "metadata": {},
   "source": [
    "# Extracted Data\n",
    "## Loading and Cleaning"
   ]
  },
  {
   "cell_type": "code",
   "execution_count": 3,
   "metadata": {},
   "outputs": [],
   "source": [
    "data_loader = DataLoader()"
   ]
  },
  {
   "cell_type": "code",
   "execution_count": 4,
   "metadata": {},
   "outputs": [],
   "source": [
    "extracted_data = data_loader.load_extracted_data()"
   ]
  },
  {
   "cell_type": "code",
   "execution_count": 5,
   "metadata": {},
   "outputs": [],
   "source": [
    "extracted_data.head()\n",
    "extracted_data.drop_duplicates('release_id',inplace=True)"
   ]
  },
  {
   "cell_type": "code",
   "execution_count": 6,
   "metadata": {},
   "outputs": [],
   "source": [
    "def make_market_value_col(median_col,market_price_col):\n",
    "    median_col, market_price_col = median_col.copy(), market_price_col.copy()\n",
    "    \n",
    "    market_value_col = median_col\n",
    "    \n",
    "    market_value_null_idx = market_value_col[market_value_col.isnull()].index\n",
    "    \n",
    "    market_value_col[market_value_null_idx] = market_price_col[market_value_null_idx]\n",
    "    \n",
    "    return market_value_col"
   ]
  },
  {
   "cell_type": "code",
   "execution_count": 7,
   "metadata": {},
   "outputs": [],
   "source": [
    "extracted_data['market_value'] = make_market_value_col(extracted_data['median'],extracted_data['market_price'])"
   ]
  },
  {
   "cell_type": "code",
   "execution_count": 8,
   "metadata": {},
   "outputs": [],
   "source": [
    "extracted_data.drop('id',inplace=True,axis=1)"
   ]
  },
  {
   "cell_type": "code",
   "execution_count": 9,
   "metadata": {},
   "outputs": [],
   "source": [
    "ids_to_drop = extracted_data[extracted_data['market_value'].isnull()]['release_id']"
   ]
  },
  {
   "cell_type": "code",
   "execution_count": 10,
   "metadata": {},
   "outputs": [],
   "source": [
    "extracted_data.drop(ids_to_drop.index,inplace=True)"
   ]
  },
  {
   "cell_type": "markdown",
   "metadata": {},
   "source": [
    "# API Data\n",
    "## Loading and Cleaning"
   ]
  },
  {
   "cell_type": "code",
   "execution_count": 11,
   "metadata": {},
   "outputs": [],
   "source": [
    "api_df = data_loader.load_api_data()"
   ]
  },
  {
   "cell_type": "code",
   "execution_count": 12,
   "metadata": {},
   "outputs": [],
   "source": [
    "api_df = pd.concat([api_df,api_df['title'].str.split(' - ',n=1,expand=True)],axis=1)"
   ]
  },
  {
   "cell_type": "code",
   "execution_count": 13,
   "metadata": {},
   "outputs": [],
   "source": [
    "geoscheme_df = load_geoscheme_df()"
   ]
  },
  {
   "cell_type": "code",
   "execution_count": 14,
   "metadata": {},
   "outputs": [],
   "source": [
    "country_to_dict_mapping = get_country_to_dict_mapping()"
   ]
  },
  {
   "cell_type": "code",
   "execution_count": 15,
   "metadata": {},
   "outputs": [],
   "source": [
    "pipeline = pdp.DropDuplicates('release_id')\n",
    "pipeline += pdp.ColDrop(['title','id'])\n",
    "pipeline += pdp.ColRename({0: 'artist', 1: 'title'})\n",
    "pipeline += pdp.ApplyByCols(['genre','style','label','formats'],pickle.loads)\n",
    "pipeline += pdp.MapColVals('country',country_to_dict_mapping)"
   ]
  },
  {
   "cell_type": "code",
   "execution_count": 16,
   "metadata": {},
   "outputs": [],
   "source": [
    "api_df = pipeline.apply(api_df)"
   ]
  },
  {
   "cell_type": "code",
   "execution_count": 17,
   "metadata": {},
   "outputs": [],
   "source": [
    "api_df = extracted_data.merge(api_df,how='left',on='release_id')"
   ]
  },
  {
   "cell_type": "markdown",
   "metadata": {},
   "source": [
    "## Encoding Country"
   ]
  },
  {
   "cell_type": "code",
   "execution_count": null,
   "metadata": {},
   "outputs": [],
   "source": [
    "encoded_country_df = encode_country_column(api_df['country'])"
   ]
  },
  {
   "cell_type": "code",
   "execution_count": null,
   "metadata": {},
   "outputs": [],
   "source": [
    "save_to_pkl(encoded_country_df,'country')"
   ]
  },
  {
   "cell_type": "markdown",
   "metadata": {},
   "source": [
    "## Encoding Genre"
   ]
  },
  {
   "cell_type": "code",
   "execution_count": null,
   "metadata": {},
   "outputs": [],
   "source": [
    "encoded_genre_df = encode_genre_column(api_df['genre'])"
   ]
  },
  {
   "cell_type": "code",
   "execution_count": null,
   "metadata": {},
   "outputs": [],
   "source": [
    "save_to_pkl(encoded_genre_df,'genre')"
   ]
  },
  {
   "cell_type": "markdown",
   "metadata": {},
   "source": [
    "## Encoding Style"
   ]
  },
  {
   "cell_type": "code",
   "execution_count": null,
   "metadata": {},
   "outputs": [],
   "source": [
    "encoded_style_df = encode_style_column(api_df['style'])"
   ]
  },
  {
   "cell_type": "code",
   "execution_count": null,
   "metadata": {},
   "outputs": [],
   "source": [
    "save_to_pkl(encoded_style_df.astype(np.uint8),'style')"
   ]
  },
  {
   "cell_type": "markdown",
   "metadata": {},
   "source": [
    "## Cleaning Label and Artist for Later Encoding"
   ]
  },
  {
   "cell_type": "code",
   "execution_count": 18,
   "metadata": {},
   "outputs": [],
   "source": [
    "api_df['artist_clean'] = api_df['artist'].apply(clean_artist_column)\n",
    "api_df['label_clean'] = api_df['label'].apply(lambda x: x[0]).apply(clean_label_column)"
   ]
  },
  {
   "cell_type": "markdown",
   "metadata": {},
   "source": [
    "### Artists Cosine Similarity Matching"
   ]
  },
  {
   "cell_type": "code",
   "execution_count": 19,
   "metadata": {},
   "outputs": [
    {
     "data": {
      "text/html": [
       "<div>\n",
       "<style scoped>\n",
       "    .dataframe tbody tr th:only-of-type {\n",
       "        vertical-align: middle;\n",
       "    }\n",
       "\n",
       "    .dataframe tbody tr th {\n",
       "        vertical-align: top;\n",
       "    }\n",
       "\n",
       "    .dataframe thead th {\n",
       "        text-align: right;\n",
       "    }\n",
       "</style>\n",
       "<table border=\"1\" class=\"dataframe\">\n",
       "  <thead>\n",
       "    <tr style=\"text-align: right;\">\n",
       "      <th></th>\n",
       "      <th>left_side</th>\n",
       "      <th>right_side</th>\n",
       "      <th>similarity</th>\n",
       "    </tr>\n",
       "  </thead>\n",
       "  <tbody>\n",
       "    <tr>\n",
       "      <th>4</th>\n",
       "      <td>benny goodman benny goodman quartet benny goodman</td>\n",
       "      <td>benny goodman</td>\n",
       "      <td>0.941538</td>\n",
       "    </tr>\n",
       "    <tr>\n",
       "      <th>5</th>\n",
       "      <td>benny goodman benny goodman quartet benny goodman</td>\n",
       "      <td>benny goodman benny goodman sextet</td>\n",
       "      <td>0.921802</td>\n",
       "    </tr>\n",
       "    <tr>\n",
       "      <th>6</th>\n",
       "      <td>benny goodman benny goodman quartet benny goodman</td>\n",
       "      <td>benny goodman quartet</td>\n",
       "      <td>0.902357</td>\n",
       "    </tr>\n",
       "    <tr>\n",
       "      <th>9</th>\n",
       "      <td>benny goodman</td>\n",
       "      <td>benny goodman benny goodman quartet benny goodman</td>\n",
       "      <td>0.941538</td>\n",
       "    </tr>\n",
       "    <tr>\n",
       "      <th>10</th>\n",
       "      <td>benny goodman</td>\n",
       "      <td>benny goodman benny goodman sextet</td>\n",
       "      <td>0.921013</td>\n",
       "    </tr>\n",
       "    <tr>\n",
       "      <th>...</th>\n",
       "      <td>...</td>\n",
       "      <td>...</td>\n",
       "      <td>...</td>\n",
       "    </tr>\n",
       "    <tr>\n",
       "      <th>9894</th>\n",
       "      <td>wynton marsalis branford marsalis ellis marsalis</td>\n",
       "      <td>ellis marsalis branford marsalis</td>\n",
       "      <td>0.939691</td>\n",
       "    </tr>\n",
       "    <tr>\n",
       "      <th>9895</th>\n",
       "      <td>wynton marsalis branford marsalis ellis marsalis</td>\n",
       "      <td>wynton marsalis ellis marsalis</td>\n",
       "      <td>0.931852</td>\n",
       "    </tr>\n",
       "    <tr>\n",
       "      <th>9930</th>\n",
       "      <td>abdullah ibrahim</td>\n",
       "      <td>abdullah ibrahim trio</td>\n",
       "      <td>0.905000</td>\n",
       "    </tr>\n",
       "    <tr>\n",
       "      <th>9955</th>\n",
       "      <td>masahiko togashi richard beirach</td>\n",
       "      <td>richard beirach masahiko togashi</td>\n",
       "      <td>0.906908</td>\n",
       "    </tr>\n",
       "    <tr>\n",
       "      <th>9989</th>\n",
       "      <td>monty sunshine jazz</td>\n",
       "      <td>monty sunshine</td>\n",
       "      <td>0.904366</td>\n",
       "    </tr>\n",
       "  </tbody>\n",
       "</table>\n",
       "<p>541 rows × 3 columns</p>\n",
       "</div>"
      ],
      "text/plain": [
       "                                              left_side  \\\n",
       "4     benny goodman benny goodman quartet benny goodman   \n",
       "5     benny goodman benny goodman quartet benny goodman   \n",
       "6     benny goodman benny goodman quartet benny goodman   \n",
       "9                                         benny goodman   \n",
       "10                                        benny goodman   \n",
       "...                                                 ...   \n",
       "9894   wynton marsalis branford marsalis ellis marsalis   \n",
       "9895   wynton marsalis branford marsalis ellis marsalis   \n",
       "9930                                   abdullah ibrahim   \n",
       "9955                   masahiko togashi richard beirach   \n",
       "9989                                monty sunshine jazz   \n",
       "\n",
       "                                             right_side  similarity  \n",
       "4                                         benny goodman    0.941538  \n",
       "5                    benny goodman benny goodman sextet    0.921802  \n",
       "6                                 benny goodman quartet    0.902357  \n",
       "9     benny goodman benny goodman quartet benny goodman    0.941538  \n",
       "10                   benny goodman benny goodman sextet    0.921013  \n",
       "...                                                 ...         ...  \n",
       "9894                   ellis marsalis branford marsalis    0.939691  \n",
       "9895                     wynton marsalis ellis marsalis    0.931852  \n",
       "9930                              abdullah ibrahim trio    0.905000  \n",
       "9955                   richard beirach masahiko togashi    0.906908  \n",
       "9989                                     monty sunshine    0.904366  \n",
       "\n",
       "[541 rows x 3 columns]"
      ]
     },
     "execution_count": 19,
     "metadata": {},
     "output_type": "execute_result"
    }
   ],
   "source": [
    "artist_matches_df = get_cosine_similarity_matches(api_df['artist_clean'],get_ngrams)\n",
    "artist_matches_df"
   ]
  },
  {
   "cell_type": "code",
   "execution_count": 28,
   "metadata": {},
   "outputs": [],
   "source": [
    "artist_match_lookup = create_match_lookup(artist_matches_df)\n",
    "\n",
    "#Check that all lookup values are final nodes\n",
    "for key, value in artist_match_lookup.items():\n",
    "    try:\n",
    "        assert artist_match_lookup[value] == value\n",
    "    except KeyError:\n",
    "        continue\n",
    "        \n",
    "#Convert artist names to best compressed value according to match lookup table\n",
    "api_df['artist_clean'] = api_df['artist_clean'].apply(lambda x: artist_match_lookup[x] if artist_match_lookup.get(x) else x)"
   ]
  },
  {
   "cell_type": "markdown",
   "metadata": {},
   "source": [
    "### Label Cosine Similarity Matching"
   ]
  },
  {
   "cell_type": "code",
   "execution_count": 29,
   "metadata": {},
   "outputs": [
    {
     "data": {
      "text/html": [
       "<div>\n",
       "<style scoped>\n",
       "    .dataframe tbody tr th:only-of-type {\n",
       "        vertical-align: middle;\n",
       "    }\n",
       "\n",
       "    .dataframe tbody tr th {\n",
       "        vertical-align: top;\n",
       "    }\n",
       "\n",
       "    .dataframe thead th {\n",
       "        text-align: right;\n",
       "    }\n",
       "</style>\n",
       "<table border=\"1\" class=\"dataframe\">\n",
       "  <thead>\n",
       "    <tr style=\"text-align: right;\">\n",
       "      <th></th>\n",
       "      <th>left_side</th>\n",
       "      <th>right_side</th>\n",
       "      <th>similarity</th>\n",
       "    </tr>\n",
       "  </thead>\n",
       "  <tbody>\n",
       "    <tr>\n",
       "      <th>8</th>\n",
       "      <td>general</td>\n",
       "      <td>generali</td>\n",
       "      <td>0.921196</td>\n",
       "    </tr>\n",
       "    <tr>\n",
       "      <th>32</th>\n",
       "      <td>signature</td>\n",
       "      <td>signatur</td>\n",
       "      <td>0.941035</td>\n",
       "    </tr>\n",
       "    <tr>\n",
       "      <th>64</th>\n",
       "      <td>atlantic</td>\n",
       "      <td>atlantica</td>\n",
       "      <td>0.950156</td>\n",
       "    </tr>\n",
       "    <tr>\n",
       "      <th>65</th>\n",
       "      <td>atlantic</td>\n",
       "      <td>atlanti</td>\n",
       "      <td>0.929364</td>\n",
       "    </tr>\n",
       "    <tr>\n",
       "      <th>72</th>\n",
       "      <td>custom fidelity</td>\n",
       "      <td>custom fidelity co</td>\n",
       "      <td>0.914510</td>\n",
       "    </tr>\n",
       "    <tr>\n",
       "      <th>...</th>\n",
       "      <td>...</td>\n",
       "      <td>...</td>\n",
       "      <td>...</td>\n",
       "    </tr>\n",
       "    <tr>\n",
       "      <th>9613</th>\n",
       "      <td>digital</td>\n",
       "      <td>digitali</td>\n",
       "      <td>0.923328</td>\n",
       "    </tr>\n",
       "    <tr>\n",
       "      <th>9622</th>\n",
       "      <td>boriginal</td>\n",
       "      <td>original</td>\n",
       "      <td>0.910276</td>\n",
       "    </tr>\n",
       "    <tr>\n",
       "      <th>9855</th>\n",
       "      <td>apollo</td>\n",
       "      <td>apollon</td>\n",
       "      <td>0.901117</td>\n",
       "    </tr>\n",
       "    <tr>\n",
       "      <th>9920</th>\n",
       "      <td>hush</td>\n",
       "      <td>hushush</td>\n",
       "      <td>0.935384</td>\n",
       "    </tr>\n",
       "    <tr>\n",
       "      <th>9960</th>\n",
       "      <td>ionyx</td>\n",
       "      <td>onyx</td>\n",
       "      <td>0.941547</td>\n",
       "    </tr>\n",
       "  </tbody>\n",
       "</table>\n",
       "<p>179 rows × 3 columns</p>\n",
       "</div>"
      ],
      "text/plain": [
       "            left_side          right_side  similarity\n",
       "8             general            generali    0.921196\n",
       "32          signature            signatur    0.941035\n",
       "64           atlantic           atlantica    0.950156\n",
       "65           atlantic             atlanti    0.929364\n",
       "72    custom fidelity  custom fidelity co    0.914510\n",
       "...               ...                 ...         ...\n",
       "9613          digital            digitali    0.923328\n",
       "9622        boriginal            original    0.910276\n",
       "9855           apollo             apollon    0.901117\n",
       "9920             hush             hushush    0.935384\n",
       "9960            ionyx                onyx    0.941547\n",
       "\n",
       "[179 rows x 3 columns]"
      ]
     },
     "execution_count": 29,
     "metadata": {},
     "output_type": "execute_result"
    }
   ],
   "source": [
    "label_matches_df = get_cosine_similarity_matches(api_df['label_clean'],get_ngrams)\n",
    "label_matches_df"
   ]
  },
  {
   "cell_type": "code",
   "execution_count": 30,
   "metadata": {},
   "outputs": [
    {
     "data": {
      "text/plain": [
       "{'generali': 'general',\n",
       " 'atlantica': 'atlanti',\n",
       " 'custom fidelity co': 'custom fidelity',\n",
       " 'summitt': 'summit',\n",
       " 'pp polskie nagrania muza': 'polskie nagrania muza',\n",
       " 'pantone': 'panton',\n",
       " 'marista': 'arista',\n",
       " 'gruppo editoriale lespresso spa': 'gruppo editoriale lespresso',\n",
       " 'membrane': 'membran',\n",
       " 'polskie radio sa': 'polskie radio',\n",
       " 'emivalentim de carvalho': 'valentim de carvalho',\n",
       " 'universal international bv': 'universal international',\n",
       " 'americana': 'america',\n",
       " 'genuine': 'genuin',\n",
       " 'tokuma japan co': 'tokuma japan',\n",
       " 'avanguard': 'vanguard',\n",
       " 'norman': 'norma',\n",
       " 'bel aire': 'bel air',\n",
       " 'mca special product': 'rca special product',\n",
       " 'higher octave jazz': 'higher octave',\n",
       " 'beggars banquet u': 'beggars banquet',\n",
       " 'hermitage': 'ermitage',\n",
       " 'wydawnictwo a': 'wydawnictwo',\n",
       " 'unisono': 'unison',\n",
       " 'outsider': 'outside',\n",
       " 'dover': 'dove',\n",
       " 'ionyx': 'onyx',\n",
       " 'signature': 'signatur',\n",
       " 'royale': 'royal',\n",
       " 'spirale': 'spiral',\n",
       " 'varèse sarabande jazz': 'varèse sarabande',\n",
       " 'universal portugal sa': 'universal portugal',\n",
       " 'absord japan co': 'absord japan',\n",
       " 'emicapitol special market': 'capitol special market',\n",
       " 'cococon': 'coco',\n",
       " 'favorite': 'favorit',\n",
       " 'melodia': 'melodi',\n",
       " 'atlantic': 'atlanti',\n",
       " 'tipping': 'tippin',\n",
       " 'personal': 'persona',\n",
       " 'ananana': 'nana',\n",
       " 'locomotive': 'locomotiv',\n",
       " 'delmark': 'delmar',\n",
       " 'boptimism': 'optimism',\n",
       " 'wah wah ': 'wah wah',\n",
       " 'harmoni': 'harmon',\n",
       " 'mystica': 'mystic',\n",
       " 'emi pathé marconi sa': 'emi pathé marconi',\n",
       " 'sonotone': 'sonoton',\n",
       " 'american': 'america',\n",
       " 'documento': 'document',\n",
       " 'océane': 'océan',\n",
       " 'tartare': 'tartar',\n",
       " 'nocturne': 'nocturn',\n",
       " 'universal group international bv': 'universal group international',\n",
       " 'impacto': 'impact',\n",
       " 'morpheu': 'orpheu',\n",
       " 'marianne': 'mariann',\n",
       " 'emrec': 'emre',\n",
       " 'wydawnictwo annex': 'wydawnictwo anex',\n",
       " 'brassroot': 'grassroot',\n",
       " 'alison': 'aliso',\n",
       " 'kazz': 'kaz',\n",
       " 'gazelle': 'gazell',\n",
       " 'crimsonic': 'crimson',\n",
       " 'alter': 'alte',\n",
       " 'satsanga': 'satsang',\n",
       " 'coast': 'east coast',\n",
       " 'mandarine': 'mandarin',\n",
       " 'hybrida': 'hybrid',\n",
       " 'halcyon': 'alcyon',\n",
       " 'revolution': 'evolution',\n",
       " 'augusta': 'august',\n",
       " 'beyond beyond beyond': 'beyond',\n",
       " 'preview': 'review',\n",
       " 'monopole': 'monopol',\n",
       " 'monopoly': 'monopol',\n",
       " 'copenhagen c': 'copenhagen',\n",
       " 'hexagone': 'hexagon',\n",
       " 'hexagonal': 'hexagon',\n",
       " 'proper': 'roper',\n",
       " 'dmusica': 'dmusic',\n",
       " 'vibratone': 'vibraton',\n",
       " 'música global discogràfica sl': 'música global discogràfica',\n",
       " 'boriginal': 'original',\n",
       " 'manifesto': 'manifest',\n",
       " 'transitional': 'transition',\n",
       " 'esperanto': 'esperant',\n",
       " 'new international': 'w international',\n",
       " 'litratone': 'litraton',\n",
       " 'manzana producciones discográficas sl': 'manzana producciones discográficas sa',\n",
       " 'beaver': 'beave',\n",
       " 'le chant du monde': 'chant du monde',\n",
       " 'rh pozitif müzik yapım': 'pozitif müzik yapım',\n",
       " 'harmonic': 'harmon',\n",
       " 'harmonia': 'harmon',\n",
       " 'concertone': 'concerto',\n",
       " 'revolver': 'evolver',\n",
       " 'coast coast': 'east coast',\n",
       " 'prevue': 'revue',\n",
       " 'pacifica': 'pacific',\n",
       " 'pacifico': 'pacific',\n",
       " 'digitali': 'digital',\n",
       " 'apollon': 'apollo',\n",
       " 'hushush': 'hush',\n",
       " 'elabeth': 'labeth',\n",
       " 'akosh szelevényi trio selfreleased': 'akosh szelevényi selfreleased',\n",
       " 'carling': 'carlin',\n",
       " 'discordian': 'discordia',\n",
       " 'ajazz': 'ajaz',\n",
       " 'leaf': 'eaf',\n",
       " 'jazztone': 'jazzton',\n",
       " 'curcio': 'curci',\n",
       " 'taragon': 'aragon',\n",
       " 'kontran': 'kontra',\n",
       " 'select': 'elect',\n",
       " 'acoustic': 'acousti',\n",
       " 'cypres': 'cypre',\n",
       " 'sonorama': 'sonoram',\n",
       " 'dreamusic': 'reamusic',\n",
       " 'nippon columbia co': 'nippon columbia',\n",
       " 'platinum': 'latinum',\n",
       " 'marvela': 'marvel',\n",
       " 'pentagrama': 'pentagram',\n",
       " 'calibre': 'alibre',\n",
       " 'la drogueria di drugolo srl': 'la drogueria di drugolo',\n",
       " 'stupido': 'stupid',\n",
       " 'jazzman': 'jazzma',\n",
       " 'musicor': 'musico',\n",
       " 'fairplay': 'airplay',\n",
       " 'grabaciones mundiales ca': 'grabaciones mundiale',\n",
       " 'exclusivo': 'exclusiv',\n",
       " 'sensory': 'sensor',\n",
       " 'jase': 'jas',\n",
       " 'airborne': 'airborn',\n",
       " 'brighton': 'righton'}"
      ]
     },
     "execution_count": 30,
     "metadata": {},
     "output_type": "execute_result"
    }
   ],
   "source": [
    "label_match_lookup = create_match_lookup(label_matches_df)\n",
    "label_match_lookup"
   ]
  },
  {
   "cell_type": "markdown",
   "metadata": {},
   "source": [
    "As there are fairly similar labels with almost identical names, only those matches will be kept for which there is a 2 character difference in their names, in order to avoid falsely grouping entries together while reducing the variances of names associated with specific labels"
   ]
  },
  {
   "cell_type": "code",
   "execution_count": 31,
   "metadata": {},
   "outputs": [],
   "source": [
    "label_match_lookup = {key:value for key, value in label_match_lookup.items() if np.abs(len(key) - len(value)) > 2}\n",
    "#Convert artist names to best compressed value according to match lookup table\n",
    "api_df['label_clean'] = api_df['label_clean'].apply(lambda x: label_match_lookup[x] if label_match_lookup.get(x) else x)"
   ]
  },
  {
   "cell_type": "markdown",
   "metadata": {},
   "source": [
    "## Encoding Formats"
   ]
  },
  {
   "cell_type": "code",
   "execution_count": 32,
   "metadata": {},
   "outputs": [],
   "source": [
    "from lib.processing import make_format_description_column, make_format_name_column, make_format_quantity_column, make_format_text_column, expand_format_description_column"
   ]
  },
  {
   "cell_type": "code",
   "execution_count": 33,
   "metadata": {},
   "outputs": [],
   "source": [
    "format_columns = ['format_{}'.format(column) for column in ('description','name','quantity','text')]\n",
    "format_functions = (make_format_description_column, make_format_name_column, make_format_quantity_column, make_format_text_column)\n",
    "\n",
    "for column, function in zip(format_columns,format_functions):\n",
    "    api_df[column] = api_df['formats'].apply(function)"
   ]
  },
  {
   "cell_type": "markdown",
   "metadata": {},
   "source": [
    "**Format Name**\n",
    "\n",
    "Prime candidate for one-hot encoding/hash encoding"
   ]
  },
  {
   "cell_type": "code",
   "execution_count": 34,
   "metadata": {},
   "outputs": [
    {
     "data": {
      "text/plain": [
       "array(['Shellac', 'Vinyl', 'Box Set', 'CD', 'Reel-To-Reel', 'Cassette',\n",
       "       'SACD', 'CDr', '8-Track Cartridge', 'All Media', 'Minidisc', 'DVD',\n",
       "       'Hybrid', '4-Track Cartridge', 'Laserdisc', 'Blu-ray', 'Acetate',\n",
       "       'DVDr', 'VHS', 'Memory Stick', 'File', 'PlayTape', 'DAT',\n",
       "       'Flexi-disc', 'HD DVD', 'DCC', 'Lathe Cut', 'RCA Tape Cartridge',\n",
       "       'Floppy Disk'], dtype=object)"
      ]
     },
     "execution_count": 34,
     "metadata": {},
     "output_type": "execute_result"
    }
   ],
   "source": [
    "api_df['format_name'].unique()"
   ]
  },
  {
   "cell_type": "code",
   "execution_count": 35,
   "metadata": {},
   "outputs": [],
   "source": [
    "format_name_dummies = pd.get_dummies(api_df['format_name'],drop_first=True)\n",
    "api_df = pd.concat([api_df,format_name_dummies],axis=1).drop('format_name',axis=1)"
   ]
  },
  {
   "cell_type": "markdown",
   "metadata": {},
   "source": [
    "**Format Quantity**\n",
    "\n",
    "Can be left as is in integer format, after some cleaning of values"
   ]
  },
  {
   "cell_type": "code",
   "execution_count": 36,
   "metadata": {},
   "outputs": [
    {
     "data": {
      "text/plain": [
       "array([      6,       4,       5,       3,       2,       1,      25,\n",
       "             7,      16,      10,       8,       9,      26,      14,\n",
       "            13,      24,      28,      20,      55,      11,      50,\n",
       "             0,      37,      12, 1010201,      15,      30,     500,\n",
       "           300,      22,      34,      29,      52])"
      ]
     },
     "execution_count": 36,
     "metadata": {},
     "output_type": "execute_result"
    }
   ],
   "source": [
    "api_df['format_quantity'].unique()"
   ]
  },
  {
   "cell_type": "markdown",
   "metadata": {},
   "source": [
    "**Format Text**\n",
    "Might be eligible for tf-idf vectorizing & label encoding"
   ]
  },
  {
   "cell_type": "code",
   "execution_count": 37,
   "metadata": {},
   "outputs": [
    {
     "data": {
      "text/plain": [
       "array([None, 'Indianapolis pressing', 'Hollywood', ...,\n",
       "       'Gatefold, 180 Grams Vinyl', 'dolby HX PRO', 'Papersleve, K2HD'],\n",
       "      dtype=object)"
      ]
     },
     "execution_count": 37,
     "metadata": {},
     "output_type": "execute_result"
    }
   ],
   "source": [
    "api_df['format_text'].unique()"
   ]
  },
  {
   "cell_type": "code",
   "execution_count": 38,
   "metadata": {},
   "outputs": [
    {
     "data": {
      "text/plain": [
       "5552"
      ]
     },
     "execution_count": 38,
     "metadata": {},
     "output_type": "execute_result"
    }
   ],
   "source": [
    "len(api_df['format_text'].unique())"
   ]
  },
  {
   "cell_type": "code",
   "execution_count": 92,
   "metadata": {},
   "outputs": [],
   "source": [
    "api_df['format_text_clean'] = api_df['format_text'].apply(clean_format_text)"
   ]
  },
  {
   "cell_type": "code",
   "execution_count": 93,
   "metadata": {},
   "outputs": [],
   "source": [
    "format_text_match_df = get_cosine_similarity_matches(api_df['format_text_clean'],get_ngrams)"
   ]
  },
  {
   "cell_type": "code",
   "execution_count": 94,
   "metadata": {},
   "outputs": [],
   "source": [
    "format_text_lookup = create_match_lookup(format_text_match_df)"
   ]
  },
  {
   "cell_type": "code",
   "execution_count": 97,
   "metadata": {},
   "outputs": [
    {
     "data": {
      "text/plain": [
       "4352"
      ]
     },
     "execution_count": 97,
     "metadata": {},
     "output_type": "execute_result"
    }
   ],
   "source": [
    "api_df['format_text'] = api_df['format_text_clean'].apply(lambda x: format_text_lookup[x] if format_text_lookup.get(x) else x)\n",
    "len(api_df['format_text'].unique())"
   ]
  },
  {
   "cell_type": "markdown",
   "metadata": {},
   "source": [
    "**Format Description**\n",
    "\n",
    "As the entries in the ``format_description`` column are saved as lists, the entries will be dummy encoded for applicability"
   ]
  },
  {
   "cell_type": "code",
   "execution_count": 39,
   "metadata": {},
   "outputs": [
    {
     "data": {
      "text/plain": [
       "0                               [10\", 78 RPM, Album]\n",
       "1                      [10\", 78 RPM, Album, Reissue]\n",
       "2         [10\", 78 RPM, Album, Compilation, Repress]\n",
       "3                               [10\", 78 RPM, Album]\n",
       "4                               [10\", 78 RPM, Album]\n",
       "                             ...                    \n",
       "297541                          [LP, Album, Reissue]\n",
       "297542                                       [Album]\n",
       "297543                                       [Album]\n",
       "297544                          [LP, Album, Reissue]\n",
       "297545                  [12\", 33 ⅓ RPM, Album, Mono]\n",
       "Name: format_description, Length: 297546, dtype: object"
      ]
     },
     "execution_count": 39,
     "metadata": {},
     "output_type": "execute_result"
    }
   ],
   "source": [
    "api_df['format_description']"
   ]
  },
  {
   "cell_type": "code",
   "execution_count": 40,
   "metadata": {},
   "outputs": [
    {
     "data": {
      "application/vnd.jupyter.widget-view+json": {
       "model_id": "0f58c6c7a2e74e7ab5d628fa1568d944",
       "version_major": 2,
       "version_minor": 0
      },
      "text/plain": [
       "HBox(children=(FloatProgress(value=1.0, bar_style='info', max=1.0), HTML(value='')))"
      ]
     },
     "metadata": {},
     "output_type": "display_data"
    },
    {
     "name": "stdout",
     "output_type": "stream",
     "text": [
      "\n"
     ]
    },
    {
     "ename": "SystemError",
     "evalue": "<built-in function is_scalar> returned a result with an error set",
     "output_type": "error",
     "traceback": [
      "\u001b[0;31m---------------------------------------------------------------------------\u001b[0m",
      "\u001b[0;31mKeyboardInterrupt\u001b[0m                         Traceback (most recent call last)",
      "\u001b[0;32m~/anaconda3/envs/exts-ml/lib/python3.6/abc.py\u001b[0m in \u001b[0;36m__instancecheck__\u001b[0;34m(cls, instance)\u001b[0m\n\u001b[1;32m    179\u001b[0m \u001b[0;34m\u001b[0m\u001b[0m\n\u001b[0;32m--> 180\u001b[0;31m     \u001b[0;32mdef\u001b[0m \u001b[0m__instancecheck__\u001b[0m\u001b[0;34m(\u001b[0m\u001b[0mcls\u001b[0m\u001b[0;34m,\u001b[0m \u001b[0minstance\u001b[0m\u001b[0;34m)\u001b[0m\u001b[0;34m:\u001b[0m\u001b[0;34m\u001b[0m\u001b[0;34m\u001b[0m\u001b[0m\n\u001b[0m\u001b[1;32m    181\u001b[0m         \u001b[0;34m\"\"\"Override for isinstance(instance, cls).\"\"\"\u001b[0m\u001b[0;34m\u001b[0m\u001b[0;34m\u001b[0m\u001b[0m\n",
      "\u001b[0;31mKeyboardInterrupt\u001b[0m: ",
      "\nThe above exception was the direct cause of the following exception:\n",
      "\u001b[0;31mSystemError\u001b[0m                               Traceback (most recent call last)",
      "\u001b[0;32m<ipython-input-40-3efc48d3b89b>\u001b[0m in \u001b[0;36m<module>\u001b[0;34m\u001b[0m\n\u001b[0;32m----> 1\u001b[0;31m \u001b[0mformat_description_df\u001b[0m \u001b[0;34m=\u001b[0m \u001b[0mexpand_format_description_column\u001b[0m\u001b[0;34m(\u001b[0m\u001b[0mapi_df\u001b[0m\u001b[0;34m)\u001b[0m\u001b[0;34m\u001b[0m\u001b[0;34m\u001b[0m\u001b[0m\n\u001b[0m",
      "\u001b[0;32m~/Documents/4-Coding/Courses/EPFL/5-Capstone/CapstoneDraft/lib/processing.py\u001b[0m in \u001b[0;36mexpand_format_description_column\u001b[0;34m(df)\u001b[0m\n\u001b[1;32m    424\u001b[0m             \u001b[0;32mcontinue\u001b[0m\u001b[0;34m\u001b[0m\u001b[0;34m\u001b[0m\u001b[0m\n\u001b[1;32m    425\u001b[0m         \u001b[0;32mfor\u001b[0m \u001b[0melement\u001b[0m \u001b[0;32min\u001b[0m \u001b[0mdescription_list\u001b[0m\u001b[0;34m:\u001b[0m\u001b[0;34m\u001b[0m\u001b[0;34m\u001b[0m\u001b[0m\n\u001b[0;32m--> 426\u001b[0;31m             \u001b[0mdf\u001b[0m\u001b[0;34m.\u001b[0m\u001b[0mloc\u001b[0m\u001b[0;34m[\u001b[0m\u001b[0mindex\u001b[0m\u001b[0;34m,\u001b[0m \u001b[0melement\u001b[0m\u001b[0;34m]\u001b[0m \u001b[0;34m=\u001b[0m \u001b[0;36m1\u001b[0m\u001b[0;34m\u001b[0m\u001b[0;34m\u001b[0m\u001b[0m\n\u001b[0m\u001b[1;32m    427\u001b[0m \u001b[0;34m\u001b[0m\u001b[0m\n\u001b[1;32m    428\u001b[0m     \u001b[0mdf_new_columns\u001b[0m \u001b[0;34m=\u001b[0m \u001b[0mset\u001b[0m\u001b[0;34m(\u001b[0m\u001b[0mdf\u001b[0m\u001b[0;34m.\u001b[0m\u001b[0mcolumns\u001b[0m\u001b[0;34m)\u001b[0m \u001b[0;34m-\u001b[0m \u001b[0mdf_old_columns\u001b[0m\u001b[0;34m\u001b[0m\u001b[0;34m\u001b[0m\u001b[0m\n",
      "\u001b[0;32m~/anaconda3/envs/exts-ml/lib/python3.6/site-packages/pandas/core/indexing.py\u001b[0m in \u001b[0;36m__setitem__\u001b[0;34m(self, key, value)\u001b[0m\n\u001b[1;32m    668\u001b[0m             \u001b[0mkey\u001b[0m \u001b[0;34m=\u001b[0m \u001b[0mcom\u001b[0m\u001b[0;34m.\u001b[0m\u001b[0mapply_if_callable\u001b[0m\u001b[0;34m(\u001b[0m\u001b[0mkey\u001b[0m\u001b[0;34m,\u001b[0m \u001b[0mself\u001b[0m\u001b[0;34m.\u001b[0m\u001b[0mobj\u001b[0m\u001b[0;34m)\u001b[0m\u001b[0;34m\u001b[0m\u001b[0;34m\u001b[0m\u001b[0m\n\u001b[1;32m    669\u001b[0m         \u001b[0mindexer\u001b[0m \u001b[0;34m=\u001b[0m \u001b[0mself\u001b[0m\u001b[0;34m.\u001b[0m\u001b[0m_get_setitem_indexer\u001b[0m\u001b[0;34m(\u001b[0m\u001b[0mkey\u001b[0m\u001b[0;34m)\u001b[0m\u001b[0;34m\u001b[0m\u001b[0;34m\u001b[0m\u001b[0m\n\u001b[0;32m--> 670\u001b[0;31m         \u001b[0mself\u001b[0m\u001b[0;34m.\u001b[0m\u001b[0m_setitem_with_indexer\u001b[0m\u001b[0;34m(\u001b[0m\u001b[0mindexer\u001b[0m\u001b[0;34m,\u001b[0m \u001b[0mvalue\u001b[0m\u001b[0;34m)\u001b[0m\u001b[0;34m\u001b[0m\u001b[0;34m\u001b[0m\u001b[0m\n\u001b[0m\u001b[1;32m    671\u001b[0m \u001b[0;34m\u001b[0m\u001b[0m\n\u001b[1;32m    672\u001b[0m     \u001b[0;32mdef\u001b[0m \u001b[0m_validate_key\u001b[0m\u001b[0;34m(\u001b[0m\u001b[0mself\u001b[0m\u001b[0;34m,\u001b[0m \u001b[0mkey\u001b[0m\u001b[0;34m,\u001b[0m \u001b[0maxis\u001b[0m\u001b[0;34m:\u001b[0m \u001b[0mint\u001b[0m\u001b[0;34m)\u001b[0m\u001b[0;34m:\u001b[0m\u001b[0;34m\u001b[0m\u001b[0;34m\u001b[0m\u001b[0m\n",
      "\u001b[0;32m~/anaconda3/envs/exts-ml/lib/python3.6/site-packages/pandas/core/indexing.py\u001b[0m in \u001b[0;36m_setitem_with_indexer\u001b[0;34m(self, indexer, value)\u001b[0m\n\u001b[1;32m    892\u001b[0m             \u001b[0;32mif\u001b[0m \u001b[0mis_integer\u001b[0m\u001b[0;34m(\u001b[0m\u001b[0minfo_idx\u001b[0m\u001b[0;34m)\u001b[0m\u001b[0;34m:\u001b[0m\u001b[0;34m\u001b[0m\u001b[0;34m\u001b[0m\u001b[0m\n\u001b[1;32m    893\u001b[0m                 \u001b[0minfo_idx\u001b[0m \u001b[0;34m=\u001b[0m \u001b[0;34m[\u001b[0m\u001b[0minfo_idx\u001b[0m\u001b[0;34m]\u001b[0m\u001b[0;34m\u001b[0m\u001b[0;34m\u001b[0m\u001b[0m\n\u001b[0;32m--> 894\u001b[0;31m             \u001b[0mlabels\u001b[0m \u001b[0;34m=\u001b[0m \u001b[0mitem_labels\u001b[0m\u001b[0;34m[\u001b[0m\u001b[0minfo_idx\u001b[0m\u001b[0;34m]\u001b[0m\u001b[0;34m\u001b[0m\u001b[0;34m\u001b[0m\u001b[0m\n\u001b[0m\u001b[1;32m    895\u001b[0m \u001b[0;34m\u001b[0m\u001b[0m\n\u001b[1;32m    896\u001b[0m             \u001b[0;31m# if we have a partial multiindex, then need to adjust the plane\u001b[0m\u001b[0;34m\u001b[0m\u001b[0;34m\u001b[0m\u001b[0;34m\u001b[0m\u001b[0m\n",
      "\u001b[0;32m~/anaconda3/envs/exts-ml/lib/python3.6/site-packages/pandas/core/indexes/base.py\u001b[0m in \u001b[0;36m__getitem__\u001b[0;34m(self, key)\u001b[0m\n\u001b[1;32m   3926\u001b[0m         \u001b[0mpromote\u001b[0m \u001b[0;34m=\u001b[0m \u001b[0mself\u001b[0m\u001b[0;34m.\u001b[0m\u001b[0m_shallow_copy\u001b[0m\u001b[0;34m\u001b[0m\u001b[0;34m\u001b[0m\u001b[0m\n\u001b[1;32m   3927\u001b[0m \u001b[0;34m\u001b[0m\u001b[0m\n\u001b[0;32m-> 3928\u001b[0;31m         \u001b[0;32mif\u001b[0m \u001b[0mis_scalar\u001b[0m\u001b[0;34m(\u001b[0m\u001b[0mkey\u001b[0m\u001b[0;34m)\u001b[0m\u001b[0;34m:\u001b[0m\u001b[0;34m\u001b[0m\u001b[0;34m\u001b[0m\u001b[0m\n\u001b[0m\u001b[1;32m   3929\u001b[0m             \u001b[0mkey\u001b[0m \u001b[0;34m=\u001b[0m \u001b[0mcom\u001b[0m\u001b[0;34m.\u001b[0m\u001b[0mcast_scalar_indexer\u001b[0m\u001b[0;34m(\u001b[0m\u001b[0mkey\u001b[0m\u001b[0;34m)\u001b[0m\u001b[0;34m\u001b[0m\u001b[0;34m\u001b[0m\u001b[0m\n\u001b[1;32m   3930\u001b[0m             \u001b[0;32mreturn\u001b[0m \u001b[0mgetitem\u001b[0m\u001b[0;34m(\u001b[0m\u001b[0mkey\u001b[0m\u001b[0;34m)\u001b[0m\u001b[0;34m\u001b[0m\u001b[0;34m\u001b[0m\u001b[0m\n",
      "\u001b[0;31mSystemError\u001b[0m: <built-in function is_scalar> returned a result with an error set"
     ]
    }
   ],
   "source": [
    "format_description_df = expand_format_description_column(api_df)"
   ]
  },
  {
   "cell_type": "code",
   "execution_count": null,
   "metadata": {},
   "outputs": [],
   "source": [
    "save_to_pkl(format_description_df,'format_description')"
   ]
  },
  {
   "cell_type": "markdown",
   "metadata": {},
   "source": [
    "## Encoded DF"
   ]
  },
  {
   "cell_type": "markdown",
   "metadata": {},
   "source": [
    "## Feature Engineering\n",
    "## Eras"
   ]
  },
  {
   "cell_type": "code",
   "execution_count": 98,
   "metadata": {},
   "outputs": [],
   "source": [
    "def make_period_column(year,start,end):\n",
    "    if start <= year <= end:\n",
    "        return 1\n",
    "    return 0\n",
    "\n",
    "def make_big_band_period_column(year):\n",
    "    return make_period_column(year,1930,1950)\n",
    "\n",
    "def make_bebop_period_column(year):\n",
    "    return make_period_column(year,1940,1955)\n",
    "\n",
    "def make_cool_jazz_period_column(year):\n",
    "    return make_period_column(year,1950,1970)\n",
    "\n",
    "def make_jazz_fusion_period_column(year):\n",
    "    return make_period_column(year,1970,2020)\n",
    "\n",
    "def make_swing_era_column(year):\n",
    "    return make_period_column(year,1925,1945)\n",
    "\n",
    "def make_modern_jazz_era_column(year):\n",
    "    return make_period_column(year,1940,1970)"
   ]
  },
  {
   "cell_type": "code",
   "execution_count": 99,
   "metadata": {},
   "outputs": [],
   "source": [
    "period_columns = ('big_band_period','bebop_period','cool_jazz_period','jazz_fusion_period','swing_era','modern_jazz_era')\n",
    "period_functions = (make_big_band_period_column, make_bebop_period_column, make_cool_jazz_period_column, make_jazz_fusion_period_column, make_swing_era_column, make_modern_jazz_era_column)\n",
    "\n",
    "for column, func in zip(period_columns,period_functions):\n",
    "    api_df[column] = api_df['year'].apply(func)"
   ]
  },
  {
   "cell_type": "markdown",
   "metadata": {},
   "source": [
    "## Jazz Standard Count"
   ]
  },
  {
   "cell_type": "code",
   "execution_count": 100,
   "metadata": {},
   "outputs": [],
   "source": [
    "with open(os.path.join(DATA_PATH,'standards.pkl'),'rb') as f:\n",
    "    standards = pickle.load(f)\n",
    "    \n",
    "lowercase_no_punctuation = lambda x: x.lower().translate(str.maketrans('','',string.punctuation))"
   ]
  },
  {
   "cell_type": "code",
   "execution_count": 101,
   "metadata": {},
   "outputs": [],
   "source": [
    "standards_lookup = {lowercase_no_punctuation(standard):0 for standard in standards}"
   ]
  },
  {
   "cell_type": "code",
   "execution_count": 189,
   "metadata": {},
   "outputs": [],
   "source": [
    "def count_jazz_standards(standards_lookup, title_list):\n",
    "    standards_counter = 0\n",
    "    for title in title_list:\n",
    "        title = title.lower().translate(str.maketrans('', '', string.punctuation))\n",
    "        if title in standards_lookup:\n",
    "            standards_counter += 1               \n",
    "    return standards_counter"
   ]
  },
  {
   "cell_type": "code",
   "execution_count": 111,
   "metadata": {},
   "outputs": [],
   "source": [
    "from lib.processing import match_track_titles_to_standards"
   ]
  },
  {
   "cell_type": "code",
   "execution_count": 173,
   "metadata": {},
   "outputs": [
    {
     "name": "stderr",
     "output_type": "stream",
     "text": [
      "\n",
      "  0%|          | 0/297546 [00:00<?, ?it/s]\u001b[A\n",
      "  0%|          | 1/297546 [00:00<12:45:07,  6.48it/s]\u001b[A\n",
      "  1%|          | 2641/297546 [00:00<8:50:53,  9.26it/s]\u001b[A\n",
      "  2%|▏         | 5419/297546 [00:00<6:08:10, 13.22it/s]\u001b[A\n",
      "  3%|▎         | 8256/297546 [00:00<4:15:16, 18.89it/s]\u001b[A\n",
      "  4%|▍         | 11253/297546 [00:00<2:56:53, 26.98it/s]\u001b[A\n",
      "  5%|▍         | 14195/297546 [00:00<2:02:35, 38.52it/s]\u001b[A\n",
      "  6%|▌         | 17036/297546 [00:00<1:25:00, 55.00it/s]\u001b[A\n",
      "  7%|▋         | 19985/297546 [00:00<58:55, 78.51it/s]  \u001b[A\n",
      "  8%|▊         | 22952/297546 [00:00<40:51, 112.02it/s]\u001b[A\n",
      "  9%|▊         | 26008/297546 [00:01<28:19, 159.78it/s]\u001b[A\n",
      " 10%|▉         | 29057/297546 [00:01<19:38, 227.75it/s]\u001b[A\n",
      " 11%|█         | 32137/297546 [00:01<13:38, 324.33it/s]\u001b[A\n",
      " 12%|█▏        | 35177/297546 [00:01<09:28, 461.21it/s]\u001b[A\n",
      " 13%|█▎        | 38192/297546 [00:01<06:36, 654.59it/s]\u001b[A\n",
      " 14%|█▍        | 41183/297546 [00:01<04:36, 926.09it/s]\u001b[A\n",
      " 15%|█▍        | 44218/297546 [00:01<03:13, 1305.91it/s]\u001b[A\n",
      " 16%|█▌        | 47266/297546 [00:01<02:16, 1831.94it/s]\u001b[A\n",
      " 17%|█▋        | 50380/297546 [00:01<01:36, 2552.69it/s]\u001b[A\n",
      " 18%|█▊        | 53415/297546 [00:01<01:09, 3519.15it/s]\u001b[A\n",
      " 19%|█▉        | 56491/297546 [00:02<00:50, 4792.35it/s]\u001b[A\n",
      " 20%|██        | 59588/297546 [00:02<00:37, 6420.41it/s]\u001b[A\n",
      " 21%|██        | 62648/297546 [00:02<00:27, 8412.86it/s]\u001b[A\n",
      " 22%|██▏       | 65766/297546 [00:02<00:21, 10772.49it/s]\u001b[A\n",
      " 23%|██▎       | 68841/297546 [00:02<00:17, 13367.13it/s]\u001b[A\n",
      " 24%|██▍       | 71909/297546 [00:02<00:14, 16047.81it/s]\u001b[A\n",
      " 25%|██▌       | 74962/297546 [00:02<00:11, 18609.55it/s]\u001b[A\n",
      " 26%|██▌       | 77989/297546 [00:02<00:10, 20855.41it/s]\u001b[A\n",
      " 27%|██▋       | 81001/297546 [00:02<00:09, 22973.80it/s]\u001b[A\n",
      " 28%|██▊       | 84139/297546 [00:02<00:08, 24980.23it/s]\u001b[A\n",
      " 29%|██▉       | 87187/297546 [00:03<00:07, 26408.34it/s]\u001b[A\n",
      " 30%|███       | 90229/297546 [00:03<00:07, 27163.59it/s]\u001b[A\n",
      " 31%|███▏      | 93231/297546 [00:03<00:07, 27890.62it/s]\u001b[A\n",
      " 32%|███▏      | 96236/297546 [00:03<00:07, 28503.42it/s]\u001b[A\n",
      " 33%|███▎      | 99233/297546 [00:03<00:06, 28689.18it/s]\u001b[A\n",
      " 34%|███▍      | 102205/297546 [00:03<00:06, 28941.80it/s]\u001b[A\n",
      " 35%|███▌      | 105189/297546 [00:03<00:06, 29203.12it/s]\u001b[A\n",
      " 36%|███▋      | 108161/297546 [00:03<00:06, 29014.18it/s]\u001b[A\n",
      " 37%|███▋      | 111099/297546 [00:03<00:06, 28815.25it/s]\u001b[A\n",
      " 38%|███▊      | 114007/297546 [00:03<00:06, 28325.10it/s]\u001b[A\n",
      " 39%|███▉      | 116860/297546 [00:04<00:06, 28255.96it/s]\u001b[A\n",
      " 40%|████      | 119700/297546 [00:04<00:06, 27612.83it/s]\u001b[A\n",
      " 41%|████      | 122475/297546 [00:04<00:06, 26983.32it/s]\u001b[A\n",
      " 42%|████▏     | 125435/297546 [00:04<00:06, 27715.89it/s]\u001b[A\n",
      " 43%|████▎     | 128392/297546 [00:04<00:05, 28246.36it/s]\u001b[A\n",
      " 44%|████▍     | 131229/297546 [00:04<00:05, 27861.19it/s]\u001b[A\n",
      " 45%|████▌     | 134025/297546 [00:04<00:06, 26804.80it/s]\u001b[A\n",
      " 46%|████▌     | 136800/297546 [00:04<00:05, 27078.59it/s]\u001b[A\n",
      " 47%|████▋     | 139792/297546 [00:04<00:05, 27872.64it/s]\u001b[A\n",
      " 48%|████▊     | 142686/297546 [00:05<00:05, 28182.16it/s]\u001b[A\n",
      " 49%|████▉     | 145664/297546 [00:05<00:05, 28639.83it/s]\u001b[A\n",
      " 50%|████▉     | 148538/297546 [00:05<00:05, 28195.42it/s]\u001b[A\n",
      " 51%|█████     | 151366/297546 [00:05<00:05, 27744.88it/s]\u001b[A\n",
      " 52%|█████▏    | 154148/297546 [00:05<00:05, 27606.09it/s]\u001b[A\n",
      " 53%|█████▎    | 156914/297546 [00:05<00:05, 27002.74it/s]\u001b[A\n",
      " 54%|█████▎    | 159621/297546 [00:05<00:05, 27018.68it/s]\u001b[A\n",
      " 55%|█████▍    | 162512/297546 [00:05<00:04, 27557.76it/s]\u001b[A\n",
      " 56%|█████▌    | 165505/297546 [00:05<00:04, 28226.19it/s]\u001b[A\n",
      " 57%|█████▋    | 168378/297546 [00:05<00:04, 28373.11it/s]\u001b[A\n",
      " 58%|█████▊    | 171241/297546 [00:06<00:04, 28447.48it/s]\u001b[A\n",
      " 59%|█████▊    | 174106/297546 [00:06<00:04, 28507.35it/s]\u001b[A\n",
      " 59%|█████▉    | 176960/297546 [00:06<00:04, 28475.47it/s]\u001b[A\n",
      " 60%|██████    | 179810/297546 [00:06<00:04, 28292.72it/s]\u001b[A\n",
      " 61%|██████▏   | 182716/297546 [00:06<00:04, 28495.46it/s]\u001b[A\n",
      " 62%|██████▏   | 185615/297546 [00:06<00:03, 28640.31it/s]\u001b[A\n",
      " 63%|██████▎   | 188481/297546 [00:06<00:03, 28462.80it/s]\u001b[A\n",
      " 64%|██████▍   | 191500/297546 [00:06<00:03, 28959.26it/s]\u001b[A\n",
      " 65%|██████▌   | 194399/297546 [00:06<00:03, 28455.62it/s]\u001b[A\n",
      " 66%|██████▋   | 197290/297546 [00:06<00:03, 28589.67it/s]\u001b[A\n",
      " 67%|██████▋   | 200236/297546 [00:07<00:03, 28845.09it/s]\u001b[A\n",
      " 68%|██████▊   | 203170/297546 [00:07<00:03, 28991.27it/s]\u001b[A\n",
      " 69%|██████▉   | 206141/297546 [00:07<00:03, 29201.85it/s]\u001b[A\n",
      " 70%|███████   | 209063/297546 [00:07<00:03, 28278.41it/s]\u001b[A\n",
      " 71%|███████   | 211899/297546 [00:07<00:03, 27838.25it/s]\u001b[A\n",
      " 72%|███████▏  | 214707/297546 [00:07<00:02, 27908.44it/s]\u001b[A\n",
      " 73%|███████▎  | 217575/297546 [00:07<00:02, 28135.34it/s]\u001b[A\n",
      " 74%|███████▍  | 220530/297546 [00:07<00:02, 28544.96it/s]\u001b[A\n",
      " 75%|███████▌  | 223389/297546 [00:07<00:02, 28337.10it/s]\u001b[A\n",
      " 76%|███████▌  | 226333/297546 [00:07<00:02, 28657.11it/s]\u001b[A\n",
      " 77%|███████▋  | 229202/297546 [00:08<00:02, 28335.11it/s]\u001b[A\n",
      " 78%|███████▊  | 232118/297546 [00:08<00:02, 28576.46it/s]\u001b[A\n",
      " 79%|███████▉  | 234995/297546 [00:08<00:02, 28634.15it/s]\u001b[A\n",
      " 80%|███████▉  | 237939/297546 [00:08<00:02, 28870.05it/s]\u001b[A\n",
      " 81%|████████  | 240907/297546 [00:08<00:01, 29105.69it/s]\u001b[A\n",
      " 82%|████████▏ | 243900/297546 [00:08<00:01, 29347.40it/s]\u001b[A\n",
      " 83%|████████▎ | 246869/297546 [00:08<00:01, 29447.41it/s]\u001b[A\n",
      " 84%|████████▍ | 249823/297546 [00:08<00:01, 29473.10it/s]\u001b[A\n",
      " 85%|████████▍ | 252772/297546 [00:08<00:01, 29438.37it/s]\u001b[A\n",
      " 86%|████████▌ | 255754/297546 [00:08<00:01, 29551.04it/s]\u001b[A\n",
      " 87%|████████▋ | 258748/297546 [00:09<00:01, 29665.77it/s]\u001b[A\n",
      " 88%|████████▊ | 261741/297546 [00:09<00:01, 29743.22it/s]\u001b[A\n",
      " 89%|████████▉ | 264716/297546 [00:09<00:01, 29598.22it/s]\u001b[A\n",
      " 90%|████████▉ | 267677/297546 [00:09<00:01, 29597.68it/s]\u001b[A\n",
      " 91%|█████████ | 270638/297546 [00:09<00:00, 29568.57it/s]\u001b[A\n",
      " 92%|█████████▏| 273596/297546 [00:09<00:00, 29109.12it/s]\u001b[A\n",
      " 93%|█████████▎| 276509/297546 [00:09<00:00, 29094.20it/s]\u001b[A\n",
      " 94%|█████████▍| 279460/297546 [00:09<00:00, 29216.74it/s]\u001b[A\n",
      " 95%|█████████▍| 282511/297546 [00:09<00:00, 29591.67it/s]\u001b[A\n",
      " 96%|█████████▌| 285511/297546 [00:09<00:00, 29711.15it/s]\u001b[A\n",
      " 97%|█████████▋| 288484/297546 [00:10<00:00, 29385.32it/s]\u001b[A\n",
      " 98%|█████████▊| 291465/297546 [00:10<00:00, 29510.66it/s]\u001b[A\n",
      " 99%|█████████▉| 294418/297546 [00:10<00:00, 29340.14it/s]\u001b[A\n",
      "100%|██████████| 297546/297546 [00:10<00:00, 28505.97it/s]\u001b[A\n"
     ]
    },
    {
     "data": {
      "application/vnd.jupyter.widget-view+json": {
       "model_id": "22e2900027c84fa49380514e6a9fd3c4",
       "version_major": 2,
       "version_minor": 0
      },
      "text/plain": [
       "HBox(children=(FloatProgress(value=1.0, bar_style='info', max=1.0), HTML(value='')))"
      ]
     },
     "metadata": {},
     "output_type": "display_data"
    },
    {
     "name": "stdout",
     "output_type": "stream",
     "text": [
      "\n"
     ]
    }
   ],
   "source": [
    "matched_track_titles = match_track_titles_to_standards(standards,api_df['track_titles'])"
   ]
  },
  {
   "cell_type": "markdown",
   "metadata": {},
   "source": [
    "After some testing of match confidence values, the cutoff for matches will be set at 0.7, leaving 10427 titles which will be matched to the list of jazz standards. After this threshold, the accuracy of the matches degrades to an extent that it will introduce too much bias into the ``no_of_jazz_standards`` feature."
   ]
  },
  {
   "cell_type": "code",
   "execution_count": 180,
   "metadata": {},
   "outputs": [
    {
     "name": "stderr",
     "output_type": "stream",
     "text": [
      "/Users/simonhelmig/anaconda3/envs/exts-ml/lib/python3.6/site-packages/ipykernel_launcher.py:1: UserWarning: Boolean Series key will be reindexed to match DataFrame index.\n",
      "  \"\"\"Entry point for launching an IPython kernel.\n"
     ]
    },
    {
     "data": {
      "text/html": [
       "<div>\n",
       "<style scoped>\n",
       "    .dataframe tbody tr th:only-of-type {\n",
       "        vertical-align: middle;\n",
       "    }\n",
       "\n",
       "    .dataframe tbody tr th {\n",
       "        vertical-align: top;\n",
       "    }\n",
       "\n",
       "    .dataframe thead th {\n",
       "        text-align: right;\n",
       "    }\n",
       "</style>\n",
       "<table border=\"1\" class=\"dataframe\">\n",
       "  <thead>\n",
       "    <tr style=\"text-align: right;\">\n",
       "      <th></th>\n",
       "      <th>Original Name</th>\n",
       "      <th>Matched Name</th>\n",
       "      <th>Match Confidence</th>\n",
       "    </tr>\n",
       "  </thead>\n",
       "  <tbody>\n",
       "    <tr>\n",
       "      <th>842357</th>\n",
       "      <td>calma  trânsito  i remember you</td>\n",
       "      <td>i remember you</td>\n",
       "      <td>0.69</td>\n",
       "    </tr>\n",
       "    <tr>\n",
       "      <th>360915</th>\n",
       "      <td>donna  ドナ</td>\n",
       "      <td>donna lee</td>\n",
       "      <td>0.69</td>\n",
       "    </tr>\n",
       "    <tr>\n",
       "      <th>718057</th>\n",
       "      <td>doing the boogie woogie</td>\n",
       "      <td>pinetops boogie woogie</td>\n",
       "      <td>0.69</td>\n",
       "    </tr>\n",
       "    <tr>\n",
       "      <th>139754</th>\n",
       "      <td>c jam blues tv audio</td>\n",
       "      <td>c jam blues</td>\n",
       "      <td>0.69</td>\n",
       "    </tr>\n",
       "    <tr>\n",
       "      <th>137736</th>\n",
       "      <td>take the a train parts i  ii</td>\n",
       "      <td>take the a train</td>\n",
       "      <td>0.69</td>\n",
       "    </tr>\n",
       "    <tr>\n",
       "      <th>...</th>\n",
       "      <td>...</td>\n",
       "      <td>...</td>\n",
       "      <td>...</td>\n",
       "    </tr>\n",
       "    <tr>\n",
       "      <th>765060</th>\n",
       "      <td>new orleans\\t</td>\n",
       "      <td>new orleans</td>\n",
       "      <td>0.00</td>\n",
       "    </tr>\n",
       "    <tr>\n",
       "      <th>808681</th>\n",
       "      <td>pinetops boogie woogie</td>\n",
       "      <td>pinetops boogie woogie</td>\n",
       "      <td>0.00</td>\n",
       "    </tr>\n",
       "    <tr>\n",
       "      <th>74157</th>\n",
       "      <td>youd be so nice to come home to</td>\n",
       "      <td>youd be so nice to come home to</td>\n",
       "      <td>0.00</td>\n",
       "    </tr>\n",
       "    <tr>\n",
       "      <th>793572</th>\n",
       "      <td>back water blues</td>\n",
       "      <td>back water blues</td>\n",
       "      <td>0.00</td>\n",
       "    </tr>\n",
       "    <tr>\n",
       "      <th>160202</th>\n",
       "      <td>kokodák</td>\n",
       "      <td>koko</td>\n",
       "      <td>0.00</td>\n",
       "    </tr>\n",
       "  </tbody>\n",
       "</table>\n",
       "<p>10427 rows × 3 columns</p>\n",
       "</div>"
      ],
      "text/plain": [
       "                          Original Name                     Matched Name  \\\n",
       "842357  calma  trânsito  i remember you                   i remember you   \n",
       "360915                        donna  ドナ                        donna lee   \n",
       "718057          doing the boogie woogie           pinetops boogie woogie   \n",
       "139754             c jam blues tv audio                      c jam blues   \n",
       "137736     take the a train parts i  ii                 take the a train   \n",
       "...                                 ...                              ...   \n",
       "765060                    new orleans\\t                      new orleans   \n",
       "808681           pinetops boogie woogie           pinetops boogie woogie   \n",
       "74157   youd be so nice to come home to  youd be so nice to come home to   \n",
       "793572                 back water blues                 back water blues   \n",
       "160202                          kokodák                             koko   \n",
       "\n",
       "        Match Confidence  \n",
       "842357              0.69  \n",
       "360915              0.69  \n",
       "718057              0.69  \n",
       "139754              0.69  \n",
       "137736              0.69  \n",
       "...                  ...  \n",
       "765060              0.00  \n",
       "808681              0.00  \n",
       "74157               0.00  \n",
       "793572              0.00  \n",
       "160202              0.00  \n",
       "\n",
       "[10427 rows x 3 columns]"
      ]
     },
     "execution_count": 180,
     "metadata": {},
     "output_type": "execute_result"
    }
   ],
   "source": [
    "matched_track_titles.sort_values('Match Confidence',ascending=False)[matched_track_titles['Match Confidence'] < 0.7]"
   ]
  },
  {
   "cell_type": "code",
   "execution_count": 185,
   "metadata": {},
   "outputs": [],
   "source": [
    "match_title_to_standards_df = matched_track_titles[matched_track_titles['Match Confidence'] < 0.7]\n",
    "tfidf_lookup = {row['Original Name']:row['Matched Name'] for _, row in match_title_to_standards_df.iterrows() if row['Original Name'] not in standards_lookup}"
   ]
  },
  {
   "cell_type": "code",
   "execution_count": 195,
   "metadata": {},
   "outputs": [],
   "source": [
    "standards_lookup_ = dict(**standards_lookup,**tfidf_lookup)\n",
    "count_jazz_standards_ = partial(count_jazz_standards,standards_lookup_)"
   ]
  },
  {
   "cell_type": "code",
   "execution_count": 196,
   "metadata": {},
   "outputs": [],
   "source": [
    "api_df['standards_count'] = api_df['track_titles'].apply(pickle.loads).apply(count_jazz_standards_)"
   ]
  },
  {
   "cell_type": "code",
   "execution_count": 197,
   "metadata": {},
   "outputs": [
    {
     "data": {
      "text/plain": [
       "count    297546.00000\n",
       "mean          0.87851\n",
       "std           1.66438\n",
       "min           0.00000\n",
       "25%           0.00000\n",
       "50%           0.00000\n",
       "75%           1.00000\n",
       "max          84.00000\n",
       "Name: standards_count, dtype: float64"
      ]
     },
     "execution_count": 197,
     "metadata": {},
     "output_type": "execute_result"
    }
   ],
   "source": [
    "api_df['standards_count'].describe()"
   ]
  },
  {
   "cell_type": "markdown",
   "metadata": {},
   "source": [
    "## last_sold"
   ]
  },
  {
   "cell_type": "code",
   "execution_count": 199,
   "metadata": {},
   "outputs": [],
   "source": [
    "max_last_sold_value = api_df['last_sold'].max()"
   ]
  },
  {
   "cell_type": "code",
   "execution_count": 200,
   "metadata": {},
   "outputs": [],
   "source": [
    "api_df['no_of_days_since_last_sale'] = api_df['last_sold'].apply(lambda x: (max_last_sold_value - x).days)"
   ]
  },
  {
   "cell_type": "markdown",
   "metadata": {},
   "source": [
    "## Saving api_df"
   ]
  },
  {
   "cell_type": "code",
   "execution_count": 201,
   "metadata": {},
   "outputs": [],
   "source": [
    "save_to_pkl(api_df,'api')"
   ]
  },
  {
   "cell_type": "markdown",
   "metadata": {},
   "source": [
    "## Joining dfs and Saving results to hdf"
   ]
  },
  {
   "cell_type": "code",
   "execution_count": 202,
   "metadata": {},
   "outputs": [],
   "source": [
    "try:\n",
    "    api_df\n",
    "except NameError:\n",
    "    api_df = load_from_pkl('api')\n",
    "    \n",
    "try:\n",
    "    encoded_country_df\n",
    "except NameError:\n",
    "    encoded_country_df = load_from_pkl('country')\n",
    "\n",
    "try:\n",
    "    encoded_genre_df\n",
    "except NameError:\n",
    "    encoded_genre_df = load_from_pkl('genre')\n",
    "\n",
    "try:\n",
    "    encoded_style_df\n",
    "except NameError:\n",
    "    encoded_style_df = load_from_pkl('style')\n",
    "\n",
    "try:\n",
    "    format_description_df\n",
    "except NameError:\n",
    "    format_description_df = load_from_pkl('format_description')"
   ]
  },
  {
   "cell_type": "code",
   "execution_count": 203,
   "metadata": {},
   "outputs": [],
   "source": [
    "concat_df = pd.concat([\n",
    "    api_df,\n",
    "    encoded_country_df,\n",
    "    encoded_genre_df,\n",
    "    encoded_style_df,\n",
    "    format_description_df\n",
    "],axis=1)"
   ]
  },
  {
   "cell_type": "code",
   "execution_count": 204,
   "metadata": {},
   "outputs": [],
   "source": [
    "save_to_pkl(concat_df,'concat')"
   ]
  },
  {
   "cell_type": "code",
   "execution_count": null,
   "metadata": {},
   "outputs": [],
   "source": [
    "try:\n",
    "    concat_df\n",
    "except NameError:\n",
    "    concat_df = load_from_pkl('concat')"
   ]
  },
  {
   "cell_type": "markdown",
   "metadata": {},
   "source": [
    "# High Level Features\n",
    "## Loading and Cleaning"
   ]
  },
  {
   "cell_type": "code",
   "execution_count": null,
   "metadata": {},
   "outputs": [],
   "source": [
    "high_level_features = data_loader.load_high_level_features()\n",
    "high_level_feature_df = pd.DataFrame()\n",
    "for feature_chunk in tqdm(high_level_features):\n",
    "    high_level_feature_df = pd.concat([high_level_feature_df,feature_chunk],axis=0)\n",
    "high_level_feature_df = high_level_feature_df.reset_index(drop=True).drop('index').astype({'release_id':np.uint32,'bitmap':np.uint8})"
   ]
  }
 ],
 "metadata": {
  "kernelspec": {
   "display_name": "Python 3",
   "language": "python",
   "name": "python3"
  },
  "language_info": {
   "codemirror_mode": {
    "name": "ipython",
    "version": 3
   },
   "file_extension": ".py",
   "mimetype": "text/x-python",
   "name": "python",
   "nbconvert_exporter": "python",
   "pygments_lexer": "ipython3",
   "version": "3.6.10"
  }
 },
 "nbformat": 4,
 "nbformat_minor": 4
}
