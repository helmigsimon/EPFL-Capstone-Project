{
 "cells": [
  {
   "cell_type": "markdown",
   "metadata": {},
   "source": [
    "# Data Processing\n",
    "In this notebook, I will be loading the data necessary for this project, combining the data sources and performing initial data processing steps. I will also be performing some exploratory data analysis for the purposes of identifying missing values and outliers, which will then be followed up with the appropriate processing steps."
   ]
  },
  {
   "cell_type": "code",
   "execution_count": 7,
   "metadata": {},
   "outputs": [
    {
     "name": "stdout",
     "output_type": "stream",
     "text": [
      "The autoreload extension is already loaded. To reload it, use:\n",
      "  %reload_ext autoreload\n"
     ]
    }
   ],
   "source": [
    "%load_ext autoreload\n",
    "%autoreload 2\n",
    "from tqdm import tqdm\n",
    "import pickle\n",
    "tqdm.pandas()"
   ]
  },
  {
   "cell_type": "code",
   "execution_count": 4,
   "metadata": {},
   "outputs": [],
   "source": [
    "from data.util.paths import DATA_PATH\n",
    "from lib.processing import load_from_pkl\n",
    "from lib.pipelines import extracted_pipe, api_pipe"
   ]
  },
  {
   "cell_type": "markdown",
   "metadata": {},
   "source": [
    "## Introduction"
   ]
  },
  {
   "cell_type": "markdown",
   "metadata": {},
   "source": [
    "The data for this project has been sourced from Discogs.com, the largest online marketplace for second-hand physical music. There are three components to the data that will make up our final dataset, namely:\n",
    "1. api_data -> Data taken from the official Discogs.com API (https://www.discogs.com/developers)\n",
    "2. extracted_data -> Data scraped from Discogs release pages\n",
    "3. image_embedding_data -> High-Level Features extracted from the cover images of each Album\n",
    "\n",
    "At this juncture, we will load, investigate and transform the first two data sources outlined above. The data was collected continuously over the months of February and March 2020 using the scripts found in the data directory of this project. To scrape each of these three data sources, the main() function of the data/main.py file was used. It is not recommended to run this script oneself, as it will require investing into a paid proxy service due to the rate limiting in force by Discogs.com. The data has been made available for the EPFL Extension School Reviewers at INSERT_DATA_SOURCE_HERE. For more details on how each data source was filtered and scraped, please refer to the classes and functions contained in the data/util/scrape.py module.\n",
    "    \n",
    "First, we will load the data extracted from the Discogs.com API, henceforth referred to as ``api_data``"
   ]
  },
  {
   "cell_type": "markdown",
   "metadata": {},
   "source": [
    "## API Data\n",
    "### Loading and Overview"
   ]
  },
  {
   "cell_type": "code",
   "execution_count": 5,
   "metadata": {},
   "outputs": [],
   "source": [
    "api_df = load_from_pkl('api',path=DATA_PATH)"
   ]
  },
  {
   "cell_type": "code",
   "execution_count": 6,
   "metadata": {},
   "outputs": [
    {
     "data": {
      "text/html": [
       "<div>\n",
       "<style scoped>\n",
       "    .dataframe tbody tr th:only-of-type {\n",
       "        vertical-align: middle;\n",
       "    }\n",
       "\n",
       "    .dataframe tbody tr th {\n",
       "        vertical-align: top;\n",
       "    }\n",
       "\n",
       "    .dataframe thead th {\n",
       "        text-align: right;\n",
       "    }\n",
       "</style>\n",
       "<table border=\"1\" class=\"dataframe\">\n",
       "  <thead>\n",
       "    <tr style=\"text-align: right;\">\n",
       "      <th></th>\n",
       "      <th>id</th>\n",
       "      <th>release_id</th>\n",
       "      <th>title</th>\n",
       "      <th>year</th>\n",
       "      <th>country</th>\n",
       "      <th>genre</th>\n",
       "      <th>style</th>\n",
       "      <th>label</th>\n",
       "      <th>community_have</th>\n",
       "      <th>community_want</th>\n",
       "      <th>formats</th>\n",
       "      <th>master_id</th>\n",
       "      <th>thumb_url</th>\n",
       "      <th>release_url</th>\n",
       "    </tr>\n",
       "  </thead>\n",
       "  <tbody>\n",
       "    <tr>\n",
       "      <th>0</th>\n",
       "      <td>1</td>\n",
       "      <td>11918321</td>\n",
       "      <td>Bing Crosby - Crosbyana</td>\n",
       "      <td>1934</td>\n",
       "      <td>Canada</td>\n",
       "      <td>b'\\x80\\x03]q\\x00(X\\x04\\x00\\x00\\x00Jazzq\\x01X\\x...</td>\n",
       "      <td>b'\\x80\\x03]q\\x00(X\\x08\\x00\\x00\\x00Big Bandq\\x0...</td>\n",
       "      <td>b'\\x80\\x03]q\\x00(X\\x05\\x00\\x00\\x00Deccaq\\x01X\\...</td>\n",
       "      <td>1</td>\n",
       "      <td>2</td>\n",
       "      <td>b'\\x80\\x03]q\\x00}q\\x01(X\\x03\\x00\\x00\\x00qtyq\\x...</td>\n",
       "      <td>1354381</td>\n",
       "      <td>https://img.discogs.com/J7vwmOhWMdUJ5vYuaYZvIj...</td>\n",
       "      <td>https://api.discogs.com/releases/11918321</td>\n",
       "    </tr>\n",
       "    <tr>\n",
       "      <th>1</th>\n",
       "      <td>2</td>\n",
       "      <td>10550056</td>\n",
       "      <td>Bing Crosby - Crosbyana</td>\n",
       "      <td>1934</td>\n",
       "      <td>US</td>\n",
       "      <td>b'\\x80\\x03]q\\x00(X\\x04\\x00\\x00\\x00Jazzq\\x01X\\x...</td>\n",
       "      <td>b'\\x80\\x03]q\\x00(X\\x08\\x00\\x00\\x00Big Bandq\\x0...</td>\n",
       "      <td>b'\\x80\\x03]q\\x00X\\x05\\x00\\x00\\x00Deccaq\\x01a.'</td>\n",
       "      <td>4</td>\n",
       "      <td>4</td>\n",
       "      <td>b'\\x80\\x03]q\\x00}q\\x01(X\\x03\\x00\\x00\\x00qtyq\\x...</td>\n",
       "      <td>1354381</td>\n",
       "      <td>https://img.discogs.com/aLpqYUso3yY53XDHwiqqB-...</td>\n",
       "      <td>https://api.discogs.com/releases/10550056</td>\n",
       "    </tr>\n",
       "    <tr>\n",
       "      <th>2</th>\n",
       "      <td>3</td>\n",
       "      <td>6910984</td>\n",
       "      <td>Tommy Dorsey And His Clambake Seven - Tommy Do...</td>\n",
       "      <td>1935</td>\n",
       "      <td>US</td>\n",
       "      <td>b'\\x80\\x03]q\\x00X\\x04\\x00\\x00\\x00Jazzq\\x01a.'</td>\n",
       "      <td>b'\\x80\\x03]q\\x00X\\x05\\x00\\x00\\x00Swingq\\x01a.'</td>\n",
       "      <td>b'\\x80\\x03]q\\x00(X\\r\\x00\\x00\\x00Swing Classicq...</td>\n",
       "      <td>4</td>\n",
       "      <td>2</td>\n",
       "      <td>b'\\x80\\x03]q\\x00}q\\x01(X\\x0c\\x00\\x00\\x00descri...</td>\n",
       "      <td>0</td>\n",
       "      <td>https://img.discogs.com/FkuaZ7cqdBt5-TvS2ck0hP...</td>\n",
       "      <td>https://api.discogs.com/releases/6910984</td>\n",
       "    </tr>\n",
       "    <tr>\n",
       "      <th>3</th>\n",
       "      <td>4</td>\n",
       "      <td>12959431</td>\n",
       "      <td>Paul Whiteman And His Orchestra, Bix Beiderbec...</td>\n",
       "      <td>1936</td>\n",
       "      <td>US</td>\n",
       "      <td>b'\\x80\\x03]q\\x00X\\x04\\x00\\x00\\x00Jazzq\\x01a.'</td>\n",
       "      <td>b'\\x80\\x03]q\\x00X\\x05\\x00\\x00\\x00Swingq\\x01a.'</td>\n",
       "      <td>b'\\x80\\x03]q\\x00X\\x06\\x00\\x00\\x00Victorq\\x01a.'</td>\n",
       "      <td>3</td>\n",
       "      <td>3</td>\n",
       "      <td>b'\\x80\\x03]q\\x00}q\\x01(X\\x0c\\x00\\x00\\x00descri...</td>\n",
       "      <td>0</td>\n",
       "      <td>https://img.discogs.com/Wg31rg_x6TtOMz-jIDC-3l...</td>\n",
       "      <td>https://api.discogs.com/releases/12959431</td>\n",
       "    </tr>\n",
       "    <tr>\n",
       "      <th>4</th>\n",
       "      <td>5</td>\n",
       "      <td>4453491</td>\n",
       "      <td>Jimmie Lunceford And His Orchestra - For Dance...</td>\n",
       "      <td>1937</td>\n",
       "      <td>Canada</td>\n",
       "      <td>b'\\x80\\x03]q\\x00X\\x04\\x00\\x00\\x00Jazzq\\x01a.'</td>\n",
       "      <td>b'\\x80\\x03]q\\x00.'</td>\n",
       "      <td>b'\\x80\\x03]q\\x00(X\\x05\\x00\\x00\\x00Deccaq\\x01X\\...</td>\n",
       "      <td>5</td>\n",
       "      <td>2</td>\n",
       "      <td>b'\\x80\\x03]q\\x00}q\\x01(X\\x0c\\x00\\x00\\x00descri...</td>\n",
       "      <td>1519538</td>\n",
       "      <td></td>\n",
       "      <td>https://api.discogs.com/releases/4453491</td>\n",
       "    </tr>\n",
       "  </tbody>\n",
       "</table>\n",
       "</div>"
      ],
      "text/plain": [
       "   id  release_id                                              title  year  \\\n",
       "0   1    11918321                            Bing Crosby - Crosbyana  1934   \n",
       "1   2    10550056                            Bing Crosby - Crosbyana  1934   \n",
       "2   3     6910984  Tommy Dorsey And His Clambake Seven - Tommy Do...  1935   \n",
       "3   4    12959431  Paul Whiteman And His Orchestra, Bix Beiderbec...  1936   \n",
       "4   5     4453491  Jimmie Lunceford And His Orchestra - For Dance...  1937   \n",
       "\n",
       "  country                                              genre  \\\n",
       "0  Canada  b'\\x80\\x03]q\\x00(X\\x04\\x00\\x00\\x00Jazzq\\x01X\\x...   \n",
       "1      US  b'\\x80\\x03]q\\x00(X\\x04\\x00\\x00\\x00Jazzq\\x01X\\x...   \n",
       "2      US      b'\\x80\\x03]q\\x00X\\x04\\x00\\x00\\x00Jazzq\\x01a.'   \n",
       "3      US      b'\\x80\\x03]q\\x00X\\x04\\x00\\x00\\x00Jazzq\\x01a.'   \n",
       "4  Canada      b'\\x80\\x03]q\\x00X\\x04\\x00\\x00\\x00Jazzq\\x01a.'   \n",
       "\n",
       "                                               style  \\\n",
       "0  b'\\x80\\x03]q\\x00(X\\x08\\x00\\x00\\x00Big Bandq\\x0...   \n",
       "1  b'\\x80\\x03]q\\x00(X\\x08\\x00\\x00\\x00Big Bandq\\x0...   \n",
       "2     b'\\x80\\x03]q\\x00X\\x05\\x00\\x00\\x00Swingq\\x01a.'   \n",
       "3     b'\\x80\\x03]q\\x00X\\x05\\x00\\x00\\x00Swingq\\x01a.'   \n",
       "4                                 b'\\x80\\x03]q\\x00.'   \n",
       "\n",
       "                                               label  community_have  \\\n",
       "0  b'\\x80\\x03]q\\x00(X\\x05\\x00\\x00\\x00Deccaq\\x01X\\...               1   \n",
       "1     b'\\x80\\x03]q\\x00X\\x05\\x00\\x00\\x00Deccaq\\x01a.'               4   \n",
       "2  b'\\x80\\x03]q\\x00(X\\r\\x00\\x00\\x00Swing Classicq...               4   \n",
       "3    b'\\x80\\x03]q\\x00X\\x06\\x00\\x00\\x00Victorq\\x01a.'               3   \n",
       "4  b'\\x80\\x03]q\\x00(X\\x05\\x00\\x00\\x00Deccaq\\x01X\\...               5   \n",
       "\n",
       "   community_want                                            formats  \\\n",
       "0               2  b'\\x80\\x03]q\\x00}q\\x01(X\\x03\\x00\\x00\\x00qtyq\\x...   \n",
       "1               4  b'\\x80\\x03]q\\x00}q\\x01(X\\x03\\x00\\x00\\x00qtyq\\x...   \n",
       "2               2  b'\\x80\\x03]q\\x00}q\\x01(X\\x0c\\x00\\x00\\x00descri...   \n",
       "3               3  b'\\x80\\x03]q\\x00}q\\x01(X\\x0c\\x00\\x00\\x00descri...   \n",
       "4               2  b'\\x80\\x03]q\\x00}q\\x01(X\\x0c\\x00\\x00\\x00descri...   \n",
       "\n",
       "   master_id                                          thumb_url  \\\n",
       "0    1354381  https://img.discogs.com/J7vwmOhWMdUJ5vYuaYZvIj...   \n",
       "1    1354381  https://img.discogs.com/aLpqYUso3yY53XDHwiqqB-...   \n",
       "2          0  https://img.discogs.com/FkuaZ7cqdBt5-TvS2ck0hP...   \n",
       "3          0  https://img.discogs.com/Wg31rg_x6TtOMz-jIDC-3l...   \n",
       "4    1519538                                                      \n",
       "\n",
       "                                 release_url  \n",
       "0  https://api.discogs.com/releases/11918321  \n",
       "1  https://api.discogs.com/releases/10550056  \n",
       "2   https://api.discogs.com/releases/6910984  \n",
       "3  https://api.discogs.com/releases/12959431  \n",
       "4   https://api.discogs.com/releases/4453491  "
      ]
     },
     "execution_count": 6,
     "metadata": {},
     "output_type": "execute_result"
    }
   ],
   "source": [
    "api_df.head()"
   ]
  },
  {
   "cell_type": "markdown",
   "metadata": {},
   "source": [
    "Above we see the data saved from the querying of the Discogs.com API. The data includes all available jazz albums from the API and retains the columns that were deemed to be the most relevant and informative for the purposes of estimating the market value of each record. As we can see from the above calling of the ``.head()`` method on the api_df DataFrame, several columns have been saved in a binary format. This is due to the fact that the API often returned multiple categories for these columns, and as such they were initially saved in a list in the process of scraping. As this data comes from a SQL database, it has been pickled to enable the storage of the data. Let us now unpickle this data in order to get a better understanding of the structure of the ``api_data``."
   ]
  },
  {
   "cell_type": "code",
   "execution_count": 13,
   "metadata": {},
   "outputs": [
    {
     "data": {
      "text/html": [
       "<div>\n",
       "<style scoped>\n",
       "    .dataframe tbody tr th:only-of-type {\n",
       "        vertical-align: middle;\n",
       "    }\n",
       "\n",
       "    .dataframe tbody tr th {\n",
       "        vertical-align: top;\n",
       "    }\n",
       "\n",
       "    .dataframe thead th {\n",
       "        text-align: right;\n",
       "    }\n",
       "</style>\n",
       "<table border=\"1\" class=\"dataframe\">\n",
       "  <thead>\n",
       "    <tr style=\"text-align: right;\">\n",
       "      <th></th>\n",
       "      <th>id</th>\n",
       "      <th>release_id</th>\n",
       "      <th>title</th>\n",
       "      <th>year</th>\n",
       "      <th>country</th>\n",
       "      <th>genre</th>\n",
       "      <th>style</th>\n",
       "      <th>label</th>\n",
       "      <th>community_have</th>\n",
       "      <th>community_want</th>\n",
       "      <th>formats</th>\n",
       "      <th>master_id</th>\n",
       "      <th>thumb_url</th>\n",
       "      <th>release_url</th>\n",
       "    </tr>\n",
       "  </thead>\n",
       "  <tbody>\n",
       "    <tr>\n",
       "      <th>0</th>\n",
       "      <td>1</td>\n",
       "      <td>11918321</td>\n",
       "      <td>Bing Crosby - Crosbyana</td>\n",
       "      <td>1934</td>\n",
       "      <td>Canada</td>\n",
       "      <td>[Jazz, Pop]</td>\n",
       "      <td>[Big Band, Vocal]</td>\n",
       "      <td>[Decca, The Compo Company Ltd.]</td>\n",
       "      <td>1</td>\n",
       "      <td>2</td>\n",
       "      <td>[{'qty': '6', 'descriptions': ['10\"', '78 RPM'...</td>\n",
       "      <td>1354381</td>\n",
       "      <td>https://img.discogs.com/J7vwmOhWMdUJ5vYuaYZvIj...</td>\n",
       "      <td>https://api.discogs.com/releases/11918321</td>\n",
       "    </tr>\n",
       "    <tr>\n",
       "      <th>1</th>\n",
       "      <td>2</td>\n",
       "      <td>10550056</td>\n",
       "      <td>Bing Crosby - Crosbyana</td>\n",
       "      <td>1934</td>\n",
       "      <td>US</td>\n",
       "      <td>[Jazz, Pop]</td>\n",
       "      <td>[Big Band, Vocal]</td>\n",
       "      <td>[Decca]</td>\n",
       "      <td>4</td>\n",
       "      <td>4</td>\n",
       "      <td>[{'qty': '6', 'descriptions': ['10\"', '78 RPM'...</td>\n",
       "      <td>1354381</td>\n",
       "      <td>https://img.discogs.com/aLpqYUso3yY53XDHwiqqB-...</td>\n",
       "      <td>https://api.discogs.com/releases/10550056</td>\n",
       "    </tr>\n",
       "    <tr>\n",
       "      <th>2</th>\n",
       "      <td>3</td>\n",
       "      <td>6910984</td>\n",
       "      <td>Tommy Dorsey And His Clambake Seven - Tommy Do...</td>\n",
       "      <td>1935</td>\n",
       "      <td>US</td>\n",
       "      <td>[Jazz]</td>\n",
       "      <td>[Swing]</td>\n",
       "      <td>[Swing Classic, RCA Victor]</td>\n",
       "      <td>4</td>\n",
       "      <td>2</td>\n",
       "      <td>[{'descriptions': ['10\"', '78 RPM', 'Album', '...</td>\n",
       "      <td>0</td>\n",
       "      <td>https://img.discogs.com/FkuaZ7cqdBt5-TvS2ck0hP...</td>\n",
       "      <td>https://api.discogs.com/releases/6910984</td>\n",
       "    </tr>\n",
       "    <tr>\n",
       "      <th>3</th>\n",
       "      <td>4</td>\n",
       "      <td>12959431</td>\n",
       "      <td>Paul Whiteman And His Orchestra, Bix Beiderbec...</td>\n",
       "      <td>1936</td>\n",
       "      <td>US</td>\n",
       "      <td>[Jazz]</td>\n",
       "      <td>[Swing]</td>\n",
       "      <td>[Victor]</td>\n",
       "      <td>3</td>\n",
       "      <td>3</td>\n",
       "      <td>[{'descriptions': ['10\"', '78 RPM', 'Album', '...</td>\n",
       "      <td>0</td>\n",
       "      <td>https://img.discogs.com/Wg31rg_x6TtOMz-jIDC-3l...</td>\n",
       "      <td>https://api.discogs.com/releases/12959431</td>\n",
       "    </tr>\n",
       "    <tr>\n",
       "      <th>4</th>\n",
       "      <td>5</td>\n",
       "      <td>4453491</td>\n",
       "      <td>Jimmie Lunceford And His Orchestra - For Dance...</td>\n",
       "      <td>1937</td>\n",
       "      <td>Canada</td>\n",
       "      <td>[Jazz]</td>\n",
       "      <td>[]</td>\n",
       "      <td>[Decca, Decca Records, Inc.]</td>\n",
       "      <td>5</td>\n",
       "      <td>2</td>\n",
       "      <td>[{'descriptions': ['10\"', '78 RPM', 'Album'], ...</td>\n",
       "      <td>1519538</td>\n",
       "      <td></td>\n",
       "      <td>https://api.discogs.com/releases/4453491</td>\n",
       "    </tr>\n",
       "  </tbody>\n",
       "</table>\n",
       "</div>"
      ],
      "text/plain": [
       "   id  release_id                                              title  year  \\\n",
       "0   1    11918321                            Bing Crosby - Crosbyana  1934   \n",
       "1   2    10550056                            Bing Crosby - Crosbyana  1934   \n",
       "2   3     6910984  Tommy Dorsey And His Clambake Seven - Tommy Do...  1935   \n",
       "3   4    12959431  Paul Whiteman And His Orchestra, Bix Beiderbec...  1936   \n",
       "4   5     4453491  Jimmie Lunceford And His Orchestra - For Dance...  1937   \n",
       "\n",
       "  country        genre              style                            label  \\\n",
       "0  Canada  [Jazz, Pop]  [Big Band, Vocal]  [Decca, The Compo Company Ltd.]   \n",
       "1      US  [Jazz, Pop]  [Big Band, Vocal]                          [Decca]   \n",
       "2      US       [Jazz]            [Swing]      [Swing Classic, RCA Victor]   \n",
       "3      US       [Jazz]            [Swing]                         [Victor]   \n",
       "4  Canada       [Jazz]                 []     [Decca, Decca Records, Inc.]   \n",
       "\n",
       "   community_have  community_want  \\\n",
       "0               1               2   \n",
       "1               4               4   \n",
       "2               4               2   \n",
       "3               3               3   \n",
       "4               5               2   \n",
       "\n",
       "                                             formats  master_id  \\\n",
       "0  [{'qty': '6', 'descriptions': ['10\"', '78 RPM'...    1354381   \n",
       "1  [{'qty': '6', 'descriptions': ['10\"', '78 RPM'...    1354381   \n",
       "2  [{'descriptions': ['10\"', '78 RPM', 'Album', '...          0   \n",
       "3  [{'descriptions': ['10\"', '78 RPM', 'Album', '...          0   \n",
       "4  [{'descriptions': ['10\"', '78 RPM', 'Album'], ...    1519538   \n",
       "\n",
       "                                           thumb_url  \\\n",
       "0  https://img.discogs.com/J7vwmOhWMdUJ5vYuaYZvIj...   \n",
       "1  https://img.discogs.com/aLpqYUso3yY53XDHwiqqB-...   \n",
       "2  https://img.discogs.com/FkuaZ7cqdBt5-TvS2ck0hP...   \n",
       "3  https://img.discogs.com/Wg31rg_x6TtOMz-jIDC-3l...   \n",
       "4                                                      \n",
       "\n",
       "                                 release_url  \n",
       "0  https://api.discogs.com/releases/11918321  \n",
       "1  https://api.discogs.com/releases/10550056  \n",
       "2   https://api.discogs.com/releases/6910984  \n",
       "3  https://api.discogs.com/releases/12959431  \n",
       "4   https://api.discogs.com/releases/4453491  "
      ]
     },
     "execution_count": 13,
     "metadata": {},
     "output_type": "execute_result"
    }
   ],
   "source": [
    "api_df.applymap(lambda x: pickle.loads(x) if isinstance(x,bytes) else x).head()"
   ]
  },
  {
   "cell_type": "markdown",
   "metadata": {},
   "source": [
    "As all columns are now human-readable, we can discuss each column and its relevance for the purposes of our goal of estimating the market value of jazz albums on the basis of their meta-characteristics\n",
    "- ``release_id`` and ``master_id``\n",
    "    - These columns represent the unique identifier of a specific release of a record on Discogs.com, and the unique identifier of the album irrespective of the release, respectively.\n",
    "    - While ``release_id`` will be of no use to us in the estimation of album market value, it is valuable as a primary key for the joining of the data extracted from the Discogs.com API with the scraped release page and image data we will be introducing later\n",
    "    - ``master_id`` will be useful in constructing linkages between entries that are the same album, but released in a different country, format, or by another label\n",
    "- ``country``\n",
    "    - This feature gives us an insight into which country the record was released from\n",
    "    - While not immediately obvious from the snapshot above, this feature can have multiple countries for its value, such as \"England & USA\", which requires a more thoughtful approach than just direct one-hot encoding in order to optimally preserve the information it encodes\n",
    "- ``title``\n",
    "    - This feature includes both the title of the album, as well as the title of the artist\n",
    "    - It will be necessary to split this feature into two independent ones, such that entries can be linked to others by virtue of having the same authoring artist or group\n",
    "- ``community_want`` and ``community_have``\n",
    "    - These features outline the registered demand and supply, respectively for given albums on the Discogs.com platform\n",
    "    - Users can register their ownership or desire of a certain album, which is then aggregated over users and recorded in these features\n",
    "    - These are the first features we see which will not be taken into account in the record store estimation scenario, as in a physical visit to the record store, it is not possible to know exactly how many people have and want a specific record\n",
    "- ``genre``, ``style`` and ``label``\n",
    "    - These features outline the genres, styles and labels associated with each album release\n",
    "    - As has been alluded to previously, there are potentially multiple values for this feature, which will make standard encoding methods such as One-Hot Encoding difficult to rationalize\n",
    "- ``formats``\n",
    "    - Taken directly from the Discogs.com API, the formats feature is the most unruly of all, as it contains up to 4 sub-features,namely:\n",
    "        - Format Description\n",
    "            - Album release specifics\n",
    "            - Examples\n",
    "                - '10\"', '78RPM', 'Album', 'Reissue'\n",
    "        - Format Text\n",
    "            - Additional free form notes associated with the record release\n",
    "            - Examples\n",
    "                - 'Paper Sleeve', 'Red Vinyl'\n",
    "        - Format Name\n",
    "            - The name of the format\n",
    "            - Examples\n",
    "                - 'CD', 'Vinyl', 'Cassette'\n",
    "        - Format Quantity\n",
    "            - An integer representing how many units of the format are associated with a purchase of the release\n",
    "- ``thumb_url`` and ``release_url``\n",
    "    - These features are unnecessary for the purposes of our analysis here, but were useful in order to conduct the data extraction of the ``extracted_data`` and ``image_embedding_data`` obtained from the Discogs.com platform itself"
   ]
  },
  {
   "cell_type": "markdown",
   "metadata": {},
   "source": [
    "### Investigation and Transformation"
   ]
  },
  {
   "cell_type": "markdown",
   "metadata": {},
   "source": [
    "Having taken an initial look at ``api_data``, we can now move on to the cleaning and transformation of this DataFrame through a previously written pipeline, to be found in the lib/pipelines.py module. For the purposes of exposition, the pipeline will be replicated here step-by-step, with motivation behind each step. In the following notebooks, a direct import of the pipeline will be used in lieu of a replication as below.\n",
    "\n",
    "Below the required transformers will be imported and composed into the pre-defined pipeline structure, after which the pipeline will be explained in its entirety."
   ]
  },
  {
   "cell_type": "code",
   "execution_count": 50,
   "metadata": {},
   "outputs": [],
   "source": [
    "from sklearn.pipeline import Pipeline\n",
    "from lib.transformers import (ColumnRemover, \n",
    "                              TitleSplitter, \n",
    "                              Unpickler, \n",
    "                              LabelCleaner, \n",
    "                              ArtistCleaner, \n",
    "                              DuplicateRemover, \n",
    "                              CountryEncoder, \n",
    "                              GenreEncoder, \n",
    "                              MultiValueCategoricalEncoder, \n",
    "                              FormatEncoder, \n",
    "                              FormatTextCleaner, \n",
    "                              TimePeriodEncoder)"
   ]
  },
  {
   "cell_type": "code",
   "execution_count": 60,
   "metadata": {},
   "outputs": [],
   "source": [
    "clean_text_pipe = Pipeline([\n",
    "    #Step 4a - Homogenize and clean the label feature\n",
    "    ('label',LabelCleaner()),\n",
    "    #Step 4b - Homogenize and clean the artist feature\n",
    "    ('artist',ArtistCleaner())\n",
    "])\n",
    "\n",
    "column_encoding_pipe = Pipeline([\n",
    "    #Step 6a - Identify regions and superregions associated with countries and approrpiately encode\n",
    "    #multi-country album releases\n",
    "    ('country',CountryEncoder()),\n",
    "    #Step 6b - Expand and encode the genre feature\n",
    "    ('genre',GenreEncoder()),\n",
    "    #Step 6c - Expand and encode the style feature\n",
    "    ('style',MultiValueCategoricalEncoder(feature='style'))\n",
    "])\n",
    "\n",
    "format_pipe = Pipeline([\n",
    "    #Step 7a - Create the format_description, format_text, format_name and format_quantity features\n",
    "    ('make_columns',FormatEncoder()),\n",
    "    #Step 7b - Expand and encode the format_description feature\n",
    "    ('encode_descriptions',MultiValueCategoricalEncoder('format_description')),\n",
    "    #Step 7c - Homogenize and clean the format_text feature\n",
    "    ('clean_format_text',FormatTextCleaner())\n",
    "])\n",
    "\n",
    "api_pipe = Pipeline([\n",
    "    #Step 1 - Remove Unnecessary Columns\n",
    "    ('remove_columns',ColumnRemover(['id','thumb_url','release_url'])),\n",
    "    #Step 2 - Splitting title Feature into title and artist\n",
    "    ('split_title',TitleSplitter()),\n",
    "    #Step 3 - Unpickle Pickled Features\n",
    "    ('unpickle',Unpickler(['genre','style','label','formats'])),\n",
    "    #Step 4 - Clean Features with Multiple Categorical Values per Sample and High Categorical Variance\n",
    "    ('clean_text',clean_text_pipe),\n",
    "    #Step 5 - Remove Entries with Duplicate release_ids\n",
    "    ('remove_duplicates',DuplicateRemover('release_id')),\n",
    "    #Step 6 - Encode Categorical Features which cannot be encoded conventionally\n",
    "    ('encode_columns',column_encoding_pipe),\n",
    "    #Step 7 - Expand the 'format' Feature from Dictionary to Column Format\n",
    "    ('format_columns',format_pipe),\n",
    "    #Step 8 - Encode Jazz Periods and Eras associated with the Release Year of each Album\n",
    "    ('encode_time_periods',TimePeriodEncoder())\n",
    "])"
   ]
  },
  {
   "cell_type": "markdown",
   "metadata": {},
   "source": [
    "### Pipeline Step Exposition\n",
    "#### Step 1 - Removing Unnecessary Columns\n",
    "This step is mostly self-explanatory. For the purposes of this analysis, neither ``thumb_url`` and ``release_url`` will be relevant, and the ``id`` column is superfluous\n",
    "#### Step 2 - Splitting ``title`` Feature into ``title`` and ``artist``\n",
    "As was alluded to in the initial ``api_data`` overview, the original ``title`` feature clearly contains two distinct pieces of information, namely the name of the performing artist or group for a given release, as well as the name of said release. As such, with this transformer, we split the title feature according to the common delimiter in this column, namely a hyphen ('-') in order to yield an individual ``title`` and ``artist`` column. An equivalent operation is shown below on a sample of the dataset."
   ]
  },
  {
   "cell_type": "code",
   "execution_count": 59,
   "metadata": {},
   "outputs": [
    {
     "data": {
      "text/html": [
       "<div>\n",
       "<style scoped>\n",
       "    .dataframe tbody tr th:only-of-type {\n",
       "        vertical-align: middle;\n",
       "    }\n",
       "\n",
       "    .dataframe tbody tr th {\n",
       "        vertical-align: top;\n",
       "    }\n",
       "\n",
       "    .dataframe thead th {\n",
       "        text-align: right;\n",
       "    }\n",
       "</style>\n",
       "<table border=\"1\" class=\"dataframe\">\n",
       "  <thead>\n",
       "    <tr style=\"text-align: right;\">\n",
       "      <th></th>\n",
       "      <th>artist</th>\n",
       "      <th>title</th>\n",
       "    </tr>\n",
       "  </thead>\n",
       "  <tbody>\n",
       "    <tr>\n",
       "      <th>0</th>\n",
       "      <td>Bing Crosby</td>\n",
       "      <td>Crosbyana</td>\n",
       "    </tr>\n",
       "    <tr>\n",
       "      <th>1</th>\n",
       "      <td>Bing Crosby</td>\n",
       "      <td>Crosbyana</td>\n",
       "    </tr>\n",
       "    <tr>\n",
       "      <th>2</th>\n",
       "      <td>Tommy Dorsey And His Clambake Seven</td>\n",
       "      <td>Tommy Dorsey And His Clambake Seven</td>\n",
       "    </tr>\n",
       "    <tr>\n",
       "      <th>3</th>\n",
       "      <td>Paul Whiteman And His Orchestra, Bix Beiderbec...</td>\n",
       "      <td>Dedicated To The Memory Of Bix Beiderbecke</td>\n",
       "    </tr>\n",
       "    <tr>\n",
       "      <th>4</th>\n",
       "      <td>Jimmie Lunceford And His Orchestra</td>\n",
       "      <td>For Dancers Only</td>\n",
       "    </tr>\n",
       "  </tbody>\n",
       "</table>\n",
       "</div>"
      ],
      "text/plain": [
       "                                              artist  \\\n",
       "0                                       Bing Crosby    \n",
       "1                                       Bing Crosby    \n",
       "2               Tommy Dorsey And His Clambake Seven    \n",
       "3  Paul Whiteman And His Orchestra, Bix Beiderbec...   \n",
       "4                Jimmie Lunceford And His Orchestra    \n",
       "\n",
       "                                          title  \n",
       "0                                     Crosbyana  \n",
       "1                                     Crosbyana  \n",
       "2           Tommy Dorsey And His Clambake Seven  \n",
       "3   Dedicated To The Memory Of Bix Beiderbecke   \n",
       "4                              For Dancers Only  "
      ]
     },
     "execution_count": 59,
     "metadata": {},
     "output_type": "execute_result"
    }
   ],
   "source": [
    "api_df['title'].head().str.split('-',n=1,expand=True).rename(columns={0:'artist',1:'title'})"
   ]
  },
  {
   "cell_type": "markdown",
   "metadata": {},
   "source": [
    "#### Step 3 - Unpickle Pickled Features\n",
    "This step replicates the operation performed in the ``api_data`` overview, by unpickling ``genre``,``style``,``label`` and ``formats``\n",
    "#### Step 4 - Clean Features with Multiple Categorical Values per Sample and High Categorical Variance\n",
    "For the features ``label`` and ``artist``, it quickly becomes clear that a more sophisticated approach is necessary than just simply One-Hot Encoding, for a number of reasons"
   ]
  },
  {
   "cell_type": "markdown",
   "metadata": {},
   "source": [
    "#### Step 5 - Remove Entries with Duplicate ``release_ids``\n",
    "The results obtained from querying the Discogs.com API yielded a substantial number of duplicates for the ``release_id`` feature, as we can see from the cell below. As this is a unique identifier for each album, we will remove those entries for which a duplicate ``release_id`` is identified."
   ]
  },
  {
   "cell_type": "code",
   "execution_count": 66,
   "metadata": {},
   "outputs": [
    {
     "name": "stdout",
     "output_type": "stream",
     "text": [
      "The number of entries with duplicated release_id values is: 98334\n"
     ]
    }
   ],
   "source": [
    "print('The number of entries with duplicated release_id values is:',len(api_df[api_df['release_id'].duplicated()]))"
   ]
  },
  {
   "cell_type": "markdown",
   "metadata": {},
   "source": [
    "## Step 5 - Remove "
   ]
  },
  {
   "cell_type": "code",
   "execution_count": null,
   "metadata": {},
   "outputs": [],
   "source": []
  },
  {
   "cell_type": "code",
   "execution_count": null,
   "metadata": {},
   "outputs": [],
   "source": []
  },
  {
   "cell_type": "code",
   "execution_count": 1,
   "metadata": {},
   "outputs": [
    {
     "ename": "NameError",
     "evalue": "name 'load_from_pkl' is not defined",
     "output_type": "error",
     "traceback": [
      "\u001b[0;31m---------------------------------------------------------------------------\u001b[0m",
      "\u001b[0;31mNameError\u001b[0m                                 Traceback (most recent call last)",
      "\u001b[0;32m<ipython-input-1-1ae4a053a595>\u001b[0m in \u001b[0;36m<module>\u001b[0;34m\u001b[0m\n\u001b[0;32m----> 1\u001b[0;31m \u001b[0mextracted_df\u001b[0m \u001b[0;34m=\u001b[0m \u001b[0mload_from_pkl\u001b[0m\u001b[0;34m(\u001b[0m\u001b[0;34m'extracted'\u001b[0m\u001b[0;34m,\u001b[0m\u001b[0mpath\u001b[0m\u001b[0;34m=\u001b[0m\u001b[0mDATA_PATH\u001b[0m\u001b[0;34m)\u001b[0m\u001b[0;34m\u001b[0m\u001b[0;34m\u001b[0m\u001b[0m\n\u001b[0m",
      "\u001b[0;31mNameError\u001b[0m: name 'load_from_pkl' is not defined"
     ]
    }
   ],
   "source": [
    "extracted_df = load_from_pkl('extracted',path=DATA_PATH)"
   ]
  },
  {
   "cell_type": "markdown",
   "metadata": {},
   "source": [
    "# Transforming"
   ]
  },
  {
   "cell_type": "code",
   "execution_count": null,
   "metadata": {},
   "outputs": [],
   "source": [
    "extracted_df = extracted_pipe.fit_transform(extracted_df)\n",
    "extracted_df.describe()"
   ]
  },
  {
   "cell_type": "code",
   "execution_count": null,
   "metadata": {},
   "outputs": [],
   "source": [
    "api_df = api_pipe.fit_transform(api_df)\n",
    "api_df.describe()"
   ]
  }
 ],
 "metadata": {
  "kernelspec": {
   "display_name": "Python 3",
   "language": "python",
   "name": "python3"
  },
  "language_info": {
   "codemirror_mode": {
    "name": "ipython",
    "version": 3
   },
   "file_extension": ".py",
   "mimetype": "text/x-python",
   "name": "python",
   "nbconvert_exporter": "python",
   "pygments_lexer": "ipython3",
   "version": "3.6.10"
  }
 },
 "nbformat": 4,
 "nbformat_minor": 4
}
