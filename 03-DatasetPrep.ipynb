{
  "nbformat": 4,
  "nbformat_minor": 0,
  "metadata": {
    "accelerator": "GPU",
    "colab": {
      "name": "03-DatasetPrep.ipynb",
      "provenance": [],
      "toc_visible": true,
      "machine_shape": "hm"
    },
    "kernelspec": {
      "display_name": "Python 3",
      "language": "python",
      "name": "python3"
    },
    "language_info": {
      "codemirror_mode": {
        "name": "ipython",
        "version": 3
      },
      "file_extension": ".py",
      "mimetype": "text/x-python",
      "name": "python",
      "nbconvert_exporter": "python",
      "pygments_lexer": "ipython3",
      "version": "3.6.10"
    },
    "widgets": {
      "application/vnd.jupyter.widget-state+json": {
        "8100cf3daffb4272aa8a8fc44791b1b9": {
          "model_module": "@jupyter-widgets/controls",
          "model_name": "HBoxModel",
          "state": {
            "_view_name": "HBoxView",
            "_dom_classes": [],
            "_model_name": "HBoxModel",
            "_view_module": "@jupyter-widgets/controls",
            "_model_module_version": "1.5.0",
            "_view_count": null,
            "_view_module_version": "1.5.0",
            "box_style": "",
            "layout": "IPY_MODEL_5c23361d18364c6b8934e3352ffe51fd",
            "_model_module": "@jupyter-widgets/controls",
            "children": [
              "IPY_MODEL_e8e79470e93e43078f2eabe337b3698e",
              "IPY_MODEL_8a179d40dc4c4080b4affca4f6de1500"
            ]
          }
        },
        "5c23361d18364c6b8934e3352ffe51fd": {
          "model_module": "@jupyter-widgets/base",
          "model_name": "LayoutModel",
          "state": {
            "_view_name": "LayoutView",
            "grid_template_rows": null,
            "right": null,
            "justify_content": null,
            "_view_module": "@jupyter-widgets/base",
            "overflow": null,
            "_model_module_version": "1.2.0",
            "_view_count": null,
            "flex_flow": null,
            "width": null,
            "min_width": null,
            "border": null,
            "align_items": null,
            "bottom": null,
            "_model_module": "@jupyter-widgets/base",
            "top": null,
            "grid_column": null,
            "overflow_y": null,
            "overflow_x": null,
            "grid_auto_flow": null,
            "grid_area": null,
            "grid_template_columns": null,
            "flex": null,
            "_model_name": "LayoutModel",
            "justify_items": null,
            "grid_row": null,
            "max_height": null,
            "align_content": null,
            "visibility": null,
            "align_self": null,
            "height": null,
            "min_height": null,
            "padding": null,
            "grid_auto_rows": null,
            "grid_gap": null,
            "max_width": null,
            "order": null,
            "_view_module_version": "1.2.0",
            "grid_template_areas": null,
            "object_position": null,
            "object_fit": null,
            "grid_auto_columns": null,
            "margin": null,
            "display": null,
            "left": null
          }
        },
        "e8e79470e93e43078f2eabe337b3698e": {
          "model_module": "@jupyter-widgets/controls",
          "model_name": "FloatProgressModel",
          "state": {
            "_view_name": "ProgressView",
            "style": "IPY_MODEL_c416c3f506164d0aaf097e454b2b2d6a",
            "_dom_classes": [],
            "description": "",
            "_model_name": "FloatProgressModel",
            "bar_style": "success",
            "max": 1,
            "_view_module": "@jupyter-widgets/controls",
            "_model_module_version": "1.5.0",
            "value": 1,
            "_view_count": null,
            "_view_module_version": "1.5.0",
            "orientation": "horizontal",
            "min": 0,
            "description_tooltip": null,
            "_model_module": "@jupyter-widgets/controls",
            "layout": "IPY_MODEL_80a57d308b244dbab7ea0650f20c169a"
          }
        },
        "8a179d40dc4c4080b4affca4f6de1500": {
          "model_module": "@jupyter-widgets/controls",
          "model_name": "HTMLModel",
          "state": {
            "_view_name": "HTMLView",
            "style": "IPY_MODEL_0a98ccb16ae74164aabfebc9d37eeda8",
            "_dom_classes": [],
            "description": "",
            "_model_name": "HTMLModel",
            "placeholder": "​",
            "_view_module": "@jupyter-widgets/controls",
            "_model_module_version": "1.5.0",
            "value": " 1054882/? [00:09&lt;00:00, 114204.58it/s]",
            "_view_count": null,
            "_view_module_version": "1.5.0",
            "description_tooltip": null,
            "_model_module": "@jupyter-widgets/controls",
            "layout": "IPY_MODEL_d4c11c528fcb4c98a6c8d2cfed7a0dfe"
          }
        },
        "c416c3f506164d0aaf097e454b2b2d6a": {
          "model_module": "@jupyter-widgets/controls",
          "model_name": "ProgressStyleModel",
          "state": {
            "_view_name": "StyleView",
            "_model_name": "ProgressStyleModel",
            "description_width": "initial",
            "_view_module": "@jupyter-widgets/base",
            "_model_module_version": "1.5.0",
            "_view_count": null,
            "_view_module_version": "1.2.0",
            "bar_color": null,
            "_model_module": "@jupyter-widgets/controls"
          }
        },
        "80a57d308b244dbab7ea0650f20c169a": {
          "model_module": "@jupyter-widgets/base",
          "model_name": "LayoutModel",
          "state": {
            "_view_name": "LayoutView",
            "grid_template_rows": null,
            "right": null,
            "justify_content": null,
            "_view_module": "@jupyter-widgets/base",
            "overflow": null,
            "_model_module_version": "1.2.0",
            "_view_count": null,
            "flex_flow": null,
            "width": null,
            "min_width": null,
            "border": null,
            "align_items": null,
            "bottom": null,
            "_model_module": "@jupyter-widgets/base",
            "top": null,
            "grid_column": null,
            "overflow_y": null,
            "overflow_x": null,
            "grid_auto_flow": null,
            "grid_area": null,
            "grid_template_columns": null,
            "flex": null,
            "_model_name": "LayoutModel",
            "justify_items": null,
            "grid_row": null,
            "max_height": null,
            "align_content": null,
            "visibility": null,
            "align_self": null,
            "height": null,
            "min_height": null,
            "padding": null,
            "grid_auto_rows": null,
            "grid_gap": null,
            "max_width": null,
            "order": null,
            "_view_module_version": "1.2.0",
            "grid_template_areas": null,
            "object_position": null,
            "object_fit": null,
            "grid_auto_columns": null,
            "margin": null,
            "display": null,
            "left": null
          }
        },
        "0a98ccb16ae74164aabfebc9d37eeda8": {
          "model_module": "@jupyter-widgets/controls",
          "model_name": "DescriptionStyleModel",
          "state": {
            "_view_name": "StyleView",
            "_model_name": "DescriptionStyleModel",
            "description_width": "",
            "_view_module": "@jupyter-widgets/base",
            "_model_module_version": "1.5.0",
            "_view_count": null,
            "_view_module_version": "1.2.0",
            "_model_module": "@jupyter-widgets/controls"
          }
        },
        "d4c11c528fcb4c98a6c8d2cfed7a0dfe": {
          "model_module": "@jupyter-widgets/base",
          "model_name": "LayoutModel",
          "state": {
            "_view_name": "LayoutView",
            "grid_template_rows": null,
            "right": null,
            "justify_content": null,
            "_view_module": "@jupyter-widgets/base",
            "overflow": null,
            "_model_module_version": "1.2.0",
            "_view_count": null,
            "flex_flow": null,
            "width": null,
            "min_width": null,
            "border": null,
            "align_items": null,
            "bottom": null,
            "_model_module": "@jupyter-widgets/base",
            "top": null,
            "grid_column": null,
            "overflow_y": null,
            "overflow_x": null,
            "grid_auto_flow": null,
            "grid_area": null,
            "grid_template_columns": null,
            "flex": null,
            "_model_name": "LayoutModel",
            "justify_items": null,
            "grid_row": null,
            "max_height": null,
            "align_content": null,
            "visibility": null,
            "align_self": null,
            "height": null,
            "min_height": null,
            "padding": null,
            "grid_auto_rows": null,
            "grid_gap": null,
            "max_width": null,
            "order": null,
            "_view_module_version": "1.2.0",
            "grid_template_areas": null,
            "object_position": null,
            "object_fit": null,
            "grid_auto_columns": null,
            "margin": null,
            "display": null,
            "left": null
          }
        },
        "f1de3e015cc04d11b7c000c58dc35757": {
          "model_module": "@jupyter-widgets/controls",
          "model_name": "HBoxModel",
          "state": {
            "_view_name": "HBoxView",
            "_dom_classes": [],
            "_model_name": "HBoxModel",
            "_view_module": "@jupyter-widgets/controls",
            "_model_module_version": "1.5.0",
            "_view_count": null,
            "_view_module_version": "1.5.0",
            "box_style": "",
            "layout": "IPY_MODEL_11e30d7a81f840a59f42ecb1296970f1",
            "_model_module": "@jupyter-widgets/controls",
            "children": [
              "IPY_MODEL_31f138e1ece247b6a6ae7f7e68b73298",
              "IPY_MODEL_f482fe46e7184fe8ac44558a673b3b2e"
            ]
          }
        },
        "11e30d7a81f840a59f42ecb1296970f1": {
          "model_module": "@jupyter-widgets/base",
          "model_name": "LayoutModel",
          "state": {
            "_view_name": "LayoutView",
            "grid_template_rows": null,
            "right": null,
            "justify_content": null,
            "_view_module": "@jupyter-widgets/base",
            "overflow": null,
            "_model_module_version": "1.2.0",
            "_view_count": null,
            "flex_flow": null,
            "width": null,
            "min_width": null,
            "border": null,
            "align_items": null,
            "bottom": null,
            "_model_module": "@jupyter-widgets/base",
            "top": null,
            "grid_column": null,
            "overflow_y": null,
            "overflow_x": null,
            "grid_auto_flow": null,
            "grid_area": null,
            "grid_template_columns": null,
            "flex": null,
            "_model_name": "LayoutModel",
            "justify_items": null,
            "grid_row": null,
            "max_height": null,
            "align_content": null,
            "visibility": null,
            "align_self": null,
            "height": null,
            "min_height": null,
            "padding": null,
            "grid_auto_rows": null,
            "grid_gap": null,
            "max_width": null,
            "order": null,
            "_view_module_version": "1.2.0",
            "grid_template_areas": null,
            "object_position": null,
            "object_fit": null,
            "grid_auto_columns": null,
            "margin": null,
            "display": null,
            "left": null
          }
        },
        "31f138e1ece247b6a6ae7f7e68b73298": {
          "model_module": "@jupyter-widgets/controls",
          "model_name": "FloatProgressModel",
          "state": {
            "_view_name": "ProgressView",
            "style": "IPY_MODEL_c1b1dd7739e14c5b8da7c57a11a3d194",
            "_dom_classes": [],
            "description": "100%",
            "_model_name": "FloatProgressModel",
            "bar_style": "success",
            "max": 7,
            "_view_module": "@jupyter-widgets/controls",
            "_model_module_version": "1.5.0",
            "value": 7,
            "_view_count": null,
            "_view_module_version": "1.5.0",
            "orientation": "horizontal",
            "min": 0,
            "description_tooltip": null,
            "_model_module": "@jupyter-widgets/controls",
            "layout": "IPY_MODEL_14d142b1a83e4f658ef23865fc9d14fa"
          }
        },
        "f482fe46e7184fe8ac44558a673b3b2e": {
          "model_module": "@jupyter-widgets/controls",
          "model_name": "HTMLModel",
          "state": {
            "_view_name": "HTMLView",
            "style": "IPY_MODEL_3d84f19702124b6398ea853c234b7a36",
            "_dom_classes": [],
            "description": "",
            "_model_name": "HTMLModel",
            "placeholder": "​",
            "_view_module": "@jupyter-widgets/controls",
            "_model_module_version": "1.5.0",
            "value": " 7/7 [00:02&lt;00:00,  3.34it/s]",
            "_view_count": null,
            "_view_module_version": "1.5.0",
            "description_tooltip": null,
            "_model_module": "@jupyter-widgets/controls",
            "layout": "IPY_MODEL_d3982c8575a74087af3333d26ebb4f22"
          }
        },
        "c1b1dd7739e14c5b8da7c57a11a3d194": {
          "model_module": "@jupyter-widgets/controls",
          "model_name": "ProgressStyleModel",
          "state": {
            "_view_name": "StyleView",
            "_model_name": "ProgressStyleModel",
            "description_width": "initial",
            "_view_module": "@jupyter-widgets/base",
            "_model_module_version": "1.5.0",
            "_view_count": null,
            "_view_module_version": "1.2.0",
            "bar_color": null,
            "_model_module": "@jupyter-widgets/controls"
          }
        },
        "14d142b1a83e4f658ef23865fc9d14fa": {
          "model_module": "@jupyter-widgets/base",
          "model_name": "LayoutModel",
          "state": {
            "_view_name": "LayoutView",
            "grid_template_rows": null,
            "right": null,
            "justify_content": null,
            "_view_module": "@jupyter-widgets/base",
            "overflow": null,
            "_model_module_version": "1.2.0",
            "_view_count": null,
            "flex_flow": null,
            "width": null,
            "min_width": null,
            "border": null,
            "align_items": null,
            "bottom": null,
            "_model_module": "@jupyter-widgets/base",
            "top": null,
            "grid_column": null,
            "overflow_y": null,
            "overflow_x": null,
            "grid_auto_flow": null,
            "grid_area": null,
            "grid_template_columns": null,
            "flex": null,
            "_model_name": "LayoutModel",
            "justify_items": null,
            "grid_row": null,
            "max_height": null,
            "align_content": null,
            "visibility": null,
            "align_self": null,
            "height": null,
            "min_height": null,
            "padding": null,
            "grid_auto_rows": null,
            "grid_gap": null,
            "max_width": null,
            "order": null,
            "_view_module_version": "1.2.0",
            "grid_template_areas": null,
            "object_position": null,
            "object_fit": null,
            "grid_auto_columns": null,
            "margin": null,
            "display": null,
            "left": null
          }
        },
        "3d84f19702124b6398ea853c234b7a36": {
          "model_module": "@jupyter-widgets/controls",
          "model_name": "DescriptionStyleModel",
          "state": {
            "_view_name": "StyleView",
            "_model_name": "DescriptionStyleModel",
            "description_width": "",
            "_view_module": "@jupyter-widgets/base",
            "_model_module_version": "1.5.0",
            "_view_count": null,
            "_view_module_version": "1.2.0",
            "_model_module": "@jupyter-widgets/controls"
          }
        },
        "d3982c8575a74087af3333d26ebb4f22": {
          "model_module": "@jupyter-widgets/base",
          "model_name": "LayoutModel",
          "state": {
            "_view_name": "LayoutView",
            "grid_template_rows": null,
            "right": null,
            "justify_content": null,
            "_view_module": "@jupyter-widgets/base",
            "overflow": null,
            "_model_module_version": "1.2.0",
            "_view_count": null,
            "flex_flow": null,
            "width": null,
            "min_width": null,
            "border": null,
            "align_items": null,
            "bottom": null,
            "_model_module": "@jupyter-widgets/base",
            "top": null,
            "grid_column": null,
            "overflow_y": null,
            "overflow_x": null,
            "grid_auto_flow": null,
            "grid_area": null,
            "grid_template_columns": null,
            "flex": null,
            "_model_name": "LayoutModel",
            "justify_items": null,
            "grid_row": null,
            "max_height": null,
            "align_content": null,
            "visibility": null,
            "align_self": null,
            "height": null,
            "min_height": null,
            "padding": null,
            "grid_auto_rows": null,
            "grid_gap": null,
            "max_width": null,
            "order": null,
            "_view_module_version": "1.2.0",
            "grid_template_areas": null,
            "object_position": null,
            "object_fit": null,
            "grid_auto_columns": null,
            "margin": null,
            "display": null,
            "left": null
          }
        },
        "b1fa680787aa4973b667d22925ecfde0": {
          "model_module": "@jupyter-widgets/controls",
          "model_name": "HBoxModel",
          "state": {
            "_view_name": "HBoxView",
            "_dom_classes": [],
            "_model_name": "HBoxModel",
            "_view_module": "@jupyter-widgets/controls",
            "_model_module_version": "1.5.0",
            "_view_count": null,
            "_view_module_version": "1.5.0",
            "box_style": "",
            "layout": "IPY_MODEL_0ddb91115196495a8e1ddcf6080f132d",
            "_model_module": "@jupyter-widgets/controls",
            "children": [
              "IPY_MODEL_c3c93cb8292d4075a3990d7bb7176d6b",
              "IPY_MODEL_7580ad6b9e3a48f7be4c920c8f4a68ff"
            ]
          }
        },
        "0ddb91115196495a8e1ddcf6080f132d": {
          "model_module": "@jupyter-widgets/base",
          "model_name": "LayoutModel",
          "state": {
            "_view_name": "LayoutView",
            "grid_template_rows": null,
            "right": null,
            "justify_content": null,
            "_view_module": "@jupyter-widgets/base",
            "overflow": null,
            "_model_module_version": "1.2.0",
            "_view_count": null,
            "flex_flow": null,
            "width": null,
            "min_width": null,
            "border": null,
            "align_items": null,
            "bottom": null,
            "_model_module": "@jupyter-widgets/base",
            "top": null,
            "grid_column": null,
            "overflow_y": null,
            "overflow_x": null,
            "grid_auto_flow": null,
            "grid_area": null,
            "grid_template_columns": null,
            "flex": null,
            "_model_name": "LayoutModel",
            "justify_items": null,
            "grid_row": null,
            "max_height": null,
            "align_content": null,
            "visibility": null,
            "align_self": null,
            "height": null,
            "min_height": null,
            "padding": null,
            "grid_auto_rows": null,
            "grid_gap": null,
            "max_width": null,
            "order": null,
            "_view_module_version": "1.2.0",
            "grid_template_areas": null,
            "object_position": null,
            "object_fit": null,
            "grid_auto_columns": null,
            "margin": null,
            "display": null,
            "left": null
          }
        },
        "c3c93cb8292d4075a3990d7bb7176d6b": {
          "model_module": "@jupyter-widgets/controls",
          "model_name": "FloatProgressModel",
          "state": {
            "_view_name": "ProgressView",
            "style": "IPY_MODEL_76441d9c4684414281d94238cbaf8c53",
            "_dom_classes": [],
            "description": "100%",
            "_model_name": "FloatProgressModel",
            "bar_style": "success",
            "max": 908,
            "_view_module": "@jupyter-widgets/controls",
            "_model_module_version": "1.5.0",
            "value": 908,
            "_view_count": null,
            "_view_module_version": "1.5.0",
            "orientation": "horizontal",
            "min": 0,
            "description_tooltip": null,
            "_model_module": "@jupyter-widgets/controls",
            "layout": "IPY_MODEL_14dbdf731a5447379022d3a411773c93"
          }
        },
        "7580ad6b9e3a48f7be4c920c8f4a68ff": {
          "model_module": "@jupyter-widgets/controls",
          "model_name": "HTMLModel",
          "state": {
            "_view_name": "HTMLView",
            "style": "IPY_MODEL_6557ffe10b264c789dc77b982b10f5fc",
            "_dom_classes": [],
            "description": "",
            "_model_name": "HTMLModel",
            "placeholder": "​",
            "_view_module": "@jupyter-widgets/controls",
            "_model_module_version": "1.5.0",
            "value": " 908/908 [00:00&lt;00:00, 18226.85it/s]",
            "_view_count": null,
            "_view_module_version": "1.5.0",
            "description_tooltip": null,
            "_model_module": "@jupyter-widgets/controls",
            "layout": "IPY_MODEL_e1a6f65abbc046e095d809ed97d31f76"
          }
        },
        "76441d9c4684414281d94238cbaf8c53": {
          "model_module": "@jupyter-widgets/controls",
          "model_name": "ProgressStyleModel",
          "state": {
            "_view_name": "StyleView",
            "_model_name": "ProgressStyleModel",
            "description_width": "initial",
            "_view_module": "@jupyter-widgets/base",
            "_model_module_version": "1.5.0",
            "_view_count": null,
            "_view_module_version": "1.2.0",
            "bar_color": null,
            "_model_module": "@jupyter-widgets/controls"
          }
        },
        "14dbdf731a5447379022d3a411773c93": {
          "model_module": "@jupyter-widgets/base",
          "model_name": "LayoutModel",
          "state": {
            "_view_name": "LayoutView",
            "grid_template_rows": null,
            "right": null,
            "justify_content": null,
            "_view_module": "@jupyter-widgets/base",
            "overflow": null,
            "_model_module_version": "1.2.0",
            "_view_count": null,
            "flex_flow": null,
            "width": null,
            "min_width": null,
            "border": null,
            "align_items": null,
            "bottom": null,
            "_model_module": "@jupyter-widgets/base",
            "top": null,
            "grid_column": null,
            "overflow_y": null,
            "overflow_x": null,
            "grid_auto_flow": null,
            "grid_area": null,
            "grid_template_columns": null,
            "flex": null,
            "_model_name": "LayoutModel",
            "justify_items": null,
            "grid_row": null,
            "max_height": null,
            "align_content": null,
            "visibility": null,
            "align_self": null,
            "height": null,
            "min_height": null,
            "padding": null,
            "grid_auto_rows": null,
            "grid_gap": null,
            "max_width": null,
            "order": null,
            "_view_module_version": "1.2.0",
            "grid_template_areas": null,
            "object_position": null,
            "object_fit": null,
            "grid_auto_columns": null,
            "margin": null,
            "display": null,
            "left": null
          }
        },
        "6557ffe10b264c789dc77b982b10f5fc": {
          "model_module": "@jupyter-widgets/controls",
          "model_name": "DescriptionStyleModel",
          "state": {
            "_view_name": "StyleView",
            "_model_name": "DescriptionStyleModel",
            "description_width": "",
            "_view_module": "@jupyter-widgets/base",
            "_model_module_version": "1.5.0",
            "_view_count": null,
            "_view_module_version": "1.2.0",
            "_model_module": "@jupyter-widgets/controls"
          }
        },
        "e1a6f65abbc046e095d809ed97d31f76": {
          "model_module": "@jupyter-widgets/base",
          "model_name": "LayoutModel",
          "state": {
            "_view_name": "LayoutView",
            "grid_template_rows": null,
            "right": null,
            "justify_content": null,
            "_view_module": "@jupyter-widgets/base",
            "overflow": null,
            "_model_module_version": "1.2.0",
            "_view_count": null,
            "flex_flow": null,
            "width": null,
            "min_width": null,
            "border": null,
            "align_items": null,
            "bottom": null,
            "_model_module": "@jupyter-widgets/base",
            "top": null,
            "grid_column": null,
            "overflow_y": null,
            "overflow_x": null,
            "grid_auto_flow": null,
            "grid_area": null,
            "grid_template_columns": null,
            "flex": null,
            "_model_name": "LayoutModel",
            "justify_items": null,
            "grid_row": null,
            "max_height": null,
            "align_content": null,
            "visibility": null,
            "align_self": null,
            "height": null,
            "min_height": null,
            "padding": null,
            "grid_auto_rows": null,
            "grid_gap": null,
            "max_width": null,
            "order": null,
            "_view_module_version": "1.2.0",
            "grid_template_areas": null,
            "object_position": null,
            "object_fit": null,
            "grid_auto_columns": null,
            "margin": null,
            "display": null,
            "left": null
          }
        }
      }
    }
  },
  "cells": [
    {
      "cell_type": "markdown",
      "metadata": {
        "colab_type": "text",
        "id": "buFUSHKt8apx"
      },
      "source": [
        "# 03 - Dataset Preparation\n",
        "In order to streamline the process of training and evaluating the machine learning models that we will build in the following Notebook, ``04-Modelling``, we use the pipelines developed in the previous notebooks in order to create the core `metadata_df` and `image_embeddings_df` datasets which will be saved in .pkl format."
      ]
    },
    {
      "cell_type": "markdown",
      "metadata": {
        "colab_type": "text",
        "id": "YsMW-elZopc_"
      },
      "source": [
        "## Setting up Colab Environment if in Colab\n",
        "A key component of the processing of our data will involve the dimensionality reduction of the high-level features of the image data we have obtained using the pre-trained MobileNetV2 Model introduced in the previous notebook. Due to the high dimensionality and cardinality of our data, and our choice of the UMAP algorithm as the dimensionality reduction tool of choice in this project, we will make use of the RAPIDS AI CUML library (https://docs.rapids.ai/api), which provides a sci-kit learn-like API for implementations of machine learning algorithms that are specifically configured to run on GPU hardware. Using this library will significantly speed up the computation time associated with the dimensionality reduction we conduct towards the end of this notebook.\n",
        "\n",
        "As I do not personally have access to a GPU, the GPU-enabled part of this notebook is run on Google's Colab Notebook environment, which offers GPU access for free. In the cell belows below, we define the functions required to setup a 25GB RAM Colab Notebook Environment with the packages necessary for the code to function."
      ]
    },
    {
      "cell_type": "code",
      "metadata": {
        "colab_type": "code",
        "id": "qQQCreB5gAR_",
        "colab": {}
      },
      "source": [
        "def upgrade_runtime_ram():\n",
        "    meminfo = subprocess.getoutput('cat /proc/meminfo').split('\\n')\n",
        "\n",
        "    memory_info = {entry.split(':')[0]: int(entry.split(':')[1].replace(' kB','').strip()) for entry in meminfo}\n",
        "\n",
        "    if memory_info['MemTotal'] > 17000000:\n",
        "        return\n",
        "\n",
        "    a = []\n",
        "    while(1):\n",
        "        a.append('1')"
      ],
      "execution_count": 0,
      "outputs": []
    },
    {
      "cell_type": "code",
      "metadata": {
        "colab_type": "code",
        "id": "waACZBi_8ap2",
        "colab": {}
      },
      "source": [
        "def restart_runtime():\n",
        "    os.kill(os.getpid(), 9)"
      ],
      "execution_count": 0,
      "outputs": []
    },
    {
      "cell_type": "code",
      "metadata": {
        "colab_type": "code",
        "id": "YIsGqbsy8aqB",
        "colab": {}
      },
      "source": [
        "def setup_rapids():\n",
        "    pynvml.nvmlInit()\n",
        "    handle = pynvml.nvmlDeviceGetHandleByIndex(0)\n",
        "    device_name = pynvml.nvmlDeviceGetName(handle)\n",
        "    if (device_name != b'Tesla T4') and (device_name != b'Tesla P4') and (device_name != b'Tesla P100-PCIE-16GB'):\n",
        "        print(\"Wrong GPU - Restarting Runtime\")\n",
        "        restart_runtime()\n",
        "\n",
        "\n",
        "    # clone RAPIDS AI rapidsai-csp-utils scripts repo\n",
        "    !git clone https://github.com/rapidsai/rapidsai-csp-utils.git\n",
        "\n",
        "    # install RAPIDS\n",
        "    !bash rapidsai-csp-utils/colab/rapids-colab.sh 0.13\n",
        "\n",
        "\n",
        "    # set necessary environment variables \n",
        "    dist_package_index = sys.path.index('/usr/local/lib/python3.6/dist-packages')\n",
        "    sys.path = sys.path[:dist_package_index] + ['/usr/local/lib/python3.6/site-packages'] + sys.path[dist_package_index:]\n",
        "    sys.path\n",
        "\n",
        "    # update pyarrow & modules \n",
        "    exec(open('rapidsai-csp-utils/colab/update_modules.py').read(), globals())"
      ],
      "execution_count": 0,
      "outputs": []
    },
    {
      "cell_type": "code",
      "metadata": {
        "colab_type": "code",
        "id": "9CcPvNIo8aqI",
        "colab": {}
      },
      "source": [
        "def setup_conda():\n",
        "    if not 'Miniconda3-4.5.4-Linux-x86_64.sh' in os.listdir():\n",
        "        !wget https://repo.continuum.io/miniconda/Miniconda3-4.5.4-Linux-x86_64.sh && bash Miniconda3-4.5.4-Linux-x86_64.sh -bfp /usr/local\n",
        "\n",
        "    if not ('EPFL-Capstone-Project' in os.listdir()) and (os.getcwd().split('/')[-1] != 'EPFL-Capstone-Project'):\n",
        "        !git clone https://github.com/helmigsimon/EPFL-Capstone-Project  \n",
        "    if 'EPFL-Capstone-Project' in os.listdir():\n",
        "        os.chdir('EPFL-Capstone-Project')\n",
        "\n",
        "    !conda env create -f environment.yml\n",
        "    !conda activate exts-ml"
      ],
      "execution_count": 0,
      "outputs": []
    },
    {
      "cell_type": "code",
      "metadata": {
        "colab_type": "code",
        "id": "WHSZ-lgE8aqP",
        "colab": {}
      },
      "source": [
        "def setup_drive():\n",
        "    #Mounting Google Drive\n",
        "    global drive\n",
        "    from google.colab import drive\n",
        "    drive.mount('/content/drive')"
      ],
      "execution_count": 0,
      "outputs": []
    },
    {
      "cell_type": "code",
      "metadata": {
        "colab_type": "code",
        "id": "N_uPJqb58aqW",
        "outputId": "b1d7babb-f353-40ed-9d22-033421b4ddf2",
        "colab": {
          "base_uri": "https://localhost:8080/",
          "height": 1000
        }
      },
      "source": [
        "import sys,os,subprocess\n",
        "\n",
        "upgrade_runtime_ram()\n",
        "setup_drive()\n",
        "\n",
        "#Setting up PyPi Packages\n",
        "!pip install geopandas sparse-dot-topn pdpipe category-encoders\n",
        "import geopandas as gpd\n",
        "import sparse_dot_topn.sparse_dot_topn as ct\n",
        "import pdpipe as pdp\n",
        "import category_encoders\n",
        "\n",
        "#Setting up Conda Packages\n",
        "setup_conda()\n",
        "\n",
        "#Initializing NLTK\n",
        "import nltk\n",
        "nltk.download('stopwords')\n",
        "nltk.download('punkt')\n",
        "\n",
        "#Setting up RAPIDS AI\n",
        "import pynvml\n",
        "setup_rapids()\n",
        "\n",
        "from cuml import UMAP"
      ],
      "execution_count": 6,
      "outputs": [
        {
          "output_type": "stream",
          "text": [
            "Drive already mounted at /content/drive; to attempt to forcibly remount, call drive.mount(\"/content/drive\", force_remount=True).\n",
            "Requirement already satisfied: geopandas in /usr/local/lib/python3.6/site-packages (0.7.0)\n",
            "Requirement already satisfied: sparse-dot-topn in /usr/local/lib/python3.6/site-packages (0.2.9)\n",
            "Requirement already satisfied: pdpipe in /usr/local/lib/python3.6/site-packages (0.0.49)\n",
            "Requirement already satisfied: category-encoders in /usr/local/lib/python3.6/site-packages (2.2.2)\n",
            "Requirement already satisfied: shapely in /usr/local/lib/python3.6/site-packages (from geopandas) (1.7.0)\n",
            "Requirement already satisfied: fiona in /usr/local/lib/python3.6/site-packages (from geopandas) (1.8.13.post1)\n",
            "Requirement already satisfied: pyproj>=2.2.0 in /usr/local/lib/python3.6/site-packages (from geopandas) (2.6.1.post1)\n",
            "Requirement already satisfied: pandas>=0.23.0 in /usr/local/lib/python3.6/site-packages (from geopandas) (0.25.3)\n",
            "Requirement already satisfied: cython>=0.29.15 in /usr/local/lib/python3.6/site-packages (from sparse-dot-topn) (0.29.19)\n",
            "Requirement already satisfied: scipy>=1.2.3 in /usr/local/lib/python3.6/site-packages (from sparse-dot-topn) (1.4.1)\n",
            "Requirement already satisfied: setuptools>=18.0 in /usr/local/lib/python3.6/site-packages (from sparse-dot-topn) (47.1.1.post20200529)\n",
            "Requirement already satisfied: numpy>=1.16.6 in /usr/local/lib/python3.6/site-packages (from sparse-dot-topn) (1.18.5)\n",
            "Requirement already satisfied: tqdm in /usr/local/lib/python3.6/site-packages (from pdpipe) (4.46.1)\n",
            "Requirement already satisfied: strct in /usr/local/lib/python3.6/site-packages (from pdpipe) (0.0.30)\n",
            "Requirement already satisfied: skutil>=0.0.15 in /usr/local/lib/python3.6/site-packages (from pdpipe) (0.0.16)\n",
            "Requirement already satisfied: sortedcontainers in /usr/local/lib/python3.6/site-packages (from pdpipe) (2.2.1)\n",
            "Requirement already satisfied: patsy>=0.5.1 in /usr/local/lib/python3.6/site-packages (from category-encoders) (0.5.1)\n",
            "Requirement already satisfied: scikit-learn>=0.20.0 in /usr/local/lib/python3.6/site-packages (from category-encoders) (0.23.1)\n",
            "Requirement already satisfied: statsmodels>=0.9.0 in /usr/local/lib/python3.6/site-packages (from category-encoders) (0.11.1)\n",
            "Requirement already satisfied: click<8,>=4.0 in /usr/local/lib/python3.6/site-packages (from fiona->geopandas) (7.1.2)\n",
            "Requirement already satisfied: munch in /usr/local/lib/python3.6/site-packages (from fiona->geopandas) (2.5.0)\n",
            "Requirement already satisfied: cligj>=0.5 in /usr/local/lib/python3.6/site-packages (from fiona->geopandas) (0.5.0)\n",
            "Requirement already satisfied: six>=1.7 in /usr/local/lib/python3.6/site-packages (from fiona->geopandas) (1.11.0)\n",
            "Requirement already satisfied: click-plugins>=1.0 in /usr/local/lib/python3.6/site-packages (from fiona->geopandas) (1.1.1)\n",
            "Requirement already satisfied: attrs>=17 in /usr/local/lib/python3.6/site-packages (from fiona->geopandas) (19.3.0)\n",
            "Requirement already satisfied: python-dateutil>=2.6.1 in /usr/local/lib/python3.6/site-packages (from pandas>=0.23.0->geopandas) (2.8.1)\n",
            "Requirement already satisfied: pytz>=2017.2 in /usr/local/lib/python3.6/site-packages (from pandas>=0.23.0->geopandas) (2020.1)\n",
            "Requirement already satisfied: decore in /usr/local/lib/python3.6/site-packages (from skutil>=0.0.15->pdpipe) (0.0.1)\n",
            "Requirement already satisfied: threadpoolctl>=2.0.0 in /usr/local/lib/python3.6/site-packages (from scikit-learn>=0.20.0->category-encoders) (2.1.0)\n",
            "Requirement already satisfied: joblib>=0.11 in /usr/local/lib/python3.6/site-packages (from scikit-learn>=0.20.0->category-encoders) (0.15.1)\n"
          ],
          "name": "stdout"
        },
        {
          "output_type": "stream",
          "text": [
            "/usr/local/lib/python3.6/dist-packages/statsmodels/tools/_testing.py:19: FutureWarning: pandas.util.testing is deprecated. Use the functions in the public API at pandas.testing instead.\n",
            "  import pandas.util.testing as tm\n"
          ],
          "name": "stderr"
        },
        {
          "output_type": "stream",
          "text": [
            "Solving environment: - \b\b\\ \b\b| \b\b/ \b\b- \b\b\\ \b\b| \b\b/ \b\b- \b\b\\ \b\b| \b\b/ \b\b- \b\b\\ \b\b| \b\b/ \b\b- \b\b\\ \b\b| \b\b/ \b\b- \b\b\\ \b\b| \b\b/ \b\b- \b\b\\ \b\b| \b\b/ \b\b- \b\b\\ \b\b| \b\b/ \b\b- \b\b\\ \b\b| \b\b/ \b\b- \b\b\\ \b\b| \b\b/ \b\b- \b\b\\ \b\b| \b\b/ \b\b- \b\b\\ \b\b| \b\b/ \b\b- \b\b\\ \b\b| \b\b/ \b\b- \b\b\\ \b\b| \b\b/ \b\b- \b\b\\ \b\b| \b\b/ \b\b- \b\b\\ \b\b| \b\b/ \b\b- \b\b\\ \b\b| \b\b/ \b\b- \b\b\\ \b\b| \b\b/ \b\b- \b\b\\ \b\b| \b\b/ \b\b- \b\b\\ \b\b| \b\b/ \b\b- \b\b\\ \b\b| \b\b/ \b\b- \b\b\\ \b\b| \b\b/ \b\b- \b\b\\ \b\b| \b\b/ \b\b- \b\b\\ \b\b| \b\b/ \b\b- \b\b\\ \b\b| \b\b/ \b\b- \b\b\\ \b\b| \b\b/ \b\b- \b\b\\ \b\b| \b\b/ \b\b- \b\b\\ \b\b| \b\b/ \b\b- \b\b\\ \b\b| \b\b/ \b\b- \b\b\\ \b\b| \b\b/ \b\b- \b\b\\ \b\b| \b\b/ \b\b- \b\b\\ \b\b| \b\b/ \b\b- \b\b\\ \b\b| \b\b/ \b\b- \b\b\\ \b\b| \b\b/ \b\b- \b\b\\ \b\b| \b\b/ \b\b- \b\b\\ \b\b| \b\b/ \b\b- \b\b\\ \b\b| \b\b/ \b\b- \b\b\\ \b\b| \b\b/ \b\b- \b\b\\ \b\b| \b\b/ \b\b- \b\b\\ \b\b| \b\b/ \b\b- \b\b\\ \b\b| \b\b/ \b\bfailed\n",
            "\n",
            "ResolvePackageNotFound: \n",
            "  - libxml2==2.9.10=h53d96d6_0\n",
            "  - sqlite==3.30.1=h93121df_0\n",
            "  - numba==0.48.0=py36h4f17bb1_0\n",
            "  - libcurl==7.68.0=h709d2b2_0\n",
            "  - libdap4==3.20.4=habf5908_0\n",
            "  - graphviz==2.42.3=h98dfb87_0\n",
            "  - libspatialite==4.3.0a=hbcd37d4_1037\n",
            "  - libtiff==4.1.0=ha78913b_3\n",
            "  - pillow==7.0.0=py36h918e99a_0\n",
            "  - libffi==3.2.1=h4a8c4bd_1007\n",
            "  - llvm-openmp==9.0.1=h28b9765_2\n",
            "  - zstd==1.4.4=hed8d7c8_2\n",
            "  - tensorflow==1.12.0=mkl_py36h2b2bbaf_0\n",
            "  - fiona==1.8.13=py36he71f6a4_0\n",
            "  - libgdal==3.0.4=hec54991_3\n",
            "  - xz==5.2.4=h0b31af3_1002\n",
            "  - markupsafe==1.1.1=py36h37b9a7d_1\n",
            "  - gettext==0.19.8.1=h46ab8bc_1002\n",
            "  - readline==8.0=hcfe32e1_0\n",
            "  - appnope==0.1.0=py36h9f0ad1d_1001\n",
            "  - python==3.6.10=hce46be0_1009_cpython\n",
            "  - pcre==8.44=h4a8c4bd_0\n",
            "  - mistune==0.8.4=py36h0b31af3_1000\n",
            "  - krb5==1.16.4=h1752a42_0\n",
            "  - grpcio==1.23.0=py36h7c1f37e_1\n",
            "  - libopenblas==0.3.9=h3d69b6c_0\n",
            "  - matplotlib-base==3.2.0=py36h11da6c2_1\n",
            "  - lz4-c==1.8.3=h6de7cb9_1001\n",
            "  - statsmodels==0.11.1=py36h37b9a7d_1\n",
            "  - pyzmq==19.0.0=py36h820b253_1\n",
            "  - hdf5==1.10.5=nompi_h3e39495_1104\n",
            "  - geotiff==1.5.1=h4bdff65_9\n",
            "  - libssh2==1.8.2=hcdc9a53_2\n",
            "  - freexl==1.0.5=h1de35cc_1002\n",
            "  - c-ares==1.15.0=h01d97ff_1001\n",
            "  - expat==2.2.9=h4a8c4bd_2\n",
            "  - hdf4==4.2.13=h84186c3_1003\n",
            "  - libsodium==1.0.17=h01d97ff_0\n",
            "  - tensorflow-base==1.12.0=mkl_py36h70e0e9a_0\n",
            "  - cryptography==2.8=py36hc9d8292_2\n",
            "  - shapely==1.7.0=py36hda0b814_2\n",
            "  - zlib==1.2.11=h0b31af3_1006\n",
            "  - zeromq==4.3.2=h6de7cb9_2\n",
            "  - icu==64.2=h6de7cb9_1\n",
            "  - libnetcdf==4.7.4=nompi_he461dc0_101\n",
            "  - kealib==1.4.12=h2324030_0\n",
            "  - libprotobuf==3.11.4=hd174df1_0\n",
            "  - jpeg==9c=h1de35cc_1001\n",
            "  - sqlalchemy==1.3.13=py36h0b31af3_0\n",
            "  - numpy==1.18.1=py36hde6bac1_0\n",
            "  - psutil==5.7.0=py36h37b9a7d_1\n",
            "  - tornado==6.0.4=py36h37b9a7d_1\n",
            "  - tzcode==2019a=h01d97ff_1002\n",
            "  - openssl==1.1.1f=h0b31af3_0\n",
            "  - gdal==3.0.4=py36h5a1ef21_3\n",
            "  - pandas==1.0.1=py36h4f17bb1_0\n",
            "  - libwebp==1.0.2=hd3bf737_5\n",
            "  - psycopg2==2.8.4=py36hafa8578_1\n",
            "  - glib==2.58.3=py36hb0ce7ff_1003\n",
            "  - poppler==0.67.0=h16886b5_8\n",
            "  - sparse_dot_topn==0.2.9=py36h863e41a_0\n",
            "  - fontconfig==2.13.1=h6b1039f_1001\n",
            "  - curl==7.68.0=h8754def_0\n",
            "  - llvmlite==0.31.0=py36hde82470_1\n",
            "  - ncurses==6.1=h0a44026_1002\n",
            "  - kiwisolver==1.1.0=py36h863e41a_1\n",
            "  - libkml==1.3.0=h169b8f9_1011\n",
            "  - cfitsio==3.470=h84d2f63_2\n",
            "  - python-levenshtein==0.12.0=py36h0b31af3_1001\n",
            "  - cffi==1.14.0=py36h356ff06_0\n",
            "  - libpng==1.6.37=hbbe82c9_1\n",
            "  - postgresql==12.2=h16d8c28_0\n",
            "  - tk==8.6.10=hbbe82c9_0\n",
            "  - libuv==1.34.0=h0b31af3_0\n",
            "  - libllvm8==8.0.1=h770b8ee_0\n",
            "  - geos==3.8.1=h4a8c4bd_0\n",
            "  - cairo==1.16.0=hec6a9b0_1003\n",
            "  - giflib==5.2.1=h0b31af3_2\n",
            "  - libpq==12.2=h554dc5a_0\n",
            "  - h5py==2.10.0=nompi_py36h106b333_102\n",
            "  - pixman==0.38.0=h01d97ff_1003\n",
            "  - nodejs==13.10.1=h38d8c5a_0\n",
            "  - libgfortran==4.0.0=2\n",
            "  - scikit-learn==0.20.3=py36hca23c92_1\n",
            "  - boost-cpp==1.72.0=hdf9ef73_0\n",
            "  - scipy==1.4.1=py36h82752d6_0\n",
            "  - xerces-c==3.2.2=h8f8adb3_1004\n",
            "  - openjpeg==2.3.1=h254dc36_3\n",
            "  - json-c==0.13.1=h1de35cc_1001\n",
            "  - bzip2==1.0.8=h0b31af3_2\n",
            "  - tiledb==1.7.0=hd5e958f_2\n",
            "  - libedit==3.1.20170329=hcfe32e1_1001\n",
            "  - libiconv==1.15=h0b31af3_1006\n",
            "  - pyrsistent==0.16.0=py36h37b9a7d_0\n",
            "  - proj==6.3.1=h773a61f_1\n",
            "  - freetype==2.10.1=h8da9a1a_0\n",
            "\n",
            "\n",
            "CommandNotFoundError: Your shell has not been properly configured to use 'conda activate'.\n",
            "If your shell is Bash or a Bourne variant, enable conda for the current user with\n",
            "\n",
            "    $ echo \". /usr/local/etc/profile.d/conda.sh\" >> ~/.bashrc\n",
            "\n",
            "or, for all users, enable conda with\n",
            "\n",
            "    $ sudo ln -s /usr/local/etc/profile.d/conda.sh /etc/profile.d/conda.sh\n",
            "\n",
            "The options above will permanently enable the 'conda' command, but they do NOT\n",
            "put conda's base (root) environment on PATH.  To do so, run\n",
            "\n",
            "    $ conda activate\n",
            "\n",
            "in your terminal, or to put the base environment on PATH permanently, run\n",
            "\n",
            "    $ echo \"conda activate\" >> ~/.bashrc\n",
            "\n",
            "Previous to conda 4.4, the recommended way to activate conda was to modify PATH in\n",
            "your ~/.bashrc file.  You should manually remove the line that looks like\n",
            "\n",
            "    export PATH=\"/usr/local/bin:$PATH\"\n",
            "\n",
            "^^^ The above line should NO LONGER be in your ~/.bashrc file! ^^^\n",
            "\n",
            "\n",
            "[nltk_data] Downloading package stopwords to /root/nltk_data...\n",
            "[nltk_data]   Package stopwords is already up-to-date!\n",
            "[nltk_data] Downloading package punkt to /root/nltk_data...\n",
            "[nltk_data]   Package punkt is already up-to-date!\n",
            "fatal: destination path 'rapidsai-csp-utils' already exists and is not an empty directory.\n",
            "PLEASE READ\n",
            "********************************************************************************************************\n",
            "Changes:\n",
            "1. Now that most people have migrated, we have rem0ved the migration notice.\n",
            "2. default stable version is now 0.13.  Nightly is now 0.14\n",
            "3. You can now declare your RAPIDS version as a CLI option and skip the user prompts (ex: '0.13' or '0.14', between 0.11 to 0.14, without the quotes): \n",
            "        \"!bash rapidsai-csp-utils/colab/rapids-colab.sh <version/label>\"\n",
            "        Examples: '!bash rapidsai-csp-utils/colab/rapids-colab.sh 0.13', or '!bash rapidsai-csp-utils/colab/rapids-colab.sh stable', or '!bash rapidsai-csp-utils/colab/rapids-colab.sh s'\n",
            "                  '!bash rapidsai-csp-utils/colab/rapids-colab.sh 0.14, or '!bash rapidsai-csp-utils/colab/rapids-colab.sh nightly', or '!bash rapidsai-csp-utils/colab/rapids-colab.sh n'\n",
            "Enjoy using RAPIDS!\n",
            "RAPIDS Version to install is 0.13\n",
            "Checking for GPU type:\n",
            "***********************************************************************\n",
            "Woo! Your instance has the right kind of GPU, a 'Tesla P100-PCIE-16GB'!\n",
            "***********************************************************************\n",
            "\n",
            "\n",
            "************************************************\n",
            "Your Google Colab instance has RAPIDS installed!\n",
            "************************************************\n",
            "***********************************************************************\n",
            "Let us check on those pyarrow and cffi versions...\n",
            "***********************************************************************\n",
            "\n",
            "unloaded pyarrow 0.14.1\n",
            "unloaded pyarrow 0.14.1\n",
            "unloaded pyarrow 0.14.1\n",
            "unloaded pyarrow 0.14.1\n",
            "unloaded pyarrow 0.14.1\n",
            "unloaded pyarrow 0.14.1\n",
            "unloaded pyarrow 0.14.1\n",
            "unloaded pyarrow 0.14.1\n",
            "unloaded pyarrow 0.14.1\n",
            "unloaded pyarrow 0.14.1\n",
            "unloaded pyarrow 0.14.1\n",
            "unloaded pyarrow 0.14.1\n",
            "loaded pyarrow 0.15.0\n",
            "You're now running pyarrow 0.15.0 and are good to go!\n",
            "unloaded cffi 1.14.0\n",
            "loaded cffi 1.11.5\n"
          ],
          "name": "stdout"
        }
      ]
    },
    {
      "cell_type": "markdown",
      "metadata": {
        "colab_type": "text",
        "id": "Kvn45BG28aqd"
      },
      "source": [
        "## Imports"
      ]
    },
    {
      "cell_type": "code",
      "metadata": {
        "colab_type": "code",
        "id": "IRijjSry8aqf",
        "colab": {}
      },
      "source": [
        "%load_ext autoreload\n",
        "%autoreload 2\n",
        "%matplotlib inline\n",
        "import pandas as pd\n",
        "import numpy as np\n",
        "from tqdm import tqdm\n",
        "import matplotlib.pyplot as plt\n",
        "from sklearn.linear_model import SGDRegressor\n",
        "from sklearn.preprocessing import StandardScaler\n",
        "from sklearn.model_selection import GridSearchCV, train_test_split,  StratifiedKFold\n",
        "from sklearn.pipeline import Pipeline\n",
        "from sklearn.metrics import mean_absolute_error, mean_squared_error, r2_score\n",
        "tqdm.pandas()"
      ],
      "execution_count": 0,
      "outputs": []
    },
    {
      "cell_type": "code",
      "metadata": {
        "colab_type": "code",
        "id": "fEgS7UQD8aqk",
        "colab": {}
      },
      "source": [
        "from sklearn.model_selection import train_test_split\n",
        "from sklearn.impute import SimpleImputer\n",
        "from sklearn.compose import ColumnTransformer\n",
        "from sklearn.preprocessing import OneHotEncoder, FunctionTransformer"
      ],
      "execution_count": 0,
      "outputs": []
    },
    {
      "cell_type": "code",
      "metadata": {
        "colab_type": "code",
        "id": "u5KwAwAe8aqp",
        "colab": {}
      },
      "source": [
        "from lib.transformers import *\n",
        "from lib.pipelines import *\n",
        "from lib.processing import save_to_pkl, load_from_pkl\n",
        "from data.util.paths import DATA_PATH"
      ],
      "execution_count": 0,
      "outputs": []
    },
    {
      "cell_type": "code",
      "metadata": {
        "colab_type": "code",
        "id": "ixGjIOwS8aq1",
        "colab": {}
      },
      "source": [
        "from category_encoders.leave_one_out import LeaveOneOutEncoder"
      ],
      "execution_count": 0,
      "outputs": []
    },
    {
      "cell_type": "markdown",
      "metadata": {
        "colab_type": "text",
        "id": "C6jHrhZT8aq6"
      },
      "source": [
        "## DataFrame Setup\n",
        "### Creating the ``metadata_df`` DataFrame\n",
        "To avoid having to continuously apply the processing steps necessary to generate the core DataFrame we will use for building the models in this project, we generate our core DataFrames below. In the first step, we create the ``metadata_df`` DataFrame, which combines the data from the ``api_df`` and ``extracted_df`` DataFrames we have worked with in previous notebooks. On this data, we apply the ``api_pipe``, ``extracted_pipe`` and ``consolidation_pipe`` pipelines we have constructed using the data transformations outlined in the previous two notebooks. The result of these transformations is the ``metadata_df`` DataFrame."
      ]
    },
    {
      "cell_type": "code",
      "metadata": {
        "colab_type": "code",
        "id": "xpDf_3kT8aq7",
        "colab": {}
      },
      "source": [
        "api_df = load_from_pkl('api',DATA_PATH)\n",
        "extracted_df = load_from_pkl('extracted',DATA_PATH)"
      ],
      "execution_count": 0,
      "outputs": []
    },
    {
      "cell_type": "code",
      "metadata": {
        "colab_type": "code",
        "id": "iZP1t_evMdaG",
        "outputId": "5a56cc7c-86ae-488d-8fc3-7b4a751f832a",
        "colab": {
          "base_uri": "https://localhost:8080/",
          "height": 67,
          "referenced_widgets": [
            "8100cf3daffb4272aa8a8fc44791b1b9",
            "5c23361d18364c6b8934e3352ffe51fd",
            "e8e79470e93e43078f2eabe337b3698e",
            "8a179d40dc4c4080b4affca4f6de1500",
            "c416c3f506164d0aaf097e454b2b2d6a",
            "80a57d308b244dbab7ea0650f20c169a",
            "0a98ccb16ae74164aabfebc9d37eeda8",
            "d4c11c528fcb4c98a6c8d2cfed7a0dfe"
          ]
        }
      },
      "source": [
        "api_df = api_pipe.fit_transform(api_df)\n",
        "extracted_df = extracted_pipe.fit_transform(extracted_df)\n",
        "metadata_df = api_df.merge(extracted_df,how='inner',on='release_id')"
      ],
      "execution_count": 12,
      "outputs": [
        {
          "output_type": "display_data",
          "data": {
            "application/vnd.jupyter.widget-view+json": {
              "model_id": "8100cf3daffb4272aa8a8fc44791b1b9",
              "version_minor": 0,
              "version_major": 2
            },
            "text/plain": [
              "HBox(children=(FloatProgress(value=1.0, bar_style='info', max=1.0), HTML(value='')))"
            ]
          },
          "metadata": {
            "tags": []
          }
        },
        {
          "output_type": "stream",
          "text": [
            "\n"
          ],
          "name": "stdout"
        }
      ]
    },
    {
      "cell_type": "code",
      "metadata": {
        "colab_type": "code",
        "id": "7zRYsk69opeB",
        "colab": {
          "base_uri": "https://localhost:8080/",
          "height": 67,
          "referenced_widgets": [
            "f1de3e015cc04d11b7c000c58dc35757",
            "11e30d7a81f840a59f42ecb1296970f1",
            "31f138e1ece247b6a6ae7f7e68b73298",
            "f482fe46e7184fe8ac44558a673b3b2e",
            "c1b1dd7739e14c5b8da7c57a11a3d194",
            "14d142b1a83e4f658ef23865fc9d14fa",
            "3d84f19702124b6398ea853c234b7a36",
            "d3982c8575a74087af3333d26ebb4f22"
          ]
        },
        "outputId": "b7fd1c92-2872-4d88-84fb-ac31e55d808b"
      },
      "source": [
        "col_set = {\n",
        "    'format': {\n",
        "        'description': 'format_description_', \n",
        "        'name': 'format_name_', \n",
        "        'text': ('format_text_clean'),\n",
        "        'quantity': ('format_quantity')\n",
        "    },\n",
        "    'geography': {\n",
        "        'superregion': 'superregion_',\n",
        "        'region': 'region_',\n",
        "        'country': 'country_'\n",
        "    },\n",
        "    'timeperiod': {\n",
        "        'period': 'period_',\n",
        "        'era': 'era_'\n",
        "    },\n",
        "    'genre': 'genre_',\n",
        "    'style': 'style_',\n",
        "    'null': None,\n",
        "    'indicator': lambda x: x.max() == 1 and x.min() == 0,\n",
        "}\n",
        "column_store = ColumnStore()\n",
        "column_store.fit(metadata_df,col_set)"
      ],
      "execution_count": 13,
      "outputs": [
        {
          "output_type": "display_data",
          "data": {
            "application/vnd.jupyter.widget-view+json": {
              "model_id": "f1de3e015cc04d11b7c000c58dc35757",
              "version_minor": 0,
              "version_major": 2
            },
            "text/plain": [
              "HBox(children=(FloatProgress(value=0.0, max=7.0), HTML(value='')))"
            ]
          },
          "metadata": {
            "tags": []
          }
        },
        {
          "output_type": "stream",
          "text": [
            "\n"
          ],
          "name": "stdout"
        }
      ]
    },
    {
      "cell_type": "code",
      "metadata": {
        "id": "cEwNkajl7koR",
        "colab_type": "code",
        "colab": {
          "base_uri": "https://localhost:8080/",
          "height": 67,
          "referenced_widgets": [
            "b1fa680787aa4973b667d22925ecfde0",
            "0ddb91115196495a8e1ddcf6080f132d",
            "c3c93cb8292d4075a3990d7bb7176d6b",
            "7580ad6b9e3a48f7be4c920c8f4a68ff",
            "76441d9c4684414281d94238cbaf8c53",
            "14dbdf731a5447379022d3a411773c93",
            "6557ffe10b264c789dc77b982b10f5fc",
            "e1a6f65abbc046e095d809ed97d31f76"
          ]
        },
        "outputId": "dc68464c-66e3-4727-f5f4-e3872a5a62dd"
      },
      "source": [
        "consolidation_pipe = make_data_consolidation_pipe(metadata_df,column_store)\n",
        "metadata_df = consolidation_pipe.fit_transform(metadata_df)"
      ],
      "execution_count": 14,
      "outputs": [
        {
          "output_type": "display_data",
          "data": {
            "application/vnd.jupyter.widget-view+json": {
              "model_id": "b1fa680787aa4973b667d22925ecfde0",
              "version_minor": 0,
              "version_major": 2
            },
            "text/plain": [
              "HBox(children=(FloatProgress(value=0.0, max=908.0), HTML(value='')))"
            ]
          },
          "metadata": {
            "tags": []
          }
        },
        {
          "output_type": "stream",
          "text": [
            "\n"
          ],
          "name": "stdout"
        }
      ]
    },
    {
      "cell_type": "code",
      "metadata": {
        "colab_type": "code",
        "id": "x4ze91bms9_w",
        "colab": {}
      },
      "source": [
        "save_to_pkl(metadata_df,'metadata',DATA_PATH)"
      ],
      "execution_count": 0,
      "outputs": []
    },
    {
      "cell_type": "markdown",
      "metadata": {
        "colab_type": "text",
        "id": "a6n5farW8arB"
      },
      "source": [
        "### Creating the ``image_embeddings_df`` DataFrame\n",
        "As outlined in the previous notebook, we will be making use of the high-level features which have been extracted from the cover images available for the Jazz albums we are considering in this project, as a means to recreate the full experience of a Jazz album consumer when purchasing albums in the Record Store and Full Information scenarios. In what follows, we load the high-level features, and apply the UMAP dimensionality reduction algorithm to them, in order to obtain a lower dimensional representation of the visual information the albums encode, as input for our prediction algorithms. We reduce the dimensionality of the data from 1280, to 10 dimensions. The reason for this is the importance of being able to control dimensionality for input into our prediction algorithms, as well as the evidence outlined in the previous notebook, which indicates that the visual information the covers encode is not a strong predictor of Jazz album ``market_value``. Nonetheless, following from the framing of our problem, we elect to continue to include the features in the inputs we use to train our prediction algorithms.\n",
        "\n",
        "We save the results of this dimensionality reduction procedure to ``image_embeddings.pkl``, which we will then merge into our core DataFrame in the following notebook."
      ]
    },
    {
      "cell_type": "code",
      "metadata": {
        "colab_type": "code",
        "id": "hTNDpVXKMdVp",
        "colab": {}
      },
      "source": [
        "with np.load(os.path.join(DATA_PATH,'high_level_features_labelled.npz')) as data:\n",
        "    high_level_feature_df = pd.concat([pd.DataFrame(data[section]) for section in ('release_id','bitmap','features')],axis=1)\n",
        "    high_level_feature_df.columns = ['release_id', 'bitmap'] + ['feature_%s' % i for i in range(1,1281)]"
      ],
      "execution_count": 0,
      "outputs": []
    },
    {
      "cell_type": "code",
      "metadata": {
        "colab_type": "code",
        "id": "46fQY6W28arC",
        "colab": {}
      },
      "source": [
        "scaler = StandardScaler()\n",
        "umap = UMAP(n_components=10)\n",
        "high_level_features_df_scaled = scaler.fit_transform(high_level_feature_df.loc[:,['feature_%s' % i for i in range(1,1281)]])"
      ],
      "execution_count": 0,
      "outputs": []
    },
    {
      "cell_type": "code",
      "metadata": {
        "colab_type": "code",
        "id": "-DiegN158q_u",
        "outputId": "49bfe3dd-83c6-4d60-949b-22996b9402d2",
        "colab": {
          "base_uri": "https://localhost:8080/",
          "height": 73
        }
      },
      "source": [
        "image_embeddings_df = umap.fit_transform(high_level_features_df_scaled)"
      ],
      "execution_count": 18,
      "outputs": [
        {
          "output_type": "stream",
          "text": [
            "/usr/local/lib/python3.6/site-packages/cuml/utils/input_utils.py:188: UserWarning: Expected row ('C') major order, but got the opposite. Converting data, this will result in additional memory utilization.\n",
            "  warnings.warn(\"Expected \" + order_to_str(order) + \" major order, \"\n"
          ],
          "name": "stderr"
        }
      ]
    },
    {
      "cell_type": "code",
      "metadata": {
        "colab_type": "code",
        "id": "9O2_hoRwzSio",
        "colab": {}
      },
      "source": [
        "image_embeddings_df = pd.concat([\n",
        "      high_level_feature_df.loc[:,'release_id'],\n",
        "      pd.DataFrame(\n",
        "          image_embeddings_df,\n",
        "          columns = ['images_umap_%s' % i for i in range(image_embeddings_df.shape[1])]\n",
        "      )],\n",
        "      axis=1\n",
        ")\n"
      ],
      "execution_count": 0,
      "outputs": []
    },
    {
      "cell_type": "code",
      "metadata": {
        "colab_type": "code",
        "id": "cdOsgGs9c82j",
        "colab": {}
      },
      "source": [
        "save_to_pkl(image_embeddings_df, 'image_embeddings',DATA_PATH)"
      ],
      "execution_count": 0,
      "outputs": []
    }
  ]
}