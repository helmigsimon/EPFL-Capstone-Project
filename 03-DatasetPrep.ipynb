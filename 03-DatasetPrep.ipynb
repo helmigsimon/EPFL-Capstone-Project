{
  "nbformat": 4,
  "nbformat_minor": 0,
  "metadata": {
    "kernelspec": {
      "display_name": "Python 3",
      "language": "python",
      "name": "python3"
    },
    "language_info": {
      "codemirror_mode": {
        "name": "ipython",
        "version": 3
      },
      "file_extension": ".py",
      "mimetype": "text/x-python",
      "name": "python",
      "nbconvert_exporter": "python",
      "pygments_lexer": "ipython3",
      "version": "3.6.10"
    },
    "colab": {
      "name": "03-DatasetPrep.ipynb",
      "provenance": [],
      "toc_visible": true,
      "machine_shape": "hm"
    },
    "accelerator": "GPU",
    "widgets": {
      "application/vnd.jupyter.widget-state+json": {
        "70a9f8f848364b44a7f8ce3a0e38f0bc": {
          "model_module": "@jupyter-widgets/controls",
          "model_name": "HBoxModel",
          "state": {
            "_view_name": "HBoxView",
            "_dom_classes": [],
            "_model_name": "HBoxModel",
            "_view_module": "@jupyter-widgets/controls",
            "_model_module_version": "1.5.0",
            "_view_count": null,
            "_view_module_version": "1.5.0",
            "box_style": "",
            "layout": "IPY_MODEL_c239aa97d572423e8d1b3a6c40456735",
            "_model_module": "@jupyter-widgets/controls",
            "children": [
              "IPY_MODEL_b6aa7508cf04481ebc903f59766b25bc",
              "IPY_MODEL_64b72e6395d14ddf847c74a194fd3d7c"
            ]
          }
        },
        "c239aa97d572423e8d1b3a6c40456735": {
          "model_module": "@jupyter-widgets/base",
          "model_name": "LayoutModel",
          "state": {
            "_view_name": "LayoutView",
            "grid_template_rows": null,
            "right": null,
            "justify_content": null,
            "_view_module": "@jupyter-widgets/base",
            "overflow": null,
            "_model_module_version": "1.2.0",
            "_view_count": null,
            "flex_flow": null,
            "width": null,
            "min_width": null,
            "border": null,
            "align_items": null,
            "bottom": null,
            "_model_module": "@jupyter-widgets/base",
            "top": null,
            "grid_column": null,
            "overflow_y": null,
            "overflow_x": null,
            "grid_auto_flow": null,
            "grid_area": null,
            "grid_template_columns": null,
            "flex": null,
            "_model_name": "LayoutModel",
            "justify_items": null,
            "grid_row": null,
            "max_height": null,
            "align_content": null,
            "visibility": null,
            "align_self": null,
            "height": null,
            "min_height": null,
            "padding": null,
            "grid_auto_rows": null,
            "grid_gap": null,
            "max_width": null,
            "order": null,
            "_view_module_version": "1.2.0",
            "grid_template_areas": null,
            "object_position": null,
            "object_fit": null,
            "grid_auto_columns": null,
            "margin": null,
            "display": null,
            "left": null
          }
        },
        "b6aa7508cf04481ebc903f59766b25bc": {
          "model_module": "@jupyter-widgets/controls",
          "model_name": "IntProgressModel",
          "state": {
            "_view_name": "ProgressView",
            "style": "IPY_MODEL_59554c151c0d4283b244751356149e67",
            "_dom_classes": [],
            "description": "",
            "_model_name": "IntProgressModel",
            "bar_style": "success",
            "max": 1,
            "_view_module": "@jupyter-widgets/controls",
            "_model_module_version": "1.5.0",
            "value": 1,
            "_view_count": null,
            "_view_module_version": "1.5.0",
            "orientation": "horizontal",
            "min": 0,
            "description_tooltip": null,
            "_model_module": "@jupyter-widgets/controls",
            "layout": "IPY_MODEL_8c57f4a8a5264df3a8c6b2013d7a798c"
          }
        },
        "64b72e6395d14ddf847c74a194fd3d7c": {
          "model_module": "@jupyter-widgets/controls",
          "model_name": "HTMLModel",
          "state": {
            "_view_name": "HTMLView",
            "style": "IPY_MODEL_fe068259cd254dca8f3ca86f8a0e597a",
            "_dom_classes": [],
            "description": "",
            "_model_name": "HTMLModel",
            "placeholder": "​",
            "_view_module": "@jupyter-widgets/controls",
            "_model_module_version": "1.5.0",
            "value": " 899112/? [00:21&lt;00:00, 40943.17it/s]",
            "_view_count": null,
            "_view_module_version": "1.5.0",
            "description_tooltip": null,
            "_model_module": "@jupyter-widgets/controls",
            "layout": "IPY_MODEL_d37e2d8dcd8a40d681f4536012442a10"
          }
        },
        "59554c151c0d4283b244751356149e67": {
          "model_module": "@jupyter-widgets/controls",
          "model_name": "ProgressStyleModel",
          "state": {
            "_view_name": "StyleView",
            "_model_name": "ProgressStyleModel",
            "description_width": "initial",
            "_view_module": "@jupyter-widgets/base",
            "_model_module_version": "1.5.0",
            "_view_count": null,
            "_view_module_version": "1.2.0",
            "bar_color": null,
            "_model_module": "@jupyter-widgets/controls"
          }
        },
        "8c57f4a8a5264df3a8c6b2013d7a798c": {
          "model_module": "@jupyter-widgets/base",
          "model_name": "LayoutModel",
          "state": {
            "_view_name": "LayoutView",
            "grid_template_rows": null,
            "right": null,
            "justify_content": null,
            "_view_module": "@jupyter-widgets/base",
            "overflow": null,
            "_model_module_version": "1.2.0",
            "_view_count": null,
            "flex_flow": null,
            "width": null,
            "min_width": null,
            "border": null,
            "align_items": null,
            "bottom": null,
            "_model_module": "@jupyter-widgets/base",
            "top": null,
            "grid_column": null,
            "overflow_y": null,
            "overflow_x": null,
            "grid_auto_flow": null,
            "grid_area": null,
            "grid_template_columns": null,
            "flex": null,
            "_model_name": "LayoutModel",
            "justify_items": null,
            "grid_row": null,
            "max_height": null,
            "align_content": null,
            "visibility": null,
            "align_self": null,
            "height": null,
            "min_height": null,
            "padding": null,
            "grid_auto_rows": null,
            "grid_gap": null,
            "max_width": null,
            "order": null,
            "_view_module_version": "1.2.0",
            "grid_template_areas": null,
            "object_position": null,
            "object_fit": null,
            "grid_auto_columns": null,
            "margin": null,
            "display": null,
            "left": null
          }
        },
        "fe068259cd254dca8f3ca86f8a0e597a": {
          "model_module": "@jupyter-widgets/controls",
          "model_name": "DescriptionStyleModel",
          "state": {
            "_view_name": "StyleView",
            "_model_name": "DescriptionStyleModel",
            "description_width": "",
            "_view_module": "@jupyter-widgets/base",
            "_model_module_version": "1.5.0",
            "_view_count": null,
            "_view_module_version": "1.2.0",
            "_model_module": "@jupyter-widgets/controls"
          }
        },
        "d37e2d8dcd8a40d681f4536012442a10": {
          "model_module": "@jupyter-widgets/base",
          "model_name": "LayoutModel",
          "state": {
            "_view_name": "LayoutView",
            "grid_template_rows": null,
            "right": null,
            "justify_content": null,
            "_view_module": "@jupyter-widgets/base",
            "overflow": null,
            "_model_module_version": "1.2.0",
            "_view_count": null,
            "flex_flow": null,
            "width": null,
            "min_width": null,
            "border": null,
            "align_items": null,
            "bottom": null,
            "_model_module": "@jupyter-widgets/base",
            "top": null,
            "grid_column": null,
            "overflow_y": null,
            "overflow_x": null,
            "grid_auto_flow": null,
            "grid_area": null,
            "grid_template_columns": null,
            "flex": null,
            "_model_name": "LayoutModel",
            "justify_items": null,
            "grid_row": null,
            "max_height": null,
            "align_content": null,
            "visibility": null,
            "align_self": null,
            "height": null,
            "min_height": null,
            "padding": null,
            "grid_auto_rows": null,
            "grid_gap": null,
            "max_width": null,
            "order": null,
            "_view_module_version": "1.2.0",
            "grid_template_areas": null,
            "object_position": null,
            "object_fit": null,
            "grid_auto_columns": null,
            "margin": null,
            "display": null,
            "left": null
          }
        }
      }
    }
  },
  "cells": [
    {
      "cell_type": "code",
      "metadata": {
        "colab_type": "code",
        "id": "qQQCreB5gAR_",
        "colab": {}
      },
      "source": [
        "def upgrade_runtime_ram():\n",
        "    meminfo = subprocess.getoutput('cat /proc/meminfo').split('\\n')\n",
        "\n",
        "    memory_info = {entry.split(':')[0]: int(entry.split(':')[1].replace(' kB','').strip()) for entry in meminfo}\n",
        "\n",
        "    if memory_info['MemTotal'] > 17000000:\n",
        "        return\n",
        "\n",
        "    a = []\n",
        "    while(1):\n",
        "        a.append('1')"
      ],
      "execution_count": 0,
      "outputs": []
    },
    {
      "cell_type": "code",
      "metadata": {
        "colab_type": "code",
        "id": "waACZBi_8ap2",
        "colab": {}
      },
      "source": [
        "def restart_runtime():\n",
        "    os.kill(os.getpid(), 9)"
      ],
      "execution_count": 0,
      "outputs": []
    },
    {
      "cell_type": "code",
      "metadata": {
        "colab_type": "code",
        "id": "YIsGqbsy8aqB",
        "colab": {}
      },
      "source": [
        "def setup_rapids():\n",
        "    pynvml.nvmlInit()\n",
        "    handle = pynvml.nvmlDeviceGetHandleByIndex(0)\n",
        "    device_name = pynvml.nvmlDeviceGetName(handle)\n",
        "    if (device_name != b'Tesla T4') and (device_name != b'Tesla P4') and (device_name != b'Tesla P100-PCIE-16GB'):\n",
        "        print(\"Wrong GPU - Restarting Runtime\")\n",
        "        restart_runtime()\n",
        "\n",
        "\n",
        "    # clone RAPIDS AI rapidsai-csp-utils scripts repo\n",
        "    !git clone https://github.com/rapidsai/rapidsai-csp-utils.git\n",
        "\n",
        "    # install RAPIDS\n",
        "    !bash rapidsai-csp-utils/colab/rapids-colab.sh 0.13\n",
        "\n",
        "\n",
        "    # set necessary environment variables \n",
        "    dist_package_index = sys.path.index('/usr/local/lib/python3.6/dist-packages')\n",
        "    sys.path = sys.path[:dist_package_index] + ['/usr/local/lib/python3.6/site-packages'] + sys.path[dist_package_index:]\n",
        "    sys.path\n",
        "\n",
        "    # update pyarrow & modules \n",
        "    exec(open('rapidsai-csp-utils/colab/update_modules.py').read(), globals())"
      ],
      "execution_count": 0,
      "outputs": []
    },
    {
      "cell_type": "code",
      "metadata": {
        "colab_type": "code",
        "id": "9CcPvNIo8aqI",
        "colab": {}
      },
      "source": [
        "def setup_conda():\n",
        "    if not 'Miniconda3-4.5.4-Linux-x86_64.sh' in os.listdir():\n",
        "        !wget https://repo.continuum.io/miniconda/Miniconda3-4.5.4-Linux-x86_64.sh && bash Miniconda3-4.5.4-Linux-x86_64.sh -bfp /usr/local\n",
        "\n",
        "    if not ('EPFL-Capstone-Project' in os.listdir()) and (os.getcwd().split('/')[-1] != 'EPFL-Capstone-Project'):\n",
        "        !git clone https://github.com/helmigsimon/EPFL-Capstone-Project  \n",
        "    if 'EPFL-Capstone-Project' in os.listdir():\n",
        "        os.chdir('EPFL-Capstone-Project')\n",
        "\n",
        "    !conda env create -f environment.yml\n",
        "    !conda activate exts-ml"
      ],
      "execution_count": 0,
      "outputs": []
    },
    {
      "cell_type": "code",
      "metadata": {
        "colab_type": "code",
        "id": "WHSZ-lgE8aqP",
        "colab": {}
      },
      "source": [
        "def setup_drive():\n",
        "    #Mounting Google Drive\n",
        "    global drive\n",
        "    from google.colab import drive\n",
        "    drive.mount('/content/drive')"
      ],
      "execution_count": 0,
      "outputs": []
    },
    {
      "cell_type": "code",
      "metadata": {
        "colab_type": "code",
        "id": "N_uPJqb58aqW",
        "outputId": "42650701-19fc-4fd7-c5d6-fc9057b36c7e",
        "colab": {
          "base_uri": "https://localhost:8080/",
          "height": 1000
        }
      },
      "source": [
        "try:\n",
        "    import sys,os,subprocess\n",
        "    \n",
        "    upgrade_runtime_ram()\n",
        "    setup_drive()\n",
        "\n",
        "    #Setting up PyPi Packages\n",
        "    !pip install geopandas sparse-dot-topn pdpipe category-encoders\n",
        "    import geopandas as gpd\n",
        "    import sparse_dot_topn.sparse_dot_topn as ct\n",
        "    import pdpipe as pdp\n",
        "    import category_encoders\n",
        "\n",
        "    #Setting up Conda Packages\n",
        "    setup_conda()\n",
        "    \n",
        "    #Initializing NLTK\n",
        "    import nltk\n",
        "    nltk.download('stopwords')\n",
        "    nltk.download('punkt')\n",
        "    \n",
        "    #Setting up RAPIDS AI\n",
        "    import pynvml\n",
        "    setup_rapids()\n",
        "    \n",
        "    from cuml import UMAP\n",
        "    \n",
        "except ModuleNotFoundError as e:\n",
        "    print(e)\n",
        "    print('Not in colab environment, continuing to run locally')\n",
        "    from umap import UMAP"
      ],
      "execution_count": 6,
      "outputs": [
        {
          "output_type": "stream",
          "text": [
            "Drive already mounted at /content/drive; to attempt to forcibly remount, call drive.mount(\"/content/drive\", force_remount=True).\n",
            "Collecting geopandas\n",
            "  Using cached geopandas-0.7.0-py2.py3-none-any.whl (928 kB)\n",
            "Processing /root/.cache/pip/wheels/aa/e7/c7/e64559d518bcc12ed7e40a605ae304259b957ae8181c8d1e82/sparse_dot_topn-0.2.9-cp36-cp36m-linux_x86_64.whl\n",
            "Collecting pdpipe\n",
            "  Using cached pdpipe-0.0.46-py3-none-any.whl (47 kB)\n",
            "Collecting category-encoders\n",
            "  Using cached category_encoders-2.2.2-py2.py3-none-any.whl (80 kB)\n",
            "Collecting fiona\n",
            "  Using cached Fiona-1.8.13.post1-cp36-cp36m-manylinux1_x86_64.whl (14.7 MB)\n",
            "Collecting pyproj>=2.2.0\n",
            "  Using cached pyproj-2.6.0-cp36-cp36m-manylinux2010_x86_64.whl (10.4 MB)\n",
            "Requirement already satisfied: pandas>=0.23.0 in /usr/local/lib/python3.6/site-packages (from geopandas) (0.25.3)\n",
            "Collecting shapely\n",
            "  Downloading Shapely-1.7.0-cp36-cp36m-manylinux1_x86_64.whl (1.8 MB)\n",
            "\u001b[K     |████████████████████████████████| 1.8 MB 2.8 MB/s \n",
            "\u001b[?25hCollecting cython>=0.29.15\n",
            "  Downloading Cython-0.29.17-cp36-cp36m-manylinux1_x86_64.whl (2.1 MB)\n",
            "\u001b[K     |████████████████████████████████| 2.1 MB 47.9 MB/s \n",
            "\u001b[?25hRequirement already satisfied: numpy>=1.16.6 in /usr/local/lib/python3.6/site-packages (from sparse-dot-topn) (1.18.1)\n",
            "Requirement already satisfied: setuptools>=18.0 in /usr/local/lib/python3.6/site-packages (from sparse-dot-topn) (46.1.3.post20200325)\n",
            "Requirement already satisfied: scipy>=1.2.3 in /usr/local/lib/python3.6/site-packages (from sparse-dot-topn) (1.4.1)\n",
            "Requirement already satisfied: sortedcontainers in /usr/local/lib/python3.6/site-packages (from pdpipe) (2.1.0)\n",
            "Collecting strct\n",
            "  Using cached strct-0.0.30-py2.py3-none-any.whl (16 kB)\n",
            "Collecting skutil>=0.0.15\n",
            "  Using cached skutil-0.0.16-py2.py3-none-any.whl (18 kB)\n",
            "Collecting tqdm\n",
            "  Downloading tqdm-4.45.0-py2.py3-none-any.whl (60 kB)\n",
            "\u001b[K     |████████████████████████████████| 60 kB 5.8 MB/s \n",
            "\u001b[?25hCollecting statsmodels>=0.9.0\n",
            "  Downloading statsmodels-0.11.1-cp36-cp36m-manylinux1_x86_64.whl (8.7 MB)\n",
            "\u001b[K     |████████████████████████████████| 8.7 MB 37.2 MB/s \n",
            "\u001b[?25hRequirement already satisfied: scikit-learn>=0.20.0 in /usr/local/lib/python3.6/site-packages (from category-encoders) (0.22.2.post1)\n",
            "Collecting patsy>=0.5.1\n",
            "  Downloading patsy-0.5.1-py2.py3-none-any.whl (231 kB)\n",
            "\u001b[K     |████████████████████████████████| 231 kB 57.1 MB/s \n",
            "\u001b[?25hRequirement already satisfied: click<8,>=4.0 in /usr/local/lib/python3.6/site-packages (from fiona->geopandas) (7.1.2)\n",
            "Requirement already satisfied: six>=1.7 in /usr/local/lib/python3.6/site-packages (from fiona->geopandas) (1.11.0)\n",
            "Collecting attrs>=17\n",
            "  Downloading attrs-19.3.0-py2.py3-none-any.whl (39 kB)\n",
            "Collecting click-plugins>=1.0\n",
            "  Using cached click_plugins-1.1.1-py2.py3-none-any.whl (7.5 kB)\n",
            "Collecting munch\n",
            "  Using cached munch-2.5.0-py2.py3-none-any.whl (10 kB)\n",
            "Collecting cligj>=0.5\n",
            "  Using cached cligj-0.5.0-py3-none-any.whl (5.7 kB)\n",
            "Requirement already satisfied: python-dateutil>=2.6.1 in /usr/local/lib/python3.6/site-packages (from pandas>=0.23.0->geopandas) (2.8.1)\n",
            "Requirement already satisfied: pytz>=2017.2 in /usr/local/lib/python3.6/site-packages (from pandas>=0.23.0->geopandas) (2020.1)\n",
            "Processing /root/.cache/pip/wheels/6c/1b/9c/71fa8b5df01cc605c4b5cadcd81df76d520149ca5c02b4013b/decore-0.0.1-py2.py3-none-any.whl\n",
            "Requirement already satisfied: joblib>=0.11 in /usr/local/lib/python3.6/site-packages (from scikit-learn>=0.20.0->category-encoders) (0.14.1)\n",
            "Installing collected packages: attrs, click-plugins, munch, cligj, fiona, pyproj, shapely, geopandas, cython, sparse-dot-topn, strct, decore, skutil, tqdm, pdpipe, patsy, statsmodels, category-encoders\n",
            "Successfully installed attrs-19.3.0 category-encoders-2.2.2 click-plugins-1.1.1 cligj-0.5.0 cython-0.29.17 decore-0.0.1 fiona-1.8.13.post1 geopandas-0.7.0 munch-2.5.0 patsy-0.5.1 pdpipe-0.0.46 pyproj-2.6.0 shapely-1.7.0 skutil-0.0.16 sparse-dot-topn-0.2.9 statsmodels-0.11.1 strct-0.0.30 tqdm-4.45.0\n"
          ],
          "name": "stdout"
        },
        {
          "output_type": "stream",
          "text": [
            "/usr/local/lib/python3.6/dist-packages/statsmodels/tools/_testing.py:19: FutureWarning: pandas.util.testing is deprecated. Use the functions in the public API at pandas.testing instead.\n",
            "  import pandas.util.testing as tm\n"
          ],
          "name": "stderr"
        },
        {
          "output_type": "stream",
          "text": [
            "Solving environment: - \b\b\\ \b\b| \b\b/ \b\b- \b\b\\ \b\b| \b\b/ \b\b- \b\b\\ \b\b| \b\b/ \b\b- \b\b\\ \b\b| \b\b/ \b\b- \b\b\\ \b\b| \b\b/ \b\b- \b\b\\ \b\b| \b\b/ \b\b- \b\b\\ \b\b| \b\b/ \b\b- \b\b\\ \b\b| \b\b/ \b\b- \b\b\\ \b\b| \b\b/ \b\b- \b\b\\ \b\b| \b\b/ \b\b- \b\b\\ \b\b| \b\b/ \b\b- \b\b\\ \b\b| \b\b/ \b\b- \b\b\\ \b\b| \b\b/ \b\b- \b\b\\ \b\b| \b\b/ \b\b- \b\b\\ \b\b| \b\b/ \b\b- \b\b\\ \b\b| \b\b/ \b\b- \b\b\\ \b\b| \b\b/ \b\b- \b\b\\ \b\b| \b\b/ \b\b- \b\b\\ \b\b| \b\b/ \b\b- \b\b\\ \b\b| \b\b/ \b\b- \b\b\\ \b\b| \b\b/ \b\b- \b\b\\ \b\b| \b\b/ \b\b- \b\b\\ \b\b| \b\b/ \b\b- \b\b\\ \b\b| \b\b/ \b\b- \b\b\\ \b\b| \b\b/ \b\b- \b\b\\ \b\b| \b\b/ \b\b- \b\b\\ \b\b| \b\b/ \b\b- \b\b\\ \b\b| \b\b/ \b\b- \b\b\\ \b\b| \b\b/ \b\b- \b\b\\ \b\b| \b\b/ \b\b- \b\b\\ \b\b| \b\b/ \b\b- \b\b\\ \b\b| \b\b/ \b\b- \b\b\\ \b\b| \b\b/ \b\b- \b\b\\ \b\b| \b\b/ \b\b- \b\b\\ \b\b| \b\b/ \b\b- \b\b\\ \b\b| \b\bfailed\n",
            "\n",
            "ResolvePackageNotFound: \n",
            "  - scikit-learn==0.20.3=py36hca23c92_1\n",
            "  - sqlalchemy==1.3.13=py36h0b31af3_0\n",
            "  - h5py==2.10.0=nompi_py36h106b333_102\n",
            "  - bzip2==1.0.8=h0b31af3_2\n",
            "  - nodejs==13.10.1=h38d8c5a_0\n",
            "  - sqlite==3.30.1=h93121df_0\n",
            "  - libtiff==4.1.0=ha78913b_3\n",
            "  - c-ares==1.15.0=h01d97ff_1001\n",
            "  - zstd==1.4.4=hed8d7c8_2\n",
            "  - cffi==1.14.0=py36h356ff06_0\n",
            "  - kealib==1.4.12=h2324030_0\n",
            "  - markupsafe==1.1.1=py36h37b9a7d_1\n",
            "  - numpy==1.18.1=py36hde6bac1_0\n",
            "  - libgdal==3.0.4=hec54991_3\n",
            "  - libcurl==7.68.0=h709d2b2_0\n",
            "  - geotiff==1.5.1=h4bdff65_9\n",
            "  - numba==0.48.0=py36h4f17bb1_0\n",
            "  - ncurses==6.1=h0a44026_1002\n",
            "  - freexl==1.0.5=h1de35cc_1002\n",
            "  - jpeg==9c=h1de35cc_1001\n",
            "  - libllvm8==8.0.1=h770b8ee_0\n",
            "  - pixman==0.38.0=h01d97ff_1003\n",
            "  - pandas==1.0.1=py36h4f17bb1_0\n",
            "  - hdf5==1.10.5=nompi_h3e39495_1104\n",
            "  - curl==7.68.0=h8754def_0\n",
            "  - libkml==1.3.0=h169b8f9_1011\n",
            "  - libxml2==2.9.10=h53d96d6_0\n",
            "  - glib==2.58.3=py36hb0ce7ff_1003\n",
            "  - libedit==3.1.20170329=hcfe32e1_1001\n",
            "  - psutil==5.7.0=py36h37b9a7d_1\n",
            "  - libdap4==3.20.4=habf5908_0\n",
            "  - appnope==0.1.0=py36h9f0ad1d_1001\n",
            "  - libgfortran==4.0.0=2\n",
            "  - freetype==2.10.1=h8da9a1a_0\n",
            "  - tiledb==1.7.0=hd5e958f_2\n",
            "  - giflib==5.2.1=h0b31af3_2\n",
            "  - pcre==8.44=h4a8c4bd_0\n",
            "  - pyzmq==19.0.0=py36h820b253_1\n",
            "  - tk==8.6.10=hbbe82c9_0\n",
            "  - krb5==1.16.4=h1752a42_0\n",
            "  - kiwisolver==1.1.0=py36h863e41a_1\n",
            "  - libspatialite==4.3.0a=hbcd37d4_1037\n",
            "  - openjpeg==2.3.1=h254dc36_3\n",
            "  - pillow==7.0.0=py36h918e99a_0\n",
            "  - python==3.6.10=hce46be0_1009_cpython\n",
            "  - scipy==1.4.1=py36h82752d6_0\n",
            "  - libpng==1.6.37=hbbe82c9_1\n",
            "  - libuv==1.34.0=h0b31af3_0\n",
            "  - tensorflow==1.12.0=mkl_py36h2b2bbaf_0\n",
            "  - fiona==1.8.13=py36he71f6a4_0\n",
            "  - proj==6.3.1=h773a61f_1\n",
            "  - libwebp==1.0.2=hd3bf737_5\n",
            "  - libpq==12.2=h554dc5a_0\n",
            "  - cairo==1.16.0=hec6a9b0_1003\n",
            "  - tensorflow-base==1.12.0=mkl_py36h70e0e9a_0\n",
            "  - libffi==3.2.1=h4a8c4bd_1007\n",
            "  - python-levenshtein==0.12.0=py36h0b31af3_1001\n",
            "  - tzcode==2019a=h01d97ff_1002\n",
            "  - lz4-c==1.8.3=h6de7cb9_1001\n",
            "  - cryptography==2.8=py36hc9d8292_2\n",
            "  - shapely==1.7.0=py36hda0b814_2\n",
            "  - gdal==3.0.4=py36h5a1ef21_3\n",
            "  - geos==3.8.1=h4a8c4bd_0\n",
            "  - poppler==0.67.0=h16886b5_8\n",
            "  - xerces-c==3.2.2=h8f8adb3_1004\n",
            "  - cfitsio==3.470=h84d2f63_2\n",
            "  - libsodium==1.0.17=h01d97ff_0\n",
            "  - graphviz==2.42.3=h98dfb87_0\n",
            "  - xz==5.2.4=h0b31af3_1002\n",
            "  - zlib==1.2.11=h0b31af3_1006\n",
            "  - openssl==1.1.1f=h0b31af3_0\n",
            "  - hdf4==4.2.13=h84186c3_1003\n",
            "  - mistune==0.8.4=py36h0b31af3_1000\n",
            "  - pyrsistent==0.16.0=py36h37b9a7d_0\n",
            "  - libiconv==1.15=h0b31af3_1006\n",
            "  - tornado==6.0.4=py36h37b9a7d_1\n",
            "  - readline==8.0=hcfe32e1_0\n",
            "  - libnetcdf==4.7.4=nompi_he461dc0_101\n",
            "  - matplotlib-base==3.2.0=py36h11da6c2_1\n",
            "  - boost-cpp==1.72.0=hdf9ef73_0\n",
            "  - libprotobuf==3.11.4=hd174df1_0\n",
            "  - sparse_dot_topn==0.2.9=py36h863e41a_0\n",
            "  - statsmodels==0.11.1=py36h37b9a7d_1\n",
            "  - expat==2.2.9=h4a8c4bd_2\n",
            "  - postgresql==12.2=h16d8c28_0\n",
            "  - gettext==0.19.8.1=h46ab8bc_1002\n",
            "  - zeromq==4.3.2=h6de7cb9_2\n",
            "  - json-c==0.13.1=h1de35cc_1001\n",
            "  - llvm-openmp==9.0.1=h28b9765_2\n",
            "  - libopenblas==0.3.9=h3d69b6c_0\n",
            "  - libssh2==1.8.2=hcdc9a53_2\n",
            "  - grpcio==1.23.0=py36h7c1f37e_1\n",
            "  - llvmlite==0.31.0=py36hde82470_1\n",
            "  - fontconfig==2.13.1=h6b1039f_1001\n",
            "  - psycopg2==2.8.4=py36hafa8578_1\n",
            "  - icu==64.2=h6de7cb9_1\n",
            "\n",
            "\n",
            "CommandNotFoundError: Your shell has not been properly configured to use 'conda activate'.\n",
            "If your shell is Bash or a Bourne variant, enable conda for the current user with\n",
            "\n",
            "    $ echo \". /usr/local/etc/profile.d/conda.sh\" >> ~/.bashrc\n",
            "\n",
            "or, for all users, enable conda with\n",
            "\n",
            "    $ sudo ln -s /usr/local/etc/profile.d/conda.sh /etc/profile.d/conda.sh\n",
            "\n",
            "The options above will permanently enable the 'conda' command, but they do NOT\n",
            "put conda's base (root) environment on PATH.  To do so, run\n",
            "\n",
            "    $ conda activate\n",
            "\n",
            "in your terminal, or to put the base environment on PATH permanently, run\n",
            "\n",
            "    $ echo \"conda activate\" >> ~/.bashrc\n",
            "\n",
            "Previous to conda 4.4, the recommended way to activate conda was to modify PATH in\n",
            "your ~/.bashrc file.  You should manually remove the line that looks like\n",
            "\n",
            "    export PATH=\"/usr/local/bin:$PATH\"\n",
            "\n",
            "^^^ The above line should NO LONGER be in your ~/.bashrc file! ^^^\n",
            "\n",
            "\n",
            "[nltk_data] Downloading package stopwords to /root/nltk_data...\n",
            "[nltk_data]   Package stopwords is already up-to-date!\n",
            "[nltk_data] Downloading package punkt to /root/nltk_data...\n",
            "[nltk_data]   Package punkt is already up-to-date!\n",
            "fatal: destination path 'rapidsai-csp-utils' already exists and is not an empty directory.\n",
            "PLEASE READ\n",
            "********************************************************************************************************\n",
            "Changes:\n",
            "1. Now that most people have migrated, we have rem0ved the migration notice.\n",
            "2. default stable version is now 0.13.  Nightly is now 0.14\n",
            "3. You can now declare your RAPIDS version as a CLI option and skip the user prompts (ex: '0.13' or '0.14', between 0.11 to 0.14, without the quotes): \n",
            "        \"!bash rapidsai-csp-utils/colab/rapids-colab.sh <version/label>\"\n",
            "        Examples: '!bash rapidsai-csp-utils/colab/rapids-colab.sh 0.13', or '!bash rapidsai-csp-utils/colab/rapids-colab.sh stable', or '!bash rapidsai-csp-utils/colab/rapids-colab.sh s'\n",
            "                  '!bash rapidsai-csp-utils/colab/rapids-colab.sh 0.14, or '!bash rapidsai-csp-utils/colab/rapids-colab.sh nightly', or '!bash rapidsai-csp-utils/colab/rapids-colab.sh n'\n",
            "Enjoy using RAPIDS!\n",
            "RAPIDS Version to install is 0.13\n",
            "Checking for GPU type:\n",
            "***********************************************************************\n",
            "Woo! Your instance has the right kind of GPU, a 'Tesla P100-PCIE-16GB'!\n",
            "***********************************************************************\n",
            "\n",
            "\n",
            "************************************************\n",
            "Your Google Colab instance has RAPIDS installed!\n",
            "************************************************\n",
            "***********************************************************************\n",
            "Let us check on those pyarrow and cffi versions...\n",
            "***********************************************************************\n",
            "\n",
            "unloaded pyarrow 0.14.1\n",
            "unloaded pyarrow 0.14.1\n",
            "unloaded pyarrow 0.14.1\n",
            "unloaded pyarrow 0.14.1\n",
            "unloaded pyarrow 0.14.1\n",
            "unloaded pyarrow 0.14.1\n",
            "unloaded pyarrow 0.14.1\n",
            "unloaded pyarrow 0.14.1\n",
            "unloaded pyarrow 0.14.1\n",
            "unloaded pyarrow 0.14.1\n",
            "unloaded pyarrow 0.14.1\n",
            "unloaded pyarrow 0.14.1\n",
            "loaded pyarrow 0.15.0\n",
            "You're now running pyarrow 0.15.0 and are good to go!\n",
            "unloaded cffi 1.14.0\n",
            "loaded cffi 1.11.5\n"
          ],
          "name": "stdout"
        }
      ]
    },
    {
      "cell_type": "markdown",
      "metadata": {
        "colab_type": "text",
        "id": "Kvn45BG28aqd"
      },
      "source": [
        "## Imports"
      ]
    },
    {
      "cell_type": "code",
      "metadata": {
        "colab_type": "code",
        "id": "IRijjSry8aqf",
        "colab": {}
      },
      "source": [
        "%matplotlib inline\n",
        "import pandas as pd\n",
        "import numpy as np\n",
        "from tqdm import tqdm\n",
        "import matplotlib.pyplot as plt\n",
        "from sklearn.linear_model import SGDRegressor\n",
        "from sklearn.preprocessing import StandardScaler\n",
        "from sklearn.model_selection import GridSearchCV, train_test_split,  StratifiedKFold\n",
        "from sklearn.pipeline import Pipeline\n",
        "from sklearn.metrics import mean_absolute_error, mean_squared_error, r2_score\n",
        "tqdm.pandas()"
      ],
      "execution_count": 0,
      "outputs": []
    },
    {
      "cell_type": "code",
      "metadata": {
        "colab_type": "code",
        "id": "fEgS7UQD8aqk",
        "colab": {}
      },
      "source": [
        "from sklearn.model_selection import train_test_split\n",
        "from sklearn.impute import SimpleImputer\n",
        "from sklearn.compose import ColumnTransformer\n",
        "from sklearn.preprocessing import OneHotEncoder, FunctionTransformer"
      ],
      "execution_count": 0,
      "outputs": []
    },
    {
      "cell_type": "code",
      "metadata": {
        "colab_type": "code",
        "id": "u5KwAwAe8aqp",
        "colab": {}
      },
      "source": [
        "from lib.transformers import *\n",
        "from lib.pipelines import *\n",
        "from lib.processing import save_to_pkl, load_from_pkl\n",
        "from data.util.paths import DATA_PATH"
      ],
      "execution_count": 0,
      "outputs": []
    },
    {
      "cell_type": "code",
      "metadata": {
        "colab_type": "code",
        "id": "ixGjIOwS8aq1",
        "colab": {}
      },
      "source": [
        "from category_encoders.leave_one_out import LeaveOneOutEncoder"
      ],
      "execution_count": 0,
      "outputs": []
    },
    {
      "cell_type": "markdown",
      "metadata": {
        "colab_type": "text",
        "id": "C6jHrhZT8aq6"
      },
      "source": [
        "## Setting up DataFrame"
      ]
    },
    {
      "cell_type": "code",
      "metadata": {
        "colab_type": "code",
        "id": "xpDf_3kT8aq7",
        "colab": {}
      },
      "source": [
        "api_df = load_from_pkl('api',DATA_PATH)\n",
        "extracted_df = load_from_pkl('extracted',DATA_PATH)"
      ],
      "execution_count": 0,
      "outputs": []
    },
    {
      "cell_type": "code",
      "metadata": {
        "colab_type": "code",
        "id": "iZP1t_evMdaG",
        "outputId": "184051ec-4ffd-4168-be0f-e5d301d4bfa1",
        "colab": {
          "base_uri": "https://localhost:8080/",
          "height": 67,
          "referenced_widgets": [
            "70a9f8f848364b44a7f8ce3a0e38f0bc",
            "c239aa97d572423e8d1b3a6c40456735",
            "b6aa7508cf04481ebc903f59766b25bc",
            "64b72e6395d14ddf847c74a194fd3d7c",
            "59554c151c0d4283b244751356149e67",
            "8c57f4a8a5264df3a8c6b2013d7a798c",
            "fe068259cd254dca8f3ca86f8a0e597a",
            "d37e2d8dcd8a40d681f4536012442a10"
          ]
        }
      },
      "source": [
        "api_df = api_pipe.fit_transform(api_df)\n",
        "extracted_df = extracted_pipe.fit_transform(extracted_df)"
      ],
      "execution_count": 12,
      "outputs": [
        {
          "output_type": "display_data",
          "data": {
            "application/vnd.jupyter.widget-view+json": {
              "model_id": "70a9f8f848364b44a7f8ce3a0e38f0bc",
              "version_minor": 0,
              "version_major": 2
            },
            "text/plain": [
              "HBox(children=(IntProgress(value=1, bar_style='info', max=1), HTML(value='')))"
            ]
          },
          "metadata": {
            "tags": []
          }
        },
        {
          "output_type": "stream",
          "text": [
            "\n"
          ],
          "name": "stdout"
        }
      ]
    },
    {
      "cell_type": "code",
      "metadata": {
        "colab_type": "code",
        "id": "7AdkP_hwPmqQ",
        "colab": {}
      },
      "source": [
        "#Remove outliers from extracted_df\n",
        "extracted_df = OutlierRemover('market_value').fit_transform(extracted_df)"
      ],
      "execution_count": 0,
      "outputs": []
    },
    {
      "cell_type": "code",
      "metadata": {
        "id": "4jr-vfIfasCy",
        "colab_type": "code",
        "colab": {}
      },
      "source": [
        "metadata_df = api_df.merge(extracted_df,how='inner',on='release_id')"
      ],
      "execution_count": 0,
      "outputs": []
    },
    {
      "cell_type": "code",
      "metadata": {
        "id": "kjfxI104mn3C",
        "colab_type": "code",
        "colab": {}
      },
      "source": [
        "metadata_df = OutlierRemover('format_quantity').fit_transform(metadata_df)"
      ],
      "execution_count": 0,
      "outputs": []
    },
    {
      "cell_type": "code",
      "metadata": {
        "id": "x4ze91bms9_w",
        "colab_type": "code",
        "colab": {}
      },
      "source": [
        "save_to_pkl(metadata_df,'metadata',DATA_PATH)"
      ],
      "execution_count": 0,
      "outputs": []
    },
    {
      "cell_type": "markdown",
      "metadata": {
        "colab_type": "text",
        "id": "a6n5farW8arB"
      },
      "source": [
        "## Reducing Dimensionality of Image Embeddings"
      ]
    },
    {
      "cell_type": "code",
      "metadata": {
        "colab_type": "code",
        "id": "hTNDpVXKMdVp",
        "colab": {}
      },
      "source": [
        "with np.load(os.path.join(DATA_PATH,'high_level_features_labelled.npz')) as data:\n",
        "    image_embedding_df = pd.concat([pd.DataFrame(data[section]) for section in ('release_id','bitmap','features')],axis=1)\n",
        "    image_embedding_df.columns = ['release_id', 'bitmap'] + ['feature_%s' % i for i in range(1,1281)]"
      ],
      "execution_count": 0,
      "outputs": []
    },
    {
      "cell_type": "code",
      "metadata": {
        "colab_type": "code",
        "id": "vpYiYhDnmfDT",
        "colab": {}
      },
      "source": [
        "from cuml import UMAP"
      ],
      "execution_count": 0,
      "outputs": []
    },
    {
      "cell_type": "code",
      "metadata": {
        "colab_type": "code",
        "id": "46fQY6W28arC",
        "colab": {}
      },
      "source": [
        "scaler = StandardScaler()\n",
        "umap = UMAP(n_components=10)\n",
        "image_embeddings_scaled = scaler.fit_transform(image_embedding_df.loc[:,['feature_%s' % i for i in range(1,1281)]])\n"
      ],
      "execution_count": 0,
      "outputs": []
    },
    {
      "cell_type": "code",
      "metadata": {
        "colab_type": "code",
        "id": "-DiegN158q_u",
        "outputId": "43d12204-7474-4497-9a2a-1152e1f3f317",
        "colab": {
          "base_uri": "https://localhost:8080/",
          "height": 53
        }
      },
      "source": [
        "image_embeddings_reduced = umap.fit_transform(image_embeddings_scaled)"
      ],
      "execution_count": 17,
      "outputs": [
        {
          "output_type": "stream",
          "text": [
            "/usr/local/lib/python3.6/site-packages/cuml/utils/input_utils.py:188: UserWarning: Expected row ('C') major order, but got the opposite. Converting data, this will result in additional memory utilization.\n",
            "  warnings.warn(\"Expected \" + order_to_str(order) + \" major order, \"\n"
          ],
          "name": "stderr"
        }
      ]
    },
    {
      "cell_type": "code",
      "metadata": {
        "colab_type": "code",
        "id": "9O2_hoRwzSio",
        "colab": {}
      },
      "source": [
        "image_embeddings_reduced = pd.concat([\n",
        "      image_embedding_df.loc[:,'release_id'],\n",
        "      pd.DataFrame(\n",
        "          image_embeddings_reduced,\n",
        "          columns = ['images_umap_%s' % i for i in range(image_embeddings_reduced.shape[1])]\n",
        "      )],\n",
        "      axis=1\n",
        ")\n"
      ],
      "execution_count": 0,
      "outputs": []
    },
    {
      "cell_type": "code",
      "metadata": {
        "id": "cdOsgGs9c82j",
        "colab_type": "code",
        "colab": {}
      },
      "source": [
        "save_to_pkl(image_embeddings_reduced, 'image_embeddings',DATA_PATH)"
      ],
      "execution_count": 0,
      "outputs": []
    }
  ]
}