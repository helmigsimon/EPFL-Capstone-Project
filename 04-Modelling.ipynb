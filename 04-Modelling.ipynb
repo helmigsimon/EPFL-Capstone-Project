{
 "cells": [
  {
   "cell_type": "markdown",
   "metadata": {
    "colab_type": "text",
    "id": "buFUSHKt8apx"
   },
   "source": [
    "## 04 - Modelling"
   ]
  },
  {
   "cell_type": "markdown",
   "metadata": {
    "colab_type": "text",
    "id": "YsMW-elZopc_"
   },
   "source": [
    "## Setting up Colab Environment if in Colab\n",
    "The analyses outlined in this notebook relies on the estimators provided by the RAPIDS AI CUML library (https://docs.rapids.ai/api), which provides a sci-kit learn-like API for implementations of machine learning algorithms that are specifically configured to run on GPU hardware. Using this library will significantly speed up the computation time associated with the dimensionality reduction we conduct towards the end of this notebook.\n",
    "\n",
    "As I do not personally have access to a GPU, the GPU-enabled part of this notebook is run on Google's Colab Notebook environment, which offers GPU access for free. In the cell belows below, we define the functions required to setup a 25GB RAM Colab Notebook Environment with the packages necessary for the code to function."
   ]
  },
  {
   "cell_type": "markdown",
   "metadata": {
    "colab_type": "text",
    "id": "lunHqQ7B8apz"
   },
   "source": [
    "## Optional - Colab Setup"
   ]
  },
  {
   "cell_type": "code",
   "execution_count": null,
   "metadata": {
    "colab": {},
    "colab_type": "code",
    "id": "qQQCreB5gAR_"
   },
   "outputs": [],
   "source": [
    "def upgrade_runtime_ram():\n",
    "    meminfo = subprocess.getoutput('cat /proc/meminfo').split('\\n')\n",
    "\n",
    "    memory_info = {entry.split(':')[0]: int(entry.split(':')[1].replace(' kB','').strip()) for entry in meminfo}\n",
    "\n",
    "    if memory_info['MemTotal'] > 17000000:\n",
    "        return\n",
    "\n",
    "    a = []\n",
    "    while(1):\n",
    "        a.append('1')\n",
    "\n",
    "def restart_runtime():\n",
    "    os.kill(os.getpid(), 9)"
   ]
  },
  {
   "cell_type": "code",
   "execution_count": null,
   "metadata": {
    "colab": {},
    "colab_type": "code",
    "id": "YIsGqbsy8aqB"
   },
   "outputs": [],
   "source": [
    "def setup_rapids():\n",
    "    pynvml.nvmlInit()\n",
    "    handle = pynvml.nvmlDeviceGetHandleByIndex(0)\n",
    "    device_name = pynvml.nvmlDeviceGetName(handle)\n",
    "    if (device_name != b'Tesla T4') and (device_name != b'Tesla P4') and (device_name != b'Tesla P100-PCIE-16GB'):\n",
    "        print(\"Wrong GPU - Restarting Runtime\")\n",
    "        restart_runtime()\n",
    "\n",
    "\n",
    "    # clone RAPIDS AI rapidsai-csp-utils scripts repo\n",
    "    !git clone https://github.com/rapidsai/rapidsai-csp-utils.git\n",
    "\n",
    "    # install RAPIDS\n",
    "    !bash rapidsai-csp-utils/colab/rapids-colab.sh 0.13\n",
    "\n",
    "\n",
    "    # set necessary environment variables \n",
    "    dist_package_index = sys.path.index('/usr/local/lib/python3.6/dist-packages')\n",
    "    sys.path = sys.path[:dist_package_index] + ['/usr/local/lib/python3.6/site-packages'] + sys.path[dist_package_index:]\n",
    "    sys.path\n",
    "\n",
    "    # update pyarrow & modules \n",
    "    exec(open('rapidsai-csp-utils/colab/update_modules.py').read(), globals())"
   ]
  },
  {
   "cell_type": "code",
   "execution_count": null,
   "metadata": {
    "colab": {},
    "colab_type": "code",
    "id": "9CcPvNIo8aqI"
   },
   "outputs": [],
   "source": [
    "def setup_conda():\n",
    "    if not 'Miniconda3-4.5.4-Linux-x86_64.sh' in os.listdir():\n",
    "        !wget https://repo.continuum.io/miniconda/Miniconda3-4.5.4-Linux-x86_64.sh && bash Miniconda3-4.5.4-Linux-x86_64.sh -bfp /usr/local\n",
    "\n",
    "    if not ('EPFL-Capstone-Project' in os.listdir()) and (os.getcwd().split('/')[-1] != 'EPFL-Capstone-Project'):\n",
    "        !git clone https://github.com/helmigsimon/EPFL-Capstone-Project  \n",
    "    if 'EPFL-Capstone-Project' in os.listdir():\n",
    "        os.chdir('EPFL-Capstone-Project')\n",
    "\n",
    "    !conda env create -f environment.yml\n",
    "    !conda activate exts-ml"
   ]
  },
  {
   "cell_type": "code",
   "execution_count": null,
   "metadata": {
    "colab": {},
    "colab_type": "code",
    "id": "WHSZ-lgE8aqP"
   },
   "outputs": [],
   "source": [
    "def setup_drive():\n",
    "    #Mounting Google Drive\n",
    "    global drive\n",
    "    from google.colab import drive\n",
    "    drive.mount('/content/drive')"
   ]
  },
  {
   "cell_type": "code",
   "execution_count": 5,
   "metadata": {
    "colab": {
     "base_uri": "https://localhost:8080/",
     "height": 1000
    },
    "colab_type": "code",
    "id": "N_uPJqb58aqW",
    "outputId": "a751466d-4c3a-4e21-ca6c-ce02c5374117"
   },
   "outputs": [
    {
     "name": "stdout",
     "output_type": "stream",
     "text": [
      "Drive already mounted at /content/drive; to attempt to forcibly remount, call drive.mount(\"/content/drive\", force_remount=True).\n",
      "Requirement already satisfied: geopandas in /usr/local/lib/python3.6/site-packages (0.7.0)\n",
      "Requirement already satisfied: sparse-dot-topn in /usr/local/lib/python3.6/site-packages (0.2.9)\n",
      "Requirement already satisfied: pdpipe in /usr/local/lib/python3.6/site-packages (0.0.49)\n",
      "Requirement already satisfied: category-encoders in /usr/local/lib/python3.6/site-packages (2.2.2)\n",
      "Requirement already satisfied: catboost in /usr/local/lib/python3.6/site-packages (0.23.2)\n",
      "Requirement already satisfied: pandas>=0.23.0 in /usr/local/lib/python3.6/site-packages (from geopandas) (0.25.3)\n",
      "Requirement already satisfied: fiona in /usr/local/lib/python3.6/site-packages (from geopandas) (1.8.13.post1)\n",
      "Requirement already satisfied: shapely in /usr/local/lib/python3.6/site-packages (from geopandas) (1.7.0)\n",
      "Requirement already satisfied: pyproj>=2.2.0 in /usr/local/lib/python3.6/site-packages (from geopandas) (2.6.1.post1)\n",
      "Requirement already satisfied: scipy>=1.2.3 in /usr/local/lib/python3.6/site-packages (from sparse-dot-topn) (1.4.1)\n",
      "Requirement already satisfied: cython>=0.29.15 in /usr/local/lib/python3.6/site-packages (from sparse-dot-topn) (0.29.19)\n",
      "Requirement already satisfied: setuptools>=18.0 in /usr/local/lib/python3.6/site-packages (from sparse-dot-topn) (47.1.1.post20200529)\n",
      "Requirement already satisfied: numpy>=1.16.6 in /usr/local/lib/python3.6/site-packages (from sparse-dot-topn) (1.18.5)\n",
      "Requirement already satisfied: tqdm in /usr/local/lib/python3.6/site-packages (from pdpipe) (4.46.1)\n",
      "Requirement already satisfied: skutil>=0.0.15 in /usr/local/lib/python3.6/site-packages (from pdpipe) (0.0.16)\n",
      "Requirement already satisfied: strct in /usr/local/lib/python3.6/site-packages (from pdpipe) (0.0.30)\n",
      "Requirement already satisfied: sortedcontainers in /usr/local/lib/python3.6/site-packages (from pdpipe) (2.2.1)\n",
      "Requirement already satisfied: patsy>=0.5.1 in /usr/local/lib/python3.6/site-packages (from category-encoders) (0.5.1)\n",
      "Requirement already satisfied: scikit-learn>=0.20.0 in /usr/local/lib/python3.6/site-packages (from category-encoders) (0.23.1)\n",
      "Requirement already satisfied: statsmodels>=0.9.0 in /usr/local/lib/python3.6/site-packages (from category-encoders) (0.11.1)\n",
      "Requirement already satisfied: plotly in /usr/local/lib/python3.6/site-packages (from catboost) (4.8.1)\n",
      "Requirement already satisfied: six in /usr/local/lib/python3.6/site-packages (from catboost) (1.11.0)\n",
      "Requirement already satisfied: graphviz in /usr/local/lib/python3.6/site-packages (from catboost) (0.14)\n",
      "Requirement already satisfied: matplotlib in /usr/local/lib/python3.6/site-packages (from catboost) (3.2.1)\n",
      "Requirement already satisfied: python-dateutil>=2.6.1 in /usr/local/lib/python3.6/site-packages (from pandas>=0.23.0->geopandas) (2.8.1)\n",
      "Requirement already satisfied: pytz>=2017.2 in /usr/local/lib/python3.6/site-packages (from pandas>=0.23.0->geopandas) (2020.1)\n",
      "Requirement already satisfied: munch in /usr/local/lib/python3.6/site-packages (from fiona->geopandas) (2.5.0)\n",
      "Requirement already satisfied: click<8,>=4.0 in /usr/local/lib/python3.6/site-packages (from fiona->geopandas) (7.1.2)\n",
      "Requirement already satisfied: attrs>=17 in /usr/local/lib/python3.6/site-packages (from fiona->geopandas) (19.3.0)\n",
      "Requirement already satisfied: cligj>=0.5 in /usr/local/lib/python3.6/site-packages (from fiona->geopandas) (0.5.0)\n",
      "Requirement already satisfied: click-plugins>=1.0 in /usr/local/lib/python3.6/site-packages (from fiona->geopandas) (1.1.1)\n",
      "Requirement already satisfied: decore in /usr/local/lib/python3.6/site-packages (from skutil>=0.0.15->pdpipe) (0.0.1)\n",
      "Requirement already satisfied: joblib>=0.11 in /usr/local/lib/python3.6/site-packages (from scikit-learn>=0.20.0->category-encoders) (0.15.1)\n",
      "Requirement already satisfied: threadpoolctl>=2.0.0 in /usr/local/lib/python3.6/site-packages (from scikit-learn>=0.20.0->category-encoders) (2.1.0)\n",
      "Requirement already satisfied: retrying>=1.3.3 in /usr/local/lib/python3.6/site-packages (from plotly->catboost) (1.3.3)\n",
      "Requirement already satisfied: kiwisolver>=1.0.1 in /usr/local/lib/python3.6/site-packages (from matplotlib->catboost) (1.2.0)\n",
      "Requirement already satisfied: cycler>=0.10 in /usr/local/lib/python3.6/site-packages (from matplotlib->catboost) (0.10.0)\n",
      "Requirement already satisfied: pyparsing!=2.0.4,!=2.1.2,!=2.1.6,>=2.0.1 in /usr/local/lib/python3.6/site-packages (from matplotlib->catboost) (2.4.7)\n"
     ]
    },
    {
     "name": "stderr",
     "output_type": "stream",
     "text": [
      "/usr/local/lib/python3.6/dist-packages/statsmodels/tools/_testing.py:19: FutureWarning: pandas.util.testing is deprecated. Use the functions in the public API at pandas.testing instead.\n",
      "  import pandas.util.testing as tm\n"
     ]
    },
    {
     "name": "stdout",
     "output_type": "stream",
     "text": [
      "Solving environment: failed\n",
      "\n",
      "ResolvePackageNotFound: \n",
      "  - lz4-c==1.8.3=h6de7cb9_1001\n",
      "  - libxml2==2.9.10=h53d96d6_0\n",
      "  - markupsafe==1.1.1=py36h37b9a7d_1\n",
      "  - json-c==0.13.1=h1de35cc_1001\n",
      "  - grpcio==1.23.0=py36h7c1f37e_1\n",
      "  - pillow==7.0.0=py36h918e99a_0\n",
      "  - psutil==5.7.0=py36h37b9a7d_1\n",
      "  - libspatialite==4.3.0a=hbcd37d4_1037\n",
      "  - libssh2==1.8.2=hcdc9a53_2\n",
      "  - proj==6.3.1=h773a61f_1\n",
      "  - libopenblas==0.3.9=h3d69b6c_0\n",
      "  - zstd==1.4.4=hed8d7c8_2\n",
      "  - libwebp==1.0.2=hd3bf737_5\n",
      "  - nodejs==13.10.1=h38d8c5a_0\n",
      "  - libnetcdf==4.7.4=nompi_he461dc0_101\n",
      "  - expat==2.2.9=h4a8c4bd_2\n",
      "  - libgfortran==4.0.0=2\n",
      "  - c-ares==1.15.0=h01d97ff_1001\n",
      "  - pcre==8.44=h4a8c4bd_0\n",
      "  - llvm-openmp==9.0.1=h28b9765_2\n",
      "  - cryptography==2.8=py36hc9d8292_2\n",
      "  - kealib==1.4.12=h2324030_0\n",
      "  - xz==5.2.4=h0b31af3_1002\n",
      "  - llvmlite==0.31.0=py36hde82470_1\n",
      "  - libdap4==3.20.4=habf5908_0\n",
      "  - jpeg==9c=h1de35cc_1001\n",
      "  - giflib==5.2.1=h0b31af3_2\n",
      "  - kiwisolver==1.1.0=py36h863e41a_1\n",
      "  - psycopg2==2.8.4=py36hafa8578_1\n",
      "  - pyzmq==19.0.0=py36h820b253_1\n",
      "  - tzcode==2019a=h01d97ff_1002\n",
      "  - readline==8.0=hcfe32e1_0\n",
      "  - openssl==1.1.1f=h0b31af3_0\n",
      "  - statsmodels==0.11.1=py36h37b9a7d_1\n",
      "  - boost-cpp==1.72.0=hdf9ef73_0\n",
      "  - geos==3.8.1=h4a8c4bd_0\n",
      "  - python-levenshtein==0.12.0=py36h0b31af3_1001\n",
      "  - tensorflow-base==1.12.0=mkl_py36h70e0e9a_0\n",
      "  - ncurses==6.1=h0a44026_1002\n",
      "  - matplotlib-base==3.2.0=py36h11da6c2_1\n",
      "  - bzip2==1.0.8=h0b31af3_2\n",
      "  - libllvm8==8.0.1=h770b8ee_0\n",
      "  - appnope==0.1.0=py36h9f0ad1d_1001\n",
      "  - sqlite==3.30.1=h93121df_0\n",
      "  - libffi==3.2.1=h4a8c4bd_1007\n",
      "  - shapely==1.7.0=py36hda0b814_2\n",
      "  - poppler==0.67.0=h16886b5_8\n",
      "  - libedit==3.1.20170329=hcfe32e1_1001\n",
      "  - graphviz==2.42.3=h98dfb87_0\n",
      "  - openjpeg==2.3.1=h254dc36_3\n",
      "  - cffi==1.14.0=py36h356ff06_0\n",
      "  - scipy==1.4.1=py36h82752d6_0\n",
      "  - icu==64.2=h6de7cb9_1\n",
      "  - libsodium==1.0.17=h01d97ff_0\n",
      "  - krb5==1.16.4=h1752a42_0\n",
      "  - gdal==3.0.4=py36h5a1ef21_3\n",
      "  - zlib==1.2.11=h0b31af3_1006\n",
      "  - numba==0.48.0=py36h4f17bb1_0\n",
      "  - h5py==2.10.0=nompi_py36h106b333_102\n",
      "  - freexl==1.0.5=h1de35cc_1002\n",
      "  - scikit-learn==0.20.3=py36hca23c92_1\n",
      "  - libgdal==3.0.4=hec54991_3\n",
      "  - curl==7.68.0=h8754def_0\n",
      "  - pandas==1.0.1=py36h4f17bb1_0\n",
      "  - xerces-c==3.2.2=h8f8adb3_1004\n",
      "  - tornado==6.0.4=py36h37b9a7d_1\n",
      "  - libuv==1.34.0=h0b31af3_0\n",
      "  - mistune==0.8.4=py36h0b31af3_1000\n",
      "  - hdf5==1.10.5=nompi_h3e39495_1104\n",
      "  - tiledb==1.7.0=hd5e958f_2\n",
      "  - libkml==1.3.0=h169b8f9_1011\n",
      "  - gettext==0.19.8.1=h46ab8bc_1002\n",
      "  - libpng==1.6.37=hbbe82c9_1\n",
      "  - sparse_dot_topn==0.2.9=py36h863e41a_0\n",
      "  - libcurl==7.68.0=h709d2b2_0\n",
      "  - fiona==1.8.13=py36he71f6a4_0\n",
      "  - libiconv==1.15=h0b31af3_1006\n",
      "  - tensorflow==1.12.0=mkl_py36h2b2bbaf_0\n",
      "  - cfitsio==3.470=h84d2f63_2\n",
      "  - glib==2.58.3=py36hb0ce7ff_1003\n",
      "  - libtiff==4.1.0=ha78913b_3\n",
      "  - tk==8.6.10=hbbe82c9_0\n",
      "  - sqlalchemy==1.3.13=py36h0b31af3_0\n",
      "  - libpq==12.2=h554dc5a_0\n",
      "  - cairo==1.16.0=hec6a9b0_1003\n",
      "  - fontconfig==2.13.1=h6b1039f_1001\n",
      "  - libprotobuf==3.11.4=hd174df1_0\n",
      "  - numpy==1.18.1=py36hde6bac1_0\n",
      "  - zeromq==4.3.2=h6de7cb9_2\n",
      "  - python==3.6.10=hce46be0_1009_cpython\n",
      "  - freetype==2.10.1=h8da9a1a_0\n",
      "  - postgresql==12.2=h16d8c28_0\n",
      "  - pyrsistent==0.16.0=py36h37b9a7d_0\n",
      "  - geotiff==1.5.1=h4bdff65_9\n",
      "  - hdf4==4.2.13=h84186c3_1003\n",
      "  - pixman==0.38.0=h01d97ff_1003\n",
      "\n",
      "\n",
      "CommandNotFoundError: Your shell has not been properly configured to use 'conda activate'.\n",
      "If your shell is Bash or a Bourne variant, enable conda for the current user with\n",
      "\n",
      "    $ echo \". /usr/local/etc/profile.d/conda.sh\" >> ~/.bashrc\n",
      "\n",
      "or, for all users, enable conda with\n",
      "\n",
      "    $ sudo ln -s /usr/local/etc/profile.d/conda.sh /etc/profile.d/conda.sh\n",
      "\n",
      "The options above will permanently enable the 'conda' command, but they do NOT\n",
      "put conda's base (root) environment on PATH.  To do so, run\n",
      "\n",
      "    $ conda activate\n",
      "\n",
      "in your terminal, or to put the base environment on PATH permanently, run\n",
      "\n",
      "    $ echo \"conda activate\" >> ~/.bashrc\n",
      "\n",
      "Previous to conda 4.4, the recommended way to activate conda was to modify PATH in\n",
      "your ~/.bashrc file.  You should manually remove the line that looks like\n",
      "\n",
      "    export PATH=\"/usr/local/bin:$PATH\"\n",
      "\n",
      "^^^ The above line should NO LONGER be in your ~/.bashrc file! ^^^\n",
      "\n",
      "\n",
      "[nltk_data] Downloading package stopwords to /root/nltk_data...\n",
      "[nltk_data]   Package stopwords is already up-to-date!\n",
      "[nltk_data] Downloading package punkt to /root/nltk_data...\n",
      "[nltk_data]   Package punkt is already up-to-date!\n",
      "fatal: destination path 'rapidsai-csp-utils' already exists and is not an empty directory.\n",
      "PLEASE READ\n",
      "********************************************************************************************************\n",
      "Changes:\n",
      "1. Now that most people have migrated, we have rem0ved the migration notice.\n",
      "2. default stable version is now 0.13.  Nightly is now 0.14\n",
      "3. You can now declare your RAPIDS version as a CLI option and skip the user prompts (ex: '0.13' or '0.14', between 0.11 to 0.14, without the quotes): \n",
      "        \"!bash rapidsai-csp-utils/colab/rapids-colab.sh <version/label>\"\n",
      "        Examples: '!bash rapidsai-csp-utils/colab/rapids-colab.sh 0.13', or '!bash rapidsai-csp-utils/colab/rapids-colab.sh stable', or '!bash rapidsai-csp-utils/colab/rapids-colab.sh s'\n",
      "                  '!bash rapidsai-csp-utils/colab/rapids-colab.sh 0.14, or '!bash rapidsai-csp-utils/colab/rapids-colab.sh nightly', or '!bash rapidsai-csp-utils/colab/rapids-colab.sh n'\n",
      "Enjoy using RAPIDS!\n",
      "RAPIDS Version to install is 0.13\n",
      "Checking for GPU type:\n",
      "***********************************************************************\n",
      "Woo! Your instance has the right kind of GPU, a 'Tesla P100-PCIE-16GB'!\n",
      "***********************************************************************\n",
      "\n",
      "\n",
      "************************************************\n",
      "Your Google Colab instance has RAPIDS installed!\n",
      "************************************************\n",
      "***********************************************************************\n",
      "Let us check on those pyarrow and cffi versions...\n",
      "***********************************************************************\n",
      "\n",
      "unloaded pyarrow 0.14.1\n",
      "unloaded pyarrow 0.14.1\n",
      "unloaded pyarrow 0.14.1\n",
      "unloaded pyarrow 0.14.1\n",
      "unloaded pyarrow 0.14.1\n",
      "unloaded pyarrow 0.14.1\n",
      "unloaded pyarrow 0.14.1\n",
      "unloaded pyarrow 0.14.1\n",
      "unloaded pyarrow 0.14.1\n",
      "unloaded pyarrow 0.14.1\n",
      "unloaded pyarrow 0.14.1\n",
      "unloaded pyarrow 0.14.1\n",
      "loaded pyarrow 0.15.0\n",
      "You're now running pyarrow 0.15.0 and are good to go!\n",
      "unloaded cffi 1.14.0\n",
      "loaded cffi 1.11.5\n"
     ]
    }
   ],
   "source": [
    "import sys,os,subprocess\n",
    "\n",
    "upgrade_runtime_ram()\n",
    "setup_drive()\n",
    "\n",
    "#Setting up PyPi Packages\n",
    "!pip install geopandas sparse-dot-topn pdpipe category-encoders catboost\n",
    "import geopandas as gpd\n",
    "import sparse_dot_topn.sparse_dot_topn as ct\n",
    "import pdpipe as pdp\n",
    "import category_encoders\n",
    "\n",
    "#Setting up Conda Packages\n",
    "setup_conda()\n",
    "\n",
    "#Initializing NLTK\n",
    "import nltk\n",
    "nltk.download('stopwords')\n",
    "nltk.download('punkt')\n",
    "\n",
    "#Setting up RAPIDS AI\n",
    "import pynvml\n",
    "setup_rapids()\n",
    "\n",
    "from cuml import UMAP"
   ]
  },
  {
   "cell_type": "markdown",
   "metadata": {
    "colab_type": "text",
    "id": "Kvn45BG28aqd"
   },
   "source": [
    "## Imports"
   ]
  },
  {
   "cell_type": "code",
   "execution_count": null,
   "metadata": {
    "colab": {},
    "colab_type": "code",
    "id": "IRijjSry8aqf"
   },
   "outputs": [],
   "source": [
    "%matplotlib inline\n",
    "import pandas as pd\n",
    "import numpy as np\n",
    "import matplotlib.pyplot as plt\n",
    "import seaborn as sns\n",
    "from tqdm import tqdm\n",
    "from sklearn.model_selection import GridSearchCV, train_test_split,  KFold\n",
    "from sklearn.pipeline import Pipeline\n",
    "from sklearn.metrics import mean_absolute_error, mean_squared_error, r2_score\n",
    "from sklearn.impute import SimpleImputer\n",
    "from sklearn.compose import ColumnTransformer\n",
    "from sklearn.preprocessing import OneHotEncoder, FunctionTransformer, RobustScaler, MinMaxScaler\n",
    "from sklearn.dummy import DummyRegressor\n",
    "from sklearn.decomposition import PCA\n",
    "from category_encoders import LeaveOneOutEncoder"
   ]
  },
  {
   "cell_type": "code",
   "execution_count": null,
   "metadata": {
    "colab": {},
    "colab_type": "code",
    "id": "u5KwAwAe8aqp"
   },
   "outputs": [],
   "source": [
    "from lib.transformers import *\n",
    "from lib.pipelines import *\n",
    "from lib.processing import save_to_pkl, load_from_pkl\n",
    "from lib.visualization import GridSearchPlotter\n",
    "from data.util.paths import DATA_PATH"
   ]
  },
  {
   "cell_type": "code",
   "execution_count": null,
   "metadata": {
    "colab": {},
    "colab_type": "code",
    "id": "X4_WNHlLW7Lt"
   },
   "outputs": [],
   "source": [
    "from cuml import LinearRegression, Ridge, RandomForestRegressor, UMAP\n",
    "from catboost import CatBoostRegressor"
   ]
  },
  {
   "cell_type": "markdown",
   "metadata": {
    "colab_type": "text",
    "id": "YwJ6GSBC3Qtz"
   },
   "source": [
    "## Loading Data\n",
    "First, we load the dataset that we have prepared in the previous notebook, ``03-DatasetPrep``"
   ]
  },
  {
   "cell_type": "code",
   "execution_count": null,
   "metadata": {
    "colab": {},
    "colab_type": "code",
    "id": "RiNFe3gX3Qtz"
   },
   "outputs": [],
   "source": [
    "metadata_df, image_embeddings_df = tuple(load_from_pkl(i,DATA_PATH) for i in ('metadata','image_embeddings'))\n",
    "df = metadata_df.merge(image_embeddings_df,how='inner',on='release_id')"
   ]
  },
  {
   "cell_type": "markdown",
   "metadata": {
    "colab_type": "text",
    "id": "ebCZT9HhXn6N"
   },
   "source": [
    "After merging, we will take care of additional outliers that need to be addressed, namely for ``number_of_tracks``, ``running_time``, and the UMAP dimensionality reduction outputs, which were discussed in 02-Visualization&Cleaning. ``number_of_tracks`` and ``running_time`` suffer from massive outlier values which skew the distribution of the features and as such must be taken out of contention. For the case of ``running_time``, we remove those albums with that last over 3 hours, in the interest of focusing our attention on albums of a standard length."
   ]
  },
  {
   "cell_type": "code",
   "execution_count": null,
   "metadata": {
    "colab": {},
    "colab_type": "code",
    "id": "kQ_xAFLOXn6O"
   },
   "outputs": [],
   "source": [
    "df = OutlierRemover(features=['number_of_tracks'] + [i for i in df.columns if 'umap' in i]).fit_transform(df[(df['running_time'] < 180) | (df['running_time'].isna())])"
   ]
  },
  {
   "cell_type": "code",
   "execution_count": null,
   "metadata": {
    "colab": {},
    "colab_type": "code",
    "id": "8-JguLVU4_kn"
   },
   "outputs": [],
   "source": [
    "del metadata_df, image_embeddings_df"
   ]
  },
  {
   "cell_type": "code",
   "execution_count": 12,
   "metadata": {
    "colab": {
     "base_uri": "https://localhost:8080/",
     "height": 67,
     "referenced_widgets": [
      "e817db28f8a34e8cbe7e5df3b33ba5f0",
      "49f810eff9e84aeea849986e2b68f290",
      "03cac0f05bcf40309f924e14f45f77f6",
      "b5ad8d6c5cb849d8b296869cbcd4baf3",
      "8ca3616d454d4901905839b5716dd9ec",
      "e2881faccb604c3b8fbdcf74be88d6c7",
      "8e69ab0ca92f4bccbf7e52b9bc1b23f2",
      "a613fcefe96d49a7a669ff2ae81fe6ae"
     ]
    },
    "colab_type": "code",
    "id": "1hbzpOTylHCB",
    "outputId": "e28eb1e0-deb1-47bd-87f5-fed2b90e50a3"
   },
   "outputs": [
    {
     "data": {
      "application/vnd.jupyter.widget-view+json": {
       "model_id": "e817db28f8a34e8cbe7e5df3b33ba5f0",
       "version_major": 2,
       "version_minor": 0
      },
      "text/plain": [
       "HBox(children=(FloatProgress(value=0.0, max=7.0), HTML(value='')))"
      ]
     },
     "metadata": {
      "tags": []
     },
     "output_type": "display_data"
    },
    {
     "name": "stdout",
     "output_type": "stream",
     "text": [
      "\n"
     ]
    }
   ],
   "source": [
    "col_set = {\n",
    "    'format': {\n",
    "        'description': 'format_description_', \n",
    "        'name': 'format_name_', \n",
    "        'text': ('format_text_clean'),\n",
    "        'quantity': ('format_quantity')\n",
    "    },\n",
    "    'geography': {\n",
    "        'superregion': 'superregion_',\n",
    "        'region': 'region_',\n",
    "        'country': 'country_'\n",
    "    },\n",
    "    'timeperiod': {\n",
    "        'period': 'period_',\n",
    "        'era': 'era_'\n",
    "    },\n",
    "    'style': 'style_',\n",
    "    'null': None,\n",
    "    'indicator': lambda x: x.max() == 1 and x.min() == 0,\n",
    "    'image_embedding': 'image_umap_'\n",
    "}\n",
    "column_store = ColumnStore()\n",
    "column_store.fit(df,col_set)"
   ]
  },
  {
   "cell_type": "markdown",
   "metadata": {
    "colab_type": "text",
    "id": "Gz00X-1E8arN"
   },
   "source": [
    "## Preparing for Machine Learning\n",
    "Next, we split our dataset, ``df``, into train and test sets, which is crucial for the training and ultimate evaluation of the machine learning models we will build in this notebook. We also apply an imputation of missing values for the ``average_rating`` feature at this stage. Since we are relying on the mean for the imputation of ``average_rating`` and ``running_time``, it is crucial that this step is taken after the splitting of train and test datasets, in order to avoid datapoints from the test set influencing the values of predictors we are using to build our models. We also choose to apply additional imputation steps here for ``units_for_sale`` and ``artist`` as making use of the SimpleImputer within our pipelines would compromise the format of our data."
   ]
  },
  {
   "cell_type": "code",
   "execution_count": null,
   "metadata": {
    "colab": {},
    "colab_type": "code",
    "id": "7hLwsGal8arO"
   },
   "outputs": [],
   "source": [
    "X_tr, X_te, y_tr, y_te = train_test_split(df.drop('market_value',axis=1),df.market_value,random_state=0)"
   ]
  },
  {
   "cell_type": "code",
   "execution_count": null,
   "metadata": {
    "colab": {},
    "colab_type": "code",
    "id": "dXpwfIAIfudu"
   },
   "outputs": [],
   "source": [
    "units_for_sale_imputer = SimpleImputer(strategy='constant',fill_value=0)\n",
    "average_rating_imputer = SimpleImputer(strategy='mean')\n",
    "running_time_imputer = RunningTimeImputer('running_time','number_of_tracks')"
   ]
  },
  {
   "cell_type": "code",
   "execution_count": null,
   "metadata": {
    "colab": {},
    "colab_type": "code",
    "id": "nb5EhuF_fukB"
   },
   "outputs": [],
   "source": [
    "X_tr['units_for_sale'] = units_for_sale_imputer.fit_transform(X_tr['units_for_sale'].values.reshape(-1,1))\n",
    "X_te['units_for_sale'] = units_for_sale_imputer.transform(X_te['units_for_sale'].values.reshape(-1,1))\n",
    "\n",
    "X_tr['average_rating'] = average_rating_imputer.fit_transform(X_tr['average_rating'].values.reshape(-1,1))\n",
    "X_te['average_rating'] = average_rating_imputer.transform(X_te['average_rating'].values.reshape(-1,1))\n",
    "\n",
    "X_tr['artist'] = X_tr['artist'].replace({np.nan:'Unknown'})\n",
    "X_te['artist'] = X_te['artist'].replace({np.nan:'Unknown'})\n",
    "\n",
    "X_tr = running_time_imputer.fit_transform(X_tr)\n",
    "X_te = running_time_imputer.transform(X_te)"
   ]
  },
  {
   "cell_type": "markdown",
   "metadata": {
    "colab_type": "text",
    "id": "1vGxmYxjwOsU"
   },
   "source": [
    "Finally, as we are dealing with a fairly high dimensional dataset, we create a smaller training dataset for the purposes of tuning the hyperparameters of the more sophisticated algorithms we are testing in this notebook. This will allow us to iterate quickly in the process of tuning our hyperparameters."
   ]
  },
  {
   "cell_type": "code",
   "execution_count": null,
   "metadata": {
    "colab": {},
    "colab_type": "code",
    "id": "0C52Gl1ngdey"
   },
   "outputs": [],
   "source": [
    "df_sample = pd.concat([X_tr,y_tr],axis=1).sample(frac=0.1)\n",
    "X_tr_sample = df_sample.drop('market_value',axis=1)\n",
    "y_tr_sample = df_sample['market_value']"
   ]
  },
  {
   "cell_type": "markdown",
   "metadata": {
    "colab_type": "text",
    "id": "pk_qZ4Lu947Y"
   },
   "source": [
    "## Setting up Dummy Regression for baseline\n",
    "In order to be able to interpret the results we obtain from our models, we must first set a benchmark which we expect our models to surpass. In our case, we will be employing the sci-kit learn DummyRegressor using the 'mean' strategy, and use this to calculate the baseline values for R2 and Mean Absolute Error, our evaluation of metrics of choice in this project."
   ]
  },
  {
   "cell_type": "code",
   "execution_count": null,
   "metadata": {
    "colab": {},
    "colab_type": "code",
    "id": "tTWU4_un6lR2"
   },
   "outputs": [],
   "source": [
    "dummy_regressor = DummyRegressor(strategy='mean')\n",
    "dummy_regressor.fit(X_tr,np.log(y_tr).values)\n",
    "dummy_pred = dummy_regressor.predict(X_te)"
   ]
  },
  {
   "cell_type": "markdown",
   "metadata": {
    "colab_type": "text",
    "id": "fe5CqeDowOsg"
   },
   "source": [
    "First, we will naively evaluate the performance of our dummy regressor by calculating the Mean Absolute Error using our predictions and the log of the ``market_value`` feature of our test set. The Mean Absolute Error (MAE) is an interpretable metric which will allow us to evaluate the error of our models in terms of the deviation from the actual price of each sample on average. For the prediction of a straightforward target feature such as ``market_value``, this is an attractive property, as it will allow us to more uniquely understand whether our models are at all useful.\n",
    "\n",
    "The results from our evaluation below cannot, however, be interpreted as one would normally interpret a Mean Absolute Error for an untransformed target feature. As we have log-linearized the target feature, the Mean Absolute Error in this case does not represent the mean difference in prediction we can expect from our model with respect to the actual value of the untransformed target variable, which we seek in this case in order to be able to interpret the quality of the model with respect how far it is from predicting the true price of a given Jazz album. To do so, we must exponentiate the predictions of our model and evaluate these with respect to the untransformed target feature values, which allows us to interpret the performance of the model in terms of mean deviation of the model from the actual album value using price as the denomination.  This practice of exponentiating our predictions and comparing these to the untransformed values of our test set will be continued throughout this notebook, and will be key in evaluating whether or not our models can be said to be performant predictors of Jazz album market value."
   ]
  },
  {
   "cell_type": "code",
   "execution_count": 18,
   "metadata": {
    "colab": {
     "base_uri": "https://localhost:8080/",
     "height": 35
    },
    "colab_type": "code",
    "id": "B72oe-r3wOsl",
    "outputId": "fb4c5254-7e79-4e4e-d3a6-6d7672f6be1f"
   },
   "outputs": [
    {
     "data": {
      "text/plain": [
       "0.6766211625215447"
      ]
     },
     "execution_count": 18,
     "metadata": {
      "tags": []
     },
     "output_type": "execute_result"
    }
   ],
   "source": [
    "mean_absolute_error(np.log(y_te),dummy_pred)"
   ]
  },
  {
   "cell_type": "code",
   "execution_count": 19,
   "metadata": {
    "colab": {
     "base_uri": "https://localhost:8080/",
     "height": 35
    },
    "colab_type": "code",
    "id": "Gw0h8_hCC4x4",
    "outputId": "6e8690e8-4c83-4e64-fafd-b546aa0317d7"
   },
   "outputs": [
    {
     "data": {
      "text/plain": [
       "10.459482332297192"
      ]
     },
     "execution_count": 19,
     "metadata": {
      "tags": []
     },
     "output_type": "execute_result"
    }
   ],
   "source": [
    "dummy_mae = mean_absolute_error(y_te,np.exp(dummy_pred))\n",
    "dummy_mae"
   ]
  },
  {
   "cell_type": "markdown",
   "metadata": {
    "colab_type": "text",
    "id": "wxbe3WY85mgm"
   },
   "source": [
    "The results above show that the fit of the DummyRegressor is very poor, with a negative R2 indicating that the fit of the model performs worse than simply predicting the mean for the test set. The accompanying MAE is quite high, indicating that the average magnitude of the error of its predictions is 10.43 USD. Clearly, any acceptable model must significantly improve on the values for these metrics."
   ]
  },
  {
   "cell_type": "markdown",
   "metadata": {
    "colab_type": "text",
    "id": "Jaxlunt2wOsv"
   },
   "source": [
    "## Model Roadmap\n",
    "In what follows, we will be attempting to predict the ``market_value`` of Jazz Album on the basis of their non-musical characteristics, using models built with the help of machine learning algorithms. For this analysis, we will be making use of the following machine learning algorithms to build our models:\n",
    "- Linear Regression\n",
    "- Ridge Regression\n",
    "- Random Forest\n",
    "- CatBoost\n",
    "\n",
    "In so doing, we will also try to identify the difference in predictive power that a model built with full-information, or all available features, has in comparison to a model built only using those features that are ostensibly available for evaluation by patrons of record stores. As such, we will be building two models each to predict ``market_value`` using the machine learning algorithms identified above, in order to test whether the information that record store patrons lack significantly inhibits their ability to make a prediction of the ``market_value`` of a given Jazz album."
   ]
  },
  {
   "cell_type": "markdown",
   "metadata": {
    "colab_type": "text",
    "id": "DPdcZGEowOsw"
   },
   "source": [
    "## Linear Regression\n",
    "For our first pair of models, we will use Linear Regression. Linear Regression is a simple model which lends itself well to quickly establishing a non-dummy baseline to better understand the possible performance of our final and preferred model. The ``cuml`` implementation of this estimator has few hyperparameters to tune, and is quick to build."
   ]
  },
  {
   "cell_type": "markdown",
   "metadata": {
    "colab_type": "text",
    "id": "DYJYPpPP-AaC"
   },
   "source": [
    "## Linear Regression - Record Store\n",
    "To build and evaluate our Linear Regression model for the 'Record Store' scenario, we will create a pipeline which applies the transformations necessary to prepare the dataset for the application of this algorithm. This pipeline forms the basis for the transformations we will apply throughout this notebook, in particular for the Ridge Regression algorithm. \n",
    "\n",
    "The processing pipeline follows the following steps:\n",
    "1. Encoding categorical features with high cardinality using Leave One Out Encoding\n",
    "    - In order to be able to benefit from the information encoded within the categorical features of ``artist``, ``label``, ``format_text`` and ``master_id``, we make use of Leave One Out Encoding\n",
    "    - This approach to categorical feature encoding is beneficial for the purposes of this project as it helps keep the dimensionality of our dataset from exploding via similar techniques such as OneHotEncoding, while still being able to exploit the relationship between the given feature and the target variable\n",
    "    - Leave One Out Encoding effectively does so by calculating the mean of the target feature for all the records containing a given value for each categorical feature being encoded.\n",
    "2. Removing Unnecessary/Inappropriate Columns\n",
    "    - As has been outlined previously, in this step of our analysis, we aim to predict the ``market_value`` of a given Jazz album using only those non-musical attributes which are ostensibly available for evaluation by record store patrons\n",
    "    - As such, we remove those features pertaining to the Full Information scenario, as well as non-encoded features that will not be leveraged for estimation, such as ``track_titles`` and ``thumb_url``\n",
    "3. Encoding of ``year``\n",
    "    - Following best practices, we one hot encode the ``year`` feature, in order to reinforce its status as a categorical, not numerical feature.\n",
    "4. Standardization\n",
    "    - Following best practices, we standardize the features used for the prediction of ``market_value``\n",
    "5. Normalization\n",
    "    - In order to mitigate the impact of scale differences on our results, we normalize the range of our features to lie between 0 and 1\n",
    "\n",
    "Finally, we construct the ``record_store_lr_pipe``, which applies the aforementioned transformation pipeline and the Linear Regression algorithm we have discussed previously. As the ``cuml`` implementation offers no relevant hyperparameters to tune, we make use of the estimator as is. The use of GridSearch in the estimator is superfluous in this instance, as we are not searching over a hyperparameter space, but is useful for the natively supported cross validation, which we use to get an understanding of the performance of our model."
   ]
  },
  {
   "cell_type": "code",
   "execution_count": null,
   "metadata": {
    "colab": {},
    "colab_type": "code",
    "id": "sRH_P30fEM-W"
   },
   "outputs": [],
   "source": [
    "record_store_regression_removal_columns = set([\n",
    "    'market_price','units_for_sale','have','want','average_rating','rating_count','last_sold','lowest','median',\n",
    "    'highest','track_titles','country','genre','style','community_have','community_want','formats','thumb_url',\n",
    "    'release_url','format_description','title', 'release_id','master_id'\n",
    "])\n",
    "\n",
    "record_store_regression_transformer = ColumnTransformer(transformers=[\n",
    "  ('one_hot_encoding', OneHotEncoder(dtype=np.uint8,handle_unknown='ignore'), ['year']),\n",
    "], remainder='passthrough')\n",
    "\n",
    "record_store_regression_processing = Pipeline([\n",
    "    ('leave_one_out_encoding', LeaveOneOutEncoder(cols=['artist','label','format_text','master_id','format_name'])),\n",
    "    ('record_store_column_remover', ColumnRemover(record_store_regression_removal_columns)),\n",
    "    ('preprocessing',record_store_regression_transformer),\n",
    "    ('scaler', RobustScaler()),\n",
    "    ('normalize', MinMaxScaler())                \n",
    "])\n",
    "\n",
    "record_store_lr_pipe = Pipeline([\n",
    "    ('processing', record_store_regression_processing),\n",
    "    ('lr', GridSearchCV(\n",
    "        LinearRegression(),\n",
    "        param_grid={\n",
    "            'normalize': [False]\n",
    "        },\n",
    "        cv=KFold(n_splits=5,shuffle=True),\n",
    "        scoring='neg_mean_absolute_error',\n",
    "        verbose=5,\n",
    "        n_jobs=-1,\n",
    "    ))\n",
    "])"
   ]
  },
  {
   "cell_type": "code",
   "execution_count": 21,
   "metadata": {
    "colab": {
     "base_uri": "https://localhost:8080/",
     "height": 557
    },
    "colab_type": "code",
    "id": "0ymJQSm8RuUn",
    "outputId": "5a523ae6-6140-4a01-9583-93a603137c3d"
   },
   "outputs": [
    {
     "name": "stdout",
     "output_type": "stream",
     "text": [
      "Fitting 5 folds for each of 1 candidates, totalling 5 fits\n"
     ]
    },
    {
     "name": "stderr",
     "output_type": "stream",
     "text": [
      "[Parallel(n_jobs=-1)]: Using backend LokyBackend with 4 concurrent workers.\n",
      "[Parallel(n_jobs=-1)]: Done   2 out of   5 | elapsed:    6.9s remaining:   10.3s\n",
      "[Parallel(n_jobs=-1)]: Done   5 out of   5 | elapsed:    7.2s finished\n",
      "/usr/local/lib/python3.6/site-packages/cuml/utils/input_utils.py:188: UserWarning: Expected column ('F') major order, but got the opposite. Converting data, this will result in additional memory utilization.\n",
      "  warnings.warn(\"Expected \" + order_to_str(order) + \" major order, \"\n"
     ]
    },
    {
     "data": {
      "text/plain": [
       "Pipeline(memory=None,\n",
       "         steps=[('processing',\n",
       "                 Pipeline(memory=None,\n",
       "                          steps=[('leave_one_out_encoding',\n",
       "                                  LeaveOneOutEncoder(cols=['artist', 'label',\n",
       "                                                           'format_text',\n",
       "                                                           'master_id',\n",
       "                                                           'format_name'],\n",
       "                                                     drop_invariant=False,\n",
       "                                                     handle_missing='value',\n",
       "                                                     handle_unknown='value',\n",
       "                                                     random_state=None,\n",
       "                                                     return_df=True, sigma=None,\n",
       "                                                     verbose=0)),\n",
       "                                 ('record_store_column_remover',\n",
       "                                  ColumnRemover(rem...\n",
       "                              estimator=LinearRegression(algorithm='eig', fit_intercept=True, normalize=False, handle=<cuml.common.handle.Handle object at 0x7f167c755bf0>, verbose=False, output_type='input'),\n",
       "                              iid='deprecated', n_jobs=-1,\n",
       "                              param_grid={'normalize': [False]},\n",
       "                              pre_dispatch='2*n_jobs', refit=True,\n",
       "                              return_train_score=False,\n",
       "                              scoring='neg_mean_absolute_error', verbose=5))],\n",
       "         verbose=False)"
      ]
     },
     "execution_count": 21,
     "metadata": {
      "tags": []
     },
     "output_type": "execute_result"
    }
   ],
   "source": [
    "record_store_lr_pipe.fit(X_tr,np.log(y_tr).values)"
   ]
  },
  {
   "cell_type": "code",
   "execution_count": 22,
   "metadata": {
    "colab": {
     "base_uri": "https://localhost:8080/",
     "height": 35
    },
    "colab_type": "code",
    "id": "bVqYCgf9EMzZ",
    "outputId": "35211b3f-c675-4370-e462-0dcb33a02a55"
   },
   "outputs": [
    {
     "data": {
      "text/plain": [
       "-0.515011462658103"
      ]
     },
     "execution_count": 22,
     "metadata": {
      "tags": []
     },
     "output_type": "execute_result"
    }
   ],
   "source": [
    "record_store_lr_pipe.steps[-1][-1].best_score_"
   ]
  },
  {
   "cell_type": "markdown",
   "metadata": {
    "colab_type": "text",
    "id": "kEOfpr37wOs7"
   },
   "source": [
    "After performing grid search, we see that our model performs better than our baseline in terms of its negative mean absolute error, which we will now evaluate against the test set by exponentiating our model predictions in order to obtain a clearer picture of the scale of its error."
   ]
  },
  {
   "cell_type": "code",
   "execution_count": 23,
   "metadata": {
    "colab": {
     "base_uri": "https://localhost:8080/",
     "height": 73
    },
    "colab_type": "code",
    "id": "W6IhcYpqEMuK",
    "outputId": "c82e839f-77a2-4526-e9ce-9bd6eacca02a"
   },
   "outputs": [
    {
     "name": "stderr",
     "output_type": "stream",
     "text": [
      "/usr/local/lib/python3.6/site-packages/cuml/utils/input_utils.py:188: UserWarning: Expected column ('F') major order, but got the opposite. Converting data, this will result in additional memory utilization.\n",
      "  warnings.warn(\"Expected \" + order_to_str(order) + \" major order, \"\n"
     ]
    }
   ],
   "source": [
    "record_store_lr_pred = record_store_lr_pipe.predict(X_te)"
   ]
  },
  {
   "cell_type": "code",
   "execution_count": 24,
   "metadata": {
    "colab": {
     "base_uri": "https://localhost:8080/",
     "height": 35
    },
    "colab_type": "code",
    "id": "opzrKU8LE5DR",
    "outputId": "d648b2e3-2162-4b22-ecd0-16b41ba3a66f"
   },
   "outputs": [
    {
     "data": {
      "text/plain": [
       "8.78850952116627"
      ]
     },
     "execution_count": 24,
     "metadata": {
      "tags": []
     },
     "output_type": "execute_result"
    }
   ],
   "source": [
    "record_store_lr_mae = mean_absolute_error(y_te,np.exp(record_store_lr_pred))\n",
    "record_store_lr_mae"
   ]
  },
  {
   "cell_type": "code",
   "execution_count": null,
   "metadata": {
    "colab": {},
    "colab_type": "code",
    "id": "AOTBf0olni69"
   },
   "outputs": [],
   "source": [
    "def print_results(algorithm,algorithm_mae,baseline,baseline_mae):\n",
    "  mae_diff = algorithm_mae - baseline_mae\n",
    "\n",
    "  print(f'{algorithm} performance wrt {baseline} is: \\nMAE: {np.round(mae_diff,3)}')"
   ]
  },
  {
   "cell_type": "code",
   "execution_count": 26,
   "metadata": {
    "colab": {
     "base_uri": "https://localhost:8080/",
     "height": 53
    },
    "colab_type": "code",
    "id": "iyAAuRZUrGFE",
    "outputId": "806b3bdc-30fd-498d-beec-10f085ae9b23"
   },
   "outputs": [
    {
     "name": "stdout",
     "output_type": "stream",
     "text": [
      "Linear Regression performance wrt Dummy Regressor is: \n",
      "MAE: -1.671\n"
     ]
    }
   ],
   "source": [
    "print_results('Linear Regression',record_store_lr_mae,'Dummy Regressor',dummy_mae)"
   ]
  },
  {
   "cell_type": "markdown",
   "metadata": {
    "colab_type": "text",
    "id": "VJMy1wkkwOtG"
   },
   "source": [
    "In comparison to our baseline model, we see there has been a clear improvement in performance using the Linear Regression model, with the R2 venturing into positive territory and the Mean Absolute Error decreasing by just over 2 USD. However, despite this improvement in performance, the linear regression model cannot be argued to be a reliable model in the prediction of Jazz album market value, with a very large deviation from the price of a given record and an altogether poor evaluation of its fit as per the R2. As this is our best performing algorithm thus far, it will henceforth be used as the benchmark for following evaluations of algorithms.\n",
    "\n",
    "As a next step, we will investigate whether the inclusion of the Full Information suite of features will improve the performance for this algorithm."
   ]
  },
  {
   "cell_type": "markdown",
   "metadata": {
    "colab_type": "text",
    "id": "JwtgnOdrk1hP"
   },
   "source": [
    "## Linear Regression - Full Information\n",
    "In comparison to the previous model, we make only a small change to the pipeline that builds the Linear Regression model for the Full Information scenario. By retaining the features of ``unit_for_sale``, ``community_have``, ``community_want``, ``average_rating`` and ``rating_count``, we incorporate the broader scope of information available to us by using the Discogs.com platform information. In what follows, we attempt to identify whether this makes a substantive difference in the prediction of the ``market_value`` target feature for Jazz albums within the Linear Regression framework."
   ]
  },
  {
   "cell_type": "code",
   "execution_count": null,
   "metadata": {
    "colab": {},
    "colab_type": "code",
    "id": "lddHv-fzk1hX"
   },
   "outputs": [],
   "source": [
    "full_information_regression_transformer = ColumnTransformer(transformers=[\n",
    "    ('year_encoder', OneHotEncoder(dtype=np.uint8,handle_unknown='ignore'), ['year'])\n",
    "], remainder='passthrough')\n",
    "\n",
    "full_information_columns = set([\n",
    "    'units_for_sale','community_have','community_want','average_rating','rating_count'\n",
    "])\n",
    "full_information_regression_removal_columns = record_store_regression_removal_columns - full_information_columns\n",
    "\n",
    "full_information_regression_processing = Pipeline([\n",
    "    ('leave_one_out_encoding', LeaveOneOutEncoder(cols=['artist','label','format_text','master_id','format_name'])),\n",
    "    ('record_store_column_remover', ColumnRemover(full_information_regression_removal_columns)),\n",
    "    ('preprocessing',full_information_regression_transformer),\n",
    "    ('scaler', RobustScaler()),\n",
    "    ('normalize', MinMaxScaler())\n",
    "])\n",
    "\n",
    "full_information_lr_pipe = Pipeline([\n",
    "    ('processing', full_information_regression_processing),\n",
    "    ('lr', GridSearchCV(\n",
    "        LinearRegression(),\n",
    "        param_grid={\n",
    "            'normalize':[False,True]\n",
    "        },\n",
    "        cv=KFold(n_splits=5,shuffle=True),\n",
    "        scoring='neg_mean_absolute_error',\n",
    "        verbose=5,\n",
    "        n_jobs=-1,\n",
    "    ))\n",
    "])"
   ]
  },
  {
   "cell_type": "code",
   "execution_count": 28,
   "metadata": {
    "colab": {
     "base_uri": "https://localhost:8080/",
     "height": 557
    },
    "colab_type": "code",
    "id": "GIxWE4WUk1hb",
    "outputId": "34831364-3ff8-4515-ffba-825ce5fdbafb"
   },
   "outputs": [
    {
     "name": "stdout",
     "output_type": "stream",
     "text": [
      "Fitting 5 folds for each of 2 candidates, totalling 10 fits\n"
     ]
    },
    {
     "name": "stderr",
     "output_type": "stream",
     "text": [
      "[Parallel(n_jobs=-1)]: Using backend LokyBackend with 4 concurrent workers.\n",
      "[Parallel(n_jobs=-1)]: Done   6 out of  10 | elapsed:    1.1s remaining:    0.7s\n",
      "[Parallel(n_jobs=-1)]: Done  10 out of  10 | elapsed:    1.3s finished\n",
      "/usr/local/lib/python3.6/site-packages/cuml/utils/input_utils.py:188: UserWarning: Expected column ('F') major order, but got the opposite. Converting data, this will result in additional memory utilization.\n",
      "  warnings.warn(\"Expected \" + order_to_str(order) + \" major order, \"\n"
     ]
    },
    {
     "data": {
      "text/plain": [
       "Pipeline(memory=None,\n",
       "         steps=[('processing',\n",
       "                 Pipeline(memory=None,\n",
       "                          steps=[('leave_one_out_encoding',\n",
       "                                  LeaveOneOutEncoder(cols=['artist', 'label',\n",
       "                                                           'format_text',\n",
       "                                                           'master_id',\n",
       "                                                           'format_name'],\n",
       "                                                     drop_invariant=False,\n",
       "                                                     handle_missing='value',\n",
       "                                                     handle_unknown='value',\n",
       "                                                     random_state=None,\n",
       "                                                     return_df=True, sigma=None,\n",
       "                                                     verbose=0)),\n",
       "                                 ('record_store_column_remover',\n",
       "                                  ColumnRemover(rem...\n",
       "                              estimator=LinearRegression(algorithm='eig', fit_intercept=True, normalize=False, handle=<cuml.common.handle.Handle object at 0x7f166e4c6390>, verbose=False, output_type='input'),\n",
       "                              iid='deprecated', n_jobs=-1,\n",
       "                              param_grid={'normalize': [False, True]},\n",
       "                              pre_dispatch='2*n_jobs', refit=True,\n",
       "                              return_train_score=False,\n",
       "                              scoring='neg_mean_absolute_error', verbose=5))],\n",
       "         verbose=False)"
      ]
     },
     "execution_count": 28,
     "metadata": {
      "tags": []
     },
     "output_type": "execute_result"
    }
   ],
   "source": [
    "full_information_lr_pipe.fit(X_tr,np.log(y_tr).values)"
   ]
  },
  {
   "cell_type": "code",
   "execution_count": 29,
   "metadata": {
    "colab": {
     "base_uri": "https://localhost:8080/",
     "height": 35
    },
    "colab_type": "code",
    "id": "zK4yVrywk1hf",
    "outputId": "10a95e23-48e7-4edb-e7e3-038bbbd273df"
   },
   "outputs": [
    {
     "data": {
      "text/plain": [
       "-0.48109403900427045"
      ]
     },
     "execution_count": 29,
     "metadata": {
      "tags": []
     },
     "output_type": "execute_result"
    }
   ],
   "source": [
    "full_information_lr_pipe['lr'].best_score_"
   ]
  },
  {
   "cell_type": "markdown",
   "metadata": {
    "colab_type": "text",
    "id": "oIqje5QfwOtT"
   },
   "source": [
    "Compared to the results we obtained on the cross validation of the Linear Regression model under the Record Store scenario, we observe a small increase of around 0.05 in the negative mean absolute error. Next we will identify to what extent this improvement is reflected by evaluating our model on the test set."
   ]
  },
  {
   "cell_type": "code",
   "execution_count": 30,
   "metadata": {
    "colab": {
     "base_uri": "https://localhost:8080/",
     "height": 73
    },
    "colab_type": "code",
    "id": "lK9EGfANk1hk",
    "outputId": "91201296-1ac5-48d8-ac1e-a67fa285b072"
   },
   "outputs": [
    {
     "name": "stderr",
     "output_type": "stream",
     "text": [
      "/usr/local/lib/python3.6/site-packages/cuml/utils/input_utils.py:188: UserWarning: Expected column ('F') major order, but got the opposite. Converting data, this will result in additional memory utilization.\n",
      "  warnings.warn(\"Expected \" + order_to_str(order) + \" major order, \"\n"
     ]
    }
   ],
   "source": [
    "full_information_lr_pred = record_store_lr_pipe.predict(X_te)"
   ]
  },
  {
   "cell_type": "code",
   "execution_count": 31,
   "metadata": {
    "colab": {
     "base_uri": "https://localhost:8080/",
     "height": 35
    },
    "colab_type": "code",
    "id": "sHCTKQZhk1hq",
    "outputId": "14d8b506-3ed8-4dc8-97d4-94e512547bf5"
   },
   "outputs": [
    {
     "data": {
      "text/plain": [
       "8.78850952116627"
      ]
     },
     "execution_count": 31,
     "metadata": {
      "tags": []
     },
     "output_type": "execute_result"
    }
   ],
   "source": [
    "full_information_lr_mae = mean_absolute_error(y_te,np.exp(full_information_lr_pred))\n",
    "full_information_lr_mae"
   ]
  },
  {
   "cell_type": "code",
   "execution_count": 32,
   "metadata": {
    "colab": {
     "base_uri": "https://localhost:8080/",
     "height": 53
    },
    "colab_type": "code",
    "id": "zbjETPLvraMj",
    "outputId": "c1c231de-c934-47a6-a9bf-2436b3155b44"
   },
   "outputs": [
    {
     "name": "stdout",
     "output_type": "stream",
     "text": [
      "Linear Regression (FI) performance wrt Linear Regression (RS) is: \n",
      "MAE: 0.0\n"
     ]
    }
   ],
   "source": [
    "print_results('Linear Regression (FI)',full_information_lr_mae,'Linear Regression (RS)',record_store_lr_mae)"
   ]
  },
  {
   "cell_type": "markdown",
   "metadata": {
    "colab_type": "text",
    "id": "P3iNwNMSwOtc"
   },
   "source": [
    "Comparing the results of the Record Store and Full Information scenarios, we see no improvement in the performance of the model on the held out test set, as the scores maintain the same values in each case. This seems to indicate that the informative value of the Full Information Scenario features is nill within the Linear Regression framework."
   ]
  },
  {
   "cell_type": "markdown",
   "metadata": {
    "colab_type": "text",
    "id": "Qr2uI56yk1hu"
   },
   "source": [
    "## Ridge Regression\n",
    "The next algorithm we will consider in our attempt to predict the ``market_value`` of Jazz albums is the Ridge Regression. It is an offshoot algorithm of Linear Regression, differentiating itself by making use of L2 Regularization as a means of avoiding overfitting. Ridge Regression is often used as an alternative to Linear Regression, and is generally associated with stronger performances.\n",
    "\n",
    "## Ridge Regression - Record Store\n",
    "As Ridge Regression operates under the same constraints as Linear Regression, we can make use of the previously defined ``record_store_regression_processing`` pipeline in creating our Ridge Regression training and evaluation pipeline. In this case, we simply replace the Linear Regression in our GridSearchCV step with Ridge Regression, but now also search over the space of the ``alpha`` hyperparameter, which controls the regularization strength of the Ridge Regression algorithm."
   ]
  },
  {
   "cell_type": "code",
   "execution_count": null,
   "metadata": {
    "colab": {},
    "colab_type": "code",
    "id": "BP1pxaQ18arp"
   },
   "outputs": [],
   "source": [
    "record_store_ridge_pipe = Pipeline([\n",
    "    ('processing', record_store_regression_processing),\n",
    "    ('ridge', GridSearchCV(\n",
    "        Ridge(normalize=False,solver='eig'),\n",
    "        param_grid={\n",
    "            'alpha': np.logspace(-4,-1,10),\n",
    "        },\n",
    "        cv=KFold(n_splits=5,shuffle=True),\n",
    "        scoring='neg_mean_absolute_error',\n",
    "        verbose=5,\n",
    "        n_jobs=-1,\n",
    "        return_train_score=True\n",
    "    ))\n",
    "])"
   ]
  },
  {
   "cell_type": "code",
   "execution_count": 34,
   "metadata": {
    "colab": {
     "base_uri": "https://localhost:8080/",
     "height": 575
    },
    "colab_type": "code",
    "id": "edNLg2KryH4q",
    "outputId": "e9cbadce-0716-4f09-d4a8-66487bfa71b2"
   },
   "outputs": [
    {
     "name": "stdout",
     "output_type": "stream",
     "text": [
      "Fitting 5 folds for each of 10 candidates, totalling 50 fits\n"
     ]
    },
    {
     "name": "stderr",
     "output_type": "stream",
     "text": [
      "[Parallel(n_jobs=-1)]: Using backend LokyBackend with 4 concurrent workers.\n",
      "[Parallel(n_jobs=-1)]: Done  10 tasks      | elapsed:    1.9s\n",
      "[Parallel(n_jobs=-1)]: Done  50 out of  50 | elapsed:    6.5s finished\n",
      "/usr/local/lib/python3.6/site-packages/cuml/utils/input_utils.py:188: UserWarning: Expected column ('F') major order, but got the opposite. Converting data, this will result in additional memory utilization.\n",
      "  warnings.warn(\"Expected \" + order_to_str(order) + \" major order, \"\n"
     ]
    },
    {
     "data": {
      "text/plain": [
       "Pipeline(memory=None,\n",
       "         steps=[('processing',\n",
       "                 Pipeline(memory=None,\n",
       "                          steps=[('leave_one_out_encoding',\n",
       "                                  LeaveOneOutEncoder(cols=['artist', 'label',\n",
       "                                                           'format_text',\n",
       "                                                           'master_id',\n",
       "                                                           'format_name'],\n",
       "                                                     drop_invariant=False,\n",
       "                                                     handle_missing='value',\n",
       "                                                     handle_unknown='value',\n",
       "                                                     random_state=None,\n",
       "                                                     return_df=True, sigma=None,\n",
       "                                                     verbose=0)),\n",
       "                                 ('record_store_column_remover',\n",
       "                                  ColumnRemover(rem...\n",
       "                              estimator=Ridge(alpha=1.0, solver='eig', fit_intercept=True, normalize=False, handle=<cuml.common.handle.Handle object at 0x7f166e4dc990>, output_type='input'),\n",
       "                              iid='deprecated', n_jobs=-1,\n",
       "                              param_grid={'alpha': array([0.0001    , 0.00021544, 0.00046416, 0.001     , 0.00215443,\n",
       "       0.00464159, 0.01      , 0.02154435, 0.04641589, 0.1       ])},\n",
       "                              pre_dispatch='2*n_jobs', refit=True,\n",
       "                              return_train_score=True,\n",
       "                              scoring='neg_mean_absolute_error', verbose=5))],\n",
       "         verbose=False)"
      ]
     },
     "execution_count": 34,
     "metadata": {
      "tags": []
     },
     "output_type": "execute_result"
    }
   ],
   "source": [
    "record_store_ridge_pipe.fit(X_tr,np.log(y_tr).values)"
   ]
  },
  {
   "cell_type": "markdown",
   "metadata": {
    "colab_type": "text",
    "id": "imyqAF_W_B-S"
   },
   "source": [
    "In order to get a better sense of the manner in which the magnitude of the `alpha` hyperparameter impacts the Mean Absolute Error of the model, we use the GridSearchPlotter class, which plots the scores obtained over the range of hyperparameter values tested."
   ]
  },
  {
   "cell_type": "code",
   "execution_count": null,
   "metadata": {
    "colab": {},
    "colab_type": "code",
    "id": "z7tlJO3u-Tl4"
   },
   "outputs": [],
   "source": [
    "plotter = GridSearchPlotter(record_store_ridge_pipe['ridge'])"
   ]
  },
  {
   "cell_type": "code",
   "execution_count": 36,
   "metadata": {
    "colab": {
     "base_uri": "https://localhost:8080/",
     "height": 295
    },
    "colab_type": "code",
    "id": "jla1YIhr-TgT",
    "outputId": "12ab3aa7-8bc9-40b2-b885-191dec59798e"
   },
   "outputs": [
    {
     "data": {
      "image/png": "[encoded data removed]",
      "text/plain": [
       "<Figure size 432x288 with 1 Axes>"
      ]
     },
     "metadata": {
      "needs_background": "light",
      "tags": []
     },
     "output_type": "display_data"
    }
   ],
   "source": [
    "plotter.plot_validation_curve(parameter='alpha',ylim=(-0.75,-0.25))"
   ]
  },
  {
   "cell_type": "markdown",
   "metadata": {
    "colab_type": "text",
    "id": "qtex1Rgx-_H5"
   },
   "source": [
    "It seems that there is a negligible impact of altering the value of `alpha` on the mean absolute error performance of the ridge regression model."
   ]
  },
  {
   "cell_type": "code",
   "execution_count": 37,
   "metadata": {
    "colab": {
     "base_uri": "https://localhost:8080/",
     "height": 35
    },
    "colab_type": "code",
    "id": "cxR9zl4f-hk9",
    "outputId": "67ca29e3-e980-426c-de2f-a47c8527510a"
   },
   "outputs": [
    {
     "data": {
      "text/plain": [
       "-0.5140064163591217"
      ]
     },
     "execution_count": 37,
     "metadata": {
      "tags": []
     },
     "output_type": "execute_result"
    }
   ],
   "source": [
    "record_store_ridge_pipe['ridge'].best_score_"
   ]
  },
  {
   "cell_type": "code",
   "execution_count": 38,
   "metadata": {
    "colab": {
     "base_uri": "https://localhost:8080/",
     "height": 35
    },
    "colab_type": "code",
    "id": "cbV-3Q9A0-hi",
    "outputId": "768a7d87-7b93-459f-a774-e5225b3d8645"
   },
   "outputs": [
    {
     "data": {
      "text/plain": [
       "{'alpha': 0.1}"
      ]
     },
     "execution_count": 38,
     "metadata": {
      "tags": []
     },
     "output_type": "execute_result"
    }
   ],
   "source": [
    "record_store_ridge_pipe['ridge'].best_params_"
   ]
  },
  {
   "cell_type": "markdown",
   "metadata": {
    "colab_type": "text",
    "id": "clSH2fqX-8pS"
   },
   "source": [
    "As we see from the best score we obtain above, there seems to be a very minor improvement over the performance of the Linear Regression model treated previously. We will test whether this improvement extends to the test set below."
   ]
  },
  {
   "cell_type": "code",
   "execution_count": 39,
   "metadata": {
    "colab": {
     "base_uri": "https://localhost:8080/",
     "height": 73
    },
    "colab_type": "code",
    "id": "db1qMG0e8ar7",
    "outputId": "a9e85f0a-e894-429a-8953-05d3f3f63bde"
   },
   "outputs": [
    {
     "name": "stderr",
     "output_type": "stream",
     "text": [
      "/usr/local/lib/python3.6/site-packages/cuml/utils/input_utils.py:188: UserWarning: Expected column ('F') major order, but got the opposite. Converting data, this will result in additional memory utilization.\n",
      "  warnings.warn(\"Expected \" + order_to_str(order) + \" major order, \"\n"
     ]
    }
   ],
   "source": [
    "record_store_ridge_pred = record_store_ridge_pipe.predict(X_te)"
   ]
  },
  {
   "cell_type": "code",
   "execution_count": 40,
   "metadata": {
    "colab": {
     "base_uri": "https://localhost:8080/",
     "height": 35
    },
    "colab_type": "code",
    "id": "9oKBWYEo8asD",
    "outputId": "30afd860-c9dd-49d1-c832-7244aeb5e517"
   },
   "outputs": [
    {
     "data": {
      "text/plain": [
       "8.78123390794469"
      ]
     },
     "execution_count": 40,
     "metadata": {
      "tags": []
     },
     "output_type": "execute_result"
    }
   ],
   "source": [
    "record_store_ridge_mae = mean_absolute_error(y_te,np.exp(record_store_ridge_pred))\n",
    "record_store_ridge_mae"
   ]
  },
  {
   "cell_type": "code",
   "execution_count": 41,
   "metadata": {
    "colab": {
     "base_uri": "https://localhost:8080/",
     "height": 53
    },
    "colab_type": "code",
    "id": "odD9CEoor0vj",
    "outputId": "2b081e3c-8e50-4958-b9da-8e9d014b46c0"
   },
   "outputs": [
    {
     "name": "stdout",
     "output_type": "stream",
     "text": [
      "Ridge Regression performance wrt Linear Regression is: \n",
      "MAE: -0.007\n"
     ]
    }
   ],
   "source": [
    "print_results('Ridge Regression',record_store_ridge_mae,'Linear Regression',record_store_lr_mae)"
   ]
  },
  {
   "cell_type": "markdown",
   "metadata": {
    "colab_type": "text",
    "id": "KcuLdw-M-5w4"
   },
   "source": [
    "As we can see by comparing the Mean Absolute Error scores we obtain from evaluating our model predictions on the test set, there is a negligible improvement in model performance, which leads us to conclude that our regularization efforts are not effective in improving on the performance of Linear Regression in predicting ``market_value``."
   ]
  },
  {
   "cell_type": "markdown",
   "metadata": {
    "colab_type": "text",
    "id": "Cnmd7rIWk1iS"
   },
   "source": [
    "## Ridge - Full Information\n",
    "As in the case for Linear Regression, we will now extend the analysis of the Ridge Regression to the Full Information case, using the same model preprocessing steps as we have done for the Linear Regression model."
   ]
  },
  {
   "cell_type": "code",
   "execution_count": null,
   "metadata": {
    "colab": {},
    "colab_type": "code",
    "id": "Rlb1Z8CEk1iT"
   },
   "outputs": [],
   "source": [
    "full_information_ridge_pipe = Pipeline([\n",
    "    ('processing', full_information_regression_processing),\n",
    "    ('ridge', GridSearchCV(\n",
    "        Ridge(normalize=False,solver='eig'),\n",
    "        param_grid={\n",
    "            'alpha': np.logspace(-4,1,10),\n",
    "        },\n",
    "        cv=KFold(n_splits=5,shuffle=True),\n",
    "        scoring='neg_mean_absolute_error',\n",
    "        verbose=5,\n",
    "        n_jobs=-1,\n",
    "        return_train_score=True\n",
    "    ))\n",
    "])"
   ]
  },
  {
   "cell_type": "code",
   "execution_count": 43,
   "metadata": {
    "colab": {
     "base_uri": "https://localhost:8080/",
     "height": 592
    },
    "colab_type": "code",
    "id": "6CSH5O1jk1iX",
    "outputId": "bf3b2649-569a-4539-a977-0f828215cc2b"
   },
   "outputs": [
    {
     "name": "stdout",
     "output_type": "stream",
     "text": [
      "Fitting 5 folds for each of 10 candidates, totalling 50 fits\n"
     ]
    },
    {
     "name": "stderr",
     "output_type": "stream",
     "text": [
      "[Parallel(n_jobs=-1)]: Using backend LokyBackend with 4 concurrent workers.\n",
      "[Parallel(n_jobs=-1)]: Done  10 tasks      | elapsed:    2.0s\n",
      "[Parallel(n_jobs=-1)]: Done  50 out of  50 | elapsed:    7.2s finished\n",
      "/usr/local/lib/python3.6/site-packages/cuml/utils/input_utils.py:188: UserWarning: Expected column ('F') major order, but got the opposite. Converting data, this will result in additional memory utilization.\n",
      "  warnings.warn(\"Expected \" + order_to_str(order) + \" major order, \"\n"
     ]
    },
    {
     "data": {
      "text/plain": [
       "Pipeline(memory=None,\n",
       "         steps=[('processing',\n",
       "                 Pipeline(memory=None,\n",
       "                          steps=[('leave_one_out_encoding',\n",
       "                                  LeaveOneOutEncoder(cols=['artist', 'label',\n",
       "                                                           'format_text',\n",
       "                                                           'master_id',\n",
       "                                                           'format_name'],\n",
       "                                                     drop_invariant=False,\n",
       "                                                     handle_missing='value',\n",
       "                                                     handle_unknown='value',\n",
       "                                                     random_state=None,\n",
       "                                                     return_df=True, sigma=None,\n",
       "                                                     verbose=0)),\n",
       "                                 ('record_store_column_remover',\n",
       "                                  ColumnRemover(rem...\n",
       "                              estimator=Ridge(alpha=1.0, solver='eig', fit_intercept=True, normalize=False, handle=<cuml.common.handle.Handle object at 0x7f167c7a6350>, output_type='input'),\n",
       "                              iid='deprecated', n_jobs=-1,\n",
       "                              param_grid={'alpha': array([1.00000000e-04, 3.59381366e-04, 1.29154967e-03, 4.64158883e-03,\n",
       "       1.66810054e-02, 5.99484250e-02, 2.15443469e-01, 7.74263683e-01,\n",
       "       2.78255940e+00, 1.00000000e+01])},\n",
       "                              pre_dispatch='2*n_jobs', refit=True,\n",
       "                              return_train_score=True,\n",
       "                              scoring='neg_mean_absolute_error', verbose=5))],\n",
       "         verbose=False)"
      ]
     },
     "execution_count": 43,
     "metadata": {
      "tags": []
     },
     "output_type": "execute_result"
    }
   ],
   "source": [
    "full_information_ridge_pipe.fit(X_tr,np.log(y_tr).values)"
   ]
  },
  {
   "cell_type": "code",
   "execution_count": null,
   "metadata": {
    "colab": {},
    "colab_type": "code",
    "id": "yGvB5HQEk1ib"
   },
   "outputs": [],
   "source": [
    "plotter = GridSearchPlotter(full_information_ridge_pipe['ridge'])"
   ]
  },
  {
   "cell_type": "code",
   "execution_count": 45,
   "metadata": {
    "colab": {
     "base_uri": "https://localhost:8080/",
     "height": 295
    },
    "colab_type": "code",
    "id": "FALIex5Ak1ie",
    "outputId": "f08acacc-075d-40c9-a25c-fcf3dc3ac654"
   },
   "outputs": [
    {
     "data": {
      "image/png": "[encoded data removed]",
      "text/plain": [
       "<Figure size 432x288 with 1 Axes>"
      ]
     },
     "metadata": {
      "needs_background": "light",
      "tags": []
     },
     "output_type": "display_data"
    }
   ],
   "source": [
    "plotter.plot_validation_curve(parameter='alpha',ylim=(-0.75,-0.25))"
   ]
  },
  {
   "cell_type": "code",
   "execution_count": 46,
   "metadata": {
    "colab": {
     "base_uri": "https://localhost:8080/",
     "height": 35
    },
    "colab_type": "code",
    "id": "JFbucWgVk1ih",
    "outputId": "90667895-ddac-4ec1-d11a-b742280ce4b3"
   },
   "outputs": [
    {
     "data": {
      "text/plain": [
       "-0.48104161220102604"
      ]
     },
     "execution_count": 46,
     "metadata": {
      "tags": []
     },
     "output_type": "execute_result"
    }
   ],
   "source": [
    "full_information_ridge_pipe['ridge'].best_score_"
   ]
  },
  {
   "cell_type": "code",
   "execution_count": 47,
   "metadata": {
    "colab": {
     "base_uri": "https://localhost:8080/",
     "height": 35
    },
    "colab_type": "code",
    "id": "DmY50t1kk1iz",
    "outputId": "d92b652e-a1e2-4f55-c6d7-6c4981f764e1"
   },
   "outputs": [
    {
     "data": {
      "text/plain": [
       "{'alpha': 0.0001}"
      ]
     },
     "execution_count": 47,
     "metadata": {
      "tags": []
     },
     "output_type": "execute_result"
    }
   ],
   "source": [
    "full_information_ridge_pipe['ridge'].best_params_"
   ]
  },
  {
   "cell_type": "code",
   "execution_count": 48,
   "metadata": {
    "colab": {
     "base_uri": "https://localhost:8080/",
     "height": 73
    },
    "colab_type": "code",
    "id": "IPsBz9Yhk1i1",
    "outputId": "7a248bd3-24bd-4a18-b161-0e6153fcb75a"
   },
   "outputs": [
    {
     "name": "stderr",
     "output_type": "stream",
     "text": [
      "/usr/local/lib/python3.6/site-packages/cuml/utils/input_utils.py:188: UserWarning: Expected column ('F') major order, but got the opposite. Converting data, this will result in additional memory utilization.\n",
      "  warnings.warn(\"Expected \" + order_to_str(order) + \" major order, \"\n"
     ]
    }
   ],
   "source": [
    "full_information_ridge_pred = full_information_ridge_pipe.predict(X_te)"
   ]
  },
  {
   "cell_type": "code",
   "execution_count": 49,
   "metadata": {
    "colab": {
     "base_uri": "https://localhost:8080/",
     "height": 35
    },
    "colab_type": "code",
    "id": "uNXNcesPk1i6",
    "outputId": "5ead51aa-954a-446b-ca5a-005640ecba4c"
   },
   "outputs": [
    {
     "data": {
      "text/plain": [
       "9.700787830044028"
      ]
     },
     "execution_count": 49,
     "metadata": {
      "tags": []
     },
     "output_type": "execute_result"
    }
   ],
   "source": [
    "full_information_ridge_mae = mean_absolute_error(y_te,np.exp(full_information_ridge_pred))\n",
    "full_information_ridge_mae"
   ]
  },
  {
   "cell_type": "markdown",
   "metadata": {
    "colab_type": "text",
    "id": "P0-jNats_MAI"
   },
   "source": [
    "With full information using the Ridge Regression approach, we curiously observe a massive degradation in performance for ``market_value`` for MAE. On the back of this result and the one we obtained for Linear Regression, it seems that under the standard regression-based approach, we cannot predict ``market_value`` effectively using record store meta-attributes, even (and especially, for Ridge Regression) when augmented with Discogs.com platform data. "
   ]
  },
  {
   "cell_type": "markdown",
   "metadata": {
    "colab_type": "text",
    "id": "fbreYK1X8asG"
   },
   "source": [
    "## Random Forest\n",
    "Having obtained wanting results using standard linear regression-based approaches, we will now try the Random Forest approach in order to predict ``market_value``. Random Forest is a powerful algorithm that often perform better than standard regression-based approaches. However, it has been noted that Random Forests can at times have difficulties in accurately predicting outlier values. While we have tried to remove outliers as much as possible, our dataset continues to be defined by a high degree of variation, and as a result even this more sophisticated algorithm may run into issues in improving on the performance of the regression-based approaches outlined previously. \n",
    "## Random Forest - Record Store\n",
    "In preparing the data for prediction with a Random Forest based model, we have to make some adjustments to our preprocessing pipeline. Firstly, we increase the scope of the features we encode via the Leave One Out method, as it keeps the dimensionality of our processed dataset lower. This is important, as high dimensionality can result in poor performance for Random Forest based models. As such, we elect to encode features we had previously dummy encoded, such as ``year``, ``country`` and ``format_name``, using the aforementioned Leave One Out encoding method. The columns that are removed from the dataset are thus adjusted to reflect this change in method.\n",
    "\n",
    "Additionally, we cast the data to the ``np.float32`` datatype, as this is a strict requirement of the ``cuml`` RandomForestRegressor estimator."
   ]
  },
  {
   "cell_type": "code",
   "execution_count": null,
   "metadata": {
    "colab": {},
    "colab_type": "code",
    "id": "McTksN6VGPnv"
   },
   "outputs": [],
   "source": [
    "record_store_random_forest_removal_columns = [\n",
    "    'market_price','units_for_sale','have','want','average_rating','rating_count','last_sold','lowest','median',\n",
    "    'highest','track_titles','country','genre','style','community_have','community_want','formats','thumb_url',\n",
    "    'release_url','format_description','title','release_id'\n",
    "]\n",
    "record_store_random_forest_removal_columns.extend(\n",
    "    [*column_store._geography_country, *column_store._format_name]\n",
    ")\n",
    "record_store_random_forest_removal_columns = set(record_store_random_forest_removal_columns)"
   ]
  },
  {
   "cell_type": "code",
   "execution_count": null,
   "metadata": {
    "colab": {},
    "colab_type": "code",
    "id": "BPf-IJfD8asO"
   },
   "outputs": [],
   "source": [
    "record_store_random_forest_preprocessing_pipe = Pipeline([\n",
    "    ('leave_one_out_encoding', LeaveOneOutEncoder(cols=['artist','label','format_text','format_name','master_id','year','country'])),\n",
    "    ('record_store_column_remover', ColumnRemover(record_store_random_forest_removal_columns)),\n",
    "    ('cast_to_32', FunctionTransformer(func=lambda x: x.astype(np.float32).values))\n",
    "])\n",
    "\n",
    "random_forest = RandomForestRegressor()\n",
    "\n",
    "record_store_random_forest_search_pipe = Pipeline([\n",
    "    ('preprocessing',record_store_random_forest_preprocessing_pipe),\n",
    "    ('grid_search', GridSearchCV(\n",
    "        random_forest,\n",
    "        cv=KFold(n_splits=5,shuffle=True),\n",
    "        param_grid={\n",
    "            'n_estimators': np.linspace(10,150,5).astype(int)\n",
    "        },\n",
    "        verbose=50,\n",
    "        scoring='neg_mean_absolute_error',\n",
    "        n_jobs=-1,\n",
    "        return_train_score=True\n",
    "    ))\n",
    "])\n",
    "\n",
    "record_store_random_forest_pipe = Pipeline([\n",
    "    ('preprocessing',record_store_random_forest_preprocessing_pipe),\n",
    "    ('random_forest',random_forest)\n",
    "])"
   ]
  },
  {
   "cell_type": "code",
   "execution_count": 52,
   "metadata": {
    "colab": {
     "base_uri": "https://localhost:8080/",
     "height": 1000
    },
    "colab_type": "code",
    "id": "l97EbEPB8asR",
    "outputId": "d5100ad3-cc50-4ffa-b9e4-7a78d7aa4e7d"
   },
   "outputs": [
    {
     "name": "stdout",
     "output_type": "stream",
     "text": [
      "Fitting 5 folds for each of 5 candidates, totalling 25 fits\n",
      "[Parallel(n_jobs=-1)]: Using backend LokyBackend with 4 concurrent workers.\n",
      "[Parallel(n_jobs=-1)]: Done   1 tasks      | elapsed:    1.5s\n",
      "[Parallel(n_jobs=-1)]: Done   2 tasks      | elapsed:    1.5s\n",
      "[Parallel(n_jobs=-1)]: Done   3 tasks      | elapsed:    1.5s\n",
      "[Parallel(n_jobs=-1)]: Done   4 tasks      | elapsed:    1.5s\n",
      "[Parallel(n_jobs=-1)]: Done   5 tasks      | elapsed:    2.9s\n",
      "[Parallel(n_jobs=-1)]: Done   6 tasks      | elapsed:    7.2s\n",
      "[Parallel(n_jobs=-1)]: Done   7 tasks      | elapsed:    7.2s\n",
      "[Parallel(n_jobs=-1)]: Done   8 tasks      | elapsed:    7.3s\n",
      "[Parallel(n_jobs=-1)]: Done   9 tasks      | elapsed:    7.6s\n",
      "[Parallel(n_jobs=-1)]: Done  10 tasks      | elapsed:   12.5s\n",
      "[Parallel(n_jobs=-1)]: Done  11 tasks      | elapsed:   16.8s\n",
      "[Parallel(n_jobs=-1)]: Done  12 tasks      | elapsed:   17.1s\n",
      "[Parallel(n_jobs=-1)]: Done  13 tasks      | elapsed:   17.1s\n",
      "[Parallel(n_jobs=-1)]: Done  14 tasks      | elapsed:   18.5s\n"
     ]
    },
    {
     "name": "stderr",
     "output_type": "stream",
     "text": [
      "/usr/local/lib/python3.6/dist-packages/joblib/externals/loky/process_executor.py:691: UserWarning: A worker stopped while some jobs were given to the executor. This can be caused by a too short worker timeout or by a memory leak.\n",
      "  \"timeout or by a memory leak.\", UserWarning\n"
     ]
    },
    {
     "name": "stdout",
     "output_type": "stream",
     "text": [
      "[Parallel(n_jobs=-1)]: Done  15 tasks      | elapsed:   24.3s\n",
      "[Parallel(n_jobs=-1)]: Done  16 tasks      | elapsed:   27.7s\n",
      "[Parallel(n_jobs=-1)]: Done  17 tasks      | elapsed:   28.4s\n",
      "[Parallel(n_jobs=-1)]: Done  18 tasks      | elapsed:   31.2s\n",
      "[Parallel(n_jobs=-1)]: Done  19 out of  25 | elapsed:   38.8s remaining:   12.3s\n",
      "[Parallel(n_jobs=-1)]: Done  20 out of  25 | elapsed:   46.4s remaining:   11.6s\n",
      "[Parallel(n_jobs=-1)]: Done  21 out of  25 | elapsed:   47.5s remaining:    9.0s\n",
      "[Parallel(n_jobs=-1)]: Done  22 out of  25 | elapsed:   50.4s remaining:    6.9s\n",
      "[Parallel(n_jobs=-1)]: Done  23 out of  25 | elapsed:   51.5s remaining:    4.5s\n",
      "[Parallel(n_jobs=-1)]: Done  25 out of  25 | elapsed:   58.5s remaining:    0.0s\n",
      "[Parallel(n_jobs=-1)]: Done  25 out of  25 | elapsed:   58.5s finished\n"
     ]
    },
    {
     "name": "stderr",
     "output_type": "stream",
     "text": [
      "/usr/local/lib/python3.6/site-packages/cuml/utils/input_utils.py:188: UserWarning: Expected column ('F') major order, but got the opposite. Converting data, this will result in additional memory utilization.\n",
      "  warnings.warn(\"Expected \" + order_to_str(order) + \" major order, \"\n"
     ]
    },
    {
     "data": {
      "text/plain": [
       "Pipeline(memory=None,\n",
       "         steps=[('preprocessing',\n",
       "                 Pipeline(memory=None,\n",
       "                          steps=[('leave_one_out_encoding',\n",
       "                                  LeaveOneOutEncoder(cols=['artist', 'label',\n",
       "                                                           'format_text',\n",
       "                                                           'format_name',\n",
       "                                                           'master_id', 'year',\n",
       "                                                           'country'],\n",
       "                                                     drop_invariant=False,\n",
       "                                                     handle_missing='value',\n",
       "                                                     handle_unknown='value',\n",
       "                                                     random_state=None,\n",
       "                                                     return_df=True, sigma=None,\n",
       "                                                     verbose=0)),\n",
       "                                 ('record_store_column_remove...\n",
       "                              estimator=RandomForestRegressor(n_estimators=100, max_depth=16, handle=<cuml.common.handle.Handle object at 0x7f167c55a1f0>, max_features='auto', n_bins=8, n_streams=8, split_algo=1, split_criterion=2, bootstrap=True, bootstrap_features=False, verbose=False, min_rows_per_node=2, rows_sample=1.0, max_leaves=-1, accuracy_metric='mse', output_type='input', min_impurity_decrease=0.0, quantile_per_tree=False, seed=None),\n",
       "                              iid='deprecated', n_jobs=-1,\n",
       "                              param_grid={'n_estimators': array([ 10,  45,  80, 115, 150])},\n",
       "                              pre_dispatch='2*n_jobs', refit=True,\n",
       "                              return_train_score=True,\n",
       "                              scoring='neg_mean_absolute_error', verbose=50))],\n",
       "         verbose=False)"
      ]
     },
     "execution_count": 52,
     "metadata": {
      "tags": []
     },
     "output_type": "execute_result"
    }
   ],
   "source": [
    "record_store_random_forest_search_pipe.fit(X_tr_sample,np.log(y_tr_sample).values.astype(np.float32))"
   ]
  },
  {
   "cell_type": "code",
   "execution_count": 53,
   "metadata": {
    "colab": {
     "base_uri": "https://localhost:8080/",
     "height": 296
    },
    "colab_type": "code",
    "id": "2awntfVd_nAJ",
    "outputId": "e6e78aa8-874a-47d4-862e-e9ee831975fc"
   },
   "outputs": [
    {
     "data": {
      "image/png": "[encoded data removed]",
      "text/plain": [
       "<Figure size 432x288 with 1 Axes>"
      ]
     },
     "metadata": {
      "needs_background": "light",
      "tags": []
     },
     "output_type": "display_data"
    }
   ],
   "source": [
    "record_store_random_forest_plotter = GridSearchPlotter(record_store_random_forest_search_pipe.steps[-1][1])\n",
    "record_store_random_forest_plotter.plot_validation_curve(parameter='n_estimators',ylim=(-1,0))"
   ]
  },
  {
   "cell_type": "code",
   "execution_count": 54,
   "metadata": {
    "colab": {
     "base_uri": "https://localhost:8080/",
     "height": 35
    },
    "colab_type": "code",
    "id": "kIzLmO8Bzkdr",
    "outputId": "052ee0af-701c-415e-a2e7-8966b9ccac70"
   },
   "outputs": [
    {
     "data": {
      "text/plain": [
       "-0.17435438334941863"
      ]
     },
     "execution_count": 54,
     "metadata": {
      "tags": []
     },
     "output_type": "execute_result"
    }
   ],
   "source": [
    "record_store_random_forest_search_pipe.steps[-1][1].best_score_"
   ]
  },
  {
   "cell_type": "code",
   "execution_count": 55,
   "metadata": {
    "colab": {
     "base_uri": "https://localhost:8080/",
     "height": 35
    },
    "colab_type": "code",
    "id": "1Jh6GfwRzk2n",
    "outputId": "64aa3704-9b33-49f3-8edb-13b830760254"
   },
   "outputs": [
    {
     "data": {
      "text/plain": [
       "{'n_estimators': 115}"
      ]
     },
     "execution_count": 55,
     "metadata": {
      "tags": []
     },
     "output_type": "execute_result"
    }
   ],
   "source": [
    "record_store_random_forest_search_pipe.steps[-1][1].best_params_"
   ]
  },
  {
   "cell_type": "markdown",
   "metadata": {
    "colab_type": "text",
    "id": "Xyr-Uhf2_R4c"
   },
   "source": [
    "After tuning hyperparameters using GridSearchCV and GridSearchPlotter, we obtain excellent results using the Random Forest, with the best score obtained yielding a more than 50% reduction in the magnitude of the mean absolute error we had obtained for previous models. Accordingly, we will train the algorithm on the total dataset, and then evaluate the resulting model on the test set."
   ]
  },
  {
   "cell_type": "code",
   "execution_count": 56,
   "metadata": {
    "colab": {
     "base_uri": "https://localhost:8080/",
     "height": 395
    },
    "colab_type": "code",
    "id": "7HMokfJnMYzZ",
    "outputId": "a5fb529f-4e73-419c-eb74-2975280927a5"
   },
   "outputs": [
    {
     "name": "stderr",
     "output_type": "stream",
     "text": [
      "/usr/local/lib/python3.6/site-packages/cuml/utils/input_utils.py:188: UserWarning: Expected column ('F') major order, but got the opposite. Converting data, this will result in additional memory utilization.\n",
      "  warnings.warn(\"Expected \" + order_to_str(order) + \" major order, \"\n"
     ]
    },
    {
     "data": {
      "text/plain": [
       "Pipeline(memory=None,\n",
       "         steps=[('preprocessing',\n",
       "                 Pipeline(memory=None,\n",
       "                          steps=[('leave_one_out_encoding',\n",
       "                                  LeaveOneOutEncoder(cols=['artist', 'label',\n",
       "                                                           'format_text',\n",
       "                                                           'format_name',\n",
       "                                                           'master_id', 'year',\n",
       "                                                           'country'],\n",
       "                                                     drop_invariant=False,\n",
       "                                                     handle_missing='value',\n",
       "                                                     handle_unknown='value',\n",
       "                                                     random_state=None,\n",
       "                                                     return_df=True, sigma=None,\n",
       "                                                     verbose=0)),\n",
       "                                 ('record_store_column_remove...\n",
       "                 RandomForestRegressor(n_estimators=100, max_depth=16, handle=<cuml.common.handle.Handle object at 0x7f167c55a1f0>, max_features='auto', n_bins=8, n_streams=8, split_algo=1, split_criterion=2, bootstrap=True, bootstrap_features=False, verbose=False, min_rows_per_node=2, rows_sample=1.0, max_leaves=-1, accuracy_metric='mse', output_type='numpy', min_impurity_decrease=0.0, quantile_per_tree=False, seed=None))],\n",
       "         verbose=False)"
      ]
     },
     "execution_count": 56,
     "metadata": {
      "tags": []
     },
     "output_type": "execute_result"
    }
   ],
   "source": [
    "record_store_random_forest_pipe.fit(X_tr,np.log(y_tr).values.astype(np.float32))"
   ]
  },
  {
   "cell_type": "code",
   "execution_count": 57,
   "metadata": {
    "colab": {
     "base_uri": "https://localhost:8080/",
     "height": 73
    },
    "colab_type": "code",
    "id": "VrdorFhMMe2P",
    "outputId": "b7b03b0c-9ff1-47de-b879-ff80984acf83"
   },
   "outputs": [
    {
     "name": "stderr",
     "output_type": "stream",
     "text": [
      "/usr/local/lib/python3.6/site-packages/cuml/utils/input_utils.py:188: UserWarning: Expected row ('C') major order, but got the opposite. Converting data, this will result in additional memory utilization.\n",
      "  warnings.warn(\"Expected \" + order_to_str(order) + \" major order, \"\n"
     ]
    }
   ],
   "source": [
    "record_store_random_forest_te_pred = record_store_random_forest_pipe.predict(X_te)"
   ]
  },
  {
   "cell_type": "code",
   "execution_count": 58,
   "metadata": {
    "colab": {
     "base_uri": "https://localhost:8080/",
     "height": 35
    },
    "colab_type": "code",
    "id": "R3cCwv8t0E4R",
    "outputId": "6b77867f-1c21-4d98-eb4e-04561bdb7f93"
   },
   "outputs": [
    {
     "data": {
      "text/plain": [
       "10.59096878853074"
      ]
     },
     "execution_count": 58,
     "metadata": {
      "tags": []
     },
     "output_type": "execute_result"
    }
   ],
   "source": [
    "record_store_random_forest_mae = mean_absolute_error(y_te,np.exp(record_store_random_forest_te_pred))\n",
    "record_store_random_forest_mae"
   ]
  },
  {
   "cell_type": "markdown",
   "metadata": {
    "colab_type": "text",
    "id": "sQB6mGI3MN7g"
   },
   "source": [
    "Unfortunately, it seems that when applying the Random Forest algorithm we are not able to replicate the results we obtained in cross validation. The reason for this mismatch is unclear. Unfortunately, the very strong scores on the validation set cannot be reproduced on the test set. After having run multiple tests with different randomly selected test sets, this result continues to hold. This result also holds for when the cross validation is run over the entire training dataset, which implies that this odd mismatch is not retraceable to our choice of deciding to use a smaller sample of the training dataset for cross validation purposes.\n",
    "Putting the odd results in cross validation aside, which may be a quirk of the ``cuml`` library, it is clear from our results that the Random Forest does not perform well at all for our data. This is likely due to the fact that our data is highly unique across samples, which makes it difficult for the bagging approach of the Random Forest model to draw accurate decision-based inferences on the data.\n"
   ]
  },
  {
   "cell_type": "markdown",
   "metadata": {
    "colab_type": "text",
    "id": "gJZdJtJbk1jW"
   },
   "source": [
    "## Random Forest - Full Information\n",
    "Having tested the performance of the Random Forest in the Record Store scenario, we now turn our attention to the Full Information scenario. Given the small delta in performance we have observed between these scenarios for previous models, and the poor performance of the Random Forest model in the Record Store scenario, it is unlikely that we will see a significant improvement in performance."
   ]
  },
  {
   "cell_type": "code",
   "execution_count": null,
   "metadata": {
    "colab": {},
    "colab_type": "code",
    "id": "yQGDq3REk1jW"
   },
   "outputs": [],
   "source": [
    "full_information_random_forest_removal_columns = record_store_random_forest_removal_columns - full_information_columns"
   ]
  },
  {
   "cell_type": "code",
   "execution_count": null,
   "metadata": {
    "colab": {},
    "colab_type": "code",
    "id": "zuNSCmnTk1jd"
   },
   "outputs": [],
   "source": [
    "full_information_random_forest_preprocessing_pipe = Pipeline([\n",
    "    ('leave_one_out_encoding', LeaveOneOutEncoder(cols=['artist','label','format_text','format_name','master_id','year','country'])),\n",
    "    ('record_store_column_remover', ColumnRemover(full_information_random_forest_removal_columns)),\n",
    "    ('cast_to_32', FunctionTransformer(func=lambda x: x.astype(np.float32).values))\n",
    "])\n",
    "\n",
    "full_information_random_forest_search_pipe = Pipeline([\n",
    "    ('preprocessing',full_information_random_forest_preprocessing_pipe),\n",
    "    ('grid_search', GridSearchCV(\n",
    "        random_forest,\n",
    "        cv=KFold(n_splits=5,shuffle=True),\n",
    "        param_grid={\n",
    "            'n_estimators': np.linspace(10,200,5).astype(int)\n",
    "        },\n",
    "        verbose=50,\n",
    "        scoring='neg_mean_absolute_error',\n",
    "        n_jobs=-1,\n",
    "        return_train_score=True\n",
    "    ))\n",
    "])\n",
    "\n",
    "full_information_random_forest_pipe = Pipeline([\n",
    "    ('preprocessing',full_information_random_forest_preprocessing_pipe),\n",
    "    ('random_forest',random_forest)\n",
    "])"
   ]
  },
  {
   "cell_type": "code",
   "execution_count": 61,
   "metadata": {
    "colab": {
     "base_uri": "https://localhost:8080/",
     "height": 1000
    },
    "colab_type": "code",
    "id": "lOo-_NUFk1jg",
    "outputId": "b0ad0345-b412-4aae-d68d-bc10dba09a9a"
   },
   "outputs": [
    {
     "name": "stdout",
     "output_type": "stream",
     "text": [
      "Fitting 5 folds for each of 5 candidates, totalling 25 fits\n",
      "[Parallel(n_jobs=-1)]: Using backend LokyBackend with 4 concurrent workers.\n",
      "[Parallel(n_jobs=-1)]: Done   1 tasks      | elapsed:    1.0s\n",
      "[Parallel(n_jobs=-1)]: Done   2 tasks      | elapsed:    1.0s\n",
      "[Parallel(n_jobs=-1)]: Done   3 tasks      | elapsed:    1.8s\n",
      "[Parallel(n_jobs=-1)]: Done   4 tasks      | elapsed:    5.4s\n",
      "[Parallel(n_jobs=-1)]: Done   5 tasks      | elapsed:    6.1s\n",
      "[Parallel(n_jobs=-1)]: Done   6 tasks      | elapsed:    6.7s\n",
      "[Parallel(n_jobs=-1)]: Done   7 tasks      | elapsed:    6.9s\n",
      "[Parallel(n_jobs=-1)]: Done   8 tasks      | elapsed:   12.1s\n",
      "[Parallel(n_jobs=-1)]: Done   9 tasks      | elapsed:   12.8s\n",
      "[Parallel(n_jobs=-1)]: Done  10 tasks      | elapsed:   13.5s\n"
     ]
    },
    {
     "name": "stderr",
     "output_type": "stream",
     "text": [
      "/usr/local/lib/python3.6/dist-packages/joblib/externals/loky/process_executor.py:691: UserWarning: A worker stopped while some jobs were given to the executor. This can be caused by a too short worker timeout or by a memory leak.\n",
      "  \"timeout or by a memory leak.\", UserWarning\n"
     ]
    },
    {
     "name": "stdout",
     "output_type": "stream",
     "text": [
      "[Parallel(n_jobs=-1)]: Done  11 tasks      | elapsed:   18.2s\n",
      "[Parallel(n_jobs=-1)]: Done  12 tasks      | elapsed:   21.3s\n",
      "[Parallel(n_jobs=-1)]: Done  13 tasks      | elapsed:   21.9s\n",
      "[Parallel(n_jobs=-1)]: Done  14 tasks      | elapsed:   27.1s\n",
      "[Parallel(n_jobs=-1)]: Done  15 tasks      | elapsed:   37.7s\n",
      "[Parallel(n_jobs=-1)]: Done  16 tasks      | elapsed:   38.7s\n",
      "[Parallel(n_jobs=-1)]: Done  17 tasks      | elapsed:   39.6s\n",
      "[Parallel(n_jobs=-1)]: Done  18 tasks      | elapsed:   41.6s\n",
      "[Parallel(n_jobs=-1)]: Done  19 out of  25 | elapsed:   46.2s remaining:   14.6s\n",
      "[Parallel(n_jobs=-1)]: Done  20 out of  25 | elapsed:   58.8s remaining:   14.7s\n",
      "[Parallel(n_jobs=-1)]: Done  21 out of  25 | elapsed:  1.1min remaining:   12.6s\n",
      "[Parallel(n_jobs=-1)]: Done  22 out of  25 | elapsed:  1.2min remaining:    9.6s\n",
      "[Parallel(n_jobs=-1)]: Done  23 out of  25 | elapsed:  1.2min remaining:    6.4s\n",
      "[Parallel(n_jobs=-1)]: Done  25 out of  25 | elapsed:  1.3min remaining:    0.0s\n",
      "[Parallel(n_jobs=-1)]: Done  25 out of  25 | elapsed:  1.3min finished\n"
     ]
    },
    {
     "name": "stderr",
     "output_type": "stream",
     "text": [
      "/usr/local/lib/python3.6/site-packages/cuml/utils/input_utils.py:188: UserWarning: Expected column ('F') major order, but got the opposite. Converting data, this will result in additional memory utilization.\n",
      "  warnings.warn(\"Expected \" + order_to_str(order) + \" major order, \"\n"
     ]
    },
    {
     "data": {
      "text/plain": [
       "Pipeline(memory=None,\n",
       "         steps=[('preprocessing',\n",
       "                 Pipeline(memory=None,\n",
       "                          steps=[('leave_one_out_encoding',\n",
       "                                  LeaveOneOutEncoder(cols=['artist', 'label',\n",
       "                                                           'format_text',\n",
       "                                                           'format_name',\n",
       "                                                           'master_id', 'year',\n",
       "                                                           'country'],\n",
       "                                                     drop_invariant=False,\n",
       "                                                     handle_missing='value',\n",
       "                                                     handle_unknown='value',\n",
       "                                                     random_state=None,\n",
       "                                                     return_df=True, sigma=None,\n",
       "                                                     verbose=0)),\n",
       "                                 ('record_store_column_remove...\n",
       "                              estimator=RandomForestRegressor(n_estimators=100, max_depth=16, handle=<cuml.common.handle.Handle object at 0x7f167c55a1f0>, max_features='auto', n_bins=8, n_streams=8, split_algo=1, split_criterion=2, bootstrap=True, bootstrap_features=False, verbose=False, min_rows_per_node=2, rows_sample=1.0, max_leaves=-1, accuracy_metric='mse', output_type='numpy', min_impurity_decrease=0.0, quantile_per_tree=False, seed=None),\n",
       "                              iid='deprecated', n_jobs=-1,\n",
       "                              param_grid={'n_estimators': array([ 10,  57, 105, 152, 200])},\n",
       "                              pre_dispatch='2*n_jobs', refit=True,\n",
       "                              return_train_score=True,\n",
       "                              scoring='neg_mean_absolute_error', verbose=50))],\n",
       "         verbose=False)"
      ]
     },
     "execution_count": 61,
     "metadata": {
      "tags": []
     },
     "output_type": "execute_result"
    }
   ],
   "source": [
    "full_information_random_forest_search_pipe.fit(X_tr_sample,np.log(y_tr_sample).values.astype(np.float32))"
   ]
  },
  {
   "cell_type": "code",
   "execution_count": 62,
   "metadata": {
    "colab": {
     "base_uri": "https://localhost:8080/",
     "height": 296
    },
    "colab_type": "code",
    "id": "rCux94qKk1ji",
    "outputId": "bfa22894-01ae-4b6b-97e6-0a9a5b0a6fca"
   },
   "outputs": [
    {
     "data": {
      "image/png": "[encoded data removed]",
      "text/plain": [
       "<Figure size 432x288 with 1 Axes>"
      ]
     },
     "metadata": {
      "needs_background": "light",
      "tags": []
     },
     "output_type": "display_data"
    }
   ],
   "source": [
    "full_information_random_forest_plotter = GridSearchPlotter(full_information_random_forest_search_pipe.steps[-1][1])\n",
    "full_information_random_forest_plotter.plot_validation_curve(parameter='n_estimators',ylim=(-1,0))"
   ]
  },
  {
   "cell_type": "code",
   "execution_count": 63,
   "metadata": {
    "colab": {
     "base_uri": "https://localhost:8080/",
     "height": 35
    },
    "colab_type": "code",
    "id": "jaoOYSogk1jk",
    "outputId": "b34f7126-d6c1-4e61-b621-2032e4f32267"
   },
   "outputs": [
    {
     "data": {
      "text/plain": [
       "-0.17097310423851014"
      ]
     },
     "execution_count": 63,
     "metadata": {
      "tags": []
     },
     "output_type": "execute_result"
    }
   ],
   "source": [
    "full_information_random_forest_search_pipe.steps[-1][1].best_score_"
   ]
  },
  {
   "cell_type": "code",
   "execution_count": 64,
   "metadata": {
    "colab": {
     "base_uri": "https://localhost:8080/",
     "height": 35
    },
    "colab_type": "code",
    "id": "SLNosErgk1jn",
    "outputId": "2ac29b4f-c653-427d-b64a-7612075e18b9"
   },
   "outputs": [
    {
     "data": {
      "text/plain": [
       "{'n_estimators': 152}"
      ]
     },
     "execution_count": 64,
     "metadata": {
      "tags": []
     },
     "output_type": "execute_result"
    }
   ],
   "source": [
    "full_information_random_forest_search_pipe.steps[-1][1].best_params_"
   ]
  },
  {
   "cell_type": "code",
   "execution_count": 65,
   "metadata": {
    "colab": {
     "base_uri": "https://localhost:8080/",
     "height": 395
    },
    "colab_type": "code",
    "id": "VvtlG6n3k1jq",
    "outputId": "aa25b07b-5d7e-4abc-cf62-267742667f85"
   },
   "outputs": [
    {
     "name": "stderr",
     "output_type": "stream",
     "text": [
      "/usr/local/lib/python3.6/site-packages/cuml/utils/input_utils.py:188: UserWarning: Expected column ('F') major order, but got the opposite. Converting data, this will result in additional memory utilization.\n",
      "  warnings.warn(\"Expected \" + order_to_str(order) + \" major order, \"\n"
     ]
    },
    {
     "data": {
      "text/plain": [
       "Pipeline(memory=None,\n",
       "         steps=[('preprocessing',\n",
       "                 Pipeline(memory=None,\n",
       "                          steps=[('leave_one_out_encoding',\n",
       "                                  LeaveOneOutEncoder(cols=['artist', 'label',\n",
       "                                                           'format_text',\n",
       "                                                           'format_name',\n",
       "                                                           'master_id', 'year',\n",
       "                                                           'country'],\n",
       "                                                     drop_invariant=False,\n",
       "                                                     handle_missing='value',\n",
       "                                                     handle_unknown='value',\n",
       "                                                     random_state=None,\n",
       "                                                     return_df=True, sigma=None,\n",
       "                                                     verbose=0)),\n",
       "                                 ('record_store_column_remove...\n",
       "                 RandomForestRegressor(n_estimators=100, max_depth=16, handle=<cuml.common.handle.Handle object at 0x7f167c55a1f0>, max_features='auto', n_bins=8, n_streams=8, split_algo=1, split_criterion=2, bootstrap=True, bootstrap_features=False, verbose=False, min_rows_per_node=2, rows_sample=1.0, max_leaves=-1, accuracy_metric='mse', output_type='numpy', min_impurity_decrease=0.0, quantile_per_tree=False, seed=None))],\n",
       "         verbose=False)"
      ]
     },
     "execution_count": 65,
     "metadata": {
      "tags": []
     },
     "output_type": "execute_result"
    }
   ],
   "source": [
    "full_information_random_forest_pipe.fit(X_tr,np.log(y_tr).values.astype(np.float32))"
   ]
  },
  {
   "cell_type": "code",
   "execution_count": 66,
   "metadata": {
    "colab": {
     "base_uri": "https://localhost:8080/",
     "height": 73
    },
    "colab_type": "code",
    "id": "k7iHVjV-k1jt",
    "outputId": "611d077b-7aab-4b23-9569-ffece110da09"
   },
   "outputs": [
    {
     "name": "stderr",
     "output_type": "stream",
     "text": [
      "/usr/local/lib/python3.6/site-packages/cuml/utils/input_utils.py:188: UserWarning: Expected row ('C') major order, but got the opposite. Converting data, this will result in additional memory utilization.\n",
      "  warnings.warn(\"Expected \" + order_to_str(order) + \" major order, \"\n"
     ]
    }
   ],
   "source": [
    "full_information_random_forest_te_pred = full_information_random_forest_pipe.predict(X_te)"
   ]
  },
  {
   "cell_type": "code",
   "execution_count": 67,
   "metadata": {
    "colab": {
     "base_uri": "https://localhost:8080/",
     "height": 35
    },
    "colab_type": "code",
    "id": "ZQQ8J--Yk1jy",
    "outputId": "0e61a3ed-f5b1-4b20-dec7-ea493966d3f1"
   },
   "outputs": [
    {
     "data": {
      "text/plain": [
       "10.614947739148327"
      ]
     },
     "execution_count": 67,
     "metadata": {
      "tags": []
     },
     "output_type": "execute_result"
    }
   ],
   "source": [
    "full_information_random_forest_mae = mean_absolute_error(y_te,np.exp(full_information_random_forest_te_pred))\n",
    "full_information_random_forest_mae"
   ]
  },
  {
   "cell_type": "code",
   "execution_count": 68,
   "metadata": {
    "colab": {
     "base_uri": "https://localhost:8080/",
     "height": 35
    },
    "colab_type": "code",
    "id": "CHX1Lk3yjnwS",
    "outputId": "a966f5b1-1969-440c-c4ff-9b244546d554"
   },
   "outputs": [
    {
     "data": {
      "text/plain": [
       "21.17094661308668"
      ]
     },
     "execution_count": 68,
     "metadata": {
      "tags": []
     },
     "output_type": "execute_result"
    }
   ],
   "source": [
    "mean_squared_error(y_te,np.exp(full_information_random_forest_te_pred))**0.5"
   ]
  },
  {
   "cell_type": "code",
   "execution_count": 69,
   "metadata": {
    "colab": {
     "base_uri": "https://localhost:8080/",
     "height": 53
    },
    "colab_type": "code",
    "id": "FK8dtFbt-Uv4",
    "outputId": "5b5251ed-a289-4682-fb6e-68ad463b426e"
   },
   "outputs": [
    {
     "name": "stdout",
     "output_type": "stream",
     "text": [
      "Random Forest (FI) performance wrt Random Forest (RS) is: \n",
      "MAE: 0.024\n"
     ]
    }
   ],
   "source": [
    "print_results('Random Forest (FI)',full_information_random_forest_mae,'Random Forest (RS)',record_store_random_forest_mae)"
   ]
  },
  {
   "cell_type": "markdown",
   "metadata": {
    "colab_type": "text",
    "id": "RPKU3I5sXRM2"
   },
   "source": [
    "As we can see from the above, we see very similar results in the Full Information scenario as in the Record Store scenario, with an even slight degradation in performance in the Full Information case for both R2 and MAE. Once again, we do not observe that including the Full Information features has any positive impact on the prediction of ``market_value``, although it must be noted that this model does not perform at all well in general, and as was mentioned prior to training, an improvement was not expected."
   ]
  },
  {
   "cell_type": "markdown",
   "metadata": {
    "colab_type": "text",
    "id": "wcM8J6K68asg"
   },
   "source": [
    "## CatBoost\n",
    "For our final attempt at predicting ``market_value`` for Jazz albums, we turn to the CatBoost algorithm. It has been developed fairly recently by Yandex Research, and has shown immense promise, as can be gathered from the following blog post: https://towardsdatascience.com/catboost-vs-light-gbm-vs-xgboost-5f93620723db.\n",
    "CatBoost is ideally suited for datasets which have high incidence of categorical features, making it a good fit in theory for our use case. \n",
    "## CatBoost - Record Store\n",
    "As for previous algorithms, we begin our evaluation of CatBoost by training the model using the features relevant to the Record Store scenario. For our preprocessing, we simply need to remove the columns that are not relevant for the Record Store scenario. The implementation of the CatBoost algorithm we use here allows us to specify categorical features which are then appropriately encoded by the algorithm. It has been noted that this is a highly important parameter to improve the performance of the algorithm, and as such, we include all features that are categorical in nature, even the ``country`` feature, which we have previously applied dummy encoding for in previous tests of algorithms."
   ]
  },
  {
   "cell_type": "code",
   "execution_count": null,
   "metadata": {
    "colab": {},
    "colab_type": "code",
    "id": "OjIxG4pI8asl"
   },
   "outputs": [],
   "source": [
    "record_store_catboost_removal_columns = set([\n",
    "    'market_price','units_for_sale','have','want','average_rating','rating_count','last_sold','lowest','median',\n",
    "    'highest','track_titles','genre','style','community_have','community_want','formats','thumb_url',\n",
    "    'release_url','format_description','title','release_id'\n",
    "])\n",
    "record_store_catboost_removal_columns = record_store_catboost_removal_columns.union(column_store._geography_country,column_store._format_name)"
   ]
  },
  {
   "cell_type": "code",
   "execution_count": null,
   "metadata": {
    "colab": {},
    "colab_type": "code",
    "id": "VCaEIJW18asr"
   },
   "outputs": [],
   "source": [
    "record_store_catboost_processing_pipe = Pipeline([\n",
    "    ('record_store_column_remover', ColumnRemover(record_store_catboost_removal_columns)),\n",
    "])\n",
    "\n",
    "catboost = CatBoostRegressor(\n",
    "    random_seed=0,\n",
    "    cat_features=['year','format_text','master_id','format_name','artist','label','country'],\n",
    "    boosting_type='Ordered',\n",
    "    n_estimators=100,\n",
    "    learning_rate=0.1,\n",
    "    l2_leaf_reg=3,\n",
    "    border_count=170,\n",
    "    max_depth=10,\n",
    ")\n",
    "\n",
    "record_store_catboost_grid_pipe = Pipeline([\n",
    "    ('processing', record_store_catboost_processing_pipe),\n",
    "    ('grid_search', GridSearchCV(\n",
    "        catboost,\n",
    "        param_grid={\n",
    "            #'learning_rate': np.logspace(-3,1,5),\n",
    "            #'border_count': np.linspace(1,200,5),\n",
    "            'l2_leaf_reg': [1,3,5,8],\n",
    "        },\n",
    "        n_jobs=-1,\n",
    "        cv=KFold(n_splits=5,shuffle=True),\n",
    "        verbose=1,\n",
    "        scoring='neg_mean_absolute_error',\n",
    "        return_train_score=True)\n",
    "    )\n",
    "])\n",
    "\n",
    "record_store_catboost_pipe = Pipeline([\n",
    "    ('processing', record_store_catboost_processing_pipe),\n",
    "    ('catboost',catboost)\n",
    "])"
   ]
  },
  {
   "cell_type": "code",
   "execution_count": 72,
   "metadata": {
    "colab": {
     "base_uri": "https://localhost:8080/",
     "height": 1000
    },
    "colab_type": "code",
    "id": "MQW9Ojz08asu",
    "outputId": "593845e4-a73f-427c-a806-4887d8037250"
   },
   "outputs": [
    {
     "name": "stdout",
     "output_type": "stream",
     "text": [
      "Fitting 5 folds for each of 4 candidates, totalling 20 fits\n"
     ]
    },
    {
     "name": "stderr",
     "output_type": "stream",
     "text": [
      "[Parallel(n_jobs=-1)]: Using backend LokyBackend with 4 concurrent workers.\n",
      "/usr/local/lib/python3.6/dist-packages/joblib/externals/loky/process_executor.py:691: UserWarning: A worker stopped while some jobs were given to the executor. This can be caused by a too short worker timeout or by a memory leak.\n",
      "  \"timeout or by a memory leak.\", UserWarning\n",
      "[Parallel(n_jobs=-1)]: Done  20 out of  20 | elapsed:  2.4min finished\n"
     ]
    },
    {
     "name": "stdout",
     "output_type": "stream",
     "text": [
      "0:\tlearn: 0.8531724\ttotal: 76.9ms\tremaining: 7.61s\n",
      "1:\tlearn: 0.8380214\ttotal: 91.8ms\tremaining: 4.5s\n",
      "2:\tlearn: 0.8237488\ttotal: 172ms\tremaining: 5.57s\n",
      "3:\tlearn: 0.8109779\ttotal: 329ms\tremaining: 7.91s\n",
      "4:\tlearn: 0.8015994\ttotal: 464ms\tremaining: 8.82s\n",
      "5:\tlearn: 0.7921416\ttotal: 606ms\tremaining: 9.5s\n",
      "6:\tlearn: 0.7837169\ttotal: 741ms\tremaining: 9.85s\n",
      "7:\tlearn: 0.7772279\ttotal: 883ms\tremaining: 10.2s\n",
      "8:\tlearn: 0.7706860\ttotal: 1.02s\tremaining: 10.3s\n",
      "9:\tlearn: 0.7653305\ttotal: 1.05s\tremaining: 9.49s\n",
      "10:\tlearn: 0.7580951\ttotal: 1.19s\tremaining: 9.64s\n",
      "11:\tlearn: 0.7515238\ttotal: 1.33s\tremaining: 9.75s\n",
      "12:\tlearn: 0.7455376\ttotal: 1.46s\tremaining: 9.8s\n",
      "13:\tlearn: 0.7413016\ttotal: 1.6s\tremaining: 9.86s\n",
      "14:\tlearn: 0.7389756\ttotal: 1.61s\tremaining: 9.14s\n",
      "15:\tlearn: 0.7349808\ttotal: 1.75s\tremaining: 9.2s\n",
      "16:\tlearn: 0.7325927\ttotal: 1.79s\tremaining: 8.74s\n",
      "17:\tlearn: 0.7294224\ttotal: 1.93s\tremaining: 8.79s\n",
      "18:\tlearn: 0.7268445\ttotal: 2.07s\tremaining: 8.81s\n",
      "19:\tlearn: 0.7249975\ttotal: 2.2s\tremaining: 8.81s\n",
      "20:\tlearn: 0.7234500\ttotal: 2.24s\tremaining: 8.43s\n",
      "21:\tlearn: 0.7199392\ttotal: 2.28s\tremaining: 8.08s\n",
      "22:\tlearn: 0.7173895\ttotal: 2.43s\tremaining: 8.14s\n",
      "23:\tlearn: 0.7146243\ttotal: 2.57s\tremaining: 8.14s\n",
      "24:\tlearn: 0.7132818\ttotal: 2.58s\tremaining: 7.74s\n",
      "25:\tlearn: 0.7114063\ttotal: 2.62s\tremaining: 7.45s\n",
      "26:\tlearn: 0.7103051\ttotal: 2.64s\tremaining: 7.14s\n",
      "27:\tlearn: 0.7092999\ttotal: 2.66s\tremaining: 6.84s\n",
      "28:\tlearn: 0.7085183\ttotal: 2.67s\tremaining: 6.53s\n",
      "29:\tlearn: 0.7073546\ttotal: 2.74s\tremaining: 6.39s\n",
      "30:\tlearn: 0.7056717\ttotal: 2.88s\tremaining: 6.41s\n",
      "31:\tlearn: 0.7047141\ttotal: 2.95s\tremaining: 6.26s\n",
      "32:\tlearn: 0.7028526\ttotal: 3.08s\tremaining: 6.25s\n",
      "33:\tlearn: 0.7022016\ttotal: 3.11s\tremaining: 6.04s\n",
      "34:\tlearn: 0.7008346\ttotal: 3.25s\tremaining: 6.03s\n",
      "35:\tlearn: 0.7001337\ttotal: 3.26s\tremaining: 5.8s\n",
      "36:\tlearn: 0.6995766\ttotal: 3.4s\tremaining: 5.79s\n",
      "37:\tlearn: 0.6981692\ttotal: 3.46s\tremaining: 5.65s\n",
      "38:\tlearn: 0.6973510\ttotal: 3.49s\tremaining: 5.45s\n",
      "39:\tlearn: 0.6972774\ttotal: 3.49s\tremaining: 5.24s\n",
      "40:\tlearn: 0.6964145\ttotal: 3.63s\tremaining: 5.23s\n",
      "41:\tlearn: 0.6960571\ttotal: 3.77s\tremaining: 5.2s\n",
      "42:\tlearn: 0.6954773\ttotal: 3.91s\tremaining: 5.18s\n",
      "43:\tlearn: 0.6947371\ttotal: 4.04s\tremaining: 5.14s\n",
      "44:\tlearn: 0.6943766\ttotal: 4.06s\tremaining: 4.97s\n",
      "45:\tlearn: 0.6943307\ttotal: 4.07s\tremaining: 4.77s\n",
      "46:\tlearn: 0.6931952\ttotal: 4.2s\tremaining: 4.74s\n",
      "47:\tlearn: 0.6920690\ttotal: 4.33s\tremaining: 4.7s\n",
      "48:\tlearn: 0.6920689\ttotal: 4.34s\tremaining: 4.51s\n",
      "49:\tlearn: 0.6920567\ttotal: 4.34s\tremaining: 4.34s\n",
      "50:\tlearn: 0.6918133\ttotal: 4.36s\tremaining: 4.18s\n",
      "51:\tlearn: 0.6909428\ttotal: 4.5s\tremaining: 4.15s\n",
      "52:\tlearn: 0.6905992\ttotal: 4.63s\tremaining: 4.11s\n",
      "53:\tlearn: 0.6905176\ttotal: 4.64s\tremaining: 3.96s\n",
      "54:\tlearn: 0.6900668\ttotal: 4.78s\tremaining: 3.91s\n",
      "55:\tlearn: 0.6895797\ttotal: 4.79s\tremaining: 3.76s\n",
      "56:\tlearn: 0.6889432\ttotal: 4.81s\tremaining: 3.63s\n",
      "57:\tlearn: 0.6882764\ttotal: 4.95s\tremaining: 3.58s\n",
      "58:\tlearn: 0.6879370\ttotal: 4.96s\tremaining: 3.45s\n",
      "59:\tlearn: 0.6879280\ttotal: 4.97s\tremaining: 3.31s\n",
      "60:\tlearn: 0.6871775\ttotal: 5.1s\tremaining: 3.26s\n",
      "61:\tlearn: 0.6871720\ttotal: 5.11s\tremaining: 3.13s\n",
      "62:\tlearn: 0.6865492\ttotal: 5.24s\tremaining: 3.08s\n",
      "63:\tlearn: 0.6855825\ttotal: 5.38s\tremaining: 3.03s\n",
      "64:\tlearn: 0.6848877\ttotal: 5.51s\tremaining: 2.97s\n",
      "65:\tlearn: 0.6844543\ttotal: 5.58s\tremaining: 2.87s\n",
      "66:\tlearn: 0.6843614\ttotal: 5.6s\tremaining: 2.76s\n",
      "67:\tlearn: 0.6843614\ttotal: 5.61s\tremaining: 2.64s\n",
      "68:\tlearn: 0.6838887\ttotal: 5.74s\tremaining: 2.58s\n",
      "69:\tlearn: 0.6837833\ttotal: 5.81s\tremaining: 2.49s\n",
      "70:\tlearn: 0.6837833\ttotal: 5.82s\tremaining: 2.38s\n",
      "71:\tlearn: 0.6835709\ttotal: 5.84s\tremaining: 2.27s\n",
      "72:\tlearn: 0.6835214\ttotal: 5.85s\tremaining: 2.16s\n",
      "73:\tlearn: 0.6835214\ttotal: 5.85s\tremaining: 2.06s\n",
      "74:\tlearn: 0.6835139\ttotal: 5.86s\tremaining: 1.95s\n",
      "75:\tlearn: 0.6834729\ttotal: 5.86s\tremaining: 1.85s\n",
      "76:\tlearn: 0.6834558\ttotal: 5.87s\tremaining: 1.75s\n",
      "77:\tlearn: 0.6830157\ttotal: 5.88s\tremaining: 1.66s\n",
      "78:\tlearn: 0.6829992\ttotal: 5.88s\tremaining: 1.56s\n",
      "79:\tlearn: 0.6825353\ttotal: 5.92s\tremaining: 1.48s\n",
      "80:\tlearn: 0.6825353\ttotal: 5.92s\tremaining: 1.39s\n",
      "81:\tlearn: 0.6825250\ttotal: 5.94s\tremaining: 1.3s\n",
      "82:\tlearn: 0.6824017\ttotal: 6.07s\tremaining: 1.24s\n",
      "83:\tlearn: 0.6823783\ttotal: 6.09s\tremaining: 1.16s\n",
      "84:\tlearn: 0.6820531\ttotal: 6.23s\tremaining: 1.1s\n",
      "85:\tlearn: 0.6820421\ttotal: 6.24s\tremaining: 1.01s\n",
      "86:\tlearn: 0.6819230\ttotal: 6.26s\tremaining: 935ms\n",
      "87:\tlearn: 0.6813936\ttotal: 6.39s\tremaining: 872ms\n",
      "88:\tlearn: 0.6813833\ttotal: 6.4s\tremaining: 791ms\n",
      "89:\tlearn: 0.6812398\ttotal: 6.42s\tremaining: 714ms\n",
      "90:\tlearn: 0.6812167\ttotal: 6.43s\tremaining: 636ms\n",
      "91:\tlearn: 0.6806178\ttotal: 6.56s\tremaining: 570ms\n",
      "92:\tlearn: 0.6806178\ttotal: 6.56s\tremaining: 494ms\n",
      "93:\tlearn: 0.6806178\ttotal: 6.56s\tremaining: 419ms\n",
      "94:\tlearn: 0.6806090\ttotal: 6.57s\tremaining: 346ms\n",
      "95:\tlearn: 0.6795736\ttotal: 6.71s\tremaining: 280ms\n",
      "96:\tlearn: 0.6794715\ttotal: 6.84s\tremaining: 212ms\n",
      "97:\tlearn: 0.6794715\ttotal: 6.84s\tremaining: 140ms\n",
      "98:\tlearn: 0.6794490\ttotal: 6.85s\tremaining: 69.2ms\n",
      "99:\tlearn: 0.6794257\ttotal: 6.86s\tremaining: 0us\n"
     ]
    },
    {
     "data": {
      "text/plain": [
       "Pipeline(memory=None,\n",
       "         steps=[('processing',\n",
       "                 Pipeline(memory=None,\n",
       "                          steps=[('record_store_column_remover',\n",
       "                                  ColumnRemover(remove_columns={'average_rating',\n",
       "                                                                'community_have',\n",
       "                                                                'community_want',\n",
       "                                                                'country_albania',\n",
       "                                                                'country_algeria',\n",
       "                                                                'country_andorra',\n",
       "                                                                'country_angola',\n",
       "                                                                'country_argentina',\n",
       "                                                                'country_armenia',\n",
       "                                                                'country_aruba',\n",
       "                                                                'country_australia',\n",
       "                                                                'country_austria',\n",
       "                                                                'coun...\n",
       "                          verbose=False)),\n",
       "                ('grid_search',\n",
       "                 GridSearchCV(cv=KFold(n_splits=5, random_state=None, shuffle=True),\n",
       "                              error_score=nan,\n",
       "                              estimator=<catboost.core.CatBoostRegressor object at 0x7f16713c09e8>,\n",
       "                              iid='deprecated', n_jobs=-1,\n",
       "                              param_grid={'l2_leaf_reg': [1, 3, 5, 8]},\n",
       "                              pre_dispatch='2*n_jobs', refit=True,\n",
       "                              return_train_score=True,\n",
       "                              scoring='neg_mean_absolute_error', verbose=1))],\n",
       "         verbose=False)"
      ]
     },
     "execution_count": 72,
     "metadata": {
      "tags": []
     },
     "output_type": "execute_result"
    }
   ],
   "source": [
    "record_store_catboost_grid_pipe.fit(X_tr_sample,np.log(y_tr_sample))"
   ]
  },
  {
   "cell_type": "code",
   "execution_count": 73,
   "metadata": {
    "colab": {
     "base_uri": "https://localhost:8080/",
     "height": 296
    },
    "colab_type": "code",
    "id": "9MWNatKvNkWQ",
    "outputId": "9f417189-fafe-4160-95a2-9e0d7cbebd0b"
   },
   "outputs": [
    {
     "data": {
      "image/png": "[encoded data removed]",
      "text/plain": [
       "<Figure size 432x288 with 1 Axes>"
      ]
     },
     "metadata": {
      "needs_background": "light",
      "tags": []
     },
     "output_type": "display_data"
    }
   ],
   "source": [
    "record_store_catboost_plot = GridSearchPlotter(record_store_catboost_grid_pipe.steps[-1][1])\n",
    "record_store_catboost_plot.plot_validation_curve(parameter='l2_leaf_reg',ylim=(-2,1))"
   ]
  },
  {
   "cell_type": "code",
   "execution_count": 74,
   "metadata": {
    "colab": {
     "base_uri": "https://localhost:8080/",
     "height": 35
    },
    "colab_type": "code",
    "id": "D82wspKV8XCK",
    "outputId": "ca613ee3-89e7-4ed7-facd-d479ee7fd904"
   },
   "outputs": [
    {
     "data": {
      "text/plain": [
       "-0.5220352547553269"
      ]
     },
     "execution_count": 74,
     "metadata": {
      "tags": []
     },
     "output_type": "execute_result"
    }
   ],
   "source": [
    "record_store_catboost_grid_pipe.steps[-1][1].best_score_"
   ]
  },
  {
   "cell_type": "code",
   "execution_count": 75,
   "metadata": {
    "colab": {
     "base_uri": "https://localhost:8080/",
     "height": 35
    },
    "colab_type": "code",
    "id": "iJHB_2xe8ZN_",
    "outputId": "3de52ab4-be86-472a-a56d-b2c5c67aaeba"
   },
   "outputs": [
    {
     "data": {
      "text/plain": [
       "{'l2_leaf_reg': 5}"
      ]
     },
     "execution_count": 75,
     "metadata": {
      "tags": []
     },
     "output_type": "execute_result"
    }
   ],
   "source": [
    "record_store_catboost_grid_pipe.steps[-1][1].best_params_"
   ]
  },
  {
   "cell_type": "markdown",
   "metadata": {
    "colab_type": "text",
    "id": "Xa83fKbBe_Nb"
   },
   "source": [
    "After searching over the hyperparameter space, we obtain cross validation results that end up looking fairly similar to those that we obtained from the Linear and Ridge regressions. This indicates that there seems to be a clear upper limit in the performance of our algorithms on our data, and that even this state of the art algorithm may not significantly improve on the performance of our previous results. "
   ]
  },
  {
   "cell_type": "code",
   "execution_count": 76,
   "metadata": {
    "colab": {
     "base_uri": "https://localhost:8080/",
     "height": 1000
    },
    "colab_type": "code",
    "id": "dU_pJkadk1kC",
    "outputId": "e81b2ef7-3f97-4e01-ce26-205c6e68dd01"
   },
   "outputs": [
    {
     "name": "stdout",
     "output_type": "stream",
     "text": [
      "0:\tlearn: 0.8444498\ttotal: 351ms\tremaining: 34.7s\n",
      "1:\tlearn: 0.8234880\ttotal: 654ms\tremaining: 32s\n",
      "2:\tlearn: 0.8061489\ttotal: 961ms\tremaining: 31.1s\n",
      "3:\tlearn: 0.7911933\ttotal: 1.28s\tremaining: 30.8s\n",
      "4:\tlearn: 0.7750180\ttotal: 1.59s\tremaining: 30.2s\n",
      "5:\tlearn: 0.7613313\ttotal: 1.89s\tremaining: 29.6s\n",
      "6:\tlearn: 0.7502955\ttotal: 2.2s\tremaining: 29.2s\n",
      "7:\tlearn: 0.7407094\ttotal: 2.5s\tremaining: 28.7s\n",
      "8:\tlearn: 0.7321343\ttotal: 2.81s\tremaining: 28.4s\n",
      "9:\tlearn: 0.7250517\ttotal: 3.11s\tremaining: 28s\n",
      "10:\tlearn: 0.7192921\ttotal: 3.42s\tremaining: 27.6s\n",
      "11:\tlearn: 0.7140396\ttotal: 3.71s\tremaining: 27.2s\n",
      "12:\tlearn: 0.7098356\ttotal: 4.02s\tremaining: 26.9s\n",
      "13:\tlearn: 0.7025892\ttotal: 4.33s\tremaining: 26.6s\n",
      "14:\tlearn: 0.6965373\ttotal: 4.64s\tremaining: 26.3s\n",
      "15:\tlearn: 0.6911743\ttotal: 4.95s\tremaining: 26s\n",
      "16:\tlearn: 0.6867942\ttotal: 5.25s\tremaining: 25.7s\n",
      "17:\tlearn: 0.6830118\ttotal: 5.55s\tremaining: 25.3s\n",
      "18:\tlearn: 0.6799505\ttotal: 5.86s\tremaining: 25s\n",
      "19:\tlearn: 0.6772249\ttotal: 6.16s\tremaining: 24.7s\n",
      "20:\tlearn: 0.6746077\ttotal: 6.47s\tremaining: 24.3s\n",
      "21:\tlearn: 0.6725427\ttotal: 6.77s\tremaining: 24s\n",
      "22:\tlearn: 0.6706004\ttotal: 7.08s\tremaining: 23.7s\n",
      "23:\tlearn: 0.6692031\ttotal: 7.38s\tremaining: 23.4s\n",
      "24:\tlearn: 0.6678164\ttotal: 7.69s\tremaining: 23.1s\n",
      "25:\tlearn: 0.6660996\ttotal: 8s\tremaining: 22.8s\n",
      "26:\tlearn: 0.6651717\ttotal: 8.3s\tremaining: 22.4s\n",
      "27:\tlearn: 0.6642735\ttotal: 8.61s\tremaining: 22.1s\n",
      "28:\tlearn: 0.6635215\ttotal: 8.92s\tremaining: 21.8s\n",
      "29:\tlearn: 0.6628156\ttotal: 9.22s\tremaining: 21.5s\n",
      "30:\tlearn: 0.6620066\ttotal: 9.52s\tremaining: 21.2s\n",
      "31:\tlearn: 0.6606230\ttotal: 9.83s\tremaining: 20.9s\n",
      "32:\tlearn: 0.6593493\ttotal: 10.1s\tremaining: 20.6s\n",
      "33:\tlearn: 0.6582973\ttotal: 10.4s\tremaining: 20.3s\n",
      "34:\tlearn: 0.6573573\ttotal: 10.7s\tremaining: 20s\n",
      "35:\tlearn: 0.6568222\ttotal: 11s\tremaining: 19.6s\n",
      "36:\tlearn: 0.6565685\ttotal: 11.1s\tremaining: 18.9s\n",
      "37:\tlearn: 0.6557647\ttotal: 11.4s\tremaining: 18.6s\n",
      "38:\tlearn: 0.6555158\ttotal: 11.7s\tremaining: 18.3s\n",
      "39:\tlearn: 0.6552521\ttotal: 12s\tremaining: 18s\n",
      "40:\tlearn: 0.6547273\ttotal: 12.3s\tremaining: 17.7s\n",
      "41:\tlearn: 0.6542802\ttotal: 12.6s\tremaining: 17.4s\n",
      "42:\tlearn: 0.6540862\ttotal: 12.9s\tremaining: 17.1s\n",
      "43:\tlearn: 0.6538623\ttotal: 13.2s\tremaining: 16.8s\n",
      "44:\tlearn: 0.6537885\ttotal: 13.3s\tremaining: 16.2s\n",
      "45:\tlearn: 0.6537569\ttotal: 13.3s\tremaining: 15.7s\n",
      "46:\tlearn: 0.6534724\ttotal: 13.6s\tremaining: 15.4s\n",
      "47:\tlearn: 0.6532208\ttotal: 13.9s\tremaining: 15.1s\n",
      "48:\tlearn: 0.6530777\ttotal: 14.2s\tremaining: 14.8s\n",
      "49:\tlearn: 0.6530408\ttotal: 14.3s\tremaining: 14.3s\n",
      "50:\tlearn: 0.6525870\ttotal: 14.6s\tremaining: 14s\n",
      "51:\tlearn: 0.6525697\ttotal: 14.7s\tremaining: 13.5s\n",
      "52:\tlearn: 0.6525389\ttotal: 14.7s\tremaining: 13.1s\n",
      "53:\tlearn: 0.6522724\ttotal: 15s\tremaining: 12.8s\n",
      "54:\tlearn: 0.6521972\ttotal: 15.1s\tremaining: 12.4s\n",
      "55:\tlearn: 0.6520566\ttotal: 15.4s\tremaining: 12.1s\n",
      "56:\tlearn: 0.6519840\ttotal: 15.7s\tremaining: 11.9s\n",
      "57:\tlearn: 0.6519822\ttotal: 15.8s\tremaining: 11.4s\n",
      "58:\tlearn: 0.6519822\ttotal: 15.8s\tremaining: 11s\n",
      "59:\tlearn: 0.6519822\ttotal: 15.8s\tremaining: 10.5s\n",
      "60:\tlearn: 0.6519822\ttotal: 15.8s\tremaining: 10.1s\n",
      "61:\tlearn: 0.6519765\ttotal: 15.8s\tremaining: 9.71s\n",
      "62:\tlearn: 0.6518093\ttotal: 16.1s\tremaining: 9.48s\n",
      "63:\tlearn: 0.6516733\ttotal: 16.4s\tremaining: 9.24s\n",
      "64:\tlearn: 0.6516650\ttotal: 16.5s\tremaining: 8.87s\n",
      "65:\tlearn: 0.6516572\ttotal: 16.5s\tremaining: 8.51s\n",
      "66:\tlearn: 0.6516433\ttotal: 16.6s\tremaining: 8.19s\n",
      "67:\tlearn: 0.6513991\ttotal: 16.9s\tremaining: 7.96s\n",
      "68:\tlearn: 0.6513966\ttotal: 17s\tremaining: 7.62s\n",
      "69:\tlearn: 0.6513535\ttotal: 17.3s\tremaining: 7.39s\n",
      "70:\tlearn: 0.6513257\ttotal: 17.6s\tremaining: 7.17s\n",
      "71:\tlearn: 0.6513226\ttotal: 17.6s\tremaining: 6.84s\n",
      "72:\tlearn: 0.6512878\ttotal: 17.7s\tremaining: 6.53s\n",
      "73:\tlearn: 0.6512835\ttotal: 17.7s\tremaining: 6.23s\n",
      "74:\tlearn: 0.6512835\ttotal: 17.7s\tremaining: 5.92s\n",
      "75:\tlearn: 0.6512835\ttotal: 17.8s\tremaining: 5.62s\n",
      "76:\tlearn: 0.6512818\ttotal: 17.8s\tremaining: 5.32s\n",
      "77:\tlearn: 0.6510384\ttotal: 18.1s\tremaining: 5.11s\n",
      "78:\tlearn: 0.6510354\ttotal: 18.2s\tremaining: 4.83s\n",
      "79:\tlearn: 0.6510347\ttotal: 18.2s\tremaining: 4.55s\n",
      "80:\tlearn: 0.6510329\ttotal: 18.3s\tremaining: 4.28s\n",
      "81:\tlearn: 0.6504102\ttotal: 18.6s\tremaining: 4.08s\n",
      "82:\tlearn: 0.6503629\ttotal: 18.9s\tremaining: 3.86s\n",
      "83:\tlearn: 0.6503629\ttotal: 18.9s\tremaining: 3.6s\n",
      "84:\tlearn: 0.6503614\ttotal: 18.9s\tremaining: 3.34s\n",
      "85:\tlearn: 0.6503614\ttotal: 18.9s\tremaining: 3.08s\n",
      "86:\tlearn: 0.6503611\ttotal: 19s\tremaining: 2.83s\n",
      "87:\tlearn: 0.6503611\ttotal: 19s\tremaining: 2.59s\n",
      "88:\tlearn: 0.6503611\ttotal: 19s\tremaining: 2.35s\n",
      "89:\tlearn: 0.6503611\ttotal: 19.1s\tremaining: 2.12s\n",
      "90:\tlearn: 0.6503611\ttotal: 19.1s\tremaining: 1.89s\n",
      "91:\tlearn: 0.6497671\ttotal: 19.4s\tremaining: 1.69s\n",
      "92:\tlearn: 0.6497671\ttotal: 19.4s\tremaining: 1.46s\n",
      "93:\tlearn: 0.6497671\ttotal: 19.4s\tremaining: 1.24s\n",
      "94:\tlearn: 0.6497164\ttotal: 19.7s\tremaining: 1.04s\n",
      "95:\tlearn: 0.6497164\ttotal: 19.8s\tremaining: 824ms\n",
      "96:\tlearn: 0.6497164\ttotal: 19.8s\tremaining: 612ms\n",
      "97:\tlearn: 0.6497160\ttotal: 19.8s\tremaining: 405ms\n",
      "98:\tlearn: 0.6493187\ttotal: 20.1s\tremaining: 203ms\n",
      "99:\tlearn: 0.6493187\ttotal: 20.1s\tremaining: 0us\n"
     ]
    },
    {
     "data": {
      "text/plain": [
       "Pipeline(memory=None,\n",
       "         steps=[('processing',\n",
       "                 Pipeline(memory=None,\n",
       "                          steps=[('record_store_column_remover',\n",
       "                                  ColumnRemover(remove_columns={'average_rating',\n",
       "                                                                'community_have',\n",
       "                                                                'community_want',\n",
       "                                                                'country_albania',\n",
       "                                                                'country_algeria',\n",
       "                                                                'country_andorra',\n",
       "                                                                'country_angola',\n",
       "                                                                'country_argentina',\n",
       "                                                                'country_armenia',\n",
       "                                                                'country_aruba',\n",
       "                                                                'country_australia',\n",
       "                                                                'country_austria',\n",
       "                                                                'coun...\n",
       "                                                                'country_belize',\n",
       "                                                                'country_bermuda',\n",
       "                                                                'country_bolivia '\n",
       "                                                                '(plurinational '\n",
       "                                                                'state of)',\n",
       "                                                                'country_bosnia '\n",
       "                                                                'and '\n",
       "                                                                'herzegovina',\n",
       "                                                                'country_brazil',\n",
       "                                                                'country_bulgaria',\n",
       "                                                                'country_cabo '\n",
       "                                                                'verde',\n",
       "                                                                'country_cambodia',\n",
       "                                                                'country_cameroon',\n",
       "                                                                'country_canada',\n",
       "                                                                'country_chile', ...}))],\n",
       "                          verbose=False)),\n",
       "                ('catboost',\n",
       "                 <catboost.core.CatBoostRegressor object at 0x7f16713c09e8>)],\n",
       "         verbose=False)"
      ]
     },
     "execution_count": 76,
     "metadata": {
      "tags": []
     },
     "output_type": "execute_result"
    }
   ],
   "source": [
    "record_store_catboost_pipe.fit(X_tr,np.log(y_tr))"
   ]
  },
  {
   "cell_type": "code",
   "execution_count": null,
   "metadata": {
    "colab": {},
    "colab_type": "code",
    "id": "QtP6T-Ir8asx"
   },
   "outputs": [],
   "source": [
    "record_store_catboost_te_pred = record_store_catboost_pipe.predict(X_te)"
   ]
  },
  {
   "cell_type": "code",
   "execution_count": 78,
   "metadata": {
    "colab": {
     "base_uri": "https://localhost:8080/",
     "height": 35
    },
    "colab_type": "code",
    "id": "2BLq7nQR42RA",
    "outputId": "d5423dd6-6400-4fd8-e9ed-db8616e461ea"
   },
   "outputs": [
    {
     "data": {
      "text/plain": [
       "7.835507965380133"
      ]
     },
     "execution_count": 78,
     "metadata": {
      "tags": []
     },
     "output_type": "execute_result"
    }
   ],
   "source": [
    "record_store_catboost_mae = mean_absolute_error(y_te,np.exp(record_store_catboost_te_pred))\n",
    "record_store_catboost_mae"
   ]
  },
  {
   "cell_type": "code",
   "execution_count": 79,
   "metadata": {
    "colab": {
     "base_uri": "https://localhost:8080/",
     "height": 53
    },
    "colab_type": "code",
    "id": "flPo1o1bAhTs",
    "outputId": "cd6a9780-0a40-46e6-e015-115bf95b7658"
   },
   "outputs": [
    {
     "name": "stdout",
     "output_type": "stream",
     "text": [
      "CatBoost performance wrt Linear Regression is: \n",
      "MAE: -0.953\n"
     ]
    }
   ],
   "source": [
    "print_results('CatBoost',record_store_catboost_mae,'Linear Regression',record_store_lr_mae)"
   ]
  },
  {
   "cell_type": "markdown",
   "metadata": {
    "colab_type": "text",
    "id": "z0DIb14ze8Zc"
   },
   "source": [
    "Despite the fairly similar looking results we obtained on our cross validation, we are able to improve on the performance of our best performing previous models by a substantial margin, with a final mean absolute error value on our test predictions of 7.79, and an R2 of 0.267. While this performance is still far from representing a strong model for the prediction of ``market_value``, it is clear that by using the CatBoost algorithm, which is distinctly engineered to perform well for datasets with categorical features, we are able to obtain a clear improvement in performance."
   ]
  },
  {
   "cell_type": "markdown",
   "metadata": {
    "colab_type": "text",
    "id": "1N-puXCSk1kP"
   },
   "source": [
    "## CatBoost - Full Information\n",
    "Having witnessed an encouraging improvement in performance via the use of the CatBoost algorithm for our prediction problem in the Record Store scenario, we now turn to the Full Information scenario, and attempt to identify whether a significant difference can be observed in the predictive performance of CatBoost between these two scenarios."
   ]
  },
  {
   "cell_type": "code",
   "execution_count": null,
   "metadata": {
    "colab": {},
    "colab_type": "code",
    "id": "tIZEJfS6k1kQ"
   },
   "outputs": [],
   "source": [
    "full_information_catboost_removal_columns = record_store_catboost_removal_columns - full_information_columns"
   ]
  },
  {
   "cell_type": "code",
   "execution_count": null,
   "metadata": {
    "colab": {},
    "colab_type": "code",
    "id": "uOt1Def_k1kS"
   },
   "outputs": [],
   "source": [
    "full_information_catboost_processing_pipe = Pipeline([\n",
    "    ('record_store_column_remover', ColumnRemover(full_information_catboost_removal_columns)),\n",
    "])\n",
    "\n",
    "full_information_catboost_grid_pipe = Pipeline([\n",
    "    ('processing', full_information_catboost_processing_pipe),\n",
    "    ('grid_search', GridSearchCV(\n",
    "        catboost,\n",
    "        param_grid={            \n",
    "            #'learning_rate': np.logspace(-3,1,5),\n",
    "            #'border_count': np.linspace(1,200,5),\n",
    "            'l2_leaf_reg': [1,3,5,8],\n",
    "        },\n",
    "        n_jobs=3,\n",
    "        cv=KFold(n_splits=5,shuffle=True),\n",
    "        scoring='neg_mean_absolute_error',\n",
    "        verbose=50,\n",
    "        return_train_score=True)\n",
    "    )\n",
    "])\n",
    "\n",
    "full_information_catboost_pipe = Pipeline([\n",
    "    ('processing', full_information_catboost_processing_pipe),\n",
    "    ('catboost',catboost)\n",
    "])"
   ]
  },
  {
   "cell_type": "code",
   "execution_count": 82,
   "metadata": {
    "colab": {
     "base_uri": "https://localhost:8080/",
     "height": 1000
    },
    "colab_type": "code",
    "id": "YveUFwIJk1kU",
    "outputId": "35857c51-a056-4b2f-cd55-434fc587fc55"
   },
   "outputs": [
    {
     "name": "stdout",
     "output_type": "stream",
     "text": [
      "Fitting 5 folds for each of 4 candidates, totalling 20 fits\n",
      "[Parallel(n_jobs=3)]: Using backend LokyBackend with 3 concurrent workers.\n",
      "[Parallel(n_jobs=3)]: Done   1 tasks      | elapsed:   28.6s\n",
      "[Parallel(n_jobs=3)]: Done   2 tasks      | elapsed:   28.8s\n",
      "[Parallel(n_jobs=3)]: Done   3 tasks      | elapsed:   30.9s\n",
      "[Parallel(n_jobs=3)]: Done   4 tasks      | elapsed:   54.2s\n",
      "[Parallel(n_jobs=3)]: Done   5 tasks      | elapsed:   58.3s\n"
     ]
    },
    {
     "name": "stderr",
     "output_type": "stream",
     "text": [
      "/usr/local/lib/python3.6/dist-packages/joblib/externals/loky/process_executor.py:691: UserWarning: A worker stopped while some jobs were given to the executor. This can be caused by a too short worker timeout or by a memory leak.\n",
      "  \"timeout or by a memory leak.\", UserWarning\n"
     ]
    },
    {
     "name": "stdout",
     "output_type": "stream",
     "text": [
      "[Parallel(n_jobs=3)]: Done   6 tasks      | elapsed:  1.0min\n",
      "[Parallel(n_jobs=3)]: Done   7 tasks      | elapsed:  1.4min\n",
      "[Parallel(n_jobs=3)]: Done   8 tasks      | elapsed:  1.5min\n",
      "[Parallel(n_jobs=3)]: Done   9 tasks      | elapsed:  1.5min\n",
      "[Parallel(n_jobs=3)]: Done  10 tasks      | elapsed:  2.0min\n",
      "[Parallel(n_jobs=3)]: Done  11 tasks      | elapsed:  2.0min\n",
      "[Parallel(n_jobs=3)]: Done  12 tasks      | elapsed:  2.0min\n",
      "[Parallel(n_jobs=3)]: Done  13 tasks      | elapsed:  2.5min\n",
      "[Parallel(n_jobs=3)]: Done  14 tasks      | elapsed:  2.5min\n",
      "[Parallel(n_jobs=3)]: Done  15 tasks      | elapsed:  2.6min\n",
      "[Parallel(n_jobs=3)]: Done  16 out of  20 | elapsed:  3.0min remaining:   44.9s\n",
      "[Parallel(n_jobs=3)]: Done  17 out of  20 | elapsed:  3.0min remaining:   31.9s\n",
      "[Parallel(n_jobs=3)]: Done  18 out of  20 | elapsed:  3.2min remaining:   21.0s\n",
      "[Parallel(n_jobs=3)]: Done  20 out of  20 | elapsed:  3.4min remaining:    0.0s\n",
      "[Parallel(n_jobs=3)]: Done  20 out of  20 | elapsed:  3.4min finished\n",
      "0:\tlearn: 0.8417440\ttotal: 197ms\tremaining: 19.5s\n",
      "1:\tlearn: 0.8139025\ttotal: 362ms\tremaining: 17.7s\n",
      "2:\tlearn: 0.7897980\ttotal: 529ms\tremaining: 17.1s\n",
      "3:\tlearn: 0.7691210\ttotal: 699ms\tremaining: 16.8s\n",
      "4:\tlearn: 0.7508500\ttotal: 869ms\tremaining: 16.5s\n",
      "5:\tlearn: 0.7364610\ttotal: 1.03s\tremaining: 16.2s\n",
      "6:\tlearn: 0.7239314\ttotal: 1.2s\tremaining: 16s\n",
      "7:\tlearn: 0.7138800\ttotal: 1.25s\tremaining: 14.4s\n",
      "8:\tlearn: 0.7045659\ttotal: 1.41s\tremaining: 14.3s\n",
      "9:\tlearn: 0.6969795\ttotal: 1.44s\tremaining: 13s\n",
      "10:\tlearn: 0.6903904\ttotal: 1.6s\tremaining: 13s\n",
      "11:\tlearn: 0.6818209\ttotal: 1.77s\tremaining: 13s\n",
      "12:\tlearn: 0.6751471\ttotal: 1.94s\tremaining: 13s\n",
      "13:\tlearn: 0.6691960\ttotal: 2.11s\tremaining: 13s\n",
      "14:\tlearn: 0.6641375\ttotal: 2.15s\tremaining: 12.2s\n",
      "15:\tlearn: 0.6586679\ttotal: 2.33s\tremaining: 12.2s\n",
      "16:\tlearn: 0.6544858\ttotal: 2.35s\tremaining: 11.5s\n",
      "17:\tlearn: 0.6505522\ttotal: 2.52s\tremaining: 11.5s\n",
      "18:\tlearn: 0.6465651\ttotal: 2.69s\tremaining: 11.5s\n",
      "19:\tlearn: 0.6432187\ttotal: 2.86s\tremaining: 11.4s\n",
      "20:\tlearn: 0.6404348\ttotal: 3.03s\tremaining: 11.4s\n",
      "21:\tlearn: 0.6375711\ttotal: 3.2s\tremaining: 11.3s\n",
      "22:\tlearn: 0.6345480\ttotal: 3.37s\tremaining: 11.3s\n",
      "23:\tlearn: 0.6315432\ttotal: 3.53s\tremaining: 11.2s\n",
      "24:\tlearn: 0.6284175\ttotal: 3.7s\tremaining: 11.1s\n",
      "25:\tlearn: 0.6264398\ttotal: 3.86s\tremaining: 11s\n",
      "26:\tlearn: 0.6251762\ttotal: 4.04s\tremaining: 10.9s\n",
      "27:\tlearn: 0.6230504\ttotal: 4.2s\tremaining: 10.8s\n",
      "28:\tlearn: 0.6219211\ttotal: 4.37s\tremaining: 10.7s\n",
      "29:\tlearn: 0.6209924\ttotal: 4.41s\tremaining: 10.3s\n",
      "30:\tlearn: 0.6199659\ttotal: 4.43s\tremaining: 9.86s\n",
      "31:\tlearn: 0.6178588\ttotal: 4.6s\tremaining: 9.77s\n",
      "32:\tlearn: 0.6159067\ttotal: 4.64s\tremaining: 9.42s\n",
      "33:\tlearn: 0.6152690\ttotal: 4.65s\tremaining: 9.02s\n",
      "34:\tlearn: 0.6139360\ttotal: 4.82s\tremaining: 8.95s\n",
      "35:\tlearn: 0.6119478\ttotal: 4.99s\tremaining: 8.87s\n",
      "36:\tlearn: 0.6108674\ttotal: 5.07s\tremaining: 8.64s\n",
      "37:\tlearn: 0.6106120\ttotal: 5.09s\tremaining: 8.3s\n",
      "38:\tlearn: 0.6095695\ttotal: 5.26s\tremaining: 8.22s\n",
      "39:\tlearn: 0.6087008\ttotal: 5.34s\tremaining: 8.01s\n",
      "40:\tlearn: 0.6081446\ttotal: 5.42s\tremaining: 7.8s\n",
      "41:\tlearn: 0.6068091\ttotal: 5.59s\tremaining: 7.72s\n",
      "42:\tlearn: 0.6058241\ttotal: 5.76s\tremaining: 7.63s\n",
      "43:\tlearn: 0.6053743\ttotal: 5.92s\tremaining: 7.54s\n",
      "44:\tlearn: 0.6047154\ttotal: 6.09s\tremaining: 7.44s\n",
      "45:\tlearn: 0.6043727\ttotal: 6.11s\tremaining: 7.18s\n",
      "46:\tlearn: 0.6036909\ttotal: 6.13s\tremaining: 6.92s\n",
      "47:\tlearn: 0.6031802\ttotal: 6.16s\tremaining: 6.67s\n",
      "48:\tlearn: 0.6026402\ttotal: 6.17s\tremaining: 6.42s\n",
      "49:\tlearn: 0.6017459\ttotal: 6.33s\tremaining: 6.33s\n",
      "50:\tlearn: 0.6012823\ttotal: 6.35s\tremaining: 6.1s\n",
      "51:\tlearn: 0.6001990\ttotal: 6.51s\tremaining: 6.01s\n",
      "52:\tlearn: 0.5990719\ttotal: 6.67s\tremaining: 5.92s\n",
      "53:\tlearn: 0.5982114\ttotal: 6.84s\tremaining: 5.83s\n",
      "54:\tlearn: 0.5981946\ttotal: 6.85s\tremaining: 5.6s\n",
      "55:\tlearn: 0.5981600\ttotal: 6.85s\tremaining: 5.38s\n",
      "56:\tlearn: 0.5980763\ttotal: 6.86s\tremaining: 5.17s\n",
      "57:\tlearn: 0.5979753\ttotal: 6.87s\tremaining: 4.97s\n",
      "58:\tlearn: 0.5972912\ttotal: 7.04s\tremaining: 4.89s\n",
      "59:\tlearn: 0.5965211\ttotal: 7.21s\tremaining: 4.8s\n",
      "60:\tlearn: 0.5961625\ttotal: 7.25s\tremaining: 4.64s\n",
      "61:\tlearn: 0.5960788\ttotal: 7.26s\tremaining: 4.45s\n",
      "62:\tlearn: 0.5946597\ttotal: 7.42s\tremaining: 4.36s\n",
      "63:\tlearn: 0.5938802\ttotal: 7.58s\tremaining: 4.27s\n",
      "64:\tlearn: 0.5933021\ttotal: 7.6s\tremaining: 4.09s\n",
      "65:\tlearn: 0.5921525\ttotal: 7.76s\tremaining: 4s\n",
      "66:\tlearn: 0.5916685\ttotal: 7.78s\tremaining: 3.83s\n",
      "67:\tlearn: 0.5914103\ttotal: 7.95s\tremaining: 3.74s\n",
      "68:\tlearn: 0.5903495\ttotal: 8.13s\tremaining: 3.65s\n",
      "69:\tlearn: 0.5896022\ttotal: 8.29s\tremaining: 3.55s\n",
      "70:\tlearn: 0.5893919\ttotal: 8.3s\tremaining: 3.39s\n",
      "71:\tlearn: 0.5893481\ttotal: 8.3s\tremaining: 3.23s\n",
      "72:\tlearn: 0.5891615\ttotal: 8.47s\tremaining: 3.13s\n",
      "73:\tlearn: 0.5888374\ttotal: 8.55s\tremaining: 3s\n",
      "74:\tlearn: 0.5886787\ttotal: 8.57s\tremaining: 2.86s\n",
      "75:\tlearn: 0.5886214\ttotal: 8.58s\tremaining: 2.71s\n",
      "76:\tlearn: 0.5879449\ttotal: 8.74s\tremaining: 2.61s\n",
      "77:\tlearn: 0.5870160\ttotal: 8.92s\tremaining: 2.52s\n",
      "78:\tlearn: 0.5860123\ttotal: 9.08s\tremaining: 2.41s\n",
      "79:\tlearn: 0.5857946\ttotal: 9.1s\tremaining: 2.27s\n",
      "80:\tlearn: 0.5855013\ttotal: 9.15s\tremaining: 2.15s\n",
      "81:\tlearn: 0.5854045\ttotal: 9.17s\tremaining: 2.01s\n",
      "82:\tlearn: 0.5848945\ttotal: 9.21s\tremaining: 1.89s\n",
      "83:\tlearn: 0.5848749\ttotal: 9.22s\tremaining: 1.75s\n",
      "84:\tlearn: 0.5839732\ttotal: 9.38s\tremaining: 1.65s\n",
      "85:\tlearn: 0.5835199\ttotal: 9.46s\tremaining: 1.54s\n",
      "86:\tlearn: 0.5833146\ttotal: 9.62s\tremaining: 1.44s\n",
      "87:\tlearn: 0.5831188\ttotal: 9.63s\tremaining: 1.31s\n",
      "88:\tlearn: 0.5829679\ttotal: 9.65s\tremaining: 1.19s\n",
      "89:\tlearn: 0.5829251\ttotal: 9.66s\tremaining: 1.07s\n",
      "90:\tlearn: 0.5826625\ttotal: 9.82s\tremaining: 972ms\n",
      "91:\tlearn: 0.5826617\ttotal: 9.84s\tremaining: 855ms\n",
      "92:\tlearn: 0.5826374\ttotal: 9.85s\tremaining: 741ms\n",
      "93:\tlearn: 0.5825528\ttotal: 9.93s\tremaining: 634ms\n",
      "94:\tlearn: 0.5825161\ttotal: 9.95s\tremaining: 524ms\n",
      "95:\tlearn: 0.5824435\ttotal: 9.97s\tremaining: 416ms\n",
      "96:\tlearn: 0.5823863\ttotal: 9.99s\tremaining: 309ms\n",
      "97:\tlearn: 0.5821493\ttotal: 10s\tremaining: 204ms\n",
      "98:\tlearn: 0.5816310\ttotal: 10.2s\tremaining: 103ms\n",
      "99:\tlearn: 0.5814828\ttotal: 10.3s\tremaining: 0us\n"
     ]
    },
    {
     "data": {
      "text/plain": [
       "Pipeline(memory=None,\n",
       "         steps=[('processing',\n",
       "                 Pipeline(memory=None,\n",
       "                          steps=[('record_store_column_remover',\n",
       "                                  ColumnRemover(remove_columns={'country_albania',\n",
       "                                                                'country_algeria',\n",
       "                                                                'country_andorra',\n",
       "                                                                'country_angola',\n",
       "                                                                'country_argentina',\n",
       "                                                                'country_armenia',\n",
       "                                                                'country_aruba',\n",
       "                                                                'country_australia',\n",
       "                                                                'country_austria',\n",
       "                                                                'country_azerbaijan',\n",
       "                                                                'country_bahamas',\n",
       "                                                                'country_bahrain'...\n",
       "                          verbose=False)),\n",
       "                ('grid_search',\n",
       "                 GridSearchCV(cv=KFold(n_splits=5, random_state=None, shuffle=True),\n",
       "                              error_score=nan,\n",
       "                              estimator=<catboost.core.CatBoostRegressor object at 0x7f16713c09e8>,\n",
       "                              iid='deprecated', n_jobs=3,\n",
       "                              param_grid={'l2_leaf_reg': [1, 3, 5, 8]},\n",
       "                              pre_dispatch='2*n_jobs', refit=True,\n",
       "                              return_train_score=True,\n",
       "                              scoring='neg_mean_absolute_error', verbose=50))],\n",
       "         verbose=False)"
      ]
     },
     "execution_count": 82,
     "metadata": {
      "tags": []
     },
     "output_type": "execute_result"
    }
   ],
   "source": [
    "full_information_catboost_grid_pipe.fit(X_tr_sample,np.log(y_tr_sample).values)"
   ]
  },
  {
   "cell_type": "code",
   "execution_count": 83,
   "metadata": {
    "colab": {
     "base_uri": "https://localhost:8080/",
     "height": 296
    },
    "colab_type": "code",
    "id": "sDzqUDs6k1kW",
    "outputId": "1297d1fd-dae3-4719-ac7e-f3a4fbaa872a"
   },
   "outputs": [
    {
     "data": {
      "image/png": "[encoded data removed]",
      "text/plain": [
       "<Figure size 432x288 with 1 Axes>"
      ]
     },
     "metadata": {
      "needs_background": "light",
      "tags": []
     },
     "output_type": "display_data"
    }
   ],
   "source": [
    "full_information_catboost_plot = GridSearchPlotter(full_information_catboost_grid_pipe.steps[-1][1])\n",
    "full_information_catboost_plot.plot_validation_curve(parameter='l2_leaf_reg',ylim=(-1,0))"
   ]
  },
  {
   "cell_type": "code",
   "execution_count": 84,
   "metadata": {
    "colab": {
     "base_uri": "https://localhost:8080/",
     "height": 35
    },
    "colab_type": "code",
    "id": "rYzXoV8jk1kY",
    "outputId": "e3b69804-234d-4337-9612-97cd3b9ee4e3"
   },
   "outputs": [
    {
     "data": {
      "text/plain": [
       "-0.4616463326757894"
      ]
     },
     "execution_count": 84,
     "metadata": {
      "tags": []
     },
     "output_type": "execute_result"
    }
   ],
   "source": [
    "full_information_catboost_grid_pipe.steps[-1][1].best_score_"
   ]
  },
  {
   "cell_type": "code",
   "execution_count": 85,
   "metadata": {
    "colab": {
     "base_uri": "https://localhost:8080/",
     "height": 35
    },
    "colab_type": "code",
    "id": "9DoQX1JHk1ka",
    "outputId": "b6daf96c-dea7-44f1-c643-4c2077a49278"
   },
   "outputs": [
    {
     "data": {
      "text/plain": [
       "{'l2_leaf_reg': 1}"
      ]
     },
     "execution_count": 85,
     "metadata": {
      "tags": []
     },
     "output_type": "execute_result"
    }
   ],
   "source": [
    "full_information_catboost_grid_pipe.steps[-1][1].best_params_"
   ]
  },
  {
   "cell_type": "markdown",
   "metadata": {
    "colab_type": "text",
    "id": "2EaXuIw_jwi6"
   },
   "source": [
    "After having performed grid search on our hyperparameters for CatBoost, we observe that in the final stages, we obtain cross validation mean absolute error that is 0.06 lower than the cross validation mean absolute error for the Record Store scenario. This improvement in mean absolute error is a promising sign for the performance of our model on the test set."
   ]
  },
  {
   "cell_type": "code",
   "execution_count": 86,
   "metadata": {
    "colab": {
     "base_uri": "https://localhost:8080/",
     "height": 1000
    },
    "colab_type": "code",
    "id": "jo9HfiwMk1kd",
    "outputId": "907c54c6-ace1-409e-84d8-3df25ebc5ae7"
   },
   "outputs": [
    {
     "name": "stdout",
     "output_type": "stream",
     "text": [
      "0:\tlearn: 0.8342101\ttotal: 420ms\tremaining: 41.5s\n",
      "1:\tlearn: 0.8044445\ttotal: 799ms\tremaining: 39.2s\n",
      "2:\tlearn: 0.7805416\ttotal: 1.18s\tremaining: 38.2s\n",
      "3:\tlearn: 0.7589242\ttotal: 1.56s\tremaining: 37.6s\n",
      "4:\tlearn: 0.7397788\ttotal: 1.95s\tremaining: 37s\n",
      "5:\tlearn: 0.7240151\ttotal: 2.33s\tremaining: 36.5s\n",
      "6:\tlearn: 0.7102375\ttotal: 2.71s\tremaining: 36.1s\n",
      "7:\tlearn: 0.6964422\ttotal: 3.1s\tremaining: 35.7s\n",
      "8:\tlearn: 0.6851547\ttotal: 3.49s\tremaining: 35.3s\n",
      "9:\tlearn: 0.6749864\ttotal: 3.87s\tremaining: 34.9s\n",
      "10:\tlearn: 0.6661916\ttotal: 4.25s\tremaining: 34.4s\n",
      "11:\tlearn: 0.6591244\ttotal: 4.63s\tremaining: 33.9s\n",
      "12:\tlearn: 0.6523160\ttotal: 5s\tremaining: 33.4s\n",
      "13:\tlearn: 0.6465108\ttotal: 5.37s\tremaining: 33s\n",
      "14:\tlearn: 0.6414110\ttotal: 5.75s\tremaining: 32.6s\n",
      "15:\tlearn: 0.6366369\ttotal: 6.12s\tremaining: 32.1s\n",
      "16:\tlearn: 0.6322757\ttotal: 6.49s\tremaining: 31.7s\n",
      "17:\tlearn: 0.6289108\ttotal: 6.87s\tremaining: 31.3s\n",
      "18:\tlearn: 0.6257092\ttotal: 7.24s\tremaining: 30.8s\n",
      "19:\tlearn: 0.6215668\ttotal: 7.62s\tremaining: 30.5s\n",
      "20:\tlearn: 0.6183528\ttotal: 7.99s\tremaining: 30.1s\n",
      "21:\tlearn: 0.6153287\ttotal: 8.36s\tremaining: 29.6s\n",
      "22:\tlearn: 0.6125873\ttotal: 8.73s\tremaining: 29.2s\n",
      "23:\tlearn: 0.6102323\ttotal: 9.1s\tremaining: 28.8s\n",
      "24:\tlearn: 0.6080020\ttotal: 9.48s\tremaining: 28.4s\n",
      "25:\tlearn: 0.6063603\ttotal: 9.85s\tremaining: 28s\n",
      "26:\tlearn: 0.6048091\ttotal: 10.2s\tremaining: 27.6s\n",
      "27:\tlearn: 0.6035540\ttotal: 10.6s\tremaining: 27.2s\n",
      "28:\tlearn: 0.6019520\ttotal: 10.9s\tremaining: 26.8s\n",
      "29:\tlearn: 0.6010377\ttotal: 11.3s\tremaining: 26.4s\n",
      "30:\tlearn: 0.6000028\ttotal: 11.7s\tremaining: 26s\n",
      "31:\tlearn: 0.5989353\ttotal: 12.1s\tremaining: 25.6s\n",
      "32:\tlearn: 0.5982986\ttotal: 12.4s\tremaining: 25.2s\n",
      "33:\tlearn: 0.5971104\ttotal: 12.8s\tremaining: 24.8s\n",
      "34:\tlearn: 0.5960205\ttotal: 13.2s\tremaining: 24.5s\n",
      "35:\tlearn: 0.5943206\ttotal: 13.5s\tremaining: 24.1s\n",
      "36:\tlearn: 0.5935356\ttotal: 13.9s\tremaining: 23.7s\n",
      "37:\tlearn: 0.5928233\ttotal: 14.3s\tremaining: 23.3s\n",
      "38:\tlearn: 0.5920865\ttotal: 14.6s\tremaining: 22.9s\n",
      "39:\tlearn: 0.5911226\ttotal: 15s\tremaining: 22.5s\n",
      "40:\tlearn: 0.5904299\ttotal: 15.4s\tremaining: 22.2s\n",
      "41:\tlearn: 0.5894859\ttotal: 15.8s\tremaining: 21.8s\n",
      "42:\tlearn: 0.5891277\ttotal: 16.1s\tremaining: 21.4s\n",
      "43:\tlearn: 0.5884863\ttotal: 16.5s\tremaining: 21s\n",
      "44:\tlearn: 0.5884679\ttotal: 16.5s\tremaining: 20.2s\n",
      "45:\tlearn: 0.5880521\ttotal: 16.9s\tremaining: 19.9s\n",
      "46:\tlearn: 0.5872789\ttotal: 17.3s\tremaining: 19.5s\n",
      "47:\tlearn: 0.5872680\ttotal: 17.3s\tremaining: 18.8s\n",
      "48:\tlearn: 0.5868542\ttotal: 17.7s\tremaining: 18.4s\n",
      "49:\tlearn: 0.5864865\ttotal: 18.1s\tremaining: 18.1s\n",
      "50:\tlearn: 0.5862541\ttotal: 18.2s\tremaining: 17.5s\n",
      "51:\tlearn: 0.5856028\ttotal: 18.6s\tremaining: 17.2s\n",
      "52:\tlearn: 0.5856028\ttotal: 18.6s\tremaining: 16.5s\n",
      "53:\tlearn: 0.5854406\ttotal: 19s\tremaining: 16.2s\n",
      "54:\tlearn: 0.5850697\ttotal: 19.4s\tremaining: 15.8s\n",
      "55:\tlearn: 0.5846261\ttotal: 19.7s\tremaining: 15.5s\n",
      "56:\tlearn: 0.5845781\ttotal: 19.9s\tremaining: 15s\n",
      "57:\tlearn: 0.5843310\ttotal: 20.3s\tremaining: 14.7s\n",
      "58:\tlearn: 0.5842384\ttotal: 20.4s\tremaining: 14.2s\n",
      "59:\tlearn: 0.5842384\ttotal: 20.4s\tremaining: 13.6s\n",
      "60:\tlearn: 0.5842384\ttotal: 20.5s\tremaining: 13.1s\n",
      "61:\tlearn: 0.5839287\ttotal: 20.6s\tremaining: 12.6s\n",
      "62:\tlearn: 0.5837977\ttotal: 21s\tremaining: 12.3s\n",
      "63:\tlearn: 0.5837977\ttotal: 21s\tremaining: 11.8s\n",
      "64:\tlearn: 0.5837692\ttotal: 21.1s\tremaining: 11.4s\n",
      "65:\tlearn: 0.5837128\ttotal: 21.2s\tremaining: 10.9s\n",
      "66:\tlearn: 0.5833451\ttotal: 21.6s\tremaining: 10.6s\n",
      "67:\tlearn: 0.5833444\ttotal: 21.6s\tremaining: 10.2s\n",
      "68:\tlearn: 0.5833444\ttotal: 21.6s\tremaining: 9.72s\n",
      "69:\tlearn: 0.5833444\ttotal: 21.6s\tremaining: 9.28s\n",
      "70:\tlearn: 0.5833336\ttotal: 21.7s\tremaining: 8.86s\n",
      "71:\tlearn: 0.5833264\ttotal: 21.7s\tremaining: 8.46s\n",
      "72:\tlearn: 0.5833264\ttotal: 21.8s\tremaining: 8.05s\n",
      "73:\tlearn: 0.5833182\ttotal: 21.8s\tremaining: 7.67s\n",
      "74:\tlearn: 0.5830429\ttotal: 22.2s\tremaining: 7.4s\n",
      "75:\tlearn: 0.5830429\ttotal: 22.2s\tremaining: 7.02s\n",
      "76:\tlearn: 0.5828574\ttotal: 22.6s\tremaining: 6.75s\n",
      "77:\tlearn: 0.5828429\ttotal: 22.7s\tremaining: 6.39s\n",
      "78:\tlearn: 0.5828429\ttotal: 22.7s\tremaining: 6.03s\n",
      "79:\tlearn: 0.5826872\ttotal: 23.1s\tremaining: 5.76s\n",
      "80:\tlearn: 0.5826864\ttotal: 23.1s\tremaining: 5.42s\n",
      "81:\tlearn: 0.5824637\ttotal: 23.5s\tremaining: 5.15s\n",
      "82:\tlearn: 0.5824630\ttotal: 23.5s\tremaining: 4.82s\n",
      "83:\tlearn: 0.5821889\ttotal: 23.9s\tremaining: 4.55s\n",
      "84:\tlearn: 0.5821867\ttotal: 23.9s\tremaining: 4.22s\n",
      "85:\tlearn: 0.5821855\ttotal: 24s\tremaining: 3.9s\n",
      "86:\tlearn: 0.5821855\ttotal: 24s\tremaining: 3.59s\n",
      "87:\tlearn: 0.5821855\ttotal: 24.1s\tremaining: 3.28s\n",
      "88:\tlearn: 0.5821851\ttotal: 24.1s\tremaining: 2.98s\n",
      "89:\tlearn: 0.5818232\ttotal: 24.5s\tremaining: 2.72s\n",
      "90:\tlearn: 0.5815429\ttotal: 24.9s\tremaining: 2.46s\n",
      "91:\tlearn: 0.5815429\ttotal: 24.9s\tremaining: 2.17s\n",
      "92:\tlearn: 0.5815429\ttotal: 24.9s\tremaining: 1.88s\n",
      "93:\tlearn: 0.5815426\ttotal: 25s\tremaining: 1.59s\n",
      "94:\tlearn: 0.5815140\ttotal: 25.1s\tremaining: 1.32s\n",
      "95:\tlearn: 0.5815140\ttotal: 25.1s\tremaining: 1.04s\n",
      "96:\tlearn: 0.5815140\ttotal: 25.1s\tremaining: 777ms\n",
      "97:\tlearn: 0.5815107\ttotal: 25.2s\tremaining: 514ms\n",
      "98:\tlearn: 0.5809975\ttotal: 25.6s\tremaining: 258ms\n",
      "99:\tlearn: 0.5809969\ttotal: 25.6s\tremaining: 0us\n"
     ]
    },
    {
     "data": {
      "text/plain": [
       "Pipeline(memory=None,\n",
       "         steps=[('processing',\n",
       "                 Pipeline(memory=None,\n",
       "                          steps=[('record_store_column_remover',\n",
       "                                  ColumnRemover(remove_columns={'country_albania',\n",
       "                                                                'country_algeria',\n",
       "                                                                'country_andorra',\n",
       "                                                                'country_angola',\n",
       "                                                                'country_argentina',\n",
       "                                                                'country_armenia',\n",
       "                                                                'country_aruba',\n",
       "                                                                'country_australia',\n",
       "                                                                'country_austria',\n",
       "                                                                'country_azerbaijan',\n",
       "                                                                'country_bahamas',\n",
       "                                                                'country_bahrain'...\n",
       "                                                                '(plurinational '\n",
       "                                                                'state of)',\n",
       "                                                                'country_bosnia '\n",
       "                                                                'and '\n",
       "                                                                'herzegovina',\n",
       "                                                                'country_brazil',\n",
       "                                                                'country_bulgaria',\n",
       "                                                                'country_cabo '\n",
       "                                                                'verde',\n",
       "                                                                'country_cambodia',\n",
       "                                                                'country_cameroon',\n",
       "                                                                'country_canada',\n",
       "                                                                'country_chile',\n",
       "                                                                'country_china',\n",
       "                                                                'country_colombia',\n",
       "                                                                'country_congo', ...}))],\n",
       "                          verbose=False)),\n",
       "                ('catboost',\n",
       "                 <catboost.core.CatBoostRegressor object at 0x7f16713c09e8>)],\n",
       "         verbose=False)"
      ]
     },
     "execution_count": 86,
     "metadata": {
      "tags": []
     },
     "output_type": "execute_result"
    }
   ],
   "source": [
    "full_information_catboost_pipe.fit(X_tr,np.log(y_tr))"
   ]
  },
  {
   "cell_type": "code",
   "execution_count": null,
   "metadata": {
    "colab": {},
    "colab_type": "code",
    "id": "za9_3tZ-k1kf"
   },
   "outputs": [],
   "source": [
    "full_information_catboost_te_pred = full_information_catboost_pipe.predict(X_te)"
   ]
  },
  {
   "cell_type": "code",
   "execution_count": 88,
   "metadata": {
    "colab": {
     "base_uri": "https://localhost:8080/",
     "height": 35
    },
    "colab_type": "code",
    "id": "WmjFcYRak1kk",
    "outputId": "1b6a3edd-96c0-443e-9c3f-28215f2aeb34"
   },
   "outputs": [
    {
     "data": {
      "text/plain": [
       "7.207786046594172"
      ]
     },
     "execution_count": 88,
     "metadata": {
      "tags": []
     },
     "output_type": "execute_result"
    }
   ],
   "source": [
    "full_information_catboost_mae = mean_absolute_error(y_te,np.exp(full_information_catboost_te_pred))\n",
    "full_information_catboost_mae"
   ]
  },
  {
   "cell_type": "code",
   "execution_count": 89,
   "metadata": {
    "colab": {
     "base_uri": "https://localhost:8080/",
     "height": 53
    },
    "colab_type": "code",
    "id": "aue1hkTcBBaC",
    "outputId": "2d098d4e-f7a7-42b4-adf6-88582dd4c1e6"
   },
   "outputs": [
    {
     "name": "stdout",
     "output_type": "stream",
     "text": [
      "CatBoost (FI) performance wrt CatBoost (RS) is: \n",
      "MAE: -0.628\n"
     ]
    }
   ],
   "source": [
    "print_results('CatBoost (FI)',full_information_catboost_mae,'CatBoost (RS)',record_store_catboost_mae)"
   ]
  },
  {
   "cell_type": "markdown",
   "metadata": {
    "colab_type": "text",
    "id": "-KwfGKeBgZuv"
   },
   "source": [
    "As foreshadowed by the improvement in our cross validation mean absolute error, we observe a distinct reduction in the magnitude of our test set Mean Absolute Error for CatBoost, with a reduction of about 0.666. Unlike for previous algorithms, we can identify that the inclusion of the Full Information suite of features results in a stronger model for the prediction of ``market_value``. This is an interesting result, as for previous algorithms, we saw little to no improvement from the inclusion of these features, despite our intuition pointing towards the fact that they should, as it includes features such as ``community_have`` and ``community_want``, which reflect the supply and demand for a given album, respectively. Given that this model actually manages to perform much better than previous models, we see this change in performance via the inclusion of the Full Information features as an argument for the importance of these features in being able to predict Jazz album ``market_value``. Nonetheless, it must also be stated that even with this improvement in performance, the model still does not prove to be highly accurate in estimating the ``market_value`` of Jazz albums, which leads us to conclude that on the whole, even with the use highly sophisticated machine learning algorithms, that it is not possible to predict the market value of a Jazz album on the basis of its meta characteristics alone to an acceptable level of error."
   ]
  },
  {
   "cell_type": "markdown",
   "metadata": {
    "colab_type": "text",
    "id": "8aGyejLgLg5q"
   },
   "source": [
    "## Identification of Feature Importances\n",
    "As we are making use of the CatBoost algorithm, we benefit from being able to identify the strength of feature importances used in the model. This will allow us to more deeply understand what features in our models are proving the most useful in the prediction of ``market_value``."
   ]
  },
  {
   "cell_type": "code",
   "execution_count": null,
   "metadata": {
    "colab": {},
    "colab_type": "code",
    "id": "Vel9VOBLLg5r"
   },
   "outputs": [],
   "source": [
    "full_information_feature_importance_transformation_pipe = full_information_catboost_processing_pipe.fit(X_tr,np.log(y_tr).values)\n",
    "record_store_feature_importance_transformation_pipe = record_store_catboost_processing_pipe.fit(X_tr,np.log(y_tr).values)\n",
    "\n",
    "record_store_catboost_feature_importances = dict(zip(\n",
    "    record_store_feature_importance_transformation_pipe.transform(X_te).columns,\n",
    "    record_store_catboost_pipe.steps[-1][-1].feature_importances_\n",
    "))\n",
    "full_information_catboost_feature_importances = dict(zip(\n",
    "    full_information_feature_importance_transformation_pipe.transform(X_te).columns,\n",
    "    full_information_catboost_pipe.steps[-1][-1].feature_importances_\n",
    "))"
   ]
  },
  {
   "cell_type": "code",
   "execution_count": 91,
   "metadata": {
    "colab": {
     "base_uri": "https://localhost:8080/",
     "height": 393
    },
    "colab_type": "code",
    "id": "oZ_AqucEotly",
    "outputId": "6a2c6b4c-cdfd-4772-ebd7-79f001ba264b"
   },
   "outputs": [
    {
     "data": {
      "text/plain": [
       "artist                                    19.745131\n",
       "country                                   18.418374\n",
       "standards_count                           17.209589\n",
       "format_text                                9.289622\n",
       "label                                      6.371187\n",
       "year                                       5.250330\n",
       "superregion_americas                       3.385687\n",
       "master_id                                  3.314736\n",
       "region_northern europe                     2.043921\n",
       "region_latin america and the caribbean     1.817415\n",
       "style_Other                                1.486579\n",
       "format_description_Album                   1.424997\n",
       "superregion_africa                         1.418742\n",
       "format_description_LP                      1.374440\n",
       "images_umap_0                              1.165553\n",
       "era_modern                                 0.969196\n",
       "images_umap_4                              0.858110\n",
       "superregion_unknown                        0.832442\n",
       "genre_Brass & Military                     0.728812\n",
       "period_bebop                               0.586635\n",
       "dtype: float64"
      ]
     },
     "execution_count": 91,
     "metadata": {
      "tags": []
     },
     "output_type": "execute_result"
    }
   ],
   "source": [
    "pd.Series(record_store_catboost_feature_importances).sort_values(ascending=False).head(20)"
   ]
  },
  {
   "cell_type": "code",
   "execution_count": 92,
   "metadata": {
    "colab": {
     "base_uri": "https://localhost:8080/",
     "height": 393
    },
    "colab_type": "code",
    "id": "so5RN2cBLg5s",
    "outputId": "8951670c-e0ed-488b-8925-15c2263fc395"
   },
   "outputs": [
    {
     "data": {
      "text/plain": [
       "community_want                19.745131\n",
       "country                       18.418374\n",
       "units_for_sale                17.209589\n",
       "format_name                    9.289622\n",
       "label                          6.371187\n",
       "year                           5.250330\n",
       "artist                         3.385687\n",
       "community_have                 3.314736\n",
       "region_north america           2.043921\n",
       "region_eastern asia            1.817415\n",
       "average_rating                 1.486579\n",
       "format_quantity                1.424997\n",
       "master_id                      1.418742\n",
       "format_text                    1.374440\n",
       "number_of_tracks               1.165553\n",
       "format_description_Reissue     0.969196\n",
       "format_description_Other       0.858110\n",
       "superregion_europe             0.832442\n",
       "region_western europe          0.728812\n",
       "era_contemporary               0.586635\n",
       "dtype: float64"
      ]
     },
     "execution_count": 92,
     "metadata": {
      "tags": []
     },
     "output_type": "execute_result"
    }
   ],
   "source": [
    "pd.Series(full_information_catboost_feature_importances).sort_values(ascending=False).head(20)"
   ]
  },
  {
   "cell_type": "markdown",
   "metadata": {
    "colab_type": "text",
    "id": "QElDrqU4xIot"
   },
   "source": [
    "From the above, we observe that the feature importances that are generated in both versions of the model are identical, but with different features attributed to each feature importance.\n",
    "\n",
    "In the Record Store scenario, we observe that the ``artist`` feature is the most important, along with ``standards_count``, ``country``, ``format_text``, ``label`` and ``year``. These are generally what we would expect to be the most important, with ``standards_count`` being notable as it indicates the importance of domain knowledge in the record store scenario. We also observe that ``region_latin america and the caribbean`` is a surprisingly important feature for this model.\n",
    "\n",
    "In the Full Information scenario, however the most important features takes a wholly new structure, as ``community_want`` and ``units_for_sale`` top  the list of features, along with ``country``, ``format_name``, ``label``, ``year``, ``artist`` and ``community_have``. The dominance of ``community_want`` is not unsurprising, as it reflects the demand for a given album, which economic theory has long underscored as being a fundamental driver of price, and therefore market value within the context of this project. Of the Full Information Scenario specific features, ``units_for_sale`` and ``community_have`` also have amongst the strongest influence on the prediction of ``market_value``. These are reflections of the supply of the album, and as such are also unsurprisingly important, as per economic theory. The most important features list includes many of the same features that were also to be found in the Record Store scenario, albeit in a new order. Most notably, ``artist`` becomes far less important in predicting ``market_value`` than in the Record Store scenario, and ``format_text`` has been replaced with ``format_name``. Additionally, we observe a similar case as in the Record Store scenario, where a specific region exerts substantial influence on the prediction of ``market_value``, namely ``region_eastern asia``. This fluctuation in the regions that are deemed important across models may be due to the generally poor performance of the models as a whole, thereby explaining the element of randomness that is seemingly present in determining the importance of indicators in the prediction task and the lack of consistency in their perfomance."
   ]
  },
  {
   "cell_type": "markdown",
   "metadata": {
    "colab_type": "text",
    "id": "uA8vxugaqKFb"
   },
   "source": [
    "## Aggregating Model Results\n",
    "As a final step, we aggregate results of the model, such that they can be discussed further."
   ]
  },
  {
   "cell_type": "code",
   "execution_count": null,
   "metadata": {
    "colab": {},
    "colab_type": "code",
    "id": "NiQlkObZFHIL"
   },
   "outputs": [],
   "source": [
    "algorithms = ('Linear Regression','Ridge Regression','Random Forest','CatBoost')*2\n",
    "mae = (record_store_lr_mae, record_store_ridge_mae, record_store_random_forest_mae, record_store_catboost_mae,full_information_lr_mae, full_information_ridge_mae, full_information_random_forest_mae, full_information_catboost_mae)\n",
    "scenario = ['Record Store']*4 + ['Full Information']*4\n",
    "results = pd.DataFrame({\n",
    "    'Algorithm': algorithms,\n",
    "    'Mean Absolute Error': mae,\n",
    "    'Scenario': scenario\n",
    "},index=algorithms)"
   ]
  },
  {
   "cell_type": "code",
   "execution_count": 95,
   "metadata": {
    "colab": {
     "base_uri": "https://localhost:8080/",
     "height": 540
    },
    "colab_type": "code",
    "id": "muT41lVBZdQN",
    "outputId": "fcba5a21-68c0-4d3f-e589-c252502dc21c"
   },
   "outputs": [
    {
     "data": {
      "image/png": "[encoded data removed]",
      "text/plain": [
       "<Figure size 1440x720 with 1 Axes>"
      ]
     },
     "metadata": {
      "needs_background": "light",
      "tags": []
     },
     "output_type": "display_data"
    }
   ],
   "source": [
    "plt.figure(figsize=(20,10))\n",
    "plt.title('Mean Absolute Error for ML Algorithms for Record Store and Full Information Scenarios')\n",
    "sns.barplot(x='Algorithm', hue='Scenario', y='Mean Absolute Error', data=results.sort_values(['Mean Absolute Error','Algorithm'],ascending=False))\n",
    "plt.show()"
   ]
  },
  {
   "cell_type": "markdown",
   "metadata": {
    "colab_type": "text",
    "id": "J8Ir2cfPeyck"
   },
   "source": [
    "From the above, we can draw the following conclusions:\n",
    "1. It is not possible, with the data on Jazz album meta-characteristics used in this project, and the machine learning algorithms we have leveraged, to accurately predict the market value of Jazz albums to an acceptable degree.\n",
    "2. The inclusion of Full Information features does not seem to make much of a difference for our most poorly performing algorithms, but in the case of CatBoost, which performs the best and seems to be able to leverage the given data the best, these features make a substantial difference in reducing the prediction error of the model."
   ]
  },
  {
   "cell_type": "markdown",
   "metadata": {
    "colab_type": "text",
    "id": "IMTHQZ9zfpUY"
   },
   "source": [
    "With respect to the first point, we refer to the following table of descriptive statistics for the ``market_value`` feature."
   ]
  },
  {
   "cell_type": "code",
   "execution_count": 96,
   "metadata": {
    "colab": {
     "base_uri": "https://localhost:8080/",
     "height": 178
    },
    "colab_type": "code",
    "id": "g8jLG3cFfz3m",
    "outputId": "c37f5a8e-9cc9-4acc-e59b-da01bc97b9a1"
   },
   "outputs": [
    {
     "data": {
      "text/plain": [
       "count    161810.000000\n",
       "mean         16.876078\n",
       "std          20.050072\n",
       "min           0.010000\n",
       "25%           6.410000\n",
       "50%          10.990000\n",
       "75%          19.670000\n",
       "max         235.386631\n",
       "Name: market_value, dtype: float64"
      ]
     },
     "execution_count": 96,
     "metadata": {
      "tags": []
     },
     "output_type": "execute_result"
    }
   ],
   "source": [
    "df['market_value'].describe()"
   ]
  },
  {
   "cell_type": "markdown",
   "metadata": {
    "colab_type": "text",
    "id": "2vv_8lBRf1Zt"
   },
   "source": [
    "As we can see, ``market_value`` has a mean value of around 16.88, and a standard deviation of around 20.05. While we have been able to predict the market value of Jazz albums at a error magnitude well under the standard deviation of the dataset, this is also the case for the Dummy Regressor baseline we set as our initial benchmark, and as such this is not an indication of the quality of our models for such a noisy dataset. The failure of the algorithms we made use of to accurately predict the market value of Jazz albums is perhaps best understood through interpreting the size of the MAE in the context of a real world use case. If we assume that our best performing model is off by around 7.3 USD, given that the mean value for a record is 16.88 USD, it is clear that the model cannot truly be trusted to deliver accurate predictions of market value.\n",
    "\n",
    "While this result is not fully satisfying for a machine learning practitioner, it is not entirely unexpected, and has interesting implications. The goal of this project was to identify whether or not it is possible to accurately determine the market value of a given record, given the very noisy indicators of its so-called \"meta-characteristics\". This is the information that the patron of a record store must rely on, before deciding whether a record is worth testing out, or buying outright in stores in which no record player is available. The analysis shown in this project shows that it is virtually impossible (using modern machine learning methods, which have access to a much broader range of data than an average patron would at any point in time) to get a reliable estimation of the market value of a given record, and that 'deal-hunting' in this way is extremely difficult.\n",
    "\n",
    "\n",
    "With respect to the second point, we see that under the most sophisticated model we use in this project, CatBoost, the inclusion of the Full Information suite of features results in a substantial improvement in the performance of our algorithm, despite being short of being truly effective in predicting Jazz album market value. Nonetheless, this result, and in particular the investigation of feature importances, which confirmed that features representing product demand and supply are among the most important in determining market value, shows that record store patrons are missing crucial information to be able to make an informed decision about the market value of a given album."
   ]
  },
  {
   "cell_type": "markdown",
   "metadata": {
    "colab_type": "text",
    "id": "77DbWZmrv2Dh"
   },
   "source": [
    "There are a number of ways in which this project could be extended and improved upon in future iterations:\n",
    "- Extension of the approach to all genres\n",
    "  - The focus of this project has been on the genre of Jazz, which is due to the author's own familiarity of the genre, and the long history it has as a style of recorded music. While the dataset considered in this project is fairly large, for the purposes of a Capstone project, it is still a fraction of the total number of albums that could be considered from the source used (Discogs.com). It is possible that with the inclusion of additional genres, and more data generally, better performances could be obtained.\n",
    "- Extension to other algorithms\n",
    "  - As a result of the computational and time constraints the author was operating under, only a small subset of the machine learning algorithms that could be used for this problem have been tested. It is possible, that other algorithms, such as Neural Networks (particularly TabNet, the Google-developed Neural Network architecture which is optimized for tabular data) could lead to stronger performances\n",
    "- Consideration of more in-depth market-value data\n",
    "  - As was mentioned in 01-Processing, Discogs.com offers data on all marketplace entries, not just the lowest going value on the market, which was used in this project to create our composite target feature, ``market_value``. By scraping and then investigating this data, it could be possible to get a stronger insight into how albums are valued on the supply-side, and in particular to how these valuations are related to the quality of the medium (i.e. if the album is in good condition, both physically and sonically)\n",
    "- Econometric investigation\n",
    "  - While this project has focused on the prediction of ``market_value`` via the use of machine learning, an alternative approach to analyzing the data considered here is to use econometric approaches to identify the \"true\" importances of the core features. In this project, we discussed this aspect via the feature importances feature that CatBoost makes available, but this is a flawed approach in order to find what features are truly driving the determination of ``market_value``, as trained econometricians and statisticians would note\n",
    "- Augmentation of data\n",
    "  - The data considered in this project was wholly taken from the Discogs.com platform. Clearly, it would also be possible to augment the data in this study with additional data sources, such as the assessment of album quality by music critics, for example.\n",
    "- Focused analysis of the relationship between cover images and market value\n",
    "  - As we saw in our analysis, the mathematical representation of the cover images of Jazz albums provided very little value in determining their market value. However, it must be stated that further steps could possibly be taken to identify whether or not this is truly a dead end. This would require more extensive feature engineering related to the objects that appear on the image, the colors that make them up, etc. It is possible that if this attribute is focused on, certain interesting conclusions could be drawn.\n"
   ]
  },
  {
   "cell_type": "code",
   "execution_count": null,
   "metadata": {
    "colab": {},
    "colab_type": "code",
    "id": "r5JK54Haw-AY"
   },
   "outputs": [],
   "source": []
  }
 ],
 "metadata": {
  "accelerator": "GPU",
  "colab": {
   "machine_shape": "hm",
   "name": "03-Modelling.ipynb",
   "provenance": [],
   "toc_visible": true
  },
  "kernelspec": {
   "display_name": "Python 3",
   "language": "python",
   "name": "python3"
  },
  "language_info": {
   "codemirror_mode": {
    "name": "ipython",
    "version": 3
   },
   "file_extension": ".py",
   "mimetype": "text/x-python",
   "name": "python",
   "nbconvert_exporter": "python",
   "pygments_lexer": "ipython3",
   "version": "3.6.10"
  },
  "widgets": {
   "application/vnd.jupyter.widget-state+json": {
    "03cac0f05bcf40309f924e14f45f77f6": {
     "model_module": "@jupyter-widgets/controls",
     "model_name": "FloatProgressModel",
     "state": {
      "_dom_classes": [],
      "_model_module": "@jupyter-widgets/controls",
      "_model_module_version": "1.5.0",
      "_model_name": "FloatProgressModel",
      "_view_count": null,
      "_view_module": "@jupyter-widgets/controls",
      "_view_module_version": "1.5.0",
      "_view_name": "ProgressView",
      "bar_style": "success",
      "description": "100%",
      "description_tooltip": null,
      "layout": "IPY_MODEL_e2881faccb604c3b8fbdcf74be88d6c7",
      "max": 7,
      "min": 0,
      "orientation": "horizontal",
      "style": "IPY_MODEL_8ca3616d454d4901905839b5716dd9ec",
      "value": 7
     }
    },
    "49f810eff9e84aeea849986e2b68f290": {
     "model_module": "@jupyter-widgets/base",
     "model_name": "LayoutModel",
     "state": {
      "_model_module": "@jupyter-widgets/base",
      "_model_module_version": "1.2.0",
      "_model_name": "LayoutModel",
      "_view_count": null,
      "_view_module": "@jupyter-widgets/base",
      "_view_module_version": "1.2.0",
      "_view_name": "LayoutView",
      "align_content": null,
      "align_items": null,
      "align_self": null,
      "border": null,
      "bottom": null,
      "display": null,
      "flex": null,
      "flex_flow": null,
      "grid_area": null,
      "grid_auto_columns": null,
      "grid_auto_flow": null,
      "grid_auto_rows": null,
      "grid_column": null,
      "grid_gap": null,
      "grid_row": null,
      "grid_template_areas": null,
      "grid_template_columns": null,
      "grid_template_rows": null,
      "height": null,
      "justify_content": null,
      "justify_items": null,
      "left": null,
      "margin": null,
      "max_height": null,
      "max_width": null,
      "min_height": null,
      "min_width": null,
      "object_fit": null,
      "object_position": null,
      "order": null,
      "overflow": null,
      "overflow_x": null,
      "overflow_y": null,
      "padding": null,
      "right": null,
      "top": null,
      "visibility": null,
      "width": null
     }
    },
    "8ca3616d454d4901905839b5716dd9ec": {
     "model_module": "@jupyter-widgets/controls",
     "model_name": "ProgressStyleModel",
     "state": {
      "_model_module": "@jupyter-widgets/controls",
      "_model_module_version": "1.5.0",
      "_model_name": "ProgressStyleModel",
      "_view_count": null,
      "_view_module": "@jupyter-widgets/base",
      "_view_module_version": "1.2.0",
      "_view_name": "StyleView",
      "bar_color": null,
      "description_width": "initial"
     }
    },
    "8e69ab0ca92f4bccbf7e52b9bc1b23f2": {
     "model_module": "@jupyter-widgets/controls",
     "model_name": "DescriptionStyleModel",
     "state": {
      "_model_module": "@jupyter-widgets/controls",
      "_model_module_version": "1.5.0",
      "_model_name": "DescriptionStyleModel",
      "_view_count": null,
      "_view_module": "@jupyter-widgets/base",
      "_view_module_version": "1.2.0",
      "_view_name": "StyleView",
      "description_width": ""
     }
    },
    "a613fcefe96d49a7a669ff2ae81fe6ae": {
     "model_module": "@jupyter-widgets/base",
     "model_name": "LayoutModel",
     "state": {
      "_model_module": "@jupyter-widgets/base",
      "_model_module_version": "1.2.0",
      "_model_name": "LayoutModel",
      "_view_count": null,
      "_view_module": "@jupyter-widgets/base",
      "_view_module_version": "1.2.0",
      "_view_name": "LayoutView",
      "align_content": null,
      "align_items": null,
      "align_self": null,
      "border": null,
      "bottom": null,
      "display": null,
      "flex": null,
      "flex_flow": null,
      "grid_area": null,
      "grid_auto_columns": null,
      "grid_auto_flow": null,
      "grid_auto_rows": null,
      "grid_column": null,
      "grid_gap": null,
      "grid_row": null,
      "grid_template_areas": null,
      "grid_template_columns": null,
      "grid_template_rows": null,
      "height": null,
      "justify_content": null,
      "justify_items": null,
      "left": null,
      "margin": null,
      "max_height": null,
      "max_width": null,
      "min_height": null,
      "min_width": null,
      "object_fit": null,
      "object_position": null,
      "order": null,
      "overflow": null,
      "overflow_x": null,
      "overflow_y": null,
      "padding": null,
      "right": null,
      "top": null,
      "visibility": null,
      "width": null
     }
    },
    "b5ad8d6c5cb849d8b296869cbcd4baf3": {
     "model_module": "@jupyter-widgets/controls",
     "model_name": "HTMLModel",
     "state": {
      "_dom_classes": [],
      "_model_module": "@jupyter-widgets/controls",
      "_model_module_version": "1.5.0",
      "_model_name": "HTMLModel",
      "_view_count": null,
      "_view_module": "@jupyter-widgets/controls",
      "_view_module_version": "1.5.0",
      "_view_name": "HTMLView",
      "description": "",
      "description_tooltip": null,
      "layout": "IPY_MODEL_a613fcefe96d49a7a669ff2ae81fe6ae",
      "placeholder": "​",
      "style": "IPY_MODEL_8e69ab0ca92f4bccbf7e52b9bc1b23f2",
      "value": " 7/7 [00:03&lt;00:00,  2.07it/s]"
     }
    },
    "e2881faccb604c3b8fbdcf74be88d6c7": {
     "model_module": "@jupyter-widgets/base",
     "model_name": "LayoutModel",
     "state": {
      "_model_module": "@jupyter-widgets/base",
      "_model_module_version": "1.2.0",
      "_model_name": "LayoutModel",
      "_view_count": null,
      "_view_module": "@jupyter-widgets/base",
      "_view_module_version": "1.2.0",
      "_view_name": "LayoutView",
      "align_content": null,
      "align_items": null,
      "align_self": null,
      "border": null,
      "bottom": null,
      "display": null,
      "flex": null,
      "flex_flow": null,
      "grid_area": null,
      "grid_auto_columns": null,
      "grid_auto_flow": null,
      "grid_auto_rows": null,
      "grid_column": null,
      "grid_gap": null,
      "grid_row": null,
      "grid_template_areas": null,
      "grid_template_columns": null,
      "grid_template_rows": null,
      "height": null,
      "justify_content": null,
      "justify_items": null,
      "left": null,
      "margin": null,
      "max_height": null,
      "max_width": null,
      "min_height": null,
      "min_width": null,
      "object_fit": null,
      "object_position": null,
      "order": null,
      "overflow": null,
      "overflow_x": null,
      "overflow_y": null,
      "padding": null,
      "right": null,
      "top": null,
      "visibility": null,
      "width": null
     }
    },
    "e817db28f8a34e8cbe7e5df3b33ba5f0": {
     "model_module": "@jupyter-widgets/controls",
     "model_name": "HBoxModel",
     "state": {
      "_dom_classes": [],
      "_model_module": "@jupyter-widgets/controls",
      "_model_module_version": "1.5.0",
      "_model_name": "HBoxModel",
      "_view_count": null,
      "_view_module": "@jupyter-widgets/controls",
      "_view_module_version": "1.5.0",
      "_view_name": "HBoxView",
      "box_style": "",
      "children": [
       "IPY_MODEL_03cac0f05bcf40309f924e14f45f77f6",
       "IPY_MODEL_b5ad8d6c5cb849d8b296869cbcd4baf3"
      ],
      "layout": "IPY_MODEL_49f810eff9e84aeea849986e2b68f290"
     }
    }
   }
  }
 },
 "nbformat": 4,
 "nbformat_minor": 4
}
