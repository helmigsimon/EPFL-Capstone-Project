{
  "nbformat": 4,
  "nbformat_minor": 0,
  "metadata": {
    "accelerator": "GPU",
    "colab": {
      "name": "03-Modelling.ipynb",
      "provenance": [],
      "toc_visible": true,
      "machine_shape": "hm"
    },
    "kernelspec": {
      "display_name": "Python 3",
      "language": "python",
      "name": "python3"
    },
    "language_info": {
      "codemirror_mode": {
        "name": "ipython",
        "version": 3
      },
      "file_extension": ".py",
      "mimetype": "text/x-python",
      "name": "python",
      "nbconvert_exporter": "python",
      "pygments_lexer": "ipython3",
      "version": "3.6.10"
    },
    "widgets": {
      "application/vnd.jupyter.widget-state+json": {
        "6c37fdf9764e4e45865561216cefead5": {
          "model_module": "@jupyter-widgets/controls",
          "model_name": "HBoxModel",
          "state": {
            "_view_name": "HBoxView",
            "_dom_classes": [],
            "_model_name": "HBoxModel",
            "_view_module": "@jupyter-widgets/controls",
            "_model_module_version": "1.5.0",
            "_view_count": null,
            "_view_module_version": "1.5.0",
            "box_style": "",
            "layout": "IPY_MODEL_b91bd39b99fc4b54992984a9e8a7efe1",
            "_model_module": "@jupyter-widgets/controls",
            "children": [
              "IPY_MODEL_74433b2f52bf46278d9c6c9014162278",
              "IPY_MODEL_f71e88f5305442acb2fc411dd4bbc23c"
            ]
          }
        },
        "b91bd39b99fc4b54992984a9e8a7efe1": {
          "model_module": "@jupyter-widgets/base",
          "model_name": "LayoutModel",
          "state": {
            "_view_name": "LayoutView",
            "grid_template_rows": null,
            "right": null,
            "justify_content": null,
            "_view_module": "@jupyter-widgets/base",
            "overflow": null,
            "_model_module_version": "1.2.0",
            "_view_count": null,
            "flex_flow": null,
            "width": null,
            "min_width": null,
            "border": null,
            "align_items": null,
            "bottom": null,
            "_model_module": "@jupyter-widgets/base",
            "top": null,
            "grid_column": null,
            "overflow_y": null,
            "overflow_x": null,
            "grid_auto_flow": null,
            "grid_area": null,
            "grid_template_columns": null,
            "flex": null,
            "_model_name": "LayoutModel",
            "justify_items": null,
            "grid_row": null,
            "max_height": null,
            "align_content": null,
            "visibility": null,
            "align_self": null,
            "height": null,
            "min_height": null,
            "padding": null,
            "grid_auto_rows": null,
            "grid_gap": null,
            "max_width": null,
            "order": null,
            "_view_module_version": "1.2.0",
            "grid_template_areas": null,
            "object_position": null,
            "object_fit": null,
            "grid_auto_columns": null,
            "margin": null,
            "display": null,
            "left": null
          }
        },
        "74433b2f52bf46278d9c6c9014162278": {
          "model_module": "@jupyter-widgets/controls",
          "model_name": "IntProgressModel",
          "state": {
            "_view_name": "ProgressView",
            "style": "IPY_MODEL_251ef42f89c0483095d7dba326931b68",
            "_dom_classes": [],
            "description": "100%",
            "_model_name": "IntProgressModel",
            "bar_style": "success",
            "max": 8,
            "_view_module": "@jupyter-widgets/controls",
            "_model_module_version": "1.5.0",
            "value": 8,
            "_view_count": null,
            "_view_module_version": "1.5.0",
            "orientation": "horizontal",
            "min": 0,
            "description_tooltip": null,
            "_model_module": "@jupyter-widgets/controls",
            "layout": "IPY_MODEL_5a9c7961c0f5405f948e0bd2b52b7407"
          }
        },
        "f71e88f5305442acb2fc411dd4bbc23c": {
          "model_module": "@jupyter-widgets/controls",
          "model_name": "HTMLModel",
          "state": {
            "_view_name": "HTMLView",
            "style": "IPY_MODEL_b1c16509dd2848c7938af30a0f7c9501",
            "_dom_classes": [],
            "description": "",
            "_model_name": "HTMLModel",
            "placeholder": "​",
            "_view_module": "@jupyter-widgets/controls",
            "_model_module_version": "1.5.0",
            "value": " 8/8 [00:01&lt;00:00,  4.68it/s]",
            "_view_count": null,
            "_view_module_version": "1.5.0",
            "description_tooltip": null,
            "_model_module": "@jupyter-widgets/controls",
            "layout": "IPY_MODEL_41aefd1950f947878bd40fbb1996b16a"
          }
        },
        "251ef42f89c0483095d7dba326931b68": {
          "model_module": "@jupyter-widgets/controls",
          "model_name": "ProgressStyleModel",
          "state": {
            "_view_name": "StyleView",
            "_model_name": "ProgressStyleModel",
            "description_width": "initial",
            "_view_module": "@jupyter-widgets/base",
            "_model_module_version": "1.5.0",
            "_view_count": null,
            "_view_module_version": "1.2.0",
            "bar_color": null,
            "_model_module": "@jupyter-widgets/controls"
          }
        },
        "5a9c7961c0f5405f948e0bd2b52b7407": {
          "model_module": "@jupyter-widgets/base",
          "model_name": "LayoutModel",
          "state": {
            "_view_name": "LayoutView",
            "grid_template_rows": null,
            "right": null,
            "justify_content": null,
            "_view_module": "@jupyter-widgets/base",
            "overflow": null,
            "_model_module_version": "1.2.0",
            "_view_count": null,
            "flex_flow": null,
            "width": null,
            "min_width": null,
            "border": null,
            "align_items": null,
            "bottom": null,
            "_model_module": "@jupyter-widgets/base",
            "top": null,
            "grid_column": null,
            "overflow_y": null,
            "overflow_x": null,
            "grid_auto_flow": null,
            "grid_area": null,
            "grid_template_columns": null,
            "flex": null,
            "_model_name": "LayoutModel",
            "justify_items": null,
            "grid_row": null,
            "max_height": null,
            "align_content": null,
            "visibility": null,
            "align_self": null,
            "height": null,
            "min_height": null,
            "padding": null,
            "grid_auto_rows": null,
            "grid_gap": null,
            "max_width": null,
            "order": null,
            "_view_module_version": "1.2.0",
            "grid_template_areas": null,
            "object_position": null,
            "object_fit": null,
            "grid_auto_columns": null,
            "margin": null,
            "display": null,
            "left": null
          }
        },
        "b1c16509dd2848c7938af30a0f7c9501": {
          "model_module": "@jupyter-widgets/controls",
          "model_name": "DescriptionStyleModel",
          "state": {
            "_view_name": "StyleView",
            "_model_name": "DescriptionStyleModel",
            "description_width": "",
            "_view_module": "@jupyter-widgets/base",
            "_model_module_version": "1.5.0",
            "_view_count": null,
            "_view_module_version": "1.2.0",
            "_model_module": "@jupyter-widgets/controls"
          }
        },
        "41aefd1950f947878bd40fbb1996b16a": {
          "model_module": "@jupyter-widgets/base",
          "model_name": "LayoutModel",
          "state": {
            "_view_name": "LayoutView",
            "grid_template_rows": null,
            "right": null,
            "justify_content": null,
            "_view_module": "@jupyter-widgets/base",
            "overflow": null,
            "_model_module_version": "1.2.0",
            "_view_count": null,
            "flex_flow": null,
            "width": null,
            "min_width": null,
            "border": null,
            "align_items": null,
            "bottom": null,
            "_model_module": "@jupyter-widgets/base",
            "top": null,
            "grid_column": null,
            "overflow_y": null,
            "overflow_x": null,
            "grid_auto_flow": null,
            "grid_area": null,
            "grid_template_columns": null,
            "flex": null,
            "_model_name": "LayoutModel",
            "justify_items": null,
            "grid_row": null,
            "max_height": null,
            "align_content": null,
            "visibility": null,
            "align_self": null,
            "height": null,
            "min_height": null,
            "padding": null,
            "grid_auto_rows": null,
            "grid_gap": null,
            "max_width": null,
            "order": null,
            "_view_module_version": "1.2.0",
            "grid_template_areas": null,
            "object_position": null,
            "object_fit": null,
            "grid_auto_columns": null,
            "margin": null,
            "display": null,
            "left": null
          }
        }
      }
    }
  },
  "cells": [
    {
      "cell_type": "markdown",
      "metadata": {
        "colab_type": "text",
        "id": "buFUSHKt8apx"
      },
      "source": [
        "## 03 - Modelling"
      ]
    },
    {
      "cell_type": "markdown",
      "metadata": {
        "colab_type": "text",
        "id": "lunHqQ7B8apz"
      },
      "source": [
        "## Optional - Colab Setup"
      ]
    },
    {
      "cell_type": "code",
      "metadata": {
        "colab_type": "code",
        "id": "qQQCreB5gAR_",
        "colab": {}
      },
      "source": [
        "def upgrade_runtime_ram():\n",
        "    meminfo = subprocess.getoutput('cat /proc/meminfo').split('\\n')\n",
        "\n",
        "    memory_info = {entry.split(':')[0]: int(entry.split(':')[1].replace(' kB','').strip()) for entry in meminfo}\n",
        "\n",
        "    if memory_info['MemTotal'] > 17000000:\n",
        "        return\n",
        "\n",
        "    a = []\n",
        "    while(1):\n",
        "        a.append('1')"
      ],
      "execution_count": 0,
      "outputs": []
    },
    {
      "cell_type": "code",
      "metadata": {
        "colab_type": "code",
        "id": "waACZBi_8ap2",
        "colab": {}
      },
      "source": [
        "def restart_runtime():\n",
        "    os.kill(os.getpid(), 9)"
      ],
      "execution_count": 0,
      "outputs": []
    },
    {
      "cell_type": "code",
      "metadata": {
        "colab_type": "code",
        "id": "YIsGqbsy8aqB",
        "colab": {}
      },
      "source": [
        "def setup_rapids():\n",
        "    pynvml.nvmlInit()\n",
        "    handle = pynvml.nvmlDeviceGetHandleByIndex(0)\n",
        "    device_name = pynvml.nvmlDeviceGetName(handle)\n",
        "    if (device_name != b'Tesla T4') and (device_name != b'Tesla P4') and (device_name != b'Tesla P100-PCIE-16GB'):\n",
        "        print(\"Wrong GPU - Restarting Runtime\")\n",
        "        restart_runtime()\n",
        "\n",
        "\n",
        "    # clone RAPIDS AI rapidsai-csp-utils scripts repo\n",
        "    !git clone https://github.com/rapidsai/rapidsai-csp-utils.git\n",
        "\n",
        "    # install RAPIDS\n",
        "    !bash rapidsai-csp-utils/colab/rapids-colab.sh 0.13\n",
        "\n",
        "\n",
        "    # set necessary environment variables \n",
        "    dist_package_index = sys.path.index('/usr/local/lib/python3.6/dist-packages')\n",
        "    sys.path = sys.path[:dist_package_index] + ['/usr/local/lib/python3.6/site-packages'] + sys.path[dist_package_index:]\n",
        "    sys.path\n",
        "\n",
        "    # update pyarrow & modules \n",
        "    exec(open('rapidsai-csp-utils/colab/update_modules.py').read(), globals())"
      ],
      "execution_count": 0,
      "outputs": []
    },
    {
      "cell_type": "code",
      "metadata": {
        "colab_type": "code",
        "id": "9CcPvNIo8aqI",
        "colab": {}
      },
      "source": [
        "def setup_conda():\n",
        "    if not 'Miniconda3-4.5.4-Linux-x86_64.sh' in os.listdir():\n",
        "        !wget https://repo.continuum.io/miniconda/Miniconda3-4.5.4-Linux-x86_64.sh && bash Miniconda3-4.5.4-Linux-x86_64.sh -bfp /usr/local\n",
        "\n",
        "    if not ('EPFL-Capstone-Project' in os.listdir()) and (os.getcwd().split('/')[-1] != 'EPFL-Capstone-Project'):\n",
        "        !git clone https://github.com/helmigsimon/EPFL-Capstone-Project  \n",
        "    if 'EPFL-Capstone-Project' in os.listdir():\n",
        "        os.chdir('EPFL-Capstone-Project')\n",
        "\n",
        "    !conda env create -f environment.yml\n",
        "    !conda activate exts-ml"
      ],
      "execution_count": 0,
      "outputs": []
    },
    {
      "cell_type": "code",
      "metadata": {
        "colab_type": "code",
        "id": "WHSZ-lgE8aqP",
        "colab": {}
      },
      "source": [
        "def setup_drive():\n",
        "    #Mounting Google Drive\n",
        "    global drive\n",
        "    from google.colab import drive\n",
        "    drive.mount('/content/drive')"
      ],
      "execution_count": 0,
      "outputs": []
    },
    {
      "cell_type": "code",
      "metadata": {
        "colab_type": "code",
        "id": "N_uPJqb58aqW",
        "colab": {
          "base_uri": "https://localhost:8080/",
          "height": 1000
        },
        "outputId": "ba0d4b9c-c9fe-49e0-eae8-d26fa3874969"
      },
      "source": [
        "try:\n",
        "    import sys,os,subprocess\n",
        "    \n",
        "    upgrade_runtime_ram()\n",
        "    setup_drive()\n",
        "\n",
        "    #Setting up PyPi Packages\n",
        "    !pip install geopandas sparse-dot-topn pdpipe category-encoders catboost\n",
        "    import geopandas as gpd\n",
        "    import sparse_dot_topn.sparse_dot_topn as ct\n",
        "    import pdpipe as pdp\n",
        "    import category_encoders\n",
        "\n",
        "    #Setting up Conda Packages\n",
        "    setup_conda()\n",
        "    \n",
        "    #Initializing NLTK\n",
        "    import nltk\n",
        "    nltk.download('stopwords')\n",
        "    nltk.download('punkt')\n",
        "    \n",
        "    #Setting up RAPIDS AI\n",
        "    import pynvml\n",
        "    setup_rapids()\n",
        "    \n",
        "    from cuml import UMAP\n",
        "    \n",
        "except ModuleNotFoundError as e:\n",
        "    print(e)\n",
        "    print('Not in colab environment, continuing to run locally')\n",
        "    from umap import UMAP"
      ],
      "execution_count": 111,
      "outputs": [
        {
          "output_type": "stream",
          "text": [
            "Drive already mounted at /content/drive; to attempt to forcibly remount, call drive.mount(\"/content/drive\", force_remount=True).\n",
            "Requirement already satisfied: geopandas in /usr/local/lib/python3.6/site-packages (0.7.0)\n",
            "Requirement already satisfied: sparse-dot-topn in /usr/local/lib/python3.6/site-packages (0.2.9)\n",
            "Requirement already satisfied: pdpipe in /usr/local/lib/python3.6/site-packages (0.0.46)\n",
            "Requirement already satisfied: category-encoders in /usr/local/lib/python3.6/site-packages (2.2.2)\n",
            "Requirement already satisfied: catboost in /usr/local/lib/python3.6/site-packages (0.23)\n",
            "Requirement already satisfied: fiona in /usr/local/lib/python3.6/site-packages (from geopandas) (1.8.13.post1)\n",
            "Requirement already satisfied: pyproj>=2.2.0 in /usr/local/lib/python3.6/site-packages (from geopandas) (2.6.0)\n",
            "Requirement already satisfied: pandas>=0.23.0 in /usr/local/lib/python3.6/site-packages (from geopandas) (0.25.3)\n",
            "Requirement already satisfied: shapely in /usr/local/lib/python3.6/site-packages (from geopandas) (1.7.0)\n",
            "Requirement already satisfied: scipy>=1.2.3 in /usr/local/lib/python3.6/site-packages (from sparse-dot-topn) (1.4.1)\n",
            "Requirement already satisfied: numpy>=1.16.6 in /usr/local/lib/python3.6/site-packages (from sparse-dot-topn) (1.18.1)\n",
            "Requirement already satisfied: cython>=0.29.15 in /usr/local/lib/python3.6/site-packages (from sparse-dot-topn) (0.29.17)\n",
            "Requirement already satisfied: setuptools>=18.0 in /usr/local/lib/python3.6/site-packages (from sparse-dot-topn) (46.1.3.post20200325)\n",
            "Requirement already satisfied: skutil>=0.0.15 in /usr/local/lib/python3.6/site-packages (from pdpipe) (0.0.16)\n",
            "Requirement already satisfied: strct in /usr/local/lib/python3.6/site-packages (from pdpipe) (0.0.30)\n",
            "Requirement already satisfied: sortedcontainers in /usr/local/lib/python3.6/site-packages (from pdpipe) (2.1.0)\n",
            "Requirement already satisfied: tqdm in /usr/local/lib/python3.6/site-packages (from pdpipe) (4.45.0)\n",
            "Requirement already satisfied: patsy>=0.5.1 in /usr/local/lib/python3.6/site-packages (from category-encoders) (0.5.1)\n",
            "Requirement already satisfied: statsmodels>=0.9.0 in /usr/local/lib/python3.6/site-packages (from category-encoders) (0.11.1)\n",
            "Requirement already satisfied: scikit-learn>=0.20.0 in /usr/local/lib/python3.6/site-packages (from category-encoders) (0.22.2.post1)\n",
            "Requirement already satisfied: six in /usr/local/lib/python3.6/site-packages (from catboost) (1.11.0)\n",
            "Requirement already satisfied: matplotlib in /usr/local/lib/python3.6/site-packages (from catboost) (3.2.1)\n",
            "Requirement already satisfied: plotly in /usr/local/lib/python3.6/site-packages (from catboost) (4.6.0)\n",
            "Requirement already satisfied: graphviz in /usr/local/lib/python3.6/site-packages (from catboost) (0.14)\n",
            "Requirement already satisfied: cligj>=0.5 in /usr/local/lib/python3.6/site-packages (from fiona->geopandas) (0.5.0)\n",
            "Requirement already satisfied: attrs>=17 in /usr/local/lib/python3.6/site-packages (from fiona->geopandas) (19.3.0)\n",
            "Requirement already satisfied: click-plugins>=1.0 in /usr/local/lib/python3.6/site-packages (from fiona->geopandas) (1.1.1)\n",
            "Requirement already satisfied: munch in /usr/local/lib/python3.6/site-packages (from fiona->geopandas) (2.5.0)\n",
            "Requirement already satisfied: click<8,>=4.0 in /usr/local/lib/python3.6/site-packages (from fiona->geopandas) (7.1.2)\n",
            "Requirement already satisfied: pytz>=2017.2 in /usr/local/lib/python3.6/site-packages (from pandas>=0.23.0->geopandas) (2020.1)\n",
            "Requirement already satisfied: python-dateutil>=2.6.1 in /usr/local/lib/python3.6/site-packages (from pandas>=0.23.0->geopandas) (2.8.1)\n",
            "Requirement already satisfied: decore in /usr/local/lib/python3.6/site-packages (from skutil>=0.0.15->pdpipe) (0.0.1)\n",
            "Requirement already satisfied: joblib>=0.11 in /usr/local/lib/python3.6/site-packages (from scikit-learn>=0.20.0->category-encoders) (0.14.1)\n",
            "Requirement already satisfied: kiwisolver>=1.0.1 in /usr/local/lib/python3.6/site-packages (from matplotlib->catboost) (1.2.0)\n",
            "Requirement already satisfied: cycler>=0.10 in /usr/local/lib/python3.6/site-packages (from matplotlib->catboost) (0.10.0)\n",
            "Requirement already satisfied: pyparsing!=2.0.4,!=2.1.2,!=2.1.6,>=2.0.1 in /usr/local/lib/python3.6/site-packages (from matplotlib->catboost) (2.4.7)\n",
            "Requirement already satisfied: retrying>=1.3.3 in /usr/local/lib/python3.6/site-packages (from plotly->catboost) (1.3.3)\n",
            "Solving environment: - \b\b\\ \b\b| \b\b/ \b\b- \b\b\\ \b\b| \b\b/ \b\b- \b\b\\ \b\b| \b\b/ \b\b- \b\b\\ \b\b| \b\b/ \b\b- \b\b\\ \b\b| \b\b/ \b\b- \b\b\\ \b\b| \b\b/ \b\b- \b\b\\ \b\b| \b\b/ \b\b- \b\b\\ \b\b| \b\b/ \b\b- \b\b\\ \b\b| \b\b/ \b\b- \b\b\\ \b\b| \b\b/ \b\b- \b\b\\ \b\b| \b\b/ \b\b- \b\b\\ \b\b| \b\b/ \b\b- \b\b\\ \b\b| \b\b/ \b\b- \b\b\\ \b\b| \b\b/ \b\b- \b\b\\ \b\b| \b\b/ \b\b- \b\b\\ \b\b| \b\b/ \b\b- \b\b\\ \b\b| \b\b/ \b\b- \b\b\\ \b\b| \b\b/ \b\b- \b\b\\ \b\b| \b\b/ \b\b- \b\b\\ \b\b| \b\b/ \b\b- \b\b\\ \b\b| \b\b/ \b\b- \b\b\\ \b\b| \b\b/ \b\b- \b\b\\ \b\b| \b\b/ \b\b- \b\b\\ \b\b| \b\b/ \b\b- \b\b\\ \b\b| \b\b/ \b\b- \b\b\\ \b\b| \b\b/ \b\b- \b\b\\ \b\b| \b\b/ \b\b- \b\b\\ \b\b| \b\b/ \b\b- \b\b\\ \b\b| \b\b/ \b\b- \b\b\\ \b\b| \b\b/ \b\b- \b\b\\ \b\b| \b\b/ \b\b- \b\b\\ \b\b| \b\b/ \b\b- \b\b\\ \b\b| \b\b/ \b\b- \b\b\\ \b\b| \b\b/ \b\b- \b\b\\ \b\b| \b\b/ \b\b- \b\bfailed\n",
            "\n",
            "ResolvePackageNotFound: \n",
            "  - libpq==12.2=h554dc5a_0\n",
            "  - llvm-openmp==9.0.1=h28b9765_2\n",
            "  - libgdal==3.0.4=hec54991_3\n",
            "  - sparse_dot_topn==0.2.9=py36h863e41a_0\n",
            "  - xz==5.2.4=h0b31af3_1002\n",
            "  - giflib==5.2.1=h0b31af3_2\n",
            "  - sqlite==3.30.1=h93121df_0\n",
            "  - xerces-c==3.2.2=h8f8adb3_1004\n",
            "  - python==3.6.10=hce46be0_1009_cpython\n",
            "  - markupsafe==1.1.1=py36h37b9a7d_1\n",
            "  - pillow==7.0.0=py36h918e99a_0\n",
            "  - krb5==1.16.4=h1752a42_0\n",
            "  - kiwisolver==1.1.0=py36h863e41a_1\n",
            "  - pyrsistent==0.16.0=py36h37b9a7d_0\n",
            "  - libxml2==2.9.10=h53d96d6_0\n",
            "  - openjpeg==2.3.1=h254dc36_3\n",
            "  - psycopg2==2.8.4=py36hafa8578_1\n",
            "  - tk==8.6.10=hbbe82c9_0\n",
            "  - statsmodels==0.11.1=py36h37b9a7d_1\n",
            "  - openssl==1.1.1f=h0b31af3_0\n",
            "  - libffi==3.2.1=h4a8c4bd_1007\n",
            "  - freetype==2.10.1=h8da9a1a_0\n",
            "  - libedit==3.1.20170329=hcfe32e1_1001\n",
            "  - readline==8.0=hcfe32e1_0\n",
            "  - jpeg==9c=h1de35cc_1001\n",
            "  - boost-cpp==1.72.0=hdf9ef73_0\n",
            "  - llvmlite==0.31.0=py36hde82470_1\n",
            "  - bzip2==1.0.8=h0b31af3_2\n",
            "  - glib==2.58.3=py36hb0ce7ff_1003\n",
            "  - sqlalchemy==1.3.13=py36h0b31af3_0\n",
            "  - lz4-c==1.8.3=h6de7cb9_1001\n",
            "  - postgresql==12.2=h16d8c28_0\n",
            "  - scipy==1.4.1=py36h82752d6_0\n",
            "  - kealib==1.4.12=h2324030_0\n",
            "  - tensorflow-base==1.12.0=mkl_py36h70e0e9a_0\n",
            "  - libiconv==1.15=h0b31af3_1006\n",
            "  - libllvm8==8.0.1=h770b8ee_0\n",
            "  - proj==6.3.1=h773a61f_1\n",
            "  - ncurses==6.1=h0a44026_1002\n",
            "  - matplotlib-base==3.2.0=py36h11da6c2_1\n",
            "  - mistune==0.8.4=py36h0b31af3_1000\n",
            "  - psutil==5.7.0=py36h37b9a7d_1\n",
            "  - libprotobuf==3.11.4=hd174df1_0\n",
            "  - zeromq==4.3.2=h6de7cb9_2\n",
            "  - libuv==1.34.0=h0b31af3_0\n",
            "  - libssh2==1.8.2=hcdc9a53_2\n",
            "  - nodejs==13.10.1=h38d8c5a_0\n",
            "  - libgfortran==4.0.0=2\n",
            "  - pandas==1.0.1=py36h4f17bb1_0\n",
            "  - python-levenshtein==0.12.0=py36h0b31af3_1001\n",
            "  - libwebp==1.0.2=hd3bf737_5\n",
            "  - libpng==1.6.37=hbbe82c9_1\n",
            "  - cffi==1.14.0=py36h356ff06_0\n",
            "  - libkml==1.3.0=h169b8f9_1011\n",
            "  - libspatialite==4.3.0a=hbcd37d4_1037\n",
            "  - cfitsio==3.470=h84d2f63_2\n",
            "  - pyzmq==19.0.0=py36h820b253_1\n",
            "  - graphviz==2.42.3=h98dfb87_0\n",
            "  - hdf4==4.2.13=h84186c3_1003\n",
            "  - hdf5==1.10.5=nompi_h3e39495_1104\n",
            "  - tzcode==2019a=h01d97ff_1002\n",
            "  - c-ares==1.15.0=h01d97ff_1001\n",
            "  - libcurl==7.68.0=h709d2b2_0\n",
            "  - pixman==0.38.0=h01d97ff_1003\n",
            "  - numba==0.48.0=py36h4f17bb1_0\n",
            "  - pcre==8.44=h4a8c4bd_0\n",
            "  - zstd==1.4.4=hed8d7c8_2\n",
            "  - scikit-learn==0.20.3=py36hca23c92_1\n",
            "  - freexl==1.0.5=h1de35cc_1002\n",
            "  - gdal==3.0.4=py36h5a1ef21_3\n",
            "  - numpy==1.18.1=py36hde6bac1_0\n",
            "  - gettext==0.19.8.1=h46ab8bc_1002\n",
            "  - tornado==6.0.4=py36h37b9a7d_1\n",
            "  - icu==64.2=h6de7cb9_1\n",
            "  - appnope==0.1.0=py36h9f0ad1d_1001\n",
            "  - geos==3.8.1=h4a8c4bd_0\n",
            "  - libtiff==4.1.0=ha78913b_3\n",
            "  - grpcio==1.23.0=py36h7c1f37e_1\n",
            "  - shapely==1.7.0=py36hda0b814_2\n",
            "  - h5py==2.10.0=nompi_py36h106b333_102\n",
            "  - cairo==1.16.0=hec6a9b0_1003\n",
            "  - tiledb==1.7.0=hd5e958f_2\n",
            "  - zlib==1.2.11=h0b31af3_1006\n",
            "  - fontconfig==2.13.1=h6b1039f_1001\n",
            "  - geotiff==1.5.1=h4bdff65_9\n",
            "  - libnetcdf==4.7.4=nompi_he461dc0_101\n",
            "  - libdap4==3.20.4=habf5908_0\n",
            "  - cryptography==2.8=py36hc9d8292_2\n",
            "  - expat==2.2.9=h4a8c4bd_2\n",
            "  - fiona==1.8.13=py36he71f6a4_0\n",
            "  - tensorflow==1.12.0=mkl_py36h2b2bbaf_0\n",
            "  - libopenblas==0.3.9=h3d69b6c_0\n",
            "  - poppler==0.67.0=h16886b5_8\n",
            "  - json-c==0.13.1=h1de35cc_1001\n",
            "  - curl==7.68.0=h8754def_0\n",
            "  - libsodium==1.0.17=h01d97ff_0\n",
            "\n",
            "\n",
            "CommandNotFoundError: Your shell has not been properly configured to use 'conda activate'.\n",
            "If your shell is Bash or a Bourne variant, enable conda for the current user with\n",
            "\n",
            "    $ echo \". /usr/local/etc/profile.d/conda.sh\" >> ~/.bashrc\n",
            "\n",
            "or, for all users, enable conda with\n",
            "\n",
            "    $ sudo ln -s /usr/local/etc/profile.d/conda.sh /etc/profile.d/conda.sh\n",
            "\n",
            "The options above will permanently enable the 'conda' command, but they do NOT\n",
            "put conda's base (root) environment on PATH.  To do so, run\n",
            "\n",
            "    $ conda activate\n",
            "\n",
            "in your terminal, or to put the base environment on PATH permanently, run\n",
            "\n",
            "    $ echo \"conda activate\" >> ~/.bashrc\n",
            "\n",
            "Previous to conda 4.4, the recommended way to activate conda was to modify PATH in\n",
            "your ~/.bashrc file.  You should manually remove the line that looks like\n",
            "\n",
            "    export PATH=\"/usr/local/bin:$PATH\"\n",
            "\n",
            "^^^ The above line should NO LONGER be in your ~/.bashrc file! ^^^\n",
            "\n",
            "\n",
            "[nltk_data] Downloading package stopwords to /root/nltk_data...\n",
            "[nltk_data]   Package stopwords is already up-to-date!\n",
            "[nltk_data] Downloading package punkt to /root/nltk_data...\n",
            "[nltk_data]   Package punkt is already up-to-date!\n",
            "fatal: destination path 'rapidsai-csp-utils' already exists and is not an empty directory.\n",
            "PLEASE READ\n",
            "********************************************************************************************************\n",
            "Changes:\n",
            "1. Now that most people have migrated, we have rem0ved the migration notice.\n",
            "2. default stable version is now 0.13.  Nightly is now 0.14\n",
            "3. You can now declare your RAPIDS version as a CLI option and skip the user prompts (ex: '0.13' or '0.14', between 0.11 to 0.14, without the quotes): \n",
            "        \"!bash rapidsai-csp-utils/colab/rapids-colab.sh <version/label>\"\n",
            "        Examples: '!bash rapidsai-csp-utils/colab/rapids-colab.sh 0.13', or '!bash rapidsai-csp-utils/colab/rapids-colab.sh stable', or '!bash rapidsai-csp-utils/colab/rapids-colab.sh s'\n",
            "                  '!bash rapidsai-csp-utils/colab/rapids-colab.sh 0.14, or '!bash rapidsai-csp-utils/colab/rapids-colab.sh nightly', or '!bash rapidsai-csp-utils/colab/rapids-colab.sh n'\n",
            "Enjoy using RAPIDS!\n",
            "RAPIDS Version to install is 0.13\n",
            "Checking for GPU type:\n",
            "***********************************************************************\n",
            "Woo! Your instance has the right kind of GPU, a 'Tesla P100-PCIE-16GB'!\n",
            "***********************************************************************\n",
            "\n",
            "\n",
            "************************************************\n",
            "Your Google Colab instance has RAPIDS installed!\n",
            "************************************************\n",
            "***********************************************************************\n",
            "Let us check on those pyarrow and cffi versions...\n",
            "***********************************************************************\n",
            "\n",
            "You're running pyarrow 0.15.0 and are good to go!\n",
            "unloaded cffi 1.11.5\n",
            "loaded cffi 1.11.5\n"
          ],
          "name": "stdout"
        }
      ]
    },
    {
      "cell_type": "markdown",
      "metadata": {
        "colab_type": "text",
        "id": "Kvn45BG28aqd"
      },
      "source": [
        "## Imports"
      ]
    },
    {
      "cell_type": "code",
      "metadata": {
        "colab_type": "code",
        "id": "IRijjSry8aqf",
        "colab": {}
      },
      "source": [
        "%matplotlib inline\n",
        "import pandas as pd\n",
        "import numpy as np\n",
        "from tqdm import tqdm\n",
        "import matplotlib.pyplot as plt\n",
        "from sklearn.linear_model import SGDRegressor\n",
        "from sklearn.preprocessing import StandardScaler\n",
        "from sklearn.model_selection import GridSearchCV, train_test_split,  StratifiedKFold\n",
        "from sklearn.pipeline import Pipeline\n",
        "from sklearn.metrics import mean_absolute_error, mean_squared_error, r2_score\n",
        "tqdm.pandas()"
      ],
      "execution_count": 0,
      "outputs": []
    },
    {
      "cell_type": "code",
      "metadata": {
        "colab_type": "code",
        "id": "fEgS7UQD8aqk",
        "colab": {}
      },
      "source": [
        "from sklearn.model_selection import train_test_split\n",
        "from sklearn.impute import SimpleImputer\n",
        "from sklearn.compose import ColumnTransformer\n",
        "from sklearn.preprocessing import OneHotEncoder, FunctionTransformer\n",
        "from sklearn.model_selection import KFold\n",
        "from sklearn.dummy import DummyRegressor\n",
        "from sklearn.ensemble import RandomForestRegressor\n",
        "from sklearn.decomposition import PCA"
      ],
      "execution_count": 0,
      "outputs": []
    },
    {
      "cell_type": "code",
      "metadata": {
        "colab_type": "code",
        "id": "u5KwAwAe8aqp",
        "colab": {}
      },
      "source": [
        "from lib.transformers import *\n",
        "from lib.pipelines import *\n",
        "from lib.processing import save_to_pkl, load_from_pkl\n",
        "from lib.visualization import GridSearchPlotter\n",
        "from data.util.paths import DATA_PATH"
      ],
      "execution_count": 0,
      "outputs": []
    },
    {
      "cell_type": "code",
      "metadata": {
        "colab_type": "code",
        "id": "ixGjIOwS8aq1",
        "colab": {}
      },
      "source": [
        "from category_encoders.leave_one_out import LeaveOneOutEncoder"
      ],
      "execution_count": 0,
      "outputs": []
    },
    {
      "cell_type": "code",
      "metadata": {
        "colab_type": "code",
        "id": "X4_WNHlLW7Lt",
        "colab": {}
      },
      "source": [
        "from cuml import LinearRegression, RandomForestRegressor, Ridge, Lasso"
      ],
      "execution_count": 0,
      "outputs": []
    },
    {
      "cell_type": "code",
      "metadata": {
        "colab_type": "code",
        "id": "K3Ig2yYxXIrV",
        "colab": {}
      },
      "source": [
        "from catboost import CatBoostRegressor"
      ],
      "execution_count": 0,
      "outputs": []
    },
    {
      "cell_type": "markdown",
      "metadata": {
        "colab_type": "text",
        "id": "YwJ6GSBC3Qtz"
      },
      "source": [
        "## Loading Data"
      ]
    },
    {
      "cell_type": "code",
      "metadata": {
        "colab_type": "code",
        "id": "RiNFe3gX3Qtz",
        "colab": {}
      },
      "source": [
        "metadata_df, image_embeddings_df = tuple(load_from_pkl(i,DATA_PATH) for i in ('metadata','image_embeddings'))\n",
        "df = metadata_df.merge(image_embeddings_df,how='inner',on='release_id')\n",
        "df = OutlierRemover(features=['number_of_tracks'] + [i for i in df.columns if 'umap' in i]).fit_transform(df[(df['running_time'] < 180) | (df['running_time'].isna())])"
      ],
      "execution_count": 0,
      "outputs": []
    },
    {
      "cell_type": "code",
      "metadata": {
        "colab_type": "code",
        "id": "8-JguLVU4_kn",
        "colab": {}
      },
      "source": [
        "del metadata_df, image_embeddings_df"
      ],
      "execution_count": 0,
      "outputs": []
    },
    {
      "cell_type": "code",
      "metadata": {
        "colab_type": "code",
        "id": "1hbzpOTylHCB",
        "colab": {
          "base_uri": "https://localhost:8080/",
          "height": 67,
          "referenced_widgets": [
            "6c37fdf9764e4e45865561216cefead5",
            "b91bd39b99fc4b54992984a9e8a7efe1",
            "74433b2f52bf46278d9c6c9014162278",
            "f71e88f5305442acb2fc411dd4bbc23c",
            "251ef42f89c0483095d7dba326931b68",
            "5a9c7961c0f5405f948e0bd2b52b7407",
            "b1c16509dd2848c7938af30a0f7c9501",
            "41aefd1950f947878bd40fbb1996b16a"
          ]
        },
        "outputId": "4e6d9623-e032-4d72-a4a1-1ab9b0270933"
      },
      "source": [
        "col_set = {\n",
        "    'format': {\n",
        "        'description': 'format_description_', \n",
        "        'name': 'format_name_', \n",
        "        'text': ('format_text_clean'),\n",
        "        'quantity': ('format_quantity')\n",
        "    },\n",
        "    'geography': {\n",
        "        'superregion': 'superregion_',\n",
        "        'region': 'region_',\n",
        "        'country': 'country_'\n",
        "    },\n",
        "    'timeperiod': {\n",
        "        'period': 'period_',\n",
        "        'era': 'era_'\n",
        "    },\n",
        "    'genre': 'genre_',\n",
        "    'style': 'style_',\n",
        "    'null': None,\n",
        "    'indicator': lambda x: x.max() == 1 and x.min() == 0,\n",
        "    'image_embedding': 'image_umap_'\n",
        "}\n",
        "column_store = ColumnStore()\n",
        "column_store.fit(df,col_set)"
      ],
      "execution_count": 120,
      "outputs": [
        {
          "output_type": "display_data",
          "data": {
            "application/vnd.jupyter.widget-view+json": {
              "model_id": "6c37fdf9764e4e45865561216cefead5",
              "version_minor": 0,
              "version_major": 2
            },
            "text/plain": [
              "HBox(children=(IntProgress(value=0, max=8), HTML(value='')))"
            ]
          },
          "metadata": {
            "tags": []
          }
        },
        {
          "output_type": "stream",
          "text": [
            "\n"
          ],
          "name": "stdout"
        }
      ]
    },
    {
      "cell_type": "markdown",
      "metadata": {
        "colab_type": "text",
        "id": "Gz00X-1E8arN"
      },
      "source": [
        "## Preparing for Machine Learning"
      ]
    },
    {
      "cell_type": "code",
      "metadata": {
        "colab_type": "code",
        "id": "7hLwsGal8arO",
        "colab": {}
      },
      "source": [
        "X_tr, X_te, y_tr, y_te = train_test_split(df.drop('market_value',axis=1),df.market_value)"
      ],
      "execution_count": 0,
      "outputs": []
    },
    {
      "cell_type": "code",
      "metadata": {
        "id": "dXpwfIAIfudu",
        "colab_type": "code",
        "colab": {}
      },
      "source": [
        "units_for_sale_imputer = SimpleImputer(strategy='constant',fill_value=0)\n",
        "average_rating_imputer = SimpleImputer(strategy='mean')"
      ],
      "execution_count": 0,
      "outputs": []
    },
    {
      "cell_type": "code",
      "metadata": {
        "id": "nb5EhuF_fukB",
        "colab_type": "code",
        "colab": {}
      },
      "source": [
        "X_tr['units_for_sale'] = units_for_sale_imputer.fit_transform(X_tr['units_for_sale'].values.reshape(-1,1))\n",
        "X_te['units_for_sale'] = units_for_sale_imputer.transform(X_te['units_for_sale'].values.reshape(-1,1))"
      ],
      "execution_count": 0,
      "outputs": []
    },
    {
      "cell_type": "code",
      "metadata": {
        "id": "x8fAvd_9fumo",
        "colab_type": "code",
        "colab": {}
      },
      "source": [
        "X_tr['average_rating'] = average_rating_imputer.fit_transform(X_tr['average_rating'].values.reshape(-1,1))\n",
        "X_te['average_rating'] = average_rating_imputer.transform(X_te['average_rating'].values.reshape(-1,1))"
      ],
      "execution_count": 0,
      "outputs": []
    },
    {
      "cell_type": "code",
      "metadata": {
        "id": "0C52Gl1ngdey",
        "colab_type": "code",
        "colab": {}
      },
      "source": [
        "df_sample = pd.concat([X_tr,y_tr],axis=1).sample(frac=0.1)\n",
        "X_tr_sample = df_sample.drop('market_value',axis=1)\n",
        "y_tr_sample = df_sample['market_value']"
      ],
      "execution_count": 0,
      "outputs": []
    },
    {
      "cell_type": "code",
      "metadata": {
        "id": "pAWFk-AwgfEX",
        "colab_type": "code",
        "colab": {}
      },
      "source": [
        "del df"
      ],
      "execution_count": 0,
      "outputs": []
    },
    {
      "cell_type": "markdown",
      "metadata": {
        "colab_type": "text",
        "id": "pk_qZ4Lu947Y"
      },
      "source": [
        "## Setting up Dummy Regression for baseline"
      ]
    },
    {
      "cell_type": "code",
      "metadata": {
        "colab_type": "code",
        "id": "tTWU4_un6lR2",
        "colab": {}
      },
      "source": [
        "dummy_regressor = DummyRegressor(strategy='mean')"
      ],
      "execution_count": 0,
      "outputs": []
    },
    {
      "cell_type": "code",
      "metadata": {
        "colab_type": "code",
        "id": "eq6ZiI7y7Rmd",
        "outputId": "82a3d7b2-6821-4247-a900-e39bcd0492f2",
        "colab": {
          "base_uri": "https://localhost:8080/",
          "height": 35
        }
      },
      "source": [
        "dummy_regressor.fit(X_tr,np.log(y_tr).values)"
      ],
      "execution_count": 20,
      "outputs": [
        {
          "output_type": "execute_result",
          "data": {
            "text/plain": [
              "DummyRegressor(constant=None, quantile=None, strategy='mean')"
            ]
          },
          "metadata": {
            "tags": []
          },
          "execution_count": 20
        }
      ]
    },
    {
      "cell_type": "code",
      "metadata": {
        "colab_type": "code",
        "id": "3ET6x4I-DXWP",
        "colab": {}
      },
      "source": [
        "dummy_pred = dummy_regressor.predict(X_te)"
      ],
      "execution_count": 0,
      "outputs": []
    },
    {
      "cell_type": "code",
      "metadata": {
        "colab_type": "code",
        "id": "h-oMdqdnDUjz",
        "outputId": "4401d58f-f971-42a7-c8ec-d948f345c14b",
        "colab": {
          "base_uri": "https://localhost:8080/",
          "height": 35
        }
      },
      "source": [
        "r2_score(y_te,np.exp(dummy_pred))"
      ],
      "execution_count": 22,
      "outputs": [
        {
          "output_type": "execute_result",
          "data": {
            "text/plain": [
              "-0.07919813158704159"
            ]
          },
          "metadata": {
            "tags": []
          },
          "execution_count": 22
        }
      ]
    },
    {
      "cell_type": "code",
      "metadata": {
        "colab_type": "code",
        "id": "Gw0h8_hCC4x4",
        "outputId": "f01a1b71-e002-4bd6-893b-7d5b913a34a1",
        "colab": {
          "base_uri": "https://localhost:8080/",
          "height": 35
        }
      },
      "source": [
        "mean_absolute_error(y_te,np.exp(dummy_pred))"
      ],
      "execution_count": 23,
      "outputs": [
        {
          "output_type": "execute_result",
          "data": {
            "text/plain": [
              "10.606333900626483"
            ]
          },
          "metadata": {
            "tags": []
          },
          "execution_count": 23
        }
      ]
    },
    {
      "cell_type": "markdown",
      "metadata": {
        "colab_type": "text",
        "id": "DYJYPpPP-AaC"
      },
      "source": [
        "## Linear Regression - Record Store"
      ]
    },
    {
      "cell_type": "code",
      "metadata": {
        "colab_type": "code",
        "id": "jdZPu4pjGtE8",
        "colab": {}
      },
      "source": [
        "from sklearn.preprocessing import RobustScaler\n",
        "from sklearn.preprocessing import MinMaxScaler"
      ],
      "execution_count": 0,
      "outputs": []
    },
    {
      "cell_type": "code",
      "metadata": {
        "colab_type": "code",
        "id": "WCI8WWUu8ard",
        "colab": {}
      },
      "source": [
        "record_store_regression_transformer = ColumnTransformer(transformers=[\n",
        "    ('year_encoder', OneHotEncoder(dtype=np.uint8,handle_unknown='ignore'), ['year'])\n",
        "], remainder='passthrough')"
      ],
      "execution_count": 0,
      "outputs": []
    },
    {
      "cell_type": "code",
      "metadata": {
        "colab_type": "code",
        "id": "AZHfrogk8arh",
        "colab": {}
      },
      "source": [
        "record_store_regression_removal_columns = set([\n",
        "    'market_price','units_for_sale','have','want','average_rating','rating_count','last_sold','lowest','median',\n",
        "    'highest','track_titles','country','genre','style','community_have','community_want','formats','thumb_url',\n",
        "    'release_url','format_description','days_since_last_sale','title', 'release_id'\n",
        "])"
      ],
      "execution_count": 0,
      "outputs": []
    },
    {
      "cell_type": "code",
      "metadata": {
        "colab_type": "code",
        "id": "sRH_P30fEM-W",
        "colab": {}
      },
      "source": [
        "record_store_regression_processing = Pipeline([\n",
        "    ('running_time_imputer',RunningTimeImputer('running_time','number_of_tracks')),\n",
        "    ('leave_one_out_encoding', LeaveOneOutEncoder(cols=['artist','label','format_text','master_id','format_name'])),\n",
        "    ('record_store_column_remover', ColumnRemover(record_store_regression_removal_columns)),\n",
        "    ('preprocessing',record_store_regression_transformer),\n",
        "    ('scaler', RobustScaler()),                             \n",
        "])\n",
        "\n",
        "record_store_lr_pipe = Pipeline([\n",
        "    ('processing', record_store_regression_processing),\n",
        "    ('lr', GridSearchCV(\n",
        "        LinearRegression(),\n",
        "        param_grid={\n",
        "            'normalize': [True, False]\n",
        "        },\n",
        "        cv=KFold(n_splits=5,shuffle=True),\n",
        "        scoring='neg_mean_absolute_error',\n",
        "        verbose=5,\n",
        "        n_jobs=-1,\n",
        "    ))\n",
        "])"
      ],
      "execution_count": 0,
      "outputs": []
    },
    {
      "cell_type": "code",
      "metadata": {
        "id": "0ymJQSm8RuUn",
        "colab_type": "code",
        "colab": {
          "base_uri": "https://localhost:8080/",
          "height": 557
        },
        "outputId": "399d6373-5c0d-494a-ece6-dd5ee498bab3"
      },
      "source": [
        "record_store_lr_pipe.fit(X_tr,np.log(y_tr).values)"
      ],
      "execution_count": 36,
      "outputs": [
        {
          "output_type": "stream",
          "text": [
            "Fitting 5 folds for each of 2 candidates, totalling 10 fits\n"
          ],
          "name": "stdout"
        },
        {
          "output_type": "stream",
          "text": [
            "[Parallel(n_jobs=-1)]: Using backend LokyBackend with 4 concurrent workers.\n",
            "/usr/local/lib/python3.6/dist-packages/joblib/externals/loky/process_executor.py:706: UserWarning: A worker stopped while some jobs were given to the executor. This can be caused by a too short worker timeout or by a memory leak.\n",
            "  \"timeout or by a memory leak.\", UserWarning\n",
            "[Parallel(n_jobs=-1)]: Done   6 out of  10 | elapsed:   16.1s remaining:   10.7s\n",
            "[Parallel(n_jobs=-1)]: Done  10 out of  10 | elapsed:   18.6s finished\n",
            "/usr/local/lib/python3.6/site-packages/cuml/utils/input_utils.py:188: UserWarning: Expected column ('F') major order, but got the opposite. Converting data, this will result in additional memory utilization.\n",
            "  warnings.warn(\"Expected \" + order_to_str(order) + \" major order, \"\n"
          ],
          "name": "stderr"
        },
        {
          "output_type": "execute_result",
          "data": {
            "text/plain": [
              "Pipeline(memory=None,\n",
              "         steps=[('processing',\n",
              "                 Pipeline(memory=None,\n",
              "                          steps=[('running_time_imputer',\n",
              "                                  RunningTimeImputer(number_of_tracks='number_of_tracks',\n",
              "                                                     running_time='running_time')),\n",
              "                                 ('leave_one_out_encoding',\n",
              "                                  LeaveOneOutEncoder(cols=['artist', 'label',\n",
              "                                                           'format_text',\n",
              "                                                           'master_id',\n",
              "                                                           'format_name'],\n",
              "                                                     drop_invariant=False,\n",
              "                                                     handle_missing='value',\n",
              "                                                     handle_unknown='va...\n",
              "                              estimator=LinearRegression(algorithm='eig', fit_intercept=True, normalize=False, handle=<cuml.common.handle.Handle object at 0x7f3ac8d2f970>, verbose=False, output_type='input'),\n",
              "                              iid='deprecated', n_jobs=-1,\n",
              "                              param_grid={'normalize': [True, False]},\n",
              "                              pre_dispatch='2*n_jobs', refit=True,\n",
              "                              return_train_score=False,\n",
              "                              scoring='neg_mean_absolute_error', verbose=5))],\n",
              "         verbose=False)"
            ]
          },
          "metadata": {
            "tags": []
          },
          "execution_count": 36
        }
      ]
    },
    {
      "cell_type": "code",
      "metadata": {
        "colab_type": "code",
        "id": "bVqYCgf9EMzZ",
        "outputId": "51cab386-6461-4135-c27e-b20e87de417e",
        "colab": {
          "base_uri": "https://localhost:8080/",
          "height": 35
        }
      },
      "source": [
        "record_store_lr_pipe.steps[-1][-1].best_score_"
      ],
      "execution_count": 37,
      "outputs": [
        {
          "output_type": "execute_result",
          "data": {
            "text/plain": [
              "-0.5340656382173578"
            ]
          },
          "metadata": {
            "tags": []
          },
          "execution_count": 37
        }
      ]
    },
    {
      "cell_type": "code",
      "metadata": {
        "colab_type": "code",
        "id": "W6IhcYpqEMuK",
        "outputId": "9a81e21c-686c-4dbf-8a72-c2e369de22b3",
        "colab": {
          "base_uri": "https://localhost:8080/",
          "height": 73
        }
      },
      "source": [
        "record_store_lr_pred = record_store_lr_pipe.predict(X_te)"
      ],
      "execution_count": 38,
      "outputs": [
        {
          "output_type": "stream",
          "text": [
            "/usr/local/lib/python3.6/site-packages/cuml/utils/input_utils.py:188: UserWarning: Expected column ('F') major order, but got the opposite. Converting data, this will result in additional memory utilization.\n",
            "  warnings.warn(\"Expected \" + order_to_str(order) + \" major order, \"\n"
          ],
          "name": "stderr"
        }
      ]
    },
    {
      "cell_type": "code",
      "metadata": {
        "colab_type": "code",
        "id": "IVdPIxrzEMoC",
        "outputId": "16af9349-56d6-4e68-be08-152ffa65b4cf",
        "colab": {
          "base_uri": "https://localhost:8080/",
          "height": 35
        }
      },
      "source": [
        "r2_score(y_te,np.exp(record_store_lr_pred))"
      ],
      "execution_count": 39,
      "outputs": [
        {
          "output_type": "execute_result",
          "data": {
            "text/plain": [
              "-0.5444008840652477"
            ]
          },
          "metadata": {
            "tags": []
          },
          "execution_count": 39
        }
      ]
    },
    {
      "cell_type": "code",
      "metadata": {
        "colab_type": "code",
        "id": "opzrKU8LE5DR",
        "outputId": "fb486cbd-dcde-4c93-d6a3-3594e9b8337b",
        "colab": {
          "base_uri": "https://localhost:8080/",
          "height": 35
        }
      },
      "source": [
        "mean_absolute_error(y_te,np.exp(record_store_lr_pred))"
      ],
      "execution_count": 40,
      "outputs": [
        {
          "output_type": "execute_result",
          "data": {
            "text/plain": [
              "8.679495750903042"
            ]
          },
          "metadata": {
            "tags": []
          },
          "execution_count": 40
        }
      ]
    },
    {
      "cell_type": "markdown",
      "metadata": {
        "colab_type": "text",
        "id": "JwtgnOdrk1hP"
      },
      "source": [
        "## Linear Regression - Full Information"
      ]
    },
    {
      "cell_type": "code",
      "metadata": {
        "colab_type": "code",
        "id": "2ujcQMHOk1hQ",
        "colab": {}
      },
      "source": [
        "full_information_regression_transformer = ColumnTransformer(transformers=[\n",
        "    ('units_for_sale_imputer', SimpleImputer(strategy='constant',fill_value=0),['units_for_sale']),\n",
        "    ('average_rating_imputer', SimpleImputer(strategy='mean'),['average_rating']),\n",
        "    ('year_encoder', OneHotEncoder(dtype=np.uint8,handle_unknown='ignore'), ['year'])\n",
        "], remainder='passthrough')"
      ],
      "execution_count": 0,
      "outputs": []
    },
    {
      "cell_type": "code",
      "metadata": {
        "colab_type": "code",
        "id": "p8irOAHLk1hU",
        "colab": {}
      },
      "source": [
        "full_information_columns = set([\n",
        "    'units_for_sale','community_have','community_want','average_rating','rating_count'\n",
        "])\n",
        "full_information_regression_removal_columns = record_store_regression_removal_columns - full_information_columns"
      ],
      "execution_count": 0,
      "outputs": []
    },
    {
      "cell_type": "code",
      "metadata": {
        "colab_type": "code",
        "id": "lddHv-fzk1hX",
        "colab": {}
      },
      "source": [
        "full_information_regression_processing = Pipeline([\n",
        "    ('running_time_imputer',RunningTimeImputer('running_time','number_of_tracks')),\n",
        "    ('leave_one_out_encoding', LeaveOneOutEncoder(cols=['artist','label','format_text','master_id','format_name'])),\n",
        "    ('record_store_column_remover', ColumnRemover(full_information_regression_removal_columns)),\n",
        "    ('preprocessing',full_information_regression_transformer),\n",
        "    ('scaler', RobustScaler()),\n",
        "])\n",
        "\n",
        "full_information_lr_pipe = Pipeline([\n",
        "    ('processing', full_information_regression_processing),\n",
        "    ('lr', GridSearchCV(\n",
        "        LinearRegression(),\n",
        "        param_grid={\n",
        "            'normalize':[False,True]\n",
        "        },\n",
        "        cv=KFold(n_splits=5,shuffle=True),\n",
        "        scoring='neg_mean_absolute_error',\n",
        "        verbose=5,\n",
        "        n_jobs=-1,\n",
        "    ))\n",
        "])"
      ],
      "execution_count": 0,
      "outputs": []
    },
    {
      "cell_type": "code",
      "metadata": {
        "colab_type": "code",
        "id": "GIxWE4WUk1hb",
        "outputId": "272a9a6f-8def-42e2-cb01-d63982f0940d",
        "colab": {
          "base_uri": "https://localhost:8080/",
          "height": 521
        }
      },
      "source": [
        "full_information_lr_pipe.fit(X_tr,np.log(y_tr).values)"
      ],
      "execution_count": 60,
      "outputs": [
        {
          "output_type": "stream",
          "text": [
            "Fitting 5 folds for each of 2 candidates, totalling 10 fits\n"
          ],
          "name": "stdout"
        },
        {
          "output_type": "stream",
          "text": [
            "[Parallel(n_jobs=-1)]: Using backend LokyBackend with 4 concurrent workers.\n",
            "[Parallel(n_jobs=-1)]: Done   6 out of  10 | elapsed:    4.7s remaining:    3.1s\n",
            "[Parallel(n_jobs=-1)]: Done  10 out of  10 | elapsed:    6.6s finished\n",
            "/usr/local/lib/python3.6/site-packages/cuml/utils/input_utils.py:188: UserWarning: Expected column ('F') major order, but got the opposite. Converting data, this will result in additional memory utilization.\n",
            "  warnings.warn(\"Expected \" + order_to_str(order) + \" major order, \"\n"
          ],
          "name": "stderr"
        },
        {
          "output_type": "execute_result",
          "data": {
            "text/plain": [
              "Pipeline(memory=None,\n",
              "         steps=[('processing',\n",
              "                 Pipeline(memory=None,\n",
              "                          steps=[('running_time_imputer',\n",
              "                                  RunningTimeImputer(number_of_tracks='number_of_tracks',\n",
              "                                                     running_time='running_time')),\n",
              "                                 ('leave_one_out_encoding',\n",
              "                                  LeaveOneOutEncoder(cols=['artist', 'label',\n",
              "                                                           'format_text',\n",
              "                                                           'master_id',\n",
              "                                                           'format_name'],\n",
              "                                                     drop_invariant=False,\n",
              "                                                     handle_missing='value',\n",
              "                                                     handle_unknown='va...\n",
              "                              estimator=LinearRegression(algorithm='eig', fit_intercept=True, normalize=False, handle=<cuml.common.handle.Handle object at 0x7f3add2e9bd0>, verbose=False, output_type='input'),\n",
              "                              iid='deprecated', n_jobs=-1,\n",
              "                              param_grid={'normalize': [False, True]},\n",
              "                              pre_dispatch='2*n_jobs', refit=True,\n",
              "                              return_train_score=False,\n",
              "                              scoring='neg_mean_absolute_error', verbose=5))],\n",
              "         verbose=False)"
            ]
          },
          "metadata": {
            "tags": []
          },
          "execution_count": 60
        }
      ]
    },
    {
      "cell_type": "code",
      "metadata": {
        "colab_type": "code",
        "id": "zK4yVrywk1hf",
        "outputId": "9154cae3-1c5f-4ac4-ec45-0e113c3b7b39",
        "colab": {
          "base_uri": "https://localhost:8080/",
          "height": 35
        }
      },
      "source": [
        "full_information_lr_pipe['lr'].best_score_"
      ],
      "execution_count": 45,
      "outputs": [
        {
          "output_type": "execute_result",
          "data": {
            "text/plain": [
              "-0.5010604648455177"
            ]
          },
          "metadata": {
            "tags": []
          },
          "execution_count": 45
        }
      ]
    },
    {
      "cell_type": "code",
      "metadata": {
        "colab_type": "code",
        "id": "lK9EGfANk1hk",
        "outputId": "b968721f-cc3d-4065-a517-1303170e3f78",
        "colab": {
          "base_uri": "https://localhost:8080/",
          "height": 73
        }
      },
      "source": [
        "full_information_lr_pred = record_store_lr_pipe.predict(X_te)"
      ],
      "execution_count": 46,
      "outputs": [
        {
          "output_type": "stream",
          "text": [
            "/usr/local/lib/python3.6/site-packages/cuml/utils/input_utils.py:188: UserWarning: Expected column ('F') major order, but got the opposite. Converting data, this will result in additional memory utilization.\n",
            "  warnings.warn(\"Expected \" + order_to_str(order) + \" major order, \"\n"
          ],
          "name": "stderr"
        }
      ]
    },
    {
      "cell_type": "code",
      "metadata": {
        "colab_type": "code",
        "id": "lSQPebt_k1hm",
        "outputId": "7520cc6b-81bb-40fe-cedc-a5c6e8a7fcbe",
        "colab": {
          "base_uri": "https://localhost:8080/",
          "height": 35
        }
      },
      "source": [
        "r2_score(y_te,np.exp(full_information_lr_pred))"
      ],
      "execution_count": 47,
      "outputs": [
        {
          "output_type": "execute_result",
          "data": {
            "text/plain": [
              "-0.5444008840652477"
            ]
          },
          "metadata": {
            "tags": []
          },
          "execution_count": 47
        }
      ]
    },
    {
      "cell_type": "code",
      "metadata": {
        "colab_type": "code",
        "id": "sHCTKQZhk1hq",
        "outputId": "a24697ff-4916-47dc-af65-0a53e5935f05",
        "colab": {
          "base_uri": "https://localhost:8080/",
          "height": 35
        }
      },
      "source": [
        "mean_absolute_error(y_te,np.exp(full_information_lr_pred))"
      ],
      "execution_count": 48,
      "outputs": [
        {
          "output_type": "execute_result",
          "data": {
            "text/plain": [
              "8.679495750903042"
            ]
          },
          "metadata": {
            "tags": []
          },
          "execution_count": 48
        }
      ]
    },
    {
      "cell_type": "markdown",
      "metadata": {
        "colab_type": "text",
        "id": "Qr2uI56yk1hu"
      },
      "source": [
        "## Ridge Regression - Record Store"
      ]
    },
    {
      "cell_type": "code",
      "metadata": {
        "colab_type": "code",
        "id": "BP1pxaQ18arp",
        "colab": {}
      },
      "source": [
        "record_store_ridge_pipe = Pipeline([\n",
        "    ('running_time_imputer',RunningTimeImputer('running_time','number_of_tracks')),\n",
        "    ('leave_one_out_encoding', LeaveOneOutEncoder(cols=['artist','label','format_text','format_name','master_id'])),\n",
        "    ('record_store_column_remover', ColumnRemover(record_store_regression_removal_columns)),\n",
        "    ('preprocessing',record_store_regression_transformer),\n",
        "    ('scaler', RobustScaler()),\n",
        "    ('ridge', GridSearchCV(\n",
        "        Ridge(normalize=False,solver='eig'),\n",
        "        param_grid={\n",
        "            'alpha': np.linspace(1e-3,1e3,10),\n",
        "        },\n",
        "        cv=KFold(n_splits=5,shuffle=True),\n",
        "        scoring='neg_mean_absolute_error',\n",
        "        verbose=5,\n",
        "        n_jobs=-1,\n",
        "        return_train_score=True\n",
        "    ))\n",
        "])"
      ],
      "execution_count": 0,
      "outputs": []
    },
    {
      "cell_type": "code",
      "metadata": {
        "colab_type": "code",
        "id": "edNLg2KryH4q",
        "outputId": "3162f659-f439-43c6-870c-22b085096051",
        "colab": {
          "base_uri": "https://localhost:8080/",
          "height": 485
        }
      },
      "source": [
        "record_store_ridge_pipe.fit(X_tr,np.log(y_tr).values)"
      ],
      "execution_count": 51,
      "outputs": [
        {
          "output_type": "stream",
          "text": [
            "Fitting 5 folds for each of 10 candidates, totalling 50 fits\n"
          ],
          "name": "stdout"
        },
        {
          "output_type": "stream",
          "text": [
            "[Parallel(n_jobs=-1)]: Using backend LokyBackend with 4 concurrent workers.\n",
            "[Parallel(n_jobs=-1)]: Done  10 tasks      | elapsed:   15.9s\n",
            "[Parallel(n_jobs=-1)]: Done  50 out of  50 | elapsed:   40.7s finished\n",
            "/usr/local/lib/python3.6/site-packages/cuml/utils/input_utils.py:188: UserWarning: Expected column ('F') major order, but got the opposite. Converting data, this will result in additional memory utilization.\n",
            "  warnings.warn(\"Expected \" + order_to_str(order) + \" major order, \"\n"
          ],
          "name": "stderr"
        },
        {
          "output_type": "execute_result",
          "data": {
            "text/plain": [
              "Pipeline(memory=None,\n",
              "         steps=[('running_time_imputer',\n",
              "                 RunningTimeImputer(number_of_tracks='number_of_tracks',\n",
              "                                    running_time='running_time')),\n",
              "                ('leave_one_out_encoding',\n",
              "                 LeaveOneOutEncoder(cols=['artist', 'label', 'format_text',\n",
              "                                          'format_name', 'master_id'],\n",
              "                                    drop_invariant=False,\n",
              "                                    handle_missing='value',\n",
              "                                    handle_unknown='value', random_state=None,\n",
              "                                    return_df=True, sigm...\n",
              "                              estimator=Ridge(alpha=1.0, solver='eig', fit_intercept=True, normalize=False, handle=<cuml.common.handle.Handle object at 0x7f692562c370>, output_type='input'),\n",
              "                              iid='deprecated', n_jobs=-1,\n",
              "                              param_grid={'alpha': array([1.00000e-03, 1.11112e+02, 2.22223e+02, 3.33334e+02, 4.44445e+02,\n",
              "       5.55556e+02, 6.66667e+02, 7.77778e+02, 8.88889e+02, 1.00000e+03])},\n",
              "                              pre_dispatch='2*n_jobs', refit=True,\n",
              "                              return_train_score=True,\n",
              "                              scoring='neg_mean_absolute_error', verbose=5))],\n",
              "         verbose=False)"
            ]
          },
          "metadata": {
            "tags": []
          },
          "execution_count": 51
        }
      ]
    },
    {
      "cell_type": "code",
      "metadata": {
        "colab_type": "code",
        "id": "z7tlJO3u-Tl4",
        "colab": {}
      },
      "source": [
        "plotter = GridSearchPlotter(record_store_ridge_pipe['ridge'])"
      ],
      "execution_count": 0,
      "outputs": []
    },
    {
      "cell_type": "code",
      "metadata": {
        "colab_type": "code",
        "id": "jla1YIhr-TgT",
        "outputId": "b2de2510-d223-4c84-8adc-49c17bc33b06",
        "colab": {
          "base_uri": "https://localhost:8080/",
          "height": 295
        }
      },
      "source": [
        "plotter.plot_validation_curve(parameter='alpha',ylim=(-0.75,-0.25))"
      ],
      "execution_count": 53,
      "outputs": [
        {
          "output_type": "display_data",
          "data": {
            "image/png": "[encoded data removed]",
            "text/plain": [
              "<Figure size 432x288 with 1 Axes>"
            ]
          },
          "metadata": {
            "tags": [],
            "needs_background": "light"
          }
        }
      ]
    },
    {
      "cell_type": "code",
      "metadata": {
        "colab_type": "code",
        "id": "cxR9zl4f-hk9",
        "outputId": "7c6a80fc-746e-41a5-8551-76805b6ad4fb",
        "colab": {
          "base_uri": "https://localhost:8080/",
          "height": 35
        }
      },
      "source": [
        "record_store_ridge_pipe['ridge'].best_score_"
      ],
      "execution_count": 54,
      "outputs": [
        {
          "output_type": "execute_result",
          "data": {
            "text/plain": [
              "-0.52908826482305"
            ]
          },
          "metadata": {
            "tags": []
          },
          "execution_count": 54
        }
      ]
    },
    {
      "cell_type": "code",
      "metadata": {
        "colab_type": "code",
        "id": "cbV-3Q9A0-hi",
        "outputId": "341528a6-ab16-4d61-fd39-4e830b3372c7",
        "colab": {
          "base_uri": "https://localhost:8080/",
          "height": 35
        }
      },
      "source": [
        "record_store_ridge_pipe['ridge'].best_params_"
      ],
      "execution_count": 55,
      "outputs": [
        {
          "output_type": "execute_result",
          "data": {
            "text/plain": [
              "{'alpha': 111.11200000000001}"
            ]
          },
          "metadata": {
            "tags": []
          },
          "execution_count": 55
        }
      ]
    },
    {
      "cell_type": "code",
      "metadata": {
        "colab_type": "code",
        "id": "db1qMG0e8ar7",
        "outputId": "f0649203-b543-42fc-a13b-8284a45e1e5c",
        "colab": {
          "base_uri": "https://localhost:8080/",
          "height": 73
        }
      },
      "source": [
        "record_store_ridge_pred = record_store_ridge_pipe.predict(X_te)"
      ],
      "execution_count": 56,
      "outputs": [
        {
          "output_type": "stream",
          "text": [
            "/usr/local/lib/python3.6/site-packages/cuml/utils/input_utils.py:188: UserWarning: Expected column ('F') major order, but got the opposite. Converting data, this will result in additional memory utilization.\n",
            "  warnings.warn(\"Expected \" + order_to_str(order) + \" major order, \"\n"
          ],
          "name": "stderr"
        }
      ]
    },
    {
      "cell_type": "code",
      "metadata": {
        "colab_type": "code",
        "id": "GsQHxrUE8ar-",
        "outputId": "cdfcb227-b860-42a3-f0d2-4ed7c6b6d0fa",
        "colab": {
          "base_uri": "https://localhost:8080/",
          "height": 35
        }
      },
      "source": [
        "r2_score(y_te,np.exp(record_store_ridge_pred))"
      ],
      "execution_count": 57,
      "outputs": [
        {
          "output_type": "execute_result",
          "data": {
            "text/plain": [
              "0.15712499880493624"
            ]
          },
          "metadata": {
            "tags": []
          },
          "execution_count": 57
        }
      ]
    },
    {
      "cell_type": "code",
      "metadata": {
        "colab_type": "code",
        "id": "9oKBWYEo8asD",
        "outputId": "bf33f194-4e1e-46ed-fef7-5732f47a2d32",
        "colab": {
          "base_uri": "https://localhost:8080/",
          "height": 35
        }
      },
      "source": [
        "mean_absolute_error(y_te,np.exp(record_store_ridge_pred))"
      ],
      "execution_count": 58,
      "outputs": [
        {
          "output_type": "execute_result",
          "data": {
            "text/plain": [
              "8.52437960713163"
            ]
          },
          "metadata": {
            "tags": []
          },
          "execution_count": 58
        }
      ]
    },
    {
      "cell_type": "markdown",
      "metadata": {
        "colab_type": "text",
        "id": "Cnmd7rIWk1iS"
      },
      "source": [
        "## Ridge - Full Information"
      ]
    },
    {
      "cell_type": "code",
      "metadata": {
        "colab_type": "code",
        "id": "Rlb1Z8CEk1iT",
        "colab": {}
      },
      "source": [
        "full_information_ridge_pipe = Pipeline([\n",
        "    ('running_time_imputer',RunningTimeImputer('running_time','number_of_tracks')),\n",
        "    ('leave_one_out_encoding', LeaveOneOutEncoder(cols=['artist','label','format_text','format_name','master_id'])),\n",
        "    ('record_store_column_remover', ColumnRemover(full_information_regression_removal_columns)),\n",
        "    ('preprocessing',full_information_regression_transformer),\n",
        "    ('scaler', StandardScaler()),\n",
        "    ('ridge', GridSearchCV(\n",
        "        Ridge(normalize=False,solver='eig'),\n",
        "        param_grid={\n",
        "            'alpha': np.logspace(-3,3,10),\n",
        "        },\n",
        "        cv=KFold(n_splits=5,shuffle=True),\n",
        "        scoring='neg_mean_absolute_error',\n",
        "        verbose=5,\n",
        "        n_jobs=-1,\n",
        "        return_train_score=True\n",
        "    ))\n",
        "])"
      ],
      "execution_count": 0,
      "outputs": []
    },
    {
      "cell_type": "code",
      "metadata": {
        "colab_type": "code",
        "id": "6CSH5O1jk1iX",
        "outputId": "81efa864-fe4a-407b-e920-920ff62e6082",
        "colab": {
          "base_uri": "https://localhost:8080/",
          "height": 503
        }
      },
      "source": [
        "full_information_ridge_pipe.fit(X_tr,np.log(y_tr).values)"
      ],
      "execution_count": 60,
      "outputs": [
        {
          "output_type": "stream",
          "text": [
            "Fitting 5 folds for each of 10 candidates, totalling 50 fits\n"
          ],
          "name": "stdout"
        },
        {
          "output_type": "stream",
          "text": [
            "[Parallel(n_jobs=-1)]: Using backend LokyBackend with 4 concurrent workers.\n",
            "[Parallel(n_jobs=-1)]: Done  10 tasks      | elapsed:   10.0s\n",
            "[Parallel(n_jobs=-1)]: Done  50 out of  50 | elapsed:   35.1s finished\n",
            "/usr/local/lib/python3.6/site-packages/cuml/utils/input_utils.py:188: UserWarning: Expected column ('F') major order, but got the opposite. Converting data, this will result in additional memory utilization.\n",
            "  warnings.warn(\"Expected \" + order_to_str(order) + \" major order, \"\n"
          ],
          "name": "stderr"
        },
        {
          "output_type": "execute_result",
          "data": {
            "text/plain": [
              "Pipeline(memory=None,\n",
              "         steps=[('running_time_imputer',\n",
              "                 RunningTimeImputer(number_of_tracks='number_of_tracks',\n",
              "                                    running_time='running_time')),\n",
              "                ('leave_one_out_encoding',\n",
              "                 LeaveOneOutEncoder(cols=['artist', 'label', 'format_text',\n",
              "                                          'format_name', 'master_id'],\n",
              "                                    drop_invariant=False,\n",
              "                                    handle_missing='value',\n",
              "                                    handle_unknown='value', random_state=None,\n",
              "                                    return_df=True, sigm...\n",
              "                              estimator=Ridge(alpha=1.0, solver='eig', fit_intercept=True, normalize=False, handle=<cuml.common.handle.Handle object at 0x7f69295553f0>, output_type='input'),\n",
              "                              iid='deprecated', n_jobs=-1,\n",
              "                              param_grid={'alpha': array([1.00000000e-03, 4.64158883e-03, 2.15443469e-02, 1.00000000e-01,\n",
              "       4.64158883e-01, 2.15443469e+00, 1.00000000e+01, 4.64158883e+01,\n",
              "       2.15443469e+02, 1.00000000e+03])},\n",
              "                              pre_dispatch='2*n_jobs', refit=True,\n",
              "                              return_train_score=True,\n",
              "                              scoring='neg_mean_absolute_error', verbose=5))],\n",
              "         verbose=False)"
            ]
          },
          "metadata": {
            "tags": []
          },
          "execution_count": 60
        }
      ]
    },
    {
      "cell_type": "code",
      "metadata": {
        "colab_type": "code",
        "id": "yGvB5HQEk1ib",
        "colab": {}
      },
      "source": [
        "plotter = GridSearchPlotter(full_information_ridge_pipe['ridge'])"
      ],
      "execution_count": 0,
      "outputs": []
    },
    {
      "cell_type": "code",
      "metadata": {
        "colab_type": "code",
        "id": "FALIex5Ak1ie",
        "outputId": "a5909b6c-e135-4f1a-bcb9-3a3fd9c1a524",
        "colab": {
          "base_uri": "https://localhost:8080/",
          "height": 295
        }
      },
      "source": [
        "plotter.plot_validation_curve(parameter='alpha',ylim=(-0.75,-0.25))"
      ],
      "execution_count": 62,
      "outputs": [
        {
          "output_type": "display_data",
          "data": {
            "image/png": "[encoded data removed]",
            "text/plain": [
              "<Figure size 432x288 with 1 Axes>"
            ]
          },
          "metadata": {
            "tags": [],
            "needs_background": "light"
          }
        }
      ]
    },
    {
      "cell_type": "code",
      "metadata": {
        "colab_type": "code",
        "id": "JFbucWgVk1ih",
        "outputId": "ce11acdb-c771-464e-ea94-5b2e021a723d",
        "colab": {
          "base_uri": "https://localhost:8080/",
          "height": 35
        }
      },
      "source": [
        "full_information_ridge_pipe['ridge'].best_score_"
      ],
      "execution_count": 63,
      "outputs": [
        {
          "output_type": "execute_result",
          "data": {
            "text/plain": [
              "-0.49712285887266416"
            ]
          },
          "metadata": {
            "tags": []
          },
          "execution_count": 63
        }
      ]
    },
    {
      "cell_type": "code",
      "metadata": {
        "colab_type": "code",
        "id": "DmY50t1kk1iz",
        "outputId": "b05c71e9-07d5-4c6f-effb-6372aefe63af",
        "colab": {
          "base_uri": "https://localhost:8080/",
          "height": 35
        }
      },
      "source": [
        "full_information_ridge_pipe['ridge'].best_params_"
      ],
      "execution_count": 64,
      "outputs": [
        {
          "output_type": "execute_result",
          "data": {
            "text/plain": [
              "{'alpha': 46.41588833612773}"
            ]
          },
          "metadata": {
            "tags": []
          },
          "execution_count": 64
        }
      ]
    },
    {
      "cell_type": "code",
      "metadata": {
        "colab_type": "code",
        "id": "IPsBz9Yhk1i1",
        "outputId": "702593e9-3386-4e49-d849-f2f41c56e35d",
        "colab": {
          "base_uri": "https://localhost:8080/",
          "height": 73
        }
      },
      "source": [
        "full_information_ridge_pred = full_information_ridge_pipe.predict(X_te)"
      ],
      "execution_count": 65,
      "outputs": [
        {
          "output_type": "stream",
          "text": [
            "/usr/local/lib/python3.6/site-packages/cuml/utils/input_utils.py:188: UserWarning: Expected column ('F') major order, but got the opposite. Converting data, this will result in additional memory utilization.\n",
            "  warnings.warn(\"Expected \" + order_to_str(order) + \" major order, \"\n"
          ],
          "name": "stderr"
        }
      ]
    },
    {
      "cell_type": "code",
      "metadata": {
        "colab_type": "code",
        "id": "KfoM7GS6k1i4",
        "outputId": "898bd6b7-2af2-4fa7-adec-e9745a353cf2",
        "colab": {
          "base_uri": "https://localhost:8080/",
          "height": 35
        }
      },
      "source": [
        "r2_score(y_te,np.exp(full_information_ridge_pred))"
      ],
      "execution_count": 66,
      "outputs": [
        {
          "output_type": "execute_result",
          "data": {
            "text/plain": [
              "-25.0720273878473"
            ]
          },
          "metadata": {
            "tags": []
          },
          "execution_count": 66
        }
      ]
    },
    {
      "cell_type": "code",
      "metadata": {
        "colab_type": "code",
        "id": "uNXNcesPk1i6",
        "outputId": "00510e07-d640-43a9-b7d2-58ee1c53022d",
        "colab": {
          "base_uri": "https://localhost:8080/",
          "height": 35
        }
      },
      "source": [
        "mean_absolute_error(y_te,np.exp(full_information_ridge_pred))"
      ],
      "execution_count": 67,
      "outputs": [
        {
          "output_type": "execute_result",
          "data": {
            "text/plain": [
              "8.767547014439332"
            ]
          },
          "metadata": {
            "tags": []
          },
          "execution_count": 67
        }
      ]
    },
    {
      "cell_type": "markdown",
      "metadata": {
        "colab_type": "text",
        "id": "fbreYK1X8asG"
      },
      "source": [
        "## Random Forest - Record Store"
      ]
    },
    {
      "cell_type": "code",
      "metadata": {
        "colab_type": "code",
        "id": "McTksN6VGPnv",
        "colab": {}
      },
      "source": [
        "record_store_random_forest_removal_columns = [\n",
        "    'market_price','units_for_sale','have','want','average_rating','rating_count','last_sold','lowest','median',\n",
        "    'highest','track_titles','country','genre','style','community_have','community_want','formats','thumb_url',\n",
        "    'release_url','format_description','days_since_last_sale','title','release_id'\n",
        "]\n",
        "record_store_random_forest_removal_columns.extend(\n",
        "    column_store._indicator\n",
        ")\n",
        "record_store_random_forest_removal_columns = set(record_store_random_forest_removal_columns)"
      ],
      "execution_count": 0,
      "outputs": []
    },
    {
      "cell_type": "code",
      "metadata": {
        "colab_type": "code",
        "id": "BPf-IJfD8asO",
        "colab": {}
      },
      "source": [
        "record_store_random_forest_preprocessing_pipe = Pipeline([\n",
        "    ('running_time_imputer',RunningTimeImputer('running_time','number_of_tracks')),\n",
        "    ('leave_one_out_encoding', LeaveOneOutEncoder(cols=['artist','label','format_text','format_name','master_id','year'])),\n",
        "    ('reduce_indicators', IndicatorReducer(indicators=column_store._indicator,algorithm=PCA,components=40)),\n",
        "    ('record_store_column_remover', ColumnRemover(record_store_random_forest_removal_columns)),\n",
        "    ('cast_to_32', FunctionTransformer(func=lambda x: x.values.astype(np.float32)))\n",
        "])\n",
        "\n",
        "random_forest = RandomForestRegressor()\n",
        "\n",
        "record_store_random_forest_search_pipe = Pipeline([\n",
        "    ('preprocessing',record_store_random_forest_preprocessing_pipe),\n",
        "    ('grid_search', GridSearchCV(\n",
        "        random_forest,\n",
        "        cv=KFold(n_splits=5,shuffle=True),\n",
        "        param_grid={\n",
        "            'n_estimators': np.linspace(10,200,5).astype(int)\n",
        "        },\n",
        "        verbose=50,\n",
        "        scoring='neg_mean_absolute_error',\n",
        "        n_jobs=-1,\n",
        "        return_train_score=True\n",
        "    ))\n",
        "])\n",
        "\n",
        "record_store_random_forest_pipe = Pipeline([\n",
        "    ('preprocessing',record_store_random_forest_preprocessing_pipe),\n",
        "    ('random_forest',random_forest)\n",
        "])"
      ],
      "execution_count": 0,
      "outputs": []
    },
    {
      "cell_type": "code",
      "metadata": {
        "colab_type": "code",
        "id": "l97EbEPB8asR",
        "colab": {
          "base_uri": "https://localhost:8080/",
          "height": 987
        },
        "outputId": "56ed7679-9f2e-4bf8-d0ad-a8e16553f7eb"
      },
      "source": [
        "record_store_random_forest_search_pipe.fit(X_tr_sample,np.log(y_tr_sample).values.astype(np.float32))"
      ],
      "execution_count": 70,
      "outputs": [
        {
          "output_type": "stream",
          "text": [
            "Fitting 5 folds for each of 5 candidates, totalling 25 fits\n",
            "[Parallel(n_jobs=-1)]: Using backend LokyBackend with 4 concurrent workers.\n",
            "[Parallel(n_jobs=-1)]: Done   1 tasks      | elapsed:    3.9s\n",
            "[Parallel(n_jobs=-1)]: Done   2 tasks      | elapsed:    3.9s\n",
            "[Parallel(n_jobs=-1)]: Done   3 tasks      | elapsed:    3.9s\n",
            "[Parallel(n_jobs=-1)]: Done   4 tasks      | elapsed:    3.9s\n",
            "[Parallel(n_jobs=-1)]: Done   5 tasks      | elapsed:    6.9s\n",
            "[Parallel(n_jobs=-1)]: Done   6 tasks      | elapsed:   21.5s\n",
            "[Parallel(n_jobs=-1)]: Done   7 tasks      | elapsed:   21.5s\n",
            "[Parallel(n_jobs=-1)]: Done   8 tasks      | elapsed:   21.6s\n",
            "[Parallel(n_jobs=-1)]: Done   9 tasks      | elapsed:   22.5s\n",
            "[Parallel(n_jobs=-1)]: Done  10 tasks      | elapsed:   38.5s\n",
            "[Parallel(n_jobs=-1)]: Done  11 tasks      | elapsed:   52.7s\n",
            "[Parallel(n_jobs=-1)]: Done  12 tasks      | elapsed:   52.7s\n",
            "[Parallel(n_jobs=-1)]: Done  13 tasks      | elapsed:   53.6s\n",
            "[Parallel(n_jobs=-1)]: Done  14 tasks      | elapsed:  1.0min\n",
            "[Parallel(n_jobs=-1)]: Done  15 tasks      | elapsed:  1.4min\n",
            "[Parallel(n_jobs=-1)]: Done  16 tasks      | elapsed:  1.6min\n",
            "[Parallel(n_jobs=-1)]: Done  17 tasks      | elapsed:  1.6min\n",
            "[Parallel(n_jobs=-1)]: Done  18 tasks      | elapsed:  1.7min\n",
            "[Parallel(n_jobs=-1)]: Done  19 out of  25 | elapsed:  2.1min remaining:   39.0s\n",
            "[Parallel(n_jobs=-1)]: Done  20 out of  25 | elapsed:  2.3min remaining:   34.8s\n",
            "[Parallel(n_jobs=-1)]: Done  21 out of  25 | elapsed:  2.6min remaining:   29.4s\n"
          ],
          "name": "stdout"
        },
        {
          "output_type": "stream",
          "text": [
            "/usr/local/lib/python3.6/dist-packages/joblib/externals/loky/process_executor.py:706: UserWarning: A worker stopped while some jobs were given to the executor. This can be caused by a too short worker timeout or by a memory leak.\n",
            "  \"timeout or by a memory leak.\", UserWarning\n"
          ],
          "name": "stderr"
        },
        {
          "output_type": "stream",
          "text": [
            "[Parallel(n_jobs=-1)]: Done  22 out of  25 | elapsed:  2.7min remaining:   21.9s\n",
            "[Parallel(n_jobs=-1)]: Done  23 out of  25 | elapsed:  2.9min remaining:   15.0s\n",
            "[Parallel(n_jobs=-1)]: Done  25 out of  25 | elapsed:  3.1min remaining:    0.0s\n",
            "[Parallel(n_jobs=-1)]: Done  25 out of  25 | elapsed:  3.1min finished\n"
          ],
          "name": "stdout"
        },
        {
          "output_type": "stream",
          "text": [
            "/usr/local/lib/python3.6/site-packages/cuml/utils/input_utils.py:188: UserWarning: Expected column ('F') major order, but got the opposite. Converting data, this will result in additional memory utilization.\n",
            "  warnings.warn(\"Expected \" + order_to_str(order) + \" major order, \"\n"
          ],
          "name": "stderr"
        },
        {
          "output_type": "execute_result",
          "data": {
            "text/plain": [
              "Pipeline(memory=None,\n",
              "         steps=[('preprocessing',\n",
              "                 Pipeline(memory=None,\n",
              "                          steps=[('running_time_imputer',\n",
              "                                  RunningTimeImputer(number_of_tracks='number_of_tracks',\n",
              "                                                     running_time='running_time')),\n",
              "                                 ('leave_one_out_encoding',\n",
              "                                  LeaveOneOutEncoder(cols=['artist', 'label',\n",
              "                                                           'format_text',\n",
              "                                                           'format_name',\n",
              "                                                           'master_id',\n",
              "                                                           'year'],\n",
              "                                                     drop_invariant=False,\n",
              "                                                     handle_missing='value',\n",
              "                                                     handle_u...\n",
              "                              estimator=RandomForestRegressor(n_estimators=100, max_depth=16, handle=<cuml.common.handle.Handle object at 0x7f6929387ab0>, max_features='auto', n_bins=8, n_streams=8, split_algo=1, split_criterion=2, bootstrap=True, bootstrap_features=False, verbose=False, min_rows_per_node=2, rows_sample=1.0, max_leaves=-1, accuracy_metric='mse', output_type='input', min_impurity_decrease=0.0, quantile_per_tree=False, seed=None),\n",
              "                              iid='deprecated', n_jobs=-1,\n",
              "                              param_grid={'n_estimators': array([ 10,  57, 105, 152, 200])},\n",
              "                              pre_dispatch='2*n_jobs', refit=True,\n",
              "                              return_train_score=True,\n",
              "                              scoring='neg_mean_absolute_error', verbose=50))],\n",
              "         verbose=False)"
            ]
          },
          "metadata": {
            "tags": []
          },
          "execution_count": 70
        }
      ]
    },
    {
      "cell_type": "code",
      "metadata": {
        "colab_type": "code",
        "id": "2awntfVd_nAJ",
        "colab": {
          "base_uri": "https://localhost:8080/",
          "height": 296
        },
        "outputId": "fc6a4b68-6f76-45b0-a7ee-8f2798f76294"
      },
      "source": [
        "record_store_random_forest_plotter = GridSearchPlotter(record_store_random_forest_search_pipe.steps[-1][1])\n",
        "record_store_random_forest_plotter.plot_validation_curve(parameter='n_estimators',ylim=(-1,0))"
      ],
      "execution_count": 71,
      "outputs": [
        {
          "output_type": "display_data",
          "data": {
            "image/png": "[encoded data removed]",
            "text/plain": [
              "<Figure size 432x288 with 1 Axes>"
            ]
          },
          "metadata": {
            "tags": [],
            "needs_background": "light"
          }
        }
      ]
    },
    {
      "cell_type": "code",
      "metadata": {
        "colab_type": "code",
        "id": "kIzLmO8Bzkdr",
        "colab": {
          "base_uri": "https://localhost:8080/",
          "height": 35
        },
        "outputId": "09418c4f-0095-4d45-89a9-7a5d0d313be2"
      },
      "source": [
        "record_store_random_forest_search_pipe.steps[-1][1].best_score_"
      ],
      "execution_count": 72,
      "outputs": [
        {
          "output_type": "execute_result",
          "data": {
            "text/plain": [
              "-0.18297612071037292"
            ]
          },
          "metadata": {
            "tags": []
          },
          "execution_count": 72
        }
      ]
    },
    {
      "cell_type": "code",
      "metadata": {
        "colab_type": "code",
        "id": "1Jh6GfwRzk2n",
        "colab": {
          "base_uri": "https://localhost:8080/",
          "height": 35
        },
        "outputId": "a8242c34-3023-4e92-ce71-7ce553a738c7"
      },
      "source": [
        "record_store_random_forest_search_pipe.steps[-1][1].best_params_"
      ],
      "execution_count": 73,
      "outputs": [
        {
          "output_type": "execute_result",
          "data": {
            "text/plain": [
              "{'n_estimators': 200}"
            ]
          },
          "metadata": {
            "tags": []
          },
          "execution_count": 73
        }
      ]
    },
    {
      "cell_type": "code",
      "metadata": {
        "colab_type": "code",
        "id": "7HMokfJnMYzZ",
        "colab": {
          "base_uri": "https://localhost:8080/",
          "height": 377
        },
        "outputId": "86518205-8e2d-4622-ec46-ee29b744740d"
      },
      "source": [
        "record_store_random_forest_pipe.fit(X_tr,np.log(y_tr).values.astype(np.float32))"
      ],
      "execution_count": 74,
      "outputs": [
        {
          "output_type": "stream",
          "text": [
            "/usr/local/lib/python3.6/site-packages/cuml/utils/input_utils.py:188: UserWarning: Expected column ('F') major order, but got the opposite. Converting data, this will result in additional memory utilization.\n",
            "  warnings.warn(\"Expected \" + order_to_str(order) + \" major order, \"\n"
          ],
          "name": "stderr"
        },
        {
          "output_type": "execute_result",
          "data": {
            "text/plain": [
              "Pipeline(memory=None,\n",
              "         steps=[('preprocessing',\n",
              "                 Pipeline(memory=None,\n",
              "                          steps=[('running_time_imputer',\n",
              "                                  RunningTimeImputer(number_of_tracks='number_of_tracks',\n",
              "                                                     running_time='running_time')),\n",
              "                                 ('leave_one_out_encoding',\n",
              "                                  LeaveOneOutEncoder(cols=['artist', 'label',\n",
              "                                                           'format_text',\n",
              "                                                           'format_name',\n",
              "                                                           'master_id',\n",
              "                                                           'year'],\n",
              "                                                     drop_invariant=False,\n",
              "                                                     handle_missing='value',\n",
              "                                                     handle_u...\n",
              "                 RandomForestRegressor(n_estimators=100, max_depth=16, handle=<cuml.common.handle.Handle object at 0x7f6929387ab0>, max_features='auto', n_bins=8, n_streams=8, split_algo=1, split_criterion=2, bootstrap=True, bootstrap_features=False, verbose=False, min_rows_per_node=2, rows_sample=1.0, max_leaves=-1, accuracy_metric='mse', output_type='numpy', min_impurity_decrease=0.0, quantile_per_tree=False, seed=None))],\n",
              "         verbose=False)"
            ]
          },
          "metadata": {
            "tags": []
          },
          "execution_count": 74
        }
      ]
    },
    {
      "cell_type": "code",
      "metadata": {
        "colab_type": "code",
        "id": "VrdorFhMMe2P",
        "colab": {
          "base_uri": "https://localhost:8080/",
          "height": 73
        },
        "outputId": "6488b56b-4cd9-40bc-feee-3f07494fe720"
      },
      "source": [
        "record_store_random_forest_te_pred = record_store_random_forest_pipe.predict(X_te)"
      ],
      "execution_count": 75,
      "outputs": [
        {
          "output_type": "stream",
          "text": [
            "/usr/local/lib/python3.6/site-packages/cuml/utils/input_utils.py:188: UserWarning: Expected row ('C') major order, but got the opposite. Converting data, this will result in additional memory utilization.\n",
            "  warnings.warn(\"Expected \" + order_to_str(order) + \" major order, \"\n"
          ],
          "name": "stderr"
        }
      ]
    },
    {
      "cell_type": "code",
      "metadata": {
        "colab_type": "code",
        "id": "y1Ko_cUBMoEy",
        "colab": {
          "base_uri": "https://localhost:8080/",
          "height": 35
        },
        "outputId": "a939fbc6-a210-4488-fd89-9094b53a228d"
      },
      "source": [
        "r2_score(y_te,np.exp(record_store_random_forest_te_pred))"
      ],
      "execution_count": 77,
      "outputs": [
        {
          "output_type": "execute_result",
          "data": {
            "text/plain": [
              "-0.0676287886282958"
            ]
          },
          "metadata": {
            "tags": []
          },
          "execution_count": 77
        }
      ]
    },
    {
      "cell_type": "code",
      "metadata": {
        "colab_type": "code",
        "id": "R3cCwv8t0E4R",
        "colab": {
          "base_uri": "https://localhost:8080/",
          "height": 35
        },
        "outputId": "afac522c-ba30-433d-f3b7-0eb08cced895"
      },
      "source": [
        "mean_absolute_error(y_te,np.exp(record_store_random_forest_te_pred))"
      ],
      "execution_count": 78,
      "outputs": [
        {
          "output_type": "execute_result",
          "data": {
            "text/plain": [
              "10.45988818775278"
            ]
          },
          "metadata": {
            "tags": []
          },
          "execution_count": 78
        }
      ]
    },
    {
      "cell_type": "markdown",
      "metadata": {
        "colab_type": "text",
        "id": "gJZdJtJbk1jW"
      },
      "source": [
        "## Random Forest - Full Information"
      ]
    },
    {
      "cell_type": "code",
      "metadata": {
        "colab_type": "code",
        "id": "yQGDq3REk1jW",
        "colab": {}
      },
      "source": [
        "full_information_random_forest_removal_columns = record_store_random_forest_removal_columns - full_information_columns"
      ],
      "execution_count": 0,
      "outputs": []
    },
    {
      "cell_type": "code",
      "metadata": {
        "colab_type": "code",
        "id": "zuNSCmnTk1jd",
        "colab": {}
      },
      "source": [
        "full_information_random_forest_preprocessing_pipe = Pipeline([\n",
        "    ('running_time_imputer',RunningTimeImputer('running_time','number_of_tracks')),\n",
        "    ('leave_one_out_encoding', LeaveOneOutEncoder(cols=['artist','label','format_text','format_name','master_id','year'])),\n",
        "    ('reduce_indicators', IndicatorReducer(indicators=column_store._indicator,algorithm=PCA,components=40)),\n",
        "    ('record_store_column_remover', ColumnRemover(full_information_random_forest_removal_columns)),\n",
        "    ('cast_to_32', FunctionTransformer(func=lambda x: x.astype(np.float32)))\n",
        "])\n",
        "\n",
        "full_information_random_forest_search_pipe = Pipeline([\n",
        "    ('preprocessing',full_information_random_forest_preprocessing_pipe),\n",
        "    ('grid_search', GridSearchCV(\n",
        "        random_forest,\n",
        "        cv=KFold(n_splits=5,shuffle=True),\n",
        "        param_grid={\n",
        "            'n_estimators': np.linspace(10,200,5).astype(int)\n",
        "        },\n",
        "        verbose=50,\n",
        "        scoring='neg_mean_absolute_error',\n",
        "        n_jobs=-1,\n",
        "        return_train_score=True\n",
        "    ))\n",
        "])\n",
        "\n",
        "full_information_random_forest_pipe = Pipeline([\n",
        "    ('preprocessing',full_information_random_forest_preprocessing_pipe),\n",
        "    ('random_forest',random_forest)\n",
        "])"
      ],
      "execution_count": 0,
      "outputs": []
    },
    {
      "cell_type": "code",
      "metadata": {
        "colab_type": "code",
        "id": "lOo-_NUFk1jg",
        "colab": {
          "base_uri": "https://localhost:8080/",
          "height": 987
        },
        "outputId": "4d8f07eb-db8d-4d0b-fe69-0fa086c1119b"
      },
      "source": [
        "full_information_random_forest_search_pipe.fit(X_tr_sample,np.log(y_tr_sample).values.astype(np.float32))"
      ],
      "execution_count": 92,
      "outputs": [
        {
          "output_type": "stream",
          "text": [
            "Fitting 5 folds for each of 5 candidates, totalling 25 fits\n",
            "[Parallel(n_jobs=-1)]: Using backend LokyBackend with 4 concurrent workers.\n",
            "[Parallel(n_jobs=-1)]: Done   1 tasks      | elapsed:    7.3s\n",
            "[Parallel(n_jobs=-1)]: Done   2 tasks      | elapsed:    7.9s\n",
            "[Parallel(n_jobs=-1)]: Done   3 tasks      | elapsed:    8.3s\n",
            "[Parallel(n_jobs=-1)]: Done   4 tasks      | elapsed:    8.4s\n",
            "[Parallel(n_jobs=-1)]: Done   5 tasks      | elapsed:    9.6s\n",
            "[Parallel(n_jobs=-1)]: Done   6 tasks      | elapsed:   25.6s\n"
          ],
          "name": "stdout"
        },
        {
          "output_type": "stream",
          "text": [
            "/usr/local/lib/python3.6/dist-packages/joblib/externals/loky/process_executor.py:706: UserWarning: A worker stopped while some jobs were given to the executor. This can be caused by a too short worker timeout or by a memory leak.\n",
            "  \"timeout or by a memory leak.\", UserWarning\n"
          ],
          "name": "stderr"
        },
        {
          "output_type": "stream",
          "text": [
            "[Parallel(n_jobs=-1)]: Done   7 tasks      | elapsed:   26.3s\n",
            "[Parallel(n_jobs=-1)]: Done   8 tasks      | elapsed:   26.9s\n",
            "[Parallel(n_jobs=-1)]: Done   9 tasks      | elapsed:   27.4s\n",
            "[Parallel(n_jobs=-1)]: Done  10 tasks      | elapsed:   44.7s\n",
            "[Parallel(n_jobs=-1)]: Done  11 tasks      | elapsed:  1.1min\n",
            "[Parallel(n_jobs=-1)]: Done  12 tasks      | elapsed:  1.1min\n",
            "[Parallel(n_jobs=-1)]: Done  13 tasks      | elapsed:  1.1min\n",
            "[Parallel(n_jobs=-1)]: Done  14 tasks      | elapsed:  1.2min\n",
            "[Parallel(n_jobs=-1)]: Done  15 tasks      | elapsed:  1.5min\n",
            "[Parallel(n_jobs=-1)]: Done  16 tasks      | elapsed:  1.8min\n",
            "[Parallel(n_jobs=-1)]: Done  17 tasks      | elapsed:  1.8min\n",
            "[Parallel(n_jobs=-1)]: Done  18 tasks      | elapsed:  1.9min\n",
            "[Parallel(n_jobs=-1)]: Done  19 out of  25 | elapsed:  2.1min remaining:   39.0s\n",
            "[Parallel(n_jobs=-1)]: Done  20 out of  25 | elapsed:  2.6min remaining:   39.1s\n",
            "[Parallel(n_jobs=-1)]: Done  21 out of  25 | elapsed:  2.9min remaining:   32.6s\n",
            "[Parallel(n_jobs=-1)]: Done  22 out of  25 | elapsed:  2.9min remaining:   23.6s\n",
            "[Parallel(n_jobs=-1)]: Done  23 out of  25 | elapsed:  3.1min remaining:   16.0s\n",
            "[Parallel(n_jobs=-1)]: Done  25 out of  25 | elapsed:  3.4min remaining:    0.0s\n",
            "[Parallel(n_jobs=-1)]: Done  25 out of  25 | elapsed:  3.4min finished\n"
          ],
          "name": "stdout"
        },
        {
          "output_type": "stream",
          "text": [
            "/usr/local/lib/python3.6/site-packages/cuml/utils/input_utils.py:188: UserWarning: Expected column ('F') major order, but got the opposite. Converting data, this will result in additional memory utilization.\n",
            "  warnings.warn(\"Expected \" + order_to_str(order) + \" major order, \"\n"
          ],
          "name": "stderr"
        },
        {
          "output_type": "execute_result",
          "data": {
            "text/plain": [
              "Pipeline(memory=None,\n",
              "         steps=[('preprocessing',\n",
              "                 Pipeline(memory=None,\n",
              "                          steps=[('running_time_imputer',\n",
              "                                  RunningTimeImputer(number_of_tracks='number_of_tracks',\n",
              "                                                     running_time='running_time')),\n",
              "                                 ('leave_one_out_encoding',\n",
              "                                  LeaveOneOutEncoder(cols=['artist', 'label',\n",
              "                                                           'format_text',\n",
              "                                                           'format_name',\n",
              "                                                           'master_id',\n",
              "                                                           'year'],\n",
              "                                                     drop_invariant=False,\n",
              "                                                     handle_missing='value',\n",
              "                                                     handle_u...\n",
              "                              estimator=RandomForestRegressor(n_estimators=100, max_depth=16, handle=<cuml.common.handle.Handle object at 0x7f693771a830>, max_features='auto', n_bins=8, n_streams=8, split_algo=1, split_criterion=2, bootstrap=True, bootstrap_features=False, verbose=False, min_rows_per_node=2, rows_sample=1.0, max_leaves=-1, accuracy_metric='mse', output_type='input', min_impurity_decrease=0.0, quantile_per_tree=False, seed=None),\n",
              "                              iid='deprecated', n_jobs=-1,\n",
              "                              param_grid={'n_estimators': array([ 10,  57, 105, 152, 200])},\n",
              "                              pre_dispatch='2*n_jobs', refit=True,\n",
              "                              return_train_score=True,\n",
              "                              scoring='neg_mean_absolute_error', verbose=50))],\n",
              "         verbose=False)"
            ]
          },
          "metadata": {
            "tags": []
          },
          "execution_count": 92
        }
      ]
    },
    {
      "cell_type": "code",
      "metadata": {
        "colab_type": "code",
        "id": "rCux94qKk1ji",
        "colab": {
          "base_uri": "https://localhost:8080/",
          "height": 296
        },
        "outputId": "76059888-b047-46ca-90de-098baa0d064b"
      },
      "source": [
        "full_information_random_forest_plotter = GridSearchPlotter(full_information_random_forest_search_pipe.steps[-1][1])\n",
        "full_information_random_forest_plotter.plot_validation_curve(parameter='n_estimators',ylim=(-1,0))"
      ],
      "execution_count": 98,
      "outputs": [
        {
          "output_type": "display_data",
          "data": {
            "image/png": "[encoded data removed]",
            "text/plain": [
              "<Figure size 432x288 with 1 Axes>"
            ]
          },
          "metadata": {
            "tags": [],
            "needs_background": "light"
          }
        }
      ]
    },
    {
      "cell_type": "code",
      "metadata": {
        "colab_type": "code",
        "id": "jaoOYSogk1jk",
        "colab": {
          "base_uri": "https://localhost:8080/",
          "height": 35
        },
        "outputId": "7e790ea8-6aea-4734-b2ab-f24cde315f0b"
      },
      "source": [
        "full_information_random_forest_search_pipe.steps[-1][1].best_score_"
      ],
      "execution_count": 94,
      "outputs": [
        {
          "output_type": "execute_result",
          "data": {
            "text/plain": [
              "-0.18541913032531737"
            ]
          },
          "metadata": {
            "tags": []
          },
          "execution_count": 94
        }
      ]
    },
    {
      "cell_type": "code",
      "metadata": {
        "colab_type": "code",
        "id": "SLNosErgk1jn",
        "colab": {
          "base_uri": "https://localhost:8080/",
          "height": 35
        },
        "outputId": "be835744-8e62-4475-8ff3-4b1554a8fe2b"
      },
      "source": [
        "full_information_random_forest_search_pipe.steps[-1][1].best_params_"
      ],
      "execution_count": 95,
      "outputs": [
        {
          "output_type": "execute_result",
          "data": {
            "text/plain": [
              "{'n_estimators': 200}"
            ]
          },
          "metadata": {
            "tags": []
          },
          "execution_count": 95
        }
      ]
    },
    {
      "cell_type": "code",
      "metadata": {
        "colab_type": "code",
        "id": "VvtlG6n3k1jq",
        "colab": {
          "base_uri": "https://localhost:8080/",
          "height": 377
        },
        "outputId": "3fbff5d9-ed4b-4981-e3b9-d936b8bc11db"
      },
      "source": [
        "full_information_random_forest_pipe.fit(X_tr,np.log(y_tr).values.astype(np.float32))"
      ],
      "execution_count": 96,
      "outputs": [
        {
          "output_type": "stream",
          "text": [
            "/usr/local/lib/python3.6/site-packages/cuml/utils/input_utils.py:188: UserWarning: Expected column ('F') major order, but got the opposite. Converting data, this will result in additional memory utilization.\n",
            "  warnings.warn(\"Expected \" + order_to_str(order) + \" major order, \"\n"
          ],
          "name": "stderr"
        },
        {
          "output_type": "execute_result",
          "data": {
            "text/plain": [
              "Pipeline(memory=None,\n",
              "         steps=[('preprocessing',\n",
              "                 Pipeline(memory=None,\n",
              "                          steps=[('running_time_imputer',\n",
              "                                  RunningTimeImputer(number_of_tracks='number_of_tracks',\n",
              "                                                     running_time='running_time')),\n",
              "                                 ('leave_one_out_encoding',\n",
              "                                  LeaveOneOutEncoder(cols=['artist', 'label',\n",
              "                                                           'format_text',\n",
              "                                                           'format_name',\n",
              "                                                           'master_id',\n",
              "                                                           'year'],\n",
              "                                                     drop_invariant=False,\n",
              "                                                     handle_missing='value',\n",
              "                                                     handle_u...\n",
              "                 RandomForestRegressor(n_estimators=100, max_depth=16, handle=<cuml.common.handle.Handle object at 0x7f693771a830>, max_features='auto', n_bins=8, n_streams=8, split_algo=1, split_criterion=2, bootstrap=True, bootstrap_features=False, verbose=False, min_rows_per_node=2, rows_sample=1.0, max_leaves=-1, accuracy_metric='mse', output_type='numpy', min_impurity_decrease=0.0, quantile_per_tree=False, seed=None))],\n",
              "         verbose=False)"
            ]
          },
          "metadata": {
            "tags": []
          },
          "execution_count": 96
        }
      ]
    },
    {
      "cell_type": "code",
      "metadata": {
        "colab_type": "code",
        "id": "k7iHVjV-k1jt",
        "colab": {
          "base_uri": "https://localhost:8080/",
          "height": 73
        },
        "outputId": "5acaae5f-291e-4dd5-d129-bb640b80de7e"
      },
      "source": [
        "full_information_random_forest_te_pred = full_information_random_forest_pipe.predict(X_te)"
      ],
      "execution_count": 99,
      "outputs": [
        {
          "output_type": "stream",
          "text": [
            "/usr/local/lib/python3.6/site-packages/cuml/utils/input_utils.py:188: UserWarning: Expected row ('C') major order, but got the opposite. Converting data, this will result in additional memory utilization.\n",
            "  warnings.warn(\"Expected \" + order_to_str(order) + \" major order, \"\n"
          ],
          "name": "stderr"
        }
      ]
    },
    {
      "cell_type": "code",
      "metadata": {
        "colab_type": "code",
        "id": "UBdw5WWqk1jv",
        "colab": {
          "base_uri": "https://localhost:8080/",
          "height": 35
        },
        "outputId": "032d1676-a346-48c9-8682-594a04853a60"
      },
      "source": [
        "r2_score(y_te,np.exp(full_information_random_forest_te_pred))"
      ],
      "execution_count": 101,
      "outputs": [
        {
          "output_type": "execute_result",
          "data": {
            "text/plain": [
              "-0.061419817566708446"
            ]
          },
          "metadata": {
            "tags": []
          },
          "execution_count": 101
        }
      ]
    },
    {
      "cell_type": "code",
      "metadata": {
        "colab_type": "code",
        "id": "ZQQ8J--Yk1jy",
        "colab": {
          "base_uri": "https://localhost:8080/",
          "height": 35
        },
        "outputId": "71304007-5ef8-4f5e-9974-8eeddc5cd10f"
      },
      "source": [
        "mean_absolute_error(y_te,np.exp(full_information_random_forest_te_pred))"
      ],
      "execution_count": 102,
      "outputs": [
        {
          "output_type": "execute_result",
          "data": {
            "text/plain": [
              "10.469584254644312"
            ]
          },
          "metadata": {
            "tags": []
          },
          "execution_count": 102
        }
      ]
    },
    {
      "cell_type": "markdown",
      "metadata": {
        "colab_type": "text",
        "id": "wcM8J6K68asg"
      },
      "source": [
        "## Catboost - Record Store"
      ]
    },
    {
      "cell_type": "code",
      "metadata": {
        "colab_type": "code",
        "id": "OjIxG4pI8asl",
        "colab": {}
      },
      "source": [
        "record_store_catboost_removal_columns = set([\n",
        "    'market_price','units_for_sale','have','want','average_rating','rating_count','last_sold','lowest','median',\n",
        "    'highest','track_titles','genre','style','community_have','community_want','formats','thumb_url',\n",
        "    'release_url','format_description','days_since_last_sale','title','release_id'\n",
        "])\n",
        "record_store_catboost_removal_columns = record_store_catboost_removal_columns.union(column_store._geography_country)"
      ],
      "execution_count": 0,
      "outputs": []
    },
    {
      "cell_type": "code",
      "metadata": {
        "colab_type": "code",
        "id": "VCaEIJW18asr",
        "colab": {}
      },
      "source": [
        "record_store_catboost_processing_pipe = Pipeline([\n",
        "    ('running_time_imputer',RunningTimeImputer('running_time','number_of_tracks')),\n",
        "    ('record_store_column_remover', ColumnRemover(record_store_catboost_removal_columns)),\n",
        "])\n",
        "\n",
        "catboost = CatBoostRegressor(\n",
        "    random_seed=0,\n",
        "    cat_features=['year','format_text','master_id','format_name','artist','label','country'],\n",
        "    boosting_type='Ordered',\n",
        "    n_estimators=100,\n",
        "    learning_rate=0.1,\n",
        "    l2_leaf_reg=3,\n",
        "    border_count=170,\n",
        "    max_depth=10,\n",
        ")\n",
        "\n",
        "record_store_catboost_grid_pipe = Pipeline([\n",
        "    ('processing', record_store_catboost_processing_pipe),\n",
        "    ('grid_search', GridSearchCV(\n",
        "        catboost,\n",
        "        param_grid={\n",
        "            #'learning_rate': np.logspace(-3,1,5),\n",
        "            #'border_count': np.linspace(1,200,5),\n",
        "            'l2_leaf_reg': [1,3,5,8],\n",
        "        },\n",
        "        n_jobs=-1,\n",
        "        cv=KFold(n_splits=5,shuffle=True),\n",
        "        verbose=1,\n",
        "        scoring='neg_mean_absolute_error',\n",
        "        return_train_score=True)\n",
        "    )\n",
        "])\n",
        "\n",
        "record_store_catboost_pipe = Pipeline([\n",
        "    ('processing', record_store_catboost_processing_pipe),\n",
        "    ('catboost',catboost)\n",
        "])"
      ],
      "execution_count": 0,
      "outputs": []
    },
    {
      "cell_type": "code",
      "metadata": {
        "colab_type": "code",
        "id": "MQW9Ojz08asu",
        "colab": {
          "base_uri": "https://localhost:8080/",
          "height": 1000
        },
        "outputId": "2de9edfb-8ef2-4bb4-c9cd-190f5f00f565"
      },
      "source": [
        "record_store_catboost_grid_pipe.fit(X_tr_sample,np.log(y_tr_sample))"
      ],
      "execution_count": 263,
      "outputs": [
        {
          "output_type": "stream",
          "text": [
            "Fitting 5 folds for each of 4 candidates, totalling 20 fits\n"
          ],
          "name": "stdout"
        },
        {
          "output_type": "stream",
          "text": [
            "[Parallel(n_jobs=-1)]: Using backend LokyBackend with 4 concurrent workers.\n",
            "/usr/local/lib/python3.6/dist-packages/joblib/externals/loky/process_executor.py:706: UserWarning: A worker stopped while some jobs were given to the executor. This can be caused by a too short worker timeout or by a memory leak.\n",
            "  \"timeout or by a memory leak.\", UserWarning\n",
            "[Parallel(n_jobs=-1)]: Done  20 out of  20 | elapsed:  5.8min finished\n"
          ],
          "name": "stderr"
        },
        {
          "output_type": "stream",
          "text": [
            "0:\tlearn: 0.8745215\ttotal: 272ms\tremaining: 26.9s\n",
            "1:\tlearn: 0.8572576\ttotal: 505ms\tremaining: 24.7s\n",
            "2:\tlearn: 0.8421888\ttotal: 735ms\tremaining: 23.8s\n",
            "3:\tlearn: 0.8304112\ttotal: 976ms\tremaining: 23.4s\n",
            "4:\tlearn: 0.8198188\ttotal: 1.21s\tremaining: 23.1s\n",
            "5:\tlearn: 0.8116588\ttotal: 1.33s\tremaining: 20.9s\n",
            "6:\tlearn: 0.8034607\ttotal: 1.56s\tremaining: 20.8s\n",
            "7:\tlearn: 0.7950812\ttotal: 1.79s\tremaining: 20.6s\n",
            "8:\tlearn: 0.7878371\ttotal: 2.03s\tremaining: 20.5s\n",
            "9:\tlearn: 0.7817310\ttotal: 2.26s\tremaining: 20.4s\n",
            "10:\tlearn: 0.7766092\ttotal: 2.5s\tremaining: 20.2s\n",
            "11:\tlearn: 0.7711975\ttotal: 2.72s\tremaining: 20s\n",
            "12:\tlearn: 0.7675991\ttotal: 2.75s\tremaining: 18.4s\n",
            "13:\tlearn: 0.7641557\ttotal: 2.99s\tremaining: 18.4s\n",
            "14:\tlearn: 0.7606503\ttotal: 3.22s\tremaining: 18.3s\n",
            "15:\tlearn: 0.7573206\ttotal: 3.46s\tremaining: 18.2s\n",
            "16:\tlearn: 0.7548228\ttotal: 3.69s\tremaining: 18s\n",
            "17:\tlearn: 0.7516075\ttotal: 3.92s\tremaining: 17.9s\n",
            "18:\tlearn: 0.7481186\ttotal: 4.16s\tremaining: 17.7s\n",
            "19:\tlearn: 0.7455433\ttotal: 4.39s\tremaining: 17.6s\n",
            "20:\tlearn: 0.7431741\ttotal: 4.62s\tremaining: 17.4s\n",
            "21:\tlearn: 0.7411559\ttotal: 4.74s\tremaining: 16.8s\n",
            "22:\tlearn: 0.7391834\ttotal: 4.97s\tremaining: 16.7s\n",
            "23:\tlearn: 0.7365202\ttotal: 5.21s\tremaining: 16.5s\n",
            "24:\tlearn: 0.7352967\ttotal: 5.44s\tremaining: 16.3s\n",
            "25:\tlearn: 0.7338236\ttotal: 5.67s\tremaining: 16.1s\n",
            "26:\tlearn: 0.7330161\ttotal: 5.9s\tremaining: 16s\n",
            "27:\tlearn: 0.7315700\ttotal: 6.14s\tremaining: 15.8s\n",
            "28:\tlearn: 0.7307425\ttotal: 6.38s\tremaining: 15.6s\n",
            "29:\tlearn: 0.7297775\ttotal: 6.61s\tremaining: 15.4s\n",
            "30:\tlearn: 0.7290124\ttotal: 6.84s\tremaining: 15.2s\n",
            "31:\tlearn: 0.7285080\ttotal: 6.91s\tremaining: 14.7s\n",
            "32:\tlearn: 0.7275204\ttotal: 7.14s\tremaining: 14.5s\n",
            "33:\tlearn: 0.7264334\ttotal: 7.37s\tremaining: 14.3s\n",
            "34:\tlearn: 0.7264333\ttotal: 7.38s\tremaining: 13.7s\n",
            "35:\tlearn: 0.7260060\ttotal: 7.61s\tremaining: 13.5s\n",
            "36:\tlearn: 0.7260026\ttotal: 7.63s\tremaining: 13s\n",
            "37:\tlearn: 0.7260025\ttotal: 7.64s\tremaining: 12.5s\n",
            "38:\tlearn: 0.7255881\ttotal: 7.87s\tremaining: 12.3s\n",
            "39:\tlearn: 0.7250530\ttotal: 8.11s\tremaining: 12.2s\n",
            "40:\tlearn: 0.7243233\ttotal: 8.35s\tremaining: 12s\n",
            "41:\tlearn: 0.7239440\ttotal: 8.58s\tremaining: 11.8s\n",
            "42:\tlearn: 0.7235728\ttotal: 8.81s\tremaining: 11.7s\n",
            "43:\tlearn: 0.7229422\ttotal: 9.05s\tremaining: 11.5s\n",
            "44:\tlearn: 0.7229207\ttotal: 9.06s\tremaining: 11.1s\n",
            "45:\tlearn: 0.7229191\ttotal: 9.07s\tremaining: 10.6s\n",
            "46:\tlearn: 0.7229191\ttotal: 9.07s\tremaining: 10.2s\n",
            "47:\tlearn: 0.7229171\ttotal: 9.09s\tremaining: 9.85s\n",
            "48:\tlearn: 0.7222005\ttotal: 9.34s\tremaining: 9.72s\n",
            "49:\tlearn: 0.7217259\ttotal: 9.57s\tremaining: 9.57s\n",
            "50:\tlearn: 0.7206674\ttotal: 9.8s\tremaining: 9.42s\n",
            "51:\tlearn: 0.7199978\ttotal: 10s\tremaining: 9.26s\n",
            "52:\tlearn: 0.7199606\ttotal: 10.1s\tremaining: 8.96s\n",
            "53:\tlearn: 0.7197719\ttotal: 10.1s\tremaining: 8.63s\n",
            "54:\tlearn: 0.7197719\ttotal: 10.1s\tremaining: 8.29s\n",
            "55:\tlearn: 0.7197719\ttotal: 10.1s\tremaining: 7.97s\n",
            "56:\tlearn: 0.7192948\ttotal: 10.4s\tremaining: 7.83s\n",
            "57:\tlearn: 0.7192948\ttotal: 10.4s\tremaining: 7.52s\n",
            "58:\tlearn: 0.7190043\ttotal: 10.6s\tremaining: 7.37s\n",
            "59:\tlearn: 0.7189913\ttotal: 10.6s\tremaining: 7.08s\n",
            "60:\tlearn: 0.7188552\ttotal: 10.9s\tremaining: 6.94s\n",
            "61:\tlearn: 0.7188297\ttotal: 10.9s\tremaining: 6.66s\n",
            "62:\tlearn: 0.7181176\ttotal: 11.1s\tremaining: 6.52s\n",
            "63:\tlearn: 0.7180257\ttotal: 11.3s\tremaining: 6.38s\n",
            "64:\tlearn: 0.7176067\ttotal: 11.6s\tremaining: 6.23s\n",
            "65:\tlearn: 0.7175953\ttotal: 11.6s\tremaining: 5.97s\n",
            "66:\tlearn: 0.7172698\ttotal: 11.8s\tremaining: 5.82s\n",
            "67:\tlearn: 0.7163466\ttotal: 12s\tremaining: 5.67s\n",
            "68:\tlearn: 0.7163366\ttotal: 12.1s\tremaining: 5.42s\n",
            "69:\tlearn: 0.7163124\ttotal: 12.1s\tremaining: 5.19s\n",
            "70:\tlearn: 0.7163124\ttotal: 12.1s\tremaining: 4.95s\n",
            "71:\tlearn: 0.7158073\ttotal: 12.2s\tremaining: 4.72s\n",
            "72:\tlearn: 0.7157870\ttotal: 12.2s\tremaining: 4.51s\n",
            "73:\tlearn: 0.7156228\ttotal: 12.4s\tremaining: 4.37s\n",
            "74:\tlearn: 0.7155439\ttotal: 12.7s\tremaining: 4.22s\n",
            "75:\tlearn: 0.7155390\ttotal: 12.7s\tremaining: 4.01s\n",
            "76:\tlearn: 0.7148264\ttotal: 12.9s\tremaining: 3.86s\n",
            "77:\tlearn: 0.7141605\ttotal: 13.2s\tremaining: 3.71s\n",
            "78:\tlearn: 0.7137712\ttotal: 13.4s\tremaining: 3.56s\n",
            "79:\tlearn: 0.7134215\ttotal: 13.6s\tremaining: 3.41s\n",
            "80:\tlearn: 0.7128565\ttotal: 13.9s\tremaining: 3.25s\n",
            "81:\tlearn: 0.7128565\ttotal: 13.9s\tremaining: 3.04s\n",
            "82:\tlearn: 0.7128532\ttotal: 13.9s\tremaining: 2.84s\n",
            "83:\tlearn: 0.7126861\ttotal: 14.1s\tremaining: 2.69s\n",
            "84:\tlearn: 0.7126837\ttotal: 14.1s\tremaining: 2.49s\n",
            "85:\tlearn: 0.7122397\ttotal: 14.2s\tremaining: 2.31s\n",
            "86:\tlearn: 0.7118724\ttotal: 14.4s\tremaining: 2.15s\n",
            "87:\tlearn: 0.7115330\ttotal: 14.6s\tremaining: 2s\n",
            "88:\tlearn: 0.7115247\ttotal: 14.7s\tremaining: 1.81s\n",
            "89:\tlearn: 0.7115226\ttotal: 14.7s\tremaining: 1.63s\n",
            "90:\tlearn: 0.7110093\ttotal: 14.8s\tremaining: 1.46s\n",
            "91:\tlearn: 0.7110093\ttotal: 14.8s\tremaining: 1.28s\n",
            "92:\tlearn: 0.7110086\ttotal: 14.8s\tremaining: 1.11s\n",
            "93:\tlearn: 0.7109145\ttotal: 15s\tremaining: 958ms\n",
            "94:\tlearn: 0.7108740\ttotal: 15s\tremaining: 791ms\n",
            "95:\tlearn: 0.7108169\ttotal: 15.2s\tremaining: 632ms\n",
            "96:\tlearn: 0.7101553\ttotal: 15.4s\tremaining: 476ms\n",
            "97:\tlearn: 0.7098014\ttotal: 15.6s\tremaining: 319ms\n",
            "98:\tlearn: 0.7092565\ttotal: 15.9s\tremaining: 160ms\n",
            "99:\tlearn: 0.7092554\ttotal: 15.9s\tremaining: 0us\n"
          ],
          "name": "stdout"
        },
        {
          "output_type": "execute_result",
          "data": {
            "text/plain": [
              "Pipeline(memory=None,\n",
              "         steps=[('processing',\n",
              "                 Pipeline(memory=None,\n",
              "                          steps=[('running_time_imputer',\n",
              "                                  RunningTimeImputer(number_of_tracks='number_of_tracks',\n",
              "                                                     running_time='running_time')),\n",
              "                                 ('record_store_column_remover',\n",
              "                                  ColumnRemover(cols_to_remove={'average_rating',\n",
              "                                                                'community_have',\n",
              "                                                                'community_want',\n",
              "                                                                'country_albania',\n",
              "                                                                'country_algeria',\n",
              "                                                                'country_andorra',\n",
              "                                                                'coun...\n",
              "                          verbose=False)),\n",
              "                ('grid_search',\n",
              "                 GridSearchCV(cv=KFold(n_splits=5, random_state=None, shuffle=True),\n",
              "                              error_score=nan,\n",
              "                              estimator=<catboost.core.CatBoostRegressor object at 0x7f690ebc9828>,\n",
              "                              iid='deprecated', n_jobs=-1,\n",
              "                              param_grid={'l2_leaf_reg': [1, 3, 5, 8]},\n",
              "                              pre_dispatch='2*n_jobs', refit=True,\n",
              "                              return_train_score=True,\n",
              "                              scoring='neg_mean_absolute_error', verbose=1))],\n",
              "         verbose=False)"
            ]
          },
          "metadata": {
            "tags": []
          },
          "execution_count": 263
        }
      ]
    },
    {
      "cell_type": "code",
      "metadata": {
        "colab_type": "code",
        "id": "9MWNatKvNkWQ",
        "colab": {
          "base_uri": "https://localhost:8080/",
          "height": 332
        },
        "outputId": "4e32ce5d-7828-46a7-9b4d-db6096fbdb95"
      },
      "source": [
        "record_store_catboost_plot = GridSearchPlotter(record_store_catboost_grid_pipe.steps[-1][1])\n",
        "record_store_catboost_plot.plot_validation_curve(parameter='border_count',ylim=(-2,1))"
      ],
      "execution_count": 166,
      "outputs": [
        {
          "output_type": "error",
          "ename": "ValueError",
          "evalue": "ignored",
          "traceback": [
            "\u001b[0;31m---------------------------------------------------------------------------\u001b[0m",
            "\u001b[0;31mValueError\u001b[0m                                Traceback (most recent call last)",
            "\u001b[0;32m<ipython-input-166-6a1c7101846d>\u001b[0m in \u001b[0;36m<module>\u001b[0;34m()\u001b[0m\n\u001b[1;32m      1\u001b[0m \u001b[0mrecord_store_catboost_plot\u001b[0m \u001b[0;34m=\u001b[0m \u001b[0mGridSearchPlotter\u001b[0m\u001b[0;34m(\u001b[0m\u001b[0mrecord_store_catboost_grid_pipe\u001b[0m\u001b[0;34m.\u001b[0m\u001b[0msteps\u001b[0m\u001b[0;34m[\u001b[0m\u001b[0;34m-\u001b[0m\u001b[0;36m1\u001b[0m\u001b[0;34m]\u001b[0m\u001b[0;34m[\u001b[0m\u001b[0;36m1\u001b[0m\u001b[0;34m]\u001b[0m\u001b[0;34m)\u001b[0m\u001b[0;34m\u001b[0m\u001b[0;34m\u001b[0m\u001b[0m\n\u001b[0;32m----> 2\u001b[0;31m \u001b[0mrecord_store_catboost_plot\u001b[0m\u001b[0;34m.\u001b[0m\u001b[0mplot_validation_curve\u001b[0m\u001b[0;34m(\u001b[0m\u001b[0mparameter\u001b[0m\u001b[0;34m=\u001b[0m\u001b[0;34m'border_count'\u001b[0m\u001b[0;34m,\u001b[0m\u001b[0mylim\u001b[0m\u001b[0;34m=\u001b[0m\u001b[0;34m(\u001b[0m\u001b[0;34m-\u001b[0m\u001b[0;36m2\u001b[0m\u001b[0;34m,\u001b[0m\u001b[0;36m1\u001b[0m\u001b[0;34m)\u001b[0m\u001b[0;34m)\u001b[0m\u001b[0;34m\u001b[0m\u001b[0;34m\u001b[0m\u001b[0m\n\u001b[0m",
            "\u001b[0;32m/content/EPFL-Capstone-Project/lib/visualization.py\u001b[0m in \u001b[0;36mplot_validation_curve\u001b[0;34m(self, parameter, title, xlim, ylim, log)\u001b[0m\n\u001b[1;32m     39\u001b[0m         \u001b[0mvalid_scores_std\u001b[0m \u001b[0;34m=\u001b[0m \u001b[0mnp\u001b[0m\u001b[0;34m.\u001b[0m\u001b[0marray\u001b[0m\u001b[0;34m(\u001b[0m\u001b[0mvalid_scores_std\u001b[0m\u001b[0;34m)\u001b[0m\u001b[0;34m.\u001b[0m\u001b[0mreshape\u001b[0m\u001b[0;34m(\u001b[0m\u001b[0;34m*\u001b[0m\u001b[0mself\u001b[0m\u001b[0;34m.\u001b[0m\u001b[0mparameter_ranges_lengths\u001b[0m\u001b[0;34m)\u001b[0m\u001b[0;34m\u001b[0m\u001b[0;34m\u001b[0m\u001b[0m\n\u001b[1;32m     40\u001b[0m \u001b[0;34m\u001b[0m\u001b[0m\n\u001b[0;32m---> 41\u001b[0;31m         \u001b[0mbase_parameter_idx\u001b[0m \u001b[0;34m=\u001b[0m \u001b[0mself\u001b[0m\u001b[0;34m.\u001b[0m\u001b[0mparameter_columns\u001b[0m\u001b[0;34m.\u001b[0m\u001b[0mindex\u001b[0m\u001b[0;34m(\u001b[0m\u001b[0;34m'param_{}'\u001b[0m\u001b[0;34m.\u001b[0m\u001b[0mformat\u001b[0m\u001b[0;34m(\u001b[0m\u001b[0mparameter\u001b[0m\u001b[0;34m)\u001b[0m\u001b[0;34m)\u001b[0m\u001b[0;34m\u001b[0m\u001b[0;34m\u001b[0m\u001b[0m\n\u001b[0m\u001b[1;32m     42\u001b[0m \u001b[0;34m\u001b[0m\u001b[0m\n\u001b[1;32m     43\u001b[0m         \u001b[0mslices\u001b[0m \u001b[0;34m=\u001b[0m \u001b[0mtuple\u001b[0m\u001b[0;34m(\u001b[0m\u001b[0mself\u001b[0m\u001b[0;34m.\u001b[0m\u001b[0m_create_slices\u001b[0m\u001b[0;34m(\u001b[0m\u001b[0midx\u001b[0m\u001b[0;34m,\u001b[0m\u001b[0mparam\u001b[0m\u001b[0;34m,\u001b[0m\u001b[0mbase_parameter_idx\u001b[0m\u001b[0;34m)\u001b[0m \u001b[0;32mfor\u001b[0m \u001b[0midx\u001b[0m\u001b[0;34m,\u001b[0m\u001b[0mparam\u001b[0m \u001b[0;32min\u001b[0m \u001b[0menumerate\u001b[0m\u001b[0;34m(\u001b[0m\u001b[0mself\u001b[0m\u001b[0;34m.\u001b[0m\u001b[0mgrid_search_cv\u001b[0m\u001b[0;34m.\u001b[0m\u001b[0mbest_params_\u001b[0m\u001b[0;34m)\u001b[0m\u001b[0;34m)\u001b[0m\u001b[0;34m\u001b[0m\u001b[0;34m\u001b[0m\u001b[0m\n",
            "\u001b[0;31mValueError\u001b[0m: 'param_border_count' is not in list"
          ]
        }
      ]
    },
    {
      "cell_type": "code",
      "metadata": {
        "colab_type": "code",
        "id": "D82wspKV8XCK",
        "colab": {
          "base_uri": "https://localhost:8080/",
          "height": 169
        },
        "outputId": "6007f530-6b46-4945-8a77-794554dfe981"
      },
      "source": [
        "record_store_catboost_grid_pipe.steps[-1][1].best_score_"
      ],
      "execution_count": 261,
      "outputs": [
        {
          "output_type": "error",
          "ename": "AttributeError",
          "evalue": "ignored",
          "traceback": [
            "\u001b[0;31m---------------------------------------------------------------------------\u001b[0m",
            "\u001b[0;31mAttributeError\u001b[0m                            Traceback (most recent call last)",
            "\u001b[0;32m<ipython-input-261-35bfed70080b>\u001b[0m in \u001b[0;36m<module>\u001b[0;34m()\u001b[0m\n\u001b[0;32m----> 1\u001b[0;31m \u001b[0mrecord_store_catboost_grid_pipe\u001b[0m\u001b[0;34m.\u001b[0m\u001b[0msteps\u001b[0m\u001b[0;34m[\u001b[0m\u001b[0;34m-\u001b[0m\u001b[0;36m1\u001b[0m\u001b[0;34m]\u001b[0m\u001b[0;34m[\u001b[0m\u001b[0;36m1\u001b[0m\u001b[0;34m]\u001b[0m\u001b[0;34m.\u001b[0m\u001b[0mbest_score_\u001b[0m\u001b[0;34m\u001b[0m\u001b[0;34m\u001b[0m\u001b[0m\n\u001b[0m",
            "\u001b[0;31mAttributeError\u001b[0m: 'GridSearchCV' object has no attribute 'best_score_'"
          ]
        }
      ]
    },
    {
      "cell_type": "code",
      "metadata": {
        "colab_type": "code",
        "id": "iJHB_2xe8ZN_",
        "colab": {
          "base_uri": "https://localhost:8080/",
          "height": 169
        },
        "outputId": "53ffb434-2efd-49d3-e08e-914f3e0dd7ff"
      },
      "source": [
        "record_store_catboost_grid_pipe.steps[-1][1].best_params_"
      ],
      "execution_count": 262,
      "outputs": [
        {
          "output_type": "error",
          "ename": "AttributeError",
          "evalue": "ignored",
          "traceback": [
            "\u001b[0;31m---------------------------------------------------------------------------\u001b[0m",
            "\u001b[0;31mAttributeError\u001b[0m                            Traceback (most recent call last)",
            "\u001b[0;32m<ipython-input-262-50f2bc2c4922>\u001b[0m in \u001b[0;36m<module>\u001b[0;34m()\u001b[0m\n\u001b[0;32m----> 1\u001b[0;31m \u001b[0mrecord_store_catboost_grid_pipe\u001b[0m\u001b[0;34m.\u001b[0m\u001b[0msteps\u001b[0m\u001b[0;34m[\u001b[0m\u001b[0;34m-\u001b[0m\u001b[0;36m1\u001b[0m\u001b[0;34m]\u001b[0m\u001b[0;34m[\u001b[0m\u001b[0;36m1\u001b[0m\u001b[0;34m]\u001b[0m\u001b[0;34m.\u001b[0m\u001b[0mbest_params_\u001b[0m\u001b[0;34m\u001b[0m\u001b[0;34m\u001b[0m\u001b[0m\n\u001b[0m",
            "\u001b[0;31mAttributeError\u001b[0m: 'GridSearchCV' object has no attribute 'best_params_'"
          ]
        }
      ]
    },
    {
      "cell_type": "code",
      "metadata": {
        "colab_type": "code",
        "id": "dU_pJkadk1kC",
        "outputId": "55cc7301-d1cd-44d4-fcbe-00170b17890c",
        "colab": {
          "base_uri": "https://localhost:8080/",
          "height": 1000
        }
      },
      "source": [
        "record_store_catboost_pipe.fit(X_tr,np.log(y_tr))"
      ],
      "execution_count": 246,
      "outputs": [
        {
          "output_type": "stream",
          "text": [
            "0:\tlearn: 0.8679615\ttotal: 895ms\tremaining: 1m 28s\n",
            "1:\tlearn: 0.8485094\ttotal: 1.74s\tremaining: 1m 25s\n",
            "2:\tlearn: 0.8296594\ttotal: 2.6s\tremaining: 1m 24s\n",
            "3:\tlearn: 0.8138238\ttotal: 3.45s\tremaining: 1m 22s\n",
            "4:\tlearn: 0.8001578\ttotal: 4.3s\tremaining: 1m 21s\n",
            "5:\tlearn: 0.7880159\ttotal: 5.17s\tremaining: 1m 21s\n",
            "6:\tlearn: 0.7781756\ttotal: 6.01s\tremaining: 1m 19s\n",
            "7:\tlearn: 0.7699769\ttotal: 6.86s\tremaining: 1m 18s\n",
            "8:\tlearn: 0.7630904\ttotal: 7.7s\tremaining: 1m 17s\n",
            "9:\tlearn: 0.7571475\ttotal: 8.54s\tremaining: 1m 16s\n",
            "10:\tlearn: 0.7484197\ttotal: 9.39s\tremaining: 1m 16s\n",
            "11:\tlearn: 0.7409245\ttotal: 10.3s\tremaining: 1m 15s\n",
            "12:\tlearn: 0.7347365\ttotal: 11.1s\tremaining: 1m 14s\n",
            "13:\tlearn: 0.7293807\ttotal: 12s\tremaining: 1m 13s\n",
            "14:\tlearn: 0.7247611\ttotal: 12.8s\tremaining: 1m 12s\n",
            "15:\tlearn: 0.7208361\ttotal: 13.6s\tremaining: 1m 11s\n",
            "16:\tlearn: 0.7175448\ttotal: 14.5s\tremaining: 1m 10s\n",
            "17:\tlearn: 0.7144864\ttotal: 15.3s\tremaining: 1m 9s\n",
            "18:\tlearn: 0.7121725\ttotal: 16.2s\tremaining: 1m 8s\n",
            "19:\tlearn: 0.7100566\ttotal: 17s\tremaining: 1m 7s\n",
            "20:\tlearn: 0.7083487\ttotal: 17.8s\tremaining: 1m 6s\n",
            "21:\tlearn: 0.7067618\ttotal: 18.6s\tremaining: 1m 6s\n",
            "22:\tlearn: 0.7050557\ttotal: 19.5s\tremaining: 1m 5s\n",
            "23:\tlearn: 0.7038189\ttotal: 20.3s\tremaining: 1m 4s\n",
            "24:\tlearn: 0.7025542\ttotal: 21.2s\tremaining: 1m 3s\n",
            "25:\tlearn: 0.7017551\ttotal: 22s\tremaining: 1m 2s\n",
            "26:\tlearn: 0.6996678\ttotal: 22.9s\tremaining: 1m 1s\n",
            "27:\tlearn: 0.6983305\ttotal: 23.7s\tremaining: 1m 1s\n",
            "28:\tlearn: 0.6968838\ttotal: 24.6s\tremaining: 1m\n",
            "29:\tlearn: 0.6958235\ttotal: 25.4s\tremaining: 59.3s\n",
            "30:\tlearn: 0.6949410\ttotal: 26.2s\tremaining: 58.4s\n",
            "31:\tlearn: 0.6944251\ttotal: 26.8s\tremaining: 57s\n",
            "32:\tlearn: 0.6938762\ttotal: 27.7s\tremaining: 56.2s\n",
            "33:\tlearn: 0.6932277\ttotal: 28.5s\tremaining: 55.3s\n",
            "34:\tlearn: 0.6922975\ttotal: 29.3s\tremaining: 54.5s\n",
            "35:\tlearn: 0.6918580\ttotal: 30.2s\tremaining: 53.7s\n",
            "36:\tlearn: 0.6914929\ttotal: 31.1s\tremaining: 52.9s\n",
            "37:\tlearn: 0.6909157\ttotal: 31.9s\tremaining: 52.1s\n",
            "38:\tlearn: 0.6906573\ttotal: 32.8s\tremaining: 51.3s\n",
            "39:\tlearn: 0.6902381\ttotal: 33.7s\tremaining: 50.5s\n",
            "40:\tlearn: 0.6902380\ttotal: 33.8s\tremaining: 48.6s\n",
            "41:\tlearn: 0.6896288\ttotal: 34.6s\tremaining: 47.8s\n",
            "42:\tlearn: 0.6893959\ttotal: 35.5s\tremaining: 47.1s\n",
            "43:\tlearn: 0.6893959\ttotal: 35.6s\tremaining: 45.3s\n",
            "44:\tlearn: 0.6887181\ttotal: 36.5s\tremaining: 44.6s\n",
            "45:\tlearn: 0.6883465\ttotal: 37.4s\tremaining: 43.9s\n",
            "46:\tlearn: 0.6881799\ttotal: 38.3s\tremaining: 43.1s\n",
            "47:\tlearn: 0.6878571\ttotal: 39.2s\tremaining: 42.4s\n",
            "48:\tlearn: 0.6875483\ttotal: 40.1s\tremaining: 41.7s\n",
            "49:\tlearn: 0.6875483\ttotal: 40.2s\tremaining: 40.2s\n",
            "50:\tlearn: 0.6875469\ttotal: 40.5s\tremaining: 38.9s\n",
            "51:\tlearn: 0.6873236\ttotal: 41.4s\tremaining: 38.2s\n",
            "52:\tlearn: 0.6872225\ttotal: 42.3s\tremaining: 37.6s\n",
            "53:\tlearn: 0.6872213\ttotal: 42.5s\tremaining: 36.2s\n",
            "54:\tlearn: 0.6872213\ttotal: 42.6s\tremaining: 34.9s\n",
            "55:\tlearn: 0.6872189\ttotal: 42.8s\tremaining: 33.6s\n",
            "56:\tlearn: 0.6872189\ttotal: 42.8s\tremaining: 32.3s\n",
            "57:\tlearn: 0.6871893\ttotal: 43.7s\tremaining: 31.7s\n",
            "58:\tlearn: 0.6869883\ttotal: 44.6s\tremaining: 31s\n",
            "59:\tlearn: 0.6869883\ttotal: 44.7s\tremaining: 29.8s\n",
            "60:\tlearn: 0.6869883\ttotal: 44.8s\tremaining: 28.6s\n",
            "61:\tlearn: 0.6869883\ttotal: 44.8s\tremaining: 27.5s\n",
            "62:\tlearn: 0.6869449\ttotal: 45.8s\tremaining: 26.9s\n",
            "63:\tlearn: 0.6866476\ttotal: 46.6s\tremaining: 26.2s\n",
            "64:\tlearn: 0.6866476\ttotal: 46.7s\tremaining: 25.2s\n",
            "65:\tlearn: 0.6863359\ttotal: 47.6s\tremaining: 24.5s\n",
            "66:\tlearn: 0.6863356\ttotal: 47.8s\tremaining: 23.5s\n",
            "67:\tlearn: 0.6863351\ttotal: 48s\tremaining: 22.6s\n",
            "68:\tlearn: 0.6863348\ttotal: 48.2s\tremaining: 21.7s\n",
            "69:\tlearn: 0.6863346\ttotal: 48.3s\tremaining: 20.7s\n",
            "70:\tlearn: 0.6863333\ttotal: 49s\tremaining: 20s\n",
            "71:\tlearn: 0.6860346\ttotal: 49.9s\tremaining: 19.4s\n",
            "72:\tlearn: 0.6860343\ttotal: 50s\tremaining: 18.5s\n",
            "73:\tlearn: 0.6860341\ttotal: 50.2s\tremaining: 17.6s\n",
            "74:\tlearn: 0.6860116\ttotal: 51.2s\tremaining: 17.1s\n",
            "75:\tlearn: 0.6860114\ttotal: 51.3s\tremaining: 16.2s\n",
            "76:\tlearn: 0.6860114\ttotal: 51.4s\tremaining: 15.4s\n",
            "77:\tlearn: 0.6860114\ttotal: 51.6s\tremaining: 14.6s\n",
            "78:\tlearn: 0.6860114\ttotal: 51.7s\tremaining: 13.7s\n",
            "79:\tlearn: 0.6860083\ttotal: 52s\tremaining: 13s\n",
            "80:\tlearn: 0.6860079\ttotal: 52.4s\tremaining: 12.3s\n",
            "81:\tlearn: 0.6860078\ttotal: 52.6s\tremaining: 11.6s\n",
            "82:\tlearn: 0.6860078\ttotal: 52.7s\tremaining: 10.8s\n",
            "83:\tlearn: 0.6858584\ttotal: 53.6s\tremaining: 10.2s\n",
            "84:\tlearn: 0.6858584\ttotal: 53.7s\tremaining: 9.47s\n",
            "85:\tlearn: 0.6858541\ttotal: 54.2s\tremaining: 8.83s\n",
            "86:\tlearn: 0.6858149\ttotal: 55.1s\tremaining: 8.24s\n",
            "87:\tlearn: 0.6858130\ttotal: 55.3s\tremaining: 7.54s\n",
            "88:\tlearn: 0.6856713\ttotal: 56.1s\tremaining: 6.93s\n",
            "89:\tlearn: 0.6854349\ttotal: 57s\tremaining: 6.33s\n",
            "90:\tlearn: 0.6854318\ttotal: 57.2s\tremaining: 5.66s\n",
            "91:\tlearn: 0.6854318\ttotal: 57.3s\tremaining: 4.98s\n",
            "92:\tlearn: 0.6854309\ttotal: 57.9s\tremaining: 4.35s\n",
            "93:\tlearn: 0.6854273\ttotal: 58.1s\tremaining: 3.71s\n",
            "94:\tlearn: 0.6854273\ttotal: 58.2s\tremaining: 3.06s\n",
            "95:\tlearn: 0.6854189\ttotal: 59.1s\tremaining: 2.46s\n",
            "96:\tlearn: 0.6854178\ttotal: 59.4s\tremaining: 1.84s\n",
            "97:\tlearn: 0.6852745\ttotal: 1m\tremaining: 1.23s\n",
            "98:\tlearn: 0.6852744\ttotal: 1m\tremaining: 611ms\n",
            "99:\tlearn: 0.6852721\ttotal: 1m\tremaining: 0us\n"
          ],
          "name": "stdout"
        },
        {
          "output_type": "execute_result",
          "data": {
            "text/plain": [
              "Pipeline(memory=None,\n",
              "         steps=[('processing',\n",
              "                 Pipeline(memory=None,\n",
              "                          steps=[('running_time_imputer',\n",
              "                                  RunningTimeImputer(number_of_tracks='number_of_tracks',\n",
              "                                                     running_time='running_time')),\n",
              "                                 ('record_store_column_remover',\n",
              "                                  ColumnRemover(cols_to_remove={'average_rating',\n",
              "                                                                'community_have',\n",
              "                                                                'community_want',\n",
              "                                                                'country_albania',\n",
              "                                                                'country_algeria',\n",
              "                                                                'country_andorra',\n",
              "                                                                'coun...\n",
              "                                                                'country_belize',\n",
              "                                                                'country_bermuda',\n",
              "                                                                'country_bolivia '\n",
              "                                                                '(plurinational '\n",
              "                                                                'state of)',\n",
              "                                                                'country_bosnia '\n",
              "                                                                'and '\n",
              "                                                                'herzegovina',\n",
              "                                                                'country_brazil',\n",
              "                                                                'country_bulgaria',\n",
              "                                                                'country_cabo '\n",
              "                                                                'verde',\n",
              "                                                                'country_cambodia',\n",
              "                                                                'country_cameroon',\n",
              "                                                                'country_canada',\n",
              "                                                                'country_chile', ...}))],\n",
              "                          verbose=False)),\n",
              "                ('catboost',\n",
              "                 <catboost.core.CatBoostRegressor object at 0x7f690ebc9828>)],\n",
              "         verbose=False)"
            ]
          },
          "metadata": {
            "tags": []
          },
          "execution_count": 246
        }
      ]
    },
    {
      "cell_type": "code",
      "metadata": {
        "colab_type": "code",
        "id": "QtP6T-Ir8asx",
        "colab": {}
      },
      "source": [
        "record_store_catboost_te_pred = record_store_catboost_pipe.predict(X_te)"
      ],
      "execution_count": 0,
      "outputs": []
    },
    {
      "cell_type": "code",
      "metadata": {
        "colab_type": "code",
        "id": "Ot0BfPu28as0",
        "outputId": "792dc177-69af-41db-fa25-7d2969e18bec",
        "colab": {
          "base_uri": "https://localhost:8080/",
          "height": 35
        }
      },
      "source": [
        "r2_score(y_te,np.exp(record_store_catboost_te_pred))"
      ],
      "execution_count": 250,
      "outputs": [
        {
          "output_type": "execute_result",
          "data": {
            "text/plain": [
              "0.21810112476056465"
            ]
          },
          "metadata": {
            "tags": []
          },
          "execution_count": 250
        }
      ]
    },
    {
      "cell_type": "code",
      "metadata": {
        "colab_type": "code",
        "id": "2BLq7nQR42RA",
        "outputId": "5159164a-0ca5-472e-bb27-b134aaaa40f2",
        "colab": {
          "base_uri": "https://localhost:8080/",
          "height": 35
        }
      },
      "source": [
        "mean_absolute_error(y_te,np.exp(record_store_catboost_te_pred))"
      ],
      "execution_count": 251,
      "outputs": [
        {
          "output_type": "execute_result",
          "data": {
            "text/plain": [
              "8.088914961140624"
            ]
          },
          "metadata": {
            "tags": []
          },
          "execution_count": 251
        }
      ]
    },
    {
      "cell_type": "markdown",
      "metadata": {
        "colab_type": "text",
        "id": "1N-puXCSk1kP"
      },
      "source": [
        "## CatBoost - Full Information"
      ]
    },
    {
      "cell_type": "code",
      "metadata": {
        "colab_type": "code",
        "id": "tIZEJfS6k1kQ",
        "colab": {}
      },
      "source": [
        "full_information_catboost_removal_columns = record_store_catboost_removal_columns - full_information_columns"
      ],
      "execution_count": 0,
      "outputs": []
    },
    {
      "cell_type": "code",
      "metadata": {
        "colab_type": "code",
        "id": "uOt1Def_k1kS",
        "colab": {}
      },
      "source": [
        "full_information_catboost_processing_pipe = Pipeline([\n",
        "    ('running_time_imputer',RunningTimeImputer('running_time','number_of_tracks')),\n",
        "    ('record_store_column_remover', ColumnRemover(full_information_catboost_removal_columns)),\n",
        "])\n",
        "\n",
        "full_information_catboost_grid_pipe = Pipeline([\n",
        "    ('processing', full_information_catboost_processing_pipe),\n",
        "    ('grid_search', GridSearchCV(\n",
        "        catboost,\n",
        "        param_grid={            \n",
        "            #'learning_rate': np.logspace(-3,1,5),\n",
        "            #'border_count': np.linspace(1,200,5),\n",
        "            'l2_leaf_reg': [1,3,5,8],\n",
        "        },\n",
        "        n_jobs=3,\n",
        "        cv=KFold(n_splits=5,shuffle=True),\n",
        "        scoring='neg_mean_absolute_error',\n",
        "        verbose=50,\n",
        "        return_train_score=True)\n",
        "    )\n",
        "])\n",
        "\n",
        "full_information_catboost_pipe = Pipeline([\n",
        "    ('processing', full_information_catboost_processing_pipe),\n",
        "    ('catboost',catboost)\n",
        "])"
      ],
      "execution_count": 0,
      "outputs": []
    },
    {
      "cell_type": "code",
      "metadata": {
        "colab_type": "code",
        "id": "YveUFwIJk1kU",
        "colab": {
          "base_uri": "https://localhost:8080/",
          "height": 1000
        },
        "outputId": "1dd21bf1-33d2-4680-c742-750abbbbf32c"
      },
      "source": [
        "full_information_catboost_grid_pipe.fit(X_tr_sample,np.log(y_tr_sample).values)"
      ],
      "execution_count": 224,
      "outputs": [
        {
          "output_type": "stream",
          "text": [
            "Fitting 5 folds for each of 4 candidates, totalling 20 fits\n",
            "[Parallel(n_jobs=3)]: Using backend LokyBackend with 3 concurrent workers.\n",
            "[Parallel(n_jobs=3)]: Done   1 tasks      | elapsed:  1.1min\n",
            "[Parallel(n_jobs=3)]: Done   2 tasks      | elapsed:  1.1min\n",
            "[Parallel(n_jobs=3)]: Done   3 tasks      | elapsed:  1.3min\n",
            "[Parallel(n_jobs=3)]: Done   4 tasks      | elapsed:  2.3min\n"
          ],
          "name": "stdout"
        },
        {
          "output_type": "stream",
          "text": [
            "/usr/local/lib/python3.6/dist-packages/joblib/externals/loky/process_executor.py:706: UserWarning: A worker stopped while some jobs were given to the executor. This can be caused by a too short worker timeout or by a memory leak.\n",
            "  \"timeout or by a memory leak.\", UserWarning\n"
          ],
          "name": "stderr"
        },
        {
          "output_type": "stream",
          "text": [
            "[Parallel(n_jobs=3)]: Done   5 tasks      | elapsed:  2.3min\n",
            "[Parallel(n_jobs=3)]: Done   6 tasks      | elapsed:  2.4min\n",
            "[Parallel(n_jobs=3)]: Done   7 tasks      | elapsed:  3.4min\n",
            "[Parallel(n_jobs=3)]: Done   8 tasks      | elapsed:  3.4min\n",
            "[Parallel(n_jobs=3)]: Done   9 tasks      | elapsed:  3.7min\n",
            "[Parallel(n_jobs=3)]: Done  10 tasks      | elapsed:  4.6min\n",
            "[Parallel(n_jobs=3)]: Done  11 tasks      | elapsed:  4.6min\n",
            "[Parallel(n_jobs=3)]: Done  12 tasks      | elapsed:  4.9min\n",
            "[Parallel(n_jobs=3)]: Done  13 tasks      | elapsed:  5.8min\n",
            "[Parallel(n_jobs=3)]: Done  14 tasks      | elapsed:  5.9min\n",
            "[Parallel(n_jobs=3)]: Done  15 tasks      | elapsed:  6.2min\n",
            "[Parallel(n_jobs=3)]: Done  16 out of  20 | elapsed:  7.0min remaining:  1.8min\n",
            "[Parallel(n_jobs=3)]: Done  17 out of  20 | elapsed:  7.1min remaining:  1.3min\n",
            "[Parallel(n_jobs=3)]: Done  18 out of  20 | elapsed:  7.4min remaining:   49.1s\n",
            "[Parallel(n_jobs=3)]: Done  20 out of  20 | elapsed:  8.0min remaining:    0.0s\n",
            "[Parallel(n_jobs=3)]: Done  20 out of  20 | elapsed:  8.0min finished\n",
            "0:\tlearn: 0.8624039\ttotal: 364ms\tremaining: 36.1s\n",
            "1:\tlearn: 0.8350768\ttotal: 656ms\tremaining: 32.2s\n",
            "2:\tlearn: 0.8139919\ttotal: 947ms\tremaining: 30.6s\n",
            "3:\tlearn: 0.7938236\ttotal: 1.25s\tremaining: 30s\n",
            "4:\tlearn: 0.7765930\ttotal: 1.55s\tremaining: 29.4s\n",
            "5:\tlearn: 0.7610406\ttotal: 1.85s\tremaining: 28.9s\n",
            "6:\tlearn: 0.7477909\ttotal: 2.16s\tremaining: 28.6s\n",
            "7:\tlearn: 0.7370675\ttotal: 2.45s\tremaining: 28.1s\n",
            "8:\tlearn: 0.7275737\ttotal: 2.74s\tremaining: 27.7s\n",
            "9:\tlearn: 0.7187934\ttotal: 3.03s\tremaining: 27.3s\n",
            "10:\tlearn: 0.7101948\ttotal: 3.33s\tremaining: 27s\n",
            "11:\tlearn: 0.7039694\ttotal: 3.62s\tremaining: 26.6s\n",
            "12:\tlearn: 0.6978585\ttotal: 3.92s\tremaining: 26.2s\n",
            "13:\tlearn: 0.6916680\ttotal: 4.22s\tremaining: 25.9s\n",
            "14:\tlearn: 0.6866581\ttotal: 4.51s\tremaining: 25.5s\n",
            "15:\tlearn: 0.6818139\ttotal: 4.66s\tremaining: 24.5s\n",
            "16:\tlearn: 0.6773095\ttotal: 4.96s\tremaining: 24.2s\n",
            "17:\tlearn: 0.6735368\ttotal: 5.26s\tremaining: 24s\n",
            "18:\tlearn: 0.6701438\ttotal: 5.55s\tremaining: 23.7s\n",
            "19:\tlearn: 0.6674280\ttotal: 5.84s\tremaining: 23.4s\n",
            "20:\tlearn: 0.6646429\ttotal: 6.13s\tremaining: 23.1s\n",
            "21:\tlearn: 0.6616118\ttotal: 6.43s\tremaining: 22.8s\n",
            "22:\tlearn: 0.6593987\ttotal: 6.72s\tremaining: 22.5s\n",
            "23:\tlearn: 0.6570209\ttotal: 7.01s\tremaining: 22.2s\n",
            "24:\tlearn: 0.6550422\ttotal: 7.31s\tremaining: 21.9s\n",
            "25:\tlearn: 0.6527177\ttotal: 7.6s\tremaining: 21.6s\n",
            "26:\tlearn: 0.6504678\ttotal: 7.89s\tremaining: 21.3s\n",
            "27:\tlearn: 0.6487458\ttotal: 8.18s\tremaining: 21s\n",
            "28:\tlearn: 0.6472442\ttotal: 8.48s\tremaining: 20.8s\n",
            "29:\tlearn: 0.6453882\ttotal: 8.63s\tremaining: 20.1s\n",
            "30:\tlearn: 0.6440268\ttotal: 8.72s\tremaining: 19.4s\n",
            "31:\tlearn: 0.6419821\ttotal: 9.01s\tremaining: 19.2s\n",
            "32:\tlearn: 0.6406743\ttotal: 9.31s\tremaining: 18.9s\n",
            "33:\tlearn: 0.6389292\ttotal: 9.63s\tremaining: 18.7s\n",
            "34:\tlearn: 0.6377176\ttotal: 9.92s\tremaining: 18.4s\n",
            "35:\tlearn: 0.6373914\ttotal: 9.93s\tremaining: 17.7s\n",
            "36:\tlearn: 0.6370945\ttotal: 9.95s\tremaining: 16.9s\n",
            "37:\tlearn: 0.6356196\ttotal: 10.2s\tremaining: 16.7s\n",
            "38:\tlearn: 0.6348161\ttotal: 10.5s\tremaining: 16.5s\n",
            "39:\tlearn: 0.6337861\ttotal: 10.8s\tremaining: 16.2s\n",
            "40:\tlearn: 0.6326795\ttotal: 11.1s\tremaining: 16s\n",
            "41:\tlearn: 0.6321268\ttotal: 11.4s\tremaining: 15.8s\n",
            "42:\tlearn: 0.6317172\ttotal: 11.7s\tremaining: 15.5s\n",
            "43:\tlearn: 0.6310007\ttotal: 12s\tremaining: 15.3s\n",
            "44:\tlearn: 0.6304707\ttotal: 12.3s\tremaining: 15s\n",
            "45:\tlearn: 0.6297835\ttotal: 12.6s\tremaining: 14.8s\n",
            "46:\tlearn: 0.6297835\ttotal: 12.6s\tremaining: 14.2s\n",
            "47:\tlearn: 0.6290578\ttotal: 12.9s\tremaining: 14s\n",
            "48:\tlearn: 0.6283692\ttotal: 13.2s\tremaining: 13.7s\n",
            "49:\tlearn: 0.6283603\ttotal: 13.2s\tremaining: 13.2s\n",
            "50:\tlearn: 0.6279245\ttotal: 13.5s\tremaining: 13s\n",
            "51:\tlearn: 0.6270580\ttotal: 13.8s\tremaining: 12.7s\n",
            "52:\tlearn: 0.6267773\ttotal: 13.9s\tremaining: 12.3s\n",
            "53:\tlearn: 0.6267732\ttotal: 13.9s\tremaining: 11.8s\n",
            "54:\tlearn: 0.6257649\ttotal: 14.2s\tremaining: 11.6s\n",
            "55:\tlearn: 0.6257493\ttotal: 14.2s\tremaining: 11.2s\n",
            "56:\tlearn: 0.6248277\ttotal: 14.5s\tremaining: 11s\n",
            "57:\tlearn: 0.6248235\ttotal: 14.6s\tremaining: 10.5s\n",
            "58:\tlearn: 0.6243069\ttotal: 14.6s\tremaining: 10.2s\n",
            "59:\tlearn: 0.6237969\ttotal: 14.7s\tremaining: 9.78s\n",
            "60:\tlearn: 0.6229165\ttotal: 15s\tremaining: 9.57s\n",
            "61:\tlearn: 0.6228168\ttotal: 15s\tremaining: 9.19s\n",
            "62:\tlearn: 0.6223825\ttotal: 15.3s\tremaining: 8.97s\n",
            "63:\tlearn: 0.6215456\ttotal: 15.6s\tremaining: 8.77s\n",
            "64:\tlearn: 0.6207075\ttotal: 15.9s\tremaining: 8.55s\n",
            "65:\tlearn: 0.6201103\ttotal: 16.2s\tremaining: 8.34s\n",
            "66:\tlearn: 0.6193546\ttotal: 16.5s\tremaining: 8.12s\n",
            "67:\tlearn: 0.6187048\ttotal: 16.8s\tremaining: 7.9s\n",
            "68:\tlearn: 0.6187048\ttotal: 16.8s\tremaining: 7.54s\n",
            "69:\tlearn: 0.6179129\ttotal: 17.1s\tremaining: 7.32s\n",
            "70:\tlearn: 0.6178530\ttotal: 17.1s\tremaining: 6.99s\n",
            "71:\tlearn: 0.6178530\ttotal: 17.1s\tremaining: 6.66s\n",
            "72:\tlearn: 0.6178530\ttotal: 17.1s\tremaining: 6.33s\n",
            "73:\tlearn: 0.6174067\ttotal: 17.4s\tremaining: 6.12s\n",
            "74:\tlearn: 0.6174067\ttotal: 17.4s\tremaining: 5.81s\n",
            "75:\tlearn: 0.6174042\ttotal: 17.4s\tremaining: 5.5s\n",
            "76:\tlearn: 0.6174002\ttotal: 17.4s\tremaining: 5.21s\n",
            "77:\tlearn: 0.6173607\ttotal: 17.5s\tremaining: 4.93s\n",
            "78:\tlearn: 0.6173513\ttotal: 17.5s\tremaining: 4.65s\n",
            "79:\tlearn: 0.6169365\ttotal: 17.8s\tremaining: 4.44s\n",
            "80:\tlearn: 0.6169365\ttotal: 17.8s\tremaining: 4.17s\n",
            "81:\tlearn: 0.6158051\ttotal: 18.1s\tremaining: 3.97s\n",
            "82:\tlearn: 0.6151014\ttotal: 18.4s\tremaining: 3.76s\n",
            "83:\tlearn: 0.6151011\ttotal: 18.4s\tremaining: 3.5s\n",
            "84:\tlearn: 0.6148560\ttotal: 18.4s\tremaining: 3.25s\n",
            "85:\tlearn: 0.6141845\ttotal: 18.7s\tremaining: 3.05s\n",
            "86:\tlearn: 0.6136855\ttotal: 19s\tremaining: 2.84s\n",
            "87:\tlearn: 0.6136759\ttotal: 19s\tremaining: 2.6s\n",
            "88:\tlearn: 0.6133909\ttotal: 19.3s\tremaining: 2.39s\n",
            "89:\tlearn: 0.6128816\ttotal: 19.4s\tremaining: 2.16s\n",
            "90:\tlearn: 0.6128799\ttotal: 19.4s\tremaining: 1.92s\n",
            "91:\tlearn: 0.6126055\ttotal: 19.5s\tremaining: 1.69s\n",
            "92:\tlearn: 0.6126055\ttotal: 19.5s\tremaining: 1.47s\n",
            "93:\tlearn: 0.6123985\ttotal: 19.8s\tremaining: 1.26s\n",
            "94:\tlearn: 0.6123972\ttotal: 19.8s\tremaining: 1.04s\n",
            "95:\tlearn: 0.6120912\ttotal: 20.1s\tremaining: 837ms\n",
            "96:\tlearn: 0.6120890\ttotal: 20.1s\tremaining: 622ms\n",
            "97:\tlearn: 0.6116464\ttotal: 20.2s\tremaining: 412ms\n",
            "98:\tlearn: 0.6116455\ttotal: 20.2s\tremaining: 204ms\n",
            "99:\tlearn: 0.6113806\ttotal: 20.3s\tremaining: 0us\n"
          ],
          "name": "stdout"
        },
        {
          "output_type": "execute_result",
          "data": {
            "text/plain": [
              "Pipeline(memory=None,\n",
              "         steps=[('processing',\n",
              "                 Pipeline(memory=None,\n",
              "                          steps=[('running_time_imputer',\n",
              "                                  RunningTimeImputer(number_of_tracks='number_of_tracks',\n",
              "                                                     running_time='running_time')),\n",
              "                                 ('record_store_column_remover',\n",
              "                                  ColumnRemover(cols_to_remove={'days_since_last_sale',\n",
              "                                                                'format_description',\n",
              "                                                                'formats',\n",
              "                                                                'genre', 'have',\n",
              "                                                                'highest',\n",
              "                                                                'last_sold',\n",
              "                                                                'lowest',\n",
              "                                                                'market_pr...\n",
              "                          verbose=False)),\n",
              "                ('grid_search',\n",
              "                 GridSearchCV(cv=KFold(n_splits=5, random_state=None, shuffle=True),\n",
              "                              error_score=nan,\n",
              "                              estimator=<catboost.core.CatBoostRegressor object at 0x7f691496d588>,\n",
              "                              iid='deprecated', n_jobs=3,\n",
              "                              param_grid={'l2_leaf_reg': [1, 3, 5, 8]},\n",
              "                              pre_dispatch='2*n_jobs', refit=True,\n",
              "                              return_train_score=True,\n",
              "                              scoring='neg_mean_absolute_error', verbose=50))],\n",
              "         verbose=False)"
            ]
          },
          "metadata": {
            "tags": []
          },
          "execution_count": 224
        }
      ]
    },
    {
      "cell_type": "code",
      "metadata": {
        "colab_type": "code",
        "id": "sDzqUDs6k1kW",
        "colab": {
          "base_uri": "https://localhost:8080/",
          "height": 296
        },
        "outputId": "d6c55e73-5efa-44b3-f06c-51acafdeebe3"
      },
      "source": [
        "full_information_catboost_plot = GridSearchPlotter(full_information_catboost_grid_pipe.steps[-1][1])\n",
        "full_information_catboost_plot.plot_validation_curve(parameter='l2_leaf_reg',ylim=(-1,0))"
      ],
      "execution_count": 226,
      "outputs": [
        {
          "output_type": "display_data",
          "data": {
            "image/png": "[encoded data removed]",
            "text/plain": [
              "<Figure size 432x288 with 1 Axes>"
            ]
          },
          "metadata": {
            "tags": [],
            "needs_background": "light"
          }
        }
      ]
    },
    {
      "cell_type": "code",
      "metadata": {
        "colab_type": "code",
        "id": "rYzXoV8jk1kY",
        "colab": {
          "base_uri": "https://localhost:8080/",
          "height": 35
        },
        "outputId": "972ba8a9-79cd-4f1d-92a3-688c646731f0"
      },
      "source": [
        "full_information_catboost_grid_pipe.steps[-1][1].best_score_"
      ],
      "execution_count": 227,
      "outputs": [
        {
          "output_type": "execute_result",
          "data": {
            "text/plain": [
              "-0.47239278838420995"
            ]
          },
          "metadata": {
            "tags": []
          },
          "execution_count": 227
        }
      ]
    },
    {
      "cell_type": "code",
      "metadata": {
        "colab_type": "code",
        "id": "9DoQX1JHk1ka",
        "colab": {
          "base_uri": "https://localhost:8080/",
          "height": 35
        },
        "outputId": "8eadbb07-b423-4360-84b1-7af069fbd211"
      },
      "source": [
        "full_information_catboost_grid_pipe.steps[-1][1].best_params_"
      ],
      "execution_count": 228,
      "outputs": [
        {
          "output_type": "execute_result",
          "data": {
            "text/plain": [
              "{'l2_leaf_reg': 1}"
            ]
          },
          "metadata": {
            "tags": []
          },
          "execution_count": 228
        }
      ]
    },
    {
      "cell_type": "code",
      "metadata": {
        "colab_type": "code",
        "id": "jo9HfiwMk1kd",
        "colab": {
          "base_uri": "https://localhost:8080/",
          "height": 1000
        },
        "outputId": "6d512104-bb50-4b7a-99d0-1461d2a3e4b8"
      },
      "source": [
        "full_information_catboost_pipe.fit(X_tr,np.log(y_tr))"
      ],
      "execution_count": 255,
      "outputs": [
        {
          "output_type": "stream",
          "text": [
            "0:\tlearn: 0.8566124\ttotal: 902ms\tremaining: 1m 29s\n",
            "1:\tlearn: 0.8271142\ttotal: 1.77s\tremaining: 1m 26s\n",
            "2:\tlearn: 0.8021425\ttotal: 2.64s\tremaining: 1m 25s\n",
            "3:\tlearn: 0.7805040\ttotal: 3.53s\tremaining: 1m 24s\n",
            "4:\tlearn: 0.7613803\ttotal: 4.41s\tremaining: 1m 23s\n",
            "5:\tlearn: 0.7458909\ttotal: 5.27s\tremaining: 1m 22s\n",
            "6:\tlearn: 0.7318959\ttotal: 6.14s\tremaining: 1m 21s\n",
            "7:\tlearn: 0.7200994\ttotal: 7.01s\tremaining: 1m 20s\n",
            "8:\tlearn: 0.7086161\ttotal: 7.88s\tremaining: 1m 19s\n",
            "9:\tlearn: 0.6990736\ttotal: 8.74s\tremaining: 1m 18s\n",
            "10:\tlearn: 0.6905685\ttotal: 9.61s\tremaining: 1m 17s\n",
            "11:\tlearn: 0.6831726\ttotal: 10.5s\tremaining: 1m 17s\n",
            "12:\tlearn: 0.6767884\ttotal: 11.4s\tremaining: 1m 16s\n",
            "13:\tlearn: 0.6705847\ttotal: 12.2s\tremaining: 1m 15s\n",
            "14:\tlearn: 0.6653838\ttotal: 13.1s\tremaining: 1m 14s\n",
            "15:\tlearn: 0.6608367\ttotal: 14s\tremaining: 1m 13s\n",
            "16:\tlearn: 0.6566962\ttotal: 14.8s\tremaining: 1m 12s\n",
            "17:\tlearn: 0.6519837\ttotal: 15.7s\tremaining: 1m 11s\n",
            "18:\tlearn: 0.6482265\ttotal: 16.6s\tremaining: 1m 10s\n",
            "19:\tlearn: 0.6444558\ttotal: 17.5s\tremaining: 1m 9s\n",
            "20:\tlearn: 0.6413210\ttotal: 18.3s\tremaining: 1m 8s\n",
            "21:\tlearn: 0.6383876\ttotal: 19.2s\tremaining: 1m 8s\n",
            "22:\tlearn: 0.6356800\ttotal: 20.1s\tremaining: 1m 7s\n",
            "23:\tlearn: 0.6337032\ttotal: 20.9s\tremaining: 1m 6s\n",
            "24:\tlearn: 0.6314198\ttotal: 21.8s\tremaining: 1m 5s\n",
            "25:\tlearn: 0.6294429\ttotal: 22.6s\tremaining: 1m 4s\n",
            "26:\tlearn: 0.6279973\ttotal: 23.5s\tremaining: 1m 3s\n",
            "27:\tlearn: 0.6265467\ttotal: 24.4s\tremaining: 1m 2s\n",
            "28:\tlearn: 0.6248060\ttotal: 25.2s\tremaining: 1m 1s\n",
            "29:\tlearn: 0.6237079\ttotal: 26.1s\tremaining: 1m\n",
            "30:\tlearn: 0.6226019\ttotal: 27s\tremaining: 1m\n",
            "31:\tlearn: 0.6216895\ttotal: 27.9s\tremaining: 59.3s\n",
            "32:\tlearn: 0.6209187\ttotal: 28.8s\tremaining: 58.4s\n",
            "33:\tlearn: 0.6196381\ttotal: 29.7s\tremaining: 57.6s\n",
            "34:\tlearn: 0.6186430\ttotal: 30.5s\tremaining: 56.7s\n",
            "35:\tlearn: 0.6178096\ttotal: 31.4s\tremaining: 55.9s\n",
            "36:\tlearn: 0.6168718\ttotal: 32.3s\tremaining: 55s\n",
            "37:\tlearn: 0.6163785\ttotal: 33.2s\tremaining: 54.2s\n",
            "38:\tlearn: 0.6156686\ttotal: 34.1s\tremaining: 53.4s\n",
            "39:\tlearn: 0.6148863\ttotal: 35s\tremaining: 52.5s\n",
            "40:\tlearn: 0.6144621\ttotal: 35.9s\tremaining: 51.7s\n",
            "41:\tlearn: 0.6135924\ttotal: 36.8s\tremaining: 50.8s\n",
            "42:\tlearn: 0.6126904\ttotal: 37.7s\tremaining: 50s\n",
            "43:\tlearn: 0.6118419\ttotal: 38.6s\tremaining: 49.1s\n",
            "44:\tlearn: 0.6113719\ttotal: 39.5s\tremaining: 48.2s\n",
            "45:\tlearn: 0.6106541\ttotal: 40.4s\tremaining: 47.4s\n",
            "46:\tlearn: 0.6106540\ttotal: 40.6s\tremaining: 45.7s\n",
            "47:\tlearn: 0.6100273\ttotal: 41.4s\tremaining: 44.9s\n",
            "48:\tlearn: 0.6093307\ttotal: 42.3s\tremaining: 44s\n",
            "49:\tlearn: 0.6093301\ttotal: 42.8s\tremaining: 42.8s\n",
            "50:\tlearn: 0.6085092\ttotal: 43.6s\tremaining: 41.9s\n",
            "51:\tlearn: 0.6081770\ttotal: 44.6s\tremaining: 41.2s\n",
            "52:\tlearn: 0.6081721\ttotal: 45.6s\tremaining: 40.4s\n",
            "53:\tlearn: 0.6081716\ttotal: 45.8s\tremaining: 39s\n",
            "54:\tlearn: 0.6081690\ttotal: 46.1s\tremaining: 37.7s\n",
            "55:\tlearn: 0.6080870\ttotal: 47.1s\tremaining: 37s\n",
            "56:\tlearn: 0.6080804\ttotal: 48s\tremaining: 36.2s\n",
            "57:\tlearn: 0.6075521\ttotal: 48.9s\tremaining: 35.4s\n",
            "58:\tlearn: 0.6070536\ttotal: 49.6s\tremaining: 34.4s\n",
            "59:\tlearn: 0.6066409\ttotal: 50.5s\tremaining: 33.7s\n",
            "60:\tlearn: 0.6066394\ttotal: 50.7s\tremaining: 32.4s\n",
            "61:\tlearn: 0.6066380\ttotal: 51s\tremaining: 31.3s\n",
            "62:\tlearn: 0.6066380\ttotal: 51.1s\tremaining: 30s\n",
            "63:\tlearn: 0.6066379\ttotal: 51.3s\tremaining: 28.9s\n",
            "64:\tlearn: 0.6066376\ttotal: 51.4s\tremaining: 27.7s\n",
            "65:\tlearn: 0.6066370\ttotal: 51.6s\tremaining: 26.6s\n",
            "66:\tlearn: 0.6066362\ttotal: 52s\tremaining: 25.6s\n",
            "67:\tlearn: 0.6066362\ttotal: 52s\tremaining: 24.5s\n",
            "68:\tlearn: 0.6063064\ttotal: 53s\tremaining: 23.8s\n",
            "69:\tlearn: 0.6063061\ttotal: 53.1s\tremaining: 22.8s\n",
            "70:\tlearn: 0.6063061\ttotal: 53.3s\tremaining: 21.8s\n",
            "71:\tlearn: 0.6062956\ttotal: 53.7s\tremaining: 20.9s\n",
            "72:\tlearn: 0.6062880\ttotal: 54s\tremaining: 20s\n",
            "73:\tlearn: 0.6062708\ttotal: 55s\tremaining: 19.3s\n",
            "74:\tlearn: 0.6062695\ttotal: 55.2s\tremaining: 18.4s\n",
            "75:\tlearn: 0.6062695\ttotal: 55.3s\tremaining: 17.5s\n",
            "76:\tlearn: 0.6062034\ttotal: 56.3s\tremaining: 16.8s\n",
            "77:\tlearn: 0.6062034\ttotal: 56.3s\tremaining: 15.9s\n",
            "78:\tlearn: 0.6062034\ttotal: 56.4s\tremaining: 15s\n",
            "79:\tlearn: 0.6062015\ttotal: 57s\tremaining: 14.3s\n",
            "80:\tlearn: 0.6062006\ttotal: 57.5s\tremaining: 13.5s\n",
            "81:\tlearn: 0.6061995\ttotal: 57.6s\tremaining: 12.6s\n",
            "82:\tlearn: 0.6061992\ttotal: 57.8s\tremaining: 11.8s\n",
            "83:\tlearn: 0.6061981\ttotal: 58.1s\tremaining: 11.1s\n",
            "84:\tlearn: 0.6061981\ttotal: 58.2s\tremaining: 10.3s\n",
            "85:\tlearn: 0.6061980\ttotal: 58.4s\tremaining: 9.5s\n",
            "86:\tlearn: 0.6061980\ttotal: 58.4s\tremaining: 8.73s\n",
            "87:\tlearn: 0.6061959\ttotal: 58.6s\tremaining: 7.99s\n",
            "88:\tlearn: 0.6061949\ttotal: 58.8s\tremaining: 7.27s\n",
            "89:\tlearn: 0.6061931\ttotal: 59s\tremaining: 6.56s\n",
            "90:\tlearn: 0.6061912\ttotal: 59.4s\tremaining: 5.87s\n",
            "91:\tlearn: 0.6061862\ttotal: 1m\tremaining: 5.25s\n",
            "92:\tlearn: 0.6060919\ttotal: 1m 1s\tremaining: 4.61s\n",
            "93:\tlearn: 0.6060914\ttotal: 1m 1s\tremaining: 3.93s\n",
            "94:\tlearn: 0.6060894\ttotal: 1m 2s\tremaining: 3.27s\n",
            "95:\tlearn: 0.6060887\ttotal: 1m 2s\tremaining: 2.6s\n",
            "96:\tlearn: 0.6059081\ttotal: 1m 3s\tremaining: 1.96s\n",
            "97:\tlearn: 0.6059057\ttotal: 1m 4s\tremaining: 1.31s\n",
            "98:\tlearn: 0.6059002\ttotal: 1m 5s\tremaining: 659ms\n",
            "99:\tlearn: 0.6058980\ttotal: 1m 6s\tremaining: 0us\n"
          ],
          "name": "stdout"
        },
        {
          "output_type": "execute_result",
          "data": {
            "text/plain": [
              "Pipeline(memory=None,\n",
              "         steps=[('processing',\n",
              "                 Pipeline(memory=None,\n",
              "                          steps=[('running_time_imputer',\n",
              "                                  RunningTimeImputer(number_of_tracks='number_of_tracks',\n",
              "                                                     running_time='running_time')),\n",
              "                                 ('record_store_column_remover',\n",
              "                                  ColumnRemover(cols_to_remove={'country_albania',\n",
              "                                                                'country_algeria',\n",
              "                                                                'country_andorra',\n",
              "                                                                'country_angola',\n",
              "                                                                'country_argentina',\n",
              "                                                                'country_armenia',\n",
              "                                                                '...\n",
              "                                                                '(plurinational '\n",
              "                                                                'state of)',\n",
              "                                                                'country_bosnia '\n",
              "                                                                'and '\n",
              "                                                                'herzegovina',\n",
              "                                                                'country_brazil',\n",
              "                                                                'country_bulgaria',\n",
              "                                                                'country_cabo '\n",
              "                                                                'verde',\n",
              "                                                                'country_cambodia',\n",
              "                                                                'country_cameroon',\n",
              "                                                                'country_canada',\n",
              "                                                                'country_chile',\n",
              "                                                                'country_china',\n",
              "                                                                'country_colombia',\n",
              "                                                                'country_congo', ...}))],\n",
              "                          verbose=False)),\n",
              "                ('catboost',\n",
              "                 <catboost.core.CatBoostRegressor object at 0x7f690ebc9828>)],\n",
              "         verbose=False)"
            ]
          },
          "metadata": {
            "tags": []
          },
          "execution_count": 255
        }
      ]
    },
    {
      "cell_type": "code",
      "metadata": {
        "colab_type": "code",
        "id": "za9_3tZ-k1kf",
        "colab": {}
      },
      "source": [
        "full_information_catboost_te_pred = full_information_catboost_pipe.predict(X_te)"
      ],
      "execution_count": 0,
      "outputs": []
    },
    {
      "cell_type": "code",
      "metadata": {
        "colab_type": "code",
        "id": "fJzDaxL1k1kh",
        "colab": {
          "base_uri": "https://localhost:8080/",
          "height": 35
        },
        "outputId": "9bcd9c20-f666-4d2b-8850-b9d7ce6de643"
      },
      "source": [
        "r2_score(y_te,np.exp(full_information_catboost_te_pred))"
      ],
      "execution_count": 257,
      "outputs": [
        {
          "output_type": "execute_result",
          "data": {
            "text/plain": [
              "0.3622993601320612"
            ]
          },
          "metadata": {
            "tags": []
          },
          "execution_count": 257
        }
      ]
    },
    {
      "cell_type": "code",
      "metadata": {
        "colab_type": "code",
        "id": "WmjFcYRak1kk",
        "colab": {
          "base_uri": "https://localhost:8080/",
          "height": 35
        },
        "outputId": "9e141bc2-ff18-4ac4-f5d3-eda0e56775d9"
      },
      "source": [
        "mean_absolute_error(y_te,np.exp(full_information_catboost_te_pred))"
      ],
      "execution_count": 258,
      "outputs": [
        {
          "output_type": "execute_result",
          "data": {
            "text/plain": [
              "7.318271457588047"
            ]
          },
          "metadata": {
            "tags": []
          },
          "execution_count": 258
        }
      ]
    },
    {
      "cell_type": "markdown",
      "metadata": {
        "id": "8aGyejLgLg5q",
        "colab_type": "text"
      },
      "source": [
        "## Identification of Feature Importances"
      ]
    },
    {
      "cell_type": "code",
      "metadata": {
        "id": "Vel9VOBLLg5r",
        "colab_type": "code",
        "colab": {}
      },
      "source": [
        "feature_importance_transformation_pipe = full_information_catboost_processing_pipe.fit(X_tr,np.log(y_tr).values)\n",
        "full_information_catboost_feature_importances = dict(zip(\n",
        "    feature_importance_transformation_pipe.transform(X_te).columns,\n",
        "    full_information_catboost_pipe.steps[-1][-1].feature_importances_\n",
        "))"
      ],
      "execution_count": 0,
      "outputs": []
    },
    {
      "cell_type": "code",
      "metadata": {
        "id": "so5RN2cBLg5s",
        "colab_type": "code",
        "colab": {
          "base_uri": "https://localhost:8080/",
          "height": 393
        },
        "outputId": "0829c4c6-4a51-49fd-96fe-243524436f27"
      },
      "source": [
        "pd.Series(full_information_catboost_feature_importances).sort_values(ascending=False).head(20)"
      ],
      "execution_count": 260,
      "outputs": [
        {
          "output_type": "execute_result",
          "data": {
            "text/plain": [
              "community_want                        19.884656\n",
              "country                               18.930321\n",
              "units_for_sale                        17.269249\n",
              "format_name                            9.052967\n",
              "year                                   6.908434\n",
              "label                                  5.518472\n",
              "artist                                 4.266312\n",
              "community_have                         3.714480\n",
              "average_rating                         1.612311\n",
              "master_id                              1.242682\n",
              "format_quantity                        1.229304\n",
              "format_description_Reissue             1.008220\n",
              "style_Easy Listening                   0.805355\n",
              "format_text                            0.700815\n",
              "region_eastern asia                    0.654017\n",
              "superregion_americas                   0.648877\n",
              "format_description_Promo               0.646756\n",
              "superregion_europe                     0.644982\n",
              "format_description_Limited Edition     0.632418\n",
              "period_cool                            0.563945\n",
              "dtype: float64"
            ]
          },
          "metadata": {
            "tags": []
          },
          "execution_count": 260
        }
      ]
    },
    {
      "cell_type": "code",
      "metadata": {
        "id": "QElDrqU4xIot",
        "colab_type": "code",
        "colab": {}
      },
      "source": [
        ""
      ],
      "execution_count": 0,
      "outputs": []
    }
  ]
}