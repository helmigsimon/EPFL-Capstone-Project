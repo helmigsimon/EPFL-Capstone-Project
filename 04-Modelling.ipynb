{
 "cells": [
  {
   "cell_type": "markdown",
   "metadata": {
    "colab_type": "text",
    "id": "buFUSHKt8apx"
   },
   "source": [
    "## 04 - Modelling"
   ]
  },
  {
   "cell_type": "markdown",
   "metadata": {
    "colab_type": "text",
    "id": "YsMW-elZopc_"
   },
   "source": [
    "## Setting up Colab Environment if in Colab\n",
    "The analyses outlined in this notebook relies on the estimators provided by the RAPIDS AI CUML library (https://docs.rapids.ai/api), which provides a sci-kit learn-like API for implementations of machine learning algorithms that are specifically configured to run on GPU hardware. Using this library will significantly speed up the computation time associated with the dimensionality reduction we conduct towards the end of this notebook.\n",
    "\n",
    "As I do not personally have access to a GPU, the GPU-enabled part of this notebook is run on Google's Colab Notebook environment, which offers GPU access for free. In the cell belows below, we define the functions required to setup a 25GB RAM Colab Notebook Environment with the packages necessary for the code to function."
   ]
  },
  {
   "cell_type": "markdown",
   "metadata": {
    "colab_type": "text",
    "id": "lunHqQ7B8apz"
   },
   "source": [
    "## Optional - Colab Setup"
   ]
  },
  {
   "cell_type": "code",
   "execution_count": null,
   "metadata": {
    "colab": {},
    "colab_type": "code",
    "id": "qQQCreB5gAR_"
   },
   "outputs": [],
   "source": [
    "def upgrade_runtime_ram():\n",
    "    meminfo = subprocess.getoutput('cat /proc/meminfo').split('\\n')\n",
    "\n",
    "    memory_info = {entry.split(':')[0]: int(entry.split(':')[1].replace(' kB','').strip()) for entry in meminfo}\n",
    "\n",
    "    if memory_info['MemTotal'] > 17000000:\n",
    "        return\n",
    "\n",
    "    a = []\n",
    "    while(1):\n",
    "        a.append('1')"
   ]
  },
  {
   "cell_type": "code",
   "execution_count": null,
   "metadata": {
    "colab": {},
    "colab_type": "code",
    "id": "waACZBi_8ap2"
   },
   "outputs": [],
   "source": [
    "def restart_runtime():\n",
    "    os.kill(os.getpid(), 9)"
   ]
  },
  {
   "cell_type": "code",
   "execution_count": null,
   "metadata": {
    "colab": {},
    "colab_type": "code",
    "id": "YIsGqbsy8aqB"
   },
   "outputs": [],
   "source": [
    "def setup_rapids():\n",
    "    pynvml.nvmlInit()\n",
    "    handle = pynvml.nvmlDeviceGetHandleByIndex(0)\n",
    "    device_name = pynvml.nvmlDeviceGetName(handle)\n",
    "    if (device_name != b'Tesla T4') and (device_name != b'Tesla P4') and (device_name != b'Tesla P100-PCIE-16GB'):\n",
    "        print(\"Wrong GPU - Restarting Runtime\")\n",
    "        restart_runtime()\n",
    "\n",
    "\n",
    "    # clone RAPIDS AI rapidsai-csp-utils scripts repo\n",
    "    !git clone https://github.com/rapidsai/rapidsai-csp-utils.git\n",
    "\n",
    "    # install RAPIDS\n",
    "    !bash rapidsai-csp-utils/colab/rapids-colab.sh 0.13\n",
    "\n",
    "\n",
    "    # set necessary environment variables \n",
    "    dist_package_index = sys.path.index('/usr/local/lib/python3.6/dist-packages')\n",
    "    sys.path = sys.path[:dist_package_index] + ['/usr/local/lib/python3.6/site-packages'] + sys.path[dist_package_index:]\n",
    "    sys.path\n",
    "\n",
    "    # update pyarrow & modules \n",
    "    exec(open('rapidsai-csp-utils/colab/update_modules.py').read(), globals())"
   ]
  },
  {
   "cell_type": "code",
   "execution_count": null,
   "metadata": {
    "colab": {},
    "colab_type": "code",
    "id": "9CcPvNIo8aqI"
   },
   "outputs": [],
   "source": [
    "def setup_conda():\n",
    "    if not 'Miniconda3-4.5.4-Linux-x86_64.sh' in os.listdir():\n",
    "        !wget https://repo.continuum.io/miniconda/Miniconda3-4.5.4-Linux-x86_64.sh && bash Miniconda3-4.5.4-Linux-x86_64.sh -bfp /usr/local\n",
    "\n",
    "    if not ('EPFL-Capstone-Project' in os.listdir()) and (os.getcwd().split('/')[-1] != 'EPFL-Capstone-Project'):\n",
    "        !git clone https://github.com/helmigsimon/EPFL-Capstone-Project  \n",
    "    if 'EPFL-Capstone-Project' in os.listdir():\n",
    "        os.chdir('EPFL-Capstone-Project')\n",
    "\n",
    "    !conda env create -f environment.yml\n",
    "    !conda activate exts-ml"
   ]
  },
  {
   "cell_type": "code",
   "execution_count": null,
   "metadata": {
    "colab": {},
    "colab_type": "code",
    "id": "WHSZ-lgE8aqP"
   },
   "outputs": [],
   "source": [
    "def setup_drive():\n",
    "    #Mounting Google Drive\n",
    "    global drive\n",
    "    from google.colab import drive\n",
    "    drive.mount('/content/drive')"
   ]
  },
  {
   "cell_type": "code",
   "execution_count": 6,
   "metadata": {
    "colab": {
     "base_uri": "https://localhost:8080/",
     "height": 1000
    },
    "colab_type": "code",
    "id": "N_uPJqb58aqW",
    "outputId": "1fcca028-afc7-49b9-ed7a-ebf6eeb5955d"
   },
   "outputs": [
    {
     "name": "stdout",
     "output_type": "stream",
     "text": [
      "Drive already mounted at /content/drive; to attempt to forcibly remount, call drive.mount(\"/content/drive\", force_remount=True).\n",
      "Collecting geopandas\n",
      "  Using cached geopandas-0.7.0-py2.py3-none-any.whl (928 kB)\n",
      "Processing /root/.cache/pip/wheels/aa/e7/c7/e64559d518bcc12ed7e40a605ae304259b957ae8181c8d1e82/sparse_dot_topn-0.2.9-cp36-cp36m-linux_x86_64.whl\n",
      "Collecting pdpipe\n",
      "  Using cached pdpipe-0.0.49-py3-none-any.whl (48 kB)\n",
      "Collecting category-encoders\n",
      "  Using cached category_encoders-2.2.2-py2.py3-none-any.whl (80 kB)\n",
      "Collecting catboost\n",
      "  Using cached catboost-0.23.2-cp36-none-manylinux1_x86_64.whl (64.8 MB)\n",
      "Collecting xgboost\n",
      "  Downloading xgboost-1.1.1-py3-none-manylinux2010_x86_64.whl (127.6 MB)\n",
      "\u001b[K     |████████████████████████████████| 127.6 MB 6.1 kB/s \n",
      "\u001b[?25hCollecting shapely\n",
      "  Downloading Shapely-1.7.0-cp36-cp36m-manylinux1_x86_64.whl (1.8 MB)\n",
      "\u001b[K     |████████████████████████████████| 1.8 MB 62.0 MB/s \n",
      "\u001b[?25hRequirement already satisfied: pandas>=0.23.0 in /usr/local/lib/python3.6/site-packages (from geopandas) (0.25.3)\n",
      "Collecting fiona\n",
      "  Using cached Fiona-1.8.13.post1-cp36-cp36m-manylinux1_x86_64.whl (14.7 MB)\n",
      "Collecting pyproj>=2.2.0\n",
      "  Using cached pyproj-2.6.1.post1-cp36-cp36m-manylinux2010_x86_64.whl (10.9 MB)\n",
      "Requirement already satisfied: setuptools>=18.0 in /usr/local/lib/python3.6/site-packages (from sparse-dot-topn) (47.1.1.post20200529)\n",
      "Requirement already satisfied: scipy>=1.2.3 in /usr/local/lib/python3.6/site-packages (from sparse-dot-topn) (1.4.1)\n",
      "Collecting cython>=0.29.15\n",
      "  Downloading Cython-0.29.19-cp36-cp36m-manylinux1_x86_64.whl (2.0 MB)\n",
      "\u001b[K     |████████████████████████████████| 2.0 MB 60.5 MB/s \n",
      "\u001b[?25hRequirement already satisfied: numpy>=1.16.6 in /usr/local/lib/python3.6/site-packages (from sparse-dot-topn) (1.18.5)\n",
      "Requirement already satisfied: sortedcontainers in /usr/local/lib/python3.6/site-packages (from pdpipe) (2.1.0)\n",
      "Collecting strct\n",
      "  Using cached strct-0.0.30-py2.py3-none-any.whl (16 kB)\n",
      "Collecting tqdm\n",
      "  Downloading tqdm-4.46.1-py2.py3-none-any.whl (63 kB)\n",
      "\u001b[K     |████████████████████████████████| 63 kB 2.5 MB/s \n",
      "\u001b[?25hCollecting skutil>=0.0.15\n",
      "  Using cached skutil-0.0.16-py2.py3-none-any.whl (18 kB)\n",
      "Requirement already satisfied: scikit-learn>=0.20.0 in /usr/local/lib/python3.6/site-packages (from category-encoders) (0.23.1)\n",
      "Collecting patsy>=0.5.1\n",
      "  Downloading patsy-0.5.1-py2.py3-none-any.whl (231 kB)\n",
      "\u001b[K     |████████████████████████████████| 231 kB 60.7 MB/s \n",
      "\u001b[?25hCollecting statsmodels>=0.9.0\n",
      "  Downloading statsmodels-0.11.1-cp36-cp36m-manylinux1_x86_64.whl (8.7 MB)\n",
      "\u001b[K     |████████████████████████████████| 8.7 MB 119 kB/s \n",
      "\u001b[?25hCollecting matplotlib\n",
      "  Downloading matplotlib-3.2.1-cp36-cp36m-manylinux1_x86_64.whl (12.4 MB)\n",
      "\u001b[K     |████████████████████████████████| 12.4 MB 93.5 MB/s \n",
      "\u001b[?25hCollecting plotly\n",
      "  Downloading plotly-4.8.1-py2.py3-none-any.whl (11.5 MB)\n",
      "\u001b[K     |████████████████████████████████| 11.5 MB 94.6 MB/s \n",
      "\u001b[?25hCollecting graphviz\n",
      "  Downloading graphviz-0.14-py2.py3-none-any.whl (18 kB)\n",
      "Requirement already satisfied: six in /usr/local/lib/python3.6/site-packages (from catboost) (1.11.0)\n",
      "Requirement already satisfied: pytz>=2017.2 in /usr/local/lib/python3.6/site-packages (from pandas>=0.23.0->geopandas) (2020.1)\n",
      "Requirement already satisfied: python-dateutil>=2.6.1 in /usr/local/lib/python3.6/site-packages (from pandas>=0.23.0->geopandas) (2.8.1)\n",
      "Collecting attrs>=17\n",
      "  Downloading attrs-19.3.0-py2.py3-none-any.whl (39 kB)\n",
      "Requirement already satisfied: click<8,>=4.0 in /usr/local/lib/python3.6/site-packages (from fiona->geopandas) (7.1.2)\n",
      "Collecting munch\n",
      "  Using cached munch-2.5.0-py2.py3-none-any.whl (10 kB)\n",
      "Collecting click-plugins>=1.0\n",
      "  Using cached click_plugins-1.1.1-py2.py3-none-any.whl (7.5 kB)\n",
      "Collecting cligj>=0.5\n",
      "  Using cached cligj-0.5.0-py3-none-any.whl (5.7 kB)\n",
      "Processing /root/.cache/pip/wheels/6c/1b/9c/71fa8b5df01cc605c4b5cadcd81df76d520149ca5c02b4013b/decore-0.0.1-py2.py3-none-any.whl\n",
      "Requirement already satisfied: threadpoolctl>=2.0.0 in /usr/local/lib/python3.6/site-packages (from scikit-learn>=0.20.0->category-encoders) (2.1.0)\n",
      "Requirement already satisfied: joblib>=0.11 in /usr/local/lib/python3.6/site-packages (from scikit-learn>=0.20.0->category-encoders) (0.15.1)\n",
      "Requirement already satisfied: pyparsing!=2.0.4,!=2.1.2,!=2.1.6,>=2.0.1 in /usr/local/lib/python3.6/site-packages (from matplotlib->catboost) (2.4.7)\n",
      "Collecting kiwisolver>=1.0.1\n",
      "  Downloading kiwisolver-1.2.0-cp36-cp36m-manylinux1_x86_64.whl (88 kB)\n",
      "\u001b[K     |████████████████████████████████| 88 kB 9.6 MB/s \n",
      "\u001b[?25hCollecting cycler>=0.10\n",
      "  Downloading cycler-0.10.0-py2.py3-none-any.whl (6.5 kB)\n",
      "Collecting retrying>=1.3.3\n",
      "  Downloading retrying-1.3.3.tar.gz (10 kB)\n",
      "Building wheels for collected packages: retrying\n",
      "  Building wheel for retrying (setup.py) ... \u001b[?25l\u001b[?25hdone\n",
      "  Created wheel for retrying: filename=retrying-1.3.3-py3-none-any.whl size=11430 sha256=8189ee15581567f9f65fcbfbaa0f759d5843cb41ac5645367ebba86182b23d04\n",
      "  Stored in directory: /root/.cache/pip/wheels/ac/cb/8a/b27bf6323e2f4c462dcbf77d70b7c5e7868a7fbe12871770cf\n",
      "Successfully built retrying\n",
      "Installing collected packages: shapely, attrs, munch, click-plugins, cligj, fiona, pyproj, geopandas, cython, sparse-dot-topn, strct, tqdm, decore, skutil, pdpipe, patsy, statsmodels, category-encoders, kiwisolver, cycler, matplotlib, retrying, plotly, graphviz, catboost, xgboost\n",
      "Successfully installed attrs-19.3.0 catboost-0.23.2 category-encoders-2.2.2 click-plugins-1.1.1 cligj-0.5.0 cycler-0.10.0 cython-0.29.19 decore-0.0.1 fiona-1.8.13.post1 geopandas-0.7.0 graphviz-0.14 kiwisolver-1.2.0 matplotlib-3.2.1 munch-2.5.0 patsy-0.5.1 pdpipe-0.0.49 plotly-4.8.1 pyproj-2.6.1.post1 retrying-1.3.3 shapely-1.7.0 skutil-0.0.16 sparse-dot-topn-0.2.9 statsmodels-0.11.1 strct-0.0.30 tqdm-4.46.1 xgboost-1.1.1\n"
     ]
    },
    {
     "data": {
      "application/vnd.colab-display-data+json": {
       "pip_warning": {
        "packages": [
         "cycler",
         "kiwisolver",
         "matplotlib",
         "mpl_toolkits"
        ]
       }
      }
     },
     "metadata": {
      "tags": []
     },
     "output_type": "display_data"
    },
    {
     "name": "stderr",
     "output_type": "stream",
     "text": [
      "/usr/local/lib/python3.6/dist-packages/statsmodels/tools/_testing.py:19: FutureWarning: pandas.util.testing is deprecated. Use the functions in the public API at pandas.testing instead.\n",
      "  import pandas.util.testing as tm\n"
     ]
    },
    {
     "name": "stdout",
     "output_type": "stream",
     "text": [
      "Solving environment: failed\n",
      "\n",
      "ResolvePackageNotFound: \n",
      "  - libllvm8==8.0.1=h770b8ee_0\n",
      "  - tk==8.6.10=hbbe82c9_0\n",
      "  - libdap4==3.20.4=habf5908_0\n",
      "  - hdf5==1.10.5=nompi_h3e39495_1104\n",
      "  - kealib==1.4.12=h2324030_0\n",
      "  - libgdal==3.0.4=hec54991_3\n",
      "  - pcre==8.44=h4a8c4bd_0\n",
      "  - sqlalchemy==1.3.13=py36h0b31af3_0\n",
      "  - fontconfig==2.13.1=h6b1039f_1001\n",
      "  - lz4-c==1.8.3=h6de7cb9_1001\n",
      "  - python==3.6.10=hce46be0_1009_cpython\n",
      "  - libtiff==4.1.0=ha78913b_3\n",
      "  - graphviz==2.42.3=h98dfb87_0\n",
      "  - llvmlite==0.31.0=py36hde82470_1\n",
      "  - c-ares==1.15.0=h01d97ff_1001\n",
      "  - libopenblas==0.3.9=h3d69b6c_0\n",
      "  - icu==64.2=h6de7cb9_1\n",
      "  - libcurl==7.68.0=h709d2b2_0\n",
      "  - jpeg==9c=h1de35cc_1001\n",
      "  - tiledb==1.7.0=hd5e958f_2\n",
      "  - fiona==1.8.13=py36he71f6a4_0\n",
      "  - libgfortran==4.0.0=2\n",
      "  - zeromq==4.3.2=h6de7cb9_2\n",
      "  - geos==3.8.1=h4a8c4bd_0\n",
      "  - libiconv==1.15=h0b31af3_1006\n",
      "  - libssh2==1.8.2=hcdc9a53_2\n",
      "  - libkml==1.3.0=h169b8f9_1011\n",
      "  - libpng==1.6.37=hbbe82c9_1\n",
      "  - xerces-c==3.2.2=h8f8adb3_1004\n",
      "  - libffi==3.2.1=h4a8c4bd_1007\n",
      "  - sqlite==3.30.1=h93121df_0\n",
      "  - libedit==3.1.20170329=hcfe32e1_1001\n",
      "  - expat==2.2.9=h4a8c4bd_2\n",
      "  - libsodium==1.0.17=h01d97ff_0\n",
      "  - libuv==1.34.0=h0b31af3_0\n",
      "  - tensorflow-base==1.12.0=mkl_py36h70e0e9a_0\n",
      "  - postgresql==12.2=h16d8c28_0\n",
      "  - cairo==1.16.0=hec6a9b0_1003\n",
      "  - psutil==5.7.0=py36h37b9a7d_1\n",
      "  - pillow==7.0.0=py36h918e99a_0\n",
      "  - mistune==0.8.4=py36h0b31af3_1000\n",
      "  - pyrsistent==0.16.0=py36h37b9a7d_0\n",
      "  - poppler==0.67.0=h16886b5_8\n",
      "  - proj==6.3.1=h773a61f_1\n",
      "  - nodejs==13.10.1=h38d8c5a_0\n",
      "  - psycopg2==2.8.4=py36hafa8578_1\n",
      "  - python-levenshtein==0.12.0=py36h0b31af3_1001\n",
      "  - zlib==1.2.11=h0b31af3_1006\n",
      "  - gdal==3.0.4=py36h5a1ef21_3\n",
      "  - h5py==2.10.0=nompi_py36h106b333_102\n",
      "  - readline==8.0=hcfe32e1_0\n",
      "  - bzip2==1.0.8=h0b31af3_2\n",
      "  - grpcio==1.23.0=py36h7c1f37e_1\n",
      "  - tzcode==2019a=h01d97ff_1002\n",
      "  - cffi==1.14.0=py36h356ff06_0\n",
      "  - boost-cpp==1.72.0=hdf9ef73_0\n",
      "  - pixman==0.38.0=h01d97ff_1003\n",
      "  - scikit-learn==0.20.3=py36hca23c92_1\n",
      "  - openjpeg==2.3.1=h254dc36_3\n",
      "  - libspatialite==4.3.0a=hbcd37d4_1037\n",
      "  - markupsafe==1.1.1=py36h37b9a7d_1\n",
      "  - llvm-openmp==9.0.1=h28b9765_2\n",
      "  - libprotobuf==3.11.4=hd174df1_0\n",
      "  - cryptography==2.8=py36hc9d8292_2\n",
      "  - scipy==1.4.1=py36h82752d6_0\n",
      "  - numba==0.48.0=py36h4f17bb1_0\n",
      "  - shapely==1.7.0=py36hda0b814_2\n",
      "  - tornado==6.0.4=py36h37b9a7d_1\n",
      "  - appnope==0.1.0=py36h9f0ad1d_1001\n",
      "  - tensorflow==1.12.0=mkl_py36h2b2bbaf_0\n",
      "  - glib==2.58.3=py36hb0ce7ff_1003\n",
      "  - libxml2==2.9.10=h53d96d6_0\n",
      "  - curl==7.68.0=h8754def_0\n",
      "  - freexl==1.0.5=h1de35cc_1002\n",
      "  - xz==5.2.4=h0b31af3_1002\n",
      "  - matplotlib-base==3.2.0=py36h11da6c2_1\n",
      "  - libnetcdf==4.7.4=nompi_he461dc0_101\n",
      "  - json-c==0.13.1=h1de35cc_1001\n",
      "  - gettext==0.19.8.1=h46ab8bc_1002\n",
      "  - kiwisolver==1.1.0=py36h863e41a_1\n",
      "  - libwebp==1.0.2=hd3bf737_5\n",
      "  - pandas==1.0.1=py36h4f17bb1_0\n",
      "  - zstd==1.4.4=hed8d7c8_2\n",
      "  - krb5==1.16.4=h1752a42_0\n",
      "  - cfitsio==3.470=h84d2f63_2\n",
      "  - statsmodels==0.11.1=py36h37b9a7d_1\n",
      "  - sparse_dot_topn==0.2.9=py36h863e41a_0\n",
      "  - freetype==2.10.1=h8da9a1a_0\n",
      "  - openssl==1.1.1f=h0b31af3_0\n",
      "  - hdf4==4.2.13=h84186c3_1003\n",
      "  - pyzmq==19.0.0=py36h820b253_1\n",
      "  - geotiff==1.5.1=h4bdff65_9\n",
      "  - libpq==12.2=h554dc5a_0\n",
      "  - ncurses==6.1=h0a44026_1002\n",
      "  - giflib==5.2.1=h0b31af3_2\n",
      "  - numpy==1.18.1=py36hde6bac1_0\n",
      "\n",
      "\n",
      "CommandNotFoundError: Your shell has not been properly configured to use 'conda activate'.\n",
      "If your shell is Bash or a Bourne variant, enable conda for the current user with\n",
      "\n",
      "    $ echo \". /usr/local/etc/profile.d/conda.sh\" >> ~/.bashrc\n",
      "\n",
      "or, for all users, enable conda with\n",
      "\n",
      "    $ sudo ln -s /usr/local/etc/profile.d/conda.sh /etc/profile.d/conda.sh\n",
      "\n",
      "The options above will permanently enable the 'conda' command, but they do NOT\n",
      "put conda's base (root) environment on PATH.  To do so, run\n",
      "\n",
      "    $ conda activate\n",
      "\n",
      "in your terminal, or to put the base environment on PATH permanently, run\n",
      "\n",
      "    $ echo \"conda activate\" >> ~/.bashrc\n",
      "\n",
      "Previous to conda 4.4, the recommended way to activate conda was to modify PATH in\n",
      "your ~/.bashrc file.  You should manually remove the line that looks like\n",
      "\n",
      "    export PATH=\"/usr/local/bin:$PATH\"\n",
      "\n",
      "^^^ The above line should NO LONGER be in your ~/.bashrc file! ^^^\n",
      "\n",
      "\n",
      "[nltk_data] Downloading package stopwords to /root/nltk_data...\n",
      "[nltk_data]   Package stopwords is already up-to-date!\n",
      "[nltk_data] Downloading package punkt to /root/nltk_data...\n",
      "[nltk_data]   Package punkt is already up-to-date!\n",
      "fatal: destination path 'rapidsai-csp-utils' already exists and is not an empty directory.\n",
      "PLEASE READ\n",
      "********************************************************************************************************\n",
      "Changes:\n",
      "1. Now that most people have migrated, we have rem0ved the migration notice.\n",
      "2. default stable version is now 0.13.  Nightly is now 0.14\n",
      "3. You can now declare your RAPIDS version as a CLI option and skip the user prompts (ex: '0.13' or '0.14', between 0.11 to 0.14, without the quotes): \n",
      "        \"!bash rapidsai-csp-utils/colab/rapids-colab.sh <version/label>\"\n",
      "        Examples: '!bash rapidsai-csp-utils/colab/rapids-colab.sh 0.13', or '!bash rapidsai-csp-utils/colab/rapids-colab.sh stable', or '!bash rapidsai-csp-utils/colab/rapids-colab.sh s'\n",
      "                  '!bash rapidsai-csp-utils/colab/rapids-colab.sh 0.14, or '!bash rapidsai-csp-utils/colab/rapids-colab.sh nightly', or '!bash rapidsai-csp-utils/colab/rapids-colab.sh n'\n",
      "Enjoy using RAPIDS!\n",
      "RAPIDS Version to install is 0.13\n",
      "Checking for GPU type:\n",
      "***********************************************************************\n",
      "Woo! Your instance has the right kind of GPU, a 'Tesla P100-PCIE-16GB'!\n",
      "***********************************************************************\n",
      "\n",
      "\n",
      "************************************************\n",
      "Your Google Colab instance has RAPIDS installed!\n",
      "************************************************\n",
      "***********************************************************************\n",
      "Let us check on those pyarrow and cffi versions...\n",
      "***********************************************************************\n",
      "\n",
      "unloaded pyarrow 0.14.1\n",
      "unloaded pyarrow 0.14.1\n",
      "unloaded pyarrow 0.14.1\n",
      "unloaded pyarrow 0.14.1\n",
      "unloaded pyarrow 0.14.1\n",
      "unloaded pyarrow 0.14.1\n",
      "unloaded pyarrow 0.14.1\n",
      "unloaded pyarrow 0.14.1\n",
      "unloaded pyarrow 0.14.1\n",
      "unloaded pyarrow 0.14.1\n",
      "unloaded pyarrow 0.14.1\n",
      "unloaded pyarrow 0.14.1\n",
      "loaded pyarrow 0.15.0\n",
      "You're now running pyarrow 0.15.0 and are good to go!\n",
      "unloaded cffi 1.14.0\n",
      "loaded cffi 1.11.5\n"
     ]
    }
   ],
   "source": [
    "try:\n",
    "    import sys,os,subprocess\n",
    "    \n",
    "    upgrade_runtime_ram()\n",
    "    setup_drive()\n",
    "\n",
    "    #Setting up PyPi Packages\n",
    "    !pip install geopandas sparse-dot-topn pdpipe category-encoders catboost xgboost\n",
    "    import geopandas as gpd\n",
    "    import sparse_dot_topn.sparse_dot_topn as ct\n",
    "    import pdpipe as pdp\n",
    "    import category_encoders\n",
    "    import xgboost as xgb\n",
    "\n",
    "    #Setting up Conda Packages\n",
    "    setup_conda()\n",
    "    \n",
    "    #Initializing NLTK\n",
    "    import nltk\n",
    "    nltk.download('stopwords')\n",
    "    nltk.download('punkt')\n",
    "    \n",
    "    #Setting up RAPIDS AI\n",
    "    import pynvml\n",
    "    setup_rapids()\n",
    "    \n",
    "    from cuml import UMAP\n",
    "    \n",
    "except ModuleNotFoundError as e:\n",
    "    print(e)\n",
    "    print('Not in colab environment, continuing to run locally')\n",
    "    from umap import UMAP"
   ]
  },
  {
   "cell_type": "markdown",
   "metadata": {
    "colab_type": "text",
    "id": "Kvn45BG28aqd"
   },
   "source": [
    "## Imports"
   ]
  },
  {
   "cell_type": "code",
   "execution_count": null,
   "metadata": {
    "colab": {},
    "colab_type": "code",
    "id": "IRijjSry8aqf"
   },
   "outputs": [],
   "source": [
    "%matplotlib inline\n",
    "import pandas as pd\n",
    "import numpy as np\n",
    "from tqdm import tqdm\n",
    "import matplotlib.pyplot as plt\n",
    "from sklearn.linear_model import SGDRegressor\n",
    "from sklearn.preprocessing import StandardScaler\n",
    "from sklearn.model_selection import GridSearchCV, train_test_split,  StratifiedKFold\n",
    "from sklearn.pipeline import Pipeline\n",
    "from sklearn.metrics import mean_absolute_error, mean_squared_error, r2_score\n",
    "tqdm.pandas()"
   ]
  },
  {
   "cell_type": "code",
   "execution_count": null,
   "metadata": {
    "colab": {},
    "colab_type": "code",
    "id": "fEgS7UQD8aqk"
   },
   "outputs": [],
   "source": [
    "from sklearn.model_selection import train_test_split\n",
    "from sklearn.impute import SimpleImputer\n",
    "from sklearn.compose import ColumnTransformer\n",
    "from sklearn.preprocessing import OneHotEncoder, FunctionTransformer, RobustScaler, MinMaxScaler\n",
    "from sklearn.model_selection import KFold\n",
    "from sklearn.dummy import DummyRegressor\n",
    "from sklearn.ensemble import RandomForestRegressor\n",
    "from sklearn.decomposition import PCA"
   ]
  },
  {
   "cell_type": "code",
   "execution_count": null,
   "metadata": {
    "colab": {},
    "colab_type": "code",
    "id": "u5KwAwAe8aqp"
   },
   "outputs": [],
   "source": [
    "from lib.transformers import *\n",
    "from lib.pipelines import *\n",
    "from lib.processing import save_to_pkl, load_from_pkl\n",
    "from lib.visualization import GridSearchPlotter\n",
    "from data.util.paths import DATA_PATH"
   ]
  },
  {
   "cell_type": "code",
   "execution_count": null,
   "metadata": {
    "colab": {},
    "colab_type": "code",
    "id": "ixGjIOwS8aq1"
   },
   "outputs": [],
   "source": [
    "from category_encoders.leave_one_out import LeaveOneOutEncoder"
   ]
  },
  {
   "cell_type": "code",
   "execution_count": null,
   "metadata": {
    "colab": {},
    "colab_type": "code",
    "id": "X4_WNHlLW7Lt"
   },
   "outputs": [],
   "source": [
    "from cuml import LinearRegression, RandomForestRegressor, Ridge, Lasso"
   ]
  },
  {
   "cell_type": "code",
   "execution_count": null,
   "metadata": {
    "colab": {},
    "colab_type": "code",
    "id": "K3Ig2yYxXIrV"
   },
   "outputs": [],
   "source": [
    "from catboost import CatBoostRegressor"
   ]
  },
  {
   "cell_type": "markdown",
   "metadata": {
    "colab_type": "text",
    "id": "YwJ6GSBC3Qtz"
   },
   "source": [
    "## Loading Data\n",
    "First, we load the dataset that we have prepared in the previous notebook, ``03-DatasetPrep``"
   ]
  },
  {
   "cell_type": "code",
   "execution_count": null,
   "metadata": {
    "colab": {},
    "colab_type": "code",
    "id": "RiNFe3gX3Qtz"
   },
   "outputs": [],
   "source": [
    "metadata_df, image_embeddings_df = tuple(load_from_pkl(i,DATA_PATH) for i in ('metadata','image_embeddings'))\n",
    "df = metadata_df.merge(image_embeddings_df,how='inner',on='release_id')"
   ]
  },
  {
   "cell_type": "markdown",
   "metadata": {},
   "source": [
    "After merging, we will take care of additional outliers that need to be addressed, namely for ``number_of_tracks``, ``running_time``, and the UMAP dimensionality reduction outputs, which were discussed in 02-Visualization&Cleaning. ``number_of_tracks`` and ``running_time`` suffer from massive outlier values which skew the distribution of the features and as such must be taken out of contention. For the case of ``running_time``, we remove those albums with that last over 3 hours, in the interest of focusing our attention on albums of a normal length."
   ]
  },
  {
   "cell_type": "code",
   "execution_count": null,
   "metadata": {},
   "outputs": [],
   "source": [
    "df = OutlierRemover(features=['number_of_tracks'] + [i for i in df.columns if 'umap' in i]).fit_transform(df[(df['running_time'] < 180) | (df['running_time'].isna())])"
   ]
  },
  {
   "cell_type": "code",
   "execution_count": null,
   "metadata": {
    "colab": {},
    "colab_type": "code",
    "id": "8-JguLVU4_kn"
   },
   "outputs": [],
   "source": [
    "del metadata_df, image_embeddings_df"
   ]
  },
  {
   "cell_type": "code",
   "execution_count": 15,
   "metadata": {
    "colab": {
     "base_uri": "https://localhost:8080/",
     "height": 67,
     "referenced_widgets": [
      "64c2fd2d2f3e4b8eb7841833b8b71a85",
      "c0cc44bc2f9f4b40b78dabbc564307c2",
      "cec5ad289bef4950b53f6a9697489d6f",
      "0998706103c941c58c2341c348c6da6d",
      "b63b092cff10472fa3f5ac7b0c22fb4d",
      "b0fd2419f1584aa0aebf62037dd864e0",
      "1971906f1a7e4c2b9eee65b5bb895c38",
      "9a39cd4922124630abab357d3e8ca7ab"
     ]
    },
    "colab_type": "code",
    "id": "1hbzpOTylHCB",
    "outputId": "5ae18820-f099-4a67-b60c-fe0c58b64191"
   },
   "outputs": [
    {
     "data": {
      "application/vnd.jupyter.widget-view+json": {
       "model_id": "64c2fd2d2f3e4b8eb7841833b8b71a85",
       "version_major": 2,
       "version_minor": 0
      },
      "text/plain": [
       "HBox(children=(FloatProgress(value=0.0, max=8.0), HTML(value='')))"
      ]
     },
     "metadata": {
      "tags": []
     },
     "output_type": "display_data"
    },
    {
     "name": "stdout",
     "output_type": "stream",
     "text": [
      "\n"
     ]
    }
   ],
   "source": [
    "col_set = {\n",
    "    'format': {\n",
    "        'description': 'format_description_', \n",
    "        'name': 'format_name_', \n",
    "        'text': ('format_text_clean'),\n",
    "        'quantity': ('format_quantity')\n",
    "    },\n",
    "    'geography': {\n",
    "        'superregion': 'superregion_',\n",
    "        'region': 'region_',\n",
    "        'country': 'country_'\n",
    "    },\n",
    "    'timeperiod': {\n",
    "        'period': 'period_',\n",
    "        'era': 'era_'\n",
    "    },\n",
    "    'genre': 'genre_',\n",
    "    'style': 'style_',\n",
    "    'null': None,\n",
    "    'indicator': lambda x: x.max() == 1 and x.min() == 0,\n",
    "    'image_embedding': 'image_umap_'\n",
    "}\n",
    "column_store = ColumnStore()\n",
    "column_store.fit(df,col_set)"
   ]
  },
  {
   "cell_type": "markdown",
   "metadata": {
    "colab_type": "text",
    "id": "Gz00X-1E8arN"
   },
   "source": [
    "## Preparing for Machine Learning\n",
    "Next, we split our dataset, ``df``, into train and test sets, which is crucial for the training and ultimate evaluation of the machine learning models we will build in this notebook. We also apply an imputation of missing values for the ``average_rating`` feature at this stage. Since we are using the 'mean' strategy of imputation, it is crucial that this step is taken after the splitting of train and test datasets, in order to avoid datapoints from the test set influencing the values of predictors we are using to build our models."
   ]
  },
  {
   "cell_type": "code",
   "execution_count": null,
   "metadata": {
    "colab": {},
    "colab_type": "code",
    "id": "7hLwsGal8arO"
   },
   "outputs": [],
   "source": [
    "X_tr, X_te, y_tr, y_te = train_test_split(df.drop('market_value',axis=1),df.market_value,random_state=0)"
   ]
  },
  {
   "cell_type": "code",
   "execution_count": null,
   "metadata": {
    "colab": {},
    "colab_type": "code",
    "id": "dXpwfIAIfudu"
   },
   "outputs": [],
   "source": [
    "units_for_sale_imputer = SimpleImputer(strategy='constant',fill_value=0)\n",
    "average_rating_imputer = SimpleImputer(strategy='mean')\n",
    "artist_imputer = SimpleImputer(strategy='constant',fill_value='Unknown')\n",
    "running_time_imputer = RunningTimeImputer('running_time','number_of_tracks')"
   ]
  },
  {
   "cell_type": "code",
   "execution_count": null,
   "metadata": {
    "colab": {},
    "colab_type": "code",
    "id": "nb5EhuF_fukB"
   },
   "outputs": [],
   "source": [
    "X_tr['units_for_sale'] = units_for_sale_imputer.fit_transform(X_tr['units_for_sale'].values.reshape(-1,1))\n",
    "X_te['units_for_sale'] = units_for_sale_imputer.transform(X_te['units_for_sale'].values.reshape(-1,1))"
   ]
  },
  {
   "cell_type": "code",
   "execution_count": null,
   "metadata": {
    "colab": {},
    "colab_type": "code",
    "id": "x8fAvd_9fumo"
   },
   "outputs": [],
   "source": [
    "X_tr['average_rating'] = average_rating_imputer.fit_transform(X_tr['average_rating'].values.reshape(-1,1))\n",
    "X_te['average_rating'] = average_rating_imputer.transform(X_te['average_rating'].values.reshape(-1,1))"
   ]
  },
  {
   "cell_type": "code",
   "execution_count": null,
   "metadata": {
    "colab": {},
    "colab_type": "code",
    "id": "OqvHG7S6cdN5"
   },
   "outputs": [],
   "source": [
    "X_tr['artist'] = X_tr['artist'].replace({np.nan:'Unknown'})\n",
    "X_te['artist'] = X_te['artist'].replace({np.nan:'Unknown'})"
   ]
  },
  {
   "cell_type": "code",
   "execution_count": null,
   "metadata": {
    "colab": {},
    "colab_type": "code",
    "id": "DY9M6XnywOsQ"
   },
   "outputs": [],
   "source": [
    "X_tr = running_time_imputer.fit_transform(X_tr)\n",
    "X_te = running_time_imputer.transform(X_te)"
   ]
  },
  {
   "cell_type": "markdown",
   "metadata": {
    "colab_type": "text",
    "id": "1vGxmYxjwOsU"
   },
   "source": [
    "Finally, as we are dealing with a fairly high dimensional dataset, we create a smaller training dataset for the purposes of tuning the hyperparameters of the more sophisticated algorithms we are testing in this notebook. This will allow us to iterate quickly in the process of tuning our hyperparameters."
   ]
  },
  {
   "cell_type": "code",
   "execution_count": null,
   "metadata": {
    "colab": {},
    "colab_type": "code",
    "id": "0C52Gl1ngdey"
   },
   "outputs": [],
   "source": [
    "df_sample = pd.concat([X_tr,y_tr],axis=1).sample(frac=0.1)\n",
    "X_tr_sample = df_sample.drop('market_value',axis=1)\n",
    "y_tr_sample = df_sample['market_value']"
   ]
  },
  {
   "cell_type": "code",
   "execution_count": null,
   "metadata": {
    "colab": {},
    "colab_type": "code",
    "id": "pAWFk-AwgfEX"
   },
   "outputs": [],
   "source": [
    "del df"
   ]
  },
  {
   "cell_type": "markdown",
   "metadata": {
    "colab_type": "text",
    "id": "pk_qZ4Lu947Y"
   },
   "source": [
    "## Setting up Dummy Regression for baseline\n",
    "In order to be able to interpret the results we obtain from our models, we must first set a benchmark which we expect our models to surpass. In our case, we will be employing the sci-kit learn DummyRegressor using the 'mean' strategy, and use this to calculate the baseline values for R2 and Mean Absolute Error, our evaluation of metrics of choice in this project."
   ]
  },
  {
   "cell_type": "code",
   "execution_count": null,
   "metadata": {
    "colab": {},
    "colab_type": "code",
    "id": "tTWU4_un6lR2"
   },
   "outputs": [],
   "source": [
    "dummy_regressor = DummyRegressor(strategy='mean')\n",
    "dummy_regressor.fit(X_tr,np.log(y_tr).values)\n",
    "dummy_pred = dummy_regressor.predict(X_te)"
   ]
  },
  {
   "cell_type": "markdown",
   "metadata": {
    "colab_type": "text",
    "id": "fe5CqeDowOsg"
   },
   "source": [
    "First, we will naively evaluate the performance of our dummy regressor by calculating the R2 Score and Mean Absolute Error using our predictions and the log of the ``market_value`` feature of our test set. The results from this evaluation, as we can see below, indicate fairly strong results, particularly with respect to the Mean Absolute Error, but cannot be interpreted as one would normally interpret a Mean Absolute Error for a untransformed target feature. As we have log-linearized the target feature, the Mean Absolute Error in this case does not represent the mean difference in prediction we can expect from our model with respect to the actual value of the untransformed target variable, which we seek in this case in order to be able to interpret the quality of the model with respect how far it is from predicting the true price of a given Jazz album. To do so, we must exponentiate the predictions of our model and evaluate these with respect to the untransformed target feature values, which allows us to interpret the performance of the model in terms of mean deviation of the model from the actual album value using price as the denomination. This practice will be continued throughout this notebook, and will be key in evaluating whether or not our models can be said to be performant predictors of Jazz album value."
   ]
  },
  {
   "cell_type": "code",
   "execution_count": 25,
   "metadata": {
    "colab": {
     "base_uri": "https://localhost:8080/",
     "height": 35
    },
    "colab_type": "code",
    "id": "oSlFcMGawOsi",
    "outputId": "8f464647-2004-4af7-bfee-2ec4884569e8"
   },
   "outputs": [
    {
     "data": {
      "text/plain": [
       "-1.0587233407743923e-06"
      ]
     },
     "execution_count": 25,
     "metadata": {
      "tags": []
     },
     "output_type": "execute_result"
    }
   ],
   "source": [
    "r2_score(np.log(y_te),dummy_pred)"
   ]
  },
  {
   "cell_type": "code",
   "execution_count": 26,
   "metadata": {
    "colab": {
     "base_uri": "https://localhost:8080/",
     "height": 35
    },
    "colab_type": "code",
    "id": "B72oe-r3wOsl",
    "outputId": "56a9e257-a3d8-48b9-ab57-4437d71768e6"
   },
   "outputs": [
    {
     "data": {
      "text/plain": [
       "0.6728981566386801"
      ]
     },
     "execution_count": 26,
     "metadata": {
      "tags": []
     },
     "output_type": "execute_result"
    }
   ],
   "source": [
    "mean_absolute_error(np.log(y_te),dummy_pred)"
   ]
  },
  {
   "cell_type": "code",
   "execution_count": 27,
   "metadata": {
    "colab": {
     "base_uri": "https://localhost:8080/",
     "height": 35
    },
    "colab_type": "code",
    "id": "h-oMdqdnDUjz",
    "outputId": "f63ca9ef-207e-46eb-f649-1050f24dd73b"
   },
   "outputs": [
    {
     "data": {
      "text/plain": [
       "-0.07522413794080274"
      ]
     },
     "execution_count": 27,
     "metadata": {
      "tags": []
     },
     "output_type": "execute_result"
    }
   ],
   "source": [
    "dummy_r2 = r2_score(y_te,np.exp(dummy_pred))\n",
    "dummy_r2"
   ]
  },
  {
   "cell_type": "code",
   "execution_count": 28,
   "metadata": {
    "colab": {
     "base_uri": "https://localhost:8080/",
     "height": 35
    },
    "colab_type": "code",
    "id": "Gw0h8_hCC4x4",
    "outputId": "88602d56-5078-4ebf-8c1f-c1665deb8ca5"
   },
   "outputs": [
    {
     "data": {
      "text/plain": [
       "10.428558998483007"
      ]
     },
     "execution_count": 28,
     "metadata": {
      "tags": []
     },
     "output_type": "execute_result"
    }
   ],
   "source": [
    "dummy_mae = mean_absolute_error(y_te,np.exp(dummy_pred))\n",
    "dummy_mae"
   ]
  },
  {
   "cell_type": "markdown",
   "metadata": {
    "colab_type": "text",
    "id": "Jaxlunt2wOsv"
   },
   "source": [
    "## Model Roadmap\n",
    "In what follows, we will be attempting to predict the ``market_value`` of Jazz Album on the basis of their non-musical characteristics, using models built with the help of machine learning algorithms. For this analysis, we will be making use of the following machine learning algorithms to build our models:\n",
    "- Linear Regression\n",
    "- Ridge Regression\n",
    "- Random Forest\n",
    "- CatBoost\n",
    "\n",
    "In so doing, we will also try to identify the difference in predictive power that a model built with full-information, or all available features, has in comparison to a model built only using those features that are ostensibly available for evaluation by patrons of record stores. As such, we will be building two models each to predict ``market_value`` using the machine learning algorithms identified above, in order to test whether the information that record store patrons lack significantly inhibits their ability to make a prediction of the ``market_value`` of a given Jazz album."
   ]
  },
  {
   "cell_type": "markdown",
   "metadata": {
    "colab_type": "text",
    "id": "DPdcZGEowOsw"
   },
   "source": [
    "## Linear Regression\n",
    "For our first pair of models, we will use Linear Regression. Linear Regression is a simple model which lends itself well to quickly establishing a non-dummy baseline to better understand the possible performance of our final and preferred model. The ``cuml`` implementation of this estimator has few hyperparameters to tune, and is quick to build."
   ]
  },
  {
   "cell_type": "markdown",
   "metadata": {
    "colab_type": "text",
    "id": "DYJYPpPP-AaC"
   },
   "source": [
    "## Linear Regression - Record Store\n",
    "To build and evaluate our Linear Regression model for the 'Record Store' scenario, we will create a pipeline which applies the transformations necessary to prepare the dataset for the application of this algorithm.\n",
    "\n",
    "The processing pipeline follows the following steps:\n",
    "1. Encoding categorical features with high cardinality using Leave One Out Encoding\n",
    "    - In order to be able to benefit from the information encoded within the categorical features of ``artist``, ``label``, ``format_text``, ``format_name`` and ``master_id``, we make use of Leave One Out Encoding\n",
    "    - This approach to categorical feature encoding is beneficial for the purposes of this project as it helps keep the dimensionality of our dataset from exploding via similar techniques such as OneHotEncoding, while still being able to exploit the relationship between the given feature and the target variable\n",
    "    - Leave One Out Encoding effectively does so by calculating the mean of the target feature for all the records containing a given value for each categorical feature being encoded.\n",
    "2. Removing Unnecessary/Inappropriate Columns\n",
    "    - As has been outlined previously, in this step of our analysis, we aim to predict the ``market_value`` of a given Jazz album using only those non-musical attributes which are ostensibly available for evaluation by record store patrons\n",
    "    - As such, we remove those features pertaining to the Full Information scenario, as well as non-encoded features that will not be leveraged for estimation, such as 'track_titles' and 'thumb_url'\n",
    "3. Encoding of ``year``\n",
    "    - Following best practices, we one hot encode the ``year`` feature, in order to reinforce its status as a categorical, not numerical feature.\n",
    "4. Standardization\n",
    "    - Following best practices, we standardize the features use for predicting ``market_value``\n",
    "5. Normalization\n",
    "    - In order to speed up training time and mitigate the impact of scale differences on our results, we normalize the range of our features to lie between 0 and 1\n",
    "\n",
    "Finally, we construct the ``record_store_lr_pipe``, which applies the aforementioned transformation pipeline and the Linear Regression algorithm we have discussed previously. As the ``cuml`` implementation offers no relevant hyperparametesr to tune, we make use of the estimator as is. The use of GridSearch in the estimator is superfluous in this instance, as we are not searching over a hyperparameter space, but is useful for the natively supported cross validation, which we use to get an understanding of the performance of our model."
   ]
  },
  {
   "cell_type": "code",
   "execution_count": null,
   "metadata": {
    "colab": {},
    "colab_type": "code",
    "id": "sRH_P30fEM-W"
   },
   "outputs": [],
   "source": [
    "record_store_regression_removal_columns = set([\n",
    "    'market_price','units_for_sale','have','want','average_rating','rating_count','last_sold','lowest','median',\n",
    "    'highest','track_titles','country','genre','style','community_have','community_want','formats','thumb_url',\n",
    "    'release_url','format_description','title', 'release_id','master_id'\n",
    "])\n",
    "\n",
    "record_store_regression_transformer = ColumnTransformer(transformers=[\n",
    "  ('one_hot_encoding', OneHotEncoder(dtype=np.uint8,handle_unknown='ignore'), ['year']),\n",
    "], remainder='passthrough')\n",
    "\n",
    "record_store_regression_processing = Pipeline([\n",
    "    ('leave_one_out_encoding', LeaveOneOutEncoder(cols=['artist','label','format_text','master_id','format_name'])),\n",
    "    ('record_store_column_remover', ColumnRemover(record_store_regression_removal_columns)),\n",
    "    ('preprocessing',record_store_regression_transformer),\n",
    "    ('scaler', RobustScaler()),\n",
    "    ('normalize', MinMaxScaler())                \n",
    "])\n",
    "\n",
    "record_store_lr_pipe = Pipeline([\n",
    "    ('processing', record_store_regression_processing),\n",
    "    ('lr', GridSearchCV(\n",
    "        LinearRegression(),\n",
    "        param_grid={\n",
    "            'normalize': [False]\n",
    "        },\n",
    "        cv=KFold(n_splits=5,shuffle=True),\n",
    "        scoring='neg_mean_absolute_error',\n",
    "        verbose=5,\n",
    "        n_jobs=-1,\n",
    "    ))\n",
    "])"
   ]
  },
  {
   "cell_type": "code",
   "execution_count": 35,
   "metadata": {
    "colab": {
     "base_uri": "https://localhost:8080/",
     "height": 557
    },
    "colab_type": "code",
    "id": "0ymJQSm8RuUn",
    "outputId": "8164fc9e-4060-4a4e-ead7-43dd2068bdce"
   },
   "outputs": [
    {
     "name": "stdout",
     "output_type": "stream",
     "text": [
      "Fitting 5 folds for each of 1 candidates, totalling 5 fits\n"
     ]
    },
    {
     "name": "stderr",
     "output_type": "stream",
     "text": [
      "[Parallel(n_jobs=-1)]: Using backend LokyBackend with 4 concurrent workers.\n",
      "[Parallel(n_jobs=-1)]: Done   2 out of   5 | elapsed:    0.6s remaining:    0.9s\n",
      "[Parallel(n_jobs=-1)]: Done   5 out of   5 | elapsed:    0.8s finished\n",
      "/usr/local/lib/python3.6/site-packages/cuml/utils/input_utils.py:188: UserWarning: Expected column ('F') major order, but got the opposite. Converting data, this will result in additional memory utilization.\n",
      "  warnings.warn(\"Expected \" + order_to_str(order) + \" major order, \"\n"
     ]
    },
    {
     "data": {
      "text/plain": [
       "Pipeline(memory=None,\n",
       "         steps=[('processing',\n",
       "                 Pipeline(memory=None,\n",
       "                          steps=[('leave_one_out_encoding',\n",
       "                                  LeaveOneOutEncoder(cols=['artist', 'label',\n",
       "                                                           'format_text',\n",
       "                                                           'master_id',\n",
       "                                                           'format_name'],\n",
       "                                                     drop_invariant=False,\n",
       "                                                     handle_missing='value',\n",
       "                                                     handle_unknown='value',\n",
       "                                                     random_state=None,\n",
       "                                                     return_df=True, sigma=None,\n",
       "                                                     verbose=0)),\n",
       "                                 ('record_store_column_remover',\n",
       "                                  ColumnRemover(rem...\n",
       "                              estimator=LinearRegression(algorithm='eig', fit_intercept=True, normalize=False, handle=<cuml.common.handle.Handle object at 0x7fa0ee7ab0d0>, verbose=False, output_type='input'),\n",
       "                              iid='deprecated', n_jobs=-1,\n",
       "                              param_grid={'normalize': [False]},\n",
       "                              pre_dispatch='2*n_jobs', refit=True,\n",
       "                              return_train_score=False,\n",
       "                              scoring='neg_mean_absolute_error', verbose=5))],\n",
       "         verbose=False)"
      ]
     },
     "execution_count": 35,
     "metadata": {
      "tags": []
     },
     "output_type": "execute_result"
    }
   ],
   "source": [
    "record_store_lr_pipe.fit(X_tr,np.log(y_tr).values)"
   ]
  },
  {
   "cell_type": "code",
   "execution_count": 36,
   "metadata": {
    "colab": {
     "base_uri": "https://localhost:8080/",
     "height": 35
    },
    "colab_type": "code",
    "id": "bVqYCgf9EMzZ",
    "outputId": "d9f2cbdf-a805-42cb-ce22-28d14d016e84"
   },
   "outputs": [
    {
     "data": {
      "text/plain": [
       "-0.513374684559406"
      ]
     },
     "execution_count": 36,
     "metadata": {
      "tags": []
     },
     "output_type": "execute_result"
    }
   ],
   "source": [
    "record_store_lr_pipe.steps[-1][-1].best_score_"
   ]
  },
  {
   "cell_type": "markdown",
   "metadata": {
    "colab_type": "text",
    "id": "kEOfpr37wOs7"
   },
   "source": [
    "After performing grid search, we see that our model performs better than our baseline in terms of its negative mean absolute error, which we will now evaluate against the test set by exponentiating our model predictions in order to obtain a clearer picture of the scale of its error."
   ]
  },
  {
   "cell_type": "code",
   "execution_count": 37,
   "metadata": {
    "colab": {
     "base_uri": "https://localhost:8080/",
     "height": 73
    },
    "colab_type": "code",
    "id": "W6IhcYpqEMuK",
    "outputId": "b328dd6b-935d-44a9-e698-f1944bf8ed4e"
   },
   "outputs": [
    {
     "name": "stderr",
     "output_type": "stream",
     "text": [
      "/usr/local/lib/python3.6/site-packages/cuml/utils/input_utils.py:188: UserWarning: Expected column ('F') major order, but got the opposite. Converting data, this will result in additional memory utilization.\n",
      "  warnings.warn(\"Expected \" + order_to_str(order) + \" major order, \"\n"
     ]
    }
   ],
   "source": [
    "record_store_lr_pred = record_store_lr_pipe.predict(X_te)"
   ]
  },
  {
   "cell_type": "code",
   "execution_count": 38,
   "metadata": {
    "colab": {
     "base_uri": "https://localhost:8080/",
     "height": 35
    },
    "colab_type": "code",
    "id": "IVdPIxrzEMoC",
    "outputId": "510b1c41-70f9-4d8b-9a72-e75cc387835b"
   },
   "outputs": [
    {
     "data": {
      "text/plain": [
       "0.18309321085987595"
      ]
     },
     "execution_count": 38,
     "metadata": {
      "tags": []
     },
     "output_type": "execute_result"
    }
   ],
   "source": [
    "record_store_lr_r2 = r2_score(y_te,np.exp(record_store_lr_pred))\n",
    "record_store_lr_r2"
   ]
  },
  {
   "cell_type": "code",
   "execution_count": 39,
   "metadata": {
    "colab": {
     "base_uri": "https://localhost:8080/",
     "height": 35
    },
    "colab_type": "code",
    "id": "opzrKU8LE5DR",
    "outputId": "8a84d3f1-fd3c-4725-abfd-098ec9607d8d"
   },
   "outputs": [
    {
     "data": {
      "text/plain": [
       "8.355743842614748"
      ]
     },
     "execution_count": 39,
     "metadata": {
      "tags": []
     },
     "output_type": "execute_result"
    }
   ],
   "source": [
    "record_store_lr_mae = mean_absolute_error(y_te,np.exp(record_store_lr_pred))\n",
    "record_store_lr_mae"
   ]
  },
  {
   "cell_type": "markdown",
   "metadata": {
    "colab_type": "text",
    "id": "VJMy1wkkwOtG"
   },
   "source": [
    "In comparison to our baseline model, we see there has been a clear improvement in performance using the Linear Regression model, with the R2 venturing into positive territory and the mean absolute error decreasing by just over 2.5 USD. However, despite this improvement in performance, the linear regression model cannot be argued to be a reliable model in the prediction of Jazz album market value, with a very large deviation from the price of a given record and an altogether poor evaluation of its fit as per the R2. \n",
    "\n",
    "As a next step, we will investigate whether the inclusion of the Full Information suite of features will do anything to improve model performance for this algorithm."
   ]
  },
  {
   "cell_type": "markdown",
   "metadata": {
    "colab_type": "text",
    "id": "JwtgnOdrk1hP"
   },
   "source": [
    "## Linear Regression - Full Information\n",
    "In comparison to the previous model, we make only a small change to the pipeline that builds the Linear Regression model for the Full Information scenario. By retaining the features of ``unit_for_sale``, ``community_have``, ``community_want``, ``average_rating`` and ``rating_count``, we incorporate the broader scope of information available to us by using the Discogs.com platform information. In what follows, we attempt to identify whether this makes a substantive difference in the prediction of the ``market_value`` target feature for Jazz albums within the Linear Regression framework."
   ]
  },
  {
   "cell_type": "code",
   "execution_count": null,
   "metadata": {
    "colab": {},
    "colab_type": "code",
    "id": "lddHv-fzk1hX"
   },
   "outputs": [],
   "source": [
    "full_information_regression_transformer = ColumnTransformer(transformers=[\n",
    "    ('year_encoder', OneHotEncoder(dtype=np.uint8,handle_unknown='ignore'), ['year'])\n",
    "], remainder='passthrough')\n",
    "\n",
    "full_information_columns = set([\n",
    "    'units_for_sale','community_have','community_want','average_rating','rating_count'\n",
    "])\n",
    "full_information_regression_removal_columns = record_store_regression_removal_columns - full_information_columns\n",
    "\n",
    "full_information_regression_processing = Pipeline([\n",
    "    ('leave_one_out_encoding', LeaveOneOutEncoder(cols=['artist','label','format_text','master_id','format_name'])),\n",
    "    ('record_store_column_remover', ColumnRemover(full_information_regression_removal_columns)),\n",
    "    ('preprocessing',full_information_regression_transformer),\n",
    "    ('scaler', RobustScaler()),\n",
    "    ('normalize', MinMaxScaler())\n",
    "])\n",
    "\n",
    "full_information_lr_pipe = Pipeline([\n",
    "    ('processing', full_information_regression_processing),\n",
    "    ('lr', GridSearchCV(\n",
    "        LinearRegression(),\n",
    "        param_grid={\n",
    "            'normalize':[False,True]\n",
    "        },\n",
    "        cv=KFold(n_splits=5,shuffle=True),\n",
    "        scoring='neg_mean_absolute_error',\n",
    "        verbose=5,\n",
    "        n_jobs=-1,\n",
    "    ))\n",
    "])"
   ]
  },
  {
   "cell_type": "code",
   "execution_count": 42,
   "metadata": {
    "colab": {
     "base_uri": "https://localhost:8080/",
     "height": 557
    },
    "colab_type": "code",
    "id": "GIxWE4WUk1hb",
    "outputId": "86d9051e-1b83-4969-f469-32a30ac0dcde"
   },
   "outputs": [
    {
     "name": "stdout",
     "output_type": "stream",
     "text": [
      "Fitting 5 folds for each of 2 candidates, totalling 10 fits\n"
     ]
    },
    {
     "name": "stderr",
     "output_type": "stream",
     "text": [
      "[Parallel(n_jobs=-1)]: Using backend LokyBackend with 4 concurrent workers.\n",
      "[Parallel(n_jobs=-1)]: Done   6 out of  10 | elapsed:    1.0s remaining:    0.7s\n",
      "[Parallel(n_jobs=-1)]: Done  10 out of  10 | elapsed:    1.2s finished\n",
      "/usr/local/lib/python3.6/site-packages/cuml/utils/input_utils.py:188: UserWarning: Expected column ('F') major order, but got the opposite. Converting data, this will result in additional memory utilization.\n",
      "  warnings.warn(\"Expected \" + order_to_str(order) + \" major order, \"\n"
     ]
    },
    {
     "data": {
      "text/plain": [
       "Pipeline(memory=None,\n",
       "         steps=[('processing',\n",
       "                 Pipeline(memory=None,\n",
       "                          steps=[('leave_one_out_encoding',\n",
       "                                  LeaveOneOutEncoder(cols=['artist', 'label',\n",
       "                                                           'format_text',\n",
       "                                                           'master_id',\n",
       "                                                           'format_name'],\n",
       "                                                     drop_invariant=False,\n",
       "                                                     handle_missing='value',\n",
       "                                                     handle_unknown='value',\n",
       "                                                     random_state=None,\n",
       "                                                     return_df=True, sigma=None,\n",
       "                                                     verbose=0)),\n",
       "                                 ('record_store_column_remover',\n",
       "                                  ColumnRemover(rem...\n",
       "                              estimator=LinearRegression(algorithm='eig', fit_intercept=True, normalize=False, handle=<cuml.common.handle.Handle object at 0x7fa0ee6d38b0>, verbose=False, output_type='input'),\n",
       "                              iid='deprecated', n_jobs=-1,\n",
       "                              param_grid={'normalize': [False, True]},\n",
       "                              pre_dispatch='2*n_jobs', refit=True,\n",
       "                              return_train_score=False,\n",
       "                              scoring='neg_mean_absolute_error', verbose=5))],\n",
       "         verbose=False)"
      ]
     },
     "execution_count": 42,
     "metadata": {
      "tags": []
     },
     "output_type": "execute_result"
    }
   ],
   "source": [
    "full_information_lr_pipe.fit(X_tr,np.log(y_tr).values)"
   ]
  },
  {
   "cell_type": "code",
   "execution_count": 43,
   "metadata": {
    "colab": {
     "base_uri": "https://localhost:8080/",
     "height": 35
    },
    "colab_type": "code",
    "id": "zK4yVrywk1hf",
    "outputId": "94781132-2adb-4df9-a12d-d85cf4aef22a"
   },
   "outputs": [
    {
     "data": {
      "text/plain": [
       "-0.4799261463717226"
      ]
     },
     "execution_count": 43,
     "metadata": {
      "tags": []
     },
     "output_type": "execute_result"
    }
   ],
   "source": [
    "full_information_lr_pipe['lr'].best_score_"
   ]
  },
  {
   "cell_type": "markdown",
   "metadata": {
    "colab_type": "text",
    "id": "oIqje5QfwOtT"
   },
   "source": [
    "Compared to the results we obtained on the cross validation of the Linear Regression model under the Record Store scenario, we observe a small increase of around 0.05 in the negative mean absolute error. Next we will identify to what extent this improvement is reflected by evaluating our model on the test set."
   ]
  },
  {
   "cell_type": "code",
   "execution_count": 44,
   "metadata": {
    "colab": {
     "base_uri": "https://localhost:8080/",
     "height": 73
    },
    "colab_type": "code",
    "id": "lK9EGfANk1hk",
    "outputId": "ae7d95de-206e-43c7-ec18-74b465e862f8"
   },
   "outputs": [
    {
     "name": "stderr",
     "output_type": "stream",
     "text": [
      "/usr/local/lib/python3.6/site-packages/cuml/utils/input_utils.py:188: UserWarning: Expected column ('F') major order, but got the opposite. Converting data, this will result in additional memory utilization.\n",
      "  warnings.warn(\"Expected \" + order_to_str(order) + \" major order, \"\n"
     ]
    }
   ],
   "source": [
    "full_information_lr_pred = record_store_lr_pipe.predict(X_te)"
   ]
  },
  {
   "cell_type": "code",
   "execution_count": 45,
   "metadata": {
    "colab": {
     "base_uri": "https://localhost:8080/",
     "height": 35
    },
    "colab_type": "code",
    "id": "lSQPebt_k1hm",
    "outputId": "f0e5d648-a5d8-457c-ba92-9a27b7c331b3"
   },
   "outputs": [
    {
     "data": {
      "text/plain": [
       "0.18309321085987595"
      ]
     },
     "execution_count": 45,
     "metadata": {
      "tags": []
     },
     "output_type": "execute_result"
    }
   ],
   "source": [
    "full_information_lr_r2 = r2_score(y_te,np.exp(full_information_lr_pred))\n",
    "full_information_lr_r2"
   ]
  },
  {
   "cell_type": "code",
   "execution_count": 46,
   "metadata": {
    "colab": {
     "base_uri": "https://localhost:8080/",
     "height": 35
    },
    "colab_type": "code",
    "id": "sHCTKQZhk1hq",
    "outputId": "31b6f48d-780a-477d-e2d3-59c98b2b4e22"
   },
   "outputs": [
    {
     "data": {
      "text/plain": [
       "8.355743842614748"
      ]
     },
     "execution_count": 46,
     "metadata": {
      "tags": []
     },
     "output_type": "execute_result"
    }
   ],
   "source": [
    "full_information_lr_mae = mean_absolute_error(y_te,np.exp(full_information_lr_pred))\n",
    "full_information_lr_mae"
   ]
  },
  {
   "cell_type": "markdown",
   "metadata": {
    "colab_type": "text",
    "id": "P3iNwNMSwOtc"
   },
   "source": [
    "Comparing the results of the Record Store and Full Information scenarios, we see no improvement in the performance of the model on the held out test set, as the scores maintain the same values in each case."
   ]
  },
  {
   "cell_type": "markdown",
   "metadata": {
    "colab_type": "text",
    "id": "Qr2uI56yk1hu"
   },
   "source": [
    "## Ridge Regression\n",
    "The next algorithm we will consider in our attempt to predict the ``market_value`` of Jazz albums is the Ridge Regression. It is an offshoot algorithm of Linear Regression, differentiating itself by making use of L2 Regularization as a means of avoiding overfitting. Ridge Regression is often used as an alternative to Linear Regression, and is generally associated with stronger performances.\n",
    "\n",
    "## Ridge Regression - Record Store\n",
    "As Ridge Regression operates under the same constraints as Linear Regression, we can make use of the previously defined ``record_store_regression_processing`` pipeline in creating our Ridge Regression training and evaluation pipeline. In this case, we simply replace the Linear Regression in our GridSearchCV step with Ridge Regression, but now also search over the space of the ``alpha`` hyperparameter, which controls the regularization strength of the Ridge Regression algorithm."
   ]
  },
  {
   "cell_type": "code",
   "execution_count": null,
   "metadata": {
    "colab": {},
    "colab_type": "code",
    "id": "BP1pxaQ18arp"
   },
   "outputs": [],
   "source": [
    "record_store_ridge_pipe = Pipeline([\n",
    "    ('processing', record_store_regression_processing),\n",
    "    ('ridge', GridSearchCV(\n",
    "        Ridge(normalize=False,solver='eig'),\n",
    "        param_grid={\n",
    "            'alpha': np.logspace(-4,-1,10),\n",
    "        },\n",
    "        cv=KFold(n_splits=5,shuffle=True),\n",
    "        scoring='neg_mean_absolute_error',\n",
    "        verbose=5,\n",
    "        n_jobs=-1,\n",
    "        return_train_score=True\n",
    "    ))\n",
    "])"
   ]
  },
  {
   "cell_type": "code",
   "execution_count": 48,
   "metadata": {
    "colab": {
     "base_uri": "https://localhost:8080/",
     "height": 575
    },
    "colab_type": "code",
    "id": "edNLg2KryH4q",
    "outputId": "0b8597d5-6e3f-4cfe-b85c-694c66b6aa06"
   },
   "outputs": [
    {
     "name": "stdout",
     "output_type": "stream",
     "text": [
      "Fitting 5 folds for each of 10 candidates, totalling 50 fits\n"
     ]
    },
    {
     "name": "stderr",
     "output_type": "stream",
     "text": [
      "[Parallel(n_jobs=-1)]: Using backend LokyBackend with 4 concurrent workers.\n",
      "[Parallel(n_jobs=-1)]: Done  10 tasks      | elapsed:    1.7s\n",
      "[Parallel(n_jobs=-1)]: Done  50 out of  50 | elapsed:    6.4s finished\n",
      "/usr/local/lib/python3.6/site-packages/cuml/utils/input_utils.py:188: UserWarning: Expected column ('F') major order, but got the opposite. Converting data, this will result in additional memory utilization.\n",
      "  warnings.warn(\"Expected \" + order_to_str(order) + \" major order, \"\n"
     ]
    },
    {
     "data": {
      "text/plain": [
       "Pipeline(memory=None,\n",
       "         steps=[('processing',\n",
       "                 Pipeline(memory=None,\n",
       "                          steps=[('leave_one_out_encoding',\n",
       "                                  LeaveOneOutEncoder(cols=['artist', 'label',\n",
       "                                                           'format_text',\n",
       "                                                           'master_id',\n",
       "                                                           'format_name'],\n",
       "                                                     drop_invariant=False,\n",
       "                                                     handle_missing='value',\n",
       "                                                     handle_unknown='value',\n",
       "                                                     random_state=None,\n",
       "                                                     return_df=True, sigma=None,\n",
       "                                                     verbose=0)),\n",
       "                                 ('record_store_column_remover',\n",
       "                                  ColumnRemover(rem...\n",
       "                              estimator=Ridge(alpha=1.0, solver='eig', fit_intercept=True, normalize=False, handle=<cuml.common.handle.Handle object at 0x7fa0d195f110>, output_type='input'),\n",
       "                              iid='deprecated', n_jobs=-1,\n",
       "                              param_grid={'alpha': array([0.0001    , 0.00021544, 0.00046416, 0.001     , 0.00215443,\n",
       "       0.00464159, 0.01      , 0.02154435, 0.04641589, 0.1       ])},\n",
       "                              pre_dispatch='2*n_jobs', refit=True,\n",
       "                              return_train_score=True,\n",
       "                              scoring='neg_mean_absolute_error', verbose=5))],\n",
       "         verbose=False)"
      ]
     },
     "execution_count": 48,
     "metadata": {
      "tags": []
     },
     "output_type": "execute_result"
    }
   ],
   "source": [
    "record_store_ridge_pipe.fit(X_tr,np.log(y_tr).values)"
   ]
  },
  {
   "cell_type": "markdown",
   "metadata": {
    "colab_type": "text",
    "id": "imyqAF_W_B-S"
   },
   "source": [
    "In order to get a better sense of the manner in which the magnitude of the `alpha` hyperparameter impacts the Mean Absolute Error of the model, we use the GridSearchPlotter class, which plots the scores obtained over the range of hyperparameter values tested."
   ]
  },
  {
   "cell_type": "code",
   "execution_count": null,
   "metadata": {
    "colab": {},
    "colab_type": "code",
    "id": "z7tlJO3u-Tl4"
   },
   "outputs": [],
   "source": [
    "plotter = GridSearchPlotter(record_store_ridge_pipe['ridge'])"
   ]
  },
  {
   "cell_type": "code",
   "execution_count": 50,
   "metadata": {
    "colab": {
     "base_uri": "https://localhost:8080/",
     "height": 295
    },
    "colab_type": "code",
    "id": "jla1YIhr-TgT",
    "outputId": "69d2c885-d1af-4c17-9d3b-104bb7630d61"
   },
   "outputs": [
    {
     "data": {
      "image/png": "[encoded data removed]",
      "text/plain": [
       "<Figure size 432x288 with 1 Axes>"
      ]
     },
     "metadata": {
      "needs_background": "light",
      "tags": []
     },
     "output_type": "display_data"
    }
   ],
   "source": [
    "plotter.plot_validation_curve(parameter='alpha',ylim=(-0.75,-0.25))"
   ]
  },
  {
   "cell_type": "markdown",
   "metadata": {
    "colab_type": "text",
    "id": "qtex1Rgx-_H5"
   },
   "source": [
    "It seems that there is a negligible impact of changing the value of `alpha` on the mean absolute error performance of the ridge regression model."
   ]
  },
  {
   "cell_type": "code",
   "execution_count": 51,
   "metadata": {
    "colab": {
     "base_uri": "https://localhost:8080/",
     "height": 35
    },
    "colab_type": "code",
    "id": "cxR9zl4f-hk9",
    "outputId": "03eb66d2-4928-42be-e135-1722d5914353"
   },
   "outputs": [
    {
     "data": {
      "text/plain": [
       "-0.5125456060286719"
      ]
     },
     "execution_count": 51,
     "metadata": {
      "tags": []
     },
     "output_type": "execute_result"
    }
   ],
   "source": [
    "record_store_ridge_pipe['ridge'].best_score_"
   ]
  },
  {
   "cell_type": "code",
   "execution_count": 52,
   "metadata": {
    "colab": {
     "base_uri": "https://localhost:8080/",
     "height": 35
    },
    "colab_type": "code",
    "id": "cbV-3Q9A0-hi",
    "outputId": "6638de40-865e-43f2-e896-308bb7c98088"
   },
   "outputs": [
    {
     "data": {
      "text/plain": [
       "{'alpha': 0.1}"
      ]
     },
     "execution_count": 52,
     "metadata": {
      "tags": []
     },
     "output_type": "execute_result"
    }
   ],
   "source": [
    "record_store_ridge_pipe['ridge'].best_params_"
   ]
  },
  {
   "cell_type": "markdown",
   "metadata": {
    "colab_type": "text",
    "id": "clSH2fqX-8pS"
   },
   "source": [
    "As we see from the best score we obtain above, there seems to be a very minor improvement over the performance of the Linear Regression model treated previously. We will test whether this improvement extends to the test set below."
   ]
  },
  {
   "cell_type": "code",
   "execution_count": 53,
   "metadata": {
    "colab": {
     "base_uri": "https://localhost:8080/",
     "height": 73
    },
    "colab_type": "code",
    "id": "db1qMG0e8ar7",
    "outputId": "ad34cd68-e12f-4dc6-9210-0261bcccd59e"
   },
   "outputs": [
    {
     "name": "stderr",
     "output_type": "stream",
     "text": [
      "/usr/local/lib/python3.6/site-packages/cuml/utils/input_utils.py:188: UserWarning: Expected column ('F') major order, but got the opposite. Converting data, this will result in additional memory utilization.\n",
      "  warnings.warn(\"Expected \" + order_to_str(order) + \" major order, \"\n"
     ]
    }
   ],
   "source": [
    "record_store_ridge_pred = record_store_ridge_pipe.predict(X_te)"
   ]
  },
  {
   "cell_type": "code",
   "execution_count": 54,
   "metadata": {
    "colab": {
     "base_uri": "https://localhost:8080/",
     "height": 35
    },
    "colab_type": "code",
    "id": "GsQHxrUE8ar-",
    "outputId": "89994937-d8f3-43d1-8a31-e4190fbfffa3"
   },
   "outputs": [
    {
     "data": {
      "text/plain": [
       "0.18578988017590103"
      ]
     },
     "execution_count": 54,
     "metadata": {
      "tags": []
     },
     "output_type": "execute_result"
    }
   ],
   "source": [
    "record_store_ridge_r2 = r2_score(y_te,np.exp(record_store_ridge_pred))\n",
    "record_store_ridge_r2"
   ]
  },
  {
   "cell_type": "code",
   "execution_count": 55,
   "metadata": {
    "colab": {
     "base_uri": "https://localhost:8080/",
     "height": 35
    },
    "colab_type": "code",
    "id": "9oKBWYEo8asD",
    "outputId": "389829af-179e-4cca-fe94-4dd1968a6f34"
   },
   "outputs": [
    {
     "data": {
      "text/plain": [
       "8.347076431887459"
      ]
     },
     "execution_count": 55,
     "metadata": {
      "tags": []
     },
     "output_type": "execute_result"
    }
   ],
   "source": [
    "record_store_ridge_mae = mean_absolute_error(y_te,np.exp(record_store_ridge_pred))\n",
    "record_store_ridge_mae"
   ]
  },
  {
   "cell_type": "markdown",
   "metadata": {
    "colab_type": "text",
    "id": "KcuLdw-M-5w4"
   },
   "source": [
    "As we can see by comparing the R2 and Mean Absolute Error scores we obtain from evaluating our model predictions on the test set, there is a negligible improvement in model performance, which leads us to conclude that our regularization efforts are not effective in predicting ``market_value``."
   ]
  },
  {
   "cell_type": "markdown",
   "metadata": {
    "colab_type": "text",
    "id": "Cnmd7rIWk1iS"
   },
   "source": [
    "## Ridge - Full Information\n",
    "As for Linear Regression, we will now extend the analysis of the Ridge Regression to the Full Information case, using the same model preprocessing steps as we have done for the Linear Regression model."
   ]
  },
  {
   "cell_type": "code",
   "execution_count": null,
   "metadata": {
    "colab": {},
    "colab_type": "code",
    "id": "Rlb1Z8CEk1iT"
   },
   "outputs": [],
   "source": [
    "full_information_ridge_pipe = Pipeline([\n",
    "    ('processing', full_information_regression_processing),\n",
    "    ('ridge', GridSearchCV(\n",
    "        Ridge(normalize=False,solver='eig'),\n",
    "        param_grid={\n",
    "            'alpha': np.logspace(-4,-1,10),\n",
    "        },\n",
    "        cv=KFold(n_splits=5,shuffle=True),\n",
    "        scoring='neg_mean_absolute_error',\n",
    "        verbose=5,\n",
    "        n_jobs=-1,\n",
    "        return_train_score=True\n",
    "    ))\n",
    "])"
   ]
  },
  {
   "cell_type": "code",
   "execution_count": 57,
   "metadata": {
    "colab": {
     "base_uri": "https://localhost:8080/",
     "height": 575
    },
    "colab_type": "code",
    "id": "6CSH5O1jk1iX",
    "outputId": "45e39f89-c3f9-403e-8a23-27076c841364"
   },
   "outputs": [
    {
     "name": "stdout",
     "output_type": "stream",
     "text": [
      "Fitting 5 folds for each of 10 candidates, totalling 50 fits\n"
     ]
    },
    {
     "name": "stderr",
     "output_type": "stream",
     "text": [
      "[Parallel(n_jobs=-1)]: Using backend LokyBackend with 4 concurrent workers.\n",
      "[Parallel(n_jobs=-1)]: Done  10 tasks      | elapsed:    1.7s\n",
      "[Parallel(n_jobs=-1)]: Done  50 out of  50 | elapsed:    6.0s finished\n",
      "/usr/local/lib/python3.6/site-packages/cuml/utils/input_utils.py:188: UserWarning: Expected column ('F') major order, but got the opposite. Converting data, this will result in additional memory utilization.\n",
      "  warnings.warn(\"Expected \" + order_to_str(order) + \" major order, \"\n"
     ]
    },
    {
     "data": {
      "text/plain": [
       "Pipeline(memory=None,\n",
       "         steps=[('processing',\n",
       "                 Pipeline(memory=None,\n",
       "                          steps=[('leave_one_out_encoding',\n",
       "                                  LeaveOneOutEncoder(cols=['artist', 'label',\n",
       "                                                           'format_text',\n",
       "                                                           'master_id',\n",
       "                                                           'format_name'],\n",
       "                                                     drop_invariant=False,\n",
       "                                                     handle_missing='value',\n",
       "                                                     handle_unknown='value',\n",
       "                                                     random_state=None,\n",
       "                                                     return_df=True, sigma=None,\n",
       "                                                     verbose=0)),\n",
       "                                 ('record_store_column_remover',\n",
       "                                  ColumnRemover(rem...\n",
       "                              estimator=Ridge(alpha=1.0, solver='eig', fit_intercept=True, normalize=False, handle=<cuml.common.handle.Handle object at 0x7fa0f808cbf0>, output_type='input'),\n",
       "                              iid='deprecated', n_jobs=-1,\n",
       "                              param_grid={'alpha': array([0.0001    , 0.00021544, 0.00046416, 0.001     , 0.00215443,\n",
       "       0.00464159, 0.01      , 0.02154435, 0.04641589, 0.1       ])},\n",
       "                              pre_dispatch='2*n_jobs', refit=True,\n",
       "                              return_train_score=True,\n",
       "                              scoring='neg_mean_absolute_error', verbose=5))],\n",
       "         verbose=False)"
      ]
     },
     "execution_count": 57,
     "metadata": {
      "tags": []
     },
     "output_type": "execute_result"
    }
   ],
   "source": [
    "full_information_ridge_pipe.fit(X_tr,np.log(y_tr).values)"
   ]
  },
  {
   "cell_type": "code",
   "execution_count": null,
   "metadata": {
    "colab": {},
    "colab_type": "code",
    "id": "yGvB5HQEk1ib"
   },
   "outputs": [],
   "source": [
    "plotter = GridSearchPlotter(full_information_ridge_pipe['ridge'])"
   ]
  },
  {
   "cell_type": "code",
   "execution_count": 59,
   "metadata": {
    "colab": {
     "base_uri": "https://localhost:8080/",
     "height": 295
    },
    "colab_type": "code",
    "id": "FALIex5Ak1ie",
    "outputId": "121191d4-04c1-4738-fc3d-eb6cc916fca4"
   },
   "outputs": [
    {
     "data": {
      "image/png": "[encoded data removed]",
      "text/plain": [
       "<Figure size 432x288 with 1 Axes>"
      ]
     },
     "metadata": {
      "needs_background": "light",
      "tags": []
     },
     "output_type": "display_data"
    }
   ],
   "source": [
    "plotter.plot_validation_curve(parameter='alpha',ylim=(-0.75,-0.25))"
   ]
  },
  {
   "cell_type": "code",
   "execution_count": 60,
   "metadata": {
    "colab": {
     "base_uri": "https://localhost:8080/",
     "height": 35
    },
    "colab_type": "code",
    "id": "JFbucWgVk1ih",
    "outputId": "6c0b710f-fc18-4842-e4ae-38a3814afcc6"
   },
   "outputs": [
    {
     "data": {
      "text/plain": [
       "-0.4794212980603689"
      ]
     },
     "execution_count": 60,
     "metadata": {
      "tags": []
     },
     "output_type": "execute_result"
    }
   ],
   "source": [
    "full_information_ridge_pipe['ridge'].best_score_"
   ]
  },
  {
   "cell_type": "code",
   "execution_count": 61,
   "metadata": {
    "colab": {
     "base_uri": "https://localhost:8080/",
     "height": 35
    },
    "colab_type": "code",
    "id": "DmY50t1kk1iz",
    "outputId": "38fd670e-88ea-4005-9509-b9096cecfeeb"
   },
   "outputs": [
    {
     "data": {
      "text/plain": [
       "{'alpha': 0.0001}"
      ]
     },
     "execution_count": 61,
     "metadata": {
      "tags": []
     },
     "output_type": "execute_result"
    }
   ],
   "source": [
    "full_information_ridge_pipe['ridge'].best_params_"
   ]
  },
  {
   "cell_type": "code",
   "execution_count": 62,
   "metadata": {
    "colab": {
     "base_uri": "https://localhost:8080/",
     "height": 73
    },
    "colab_type": "code",
    "id": "IPsBz9Yhk1i1",
    "outputId": "9bc8a14e-e0c3-4a15-944b-56d9826fb527"
   },
   "outputs": [
    {
     "name": "stderr",
     "output_type": "stream",
     "text": [
      "/usr/local/lib/python3.6/site-packages/cuml/utils/input_utils.py:188: UserWarning: Expected column ('F') major order, but got the opposite. Converting data, this will result in additional memory utilization.\n",
      "  warnings.warn(\"Expected \" + order_to_str(order) + \" major order, \"\n"
     ]
    }
   ],
   "source": [
    "full_information_ridge_pred = full_information_ridge_pipe.predict(X_te)"
   ]
  },
  {
   "cell_type": "code",
   "execution_count": 63,
   "metadata": {
    "colab": {
     "base_uri": "https://localhost:8080/",
     "height": 35
    },
    "colab_type": "code",
    "id": "KfoM7GS6k1i4",
    "outputId": "4431d91a-0def-482e-cf6d-47892a412e0d"
   },
   "outputs": [
    {
     "data": {
      "text/plain": [
       "-199.826621565764"
      ]
     },
     "execution_count": 63,
     "metadata": {
      "tags": []
     },
     "output_type": "execute_result"
    }
   ],
   "source": [
    "full_information_ridge_r2 = r2_score(y_te,np.exp(full_information_ridge_pred))\n",
    "full_information_ridge_r2 "
   ]
  },
  {
   "cell_type": "code",
   "execution_count": 64,
   "metadata": {
    "colab": {
     "base_uri": "https://localhost:8080/",
     "height": 35
    },
    "colab_type": "code",
    "id": "uNXNcesPk1i6",
    "outputId": "d900f415-7ebf-4278-a93a-efca17dc7c9e"
   },
   "outputs": [
    {
     "data": {
      "text/plain": [
       "10.55001206738623"
      ]
     },
     "execution_count": 64,
     "metadata": {
      "tags": []
     },
     "output_type": "execute_result"
    }
   ],
   "source": [
    "full_information_ridge_mae = mean_absolute_error(y_te,np.exp(full_information_ridge_pred))\n",
    "full_information_ridge_mae"
   ]
  },
  {
   "cell_type": "markdown",
   "metadata": {
    "colab_type": "text",
    "id": "P0-jNats_MAI"
   },
   "source": [
    "With full information using the Ridge Regression approach, we observe the best performance in predicting ``market_value``, but the gains continue to be marginal at best for Mean Absolute Error. It seems that under the standard regression-based approach, we cannot predict ``market_value`` effectively using record store meta-attributes, even when augmented with Discogs.com platform data."
   ]
  },
  {
   "cell_type": "markdown",
   "metadata": {
    "colab_type": "text",
    "id": "fbreYK1X8asG"
   },
   "source": [
    "## Random Forest\n",
    "Having obtained wanting results using standard linear regression-based approaches, we will now try the Random Forest approach in order to predict ``market_value``. Random Forests are powerful algorithms that often perform better than standard regression-based approaches. However, it has been noted that Random Forests can at times have difficulties in accurately predicting outlier values. While we have tried to remove outliers as much as possible, our dataset continues to be defined by a high degree of variation, and as a result even this more sophisticated algorithm may run into issues in improving on the performance of the regression-based approaches outlined previously. \n",
    "## Random Forest - Record Store\n",
    "In preparing the data for prediction with a Random Forest based model, we have to make some adjustments to our preprocessing pipeline. Firstly, we increase the scope of the features we encode via the Leave One Out method, as it keeps the dimensionality of our processed dataset lower. This is important, as high dimensionality can result in poor performance for Random Forest based models. As such, we elect to encode features we had previously dummy encoded, such as ``year``, ``country`` and ``format_name``, using the aforementioned Leave One Out encoding method. The columns that are removed from the dataset are thus adjusted to reflect this change in method.\n",
    "\n",
    "Additionally, we cast the data to the ``np.float32`` datatype, as this is a strict requirement of the ``cuml`` RandomForestRegressor estimator."
   ]
  },
  {
   "cell_type": "code",
   "execution_count": null,
   "metadata": {
    "colab": {},
    "colab_type": "code",
    "id": "McTksN6VGPnv"
   },
   "outputs": [],
   "source": [
    "record_store_random_forest_removal_columns = [\n",
    "    'market_price','units_for_sale','have','want','average_rating','rating_count','last_sold','lowest','median',\n",
    "    'highest','track_titles','country','genre','style','community_have','community_want','formats','thumb_url',\n",
    "    'release_url','format_description','title','release_id'\n",
    "]\n",
    "record_store_random_forest_removal_columns.extend(\n",
    "    column_store._indicator\n",
    ")\n",
    "record_store_random_forest_removal_columns = set(record_store_random_forest_removal_columns)"
   ]
  },
  {
   "cell_type": "code",
   "execution_count": null,
   "metadata": {
    "colab": {},
    "colab_type": "code",
    "id": "BPf-IJfD8asO"
   },
   "outputs": [],
   "source": [
    "record_store_random_forest_preprocessing_pipe = Pipeline([\n",
    "    ('leave_one_out_encoding', LeaveOneOutEncoder(cols=['artist','label','format_text','format_name','master_id','year','country'])),\n",
    "    ('record_store_column_remover', ColumnRemover(record_store_random_forest_removal_columns)),\n",
    "    ('cast_to_32', FunctionTransformer(func=lambda x: x.astype(np.float32).values))\n",
    "])\n",
    "\n",
    "random_forest = RandomForestRegressor()\n",
    "\n",
    "record_store_random_forest_search_pipe = Pipeline([\n",
    "    ('preprocessing',record_store_random_forest_preprocessing_pipe),\n",
    "    ('grid_search', GridSearchCV(\n",
    "        random_forest,\n",
    "        cv=KFold(n_splits=5,shuffle=True),\n",
    "        param_grid={\n",
    "            'n_estimators': np.linspace(10,150,5).astype(int)\n",
    "        },\n",
    "        verbose=50,\n",
    "        scoring='neg_mean_absolute_error',\n",
    "        n_jobs=-1,\n",
    "        return_train_score=True\n",
    "    ))\n",
    "])\n",
    "\n",
    "record_store_random_forest_pipe = Pipeline([\n",
    "    ('preprocessing',record_store_random_forest_preprocessing_pipe),\n",
    "    ('random_forest',random_forest)\n",
    "])"
   ]
  },
  {
   "cell_type": "code",
   "execution_count": 67,
   "metadata": {
    "colab": {
     "base_uri": "https://localhost:8080/",
     "height": 1000
    },
    "colab_type": "code",
    "id": "l97EbEPB8asR",
    "outputId": "06181d66-148e-435d-e18f-bb8df91ef2b9"
   },
   "outputs": [
    {
     "name": "stdout",
     "output_type": "stream",
     "text": [
      "Fitting 5 folds for each of 5 candidates, totalling 25 fits\n",
      "[Parallel(n_jobs=-1)]: Using backend LokyBackend with 4 concurrent workers.\n",
      "[Parallel(n_jobs=-1)]: Done   1 tasks      | elapsed:    1.7s\n",
      "[Parallel(n_jobs=-1)]: Done   2 tasks      | elapsed:    1.8s\n",
      "[Parallel(n_jobs=-1)]: Done   3 tasks      | elapsed:    1.8s\n",
      "[Parallel(n_jobs=-1)]: Done   4 tasks      | elapsed:    1.9s\n",
      "[Parallel(n_jobs=-1)]: Done   5 tasks      | elapsed:    3.2s\n",
      "[Parallel(n_jobs=-1)]: Done   6 tasks      | elapsed:    8.7s\n",
      "[Parallel(n_jobs=-1)]: Done   7 tasks      | elapsed:    8.8s\n",
      "[Parallel(n_jobs=-1)]: Done   8 tasks      | elapsed:    8.9s\n",
      "[Parallel(n_jobs=-1)]: Done   9 tasks      | elapsed:    9.2s\n",
      "[Parallel(n_jobs=-1)]: Done  10 tasks      | elapsed:   15.0s\n",
      "[Parallel(n_jobs=-1)]: Done  11 tasks      | elapsed:   20.7s\n",
      "[Parallel(n_jobs=-1)]: Done  12 tasks      | elapsed:   20.7s\n"
     ]
    },
    {
     "name": "stderr",
     "output_type": "stream",
     "text": [
      "/usr/local/lib/python3.6/dist-packages/joblib/externals/loky/process_executor.py:691: UserWarning: A worker stopped while some jobs were given to the executor. This can be caused by a too short worker timeout or by a memory leak.\n",
      "  \"timeout or by a memory leak.\", UserWarning\n"
     ]
    },
    {
     "name": "stdout",
     "output_type": "stream",
     "text": [
      "[Parallel(n_jobs=-1)]: Done  13 tasks      | elapsed:   21.3s\n",
      "[Parallel(n_jobs=-1)]: Done  14 tasks      | elapsed:   22.6s\n",
      "[Parallel(n_jobs=-1)]: Done  15 tasks      | elapsed:   27.4s\n",
      "[Parallel(n_jobs=-1)]: Done  16 tasks      | elapsed:   31.4s\n",
      "[Parallel(n_jobs=-1)]: Done  17 tasks      | elapsed:   37.7s\n",
      "[Parallel(n_jobs=-1)]: Done  18 tasks      | elapsed:   39.5s\n",
      "[Parallel(n_jobs=-1)]: Done  19 out of  25 | elapsed:   45.9s remaining:   14.5s\n",
      "[Parallel(n_jobs=-1)]: Done  20 out of  25 | elapsed:   52.1s remaining:   13.0s\n",
      "[Parallel(n_jobs=-1)]: Done  21 out of  25 | elapsed:   58.4s remaining:   11.1s\n",
      "[Parallel(n_jobs=-1)]: Done  22 out of  25 | elapsed:  1.0min remaining:    8.2s\n",
      "[Parallel(n_jobs=-1)]: Done  23 out of  25 | elapsed:  1.1min remaining:    5.5s\n",
      "[Parallel(n_jobs=-1)]: Done  25 out of  25 | elapsed:  1.2min remaining:    0.0s\n",
      "[Parallel(n_jobs=-1)]: Done  25 out of  25 | elapsed:  1.2min finished\n"
     ]
    },
    {
     "name": "stderr",
     "output_type": "stream",
     "text": [
      "/usr/local/lib/python3.6/site-packages/cuml/utils/input_utils.py:188: UserWarning: Expected column ('F') major order, but got the opposite. Converting data, this will result in additional memory utilization.\n",
      "  warnings.warn(\"Expected \" + order_to_str(order) + \" major order, \"\n"
     ]
    },
    {
     "data": {
      "text/plain": [
       "Pipeline(memory=None,\n",
       "         steps=[('preprocessing',\n",
       "                 Pipeline(memory=None,\n",
       "                          steps=[('leave_one_out_encoding',\n",
       "                                  LeaveOneOutEncoder(cols=['artist', 'label',\n",
       "                                                           'format_text',\n",
       "                                                           'format_name',\n",
       "                                                           'master_id', 'year',\n",
       "                                                           'country'],\n",
       "                                                     drop_invariant=False,\n",
       "                                                     handle_missing='value',\n",
       "                                                     handle_unknown='value',\n",
       "                                                     random_state=None,\n",
       "                                                     return_df=True, sigma=None,\n",
       "                                                     verbose=0)),\n",
       "                                 ('record_store_column_remove...\n",
       "                              estimator=RandomForestRegressor(n_estimators=100, max_depth=16, handle=<cuml.common.handle.Handle object at 0x7fa0f23f2750>, max_features='auto', n_bins=8, n_streams=8, split_algo=1, split_criterion=2, bootstrap=True, bootstrap_features=False, verbose=False, min_rows_per_node=2, rows_sample=1.0, max_leaves=-1, accuracy_metric='mse', output_type='input', min_impurity_decrease=0.0, quantile_per_tree=False, seed=None),\n",
       "                              iid='deprecated', n_jobs=-1,\n",
       "                              param_grid={'n_estimators': array([ 10,  45,  80, 115, 150])},\n",
       "                              pre_dispatch='2*n_jobs', refit=True,\n",
       "                              return_train_score=True,\n",
       "                              scoring='neg_mean_absolute_error', verbose=50))],\n",
       "         verbose=False)"
      ]
     },
     "execution_count": 67,
     "metadata": {
      "tags": []
     },
     "output_type": "execute_result"
    }
   ],
   "source": [
    "record_store_random_forest_search_pipe.fit(X_tr_sample,np.log(y_tr_sample).values.astype(np.float32))"
   ]
  },
  {
   "cell_type": "code",
   "execution_count": 68,
   "metadata": {
    "colab": {
     "base_uri": "https://localhost:8080/",
     "height": 296
    },
    "colab_type": "code",
    "id": "2awntfVd_nAJ",
    "outputId": "3460ae0d-163e-4d1f-bb11-e8688eeaad46"
   },
   "outputs": [
    {
     "data": {
      "image/png": "[encoded data removed]",
      "text/plain": [
       "<Figure size 432x288 with 1 Axes>"
      ]
     },
     "metadata": {
      "needs_background": "light",
      "tags": []
     },
     "output_type": "display_data"
    }
   ],
   "source": [
    "record_store_random_forest_plotter = GridSearchPlotter(record_store_random_forest_search_pipe.steps[-1][1])\n",
    "record_store_random_forest_plotter.plot_validation_curve(parameter='n_estimators',ylim=(-1,0))"
   ]
  },
  {
   "cell_type": "code",
   "execution_count": 69,
   "metadata": {
    "colab": {
     "base_uri": "https://localhost:8080/",
     "height": 35
    },
    "colab_type": "code",
    "id": "kIzLmO8Bzkdr",
    "outputId": "cd1ddb54-9560-4f75-9001-805535ba5540"
   },
   "outputs": [
    {
     "data": {
      "text/plain": [
       "-0.17291705906391144"
      ]
     },
     "execution_count": 69,
     "metadata": {
      "tags": []
     },
     "output_type": "execute_result"
    }
   ],
   "source": [
    "record_store_random_forest_search_pipe.steps[-1][1].best_score_"
   ]
  },
  {
   "cell_type": "code",
   "execution_count": 70,
   "metadata": {
    "colab": {
     "base_uri": "https://localhost:8080/",
     "height": 35
    },
    "colab_type": "code",
    "id": "1Jh6GfwRzk2n",
    "outputId": "f924c5e7-3f8e-47b2-ce64-e99ea4c3d286"
   },
   "outputs": [
    {
     "data": {
      "text/plain": [
       "{'n_estimators': 150}"
      ]
     },
     "execution_count": 70,
     "metadata": {
      "tags": []
     },
     "output_type": "execute_result"
    }
   ],
   "source": [
    "record_store_random_forest_search_pipe.steps[-1][1].best_params_"
   ]
  },
  {
   "cell_type": "markdown",
   "metadata": {
    "colab_type": "text",
    "id": "Xyr-Uhf2_R4c"
   },
   "source": [
    "After tuning hyperparameters using GridSearchCV and GridSearchPlotter, we obtain excellent results using the Random Forest, with the best score obtained yielding a more than 50% reduction in the magnitude of the mean absolute error we had obtained for previous models. Accordingly, we will train the algorithm on the total dataset, and then evaluate the resulting model on the test set."
   ]
  },
  {
   "cell_type": "code",
   "execution_count": 71,
   "metadata": {
    "colab": {
     "base_uri": "https://localhost:8080/",
     "height": 395
    },
    "colab_type": "code",
    "id": "7HMokfJnMYzZ",
    "outputId": "9140a41d-292d-4491-b17e-39001a27e645"
   },
   "outputs": [
    {
     "name": "stderr",
     "output_type": "stream",
     "text": [
      "/usr/local/lib/python3.6/site-packages/cuml/utils/input_utils.py:188: UserWarning: Expected column ('F') major order, but got the opposite. Converting data, this will result in additional memory utilization.\n",
      "  warnings.warn(\"Expected \" + order_to_str(order) + \" major order, \"\n"
     ]
    },
    {
     "data": {
      "text/plain": [
       "Pipeline(memory=None,\n",
       "         steps=[('preprocessing',\n",
       "                 Pipeline(memory=None,\n",
       "                          steps=[('leave_one_out_encoding',\n",
       "                                  LeaveOneOutEncoder(cols=['artist', 'label',\n",
       "                                                           'format_text',\n",
       "                                                           'format_name',\n",
       "                                                           'master_id', 'year',\n",
       "                                                           'country'],\n",
       "                                                     drop_invariant=False,\n",
       "                                                     handle_missing='value',\n",
       "                                                     handle_unknown='value',\n",
       "                                                     random_state=None,\n",
       "                                                     return_df=True, sigma=None,\n",
       "                                                     verbose=0)),\n",
       "                                 ('record_store_column_remove...\n",
       "                 RandomForestRegressor(n_estimators=100, max_depth=16, handle=<cuml.common.handle.Handle object at 0x7fa0f23f2750>, max_features='auto', n_bins=8, n_streams=8, split_algo=1, split_criterion=2, bootstrap=True, bootstrap_features=False, verbose=False, min_rows_per_node=2, rows_sample=1.0, max_leaves=-1, accuracy_metric='mse', output_type='numpy', min_impurity_decrease=0.0, quantile_per_tree=False, seed=None))],\n",
       "         verbose=False)"
      ]
     },
     "execution_count": 71,
     "metadata": {
      "tags": []
     },
     "output_type": "execute_result"
    }
   ],
   "source": [
    "record_store_random_forest_pipe.fit(X_tr,np.log(y_tr).values.astype(np.float32))"
   ]
  },
  {
   "cell_type": "code",
   "execution_count": 72,
   "metadata": {
    "colab": {
     "base_uri": "https://localhost:8080/",
     "height": 73
    },
    "colab_type": "code",
    "id": "VrdorFhMMe2P",
    "outputId": "ca02ac52-c4de-4aa2-9f48-e269c0a0c792"
   },
   "outputs": [
    {
     "name": "stderr",
     "output_type": "stream",
     "text": [
      "/usr/local/lib/python3.6/site-packages/cuml/utils/input_utils.py:188: UserWarning: Expected row ('C') major order, but got the opposite. Converting data, this will result in additional memory utilization.\n",
      "  warnings.warn(\"Expected \" + order_to_str(order) + \" major order, \"\n"
     ]
    }
   ],
   "source": [
    "record_store_random_forest_te_pred = record_store_random_forest_pipe.predict(X_te)"
   ]
  },
  {
   "cell_type": "code",
   "execution_count": 73,
   "metadata": {
    "colab": {
     "base_uri": "https://localhost:8080/",
     "height": 35
    },
    "colab_type": "code",
    "id": "y1Ko_cUBMoEy",
    "outputId": "0c10f509-7e25-4eff-ed29-3830abfe9953"
   },
   "outputs": [
    {
     "data": {
      "text/plain": [
       "-0.10451197752681418"
      ]
     },
     "execution_count": 73,
     "metadata": {
      "tags": []
     },
     "output_type": "execute_result"
    }
   ],
   "source": [
    "record_store_ridge_r2 = r2_score(y_te,np.exp(record_store_random_forest_te_pred))\n",
    "record_store_ridge_r2"
   ]
  },
  {
   "cell_type": "code",
   "execution_count": 74,
   "metadata": {
    "colab": {
     "base_uri": "https://localhost:8080/",
     "height": 35
    },
    "colab_type": "code",
    "id": "R3cCwv8t0E4R",
    "outputId": "f381bb72-fb4c-488c-e867-df49d3b5cb28"
   },
   "outputs": [
    {
     "data": {
      "text/plain": [
       "10.494488562993837"
      ]
     },
     "execution_count": 74,
     "metadata": {
      "tags": []
     },
     "output_type": "execute_result"
    }
   ],
   "source": [
    "record_store_ridge_mae = mean_absolute_error(y_te,np.exp(record_store_random_forest_te_pred))\n",
    "record_store_ridge_mae"
   ]
  },
  {
   "cell_type": "markdown",
   "metadata": {
    "colab_type": "text",
    "id": "sQB6mGI3MN7g"
   },
   "source": [
    "Unfortunately, it seems that when applying the Random Forest algorithm we are not able to replicate the results we obtained in cross validation. The reason for this mismatch is unclear. Unfortunately, the very strong scores on the validation set cannot be reproduced on the test set. After having run multiple tests with different randomly selected test sets, this result continues to hold. This result also holds for when the cross validation is run over the entire training dataset, which implies that this odd mismatch is not retraceable to our choice of deciding to use a smaller sample of the training dataset for cross validation purposes.\n",
    "Putting the odd results in cross validation aside, which may be a quirk of the ``cuml`` library, it is clear from our results that the Random Forest does not perform well at all for our data. This is likely due to the fact that our data is highly unique across samples, which makes it difficult for the bagging approach of the Random Forest model to draw accurate decision-based inferences on the data.\n"
   ]
  },
  {
   "cell_type": "markdown",
   "metadata": {
    "colab_type": "text",
    "id": "gJZdJtJbk1jW"
   },
   "source": [
    "## Random Forest - Full Information\n",
    "Having tested the performance of the Random Forest in the Record Store scenario, we now turn our attention to the Full Information scenario. Given the small delta in performance we have observed between these scenarios for previous models, and the poor performance of the Random Forest model in the Record Store scenario, it is unlikely that we will see a significant improvement in performance."
   ]
  },
  {
   "cell_type": "code",
   "execution_count": null,
   "metadata": {
    "colab": {},
    "colab_type": "code",
    "id": "yQGDq3REk1jW"
   },
   "outputs": [],
   "source": [
    "full_information_random_forest_removal_columns = record_store_random_forest_removal_columns - full_information_columns"
   ]
  },
  {
   "cell_type": "code",
   "execution_count": null,
   "metadata": {
    "colab": {},
    "colab_type": "code",
    "id": "zuNSCmnTk1jd"
   },
   "outputs": [],
   "source": [
    "full_information_random_forest_preprocessing_pipe = Pipeline([\n",
    "    ('leave_one_out_encoding', LeaveOneOutEncoder(cols=['artist','label','format_text','format_name','master_id','year','country'])),\n",
    "    ('record_store_column_remover', ColumnRemover(full_information_random_forest_removal_columns)),\n",
    "    ('cast_to_32', FunctionTransformer(func=lambda x: x.astype(np.float32).values))\n",
    "])\n",
    "\n",
    "full_information_random_forest_search_pipe = Pipeline([\n",
    "    ('preprocessing',full_information_random_forest_preprocessing_pipe),\n",
    "    ('grid_search', GridSearchCV(\n",
    "        random_forest,\n",
    "        cv=KFold(n_splits=5,shuffle=True),\n",
    "        param_grid={\n",
    "            'n_estimators': np.linspace(10,200,5).astype(int)\n",
    "        },\n",
    "        verbose=50,\n",
    "        scoring='neg_mean_absolute_error',\n",
    "        n_jobs=-1,\n",
    "        return_train_score=True\n",
    "    ))\n",
    "])\n",
    "\n",
    "full_information_random_forest_pipe = Pipeline([\n",
    "    ('preprocessing',full_information_random_forest_preprocessing_pipe),\n",
    "    ('random_forest',random_forest)\n",
    "])"
   ]
  },
  {
   "cell_type": "code",
   "execution_count": 79,
   "metadata": {
    "colab": {
     "base_uri": "https://localhost:8080/",
     "height": 1000
    },
    "colab_type": "code",
    "id": "lOo-_NUFk1jg",
    "outputId": "3555e389-8c9c-4add-f6f5-8cb89ccba284"
   },
   "outputs": [
    {
     "name": "stdout",
     "output_type": "stream",
     "text": [
      "Fitting 5 folds for each of 5 candidates, totalling 25 fits\n",
      "[Parallel(n_jobs=-1)]: Using backend LokyBackend with 4 concurrent workers.\n",
      "[Parallel(n_jobs=-1)]: Done   1 tasks      | elapsed:    1.1s\n",
      "[Parallel(n_jobs=-1)]: Done   2 tasks      | elapsed:    1.5s\n",
      "[Parallel(n_jobs=-1)]: Done   3 tasks      | elapsed:    1.5s\n",
      "[Parallel(n_jobs=-1)]: Done   4 tasks      | elapsed:    1.9s\n",
      "[Parallel(n_jobs=-1)]: Done   5 tasks      | elapsed:    6.7s\n",
      "[Parallel(n_jobs=-1)]: Done   6 tasks      | elapsed:    9.4s\n",
      "[Parallel(n_jobs=-1)]: Done   7 tasks      | elapsed:    9.4s\n"
     ]
    },
    {
     "name": "stderr",
     "output_type": "stream",
     "text": [
      "/usr/local/lib/python3.6/dist-packages/joblib/externals/loky/process_executor.py:691: UserWarning: A worker stopped while some jobs were given to the executor. This can be caused by a too short worker timeout or by a memory leak.\n",
      "  \"timeout or by a memory leak.\", UserWarning\n"
     ]
    },
    {
     "name": "stdout",
     "output_type": "stream",
     "text": [
      "[Parallel(n_jobs=-1)]: Done   8 tasks      | elapsed:   10.3s\n",
      "[Parallel(n_jobs=-1)]: Done   9 tasks      | elapsed:   11.5s\n",
      "[Parallel(n_jobs=-1)]: Done  10 tasks      | elapsed:   13.3s\n",
      "[Parallel(n_jobs=-1)]: Done  11 tasks      | elapsed:   26.7s\n",
      "[Parallel(n_jobs=-1)]: Done  12 tasks      | elapsed:   29.1s\n",
      "[Parallel(n_jobs=-1)]: Done  13 tasks      | elapsed:   29.8s\n",
      "[Parallel(n_jobs=-1)]: Done  14 tasks      | elapsed:   31.1s\n",
      "[Parallel(n_jobs=-1)]: Done  15 tasks      | elapsed:   38.9s\n",
      "[Parallel(n_jobs=-1)]: Done  16 tasks      | elapsed:   51.4s\n",
      "[Parallel(n_jobs=-1)]: Done  17 tasks      | elapsed:   52.7s\n",
      "[Parallel(n_jobs=-1)]: Done  18 tasks      | elapsed:   53.5s\n",
      "[Parallel(n_jobs=-1)]: Done  19 out of  25 | elapsed:   55.8s remaining:   17.6s\n",
      "[Parallel(n_jobs=-1)]: Done  20 out of  25 | elapsed:  1.3min remaining:   18.8s\n",
      "[Parallel(n_jobs=-1)]: Done  21 out of  25 | elapsed:  1.4min remaining:   16.5s\n",
      "[Parallel(n_jobs=-1)]: Done  22 out of  25 | elapsed:  1.5min remaining:   12.0s\n",
      "[Parallel(n_jobs=-1)]: Done  23 out of  25 | elapsed:  1.5min remaining:    7.8s\n",
      "[Parallel(n_jobs=-1)]: Done  25 out of  25 | elapsed:  1.6min remaining:    0.0s\n",
      "[Parallel(n_jobs=-1)]: Done  25 out of  25 | elapsed:  1.6min finished\n"
     ]
    },
    {
     "name": "stderr",
     "output_type": "stream",
     "text": [
      "/usr/local/lib/python3.6/site-packages/cuml/utils/input_utils.py:188: UserWarning: Expected column ('F') major order, but got the opposite. Converting data, this will result in additional memory utilization.\n",
      "  warnings.warn(\"Expected \" + order_to_str(order) + \" major order, \"\n"
     ]
    },
    {
     "data": {
      "text/plain": [
       "Pipeline(memory=None,\n",
       "         steps=[('preprocessing',\n",
       "                 Pipeline(memory=None,\n",
       "                          steps=[('leave_one_out_encoding',\n",
       "                                  LeaveOneOutEncoder(cols=['artist', 'label',\n",
       "                                                           'format_text',\n",
       "                                                           'format_name',\n",
       "                                                           'master_id', 'year',\n",
       "                                                           'country'],\n",
       "                                                     drop_invariant=False,\n",
       "                                                     handle_missing='value',\n",
       "                                                     handle_unknown='value',\n",
       "                                                     random_state=None,\n",
       "                                                     return_df=True, sigma=None,\n",
       "                                                     verbose=0)),\n",
       "                                 ('record_store_column_remove...\n",
       "                              estimator=RandomForestRegressor(n_estimators=100, max_depth=16, handle=<cuml.common.handle.Handle object at 0x7fa0f23f2750>, max_features='auto', n_bins=8, n_streams=8, split_algo=1, split_criterion=2, bootstrap=True, bootstrap_features=False, verbose=False, min_rows_per_node=2, rows_sample=1.0, max_leaves=-1, accuracy_metric='mse', output_type='numpy', min_impurity_decrease=0.0, quantile_per_tree=False, seed=None),\n",
       "                              iid='deprecated', n_jobs=-1,\n",
       "                              param_grid={'n_estimators': array([ 10,  57, 105, 152, 200])},\n",
       "                              pre_dispatch='2*n_jobs', refit=True,\n",
       "                              return_train_score=True,\n",
       "                              scoring='neg_mean_absolute_error', verbose=50))],\n",
       "         verbose=False)"
      ]
     },
     "execution_count": 79,
     "metadata": {
      "tags": []
     },
     "output_type": "execute_result"
    }
   ],
   "source": [
    "full_information_random_forest_search_pipe.fit(X_tr_sample,np.log(y_tr_sample).values.astype(np.float32))"
   ]
  },
  {
   "cell_type": "code",
   "execution_count": 80,
   "metadata": {
    "colab": {
     "base_uri": "https://localhost:8080/",
     "height": 296
    },
    "colab_type": "code",
    "id": "rCux94qKk1ji",
    "outputId": "6505e7bc-7078-4026-9dab-6b18e944a8b3"
   },
   "outputs": [
    {
     "data": {
      "image/png": "[encoded data removed]",
      "text/plain": [
       "<Figure size 432x288 with 1 Axes>"
      ]
     },
     "metadata": {
      "needs_background": "light",
      "tags": []
     },
     "output_type": "display_data"
    }
   ],
   "source": [
    "full_information_random_forest_plotter = GridSearchPlotter(full_information_random_forest_search_pipe.steps[-1][1])\n",
    "full_information_random_forest_plotter.plot_validation_curve(parameter='n_estimators',ylim=(-1,0))"
   ]
  },
  {
   "cell_type": "code",
   "execution_count": 81,
   "metadata": {
    "colab": {
     "base_uri": "https://localhost:8080/",
     "height": 35
    },
    "colab_type": "code",
    "id": "jaoOYSogk1jk",
    "outputId": "052df06f-232e-4502-9403-79b528d7eab6"
   },
   "outputs": [
    {
     "data": {
      "text/plain": [
       "-0.17216259241104126"
      ]
     },
     "execution_count": 81,
     "metadata": {
      "tags": []
     },
     "output_type": "execute_result"
    }
   ],
   "source": [
    "full_information_random_forest_search_pipe.steps[-1][1].best_score_"
   ]
  },
  {
   "cell_type": "code",
   "execution_count": 82,
   "metadata": {
    "colab": {
     "base_uri": "https://localhost:8080/",
     "height": 35
    },
    "colab_type": "code",
    "id": "SLNosErgk1jn",
    "outputId": "50293ea8-c2d7-4ad9-ec11-c4631e904eea"
   },
   "outputs": [
    {
     "data": {
      "text/plain": [
       "{'n_estimators': 200}"
      ]
     },
     "execution_count": 82,
     "metadata": {
      "tags": []
     },
     "output_type": "execute_result"
    }
   ],
   "source": [
    "full_information_random_forest_search_pipe.steps[-1][1].best_params_"
   ]
  },
  {
   "cell_type": "code",
   "execution_count": 83,
   "metadata": {
    "colab": {
     "base_uri": "https://localhost:8080/",
     "height": 395
    },
    "colab_type": "code",
    "id": "VvtlG6n3k1jq",
    "outputId": "b364b6ab-e4f3-47a2-d3ab-bf5d970a9aff"
   },
   "outputs": [
    {
     "name": "stderr",
     "output_type": "stream",
     "text": [
      "/usr/local/lib/python3.6/site-packages/cuml/utils/input_utils.py:188: UserWarning: Expected column ('F') major order, but got the opposite. Converting data, this will result in additional memory utilization.\n",
      "  warnings.warn(\"Expected \" + order_to_str(order) + \" major order, \"\n"
     ]
    },
    {
     "data": {
      "text/plain": [
       "Pipeline(memory=None,\n",
       "         steps=[('preprocessing',\n",
       "                 Pipeline(memory=None,\n",
       "                          steps=[('leave_one_out_encoding',\n",
       "                                  LeaveOneOutEncoder(cols=['artist', 'label',\n",
       "                                                           'format_text',\n",
       "                                                           'format_name',\n",
       "                                                           'master_id', 'year',\n",
       "                                                           'country'],\n",
       "                                                     drop_invariant=False,\n",
       "                                                     handle_missing='value',\n",
       "                                                     handle_unknown='value',\n",
       "                                                     random_state=None,\n",
       "                                                     return_df=True, sigma=None,\n",
       "                                                     verbose=0)),\n",
       "                                 ('record_store_column_remove...\n",
       "                 RandomForestRegressor(n_estimators=100, max_depth=16, handle=<cuml.common.handle.Handle object at 0x7fa0f23f2750>, max_features='auto', n_bins=8, n_streams=8, split_algo=1, split_criterion=2, bootstrap=True, bootstrap_features=False, verbose=False, min_rows_per_node=2, rows_sample=1.0, max_leaves=-1, accuracy_metric='mse', output_type='numpy', min_impurity_decrease=0.0, quantile_per_tree=False, seed=None))],\n",
       "         verbose=False)"
      ]
     },
     "execution_count": 83,
     "metadata": {
      "tags": []
     },
     "output_type": "execute_result"
    }
   ],
   "source": [
    "full_information_random_forest_pipe.fit(X_tr,np.log(y_tr).values.astype(np.float32))"
   ]
  },
  {
   "cell_type": "code",
   "execution_count": 84,
   "metadata": {
    "colab": {
     "base_uri": "https://localhost:8080/",
     "height": 73
    },
    "colab_type": "code",
    "id": "k7iHVjV-k1jt",
    "outputId": "f11e4e4c-a945-463c-d3b3-fb89ffb3edd9"
   },
   "outputs": [
    {
     "name": "stderr",
     "output_type": "stream",
     "text": [
      "/usr/local/lib/python3.6/site-packages/cuml/utils/input_utils.py:188: UserWarning: Expected row ('C') major order, but got the opposite. Converting data, this will result in additional memory utilization.\n",
      "  warnings.warn(\"Expected \" + order_to_str(order) + \" major order, \"\n"
     ]
    }
   ],
   "source": [
    "full_information_random_forest_te_pred = full_information_random_forest_pipe.predict(X_te)"
   ]
  },
  {
   "cell_type": "code",
   "execution_count": 85,
   "metadata": {
    "colab": {
     "base_uri": "https://localhost:8080/",
     "height": 35
    },
    "colab_type": "code",
    "id": "UBdw5WWqk1jv",
    "outputId": "60c5e21a-c014-4961-d8b2-18f425e97e9f"
   },
   "outputs": [
    {
     "data": {
      "text/plain": [
       "-0.1039342309179967"
      ]
     },
     "execution_count": 85,
     "metadata": {
      "tags": []
     },
     "output_type": "execute_result"
    }
   ],
   "source": [
    "full_information_ridge_r2 = r2_score(y_te,np.exp(full_information_random_forest_te_pred))\n",
    "full_information_ridge_r2"
   ]
  },
  {
   "cell_type": "code",
   "execution_count": 86,
   "metadata": {
    "colab": {
     "base_uri": "https://localhost:8080/",
     "height": 35
    },
    "colab_type": "code",
    "id": "ZQQ8J--Yk1jy",
    "outputId": "e3278f78-cc86-4d3d-8e76-f73d8cb936d4"
   },
   "outputs": [
    {
     "data": {
      "text/plain": [
       "10.489387850785418"
      ]
     },
     "execution_count": 86,
     "metadata": {
      "tags": []
     },
     "output_type": "execute_result"
    }
   ],
   "source": [
    "full_information_ridge_mae = mean_absolute_error(y_te,np.exp(full_information_random_forest_te_pred))\n",
    "full_information_ridge_mae"
   ]
  },
  {
   "cell_type": "markdown",
   "metadata": {
    "colab_type": "text",
    "id": "RPKU3I5sXRM2"
   },
   "source": [
    "As we can see from the above, we see very similar results in the Full Information scenario as in the Record Store scenario. Once again, we do not observe that including the Full Information features has any positive impact on the prediction of ``market_value``, although it must be noted that this model does not perform at all well in general, and as was mentioned prior to training, an improvement was not expected."
   ]
  },
  {
   "cell_type": "markdown",
   "metadata": {
    "colab_type": "text",
    "id": "wcM8J6K68asg"
   },
   "source": [
    "## CatBoost\n",
    "For our final attempt at predicting ``market_value`` for Jazz albums, we turn to the CatBoost algorithm. It has been developed fairly recently by Yandex Research, and has shown immense promise, as can be gathered from the following blog post: https://towardsdatascience.com/catboost-vs-light-gbm-vs-xgboost-5f93620723db.\n",
    "CatBoost is ideally suited for datasets which have high incidence of categorical features, making it a good fit in theory for our use case. \n",
    "## CatBoost - Record Store\n",
    "As for previous algorithms, we begin our evaluation of CatBoost by training the model using the features relevant to the Record Store scenario. For our preprocessing, we simply need to remove the columns that are not relevant for the Record Store scenario. The implementation of the CatBoost algorithm we use here allows us to specify the categorical features that we leave to the algorithm to decide how to best encode them. It has been noted that this is a highly important parameter to improve the performance of the algorithm, and as such, we include all features that are categorical in nature, even the ``country`` feature, which we have previously applied dummy encoding for."
   ]
  },
  {
   "cell_type": "code",
   "execution_count": null,
   "metadata": {
    "colab": {},
    "colab_type": "code",
    "id": "OjIxG4pI8asl"
   },
   "outputs": [],
   "source": [
    "record_store_catboost_removal_columns = set([\n",
    "    'market_price','units_for_sale','have','want','average_rating','rating_count','last_sold','lowest','median',\n",
    "    'highest','track_titles','genre','style','community_have','community_want','formats','thumb_url',\n",
    "    'release_url','format_description','title','release_id'\n",
    "])\n",
    "record_store_catboost_removal_columns = record_store_catboost_removal_columns.union(column_store._geography_country)"
   ]
  },
  {
   "cell_type": "code",
   "execution_count": null,
   "metadata": {
    "colab": {},
    "colab_type": "code",
    "id": "VCaEIJW18asr"
   },
   "outputs": [],
   "source": [
    "record_store_catboost_processing_pipe = Pipeline([\n",
    "    ('record_store_column_remover', ColumnRemover(record_store_catboost_removal_columns)),\n",
    "])\n",
    "\n",
    "catboost = CatBoostRegressor(\n",
    "    random_seed=0,\n",
    "    cat_features=['year','format_text','master_id','format_name','artist','label','country'],\n",
    "    boosting_type='Ordered',\n",
    "    n_estimators=100,\n",
    "    learning_rate=0.1,\n",
    "    l2_leaf_reg=3,\n",
    "    border_count=170,\n",
    "    max_depth=10,\n",
    ")\n",
    "\n",
    "record_store_catboost_grid_pipe = Pipeline([\n",
    "    ('processing', record_store_catboost_processing_pipe),\n",
    "    ('grid_search', GridSearchCV(\n",
    "        catboost,\n",
    "        param_grid={\n",
    "            #'learning_rate': np.logspace(-3,1,5),\n",
    "            #'border_count': np.linspace(1,200,5),\n",
    "            'l2_leaf_reg': [1,3,5,8],\n",
    "        },\n",
    "        n_jobs=-1,\n",
    "        cv=KFold(n_splits=5,shuffle=True),\n",
    "        verbose=1,\n",
    "        scoring='neg_mean_absolute_error',\n",
    "        return_train_score=True)\n",
    "    )\n",
    "])\n",
    "\n",
    "record_store_catboost_pipe = Pipeline([\n",
    "    ('processing', record_store_catboost_processing_pipe),\n",
    "    ('catboost',catboost)\n",
    "])"
   ]
  },
  {
   "cell_type": "code",
   "execution_count": 89,
   "metadata": {
    "colab": {
     "base_uri": "https://localhost:8080/",
     "height": 1000
    },
    "colab_type": "code",
    "id": "MQW9Ojz08asu",
    "outputId": "63f0154e-2e92-4d7a-b111-66b6b75e590b"
   },
   "outputs": [
    {
     "name": "stdout",
     "output_type": "stream",
     "text": [
      "Fitting 5 folds for each of 4 candidates, totalling 20 fits\n"
     ]
    },
    {
     "name": "stderr",
     "output_type": "stream",
     "text": [
      "[Parallel(n_jobs=-1)]: Using backend LokyBackend with 4 concurrent workers.\n",
      "/usr/local/lib/python3.6/dist-packages/joblib/externals/loky/process_executor.py:691: UserWarning: A worker stopped while some jobs were given to the executor. This can be caused by a too short worker timeout or by a memory leak.\n",
      "  \"timeout or by a memory leak.\", UserWarning\n",
      "[Parallel(n_jobs=-1)]: Done  20 out of  20 | elapsed:  2.2min finished\n"
     ]
    },
    {
     "name": "stdout",
     "output_type": "stream",
     "text": [
      "0:\tlearn: 0.8533581\ttotal: 207ms\tremaining: 20.5s\n",
      "1:\tlearn: 0.8349364\ttotal: 274ms\tremaining: 13.4s\n",
      "2:\tlearn: 0.8202644\ttotal: 391ms\tremaining: 12.7s\n",
      "3:\tlearn: 0.8050669\ttotal: 511ms\tremaining: 12.3s\n",
      "4:\tlearn: 0.7943333\ttotal: 524ms\tremaining: 9.95s\n",
      "5:\tlearn: 0.7834151\ttotal: 643ms\tremaining: 10.1s\n",
      "6:\tlearn: 0.7747568\ttotal: 762ms\tremaining: 10.1s\n",
      "7:\tlearn: 0.7674679\ttotal: 887ms\tremaining: 10.2s\n",
      "8:\tlearn: 0.7600975\ttotal: 1s\tremaining: 10.2s\n",
      "9:\tlearn: 0.7532601\ttotal: 1.12s\tremaining: 10.1s\n",
      "10:\tlearn: 0.7455597\ttotal: 1.25s\tremaining: 10.1s\n",
      "11:\tlearn: 0.7397551\ttotal: 1.28s\tremaining: 9.39s\n",
      "12:\tlearn: 0.7344392\ttotal: 1.34s\tremaining: 8.97s\n",
      "13:\tlearn: 0.7303275\ttotal: 1.37s\tremaining: 8.43s\n",
      "14:\tlearn: 0.7260411\ttotal: 1.49s\tremaining: 8.44s\n",
      "15:\tlearn: 0.7228971\ttotal: 1.52s\tremaining: 8s\n",
      "16:\tlearn: 0.7198523\ttotal: 1.59s\tremaining: 7.76s\n",
      "17:\tlearn: 0.7166802\ttotal: 1.71s\tremaining: 7.79s\n",
      "18:\tlearn: 0.7152445\ttotal: 1.72s\tremaining: 7.32s\n",
      "19:\tlearn: 0.7131030\ttotal: 1.72s\tremaining: 6.89s\n",
      "20:\tlearn: 0.7104887\ttotal: 1.84s\tremaining: 6.94s\n",
      "21:\tlearn: 0.7084683\ttotal: 1.86s\tremaining: 6.61s\n",
      "22:\tlearn: 0.7062201\ttotal: 1.93s\tremaining: 6.45s\n",
      "23:\tlearn: 0.7047160\ttotal: 2.04s\tremaining: 6.47s\n",
      "24:\tlearn: 0.7032010\ttotal: 2.16s\tremaining: 6.48s\n",
      "25:\tlearn: 0.7016688\ttotal: 2.28s\tremaining: 6.49s\n",
      "26:\tlearn: 0.7009431\ttotal: 2.29s\tremaining: 6.19s\n",
      "27:\tlearn: 0.6992837\ttotal: 2.41s\tremaining: 6.19s\n",
      "28:\tlearn: 0.6980150\ttotal: 2.53s\tremaining: 6.18s\n",
      "29:\tlearn: 0.6961024\ttotal: 2.65s\tremaining: 6.18s\n",
      "30:\tlearn: 0.6951214\ttotal: 2.66s\tremaining: 5.92s\n",
      "31:\tlearn: 0.6947443\ttotal: 2.67s\tremaining: 5.67s\n",
      "32:\tlearn: 0.6945903\ttotal: 2.67s\tremaining: 5.43s\n",
      "33:\tlearn: 0.6935364\ttotal: 2.71s\tremaining: 5.25s\n",
      "34:\tlearn: 0.6929220\ttotal: 2.73s\tremaining: 5.06s\n",
      "35:\tlearn: 0.6921785\ttotal: 2.79s\tremaining: 4.95s\n",
      "36:\tlearn: 0.6911290\ttotal: 2.91s\tremaining: 4.96s\n",
      "37:\tlearn: 0.6903887\ttotal: 2.97s\tremaining: 4.85s\n",
      "38:\tlearn: 0.6903886\ttotal: 2.97s\tremaining: 4.65s\n",
      "39:\tlearn: 0.6896943\ttotal: 3.09s\tremaining: 4.63s\n",
      "40:\tlearn: 0.6896629\ttotal: 3.09s\tremaining: 4.45s\n",
      "41:\tlearn: 0.6895485\ttotal: 3.11s\tremaining: 4.3s\n",
      "42:\tlearn: 0.6886575\ttotal: 3.23s\tremaining: 4.28s\n",
      "43:\tlearn: 0.6876102\ttotal: 3.35s\tremaining: 4.27s\n",
      "44:\tlearn: 0.6863177\ttotal: 3.48s\tremaining: 4.25s\n",
      "45:\tlearn: 0.6863003\ttotal: 3.48s\tremaining: 4.08s\n",
      "46:\tlearn: 0.6862858\ttotal: 3.48s\tremaining: 3.93s\n",
      "47:\tlearn: 0.6856854\ttotal: 3.61s\tremaining: 3.91s\n",
      "48:\tlearn: 0.6856594\ttotal: 3.62s\tremaining: 3.76s\n",
      "49:\tlearn: 0.6850393\ttotal: 3.73s\tremaining: 3.73s\n",
      "50:\tlearn: 0.6849642\ttotal: 3.74s\tremaining: 3.6s\n",
      "51:\tlearn: 0.6849560\ttotal: 3.75s\tremaining: 3.46s\n",
      "52:\tlearn: 0.6849493\ttotal: 3.75s\tremaining: 3.33s\n",
      "53:\tlearn: 0.6839493\ttotal: 3.88s\tremaining: 3.31s\n",
      "54:\tlearn: 0.6835162\ttotal: 3.94s\tremaining: 3.23s\n",
      "55:\tlearn: 0.6831012\ttotal: 4s\tremaining: 3.15s\n",
      "56:\tlearn: 0.6828128\ttotal: 4.06s\tremaining: 3.06s\n",
      "57:\tlearn: 0.6822592\ttotal: 4.18s\tremaining: 3.03s\n",
      "58:\tlearn: 0.6822550\ttotal: 4.19s\tremaining: 2.91s\n",
      "59:\tlearn: 0.6822429\ttotal: 4.19s\tremaining: 2.79s\n",
      "60:\tlearn: 0.6821758\ttotal: 4.21s\tremaining: 2.69s\n",
      "61:\tlearn: 0.6820531\ttotal: 4.22s\tremaining: 2.58s\n",
      "62:\tlearn: 0.6820530\ttotal: 4.22s\tremaining: 2.48s\n",
      "63:\tlearn: 0.6820530\ttotal: 4.22s\tremaining: 2.37s\n",
      "64:\tlearn: 0.6820484\ttotal: 4.23s\tremaining: 2.28s\n",
      "65:\tlearn: 0.6820458\ttotal: 4.23s\tremaining: 2.18s\n",
      "66:\tlearn: 0.6820437\ttotal: 4.23s\tremaining: 2.08s\n",
      "67:\tlearn: 0.6814304\ttotal: 4.35s\tremaining: 2.05s\n",
      "68:\tlearn: 0.6812264\ttotal: 4.47s\tremaining: 2.01s\n",
      "69:\tlearn: 0.6806556\ttotal: 4.59s\tremaining: 1.97s\n",
      "70:\tlearn: 0.6801975\ttotal: 4.71s\tremaining: 1.93s\n",
      "71:\tlearn: 0.6785055\ttotal: 4.83s\tremaining: 1.88s\n",
      "72:\tlearn: 0.6785044\ttotal: 4.83s\tremaining: 1.79s\n",
      "73:\tlearn: 0.6777528\ttotal: 4.96s\tremaining: 1.74s\n",
      "74:\tlearn: 0.6777527\ttotal: 4.97s\tremaining: 1.66s\n",
      "75:\tlearn: 0.6773464\ttotal: 5.09s\tremaining: 1.61s\n",
      "76:\tlearn: 0.6767684\ttotal: 5.21s\tremaining: 1.55s\n",
      "77:\tlearn: 0.6767677\ttotal: 5.21s\tremaining: 1.47s\n",
      "78:\tlearn: 0.6767655\ttotal: 5.22s\tremaining: 1.39s\n",
      "79:\tlearn: 0.6755910\ttotal: 5.34s\tremaining: 1.33s\n",
      "80:\tlearn: 0.6754824\ttotal: 5.34s\tremaining: 1.25s\n",
      "81:\tlearn: 0.6754816\ttotal: 5.35s\tremaining: 1.17s\n",
      "82:\tlearn: 0.6751365\ttotal: 5.41s\tremaining: 1.11s\n",
      "83:\tlearn: 0.6750829\ttotal: 5.43s\tremaining: 1.03s\n",
      "84:\tlearn: 0.6748546\ttotal: 5.46s\tremaining: 963ms\n",
      "85:\tlearn: 0.6748546\ttotal: 5.46s\tremaining: 889ms\n",
      "86:\tlearn: 0.6748543\ttotal: 5.46s\tremaining: 817ms\n",
      "87:\tlearn: 0.6748456\ttotal: 5.47s\tremaining: 746ms\n",
      "88:\tlearn: 0.6748453\ttotal: 5.47s\tremaining: 676ms\n",
      "89:\tlearn: 0.6748451\ttotal: 5.47s\tremaining: 608ms\n",
      "90:\tlearn: 0.6748447\ttotal: 5.48s\tremaining: 542ms\n",
      "91:\tlearn: 0.6748447\ttotal: 5.48s\tremaining: 477ms\n",
      "92:\tlearn: 0.6748421\ttotal: 5.49s\tremaining: 413ms\n",
      "93:\tlearn: 0.6748419\ttotal: 5.49s\tremaining: 350ms\n",
      "94:\tlearn: 0.6748412\ttotal: 5.49s\tremaining: 289ms\n",
      "95:\tlearn: 0.6747982\ttotal: 5.53s\tremaining: 230ms\n",
      "96:\tlearn: 0.6747982\ttotal: 5.53s\tremaining: 171ms\n",
      "97:\tlearn: 0.6747009\ttotal: 5.54s\tremaining: 113ms\n",
      "98:\tlearn: 0.6743258\ttotal: 5.6s\tremaining: 56.6ms\n",
      "99:\tlearn: 0.6737285\ttotal: 5.72s\tremaining: 0us\n"
     ]
    },
    {
     "data": {
      "text/plain": [
       "Pipeline(memory=None,\n",
       "         steps=[('processing',\n",
       "                 Pipeline(memory=None,\n",
       "                          steps=[('record_store_column_remover',\n",
       "                                  ColumnRemover(remove_columns={'average_rating',\n",
       "                                                                'community_have',\n",
       "                                                                'community_want',\n",
       "                                                                'country_albania',\n",
       "                                                                'country_algeria',\n",
       "                                                                'country_andorra',\n",
       "                                                                'country_angola',\n",
       "                                                                'country_argentina',\n",
       "                                                                'country_armenia',\n",
       "                                                                'country_aruba',\n",
       "                                                                'country_australia',\n",
       "                                                                'country_austria',\n",
       "                                                                'coun...\n",
       "                          verbose=False)),\n",
       "                ('grid_search',\n",
       "                 GridSearchCV(cv=KFold(n_splits=5, random_state=None, shuffle=True),\n",
       "                              error_score=nan,\n",
       "                              estimator=<catboost.core.CatBoostRegressor object at 0x7fa0e20bd198>,\n",
       "                              iid='deprecated', n_jobs=-1,\n",
       "                              param_grid={'l2_leaf_reg': [1, 3, 5, 8]},\n",
       "                              pre_dispatch='2*n_jobs', refit=True,\n",
       "                              return_train_score=True,\n",
       "                              scoring='neg_mean_absolute_error', verbose=1))],\n",
       "         verbose=False)"
      ]
     },
     "execution_count": 89,
     "metadata": {
      "tags": []
     },
     "output_type": "execute_result"
    }
   ],
   "source": [
    "record_store_catboost_grid_pipe.fit(X_tr_sample,np.log(y_tr_sample))"
   ]
  },
  {
   "cell_type": "code",
   "execution_count": 90,
   "metadata": {
    "colab": {
     "base_uri": "https://localhost:8080/",
     "height": 296
    },
    "colab_type": "code",
    "id": "9MWNatKvNkWQ",
    "outputId": "5a88bf00-39d8-4909-98a8-fa8a68e4fa65"
   },
   "outputs": [
    {
     "data": {
      "image/png": "[encoded data removed]",
      "text/plain": [
       "<Figure size 432x288 with 1 Axes>"
      ]
     },
     "metadata": {
      "needs_background": "light",
      "tags": []
     },
     "output_type": "display_data"
    }
   ],
   "source": [
    "record_store_catboost_plot = GridSearchPlotter(record_store_catboost_grid_pipe.steps[-1][1])\n",
    "record_store_catboost_plot.plot_validation_curve(parameter='l2_leaf_reg',ylim=(-2,1))"
   ]
  },
  {
   "cell_type": "code",
   "execution_count": 91,
   "metadata": {
    "colab": {
     "base_uri": "https://localhost:8080/",
     "height": 35
    },
    "colab_type": "code",
    "id": "D82wspKV8XCK",
    "outputId": "74ea4760-47cd-4a76-b2c6-89190eeb2acf"
   },
   "outputs": [
    {
     "data": {
      "text/plain": [
       "-0.5168456160405911"
      ]
     },
     "execution_count": 91,
     "metadata": {
      "tags": []
     },
     "output_type": "execute_result"
    }
   ],
   "source": [
    "record_store_catboost_grid_pipe.steps[-1][1].best_score_"
   ]
  },
  {
   "cell_type": "code",
   "execution_count": 92,
   "metadata": {
    "colab": {
     "base_uri": "https://localhost:8080/",
     "height": 35
    },
    "colab_type": "code",
    "id": "iJHB_2xe8ZN_",
    "outputId": "697e85cc-513c-416b-c1a0-2f2cb5d43524"
   },
   "outputs": [
    {
     "data": {
      "text/plain": [
       "{'l2_leaf_reg': 3}"
      ]
     },
     "execution_count": 92,
     "metadata": {
      "tags": []
     },
     "output_type": "execute_result"
    }
   ],
   "source": [
    "record_store_catboost_grid_pipe.steps[-1][1].best_params_"
   ]
  },
  {
   "cell_type": "markdown",
   "metadata": {
    "colab_type": "text",
    "id": "Xa83fKbBe_Nb"
   },
   "source": [
    "After searching over the hyperparameter space, we obtain cross validation results that end up looking fairly similar to those that we obtained from the Linear and Ridge regressions. This indicates that there seems to be a clear upper limit in the performance of our algorithms on our data, and that even this state of the art algorithm may not significantly improve on the performance of our previous results. "
   ]
  },
  {
   "cell_type": "code",
   "execution_count": 93,
   "metadata": {
    "colab": {
     "base_uri": "https://localhost:8080/",
     "height": 1000
    },
    "colab_type": "code",
    "id": "dU_pJkadk1kC",
    "outputId": "4ec9f72d-5404-412a-9421-1d763d621402"
   },
   "outputs": [
    {
     "name": "stdout",
     "output_type": "stream",
     "text": [
      "0:\tlearn: 0.8431927\ttotal: 371ms\tremaining: 36.7s\n",
      "1:\tlearn: 0.8227644\ttotal: 665ms\tremaining: 32.6s\n",
      "2:\tlearn: 0.8051524\ttotal: 954ms\tremaining: 30.9s\n",
      "3:\tlearn: 0.7908869\ttotal: 1.24s\tremaining: 29.7s\n",
      "4:\tlearn: 0.7746076\ttotal: 1.53s\tremaining: 29s\n",
      "5:\tlearn: 0.7608429\ttotal: 1.82s\tremaining: 28.5s\n",
      "6:\tlearn: 0.7489653\ttotal: 2.1s\tremaining: 28s\n",
      "7:\tlearn: 0.7391232\ttotal: 2.4s\tremaining: 27.6s\n",
      "8:\tlearn: 0.7310219\ttotal: 2.69s\tremaining: 27.2s\n",
      "9:\tlearn: 0.7237486\ttotal: 2.98s\tremaining: 26.8s\n",
      "10:\tlearn: 0.7173364\ttotal: 3.27s\tremaining: 26.5s\n",
      "11:\tlearn: 0.7120587\ttotal: 3.56s\tremaining: 26.1s\n",
      "12:\tlearn: 0.7077763\ttotal: 3.86s\tremaining: 25.9s\n",
      "13:\tlearn: 0.7007374\ttotal: 4.16s\tremaining: 25.6s\n",
      "14:\tlearn: 0.6943509\ttotal: 4.45s\tremaining: 25.2s\n",
      "15:\tlearn: 0.6886785\ttotal: 4.73s\tremaining: 24.8s\n",
      "16:\tlearn: 0.6842725\ttotal: 5.02s\tremaining: 24.5s\n",
      "17:\tlearn: 0.6806253\ttotal: 5.31s\tremaining: 24.2s\n",
      "18:\tlearn: 0.6774947\ttotal: 5.61s\tremaining: 23.9s\n",
      "19:\tlearn: 0.6747414\ttotal: 5.9s\tremaining: 23.6s\n",
      "20:\tlearn: 0.6723214\ttotal: 6.19s\tremaining: 23.3s\n",
      "21:\tlearn: 0.6704300\ttotal: 6.47s\tremaining: 23s\n",
      "22:\tlearn: 0.6688849\ttotal: 6.76s\tremaining: 22.6s\n",
      "23:\tlearn: 0.6671968\ttotal: 7.05s\tremaining: 22.3s\n",
      "24:\tlearn: 0.6659303\ttotal: 7.34s\tremaining: 22s\n",
      "25:\tlearn: 0.6648224\ttotal: 7.63s\tremaining: 21.7s\n",
      "26:\tlearn: 0.6637918\ttotal: 7.92s\tremaining: 21.4s\n",
      "27:\tlearn: 0.6618094\ttotal: 8.21s\tremaining: 21.1s\n",
      "28:\tlearn: 0.6603483\ttotal: 8.5s\tremaining: 20.8s\n",
      "29:\tlearn: 0.6594059\ttotal: 8.79s\tremaining: 20.5s\n",
      "30:\tlearn: 0.6580542\ttotal: 9.08s\tremaining: 20.2s\n",
      "31:\tlearn: 0.6574230\ttotal: 9.36s\tremaining: 19.9s\n",
      "32:\tlearn: 0.6567706\ttotal: 9.65s\tremaining: 19.6s\n",
      "33:\tlearn: 0.6563991\ttotal: 9.73s\tremaining: 18.9s\n",
      "34:\tlearn: 0.6558062\ttotal: 10s\tremaining: 18.6s\n",
      "35:\tlearn: 0.6553030\ttotal: 10.3s\tremaining: 18.3s\n",
      "36:\tlearn: 0.6549016\ttotal: 10.6s\tremaining: 18s\n",
      "37:\tlearn: 0.6545398\ttotal: 10.9s\tremaining: 17.7s\n",
      "38:\tlearn: 0.6539772\ttotal: 11.2s\tremaining: 17.5s\n",
      "39:\tlearn: 0.6537130\ttotal: 11.4s\tremaining: 17.2s\n",
      "40:\tlearn: 0.6532910\ttotal: 11.7s\tremaining: 16.9s\n",
      "41:\tlearn: 0.6529842\ttotal: 12s\tremaining: 16.6s\n",
      "42:\tlearn: 0.6525834\ttotal: 12.3s\tremaining: 16.3s\n",
      "43:\tlearn: 0.6525196\ttotal: 12.4s\tremaining: 15.8s\n",
      "44:\tlearn: 0.6525196\ttotal: 12.4s\tremaining: 15.2s\n",
      "45:\tlearn: 0.6524872\ttotal: 12.5s\tremaining: 14.6s\n",
      "46:\tlearn: 0.6521093\ttotal: 12.8s\tremaining: 14.4s\n",
      "47:\tlearn: 0.6518433\ttotal: 13.1s\tremaining: 14.2s\n",
      "48:\tlearn: 0.6518433\ttotal: 13.1s\tremaining: 13.6s\n",
      "49:\tlearn: 0.6518433\ttotal: 13.1s\tremaining: 13.1s\n",
      "50:\tlearn: 0.6514834\ttotal: 13.4s\tremaining: 12.9s\n",
      "51:\tlearn: 0.6513165\ttotal: 13.7s\tremaining: 12.6s\n",
      "52:\tlearn: 0.6509164\ttotal: 14s\tremaining: 12.4s\n",
      "53:\tlearn: 0.6508490\ttotal: 14.1s\tremaining: 12s\n",
      "54:\tlearn: 0.6507475\ttotal: 14.2s\tremaining: 11.6s\n",
      "55:\tlearn: 0.6507269\ttotal: 14.3s\tremaining: 11.2s\n",
      "56:\tlearn: 0.6507255\ttotal: 14.3s\tremaining: 10.8s\n",
      "57:\tlearn: 0.6507249\ttotal: 14.4s\tremaining: 10.4s\n",
      "58:\tlearn: 0.6507247\ttotal: 14.4s\tremaining: 10s\n",
      "59:\tlearn: 0.6507127\ttotal: 14.5s\tremaining: 9.64s\n",
      "60:\tlearn: 0.6507127\ttotal: 14.5s\tremaining: 9.26s\n",
      "61:\tlearn: 0.6506718\ttotal: 14.6s\tremaining: 8.93s\n",
      "62:\tlearn: 0.6501731\ttotal: 14.9s\tremaining: 8.72s\n",
      "63:\tlearn: 0.6501731\ttotal: 14.9s\tremaining: 8.37s\n",
      "64:\tlearn: 0.6500303\ttotal: 15.2s\tremaining: 8.16s\n",
      "65:\tlearn: 0.6500303\ttotal: 15.2s\tremaining: 7.83s\n",
      "66:\tlearn: 0.6500298\ttotal: 15.2s\tremaining: 7.5s\n",
      "67:\tlearn: 0.6500298\ttotal: 15.2s\tremaining: 7.17s\n",
      "68:\tlearn: 0.6500246\ttotal: 15.3s\tremaining: 6.87s\n",
      "69:\tlearn: 0.6495169\ttotal: 15.6s\tremaining: 6.67s\n",
      "70:\tlearn: 0.6495149\ttotal: 15.6s\tremaining: 6.38s\n",
      "71:\tlearn: 0.6495149\ttotal: 15.6s\tremaining: 6.08s\n",
      "72:\tlearn: 0.6495112\ttotal: 15.7s\tremaining: 5.8s\n",
      "73:\tlearn: 0.6495024\ttotal: 15.7s\tremaining: 5.53s\n",
      "74:\tlearn: 0.6494979\ttotal: 15.8s\tremaining: 5.27s\n",
      "75:\tlearn: 0.6494979\ttotal: 15.8s\tremaining: 5s\n",
      "76:\tlearn: 0.6494945\ttotal: 15.9s\tremaining: 4.74s\n",
      "77:\tlearn: 0.6494939\ttotal: 15.9s\tremaining: 4.48s\n",
      "78:\tlearn: 0.6494901\ttotal: 15.9s\tremaining: 4.24s\n",
      "79:\tlearn: 0.6494901\ttotal: 16s\tremaining: 3.99s\n",
      "80:\tlearn: 0.6494864\ttotal: 16s\tremaining: 3.75s\n",
      "81:\tlearn: 0.6494864\ttotal: 16s\tremaining: 3.52s\n",
      "82:\tlearn: 0.6494864\ttotal: 16s\tremaining: 3.29s\n",
      "83:\tlearn: 0.6494864\ttotal: 16.1s\tremaining: 3.06s\n",
      "84:\tlearn: 0.6494849\ttotal: 16.1s\tremaining: 2.84s\n",
      "85:\tlearn: 0.6487357\ttotal: 16.4s\tremaining: 2.67s\n",
      "86:\tlearn: 0.6487357\ttotal: 16.4s\tremaining: 2.46s\n",
      "87:\tlearn: 0.6487347\ttotal: 16.5s\tremaining: 2.25s\n",
      "88:\tlearn: 0.6487347\ttotal: 16.5s\tremaining: 2.04s\n",
      "89:\tlearn: 0.6487347\ttotal: 16.5s\tremaining: 1.83s\n",
      "90:\tlearn: 0.6487330\ttotal: 16.6s\tremaining: 1.64s\n",
      "91:\tlearn: 0.6487325\ttotal: 16.6s\tremaining: 1.44s\n",
      "92:\tlearn: 0.6487323\ttotal: 16.6s\tremaining: 1.25s\n",
      "93:\tlearn: 0.6487323\ttotal: 16.7s\tremaining: 1.06s\n",
      "94:\tlearn: 0.6487323\ttotal: 16.7s\tremaining: 878ms\n",
      "95:\tlearn: 0.6487318\ttotal: 16.7s\tremaining: 696ms\n",
      "96:\tlearn: 0.6487318\ttotal: 16.7s\tremaining: 517ms\n",
      "97:\tlearn: 0.6482240\ttotal: 17s\tremaining: 347ms\n",
      "98:\tlearn: 0.6482240\ttotal: 17s\tremaining: 172ms\n",
      "99:\tlearn: 0.6482240\ttotal: 17.1s\tremaining: 0us\n"
     ]
    },
    {
     "data": {
      "text/plain": [
       "Pipeline(memory=None,\n",
       "         steps=[('processing',\n",
       "                 Pipeline(memory=None,\n",
       "                          steps=[('record_store_column_remover',\n",
       "                                  ColumnRemover(remove_columns={'average_rating',\n",
       "                                                                'community_have',\n",
       "                                                                'community_want',\n",
       "                                                                'country_albania',\n",
       "                                                                'country_algeria',\n",
       "                                                                'country_andorra',\n",
       "                                                                'country_angola',\n",
       "                                                                'country_argentina',\n",
       "                                                                'country_armenia',\n",
       "                                                                'country_aruba',\n",
       "                                                                'country_australia',\n",
       "                                                                'country_austria',\n",
       "                                                                'coun...\n",
       "                                                                'country_belize',\n",
       "                                                                'country_bermuda',\n",
       "                                                                'country_bolivia '\n",
       "                                                                '(plurinational '\n",
       "                                                                'state of)',\n",
       "                                                                'country_bosnia '\n",
       "                                                                'and '\n",
       "                                                                'herzegovina',\n",
       "                                                                'country_brazil',\n",
       "                                                                'country_bulgaria',\n",
       "                                                                'country_cabo '\n",
       "                                                                'verde',\n",
       "                                                                'country_cambodia',\n",
       "                                                                'country_cameroon',\n",
       "                                                                'country_canada',\n",
       "                                                                'country_chile', ...}))],\n",
       "                          verbose=False)),\n",
       "                ('catboost',\n",
       "                 <catboost.core.CatBoostRegressor object at 0x7fa0e20bd198>)],\n",
       "         verbose=False)"
      ]
     },
     "execution_count": 93,
     "metadata": {
      "tags": []
     },
     "output_type": "execute_result"
    }
   ],
   "source": [
    "record_store_catboost_pipe.fit(X_tr,np.log(y_tr))"
   ]
  },
  {
   "cell_type": "code",
   "execution_count": null,
   "metadata": {
    "colab": {},
    "colab_type": "code",
    "id": "QtP6T-Ir8asx"
   },
   "outputs": [],
   "source": [
    "record_store_catboost_te_pred = record_store_catboost_pipe.predict(X_te)"
   ]
  },
  {
   "cell_type": "code",
   "execution_count": 95,
   "metadata": {
    "colab": {
     "base_uri": "https://localhost:8080/",
     "height": 35
    },
    "colab_type": "code",
    "id": "Ot0BfPu28as0",
    "outputId": "ba3cf62a-abd6-4afa-b491-f945f751f379"
   },
   "outputs": [
    {
     "data": {
      "text/plain": [
       "0.2663216407430603"
      ]
     },
     "execution_count": 95,
     "metadata": {
      "tags": []
     },
     "output_type": "execute_result"
    }
   ],
   "source": [
    "record_store_catboost_r2 = r2_score(y_te,np.exp(record_store_catboost_te_pred))\n",
    "record_store_catboost_r2"
   ]
  },
  {
   "cell_type": "code",
   "execution_count": 96,
   "metadata": {
    "colab": {
     "base_uri": "https://localhost:8080/",
     "height": 35
    },
    "colab_type": "code",
    "id": "2BLq7nQR42RA",
    "outputId": "57ee0341-5bf8-4125-fd66-50edddf98fbf"
   },
   "outputs": [
    {
     "data": {
      "text/plain": [
       "7.793003696562934"
      ]
     },
     "execution_count": 96,
     "metadata": {
      "tags": []
     },
     "output_type": "execute_result"
    }
   ],
   "source": [
    "record_store_catboost_mae = mean_absolute_error(y_te,np.exp(record_store_catboost_te_pred))\n",
    "record_store_catboost_mae"
   ]
  },
  {
   "cell_type": "markdown",
   "metadata": {
    "colab_type": "text",
    "id": "z0DIb14ze8Zc"
   },
   "source": [
    "Despite the fairly similar looking results we obtained on our cross validation, we are able to improve on the performance of our best performing previous models by a decent margin, with a final mean absolute error value on our test predictions of 7.79, and an R2 of 0.267. While this performance is still far from representing a strong model for the prediction of ``market_value``, it is clear that by using the CatBoost algorithm, which is distinctly engineered to perform well for datasets with categorical features, we are able to obtain a clear improvement in performance."
   ]
  },
  {
   "cell_type": "markdown",
   "metadata": {
    "colab_type": "text",
    "id": "1N-puXCSk1kP"
   },
   "source": [
    "## CatBoost - Full Information\n",
    "Having witnessed an encouraging improvement in performance via the use of the CatBoost algorithm for our prediction problem in the Record Store scenario, we now turn to the Ful Information scenario, and attempt to identify whether a significant difference can be observed in the predictive performance of CatBoost between these two scenarios."
   ]
  },
  {
   "cell_type": "code",
   "execution_count": null,
   "metadata": {
    "colab": {},
    "colab_type": "code",
    "id": "tIZEJfS6k1kQ"
   },
   "outputs": [],
   "source": [
    "full_information_catboost_removal_columns = record_store_catboost_removal_columns - full_information_columns"
   ]
  },
  {
   "cell_type": "code",
   "execution_count": null,
   "metadata": {
    "colab": {},
    "colab_type": "code",
    "id": "uOt1Def_k1kS"
   },
   "outputs": [],
   "source": [
    "full_information_catboost_processing_pipe = Pipeline([\n",
    "    ('record_store_column_remover', ColumnRemover(full_information_catboost_removal_columns)),\n",
    "])\n",
    "\n",
    "full_information_catboost_grid_pipe = Pipeline([\n",
    "    ('processing', full_information_catboost_processing_pipe),\n",
    "    ('grid_search', GridSearchCV(\n",
    "        catboost,\n",
    "        param_grid={            \n",
    "            #'learning_rate': np.logspace(-3,1,5),\n",
    "            #'border_count': np.linspace(1,200,5),\n",
    "            'l2_leaf_reg': [1,3,5,8],\n",
    "        },\n",
    "        n_jobs=3,\n",
    "        cv=KFold(n_splits=5,shuffle=True),\n",
    "        scoring='neg_mean_absolute_error',\n",
    "        verbose=50,\n",
    "        return_train_score=True)\n",
    "    )\n",
    "])\n",
    "\n",
    "full_information_catboost_pipe = Pipeline([\n",
    "    ('processing', full_information_catboost_processing_pipe),\n",
    "    ('catboost',catboost)\n",
    "])"
   ]
  },
  {
   "cell_type": "code",
   "execution_count": 99,
   "metadata": {
    "colab": {
     "base_uri": "https://localhost:8080/",
     "height": 1000
    },
    "colab_type": "code",
    "id": "YveUFwIJk1kU",
    "outputId": "90db79ec-d446-432a-dd53-c0c1426eb5d8"
   },
   "outputs": [
    {
     "name": "stdout",
     "output_type": "stream",
     "text": [
      "Fitting 5 folds for each of 4 candidates, totalling 20 fits\n",
      "[Parallel(n_jobs=3)]: Using backend LokyBackend with 3 concurrent workers.\n",
      "[Parallel(n_jobs=3)]: Done   1 tasks      | elapsed:   25.1s\n",
      "[Parallel(n_jobs=3)]: Done   2 tasks      | elapsed:   26.5s\n",
      "[Parallel(n_jobs=3)]: Done   3 tasks      | elapsed:   26.6s\n",
      "[Parallel(n_jobs=3)]: Done   4 tasks      | elapsed:   50.5s\n",
      "[Parallel(n_jobs=3)]: Done   5 tasks      | elapsed:   51.9s\n",
      "[Parallel(n_jobs=3)]: Done   6 tasks      | elapsed:   54.6s\n",
      "[Parallel(n_jobs=3)]: Done   7 tasks      | elapsed:  1.3min\n",
      "[Parallel(n_jobs=3)]: Done   8 tasks      | elapsed:  1.3min\n",
      "[Parallel(n_jobs=3)]: Done   9 tasks      | elapsed:  1.4min\n",
      "[Parallel(n_jobs=3)]: Done  10 tasks      | elapsed:  1.7min\n",
      "[Parallel(n_jobs=3)]: Done  11 tasks      | elapsed:  1.8min\n",
      "[Parallel(n_jobs=3)]: Done  12 tasks      | elapsed:  1.8min\n",
      "[Parallel(n_jobs=3)]: Done  13 tasks      | elapsed:  2.2min\n",
      "[Parallel(n_jobs=3)]: Done  14 tasks      | elapsed:  2.3min\n",
      "[Parallel(n_jobs=3)]: Done  15 tasks      | elapsed:  2.3min\n",
      "[Parallel(n_jobs=3)]: Done  16 out of  20 | elapsed:  2.6min remaining:   39.7s\n",
      "[Parallel(n_jobs=3)]: Done  17 out of  20 | elapsed:  2.7min remaining:   28.8s\n",
      "[Parallel(n_jobs=3)]: Done  18 out of  20 | elapsed:  2.8min remaining:   18.4s\n",
      "[Parallel(n_jobs=3)]: Done  20 out of  20 | elapsed:  3.0min remaining:    0.0s\n",
      "[Parallel(n_jobs=3)]: Done  20 out of  20 | elapsed:  3.0min finished\n",
      "0:\tlearn: 0.8462265\ttotal: 160ms\tremaining: 15.8s\n",
      "1:\tlearn: 0.8190163\ttotal: 183ms\tremaining: 8.99s\n",
      "2:\tlearn: 0.7937911\ttotal: 328ms\tremaining: 10.6s\n",
      "3:\tlearn: 0.7710413\ttotal: 473ms\tremaining: 11.4s\n",
      "4:\tlearn: 0.7533354\ttotal: 617ms\tremaining: 11.7s\n",
      "5:\tlearn: 0.7358306\ttotal: 763ms\tremaining: 12s\n",
      "6:\tlearn: 0.7212685\ttotal: 908ms\tremaining: 12.1s\n",
      "7:\tlearn: 0.7087129\ttotal: 1.06s\tremaining: 12.2s\n",
      "8:\tlearn: 0.6975301\ttotal: 1.21s\tremaining: 12.2s\n",
      "9:\tlearn: 0.6888821\ttotal: 1.36s\tremaining: 12.2s\n",
      "10:\tlearn: 0.6800644\ttotal: 1.5s\tremaining: 12.1s\n",
      "11:\tlearn: 0.6736941\ttotal: 1.65s\tremaining: 12.1s\n",
      "12:\tlearn: 0.6657606\ttotal: 1.79s\tremaining: 12s\n",
      "13:\tlearn: 0.6591888\ttotal: 1.94s\tremaining: 11.9s\n",
      "14:\tlearn: 0.6534480\ttotal: 2.09s\tremaining: 11.8s\n",
      "15:\tlearn: 0.6483603\ttotal: 2.24s\tremaining: 11.7s\n",
      "16:\tlearn: 0.6459314\ttotal: 2.25s\tremaining: 11s\n",
      "17:\tlearn: 0.6420027\ttotal: 2.39s\tremaining: 10.9s\n",
      "18:\tlearn: 0.6382109\ttotal: 2.53s\tremaining: 10.8s\n",
      "19:\tlearn: 0.6352675\ttotal: 2.67s\tremaining: 10.7s\n",
      "20:\tlearn: 0.6316961\ttotal: 2.82s\tremaining: 10.6s\n",
      "21:\tlearn: 0.6283108\ttotal: 2.97s\tremaining: 10.5s\n",
      "22:\tlearn: 0.6259254\ttotal: 3.12s\tremaining: 10.4s\n",
      "23:\tlearn: 0.6219873\ttotal: 3.26s\tremaining: 10.3s\n",
      "24:\tlearn: 0.6194430\ttotal: 3.4s\tremaining: 10.2s\n",
      "25:\tlearn: 0.6186406\ttotal: 3.41s\tremaining: 9.72s\n",
      "26:\tlearn: 0.6167584\ttotal: 3.49s\tremaining: 9.43s\n",
      "27:\tlearn: 0.6154458\ttotal: 3.63s\tremaining: 9.34s\n",
      "28:\tlearn: 0.6140115\ttotal: 3.78s\tremaining: 9.25s\n",
      "29:\tlearn: 0.6131026\ttotal: 3.8s\tremaining: 8.87s\n",
      "30:\tlearn: 0.6118087\ttotal: 3.84s\tremaining: 8.55s\n",
      "31:\tlearn: 0.6114747\ttotal: 3.85s\tremaining: 8.18s\n",
      "32:\tlearn: 0.6095711\ttotal: 4s\tremaining: 8.12s\n",
      "33:\tlearn: 0.6081255\ttotal: 4.08s\tremaining: 7.92s\n",
      "34:\tlearn: 0.6068159\ttotal: 4.22s\tremaining: 7.84s\n",
      "35:\tlearn: 0.6060205\ttotal: 4.25s\tremaining: 7.55s\n",
      "36:\tlearn: 0.6041356\ttotal: 4.39s\tremaining: 7.48s\n",
      "37:\tlearn: 0.6030538\ttotal: 4.54s\tremaining: 7.4s\n",
      "38:\tlearn: 0.6018186\ttotal: 4.69s\tremaining: 7.33s\n",
      "39:\tlearn: 0.6017218\ttotal: 4.7s\tremaining: 7.04s\n",
      "40:\tlearn: 0.6011814\ttotal: 4.84s\tremaining: 6.97s\n",
      "41:\tlearn: 0.6010258\ttotal: 4.86s\tremaining: 6.72s\n",
      "42:\tlearn: 0.6010134\ttotal: 4.87s\tremaining: 6.46s\n",
      "43:\tlearn: 0.6002729\ttotal: 5.02s\tremaining: 6.39s\n",
      "44:\tlearn: 0.5996755\ttotal: 5.03s\tremaining: 6.15s\n",
      "45:\tlearn: 0.5991423\ttotal: 5.11s\tremaining: 6s\n",
      "46:\tlearn: 0.5985970\ttotal: 5.18s\tremaining: 5.84s\n",
      "47:\tlearn: 0.5984113\ttotal: 5.2s\tremaining: 5.64s\n",
      "48:\tlearn: 0.5976772\ttotal: 5.35s\tremaining: 5.57s\n",
      "49:\tlearn: 0.5974377\ttotal: 5.36s\tremaining: 5.36s\n",
      "50:\tlearn: 0.5965927\ttotal: 5.5s\tremaining: 5.29s\n",
      "51:\tlearn: 0.5956718\ttotal: 5.65s\tremaining: 5.21s\n",
      "52:\tlearn: 0.5943556\ttotal: 5.79s\tremaining: 5.14s\n",
      "53:\tlearn: 0.5942437\ttotal: 5.8s\tremaining: 4.94s\n",
      "54:\tlearn: 0.5935365\ttotal: 5.94s\tremaining: 4.86s\n",
      "55:\tlearn: 0.5928350\ttotal: 6.09s\tremaining: 4.78s\n",
      "56:\tlearn: 0.5927622\ttotal: 6.09s\tremaining: 4.6s\n",
      "57:\tlearn: 0.5925111\ttotal: 6.11s\tremaining: 4.43s\n",
      "58:\tlearn: 0.5914973\ttotal: 6.26s\tremaining: 4.35s\n",
      "59:\tlearn: 0.5914626\ttotal: 6.27s\tremaining: 4.18s\n",
      "60:\tlearn: 0.5914155\ttotal: 6.27s\tremaining: 4.01s\n",
      "61:\tlearn: 0.5910520\ttotal: 6.42s\tremaining: 3.93s\n",
      "62:\tlearn: 0.5906190\ttotal: 6.44s\tremaining: 3.78s\n",
      "63:\tlearn: 0.5904606\ttotal: 6.44s\tremaining: 3.63s\n",
      "64:\tlearn: 0.5904138\ttotal: 6.45s\tremaining: 3.47s\n",
      "65:\tlearn: 0.5904138\ttotal: 6.45s\tremaining: 3.32s\n",
      "66:\tlearn: 0.5900793\ttotal: 6.6s\tremaining: 3.25s\n",
      "67:\tlearn: 0.5897588\ttotal: 6.61s\tremaining: 3.11s\n",
      "68:\tlearn: 0.5894218\ttotal: 6.62s\tremaining: 2.97s\n",
      "69:\tlearn: 0.5891780\ttotal: 6.64s\tremaining: 2.85s\n",
      "70:\tlearn: 0.5889391\ttotal: 6.71s\tremaining: 2.74s\n",
      "71:\tlearn: 0.5889391\ttotal: 6.71s\tremaining: 2.61s\n",
      "72:\tlearn: 0.5889073\ttotal: 6.72s\tremaining: 2.48s\n",
      "73:\tlearn: 0.5887093\ttotal: 6.73s\tremaining: 2.37s\n",
      "74:\tlearn: 0.5887093\ttotal: 6.74s\tremaining: 2.25s\n",
      "75:\tlearn: 0.5885350\ttotal: 6.77s\tremaining: 2.14s\n",
      "76:\tlearn: 0.5885235\ttotal: 6.78s\tremaining: 2.02s\n",
      "77:\tlearn: 0.5885227\ttotal: 6.78s\tremaining: 1.91s\n",
      "78:\tlearn: 0.5884161\ttotal: 6.79s\tremaining: 1.8s\n",
      "79:\tlearn: 0.5882225\ttotal: 6.8s\tremaining: 1.7s\n",
      "80:\tlearn: 0.5882136\ttotal: 6.81s\tremaining: 1.6s\n",
      "81:\tlearn: 0.5882132\ttotal: 6.81s\tremaining: 1.5s\n",
      "82:\tlearn: 0.5882132\ttotal: 6.81s\tremaining: 1.4s\n",
      "83:\tlearn: 0.5879053\ttotal: 6.96s\tremaining: 1.32s\n",
      "84:\tlearn: 0.5878905\ttotal: 6.96s\tremaining: 1.23s\n",
      "85:\tlearn: 0.5874755\ttotal: 7.11s\tremaining: 1.16s\n",
      "86:\tlearn: 0.5872799\ttotal: 7.14s\tremaining: 1.07s\n",
      "87:\tlearn: 0.5872796\ttotal: 7.14s\tremaining: 974ms\n",
      "88:\tlearn: 0.5865280\ttotal: 7.28s\tremaining: 900ms\n",
      "89:\tlearn: 0.5862736\ttotal: 7.29s\tremaining: 810ms\n",
      "90:\tlearn: 0.5859858\ttotal: 7.43s\tremaining: 735ms\n",
      "91:\tlearn: 0.5858046\ttotal: 7.44s\tremaining: 647ms\n",
      "92:\tlearn: 0.5857852\ttotal: 7.45s\tremaining: 561ms\n",
      "93:\tlearn: 0.5857852\ttotal: 7.45s\tremaining: 476ms\n",
      "94:\tlearn: 0.5855974\ttotal: 7.59s\tremaining: 400ms\n",
      "95:\tlearn: 0.5855944\ttotal: 7.6s\tremaining: 317ms\n",
      "96:\tlearn: 0.5854390\ttotal: 7.74s\tremaining: 239ms\n",
      "97:\tlearn: 0.5842941\ttotal: 7.88s\tremaining: 161ms\n",
      "98:\tlearn: 0.5842939\ttotal: 7.89s\tremaining: 79.7ms\n",
      "99:\tlearn: 0.5841847\ttotal: 7.93s\tremaining: 0us\n"
     ]
    },
    {
     "data": {
      "text/plain": [
       "Pipeline(memory=None,\n",
       "         steps=[('processing',\n",
       "                 Pipeline(memory=None,\n",
       "                          steps=[('record_store_column_remover',\n",
       "                                  ColumnRemover(remove_columns={'country_albania',\n",
       "                                                                'country_algeria',\n",
       "                                                                'country_andorra',\n",
       "                                                                'country_angola',\n",
       "                                                                'country_argentina',\n",
       "                                                                'country_armenia',\n",
       "                                                                'country_aruba',\n",
       "                                                                'country_australia',\n",
       "                                                                'country_austria',\n",
       "                                                                'country_azerbaijan',\n",
       "                                                                'country_bahamas',\n",
       "                                                                'country_bahrain'...\n",
       "                          verbose=False)),\n",
       "                ('grid_search',\n",
       "                 GridSearchCV(cv=KFold(n_splits=5, random_state=None, shuffle=True),\n",
       "                              error_score=nan,\n",
       "                              estimator=<catboost.core.CatBoostRegressor object at 0x7fa0e20bd198>,\n",
       "                              iid='deprecated', n_jobs=3,\n",
       "                              param_grid={'l2_leaf_reg': [1, 3, 5, 8]},\n",
       "                              pre_dispatch='2*n_jobs', refit=True,\n",
       "                              return_train_score=True,\n",
       "                              scoring='neg_mean_absolute_error', verbose=50))],\n",
       "         verbose=False)"
      ]
     },
     "execution_count": 99,
     "metadata": {
      "tags": []
     },
     "output_type": "execute_result"
    }
   ],
   "source": [
    "full_information_catboost_grid_pipe.fit(X_tr_sample,np.log(y_tr_sample).values)"
   ]
  },
  {
   "cell_type": "code",
   "execution_count": 100,
   "metadata": {
    "colab": {
     "base_uri": "https://localhost:8080/",
     "height": 296
    },
    "colab_type": "code",
    "id": "sDzqUDs6k1kW",
    "outputId": "31a2105a-147a-47f7-d528-a92a66e1bd65"
   },
   "outputs": [
    {
     "data": {
      "image/png": "[encoded data removed]",
      "text/plain": [
       "<Figure size 432x288 with 1 Axes>"
      ]
     },
     "metadata": {
      "needs_background": "light",
      "tags": []
     },
     "output_type": "display_data"
    }
   ],
   "source": [
    "full_information_catboost_plot = GridSearchPlotter(full_information_catboost_grid_pipe.steps[-1][1])\n",
    "full_information_catboost_plot.plot_validation_curve(parameter='l2_leaf_reg',ylim=(-1,0))"
   ]
  },
  {
   "cell_type": "code",
   "execution_count": 101,
   "metadata": {
    "colab": {
     "base_uri": "https://localhost:8080/",
     "height": 35
    },
    "colab_type": "code",
    "id": "rYzXoV8jk1kY",
    "outputId": "d5c2d8b0-6953-42c9-ecca-67035e860c66"
   },
   "outputs": [
    {
     "data": {
      "text/plain": [
       "-0.4590229557191348"
      ]
     },
     "execution_count": 101,
     "metadata": {
      "tags": []
     },
     "output_type": "execute_result"
    }
   ],
   "source": [
    "full_information_catboost_grid_pipe.steps[-1][1].best_score_"
   ]
  },
  {
   "cell_type": "code",
   "execution_count": 102,
   "metadata": {
    "colab": {
     "base_uri": "https://localhost:8080/",
     "height": 35
    },
    "colab_type": "code",
    "id": "9DoQX1JHk1ka",
    "outputId": "f5bc68c7-253b-4edf-ae58-33a04e29a4cf"
   },
   "outputs": [
    {
     "data": {
      "text/plain": [
       "{'l2_leaf_reg': 1}"
      ]
     },
     "execution_count": 102,
     "metadata": {
      "tags": []
     },
     "output_type": "execute_result"
    }
   ],
   "source": [
    "full_information_catboost_grid_pipe.steps[-1][1].best_params_"
   ]
  },
  {
   "cell_type": "markdown",
   "metadata": {
    "colab_type": "text",
    "id": "2EaXuIw_jwi6"
   },
   "source": [
    "After having performed grid search on our hyperparameters for CatBoost, we observe that in the final stages, we obtain cross validation mean absolute error that is 0.06 lower than the cross validation mean absolute error for the Record Store scenario. This improvement in mean absolute error is a promising sign for the performance of our model on the test set."
   ]
  },
  {
   "cell_type": "code",
   "execution_count": 103,
   "metadata": {
    "colab": {
     "base_uri": "https://localhost:8080/",
     "height": 1000
    },
    "colab_type": "code",
    "id": "jo9HfiwMk1kd",
    "outputId": "2d7b1037-9d8d-49de-d7df-0d3badd42d46"
   },
   "outputs": [
    {
     "name": "stdout",
     "output_type": "stream",
     "text": [
      "0:\tlearn: 0.8334512\ttotal: 370ms\tremaining: 36.6s\n",
      "1:\tlearn: 0.8033506\ttotal: 734ms\tremaining: 36s\n",
      "2:\tlearn: 0.7784306\ttotal: 1.09s\tremaining: 35.3s\n",
      "3:\tlearn: 0.7560202\ttotal: 1.44s\tremaining: 34.6s\n",
      "4:\tlearn: 0.7374259\ttotal: 1.79s\tremaining: 33.9s\n",
      "5:\tlearn: 0.7210361\ttotal: 2.14s\tremaining: 33.6s\n",
      "6:\tlearn: 0.7070908\ttotal: 2.5s\tremaining: 33.2s\n",
      "7:\tlearn: 0.6941758\ttotal: 2.85s\tremaining: 32.8s\n",
      "8:\tlearn: 0.6825821\ttotal: 3.21s\tremaining: 32.4s\n",
      "9:\tlearn: 0.6726462\ttotal: 3.56s\tremaining: 32s\n",
      "10:\tlearn: 0.6634412\ttotal: 3.91s\tremaining: 31.6s\n",
      "11:\tlearn: 0.6556994\ttotal: 4.26s\tremaining: 31.2s\n",
      "12:\tlearn: 0.6494720\ttotal: 4.61s\tremaining: 30.9s\n",
      "13:\tlearn: 0.6436002\ttotal: 4.97s\tremaining: 30.5s\n",
      "14:\tlearn: 0.6382490\ttotal: 5.33s\tremaining: 30.2s\n",
      "15:\tlearn: 0.6339431\ttotal: 5.68s\tremaining: 29.8s\n",
      "16:\tlearn: 0.6298871\ttotal: 6.03s\tremaining: 29.4s\n",
      "17:\tlearn: 0.6266604\ttotal: 6.39s\tremaining: 29.1s\n",
      "18:\tlearn: 0.6220896\ttotal: 6.76s\tremaining: 28.8s\n",
      "19:\tlearn: 0.6184277\ttotal: 7.12s\tremaining: 28.5s\n",
      "20:\tlearn: 0.6153648\ttotal: 7.47s\tremaining: 28.1s\n",
      "21:\tlearn: 0.6124761\ttotal: 7.82s\tremaining: 27.7s\n",
      "22:\tlearn: 0.6097293\ttotal: 8.18s\tremaining: 27.4s\n",
      "23:\tlearn: 0.6075529\ttotal: 8.54s\tremaining: 27s\n",
      "24:\tlearn: 0.6054293\ttotal: 8.89s\tremaining: 26.7s\n",
      "25:\tlearn: 0.6034635\ttotal: 9.24s\tremaining: 26.3s\n",
      "26:\tlearn: 0.6020760\ttotal: 9.59s\tremaining: 25.9s\n",
      "27:\tlearn: 0.6005131\ttotal: 9.95s\tremaining: 25.6s\n",
      "28:\tlearn: 0.5989353\ttotal: 10.3s\tremaining: 25.3s\n",
      "29:\tlearn: 0.5978102\ttotal: 10.7s\tremaining: 24.9s\n",
      "30:\tlearn: 0.5967663\ttotal: 11s\tremaining: 24.5s\n",
      "31:\tlearn: 0.5958626\ttotal: 11.4s\tremaining: 24.2s\n",
      "32:\tlearn: 0.5946755\ttotal: 11.7s\tremaining: 23.8s\n",
      "33:\tlearn: 0.5940934\ttotal: 11.9s\tremaining: 23.2s\n",
      "34:\tlearn: 0.5933261\ttotal: 12.3s\tremaining: 22.8s\n",
      "35:\tlearn: 0.5924604\ttotal: 12.7s\tremaining: 22.5s\n",
      "36:\tlearn: 0.5919236\ttotal: 13s\tremaining: 22.1s\n",
      "37:\tlearn: 0.5912518\ttotal: 13.4s\tremaining: 21.8s\n",
      "38:\tlearn: 0.5899228\ttotal: 13.7s\tremaining: 21.4s\n",
      "39:\tlearn: 0.5890685\ttotal: 14s\tremaining: 21.1s\n",
      "40:\tlearn: 0.5882942\ttotal: 14.4s\tremaining: 20.7s\n",
      "41:\tlearn: 0.5872845\ttotal: 14.7s\tremaining: 20.4s\n",
      "42:\tlearn: 0.5865388\ttotal: 15.1s\tremaining: 20s\n",
      "43:\tlearn: 0.5862220\ttotal: 15.4s\tremaining: 19.6s\n",
      "44:\tlearn: 0.5852120\ttotal: 15.8s\tremaining: 19.3s\n",
      "45:\tlearn: 0.5849744\ttotal: 16.1s\tremaining: 18.9s\n",
      "46:\tlearn: 0.5849727\ttotal: 16.2s\tremaining: 18.2s\n",
      "47:\tlearn: 0.5849727\ttotal: 16.2s\tremaining: 17.5s\n",
      "48:\tlearn: 0.5839261\ttotal: 16.5s\tremaining: 17.2s\n",
      "49:\tlearn: 0.5835327\ttotal: 16.9s\tremaining: 16.9s\n",
      "50:\tlearn: 0.5831353\ttotal: 17.2s\tremaining: 16.6s\n",
      "51:\tlearn: 0.5824211\ttotal: 17.6s\tremaining: 16.2s\n",
      "52:\tlearn: 0.5824131\ttotal: 17.6s\tremaining: 15.6s\n",
      "53:\tlearn: 0.5824131\ttotal: 17.6s\tremaining: 15s\n",
      "54:\tlearn: 0.5824131\ttotal: 17.7s\tremaining: 14.5s\n",
      "55:\tlearn: 0.5824067\ttotal: 17.7s\tremaining: 13.9s\n",
      "56:\tlearn: 0.5819130\ttotal: 18s\tremaining: 13.6s\n",
      "57:\tlearn: 0.5814670\ttotal: 18.4s\tremaining: 13.3s\n",
      "58:\tlearn: 0.5814670\ttotal: 18.4s\tremaining: 12.8s\n",
      "59:\tlearn: 0.5814670\ttotal: 18.4s\tremaining: 12.3s\n",
      "60:\tlearn: 0.5814618\ttotal: 18.6s\tremaining: 11.9s\n",
      "61:\tlearn: 0.5814617\ttotal: 18.6s\tremaining: 11.4s\n",
      "62:\tlearn: 0.5808482\ttotal: 19s\tremaining: 11.1s\n",
      "63:\tlearn: 0.5808482\ttotal: 19s\tremaining: 10.7s\n",
      "64:\tlearn: 0.5808447\ttotal: 19s\tremaining: 10.2s\n",
      "65:\tlearn: 0.5803083\ttotal: 19.4s\tremaining: 9.97s\n",
      "66:\tlearn: 0.5802937\ttotal: 19.4s\tremaining: 9.56s\n",
      "67:\tlearn: 0.5802937\ttotal: 19.4s\tremaining: 9.14s\n",
      "68:\tlearn: 0.5801328\ttotal: 19.5s\tremaining: 8.76s\n",
      "69:\tlearn: 0.5801240\ttotal: 19.6s\tremaining: 8.38s\n",
      "70:\tlearn: 0.5801240\ttotal: 19.6s\tremaining: 8s\n",
      "71:\tlearn: 0.5801240\ttotal: 19.6s\tremaining: 7.62s\n",
      "72:\tlearn: 0.5796122\ttotal: 19.9s\tremaining: 7.38s\n",
      "73:\tlearn: 0.5796092\ttotal: 20s\tremaining: 7.03s\n",
      "74:\tlearn: 0.5796067\ttotal: 20.1s\tremaining: 6.69s\n",
      "75:\tlearn: 0.5796052\ttotal: 20.1s\tremaining: 6.36s\n",
      "76:\tlearn: 0.5796052\ttotal: 20.2s\tremaining: 6.02s\n",
      "77:\tlearn: 0.5795985\ttotal: 20.2s\tremaining: 5.7s\n",
      "78:\tlearn: 0.5795985\ttotal: 20.2s\tremaining: 5.38s\n",
      "79:\tlearn: 0.5795985\ttotal: 20.3s\tremaining: 5.07s\n",
      "80:\tlearn: 0.5795939\ttotal: 20.5s\tremaining: 4.8s\n",
      "81:\tlearn: 0.5795939\ttotal: 20.5s\tremaining: 4.5s\n",
      "82:\tlearn: 0.5795920\ttotal: 20.5s\tremaining: 4.21s\n",
      "83:\tlearn: 0.5793241\ttotal: 20.9s\tremaining: 3.98s\n",
      "84:\tlearn: 0.5792615\ttotal: 21s\tremaining: 3.71s\n",
      "85:\tlearn: 0.5789223\ttotal: 21.4s\tremaining: 3.48s\n",
      "86:\tlearn: 0.5789188\ttotal: 21.4s\tremaining: 3.2s\n",
      "87:\tlearn: 0.5788892\ttotal: 21.5s\tremaining: 2.93s\n",
      "88:\tlearn: 0.5788892\ttotal: 21.5s\tremaining: 2.66s\n",
      "89:\tlearn: 0.5788892\ttotal: 21.5s\tremaining: 2.39s\n",
      "90:\tlearn: 0.5788892\ttotal: 21.6s\tremaining: 2.13s\n",
      "91:\tlearn: 0.5788891\ttotal: 21.6s\tremaining: 1.88s\n",
      "92:\tlearn: 0.5788891\ttotal: 21.6s\tremaining: 1.63s\n",
      "93:\tlearn: 0.5788824\ttotal: 21.8s\tremaining: 1.39s\n",
      "94:\tlearn: 0.5788821\ttotal: 21.8s\tremaining: 1.15s\n",
      "95:\tlearn: 0.5787380\ttotal: 22.2s\tremaining: 923ms\n",
      "96:\tlearn: 0.5787379\ttotal: 22.2s\tremaining: 686ms\n",
      "97:\tlearn: 0.5787379\ttotal: 22.2s\tremaining: 453ms\n",
      "98:\tlearn: 0.5787379\ttotal: 22.2s\tremaining: 224ms\n",
      "99:\tlearn: 0.5787379\ttotal: 22.2s\tremaining: 0us\n"
     ]
    },
    {
     "data": {
      "text/plain": [
       "Pipeline(memory=None,\n",
       "         steps=[('processing',\n",
       "                 Pipeline(memory=None,\n",
       "                          steps=[('record_store_column_remover',\n",
       "                                  ColumnRemover(remove_columns={'country_albania',\n",
       "                                                                'country_algeria',\n",
       "                                                                'country_andorra',\n",
       "                                                                'country_angola',\n",
       "                                                                'country_argentina',\n",
       "                                                                'country_armenia',\n",
       "                                                                'country_aruba',\n",
       "                                                                'country_australia',\n",
       "                                                                'country_austria',\n",
       "                                                                'country_azerbaijan',\n",
       "                                                                'country_bahamas',\n",
       "                                                                'country_bahrain'...\n",
       "                                                                '(plurinational '\n",
       "                                                                'state of)',\n",
       "                                                                'country_bosnia '\n",
       "                                                                'and '\n",
       "                                                                'herzegovina',\n",
       "                                                                'country_brazil',\n",
       "                                                                'country_bulgaria',\n",
       "                                                                'country_cabo '\n",
       "                                                                'verde',\n",
       "                                                                'country_cambodia',\n",
       "                                                                'country_cameroon',\n",
       "                                                                'country_canada',\n",
       "                                                                'country_chile',\n",
       "                                                                'country_china',\n",
       "                                                                'country_colombia',\n",
       "                                                                'country_congo', ...}))],\n",
       "                          verbose=False)),\n",
       "                ('catboost',\n",
       "                 <catboost.core.CatBoostRegressor object at 0x7fa0e20bd198>)],\n",
       "         verbose=False)"
      ]
     },
     "execution_count": 103,
     "metadata": {
      "tags": []
     },
     "output_type": "execute_result"
    }
   ],
   "source": [
    "full_information_catboost_pipe.fit(X_tr,np.log(y_tr))"
   ]
  },
  {
   "cell_type": "code",
   "execution_count": null,
   "metadata": {
    "colab": {},
    "colab_type": "code",
    "id": "za9_3tZ-k1kf"
   },
   "outputs": [],
   "source": [
    "full_information_catboost_te_pred = full_information_catboost_pipe.predict(X_te)"
   ]
  },
  {
   "cell_type": "code",
   "execution_count": 105,
   "metadata": {
    "colab": {
     "base_uri": "https://localhost:8080/",
     "height": 35
    },
    "colab_type": "code",
    "id": "fJzDaxL1k1kh",
    "outputId": "c5c4a25e-530e-4412-a7cf-af115f697266"
   },
   "outputs": [
    {
     "data": {
      "text/plain": [
       "0.39308114577517295"
      ]
     },
     "execution_count": 105,
     "metadata": {
      "tags": []
     },
     "output_type": "execute_result"
    }
   ],
   "source": [
    "record_store_catboost_r2 = r2_score(y_te,np.exp(full_information_catboost_te_pred))\n",
    "record_store_catboost_r2"
   ]
  },
  {
   "cell_type": "code",
   "execution_count": 106,
   "metadata": {
    "colab": {
     "base_uri": "https://localhost:8080/",
     "height": 35
    },
    "colab_type": "code",
    "id": "WmjFcYRak1kk",
    "outputId": "78fe1215-568b-4323-852f-a1a9f54b1cd8"
   },
   "outputs": [
    {
     "data": {
      "text/plain": [
       "7.135489993401015"
      ]
     },
     "execution_count": 106,
     "metadata": {
      "tags": []
     },
     "output_type": "execute_result"
    }
   ],
   "source": [
    "record_store_catboost_mae = mean_absolute_error(y_te,np.exp(full_information_catboost_te_pred))\n",
    "record_store_catboost_mae"
   ]
  },
  {
   "cell_type": "markdown",
   "metadata": {
    "colab_type": "text",
    "id": "-KwfGKeBgZuv"
   },
   "source": [
    "As foreshadowed by the improvement in our cross validation mean absolute error, we observe a distinct reduction in the magnitude of our test set Mean Absolute Error for CatBoost, with a reduction of about 0.67, and a 12 point increase in R2. Unlike for previous algorithms, we can identify that the inclusion of the Full Information suite of features results in a stronger model for the prediction of ``market_value``. This is an interesting result, as for previous algorithms, we saw little to no improvement from the inclusion of these features, despite our intuition pointing towards the fact that they should, as it includes features such as ``community_have`` and ``community_want``, which reflect the supply and demand for a given album, respectively. Given that this model actually manages to perform much better than previous models, we see this change in performance via the inclusion of the Full Information features as an argument for the importance of these features in being able to predict Jazz album ``market_value``. Nonetheless, it must also be stated that even with this improvement in performance, the model still does not prove to be highly accurate in estimating the ``market_value`` of Jazz albums, which leads us to conclude that on the whole, even with the use highly sophisticated machine learning algorithms, that it is not possible to predict the market value of a Jazz album on the basis of its meta characteristics alone to an acceptable level of error."
   ]
  },
  {
   "cell_type": "markdown",
   "metadata": {
    "colab_type": "text",
    "id": "8aGyejLgLg5q"
   },
   "source": [
    "## Identification of Feature Importances\n",
    "As we are making use of the CatBoost algorithm, we benefit from being able to identify the strength of feature importances used in the model. This will allow us to more deeply understand what features in our models are proving the most useful in the prediction of ``market_value``."
   ]
  },
  {
   "cell_type": "code",
   "execution_count": null,
   "metadata": {
    "colab": {},
    "colab_type": "code",
    "id": "Vel9VOBLLg5r"
   },
   "outputs": [],
   "source": [
    "full_information_feature_importance_transformation_pipe = full_information_catboost_processing_pipe.fit(X_tr,np.log(y_tr).values)\n",
    "record_store_feature_importance_transformation_pipe = record_store_catboost_processing_pipe.fit(X_tr,np.log(y_tr).values)\n",
    "record_store_catboost_feature_importances = dict(zip(\n",
    "    record_store_feature_importance_transformation_pipe.transform(X_te).columns,\n",
    "    record_store_catboost_pipe.steps[-1][-1].feature_importances_\n",
    "))\n",
    "full_information_catboost_feature_importances = dict(zip(\n",
    "    full_information_feature_importance_transformation_pipe.transform(X_te).columns,\n",
    "    full_information_catboost_pipe.steps[-1][-1].feature_importances_\n",
    "))"
   ]
  },
  {
   "cell_type": "code",
   "execution_count": 108,
   "metadata": {
    "colab": {
     "base_uri": "https://localhost:8080/",
     "height": 393
    },
    "colab_type": "code",
    "id": "oZ_AqucEotly",
    "outputId": "9e072dd3-744f-4495-f8ac-4d9470eadb98"
   },
   "outputs": [
    {
     "data": {
      "text/plain": [
       "artist                                    20.206045\n",
       "country                                   18.122346\n",
       "standards_count                           14.100470\n",
       "format_text                                7.640157\n",
       "label                                      5.963976\n",
       "year                                       5.565442\n",
       "master_id                                  3.703731\n",
       "superregion_americas                       3.696984\n",
       "superregion_oceania                        3.423152\n",
       "region_latin america and the caribbean     2.835549\n",
       "superregion_unknown                        1.913944\n",
       "style_Other                                1.644964\n",
       "superregion_africa                         1.426456\n",
       "format_description_Album                   1.331155\n",
       "format_description_LP                      1.298535\n",
       "format_name_other                          0.928228\n",
       "superregion_europe                         0.850088\n",
       "format_name_Vinyl                          0.761141\n",
       "period_big_band                            0.659262\n",
       "era_swing                                  0.630821\n",
       "dtype: float64"
      ]
     },
     "execution_count": 108,
     "metadata": {
      "tags": []
     },
     "output_type": "execute_result"
    }
   ],
   "source": [
    "pd.Series(record_store_catboost_feature_importances).sort_values(ascending=False).head(20)"
   ]
  },
  {
   "cell_type": "code",
   "execution_count": 109,
   "metadata": {
    "colab": {
     "base_uri": "https://localhost:8080/",
     "height": 393
    },
    "colab_type": "code",
    "id": "so5RN2cBLg5s",
    "outputId": "8a2d7c4f-9e46-44fa-c7c8-9aff0a5eacc2"
   },
   "outputs": [
    {
     "data": {
      "text/plain": [
       "community_want                20.206045\n",
       "country                       18.122346\n",
       "units_for_sale                14.100470\n",
       "format_name                    7.640157\n",
       "label                          5.963976\n",
       "year                           5.565442\n",
       "community_have                 3.703731\n",
       "artist                         3.696984\n",
       "superregion_asia               3.423152\n",
       "region_eastern asia            2.835549\n",
       "superregion_europe             1.913944\n",
       "average_rating                 1.644964\n",
       "master_id                      1.426456\n",
       "format_quantity                1.331155\n",
       "format_text                    1.298535\n",
       "number_of_tracks               0.928228\n",
       "superregion_americas           0.850088\n",
       "format_description_Reissue     0.761141\n",
       "era_modern                     0.659262\n",
       "format_name_CD                 0.630821\n",
       "dtype: float64"
      ]
     },
     "execution_count": 109,
     "metadata": {
      "tags": []
     },
     "output_type": "execute_result"
    }
   ],
   "source": [
    "pd.Series(full_information_catboost_feature_importances).sort_values(ascending=False).head(20)"
   ]
  },
  {
   "cell_type": "markdown",
   "metadata": {
    "colab_type": "text",
    "id": "QElDrqU4xIot"
   },
   "source": [
    "From the above, we "
   ]
  },
  {
   "cell_type": "code",
   "execution_count": null,
   "metadata": {
    "colab": {},
    "colab_type": "code",
    "id": "uA8vxugaqKFb"
   },
   "outputs": [],
   "source": []
  }
 ],
 "metadata": {
  "accelerator": "GPU",
  "colab": {
   "machine_shape": "hm",
   "name": "03-Modelling.ipynb",
   "provenance": [],
   "toc_visible": true
  },
  "kernelspec": {
   "display_name": "Python 3",
   "language": "python",
   "name": "python3"
  },
  "language_info": {
   "codemirror_mode": {
    "name": "ipython",
    "version": 3
   },
   "file_extension": ".py",
   "mimetype": "text/x-python",
   "name": "python",
   "nbconvert_exporter": "python",
   "pygments_lexer": "ipython3",
   "version": "3.6.10"
  },
  "widgets": {
   "application/vnd.jupyter.widget-state+json": {
    "0998706103c941c58c2341c348c6da6d": {
     "model_module": "@jupyter-widgets/controls",
     "model_name": "HTMLModel",
     "state": {
      "_dom_classes": [],
      "_model_module": "@jupyter-widgets/controls",
      "_model_module_version": "1.5.0",
      "_model_name": "HTMLModel",
      "_view_count": null,
      "_view_module": "@jupyter-widgets/controls",
      "_view_module_version": "1.5.0",
      "_view_name": "HTMLView",
      "description": "",
      "description_tooltip": null,
      "layout": "IPY_MODEL_9a39cd4922124630abab357d3e8ca7ab",
      "placeholder": "​",
      "style": "IPY_MODEL_1971906f1a7e4c2b9eee65b5bb895c38",
      "value": " 8/8 [00:02&lt;00:00,  2.75it/s]"
     }
    },
    "1971906f1a7e4c2b9eee65b5bb895c38": {
     "model_module": "@jupyter-widgets/controls",
     "model_name": "DescriptionStyleModel",
     "state": {
      "_model_module": "@jupyter-widgets/controls",
      "_model_module_version": "1.5.0",
      "_model_name": "DescriptionStyleModel",
      "_view_count": null,
      "_view_module": "@jupyter-widgets/base",
      "_view_module_version": "1.2.0",
      "_view_name": "StyleView",
      "description_width": ""
     }
    },
    "64c2fd2d2f3e4b8eb7841833b8b71a85": {
     "model_module": "@jupyter-widgets/controls",
     "model_name": "HBoxModel",
     "state": {
      "_dom_classes": [],
      "_model_module": "@jupyter-widgets/controls",
      "_model_module_version": "1.5.0",
      "_model_name": "HBoxModel",
      "_view_count": null,
      "_view_module": "@jupyter-widgets/controls",
      "_view_module_version": "1.5.0",
      "_view_name": "HBoxView",
      "box_style": "",
      "children": [
       "IPY_MODEL_cec5ad289bef4950b53f6a9697489d6f",
       "IPY_MODEL_0998706103c941c58c2341c348c6da6d"
      ],
      "layout": "IPY_MODEL_c0cc44bc2f9f4b40b78dabbc564307c2"
     }
    },
    "9a39cd4922124630abab357d3e8ca7ab": {
     "model_module": "@jupyter-widgets/base",
     "model_name": "LayoutModel",
     "state": {
      "_model_module": "@jupyter-widgets/base",
      "_model_module_version": "1.2.0",
      "_model_name": "LayoutModel",
      "_view_count": null,
      "_view_module": "@jupyter-widgets/base",
      "_view_module_version": "1.2.0",
      "_view_name": "LayoutView",
      "align_content": null,
      "align_items": null,
      "align_self": null,
      "border": null,
      "bottom": null,
      "display": null,
      "flex": null,
      "flex_flow": null,
      "grid_area": null,
      "grid_auto_columns": null,
      "grid_auto_flow": null,
      "grid_auto_rows": null,
      "grid_column": null,
      "grid_gap": null,
      "grid_row": null,
      "grid_template_areas": null,
      "grid_template_columns": null,
      "grid_template_rows": null,
      "height": null,
      "justify_content": null,
      "justify_items": null,
      "left": null,
      "margin": null,
      "max_height": null,
      "max_width": null,
      "min_height": null,
      "min_width": null,
      "object_fit": null,
      "object_position": null,
      "order": null,
      "overflow": null,
      "overflow_x": null,
      "overflow_y": null,
      "padding": null,
      "right": null,
      "top": null,
      "visibility": null,
      "width": null
     }
    },
    "b0fd2419f1584aa0aebf62037dd864e0": {
     "model_module": "@jupyter-widgets/base",
     "model_name": "LayoutModel",
     "state": {
      "_model_module": "@jupyter-widgets/base",
      "_model_module_version": "1.2.0",
      "_model_name": "LayoutModel",
      "_view_count": null,
      "_view_module": "@jupyter-widgets/base",
      "_view_module_version": "1.2.0",
      "_view_name": "LayoutView",
      "align_content": null,
      "align_items": null,
      "align_self": null,
      "border": null,
      "bottom": null,
      "display": null,
      "flex": null,
      "flex_flow": null,
      "grid_area": null,
      "grid_auto_columns": null,
      "grid_auto_flow": null,
      "grid_auto_rows": null,
      "grid_column": null,
      "grid_gap": null,
      "grid_row": null,
      "grid_template_areas": null,
      "grid_template_columns": null,
      "grid_template_rows": null,
      "height": null,
      "justify_content": null,
      "justify_items": null,
      "left": null,
      "margin": null,
      "max_height": null,
      "max_width": null,
      "min_height": null,
      "min_width": null,
      "object_fit": null,
      "object_position": null,
      "order": null,
      "overflow": null,
      "overflow_x": null,
      "overflow_y": null,
      "padding": null,
      "right": null,
      "top": null,
      "visibility": null,
      "width": null
     }
    },
    "b63b092cff10472fa3f5ac7b0c22fb4d": {
     "model_module": "@jupyter-widgets/controls",
     "model_name": "ProgressStyleModel",
     "state": {
      "_model_module": "@jupyter-widgets/controls",
      "_model_module_version": "1.5.0",
      "_model_name": "ProgressStyleModel",
      "_view_count": null,
      "_view_module": "@jupyter-widgets/base",
      "_view_module_version": "1.2.0",
      "_view_name": "StyleView",
      "bar_color": null,
      "description_width": "initial"
     }
    },
    "c0cc44bc2f9f4b40b78dabbc564307c2": {
     "model_module": "@jupyter-widgets/base",
     "model_name": "LayoutModel",
     "state": {
      "_model_module": "@jupyter-widgets/base",
      "_model_module_version": "1.2.0",
      "_model_name": "LayoutModel",
      "_view_count": null,
      "_view_module": "@jupyter-widgets/base",
      "_view_module_version": "1.2.0",
      "_view_name": "LayoutView",
      "align_content": null,
      "align_items": null,
      "align_self": null,
      "border": null,
      "bottom": null,
      "display": null,
      "flex": null,
      "flex_flow": null,
      "grid_area": null,
      "grid_auto_columns": null,
      "grid_auto_flow": null,
      "grid_auto_rows": null,
      "grid_column": null,
      "grid_gap": null,
      "grid_row": null,
      "grid_template_areas": null,
      "grid_template_columns": null,
      "grid_template_rows": null,
      "height": null,
      "justify_content": null,
      "justify_items": null,
      "left": null,
      "margin": null,
      "max_height": null,
      "max_width": null,
      "min_height": null,
      "min_width": null,
      "object_fit": null,
      "object_position": null,
      "order": null,
      "overflow": null,
      "overflow_x": null,
      "overflow_y": null,
      "padding": null,
      "right": null,
      "top": null,
      "visibility": null,
      "width": null
     }
    },
    "cec5ad289bef4950b53f6a9697489d6f": {
     "model_module": "@jupyter-widgets/controls",
     "model_name": "FloatProgressModel",
     "state": {
      "_dom_classes": [],
      "_model_module": "@jupyter-widgets/controls",
      "_model_module_version": "1.5.0",
      "_model_name": "FloatProgressModel",
      "_view_count": null,
      "_view_module": "@jupyter-widgets/controls",
      "_view_module_version": "1.5.0",
      "_view_name": "ProgressView",
      "bar_style": "success",
      "description": "100%",
      "description_tooltip": null,
      "layout": "IPY_MODEL_b0fd2419f1584aa0aebf62037dd864e0",
      "max": 8,
      "min": 0,
      "orientation": "horizontal",
      "style": "IPY_MODEL_b63b092cff10472fa3f5ac7b0c22fb4d",
      "value": 8
     }
    }
   }
  }
 },
 "nbformat": 4,
 "nbformat_minor": 4
}
