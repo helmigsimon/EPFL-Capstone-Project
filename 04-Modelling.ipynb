{
 "cells": [
  {
   "cell_type": "markdown",
   "metadata": {
    "colab_type": "text",
    "id": "buFUSHKt8apx"
   },
   "source": [
    "## 03 - Modelling"
   ]
  },
  {
   "cell_type": "markdown",
   "metadata": {
    "colab_type": "text",
    "id": "lunHqQ7B8apz"
   },
   "source": [
    "## Optional - Colab Setup"
   ]
  },
  {
   "cell_type": "code",
   "execution_count": null,
   "metadata": {
    "colab": {},
    "colab_type": "code",
    "id": "qQQCreB5gAR_"
   },
   "outputs": [],
   "source": [
    "def upgrade_runtime_ram():\n",
    "    meminfo = subprocess.getoutput('cat /proc/meminfo').split('\\n')\n",
    "\n",
    "    memory_info = {entry.split(':')[0]: int(entry.split(':')[1].replace(' kB','').strip()) for entry in meminfo}\n",
    "\n",
    "    if memory_info['MemTotal'] > 17000000:\n",
    "        return\n",
    "\n",
    "    a = []\n",
    "    while(1):\n",
    "        a.append('1')"
   ]
  },
  {
   "cell_type": "code",
   "execution_count": null,
   "metadata": {
    "colab": {},
    "colab_type": "code",
    "id": "waACZBi_8ap2"
   },
   "outputs": [],
   "source": [
    "def restart_runtime():\n",
    "    os.kill(os.getpid(), 9)"
   ]
  },
  {
   "cell_type": "code",
   "execution_count": null,
   "metadata": {
    "colab": {},
    "colab_type": "code",
    "id": "YIsGqbsy8aqB"
   },
   "outputs": [],
   "source": [
    "def setup_rapids():\n",
    "    pynvml.nvmlInit()\n",
    "    handle = pynvml.nvmlDeviceGetHandleByIndex(0)\n",
    "    device_name = pynvml.nvmlDeviceGetName(handle)\n",
    "    if (device_name != b'Tesla T4') and (device_name != b'Tesla P4') and (device_name != b'Tesla P100-PCIE-16GB'):\n",
    "        print(\"Wrong GPU - Restarting Runtime\")\n",
    "        restart_runtime()\n",
    "\n",
    "\n",
    "    # clone RAPIDS AI rapidsai-csp-utils scripts repo\n",
    "    !git clone https://github.com/rapidsai/rapidsai-csp-utils.git\n",
    "\n",
    "    # install RAPIDS\n",
    "    !bash rapidsai-csp-utils/colab/rapids-colab.sh 0.13\n",
    "\n",
    "\n",
    "    # set necessary environment variables \n",
    "    dist_package_index = sys.path.index('/usr/local/lib/python3.6/dist-packages')\n",
    "    sys.path = sys.path[:dist_package_index] + ['/usr/local/lib/python3.6/site-packages'] + sys.path[dist_package_index:]\n",
    "    sys.path\n",
    "\n",
    "    # update pyarrow & modules \n",
    "    exec(open('rapidsai-csp-utils/colab/update_modules.py').read(), globals())"
   ]
  },
  {
   "cell_type": "code",
   "execution_count": null,
   "metadata": {
    "colab": {},
    "colab_type": "code",
    "id": "9CcPvNIo8aqI"
   },
   "outputs": [],
   "source": [
    "def setup_conda():\n",
    "    if not 'Miniconda3-4.5.4-Linux-x86_64.sh' in os.listdir():\n",
    "        !wget https://repo.continuum.io/miniconda/Miniconda3-4.5.4-Linux-x86_64.sh && bash Miniconda3-4.5.4-Linux-x86_64.sh -bfp /usr/local\n",
    "\n",
    "    if not ('EPFL-Capstone-Project' in os.listdir()) and (os.getcwd().split('/')[-1] != 'EPFL-Capstone-Project'):\n",
    "        !git clone https://github.com/helmigsimon/EPFL-Capstone-Project  \n",
    "    if 'EPFL-Capstone-Project' in os.listdir():\n",
    "        os.chdir('EPFL-Capstone-Project')\n",
    "\n",
    "    !conda env create -f environment.yml\n",
    "    !conda activate exts-ml"
   ]
  },
  {
   "cell_type": "code",
   "execution_count": null,
   "metadata": {
    "colab": {},
    "colab_type": "code",
    "id": "WHSZ-lgE8aqP"
   },
   "outputs": [],
   "source": [
    "def setup_drive():\n",
    "    #Mounting Google Drive\n",
    "    global drive\n",
    "    from google.colab import drive\n",
    "    drive.mount('/content/drive')"
   ]
  },
  {
   "cell_type": "code",
   "execution_count": null,
   "metadata": {
    "colab": {
     "base_uri": "https://localhost:8080/",
     "height": 1000
    },
    "colab_type": "code",
    "id": "N_uPJqb58aqW",
    "outputId": "ba09a45b-5284-4428-8eaa-8b64816531be"
   },
   "outputs": [],
   "source": [
    "try:\n",
    "    import sys,os,subprocess\n",
    "    \n",
    "    upgrade_runtime_ram()\n",
    "    setup_drive()\n",
    "\n",
    "    #Setting up PyPi Packages\n",
    "    !pip install geopandas sparse-dot-topn pdpipe category-encoders catboost\n",
    "    import geopandas as gpd\n",
    "    import sparse_dot_topn.sparse_dot_topn as ct\n",
    "    import pdpipe as pdp\n",
    "    import category_encoders\n",
    "\n",
    "    #Setting up Conda Packages\n",
    "    setup_conda()\n",
    "    \n",
    "    #Initializing NLTK\n",
    "    import nltk\n",
    "    nltk.download('stopwords')\n",
    "    nltk.download('punkt')\n",
    "    \n",
    "    #Setting up RAPIDS AI\n",
    "    import pynvml\n",
    "    setup_rapids()\n",
    "    \n",
    "    from cuml import UMAP\n",
    "    \n",
    "except ModuleNotFoundError as e:\n",
    "    print(e)\n",
    "    print('Not in colab environment, continuing to run locally')\n",
    "    from umap import UMAP"
   ]
  },
  {
   "cell_type": "markdown",
   "metadata": {
    "colab_type": "text",
    "id": "Kvn45BG28aqd"
   },
   "source": [
    "## Imports"
   ]
  },
  {
   "cell_type": "code",
   "execution_count": 1,
   "metadata": {
    "colab": {},
    "colab_type": "code",
    "id": "IRijjSry8aqf"
   },
   "outputs": [],
   "source": [
    "%matplotlib inline\n",
    "import pandas as pd\n",
    "import numpy as np\n",
    "from tqdm import tqdm\n",
    "import matplotlib.pyplot as plt\n",
    "from sklearn.linear_model import SGDRegressor\n",
    "from sklearn.preprocessing import StandardScaler\n",
    "from sklearn.model_selection import GridSearchCV, train_test_split,  StratifiedKFold\n",
    "from sklearn.pipeline import Pipeline\n",
    "from sklearn.metrics import mean_absolute_error, mean_squared_error, r2_score\n",
    "tqdm.pandas()"
   ]
  },
  {
   "cell_type": "code",
   "execution_count": 152,
   "metadata": {
    "colab": {},
    "colab_type": "code",
    "id": "fEgS7UQD8aqk"
   },
   "outputs": [],
   "source": [
    "from sklearn.model_selection import train_test_split\n",
    "from sklearn.impute import SimpleImputer\n",
    "from sklearn.compose import ColumnTransformer\n",
    "from sklearn.preprocessing import OneHotEncoder, FunctionTransformer\n",
    "from sklearn.model_selection import KFold\n",
    "from sklearn.dummy import DummyRegressor\n",
    "from sklearn.ensemble import RandomForestRegressor\n",
    "from sklearn.decomposition import PCA"
   ]
  },
  {
   "cell_type": "code",
   "execution_count": 4,
   "metadata": {
    "colab": {},
    "colab_type": "code",
    "id": "u5KwAwAe8aqp"
   },
   "outputs": [],
   "source": [
    "from lib.transformers import *\n",
    "from lib.pipelines import *\n",
    "from lib.processing import save_to_pkl, load_from_pkl\n",
    "from lib.visualization import GridSearchPlotter\n",
    "from data.util.paths import DATA_PATH"
   ]
  },
  {
   "cell_type": "code",
   "execution_count": 5,
   "metadata": {
    "colab": {},
    "colab_type": "code",
    "id": "ixGjIOwS8aq1"
   },
   "outputs": [],
   "source": [
    "from category_encoders.leave_one_out import LeaveOneOutEncoder"
   ]
  },
  {
   "cell_type": "code",
   "execution_count": 6,
   "metadata": {
    "colab": {},
    "colab_type": "code",
    "id": "X4_WNHlLW7Lt"
   },
   "outputs": [],
   "source": [
    "try:\n",
    "    from cuml import LinearRegression, RandomForestRegressor\n",
    "except ModuleNotFoundError:\n",
    "    pass"
   ]
  },
  {
   "cell_type": "code",
   "execution_count": 7,
   "metadata": {
    "colab": {
     "base_uri": "https://localhost:8080/",
     "height": 312
    },
    "colab_type": "code",
    "id": "K3Ig2yYxXIrV",
    "outputId": "ae79f8e8-a65c-4f00-f98d-f4217223f031"
   },
   "outputs": [],
   "source": [
    "from catboost import CatBoostRegressor"
   ]
  },
  {
   "cell_type": "markdown",
   "metadata": {
    "colab_type": "text",
    "id": "YwJ6GSBC3Qtz"
   },
   "source": [
    "## Loading Data"
   ]
  },
  {
   "cell_type": "code",
   "execution_count": 8,
   "metadata": {
    "colab": {},
    "colab_type": "code",
    "id": "RiNFe3gX3Qtz"
   },
   "outputs": [],
   "source": [
    "df = load_from_pkl('final',DATA_PATH)"
   ]
  },
  {
   "cell_type": "code",
   "execution_count": 9,
   "metadata": {
    "colab": {},
    "colab_type": "code",
    "id": "1hbzpOTylHCB"
   },
   "outputs": [
    {
     "data": {
      "application/vnd.jupyter.widget-view+json": {
       "model_id": "931822e94f8c4ea8b5a8a20fe2a1f7dd",
       "version_major": 2,
       "version_minor": 0
      },
      "text/plain": [
       "HBox(children=(FloatProgress(value=0.0, max=8.0), HTML(value='')))"
      ]
     },
     "metadata": {},
     "output_type": "display_data"
    },
    {
     "name": "stdout",
     "output_type": "stream",
     "text": [
      "\n"
     ]
    }
   ],
   "source": [
    "col_set = {\n",
    "    'format': {\n",
    "        'description': 'format_description_', \n",
    "        'name': 'format_name_', \n",
    "        'text': ('format_text_clean'),\n",
    "        'quantity': ('format_quantity')\n",
    "    },\n",
    "    'geography': {\n",
    "        'superregion': 'superregion_',\n",
    "        'region': 'region_',\n",
    "        'country': 'country_'\n",
    "    },\n",
    "    'timeperiod': {\n",
    "        'period': 'period_',\n",
    "        'era': 'era_'\n",
    "    },\n",
    "    'genre': 'genre_',\n",
    "    'style': 'style_',\n",
    "    'null': None,\n",
    "    'indicator': lambda x: x.max() == 1 and x.min() == 0,\n",
    "    'image_embedding': 'image_umap_'\n",
    "}\n",
    "column_store = ColumnStore()\n",
    "column_store.fit(df,col_set)"
   ]
  },
  {
   "cell_type": "markdown",
   "metadata": {
    "colab_type": "text",
    "id": "Gz00X-1E8arN"
   },
   "source": [
    "## Preparing for Machine Learning"
   ]
  },
  {
   "cell_type": "code",
   "execution_count": 10,
   "metadata": {
    "colab": {},
    "colab_type": "code",
    "id": "7hLwsGal8arO"
   },
   "outputs": [],
   "source": [
    "X_tr, X_te, y_tr, y_te = train_test_split(df.drop('market_value',axis=1),df.market_value)"
   ]
  },
  {
   "cell_type": "code",
   "execution_count": 11,
   "metadata": {
    "colab": {},
    "colab_type": "code",
    "id": "btPvMT9ZAfi3"
   },
   "outputs": [],
   "source": [
    "df_sample = pd.concat([X_tr,y_tr],axis=1).sample(frac=0.1)\n",
    "X_tr_sample = df_sample.drop('market_value',axis=1)\n",
    "y_tr_sample = df_sample['market_value']"
   ]
  },
  {
   "cell_type": "code",
   "execution_count": 12,
   "metadata": {
    "colab": {},
    "colab_type": "code",
    "id": "KHFqqLDIZ8s-"
   },
   "outputs": [],
   "source": [
    "del df"
   ]
  },
  {
   "cell_type": "markdown",
   "metadata": {
    "colab_type": "text",
    "id": "pk_qZ4Lu947Y"
   },
   "source": [
    "## Setting up Dummy Regression for baseline"
   ]
  },
  {
   "cell_type": "code",
   "execution_count": null,
   "metadata": {
    "colab": {},
    "colab_type": "code",
    "id": "tTWU4_un6lR2"
   },
   "outputs": [],
   "source": [
    "dummy_regressor = DummyRegressor(strategy='mean')"
   ]
  },
  {
   "cell_type": "code",
   "execution_count": null,
   "metadata": {
    "colab": {
     "base_uri": "https://localhost:8080/",
     "height": 35
    },
    "colab_type": "code",
    "id": "eq6ZiI7y7Rmd",
    "outputId": "08ccf28f-34dd-445f-c3f2-b035c83c6074"
   },
   "outputs": [],
   "source": [
    "dummy_regressor.fit(X_tr,np.log(y_tr).values)"
   ]
  },
  {
   "cell_type": "code",
   "execution_count": null,
   "metadata": {
    "colab": {},
    "colab_type": "code",
    "id": "3ET6x4I-DXWP"
   },
   "outputs": [],
   "source": [
    "dummy_pred = dummy_regressor.predict(X_te)"
   ]
  },
  {
   "cell_type": "code",
   "execution_count": null,
   "metadata": {
    "colab": {
     "base_uri": "https://localhost:8080/",
     "height": 35
    },
    "colab_type": "code",
    "id": "h-oMdqdnDUjz",
    "outputId": "7aaa25ea-36a7-48f9-bebf-7a0eea15a19d"
   },
   "outputs": [],
   "source": [
    "r2_score(y_te,np.exp(dummy_pred))"
   ]
  },
  {
   "cell_type": "code",
   "execution_count": null,
   "metadata": {
    "colab": {
     "base_uri": "https://localhost:8080/",
     "height": 35
    },
    "colab_type": "code",
    "id": "Gw0h8_hCC4x4",
    "outputId": "66f2f49b-729a-42d8-e823-9864e5db928d"
   },
   "outputs": [],
   "source": [
    "mean_absolute_error(y_te,np.exp(dummy_pred))"
   ]
  },
  {
   "cell_type": "markdown",
   "metadata": {
    "colab_type": "text",
    "id": "DYJYPpPP-AaC"
   },
   "source": [
    "Ridge Regression"
   ]
  },
  {
   "cell_type": "code",
   "execution_count": null,
   "metadata": {
    "colab": {},
    "colab_type": "code",
    "id": "2eULFAcQ8arZ"
   },
   "outputs": [],
   "source": [
    "full_information_transformer = ColumnTransformer(transformers=[\n",
    "    ('units_for_sale_imputer', SimpleImputer(strategy='constant',fill_value=0),['units_for_sale']),\n",
    "    ('average_rating_imputer', SimpleImputer(strategy='mean'),['average_rating']),\n",
    "    ('year_encoder', OneHotEncoder(dtype=np.uint8), ['year'])\n",
    "], remainder='passthrough')"
   ]
  },
  {
   "cell_type": "code",
   "execution_count": null,
   "metadata": {
    "colab": {},
    "colab_type": "code",
    "id": "WCI8WWUu8ard"
   },
   "outputs": [],
   "source": [
    "record_store_lr_transformer = ColumnTransformer(transformers=[\n",
    "    ('year_encoder', OneHotEncoder(dtype=np.uint8,handle_unknown='ignore'), ['year'])\n",
    "], remainder='passthrough')"
   ]
  },
  {
   "cell_type": "code",
   "execution_count": null,
   "metadata": {
    "colab": {},
    "colab_type": "code",
    "id": "AZHfrogk8arh"
   },
   "outputs": [],
   "source": [
    "record_store_lr_removal_columns = [\n",
    "    'market_price','units_for_sale','have','want','average_rating','rating_count','last_sold','lowest','median',\n",
    "    'highest','track_titles','country','genre','style','community_have','community_want','formats','thumb_url',\n",
    "    'release_url','format_description','days_since_last_sale','title',\n",
    "    ]"
   ]
  },
  {
   "cell_type": "code",
   "execution_count": null,
   "metadata": {
    "colab": {},
    "colab_type": "code",
    "id": "sRH_P30fEM-W"
   },
   "outputs": [],
   "source": [
    "record_store_lr_pipe = Pipeline([\n",
    "    ('running_time_imputer',RunningTimeImputer('running_time','number_of_tracks')),\n",
    "    ('leave_one_out_encoding', LeaveOneOutEncoder(cols=['artist','label','format_text','master_id','format_name'])),\n",
    "    ('record_store_column_remover', ColumnRemover(record_store_lr_removal_columns)),\n",
    "    ('preprocessing',record_store_lr_transformer),\n",
    "    ('scaler', StandardScaler()),\n",
    "    ('lr', GridSearchCV(\n",
    "        LinearRegression(),\n",
    "        param_grid={\n",
    "            'normalize':[False,True]\n",
    "        },\n",
    "        cv=KFold(n_splits=5,shuffle=True),\n",
    "        scoring='neg_mean_absolute_error',\n",
    "        verbose=5,\n",
    "        n_jobs=-1,\n",
    "    ))\n",
    "])"
   ]
  },
  {
   "cell_type": "code",
   "execution_count": null,
   "metadata": {
    "colab": {
     "base_uri": "https://localhost:8080/",
     "height": 447
    },
    "colab_type": "code",
    "id": "s9AtCvkCEM4u",
    "outputId": "cf65dd85-e595-4206-a2c2-12112476cd1b"
   },
   "outputs": [],
   "source": [
    "record_store_lr_pipe.fit(X_tr,np.log(y_tr).values)"
   ]
  },
  {
   "cell_type": "code",
   "execution_count": null,
   "metadata": {
    "colab": {
     "base_uri": "https://localhost:8080/",
     "height": 35
    },
    "colab_type": "code",
    "id": "bVqYCgf9EMzZ",
    "outputId": "a5d52e29-d91d-4c8c-9f00-521af5a5eabe"
   },
   "outputs": [],
   "source": [
    "record_store_lr_pipe['lr'].best_score_"
   ]
  },
  {
   "cell_type": "code",
   "execution_count": null,
   "metadata": {
    "colab": {
     "base_uri": "https://localhost:8080/",
     "height": 53
    },
    "colab_type": "code",
    "id": "W6IhcYpqEMuK",
    "outputId": "5611ed88-88e4-48e0-ac8e-15e66f63e97f"
   },
   "outputs": [],
   "source": [
    "lr_pred = record_store_lr_pipe.predict(X_te)"
   ]
  },
  {
   "cell_type": "code",
   "execution_count": null,
   "metadata": {
    "colab": {
     "base_uri": "https://localhost:8080/",
     "height": 35
    },
    "colab_type": "code",
    "id": "IVdPIxrzEMoC",
    "outputId": "a3e142e9-b387-4460-d146-dca2c90fd651"
   },
   "outputs": [],
   "source": [
    "r2_score(y_te,np.exp(lr_pred))"
   ]
  },
  {
   "cell_type": "code",
   "execution_count": null,
   "metadata": {
    "colab": {
     "base_uri": "https://localhost:8080/",
     "height": 35
    },
    "colab_type": "code",
    "id": "opzrKU8LE5DR",
    "outputId": "eeff2d88-eb36-4b69-f332-fab5705ff6d6"
   },
   "outputs": [],
   "source": [
    "mean_absolute_error(y_te,np.exp(lr_pred))"
   ]
  },
  {
   "cell_type": "code",
   "execution_count": null,
   "metadata": {
    "colab": {
     "base_uri": "https://localhost:8080/",
     "height": 312
    },
    "colab_type": "code",
    "id": "j_GvTd2E6E4j",
    "outputId": "fce3370d-6bd3-441d-80c6-0ea20320e75f"
   },
   "outputs": [],
   "source": [
    "from cuml import Ridge"
   ]
  },
  {
   "cell_type": "code",
   "execution_count": null,
   "metadata": {
    "colab": {},
    "colab_type": "code",
    "id": "BP1pxaQ18arp"
   },
   "outputs": [],
   "source": [
    "record_store_ridge_pipe = Pipeline([\n",
    "    ('running_time_imputer',RunningTimeImputer('running_time','number_of_tracks')),\n",
    "    ('leave_one_out_encoding', LeaveOneOutEncoder(cols=['artist','label','format_text','format_name','master_id'])),\n",
    "    ('record_store_column_remover', ColumnRemover(record_store_lr_removal_columns)),\n",
    "    ('preprocessing',record_store_lr_transformer),\n",
    "    ('scaler', StandardScaler()),\n",
    "    ('ridge', GridSearchCV(\n",
    "        Ridge(normalize=False,solver='eig'),\n",
    "        param_grid={\n",
    "            'alpha': np.linspace(1e-2,1e3,20),\n",
    "        },\n",
    "        cv=KFold(n_splits=5,shuffle=True),\n",
    "        scoring='neg_mean_absolute_error',\n",
    "        verbose=5,\n",
    "        n_jobs=-1,\n",
    "        return_train_score=True\n",
    "    ))\n",
    "])"
   ]
  },
  {
   "cell_type": "code",
   "execution_count": null,
   "metadata": {
    "colab": {
     "base_uri": "https://localhost:8080/",
     "height": 483
    },
    "colab_type": "code",
    "id": "edNLg2KryH4q",
    "outputId": "ad31cac2-506f-4852-f73c-68200411bf66"
   },
   "outputs": [],
   "source": [
    "record_store_ridge_pipe.fit(X_tr,np.log(y_tr).values)"
   ]
  },
  {
   "cell_type": "code",
   "execution_count": null,
   "metadata": {
    "colab": {},
    "colab_type": "code",
    "id": "z7tlJO3u-Tl4"
   },
   "outputs": [],
   "source": [
    "plotter = GridSearchPlotter(record_store_ridge_pipe['ridge'])"
   ]
  },
  {
   "cell_type": "code",
   "execution_count": null,
   "metadata": {
    "colab": {
     "base_uri": "https://localhost:8080/",
     "height": 295
    },
    "colab_type": "code",
    "id": "jla1YIhr-TgT",
    "outputId": "5d187856-59b3-4d44-99ab-0c3ee8cf8bb5"
   },
   "outputs": [],
   "source": [
    "plotter.plot_validation_curve(parameter='alpha',ylim=(-0.75,-0.25))"
   ]
  },
  {
   "cell_type": "code",
   "execution_count": null,
   "metadata": {
    "colab": {
     "base_uri": "https://localhost:8080/",
     "height": 35
    },
    "colab_type": "code",
    "id": "cxR9zl4f-hk9",
    "outputId": "f7f1c569-906b-4bca-849b-66f72e5fec48"
   },
   "outputs": [],
   "source": [
    "record_store_ridge_pipe['ridge'].best_score_"
   ]
  },
  {
   "cell_type": "code",
   "execution_count": null,
   "metadata": {
    "colab": {
     "base_uri": "https://localhost:8080/",
     "height": 35
    },
    "colab_type": "code",
    "id": "cbV-3Q9A0-hi",
    "outputId": "80746ec0-295d-4a6b-b7d7-c5f94beec478"
   },
   "outputs": [],
   "source": [
    "record_store_ridge_pipe['ridge'].best_params_"
   ]
  },
  {
   "cell_type": "code",
   "execution_count": null,
   "metadata": {
    "colab": {
     "base_uri": "https://localhost:8080/",
     "height": 53
    },
    "colab_type": "code",
    "id": "db1qMG0e8ar7",
    "outputId": "7845de80-0f24-4aa3-8998-eeca06bcec76"
   },
   "outputs": [],
   "source": [
    "ridge_pred = record_store_ridge_pipe.predict(X_te)"
   ]
  },
  {
   "cell_type": "code",
   "execution_count": null,
   "metadata": {
    "colab": {
     "base_uri": "https://localhost:8080/",
     "height": 35
    },
    "colab_type": "code",
    "id": "GsQHxrUE8ar-",
    "outputId": "2ddfe12e-6d38-447f-975c-4e638ebbd5a4"
   },
   "outputs": [],
   "source": [
    "r2_score(y_te,np.exp(ridge_pred))"
   ]
  },
  {
   "cell_type": "code",
   "execution_count": null,
   "metadata": {
    "colab": {
     "base_uri": "https://localhost:8080/",
     "height": 35
    },
    "colab_type": "code",
    "id": "9oKBWYEo8asD",
    "outputId": "069081cc-b2d2-438c-ca49-1830c899f482"
   },
   "outputs": [],
   "source": [
    "mean_absolute_error(y_te,np.exp(ridge_pred))"
   ]
  },
  {
   "cell_type": "markdown",
   "metadata": {
    "colab_type": "text",
    "id": "fbreYK1X8asG"
   },
   "source": [
    "## Random Forest"
   ]
  },
  {
   "cell_type": "code",
   "execution_count": 155,
   "metadata": {
    "colab": {},
    "colab_type": "code",
    "id": "McTksN6VGPnv"
   },
   "outputs": [],
   "source": [
    "record_store_random_forest_removal_columns = [\n",
    "    'market_price','units_for_sale','have','want','average_rating','rating_count','last_sold','lowest','median',\n",
    "    'highest','track_titles','country','genre','style','community_have','community_want','formats','thumb_url',\n",
    "    'release_url','format_description','days_since_last_sale','title'\n",
    "    ]\n",
    "record_store_random_forest_removal_columns.extend(\n",
    "    column_store._indicator\n",
    ")"
   ]
  },
  {
   "cell_type": "code",
   "execution_count": null,
   "metadata": {
    "colab": {},
    "colab_type": "code",
    "id": "VQpYcJqauUxO"
   },
   "outputs": [],
   "source": [
    "full_information_transformer = ColumnTransformer(transformers=[\n",
    "    ('units_for_sale_imputer', SimpleImputer(strategy='constant',fill_value=0),['units_for_sale']),\n",
    "    ('average_rating_imputer', SimpleImputer(strategy='mean'),['average_rating']),\n",
    "    ('year_encoder', OneHotEncoder(dtype=np.uint8), ['year'])\n",
    "], remainder='passthrough')"
   ]
  },
  {
   "cell_type": "code",
   "execution_count": 161,
   "metadata": {
    "colab": {
     "base_uri": "https://localhost:8080/",
     "height": 35
    },
    "colab_type": "code",
    "id": "BPf-IJfD8asO",
    "outputId": "99dabe48-b4be-44de-f76e-d34ba718019a"
   },
   "outputs": [],
   "source": [
    "random_forest_preprocessing_pipe = Pipeline([\n",
    "    ('running_time_imputer',RunningTimeImputer('running_time','number_of_tracks')),\n",
    "    ('leave_one_out_encoding', LeaveOneOutEncoder(cols=['artist','label','format_text','format_name','master_id'])),\n",
    "    ('reduce_indicators', IndicatorReducer(indicators=column_store._indicator,algorithm=PCA,components=40)),\n",
    "    ('record_store_column_remover', ColumnRemover(record_store_random_forest_removal_columns)),\n",
    "    #('cast_to_32', FunctionTransformer(func=lambda x: x.values.astype(np.float32)))\n",
    "])\n",
    "\n",
    "random_forest = RandomForestRegressor()\n",
    "\n",
    "random_forest_search_pipe = Pipeline([\n",
    "    ('preprocessing',random_forest_preprocessing_pipe),\n",
    "    ('grid_search', GridSearchCV(\n",
    "        random_forest,\n",
    "        cv=KFold(n_splits=5,shuffle=True),\n",
    "        param_grid={\n",
    "            'n_estimators': np.linspace(10,200,5).astype(int)\n",
    "        },\n",
    "        verbose=50,\n",
    "        scoring='neg_mean_absolute_error',\n",
    "        n_jobs=-1,\n",
    "        return_train_score=True\n",
    "    ))\n",
    "])\n",
    "\n",
    "random_forest_pipe = Pipeline([\n",
    "    ('preprocessing',random_forest_preprocessing_pipe),\n",
    "    ('random_forest',random_forest)\n",
    "])"
   ]
  },
  {
   "cell_type": "code",
   "execution_count": 163,
   "metadata": {
    "colab": {
     "base_uri": "https://localhost:8080/",
     "height": 1000
    },
    "colab_type": "code",
    "id": "l97EbEPB8asR",
    "outputId": "5ec2bd93-f9a4-4353-bc87-881fbbaea291"
   },
   "outputs": [
    {
     "name": "stdout",
     "output_type": "stream",
     "text": [
      "Fitting 5 folds for each of 5 candidates, totalling 25 fits\n",
      "[Parallel(n_jobs=-1)]: Using backend LokyBackend with 8 concurrent workers.\n",
      "[Parallel(n_jobs=-1)]: Done   1 tasks      | elapsed:   12.6s\n",
      "[Parallel(n_jobs=-1)]: Done   2 tasks      | elapsed:   12.6s\n",
      "[Parallel(n_jobs=-1)]: Done   3 tasks      | elapsed:   12.6s\n",
      "[Parallel(n_jobs=-1)]: Done   4 tasks      | elapsed:   12.8s\n",
      "[Parallel(n_jobs=-1)]: Done   5 tasks      | elapsed:   12.8s\n",
      "[Parallel(n_jobs=-1)]: Done   6 tasks      | elapsed:  1.1min\n",
      "[Parallel(n_jobs=-1)]: Done   7 tasks      | elapsed:  1.1min\n",
      "[Parallel(n_jobs=-1)]: Done   8 tasks      | elapsed:  1.1min\n",
      "[Parallel(n_jobs=-1)]: Done   9 tasks      | elapsed:  1.3min\n",
      "[Parallel(n_jobs=-1)]: Done  10 tasks      | elapsed:  1.3min\n",
      "[Parallel(n_jobs=-1)]: Done  11 out of  25 | elapsed:  2.3min remaining:  2.9min\n",
      "[Parallel(n_jobs=-1)]: Done  12 out of  25 | elapsed:  2.3min remaining:  2.5min\n",
      "[Parallel(n_jobs=-1)]: Done  13 out of  25 | elapsed:  2.3min remaining:  2.1min\n",
      "[Parallel(n_jobs=-1)]: Done  14 out of  25 | elapsed:  3.2min remaining:  2.5min\n",
      "[Parallel(n_jobs=-1)]: Done  15 out of  25 | elapsed:  3.3min remaining:  2.2min\n",
      "[Parallel(n_jobs=-1)]: Done  16 out of  25 | elapsed:  4.1min remaining:  2.3min\n",
      "[Parallel(n_jobs=-1)]: Done  17 out of  25 | elapsed:  4.3min remaining:  2.0min\n",
      "[Parallel(n_jobs=-1)]: Done  18 out of  25 | elapsed:  4.3min remaining:  1.7min\n",
      "[Parallel(n_jobs=-1)]: Done  19 out of  25 | elapsed:  5.2min remaining:  1.6min\n",
      "[Parallel(n_jobs=-1)]: Done  20 out of  25 | elapsed:  5.2min remaining:  1.3min\n",
      "[Parallel(n_jobs=-1)]: Done  21 out of  25 | elapsed:  5.9min remaining:  1.1min\n",
      "[Parallel(n_jobs=-1)]: Done  22 out of  25 | elapsed:  6.5min remaining:   53.5s\n",
      "[Parallel(n_jobs=-1)]: Done  23 out of  25 | elapsed:  6.6min remaining:   34.2s\n",
      "[Parallel(n_jobs=-1)]: Done  25 out of  25 | elapsed:  7.1min remaining:    0.0s\n",
      "[Parallel(n_jobs=-1)]: Done  25 out of  25 | elapsed:  7.1min finished\n"
     ]
    },
    {
     "data": {
      "text/plain": [
       "Pipeline(memory=None,\n",
       "     steps=[('preprocessing', Pipeline(memory=None,\n",
       "     steps=[('running_time_imputer', RunningTimeImputer(number_of_tracks='number_of_tracks',\n",
       "          running_time='running_time')), ('leave_one_out_encoding', LeaveOneOutEncoder(cols=['artist', 'label', 'format_text', 'format_name', 'master_id'],\n",
       "    ..._jobs', refit=True, return_train_score=True,\n",
       "       scoring='neg_mean_absolute_error', verbose=50))])"
      ]
     },
     "execution_count": 163,
     "metadata": {},
     "output_type": "execute_result"
    }
   ],
   "source": [
    "random_forest_search_pipe.fit(X_tr_sample,np.log(y_tr_sample))"
   ]
  },
  {
   "cell_type": "code",
   "execution_count": 166,
   "metadata": {
    "colab": {
     "base_uri": "https://localhost:8080/",
     "height": 296
    },
    "colab_type": "code",
    "id": "2awntfVd_nAJ",
    "outputId": "3d43c10c-e20c-48ed-ea14-d3a37e45ebab"
   },
   "outputs": [
    {
     "data": {
      "image/png": "[encoded data removed]",
      "text/plain": [
       "<Figure size 432x288 with 1 Axes>"
      ]
     },
     "metadata": {
      "needs_background": "light"
     },
     "output_type": "display_data"
    }
   ],
   "source": [
    "random_forest_plotter = GridSearchPlotter(random_forest_search_pipe.steps[-1][1])\n",
    "random_forest_plotter.plot_validation_curve(parameter='n_estimators',ylim=(-1,0))"
   ]
  },
  {
   "cell_type": "code",
   "execution_count": 168,
   "metadata": {
    "colab": {
     "base_uri": "https://localhost:8080/",
     "height": 35
    },
    "colab_type": "code",
    "id": "kIzLmO8Bzkdr",
    "outputId": "04c421f1-ffca-420c-e929-0a0e637dbb2c"
   },
   "outputs": [
    {
     "data": {
      "text/plain": [
       "-0.007844459940872944"
      ]
     },
     "execution_count": 168,
     "metadata": {},
     "output_type": "execute_result"
    }
   ],
   "source": [
    "random_forest_search_pipe.steps[-1][1].best_score_"
   ]
  },
  {
   "cell_type": "code",
   "execution_count": 169,
   "metadata": {
    "colab": {
     "base_uri": "https://localhost:8080/",
     "height": 35
    },
    "colab_type": "code",
    "id": "1Jh6GfwRzk2n",
    "outputId": "e68c3687-bccc-4ca7-c3fc-4595fb2235ca"
   },
   "outputs": [
    {
     "data": {
      "text/plain": [
       "{'n_estimators': 152}"
      ]
     },
     "execution_count": 169,
     "metadata": {},
     "output_type": "execute_result"
    }
   ],
   "source": [
    "random_forest_search_pipe.steps[-1][1].best_params_"
   ]
  },
  {
   "cell_type": "code",
   "execution_count": 170,
   "metadata": {
    "colab": {
     "base_uri": "https://localhost:8080/",
     "height": 395
    },
    "colab_type": "code",
    "id": "7HMokfJnMYzZ",
    "outputId": "15af7da6-9b40-4251-91f8-3485c1440390"
   },
   "outputs": [
    {
     "name": "stderr",
     "output_type": "stream",
     "text": [
      "/Users/simonhelmig/anaconda3/envs/tabnet-test/lib/python3.6/site-packages/sklearn/ensemble/forest.py:246: FutureWarning: The default value of n_estimators will change from 10 in version 0.20 to 100 in 0.22.\n",
      "  \"10 in version 0.20 to 100 in 0.22.\", FutureWarning)\n"
     ]
    },
    {
     "data": {
      "text/plain": [
       "Pipeline(memory=None,\n",
       "     steps=[('preprocessing', Pipeline(memory=None,\n",
       "     steps=[('running_time_imputer', RunningTimeImputer(number_of_tracks='number_of_tracks',\n",
       "          running_time='running_time')), ('leave_one_out_encoding', LeaveOneOutEncoder(cols=['artist', 'label', 'format_text', 'format_name', 'master_id'],\n",
       "    ...ators=10, n_jobs=None,\n",
       "           oob_score=False, random_state=None, verbose=0, warm_start=False))])"
      ]
     },
     "execution_count": 170,
     "metadata": {},
     "output_type": "execute_result"
    }
   ],
   "source": [
    "random_forest_pipe.fit(X_tr,np.log(y_tr).values.astype(np.float32))"
   ]
  },
  {
   "cell_type": "code",
   "execution_count": 171,
   "metadata": {
    "colab": {
     "base_uri": "https://localhost:8080/",
     "height": 53
    },
    "colab_type": "code",
    "id": "VrdorFhMMe2P",
    "outputId": "c55327dd-f5f2-41d9-ea69-d4f564f10a41"
   },
   "outputs": [],
   "source": [
    "random_forest_tr_pred = random_forest_pipe.predict(X_tr)\n",
    "random_forest_te_pred = random_forest_pipe.predict(X_te)"
   ]
  },
  {
   "cell_type": "code",
   "execution_count": 172,
   "metadata": {
    "colab": {
     "base_uri": "https://localhost:8080/",
     "height": 35
    },
    "colab_type": "code",
    "id": "g-Naw5QOMoIR",
    "outputId": "fd5d5f07-41d4-46eb-c230-ed908d64c9ee"
   },
   "outputs": [
    {
     "data": {
      "text/plain": [
       "-0.0737017008450278"
      ]
     },
     "execution_count": 172,
     "metadata": {},
     "output_type": "execute_result"
    }
   ],
   "source": [
    "r2_score(y_tr,np.exp(random_forest_tr_pred))"
   ]
  },
  {
   "cell_type": "code",
   "execution_count": 173,
   "metadata": {
    "colab": {
     "base_uri": "https://localhost:8080/",
     "height": 35
    },
    "colab_type": "code",
    "id": "y1Ko_cUBMoEy",
    "outputId": "287e0491-f436-4306-b043-89b42476c9a9"
   },
   "outputs": [
    {
     "data": {
      "text/plain": [
       "-0.07603848407232161"
      ]
     },
     "execution_count": 173,
     "metadata": {},
     "output_type": "execute_result"
    }
   ],
   "source": [
    "r2_score(y_te,np.exp(random_forest_te_pred))"
   ]
  },
  {
   "cell_type": "code",
   "execution_count": 174,
   "metadata": {
    "colab": {
     "base_uri": "https://localhost:8080/",
     "height": 35
    },
    "colab_type": "code",
    "id": "wup9qjI4zk-d",
    "outputId": "8b362213-4b2e-4833-b957-f8c78d3c5e19"
   },
   "outputs": [
    {
     "data": {
      "text/plain": [
       "10.475589148356317"
      ]
     },
     "execution_count": 174,
     "metadata": {},
     "output_type": "execute_result"
    }
   ],
   "source": [
    "mean_absolute_error(y_tr,np.exp(random_forest_tr_pred))"
   ]
  },
  {
   "cell_type": "code",
   "execution_count": 175,
   "metadata": {
    "colab": {
     "base_uri": "https://localhost:8080/",
     "height": 35
    },
    "colab_type": "code",
    "id": "R3cCwv8t0E4R",
    "outputId": "9379593c-cd90-414c-d0ea-64153eb78600"
   },
   "outputs": [
    {
     "data": {
      "text/plain": [
       "10.503775444214748"
      ]
     },
     "execution_count": 175,
     "metadata": {},
     "output_type": "execute_result"
    }
   ],
   "source": [
    "mean_absolute_error(y_te,np.exp(random_forest_te_pred))"
   ]
  },
  {
   "cell_type": "markdown",
   "metadata": {
    "colab_type": "text",
    "id": "wcM8J6K68asg"
   },
   "source": [
    "## Catboost"
   ]
  },
  {
   "cell_type": "code",
   "execution_count": 181,
   "metadata": {
    "colab": {},
    "colab_type": "code",
    "id": "OjIxG4pI8asl"
   },
   "outputs": [],
   "source": [
    "record_store_catboost_removal_columns = [\n",
    "    'market_price','units_for_sale','have','want','average_rating','rating_count','last_sold','lowest','median',\n",
    "    'highest','track_titles','genre','style','community_have','community_want','formats','thumb_url',\n",
    "    'release_url','format_description','days_since_last_sale','title'\n",
    "    ]\n",
    "#record_store_catboost_removal_columns.extend(\n",
    "#    column_store._indicator\n",
    "#)"
   ]
  },
  {
   "cell_type": "code",
   "execution_count": 14,
   "metadata": {
    "colab": {},
    "colab_type": "code",
    "id": "eyqIBpe88aso"
   },
   "outputs": [],
   "source": [
    "catboost_param_grid = {\n",
    "        'depth': np.linspace(1,16,5).astype(int),\n",
    "        'learning_rate' : np.logspace(-4,-1,5),\n",
    "        'l2_leaf_reg': np.linspace(1,50,5).astype(int),\n",
    "        'iterations': np.linspace(50,250,3),\n",
    "        'n_estimators': np.linspace(20,200,5).astype(int)\n",
    "}"
   ]
  },
  {
   "cell_type": "code",
   "execution_count": 70,
   "metadata": {},
   "outputs": [
    {
     "data": {
      "text/plain": [
       "array([0.1       , 0.12915497, 0.16681005, 0.21544347, 0.27825594,\n",
       "       0.35938137, 0.46415888, 0.59948425, 0.77426368, 1.        ])"
      ]
     },
     "execution_count": 70,
     "metadata": {},
     "output_type": "execute_result"
    }
   ],
   "source": [
    "np.logspace(-1,0,10)"
   ]
  },
  {
   "cell_type": "code",
   "execution_count": 182,
   "metadata": {
    "colab": {},
    "colab_type": "code",
    "id": "VCaEIJW18asr"
   },
   "outputs": [],
   "source": [
    "catboost_processing_pipe = Pipeline([\n",
    "    ('running_time_imputer',RunningTimeImputer('running_time','number_of_tracks')),\n",
    "    #('reduce_indicators', IndicatorReducer(indicators=column_store._indicator-column_store._geography,algorithm=PCA,components=40)),\n",
    "    ('record_store_column_remover', ColumnRemover(record_store_catboost_removal_columns))\n",
    "])\n",
    "\n",
    "catboost = CatBoostRegressor(\n",
    "    random_seed=0,\n",
    "    cat_features=['year','format_text','master_id','format_name','artist','label','country'],\n",
    "    boosting_type='Ordered',\n",
    "    n_estimators=100,\n",
    "    learning_rate=0.16681005,\n",
    "    l2_leaf_reg=3,\n",
    "    border_count=170,\n",
    "    max_depth=10\n",
    ")\n",
    "\n",
    "catboost_grid_pipe = Pipeline([\n",
    "    ('processing', catboost_processing_pipe),\n",
    "    ('grid_search', GridSearchCV(\n",
    "        catboost,\n",
    "        param_grid={'max_depth': np.linspace(10,32,5).astype(int)},\n",
    "        n_jobs=-1,\n",
    "        cv=KFold(n_splits=5,shuffle=True),\n",
    "        scoring='neg_mean_absolute_error',\n",
    "        verbose=50,\n",
    "        return_train_score=True\n",
    "    )\n",
    "    )\n",
    "])\n",
    "\n",
    "catboost_pipe = Pipeline([\n",
    "    ('processing',catboost_processing_pipe),\n",
    "    ('catboost',catboost)\n",
    "])"
   ]
  },
  {
   "cell_type": "code",
   "execution_count": 130,
   "metadata": {
    "colab": {},
    "colab_type": "code",
    "id": "MQW9Ojz08asu"
   },
   "outputs": [
    {
     "name": "stdout",
     "output_type": "stream",
     "text": [
      "Fitting 5 folds for each of 5 candidates, totalling 25 fits\n",
      "[Parallel(n_jobs=-1)]: Using backend LokyBackend with 8 concurrent workers.\n",
      "[Parallel(n_jobs=-1)]: Done   1 tasks      | elapsed:  1.8min\n",
      "[Parallel(n_jobs=-1)]: Done   2 tasks      | elapsed:  1.8min\n",
      "[Parallel(n_jobs=-1)]: Done   3 tasks      | elapsed:  1.8min\n",
      "[Parallel(n_jobs=-1)]: Done   4 tasks      | elapsed:  1.8min\n",
      "[Parallel(n_jobs=-1)]: Done   5 tasks      | elapsed:  1.8min\n",
      "[Parallel(n_jobs=-1)]: Done   6 tasks      | elapsed:  1.8min\n",
      "[Parallel(n_jobs=-1)]: Done   7 tasks      | elapsed:  1.8min\n",
      "[Parallel(n_jobs=-1)]: Done   8 tasks      | elapsed:  1.8min\n",
      "[Parallel(n_jobs=-1)]: Done   9 tasks      | elapsed:  1.8min\n",
      "[Parallel(n_jobs=-1)]: Done  10 tasks      | elapsed:  1.8min\n",
      "[Parallel(n_jobs=-1)]: Done  11 out of  16 | elapsed:  1.8min remaining:   48.4s\n",
      "[Parallel(n_jobs=-1)]: Done  12 out of  16 | elapsed:  1.8min remaining:   35.5s\n",
      "[Parallel(n_jobs=-1)]: Done  13 out of  16 | elapsed:  1.8min remaining:   24.6s\n",
      "[Parallel(n_jobs=-1)]: Done  14 out of  16 | elapsed:  1.8min remaining:   15.2s\n",
      "[Parallel(n_jobs=-1)]: Done  16 out of  16 | elapsed:  1.8min remaining:    0.0s\n"
     ]
    },
    {
     "ename": "KeyboardInterrupt",
     "evalue": "",
     "output_type": "error",
     "traceback": [
      "\u001b[0;31m---------------------------------------------------------------------------\u001b[0m",
      "\u001b[0;31mKeyboardInterrupt\u001b[0m                         Traceback (most recent call last)",
      "\u001b[0;32m<ipython-input-130-1f0c7869f7a1>\u001b[0m in \u001b[0;36m<module>\u001b[0;34m\u001b[0m\n\u001b[0;32m----> 1\u001b[0;31m \u001b[0mcatboost_grid_pipe\u001b[0m\u001b[0;34m.\u001b[0m\u001b[0mfit\u001b[0m\u001b[0;34m(\u001b[0m\u001b[0mX_tr_sample\u001b[0m\u001b[0;34m,\u001b[0m\u001b[0mnp\u001b[0m\u001b[0;34m.\u001b[0m\u001b[0mlog\u001b[0m\u001b[0;34m(\u001b[0m\u001b[0my_tr_sample\u001b[0m\u001b[0;34m)\u001b[0m\u001b[0;34m)\u001b[0m\u001b[0;34m\u001b[0m\u001b[0;34m\u001b[0m\u001b[0m\n\u001b[0m",
      "\u001b[0;32m~/anaconda3/envs/tabnet-test/lib/python3.6/site-packages/sklearn/pipeline.py\u001b[0m in \u001b[0;36mfit\u001b[0;34m(self, X, y, **fit_params)\u001b[0m\n\u001b[1;32m    265\u001b[0m         \u001b[0mXt\u001b[0m\u001b[0;34m,\u001b[0m \u001b[0mfit_params\u001b[0m \u001b[0;34m=\u001b[0m \u001b[0mself\u001b[0m\u001b[0;34m.\u001b[0m\u001b[0m_fit\u001b[0m\u001b[0;34m(\u001b[0m\u001b[0mX\u001b[0m\u001b[0;34m,\u001b[0m \u001b[0my\u001b[0m\u001b[0;34m,\u001b[0m \u001b[0;34m**\u001b[0m\u001b[0mfit_params\u001b[0m\u001b[0;34m)\u001b[0m\u001b[0;34m\u001b[0m\u001b[0;34m\u001b[0m\u001b[0m\n\u001b[1;32m    266\u001b[0m         \u001b[0;32mif\u001b[0m \u001b[0mself\u001b[0m\u001b[0;34m.\u001b[0m\u001b[0m_final_estimator\u001b[0m \u001b[0;32mis\u001b[0m \u001b[0;32mnot\u001b[0m \u001b[0;32mNone\u001b[0m\u001b[0;34m:\u001b[0m\u001b[0;34m\u001b[0m\u001b[0;34m\u001b[0m\u001b[0m\n\u001b[0;32m--> 267\u001b[0;31m             \u001b[0mself\u001b[0m\u001b[0;34m.\u001b[0m\u001b[0m_final_estimator\u001b[0m\u001b[0;34m.\u001b[0m\u001b[0mfit\u001b[0m\u001b[0;34m(\u001b[0m\u001b[0mXt\u001b[0m\u001b[0;34m,\u001b[0m \u001b[0my\u001b[0m\u001b[0;34m,\u001b[0m \u001b[0;34m**\u001b[0m\u001b[0mfit_params\u001b[0m\u001b[0;34m)\u001b[0m\u001b[0;34m\u001b[0m\u001b[0;34m\u001b[0m\u001b[0m\n\u001b[0m\u001b[1;32m    268\u001b[0m         \u001b[0;32mreturn\u001b[0m \u001b[0mself\u001b[0m\u001b[0;34m\u001b[0m\u001b[0;34m\u001b[0m\u001b[0m\n\u001b[1;32m    269\u001b[0m \u001b[0;34m\u001b[0m\u001b[0m\n",
      "\u001b[0;32m~/anaconda3/envs/tabnet-test/lib/python3.6/site-packages/sklearn/model_selection/_search.py\u001b[0m in \u001b[0;36mfit\u001b[0;34m(self, X, y, groups, **fit_params)\u001b[0m\n\u001b[1;32m    720\u001b[0m                 \u001b[0;32mreturn\u001b[0m \u001b[0mresults_container\u001b[0m\u001b[0;34m[\u001b[0m\u001b[0;36m0\u001b[0m\u001b[0;34m]\u001b[0m\u001b[0;34m\u001b[0m\u001b[0;34m\u001b[0m\u001b[0m\n\u001b[1;32m    721\u001b[0m \u001b[0;34m\u001b[0m\u001b[0m\n\u001b[0;32m--> 722\u001b[0;31m             \u001b[0mself\u001b[0m\u001b[0;34m.\u001b[0m\u001b[0m_run_search\u001b[0m\u001b[0;34m(\u001b[0m\u001b[0mevaluate_candidates\u001b[0m\u001b[0;34m)\u001b[0m\u001b[0;34m\u001b[0m\u001b[0;34m\u001b[0m\u001b[0m\n\u001b[0m\u001b[1;32m    723\u001b[0m \u001b[0;34m\u001b[0m\u001b[0m\n\u001b[1;32m    724\u001b[0m         \u001b[0mresults\u001b[0m \u001b[0;34m=\u001b[0m \u001b[0mresults_container\u001b[0m\u001b[0;34m[\u001b[0m\u001b[0;36m0\u001b[0m\u001b[0;34m]\u001b[0m\u001b[0;34m\u001b[0m\u001b[0;34m\u001b[0m\u001b[0m\n",
      "\u001b[0;32m~/anaconda3/envs/tabnet-test/lib/python3.6/site-packages/sklearn/model_selection/_search.py\u001b[0m in \u001b[0;36m_run_search\u001b[0;34m(self, evaluate_candidates)\u001b[0m\n\u001b[1;32m   1189\u001b[0m     \u001b[0;32mdef\u001b[0m \u001b[0m_run_search\u001b[0m\u001b[0;34m(\u001b[0m\u001b[0mself\u001b[0m\u001b[0;34m,\u001b[0m \u001b[0mevaluate_candidates\u001b[0m\u001b[0;34m)\u001b[0m\u001b[0;34m:\u001b[0m\u001b[0;34m\u001b[0m\u001b[0;34m\u001b[0m\u001b[0m\n\u001b[1;32m   1190\u001b[0m         \u001b[0;34m\"\"\"Search all candidates in param_grid\"\"\"\u001b[0m\u001b[0;34m\u001b[0m\u001b[0;34m\u001b[0m\u001b[0m\n\u001b[0;32m-> 1191\u001b[0;31m         \u001b[0mevaluate_candidates\u001b[0m\u001b[0;34m(\u001b[0m\u001b[0mParameterGrid\u001b[0m\u001b[0;34m(\u001b[0m\u001b[0mself\u001b[0m\u001b[0;34m.\u001b[0m\u001b[0mparam_grid\u001b[0m\u001b[0;34m)\u001b[0m\u001b[0;34m)\u001b[0m\u001b[0;34m\u001b[0m\u001b[0;34m\u001b[0m\u001b[0m\n\u001b[0m\u001b[1;32m   1192\u001b[0m \u001b[0;34m\u001b[0m\u001b[0m\n\u001b[1;32m   1193\u001b[0m \u001b[0;34m\u001b[0m\u001b[0m\n",
      "\u001b[0;32m~/anaconda3/envs/tabnet-test/lib/python3.6/site-packages/sklearn/model_selection/_search.py\u001b[0m in \u001b[0;36mevaluate_candidates\u001b[0;34m(candidate_params)\u001b[0m\n\u001b[1;32m    709\u001b[0m                                \u001b[0;32mfor\u001b[0m \u001b[0mparameters\u001b[0m\u001b[0;34m,\u001b[0m \u001b[0;34m(\u001b[0m\u001b[0mtrain\u001b[0m\u001b[0;34m,\u001b[0m \u001b[0mtest\u001b[0m\u001b[0;34m)\u001b[0m\u001b[0;34m\u001b[0m\u001b[0;34m\u001b[0m\u001b[0m\n\u001b[1;32m    710\u001b[0m                                in product(candidate_params,\n\u001b[0;32m--> 711\u001b[0;31m                                           cv.split(X, y, groups)))\n\u001b[0m\u001b[1;32m    712\u001b[0m \u001b[0;34m\u001b[0m\u001b[0m\n\u001b[1;32m    713\u001b[0m                 \u001b[0mall_candidate_params\u001b[0m\u001b[0;34m.\u001b[0m\u001b[0mextend\u001b[0m\u001b[0;34m(\u001b[0m\u001b[0mcandidate_params\u001b[0m\u001b[0;34m)\u001b[0m\u001b[0;34m\u001b[0m\u001b[0;34m\u001b[0m\u001b[0m\n",
      "\u001b[0;32m~/anaconda3/envs/tabnet-test/lib/python3.6/site-packages/sklearn/externals/joblib/parallel.py\u001b[0m in \u001b[0;36m__call__\u001b[0;34m(self, iterable)\u001b[0m\n\u001b[1;32m    928\u001b[0m \u001b[0;34m\u001b[0m\u001b[0m\n\u001b[1;32m    929\u001b[0m             \u001b[0;32mwith\u001b[0m \u001b[0mself\u001b[0m\u001b[0;34m.\u001b[0m\u001b[0m_backend\u001b[0m\u001b[0;34m.\u001b[0m\u001b[0mretrieval_context\u001b[0m\u001b[0;34m(\u001b[0m\u001b[0;34m)\u001b[0m\u001b[0;34m:\u001b[0m\u001b[0;34m\u001b[0m\u001b[0;34m\u001b[0m\u001b[0m\n\u001b[0;32m--> 930\u001b[0;31m                 \u001b[0mself\u001b[0m\u001b[0;34m.\u001b[0m\u001b[0mretrieve\u001b[0m\u001b[0;34m(\u001b[0m\u001b[0;34m)\u001b[0m\u001b[0;34m\u001b[0m\u001b[0;34m\u001b[0m\u001b[0m\n\u001b[0m\u001b[1;32m    931\u001b[0m             \u001b[0;31m# Make sure that we get a last message telling us we are done\u001b[0m\u001b[0;34m\u001b[0m\u001b[0;34m\u001b[0m\u001b[0;34m\u001b[0m\u001b[0m\n\u001b[1;32m    932\u001b[0m             \u001b[0melapsed_time\u001b[0m \u001b[0;34m=\u001b[0m \u001b[0mtime\u001b[0m\u001b[0;34m.\u001b[0m\u001b[0mtime\u001b[0m\u001b[0;34m(\u001b[0m\u001b[0;34m)\u001b[0m \u001b[0;34m-\u001b[0m \u001b[0mself\u001b[0m\u001b[0;34m.\u001b[0m\u001b[0m_start_time\u001b[0m\u001b[0;34m\u001b[0m\u001b[0;34m\u001b[0m\u001b[0m\n",
      "\u001b[0;32m~/anaconda3/envs/tabnet-test/lib/python3.6/site-packages/sklearn/externals/joblib/parallel.py\u001b[0m in \u001b[0;36mretrieve\u001b[0;34m(self)\u001b[0m\n\u001b[1;32m    831\u001b[0m             \u001b[0;32mtry\u001b[0m\u001b[0;34m:\u001b[0m\u001b[0;34m\u001b[0m\u001b[0;34m\u001b[0m\u001b[0m\n\u001b[1;32m    832\u001b[0m                 \u001b[0;32mif\u001b[0m \u001b[0mgetattr\u001b[0m\u001b[0;34m(\u001b[0m\u001b[0mself\u001b[0m\u001b[0;34m.\u001b[0m\u001b[0m_backend\u001b[0m\u001b[0;34m,\u001b[0m \u001b[0;34m'supports_timeout'\u001b[0m\u001b[0;34m,\u001b[0m \u001b[0;32mFalse\u001b[0m\u001b[0;34m)\u001b[0m\u001b[0;34m:\u001b[0m\u001b[0;34m\u001b[0m\u001b[0;34m\u001b[0m\u001b[0m\n\u001b[0;32m--> 833\u001b[0;31m                     \u001b[0mself\u001b[0m\u001b[0;34m.\u001b[0m\u001b[0m_output\u001b[0m\u001b[0;34m.\u001b[0m\u001b[0mextend\u001b[0m\u001b[0;34m(\u001b[0m\u001b[0mjob\u001b[0m\u001b[0;34m.\u001b[0m\u001b[0mget\u001b[0m\u001b[0;34m(\u001b[0m\u001b[0mtimeout\u001b[0m\u001b[0;34m=\u001b[0m\u001b[0mself\u001b[0m\u001b[0;34m.\u001b[0m\u001b[0mtimeout\u001b[0m\u001b[0;34m)\u001b[0m\u001b[0;34m)\u001b[0m\u001b[0;34m\u001b[0m\u001b[0;34m\u001b[0m\u001b[0m\n\u001b[0m\u001b[1;32m    834\u001b[0m                 \u001b[0;32melse\u001b[0m\u001b[0;34m:\u001b[0m\u001b[0;34m\u001b[0m\u001b[0;34m\u001b[0m\u001b[0m\n\u001b[1;32m    835\u001b[0m                     \u001b[0mself\u001b[0m\u001b[0;34m.\u001b[0m\u001b[0m_output\u001b[0m\u001b[0;34m.\u001b[0m\u001b[0mextend\u001b[0m\u001b[0;34m(\u001b[0m\u001b[0mjob\u001b[0m\u001b[0;34m.\u001b[0m\u001b[0mget\u001b[0m\u001b[0;34m(\u001b[0m\u001b[0;34m)\u001b[0m\u001b[0;34m)\u001b[0m\u001b[0;34m\u001b[0m\u001b[0;34m\u001b[0m\u001b[0m\n",
      "\u001b[0;32m~/anaconda3/envs/tabnet-test/lib/python3.6/site-packages/sklearn/externals/joblib/_parallel_backends.py\u001b[0m in \u001b[0;36mwrap_future_result\u001b[0;34m(future, timeout)\u001b[0m\n\u001b[1;32m    519\u001b[0m         AsyncResults.get from multiprocessing.\"\"\"\n\u001b[1;32m    520\u001b[0m         \u001b[0;32mtry\u001b[0m\u001b[0;34m:\u001b[0m\u001b[0;34m\u001b[0m\u001b[0;34m\u001b[0m\u001b[0m\n\u001b[0;32m--> 521\u001b[0;31m             \u001b[0;32mreturn\u001b[0m \u001b[0mfuture\u001b[0m\u001b[0;34m.\u001b[0m\u001b[0mresult\u001b[0m\u001b[0;34m(\u001b[0m\u001b[0mtimeout\u001b[0m\u001b[0;34m=\u001b[0m\u001b[0mtimeout\u001b[0m\u001b[0;34m)\u001b[0m\u001b[0;34m\u001b[0m\u001b[0;34m\u001b[0m\u001b[0m\n\u001b[0m\u001b[1;32m    522\u001b[0m         \u001b[0;32mexcept\u001b[0m \u001b[0mLokyTimeoutError\u001b[0m\u001b[0;34m:\u001b[0m\u001b[0;34m\u001b[0m\u001b[0;34m\u001b[0m\u001b[0m\n\u001b[1;32m    523\u001b[0m             \u001b[0;32mraise\u001b[0m \u001b[0mTimeoutError\u001b[0m\u001b[0;34m(\u001b[0m\u001b[0;34m)\u001b[0m\u001b[0;34m\u001b[0m\u001b[0;34m\u001b[0m\u001b[0m\n",
      "\u001b[0;32m~/anaconda3/envs/tabnet-test/lib/python3.6/concurrent/futures/_base.py\u001b[0m in \u001b[0;36mresult\u001b[0;34m(self, timeout)\u001b[0m\n\u001b[1;32m    425\u001b[0m                 \u001b[0;32mreturn\u001b[0m \u001b[0mself\u001b[0m\u001b[0;34m.\u001b[0m\u001b[0m__get_result\u001b[0m\u001b[0;34m(\u001b[0m\u001b[0;34m)\u001b[0m\u001b[0;34m\u001b[0m\u001b[0;34m\u001b[0m\u001b[0m\n\u001b[1;32m    426\u001b[0m \u001b[0;34m\u001b[0m\u001b[0m\n\u001b[0;32m--> 427\u001b[0;31m             \u001b[0mself\u001b[0m\u001b[0;34m.\u001b[0m\u001b[0m_condition\u001b[0m\u001b[0;34m.\u001b[0m\u001b[0mwait\u001b[0m\u001b[0;34m(\u001b[0m\u001b[0mtimeout\u001b[0m\u001b[0;34m)\u001b[0m\u001b[0;34m\u001b[0m\u001b[0;34m\u001b[0m\u001b[0m\n\u001b[0m\u001b[1;32m    428\u001b[0m \u001b[0;34m\u001b[0m\u001b[0m\n\u001b[1;32m    429\u001b[0m             \u001b[0;32mif\u001b[0m \u001b[0mself\u001b[0m\u001b[0;34m.\u001b[0m\u001b[0m_state\u001b[0m \u001b[0;32min\u001b[0m \u001b[0;34m[\u001b[0m\u001b[0mCANCELLED\u001b[0m\u001b[0;34m,\u001b[0m \u001b[0mCANCELLED_AND_NOTIFIED\u001b[0m\u001b[0;34m]\u001b[0m\u001b[0;34m:\u001b[0m\u001b[0;34m\u001b[0m\u001b[0;34m\u001b[0m\u001b[0m\n",
      "\u001b[0;32m~/anaconda3/envs/tabnet-test/lib/python3.6/threading.py\u001b[0m in \u001b[0;36mwait\u001b[0;34m(self, timeout)\u001b[0m\n\u001b[1;32m    293\u001b[0m         \u001b[0;32mtry\u001b[0m\u001b[0;34m:\u001b[0m    \u001b[0;31m# restore state no matter what (e.g., KeyboardInterrupt)\u001b[0m\u001b[0;34m\u001b[0m\u001b[0;34m\u001b[0m\u001b[0m\n\u001b[1;32m    294\u001b[0m             \u001b[0;32mif\u001b[0m \u001b[0mtimeout\u001b[0m \u001b[0;32mis\u001b[0m \u001b[0;32mNone\u001b[0m\u001b[0;34m:\u001b[0m\u001b[0;34m\u001b[0m\u001b[0;34m\u001b[0m\u001b[0m\n\u001b[0;32m--> 295\u001b[0;31m                 \u001b[0mwaiter\u001b[0m\u001b[0;34m.\u001b[0m\u001b[0macquire\u001b[0m\u001b[0;34m(\u001b[0m\u001b[0;34m)\u001b[0m\u001b[0;34m\u001b[0m\u001b[0;34m\u001b[0m\u001b[0m\n\u001b[0m\u001b[1;32m    296\u001b[0m                 \u001b[0mgotit\u001b[0m \u001b[0;34m=\u001b[0m \u001b[0;32mTrue\u001b[0m\u001b[0;34m\u001b[0m\u001b[0;34m\u001b[0m\u001b[0m\n\u001b[1;32m    297\u001b[0m             \u001b[0;32melse\u001b[0m\u001b[0;34m:\u001b[0m\u001b[0;34m\u001b[0m\u001b[0;34m\u001b[0m\u001b[0m\n",
      "\u001b[0;31mKeyboardInterrupt\u001b[0m: "
     ]
    }
   ],
   "source": [
    "catboost_grid_pipe.fit(X_tr_sample,np.log(y_tr_sample))"
   ]
  },
  {
   "cell_type": "code",
   "execution_count": 126,
   "metadata": {
    "colab": {},
    "colab_type": "code",
    "id": "9MWNatKvNkWQ"
   },
   "outputs": [
    {
     "data": {
      "image/png": "[encoded data removed]",
      "text/plain": [
       "<Figure size 432x288 with 1 Axes>"
      ]
     },
     "metadata": {
      "needs_background": "light"
     },
     "output_type": "display_data"
    }
   ],
   "source": [
    "catboost_plot = GridSearchPlotter(catboost_grid_pipe.steps[-1][1])\n",
    "catboost_plot.plot_validation_curve(parameter='max_depth',ylim=(-1,0))"
   ]
  },
  {
   "cell_type": "code",
   "execution_count": 127,
   "metadata": {
    "colab": {},
    "colab_type": "code",
    "id": "D82wspKV8XCK"
   },
   "outputs": [
    {
     "data": {
      "text/plain": [
       "-0.5352998262230626"
      ]
     },
     "execution_count": 127,
     "metadata": {},
     "output_type": "execute_result"
    }
   ],
   "source": [
    "catboost_grid_pipe.steps[-1][1].best_score_"
   ]
  },
  {
   "cell_type": "code",
   "execution_count": 128,
   "metadata": {
    "colab": {},
    "colab_type": "code",
    "id": "iJHB_2xe8ZN_"
   },
   "outputs": [
    {
     "data": {
      "text/plain": [
       "{'max_depth': 10}"
      ]
     },
     "execution_count": 128,
     "metadata": {},
     "output_type": "execute_result"
    }
   ],
   "source": [
    "catboost_grid_pipe.steps[-1][1].best_params_"
   ]
  },
  {
   "cell_type": "code",
   "execution_count": 183,
   "metadata": {},
   "outputs": [
    {
     "name": "stdout",
     "output_type": "stream",
     "text": [
      "0:\tlearn: 0.8568389\ttotal: 836ms\tremaining: 1m 22s\n",
      "1:\tlearn: 0.8288709\ttotal: 1.62s\tremaining: 1m 19s\n",
      "2:\tlearn: 0.8032412\ttotal: 2.41s\tremaining: 1m 17s\n",
      "3:\tlearn: 0.7839949\ttotal: 3.17s\tremaining: 1m 16s\n",
      "4:\tlearn: 0.7692235\ttotal: 3.89s\tremaining: 1m 14s\n",
      "5:\tlearn: 0.7584706\ttotal: 4.62s\tremaining: 1m 12s\n",
      "6:\tlearn: 0.7439335\ttotal: 5.33s\tremaining: 1m 10s\n",
      "7:\tlearn: 0.7331414\ttotal: 6.04s\tremaining: 1m 9s\n",
      "8:\tlearn: 0.7245243\ttotal: 6.74s\tremaining: 1m 8s\n",
      "9:\tlearn: 0.7185029\ttotal: 7.45s\tremaining: 1m 7s\n",
      "10:\tlearn: 0.7136388\ttotal: 8.16s\tremaining: 1m 6s\n",
      "11:\tlearn: 0.7092430\ttotal: 8.87s\tremaining: 1m 5s\n",
      "12:\tlearn: 0.7059718\ttotal: 9.57s\tremaining: 1m 4s\n",
      "13:\tlearn: 0.7033156\ttotal: 10.3s\tremaining: 1m 3s\n",
      "14:\tlearn: 0.7009290\ttotal: 11s\tremaining: 1m 2s\n",
      "15:\tlearn: 0.6979617\ttotal: 11.7s\tremaining: 1m 1s\n",
      "16:\tlearn: 0.6958002\ttotal: 12.4s\tremaining: 1m\n",
      "17:\tlearn: 0.6938155\ttotal: 13.1s\tremaining: 59.7s\n",
      "18:\tlearn: 0.6926843\ttotal: 13.8s\tremaining: 58.8s\n",
      "19:\tlearn: 0.6914857\ttotal: 14.5s\tremaining: 58.1s\n",
      "20:\tlearn: 0.6908795\ttotal: 15.2s\tremaining: 57.2s\n",
      "21:\tlearn: 0.6894620\ttotal: 15.9s\tremaining: 56.5s\n",
      "22:\tlearn: 0.6881905\ttotal: 16.6s\tremaining: 55.7s\n",
      "23:\tlearn: 0.6873366\ttotal: 17.3s\tremaining: 54.9s\n",
      "24:\tlearn: 0.6865019\ttotal: 18s\tremaining: 54.1s\n",
      "25:\tlearn: 0.6858767\ttotal: 18.7s\tremaining: 53.3s\n",
      "26:\tlearn: 0.6853023\ttotal: 19.5s\tremaining: 52.6s\n",
      "27:\tlearn: 0.6848708\ttotal: 20.2s\tremaining: 51.9s\n",
      "28:\tlearn: 0.6846871\ttotal: 20.9s\tremaining: 51.2s\n",
      "29:\tlearn: 0.6840079\ttotal: 21.6s\tremaining: 50.4s\n",
      "30:\tlearn: 0.6838146\ttotal: 22.5s\tremaining: 50s\n",
      "31:\tlearn: 0.6838071\ttotal: 23.2s\tremaining: 49.4s\n",
      "32:\tlearn: 0.6837997\ttotal: 23.4s\tremaining: 47.5s\n",
      "33:\tlearn: 0.6831216\ttotal: 24.1s\tremaining: 46.8s\n",
      "34:\tlearn: 0.6831216\ttotal: 24.2s\tremaining: 44.9s\n",
      "35:\tlearn: 0.6830923\ttotal: 24.4s\tremaining: 43.3s\n",
      "36:\tlearn: 0.6830814\ttotal: 24.7s\tremaining: 42s\n",
      "37:\tlearn: 0.6830787\ttotal: 24.9s\tremaining: 40.6s\n",
      "38:\tlearn: 0.6828208\ttotal: 25.6s\tremaining: 40.1s\n",
      "39:\tlearn: 0.6828171\ttotal: 25.8s\tremaining: 38.8s\n",
      "40:\tlearn: 0.6828167\ttotal: 25.9s\tremaining: 37.3s\n",
      "41:\tlearn: 0.6827777\ttotal: 26.7s\tremaining: 36.8s\n",
      "42:\tlearn: 0.6827769\ttotal: 26.8s\tremaining: 35.5s\n",
      "43:\tlearn: 0.6827765\ttotal: 26.9s\tremaining: 34.2s\n",
      "44:\tlearn: 0.6827761\ttotal: 27s\tremaining: 33s\n",
      "45:\tlearn: 0.6827761\ttotal: 27.1s\tremaining: 31.8s\n",
      "46:\tlearn: 0.6827647\ttotal: 27.2s\tremaining: 30.7s\n",
      "47:\tlearn: 0.6825718\ttotal: 28s\tremaining: 30.3s\n",
      "48:\tlearn: 0.6825716\ttotal: 28s\tremaining: 29.2s\n",
      "49:\tlearn: 0.6820748\ttotal: 28.8s\tremaining: 28.8s\n",
      "50:\tlearn: 0.6820589\ttotal: 28.9s\tremaining: 27.7s\n",
      "51:\tlearn: 0.6820534\ttotal: 29.4s\tremaining: 27.2s\n",
      "52:\tlearn: 0.6820468\ttotal: 29.7s\tremaining: 26.3s\n",
      "53:\tlearn: 0.6820468\ttotal: 29.7s\tremaining: 25.3s\n",
      "54:\tlearn: 0.6820463\ttotal: 29.8s\tremaining: 24.4s\n",
      "55:\tlearn: 0.6820463\ttotal: 29.9s\tremaining: 23.5s\n",
      "56:\tlearn: 0.6820463\ttotal: 29.9s\tremaining: 22.6s\n",
      "57:\tlearn: 0.6820324\ttotal: 30.8s\tremaining: 22.3s\n",
      "58:\tlearn: 0.6820226\ttotal: 31.1s\tremaining: 21.6s\n",
      "59:\tlearn: 0.6820170\ttotal: 31.3s\tremaining: 20.8s\n",
      "60:\tlearn: 0.6820168\ttotal: 31.4s\tremaining: 20.1s\n",
      "61:\tlearn: 0.6820147\ttotal: 31.7s\tremaining: 19.4s\n",
      "62:\tlearn: 0.6820146\ttotal: 31.8s\tremaining: 18.7s\n",
      "63:\tlearn: 0.6820145\ttotal: 31.9s\tremaining: 17.9s\n",
      "64:\tlearn: 0.6818748\ttotal: 32.6s\tremaining: 17.6s\n",
      "65:\tlearn: 0.6818291\ttotal: 33.4s\tremaining: 17.2s\n",
      "66:\tlearn: 0.6818221\ttotal: 34.2s\tremaining: 16.8s\n",
      "67:\tlearn: 0.6818220\ttotal: 34.3s\tremaining: 16.1s\n",
      "68:\tlearn: 0.6818220\ttotal: 34.3s\tremaining: 15.4s\n",
      "69:\tlearn: 0.6818204\ttotal: 34.5s\tremaining: 14.8s\n",
      "70:\tlearn: 0.6818072\ttotal: 35.3s\tremaining: 14.4s\n",
      "71:\tlearn: 0.6817605\ttotal: 35.5s\tremaining: 13.8s\n",
      "72:\tlearn: 0.6817598\ttotal: 35.7s\tremaining: 13.2s\n",
      "73:\tlearn: 0.6817519\ttotal: 36s\tremaining: 12.6s\n",
      "74:\tlearn: 0.6817319\ttotal: 36.8s\tremaining: 12.3s\n",
      "75:\tlearn: 0.6817308\ttotal: 36.9s\tremaining: 11.7s\n",
      "76:\tlearn: 0.6817302\ttotal: 37s\tremaining: 11.1s\n",
      "77:\tlearn: 0.6817280\ttotal: 37.2s\tremaining: 10.5s\n",
      "78:\tlearn: 0.6817278\ttotal: 37.3s\tremaining: 9.92s\n",
      "79:\tlearn: 0.6817215\ttotal: 37.6s\tremaining: 9.39s\n",
      "80:\tlearn: 0.6816966\ttotal: 38.4s\tremaining: 9.01s\n",
      "81:\tlearn: 0.6816957\ttotal: 38.6s\tremaining: 8.48s\n",
      "82:\tlearn: 0.6816846\ttotal: 38.9s\tremaining: 7.96s\n",
      "83:\tlearn: 0.6816626\ttotal: 39.7s\tremaining: 7.57s\n",
      "84:\tlearn: 0.6816623\ttotal: 39.8s\tremaining: 7.03s\n",
      "85:\tlearn: 0.6816502\ttotal: 40.6s\tremaining: 6.62s\n",
      "86:\tlearn: 0.6816325\ttotal: 41.5s\tremaining: 6.2s\n",
      "87:\tlearn: 0.6816215\ttotal: 41.9s\tremaining: 5.71s\n",
      "88:\tlearn: 0.6816190\ttotal: 42s\tremaining: 5.2s\n",
      "89:\tlearn: 0.6816048\ttotal: 42.8s\tremaining: 4.76s\n",
      "90:\tlearn: 0.6815877\ttotal: 43.6s\tremaining: 4.32s\n",
      "91:\tlearn: 0.6815700\ttotal: 44.5s\tremaining: 3.87s\n",
      "92:\tlearn: 0.6815617\ttotal: 45.3s\tremaining: 3.41s\n",
      "93:\tlearn: 0.6815442\ttotal: 46.1s\tremaining: 2.94s\n",
      "94:\tlearn: 0.6815312\ttotal: 46.9s\tremaining: 2.47s\n",
      "95:\tlearn: 0.6815196\ttotal: 47.7s\tremaining: 1.99s\n",
      "96:\tlearn: 0.6815069\ttotal: 48.5s\tremaining: 1.5s\n",
      "97:\tlearn: 0.6814977\ttotal: 49.4s\tremaining: 1.01s\n",
      "98:\tlearn: 0.6814897\ttotal: 50.2s\tremaining: 507ms\n",
      "99:\tlearn: 0.6814826\ttotal: 51s\tremaining: 0us\n"
     ]
    },
    {
     "data": {
      "text/plain": [
       "Pipeline(memory=None,\n",
       "     steps=[('processing', Pipeline(memory=None,\n",
       "     steps=[('running_time_imputer', RunningTimeImputer(number_of_tracks='number_of_tracks',\n",
       "          running_time='running_time')), ('record_store_column_remover', ColumnRemover(cols_to_remove=['market_price', 'units_for_sale', 'have', 'want', 'average_r...ce_last_sale', 'title']))])), ('catboost', <catboost.core.CatBoostRegressor object at 0x15e4160b8>)])"
      ]
     },
     "execution_count": 183,
     "metadata": {},
     "output_type": "execute_result"
    }
   ],
   "source": [
    "catboost_pipe.fit(X_tr,np.log(y_tr))"
   ]
  },
  {
   "cell_type": "code",
   "execution_count": 184,
   "metadata": {
    "colab": {},
    "colab_type": "code",
    "id": "QtP6T-Ir8asx"
   },
   "outputs": [],
   "source": [
    "catboost_tr_pred = catboost_pipe.predict(X_tr)\n",
    "catboost_te_pred = catboost_pipe.predict(X_te)"
   ]
  },
  {
   "cell_type": "code",
   "execution_count": 185,
   "metadata": {},
   "outputs": [
    {
     "data": {
      "text/plain": [
       "0.2743421962986967"
      ]
     },
     "execution_count": 185,
     "metadata": {},
     "output_type": "execute_result"
    }
   ],
   "source": [
    "r2_score(y_tr,np.exp(catboost_tr_pred))"
   ]
  },
  {
   "cell_type": "code",
   "execution_count": 186,
   "metadata": {
    "colab": {},
    "colab_type": "code",
    "id": "Ot0BfPu28as0"
   },
   "outputs": [
    {
     "data": {
      "text/plain": [
       "0.22087295555116782"
      ]
     },
     "execution_count": 186,
     "metadata": {},
     "output_type": "execute_result"
    }
   ],
   "source": [
    "r2_score(y_te,np.exp(catboost_te_pred))"
   ]
  },
  {
   "cell_type": "code",
   "execution_count": 187,
   "metadata": {},
   "outputs": [
    {
     "data": {
      "text/plain": [
       "7.590262150675475"
      ]
     },
     "execution_count": 187,
     "metadata": {},
     "output_type": "execute_result"
    }
   ],
   "source": [
    "mean_absolute_error(y_tr,np.exp(catboost_tr_pred))"
   ]
  },
  {
   "cell_type": "code",
   "execution_count": 188,
   "metadata": {
    "colab": {},
    "colab_type": "code",
    "id": "2BLq7nQR42RA"
   },
   "outputs": [
    {
     "data": {
      "text/plain": [
       "8.133444466554486"
      ]
     },
     "execution_count": 188,
     "metadata": {},
     "output_type": "execute_result"
    }
   ],
   "source": [
    "mean_absolute_error(y_te,np.exp(catboost_te_pred))"
   ]
  },
  {
   "cell_type": "code",
   "execution_count": null,
   "metadata": {},
   "outputs": [],
   "source": []
  }
 ],
 "metadata": {
  "accelerator": "GPU",
  "colab": {
   "machine_shape": "hm",
   "name": "03-Modelling.ipynb",
   "provenance": [],
   "toc_visible": true
  },
  "kernelspec": {
   "display_name": "Python 3",
   "language": "python",
   "name": "python3"
  },
  "language_info": {
   "codemirror_mode": {
    "name": "ipython",
    "version": 3
   },
   "file_extension": ".py",
   "mimetype": "text/x-python",
   "name": "python",
   "nbconvert_exporter": "python",
   "pygments_lexer": "ipython3",
   "version": "3.6.10"
  }
 },
 "nbformat": 4,
 "nbformat_minor": 4
}
