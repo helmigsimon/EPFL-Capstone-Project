{
 "cells": [
  {
   "cell_type": "markdown",
   "metadata": {
    "colab_type": "text",
    "id": "buFUSHKt8apx"
   },
   "source": [
    "## 03 - Modelling"
   ]
  },
  {
   "cell_type": "markdown",
   "metadata": {
    "colab_type": "text",
    "id": "lunHqQ7B8apz"
   },
   "source": [
    "## Optional - Colab Setup"
   ]
  },
  {
   "cell_type": "code",
   "execution_count": null,
   "metadata": {
    "colab": {},
    "colab_type": "code",
    "id": "qQQCreB5gAR_"
   },
   "outputs": [],
   "source": [
    "def upgrade_runtime_ram():\n",
    "    meminfo = subprocess.getoutput('cat /proc/meminfo').split('\\n')\n",
    "\n",
    "    memory_info = {entry.split(':')[0]: int(entry.split(':')[1].replace(' kB','').strip()) for entry in meminfo}\n",
    "\n",
    "    if memory_info['MemTotal'] > 17000000:\n",
    "        return\n",
    "\n",
    "    a = []\n",
    "    while(1):\n",
    "        a.append('1')"
   ]
  },
  {
   "cell_type": "code",
   "execution_count": null,
   "metadata": {
    "colab": {},
    "colab_type": "code",
    "id": "waACZBi_8ap2"
   },
   "outputs": [],
   "source": [
    "def restart_runtime():\n",
    "    os.kill(os.getpid(), 9)"
   ]
  },
  {
   "cell_type": "code",
   "execution_count": null,
   "metadata": {
    "colab": {},
    "colab_type": "code",
    "id": "YIsGqbsy8aqB"
   },
   "outputs": [],
   "source": [
    "def setup_rapids():\n",
    "    pynvml.nvmlInit()\n",
    "    handle = pynvml.nvmlDeviceGetHandleByIndex(0)\n",
    "    device_name = pynvml.nvmlDeviceGetName(handle)\n",
    "    if (device_name != b'Tesla T4') and (device_name != b'Tesla P4') and (device_name != b'Tesla P100-PCIE-16GB'):\n",
    "        print(\"Wrong GPU - Restarting Runtime\")\n",
    "        restart_runtime()\n",
    "\n",
    "\n",
    "    # clone RAPIDS AI rapidsai-csp-utils scripts repo\n",
    "    !git clone https://github.com/rapidsai/rapidsai-csp-utils.git\n",
    "\n",
    "    # install RAPIDS\n",
    "    !bash rapidsai-csp-utils/colab/rapids-colab.sh 0.13\n",
    "\n",
    "\n",
    "    # set necessary environment variables \n",
    "    dist_package_index = sys.path.index('/usr/local/lib/python3.6/dist-packages')\n",
    "    sys.path = sys.path[:dist_package_index] + ['/usr/local/lib/python3.6/site-packages'] + sys.path[dist_package_index:]\n",
    "    sys.path\n",
    "\n",
    "    # update pyarrow & modules \n",
    "    exec(open('rapidsai-csp-utils/colab/update_modules.py').read(), globals())"
   ]
  },
  {
   "cell_type": "code",
   "execution_count": null,
   "metadata": {
    "colab": {},
    "colab_type": "code",
    "id": "9CcPvNIo8aqI"
   },
   "outputs": [],
   "source": [
    "def setup_conda():\n",
    "    if not 'Miniconda3-4.5.4-Linux-x86_64.sh' in os.listdir():\n",
    "        !wget https://repo.continuum.io/miniconda/Miniconda3-4.5.4-Linux-x86_64.sh && bash Miniconda3-4.5.4-Linux-x86_64.sh -bfp /usr/local\n",
    "\n",
    "    if not ('EPFL-Capstone-Project' in os.listdir()) and (os.getcwd().split('/')[-1] != 'EPFL-Capstone-Project'):\n",
    "        !git clone https://github.com/helmigsimon/EPFL-Capstone-Project  \n",
    "    if 'EPFL-Capstone-Project' in os.listdir():\n",
    "        os.chdir('EPFL-Capstone-Project')\n",
    "\n",
    "    !conda env create -f environment.yml\n",
    "    !conda activate exts-ml"
   ]
  },
  {
   "cell_type": "code",
   "execution_count": null,
   "metadata": {
    "colab": {},
    "colab_type": "code",
    "id": "WHSZ-lgE8aqP"
   },
   "outputs": [],
   "source": [
    "def setup_drive():\n",
    "    #Mounting Google Drive\n",
    "    global drive\n",
    "    from google.colab import drive\n",
    "    drive.mount('/content/drive')"
   ]
  },
  {
   "cell_type": "code",
   "execution_count": 6,
   "metadata": {
    "colab": {
     "base_uri": "https://localhost:8080/",
     "height": 1000
    },
    "colab_type": "code",
    "id": "N_uPJqb58aqW",
    "outputId": "80254dcc-9ccb-442b-b416-db384ecbb537"
   },
   "outputs": [
    {
     "name": "stdout",
     "output_type": "stream",
     "text": [
      "Go to this URL in a browser: https://accounts.google.com/o/oauth2/auth?client_id=947318989803-6bn6qk8qdgf4n4g3pfee6491hc0brc4i.apps.googleusercontent.com&redirect_uri=urn%3aietf%3awg%3aoauth%3a2.0%3aoob&response_type=code&scope=email%20https%3a%2f%2fwww.googleapis.com%2fauth%2fdocs.test%20https%3a%2f%2fwww.googleapis.com%2fauth%2fdrive%20https%3a%2f%2fwww.googleapis.com%2fauth%2fdrive.photos.readonly%20https%3a%2f%2fwww.googleapis.com%2fauth%2fpeopleapi.readonly\n",
      "\n",
      "Enter your authorization code:\n",
      "··········\n",
      "Mounted at /content/drive\n",
      "Collecting geopandas\n",
      "\u001b[?25l  Downloading https://files.pythonhosted.org/packages/83/c5/3cf9cdc39a6f2552922f79915f36b45a95b71fd343cfc51170a5b6ddb6e8/geopandas-0.7.0-py2.py3-none-any.whl (928kB)\n",
      "\u001b[K     |████████████████████████████████| 931kB 3.4MB/s \n",
      "\u001b[?25hCollecting sparse-dot-topn\n",
      "\u001b[?25l  Downloading https://files.pythonhosted.org/packages/70/d5/2a3a52acd89344f0c45cae320bd41ee49573caec656834b98c5ea48669b7/sparse_dot_topn-0.2.9.tar.gz (106kB)\n",
      "\u001b[K     |████████████████████████████████| 112kB 21.6MB/s \n",
      "\u001b[?25hCollecting pdpipe\n",
      "\u001b[?25l  Downloading https://files.pythonhosted.org/packages/44/dc/6f4bd0b02517d19f94e10c1fbed9177bf173b2aceb63cf930ff4df9348fc/pdpipe-0.0.49-py3-none-any.whl (48kB)\n",
      "\u001b[K     |████████████████████████████████| 51kB 7.4MB/s \n",
      "\u001b[?25hCollecting category-encoders\n",
      "\u001b[?25l  Downloading https://files.pythonhosted.org/packages/44/57/fcef41c248701ee62e8325026b90c432adea35555cbc870aff9cfba23727/category_encoders-2.2.2-py2.py3-none-any.whl (80kB)\n",
      "\u001b[K     |████████████████████████████████| 81kB 9.1MB/s \n",
      "\u001b[?25hCollecting catboost\n",
      "\u001b[?25l  Downloading https://files.pythonhosted.org/packages/b1/61/2b8106c8870601671d99ca94d8b8d180f2b740b7cdb95c930147508abcf9/catboost-0.23-cp36-none-manylinux1_x86_64.whl (64.7MB)\n",
      "\u001b[K     |████████████████████████████████| 64.8MB 53kB/s \n",
      "\u001b[?25hCollecting fiona\n",
      "\u001b[?25l  Downloading https://files.pythonhosted.org/packages/ec/20/4e63bc5c6e62df889297b382c3ccd4a7a488b00946aaaf81a118158c6f09/Fiona-1.8.13.post1-cp36-cp36m-manylinux1_x86_64.whl (14.7MB)\n",
      "\u001b[K     |████████████████████████████████| 14.7MB 148kB/s \n",
      "\u001b[?25hRequirement already satisfied: shapely in /usr/local/lib/python3.6/dist-packages (from geopandas) (1.7.0)\n",
      "Collecting pyproj>=2.2.0\n",
      "\u001b[?25l  Downloading https://files.pythonhosted.org/packages/e5/c3/071e080230ac4b6c64f1a2e2f9161c9737a2bc7b683d2c90b024825000c0/pyproj-2.6.1.post1-cp36-cp36m-manylinux2010_x86_64.whl (10.9MB)\n",
      "\u001b[K     |████████████████████████████████| 10.9MB 30.7MB/s \n",
      "\u001b[?25hRequirement already satisfied: pandas>=0.23.0 in /usr/local/lib/python3.6/dist-packages (from geopandas) (1.0.3)\n",
      "Requirement already satisfied: setuptools>=18.0 in /usr/local/lib/python3.6/dist-packages (from sparse-dot-topn) (46.1.3)\n",
      "Requirement already satisfied: cython>=0.29.15 in /usr/local/lib/python3.6/dist-packages (from sparse-dot-topn) (0.29.17)\n",
      "Requirement already satisfied: numpy>=1.16.6 in /usr/local/lib/python3.6/dist-packages (from sparse-dot-topn) (1.18.3)\n",
      "Requirement already satisfied: scipy>=1.2.3 in /usr/local/lib/python3.6/dist-packages (from sparse-dot-topn) (1.4.1)\n",
      "Requirement already satisfied: sortedcontainers in /usr/local/lib/python3.6/dist-packages (from pdpipe) (2.1.0)\n",
      "Collecting strct\n",
      "  Downloading https://files.pythonhosted.org/packages/4a/c4/bd0de8562cb3731bdfcc33a4627c755a2d9c5e6e96b73546134c43acf1be/strct-0.0.30-py2.py3-none-any.whl\n",
      "Requirement already satisfied: tqdm in /usr/local/lib/python3.6/dist-packages (from pdpipe) (4.38.0)\n",
      "Collecting skutil>=0.0.15\n",
      "  Downloading https://files.pythonhosted.org/packages/34/2b/1b5c9e7be3c24e1bd5ce35c2d27a5780989c3d90fcee10f3fee3074dda7f/skutil-0.0.16-py2.py3-none-any.whl\n",
      "Requirement already satisfied: scikit-learn>=0.20.0 in /usr/local/lib/python3.6/dist-packages (from category-encoders) (0.22.2.post1)\n",
      "Requirement already satisfied: statsmodels>=0.9.0 in /usr/local/lib/python3.6/dist-packages (from category-encoders) (0.10.2)\n",
      "Requirement already satisfied: patsy>=0.5.1 in /usr/local/lib/python3.6/dist-packages (from category-encoders) (0.5.1)\n",
      "Requirement already satisfied: matplotlib in /usr/local/lib/python3.6/dist-packages (from catboost) (3.2.1)\n",
      "Requirement already satisfied: six in /usr/local/lib/python3.6/dist-packages (from catboost) (1.12.0)\n",
      "Requirement already satisfied: graphviz in /usr/local/lib/python3.6/dist-packages (from catboost) (0.10.1)\n",
      "Requirement already satisfied: plotly in /usr/local/lib/python3.6/dist-packages (from catboost) (4.4.1)\n",
      "Requirement already satisfied: click<8,>=4.0 in /usr/local/lib/python3.6/dist-packages (from fiona->geopandas) (7.1.2)\n",
      "Collecting munch\n",
      "  Downloading https://files.pythonhosted.org/packages/cc/ab/85d8da5c9a45e072301beb37ad7f833cd344e04c817d97e0cc75681d248f/munch-2.5.0-py2.py3-none-any.whl\n",
      "Collecting click-plugins>=1.0\n",
      "  Downloading https://files.pythonhosted.org/packages/e9/da/824b92d9942f4e472702488857914bdd50f73021efea15b4cad9aca8ecef/click_plugins-1.1.1-py2.py3-none-any.whl\n",
      "Collecting cligj>=0.5\n",
      "  Downloading https://files.pythonhosted.org/packages/e4/be/30a58b4b0733850280d01f8bd132591b4668ed5c7046761098d665ac2174/cligj-0.5.0-py3-none-any.whl\n",
      "Requirement already satisfied: attrs>=17 in /usr/local/lib/python3.6/dist-packages (from fiona->geopandas) (19.3.0)\n",
      "Requirement already satisfied: python-dateutil>=2.6.1 in /usr/local/lib/python3.6/dist-packages (from pandas>=0.23.0->geopandas) (2.8.1)\n",
      "Requirement already satisfied: pytz>=2017.2 in /usr/local/lib/python3.6/dist-packages (from pandas>=0.23.0->geopandas) (2018.9)\n",
      "Collecting decore\n",
      "  Downloading https://files.pythonhosted.org/packages/b4/69/9e3da3a87058d43e5b9f0f668f69da591b8b0c2763b3afbfea084582ea57/decore-0.0.1.tar.gz\n",
      "Requirement already satisfied: joblib>=0.11 in /usr/local/lib/python3.6/dist-packages (from scikit-learn>=0.20.0->category-encoders) (0.14.1)\n",
      "Requirement already satisfied: kiwisolver>=1.0.1 in /usr/local/lib/python3.6/dist-packages (from matplotlib->catboost) (1.2.0)\n",
      "Requirement already satisfied: cycler>=0.10 in /usr/local/lib/python3.6/dist-packages (from matplotlib->catboost) (0.10.0)\n",
      "Requirement already satisfied: pyparsing!=2.0.4,!=2.1.2,!=2.1.6,>=2.0.1 in /usr/local/lib/python3.6/dist-packages (from matplotlib->catboost) (2.4.7)\n",
      "Requirement already satisfied: retrying>=1.3.3 in /usr/local/lib/python3.6/dist-packages (from plotly->catboost) (1.3.3)\n",
      "Building wheels for collected packages: sparse-dot-topn, decore\n",
      "  Building wheel for sparse-dot-topn (setup.py) ... \u001b[?25l\u001b[?25hdone\n",
      "  Created wheel for sparse-dot-topn: filename=sparse_dot_topn-0.2.9-cp36-cp36m-linux_x86_64.whl size=322969 sha256=a5e0eea4a16ba94974bc5914d2ac3b5df06004160e341a2a4288f6cd27367f9b\n",
      "  Stored in directory: /root/.cache/pip/wheels/aa/e7/c7/e64559d518bcc12ed7e40a605ae304259b957ae8181c8d1e82\n",
      "  Building wheel for decore (setup.py) ... \u001b[?25l\u001b[?25hdone\n",
      "  Created wheel for decore: filename=decore-0.0.1-py2.py3-none-any.whl size=4190 sha256=1c4a9c54d95e6e2a00e409bdb6e08f4ad95cffb08ca5bea2fc023757702d08bf\n",
      "  Stored in directory: /root/.cache/pip/wheels/6c/1b/9c/71fa8b5df01cc605c4b5cadcd81df76d520149ca5c02b4013b\n",
      "Successfully built sparse-dot-topn decore\n",
      "Installing collected packages: munch, click-plugins, cligj, fiona, pyproj, geopandas, sparse-dot-topn, strct, decore, skutil, pdpipe, category-encoders, catboost\n",
      "Successfully installed catboost-0.23 category-encoders-2.2.2 click-plugins-1.1.1 cligj-0.5.0 decore-0.0.1 fiona-1.8.13.post1 geopandas-0.7.0 munch-2.5.0 pdpipe-0.0.49 pyproj-2.6.1.post1 skutil-0.0.16 sparse-dot-topn-0.2.9 strct-0.0.30\n"
     ]
    },
    {
     "name": "stderr",
     "output_type": "stream",
     "text": [
      "/usr/local/lib/python3.6/dist-packages/statsmodels/tools/_testing.py:19: FutureWarning: pandas.util.testing is deprecated. Use the functions in the public API at pandas.testing instead.\n",
      "  import pandas.util.testing as tm\n"
     ]
    },
    {
     "name": "stdout",
     "output_type": "stream",
     "text": [
      "--2020-05-05 15:12:38--  https://repo.continuum.io/miniconda/Miniconda3-4.5.4-Linux-x86_64.sh\n",
      "Resolving repo.continuum.io (repo.continuum.io)... 104.18.201.79, 104.18.200.79, 2606:4700::6812:c94f, ...\n",
      "Connecting to repo.continuum.io (repo.continuum.io)|104.18.201.79|:443... connected.\n",
      "HTTP request sent, awaiting response... 301 Moved Permanently\n",
      "Location: https://repo.anaconda.com/miniconda/Miniconda3-4.5.4-Linux-x86_64.sh [following]\n",
      "--2020-05-05 15:12:38--  https://repo.anaconda.com/miniconda/Miniconda3-4.5.4-Linux-x86_64.sh\n",
      "Resolving repo.anaconda.com (repo.anaconda.com)... 104.16.131.3, 104.16.130.3, 2606:4700::6810:8203, ...\n",
      "Connecting to repo.anaconda.com (repo.anaconda.com)|104.16.131.3|:443... connected.\n",
      "HTTP request sent, awaiting response... 200 OK\n",
      "Length: 58468498 (56M) [application/x-sh]\n",
      "Saving to: ‘Miniconda3-4.5.4-Linux-x86_64.sh’\n",
      "\n",
      "Miniconda3-4.5.4-Li 100%[===================>]  55.76M   117MB/s    in 0.5s    \n",
      "\n",
      "2020-05-05 15:12:39 (117 MB/s) - ‘Miniconda3-4.5.4-Linux-x86_64.sh’ saved [58468498/58468498]\n",
      "\n",
      "PREFIX=/usr/local\n",
      "installing: python-3.6.5-hc3d631a_2 ...\n",
      "Python 3.6.5 :: Anaconda, Inc.\n",
      "installing: ca-certificates-2018.03.07-0 ...\n",
      "installing: conda-env-2.6.0-h36134e3_1 ...\n",
      "installing: libgcc-ng-7.2.0-hdf63c60_3 ...\n",
      "installing: libstdcxx-ng-7.2.0-hdf63c60_3 ...\n",
      "installing: libffi-3.2.1-hd88cf55_4 ...\n",
      "installing: ncurses-6.1-hf484d3e_0 ...\n",
      "installing: openssl-1.0.2o-h20670df_0 ...\n",
      "installing: tk-8.6.7-hc745277_3 ...\n",
      "installing: xz-5.2.4-h14c3975_4 ...\n",
      "installing: yaml-0.1.7-had09818_2 ...\n",
      "installing: zlib-1.2.11-ha838bed_2 ...\n",
      "installing: libedit-3.1.20170329-h6b74fdf_2 ...\n",
      "installing: readline-7.0-ha6073c6_4 ...\n",
      "installing: sqlite-3.23.1-he433501_0 ...\n",
      "installing: asn1crypto-0.24.0-py36_0 ...\n",
      "installing: certifi-2018.4.16-py36_0 ...\n",
      "installing: chardet-3.0.4-py36h0f667ec_1 ...\n",
      "installing: idna-2.6-py36h82fb2a8_1 ...\n",
      "installing: pycosat-0.6.3-py36h0a5515d_0 ...\n",
      "installing: pycparser-2.18-py36hf9f622e_1 ...\n",
      "installing: pysocks-1.6.8-py36_0 ...\n",
      "installing: ruamel_yaml-0.15.37-py36h14c3975_2 ...\n",
      "installing: six-1.11.0-py36h372c433_1 ...\n",
      "installing: cffi-1.11.5-py36h9745a5d_0 ...\n",
      "installing: setuptools-39.2.0-py36_0 ...\n",
      "installing: cryptography-2.2.2-py36h14c3975_0 ...\n",
      "installing: wheel-0.31.1-py36_0 ...\n",
      "installing: pip-10.0.1-py36_0 ...\n",
      "installing: pyopenssl-18.0.0-py36_0 ...\n",
      "installing: urllib3-1.22-py36hbe7ace6_0 ...\n",
      "installing: requests-2.18.4-py36he2e5f8d_1 ...\n",
      "installing: conda-4.5.4-py36_0 ...\n",
      "installation finished.\n",
      "WARNING:\n",
      "    You currently have a PYTHONPATH environment variable set. This may cause\n",
      "    unexpected behavior when running the Python interpreter in Miniconda3.\n",
      "    For best results, please verify that your PYTHONPATH only points to\n",
      "    directories of packages that are compatible with the Python interpreter\n",
      "    in Miniconda3: /usr/local\n",
      "Cloning into 'EPFL-Capstone-Project'...\n",
      "remote: Enumerating objects: 113, done.\u001b[K\n",
      "remote: Counting objects: 100% (113/113), done.\u001b[K\n",
      "remote: Compressing objects: 100% (79/79), done.\u001b[K\n",
      "remote: Total 431 (delta 64), reused 78 (delta 32), pack-reused 318\u001b[K\n",
      "Receiving objects: 100% (431/431), 25.87 MiB | 34.00 MiB/s, done.\n",
      "Resolving deltas: 100% (232/232), done.\n",
      "Solving environment: failed\n",
      "\n",
      "ResolvePackageNotFound: \n",
      "  - ncurses==6.1=h0a44026_1002\n",
      "  - pyzmq==19.0.0=py36h820b253_1\n",
      "  - zstd==1.4.4=hed8d7c8_2\n",
      "  - psycopg2==2.8.4=py36hafa8578_1\n",
      "  - openssl==1.1.1f=h0b31af3_0\n",
      "  - pillow==7.0.0=py36h918e99a_0\n",
      "  - libllvm8==8.0.1=h770b8ee_0\n",
      "  - tensorflow==1.12.0=mkl_py36h2b2bbaf_0\n",
      "  - geotiff==1.5.1=h4bdff65_9\n",
      "  - tzcode==2019a=h01d97ff_1002\n",
      "  - zeromq==4.3.2=h6de7cb9_2\n",
      "  - fontconfig==2.13.1=h6b1039f_1001\n",
      "  - statsmodels==0.11.1=py36h37b9a7d_1\n",
      "  - geos==3.8.1=h4a8c4bd_0\n",
      "  - glib==2.58.3=py36hb0ce7ff_1003\n",
      "  - matplotlib-base==3.2.0=py36h11da6c2_1\n",
      "  - bzip2==1.0.8=h0b31af3_2\n",
      "  - pcre==8.44=h4a8c4bd_0\n",
      "  - poppler==0.67.0=h16886b5_8\n",
      "  - kealib==1.4.12=h2324030_0\n",
      "  - libopenblas==0.3.9=h3d69b6c_0\n",
      "  - mistune==0.8.4=py36h0b31af3_1000\n",
      "  - scipy==1.4.1=py36h82752d6_0\n",
      "  - gdal==3.0.4=py36h5a1ef21_3\n",
      "  - libspatialite==4.3.0a=hbcd37d4_1037\n",
      "  - hdf4==4.2.13=h84186c3_1003\n",
      "  - sqlalchemy==1.3.13=py36h0b31af3_0\n",
      "  - cryptography==2.8=py36hc9d8292_2\n",
      "  - scikit-learn==0.20.3=py36hca23c92_1\n",
      "  - llvmlite==0.31.0=py36hde82470_1\n",
      "  - nodejs==13.10.1=h38d8c5a_0\n",
      "  - giflib==5.2.1=h0b31af3_2\n",
      "  - krb5==1.16.4=h1752a42_0\n",
      "  - python==3.6.10=hce46be0_1009_cpython\n",
      "  - curl==7.68.0=h8754def_0\n",
      "  - numba==0.48.0=py36h4f17bb1_0\n",
      "  - tiledb==1.7.0=hd5e958f_2\n",
      "  - fiona==1.8.13=py36he71f6a4_0\n",
      "  - libsodium==1.0.17=h01d97ff_0\n",
      "  - libgdal==3.0.4=hec54991_3\n",
      "  - pandas==1.0.1=py36h4f17bb1_0\n",
      "  - c-ares==1.15.0=h01d97ff_1001\n",
      "  - sqlite==3.30.1=h93121df_0\n",
      "  - expat==2.2.9=h4a8c4bd_2\n",
      "  - xerces-c==3.2.2=h8f8adb3_1004\n",
      "  - libpng==1.6.37=hbbe82c9_1\n",
      "  - cffi==1.14.0=py36h356ff06_0\n",
      "  - zlib==1.2.11=h0b31af3_1006\n",
      "  - numpy==1.18.1=py36hde6bac1_0\n",
      "  - libedit==3.1.20170329=hcfe32e1_1001\n",
      "  - libssh2==1.8.2=hcdc9a53_2\n",
      "  - sparse_dot_topn==0.2.9=py36h863e41a_0\n",
      "  - libwebp==1.0.2=hd3bf737_5\n",
      "  - proj==6.3.1=h773a61f_1\n",
      "  - readline==8.0=hcfe32e1_0\n",
      "  - lz4-c==1.8.3=h6de7cb9_1001\n",
      "  - libiconv==1.15=h0b31af3_1006\n",
      "  - h5py==2.10.0=nompi_py36h106b333_102\n",
      "  - cairo==1.16.0=hec6a9b0_1003\n",
      "  - libpq==12.2=h554dc5a_0\n",
      "  - python-levenshtein==0.12.0=py36h0b31af3_1001\n",
      "  - psutil==5.7.0=py36h37b9a7d_1\n",
      "  - libcurl==7.68.0=h709d2b2_0\n",
      "  - tk==8.6.10=hbbe82c9_0\n",
      "  - libtiff==4.1.0=ha78913b_3\n",
      "  - jpeg==9c=h1de35cc_1001\n",
      "  - libuv==1.34.0=h0b31af3_0\n",
      "  - tensorflow-base==1.12.0=mkl_py36h70e0e9a_0\n",
      "  - xz==5.2.4=h0b31af3_1002\n",
      "  - json-c==0.13.1=h1de35cc_1001\n",
      "  - libkml==1.3.0=h169b8f9_1011\n",
      "  - postgresql==12.2=h16d8c28_0\n",
      "  - icu==64.2=h6de7cb9_1\n",
      "  - libxml2==2.9.10=h53d96d6_0\n",
      "  - libffi==3.2.1=h4a8c4bd_1007\n",
      "  - libgfortran==4.0.0=2\n",
      "  - pyrsistent==0.16.0=py36h37b9a7d_0\n",
      "  - freexl==1.0.5=h1de35cc_1002\n",
      "  - pixman==0.38.0=h01d97ff_1003\n",
      "  - kiwisolver==1.1.0=py36h863e41a_1\n",
      "  - libdap4==3.20.4=habf5908_0\n",
      "  - gettext==0.19.8.1=h46ab8bc_1002\n",
      "  - graphviz==2.42.3=h98dfb87_0\n",
      "  - libnetcdf==4.7.4=nompi_he461dc0_101\n",
      "  - grpcio==1.23.0=py36h7c1f37e_1\n",
      "  - openjpeg==2.3.1=h254dc36_3\n",
      "  - appnope==0.1.0=py36h9f0ad1d_1001\n",
      "  - cfitsio==3.470=h84d2f63_2\n",
      "  - tornado==6.0.4=py36h37b9a7d_1\n",
      "  - boost-cpp==1.72.0=hdf9ef73_0\n",
      "  - libprotobuf==3.11.4=hd174df1_0\n",
      "  - llvm-openmp==9.0.1=h28b9765_2\n",
      "  - hdf5==1.10.5=nompi_h3e39495_1104\n",
      "  - shapely==1.7.0=py36hda0b814_2\n",
      "  - freetype==2.10.1=h8da9a1a_0\n",
      "  - markupsafe==1.1.1=py36h37b9a7d_1\n",
      "\n",
      "\n",
      "CommandNotFoundError: Your shell has not been properly configured to use 'conda activate'.\n",
      "If your shell is Bash or a Bourne variant, enable conda for the current user with\n",
      "\n",
      "    $ echo \". /usr/local/etc/profile.d/conda.sh\" >> ~/.bashrc\n",
      "\n",
      "or, for all users, enable conda with\n",
      "\n",
      "    $ sudo ln -s /usr/local/etc/profile.d/conda.sh /etc/profile.d/conda.sh\n",
      "\n",
      "The options above will permanently enable the 'conda' command, but they do NOT\n",
      "put conda's base (root) environment on PATH.  To do so, run\n",
      "\n",
      "    $ conda activate\n",
      "\n",
      "in your terminal, or to put the base environment on PATH permanently, run\n",
      "\n",
      "    $ echo \"conda activate\" >> ~/.bashrc\n",
      "\n",
      "Previous to conda 4.4, the recommended way to activate conda was to modify PATH in\n",
      "your ~/.bashrc file.  You should manually remove the line that looks like\n",
      "\n",
      "    export PATH=\"/usr/local/bin:$PATH\"\n",
      "\n",
      "^^^ The above line should NO LONGER be in your ~/.bashrc file! ^^^\n",
      "\n",
      "\n",
      "[nltk_data] Downloading package stopwords to /root/nltk_data...\n",
      "[nltk_data]   Unzipping corpora/stopwords.zip.\n",
      "[nltk_data] Downloading package punkt to /root/nltk_data...\n",
      "[nltk_data]   Unzipping tokenizers/punkt.zip.\n",
      "Cloning into 'rapidsai-csp-utils'...\n",
      "remote: Enumerating objects: 103, done.\u001b[K\n",
      "remote: Counting objects: 100% (103/103), done.\u001b[K\n",
      "remote: Compressing objects: 100% (101/101), done.\u001b[K\n",
      "remote: Total 103 (delta 21), reused 14 (delta 1), pack-reused 0\u001b[K\n",
      "Receiving objects: 100% (103/103), 30.32 KiB | 7.58 MiB/s, done.\n",
      "Resolving deltas: 100% (21/21), done.\n",
      "PLEASE READ\n",
      "********************************************************************************************************\n",
      "Changes:\n",
      "1. Now that most people have migrated, we have rem0ved the migration notice.\n",
      "2. default stable version is now 0.13.  Nightly is now 0.14\n",
      "3. You can now declare your RAPIDS version as a CLI option and skip the user prompts (ex: '0.13' or '0.14', between 0.11 to 0.14, without the quotes): \n",
      "        \"!bash rapidsai-csp-utils/colab/rapids-colab.sh <version/label>\"\n",
      "        Examples: '!bash rapidsai-csp-utils/colab/rapids-colab.sh 0.13', or '!bash rapidsai-csp-utils/colab/rapids-colab.sh stable', or '!bash rapidsai-csp-utils/colab/rapids-colab.sh s'\n",
      "                  '!bash rapidsai-csp-utils/colab/rapids-colab.sh 0.14, or '!bash rapidsai-csp-utils/colab/rapids-colab.sh nightly', or '!bash rapidsai-csp-utils/colab/rapids-colab.sh n'\n",
      "Enjoy using RAPIDS!\n",
      "RAPIDS Version to install is 0.13\n",
      "Checking for GPU type:\n",
      "Traceback (most recent call last):\n",
      "  File \"rapidsai-csp-utils/colab/env-check.py\", line 7, in <module>\n",
      "    import pynvml\n",
      "ModuleNotFoundError: No module named 'pynvml'\n",
      "Removing conflicting packages, will replace with RAPIDS compatible versions\n",
      "\u001b[33mSkipping xgboost as it is not installed.\u001b[0m\n",
      "\u001b[33mSkipping dask as it is not installed.\u001b[0m\n",
      "\u001b[33mSkipping distributed as it is not installed.\u001b[0m\n",
      "Installing conda\n",
      "--2020-05-05 15:13:43--  https://repo.continuum.io/miniconda/Miniconda3-4.5.4-Linux-x86_64.sh\n",
      "Resolving repo.continuum.io (repo.continuum.io)... 104.18.201.79, 104.18.200.79, 2606:4700::6812:c94f, ...\n",
      "Connecting to repo.continuum.io (repo.continuum.io)|104.18.201.79|:443... connected.\n",
      "HTTP request sent, awaiting response... 301 Moved Permanently\n",
      "Location: https://repo.anaconda.com/miniconda/Miniconda3-4.5.4-Linux-x86_64.sh [following]\n",
      "--2020-05-05 15:13:43--  https://repo.anaconda.com/miniconda/Miniconda3-4.5.4-Linux-x86_64.sh\n",
      "Resolving repo.anaconda.com (repo.anaconda.com)... 104.16.131.3, 104.16.130.3, 2606:4700::6810:8203, ...\n",
      "Connecting to repo.anaconda.com (repo.anaconda.com)|104.16.131.3|:443... connected.\n",
      "HTTP request sent, awaiting response... 200 OK\n",
      "Length: 58468498 (56M) [application/x-sh]\n",
      "Saving to: ‘Miniconda3-4.5.4-Linux-x86_64.sh’\n",
      "\n",
      "Miniconda3-4.5.4-Li 100%[===================>]  55.76M   109MB/s    in 0.5s    \n",
      "\n",
      "2020-05-05 15:13:44 (109 MB/s) - ‘Miniconda3-4.5.4-Linux-x86_64.sh’ saved [58468498/58468498]\n",
      "\n",
      "PREFIX=/usr/local\n",
      "installing: python-3.6.5-hc3d631a_2 ...\n",
      "Python 3.6.5 :: Anaconda, Inc.\n",
      "installing: ca-certificates-2018.03.07-0 ...\n",
      "installing: conda-env-2.6.0-h36134e3_1 ...\n",
      "installing: libgcc-ng-7.2.0-hdf63c60_3 ...\n",
      "installing: libstdcxx-ng-7.2.0-hdf63c60_3 ...\n",
      "installing: libffi-3.2.1-hd88cf55_4 ...\n",
      "installing: ncurses-6.1-hf484d3e_0 ...\n",
      "installing: openssl-1.0.2o-h20670df_0 ...\n",
      "installing: tk-8.6.7-hc745277_3 ...\n",
      "installing: xz-5.2.4-h14c3975_4 ...\n",
      "installing: yaml-0.1.7-had09818_2 ...\n",
      "installing: zlib-1.2.11-ha838bed_2 ...\n",
      "installing: libedit-3.1.20170329-h6b74fdf_2 ...\n",
      "installing: readline-7.0-ha6073c6_4 ...\n",
      "installing: sqlite-3.23.1-he433501_0 ...\n",
      "installing: asn1crypto-0.24.0-py36_0 ...\n",
      "installing: certifi-2018.4.16-py36_0 ...\n",
      "installing: chardet-3.0.4-py36h0f667ec_1 ...\n",
      "installing: idna-2.6-py36h82fb2a8_1 ...\n",
      "installing: pycosat-0.6.3-py36h0a5515d_0 ...\n",
      "installing: pycparser-2.18-py36hf9f622e_1 ...\n",
      "installing: pysocks-1.6.8-py36_0 ...\n",
      "installing: ruamel_yaml-0.15.37-py36h14c3975_2 ...\n",
      "installing: six-1.11.0-py36h372c433_1 ...\n",
      "installing: cffi-1.11.5-py36h9745a5d_0 ...\n",
      "installing: setuptools-39.2.0-py36_0 ...\n",
      "installing: cryptography-2.2.2-py36h14c3975_0 ...\n",
      "installing: wheel-0.31.1-py36_0 ...\n",
      "installing: pip-10.0.1-py36_0 ...\n",
      "installing: pyopenssl-18.0.0-py36_0 ...\n",
      "installing: urllib3-1.22-py36hbe7ace6_0 ...\n",
      "installing: requests-2.18.4-py36he2e5f8d_1 ...\n",
      "installing: conda-4.5.4-py36_0 ...\n",
      "installation finished.\n",
      "WARNING:\n",
      "    You currently have a PYTHONPATH environment variable set. This may cause\n",
      "    unexpected behavior when running the Python interpreter in Miniconda3.\n",
      "    For best results, please verify that your PYTHONPATH only points to\n",
      "    directories of packages that are compatible with the Python interpreter\n",
      "    in Miniconda3: /usr/local\n",
      "Solving environment: done\n",
      "\n",
      "\n",
      "==> WARNING: A newer version of conda exists. <==\n",
      "  current version: 4.5.4\n",
      "  latest version: 4.8.3\n",
      "\n",
      "Please update conda by running\n",
      "\n",
      "    $ conda update -n base conda\n",
      "\n",
      "\n",
      "\n",
      "## Package Plan ##\n",
      "\n",
      "  environment location: /usr/local\n",
      "\n",
      "  added / updated specs: \n",
      "    - openssl\n",
      "    - python=3.6\n",
      "\n",
      "\n",
      "The following packages will be downloaded:\n",
      "\n",
      "    package                    |            build\n",
      "    ---------------------------|-----------------\n",
      "    libffi-3.2.1               |    he1b5a44_1007          47 KB  conda-forge\n",
      "    openssl-1.1.1g             |       h516909a_0         2.1 MB  conda-forge\n",
      "    readline-8.0               |       hf8c457e_0         441 KB  conda-forge\n",
      "    ca-certificates-2020.4.5.1 |       hecc5488_0         146 KB  conda-forge\n",
      "    _openmp_mutex-4.5          |            0_gnu         435 KB  conda-forge\n",
      "    xz-5.2.5                   |       h516909a_0         430 KB  conda-forge\n",
      "    setuptools-46.1.3          |   py36h9f0ad1d_0         653 KB  conda-forge\n",
      "    python_abi-3.6             |          1_cp36m           4 KB  conda-forge\n",
      "    ncurses-6.1                |    hf484d3e_1002         1.3 MB  conda-forge\n",
      "    python-3.6.10              |h8356626_1011_cpython        34.1 MB  conda-forge\n",
      "    ld_impl_linux-64-2.34      |       h53a641e_0         616 KB  conda-forge\n",
      "    libstdcxx-ng-9.2.0         |       hdf63c60_2         4.5 MB  conda-forge\n",
      "    wheel-0.34.2               |             py_1          24 KB  conda-forge\n",
      "    libgomp-9.2.0              |       h24d8f2e_2         816 KB  conda-forge\n",
      "    tk-8.6.10                  |       hed695b0_0         3.2 MB  conda-forge\n",
      "    libgcc-ng-9.2.0            |       h24d8f2e_2         8.2 MB  conda-forge\n",
      "    zlib-1.2.11                |    h516909a_1006         105 KB  conda-forge\n",
      "    certifi-2020.4.5.1         |   py36h9f0ad1d_0         151 KB  conda-forge\n",
      "    _libgcc_mutex-0.1          |      conda_forge           3 KB  conda-forge\n",
      "    pip-20.1                   |     pyh9f0ad1d_0         1.1 MB  conda-forge\n",
      "    sqlite-3.30.1              |       hcee41ef_0         2.0 MB  conda-forge\n",
      "    ------------------------------------------------------------\n",
      "                                           Total:        60.2 MB\n",
      "\n",
      "The following NEW packages will be INSTALLED:\n",
      "\n",
      "    _libgcc_mutex:    0.1-conda_forge   conda-forge\n",
      "    _openmp_mutex:    4.5-0_gnu         conda-forge\n",
      "    ld_impl_linux-64: 2.34-h53a641e_0   conda-forge\n",
      "    libgomp:          9.2.0-h24d8f2e_2  conda-forge\n",
      "    python_abi:       3.6-1_cp36m       conda-forge\n",
      "\n",
      "The following packages will be UPDATED:\n",
      "\n",
      "    ca-certificates:  2018.03.07-0                  --> 2020.4.5.1-hecc5488_0        conda-forge\n",
      "    certifi:          2018.4.16-py36_0              --> 2020.4.5.1-py36h9f0ad1d_0    conda-forge\n",
      "    libffi:           3.2.1-hd88cf55_4              --> 3.2.1-he1b5a44_1007          conda-forge\n",
      "    libgcc-ng:        7.2.0-hdf63c60_3              --> 9.2.0-h24d8f2e_2             conda-forge\n",
      "    libstdcxx-ng:     7.2.0-hdf63c60_3              --> 9.2.0-hdf63c60_2             conda-forge\n",
      "    ncurses:          6.1-hf484d3e_0                --> 6.1-hf484d3e_1002            conda-forge\n",
      "    openssl:          1.0.2o-h20670df_0             --> 1.1.1g-h516909a_0            conda-forge\n",
      "    pip:              10.0.1-py36_0                 --> 20.1-pyh9f0ad1d_0            conda-forge\n",
      "    python:           3.6.5-hc3d631a_2              --> 3.6.10-h8356626_1011_cpython conda-forge\n",
      "    readline:         7.0-ha6073c6_4                --> 8.0-hf8c457e_0               conda-forge\n",
      "    setuptools:       39.2.0-py36_0                 --> 46.1.3-py36h9f0ad1d_0        conda-forge\n",
      "    sqlite:           3.23.1-he433501_0             --> 3.30.1-hcee41ef_0            conda-forge\n",
      "    tk:               8.6.7-hc745277_3              --> 8.6.10-hed695b0_0            conda-forge\n",
      "    wheel:            0.31.1-py36_0                 --> 0.34.2-py_1                  conda-forge\n",
      "    xz:               5.2.4-h14c3975_4              --> 5.2.5-h516909a_0             conda-forge\n",
      "    zlib:             1.2.11-ha838bed_2             --> 1.2.11-h516909a_1006         conda-forge\n",
      "\n",
      "\n",
      "Downloading and Extracting Packages\n",
      "libffi-3.2.1         |   47 KB | : 100% 1.0/1 [00:00<00:00,  9.93it/s]\n",
      "openssl-1.1.1g       |  2.1 MB | : 100% 1.0/1 [00:00<00:00,  2.50it/s]               \n",
      "readline-8.0         |  441 KB | : 100% 1.0/1 [00:00<00:00,  7.67it/s]               \n",
      "ca-certificates-2020 |  146 KB | : 100% 1.0/1 [00:00<00:00, 15.84it/s]\n",
      "_openmp_mutex-4.5    |  435 KB | : 100% 1.0/1 [00:00<00:00, 12.73it/s]\n",
      "xz-5.2.5             |  430 KB | : 100% 1.0/1 [00:00<00:00,  7.22it/s]               \n",
      "setuptools-46.1.3    |  653 KB | : 100% 1.0/1 [00:00<00:00,  4.59it/s]               \n",
      "python_abi-3.6       |    4 KB | : 100% 1.0/1 [00:00<00:00, 29.34it/s]\n",
      "ncurses-6.1          |  1.3 MB | : 100% 1.0/1 [00:00<00:00,  1.16it/s]               \n",
      "python-3.6.10        | 34.1 MB | : 100% 1.0/1 [00:04<00:00,  4.63s/it]              \n",
      "ld_impl_linux-64-2.3 |  616 KB | : 100% 1.0/1 [00:00<00:00,  5.60it/s]               \n",
      "libstdcxx-ng-9.2.0   |  4.5 MB | : 100% 1.0/1 [00:00<00:00,  1.48it/s]               \n",
      "wheel-0.34.2         |   24 KB | : 100% 1.0/1 [00:00<00:00, 19.30it/s]\n",
      "libgomp-9.2.0        |  816 KB | : 100% 1.0/1 [00:00<00:00,  6.33it/s]               \n",
      "tk-8.6.10            |  3.2 MB | : 100% 1.0/1 [00:00<00:00,  1.55it/s]               \n",
      "libgcc-ng-9.2.0      |  8.2 MB | : 100% 1.0/1 [00:01<00:00,  1.16s/it]              \n",
      "zlib-1.2.11          |  105 KB | : 100% 1.0/1 [00:00<00:00, 17.45it/s]\n",
      "certifi-2020.4.5.1   |  151 KB | : 100% 1.0/1 [00:00<00:00, 15.42it/s]\n",
      "_libgcc_mutex-0.1    |    3 KB | : 100% 1.0/1 [00:00<00:00, 28.02it/s]\n",
      "pip-20.1             |  1.1 MB | : 100% 1.0/1 [00:00<00:00,  3.15it/s]               \n",
      "sqlite-3.30.1        |  2.0 MB | : 100% 1.0/1 [00:00<00:00,  3.13it/s]               \n",
      "Preparing transaction: done\n",
      "Verifying transaction: done\n",
      "Executing transaction: done\n",
      "Installing RAPIDS 0.13 packages from the stable release channel\n",
      "Please standby, this will take a few minutes...\n",
      "Solving environment: done\n",
      "\n",
      "\n",
      "==> WARNING: A newer version of conda exists. <==\n",
      "  current version: 4.5.4\n",
      "  latest version: 4.8.3\n",
      "\n",
      "Please update conda by running\n",
      "\n",
      "    $ conda update -n base conda\n",
      "\n",
      "\n",
      "\n",
      "## Package Plan ##\n",
      "\n",
      "  environment location: /usr/local\n",
      "\n",
      "  added / updated specs: \n",
      "    - cudatoolkit=10.0\n",
      "    - cudf=0.13\n",
      "    - cugraph\n",
      "    - cuml\n",
      "    - cusignal\n",
      "    - cuspatial\n",
      "    - dask-cudf\n",
      "    - gcsfs\n",
      "    - pynvml\n",
      "    - python=3.6\n",
      "    - xgboost=1.0.2dev.rapidsai0.13\n",
      "\n",
      "\n",
      "The following packages will be downloaded:\n",
      "\n",
      "    package                    |            build\n",
      "    ---------------------------|-----------------\n",
      "    hdf5-1.10.5                |nompi_h3c11f04_1104         3.1 MB  conda-forge\n",
      "    ucx-1.7.0+g9d06c3a         |       cuda10.0_0         8.2 MB  rapidsai/label/main\n",
      "    boost-1.70.0               |   py36h9de70de_1         337 KB  conda-forge\n",
      "    freexl-1.0.5               |    h14c3975_1002          43 KB  conda-forge\n",
      "    bzip2-1.0.8                |       h516909a_2         396 KB  conda-forge\n",
      "    grpc-cpp-1.23.0            |       h18db393_0         4.5 MB  conda-forge\n",
      "    poppler-data-0.4.9         |                1         3.4 MB  conda-forge\n",
      "    pandas-0.25.3              |   py36hb3f55d8_0        11.4 MB  conda-forge\n",
      "    libkml-1.3.0               |    h4fcabce_1010         643 KB  conda-forge\n",
      "    xorg-kbproto-1.0.7         |    h14c3975_1002          26 KB  conda-forge\n",
      "    libcuml-0.13.0             |       cuda10.0_0        51.6 MB  rapidsai/label/main\n",
      "    libcugraph-0.13.0          |       cuda10.0_0        40.0 MB  rapidsai/label/main\n",
      "    fsspec-0.6.3               |             py_0          48 KB  conda-forge\n",
      "    gettext-0.19.8.1           |    hc5be6a0_1002         3.6 MB  conda-forge\n",
      "    libiconv-1.15              |    h516909a_1006         2.0 MB  conda-forge\n",
      "    xorg-libice-1.0.10         |       h516909a_0          57 KB  conda-forge\n",
      "    olefile-0.46               |             py_0          31 KB  conda-forge\n",
      "    cusignal-0.13.0            |           py36_0          67 KB  rapidsai/label/main\n",
      "    parquet-cpp-1.5.1          |                2           3 KB  conda-forge\n",
      "    xorg-libxau-1.0.9          |       h14c3975_0          13 KB  conda-forge\n",
      "    libxml2-2.9.10             |       hee79883_0         1.3 MB  conda-forge\n",
      "    libevent-2.1.10            |       h72c5cf5_0         1.3 MB  conda-forge\n",
      "    libxcb-1.13                |    h14c3975_1002         396 KB  conda-forge\n",
      "    liblapack-3.8.0            |      14_openblas          10 KB  conda-forge\n",
      "    pixman-0.38.0              |    h516909a_1003         594 KB  conda-forge\n",
      "    fastavro-0.23.3            |   py36h8c4c3a4_0         416 KB  conda-forge\n",
      "    libnvstrings-0.13.0        |       cuda10.0_0        29.6 MB  rapidsai/label/main\n",
      "    bokeh-2.0.1                |   py36h9f0ad1d_0         6.8 MB  conda-forge\n",
      "    cuspatial-0.13.0           |           py36_0         1.7 MB  rapidsai/label/main\n",
      "    poppler-0.67.0             |       h14e79db_8         8.9 MB  conda-forge\n",
      "    libcurl-7.69.1             |       hf7181ac_0         573 KB  conda-forge\n",
      "    locket-0.2.0               |             py_2           6 KB  conda-forge\n",
      "    msgpack-python-1.0.0       |   py36hdb11119_1          91 KB  conda-forge\n",
      "    tblib-1.6.0                |             py_0          14 KB  conda-forge\n",
      "    double-conversion-3.1.5    |       he1b5a44_2          85 KB  conda-forge\n",
      "    libprotobuf-3.8.0          |       h8b12597_0         4.7 MB  conda-forge\n",
      "    xorg-libxrender-0.9.10     |    h516909a_1002          31 KB  conda-forge\n",
      "    tornado-6.0.4              |   py36h8c4c3a4_1         639 KB  conda-forge\n",
      "    libhwloc-2.1.0             |       h3c4fd83_0         2.7 MB  conda-forge\n",
      "    scikit-learn-0.22.2.post1  |   py36hcdab131_0         7.1 MB  conda-forge\n",
      "    openjpeg-2.3.1             |       h981e76c_3         475 KB  conda-forge\n",
      "    giflib-5.1.7               |       h516909a_1         455 KB  conda-forge\n",
      "    heapdict-1.0.1             |             py_0           7 KB  conda-forge\n",
      "    icu-64.2                   |       he1b5a44_1        12.6 MB  conda-forge\n",
      "    libgfortran-ng-7.3.0       |       hdf63c60_5         1.7 MB  conda-forge\n",
      "    nccl-2.5.7.1               |       hd6f8bf8_0        96.6 MB  conda-forge\n",
      "    postgresql-12.2            |       h8573dbc_1         5.0 MB  conda-forge\n",
      "    libcuspatial-0.13.0        |       cuda10.0_0         1.7 MB  rapidsai/label/main\n",
      "    xerces-c-3.2.2             |    h8412b87_1004         1.7 MB  conda-forge\n",
      "    geotiff-1.5.1              |       h38872f0_8         279 KB  conda-forge\n",
      "    cudatoolkit-10.0.130       |                0       380.0 MB  nvidia\n",
      "    dask-2.15.0                |             py_0           4 KB  conda-forge\n",
      "    py-xgboost-1.0.2dev.rapidsai0.13|   cuda10.0py36_6         100 KB  rapidsai/label/main\n",
      "    libpng-1.6.37              |       hed695b0_1         308 KB  conda-forge\n",
      "    libnetcdf-4.7.3            |nompi_h9f9fd6a_101         1.3 MB  conda-forge\n",
      "    fastrlock-0.4              |py36h831f99a_1001          32 KB  conda-forge\n",
      "    libspatialite-4.3.0a       |    ha48a99a_1034         3.1 MB  conda-forge\n",
      "    jinja2-2.11.2              |     pyh9f0ad1d_0          93 KB  conda-forge\n",
      "    gcsfs-0.6.1                |             py_0          19 KB  conda-forge\n",
      "    dask-core-2.15.0           |             py_0         603 KB  conda-forge\n",
      "    libopenblas-0.3.7          |       h5ec1e0e_6         7.6 MB  conda-forge\n",
      "    python-dateutil-2.8.1      |             py_0         220 KB  conda-forge\n",
      "    pyopenssl-19.1.0           |             py_1          47 KB  conda-forge\n",
      "    numba-0.48.0               |   py36hb3f55d8_0         3.4 MB  conda-forge\n",
      "    fontconfig-2.13.1          |    h86ecdb6_1001         340 KB  conda-forge\n",
      "    oauthlib-3.0.1             |             py_0          82 KB  conda-forge\n",
      "    psutil-5.7.0               |   py36h8c4c3a4_1         324 KB  conda-forge\n",
      "    cairo-1.16.0               |    hcf35c78_1003         1.5 MB  conda-forge\n",
      "    pynvml-8.0.4               |             py_0          31 KB  conda-forge\n",
      "    ucx-py-0.13.0+g9d06c3a     |           py36_0         287 KB  rapidsai/label/main\n",
      "    re2-2020.05.01             |       he1b5a44_0         426 KB  conda-forge\n",
      "    libblas-3.8.0              |      14_openblas          10 KB  conda-forge\n",
      "    freetype-2.10.1            |       he06d7ca_0         877 KB  conda-forge\n",
      "    libssh2-1.8.2              |       h22169c7_2         257 KB  conda-forge\n",
      "    requests-2.23.0            |     pyh8c360ce_2          47 KB  conda-forge\n",
      "    cugraph-0.13.0             |           py36_0         7.3 MB  rapidsai/label/main\n",
      "    cudnn-7.6.0                |       cuda10.0_0       216.6 MB  nvidia\n",
      "    xorg-libxdmcp-1.1.3        |       h516909a_0          18 KB  conda-forge\n",
      "    toolz-0.10.0               |             py_0          46 KB  conda-forge\n",
      "    hdf4-4.2.13                |    hf30be14_1003         964 KB  conda-forge\n",
      "    nvstrings-0.13.0           |           py36_0         129 KB  rapidsai/label/main\n",
      "    brotlipy-0.7.0             |py36h8c4c3a4_1000         346 KB  conda-forge\n",
      "    partd-1.1.0                |             py_0          17 KB  conda-forge\n",
      "    google-auth-1.14.1         |     pyh9f0ad1d_0          54 KB  conda-forge\n",
      "    libpq-12.2                 |       h5513abc_1         2.6 MB  conda-forge\n",
      "    gflags-2.2.2               |    he1b5a44_1002         175 KB  conda-forge\n",
      "    xorg-libx11-1.6.9          |       h516909a_0         918 KB  conda-forge\n",
      "    rmm-0.13.0                 |           py36_0         687 KB  rapidsai/label/main\n",
      "    glog-0.4.0                 |       h49b9bf7_3         104 KB  conda-forge\n",
      "    xorg-renderproto-0.11.1    |    h14c3975_1002           8 KB  conda-forge\n",
      "    dask-cudf-0.13.0           |           py36_0          76 KB  rapidsai/label/main\n",
      "    cachetools-3.1.1           |             py_0          11 KB  conda-forge\n",
      "    thrift-cpp-0.12.0          |    hf3afdfd_1004         2.4 MB  conda-forge\n",
      "    proj-6.3.0                 |       hc80f0dc_0        10.3 MB  conda-forge\n",
      "    kealib-1.4.13              |       hec59c27_0         172 KB  conda-forge\n",
      "    xorg-xproto-7.0.31         |    h14c3975_1007          72 KB  conda-forge\n",
      "    click-7.1.2                |     pyh9f0ad1d_0          64 KB  conda-forge\n",
      "    urllib3-1.25.9             |             py_0          92 KB  conda-forge\n",
      "    arrow-cpp-0.15.0           |   py36h090bef1_2        18.1 MB  conda-forge\n",
      "    requests-oauthlib-1.2.0    |             py_0          19 KB  conda-forge\n",
      "    cloudpickle-1.4.1          |             py_0          24 KB  conda-forge\n",
      "    krb5-1.17.1                |       h2fd8d38_0         1.5 MB  conda-forge\n",
      "    libtiff-4.1.0              |       hfc65ed5_0         595 KB  conda-forge\n",
      "    pyasn1-modules-0.2.7       |             py_0          60 KB  conda-forge\n",
      "    joblib-0.14.1              |             py_0         198 KB  conda-forge\n",
      "    libcudf-0.13.0             |       cuda10.0_0       136.5 MB  rapidsai/label/main\n",
      "    libllvm8-8.0.1             |       hc9558a2_0        23.2 MB  conda-forge\n",
      "    llvmlite-0.31.0            |   py36hfa65bc7_1         325 KB  conda-forge\n",
      "    c-ares-1.15.0              |    h516909a_1001         100 KB  conda-forge\n",
      "    xgboost-1.0.2dev.rapidsai0.13|   cuda10.0py36_6          12 KB  rapidsai/label/main\n",
      "    libgdal-2.4.4              |       h2b6fda6_0        18.7 MB  conda-forge\n",
      "    pyyaml-5.1.2               |   py36h516909a_0         184 KB  conda-forge\n",
      "    libcumlprims-0.13.0        |       cuda10.0_0         3.3 MB  nvidia\n",
      "    glib-2.64.2                |       h6f030ca_0         3.4 MB  conda-forge\n",
      "    cupy-7.4.0                 |   py36h273e724_1        15.2 MB  conda-forge\n",
      "    pcre-8.44                  |       he1b5a44_0         261 KB  conda-forge\n",
      "    pyjwt-1.7.1                |             py_0          17 KB  conda-forge\n",
      "    gdal-2.4.4                 |   py36h5f563d9_0         1.4 MB  conda-forge\n",
      "    decorator-4.4.2            |             py_0          11 KB  conda-forge\n",
      "    pyasn1-0.4.8               |             py_0          53 KB  conda-forge\n",
      "    dlpack-0.2                 |       he1b5a44_1          13 KB  conda-forge\n",
      "    libxgboost-1.0.2dev.rapidsai0.13|       cuda10.0_6        21.9 MB  rapidsai/label/main\n",
      "    geos-3.8.0                 |       he1b5a44_1         1.0 MB  conda-forge\n",
      "    pillow-7.1.2               |   py36h8328e55_0         656 KB  conda-forge\n",
      "    xorg-xextproto-7.3.0       |    h14c3975_1002          27 KB  conda-forge\n",
      "    xorg-libxext-1.3.4         |       h516909a_0          51 KB  conda-forge\n",
      "    zict-2.0.0                 |             py_0          10 KB  conda-forge\n",
      "    scipy-1.4.1                |   py36h2d22cac_3        18.9 MB  conda-forge\n",
      "    json-c-0.13.1              |    h14c3975_1001          71 KB  conda-forge\n",
      "    xorg-libsm-1.2.3           |    h84519dc_1000          25 KB  conda-forge\n",
      "    brotli-1.0.7               |    he1b5a44_1001         1.0 MB  conda-forge\n",
      "    sortedcontainers-2.1.0     |             py_0          25 KB  conda-forge\n",
      "    jpeg-9c                    |    h14c3975_1001         251 KB  conda-forge\n",
      "    packaging-20.1             |             py_0          31 KB  conda-forge\n",
      "    cfitsio-3.470              |       h3eac812_5         1.3 MB  conda-forge\n",
      "    libcblas-3.8.0             |      14_openblas          10 KB  conda-forge\n",
      "    pthread-stubs-0.4          |    h14c3975_1001           5 KB  conda-forge\n",
      "    google-auth-oauthlib-0.4.1 |             py_2          18 KB  conda-forge\n",
      "    blinker-1.4                |             py_1          13 KB  conda-forge\n",
      "    distributed-2.15.2         |   py36h9f0ad1d_0        1022 KB  conda-forge\n",
      "    pyarrow-0.15.0             |   py36h8b68381_1         3.2 MB  conda-forge\n",
      "    zstd-1.4.3                 |       h3b9ef0a_0         935 KB  conda-forge\n",
      "    markupsafe-1.1.1           |   py36h8c4c3a4_1          26 KB  conda-forge\n",
      "    librmm-0.13.0              |       cuda10.0_0          70 KB  rapidsai/label/main\n",
      "    tzcode-2020a               |       h516909a_0         425 KB  conda-forge\n",
      "    cuml-0.13.0                |  cuda10.0_py36_0         9.2 MB  rapidsai/label/main\n",
      "    curl-7.69.1                |       h33f0ec9_0         137 KB  conda-forge\n",
      "    cudf-0.13.0                |           py36_0        32.6 MB  rapidsai/label/main\n",
      "    expat-2.2.9                |       he1b5a44_2         191 KB  conda-forge\n",
      "    snappy-1.1.8               |       he1b5a44_1          39 KB  conda-forge\n",
      "    uriparser-0.9.3            |       he1b5a44_1          49 KB  conda-forge\n",
      "    cytoolz-0.10.1             |   py36h516909a_0         431 KB  conda-forge\n",
      "    pyparsing-2.4.7            |     pyh9f0ad1d_0          60 KB  conda-forge\n",
      "    rsa-4.0                    |             py_0          27 KB  conda-forge\n",
      "    boost-cpp-1.70.0           |       h8e57a91_2        21.1 MB  conda-forge\n",
      "    cryptography-2.9.2         |   py36h45558ae_0         613 KB  conda-forge\n",
      "    lz4-c-1.8.3                |    he1b5a44_1001         187 KB  conda-forge\n",
      "    numpy-1.18.4               |   py36h7314795_0         5.2 MB  conda-forge\n",
      "    libuuid-2.32.1             |    h14c3975_1000          26 KB  conda-forge\n",
      "    typing_extensions-3.7.4.2  |             py_0          25 KB  conda-forge\n",
      "    pytz-2020.1                |     pyh9f0ad1d_0         227 KB  conda-forge\n",
      "    libdap4-3.20.6             |       h1d1bd15_0        18.2 MB  conda-forge\n",
      "    ------------------------------------------------------------\n",
      "                                           Total:        1.29 GB\n",
      "\n",
      "The following NEW packages will be INSTALLED:\n",
      "\n",
      "    arrow-cpp:            0.15.0-py36h090bef1_2                conda-forge        \n",
      "    blinker:              1.4-py_1                             conda-forge        \n",
      "    bokeh:                2.0.1-py36h9f0ad1d_0                 conda-forge        \n",
      "    boost:                1.70.0-py36h9de70de_1                conda-forge        \n",
      "    boost-cpp:            1.70.0-h8e57a91_2                    conda-forge        \n",
      "    brotli:               1.0.7-he1b5a44_1001                  conda-forge        \n",
      "    brotlipy:             0.7.0-py36h8c4c3a4_1000              conda-forge        \n",
      "    bzip2:                1.0.8-h516909a_2                     conda-forge        \n",
      "    c-ares:               1.15.0-h516909a_1001                 conda-forge        \n",
      "    cachetools:           3.1.1-py_0                           conda-forge        \n",
      "    cairo:                1.16.0-hcf35c78_1003                 conda-forge        \n",
      "    cfitsio:              3.470-h3eac812_5                     conda-forge        \n",
      "    click:                7.1.2-pyh9f0ad1d_0                   conda-forge        \n",
      "    cloudpickle:          1.4.1-py_0                           conda-forge        \n",
      "    cudatoolkit:          10.0.130-0                           nvidia             \n",
      "    cudf:                 0.13.0-py36_0                        rapidsai/label/main\n",
      "    cudnn:                7.6.0-cuda10.0_0                     nvidia             \n",
      "    cugraph:              0.13.0-py36_0                        rapidsai/label/main\n",
      "    cuml:                 0.13.0-cuda10.0_py36_0               rapidsai/label/main\n",
      "    cupy:                 7.4.0-py36h273e724_1                 conda-forge        \n",
      "    curl:                 7.69.1-h33f0ec9_0                    conda-forge        \n",
      "    cusignal:             0.13.0-py36_0                        rapidsai/label/main\n",
      "    cuspatial:            0.13.0-py36_0                        rapidsai/label/main\n",
      "    cytoolz:              0.10.1-py36h516909a_0                conda-forge        \n",
      "    dask:                 2.15.0-py_0                          conda-forge        \n",
      "    dask-core:            2.15.0-py_0                          conda-forge        \n",
      "    dask-cudf:            0.13.0-py36_0                        rapidsai/label/main\n",
      "    decorator:            4.4.2-py_0                           conda-forge        \n",
      "    distributed:          2.15.2-py36h9f0ad1d_0                conda-forge        \n",
      "    dlpack:               0.2-he1b5a44_1                       conda-forge        \n",
      "    double-conversion:    3.1.5-he1b5a44_2                     conda-forge        \n",
      "    expat:                2.2.9-he1b5a44_2                     conda-forge        \n",
      "    fastavro:             0.23.3-py36h8c4c3a4_0                conda-forge        \n",
      "    fastrlock:            0.4-py36h831f99a_1001                conda-forge        \n",
      "    fontconfig:           2.13.1-h86ecdb6_1001                 conda-forge        \n",
      "    freetype:             2.10.1-he06d7ca_0                    conda-forge        \n",
      "    freexl:               1.0.5-h14c3975_1002                  conda-forge        \n",
      "    fsspec:               0.6.3-py_0                           conda-forge        \n",
      "    gcsfs:                0.6.1-py_0                           conda-forge        \n",
      "    gdal:                 2.4.4-py36h5f563d9_0                 conda-forge        \n",
      "    geos:                 3.8.0-he1b5a44_1                     conda-forge        \n",
      "    geotiff:              1.5.1-h38872f0_8                     conda-forge        \n",
      "    gettext:              0.19.8.1-hc5be6a0_1002               conda-forge        \n",
      "    gflags:               2.2.2-he1b5a44_1002                  conda-forge        \n",
      "    giflib:               5.1.7-h516909a_1                     conda-forge        \n",
      "    glib:                 2.64.2-h6f030ca_0                    conda-forge        \n",
      "    glog:                 0.4.0-h49b9bf7_3                     conda-forge        \n",
      "    google-auth:          1.14.1-pyh9f0ad1d_0                  conda-forge        \n",
      "    google-auth-oauthlib: 0.4.1-py_2                           conda-forge        \n",
      "    grpc-cpp:             1.23.0-h18db393_0                    conda-forge        \n",
      "    hdf4:                 4.2.13-hf30be14_1003                 conda-forge        \n",
      "    hdf5:                 1.10.5-nompi_h3c11f04_1104           conda-forge        \n",
      "    heapdict:             1.0.1-py_0                           conda-forge        \n",
      "    icu:                  64.2-he1b5a44_1                      conda-forge        \n",
      "    jinja2:               2.11.2-pyh9f0ad1d_0                  conda-forge        \n",
      "    joblib:               0.14.1-py_0                          conda-forge        \n",
      "    jpeg:                 9c-h14c3975_1001                     conda-forge        \n",
      "    json-c:               0.13.1-h14c3975_1001                 conda-forge        \n",
      "    kealib:               1.4.13-hec59c27_0                    conda-forge        \n",
      "    krb5:                 1.17.1-h2fd8d38_0                    conda-forge        \n",
      "    libblas:              3.8.0-14_openblas                    conda-forge        \n",
      "    libcblas:             3.8.0-14_openblas                    conda-forge        \n",
      "    libcudf:              0.13.0-cuda10.0_0                    rapidsai/label/main\n",
      "    libcugraph:           0.13.0-cuda10.0_0                    rapidsai/label/main\n",
      "    libcuml:              0.13.0-cuda10.0_0                    rapidsai/label/main\n",
      "    libcumlprims:         0.13.0-cuda10.0_0                    nvidia             \n",
      "    libcurl:              7.69.1-hf7181ac_0                    conda-forge        \n",
      "    libcuspatial:         0.13.0-cuda10.0_0                    rapidsai/label/main\n",
      "    libdap4:              3.20.6-h1d1bd15_0                    conda-forge        \n",
      "    libevent:             2.1.10-h72c5cf5_0                    conda-forge        \n",
      "    libgdal:              2.4.4-h2b6fda6_0                     conda-forge        \n",
      "    libgfortran-ng:       7.3.0-hdf63c60_5                     conda-forge        \n",
      "    libhwloc:             2.1.0-h3c4fd83_0                     conda-forge        \n",
      "    libiconv:             1.15-h516909a_1006                   conda-forge        \n",
      "    libkml:               1.3.0-h4fcabce_1010                  conda-forge        \n",
      "    liblapack:            3.8.0-14_openblas                    conda-forge        \n",
      "    libllvm8:             8.0.1-hc9558a2_0                     conda-forge        \n",
      "    libnetcdf:            4.7.3-nompi_h9f9fd6a_101             conda-forge        \n",
      "    libnvstrings:         0.13.0-cuda10.0_0                    rapidsai/label/main\n",
      "    libopenblas:          0.3.7-h5ec1e0e_6                     conda-forge        \n",
      "    libpng:               1.6.37-hed695b0_1                    conda-forge        \n",
      "    libpq:                12.2-h5513abc_1                      conda-forge        \n",
      "    libprotobuf:          3.8.0-h8b12597_0                     conda-forge        \n",
      "    librmm:               0.13.0-cuda10.0_0                    rapidsai/label/main\n",
      "    libspatialite:        4.3.0a-ha48a99a_1034                 conda-forge        \n",
      "    libssh2:              1.8.2-h22169c7_2                     conda-forge        \n",
      "    libtiff:              4.1.0-hfc65ed5_0                     conda-forge        \n",
      "    libuuid:              2.32.1-h14c3975_1000                 conda-forge        \n",
      "    libxcb:               1.13-h14c3975_1002                   conda-forge        \n",
      "    libxgboost:           1.0.2dev.rapidsai0.13-cuda10.0_6     rapidsai/label/main\n",
      "    libxml2:              2.9.10-hee79883_0                    conda-forge        \n",
      "    llvmlite:             0.31.0-py36hfa65bc7_1                conda-forge        \n",
      "    locket:               0.2.0-py_2                           conda-forge        \n",
      "    lz4-c:                1.8.3-he1b5a44_1001                  conda-forge        \n",
      "    markupsafe:           1.1.1-py36h8c4c3a4_1                 conda-forge        \n",
      "    msgpack-python:       1.0.0-py36hdb11119_1                 conda-forge        \n",
      "    nccl:                 2.5.7.1-hd6f8bf8_0                   conda-forge        \n",
      "    numba:                0.48.0-py36hb3f55d8_0                conda-forge        \n",
      "    numpy:                1.18.4-py36h7314795_0                conda-forge        \n",
      "    nvstrings:            0.13.0-py36_0                        rapidsai/label/main\n",
      "    oauthlib:             3.0.1-py_0                           conda-forge        \n",
      "    olefile:              0.46-py_0                            conda-forge        \n",
      "    openjpeg:             2.3.1-h981e76c_3                     conda-forge        \n",
      "    packaging:            20.1-py_0                            conda-forge        \n",
      "    pandas:               0.25.3-py36hb3f55d8_0                conda-forge        \n",
      "    parquet-cpp:          1.5.1-2                              conda-forge        \n",
      "    partd:                1.1.0-py_0                           conda-forge        \n",
      "    pcre:                 8.44-he1b5a44_0                      conda-forge        \n",
      "    pillow:               7.1.2-py36h8328e55_0                 conda-forge        \n",
      "    pixman:               0.38.0-h516909a_1003                 conda-forge        \n",
      "    poppler:              0.67.0-h14e79db_8                    conda-forge        \n",
      "    poppler-data:         0.4.9-1                              conda-forge        \n",
      "    postgresql:           12.2-h8573dbc_1                      conda-forge        \n",
      "    proj:                 6.3.0-hc80f0dc_0                     conda-forge        \n",
      "    psutil:               5.7.0-py36h8c4c3a4_1                 conda-forge        \n",
      "    pthread-stubs:        0.4-h14c3975_1001                    conda-forge        \n",
      "    py-xgboost:           1.0.2dev.rapidsai0.13-cuda10.0py36_6 rapidsai/label/main\n",
      "    pyarrow:              0.15.0-py36h8b68381_1                conda-forge        \n",
      "    pyasn1:               0.4.8-py_0                           conda-forge        \n",
      "    pyasn1-modules:       0.2.7-py_0                           conda-forge        \n",
      "    pyjwt:                1.7.1-py_0                           conda-forge        \n",
      "    pynvml:               8.0.4-py_0                           conda-forge        \n",
      "    pyparsing:            2.4.7-pyh9f0ad1d_0                   conda-forge        \n",
      "    python-dateutil:      2.8.1-py_0                           conda-forge        \n",
      "    pytz:                 2020.1-pyh9f0ad1d_0                  conda-forge        \n",
      "    pyyaml:               5.1.2-py36h516909a_0                 conda-forge        \n",
      "    re2:                  2020.05.01-he1b5a44_0                conda-forge        \n",
      "    requests-oauthlib:    1.2.0-py_0                           conda-forge        \n",
      "    rmm:                  0.13.0-py36_0                        rapidsai/label/main\n",
      "    rsa:                  4.0-py_0                             conda-forge        \n",
      "    scikit-learn:         0.22.2.post1-py36hcdab131_0          conda-forge        \n",
      "    scipy:                1.4.1-py36h2d22cac_3                 conda-forge        \n",
      "    snappy:               1.1.8-he1b5a44_1                     conda-forge        \n",
      "    sortedcontainers:     2.1.0-py_0                           conda-forge        \n",
      "    tblib:                1.6.0-py_0                           conda-forge        \n",
      "    thrift-cpp:           0.12.0-hf3afdfd_1004                 conda-forge        \n",
      "    toolz:                0.10.0-py_0                          conda-forge        \n",
      "    tornado:              6.0.4-py36h8c4c3a4_1                 conda-forge        \n",
      "    typing_extensions:    3.7.4.2-py_0                         conda-forge        \n",
      "    tzcode:               2020a-h516909a_0                     conda-forge        \n",
      "    ucx:                  1.7.0+g9d06c3a-cuda10.0_0            rapidsai/label/main\n",
      "    ucx-py:               0.13.0+g9d06c3a-py36_0               rapidsai/label/main\n",
      "    uriparser:            0.9.3-he1b5a44_1                     conda-forge        \n",
      "    xerces-c:             3.2.2-h8412b87_1004                  conda-forge        \n",
      "    xgboost:              1.0.2dev.rapidsai0.13-cuda10.0py36_6 rapidsai/label/main\n",
      "    xorg-kbproto:         1.0.7-h14c3975_1002                  conda-forge        \n",
      "    xorg-libice:          1.0.10-h516909a_0                    conda-forge        \n",
      "    xorg-libsm:           1.2.3-h84519dc_1000                  conda-forge        \n",
      "    xorg-libx11:          1.6.9-h516909a_0                     conda-forge        \n",
      "    xorg-libxau:          1.0.9-h14c3975_0                     conda-forge        \n",
      "    xorg-libxdmcp:        1.1.3-h516909a_0                     conda-forge        \n",
      "    xorg-libxext:         1.3.4-h516909a_0                     conda-forge        \n",
      "    xorg-libxrender:      0.9.10-h516909a_1002                 conda-forge        \n",
      "    xorg-renderproto:     0.11.1-h14c3975_1002                 conda-forge        \n",
      "    xorg-xextproto:       7.3.0-h14c3975_1002                  conda-forge        \n",
      "    xorg-xproto:          7.0.31-h14c3975_1007                 conda-forge        \n",
      "    zict:                 2.0.0-py_0                           conda-forge        \n",
      "    zstd:                 1.4.3-h3b9ef0a_0                     conda-forge        \n",
      "\n",
      "The following packages will be UPDATED:\n",
      "\n",
      "    cryptography:         2.2.2-py36h14c3975_0                                     --> 2.9.2-py36h45558ae_0 conda-forge\n",
      "    pyopenssl:            18.0.0-py36_0                                            --> 19.1.0-py_1          conda-forge\n",
      "    requests:             2.18.4-py36he2e5f8d_1                                    --> 2.23.0-pyh8c360ce_2  conda-forge\n",
      "    urllib3:              1.22-py36hbe7ace6_0                                      --> 1.25.9-py_0          conda-forge\n",
      "\n",
      "\n",
      "Downloading and Extracting Packages\n",
      "hdf5-1.10.5          |  3.1 MB | : 100% 1.0/1 [00:00<00:00,  1.59it/s]               \n",
      "ucx-1.7.0+g9d06c3a   |  8.2 MB | : 100% 1.0/1 [00:01<00:00,  1.95s/it]               \n",
      "boost-1.70.0         |  337 KB | : 100% 1.0/1 [00:00<00:00,  6.63it/s]               \n",
      "freexl-1.0.5         |   43 KB | : 100% 1.0/1 [00:00<00:00, 16.78it/s]\n",
      "bzip2-1.0.8          |  396 KB | : 100% 1.0/1 [00:00<00:00,  6.87it/s]               \n",
      "grpc-cpp-1.23.0      |  4.5 MB | : 100% 1.0/1 [00:00<00:00,  1.04it/s]               \n",
      "poppler-data-0.4.9   |  3.4 MB | : 100% 1.0/1 [00:00<00:00,  1.70it/s]               \n",
      "pandas-0.25.3        | 11.4 MB | : 100% 1.0/1 [00:02<00:00,  2.44s/it]               \n",
      "libkml-1.3.0         |  643 KB | : 100% 1.0/1 [00:00<00:00,  5.23it/s]               \n",
      "xorg-kbproto-1.0.7   |   26 KB | : 100% 1.0/1 [00:00<00:00, 21.51it/s]\n",
      "libcuml-0.13.0       | 51.6 MB | : 100% 1.0/1 [00:10<00:00, 10.53s/it]               \n",
      "libcugraph-0.13.0    | 40.0 MB | : 100% 1.0/1 [00:07<00:00,  7.71s/it]                \n",
      "fsspec-0.6.3         |   48 KB | : 100% 1.0/1 [00:00<00:00, 18.16it/s]\n",
      "gettext-0.19.8.1     |  3.6 MB | : 100% 1.0/1 [00:01<00:00,  1.07s/it]               \n",
      "libiconv-1.15        |  2.0 MB | : 100% 1.0/1 [00:00<00:00,  3.37it/s]               \n",
      "xorg-libice-1.0.10   |   57 KB | : 100% 1.0/1 [00:00<00:00, 18.66it/s]\n",
      "olefile-0.46         |   31 KB | : 100% 1.0/1 [00:00<00:00, 16.82it/s]\n",
      "cusignal-0.13.0      |   67 KB | : 100% 1.0/1 [00:00<00:00,  2.22it/s]                \n",
      "parquet-cpp-1.5.1    |    3 KB | : 100% 1.0/1 [00:00<00:00, 24.75it/s]\n",
      "xorg-libxau-1.0.9    |   13 KB | : 100% 1.0/1 [00:00<00:00, 12.13it/s]\n",
      "libxml2-2.9.10       |  1.3 MB | : 100% 1.0/1 [00:00<00:00,  2.43it/s]               \n",
      "libevent-2.1.10      |  1.3 MB | : 100% 1.0/1 [00:00<00:00,  2.48it/s]               \n",
      "libxcb-1.13          |  396 KB | : 100% 1.0/1 [00:00<00:00,  6.52it/s]               \n",
      "liblapack-3.8.0      |   10 KB | : 100% 1.0/1 [00:00<00:00, 24.27it/s]\n",
      "pixman-0.38.0        |  594 KB | : 100% 1.0/1 [00:00<00:00,  7.83it/s]               \n",
      "fastavro-0.23.3      |  416 KB | : 100% 1.0/1 [00:00<00:00,  8.59it/s]\n",
      "libnvstrings-0.13.0  | 29.6 MB | : 100% 1.0/1 [00:06<00:00,  6.56s/it]               \n",
      "bokeh-2.0.1          |  6.8 MB | : 100% 1.0/1 [00:01<00:00,  1.81s/it]               \n",
      "cuspatial-0.13.0     |  1.7 MB | : 100% 1.0/1 [00:00<00:00,  1.20it/s]               \n",
      "poppler-0.67.0       |  8.9 MB | : 100% 1.0/1 [00:01<00:00,  1.44s/it]               \n",
      "libcurl-7.69.1       |  573 KB | : 100% 1.0/1 [00:00<00:00,  6.50it/s]               \n",
      "locket-0.2.0         |    6 KB | : 100% 1.0/1 [00:00<00:00, 23.77it/s]\n",
      "msgpack-python-1.0.0 |   91 KB | : 100% 1.0/1 [00:00<00:00, 17.25it/s]\n",
      "tblib-1.6.0          |   14 KB | : 100% 1.0/1 [00:00<00:00, 24.16it/s]\n",
      "double-conversion-3. |   85 KB | : 100% 1.0/1 [00:00<00:00, 11.30it/s]\n",
      "libprotobuf-3.8.0    |  4.7 MB | : 100% 1.0/1 [00:00<00:00,  1.07it/s]               \n",
      "xorg-libxrender-0.9. |   31 KB | : 100% 1.0/1 [00:00<00:00, 17.60it/s]\n",
      "tornado-6.0.4        |  639 KB | : 100% 1.0/1 [00:00<00:00,  5.02it/s]               \n",
      "libhwloc-2.1.0       |  2.7 MB | : 100% 1.0/1 [00:00<00:00,  2.21it/s]               \n",
      "scikit-learn-0.22.2. |  7.1 MB | : 100% 1.0/1 [00:01<00:00,  1.60s/it]               \n",
      "openjpeg-2.3.1       |  475 KB | : 100% 1.0/1 [00:00<00:00,  8.96it/s]\n",
      "giflib-5.1.7         |  455 KB | : 100% 1.0/1 [00:00<00:00, 10.00it/s]\n",
      "heapdict-1.0.1       |    7 KB | : 100% 1.0/1 [00:00<00:00, 26.51it/s]\n",
      "icu-64.2             | 12.6 MB | : 100% 1.0/1 [00:01<00:00,  1.90s/it]               \n",
      "libgfortran-ng-7.3.0 |  1.7 MB | : 100% 1.0/1 [00:00<00:00,  3.45it/s]               \n",
      "nccl-2.5.7.1         | 96.6 MB | : 100% 1.0/1 [00:11<00:00, 11.55s/it]               \n",
      "postgresql-12.2      |  5.0 MB | : 100% 1.0/1 [00:00<00:00,  1.17it/s]               \n",
      "libcuspatial-0.13.0  |  1.7 MB | : 100% 1.0/1 [00:00<00:00,  1.30it/s]               \n",
      "xerces-c-3.2.2       |  1.7 MB | : 100% 1.0/1 [00:00<00:00,  2.06it/s]               \n",
      "geotiff-1.5.1        |  279 KB | : 100% 1.0/1 [00:00<00:00,  9.46it/s]\n",
      "cudatoolkit-10.0.130 | 380.0 MB | : 100% 1.0/1 [00:49<00:00, 49.00s/it]                \n",
      "dask-2.15.0          |    4 KB | : 100% 1.0/1 [00:00<00:00, 18.62it/s]\n",
      "py-xgboost-1.0.2dev. |  100 KB | : 100% 1.0/1 [00:00<00:00,  1.33it/s]                \n",
      "libpng-1.6.37        |  308 KB | : 100% 1.0/1 [00:00<00:00, 10.25it/s]\n",
      "libnetcdf-4.7.3      |  1.3 MB | : 100% 1.0/1 [00:00<00:00,  3.75it/s]               \n",
      "fastrlock-0.4        |   32 KB | : 100% 1.0/1 [00:00<00:00, 21.37it/s]\n",
      "libspatialite-4.3.0a |  3.1 MB | : 100% 1.0/1 [00:00<00:00,  1.67it/s]              \n",
      "jinja2-2.11.2        |   93 KB | : 100% 1.0/1 [00:00<00:00, 16.72it/s]\n",
      "gcsfs-0.6.1          |   19 KB | : 100% 1.0/1 [00:00<00:00, 14.74it/s]\n",
      "dask-core-2.15.0     |  603 KB | : 100% 1.0/1 [00:00<00:00,  4.32it/s]               \n",
      "libopenblas-0.3.7    |  7.6 MB | : 100% 1.0/1 [00:01<00:00,  1.30s/it]               \n",
      "python-dateutil-2.8. |  220 KB | : 100% 1.0/1 [00:00<00:00, 14.29it/s]\n",
      "pyopenssl-19.1.0     |   47 KB | : 100% 1.0/1 [00:00<00:00, 20.59it/s]\n",
      "numba-0.48.0         |  3.4 MB | : 100% 1.0/1 [00:00<00:00,  1.02it/s]               \n",
      "fontconfig-2.13.1    |  340 KB | : 100% 1.0/1 [00:00<00:00,  8.56it/s]               \n",
      "oauthlib-3.0.1       |   82 KB | : 100% 1.0/1 [00:00<00:00, 13.32it/s]\n",
      "psutil-5.7.0         |  324 KB | : 100% 1.0/1 [00:00<00:00,  9.98it/s]\n",
      "cairo-1.16.0         |  1.5 MB | : 100% 1.0/1 [00:00<00:00,  3.01it/s]               \n",
      "pynvml-8.0.4         |   31 KB | : 100% 1.0/1 [00:00<00:00, 22.40it/s]\n",
      "ucx-py-0.13.0+g9d06c |  287 KB | : 100% 1.0/1 [00:00<00:00,  8.44s/it]                \n",
      "re2-2020.05.01       |  426 KB | : 100% 1.0/1 [00:00<00:00,  9.25it/s]\n",
      "libblas-3.8.0        |   10 KB | : 100% 1.0/1 [00:00<00:00, 21.71it/s]\n",
      "freetype-2.10.1      |  877 KB | : 100% 1.0/1 [00:00<00:00,  5.52it/s]               \n",
      "libssh2-1.8.2        |  257 KB | : 100% 1.0/1 [00:00<00:00,  8.99it/s]               \n",
      "requests-2.23.0      |   47 KB | : 100% 1.0/1 [00:00<00:00, 20.30it/s]\n",
      "cugraph-0.13.0       |  7.3 MB | : 100% 1.0/1 [00:01<00:00,  1.41s/it]               \n",
      "cudnn-7.6.0          | 216.6 MB | : 100% 1.0/1 [00:28<00:00, 28.07s/it]                \n",
      "xorg-libxdmcp-1.1.3  |   18 KB | : 100% 1.0/1 [00:00<00:00,  8.94it/s]               \n",
      "toolz-0.10.0         |   46 KB | : 100% 1.0/1 [00:00<00:00, 19.13it/s]\n",
      "hdf4-4.2.13          |  964 KB | : 100% 1.0/1 [00:00<00:00,  4.33it/s]               \n",
      "nvstrings-0.13.0     |  129 KB | : 100% 1.0/1 [00:00<00:00,  2.43s/it]                \n",
      "brotlipy-0.7.0       |  346 KB | : 100% 1.0/1 [00:00<00:00, 11.72it/s]\n",
      "partd-1.1.0          |   17 KB | : 100% 1.0/1 [00:00<00:00, 20.42it/s]\n",
      "google-auth-1.14.1   |   54 KB | : 100% 1.0/1 [00:00<00:00, 18.10it/s]\n",
      "libpq-12.2           |  2.6 MB | : 100% 1.0/1 [00:00<00:00,  1.48it/s]               \n",
      "gflags-2.2.2         |  175 KB | : 100% 1.0/1 [00:00<00:00, 10.95it/s]\n",
      "xorg-libx11-1.6.9    |  918 KB | : 100% 1.0/1 [00:00<00:00,  4.67it/s]             \n",
      "rmm-0.13.0           |  687 KB | : 100% 1.0/1 [00:00<00:00,  2.35it/s]               \n",
      "glog-0.4.0           |  104 KB | : 100% 1.0/1 [00:00<00:00, 18.38it/s]\n",
      "xorg-renderproto-0.1 |    8 KB | : 100% 1.0/1 [00:00<00:00, 26.62it/s]\n",
      "dask-cudf-0.13.0     |   76 KB | : 100% 1.0/1 [00:00<00:00,  4.48it/s]                \n",
      "cachetools-3.1.1     |   11 KB | : 100% 1.0/1 [00:00<00:00, 24.88it/s]\n",
      "thrift-cpp-0.12.0    |  2.4 MB | : 100% 1.0/1 [00:00<00:00,  2.16it/s]               \n",
      "proj-6.3.0           | 10.3 MB | : 100% 1.0/1 [00:01<00:00,  1.50s/it]               \n",
      "kealib-1.4.13        |  172 KB | : 100% 1.0/1 [00:00<00:00, 15.54it/s]\n",
      "xorg-xproto-7.0.31   |   72 KB | : 100% 1.0/1 [00:00<00:00, 18.29it/s]\n",
      "click-7.1.2          |   64 KB | : 100% 1.0/1 [00:00<00:00, 19.33it/s]\n",
      "urllib3-1.25.9       |   92 KB | : 100% 1.0/1 [00:00<00:00, 15.15it/s]\n",
      "arrow-cpp-0.15.0     | 18.1 MB | : 100% 1.0/1 [00:02<00:00,  2.97s/it]               \n",
      "requests-oauthlib-1. |   19 KB | : 100% 1.0/1 [00:00<00:00, 18.82it/s]\n",
      "cloudpickle-1.4.1    |   24 KB | : 100% 1.0/1 [00:00<00:00, 24.11it/s]\n",
      "krb5-1.17.1          |  1.5 MB | : 100% 1.0/1 [00:00<00:00,  3.38it/s]               \n",
      "libtiff-4.1.0        |  595 KB | : 100% 1.0/1 [00:00<00:00,  7.14it/s]               \n",
      "pyasn1-modules-0.2.7 |   60 KB | : 100% 1.0/1 [00:00<00:00, 12.39it/s]\n",
      "joblib-0.14.1        |  198 KB | : 100% 1.0/1 [00:00<00:00,  8.98it/s]\n",
      "libcudf-0.13.0       | 136.5 MB | : 100% 1.0/1 [00:29<00:00, 29.89s/it]                \n",
      "libllvm8-8.0.1       | 23.2 MB | : 100% 1.0/1 [00:03<00:00,  3.55s/it]               \n",
      "llvmlite-0.31.0      |  325 KB | : 100% 1.0/1 [00:00<00:00,  8.97it/s]               \n",
      "c-ares-1.15.0        |  100 KB | : 100% 1.0/1 [00:00<00:00, 15.12it/s]\n",
      "xgboost-1.0.2dev.rap |   12 KB | : 100% 1.0/1 [00:00<00:00,  3.04it/s] \n",
      "libgdal-2.4.4        | 18.7 MB | : 100% 1.0/1 [00:03<00:00,  3.35s/it]               \n",
      "pyyaml-5.1.2         |  184 KB | : 100% 1.0/1 [00:00<00:00, 11.63it/s]\n",
      "libcumlprims-0.13.0  |  3.3 MB | : 100% 1.0/1 [00:01<00:00,  1.44s/it]              \n",
      "glib-2.64.2          |  3.4 MB | : 100% 1.0/1 [00:00<00:00,  1.32it/s]               \n",
      "cupy-7.4.0           | 15.2 MB | : 100% 1.0/1 [00:02<00:00,  2.69s/it]               \n",
      "pcre-8.44            |  261 KB | : 100% 1.0/1 [00:00<00:00, 11.09it/s]\n",
      "pyjwt-1.7.1          |   17 KB | : 100% 1.0/1 [00:00<00:00, 22.13it/s]\n",
      "gdal-2.4.4           |  1.4 MB | : 100% 1.0/1 [00:00<00:00,  3.48it/s]               \n",
      "decorator-4.4.2      |   11 KB | : 100% 1.0/1 [00:00<00:00, 22.80it/s]\n",
      "pyasn1-0.4.8         |   53 KB | : 100% 1.0/1 [00:00<00:00, 18.56it/s]\n",
      "dlpack-0.2           |   13 KB | : 100% 1.0/1 [00:00<00:00, 16.77it/s]\n",
      "libxgboost-1.0.2dev. | 21.9 MB | : 100% 1.0/1 [00:04<00:00,  4.66s/it]                \n",
      "geos-3.8.0           |  1.0 MB | : 100% 1.0/1 [00:00<00:00,  3.11it/s]               \n",
      "pillow-7.1.2         |  656 KB | : 100% 1.0/1 [00:00<00:00,  5.59it/s]               \n",
      "xorg-xextproto-7.3.0 |   27 KB | : 100% 1.0/1 [00:00<00:00, 19.65it/s]\n",
      "xorg-libxext-1.3.4   |   51 KB | : 100% 1.0/1 [00:00<00:00, 21.96it/s]\n",
      "zict-2.0.0           |   10 KB | : 100% 1.0/1 [00:00<00:00, 21.02it/s]\n",
      "scipy-1.4.1          | 18.9 MB | : 100% 1.0/1 [00:03<00:00,  3.15s/it]               \n",
      "json-c-0.13.1        |   71 KB | : 100% 1.0/1 [00:00<00:00, 16.58it/s]\n",
      "xorg-libsm-1.2.3     |   25 KB | : 100% 1.0/1 [00:00<00:00, 25.66it/s]\n",
      "brotli-1.0.7         |  1.0 MB | : 100% 1.0/1 [00:00<00:00,  5.88it/s]               \n",
      "sortedcontainers-2.1 |   25 KB | : 100% 1.0/1 [00:00<00:00, 25.86it/s]\n",
      "jpeg-9c              |  251 KB | : 100% 1.0/1 [00:00<00:00, 11.47it/s]\n",
      "packaging-20.1       |   31 KB | : 100% 1.0/1 [00:00<00:00, 23.55it/s]\n",
      "cfitsio-3.470        |  1.3 MB | : 100% 1.0/1 [00:00<00:00,  4.12it/s]               \n",
      "libcblas-3.8.0       |   10 KB | : 100% 1.0/1 [00:00<00:00, 26.98it/s]\n",
      "pthread-stubs-0.4    |    5 KB | : 100% 1.0/1 [00:00<00:00, 23.69it/s]\n",
      "google-auth-oauthlib |   18 KB | : 100% 1.0/1 [00:00<00:00, 24.98it/s]\n",
      "blinker-1.4          |   13 KB | : 100% 1.0/1 [00:00<00:00, 24.09it/s]\n",
      "distributed-2.15.2   | 1022 KB | : 100% 1.0/1 [00:00<00:00,  2.72it/s]               \n",
      "pyarrow-0.15.0       |  3.2 MB | : 100% 1.0/1 [00:00<00:00,  1.08it/s]               \n",
      "zstd-1.4.3           |  935 KB | : 100% 1.0/1 [00:00<00:00,  5.64it/s]               \n",
      "markupsafe-1.1.1     |   26 KB | : 100% 1.0/1 [00:00<00:00, 24.80it/s]\n",
      "librmm-0.13.0        |   70 KB | : 100% 1.0/1 [00:00<00:00,  2.49it/s]               \n",
      "tzcode-2020a         |  425 KB | : 100% 1.0/1 [00:00<00:00,  2.79it/s]              \n",
      "cuml-0.13.0          |  9.2 MB | : 100% 1.0/1 [00:01<00:00,  1.74s/it]               \n",
      "curl-7.69.1          |  137 KB | : 100% 1.0/1 [00:00<00:00, 19.09it/s]\n",
      "cudf-0.13.0          | 32.6 MB | : 100% 1.0/1 [00:05<00:00,  5.26s/it]                \n",
      "expat-2.2.9          |  191 KB | : 100% 1.0/1 [00:00<00:00, 12.40it/s]\n",
      "snappy-1.1.8         |   39 KB | : 100% 1.0/1 [00:00<00:00, 16.41it/s]\n",
      "uriparser-0.9.3      |   49 KB | : 100% 1.0/1 [00:00<00:00, 20.32it/s]\n",
      "cytoolz-0.10.1       |  431 KB | : 100% 1.0/1 [00:00<00:00,  8.15it/s]\n",
      "pyparsing-2.4.7      |   60 KB | : 100% 1.0/1 [00:00<00:00, 20.13it/s]\n",
      "rsa-4.0              |   27 KB | : 100% 1.0/1 [00:00<00:00, 21.31it/s]\n",
      "boost-cpp-1.70.0     | 21.1 MB | : 100% 1.0/1 [00:08<00:00,  8.80s/it]               \n",
      "cryptography-2.9.2   |  613 KB | : 100% 1.0/1 [00:00<00:00,  4.57it/s]               \n",
      "lz4-c-1.8.3          |  187 KB | : 100% 1.0/1 [00:00<00:00, 13.81it/s]\n",
      "numpy-1.18.4         |  5.2 MB | : 100% 1.0/1 [00:01<00:00,  1.18s/it]               \n",
      "libuuid-2.32.1       |   26 KB | : 100% 1.0/1 [00:00<00:00, 21.45it/s]\n",
      "typing_extensions-3. |   25 KB | : 100% 1.0/1 [00:00<00:00, 19.60it/s]\n",
      "pytz-2020.1          |  227 KB | : 100% 1.0/1 [00:00<00:00,  1.02it/s]               \n",
      "libdap4-3.20.6       | 18.2 MB | : 100% 1.0/1 [00:02<00:00,  2.40s/it]               \n",
      "Preparing transaction: done\n",
      "Verifying transaction: done\n",
      "Executing transaction: done\n",
      "Copying shared object files to /usr/lib\n",
      "Copying RAPIDS compatible xgboost\n",
      "\n",
      "************************************************\n",
      "Your Google Colab instance has RAPIDS installed!\n",
      "************************************************\n",
      "***********************************************************************\n",
      "Let us check on those pyarrow and cffi versions...\n",
      "***********************************************************************\n",
      "\n",
      "unloaded pyarrow 0.14.1\n",
      "unloaded pyarrow 0.14.1\n",
      "unloaded pyarrow 0.14.1\n",
      "unloaded pyarrow 0.14.1\n",
      "unloaded pyarrow 0.14.1\n",
      "unloaded pyarrow 0.14.1\n",
      "unloaded pyarrow 0.14.1\n",
      "unloaded pyarrow 0.14.1\n",
      "unloaded pyarrow 0.14.1\n",
      "unloaded pyarrow 0.14.1\n",
      "unloaded pyarrow 0.14.1\n",
      "unloaded pyarrow 0.14.1\n",
      "loaded pyarrow 0.15.0\n",
      "You're now running pyarrow 0.15.0 and are good to go!\n",
      "unloaded cffi 1.14.0\n",
      "loaded cffi 1.11.5\n"
     ]
    }
   ],
   "source": [
    "try:\n",
    "    import sys,os,subprocess\n",
    "    \n",
    "    upgrade_runtime_ram()\n",
    "    setup_drive()\n",
    "\n",
    "    #Setting up PyPi Packages\n",
    "    !pip install geopandas sparse-dot-topn pdpipe category-encoders catboost\n",
    "    import geopandas as gpd\n",
    "    import sparse_dot_topn.sparse_dot_topn as ct\n",
    "    import pdpipe as pdp\n",
    "    import category_encoders\n",
    "\n",
    "    #Setting up Conda Packages\n",
    "    setup_conda()\n",
    "    \n",
    "    #Initializing NLTK\n",
    "    import nltk\n",
    "    nltk.download('stopwords')\n",
    "    nltk.download('punkt')\n",
    "    \n",
    "    #Setting up RAPIDS AI\n",
    "    import pynvml\n",
    "    setup_rapids()\n",
    "    \n",
    "    from cuml import UMAP\n",
    "    \n",
    "except ModuleNotFoundError as e:\n",
    "    print(e)\n",
    "    print('Not in colab environment, continuing to run locally')\n",
    "    from umap import UMAP"
   ]
  },
  {
   "cell_type": "markdown",
   "metadata": {
    "colab_type": "text",
    "id": "Kvn45BG28aqd"
   },
   "source": [
    "## Imports"
   ]
  },
  {
   "cell_type": "code",
   "execution_count": null,
   "metadata": {
    "colab": {},
    "colab_type": "code",
    "id": "IRijjSry8aqf"
   },
   "outputs": [],
   "source": [
    "%matplotlib inline\n",
    "import pandas as pd\n",
    "import numpy as np\n",
    "from tqdm import tqdm\n",
    "import matplotlib.pyplot as plt\n",
    "from sklearn.linear_model import SGDRegressor\n",
    "from sklearn.preprocessing import StandardScaler\n",
    "from sklearn.model_selection import GridSearchCV, train_test_split,  StratifiedKFold\n",
    "from sklearn.pipeline import Pipeline\n",
    "from sklearn.metrics import mean_absolute_error, mean_squared_error, r2_score\n",
    "tqdm.pandas()"
   ]
  },
  {
   "cell_type": "code",
   "execution_count": null,
   "metadata": {
    "colab": {},
    "colab_type": "code",
    "id": "fEgS7UQD8aqk"
   },
   "outputs": [],
   "source": [
    "from sklearn.model_selection import train_test_split\n",
    "from sklearn.impute import SimpleImputer\n",
    "from sklearn.compose import ColumnTransformer\n",
    "from sklearn.preprocessing import OneHotEncoder, FunctionTransformer, RobustScaler\n",
    "from sklearn.model_selection import KFold\n",
    "from sklearn.dummy import DummyRegressor\n",
    "from sklearn.ensemble import RandomForestRegressor\n",
    "from sklearn.decomposition import PCA"
   ]
  },
  {
   "cell_type": "code",
   "execution_count": null,
   "metadata": {
    "colab": {},
    "colab_type": "code",
    "id": "u5KwAwAe8aqp"
   },
   "outputs": [],
   "source": [
    "from lib.transformers import *\n",
    "from lib.pipelines import *\n",
    "from lib.processing import save_to_pkl, load_from_pkl\n",
    "from lib.visualization import GridSearchPlotter\n",
    "from data.util.paths import DATA_PATH"
   ]
  },
  {
   "cell_type": "code",
   "execution_count": null,
   "metadata": {
    "colab": {},
    "colab_type": "code",
    "id": "ixGjIOwS8aq1"
   },
   "outputs": [],
   "source": [
    "from category_encoders.leave_one_out import LeaveOneOutEncoder"
   ]
  },
  {
   "cell_type": "code",
   "execution_count": null,
   "metadata": {
    "colab": {},
    "colab_type": "code",
    "id": "X4_WNHlLW7Lt"
   },
   "outputs": [],
   "source": [
    "from cuml import LinearRegression, RandomForestRegressor, Ridge, Lasso"
   ]
  },
  {
   "cell_type": "code",
   "execution_count": null,
   "metadata": {
    "colab": {},
    "colab_type": "code",
    "id": "K3Ig2yYxXIrV"
   },
   "outputs": [],
   "source": [
    "from catboost import CatBoostRegressor"
   ]
  },
  {
   "cell_type": "markdown",
   "metadata": {
    "colab_type": "text",
    "id": "YwJ6GSBC3Qtz"
   },
   "source": [
    "## Loading Data"
   ]
  },
  {
   "cell_type": "code",
   "execution_count": null,
   "metadata": {
    "colab": {},
    "colab_type": "code",
    "id": "RiNFe3gX3Qtz"
   },
   "outputs": [],
   "source": [
    "metadata_df, image_embeddings_df = tuple(load_from_pkl(i,DATA_PATH) for i in ('metadata','image_embeddings'))\n",
    "df = metadata_df.merge(image_embeddings_df,how='inner',on='release_id')"
   ]
  },
  {
   "cell_type": "markdown",
   "metadata": {},
   "source": [
    "After merging, we will take care of additional outliers that need to be addressed, namely for ``number_of_tracks``, ``running_time``, and the UMAP dimensionality reduction outputs, which were discussed in 02-Visualization&Cleaning. ``number_of_tracks`` and ``running_time`` suffer from massive outlier values which skew the distribution of the features and as such must be taken out of contention. For the case of ``running_time``, we remove those albums with that last over 3 hours, in the interest of focusing our attention on albums of a normal length"
   ]
  },
  {
   "cell_type": "code",
   "execution_count": null,
   "metadata": {},
   "outputs": [],
   "source": [
    "df = OutlierRemover(features=['number_of_tracks'] + [i for i in df.columns if 'umap' in i]).fit_transform(df[(df['running_time'] < 180) | (df['running_time'].isna())])"
   ]
  },
  {
   "cell_type": "code",
   "execution_count": null,
   "metadata": {
    "colab": {},
    "colab_type": "code",
    "id": "8-JguLVU4_kn"
   },
   "outputs": [],
   "source": [
    "del metadata_df, image_embeddings_df"
   ]
  },
  {
   "cell_type": "code",
   "execution_count": 14,
   "metadata": {
    "colab": {
     "base_uri": "https://localhost:8080/",
     "height": 67,
     "referenced_widgets": [
      "07d5300fe7fe4897ae2f02a433c13015",
      "c36da9e7cbb24478934b2db5197ec822",
      "4c0b117da8bb46f5bcdc0840c51a3d89",
      "6dfaad05b6514f7a89277dc070c3b89a",
      "3332d4b2664c4aafa374118b7475a39c",
      "64184a6da08048f19027350dd21b39c8",
      "a158a09f6691483689be3e1bf3b7f70d",
      "4e3dd973b04d42b88b71264133cda57e"
     ]
    },
    "colab_type": "code",
    "id": "1hbzpOTylHCB",
    "outputId": "e3d39f54-5c3a-4c35-b110-dccd3aaec637"
   },
   "outputs": [
    {
     "data": {
      "application/vnd.jupyter.widget-view+json": {
       "model_id": "07d5300fe7fe4897ae2f02a433c13015",
       "version_major": 2,
       "version_minor": 0
      },
      "text/plain": [
       "HBox(children=(IntProgress(value=0, max=8), HTML(value='')))"
      ]
     },
     "metadata": {
      "tags": []
     },
     "output_type": "display_data"
    },
    {
     "name": "stdout",
     "output_type": "stream",
     "text": [
      "\n"
     ]
    }
   ],
   "source": [
    "col_set = {\n",
    "    'format': {\n",
    "        'description': 'format_description_', \n",
    "        'name': 'format_name_', \n",
    "        'text': ('format_text_clean'),\n",
    "        'quantity': ('format_quantity')\n",
    "    },\n",
    "    'geography': {\n",
    "        'superregion': 'superregion_',\n",
    "        'region': 'region_',\n",
    "        'country': 'country_'\n",
    "    },\n",
    "    'timeperiod': {\n",
    "        'period': 'period_',\n",
    "        'era': 'era_'\n",
    "    },\n",
    "    'genre': 'genre_',\n",
    "    'style': 'style_',\n",
    "    'null': None,\n",
    "    'indicator': lambda x: x.max() == 1 and x.min() == 0,\n",
    "    'image_embedding': 'image_umap_'\n",
    "}\n",
    "column_store = ColumnStore()\n",
    "column_store.fit(df,col_set)"
   ]
  },
  {
   "cell_type": "markdown",
   "metadata": {
    "colab_type": "text",
    "id": "Gz00X-1E8arN"
   },
   "source": [
    "## Preparing for Machine Learning"
   ]
  },
  {
   "cell_type": "code",
   "execution_count": null,
   "metadata": {
    "colab": {},
    "colab_type": "code",
    "id": "7hLwsGal8arO"
   },
   "outputs": [],
   "source": [
    "X_tr, X_te, y_tr, y_te = train_test_split(df.drop('market_value',axis=1),df.market_value)"
   ]
  },
  {
   "cell_type": "code",
   "execution_count": null,
   "metadata": {
    "colab": {},
    "colab_type": "code",
    "id": "dXpwfIAIfudu"
   },
   "outputs": [],
   "source": [
    "units_for_sale_imputer = SimpleImputer(strategy='constant',fill_value=0)\n",
    "average_rating_imputer = SimpleImputer(strategy='mean')"
   ]
  },
  {
   "cell_type": "code",
   "execution_count": null,
   "metadata": {
    "colab": {},
    "colab_type": "code",
    "id": "nb5EhuF_fukB"
   },
   "outputs": [],
   "source": [
    "X_tr['units_for_sale'] = units_for_sale_imputer.fit_transform(X_tr['units_for_sale'].values.reshape(-1,1))\n",
    "X_te['units_for_sale'] = units_for_sale_imputer.transform(X_te['units_for_sale'].values.reshape(-1,1))"
   ]
  },
  {
   "cell_type": "code",
   "execution_count": null,
   "metadata": {
    "colab": {},
    "colab_type": "code",
    "id": "x8fAvd_9fumo"
   },
   "outputs": [],
   "source": [
    "X_tr['average_rating'] = average_rating_imputer.fit_transform(X_tr['average_rating'].values.reshape(-1,1))\n",
    "X_te['average_rating'] = average_rating_imputer.transform(X_te['average_rating'].values.reshape(-1,1))"
   ]
  },
  {
   "cell_type": "code",
   "execution_count": null,
   "metadata": {
    "colab": {},
    "colab_type": "code",
    "id": "0C52Gl1ngdey"
   },
   "outputs": [],
   "source": [
    "df_sample = pd.concat([X_tr,y_tr],axis=1).sample(frac=0.1)\n",
    "X_tr_sample = df_sample.drop('market_value',axis=1)\n",
    "y_tr_sample = df_sample['market_value']"
   ]
  },
  {
   "cell_type": "code",
   "execution_count": null,
   "metadata": {
    "colab": {},
    "colab_type": "code",
    "id": "pAWFk-AwgfEX"
   },
   "outputs": [],
   "source": [
    "del df"
   ]
  },
  {
   "cell_type": "markdown",
   "metadata": {
    "colab_type": "text",
    "id": "pk_qZ4Lu947Y"
   },
   "source": [
    "## Setting up Dummy Regression for baseline"
   ]
  },
  {
   "cell_type": "code",
   "execution_count": null,
   "metadata": {
    "colab": {},
    "colab_type": "code",
    "id": "tTWU4_un6lR2"
   },
   "outputs": [],
   "source": [
    "dummy_regressor = DummyRegressor(strategy='mean')"
   ]
  },
  {
   "cell_type": "code",
   "execution_count": 23,
   "metadata": {
    "colab": {
     "base_uri": "https://localhost:8080/",
     "height": 35
    },
    "colab_type": "code",
    "id": "eq6ZiI7y7Rmd",
    "outputId": "da6df0c7-cca2-472c-c41f-9eb66231ba6a"
   },
   "outputs": [
    {
     "data": {
      "text/plain": [
       "DummyRegressor(constant=None, quantile=None, strategy='mean')"
      ]
     },
     "execution_count": 23,
     "metadata": {
      "tags": []
     },
     "output_type": "execute_result"
    }
   ],
   "source": [
    "dummy_regressor.fit(X_tr,np.log(y_tr).values)"
   ]
  },
  {
   "cell_type": "code",
   "execution_count": null,
   "metadata": {
    "colab": {},
    "colab_type": "code",
    "id": "3ET6x4I-DXWP"
   },
   "outputs": [],
   "source": [
    "dummy_pred = dummy_regressor.predict(X_te)"
   ]
  },
  {
   "cell_type": "code",
   "execution_count": 25,
   "metadata": {
    "colab": {
     "base_uri": "https://localhost:8080/",
     "height": 35
    },
    "colab_type": "code",
    "id": "h-oMdqdnDUjz",
    "outputId": "c2c376fb-0455-4007-c251-9acd31c80e2c"
   },
   "outputs": [
    {
     "data": {
      "text/plain": [
       "-0.0794313676224736"
      ]
     },
     "execution_count": 25,
     "metadata": {
      "tags": []
     },
     "output_type": "execute_result"
    }
   ],
   "source": [
    "dummy_r2 = r2_score(y_te,np.exp(dummy_pred))\n",
    "dummy_r2"
   ]
  },
  {
   "cell_type": "code",
   "execution_count": 26,
   "metadata": {
    "colab": {
     "base_uri": "https://localhost:8080/",
     "height": 35
    },
    "colab_type": "code",
    "id": "Gw0h8_hCC4x4",
    "outputId": "285b94a9-5492-4fee-861e-ae686e209541"
   },
   "outputs": [
    {
     "data": {
      "text/plain": [
       "10.5310293416189"
      ]
     },
     "execution_count": 26,
     "metadata": {
      "tags": []
     },
     "output_type": "execute_result"
    }
   ],
   "source": [
    "dummy_mae = mean_absolute_error(y_te,np.exp(dummy_pred))\n",
    "dummy_mae"
   ]
  },
  {
   "cell_type": "markdown",
   "metadata": {
    "colab_type": "text",
    "id": "DYJYPpPP-AaC"
   },
   "source": [
    "## Linear Regression - Record Store"
   ]
  },
  {
   "cell_type": "code",
   "execution_count": null,
   "metadata": {
    "colab": {},
    "colab_type": "code",
    "id": "WCI8WWUu8ard"
   },
   "outputs": [],
   "source": [
    "record_store_regression_transformer = ColumnTransformer(transformers=[\n",
    "    ('year_encoder', OneHotEncoder(dtype=np.uint8,handle_unknown='ignore'), ['year'])\n",
    "], remainder='passthrough')"
   ]
  },
  {
   "cell_type": "code",
   "execution_count": null,
   "metadata": {
    "colab": {},
    "colab_type": "code",
    "id": "AZHfrogk8arh"
   },
   "outputs": [],
   "source": [
    "record_store_regression_removal_columns = set([\n",
    "    'market_price','units_for_sale','have','want','average_rating','rating_count','last_sold','lowest','median',\n",
    "    'highest','track_titles','country','genre','style','community_have','community_want','formats','thumb_url',\n",
    "    'release_url','format_description','days_since_last_sale','title', 'release_id'\n",
    "])"
   ]
  },
  {
   "cell_type": "code",
   "execution_count": null,
   "metadata": {
    "colab": {},
    "colab_type": "code",
    "id": "sRH_P30fEM-W"
   },
   "outputs": [],
   "source": [
    "record_store_regression_processing = Pipeline([\n",
    "    ('running_time_imputer',RunningTimeImputer('running_time','number_of_tracks')),\n",
    "    ('leave_one_out_encoding', LeaveOneOutEncoder(cols=['artist','label','format_text','master_id','format_name'])),\n",
    "    ('record_store_column_remover', ColumnRemover(record_store_regression_removal_columns)),\n",
    "    ('preprocessing',record_store_regression_transformer),\n",
    "    ('scaler', RobustScaler()),                             \n",
    "])\n",
    "\n",
    "record_store_lr_pipe = Pipeline([\n",
    "    ('processing', record_store_regression_processing),\n",
    "    ('lr', GridSearchCV(\n",
    "        LinearRegression(),\n",
    "        param_grid={\n",
    "            'normalize': [True, False]\n",
    "        },\n",
    "        cv=KFold(n_splits=5,shuffle=True),\n",
    "        scoring='neg_mean_absolute_error',\n",
    "        verbose=5,\n",
    "        n_jobs=-1,\n",
    "    ))\n",
    "])"
   ]
  },
  {
   "cell_type": "code",
   "execution_count": 31,
   "metadata": {
    "colab": {
     "base_uri": "https://localhost:8080/",
     "height": 521
    },
    "colab_type": "code",
    "id": "0ymJQSm8RuUn",
    "outputId": "b9d7240a-5b20-42f8-e047-3ee7cc26e054"
   },
   "outputs": [
    {
     "name": "stdout",
     "output_type": "stream",
     "text": [
      "Fitting 5 folds for each of 2 candidates, totalling 10 fits\n"
     ]
    },
    {
     "name": "stderr",
     "output_type": "stream",
     "text": [
      "[Parallel(n_jobs=-1)]: Using backend LokyBackend with 4 concurrent workers.\n",
      "[Parallel(n_jobs=-1)]: Done   6 out of  10 | elapsed:   18.2s remaining:   12.1s\n",
      "[Parallel(n_jobs=-1)]: Done  10 out of  10 | elapsed:   19.6s finished\n",
      "/usr/local/lib/python3.6/site-packages/cuml/utils/input_utils.py:188: UserWarning: Expected column ('F') major order, but got the opposite. Converting data, this will result in additional memory utilization.\n",
      "  warnings.warn(\"Expected \" + order_to_str(order) + \" major order, \"\n"
     ]
    },
    {
     "data": {
      "text/plain": [
       "Pipeline(memory=None,\n",
       "         steps=[('processing',\n",
       "                 Pipeline(memory=None,\n",
       "                          steps=[('running_time_imputer',\n",
       "                                  RunningTimeImputer(number_of_tracks='number_of_tracks',\n",
       "                                                     running_time='running_time')),\n",
       "                                 ('leave_one_out_encoding',\n",
       "                                  LeaveOneOutEncoder(cols=['artist', 'label',\n",
       "                                                           'format_text',\n",
       "                                                           'master_id',\n",
       "                                                           'format_name'],\n",
       "                                                     drop_invariant=False,\n",
       "                                                     handle_missing='value',\n",
       "                                                     handle_unknown='va...\n",
       "                              estimator=LinearRegression(algorithm='eig', fit_intercept=True, normalize=False, handle=<cuml.common.handle.Handle object at 0x7f1d79979ed0>, verbose=False, output_type='input'),\n",
       "                              iid='deprecated', n_jobs=-1,\n",
       "                              param_grid={'normalize': [True, False]},\n",
       "                              pre_dispatch='2*n_jobs', refit=True,\n",
       "                              return_train_score=False,\n",
       "                              scoring='neg_mean_absolute_error', verbose=5))],\n",
       "         verbose=False)"
      ]
     },
     "execution_count": 31,
     "metadata": {
      "tags": []
     },
     "output_type": "execute_result"
    }
   ],
   "source": [
    "record_store_lr_pipe.fit(X_tr,np.log(y_tr).values)"
   ]
  },
  {
   "cell_type": "code",
   "execution_count": 32,
   "metadata": {
    "colab": {
     "base_uri": "https://localhost:8080/",
     "height": 35
    },
    "colab_type": "code",
    "id": "bVqYCgf9EMzZ",
    "outputId": "81f2a776-9455-485b-de53-840751a18fbf"
   },
   "outputs": [
    {
     "data": {
      "text/plain": [
       "-0.583877642870599"
      ]
     },
     "execution_count": 32,
     "metadata": {
      "tags": []
     },
     "output_type": "execute_result"
    }
   ],
   "source": [
    "record_store_lr_pipe.steps[-1][-1].best_score_"
   ]
  },
  {
   "cell_type": "code",
   "execution_count": 33,
   "metadata": {
    "colab": {
     "base_uri": "https://localhost:8080/",
     "height": 73
    },
    "colab_type": "code",
    "id": "W6IhcYpqEMuK",
    "outputId": "eaf4d817-f84d-44e4-d7a8-9bc3762d19db"
   },
   "outputs": [
    {
     "name": "stderr",
     "output_type": "stream",
     "text": [
      "/usr/local/lib/python3.6/site-packages/cuml/utils/input_utils.py:188: UserWarning: Expected column ('F') major order, but got the opposite. Converting data, this will result in additional memory utilization.\n",
      "  warnings.warn(\"Expected \" + order_to_str(order) + \" major order, \"\n"
     ]
    }
   ],
   "source": [
    "record_store_lr_pred = record_store_lr_pipe.predict(X_te)"
   ]
  },
  {
   "cell_type": "code",
   "execution_count": 34,
   "metadata": {
    "colab": {
     "base_uri": "https://localhost:8080/",
     "height": 35
    },
    "colab_type": "code",
    "id": "IVdPIxrzEMoC",
    "outputId": "8af3678a-9c8b-46ff-b685-e2cd1ddebc70"
   },
   "outputs": [
    {
     "data": {
      "text/plain": [
       "-150.15149093972255"
      ]
     },
     "execution_count": 34,
     "metadata": {
      "tags": []
     },
     "output_type": "execute_result"
    }
   ],
   "source": [
    "record_store_lr_r2 = r2_score(y_te,np.exp(record_store_lr_pred))\n",
    "record_store_lr_r2"
   ]
  },
  {
   "cell_type": "code",
   "execution_count": 35,
   "metadata": {
    "colab": {
     "base_uri": "https://localhost:8080/",
     "height": 35
    },
    "colab_type": "code",
    "id": "opzrKU8LE5DR",
    "outputId": "08644c2e-e10a-4d8f-aa7a-6bce561489ec"
   },
   "outputs": [
    {
     "data": {
      "text/plain": [
       "9.499828183381744"
      ]
     },
     "execution_count": 35,
     "metadata": {
      "tags": []
     },
     "output_type": "execute_result"
    }
   ],
   "source": [
    "record_store_lr_mae = mean_absolute_error(y_te,np.exp(record_store_lr_pred))\n",
    "record_store_lr_mae "
   ]
  },
  {
   "cell_type": "markdown",
   "metadata": {
    "colab_type": "text",
    "id": "JwtgnOdrk1hP"
   },
   "source": [
    "## Linear Regression - Full Information"
   ]
  },
  {
   "cell_type": "code",
   "execution_count": null,
   "metadata": {
    "colab": {},
    "colab_type": "code",
    "id": "2ujcQMHOk1hQ"
   },
   "outputs": [],
   "source": [
    "full_information_regression_transformer = ColumnTransformer(transformers=[\n",
    "    ('units_for_sale_imputer', SimpleImputer(strategy='constant',fill_value=0),['units_for_sale']),\n",
    "    ('average_rating_imputer', SimpleImputer(strategy='mean'),['average_rating']),\n",
    "    ('year_encoder', OneHotEncoder(dtype=np.uint8,handle_unknown='ignore'), ['year'])\n",
    "], remainder='passthrough')"
   ]
  },
  {
   "cell_type": "code",
   "execution_count": null,
   "metadata": {
    "colab": {},
    "colab_type": "code",
    "id": "p8irOAHLk1hU"
   },
   "outputs": [],
   "source": [
    "full_information_columns = set([\n",
    "    'units_for_sale','community_have','community_want','average_rating','rating_count'\n",
    "])\n",
    "full_information_regression_removal_columns = record_store_regression_removal_columns - full_information_columns"
   ]
  },
  {
   "cell_type": "code",
   "execution_count": null,
   "metadata": {
    "colab": {},
    "colab_type": "code",
    "id": "lddHv-fzk1hX"
   },
   "outputs": [],
   "source": [
    "full_information_regression_processing = Pipeline([\n",
    "    ('running_time_imputer',RunningTimeImputer('running_time','number_of_tracks')),\n",
    "    ('leave_one_out_encoding', LeaveOneOutEncoder(cols=['artist','label','format_text','master_id','format_name'])),\n",
    "    ('record_store_column_remover', ColumnRemover(full_information_regression_removal_columns)),\n",
    "    ('preprocessing',full_information_regression_transformer),\n",
    "    ('scaler', RobustScaler()),\n",
    "])\n",
    "\n",
    "full_information_lr_pipe = Pipeline([\n",
    "    ('processing', full_information_regression_processing),\n",
    "    ('lr', GridSearchCV(\n",
    "        LinearRegression(),\n",
    "        param_grid={\n",
    "            'normalize':[False,True]\n",
    "        },\n",
    "        cv=KFold(n_splits=5,shuffle=True),\n",
    "        scoring='neg_mean_absolute_error',\n",
    "        verbose=5,\n",
    "        n_jobs=-1,\n",
    "    ))\n",
    "])"
   ]
  },
  {
   "cell_type": "code",
   "execution_count": 39,
   "metadata": {
    "colab": {
     "base_uri": "https://localhost:8080/",
     "height": 521
    },
    "colab_type": "code",
    "id": "GIxWE4WUk1hb",
    "outputId": "3c79d968-5133-4b28-de86-dd3cd7e177be"
   },
   "outputs": [
    {
     "name": "stdout",
     "output_type": "stream",
     "text": [
      "Fitting 5 folds for each of 2 candidates, totalling 10 fits\n"
     ]
    },
    {
     "name": "stderr",
     "output_type": "stream",
     "text": [
      "[Parallel(n_jobs=-1)]: Using backend LokyBackend with 4 concurrent workers.\n",
      "[Parallel(n_jobs=-1)]: Done   6 out of  10 | elapsed:    6.5s remaining:    4.3s\n",
      "[Parallel(n_jobs=-1)]: Done  10 out of  10 | elapsed:    8.4s finished\n",
      "/usr/local/lib/python3.6/site-packages/cuml/utils/input_utils.py:188: UserWarning: Expected column ('F') major order, but got the opposite. Converting data, this will result in additional memory utilization.\n",
      "  warnings.warn(\"Expected \" + order_to_str(order) + \" major order, \"\n"
     ]
    },
    {
     "data": {
      "text/plain": [
       "Pipeline(memory=None,\n",
       "         steps=[('processing',\n",
       "                 Pipeline(memory=None,\n",
       "                          steps=[('running_time_imputer',\n",
       "                                  RunningTimeImputer(number_of_tracks='number_of_tracks',\n",
       "                                                     running_time='running_time')),\n",
       "                                 ('leave_one_out_encoding',\n",
       "                                  LeaveOneOutEncoder(cols=['artist', 'label',\n",
       "                                                           'format_text',\n",
       "                                                           'master_id',\n",
       "                                                           'format_name'],\n",
       "                                                     drop_invariant=False,\n",
       "                                                     handle_missing='value',\n",
       "                                                     handle_unknown='va...\n",
       "                              estimator=LinearRegression(algorithm='eig', fit_intercept=True, normalize=False, handle=<cuml.common.handle.Handle object at 0x7f1d7bdcd8b0>, verbose=False, output_type='input'),\n",
       "                              iid='deprecated', n_jobs=-1,\n",
       "                              param_grid={'normalize': [False, True]},\n",
       "                              pre_dispatch='2*n_jobs', refit=True,\n",
       "                              return_train_score=False,\n",
       "                              scoring='neg_mean_absolute_error', verbose=5))],\n",
       "         verbose=False)"
      ]
     },
     "execution_count": 39,
     "metadata": {
      "tags": []
     },
     "output_type": "execute_result"
    }
   ],
   "source": [
    "full_information_lr_pipe.fit(X_tr,np.log(y_tr).values)"
   ]
  },
  {
   "cell_type": "code",
   "execution_count": 40,
   "metadata": {
    "colab": {
     "base_uri": "https://localhost:8080/",
     "height": 35
    },
    "colab_type": "code",
    "id": "zK4yVrywk1hf",
    "outputId": "b0be5fbc-db43-48b6-f450-8d44efd426c9"
   },
   "outputs": [
    {
     "data": {
      "text/plain": [
       "-0.5414585510993827"
      ]
     },
     "execution_count": 40,
     "metadata": {
      "tags": []
     },
     "output_type": "execute_result"
    }
   ],
   "source": [
    "full_information_lr_pipe['lr'].best_score_"
   ]
  },
  {
   "cell_type": "code",
   "execution_count": 41,
   "metadata": {
    "colab": {
     "base_uri": "https://localhost:8080/",
     "height": 73
    },
    "colab_type": "code",
    "id": "lK9EGfANk1hk",
    "outputId": "80a48e8a-a4c1-4873-c0ad-7776c57a52f3"
   },
   "outputs": [
    {
     "name": "stderr",
     "output_type": "stream",
     "text": [
      "/usr/local/lib/python3.6/site-packages/cuml/utils/input_utils.py:188: UserWarning: Expected column ('F') major order, but got the opposite. Converting data, this will result in additional memory utilization.\n",
      "  warnings.warn(\"Expected \" + order_to_str(order) + \" major order, \"\n"
     ]
    }
   ],
   "source": [
    "full_information_lr_pred = record_store_lr_pipe.predict(X_te)"
   ]
  },
  {
   "cell_type": "code",
   "execution_count": 42,
   "metadata": {
    "colab": {
     "base_uri": "https://localhost:8080/",
     "height": 35
    },
    "colab_type": "code",
    "id": "lSQPebt_k1hm",
    "outputId": "d6528f06-4477-4540-a7a3-4fdd86d809b6"
   },
   "outputs": [
    {
     "data": {
      "text/plain": [
       "-150.15149093972255"
      ]
     },
     "execution_count": 42,
     "metadata": {
      "tags": []
     },
     "output_type": "execute_result"
    }
   ],
   "source": [
    "r2_score(y_te,np.exp(full_information_lr_pred))"
   ]
  },
  {
   "cell_type": "code",
   "execution_count": 43,
   "metadata": {
    "colab": {
     "base_uri": "https://localhost:8080/",
     "height": 35
    },
    "colab_type": "code",
    "id": "sHCTKQZhk1hq",
    "outputId": "47ef6f5d-cf7e-48da-d924-61356567301d"
   },
   "outputs": [
    {
     "data": {
      "text/plain": [
       "9.499828183381744"
      ]
     },
     "execution_count": 43,
     "metadata": {
      "tags": []
     },
     "output_type": "execute_result"
    }
   ],
   "source": [
    "mean_absolute_error(y_te,np.exp(full_information_lr_pred))"
   ]
  },
  {
   "cell_type": "markdown",
   "metadata": {
    "colab_type": "text",
    "id": "Qr2uI56yk1hu"
   },
   "source": [
    "## Ridge Regression - Record Store"
   ]
  },
  {
   "cell_type": "code",
   "execution_count": null,
   "metadata": {
    "colab": {},
    "colab_type": "code",
    "id": "BP1pxaQ18arp"
   },
   "outputs": [],
   "source": [
    "record_store_ridge_pipe = Pipeline([\n",
    "    ('running_time_imputer',RunningTimeImputer('running_time','number_of_tracks')),\n",
    "    ('leave_one_out_encoding', LeaveOneOutEncoder(cols=['artist','label','format_text','format_name','master_id'])),\n",
    "    ('record_store_column_remover', ColumnRemover(record_store_regression_removal_columns)),\n",
    "    ('preprocessing',record_store_regression_transformer),\n",
    "    ('scaler', RobustScaler()),\n",
    "    ('ridge', GridSearchCV(\n",
    "        Ridge(normalize=False,solver='eig'),\n",
    "        param_grid={\n",
    "            'alpha': np.linspace(1e-3,1e3,10),\n",
    "        },\n",
    "        cv=KFold(n_splits=5,shuffle=True),\n",
    "        scoring='neg_mean_absolute_error',\n",
    "        verbose=5,\n",
    "        n_jobs=-1,\n",
    "        return_train_score=True\n",
    "    ))\n",
    "])"
   ]
  },
  {
   "cell_type": "code",
   "execution_count": 45,
   "metadata": {
    "colab": {
     "base_uri": "https://localhost:8080/",
     "height": 521
    },
    "colab_type": "code",
    "id": "edNLg2KryH4q",
    "outputId": "ed46a09b-f77b-48df-8ab3-71af33f79861"
   },
   "outputs": [
    {
     "name": "stdout",
     "output_type": "stream",
     "text": [
      "Fitting 5 folds for each of 10 candidates, totalling 50 fits\n"
     ]
    },
    {
     "name": "stderr",
     "output_type": "stream",
     "text": [
      "[Parallel(n_jobs=-1)]: Using backend LokyBackend with 4 concurrent workers.\n",
      "/usr/local/lib/python3.6/dist-packages/joblib/externals/loky/process_executor.py:706: UserWarning: A worker stopped while some jobs were given to the executor. This can be caused by a too short worker timeout or by a memory leak.\n",
      "  \"timeout or by a memory leak.\", UserWarning\n",
      "[Parallel(n_jobs=-1)]: Done  10 tasks      | elapsed:   10.5s\n",
      "[Parallel(n_jobs=-1)]: Done  50 out of  50 | elapsed:   38.9s finished\n",
      "/usr/local/lib/python3.6/site-packages/cuml/utils/input_utils.py:188: UserWarning: Expected column ('F') major order, but got the opposite. Converting data, this will result in additional memory utilization.\n",
      "  warnings.warn(\"Expected \" + order_to_str(order) + \" major order, \"\n"
     ]
    },
    {
     "data": {
      "text/plain": [
       "Pipeline(memory=None,\n",
       "         steps=[('running_time_imputer',\n",
       "                 RunningTimeImputer(number_of_tracks='number_of_tracks',\n",
       "                                    running_time='running_time')),\n",
       "                ('leave_one_out_encoding',\n",
       "                 LeaveOneOutEncoder(cols=['artist', 'label', 'format_text',\n",
       "                                          'format_name', 'master_id'],\n",
       "                                    drop_invariant=False,\n",
       "                                    handle_missing='value',\n",
       "                                    handle_unknown='value', random_state=None,\n",
       "                                    return_df=True, sigm...\n",
       "                              estimator=Ridge(alpha=1.0, solver='eig', fit_intercept=True, normalize=False, handle=<cuml.common.handle.Handle object at 0x7f1d8f2b1db0>, output_type='input'),\n",
       "                              iid='deprecated', n_jobs=-1,\n",
       "                              param_grid={'alpha': array([1.00000e-03, 1.11112e+02, 2.22223e+02, 3.33334e+02, 4.44445e+02,\n",
       "       5.55556e+02, 6.66667e+02, 7.77778e+02, 8.88889e+02, 1.00000e+03])},\n",
       "                              pre_dispatch='2*n_jobs', refit=True,\n",
       "                              return_train_score=True,\n",
       "                              scoring='neg_mean_absolute_error', verbose=5))],\n",
       "         verbose=False)"
      ]
     },
     "execution_count": 45,
     "metadata": {
      "tags": []
     },
     "output_type": "execute_result"
    }
   ],
   "source": [
    "record_store_ridge_pipe.fit(X_tr,np.log(y_tr).values)"
   ]
  },
  {
   "cell_type": "code",
   "execution_count": null,
   "metadata": {
    "colab": {},
    "colab_type": "code",
    "id": "z7tlJO3u-Tl4"
   },
   "outputs": [],
   "source": [
    "plotter = GridSearchPlotter(record_store_ridge_pipe['ridge'])"
   ]
  },
  {
   "cell_type": "code",
   "execution_count": 47,
   "metadata": {
    "colab": {
     "base_uri": "https://localhost:8080/",
     "height": 295
    },
    "colab_type": "code",
    "id": "jla1YIhr-TgT",
    "outputId": "b790ef93-1a65-4a04-836f-346391f284df"
   },
   "outputs": [
    {
     "data": {
      "image/png": "[encoded data removed]",
      "text/plain": [
       "<Figure size 432x288 with 1 Axes>"
      ]
     },
     "metadata": {
      "needs_background": "light",
      "tags": []
     },
     "output_type": "display_data"
    }
   ],
   "source": [
    "plotter.plot_validation_curve(parameter='alpha',ylim=(-0.75,-0.25))"
   ]
  },
  {
   "cell_type": "code",
   "execution_count": 48,
   "metadata": {
    "colab": {
     "base_uri": "https://localhost:8080/",
     "height": 35
    },
    "colab_type": "code",
    "id": "cxR9zl4f-hk9",
    "outputId": "5dc220ae-8289-4f03-f4e4-f1e268f52603"
   },
   "outputs": [
    {
     "data": {
      "text/plain": [
       "-0.5280974967532046"
      ]
     },
     "execution_count": 48,
     "metadata": {
      "tags": []
     },
     "output_type": "execute_result"
    }
   ],
   "source": [
    "record_store_ridge_pipe['ridge'].best_score_"
   ]
  },
  {
   "cell_type": "code",
   "execution_count": 49,
   "metadata": {
    "colab": {
     "base_uri": "https://localhost:8080/",
     "height": 35
    },
    "colab_type": "code",
    "id": "cbV-3Q9A0-hi",
    "outputId": "45cb28d1-d2c7-4aa1-c852-051e6d043f18"
   },
   "outputs": [
    {
     "data": {
      "text/plain": [
       "{'alpha': 111.11200000000001}"
      ]
     },
     "execution_count": 49,
     "metadata": {
      "tags": []
     },
     "output_type": "execute_result"
    }
   ],
   "source": [
    "record_store_ridge_pipe['ridge'].best_params_"
   ]
  },
  {
   "cell_type": "code",
   "execution_count": 50,
   "metadata": {
    "colab": {
     "base_uri": "https://localhost:8080/",
     "height": 73
    },
    "colab_type": "code",
    "id": "db1qMG0e8ar7",
    "outputId": "3b6fe3d6-bd28-4587-f5f0-573886439ed4"
   },
   "outputs": [
    {
     "name": "stderr",
     "output_type": "stream",
     "text": [
      "/usr/local/lib/python3.6/site-packages/cuml/utils/input_utils.py:188: UserWarning: Expected column ('F') major order, but got the opposite. Converting data, this will result in additional memory utilization.\n",
      "  warnings.warn(\"Expected \" + order_to_str(order) + \" major order, \"\n"
     ]
    }
   ],
   "source": [
    "record_store_ridge_pred = record_store_ridge_pipe.predict(X_te)"
   ]
  },
  {
   "cell_type": "code",
   "execution_count": 51,
   "metadata": {
    "colab": {
     "base_uri": "https://localhost:8080/",
     "height": 35
    },
    "colab_type": "code",
    "id": "GsQHxrUE8ar-",
    "outputId": "81adaa34-39d5-4e5e-aa54-9e1babeee4bd"
   },
   "outputs": [
    {
     "data": {
      "text/plain": [
       "-346.03739937484784"
      ]
     },
     "execution_count": 51,
     "metadata": {
      "tags": []
     },
     "output_type": "execute_result"
    }
   ],
   "source": [
    "r2_score(y_te,np.exp(record_store_ridge_pred))"
   ]
  },
  {
   "cell_type": "code",
   "execution_count": 52,
   "metadata": {
    "colab": {
     "base_uri": "https://localhost:8080/",
     "height": 35
    },
    "colab_type": "code",
    "id": "9oKBWYEo8asD",
    "outputId": "7572804b-64c0-4df8-c5cc-a68e8a5749d3"
   },
   "outputs": [
    {
     "data": {
      "text/plain": [
       "9.987211622603766"
      ]
     },
     "execution_count": 52,
     "metadata": {
      "tags": []
     },
     "output_type": "execute_result"
    }
   ],
   "source": [
    "mean_absolute_error(y_te,np.exp(record_store_ridge_pred))"
   ]
  },
  {
   "cell_type": "markdown",
   "metadata": {
    "colab_type": "text",
    "id": "Cnmd7rIWk1iS"
   },
   "source": [
    "## Ridge - Full Information"
   ]
  },
  {
   "cell_type": "code",
   "execution_count": null,
   "metadata": {
    "colab": {},
    "colab_type": "code",
    "id": "Rlb1Z8CEk1iT"
   },
   "outputs": [],
   "source": [
    "full_information_ridge_pipe = Pipeline([\n",
    "    ('running_time_imputer',RunningTimeImputer('running_time','number_of_tracks')),\n",
    "    ('leave_one_out_encoding', LeaveOneOutEncoder(cols=['artist','label','format_text','format_name','master_id'])),\n",
    "    ('record_store_column_remover', ColumnRemover(full_information_regression_removal_columns)),\n",
    "    ('preprocessing',full_information_regression_transformer),\n",
    "    ('scaler', StandardScaler()),\n",
    "    ('ridge', GridSearchCV(\n",
    "        Ridge(normalize=False,solver='eig'),\n",
    "        param_grid={\n",
    "            'alpha': np.logspace(-3,3,10),\n",
    "        },\n",
    "        cv=KFold(n_splits=5,shuffle=True),\n",
    "        scoring='neg_mean_absolute_error',\n",
    "        verbose=5,\n",
    "        n_jobs=-1,\n",
    "        return_train_score=True\n",
    "    ))\n",
    "])"
   ]
  },
  {
   "cell_type": "code",
   "execution_count": 54,
   "metadata": {
    "colab": {
     "base_uri": "https://localhost:8080/",
     "height": 539
    },
    "colab_type": "code",
    "id": "6CSH5O1jk1iX",
    "outputId": "686c1cd9-80af-4d74-c649-a3a21a0d0722"
   },
   "outputs": [
    {
     "name": "stdout",
     "output_type": "stream",
     "text": [
      "Fitting 5 folds for each of 10 candidates, totalling 50 fits\n"
     ]
    },
    {
     "name": "stderr",
     "output_type": "stream",
     "text": [
      "[Parallel(n_jobs=-1)]: Using backend LokyBackend with 4 concurrent workers.\n",
      "/usr/local/lib/python3.6/dist-packages/joblib/externals/loky/process_executor.py:706: UserWarning: A worker stopped while some jobs were given to the executor. This can be caused by a too short worker timeout or by a memory leak.\n",
      "  \"timeout or by a memory leak.\", UserWarning\n",
      "[Parallel(n_jobs=-1)]: Done  10 tasks      | elapsed:   16.8s\n",
      "[Parallel(n_jobs=-1)]: Done  50 out of  50 | elapsed:   43.8s finished\n",
      "/usr/local/lib/python3.6/site-packages/cuml/utils/input_utils.py:188: UserWarning: Expected column ('F') major order, but got the opposite. Converting data, this will result in additional memory utilization.\n",
      "  warnings.warn(\"Expected \" + order_to_str(order) + \" major order, \"\n"
     ]
    },
    {
     "data": {
      "text/plain": [
       "Pipeline(memory=None,\n",
       "         steps=[('running_time_imputer',\n",
       "                 RunningTimeImputer(number_of_tracks='number_of_tracks',\n",
       "                                    running_time='running_time')),\n",
       "                ('leave_one_out_encoding',\n",
       "                 LeaveOneOutEncoder(cols=['artist', 'label', 'format_text',\n",
       "                                          'format_name', 'master_id'],\n",
       "                                    drop_invariant=False,\n",
       "                                    handle_missing='value',\n",
       "                                    handle_unknown='value', random_state=None,\n",
       "                                    return_df=True, sigm...\n",
       "                              estimator=Ridge(alpha=1.0, solver='eig', fit_intercept=True, normalize=False, handle=<cuml.common.handle.Handle object at 0x7f1d7b7ef130>, output_type='input'),\n",
       "                              iid='deprecated', n_jobs=-1,\n",
       "                              param_grid={'alpha': array([1.00000000e-03, 4.64158883e-03, 2.15443469e-02, 1.00000000e-01,\n",
       "       4.64158883e-01, 2.15443469e+00, 1.00000000e+01, 4.64158883e+01,\n",
       "       2.15443469e+02, 1.00000000e+03])},\n",
       "                              pre_dispatch='2*n_jobs', refit=True,\n",
       "                              return_train_score=True,\n",
       "                              scoring='neg_mean_absolute_error', verbose=5))],\n",
       "         verbose=False)"
      ]
     },
     "execution_count": 54,
     "metadata": {
      "tags": []
     },
     "output_type": "execute_result"
    }
   ],
   "source": [
    "full_information_ridge_pipe.fit(X_tr,np.log(y_tr).values)"
   ]
  },
  {
   "cell_type": "code",
   "execution_count": null,
   "metadata": {
    "colab": {},
    "colab_type": "code",
    "id": "yGvB5HQEk1ib"
   },
   "outputs": [],
   "source": [
    "plotter = GridSearchPlotter(full_information_ridge_pipe['ridge'])"
   ]
  },
  {
   "cell_type": "code",
   "execution_count": 56,
   "metadata": {
    "colab": {
     "base_uri": "https://localhost:8080/",
     "height": 295
    },
    "colab_type": "code",
    "id": "FALIex5Ak1ie",
    "outputId": "2a5ca149-551f-4ea1-a61c-2bf96b11a02e"
   },
   "outputs": [
    {
     "data": {
      "image/png": "[encoded data removed]",
      "text/plain": [
       "<Figure size 432x288 with 1 Axes>"
      ]
     },
     "metadata": {
      "needs_background": "light",
      "tags": []
     },
     "output_type": "display_data"
    }
   ],
   "source": [
    "plotter.plot_validation_curve(parameter='alpha',ylim=(-0.75,-0.25))"
   ]
  },
  {
   "cell_type": "code",
   "execution_count": 57,
   "metadata": {
    "colab": {
     "base_uri": "https://localhost:8080/",
     "height": 35
    },
    "colab_type": "code",
    "id": "JFbucWgVk1ih",
    "outputId": "aa979fe4-dccb-461e-acbe-b1de6c4bc20d"
   },
   "outputs": [
    {
     "data": {
      "text/plain": [
       "-0.49614492666793303"
      ]
     },
     "execution_count": 57,
     "metadata": {
      "tags": []
     },
     "output_type": "execute_result"
    }
   ],
   "source": [
    "full_information_ridge_pipe['ridge'].best_score_"
   ]
  },
  {
   "cell_type": "code",
   "execution_count": 58,
   "metadata": {
    "colab": {
     "base_uri": "https://localhost:8080/",
     "height": 35
    },
    "colab_type": "code",
    "id": "DmY50t1kk1iz",
    "outputId": "ef1d9505-d542-419b-8994-6bea075bb6ec"
   },
   "outputs": [
    {
     "data": {
      "text/plain": [
       "{'alpha': 46.41588833612773}"
      ]
     },
     "execution_count": 58,
     "metadata": {
      "tags": []
     },
     "output_type": "execute_result"
    }
   ],
   "source": [
    "full_information_ridge_pipe['ridge'].best_params_"
   ]
  },
  {
   "cell_type": "code",
   "execution_count": 59,
   "metadata": {
    "colab": {
     "base_uri": "https://localhost:8080/",
     "height": 73
    },
    "colab_type": "code",
    "id": "IPsBz9Yhk1i1",
    "outputId": "9f71b589-18f3-4848-cc3d-6a10e582ad2d"
   },
   "outputs": [
    {
     "name": "stderr",
     "output_type": "stream",
     "text": [
      "/usr/local/lib/python3.6/site-packages/cuml/utils/input_utils.py:188: UserWarning: Expected column ('F') major order, but got the opposite. Converting data, this will result in additional memory utilization.\n",
      "  warnings.warn(\"Expected \" + order_to_str(order) + \" major order, \"\n"
     ]
    }
   ],
   "source": [
    "full_information_ridge_pred = full_information_ridge_pipe.predict(X_te)"
   ]
  },
  {
   "cell_type": "code",
   "execution_count": 60,
   "metadata": {
    "colab": {
     "base_uri": "https://localhost:8080/",
     "height": 35
    },
    "colab_type": "code",
    "id": "KfoM7GS6k1i4",
    "outputId": "a0cc01c6-c894-46ea-8aae-4a5981929595"
   },
   "outputs": [
    {
     "data": {
      "text/plain": [
       "-4111.901659084013"
      ]
     },
     "execution_count": 60,
     "metadata": {
      "tags": []
     },
     "output_type": "execute_result"
    }
   ],
   "source": [
    "r2_score(y_te,np.exp(full_information_ridge_pred))"
   ]
  },
  {
   "cell_type": "code",
   "execution_count": 61,
   "metadata": {
    "colab": {
     "base_uri": "https://localhost:8080/",
     "height": 35
    },
    "colab_type": "code",
    "id": "uNXNcesPk1i6",
    "outputId": "47054af0-c466-44c2-fd74-a4d61146225d"
   },
   "outputs": [
    {
     "data": {
      "text/plain": [
       "14.584179068917324"
      ]
     },
     "execution_count": 61,
     "metadata": {
      "tags": []
     },
     "output_type": "execute_result"
    }
   ],
   "source": [
    "mean_absolute_error(y_te,np.exp(full_information_ridge_pred))"
   ]
  },
  {
   "cell_type": "markdown",
   "metadata": {
    "colab_type": "text",
    "id": "fbreYK1X8asG"
   },
   "source": [
    "## Random Forest - Record Store"
   ]
  },
  {
   "cell_type": "code",
   "execution_count": null,
   "metadata": {
    "colab": {},
    "colab_type": "code",
    "id": "McTksN6VGPnv"
   },
   "outputs": [],
   "source": [
    "record_store_random_forest_removal_columns = [\n",
    "    'market_price','units_for_sale','have','want','average_rating','rating_count','last_sold','lowest','median',\n",
    "    'highest','track_titles','country','genre','style','community_have','community_want','formats','thumb_url',\n",
    "    'release_url','format_description','days_since_last_sale','title','release_id'\n",
    "]\n",
    "record_store_random_forest_removal_columns.extend(\n",
    "    column_store._indicator\n",
    ")\n",
    "record_store_random_forest_removal_columns = set(record_store_random_forest_removal_columns)"
   ]
  },
  {
   "cell_type": "code",
   "execution_count": null,
   "metadata": {
    "colab": {},
    "colab_type": "code",
    "id": "BPf-IJfD8asO"
   },
   "outputs": [],
   "source": [
    "record_store_random_forest_preprocessing_pipe = Pipeline([\n",
    "    ('running_time_imputer',RunningTimeImputer('running_time','number_of_tracks')),\n",
    "    ('leave_one_out_encoding', LeaveOneOutEncoder(cols=['artist','label','format_text','format_name','master_id','year'])),\n",
    "    ('reduce_indicators', IndicatorReducer(indicators=column_store._indicator,algorithm=PCA,components=40)),\n",
    "    ('record_store_column_remover', ColumnRemover(record_store_random_forest_removal_columns)),\n",
    "    ('cast_to_32', FunctionTransformer(func=lambda x: x.values.astype(np.float32)))\n",
    "])\n",
    "\n",
    "random_forest = RandomForestRegressor()\n",
    "\n",
    "record_store_random_forest_search_pipe = Pipeline([\n",
    "    ('preprocessing',record_store_random_forest_preprocessing_pipe),\n",
    "    ('grid_search', GridSearchCV(\n",
    "        random_forest,\n",
    "        cv=KFold(n_splits=5,shuffle=True),\n",
    "        param_grid={\n",
    "            'n_estimators': np.linspace(10,200,5).astype(int)\n",
    "        },\n",
    "        verbose=50,\n",
    "        scoring='neg_mean_absolute_error',\n",
    "        n_jobs=-1,\n",
    "        return_train_score=True\n",
    "    ))\n",
    "])\n",
    "\n",
    "record_store_random_forest_pipe = Pipeline([\n",
    "    ('preprocessing',record_store_random_forest_preprocessing_pipe),\n",
    "    ('random_forest',random_forest)\n",
    "])"
   ]
  },
  {
   "cell_type": "code",
   "execution_count": 64,
   "metadata": {
    "colab": {
     "base_uri": "https://localhost:8080/",
     "height": 1000
    },
    "colab_type": "code",
    "id": "l97EbEPB8asR",
    "outputId": "e1bb5bdb-5d65-426f-f6a1-2b2f9181edbd"
   },
   "outputs": [
    {
     "name": "stdout",
     "output_type": "stream",
     "text": [
      "Fitting 5 folds for each of 5 candidates, totalling 25 fits\n",
      "[Parallel(n_jobs=-1)]: Using backend LokyBackend with 4 concurrent workers.\n",
      "[Parallel(n_jobs=-1)]: Done   1 tasks      | elapsed:    9.3s\n",
      "[Parallel(n_jobs=-1)]: Done   2 tasks      | elapsed:    9.4s\n",
      "[Parallel(n_jobs=-1)]: Done   3 tasks      | elapsed:    9.4s\n",
      "[Parallel(n_jobs=-1)]: Done   4 tasks      | elapsed:    9.5s\n",
      "[Parallel(n_jobs=-1)]: Done   5 tasks      | elapsed:   18.5s\n",
      "[Parallel(n_jobs=-1)]: Done   6 tasks      | elapsed:  1.0min\n",
      "[Parallel(n_jobs=-1)]: Done   7 tasks      | elapsed:  1.0min\n",
      "[Parallel(n_jobs=-1)]: Done   8 tasks      | elapsed:  1.0min\n",
      "[Parallel(n_jobs=-1)]: Done   9 tasks      | elapsed:  1.2min\n",
      "[Parallel(n_jobs=-1)]: Done  10 tasks      | elapsed:  1.9min\n",
      "[Parallel(n_jobs=-1)]: Done  11 tasks      | elapsed:  2.6min\n",
      "[Parallel(n_jobs=-1)]: Done  12 tasks      | elapsed:  2.6min\n",
      "[Parallel(n_jobs=-1)]: Done  13 tasks      | elapsed:  2.8min\n",
      "[Parallel(n_jobs=-1)]: Done  14 tasks      | elapsed:  3.5min\n",
      "[Parallel(n_jobs=-1)]: Done  15 tasks      | elapsed:  4.2min\n",
      "[Parallel(n_jobs=-1)]: Done  16 tasks      | elapsed:  5.0min\n",
      "[Parallel(n_jobs=-1)]: Done  17 tasks      | elapsed:  5.1min\n",
      "[Parallel(n_jobs=-1)]: Done  18 tasks      | elapsed:  5.8min\n",
      "[Parallel(n_jobs=-1)]: Done  19 out of  25 | elapsed:  6.6min remaining:  2.1min\n",
      "[Parallel(n_jobs=-1)]: Done  20 out of  25 | elapsed:  7.3min remaining:  1.8min\n",
      "[Parallel(n_jobs=-1)]: Done  21 out of  25 | elapsed:  8.2min remaining:  1.6min\n",
      "[Parallel(n_jobs=-1)]: Done  22 out of  25 | elapsed:  8.9min remaining:  1.2min\n",
      "[Parallel(n_jobs=-1)]: Done  23 out of  25 | elapsed:  9.5min remaining:   49.6s\n",
      "[Parallel(n_jobs=-1)]: Done  25 out of  25 | elapsed: 10.6min remaining:    0.0s\n",
      "[Parallel(n_jobs=-1)]: Done  25 out of  25 | elapsed: 10.6min finished\n"
     ]
    },
    {
     "data": {
      "text/plain": [
       "Pipeline(memory=None,\n",
       "         steps=[('preprocessing',\n",
       "                 Pipeline(memory=None,\n",
       "                          steps=[('running_time_imputer',\n",
       "                                  RunningTimeImputer(number_of_tracks='number_of_tracks',\n",
       "                                                     running_time='running_time')),\n",
       "                                 ('leave_one_out_encoding',\n",
       "                                  LeaveOneOutEncoder(cols=['artist', 'label',\n",
       "                                                           'format_text',\n",
       "                                                           'format_name',\n",
       "                                                           'master_id',\n",
       "                                                           'year'],\n",
       "                                                     drop_invariant=False,\n",
       "                                                     handle_missing='value',\n",
       "                                                     handle_u...\n",
       "                                                              min_samples_leaf=1,\n",
       "                                                              min_samples_split=2,\n",
       "                                                              min_weight_fraction_leaf=0.0,\n",
       "                                                              n_estimators=100,\n",
       "                                                              n_jobs=None,\n",
       "                                                              oob_score=False,\n",
       "                                                              random_state=None,\n",
       "                                                              verbose=0,\n",
       "                                                              warm_start=False),\n",
       "                              iid='deprecated', n_jobs=-1,\n",
       "                              param_grid={'n_estimators': array([ 10,  57, 105, 152, 200])},\n",
       "                              pre_dispatch='2*n_jobs', refit=True,\n",
       "                              return_train_score=True,\n",
       "                              scoring='neg_mean_absolute_error', verbose=50))],\n",
       "         verbose=False)"
      ]
     },
     "execution_count": 64,
     "metadata": {
      "tags": []
     },
     "output_type": "execute_result"
    }
   ],
   "source": [
    "record_store_random_forest_search_pipe.fit(X_tr_sample,np.log(y_tr_sample).values.astype(np.float32))"
   ]
  },
  {
   "cell_type": "code",
   "execution_count": 65,
   "metadata": {
    "colab": {
     "base_uri": "https://localhost:8080/",
     "height": 296
    },
    "colab_type": "code",
    "id": "2awntfVd_nAJ",
    "outputId": "39806ba4-cabb-4dca-bb36-769e71b7af68"
   },
   "outputs": [
    {
     "data": {
      "image/png": "[encoded data removed]",
      "text/plain": [
       "<Figure size 432x288 with 1 Axes>"
      ]
     },
     "metadata": {
      "needs_background": "light",
      "tags": []
     },
     "output_type": "display_data"
    }
   ],
   "source": [
    "record_store_random_forest_plotter = GridSearchPlotter(record_store_random_forest_search_pipe.steps[-1][1])\n",
    "record_store_random_forest_plotter.plot_validation_curve(parameter='n_estimators',ylim=(-1,0))"
   ]
  },
  {
   "cell_type": "code",
   "execution_count": 66,
   "metadata": {
    "colab": {
     "base_uri": "https://localhost:8080/",
     "height": 35
    },
    "colab_type": "code",
    "id": "kIzLmO8Bzkdr",
    "outputId": "4de85991-572a-4300-a693-c39ed1ef72ec"
   },
   "outputs": [
    {
     "data": {
      "text/plain": [
       "-0.007035530588829418"
      ]
     },
     "execution_count": 66,
     "metadata": {
      "tags": []
     },
     "output_type": "execute_result"
    }
   ],
   "source": [
    "record_store_random_forest_search_pipe.steps[-1][1].best_score_"
   ]
  },
  {
   "cell_type": "code",
   "execution_count": 67,
   "metadata": {
    "colab": {
     "base_uri": "https://localhost:8080/",
     "height": 35
    },
    "colab_type": "code",
    "id": "1Jh6GfwRzk2n",
    "outputId": "614c5d53-0bcf-4852-ad1d-564e47e96ac1"
   },
   "outputs": [
    {
     "data": {
      "text/plain": [
       "{'n_estimators': 200}"
      ]
     },
     "execution_count": 67,
     "metadata": {
      "tags": []
     },
     "output_type": "execute_result"
    }
   ],
   "source": [
    "record_store_random_forest_search_pipe.steps[-1][1].best_params_"
   ]
  },
  {
   "cell_type": "code",
   "execution_count": 68,
   "metadata": {
    "colab": {
     "base_uri": "https://localhost:8080/",
     "height": 501
    },
    "colab_type": "code",
    "id": "7HMokfJnMYzZ",
    "outputId": "749581c3-4cf1-43dd-843e-c2c2abd3eaed"
   },
   "outputs": [
    {
     "data": {
      "text/plain": [
       "Pipeline(memory=None,\n",
       "         steps=[('preprocessing',\n",
       "                 Pipeline(memory=None,\n",
       "                          steps=[('running_time_imputer',\n",
       "                                  RunningTimeImputer(number_of_tracks='number_of_tracks',\n",
       "                                                     running_time='running_time')),\n",
       "                                 ('leave_one_out_encoding',\n",
       "                                  LeaveOneOutEncoder(cols=['artist', 'label',\n",
       "                                                           'format_text',\n",
       "                                                           'format_name',\n",
       "                                                           'master_id',\n",
       "                                                           'year'],\n",
       "                                                     drop_invariant=False,\n",
       "                                                     handle_missing='value',\n",
       "                                                     handle_u...\n",
       "                 RandomForestRegressor(bootstrap=True, ccp_alpha=0.0,\n",
       "                                       criterion='mse', max_depth=None,\n",
       "                                       max_features='auto', max_leaf_nodes=None,\n",
       "                                       max_samples=None,\n",
       "                                       min_impurity_decrease=0.0,\n",
       "                                       min_impurity_split=None,\n",
       "                                       min_samples_leaf=1, min_samples_split=2,\n",
       "                                       min_weight_fraction_leaf=0.0,\n",
       "                                       n_estimators=100, n_jobs=None,\n",
       "                                       oob_score=False, random_state=None,\n",
       "                                       verbose=0, warm_start=False))],\n",
       "         verbose=False)"
      ]
     },
     "execution_count": 68,
     "metadata": {
      "tags": []
     },
     "output_type": "execute_result"
    }
   ],
   "source": [
    "record_store_random_forest_pipe.fit(X_tr,np.log(y_tr).values.astype(np.float32))"
   ]
  },
  {
   "cell_type": "code",
   "execution_count": null,
   "metadata": {
    "colab": {},
    "colab_type": "code",
    "id": "VrdorFhMMe2P"
   },
   "outputs": [],
   "source": [
    "record_store_random_forest_te_pred = record_store_random_forest_pipe.predict(X_te)"
   ]
  },
  {
   "cell_type": "code",
   "execution_count": 70,
   "metadata": {
    "colab": {
     "base_uri": "https://localhost:8080/",
     "height": 35
    },
    "colab_type": "code",
    "id": "y1Ko_cUBMoEy",
    "outputId": "e75b3996-711f-4cc3-9f5d-7ad0c3f06a0b"
   },
   "outputs": [
    {
     "data": {
      "text/plain": [
       "-0.0840500228515495"
      ]
     },
     "execution_count": 70,
     "metadata": {
      "tags": []
     },
     "output_type": "execute_result"
    }
   ],
   "source": [
    "r2_score(y_te,np.exp(record_store_random_forest_te_pred))"
   ]
  },
  {
   "cell_type": "code",
   "execution_count": 71,
   "metadata": {
    "colab": {
     "base_uri": "https://localhost:8080/",
     "height": 35
    },
    "colab_type": "code",
    "id": "R3cCwv8t0E4R",
    "outputId": "773a9ae7-1ccd-4f49-e512-600fd55de79d"
   },
   "outputs": [
    {
     "data": {
      "text/plain": [
       "10.48120340759418"
      ]
     },
     "execution_count": 71,
     "metadata": {
      "tags": []
     },
     "output_type": "execute_result"
    }
   ],
   "source": [
    "mean_absolute_error(y_te,np.exp(record_store_random_forest_te_pred))"
   ]
  },
  {
   "cell_type": "markdown",
   "metadata": {
    "colab_type": "text",
    "id": "gJZdJtJbk1jW"
   },
   "source": [
    "## Random Forest - Full Information"
   ]
  },
  {
   "cell_type": "code",
   "execution_count": null,
   "metadata": {
    "colab": {},
    "colab_type": "code",
    "id": "yQGDq3REk1jW"
   },
   "outputs": [],
   "source": [
    "full_information_random_forest_removal_columns = record_store_random_forest_removal_columns - full_information_columns"
   ]
  },
  {
   "cell_type": "code",
   "execution_count": null,
   "metadata": {
    "colab": {},
    "colab_type": "code",
    "id": "zuNSCmnTk1jd"
   },
   "outputs": [],
   "source": [
    "full_information_random_forest_preprocessing_pipe = Pipeline([\n",
    "    ('running_time_imputer',RunningTimeImputer('running_time','number_of_tracks')),\n",
    "    ('leave_one_out_encoding', LeaveOneOutEncoder(cols=['artist','label','format_text','format_name','master_id','year'])),\n",
    "    ('reduce_indicators', IndicatorReducer(indicators=column_store._indicator,algorithm=PCA,components=40)),\n",
    "    ('record_store_column_remover', ColumnRemover(full_information_random_forest_removal_columns)),\n",
    "    ('cast_to_32', FunctionTransformer(func=lambda x: x.astype(np.float32)))\n",
    "])\n",
    "\n",
    "full_information_random_forest_search_pipe = Pipeline([\n",
    "    ('preprocessing',full_information_random_forest_preprocessing_pipe),\n",
    "    ('grid_search', GridSearchCV(\n",
    "        random_forest,\n",
    "        cv=KFold(n_splits=5,shuffle=True),\n",
    "        param_grid={\n",
    "            'n_estimators': np.linspace(10,200,5).astype(int)\n",
    "        },\n",
    "        verbose=50,\n",
    "        scoring='neg_mean_absolute_error',\n",
    "        n_jobs=-1,\n",
    "        return_train_score=True\n",
    "    ))\n",
    "])\n",
    "\n",
    "full_information_random_forest_pipe = Pipeline([\n",
    "    ('preprocessing',full_information_random_forest_preprocessing_pipe),\n",
    "    ('random_forest',random_forest)\n",
    "])"
   ]
  },
  {
   "cell_type": "code",
   "execution_count": 74,
   "metadata": {
    "colab": {
     "base_uri": "https://localhost:8080/",
     "height": 1000
    },
    "colab_type": "code",
    "id": "lOo-_NUFk1jg",
    "outputId": "b335c039-cb02-43c9-9de3-515ffd16b0f9"
   },
   "outputs": [
    {
     "name": "stdout",
     "output_type": "stream",
     "text": [
      "Fitting 5 folds for each of 5 candidates, totalling 25 fits\n",
      "[Parallel(n_jobs=-1)]: Using backend LokyBackend with 4 concurrent workers.\n",
      "[Parallel(n_jobs=-1)]: Done   1 tasks      | elapsed:   10.5s\n",
      "[Parallel(n_jobs=-1)]: Done   2 tasks      | elapsed:   10.6s\n",
      "[Parallel(n_jobs=-1)]: Done   3 tasks      | elapsed:   10.7s\n",
      "[Parallel(n_jobs=-1)]: Done   4 tasks      | elapsed:   10.7s\n",
      "[Parallel(n_jobs=-1)]: Done   5 tasks      | elapsed:   19.8s\n",
      "[Parallel(n_jobs=-1)]: Done   6 tasks      | elapsed:  1.0min\n",
      "[Parallel(n_jobs=-1)]: Done   7 tasks      | elapsed:  1.0min\n",
      "[Parallel(n_jobs=-1)]: Done   8 tasks      | elapsed:  1.1min\n",
      "[Parallel(n_jobs=-1)]: Done   9 tasks      | elapsed:  1.2min\n",
      "[Parallel(n_jobs=-1)]: Done  10 tasks      | elapsed:  1.9min\n",
      "[Parallel(n_jobs=-1)]: Done  11 tasks      | elapsed:  2.6min\n",
      "[Parallel(n_jobs=-1)]: Done  12 tasks      | elapsed:  2.6min\n",
      "[Parallel(n_jobs=-1)]: Done  13 tasks      | elapsed:  2.8min\n",
      "[Parallel(n_jobs=-1)]: Done  14 tasks      | elapsed:  3.5min\n",
      "[Parallel(n_jobs=-1)]: Done  15 tasks      | elapsed:  4.2min\n",
      "[Parallel(n_jobs=-1)]: Done  16 tasks      | elapsed:  5.0min\n",
      "[Parallel(n_jobs=-1)]: Done  17 tasks      | elapsed:  5.2min\n",
      "[Parallel(n_jobs=-1)]: Done  18 tasks      | elapsed:  5.9min\n",
      "[Parallel(n_jobs=-1)]: Done  19 out of  25 | elapsed:  6.6min remaining:  2.1min\n",
      "[Parallel(n_jobs=-1)]: Done  20 out of  25 | elapsed:  7.3min remaining:  1.8min\n",
      "[Parallel(n_jobs=-1)]: Done  21 out of  25 | elapsed:  8.3min remaining:  1.6min\n",
      "[Parallel(n_jobs=-1)]: Done  22 out of  25 | elapsed:  9.0min remaining:  1.2min\n",
      "[Parallel(n_jobs=-1)]: Done  23 out of  25 | elapsed:  9.6min remaining:   49.9s\n",
      "[Parallel(n_jobs=-1)]: Done  25 out of  25 | elapsed: 10.7min remaining:    0.0s\n",
      "[Parallel(n_jobs=-1)]: Done  25 out of  25 | elapsed: 10.7min finished\n"
     ]
    },
    {
     "data": {
      "text/plain": [
       "Pipeline(memory=None,\n",
       "         steps=[('preprocessing',\n",
       "                 Pipeline(memory=None,\n",
       "                          steps=[('running_time_imputer',\n",
       "                                  RunningTimeImputer(number_of_tracks='number_of_tracks',\n",
       "                                                     running_time='running_time')),\n",
       "                                 ('leave_one_out_encoding',\n",
       "                                  LeaveOneOutEncoder(cols=['artist', 'label',\n",
       "                                                           'format_text',\n",
       "                                                           'format_name',\n",
       "                                                           'master_id',\n",
       "                                                           'year'],\n",
       "                                                     drop_invariant=False,\n",
       "                                                     handle_missing='value',\n",
       "                                                     handle_u...\n",
       "                                                              min_samples_leaf=1,\n",
       "                                                              min_samples_split=2,\n",
       "                                                              min_weight_fraction_leaf=0.0,\n",
       "                                                              n_estimators=100,\n",
       "                                                              n_jobs=None,\n",
       "                                                              oob_score=False,\n",
       "                                                              random_state=None,\n",
       "                                                              verbose=0,\n",
       "                                                              warm_start=False),\n",
       "                              iid='deprecated', n_jobs=-1,\n",
       "                              param_grid={'n_estimators': array([ 10,  57, 105, 152, 200])},\n",
       "                              pre_dispatch='2*n_jobs', refit=True,\n",
       "                              return_train_score=True,\n",
       "                              scoring='neg_mean_absolute_error', verbose=50))],\n",
       "         verbose=False)"
      ]
     },
     "execution_count": 74,
     "metadata": {
      "tags": []
     },
     "output_type": "execute_result"
    }
   ],
   "source": [
    "full_information_random_forest_search_pipe.fit(X_tr_sample,np.log(y_tr_sample).values.astype(np.float32))"
   ]
  },
  {
   "cell_type": "code",
   "execution_count": 75,
   "metadata": {
    "colab": {
     "base_uri": "https://localhost:8080/",
     "height": 296
    },
    "colab_type": "code",
    "id": "rCux94qKk1ji",
    "outputId": "2df6c8e2-c0a7-4c41-b275-9bb2cf0e7d09"
   },
   "outputs": [
    {
     "data": {
      "image/png": "[encoded data removed]",
      "text/plain": [
       "<Figure size 432x288 with 1 Axes>"
      ]
     },
     "metadata": {
      "needs_background": "light",
      "tags": []
     },
     "output_type": "display_data"
    }
   ],
   "source": [
    "full_information_random_forest_plotter = GridSearchPlotter(full_information_random_forest_search_pipe.steps[-1][1])\n",
    "full_information_random_forest_plotter.plot_validation_curve(parameter='n_estimators',ylim=(-1,0))"
   ]
  },
  {
   "cell_type": "code",
   "execution_count": 76,
   "metadata": {
    "colab": {
     "base_uri": "https://localhost:8080/",
     "height": 35
    },
    "colab_type": "code",
    "id": "jaoOYSogk1jk",
    "outputId": "6bbbb06d-3613-4420-b099-714d5b895b3d"
   },
   "outputs": [
    {
     "data": {
      "text/plain": [
       "-0.007178747814856755"
      ]
     },
     "execution_count": 76,
     "metadata": {
      "tags": []
     },
     "output_type": "execute_result"
    }
   ],
   "source": [
    "full_information_random_forest_search_pipe.steps[-1][1].best_score_"
   ]
  },
  {
   "cell_type": "code",
   "execution_count": 77,
   "metadata": {
    "colab": {
     "base_uri": "https://localhost:8080/",
     "height": 35
    },
    "colab_type": "code",
    "id": "SLNosErgk1jn",
    "outputId": "64a518d6-cbb9-455e-e463-6e5245357e20"
   },
   "outputs": [
    {
     "data": {
      "text/plain": [
       "{'n_estimators': 200}"
      ]
     },
     "execution_count": 77,
     "metadata": {
      "tags": []
     },
     "output_type": "execute_result"
    }
   ],
   "source": [
    "full_information_random_forest_search_pipe.steps[-1][1].best_params_"
   ]
  },
  {
   "cell_type": "code",
   "execution_count": 78,
   "metadata": {
    "colab": {
     "base_uri": "https://localhost:8080/",
     "height": 501
    },
    "colab_type": "code",
    "id": "VvtlG6n3k1jq",
    "outputId": "f83abe1e-80f6-4f2e-ba7f-16ccf1885e2a"
   },
   "outputs": [
    {
     "data": {
      "text/plain": [
       "Pipeline(memory=None,\n",
       "         steps=[('preprocessing',\n",
       "                 Pipeline(memory=None,\n",
       "                          steps=[('running_time_imputer',\n",
       "                                  RunningTimeImputer(number_of_tracks='number_of_tracks',\n",
       "                                                     running_time='running_time')),\n",
       "                                 ('leave_one_out_encoding',\n",
       "                                  LeaveOneOutEncoder(cols=['artist', 'label',\n",
       "                                                           'format_text',\n",
       "                                                           'format_name',\n",
       "                                                           'master_id',\n",
       "                                                           'year'],\n",
       "                                                     drop_invariant=False,\n",
       "                                                     handle_missing='value',\n",
       "                                                     handle_u...\n",
       "                 RandomForestRegressor(bootstrap=True, ccp_alpha=0.0,\n",
       "                                       criterion='mse', max_depth=None,\n",
       "                                       max_features='auto', max_leaf_nodes=None,\n",
       "                                       max_samples=None,\n",
       "                                       min_impurity_decrease=0.0,\n",
       "                                       min_impurity_split=None,\n",
       "                                       min_samples_leaf=1, min_samples_split=2,\n",
       "                                       min_weight_fraction_leaf=0.0,\n",
       "                                       n_estimators=100, n_jobs=None,\n",
       "                                       oob_score=False, random_state=None,\n",
       "                                       verbose=0, warm_start=False))],\n",
       "         verbose=False)"
      ]
     },
     "execution_count": 78,
     "metadata": {
      "tags": []
     },
     "output_type": "execute_result"
    }
   ],
   "source": [
    "full_information_random_forest_pipe.fit(X_tr,np.log(y_tr).values.astype(np.float32))"
   ]
  },
  {
   "cell_type": "code",
   "execution_count": null,
   "metadata": {
    "colab": {},
    "colab_type": "code",
    "id": "k7iHVjV-k1jt"
   },
   "outputs": [],
   "source": [
    "full_information_random_forest_te_pred = full_information_random_forest_pipe.predict(X_te)"
   ]
  },
  {
   "cell_type": "code",
   "execution_count": 80,
   "metadata": {
    "colab": {
     "base_uri": "https://localhost:8080/",
     "height": 35
    },
    "colab_type": "code",
    "id": "UBdw5WWqk1jv",
    "outputId": "fa79bb00-ceef-4c0e-dfe7-6a120321d782"
   },
   "outputs": [
    {
     "data": {
      "text/plain": [
       "-0.0839987999272489"
      ]
     },
     "execution_count": 80,
     "metadata": {
      "tags": []
     },
     "output_type": "execute_result"
    }
   ],
   "source": [
    "r2_score(y_te,np.exp(full_information_random_forest_te_pred))"
   ]
  },
  {
   "cell_type": "code",
   "execution_count": 81,
   "metadata": {
    "colab": {
     "base_uri": "https://localhost:8080/",
     "height": 35
    },
    "colab_type": "code",
    "id": "ZQQ8J--Yk1jy",
    "outputId": "15ed46f8-3a86-4285-be8f-723e96c7fcac"
   },
   "outputs": [
    {
     "data": {
      "text/plain": [
       "10.480869470339867"
      ]
     },
     "execution_count": 81,
     "metadata": {
      "tags": []
     },
     "output_type": "execute_result"
    }
   ],
   "source": [
    "mean_absolute_error(y_te,np.exp(full_information_random_forest_te_pred))"
   ]
  },
  {
   "cell_type": "markdown",
   "metadata": {
    "colab_type": "text",
    "id": "wcM8J6K68asg"
   },
   "source": [
    "## Catboost - Record Store"
   ]
  },
  {
   "cell_type": "code",
   "execution_count": null,
   "metadata": {
    "colab": {},
    "colab_type": "code",
    "id": "OjIxG4pI8asl"
   },
   "outputs": [],
   "source": [
    "record_store_catboost_removal_columns = set([\n",
    "    'market_price','units_for_sale','have','want','average_rating','rating_count','last_sold','lowest','median',\n",
    "    'highest','track_titles','genre','style','community_have','community_want','formats','thumb_url',\n",
    "    'release_url','format_description','days_since_last_sale','title','release_id'\n",
    "])\n",
    "record_store_catboost_removal_columns = record_store_catboost_removal_columns.union(column_store._geography_country)"
   ]
  },
  {
   "cell_type": "code",
   "execution_count": null,
   "metadata": {
    "colab": {},
    "colab_type": "code",
    "id": "VCaEIJW18asr"
   },
   "outputs": [],
   "source": [
    "record_store_catboost_processing_pipe = Pipeline([\n",
    "    ('running_time_imputer',RunningTimeImputer('running_time','number_of_tracks')),\n",
    "    ('record_store_column_remover', ColumnRemover(record_store_catboost_removal_columns)),\n",
    "])\n",
    "\n",
    "catboost = CatBoostRegressor(\n",
    "    random_seed=0,\n",
    "    cat_features=['year','format_text','master_id','format_name','artist','label','country'],\n",
    "    boosting_type='Ordered',\n",
    "    n_estimators=100,\n",
    "    learning_rate=0.1,\n",
    "    l2_leaf_reg=3,\n",
    "    border_count=170,\n",
    "    max_depth=10,\n",
    ")\n",
    "\n",
    "record_store_catboost_grid_pipe = Pipeline([\n",
    "    ('processing', record_store_catboost_processing_pipe),\n",
    "    ('grid_search', GridSearchCV(\n",
    "        catboost,\n",
    "        param_grid={\n",
    "            #'learning_rate': np.logspace(-3,1,5),\n",
    "            #'border_count': np.linspace(1,200,5),\n",
    "            'l2_leaf_reg': [1,3,5,8],\n",
    "        },\n",
    "        n_jobs=-1,\n",
    "        cv=KFold(n_splits=5,shuffle=True),\n",
    "        verbose=1,\n",
    "        scoring='neg_mean_absolute_error',\n",
    "        return_train_score=True)\n",
    "    )\n",
    "])\n",
    "\n",
    "record_store_catboost_pipe = Pipeline([\n",
    "    ('processing', record_store_catboost_processing_pipe),\n",
    "    ('catboost',catboost)\n",
    "])"
   ]
  },
  {
   "cell_type": "code",
   "execution_count": 84,
   "metadata": {
    "colab": {
     "base_uri": "https://localhost:8080/",
     "height": 1000
    },
    "colab_type": "code",
    "id": "MQW9Ojz08asu",
    "outputId": "c9fe8088-82ea-419d-b686-c23ab5dceb9e"
   },
   "outputs": [
    {
     "name": "stdout",
     "output_type": "stream",
     "text": [
      "Fitting 5 folds for each of 4 candidates, totalling 20 fits\n"
     ]
    },
    {
     "name": "stderr",
     "output_type": "stream",
     "text": [
      "[Parallel(n_jobs=-1)]: Using backend LokyBackend with 4 concurrent workers.\n",
      "/usr/local/lib/python3.6/dist-packages/joblib/externals/loky/process_executor.py:706: UserWarning: A worker stopped while some jobs were given to the executor. This can be caused by a too short worker timeout or by a memory leak.\n",
      "  \"timeout or by a memory leak.\", UserWarning\n",
      "[Parallel(n_jobs=-1)]: Done  20 out of  20 | elapsed:  5.8min finished\n"
     ]
    },
    {
     "name": "stdout",
     "output_type": "stream",
     "text": [
      "0:\tlearn: 0.8674830\ttotal: 381ms\tremaining: 37.8s\n",
      "1:\tlearn: 0.8506953\ttotal: 631ms\tremaining: 30.9s\n",
      "2:\tlearn: 0.8358839\ttotal: 893ms\tremaining: 28.9s\n",
      "3:\tlearn: 0.8232962\ttotal: 1.15s\tremaining: 27.5s\n",
      "4:\tlearn: 0.8126065\ttotal: 1.41s\tremaining: 26.7s\n",
      "5:\tlearn: 0.8038130\ttotal: 1.67s\tremaining: 26.2s\n",
      "6:\tlearn: 0.7955038\ttotal: 1.94s\tremaining: 25.8s\n",
      "7:\tlearn: 0.7893566\ttotal: 2.2s\tremaining: 25.3s\n",
      "8:\tlearn: 0.7833777\ttotal: 2.47s\tremaining: 25s\n",
      "9:\tlearn: 0.7769985\ttotal: 2.73s\tremaining: 24.6s\n",
      "10:\tlearn: 0.7714056\ttotal: 3s\tremaining: 24.3s\n",
      "11:\tlearn: 0.7660585\ttotal: 3.27s\tremaining: 24s\n",
      "12:\tlearn: 0.7616219\ttotal: 3.52s\tremaining: 23.6s\n",
      "13:\tlearn: 0.7581175\ttotal: 3.79s\tremaining: 23.3s\n",
      "14:\tlearn: 0.7551021\ttotal: 4.05s\tremaining: 22.9s\n",
      "15:\tlearn: 0.7521717\ttotal: 4.3s\tremaining: 22.6s\n",
      "16:\tlearn: 0.7487425\ttotal: 4.56s\tremaining: 22.3s\n",
      "17:\tlearn: 0.7460573\ttotal: 4.8s\tremaining: 21.9s\n",
      "18:\tlearn: 0.7438011\ttotal: 5.05s\tremaining: 21.5s\n",
      "19:\tlearn: 0.7408095\ttotal: 5.31s\tremaining: 21.2s\n",
      "20:\tlearn: 0.7383724\ttotal: 5.55s\tremaining: 20.9s\n",
      "21:\tlearn: 0.7358194\ttotal: 5.8s\tremaining: 20.6s\n",
      "22:\tlearn: 0.7338442\ttotal: 6.06s\tremaining: 20.3s\n",
      "23:\tlearn: 0.7317661\ttotal: 6.31s\tremaining: 20s\n",
      "24:\tlearn: 0.7303628\ttotal: 6.55s\tremaining: 19.7s\n",
      "25:\tlearn: 0.7292752\ttotal: 6.8s\tremaining: 19.4s\n",
      "26:\tlearn: 0.7280816\ttotal: 7.06s\tremaining: 19.1s\n",
      "27:\tlearn: 0.7269028\ttotal: 7.13s\tremaining: 18.3s\n",
      "28:\tlearn: 0.7258291\ttotal: 7.38s\tremaining: 18.1s\n",
      "29:\tlearn: 0.7251131\ttotal: 7.62s\tremaining: 17.8s\n",
      "30:\tlearn: 0.7237045\ttotal: 7.86s\tremaining: 17.5s\n",
      "31:\tlearn: 0.7226951\ttotal: 8.11s\tremaining: 17.2s\n",
      "32:\tlearn: 0.7216048\ttotal: 8.36s\tremaining: 17s\n",
      "33:\tlearn: 0.7210030\ttotal: 8.63s\tremaining: 16.8s\n",
      "34:\tlearn: 0.7203795\ttotal: 8.9s\tremaining: 16.5s\n",
      "35:\tlearn: 0.7196608\ttotal: 9.17s\tremaining: 16.3s\n",
      "36:\tlearn: 0.7187869\ttotal: 9.44s\tremaining: 16.1s\n",
      "37:\tlearn: 0.7182230\ttotal: 9.71s\tremaining: 15.8s\n",
      "38:\tlearn: 0.7176409\ttotal: 9.97s\tremaining: 15.6s\n",
      "39:\tlearn: 0.7172140\ttotal: 10.2s\tremaining: 15.3s\n",
      "40:\tlearn: 0.7166480\ttotal: 10.5s\tremaining: 15.1s\n",
      "41:\tlearn: 0.7163178\ttotal: 10.7s\tremaining: 14.8s\n",
      "42:\tlearn: 0.7159958\ttotal: 11s\tremaining: 14.5s\n",
      "43:\tlearn: 0.7156084\ttotal: 11.2s\tremaining: 14.3s\n",
      "44:\tlearn: 0.7149291\ttotal: 11.5s\tremaining: 14s\n",
      "45:\tlearn: 0.7144875\ttotal: 11.5s\tremaining: 13.5s\n",
      "46:\tlearn: 0.7141881\ttotal: 11.8s\tremaining: 13.3s\n",
      "47:\tlearn: 0.7140300\ttotal: 12s\tremaining: 13s\n",
      "48:\tlearn: 0.7139094\ttotal: 12.3s\tremaining: 12.8s\n",
      "49:\tlearn: 0.7134069\ttotal: 12.5s\tremaining: 12.5s\n",
      "50:\tlearn: 0.7126939\ttotal: 12.6s\tremaining: 12.1s\n",
      "51:\tlearn: 0.7126937\ttotal: 12.6s\tremaining: 11.6s\n",
      "52:\tlearn: 0.7124168\ttotal: 12.9s\tremaining: 11.4s\n",
      "53:\tlearn: 0.7123274\ttotal: 13.1s\tremaining: 11.2s\n",
      "54:\tlearn: 0.7119844\ttotal: 13.4s\tremaining: 10.9s\n",
      "55:\tlearn: 0.7109926\ttotal: 13.6s\tremaining: 10.7s\n",
      "56:\tlearn: 0.7109823\ttotal: 13.8s\tremaining: 10.4s\n",
      "57:\tlearn: 0.7105970\ttotal: 14s\tremaining: 10.1s\n",
      "58:\tlearn: 0.7103067\ttotal: 14.3s\tremaining: 9.92s\n",
      "59:\tlearn: 0.7100556\ttotal: 14.5s\tremaining: 9.68s\n",
      "60:\tlearn: 0.7099518\ttotal: 14.8s\tremaining: 9.45s\n",
      "61:\tlearn: 0.7098191\ttotal: 15s\tremaining: 9.21s\n",
      "62:\tlearn: 0.7096326\ttotal: 15.3s\tremaining: 8.98s\n",
      "63:\tlearn: 0.7090287\ttotal: 15.5s\tremaining: 8.74s\n",
      "64:\tlearn: 0.7089346\ttotal: 15.8s\tremaining: 8.5s\n",
      "65:\tlearn: 0.7087592\ttotal: 16s\tremaining: 8.26s\n",
      "66:\tlearn: 0.7087501\ttotal: 16.1s\tremaining: 7.91s\n",
      "67:\tlearn: 0.7085146\ttotal: 16.3s\tremaining: 7.68s\n",
      "68:\tlearn: 0.7085029\ttotal: 16.3s\tremaining: 7.34s\n",
      "69:\tlearn: 0.7085029\ttotal: 16.3s\tremaining: 7.01s\n",
      "70:\tlearn: 0.7079128\ttotal: 16.6s\tremaining: 6.78s\n",
      "71:\tlearn: 0.7078797\ttotal: 16.9s\tremaining: 6.55s\n",
      "72:\tlearn: 0.7074038\ttotal: 17.1s\tremaining: 6.33s\n",
      "73:\tlearn: 0.7074038\ttotal: 17.1s\tremaining: 6.01s\n",
      "74:\tlearn: 0.7074038\ttotal: 17.1s\tremaining: 5.71s\n",
      "75:\tlearn: 0.7070764\ttotal: 17.4s\tremaining: 5.49s\n",
      "76:\tlearn: 0.7068377\ttotal: 17.6s\tremaining: 5.27s\n",
      "77:\tlearn: 0.7067789\ttotal: 17.8s\tremaining: 5.01s\n",
      "78:\tlearn: 0.7065155\ttotal: 18s\tremaining: 4.79s\n",
      "79:\tlearn: 0.7065048\ttotal: 18.1s\tremaining: 4.52s\n",
      "80:\tlearn: 0.7060489\ttotal: 18.3s\tremaining: 4.3s\n",
      "81:\tlearn: 0.7060158\ttotal: 18.6s\tremaining: 4.08s\n",
      "82:\tlearn: 0.7059963\ttotal: 18.6s\tremaining: 3.81s\n",
      "83:\tlearn: 0.7053874\ttotal: 18.8s\tremaining: 3.59s\n",
      "84:\tlearn: 0.7053807\ttotal: 18.9s\tremaining: 3.33s\n",
      "85:\tlearn: 0.7052159\ttotal: 19.1s\tremaining: 3.11s\n",
      "86:\tlearn: 0.7051094\ttotal: 19.2s\tremaining: 2.87s\n",
      "87:\tlearn: 0.7049909\ttotal: 19.4s\tremaining: 2.65s\n",
      "88:\tlearn: 0.7043847\ttotal: 19.7s\tremaining: 2.43s\n",
      "89:\tlearn: 0.7043096\ttotal: 19.9s\tremaining: 2.22s\n",
      "90:\tlearn: 0.7042949\ttotal: 20s\tremaining: 1.98s\n",
      "91:\tlearn: 0.7042913\ttotal: 20s\tremaining: 1.74s\n",
      "92:\tlearn: 0.7042439\ttotal: 20.1s\tremaining: 1.51s\n",
      "93:\tlearn: 0.7038558\ttotal: 20.4s\tremaining: 1.3s\n",
      "94:\tlearn: 0.7038557\ttotal: 20.4s\tremaining: 1.07s\n",
      "95:\tlearn: 0.7038508\ttotal: 20.4s\tremaining: 850ms\n",
      "96:\tlearn: 0.7038451\ttotal: 20.4s\tremaining: 632ms\n",
      "97:\tlearn: 0.7038277\ttotal: 20.5s\tremaining: 417ms\n",
      "98:\tlearn: 0.7026701\ttotal: 20.7s\tremaining: 209ms\n",
      "99:\tlearn: 0.7014220\ttotal: 21s\tremaining: 0us\n"
     ]
    },
    {
     "data": {
      "text/plain": [
       "Pipeline(memory=None,\n",
       "         steps=[('processing',\n",
       "                 Pipeline(memory=None,\n",
       "                          steps=[('running_time_imputer',\n",
       "                                  RunningTimeImputer(number_of_tracks='number_of_tracks',\n",
       "                                                     running_time='running_time')),\n",
       "                                 ('record_store_column_remover',\n",
       "                                  ColumnRemover(cols_to_remove={'average_rating',\n",
       "                                                                'community_have',\n",
       "                                                                'community_want',\n",
       "                                                                'country_albania',\n",
       "                                                                'country_algeria',\n",
       "                                                                'country_andorra',\n",
       "                                                                'coun...\n",
       "                          verbose=False)),\n",
       "                ('grid_search',\n",
       "                 GridSearchCV(cv=KFold(n_splits=5, random_state=None, shuffle=True),\n",
       "                              error_score=nan,\n",
       "                              estimator=<catboost.core.CatBoostRegressor object at 0x7f1d61e4f7f0>,\n",
       "                              iid='deprecated', n_jobs=-1,\n",
       "                              param_grid={'l2_leaf_reg': [1, 3, 5, 8]},\n",
       "                              pre_dispatch='2*n_jobs', refit=True,\n",
       "                              return_train_score=True,\n",
       "                              scoring='neg_mean_absolute_error', verbose=1))],\n",
       "         verbose=False)"
      ]
     },
     "execution_count": 84,
     "metadata": {
      "tags": []
     },
     "output_type": "execute_result"
    }
   ],
   "source": [
    "record_store_catboost_grid_pipe.fit(X_tr_sample,np.log(y_tr_sample))"
   ]
  },
  {
   "cell_type": "code",
   "execution_count": 87,
   "metadata": {
    "colab": {
     "base_uri": "https://localhost:8080/",
     "height": 296
    },
    "colab_type": "code",
    "id": "9MWNatKvNkWQ",
    "outputId": "672582cf-13b4-4605-9e41-391922007cfb"
   },
   "outputs": [
    {
     "data": {
      "image/png": "[encoded data removed]",
      "text/plain": [
       "<Figure size 432x288 with 1 Axes>"
      ]
     },
     "metadata": {
      "needs_background": "light",
      "tags": []
     },
     "output_type": "display_data"
    }
   ],
   "source": [
    "record_store_catboost_plot = GridSearchPlotter(record_store_catboost_grid_pipe.steps[-1][1])\n",
    "record_store_catboost_plot.plot_validation_curve(parameter='l2_leaf_reg',ylim=(-2,1))"
   ]
  },
  {
   "cell_type": "code",
   "execution_count": 88,
   "metadata": {
    "colab": {
     "base_uri": "https://localhost:8080/",
     "height": 35
    },
    "colab_type": "code",
    "id": "D82wspKV8XCK",
    "outputId": "1a304a82-00c5-454b-f1dd-df1fb41eff29"
   },
   "outputs": [
    {
     "data": {
      "text/plain": [
       "-0.5344958049038084"
      ]
     },
     "execution_count": 88,
     "metadata": {
      "tags": []
     },
     "output_type": "execute_result"
    }
   ],
   "source": [
    "record_store_catboost_grid_pipe.steps[-1][1].best_score_"
   ]
  },
  {
   "cell_type": "code",
   "execution_count": 89,
   "metadata": {
    "colab": {
     "base_uri": "https://localhost:8080/",
     "height": 35
    },
    "colab_type": "code",
    "id": "iJHB_2xe8ZN_",
    "outputId": "944cfd3c-3328-4163-9a2e-edf6be5d7b82"
   },
   "outputs": [
    {
     "data": {
      "text/plain": [
       "{'l2_leaf_reg': 5}"
      ]
     },
     "execution_count": 89,
     "metadata": {
      "tags": []
     },
     "output_type": "execute_result"
    }
   ],
   "source": [
    "record_store_catboost_grid_pipe.steps[-1][1].best_params_"
   ]
  },
  {
   "cell_type": "code",
   "execution_count": 90,
   "metadata": {
    "colab": {
     "base_uri": "https://localhost:8080/",
     "height": 1000
    },
    "colab_type": "code",
    "id": "dU_pJkadk1kC",
    "outputId": "86c47b6a-dce0-480e-c2c0-a44d6f8c8103"
   },
   "outputs": [
    {
     "name": "stdout",
     "output_type": "stream",
     "text": [
      "0:\tlearn: 0.8683268\ttotal: 920ms\tremaining: 1m 31s\n",
      "1:\tlearn: 0.8487862\ttotal: 1.74s\tremaining: 1m 25s\n",
      "2:\tlearn: 0.8325626\ttotal: 2.56s\tremaining: 1m 22s\n",
      "3:\tlearn: 0.8188136\ttotal: 3.37s\tremaining: 1m 20s\n",
      "4:\tlearn: 0.8044752\ttotal: 4.17s\tremaining: 1m 19s\n",
      "5:\tlearn: 0.7918488\ttotal: 4.98s\tremaining: 1m 18s\n",
      "6:\tlearn: 0.7815925\ttotal: 5.78s\tremaining: 1m 16s\n",
      "7:\tlearn: 0.7726575\ttotal: 6.58s\tremaining: 1m 15s\n",
      "8:\tlearn: 0.7650130\ttotal: 7.43s\tremaining: 1m 15s\n",
      "9:\tlearn: 0.7581909\ttotal: 8.26s\tremaining: 1m 14s\n",
      "10:\tlearn: 0.7523529\ttotal: 9.09s\tremaining: 1m 13s\n",
      "11:\tlearn: 0.7439245\ttotal: 9.91s\tremaining: 1m 12s\n",
      "12:\tlearn: 0.7370510\ttotal: 10.7s\tremaining: 1m 11s\n",
      "13:\tlearn: 0.7312740\ttotal: 11.5s\tremaining: 1m 10s\n",
      "14:\tlearn: 0.7261897\ttotal: 12.3s\tremaining: 1m 9s\n",
      "15:\tlearn: 0.7217925\ttotal: 13.2s\tremaining: 1m 9s\n",
      "16:\tlearn: 0.7184554\ttotal: 14s\tremaining: 1m 8s\n",
      "17:\tlearn: 0.7154204\ttotal: 14.8s\tremaining: 1m 7s\n",
      "18:\tlearn: 0.7128159\ttotal: 15.6s\tremaining: 1m 6s\n",
      "19:\tlearn: 0.7105076\ttotal: 16.5s\tremaining: 1m 5s\n",
      "20:\tlearn: 0.7088569\ttotal: 17.3s\tremaining: 1m 5s\n",
      "21:\tlearn: 0.7071583\ttotal: 18.1s\tremaining: 1m 4s\n",
      "22:\tlearn: 0.7053255\ttotal: 18.9s\tremaining: 1m 3s\n",
      "23:\tlearn: 0.7040272\ttotal: 19.7s\tremaining: 1m 2s\n",
      "24:\tlearn: 0.7028762\ttotal: 20.5s\tremaining: 1m 1s\n",
      "25:\tlearn: 0.7018970\ttotal: 21.3s\tremaining: 1m\n",
      "26:\tlearn: 0.7009315\ttotal: 22.1s\tremaining: 59.8s\n",
      "27:\tlearn: 0.7000868\ttotal: 22.9s\tremaining: 58.9s\n",
      "28:\tlearn: 0.6984902\ttotal: 23.7s\tremaining: 58.1s\n",
      "29:\tlearn: 0.6971927\ttotal: 24.5s\tremaining: 57.2s\n",
      "30:\tlearn: 0.6961457\ttotal: 25.3s\tremaining: 56.3s\n",
      "31:\tlearn: 0.6947917\ttotal: 26.1s\tremaining: 55.5s\n",
      "32:\tlearn: 0.6938156\ttotal: 26.9s\tremaining: 54.7s\n",
      "33:\tlearn: 0.6931688\ttotal: 27.7s\tremaining: 53.8s\n",
      "34:\tlearn: 0.6926054\ttotal: 28.6s\tremaining: 53s\n",
      "35:\tlearn: 0.6921532\ttotal: 29.4s\tremaining: 52.2s\n",
      "36:\tlearn: 0.6915418\ttotal: 30.2s\tremaining: 51.3s\n",
      "37:\tlearn: 0.6909920\ttotal: 31s\tremaining: 50.5s\n",
      "38:\tlearn: 0.6903656\ttotal: 31.8s\tremaining: 49.7s\n",
      "39:\tlearn: 0.6899895\ttotal: 32.2s\tremaining: 48.3s\n",
      "40:\tlearn: 0.6896301\ttotal: 33.1s\tremaining: 47.6s\n",
      "41:\tlearn: 0.6891648\ttotal: 33.9s\tremaining: 46.9s\n",
      "42:\tlearn: 0.6888205\ttotal: 34.8s\tremaining: 46.1s\n",
      "43:\tlearn: 0.6883862\ttotal: 35.7s\tremaining: 45.4s\n",
      "44:\tlearn: 0.6880280\ttotal: 36.5s\tremaining: 44.7s\n",
      "45:\tlearn: 0.6879973\ttotal: 36.8s\tremaining: 43.2s\n",
      "46:\tlearn: 0.6874038\ttotal: 37.6s\tremaining: 42.4s\n",
      "47:\tlearn: 0.6870894\ttotal: 38.4s\tremaining: 41.6s\n",
      "48:\tlearn: 0.6866106\ttotal: 39.3s\tremaining: 40.9s\n",
      "49:\tlearn: 0.6863396\ttotal: 40.2s\tremaining: 40.2s\n",
      "50:\tlearn: 0.6863037\ttotal: 41s\tremaining: 39.4s\n",
      "51:\tlearn: 0.6860372\ttotal: 41.9s\tremaining: 38.6s\n",
      "52:\tlearn: 0.6857431\ttotal: 42.8s\tremaining: 37.9s\n",
      "53:\tlearn: 0.6856370\ttotal: 43.7s\tremaining: 37.2s\n",
      "54:\tlearn: 0.6855385\ttotal: 44.6s\tremaining: 36.5s\n",
      "55:\tlearn: 0.6855178\ttotal: 45.5s\tremaining: 35.7s\n",
      "56:\tlearn: 0.6853743\ttotal: 46.4s\tremaining: 35s\n",
      "57:\tlearn: 0.6853719\ttotal: 46.5s\tremaining: 33.7s\n",
      "58:\tlearn: 0.6849244\ttotal: 47.4s\tremaining: 32.9s\n",
      "59:\tlearn: 0.6849186\ttotal: 48.3s\tremaining: 32.2s\n",
      "60:\tlearn: 0.6848945\ttotal: 49.2s\tremaining: 31.4s\n",
      "61:\tlearn: 0.6848925\ttotal: 49.3s\tremaining: 30.2s\n",
      "62:\tlearn: 0.6848920\ttotal: 49.6s\tremaining: 29.1s\n",
      "63:\tlearn: 0.6848917\ttotal: 49.8s\tremaining: 28s\n",
      "64:\tlearn: 0.6847910\ttotal: 50.7s\tremaining: 27.3s\n",
      "65:\tlearn: 0.6847897\ttotal: 51.1s\tremaining: 26.3s\n",
      "66:\tlearn: 0.6847897\ttotal: 51.1s\tremaining: 25.2s\n",
      "67:\tlearn: 0.6847729\ttotal: 52.1s\tremaining: 24.5s\n",
      "68:\tlearn: 0.6847719\ttotal: 52.3s\tremaining: 23.5s\n",
      "69:\tlearn: 0.6846858\ttotal: 53.2s\tremaining: 22.8s\n",
      "70:\tlearn: 0.6846825\ttotal: 53.7s\tremaining: 21.9s\n",
      "71:\tlearn: 0.6846825\ttotal: 53.8s\tremaining: 20.9s\n",
      "72:\tlearn: 0.6846819\ttotal: 54.2s\tremaining: 20s\n",
      "73:\tlearn: 0.6846282\ttotal: 55s\tremaining: 19.3s\n",
      "74:\tlearn: 0.6846136\ttotal: 56s\tremaining: 18.7s\n",
      "75:\tlearn: 0.6846128\ttotal: 56.6s\tremaining: 17.9s\n",
      "76:\tlearn: 0.6846115\ttotal: 56.9s\tremaining: 17s\n",
      "77:\tlearn: 0.6846098\ttotal: 57.2s\tremaining: 16.1s\n",
      "78:\tlearn: 0.6844627\ttotal: 58.1s\tremaining: 15.5s\n",
      "79:\tlearn: 0.6844563\ttotal: 58.4s\tremaining: 14.6s\n",
      "80:\tlearn: 0.6844553\ttotal: 58.6s\tremaining: 13.7s\n",
      "81:\tlearn: 0.6844551\ttotal: 58.8s\tremaining: 12.9s\n",
      "82:\tlearn: 0.6844495\ttotal: 59.7s\tremaining: 12.2s\n",
      "83:\tlearn: 0.6844457\ttotal: 1m\tremaining: 11.4s\n",
      "84:\tlearn: 0.6844453\ttotal: 1m\tremaining: 10.6s\n",
      "85:\tlearn: 0.6844453\ttotal: 1m\tremaining: 9.81s\n",
      "86:\tlearn: 0.6844386\ttotal: 1m\tremaining: 9.04s\n",
      "87:\tlearn: 0.6844355\ttotal: 1m\tremaining: 8.29s\n",
      "88:\tlearn: 0.6843633\ttotal: 1m 1s\tremaining: 7.62s\n",
      "89:\tlearn: 0.6843046\ttotal: 1m 2s\tremaining: 6.95s\n",
      "90:\tlearn: 0.6841399\ttotal: 1m 3s\tremaining: 6.27s\n",
      "91:\tlearn: 0.6840450\ttotal: 1m 4s\tremaining: 5.59s\n",
      "92:\tlearn: 0.6840412\ttotal: 1m 4s\tremaining: 4.86s\n",
      "93:\tlearn: 0.6840412\ttotal: 1m 4s\tremaining: 4.13s\n",
      "94:\tlearn: 0.6839104\ttotal: 1m 5s\tremaining: 3.45s\n",
      "95:\tlearn: 0.6839104\ttotal: 1m 5s\tremaining: 2.73s\n",
      "96:\tlearn: 0.6839101\ttotal: 1m 5s\tremaining: 2.04s\n",
      "97:\tlearn: 0.6839101\ttotal: 1m 5s\tremaining: 1.35s\n",
      "98:\tlearn: 0.6839057\ttotal: 1m 6s\tremaining: 669ms\n",
      "99:\tlearn: 0.6839032\ttotal: 1m 6s\tremaining: 0us\n"
     ]
    },
    {
     "data": {
      "text/plain": [
       "Pipeline(memory=None,\n",
       "         steps=[('processing',\n",
       "                 Pipeline(memory=None,\n",
       "                          steps=[('running_time_imputer',\n",
       "                                  RunningTimeImputer(number_of_tracks='number_of_tracks',\n",
       "                                                     running_time='running_time')),\n",
       "                                 ('record_store_column_remover',\n",
       "                                  ColumnRemover(cols_to_remove={'average_rating',\n",
       "                                                                'community_have',\n",
       "                                                                'community_want',\n",
       "                                                                'country_albania',\n",
       "                                                                'country_algeria',\n",
       "                                                                'country_andorra',\n",
       "                                                                'coun...\n",
       "                                                                'country_belize',\n",
       "                                                                'country_bermuda',\n",
       "                                                                'country_bolivia '\n",
       "                                                                '(plurinational '\n",
       "                                                                'state of)',\n",
       "                                                                'country_bosnia '\n",
       "                                                                'and '\n",
       "                                                                'herzegovina',\n",
       "                                                                'country_brazil',\n",
       "                                                                'country_bulgaria',\n",
       "                                                                'country_cabo '\n",
       "                                                                'verde',\n",
       "                                                                'country_cambodia',\n",
       "                                                                'country_cameroon',\n",
       "                                                                'country_canada',\n",
       "                                                                'country_chile', ...}))],\n",
       "                          verbose=False)),\n",
       "                ('catboost',\n",
       "                 <catboost.core.CatBoostRegressor object at 0x7f1d61e4f7f0>)],\n",
       "         verbose=False)"
      ]
     },
     "execution_count": 90,
     "metadata": {
      "tags": []
     },
     "output_type": "execute_result"
    }
   ],
   "source": [
    "record_store_catboost_pipe.fit(X_tr,np.log(y_tr))"
   ]
  },
  {
   "cell_type": "code",
   "execution_count": null,
   "metadata": {
    "colab": {},
    "colab_type": "code",
    "id": "QtP6T-Ir8asx"
   },
   "outputs": [],
   "source": [
    "record_store_catboost_te_pred = record_store_catboost_pipe.predict(X_te)"
   ]
  },
  {
   "cell_type": "code",
   "execution_count": 92,
   "metadata": {
    "colab": {
     "base_uri": "https://localhost:8080/",
     "height": 35
    },
    "colab_type": "code",
    "id": "Ot0BfPu28as0",
    "outputId": "37cb0eaf-6718-47eb-c3a6-f21bb1956ecc"
   },
   "outputs": [
    {
     "data": {
      "text/plain": [
       "0.21872335319058356"
      ]
     },
     "execution_count": 92,
     "metadata": {
      "tags": []
     },
     "output_type": "execute_result"
    }
   ],
   "source": [
    "r2_score(y_te,np.exp(record_store_catboost_te_pred))"
   ]
  },
  {
   "cell_type": "code",
   "execution_count": 93,
   "metadata": {
    "colab": {
     "base_uri": "https://localhost:8080/",
     "height": 35
    },
    "colab_type": "code",
    "id": "2BLq7nQR42RA",
    "outputId": "7b61d41c-8505-47b4-a270-13c5c82a3ef5"
   },
   "outputs": [
    {
     "data": {
      "text/plain": [
       "8.131653648545857"
      ]
     },
     "execution_count": 93,
     "metadata": {
      "tags": []
     },
     "output_type": "execute_result"
    }
   ],
   "source": [
    "mean_absolute_error(y_te,np.exp(record_store_catboost_te_pred))"
   ]
  },
  {
   "cell_type": "markdown",
   "metadata": {
    "colab_type": "text",
    "id": "1N-puXCSk1kP"
   },
   "source": [
    "## CatBoost - Full Information"
   ]
  },
  {
   "cell_type": "code",
   "execution_count": null,
   "metadata": {
    "colab": {},
    "colab_type": "code",
    "id": "tIZEJfS6k1kQ"
   },
   "outputs": [],
   "source": [
    "full_information_catboost_removal_columns = record_store_catboost_removal_columns - full_information_columns"
   ]
  },
  {
   "cell_type": "code",
   "execution_count": null,
   "metadata": {
    "colab": {},
    "colab_type": "code",
    "id": "uOt1Def_k1kS"
   },
   "outputs": [],
   "source": [
    "full_information_catboost_processing_pipe = Pipeline([\n",
    "    ('running_time_imputer',RunningTimeImputer('running_time','number_of_tracks')),\n",
    "    ('record_store_column_remover', ColumnRemover(full_information_catboost_removal_columns)),\n",
    "])\n",
    "\n",
    "full_information_catboost_grid_pipe = Pipeline([\n",
    "    ('processing', full_information_catboost_processing_pipe),\n",
    "    ('grid_search', GridSearchCV(\n",
    "        catboost,\n",
    "        param_grid={            \n",
    "            #'learning_rate': np.logspace(-3,1,5),\n",
    "            #'border_count': np.linspace(1,200,5),\n",
    "            'l2_leaf_reg': [1,3,5,8],\n",
    "        },\n",
    "        n_jobs=3,\n",
    "        cv=KFold(n_splits=5,shuffle=True),\n",
    "        scoring='neg_mean_absolute_error',\n",
    "        verbose=50,\n",
    "        return_train_score=True)\n",
    "    )\n",
    "])\n",
    "\n",
    "full_information_catboost_pipe = Pipeline([\n",
    "    ('processing', full_information_catboost_processing_pipe),\n",
    "    ('catboost',catboost)\n",
    "])"
   ]
  },
  {
   "cell_type": "code",
   "execution_count": 96,
   "metadata": {
    "colab": {
     "base_uri": "https://localhost:8080/",
     "height": 1000
    },
    "colab_type": "code",
    "id": "YveUFwIJk1kU",
    "outputId": "8721d749-711f-4a4b-8d10-e0fdd6a6afc9"
   },
   "outputs": [
    {
     "name": "stdout",
     "output_type": "stream",
     "text": [
      "Fitting 5 folds for each of 4 candidates, totalling 20 fits\n",
      "[Parallel(n_jobs=3)]: Using backend LokyBackend with 3 concurrent workers.\n",
      "[Parallel(n_jobs=3)]: Done   1 tasks      | elapsed:   56.9s\n"
     ]
    },
    {
     "name": "stderr",
     "output_type": "stream",
     "text": [
      "/usr/local/lib/python3.6/dist-packages/joblib/externals/loky/process_executor.py:706: UserWarning: A worker stopped while some jobs were given to the executor. This can be caused by a too short worker timeout or by a memory leak.\n",
      "  \"timeout or by a memory leak.\", UserWarning\n"
     ]
    },
    {
     "name": "stdout",
     "output_type": "stream",
     "text": [
      "[Parallel(n_jobs=3)]: Done   2 tasks      | elapsed:   58.1s\n",
      "[Parallel(n_jobs=3)]: Done   3 tasks      | elapsed:   60.0s\n",
      "[Parallel(n_jobs=3)]: Done   4 tasks      | elapsed:  2.1min\n",
      "[Parallel(n_jobs=3)]: Done   5 tasks      | elapsed:  2.1min\n",
      "[Parallel(n_jobs=3)]: Done   6 tasks      | elapsed:  2.2min\n",
      "[Parallel(n_jobs=3)]: Done   7 tasks      | elapsed:  3.2min\n",
      "[Parallel(n_jobs=3)]: Done   8 tasks      | elapsed:  3.2min\n",
      "[Parallel(n_jobs=3)]: Done   9 tasks      | elapsed:  3.3min\n",
      "[Parallel(n_jobs=3)]: Done  10 tasks      | elapsed:  4.4min\n",
      "[Parallel(n_jobs=3)]: Done  11 tasks      | elapsed:  4.4min\n",
      "[Parallel(n_jobs=3)]: Done  12 tasks      | elapsed:  4.4min\n",
      "[Parallel(n_jobs=3)]: Done  13 tasks      | elapsed:  5.5min\n",
      "[Parallel(n_jobs=3)]: Done  14 tasks      | elapsed:  5.5min\n",
      "[Parallel(n_jobs=3)]: Done  15 tasks      | elapsed:  5.6min\n",
      "[Parallel(n_jobs=3)]: Done  16 out of  20 | elapsed:  6.7min remaining:  1.7min\n",
      "[Parallel(n_jobs=3)]: Done  17 out of  20 | elapsed:  6.7min remaining:  1.2min\n",
      "[Parallel(n_jobs=3)]: Done  18 out of  20 | elapsed:  6.9min remaining:   45.7s\n",
      "[Parallel(n_jobs=3)]: Done  20 out of  20 | elapsed:  7.6min remaining:    0.0s\n",
      "[Parallel(n_jobs=3)]: Done  20 out of  20 | elapsed:  7.6min finished\n",
      "0:\tlearn: 0.8566790\ttotal: 361ms\tremaining: 35.8s\n",
      "1:\tlearn: 0.8318947\ttotal: 664ms\tremaining: 32.5s\n",
      "2:\tlearn: 0.8091827\ttotal: 964ms\tremaining: 31.2s\n",
      "3:\tlearn: 0.7897538\ttotal: 1.26s\tremaining: 30.3s\n",
      "4:\tlearn: 0.7726634\ttotal: 1.56s\tremaining: 29.6s\n",
      "5:\tlearn: 0.7570406\ttotal: 1.87s\tremaining: 29.3s\n",
      "6:\tlearn: 0.7456172\ttotal: 2.16s\tremaining: 28.7s\n",
      "7:\tlearn: 0.7349066\ttotal: 2.46s\tremaining: 28.3s\n",
      "8:\tlearn: 0.7249882\ttotal: 2.76s\tremaining: 27.9s\n",
      "9:\tlearn: 0.7159071\ttotal: 3.05s\tremaining: 27.5s\n",
      "10:\tlearn: 0.7091171\ttotal: 3.34s\tremaining: 27s\n",
      "11:\tlearn: 0.7026908\ttotal: 3.64s\tremaining: 26.7s\n",
      "12:\tlearn: 0.6969618\ttotal: 3.95s\tremaining: 26.4s\n",
      "13:\tlearn: 0.6915055\ttotal: 4.23s\tremaining: 26s\n",
      "14:\tlearn: 0.6877177\ttotal: 4.32s\tremaining: 24.5s\n",
      "15:\tlearn: 0.6821617\ttotal: 4.62s\tremaining: 24.3s\n",
      "16:\tlearn: 0.6779961\ttotal: 4.92s\tremaining: 24s\n",
      "17:\tlearn: 0.6736391\ttotal: 5.21s\tremaining: 23.7s\n",
      "18:\tlearn: 0.6697189\ttotal: 5.51s\tremaining: 23.5s\n",
      "19:\tlearn: 0.6673305\ttotal: 5.56s\tremaining: 22.3s\n",
      "20:\tlearn: 0.6645570\ttotal: 5.86s\tremaining: 22s\n",
      "21:\tlearn: 0.6614818\ttotal: 6.15s\tremaining: 21.8s\n",
      "22:\tlearn: 0.6592879\ttotal: 6.45s\tremaining: 21.6s\n",
      "23:\tlearn: 0.6568916\ttotal: 6.75s\tremaining: 21.4s\n",
      "24:\tlearn: 0.6544825\ttotal: 7.04s\tremaining: 21.1s\n",
      "25:\tlearn: 0.6527770\ttotal: 7.33s\tremaining: 20.9s\n",
      "26:\tlearn: 0.6512621\ttotal: 7.63s\tremaining: 20.6s\n",
      "27:\tlearn: 0.6493469\ttotal: 7.93s\tremaining: 20.4s\n",
      "28:\tlearn: 0.6475091\ttotal: 8.22s\tremaining: 20.1s\n",
      "29:\tlearn: 0.6460370\ttotal: 8.51s\tremaining: 19.9s\n",
      "30:\tlearn: 0.6444063\ttotal: 8.66s\tremaining: 19.3s\n",
      "31:\tlearn: 0.6428780\ttotal: 8.96s\tremaining: 19s\n",
      "32:\tlearn: 0.6414250\ttotal: 9.25s\tremaining: 18.8s\n",
      "33:\tlearn: 0.6403516\ttotal: 9.34s\tremaining: 18.1s\n",
      "34:\tlearn: 0.6392397\ttotal: 9.63s\tremaining: 17.9s\n",
      "35:\tlearn: 0.6381168\ttotal: 9.91s\tremaining: 17.6s\n",
      "36:\tlearn: 0.6370356\ttotal: 10.2s\tremaining: 17.4s\n",
      "37:\tlearn: 0.6360190\ttotal: 10.5s\tremaining: 17.1s\n",
      "38:\tlearn: 0.6349289\ttotal: 10.7s\tremaining: 16.7s\n",
      "39:\tlearn: 0.6336903\ttotal: 11s\tremaining: 16.4s\n",
      "40:\tlearn: 0.6329492\ttotal: 11.2s\tremaining: 16.2s\n",
      "41:\tlearn: 0.6325383\ttotal: 11.5s\tremaining: 15.9s\n",
      "42:\tlearn: 0.6315708\ttotal: 11.8s\tremaining: 15.7s\n",
      "43:\tlearn: 0.6305194\ttotal: 12.1s\tremaining: 15.5s\n",
      "44:\tlearn: 0.6296691\ttotal: 12.3s\tremaining: 15s\n",
      "45:\tlearn: 0.6290984\ttotal: 12.6s\tremaining: 14.8s\n",
      "46:\tlearn: 0.6284233\ttotal: 12.9s\tremaining: 14.6s\n",
      "47:\tlearn: 0.6279608\ttotal: 13.2s\tremaining: 14.3s\n",
      "48:\tlearn: 0.6274180\ttotal: 13.5s\tremaining: 14s\n",
      "49:\tlearn: 0.6264354\ttotal: 13.8s\tremaining: 13.8s\n",
      "50:\tlearn: 0.6257488\ttotal: 14.1s\tremaining: 13.5s\n",
      "51:\tlearn: 0.6253456\ttotal: 14.4s\tremaining: 13.3s\n",
      "52:\tlearn: 0.6248763\ttotal: 14.7s\tremaining: 13s\n",
      "53:\tlearn: 0.6240818\ttotal: 15s\tremaining: 12.8s\n",
      "54:\tlearn: 0.6236547\ttotal: 15.3s\tremaining: 12.5s\n",
      "55:\tlearn: 0.6233330\ttotal: 15.4s\tremaining: 12.1s\n",
      "56:\tlearn: 0.6229120\ttotal: 15.7s\tremaining: 11.9s\n",
      "57:\tlearn: 0.6228023\ttotal: 15.7s\tremaining: 11.4s\n",
      "58:\tlearn: 0.6225494\ttotal: 16s\tremaining: 11.1s\n",
      "59:\tlearn: 0.6221358\ttotal: 16.3s\tremaining: 10.9s\n",
      "60:\tlearn: 0.6214778\ttotal: 16.6s\tremaining: 10.6s\n",
      "61:\tlearn: 0.6208511\ttotal: 16.9s\tremaining: 10.4s\n",
      "62:\tlearn: 0.6203791\ttotal: 17.2s\tremaining: 10.1s\n",
      "63:\tlearn: 0.6198493\ttotal: 17.5s\tremaining: 9.86s\n",
      "64:\tlearn: 0.6197892\ttotal: 17.6s\tremaining: 9.45s\n",
      "65:\tlearn: 0.6191572\ttotal: 17.8s\tremaining: 9.19s\n",
      "66:\tlearn: 0.6182534\ttotal: 18.1s\tremaining: 8.94s\n",
      "67:\tlearn: 0.6178275\ttotal: 18.4s\tremaining: 8.68s\n",
      "68:\tlearn: 0.6176361\ttotal: 18.7s\tremaining: 8.42s\n",
      "69:\tlearn: 0.6174745\ttotal: 19s\tremaining: 8.16s\n",
      "70:\tlearn: 0.6171245\ttotal: 19.3s\tremaining: 7.9s\n",
      "71:\tlearn: 0.6167770\ttotal: 19.6s\tremaining: 7.64s\n",
      "72:\tlearn: 0.6163585\ttotal: 19.9s\tremaining: 7.37s\n",
      "73:\tlearn: 0.6163459\ttotal: 20s\tremaining: 7.01s\n",
      "74:\tlearn: 0.6162017\ttotal: 20.3s\tremaining: 6.75s\n",
      "75:\tlearn: 0.6154719\ttotal: 20.6s\tremaining: 6.49s\n",
      "76:\tlearn: 0.6151187\ttotal: 20.6s\tremaining: 6.16s\n",
      "77:\tlearn: 0.6150577\ttotal: 20.6s\tremaining: 5.82s\n",
      "78:\tlearn: 0.6148475\ttotal: 20.9s\tremaining: 5.56s\n",
      "79:\tlearn: 0.6144803\ttotal: 21.2s\tremaining: 5.3s\n",
      "80:\tlearn: 0.6139291\ttotal: 21.5s\tremaining: 5.04s\n",
      "81:\tlearn: 0.6138773\ttotal: 21.8s\tremaining: 4.79s\n",
      "82:\tlearn: 0.6134307\ttotal: 22.1s\tremaining: 4.52s\n",
      "83:\tlearn: 0.6132526\ttotal: 22.4s\tremaining: 4.26s\n",
      "84:\tlearn: 0.6130668\ttotal: 22.7s\tremaining: 4s\n",
      "85:\tlearn: 0.6130668\ttotal: 22.7s\tremaining: 3.69s\n",
      "86:\tlearn: 0.6129301\ttotal: 23s\tremaining: 3.43s\n",
      "87:\tlearn: 0.6121744\ttotal: 23.3s\tremaining: 3.17s\n",
      "88:\tlearn: 0.6115746\ttotal: 23.6s\tremaining: 2.92s\n",
      "89:\tlearn: 0.6107682\ttotal: 23.9s\tremaining: 2.65s\n",
      "90:\tlearn: 0.6103538\ttotal: 24.2s\tremaining: 2.39s\n",
      "91:\tlearn: 0.6102285\ttotal: 24.2s\tremaining: 2.1s\n",
      "92:\tlearn: 0.6101925\ttotal: 24.2s\tremaining: 1.82s\n",
      "93:\tlearn: 0.6095486\ttotal: 24.5s\tremaining: 1.56s\n",
      "94:\tlearn: 0.6092428\ttotal: 24.8s\tremaining: 1.31s\n",
      "95:\tlearn: 0.6088639\ttotal: 25.1s\tremaining: 1.05s\n",
      "96:\tlearn: 0.6083453\ttotal: 25.4s\tremaining: 786ms\n",
      "97:\tlearn: 0.6083443\ttotal: 25.4s\tremaining: 519ms\n",
      "98:\tlearn: 0.6078459\ttotal: 25.7s\tremaining: 260ms\n",
      "99:\tlearn: 0.6071360\ttotal: 26s\tremaining: 0us\n"
     ]
    },
    {
     "data": {
      "text/plain": [
       "Pipeline(memory=None,\n",
       "         steps=[('processing',\n",
       "                 Pipeline(memory=None,\n",
       "                          steps=[('running_time_imputer',\n",
       "                                  RunningTimeImputer(number_of_tracks='number_of_tracks',\n",
       "                                                     running_time='running_time')),\n",
       "                                 ('record_store_column_remover',\n",
       "                                  ColumnRemover(cols_to_remove={'country_albania',\n",
       "                                                                'country_algeria',\n",
       "                                                                'country_andorra',\n",
       "                                                                'country_angola',\n",
       "                                                                'country_argentina',\n",
       "                                                                'country_armenia',\n",
       "                                                                '...\n",
       "                          verbose=False)),\n",
       "                ('grid_search',\n",
       "                 GridSearchCV(cv=KFold(n_splits=5, random_state=None, shuffle=True),\n",
       "                              error_score=nan,\n",
       "                              estimator=<catboost.core.CatBoostRegressor object at 0x7f1d61e4f7f0>,\n",
       "                              iid='deprecated', n_jobs=3,\n",
       "                              param_grid={'l2_leaf_reg': [1, 3, 5, 8]},\n",
       "                              pre_dispatch='2*n_jobs', refit=True,\n",
       "                              return_train_score=True,\n",
       "                              scoring='neg_mean_absolute_error', verbose=50))],\n",
       "         verbose=False)"
      ]
     },
     "execution_count": 96,
     "metadata": {
      "tags": []
     },
     "output_type": "execute_result"
    }
   ],
   "source": [
    "full_information_catboost_grid_pipe.fit(X_tr_sample,np.log(y_tr_sample).values)"
   ]
  },
  {
   "cell_type": "code",
   "execution_count": 97,
   "metadata": {
    "colab": {
     "base_uri": "https://localhost:8080/",
     "height": 296
    },
    "colab_type": "code",
    "id": "sDzqUDs6k1kW",
    "outputId": "c32e2f86-546b-400e-8daf-e2e153dbf849"
   },
   "outputs": [
    {
     "data": {
      "image/png": "[encoded data removed]",
      "text/plain": [
       "<Figure size 432x288 with 1 Axes>"
      ]
     },
     "metadata": {
      "needs_background": "light",
      "tags": []
     },
     "output_type": "display_data"
    }
   ],
   "source": [
    "full_information_catboost_plot = GridSearchPlotter(full_information_catboost_grid_pipe.steps[-1][1])\n",
    "full_information_catboost_plot.plot_validation_curve(parameter='l2_leaf_reg',ylim=(-1,0))"
   ]
  },
  {
   "cell_type": "code",
   "execution_count": 98,
   "metadata": {
    "colab": {
     "base_uri": "https://localhost:8080/",
     "height": 35
    },
    "colab_type": "code",
    "id": "rYzXoV8jk1kY",
    "outputId": "e1091b1f-78aa-4f63-80c4-9f53c4901fb1"
   },
   "outputs": [
    {
     "data": {
      "text/plain": [
       "-0.4726532803660488"
      ]
     },
     "execution_count": 98,
     "metadata": {
      "tags": []
     },
     "output_type": "execute_result"
    }
   ],
   "source": [
    "full_information_catboost_grid_pipe.steps[-1][1].best_score_"
   ]
  },
  {
   "cell_type": "code",
   "execution_count": 99,
   "metadata": {
    "colab": {
     "base_uri": "https://localhost:8080/",
     "height": 35
    },
    "colab_type": "code",
    "id": "9DoQX1JHk1ka",
    "outputId": "51924732-256d-4a39-99d3-db2914a43750"
   },
   "outputs": [
    {
     "data": {
      "text/plain": [
       "{'l2_leaf_reg': 8}"
      ]
     },
     "execution_count": 99,
     "metadata": {
      "tags": []
     },
     "output_type": "execute_result"
    }
   ],
   "source": [
    "full_information_catboost_grid_pipe.steps[-1][1].best_params_"
   ]
  },
  {
   "cell_type": "code",
   "execution_count": 100,
   "metadata": {
    "colab": {
     "base_uri": "https://localhost:8080/",
     "height": 1000
    },
    "colab_type": "code",
    "id": "jo9HfiwMk1kd",
    "outputId": "e2fc3082-b67f-4350-8d33-4a0121bd3904"
   },
   "outputs": [
    {
     "name": "stdout",
     "output_type": "stream",
     "text": [
      "0:\tlearn: 0.8567151\ttotal: 910ms\tremaining: 1m 30s\n",
      "1:\tlearn: 0.8272267\ttotal: 1.78s\tremaining: 1m 27s\n",
      "2:\tlearn: 0.8014225\ttotal: 2.64s\tremaining: 1m 25s\n",
      "3:\tlearn: 0.7795100\ttotal: 3.48s\tremaining: 1m 23s\n",
      "4:\tlearn: 0.7610550\ttotal: 4.33s\tremaining: 1m 22s\n",
      "5:\tlearn: 0.7452602\ttotal: 5.17s\tremaining: 1m 20s\n",
      "6:\tlearn: 0.7318303\ttotal: 6.02s\tremaining: 1m 20s\n",
      "7:\tlearn: 0.7197181\ttotal: 6.89s\tremaining: 1m 19s\n",
      "8:\tlearn: 0.7083631\ttotal: 7.72s\tremaining: 1m 18s\n",
      "9:\tlearn: 0.6978462\ttotal: 8.57s\tremaining: 1m 17s\n",
      "10:\tlearn: 0.6892118\ttotal: 9.41s\tremaining: 1m 16s\n",
      "11:\tlearn: 0.6818231\ttotal: 10.3s\tremaining: 1m 15s\n",
      "12:\tlearn: 0.6752963\ttotal: 11.1s\tremaining: 1m 14s\n",
      "13:\tlearn: 0.6697786\ttotal: 12s\tremaining: 1m 13s\n",
      "14:\tlearn: 0.6650329\ttotal: 12.8s\tremaining: 1m 12s\n",
      "15:\tlearn: 0.6602509\ttotal: 13.7s\tremaining: 1m 11s\n",
      "16:\tlearn: 0.6554982\ttotal: 14.5s\tremaining: 1m 10s\n",
      "17:\tlearn: 0.6510705\ttotal: 15.3s\tremaining: 1m 9s\n",
      "18:\tlearn: 0.6473560\ttotal: 16.2s\tremaining: 1m 8s\n",
      "19:\tlearn: 0.6440682\ttotal: 17s\tremaining: 1m 7s\n",
      "20:\tlearn: 0.6409103\ttotal: 17.8s\tremaining: 1m 7s\n",
      "21:\tlearn: 0.6384593\ttotal: 18.6s\tremaining: 1m 6s\n",
      "22:\tlearn: 0.6363190\ttotal: 19.5s\tremaining: 1m 5s\n",
      "23:\tlearn: 0.6337316\ttotal: 20.3s\tremaining: 1m 4s\n",
      "24:\tlearn: 0.6314590\ttotal: 21.2s\tremaining: 1m 3s\n",
      "25:\tlearn: 0.6295270\ttotal: 22s\tremaining: 1m 2s\n",
      "26:\tlearn: 0.6279726\ttotal: 22.9s\tremaining: 1m 1s\n",
      "27:\tlearn: 0.6264246\ttotal: 23.7s\tremaining: 1m\n",
      "28:\tlearn: 0.6253066\ttotal: 24.6s\tremaining: 1m\n",
      "29:\tlearn: 0.6241097\ttotal: 25.4s\tremaining: 59.3s\n",
      "30:\tlearn: 0.6230436\ttotal: 26.3s\tremaining: 58.5s\n",
      "31:\tlearn: 0.6217708\ttotal: 27.1s\tremaining: 57.7s\n",
      "32:\tlearn: 0.6204560\ttotal: 28s\tremaining: 56.8s\n",
      "33:\tlearn: 0.6190803\ttotal: 28.8s\tremaining: 56s\n",
      "34:\tlearn: 0.6180800\ttotal: 29.7s\tremaining: 55.2s\n",
      "35:\tlearn: 0.6169378\ttotal: 30.5s\tremaining: 54.3s\n",
      "36:\tlearn: 0.6158361\ttotal: 31.4s\tremaining: 53.5s\n",
      "37:\tlearn: 0.6149583\ttotal: 32.2s\tremaining: 52.6s\n",
      "38:\tlearn: 0.6143721\ttotal: 33.1s\tremaining: 51.8s\n",
      "39:\tlearn: 0.6132757\ttotal: 33.9s\tremaining: 50.9s\n",
      "40:\tlearn: 0.6126317\ttotal: 34.8s\tremaining: 50.1s\n",
      "41:\tlearn: 0.6118955\ttotal: 35.6s\tremaining: 49.2s\n",
      "42:\tlearn: 0.6118955\ttotal: 35.8s\tremaining: 47.4s\n",
      "43:\tlearn: 0.6118943\ttotal: 36.1s\tremaining: 45.9s\n",
      "44:\tlearn: 0.6115377\ttotal: 37s\tremaining: 45.2s\n",
      "45:\tlearn: 0.6110619\ttotal: 37.8s\tremaining: 44.4s\n",
      "46:\tlearn: 0.6110618\ttotal: 38s\tremaining: 42.9s\n",
      "47:\tlearn: 0.6105086\ttotal: 38.9s\tremaining: 42.1s\n",
      "48:\tlearn: 0.6102256\ttotal: 39.8s\tremaining: 41.4s\n",
      "49:\tlearn: 0.6102255\ttotal: 39.8s\tremaining: 39.8s\n",
      "50:\tlearn: 0.6102252\ttotal: 40s\tremaining: 38.4s\n",
      "51:\tlearn: 0.6096952\ttotal: 40.9s\tremaining: 37.7s\n",
      "52:\tlearn: 0.6096950\ttotal: 41s\tremaining: 36.4s\n",
      "53:\tlearn: 0.6094364\ttotal: 41.9s\tremaining: 35.7s\n",
      "54:\tlearn: 0.6088293\ttotal: 42.8s\tremaining: 35s\n",
      "55:\tlearn: 0.6088293\ttotal: 42.9s\tremaining: 33.7s\n",
      "56:\tlearn: 0.6085593\ttotal: 43.8s\tremaining: 33s\n",
      "57:\tlearn: 0.6085588\ttotal: 44s\tremaining: 31.8s\n",
      "58:\tlearn: 0.6081096\ttotal: 44.8s\tremaining: 31.1s\n",
      "59:\tlearn: 0.6081085\ttotal: 45.5s\tremaining: 30.3s\n",
      "60:\tlearn: 0.6081084\ttotal: 45.7s\tremaining: 29.2s\n",
      "61:\tlearn: 0.6081084\ttotal: 45.7s\tremaining: 28s\n",
      "62:\tlearn: 0.6081084\ttotal: 45.9s\tremaining: 26.9s\n",
      "63:\tlearn: 0.6079742\ttotal: 46.7s\tremaining: 26.3s\n",
      "64:\tlearn: 0.6079688\ttotal: 47.4s\tremaining: 25.5s\n",
      "65:\tlearn: 0.6075091\ttotal: 48.3s\tremaining: 24.9s\n",
      "66:\tlearn: 0.6075085\ttotal: 48.4s\tremaining: 23.9s\n",
      "67:\tlearn: 0.6074916\ttotal: 49.4s\tremaining: 23.2s\n",
      "68:\tlearn: 0.6074910\ttotal: 49.6s\tremaining: 22.3s\n",
      "69:\tlearn: 0.6074902\ttotal: 49.8s\tremaining: 21.3s\n",
      "70:\tlearn: 0.6074873\ttotal: 50.7s\tremaining: 20.7s\n",
      "71:\tlearn: 0.6074762\ttotal: 51s\tremaining: 19.8s\n",
      "72:\tlearn: 0.6074758\ttotal: 51.6s\tremaining: 19.1s\n",
      "73:\tlearn: 0.6070692\ttotal: 52.5s\tremaining: 18.5s\n",
      "74:\tlearn: 0.6070692\ttotal: 52.7s\tremaining: 17.6s\n",
      "75:\tlearn: 0.6068431\ttotal: 53.6s\tremaining: 16.9s\n",
      "76:\tlearn: 0.6068428\ttotal: 53.8s\tremaining: 16.1s\n",
      "77:\tlearn: 0.6068425\ttotal: 54.5s\tremaining: 15.4s\n",
      "78:\tlearn: 0.6067086\ttotal: 55.4s\tremaining: 14.7s\n",
      "79:\tlearn: 0.6067086\ttotal: 55.5s\tremaining: 13.9s\n",
      "80:\tlearn: 0.6067086\ttotal: 55.5s\tremaining: 13s\n",
      "81:\tlearn: 0.6067086\ttotal: 55.7s\tremaining: 12.2s\n",
      "82:\tlearn: 0.6067058\ttotal: 56.4s\tremaining: 11.6s\n",
      "83:\tlearn: 0.6066952\ttotal: 57.4s\tremaining: 10.9s\n",
      "84:\tlearn: 0.6066904\ttotal: 57.9s\tremaining: 10.2s\n",
      "85:\tlearn: 0.6066904\ttotal: 58s\tremaining: 9.44s\n",
      "86:\tlearn: 0.6066855\ttotal: 58.4s\tremaining: 8.72s\n",
      "87:\tlearn: 0.6066818\ttotal: 58.9s\tremaining: 8.03s\n",
      "88:\tlearn: 0.6066815\ttotal: 59s\tremaining: 7.29s\n",
      "89:\tlearn: 0.6066804\ttotal: 59.1s\tremaining: 6.57s\n",
      "90:\tlearn: 0.6066790\ttotal: 1m\tremaining: 5.94s\n",
      "91:\tlearn: 0.6066787\ttotal: 1m\tremaining: 5.24s\n",
      "92:\tlearn: 0.6066764\ttotal: 1m\tremaining: 4.57s\n",
      "93:\tlearn: 0.6066759\ttotal: 1m 1s\tremaining: 3.9s\n",
      "94:\tlearn: 0.6066759\ttotal: 1m 1s\tremaining: 3.22s\n",
      "95:\tlearn: 0.6066755\ttotal: 1m 1s\tremaining: 2.57s\n",
      "96:\tlearn: 0.6066738\ttotal: 1m 2s\tremaining: 1.94s\n",
      "97:\tlearn: 0.6066738\ttotal: 1m 2s\tremaining: 1.28s\n",
      "98:\tlearn: 0.6066737\ttotal: 1m 2s\tremaining: 635ms\n",
      "99:\tlearn: 0.6066717\ttotal: 1m 3s\tremaining: 0us\n"
     ]
    },
    {
     "data": {
      "text/plain": [
       "Pipeline(memory=None,\n",
       "         steps=[('processing',\n",
       "                 Pipeline(memory=None,\n",
       "                          steps=[('running_time_imputer',\n",
       "                                  RunningTimeImputer(number_of_tracks='number_of_tracks',\n",
       "                                                     running_time='running_time')),\n",
       "                                 ('record_store_column_remover',\n",
       "                                  ColumnRemover(cols_to_remove={'country_albania',\n",
       "                                                                'country_algeria',\n",
       "                                                                'country_andorra',\n",
       "                                                                'country_angola',\n",
       "                                                                'country_argentina',\n",
       "                                                                'country_armenia',\n",
       "                                                                '...\n",
       "                                                                '(plurinational '\n",
       "                                                                'state of)',\n",
       "                                                                'country_bosnia '\n",
       "                                                                'and '\n",
       "                                                                'herzegovina',\n",
       "                                                                'country_brazil',\n",
       "                                                                'country_bulgaria',\n",
       "                                                                'country_cabo '\n",
       "                                                                'verde',\n",
       "                                                                'country_cambodia',\n",
       "                                                                'country_cameroon',\n",
       "                                                                'country_canada',\n",
       "                                                                'country_chile',\n",
       "                                                                'country_china',\n",
       "                                                                'country_colombia',\n",
       "                                                                'country_congo', ...}))],\n",
       "                          verbose=False)),\n",
       "                ('catboost',\n",
       "                 <catboost.core.CatBoostRegressor object at 0x7f1d61e4f7f0>)],\n",
       "         verbose=False)"
      ]
     },
     "execution_count": 100,
     "metadata": {
      "tags": []
     },
     "output_type": "execute_result"
    }
   ],
   "source": [
    "full_information_catboost_pipe.fit(X_tr,np.log(y_tr))"
   ]
  },
  {
   "cell_type": "code",
   "execution_count": null,
   "metadata": {
    "colab": {},
    "colab_type": "code",
    "id": "za9_3tZ-k1kf"
   },
   "outputs": [],
   "source": [
    "full_information_catboost_te_pred = full_information_catboost_pipe.predict(X_te)"
   ]
  },
  {
   "cell_type": "code",
   "execution_count": 102,
   "metadata": {
    "colab": {
     "base_uri": "https://localhost:8080/",
     "height": 35
    },
    "colab_type": "code",
    "id": "fJzDaxL1k1kh",
    "outputId": "a2da07bb-0488-4385-b0d0-92c6e2a7fad1"
   },
   "outputs": [
    {
     "data": {
      "text/plain": [
       "0.35490931656800606"
      ]
     },
     "execution_count": 102,
     "metadata": {
      "tags": []
     },
     "output_type": "execute_result"
    }
   ],
   "source": [
    "r2_score(y_te,np.exp(full_information_catboost_te_pred))"
   ]
  },
  {
   "cell_type": "code",
   "execution_count": 103,
   "metadata": {
    "colab": {
     "base_uri": "https://localhost:8080/",
     "height": 35
    },
    "colab_type": "code",
    "id": "WmjFcYRak1kk",
    "outputId": "b805e260-8d83-4586-dd1d-dbe584872919"
   },
   "outputs": [
    {
     "data": {
      "text/plain": [
       "7.385317052304779"
      ]
     },
     "execution_count": 103,
     "metadata": {
      "tags": []
     },
     "output_type": "execute_result"
    }
   ],
   "source": [
    "mean_absolute_error(y_te,np.exp(full_information_catboost_te_pred))"
   ]
  },
  {
   "cell_type": "markdown",
   "metadata": {
    "colab_type": "text",
    "id": "8aGyejLgLg5q"
   },
   "source": [
    "## Identification of Feature Importances"
   ]
  },
  {
   "cell_type": "code",
   "execution_count": null,
   "metadata": {
    "colab": {},
    "colab_type": "code",
    "id": "Vel9VOBLLg5r"
   },
   "outputs": [],
   "source": [
    "feature_importance_transformation_pipe = full_information_catboost_processing_pipe.fit(X_tr,np.log(y_tr).values)\n",
    "full_information_catboost_feature_importances = dict(zip(\n",
    "    feature_importance_transformation_pipe.transform(X_te).columns,\n",
    "    full_information_catboost_pipe.steps[-1][-1].feature_importances_\n",
    "))"
   ]
  },
  {
   "cell_type": "code",
   "execution_count": 105,
   "metadata": {
    "colab": {
     "base_uri": "https://localhost:8080/",
     "height": 393
    },
    "colab_type": "code",
    "id": "so5RN2cBLg5s",
    "outputId": "833d160c-14f0-41b4-92d0-8bf41fdc579b"
   },
   "outputs": [
    {
     "data": {
      "text/plain": [
       "community_want                        21.105690\n",
       "country                               20.592940\n",
       "units_for_sale                        15.812728\n",
       "format_name                            9.739488\n",
       "year                                   6.131048\n",
       "label                                  5.305325\n",
       "artist                                 4.421464\n",
       "community_have                         3.245261\n",
       "average_rating                         1.961327\n",
       "master_id                              1.206606\n",
       "format_quantity                        1.155218\n",
       "superregion_americas                   0.945520\n",
       "format_text                            0.941341\n",
       "superregion_europe                     0.790658\n",
       "style_Easy Listening                   0.685281\n",
       "format_description_Reissue             0.624144\n",
       "format_description_Club Edition        0.604669\n",
       "format_description_Promo               0.591190\n",
       "format_description_Limited Edition     0.557363\n",
       "number_of_tracks                       0.513563\n",
       "dtype: float64"
      ]
     },
     "execution_count": 105,
     "metadata": {
      "tags": []
     },
     "output_type": "execute_result"
    }
   ],
   "source": [
    "pd.Series(full_information_catboost_feature_importances).sort_values(ascending=False).head(20)"
   ]
  }
 ],
 "metadata": {
  "accelerator": "GPU",
  "colab": {
   "machine_shape": "hm",
   "name": "03-Modelling.ipynb",
   "provenance": [],
   "toc_visible": true
  },
  "kernelspec": {
   "display_name": "Python 3",
   "language": "python",
   "name": "python3"
  },
  "language_info": {
   "codemirror_mode": {
    "name": "ipython",
    "version": 3
   },
   "file_extension": ".py",
   "mimetype": "text/x-python",
   "name": "python",
   "nbconvert_exporter": "python",
   "pygments_lexer": "ipython3",
   "version": "3.6.10"
  },
  "widgets": {
   "application/vnd.jupyter.widget-state+json": {
    "07d5300fe7fe4897ae2f02a433c13015": {
     "model_module": "@jupyter-widgets/controls",
     "model_name": "HBoxModel",
     "state": {
      "_dom_classes": [],
      "_model_module": "@jupyter-widgets/controls",
      "_model_module_version": "1.5.0",
      "_model_name": "HBoxModel",
      "_view_count": null,
      "_view_module": "@jupyter-widgets/controls",
      "_view_module_version": "1.5.0",
      "_view_name": "HBoxView",
      "box_style": "",
      "children": [
       "IPY_MODEL_4c0b117da8bb46f5bcdc0840c51a3d89",
       "IPY_MODEL_6dfaad05b6514f7a89277dc070c3b89a"
      ],
      "layout": "IPY_MODEL_c36da9e7cbb24478934b2db5197ec822"
     }
    },
    "3332d4b2664c4aafa374118b7475a39c": {
     "model_module": "@jupyter-widgets/controls",
     "model_name": "ProgressStyleModel",
     "state": {
      "_model_module": "@jupyter-widgets/controls",
      "_model_module_version": "1.5.0",
      "_model_name": "ProgressStyleModel",
      "_view_count": null,
      "_view_module": "@jupyter-widgets/base",
      "_view_module_version": "1.2.0",
      "_view_name": "StyleView",
      "bar_color": null,
      "description_width": "initial"
     }
    },
    "4c0b117da8bb46f5bcdc0840c51a3d89": {
     "model_module": "@jupyter-widgets/controls",
     "model_name": "IntProgressModel",
     "state": {
      "_dom_classes": [],
      "_model_module": "@jupyter-widgets/controls",
      "_model_module_version": "1.5.0",
      "_model_name": "IntProgressModel",
      "_view_count": null,
      "_view_module": "@jupyter-widgets/controls",
      "_view_module_version": "1.5.0",
      "_view_name": "ProgressView",
      "bar_style": "success",
      "description": "100%",
      "description_tooltip": null,
      "layout": "IPY_MODEL_64184a6da08048f19027350dd21b39c8",
      "max": 8,
      "min": 0,
      "orientation": "horizontal",
      "style": "IPY_MODEL_3332d4b2664c4aafa374118b7475a39c",
      "value": 8
     }
    },
    "4e3dd973b04d42b88b71264133cda57e": {
     "model_module": "@jupyter-widgets/base",
     "model_name": "LayoutModel",
     "state": {
      "_model_module": "@jupyter-widgets/base",
      "_model_module_version": "1.2.0",
      "_model_name": "LayoutModel",
      "_view_count": null,
      "_view_module": "@jupyter-widgets/base",
      "_view_module_version": "1.2.0",
      "_view_name": "LayoutView",
      "align_content": null,
      "align_items": null,
      "align_self": null,
      "border": null,
      "bottom": null,
      "display": null,
      "flex": null,
      "flex_flow": null,
      "grid_area": null,
      "grid_auto_columns": null,
      "grid_auto_flow": null,
      "grid_auto_rows": null,
      "grid_column": null,
      "grid_gap": null,
      "grid_row": null,
      "grid_template_areas": null,
      "grid_template_columns": null,
      "grid_template_rows": null,
      "height": null,
      "justify_content": null,
      "justify_items": null,
      "left": null,
      "margin": null,
      "max_height": null,
      "max_width": null,
      "min_height": null,
      "min_width": null,
      "object_fit": null,
      "object_position": null,
      "order": null,
      "overflow": null,
      "overflow_x": null,
      "overflow_y": null,
      "padding": null,
      "right": null,
      "top": null,
      "visibility": null,
      "width": null
     }
    },
    "64184a6da08048f19027350dd21b39c8": {
     "model_module": "@jupyter-widgets/base",
     "model_name": "LayoutModel",
     "state": {
      "_model_module": "@jupyter-widgets/base",
      "_model_module_version": "1.2.0",
      "_model_name": "LayoutModel",
      "_view_count": null,
      "_view_module": "@jupyter-widgets/base",
      "_view_module_version": "1.2.0",
      "_view_name": "LayoutView",
      "align_content": null,
      "align_items": null,
      "align_self": null,
      "border": null,
      "bottom": null,
      "display": null,
      "flex": null,
      "flex_flow": null,
      "grid_area": null,
      "grid_auto_columns": null,
      "grid_auto_flow": null,
      "grid_auto_rows": null,
      "grid_column": null,
      "grid_gap": null,
      "grid_row": null,
      "grid_template_areas": null,
      "grid_template_columns": null,
      "grid_template_rows": null,
      "height": null,
      "justify_content": null,
      "justify_items": null,
      "left": null,
      "margin": null,
      "max_height": null,
      "max_width": null,
      "min_height": null,
      "min_width": null,
      "object_fit": null,
      "object_position": null,
      "order": null,
      "overflow": null,
      "overflow_x": null,
      "overflow_y": null,
      "padding": null,
      "right": null,
      "top": null,
      "visibility": null,
      "width": null
     }
    },
    "6dfaad05b6514f7a89277dc070c3b89a": {
     "model_module": "@jupyter-widgets/controls",
     "model_name": "HTMLModel",
     "state": {
      "_dom_classes": [],
      "_model_module": "@jupyter-widgets/controls",
      "_model_module_version": "1.5.0",
      "_model_name": "HTMLModel",
      "_view_count": null,
      "_view_module": "@jupyter-widgets/controls",
      "_view_module_version": "1.5.0",
      "_view_name": "HTMLView",
      "description": "",
      "description_tooltip": null,
      "layout": "IPY_MODEL_4e3dd973b04d42b88b71264133cda57e",
      "placeholder": "​",
      "style": "IPY_MODEL_a158a09f6691483689be3e1bf3b7f70d",
      "value": " 8/8 [05:04&lt;00:00, 38.10s/it]"
     }
    },
    "a158a09f6691483689be3e1bf3b7f70d": {
     "model_module": "@jupyter-widgets/controls",
     "model_name": "DescriptionStyleModel",
     "state": {
      "_model_module": "@jupyter-widgets/controls",
      "_model_module_version": "1.5.0",
      "_model_name": "DescriptionStyleModel",
      "_view_count": null,
      "_view_module": "@jupyter-widgets/base",
      "_view_module_version": "1.2.0",
      "_view_name": "StyleView",
      "description_width": ""
     }
    },
    "c36da9e7cbb24478934b2db5197ec822": {
     "model_module": "@jupyter-widgets/base",
     "model_name": "LayoutModel",
     "state": {
      "_model_module": "@jupyter-widgets/base",
      "_model_module_version": "1.2.0",
      "_model_name": "LayoutModel",
      "_view_count": null,
      "_view_module": "@jupyter-widgets/base",
      "_view_module_version": "1.2.0",
      "_view_name": "LayoutView",
      "align_content": null,
      "align_items": null,
      "align_self": null,
      "border": null,
      "bottom": null,
      "display": null,
      "flex": null,
      "flex_flow": null,
      "grid_area": null,
      "grid_auto_columns": null,
      "grid_auto_flow": null,
      "grid_auto_rows": null,
      "grid_column": null,
      "grid_gap": null,
      "grid_row": null,
      "grid_template_areas": null,
      "grid_template_columns": null,
      "grid_template_rows": null,
      "height": null,
      "justify_content": null,
      "justify_items": null,
      "left": null,
      "margin": null,
      "max_height": null,
      "max_width": null,
      "min_height": null,
      "min_width": null,
      "object_fit": null,
      "object_position": null,
      "order": null,
      "overflow": null,
      "overflow_x": null,
      "overflow_y": null,
      "padding": null,
      "right": null,
      "top": null,
      "visibility": null,
      "width": null
     }
    }
   }
  }
 },
 "nbformat": 4,
 "nbformat_minor": 4
}
