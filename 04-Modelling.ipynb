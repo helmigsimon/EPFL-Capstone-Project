{
  "nbformat": 4,
  "nbformat_minor": 0,
  "metadata": {
    "accelerator": "GPU",
    "colab": {
      "name": "03-Modelling.ipynb",
      "provenance": [],
      "toc_visible": true,
      "machine_shape": "hm"
    },
    "kernelspec": {
      "display_name": "Python 3",
      "language": "python",
      "name": "python3"
    },
    "language_info": {
      "codemirror_mode": {
        "name": "ipython",
        "version": 3
      },
      "file_extension": ".py",
      "mimetype": "text/x-python",
      "name": "python",
      "nbconvert_exporter": "python",
      "pygments_lexer": "ipython3",
      "version": "3.6.10"
    }
  },
  "cells": [
    {
      "cell_type": "markdown",
      "metadata": {
        "colab_type": "text",
        "id": "buFUSHKt8apx"
      },
      "source": [
        "## 03 - Modelling"
      ]
    },
    {
      "cell_type": "markdown",
      "metadata": {
        "colab_type": "text",
        "id": "lunHqQ7B8apz"
      },
      "source": [
        "## Optional - Colab Setup"
      ]
    },
    {
      "cell_type": "code",
      "metadata": {
        "colab_type": "code",
        "id": "qQQCreB5gAR_",
        "colab": {}
      },
      "source": [
        "def upgrade_runtime_ram():\n",
        "    meminfo = subprocess.getoutput('cat /proc/meminfo').split('\\n')\n",
        "\n",
        "    memory_info = {entry.split(':')[0]: int(entry.split(':')[1].replace(' kB','').strip()) for entry in meminfo}\n",
        "\n",
        "    if memory_info['MemTotal'] > 17000000:\n",
        "        return\n",
        "\n",
        "    a = []\n",
        "    while(1):\n",
        "        a.append('1')"
      ],
      "execution_count": 0,
      "outputs": []
    },
    {
      "cell_type": "code",
      "metadata": {
        "colab_type": "code",
        "id": "waACZBi_8ap2",
        "colab": {}
      },
      "source": [
        "def restart_runtime():\n",
        "    os.kill(os.getpid(), 9)"
      ],
      "execution_count": 0,
      "outputs": []
    },
    {
      "cell_type": "code",
      "metadata": {
        "colab_type": "code",
        "id": "YIsGqbsy8aqB",
        "colab": {}
      },
      "source": [
        "def setup_rapids():\n",
        "    pynvml.nvmlInit()\n",
        "    handle = pynvml.nvmlDeviceGetHandleByIndex(0)\n",
        "    device_name = pynvml.nvmlDeviceGetName(handle)\n",
        "    if (device_name != b'Tesla T4') and (device_name != b'Tesla P4') and (device_name != b'Tesla P100-PCIE-16GB'):\n",
        "        print(\"Wrong GPU - Restarting Runtime\")\n",
        "        restart_runtime()\n",
        "\n",
        "\n",
        "    # clone RAPIDS AI rapidsai-csp-utils scripts repo\n",
        "    !git clone https://github.com/rapidsai/rapidsai-csp-utils.git\n",
        "\n",
        "    # install RAPIDS\n",
        "    !bash rapidsai-csp-utils/colab/rapids-colab.sh 0.13\n",
        "\n",
        "\n",
        "    # set necessary environment variables \n",
        "    dist_package_index = sys.path.index('/usr/local/lib/python3.6/dist-packages')\n",
        "    sys.path = sys.path[:dist_package_index] + ['/usr/local/lib/python3.6/site-packages'] + sys.path[dist_package_index:]\n",
        "    sys.path\n",
        "\n",
        "    # update pyarrow & modules \n",
        "    exec(open('rapidsai-csp-utils/colab/update_modules.py').read(), globals())"
      ],
      "execution_count": 0,
      "outputs": []
    },
    {
      "cell_type": "code",
      "metadata": {
        "colab_type": "code",
        "id": "9CcPvNIo8aqI",
        "colab": {}
      },
      "source": [
        "def setup_conda():\n",
        "    if not 'Miniconda3-4.5.4-Linux-x86_64.sh' in os.listdir():\n",
        "        !wget https://repo.continuum.io/miniconda/Miniconda3-4.5.4-Linux-x86_64.sh && bash Miniconda3-4.5.4-Linux-x86_64.sh -bfp /usr/local\n",
        "\n",
        "    if not ('EPFL-Capstone-Project' in os.listdir()) and (os.getcwd().split('/')[-1] != 'EPFL-Capstone-Project'):\n",
        "        !git clone https://github.com/helmigsimon/EPFL-Capstone-Project  \n",
        "    if 'EPFL-Capstone-Project' in os.listdir():\n",
        "        os.chdir('EPFL-Capstone-Project')\n",
        "\n",
        "    !conda env create -f environment.yml\n",
        "    !conda activate exts-ml"
      ],
      "execution_count": 0,
      "outputs": []
    },
    {
      "cell_type": "code",
      "metadata": {
        "colab_type": "code",
        "id": "WHSZ-lgE8aqP",
        "colab": {}
      },
      "source": [
        "def setup_drive():\n",
        "    #Mounting Google Drive\n",
        "    global drive\n",
        "    from google.colab import drive\n",
        "    drive.mount('/content/drive')"
      ],
      "execution_count": 0,
      "outputs": []
    },
    {
      "cell_type": "code",
      "metadata": {
        "colab_type": "code",
        "id": "N_uPJqb58aqW",
        "outputId": "ba09a45b-5284-4428-8eaa-8b64816531be",
        "colab": {
          "base_uri": "https://localhost:8080/",
          "height": 1000
        }
      },
      "source": [
        "try:\n",
        "    import sys,os,subprocess\n",
        "    \n",
        "    upgrade_runtime_ram()\n",
        "    setup_drive()\n",
        "\n",
        "    #Setting up PyPi Packages\n",
        "    !pip install geopandas sparse-dot-topn pdpipe category-encoders catboost\n",
        "    import geopandas as gpd\n",
        "    import sparse_dot_topn.sparse_dot_topn as ct\n",
        "    import pdpipe as pdp\n",
        "    import category_encoders\n",
        "\n",
        "    #Setting up Conda Packages\n",
        "    setup_conda()\n",
        "    \n",
        "    #Initializing NLTK\n",
        "    import nltk\n",
        "    nltk.download('stopwords')\n",
        "    nltk.download('punkt')\n",
        "    \n",
        "    #Setting up RAPIDS AI\n",
        "    import pynvml\n",
        "    setup_rapids()\n",
        "    \n",
        "    from cuml import UMAP\n",
        "    \n",
        "except ModuleNotFoundError as e:\n",
        "    print(e)\n",
        "    print('Not in colab environment, continuing to run locally')\n",
        "    from umap import UMAP"
      ],
      "execution_count": 6,
      "outputs": [
        {
          "output_type": "stream",
          "text": [
            "Drive already mounted at /content/drive; to attempt to forcibly remount, call drive.mount(\"/content/drive\", force_remount=True).\n",
            "Collecting geopandas\n",
            "  Using cached https://files.pythonhosted.org/packages/83/c5/3cf9cdc39a6f2552922f79915f36b45a95b71fd343cfc51170a5b6ddb6e8/geopandas-0.7.0-py2.py3-none-any.whl\n",
            "Collecting sparse-dot-topn\n",
            "Collecting pdpipe\n",
            "  Using cached https://files.pythonhosted.org/packages/cf/78/029e7781a3029e105b1ad7bc7dc878b46408186c60c21e15d1e68030331e/pdpipe-0.0.46-py3-none-any.whl\n",
            "Collecting category-encoders\n",
            "  Using cached https://files.pythonhosted.org/packages/a0/52/c54191ad3782de633ea3d6ee3bb2837bda0cf3bc97644bb6375cf14150a0/category_encoders-2.1.0-py2.py3-none-any.whl\n",
            "Requirement already satisfied: catboost in /usr/local/lib/python3.6/site-packages (0.23)\n",
            "Collecting pyproj>=2.2.0 (from geopandas)\n",
            "\u001b[?25l  Downloading https://files.pythonhosted.org/packages/25/39/cef25d3bcbae9272efce149a3380cca679db72c6a3c91c7fc00617797411/pyproj-2.6.0-cp36-cp36m-manylinux1_x86_64.whl (10.4MB)\n",
            "\u001b[K    100% |████████████████████████████████| 10.4MB 4.8MB/s \n",
            "\u001b[?25hCollecting fiona (from geopandas)\n",
            "  Using cached https://files.pythonhosted.org/packages/ec/20/4e63bc5c6e62df889297b382c3ccd4a7a488b00946aaaf81a118158c6f09/Fiona-1.8.13.post1-cp36-cp36m-manylinux1_x86_64.whl\n",
            "Collecting shapely (from geopandas)\n",
            "\u001b[?25l  Downloading https://files.pythonhosted.org/packages/20/fa/c96d3461fda99ed8e82ff0b219ac2c8384694b4e640a611a1a8390ecd415/Shapely-1.7.0-cp36-cp36m-manylinux1_x86_64.whl (1.8MB)\n",
            "\u001b[K    100% |████████████████████████████████| 1.8MB 14.5MB/s \n",
            "\u001b[?25hRequirement already satisfied: pandas>=0.23.0 in /usr/local/lib/python3.6/site-packages (from geopandas) (1.0.3)\n",
            "Collecting cython>=0.29.15 (from sparse-dot-topn)\n",
            "\u001b[?25l  Downloading https://files.pythonhosted.org/packages/9e/cc/60984d76cde8cb76d7a897fc0dfb316c6c2f8c753cdf468a9d5773376b84/Cython-0.29.16-cp36-cp36m-manylinux1_x86_64.whl (2.1MB)\n",
            "\u001b[K    100% |████████████████████████████████| 2.1MB 15.0MB/s \n",
            "\u001b[?25hRequirement already satisfied: scipy>=1.2.3 in /usr/local/lib/python3.6/site-packages (from sparse-dot-topn) (1.4.1)\n",
            "Requirement already satisfied: numpy>=1.16.6 in /usr/local/lib/python3.6/site-packages (from sparse-dot-topn) (1.18.3)\n",
            "Requirement already satisfied: setuptools>=18.0 in /usr/local/lib/python3.6/site-packages (from sparse-dot-topn) (39.2.0)\n",
            "Collecting skutil>=0.0.15 (from pdpipe)\n",
            "  Using cached https://files.pythonhosted.org/packages/34/2b/1b5c9e7be3c24e1bd5ce35c2d27a5780989c3d90fcee10f3fee3074dda7f/skutil-0.0.16-py2.py3-none-any.whl\n",
            "Collecting strct (from pdpipe)\n",
            "  Using cached https://files.pythonhosted.org/packages/4a/c4/bd0de8562cb3731bdfcc33a4627c755a2d9c5e6e96b73546134c43acf1be/strct-0.0.30-py2.py3-none-any.whl\n",
            "Collecting sortedcontainers (from pdpipe)\n",
            "  Downloading https://files.pythonhosted.org/packages/13/f3/cf85f7c3a2dbd1a515d51e1f1676d971abe41bba6f4ab5443240d9a78e5b/sortedcontainers-2.1.0-py2.py3-none-any.whl\n",
            "Collecting tqdm (from pdpipe)\n",
            "\u001b[?25l  Downloading https://files.pythonhosted.org/packages/4a/1c/6359be64e8301b84160f6f6f7936bbfaaa5e9a4eab6cbc681db07600b949/tqdm-4.45.0-py2.py3-none-any.whl (60kB)\n",
            "\u001b[K    100% |████████████████████████████████| 61kB 28.5MB/s \n",
            "\u001b[?25hCollecting statsmodels>=0.6.1 (from category-encoders)\n",
            "\u001b[?25l  Downloading https://files.pythonhosted.org/packages/cb/83/540fd83238a18abe6c2d280fa8e489ac5fcefa1f370f0ca1acd16ae1b860/statsmodels-0.11.1-cp36-cp36m-manylinux1_x86_64.whl (8.7MB)\n",
            "\u001b[K    100% |████████████████████████████████| 8.7MB 6.3MB/s \n",
            "\u001b[?25hCollecting scikit-learn>=0.20.0 (from category-encoders)\n",
            "\u001b[?25l  Downloading https://files.pythonhosted.org/packages/5e/d8/312e03adf4c78663e17d802fe2440072376fee46cada1404f1727ed77a32/scikit_learn-0.22.2.post1-cp36-cp36m-manylinux1_x86_64.whl (7.1MB)\n",
            "\u001b[K    100% |████████████████████████████████| 7.1MB 7.1MB/s \n",
            "\u001b[?25hCollecting patsy>=0.4.1 (from category-encoders)\n",
            "\u001b[?25l  Downloading https://files.pythonhosted.org/packages/ea/0c/5f61f1a3d4385d6bf83b83ea495068857ff8dfb89e74824c6e9eb63286d8/patsy-0.5.1-py2.py3-none-any.whl (231kB)\n",
            "\u001b[K    100% |████████████████████████████████| 235kB 34.2MB/s \n",
            "\u001b[?25hRequirement already satisfied: matplotlib in /usr/local/lib/python3.6/site-packages (from catboost) (3.2.1)\n",
            "Requirement already satisfied: plotly in /usr/local/lib/python3.6/site-packages (from catboost) (4.6.0)\n",
            "Requirement already satisfied: six in /usr/local/lib/python3.6/site-packages (from catboost) (1.11.0)\n",
            "Requirement already satisfied: graphviz in /usr/local/lib/python3.6/site-packages (from catboost) (0.14)\n",
            "Collecting click-plugins>=1.0 (from fiona->geopandas)\n",
            "  Using cached https://files.pythonhosted.org/packages/e9/da/824b92d9942f4e472702488857914bdd50f73021efea15b4cad9aca8ecef/click_plugins-1.1.1-py2.py3-none-any.whl\n",
            "Collecting cligj>=0.5 (from fiona->geopandas)\n",
            "  Using cached https://files.pythonhosted.org/packages/e4/be/30a58b4b0733850280d01f8bd132591b4668ed5c7046761098d665ac2174/cligj-0.5.0-py3-none-any.whl\n",
            "Collecting munch (from fiona->geopandas)\n",
            "  Using cached https://files.pythonhosted.org/packages/cc/ab/85d8da5c9a45e072301beb37ad7f833cd344e04c817d97e0cc75681d248f/munch-2.5.0-py2.py3-none-any.whl\n",
            "Collecting click<8,>=4.0 (from fiona->geopandas)\n",
            "\u001b[?25l  Downloading https://files.pythonhosted.org/packages/dd/c0/4d8f43a9b16e289f36478422031b8a63b54b6ac3b1ba605d602f10dd54d6/click-7.1.1-py2.py3-none-any.whl (82kB)\n",
            "\u001b[K    100% |████████████████████████████████| 92kB 37.0MB/s \n",
            "\u001b[?25hCollecting attrs>=17 (from fiona->geopandas)\n",
            "  Downloading https://files.pythonhosted.org/packages/a2/db/4313ab3be961f7a763066401fb77f7748373b6094076ae2bda2806988af6/attrs-19.3.0-py2.py3-none-any.whl\n",
            "Requirement already satisfied: pytz>=2017.2 in /usr/local/lib/python3.6/site-packages (from pandas>=0.23.0->geopandas) (2019.3)\n",
            "Requirement already satisfied: python-dateutil>=2.6.1 in /usr/local/lib/python3.6/site-packages (from pandas>=0.23.0->geopandas) (2.8.1)\n",
            "Collecting decore (from skutil>=0.0.15->pdpipe)\n",
            "Collecting joblib>=0.11 (from scikit-learn>=0.20.0->category-encoders)\n",
            "\u001b[?25l  Downloading https://files.pythonhosted.org/packages/28/5c/cf6a2b65a321c4a209efcdf64c2689efae2cb62661f8f6f4bb28547cf1bf/joblib-0.14.1-py2.py3-none-any.whl (294kB)\n",
            "\u001b[K    100% |████████████████████████████████| 296kB 24.9MB/s \n",
            "\u001b[?25hRequirement already satisfied: kiwisolver>=1.0.1 in /usr/local/lib/python3.6/site-packages (from matplotlib->catboost) (1.2.0)\n",
            "Requirement already satisfied: pyparsing!=2.0.4,!=2.1.2,!=2.1.6,>=2.0.1 in /usr/local/lib/python3.6/site-packages (from matplotlib->catboost) (2.4.7)\n",
            "Requirement already satisfied: cycler>=0.10 in /usr/local/lib/python3.6/site-packages (from matplotlib->catboost) (0.10.0)\n",
            "Requirement already satisfied: retrying>=1.3.3 in /usr/local/lib/python3.6/site-packages (from plotly->catboost) (1.3.3)\n",
            "Installing collected packages: pyproj, click, click-plugins, cligj, munch, attrs, fiona, shapely, geopandas, cython, sparse-dot-topn, decore, skutil, strct, sortedcontainers, tqdm, pdpipe, patsy, statsmodels, joblib, scikit-learn, category-encoders\n",
            "Successfully installed attrs-19.3.0 category-encoders-2.1.0 click-7.1.1 click-plugins-1.1.1 cligj-0.5.0 cython-0.29.16 decore-0.0.1 fiona-1.8.13.post1 geopandas-0.7.0 joblib-0.14.1 munch-2.5.0 patsy-0.5.1 pdpipe-0.0.46 pyproj-2.6.0 scikit-learn-0.22.2.post1 shapely-1.7.0 skutil-0.0.16 sortedcontainers-2.1.0 sparse-dot-topn-0.2.9 statsmodels-0.11.1 strct-0.0.30 tqdm-4.45.0\n",
            "Solving environment: - \b\b\\ \b\b| \b\b/ \b\b- \b\b\\ \b\b| \b\b/ \b\b- \b\b\\ \b\b| \b\b/ \b\b- \b\b\\ \b\b| \b\b/ \b\b- \b\b\\ \b\b| \b\b/ \b\b- \b\b\\ \b\b| \b\b/ \b\b- \b\b\\ \b\b| \b\b/ \b\b- \b\b\\ \b\b| \b\b/ \b\b- \b\b\\ \b\b| \b\b/ \b\b- \b\b\\ \b\b| \b\b/ \b\b- \b\b\\ \b\b| \b\b/ \b\b- \b\b\\ \b\b| \b\b/ \b\b- \b\b\\ \b\b| \b\b/ \b\b- \b\b\\ \b\b| \b\b/ \b\b- \b\b\\ \b\b| \b\b/ \b\b- \b\b\\ \b\b| \b\b/ \b\b- \b\b\\ \b\b| \b\b/ \b\b- \b\b\\ \b\b| \b\b/ \b\b- \b\b\\ \b\b| \b\b/ \b\b- \b\b\\ \b\b| \b\b/ \b\b- \b\b\\ \b\b| \b\b/ \b\b- \b\b\\ \b\b| \b\b/ \b\b- \b\b\\ \b\b| \b\b/ \b\b- \b\b\\ \b\b| \b\b/ \b\b- \b\b\\ \b\b| \b\b/ \b\b- \b\b\\ \b\b| \b\b/ \b\b- \b\b\\ \b\bfailed\n",
            "\n",
            "ResolvePackageNotFound: \n",
            "  - grpcio==1.23.0=py36h7c1f37e_1\n",
            "  - pyrsistent==0.16.0=py36h37b9a7d_0\n",
            "  - tk==8.6.10=hbbe82c9_0\n",
            "  - libopenblas==0.3.9=h3d69b6c_0\n",
            "  - psycopg2==2.8.4=py36hafa8578_1\n",
            "  - tensorflow==1.12.0=mkl_py36h2b2bbaf_0\n",
            "  - boost-cpp==1.72.0=hdf9ef73_0\n",
            "  - pillow==7.0.0=py36h918e99a_0\n",
            "  - tiledb==1.7.0=hd5e958f_2\n",
            "  - geos==3.8.1=h4a8c4bd_0\n",
            "  - psutil==5.7.0=py36h37b9a7d_1\n",
            "  - fontconfig==2.13.1=h6b1039f_1001\n",
            "  - kiwisolver==1.1.0=py36h863e41a_1\n",
            "  - libgfortran==4.0.0=2\n",
            "  - zlib==1.2.11=h0b31af3_1006\n",
            "  - openjpeg==2.3.1=h254dc36_3\n",
            "  - libedit==3.1.20170329=hcfe32e1_1001\n",
            "  - zstd==1.4.4=hed8d7c8_2\n",
            "  - tornado==6.0.4=py36h37b9a7d_1\n",
            "  - readline==8.0=hcfe32e1_0\n",
            "  - zeromq==4.3.2=h6de7cb9_2\n",
            "  - xerces-c==3.2.2=h8f8adb3_1004\n",
            "  - nodejs==13.10.1=h38d8c5a_0\n",
            "  - llvm-openmp==9.0.1=h28b9765_2\n",
            "  - curl==7.68.0=h8754def_0\n",
            "  - libdap4==3.20.4=habf5908_0\n",
            "  - matplotlib-base==3.2.0=py36h11da6c2_1\n",
            "  - gdal==3.0.4=py36h5a1ef21_3\n",
            "  - pyzmq==19.0.0=py36h820b253_1\n",
            "  - python-levenshtein==0.12.0=py36h0b31af3_1001\n",
            "  - libpq==12.2=h554dc5a_0\n",
            "  - pixman==0.38.0=h01d97ff_1003\n",
            "  - python==3.6.10=hce46be0_1009_cpython\n",
            "  - tzcode==2019a=h01d97ff_1002\n",
            "  - libprotobuf==3.11.4=hd174df1_0\n",
            "  - pcre==8.44=h4a8c4bd_0\n",
            "  - kealib==1.4.12=h2324030_0\n",
            "  - libnetcdf==4.7.4=nompi_he461dc0_101\n",
            "  - graphviz==2.42.3=h98dfb87_0\n",
            "  - openssl==1.1.1f=h0b31af3_0\n",
            "  - h5py==2.10.0=nompi_py36h106b333_102\n",
            "  - lz4-c==1.8.3=h6de7cb9_1001\n",
            "  - sqlite==3.30.1=h93121df_0\n",
            "  - json-c==0.13.1=h1de35cc_1001\n",
            "  - libllvm8==8.0.1=h770b8ee_0\n",
            "  - icu==64.2=h6de7cb9_1\n",
            "  - gettext==0.19.8.1=h46ab8bc_1002\n",
            "  - appnope==0.1.0=py36h9f0ad1d_1001\n",
            "  - ncurses==6.1=h0a44026_1002\n",
            "  - markupsafe==1.1.1=py36h37b9a7d_1\n",
            "  - libiconv==1.15=h0b31af3_1006\n",
            "  - libtiff==4.1.0=ha78913b_3\n",
            "  - tensorflow-base==1.12.0=mkl_py36h70e0e9a_0\n",
            "  - cryptography==2.8=py36hc9d8292_2\n",
            "  - cfitsio==3.470=h84d2f63_2\n",
            "  - shapely==1.7.0=py36hda0b814_2\n",
            "  - pandas==1.0.1=py36h4f17bb1_0\n",
            "  - krb5==1.16.4=h1752a42_0\n",
            "  - postgresql==12.2=h16d8c28_0\n",
            "  - sqlalchemy==1.3.13=py36h0b31af3_0\n",
            "  - proj==6.3.1=h773a61f_1\n",
            "  - c-ares==1.15.0=h01d97ff_1001\n",
            "  - libcurl==7.68.0=h709d2b2_0\n",
            "  - poppler==0.67.0=h16886b5_8\n",
            "  - libffi==3.2.1=h4a8c4bd_1007\n",
            "  - libsodium==1.0.17=h01d97ff_0\n",
            "  - freetype==2.10.1=h8da9a1a_0\n",
            "  - fiona==1.8.13=py36he71f6a4_0\n",
            "  - libspatialite==4.3.0a=hbcd37d4_1037\n",
            "  - xz==5.2.4=h0b31af3_1002\n",
            "  - freexl==1.0.5=h1de35cc_1002\n",
            "  - glib==2.58.3=py36hb0ce7ff_1003\n",
            "  - libssh2==1.8.2=hcdc9a53_2\n",
            "  - bzip2==1.0.8=h0b31af3_2\n",
            "  - libpng==1.6.37=hbbe82c9_1\n",
            "  - sparse_dot_topn==0.2.9=py36h863e41a_0\n",
            "  - llvmlite==0.31.0=py36hde82470_1\n",
            "  - scikit-learn==0.20.3=py36hca23c92_1\n",
            "  - numba==0.48.0=py36h4f17bb1_0\n",
            "  - scipy==1.4.1=py36h82752d6_0\n",
            "  - geotiff==1.5.1=h4bdff65_9\n",
            "  - jpeg==9c=h1de35cc_1001\n",
            "  - libgdal==3.0.4=hec54991_3\n",
            "  - expat==2.2.9=h4a8c4bd_2\n",
            "  - numpy==1.18.1=py36hde6bac1_0\n",
            "  - cffi==1.14.0=py36h356ff06_0\n",
            "  - libwebp==1.0.2=hd3bf737_5\n",
            "  - mistune==0.8.4=py36h0b31af3_1000\n",
            "  - libxml2==2.9.10=h53d96d6_0\n",
            "  - hdf4==4.2.13=h84186c3_1003\n",
            "  - giflib==5.2.1=h0b31af3_2\n",
            "  - cairo==1.16.0=hec6a9b0_1003\n",
            "  - statsmodels==0.11.1=py36h37b9a7d_1\n",
            "  - libuv==1.34.0=h0b31af3_0\n",
            "  - hdf5==1.10.5=nompi_h3e39495_1104\n",
            "  - libkml==1.3.0=h169b8f9_1011\n",
            "\n",
            "\n",
            "CommandNotFoundError: Your shell has not been properly configured to use 'conda activate'.\n",
            "If your shell is Bash or a Bourne variant, enable conda for the current user with\n",
            "\n",
            "    $ echo \". /usr/local/etc/profile.d/conda.sh\" >> ~/.bashrc\n",
            "\n",
            "or, for all users, enable conda with\n",
            "\n",
            "    $ sudo ln -s /usr/local/etc/profile.d/conda.sh /etc/profile.d/conda.sh\n",
            "\n",
            "The options above will permanently enable the 'conda' command, but they do NOT\n",
            "put conda's base (root) environment on PATH.  To do so, run\n",
            "\n",
            "    $ conda activate\n",
            "\n",
            "in your terminal, or to put the base environment on PATH permanently, run\n",
            "\n",
            "    $ echo \"conda activate\" >> ~/.bashrc\n",
            "\n",
            "Previous to conda 4.4, the recommended way to activate conda was to modify PATH in\n",
            "your ~/.bashrc file.  You should manually remove the line that looks like\n",
            "\n",
            "    export PATH=\"/usr/local/bin:$PATH\"\n",
            "\n",
            "^^^ The above line should NO LONGER be in your ~/.bashrc file! ^^^\n",
            "\n",
            "\n",
            "[nltk_data] Downloading package stopwords to /root/nltk_data...\n",
            "[nltk_data]   Package stopwords is already up-to-date!\n",
            "[nltk_data] Downloading package punkt to /root/nltk_data...\n",
            "[nltk_data]   Package punkt is already up-to-date!\n"
          ],
          "name": "stdout"
        },
        {
          "output_type": "error",
          "ename": "NVMLError_DriverNotLoaded",
          "evalue": "ignored",
          "traceback": [
            "\u001b[0;31m---------------------------------------------------------------------------\u001b[0m",
            "\u001b[0;31mNVMLError_DriverNotLoaded\u001b[0m                 Traceback (most recent call last)",
            "\u001b[0;32m<ipython-input-6-acd082c731a8>\u001b[0m in \u001b[0;36m<module>\u001b[0;34m()\u001b[0m\n\u001b[1;32m     22\u001b[0m     \u001b[0;31m#Setting up RAPIDS AI\u001b[0m\u001b[0;34m\u001b[0m\u001b[0;34m\u001b[0m\u001b[0;34m\u001b[0m\u001b[0m\n\u001b[1;32m     23\u001b[0m     \u001b[0;32mimport\u001b[0m \u001b[0mpynvml\u001b[0m\u001b[0;34m\u001b[0m\u001b[0;34m\u001b[0m\u001b[0m\n\u001b[0;32m---> 24\u001b[0;31m     \u001b[0msetup_rapids\u001b[0m\u001b[0;34m(\u001b[0m\u001b[0;34m)\u001b[0m\u001b[0;34m\u001b[0m\u001b[0;34m\u001b[0m\u001b[0m\n\u001b[0m\u001b[1;32m     25\u001b[0m \u001b[0;34m\u001b[0m\u001b[0m\n\u001b[1;32m     26\u001b[0m     \u001b[0;32mfrom\u001b[0m \u001b[0mcuml\u001b[0m \u001b[0;32mimport\u001b[0m \u001b[0mUMAP\u001b[0m\u001b[0;34m\u001b[0m\u001b[0;34m\u001b[0m\u001b[0m\n",
            "\u001b[0;32m<ipython-input-2-2f6b0281ccd9>\u001b[0m in \u001b[0;36msetup_rapids\u001b[0;34m()\u001b[0m\n\u001b[1;32m      1\u001b[0m \u001b[0;32mdef\u001b[0m \u001b[0msetup_rapids\u001b[0m\u001b[0;34m(\u001b[0m\u001b[0;34m)\u001b[0m\u001b[0;34m:\u001b[0m\u001b[0;34m\u001b[0m\u001b[0;34m\u001b[0m\u001b[0m\n\u001b[0;32m----> 2\u001b[0;31m     \u001b[0mpynvml\u001b[0m\u001b[0;34m.\u001b[0m\u001b[0mnvmlInit\u001b[0m\u001b[0;34m(\u001b[0m\u001b[0;34m)\u001b[0m\u001b[0;34m\u001b[0m\u001b[0;34m\u001b[0m\u001b[0m\n\u001b[0m\u001b[1;32m      3\u001b[0m     \u001b[0mhandle\u001b[0m \u001b[0;34m=\u001b[0m \u001b[0mpynvml\u001b[0m\u001b[0;34m.\u001b[0m\u001b[0mnvmlDeviceGetHandleByIndex\u001b[0m\u001b[0;34m(\u001b[0m\u001b[0;36m0\u001b[0m\u001b[0;34m)\u001b[0m\u001b[0;34m\u001b[0m\u001b[0;34m\u001b[0m\u001b[0m\n\u001b[1;32m      4\u001b[0m     \u001b[0mdevice_name\u001b[0m \u001b[0;34m=\u001b[0m \u001b[0mpynvml\u001b[0m\u001b[0;34m.\u001b[0m\u001b[0mnvmlDeviceGetName\u001b[0m\u001b[0;34m(\u001b[0m\u001b[0mhandle\u001b[0m\u001b[0;34m)\u001b[0m\u001b[0;34m\u001b[0m\u001b[0;34m\u001b[0m\u001b[0m\n\u001b[1;32m      5\u001b[0m     \u001b[0;32mif\u001b[0m \u001b[0;34m(\u001b[0m\u001b[0mdevice_name\u001b[0m \u001b[0;34m!=\u001b[0m \u001b[0;34mb'Tesla T4'\u001b[0m\u001b[0;34m)\u001b[0m \u001b[0;32mand\u001b[0m \u001b[0;34m(\u001b[0m\u001b[0mdevice_name\u001b[0m \u001b[0;34m!=\u001b[0m \u001b[0;34mb'Tesla P4'\u001b[0m\u001b[0;34m)\u001b[0m \u001b[0;32mand\u001b[0m \u001b[0;34m(\u001b[0m\u001b[0mdevice_name\u001b[0m \u001b[0;34m!=\u001b[0m \u001b[0;34mb'Tesla P100-PCIE-16GB'\u001b[0m\u001b[0;34m)\u001b[0m\u001b[0;34m:\u001b[0m\u001b[0;34m\u001b[0m\u001b[0;34m\u001b[0m\u001b[0m\n",
            "\u001b[0;32m/usr/local/lib/python3.6/dist-packages/pynvml.py\u001b[0m in \u001b[0;36mnvmlInit\u001b[0;34m()\u001b[0m\n\u001b[1;32m    613\u001b[0m     \u001b[0mfn\u001b[0m \u001b[0;34m=\u001b[0m \u001b[0m_nvmlGetFunctionPointer\u001b[0m\u001b[0;34m(\u001b[0m\u001b[0;34m\"nvmlInit_v2\"\u001b[0m\u001b[0;34m)\u001b[0m\u001b[0;34m\u001b[0m\u001b[0;34m\u001b[0m\u001b[0m\n\u001b[1;32m    614\u001b[0m     \u001b[0mret\u001b[0m \u001b[0;34m=\u001b[0m \u001b[0mfn\u001b[0m\u001b[0;34m(\u001b[0m\u001b[0;34m)\u001b[0m\u001b[0;34m\u001b[0m\u001b[0;34m\u001b[0m\u001b[0m\n\u001b[0;32m--> 615\u001b[0;31m     \u001b[0m_nvmlCheckReturn\u001b[0m\u001b[0;34m(\u001b[0m\u001b[0mret\u001b[0m\u001b[0;34m)\u001b[0m\u001b[0;34m\u001b[0m\u001b[0;34m\u001b[0m\u001b[0m\n\u001b[0m\u001b[1;32m    616\u001b[0m \u001b[0;34m\u001b[0m\u001b[0m\n\u001b[1;32m    617\u001b[0m     \u001b[0;31m# Atomically update refcount\u001b[0m\u001b[0;34m\u001b[0m\u001b[0;34m\u001b[0m\u001b[0;34m\u001b[0m\u001b[0m\n",
            "\u001b[0;32m/usr/local/lib/python3.6/dist-packages/pynvml.py\u001b[0m in \u001b[0;36m_nvmlCheckReturn\u001b[0;34m(ret)\u001b[0m\n\u001b[1;32m    308\u001b[0m \u001b[0;32mdef\u001b[0m \u001b[0m_nvmlCheckReturn\u001b[0m\u001b[0;34m(\u001b[0m\u001b[0mret\u001b[0m\u001b[0;34m)\u001b[0m\u001b[0;34m:\u001b[0m\u001b[0;34m\u001b[0m\u001b[0;34m\u001b[0m\u001b[0m\n\u001b[1;32m    309\u001b[0m     \u001b[0;32mif\u001b[0m \u001b[0;34m(\u001b[0m\u001b[0mret\u001b[0m \u001b[0;34m!=\u001b[0m \u001b[0mNVML_SUCCESS\u001b[0m\u001b[0;34m)\u001b[0m\u001b[0;34m:\u001b[0m\u001b[0;34m\u001b[0m\u001b[0;34m\u001b[0m\u001b[0m\n\u001b[0;32m--> 310\u001b[0;31m         \u001b[0;32mraise\u001b[0m \u001b[0mNVMLError\u001b[0m\u001b[0;34m(\u001b[0m\u001b[0mret\u001b[0m\u001b[0;34m)\u001b[0m\u001b[0;34m\u001b[0m\u001b[0;34m\u001b[0m\u001b[0m\n\u001b[0m\u001b[1;32m    311\u001b[0m     \u001b[0;32mreturn\u001b[0m \u001b[0mret\u001b[0m\u001b[0;34m\u001b[0m\u001b[0;34m\u001b[0m\u001b[0m\n\u001b[1;32m    312\u001b[0m \u001b[0;34m\u001b[0m\u001b[0m\n",
            "\u001b[0;31mNVMLError_DriverNotLoaded\u001b[0m: Driver Not Loaded"
          ]
        }
      ]
    },
    {
      "cell_type": "markdown",
      "metadata": {
        "colab_type": "text",
        "id": "Kvn45BG28aqd"
      },
      "source": [
        "## Imports"
      ]
    },
    {
      "cell_type": "code",
      "metadata": {
        "colab_type": "code",
        "id": "IRijjSry8aqf",
        "colab": {}
      },
      "source": [
        "%matplotlib inline\n",
        "import pandas as pd\n",
        "import numpy as np\n",
        "from tqdm import tqdm\n",
        "import matplotlib.pyplot as plt\n",
        "from sklearn.linear_model import SGDRegressor\n",
        "from sklearn.preprocessing import StandardScaler\n",
        "from sklearn.model_selection import GridSearchCV, train_test_split,  StratifiedKFold\n",
        "from sklearn.pipeline import Pipeline\n",
        "from sklearn.metrics import mean_absolute_error, mean_squared_error, r2_score\n",
        "tqdm.pandas()"
      ],
      "execution_count": 0,
      "outputs": []
    },
    {
      "cell_type": "code",
      "metadata": {
        "colab_type": "code",
        "id": "fEgS7UQD8aqk",
        "colab": {}
      },
      "source": [
        "from sklearn.model_selection import train_test_split\n",
        "from sklearn.impute import SimpleImputer\n",
        "from sklearn.compose import ColumnTransformer\n",
        "from sklearn.preprocessing import OneHotEncoder, FunctionTransformer\n",
        "from sklearn.model_selection import KFold\n",
        "from sklearn.dummy import DummyRegressor\n",
        "from sklearn.ensemble import RandomForestRegressor"
      ],
      "execution_count": 0,
      "outputs": []
    },
    {
      "cell_type": "code",
      "metadata": {
        "colab_type": "code",
        "id": "u5KwAwAe8aqp",
        "colab": {}
      },
      "source": [
        "from lib.transformers import *\n",
        "from lib.pipelines import *\n",
        "from lib.processing import save_to_pkl, load_from_pkl\n",
        "from lib.visualization import GridSearchPlotter\n",
        "from data.util.paths import DATA_PATH"
      ],
      "execution_count": 0,
      "outputs": []
    },
    {
      "cell_type": "code",
      "metadata": {
        "colab_type": "code",
        "id": "ixGjIOwS8aq1",
        "colab": {}
      },
      "source": [
        "from category_encoders.leave_one_out import LeaveOneOutEncoder"
      ],
      "execution_count": 0,
      "outputs": []
    },
    {
      "cell_type": "code",
      "metadata": {
        "id": "X4_WNHlLW7Lt",
        "colab_type": "code",
        "colab": {}
      },
      "source": [
        "try:\n",
        "  from cuml import LinearRegression, RandomForestRegressor\n",
        "except ModuleNotFoundError:\n",
        "  pass"
      ],
      "execution_count": 0,
      "outputs": []
    },
    {
      "cell_type": "code",
      "metadata": {
        "id": "K3Ig2yYxXIrV",
        "colab_type": "code",
        "colab": {
          "base_uri": "https://localhost:8080/",
          "height": 312
        },
        "outputId": "ae79f8e8-a65c-4f00-f98d-f4217223f031"
      },
      "source": [
        "from catboost import CatBoostRegressor"
      ],
      "execution_count": 16,
      "outputs": [
        {
          "output_type": "error",
          "ename": "ModuleNotFoundError",
          "evalue": "ignored",
          "traceback": [
            "\u001b[0;31m---------------------------------------------------------------------------\u001b[0m",
            "\u001b[0;31mModuleNotFoundError\u001b[0m                       Traceback (most recent call last)",
            "\u001b[0;32m<ipython-input-16-d222a454d36a>\u001b[0m in \u001b[0;36m<module>\u001b[0;34m()\u001b[0m\n\u001b[0;32m----> 1\u001b[0;31m \u001b[0;32mfrom\u001b[0m \u001b[0mcatboost\u001b[0m \u001b[0;32mimport\u001b[0m \u001b[0mCatBoostRegressor\u001b[0m\u001b[0;34m\u001b[0m\u001b[0;34m\u001b[0m\u001b[0m\n\u001b[0m",
            "\u001b[0;31mModuleNotFoundError\u001b[0m: No module named 'catboost'",
            "",
            "\u001b[0;31m---------------------------------------------------------------------------\u001b[0;32m\nNOTE: If your import is failing due to a missing package, you can\nmanually install dependencies using either !pip or !apt.\n\nTo view examples of installing some common dependencies, click the\n\"Open Examples\" button below.\n\u001b[0;31m---------------------------------------------------------------------------\u001b[0m\n"
          ]
        }
      ]
    },
    {
      "cell_type": "markdown",
      "metadata": {
        "id": "YwJ6GSBC3Qtz",
        "colab_type": "text"
      },
      "source": [
        "## Loading Data"
      ]
    },
    {
      "cell_type": "code",
      "metadata": {
        "id": "RiNFe3gX3Qtz",
        "colab_type": "code",
        "colab": {}
      },
      "source": [
        "df = load_from_pkl('final',DATA_PATH)"
      ],
      "execution_count": 0,
      "outputs": []
    },
    {
      "cell_type": "code",
      "metadata": {
        "colab_type": "code",
        "id": "1hbzpOTylHCB",
        "colab": {}
      },
      "source": [
        "col_set = {\n",
        "    'format': {\n",
        "        'description': 'format_description_', \n",
        "        'name': 'format_name_', \n",
        "        'text': ('format_text_clean'),\n",
        "        'quantity': ('format_quantity')\n",
        "    },\n",
        "    'geography': {\n",
        "        'superregion': 'superregion_',\n",
        "        'region': 'region_',\n",
        "        'country': 'country_'\n",
        "    },\n",
        "    'timeperiod': {\n",
        "        'period': 'period_',\n",
        "        'era': 'era_'\n",
        "    },\n",
        "    'genre': 'genre_',\n",
        "    'style': 'style_',\n",
        "    'null': None,\n",
        "    'indicator': lambda x: x.max() == 1 and x.min() == 0,\n",
        "    'image_embedding': 'image_umap_'\n",
        "}\n",
        "column_store = ColumnStore()\n",
        "column_store.fit(df,col_set)"
      ],
      "execution_count": 0,
      "outputs": []
    },
    {
      "cell_type": "markdown",
      "metadata": {
        "colab_type": "text",
        "id": "Gz00X-1E8arN"
      },
      "source": [
        "## Preparing for Machine Learning"
      ]
    },
    {
      "cell_type": "code",
      "metadata": {
        "colab_type": "code",
        "id": "7hLwsGal8arO",
        "colab": {}
      },
      "source": [
        "X_tr, X_te, y_tr, y_te = train_test_split(df.drop('market_value',axis=1),df.market_value)"
      ],
      "execution_count": 0,
      "outputs": []
    },
    {
      "cell_type": "code",
      "metadata": {
        "id": "btPvMT9ZAfi3",
        "colab_type": "code",
        "colab": {}
      },
      "source": [
        "df_sample = pd.concat([X_tr,y_tr],axis=1).sample(frac=0.1)\n",
        "X_tr_sample = df_sample.drop('market_value',axis=1)\n",
        "y_tr_sample = df_sample['market_value']"
      ],
      "execution_count": 0,
      "outputs": []
    },
    {
      "cell_type": "code",
      "metadata": {
        "colab_type": "code",
        "id": "KHFqqLDIZ8s-",
        "colab": {}
      },
      "source": [
        "del df"
      ],
      "execution_count": 0,
      "outputs": []
    },
    {
      "cell_type": "markdown",
      "metadata": {
        "colab_type": "text",
        "id": "pk_qZ4Lu947Y"
      },
      "source": [
        "## Setting up Dummy Regression for baseline"
      ]
    },
    {
      "cell_type": "code",
      "metadata": {
        "colab_type": "code",
        "id": "tTWU4_un6lR2",
        "colab": {}
      },
      "source": [
        "dummy_regressor = DummyRegressor(strategy='mean')"
      ],
      "execution_count": 0,
      "outputs": []
    },
    {
      "cell_type": "code",
      "metadata": {
        "colab_type": "code",
        "id": "eq6ZiI7y7Rmd",
        "outputId": "08ccf28f-34dd-445f-c3f2-b035c83c6074",
        "colab": {
          "base_uri": "https://localhost:8080/",
          "height": 35
        }
      },
      "source": [
        "dummy_regressor.fit(X_tr,np.log(y_tr).values)"
      ],
      "execution_count": 17,
      "outputs": [
        {
          "output_type": "execute_result",
          "data": {
            "text/plain": [
              "DummyRegressor(constant=None, quantile=None, strategy='mean')"
            ]
          },
          "metadata": {
            "tags": []
          },
          "execution_count": 17
        }
      ]
    },
    {
      "cell_type": "code",
      "metadata": {
        "colab_type": "code",
        "id": "3ET6x4I-DXWP",
        "colab": {}
      },
      "source": [
        "dummy_pred = dummy_regressor.predict(X_te)"
      ],
      "execution_count": 0,
      "outputs": []
    },
    {
      "cell_type": "code",
      "metadata": {
        "colab_type": "code",
        "id": "h-oMdqdnDUjz",
        "outputId": "7aaa25ea-36a7-48f9-bebf-7a0eea15a19d",
        "colab": {
          "base_uri": "https://localhost:8080/",
          "height": 35
        }
      },
      "source": [
        "r2_score(y_te,np.exp(dummy_pred))"
      ],
      "execution_count": 20,
      "outputs": [
        {
          "output_type": "execute_result",
          "data": {
            "text/plain": [
              "-0.07814059006227048"
            ]
          },
          "metadata": {
            "tags": []
          },
          "execution_count": 20
        }
      ]
    },
    {
      "cell_type": "code",
      "metadata": {
        "colab_type": "code",
        "id": "Gw0h8_hCC4x4",
        "outputId": "66f2f49b-729a-42d8-e823-9864e5db928d",
        "colab": {
          "base_uri": "https://localhost:8080/",
          "height": 35
        }
      },
      "source": [
        "mean_absolute_error(y_te,np.exp(dummy_pred))"
      ],
      "execution_count": 21,
      "outputs": [
        {
          "output_type": "execute_result",
          "data": {
            "text/plain": [
              "10.514016596942366"
            ]
          },
          "metadata": {
            "tags": []
          },
          "execution_count": 21
        }
      ]
    },
    {
      "cell_type": "markdown",
      "metadata": {
        "colab_type": "text",
        "id": "DYJYPpPP-AaC"
      },
      "source": [
        "Ridge Regression"
      ]
    },
    {
      "cell_type": "code",
      "metadata": {
        "colab_type": "code",
        "id": "2eULFAcQ8arZ",
        "colab": {}
      },
      "source": [
        "full_information_transformer = ColumnTransformer(transformers=[\n",
        "    ('units_for_sale_imputer', SimpleImputer(strategy='constant',fill_value=0),['units_for_sale']),\n",
        "    ('average_rating_imputer', SimpleImputer(strategy='mean'),['average_rating']),\n",
        "    ('year_encoder', OneHotEncoder(dtype=np.uint8), ['year'])\n",
        "], remainder='passthrough')"
      ],
      "execution_count": 0,
      "outputs": []
    },
    {
      "cell_type": "code",
      "metadata": {
        "colab_type": "code",
        "id": "WCI8WWUu8ard",
        "colab": {}
      },
      "source": [
        "record_store_lr_transformer = ColumnTransformer(transformers=[\n",
        "    ('year_encoder', OneHotEncoder(dtype=np.uint8,handle_unknown='ignore'), ['year'])\n",
        "], remainder='passthrough')"
      ],
      "execution_count": 0,
      "outputs": []
    },
    {
      "cell_type": "code",
      "metadata": {
        "colab_type": "code",
        "id": "AZHfrogk8arh",
        "colab": {}
      },
      "source": [
        "record_store_lr_removal_columns = [\n",
        "    'market_price','units_for_sale','have','want','average_rating','rating_count','last_sold','lowest','median',\n",
        "    'highest','track_titles','country','genre','style','community_have','community_want','formats','thumb_url',\n",
        "    'release_url','format_description','days_since_last_sale','title',\n",
        "    ]"
      ],
      "execution_count": 0,
      "outputs": []
    },
    {
      "cell_type": "code",
      "metadata": {
        "colab_type": "code",
        "id": "sRH_P30fEM-W",
        "colab": {}
      },
      "source": [
        "record_store_lr_pipe = Pipeline([\n",
        "    ('running_time_imputer',RunningTimeImputer('running_time','number_of_tracks')),\n",
        "    ('leave_one_out_encoding', LeaveOneOutEncoder(cols=['artist','label','format_text','master_id','format_name'])),\n",
        "    ('record_store_column_remover', ColumnRemover(record_store_lr_removal_columns)),\n",
        "    ('preprocessing',record_store_lr_transformer),\n",
        "    ('scaler', StandardScaler()),\n",
        "    ('lr', GridSearchCV(\n",
        "        LinearRegression(),\n",
        "        param_grid={\n",
        "            'normalize':[False,True]\n",
        "        },\n",
        "        cv=KFold(n_splits=5,shuffle=True),\n",
        "        scoring='neg_mean_absolute_error',\n",
        "        verbose=5,\n",
        "        n_jobs=-1,\n",
        "    ))\n",
        "])"
      ],
      "execution_count": 0,
      "outputs": []
    },
    {
      "cell_type": "code",
      "metadata": {
        "colab_type": "code",
        "id": "s9AtCvkCEM4u",
        "outputId": "cf65dd85-e595-4206-a2c2-12112476cd1b",
        "colab": {
          "base_uri": "https://localhost:8080/",
          "height": 447
        }
      },
      "source": [
        "record_store_lr_pipe.fit(X_tr,np.log(y_tr).values)"
      ],
      "execution_count": 27,
      "outputs": [
        {
          "output_type": "stream",
          "text": [
            "Fitting 5 folds for each of 2 candidates, totalling 10 fits\n"
          ],
          "name": "stdout"
        },
        {
          "output_type": "stream",
          "text": [
            "[Parallel(n_jobs=-1)]: Using backend LokyBackend with 4 concurrent workers.\n",
            "[Parallel(n_jobs=-1)]: Done   6 out of  10 | elapsed:   19.7s remaining:   13.2s\n",
            "[Parallel(n_jobs=-1)]: Done  10 out of  10 | elapsed:   21.1s finished\n",
            "/usr/local/lib/python3.6/site-packages/cuml/utils/input_utils.py:188: UserWarning: Expected column ('F') major order, but got the opposite. Converting data, this will result in additional memory utilization.\n",
            "  warnings.warn(\"Expected \" + order_to_str(order) + \" major order, \"\n"
          ],
          "name": "stderr"
        },
        {
          "output_type": "execute_result",
          "data": {
            "text/plain": [
              "Pipeline(memory=None,\n",
              "         steps=[('running_time_imputer',\n",
              "                 RunningTimeImputer(number_of_tracks='number_of_tracks',\n",
              "                                    running_time='running_time')),\n",
              "                ('leave_one_out_encoding',\n",
              "                 LeaveOneOutEncoder(cols=['artist', 'label', 'format_text',\n",
              "                                          'master_id', 'format_name'],\n",
              "                                    drop_invariant=False,\n",
              "                                    handle_missing='value',\n",
              "                                    handle_unknown='value', random_state=None,\n",
              "                                    return_df=True, sigm...\n",
              "                              estimator=LinearRegression(algorithm='eig', fit_intercept=True, normalize=False, handle=<cuml.common.handle.Handle object at 0x7fd24b818190>, verbose=False, output_type='input'),\n",
              "                              iid='deprecated', n_jobs=-1,\n",
              "                              param_grid={'normalize': [False, True]},\n",
              "                              pre_dispatch='2*n_jobs', refit=True,\n",
              "                              return_train_score=False,\n",
              "                              scoring='neg_mean_absolute_error', verbose=5))],\n",
              "         verbose=False)"
            ]
          },
          "metadata": {
            "tags": []
          },
          "execution_count": 27
        }
      ]
    },
    {
      "cell_type": "code",
      "metadata": {
        "colab_type": "code",
        "id": "bVqYCgf9EMzZ",
        "outputId": "a5d52e29-d91d-4c8c-9f00-521af5a5eabe",
        "colab": {
          "base_uri": "https://localhost:8080/",
          "height": 35
        }
      },
      "source": [
        "record_store_lr_pipe['lr'].best_score_"
      ],
      "execution_count": 28,
      "outputs": [
        {
          "output_type": "execute_result",
          "data": {
            "text/plain": [
              "-1.1308526660036766"
            ]
          },
          "metadata": {
            "tags": []
          },
          "execution_count": 28
        }
      ]
    },
    {
      "cell_type": "code",
      "metadata": {
        "colab_type": "code",
        "id": "W6IhcYpqEMuK",
        "outputId": "5611ed88-88e4-48e0-ac8e-15e66f63e97f",
        "colab": {
          "base_uri": "https://localhost:8080/",
          "height": 53
        }
      },
      "source": [
        "lr_pred = record_store_lr_pipe.predict(X_te)"
      ],
      "execution_count": 29,
      "outputs": [
        {
          "output_type": "stream",
          "text": [
            "/usr/local/lib/python3.6/site-packages/cuml/utils/input_utils.py:188: UserWarning: Expected column ('F') major order, but got the opposite. Converting data, this will result in additional memory utilization.\n",
            "  warnings.warn(\"Expected \" + order_to_str(order) + \" major order, \"\n"
          ],
          "name": "stderr"
        }
      ]
    },
    {
      "cell_type": "code",
      "metadata": {
        "colab_type": "code",
        "id": "IVdPIxrzEMoC",
        "outputId": "a3e142e9-b387-4460-d146-dca2c90fd651",
        "colab": {
          "base_uri": "https://localhost:8080/",
          "height": 35
        }
      },
      "source": [
        "r2_score(y_te,np.exp(lr_pred))"
      ],
      "execution_count": 30,
      "outputs": [
        {
          "output_type": "execute_result",
          "data": {
            "text/plain": [
              "-1.339171995805663e+111"
            ]
          },
          "metadata": {
            "tags": []
          },
          "execution_count": 30
        }
      ]
    },
    {
      "cell_type": "code",
      "metadata": {
        "colab_type": "code",
        "id": "opzrKU8LE5DR",
        "outputId": "eeff2d88-eb36-4b69-f332-fab5705ff6d6",
        "colab": {
          "base_uri": "https://localhost:8080/",
          "height": 35
        }
      },
      "source": [
        "mean_absolute_error(y_te,np.exp(lr_pred))"
      ],
      "execution_count": 31,
      "outputs": [
        {
          "output_type": "execute_result",
          "data": {
            "text/plain": [
              "2.7449847925524948e+54"
            ]
          },
          "metadata": {
            "tags": []
          },
          "execution_count": 31
        }
      ]
    },
    {
      "cell_type": "code",
      "metadata": {
        "colab_type": "code",
        "id": "j_GvTd2E6E4j",
        "colab": {
          "base_uri": "https://localhost:8080/",
          "height": 312
        },
        "outputId": "fce3370d-6bd3-441d-80c6-0ea20320e75f"
      },
      "source": [
        "from cuml import Ridge"
      ],
      "execution_count": 18,
      "outputs": [
        {
          "output_type": "error",
          "ename": "ModuleNotFoundError",
          "evalue": "ignored",
          "traceback": [
            "\u001b[0;31m---------------------------------------------------------------------------\u001b[0m",
            "\u001b[0;31mModuleNotFoundError\u001b[0m                       Traceback (most recent call last)",
            "\u001b[0;32m<ipython-input-18-e0d458c3f996>\u001b[0m in \u001b[0;36m<module>\u001b[0;34m()\u001b[0m\n\u001b[0;32m----> 1\u001b[0;31m \u001b[0;32mfrom\u001b[0m \u001b[0mcuml\u001b[0m \u001b[0;32mimport\u001b[0m \u001b[0mRidge\u001b[0m\u001b[0;34m\u001b[0m\u001b[0;34m\u001b[0m\u001b[0m\n\u001b[0m",
            "\u001b[0;31mModuleNotFoundError\u001b[0m: No module named 'cuml'",
            "",
            "\u001b[0;31m---------------------------------------------------------------------------\u001b[0;32m\nNOTE: If your import is failing due to a missing package, you can\nmanually install dependencies using either !pip or !apt.\n\nTo view examples of installing some common dependencies, click the\n\"Open Examples\" button below.\n\u001b[0;31m---------------------------------------------------------------------------\u001b[0m\n"
          ]
        }
      ]
    },
    {
      "cell_type": "code",
      "metadata": {
        "colab_type": "code",
        "id": "BP1pxaQ18arp",
        "colab": {}
      },
      "source": [
        "record_store_ridge_pipe = Pipeline([\n",
        "    ('running_time_imputer',RunningTimeImputer('running_time','number_of_tracks')),\n",
        "    ('leave_one_out_encoding', LeaveOneOutEncoder(cols=['artist','label','format_text','format_name','master_id'])),\n",
        "    ('record_store_column_remover', ColumnRemover(record_store_lr_removal_columns)),\n",
        "    ('preprocessing',record_store_lr_transformer),\n",
        "    ('scaler', StandardScaler()),\n",
        "    ('ridge', GridSearchCV(\n",
        "        Ridge(normalize=False,solver='eig'),\n",
        "        param_grid={\n",
        "            'alpha': np.linspace(1e-2,1e3,20),\n",
        "        },\n",
        "        cv=KFold(n_splits=5,shuffle=True),\n",
        "        scoring='neg_mean_absolute_error',\n",
        "        verbose=5,\n",
        "        n_jobs=-1,\n",
        "        return_train_score=True\n",
        "    ))\n",
        "])"
      ],
      "execution_count": 0,
      "outputs": []
    },
    {
      "cell_type": "code",
      "metadata": {
        "colab_type": "code",
        "id": "edNLg2KryH4q",
        "outputId": "ad31cac2-506f-4852-f73c-68200411bf66",
        "colab": {
          "base_uri": "https://localhost:8080/",
          "height": 483
        }
      },
      "source": [
        "record_store_ridge_pipe.fit(X_tr,np.log(y_tr).values)"
      ],
      "execution_count": 39,
      "outputs": [
        {
          "output_type": "stream",
          "text": [
            "Fitting 5 folds for each of 20 candidates, totalling 100 fits\n"
          ],
          "name": "stdout"
        },
        {
          "output_type": "stream",
          "text": [
            "[Parallel(n_jobs=-1)]: Using backend LokyBackend with 4 concurrent workers.\n",
            "[Parallel(n_jobs=-1)]: Done  10 tasks      | elapsed:   18.0s\n",
            "[Parallel(n_jobs=-1)]: Done  64 tasks      | elapsed:   55.8s\n",
            "[Parallel(n_jobs=-1)]: Done 100 out of 100 | elapsed:  1.3min finished\n",
            "/usr/local/lib/python3.6/site-packages/cuml/utils/input_utils.py:188: UserWarning: Expected column ('F') major order, but got the opposite. Converting data, this will result in additional memory utilization.\n",
            "  warnings.warn(\"Expected \" + order_to_str(order) + \" major order, \"\n"
          ],
          "name": "stderr"
        },
        {
          "output_type": "execute_result",
          "data": {
            "text/plain": [
              "Pipeline(memory=None,\n",
              "         steps=[('running_time_imputer',\n",
              "                 RunningTimeImputer(number_of_tracks='number_of_tracks',\n",
              "                                    running_time='running_time')),\n",
              "                ('leave_one_out_encoding',\n",
              "                 LeaveOneOutEncoder(cols=['artist', 'label', 'format_text',\n",
              "                                          'format_name', 'master_id'],\n",
              "                                    drop_invariant=False,\n",
              "                                    handle_missing='value',\n",
              "                                    handle_unknown='value', random_state=None,\n",
              "                                    return_df=True, sigm...\n",
              "       2.10534211e+02, 2.63165263e+02, 3.15796316e+02, 3.68427368e+02,\n",
              "       4.21058421e+02, 4.73689474e+02, 5.26320526e+02, 5.78951579e+02,\n",
              "       6.31582632e+02, 6.84213684e+02, 7.36844737e+02, 7.89475789e+02,\n",
              "       8.42106842e+02, 8.94737895e+02, 9.47368947e+02, 1.00000000e+03])},\n",
              "                              pre_dispatch='2*n_jobs', refit=True,\n",
              "                              return_train_score=True,\n",
              "                              scoring='neg_mean_absolute_error', verbose=5))],\n",
              "         verbose=False)"
            ]
          },
          "metadata": {
            "tags": []
          },
          "execution_count": 39
        }
      ]
    },
    {
      "cell_type": "code",
      "metadata": {
        "id": "1-PtlEv8-RCT",
        "colab_type": "code",
        "colab": {}
      },
      "source": [
        ""
      ],
      "execution_count": 0,
      "outputs": []
    },
    {
      "cell_type": "code",
      "metadata": {
        "id": "z7tlJO3u-Tl4",
        "colab_type": "code",
        "colab": {}
      },
      "source": [
        "plotter = GridSearchPlotter(record_store_ridge_pipe['ridge'])"
      ],
      "execution_count": 0,
      "outputs": []
    },
    {
      "cell_type": "code",
      "metadata": {
        "id": "jla1YIhr-TgT",
        "colab_type": "code",
        "colab": {
          "base_uri": "https://localhost:8080/",
          "height": 295
        },
        "outputId": "5d187856-59b3-4d44-99ab-0c3ee8cf8bb5"
      },
      "source": [
        "plotter.plot_validation_curve(parameter='alpha',ylim=(-0.75,-0.25))"
      ],
      "execution_count": 47,
      "outputs": [
        {
          "output_type": "display_data",
          "data": {
            "image/png": "[encoded data removed]",
            "text/plain": [
              "<Figure size 432x288 with 1 Axes>"
            ]
          },
          "metadata": {
            "tags": [],
            "needs_background": "light"
          }
        }
      ]
    },
    {
      "cell_type": "code",
      "metadata": {
        "id": "cxR9zl4f-hk9",
        "colab_type": "code",
        "colab": {
          "base_uri": "https://localhost:8080/",
          "height": 35
        },
        "outputId": "f7f1c569-906b-4bca-849b-66f72e5fec48"
      },
      "source": [
        "record_store_ridge_pipe['ridge'].best_score_"
      ],
      "execution_count": 45,
      "outputs": [
        {
          "output_type": "execute_result",
          "data": {
            "text/plain": [
              "-0.5281733252425947"
            ]
          },
          "metadata": {
            "tags": []
          },
          "execution_count": 45
        }
      ]
    },
    {
      "cell_type": "code",
      "metadata": {
        "colab_type": "code",
        "id": "cbV-3Q9A0-hi",
        "outputId": "80746ec0-295d-4a6b-b7d7-c5f94beec478",
        "colab": {
          "base_uri": "https://localhost:8080/",
          "height": 35
        }
      },
      "source": [
        "record_store_ridge_pipe['ridge'].best_params_"
      ],
      "execution_count": 40,
      "outputs": [
        {
          "output_type": "execute_result",
          "data": {
            "text/plain": [
              "{'alpha': 315.7963157894737}"
            ]
          },
          "metadata": {
            "tags": []
          },
          "execution_count": 40
        }
      ]
    },
    {
      "cell_type": "code",
      "metadata": {
        "colab_type": "code",
        "id": "db1qMG0e8ar7",
        "outputId": "7845de80-0f24-4aa3-8998-eeca06bcec76",
        "colab": {
          "base_uri": "https://localhost:8080/",
          "height": 53
        }
      },
      "source": [
        "ridge_pred = record_store_ridge_pipe.predict(X_te)"
      ],
      "execution_count": 48,
      "outputs": [
        {
          "output_type": "stream",
          "text": [
            "/usr/local/lib/python3.6/site-packages/cuml/utils/input_utils.py:188: UserWarning: Expected column ('F') major order, but got the opposite. Converting data, this will result in additional memory utilization.\n",
            "  warnings.warn(\"Expected \" + order_to_str(order) + \" major order, \"\n"
          ],
          "name": "stderr"
        }
      ]
    },
    {
      "cell_type": "code",
      "metadata": {
        "colab_type": "code",
        "id": "GsQHxrUE8ar-",
        "outputId": "2ddfe12e-6d38-447f-975c-4e638ebbd5a4",
        "colab": {
          "base_uri": "https://localhost:8080/",
          "height": 35
        }
      },
      "source": [
        "r2_score(y_te,np.exp(ridge_pred))"
      ],
      "execution_count": 50,
      "outputs": [
        {
          "output_type": "execute_result",
          "data": {
            "text/plain": [
              "0.17161807292869136"
            ]
          },
          "metadata": {
            "tags": []
          },
          "execution_count": 50
        }
      ]
    },
    {
      "cell_type": "code",
      "metadata": {
        "colab_type": "code",
        "id": "9oKBWYEo8asD",
        "outputId": "069081cc-b2d2-438c-ca49-1830c899f482",
        "colab": {
          "base_uri": "https://localhost:8080/",
          "height": 35
        }
      },
      "source": [
        "mean_absolute_error(y_te,np.exp(ridge_pred))"
      ],
      "execution_count": 51,
      "outputs": [
        {
          "output_type": "execute_result",
          "data": {
            "text/plain": [
              "8.508850500505012"
            ]
          },
          "metadata": {
            "tags": []
          },
          "execution_count": 51
        }
      ]
    },
    {
      "cell_type": "markdown",
      "metadata": {
        "colab_type": "text",
        "id": "fbreYK1X8asG"
      },
      "source": [
        "## Random Forest"
      ]
    },
    {
      "cell_type": "code",
      "metadata": {
        "colab_type": "code",
        "id": "McTksN6VGPnv",
        "colab": {}
      },
      "source": [
        "record_store_random_forest_removal_columns = [\n",
        "    'market_price','units_for_sale','have','want','average_rating','rating_count','last_sold','lowest','median',\n",
        "    'highest','track_titles','country','genre','style','community_have','community_want','formats','thumb_url',\n",
        "    'release_url','format_description','days_since_last_sale','title'\n",
        "    ]\n",
        "record_store_random_forest_removal_columns.extend(\n",
        "    column_store._indicator\n",
        ")"
      ],
      "execution_count": 0,
      "outputs": []
    },
    {
      "cell_type": "code",
      "metadata": {
        "colab_type": "code",
        "id": "VQpYcJqauUxO",
        "colab": {}
      },
      "source": [
        "full_information_transformer = ColumnTransformer(transformers=[\n",
        "    ('units_for_sale_imputer', SimpleImputer(strategy='constant',fill_value=0),['units_for_sale']),\n",
        "    ('average_rating_imputer', SimpleImputer(strategy='mean'),['average_rating']),\n",
        "    ('year_encoder', OneHotEncoder(dtype=np.uint8), ['year'])\n",
        "], remainder='passthrough')"
      ],
      "execution_count": 0,
      "outputs": []
    },
    {
      "cell_type": "code",
      "metadata": {
        "colab_type": "code",
        "id": "ZPepolAxMUxj",
        "colab": {
          "base_uri": "https://localhost:8080/",
          "height": 330
        },
        "outputId": "5b4891d4-505c-4493-f6be-cbc634cd4491"
      },
      "source": [
        "from cuml import RandomForestRegressor"
      ],
      "execution_count": 16,
      "outputs": [
        {
          "output_type": "error",
          "ename": "ModuleNotFoundError",
          "evalue": "ignored",
          "traceback": [
            "\u001b[0;31m---------------------------------------------------------------------------\u001b[0m",
            "\u001b[0;31mModuleNotFoundError\u001b[0m                       Traceback (most recent call last)",
            "\u001b[0;32m<ipython-input-16-9e02c5244085>\u001b[0m in \u001b[0;36m<module>\u001b[0;34m()\u001b[0m\n\u001b[0;32m----> 1\u001b[0;31m \u001b[0;32mfrom\u001b[0m \u001b[0mcuml\u001b[0m \u001b[0;32mimport\u001b[0m \u001b[0mRandomForestRegressor\u001b[0m\u001b[0;34m\u001b[0m\u001b[0;34m\u001b[0m\u001b[0m\n\u001b[0m\u001b[1;32m      2\u001b[0m \u001b[0;32mfrom\u001b[0m \u001b[0mlib\u001b[0m\u001b[0;34m.\u001b[0m\u001b[0mtransformers\u001b[0m \u001b[0;32mimport\u001b[0m \u001b[0mIndicatorReducer\u001b[0m\u001b[0;34m\u001b[0m\u001b[0;34m\u001b[0m\u001b[0m\n",
            "\u001b[0;31mModuleNotFoundError\u001b[0m: No module named 'cuml'",
            "",
            "\u001b[0;31m---------------------------------------------------------------------------\u001b[0;32m\nNOTE: If your import is failing due to a missing package, you can\nmanually install dependencies using either !pip or !apt.\n\nTo view examples of installing some common dependencies, click the\n\"Open Examples\" button below.\n\u001b[0;31m---------------------------------------------------------------------------\u001b[0m\n"
          ]
        }
      ]
    },
    {
      "cell_type": "code",
      "metadata": {
        "colab_type": "code",
        "id": "BPf-IJfD8asO",
        "outputId": "99dabe48-b4be-44de-f76e-d34ba718019a",
        "colab": {
          "base_uri": "https://localhost:8080/",
          "height": 35
        }
      },
      "source": [
        "random_forest_preprocessing_pipe = Pipeline([\n",
        "    ('running_time_imputer',RunningTimeImputer('running_time','number_of_tracks')),\n",
        "    ('leave_one_out_encoding', LeaveOneOutEncoder(cols=['artist','label','format_text','format_name','master_id'])),\n",
        "    ('reduce_indicators', IndicatorReducer(indicators=column_store._indicator,algorithm=UMAP,components=40)),\n",
        "    ('record_store_column_remover', ColumnRemover(record_store_random_forest_removal_columns)),\n",
        "    ('cast_to_32', FunctionTransformer(func=lambda x: x.values.astype(np.float32)))\n",
        "])\n",
        "\n",
        "random_forest = RandomForestRegressor(\n",
        "      seed=0,\n",
        "      rows_sample=0.1,\n",
        "      n_estimators=100,\n",
        "      n_bins=25,\n",
        "      split_criterion=2,\n",
        "      max_depth=20,\n",
        "      max_features='auto',\n",
        "      min_rows_per_node=2,\n",
        "      min_impurity_decrease=0\n",
        "  )\n",
        "\n",
        "random_forest_search_pipe = Pipeline([\n",
        "    ('preprocessing',random_forest_preprocessing_pipe),\n",
        "    ('grid_search', GridSearchCV(\n",
        "        random_forest,\n",
        "        cv=KFold(n_splits=5,shuffle=True),\n",
        "        param_grid={\n",
        "        },\n",
        "        verbose=50,\n",
        "        scoring='neg_mean_absolute_error',\n",
        "        n_jobs=-1,\n",
        "        return_train_score=True\n",
        "    ))\n",
        "])\n",
        "\n",
        "random_forest_pipe = Pipeline([\n",
        "    ('preprocessing',random_forest_preprocessing_pipe),\n",
        "    ('random_forest',random_forest)\n",
        "])"
      ],
      "execution_count": 107,
      "outputs": [
        {
          "output_type": "stream",
          "text": [
            "/usr/local/lib/python3.6/dist-packages/ipykernel_launcher.py:18: UserWarning: Setting the random seed does not fully guarantee the exact same results at this time.\n"
          ],
          "name": "stderr"
        }
      ]
    },
    {
      "cell_type": "code",
      "metadata": {
        "colab_type": "code",
        "id": "l97EbEPB8asR",
        "outputId": "5ec2bd93-f9a4-4353-bc87-881fbbaea291",
        "colab": {
          "base_uri": "https://localhost:8080/",
          "height": 1000
        }
      },
      "source": [
        "random_forest_search_pipe.fit(X_tr,np.log(y_tr).values.astype(np.float32))"
      ],
      "execution_count": 101,
      "outputs": [
        {
          "output_type": "stream",
          "text": [
            "/usr/local/lib/python3.6/site-packages/cuml/utils/input_utils.py:188: UserWarning: Expected row ('C') major order, but got the opposite. Converting data, this will result in additional memory utilization.\n",
            "  warnings.warn(\"Expected \" + order_to_str(order) + \" major order, \"\n"
          ],
          "name": "stderr"
        },
        {
          "output_type": "stream",
          "text": [
            "Fitting 5 folds for each of 6 candidates, totalling 30 fits\n",
            "[Parallel(n_jobs=-1)]: Using backend LokyBackend with 4 concurrent workers.\n",
            "[Parallel(n_jobs=-1)]: Done   1 tasks      | elapsed:   28.2s\n"
          ],
          "name": "stdout"
        },
        {
          "output_type": "stream",
          "text": [
            "/usr/local/lib/python3.6/dist-packages/joblib/externals/loky/process_executor.py:706: UserWarning: A worker stopped while some jobs were given to the executor. This can be caused by a too short worker timeout or by a memory leak.\n",
            "  \"timeout or by a memory leak.\", UserWarning\n"
          ],
          "name": "stderr"
        },
        {
          "output_type": "stream",
          "text": [
            "[Parallel(n_jobs=-1)]: Done   2 tasks      | elapsed:   28.8s\n",
            "[Parallel(n_jobs=-1)]: Done   3 tasks      | elapsed:   29.2s\n",
            "[Parallel(n_jobs=-1)]: Done   4 tasks      | elapsed:   29.7s\n",
            "[Parallel(n_jobs=-1)]: Done   5 tasks      | elapsed:  1.0min\n",
            "[Parallel(n_jobs=-1)]: Done   6 tasks      | elapsed:  1.0min\n",
            "[Parallel(n_jobs=-1)]: Done   7 tasks      | elapsed:  1.0min\n",
            "[Parallel(n_jobs=-1)]: Done   8 tasks      | elapsed:  1.1min\n",
            "[Parallel(n_jobs=-1)]: Done   9 tasks      | elapsed:  1.5min\n",
            "[Parallel(n_jobs=-1)]: Done  10 tasks      | elapsed:  1.5min\n",
            "[Parallel(n_jobs=-1)]: Done  11 tasks      | elapsed:  1.5min\n",
            "[Parallel(n_jobs=-1)]: Done  12 tasks      | elapsed:  1.5min\n",
            "[Parallel(n_jobs=-1)]: Done  13 tasks      | elapsed:  1.9min\n",
            "[Parallel(n_jobs=-1)]: Done  14 tasks      | elapsed:  1.9min\n",
            "[Parallel(n_jobs=-1)]: Done  15 tasks      | elapsed:  2.0min\n",
            "[Parallel(n_jobs=-1)]: Done  16 tasks      | elapsed:  2.0min\n",
            "[Parallel(n_jobs=-1)]: Done  17 tasks      | elapsed:  2.4min\n",
            "[Parallel(n_jobs=-1)]: Done  18 tasks      | elapsed:  2.5min\n",
            "[Parallel(n_jobs=-1)]: Done  19 tasks      | elapsed:  2.5min\n",
            "[Parallel(n_jobs=-1)]: Done  20 tasks      | elapsed:  2.5min\n",
            "[Parallel(n_jobs=-1)]: Done  21 tasks      | elapsed:  2.8min\n",
            "[Parallel(n_jobs=-1)]: Done  22 tasks      | elapsed:  2.9min\n",
            "[Parallel(n_jobs=-1)]: Done  23 tasks      | elapsed:  3.0min\n",
            "[Parallel(n_jobs=-1)]: Done  24 out of  30 | elapsed:  3.0min remaining:   44.6s\n",
            "[Parallel(n_jobs=-1)]: Done  25 out of  30 | elapsed:  3.3min remaining:   39.6s\n",
            "[Parallel(n_jobs=-1)]: Done  26 out of  30 | elapsed:  3.4min remaining:   31.0s\n",
            "[Parallel(n_jobs=-1)]: Done  27 out of  30 | elapsed:  3.4min remaining:   22.6s\n",
            "[Parallel(n_jobs=-1)]: Done  28 out of  30 | elapsed:  3.4min remaining:   14.6s\n",
            "[Parallel(n_jobs=-1)]: Done  30 out of  30 | elapsed:  3.7min remaining:    0.0s\n",
            "[Parallel(n_jobs=-1)]: Done  30 out of  30 | elapsed:  3.7min finished\n"
          ],
          "name": "stdout"
        },
        {
          "output_type": "stream",
          "text": [
            "/usr/local/lib/python3.6/site-packages/cuml/utils/input_utils.py:188: UserWarning: Expected column ('F') major order, but got the opposite. Converting data, this will result in additional memory utilization.\n",
            "  warnings.warn(\"Expected \" + order_to_str(order) + \" major order, \"\n"
          ],
          "name": "stderr"
        },
        {
          "output_type": "execute_result",
          "data": {
            "text/plain": [
              "Pipeline(memory=None,\n",
              "         steps=[('preprocessing',\n",
              "                 Pipeline(memory=None,\n",
              "                          steps=[('running_time_imputer',\n",
              "                                  RunningTimeImputer(number_of_tracks='number_of_tracks',\n",
              "                                                     running_time='running_time')),\n",
              "                                 ('leave_one_out_encoding',\n",
              "                                  LeaveOneOutEncoder(cols=['artist', 'label',\n",
              "                                                           'format_text',\n",
              "                                                           'format_name',\n",
              "                                                           'master_id'],\n",
              "                                                     drop_invariant=False,\n",
              "                                                     handle_missing='value',\n",
              "                                                     handle_unknown=...\n",
              "                              estimator=RandomForestRegressor(n_estimators=100, max_depth=20, handle=<cuml.common.handle.Handle object at 0x7fd1a60fc6d0>, max_features='auto', n_bins=25, n_streams=8, split_algo=1, split_criterion=2, bootstrap=True, bootstrap_features=False, verbose=False, min_rows_per_node=2, rows_sample=0.1, max_leaves=-1, accuracy_metric='mse', output_type='input', min_impurity_decrease=0.0, quantile_per_tree=False, seed=0),\n",
              "                              iid='deprecated', n_jobs=-1,\n",
              "                              param_grid={'min_impurity_decrease': [0,\n",
              "                                                                    1.0002302850208247,\n",
              "                                                                    1.778586534531975,\n",
              "                                                                    3.1626417517967864,\n",
              "                                                                    5.623736970908922,\n",
              "                                                                    10.0]},\n",
              "                              pre_dispatch='2*n_jobs', refit=True,\n",
              "                              return_train_score=True,\n",
              "                              scoring='neg_mean_absolute_error', verbose=50))],\n",
              "         verbose=False)"
            ]
          },
          "metadata": {
            "tags": []
          },
          "execution_count": 101
        }
      ]
    },
    {
      "cell_type": "code",
      "metadata": {
        "id": "2awntfVd_nAJ",
        "colab_type": "code",
        "colab": {
          "base_uri": "https://localhost:8080/",
          "height": 296
        },
        "outputId": "3d43c10c-e20c-48ed-ea14-d3a37e45ebab"
      },
      "source": [
        "random_forest_plotter = GridSearchPlotter(random_forest_search_pipe['grid_search'])\n",
        "random_forest_plotter.plot_validation_curve(parameter='min_impurity_decrease',ylim=(-1,0))"
      ],
      "execution_count": 102,
      "outputs": [
        {
          "output_type": "display_data",
          "data": {
            "image/png": "[encoded data removed]",
            "text/plain": [
              "<Figure size 432x288 with 1 Axes>"
            ]
          },
          "metadata": {
            "tags": [],
            "needs_background": "light"
          }
        }
      ]
    },
    {
      "cell_type": "code",
      "metadata": {
        "colab_type": "code",
        "id": "kIzLmO8Bzkdr",
        "outputId": "04c421f1-ffca-420c-e929-0a0e637dbb2c",
        "colab": {
          "base_uri": "https://localhost:8080/",
          "height": 35
        }
      },
      "source": [
        "random_forest_search_pipe['grid_search'].best_score_"
      ],
      "execution_count": 105,
      "outputs": [
        {
          "output_type": "execute_result",
          "data": {
            "text/plain": [
              "-0.10215552896261215"
            ]
          },
          "metadata": {
            "tags": []
          },
          "execution_count": 105
        }
      ]
    },
    {
      "cell_type": "code",
      "metadata": {
        "colab_type": "code",
        "id": "1Jh6GfwRzk2n",
        "outputId": "e68c3687-bccc-4ca7-c3fc-4595fb2235ca",
        "colab": {
          "base_uri": "https://localhost:8080/",
          "height": 35
        }
      },
      "source": [
        "random_forest_search_pipe['grid_search'].best_params_"
      ],
      "execution_count": 106,
      "outputs": [
        {
          "output_type": "execute_result",
          "data": {
            "text/plain": [
              "{'min_impurity_decrease': 0}"
            ]
          },
          "metadata": {
            "tags": []
          },
          "execution_count": 106
        }
      ]
    },
    {
      "cell_type": "code",
      "metadata": {
        "id": "7HMokfJnMYzZ",
        "colab_type": "code",
        "colab": {
          "base_uri": "https://localhost:8080/",
          "height": 395
        },
        "outputId": "15af7da6-9b40-4251-91f8-3485c1440390"
      },
      "source": [
        "random_forest_pipe.fit(X_tr,np.log(y_tr).values.astype(np.float32))"
      ],
      "execution_count": 108,
      "outputs": [
        {
          "output_type": "stream",
          "text": [
            "/usr/local/lib/python3.6/site-packages/cuml/utils/input_utils.py:188: UserWarning: Expected row ('C') major order, but got the opposite. Converting data, this will result in additional memory utilization.\n",
            "  warnings.warn(\"Expected \" + order_to_str(order) + \" major order, \"\n",
            "/usr/local/lib/python3.6/site-packages/cuml/utils/input_utils.py:188: UserWarning: Expected column ('F') major order, but got the opposite. Converting data, this will result in additional memory utilization.\n",
            "  warnings.warn(\"Expected \" + order_to_str(order) + \" major order, \"\n"
          ],
          "name": "stderr"
        },
        {
          "output_type": "execute_result",
          "data": {
            "text/plain": [
              "Pipeline(memory=None,\n",
              "         steps=[('preprocessing',\n",
              "                 Pipeline(memory=None,\n",
              "                          steps=[('running_time_imputer',\n",
              "                                  RunningTimeImputer(number_of_tracks='number_of_tracks',\n",
              "                                                     running_time='running_time')),\n",
              "                                 ('leave_one_out_encoding',\n",
              "                                  LeaveOneOutEncoder(cols=['artist', 'label',\n",
              "                                                           'format_text',\n",
              "                                                           'format_name',\n",
              "                                                           'master_id'],\n",
              "                                                     drop_invariant=False,\n",
              "                                                     handle_missing='value',\n",
              "                                                     handle_unknown=...\n",
              "                 RandomForestRegressor(n_estimators=100, max_depth=20, handle=<cuml.common.handle.Handle object at 0x7fd1a6156d10>, max_features='auto', n_bins=25, n_streams=8, split_algo=1, split_criterion=2, bootstrap=True, bootstrap_features=False, verbose=False, min_rows_per_node=2, rows_sample=0.1, max_leaves=-1, accuracy_metric='mse', output_type='numpy', min_impurity_decrease=0, quantile_per_tree=False, seed=0))],\n",
              "         verbose=False)"
            ]
          },
          "metadata": {
            "tags": []
          },
          "execution_count": 108
        }
      ]
    },
    {
      "cell_type": "code",
      "metadata": {
        "id": "VrdorFhMMe2P",
        "colab_type": "code",
        "colab": {
          "base_uri": "https://localhost:8080/",
          "height": 53
        },
        "outputId": "c55327dd-f5f2-41d9-ea69-d4f564f10a41"
      },
      "source": [
        "random_forest_tr_pred = random_forest_pipe.predict(X_tr)\n",
        "random_forest_te_pred = random_forest_pipe.predict(X_te)"
      ],
      "execution_count": 109,
      "outputs": [
        {
          "output_type": "stream",
          "text": [
            "/usr/local/lib/python3.6/site-packages/cuml/utils/input_utils.py:188: UserWarning: Expected row ('C') major order, but got the opposite. Converting data, this will result in additional memory utilization.\n",
            "  warnings.warn(\"Expected \" + order_to_str(order) + \" major order, \"\n"
          ],
          "name": "stderr"
        }
      ]
    },
    {
      "cell_type": "code",
      "metadata": {
        "id": "xnaxm4vFMzXI",
        "colab_type": "code",
        "colab": {
          "base_uri": "https://localhost:8080/",
          "height": 35
        },
        "outputId": "e938693b-1d24-4774-d54e-5b2545cc3944"
      },
      "source": [
        "mean_absolute_error(np.log(y_tr),random_forest_tr_pred)"
      ],
      "execution_count": 110,
      "outputs": [
        {
          "output_type": "execute_result",
          "data": {
            "text/plain": [
              "0.6910381797919923"
            ]
          },
          "metadata": {
            "tags": []
          },
          "execution_count": 110
        }
      ]
    },
    {
      "cell_type": "code",
      "metadata": {
        "id": "g-Naw5QOMoIR",
        "colab_type": "code",
        "colab": {
          "base_uri": "https://localhost:8080/",
          "height": 35
        },
        "outputId": "fd5d5f07-41d4-46eb-c230-ed908d64c9ee"
      },
      "source": [
        "r2_score(y_tr,np.exp(random_forest_tr_pred))"
      ],
      "execution_count": 112,
      "outputs": [
        {
          "output_type": "execute_result",
          "data": {
            "text/plain": [
              "-0.08569952062358754"
            ]
          },
          "metadata": {
            "tags": []
          },
          "execution_count": 112
        }
      ]
    },
    {
      "cell_type": "code",
      "metadata": {
        "id": "y1Ko_cUBMoEy",
        "colab_type": "code",
        "colab": {
          "base_uri": "https://localhost:8080/",
          "height": 35
        },
        "outputId": "287e0491-f436-4306-b043-89b42476c9a9"
      },
      "source": [
        "r2_score(y_te,np.exp(random_forest_te_pred))"
      ],
      "execution_count": 113,
      "outputs": [
        {
          "output_type": "execute_result",
          "data": {
            "text/plain": [
              "-0.08699321858477127"
            ]
          },
          "metadata": {
            "tags": []
          },
          "execution_count": 113
        }
      ]
    },
    {
      "cell_type": "code",
      "metadata": {
        "colab_type": "code",
        "id": "wup9qjI4zk-d",
        "outputId": "8b362213-4b2e-4833-b957-f8c78d3c5e19",
        "colab": {
          "base_uri": "https://localhost:8080/",
          "height": 35
        }
      },
      "source": [
        "mean_absolute_error(y_tr,np.exp(random_forest_tr_pred))"
      ],
      "execution_count": 114,
      "outputs": [
        {
          "output_type": "execute_result",
          "data": {
            "text/plain": [
              "10.468069197895579"
            ]
          },
          "metadata": {
            "tags": []
          },
          "execution_count": 114
        }
      ]
    },
    {
      "cell_type": "code",
      "metadata": {
        "colab_type": "code",
        "id": "R3cCwv8t0E4R",
        "outputId": "9379593c-cd90-414c-d0ea-64153eb78600",
        "colab": {
          "base_uri": "https://localhost:8080/",
          "height": 35
        }
      },
      "source": [
        "mean_absolute_error(y_te,np.exp(random_forest_te_pred))"
      ],
      "execution_count": 115,
      "outputs": [
        {
          "output_type": "execute_result",
          "data": {
            "text/plain": [
              "10.451856799756252"
            ]
          },
          "metadata": {
            "tags": []
          },
          "execution_count": 115
        }
      ]
    },
    {
      "cell_type": "markdown",
      "metadata": {
        "colab_type": "text",
        "id": "wcM8J6K68asg"
      },
      "source": [
        "## Catboost"
      ]
    },
    {
      "cell_type": "code",
      "metadata": {
        "colab_type": "code",
        "id": "CdbAdWVW8ash",
        "colab": {
          "base_uri": "https://localhost:8080/",
          "height": 1000
        },
        "outputId": "4f2204f7-ba67-48fe-a156-e039ed05471a"
      },
      "source": [
        ""
      ],
      "execution_count": 19,
      "outputs": [
        {
          "output_type": "stream",
          "text": [
            "Collecting catboost\n",
            "\u001b[?25l  Downloading https://files.pythonhosted.org/packages/b1/61/2b8106c8870601671d99ca94d8b8d180f2b740b7cdb95c930147508abcf9/catboost-0.23-cp36-none-manylinux1_x86_64.whl (64.7MB)\n",
            "\u001b[K    100% |████████████████████████████████| 64.8MB 400kB/s \n",
            "\u001b[?25hCollecting scipy (from catboost)\n",
            "\u001b[?25l  Downloading https://files.pythonhosted.org/packages/dc/29/162476fd44203116e7980cfbd9352eef9db37c49445d1fec35509022f6aa/scipy-1.4.1-cp36-cp36m-manylinux1_x86_64.whl (26.1MB)\n",
            "\u001b[K    100% |████████████████████████████████| 26.1MB 974kB/s \n",
            "\u001b[?25hCollecting graphviz (from catboost)\n",
            "  Downloading https://files.pythonhosted.org/packages/83/cc/c62100906d30f95d46451c15eb407da7db201e30f42008f3643945910373/graphviz-0.14-py2.py3-none-any.whl\n",
            "Collecting pandas>=0.24.0 (from catboost)\n",
            "\u001b[?25l  Downloading https://files.pythonhosted.org/packages/bb/71/8f53bdbcbc67c912b888b40def255767e475402e9df64050019149b1a943/pandas-1.0.3-cp36-cp36m-manylinux1_x86_64.whl (10.0MB)\n",
            "\u001b[K    100% |████████████████████████████████| 10.0MB 5.8MB/s \n",
            "\u001b[?25hCollecting plotly (from catboost)\n",
            "\u001b[?25l  Downloading https://files.pythonhosted.org/packages/15/90/918bccb0ca60dc6d126d921e2c67126d75949f5da777e6b18c51fb12603d/plotly-4.6.0-py2.py3-none-any.whl (7.1MB)\n",
            "\u001b[K    100% |████████████████████████████████| 7.2MB 1.1MB/s \n",
            "\u001b[?25hRequirement already satisfied: six in /usr/local/lib/python3.6/site-packages (from catboost) (1.11.0)\n",
            "Collecting numpy>=1.16.0 (from catboost)\n",
            "\u001b[?25l  Downloading https://files.pythonhosted.org/packages/3d/fc/4763e5f17ac6e7e7d55f377cde859ca1c5d5ac624441ab45315bc578aa9e/numpy-1.18.3-cp36-cp36m-manylinux1_x86_64.whl (20.2MB)\n",
            "\u001b[K    100% |████████████████████████████████| 20.2MB 2.5MB/s \n",
            "\u001b[?25hCollecting matplotlib (from catboost)\n",
            "\u001b[?25l  Downloading https://files.pythonhosted.org/packages/93/4b/52da6b1523d5139d04e02d9e26ceda6146b48f2a4e5d2abfdf1c7bac8c40/matplotlib-3.2.1-cp36-cp36m-manylinux1_x86_64.whl (12.4MB)\n",
            "\u001b[K    100% |████████████████████████████████| 12.4MB 2.1MB/s \n",
            "\u001b[?25hCollecting pytz>=2017.2 (from pandas>=0.24.0->catboost)\n",
            "\u001b[?25l  Downloading https://files.pythonhosted.org/packages/e7/f9/f0b53f88060247251bf481fa6ea62cd0d25bf1b11a87888e53ce5b7c8ad2/pytz-2019.3-py2.py3-none-any.whl (509kB)\n",
            "\u001b[K    100% |████████████████████████████████| 512kB 13.0MB/s \n",
            "\u001b[?25hCollecting python-dateutil>=2.6.1 (from pandas>=0.24.0->catboost)\n",
            "\u001b[?25l  Downloading https://files.pythonhosted.org/packages/d4/70/d60450c3dd48ef87586924207ae8907090de0b306af2bce5d134d78615cb/python_dateutil-2.8.1-py2.py3-none-any.whl (227kB)\n",
            "\u001b[K    100% |████████████████████████████████| 235kB 24.2MB/s \n",
            "\u001b[?25hCollecting retrying>=1.3.3 (from plotly->catboost)\n",
            "  Downloading https://files.pythonhosted.org/packages/44/ef/beae4b4ef80902f22e3af073397f079c96969c69b2c7d52a57ea9ae61c9d/retrying-1.3.3.tar.gz\n",
            "Collecting pyparsing!=2.0.4,!=2.1.2,!=2.1.6,>=2.0.1 (from matplotlib->catboost)\n",
            "\u001b[?25l  Downloading https://files.pythonhosted.org/packages/8a/bb/488841f56197b13700afd5658fc279a2025a39e22449b7cf29864669b15d/pyparsing-2.4.7-py2.py3-none-any.whl (67kB)\n",
            "\u001b[K    100% |████████████████████████████████| 71kB 27.6MB/s \n",
            "\u001b[?25hCollecting cycler>=0.10 (from matplotlib->catboost)\n",
            "  Downloading https://files.pythonhosted.org/packages/f7/d2/e07d3ebb2bd7af696440ce7e754c59dd546ffe1bbe732c8ab68b9c834e61/cycler-0.10.0-py2.py3-none-any.whl\n",
            "Collecting kiwisolver>=1.0.1 (from matplotlib->catboost)\n",
            "\u001b[?25l  Downloading https://files.pythonhosted.org/packages/ae/23/147de658aabbf968324551ea22c0c13a00284c4ef49a77002e91f79657b7/kiwisolver-1.2.0-cp36-cp36m-manylinux1_x86_64.whl (88kB)\n",
            "\u001b[K    100% |████████████████████████████████| 92kB 35.0MB/s \n",
            "\u001b[?25hBuilding wheels for collected packages: retrying\n",
            "  Running setup.py bdist_wheel for retrying ... \u001b[?25ldone\n",
            "\u001b[?25h  Stored in directory: /root/.cache/pip/wheels/d7/a9/33/acc7b709e2a35caa7d4cae442f6fe6fbf2c43f80823d46460c\n",
            "Successfully built retrying\n",
            "Installing collected packages: numpy, scipy, graphviz, pytz, python-dateutil, pandas, retrying, plotly, pyparsing, cycler, kiwisolver, matplotlib, catboost\n",
            "Successfully installed catboost-0.23 cycler-0.10.0 graphviz-0.14 kiwisolver-1.2.0 matplotlib-3.2.1 numpy-1.18.3 pandas-1.0.3 plotly-4.6.0 pyparsing-2.4.7 python-dateutil-2.8.1 pytz-2019.3 retrying-1.3.3 scipy-1.4.1\n"
          ],
          "name": "stdout"
        },
        {
          "output_type": "display_data",
          "data": {
            "application/vnd.colab-display-data+json": {
              "pip_warning": {
                "packages": [
                  "cycler",
                  "dateutil",
                  "kiwisolver",
                  "matplotlib",
                  "mpl_toolkits",
                  "numpy",
                  "pandas",
                  "pyparsing",
                  "scipy"
                ]
              }
            }
          },
          "metadata": {
            "tags": []
          }
        },
        {
          "output_type": "error",
          "ename": "ModuleNotFoundError",
          "evalue": "ignored",
          "traceback": [
            "\u001b[0;31m---------------------------------------------------------------------------\u001b[0m",
            "\u001b[0;31mModuleNotFoundError\u001b[0m                       Traceback (most recent call last)",
            "\u001b[0;32m<ipython-input-19-71b28ac5a01c>\u001b[0m in \u001b[0;36m<module>\u001b[0;34m()\u001b[0m\n\u001b[1;32m      1\u001b[0m \u001b[0mget_ipython\u001b[0m\u001b[0;34m(\u001b[0m\u001b[0;34m)\u001b[0m\u001b[0;34m.\u001b[0m\u001b[0msystem\u001b[0m\u001b[0;34m(\u001b[0m\u001b[0;34m'pip install catboost'\u001b[0m\u001b[0;34m)\u001b[0m\u001b[0;34m\u001b[0m\u001b[0;34m\u001b[0m\u001b[0m\n\u001b[0;32m----> 2\u001b[0;31m \u001b[0;32mfrom\u001b[0m \u001b[0mcatboost\u001b[0m \u001b[0;32mimport\u001b[0m \u001b[0mCatBoostRegressor\u001b[0m\u001b[0;34m\u001b[0m\u001b[0;34m\u001b[0m\u001b[0m\n\u001b[0m",
            "\u001b[0;31mModuleNotFoundError\u001b[0m: No module named 'catboost'",
            "",
            "\u001b[0;31m---------------------------------------------------------------------------\u001b[0;32m\nNOTE: If your import is failing due to a missing package, you can\nmanually install dependencies using either !pip or !apt.\n\nTo view examples of installing some common dependencies, click the\n\"Open Examples\" button below.\n\u001b[0;31m---------------------------------------------------------------------------\u001b[0m\n"
          ]
        }
      ]
    },
    {
      "cell_type": "code",
      "metadata": {
        "colab_type": "code",
        "id": "OjIxG4pI8asl",
        "colab": {}
      },
      "source": [
        "record_store_catboost_removal_columns = [\n",
        "    'market_price','units_for_sale','have','want','average_rating','rating_count','last_sold','lowest','median',\n",
        "    'highest','track_titles','genre','style','community_have','community_want','formats','thumb_url',\n",
        "    'release_url','format_description','days_since_last_sale','title'\n",
        "    ]\n",
        "record_store_catboost_removal_columns.extend(\n",
        "    column_store._indicator\n",
        ")"
      ],
      "execution_count": 0,
      "outputs": []
    },
    {
      "cell_type": "code",
      "metadata": {
        "colab_type": "code",
        "id": "eyqIBpe88aso",
        "colab": {}
      },
      "source": [
        "catboost_param_grid = {\n",
        "        'depth': np.linspace(1,16,5).astype(int),\n",
        "        'learning_rate' : np.logspace(-4,-1,5),\n",
        "        'l2_leaf_reg': np.linspace(1,50,5).astype(int),\n",
        "        'iterations': np.linspace(50,250,3),\n",
        "        'n_estimators': np.linspace(20,200,5).astype(int)\n",
        "}"
      ],
      "execution_count": 0,
      "outputs": []
    },
    {
      "cell_type": "code",
      "metadata": {
        "colab_type": "code",
        "id": "VCaEIJW18asr",
        "colab": {}
      },
      "source": [
        "catboost_grid_pipe = Pipeline([\n",
        "    ('running_time_imputer',RunningTimeImputer('running_time','number_of_tracks')),\n",
        "    ('reduce_indicators', IndicatorReducer(indicators=column_store._indicator-column_store._geography,algorithm=UMAP,components=40)),\n",
        "    ('record_store_column_remover', ColumnRemover(record_store_catboost_removal_columns)),   \n",
        "    ('grid_search', GridSearchCV(\n",
        "        CatBoostRegressor(\n",
        "            random_seed=0,\n",
        "            cat_features=['year','format_text','master_id','format_name','artist','label','country'],\n",
        "            one_hot_max_size=25,\n",
        "            boosting_type='Ordered',          \n",
        "        ),\n",
        "        param_grid={'depth': np.linspace(1,16,5).astype(int)},\n",
        "        n_jobs=1,\n",
        "        scoring='neg_mean_absolute_error',\n",
        "        verbose=5)\n",
        "    )\n",
        "])"
      ],
      "execution_count": 0,
      "outputs": []
    },
    {
      "cell_type": "code",
      "metadata": {
        "colab_type": "code",
        "id": "MQW9Ojz08asu",
        "colab": {}
      },
      "source": [
        "catboost_grid_pipe.fit(X_tr_sample,np.log(y_tr_sample))"
      ],
      "execution_count": 0,
      "outputs": []
    },
    {
      "cell_type": "code",
      "metadata": {
        "id": "9MWNatKvNkWQ",
        "colab_type": "code",
        "colab": {}
      },
      "source": [
        "catboost_plot = GridSearchPlotter(catboost_pipe['grid_search'])\n",
        "catboost_plot.plot_validation_curve(parameter='depth')"
      ],
      "execution_count": 0,
      "outputs": []
    },
    {
      "cell_type": "code",
      "metadata": {
        "colab_type": "code",
        "id": "D82wspKV8XCK",
        "colab": {}
      },
      "source": [
        "catboost_pipe.best_score_"
      ],
      "execution_count": 0,
      "outputs": []
    },
    {
      "cell_type": "code",
      "metadata": {
        "colab_type": "code",
        "id": "iJHB_2xe8ZN_",
        "colab": {}
      },
      "source": [
        "catboost_pipe.best_params_"
      ],
      "execution_count": 0,
      "outputs": []
    },
    {
      "cell_type": "code",
      "metadata": {
        "colab_type": "code",
        "id": "QtP6T-Ir8asx",
        "colab": {}
      },
      "source": [
        "catboost_pred = catboost_pipe.predict(X_te)"
      ],
      "execution_count": 0,
      "outputs": []
    },
    {
      "cell_type": "code",
      "metadata": {
        "colab_type": "code",
        "id": "Ot0BfPu28as0",
        "colab": {}
      },
      "source": [
        "r2_score(y_te,np.exp(catboost_pred))"
      ],
      "execution_count": 0,
      "outputs": []
    },
    {
      "cell_type": "code",
      "metadata": {
        "colab_type": "code",
        "id": "2BLq7nQR42RA",
        "colab": {}
      },
      "source": [
        "mean_absolute_error(y_te,np.exp(catboost_pred))"
      ],
      "execution_count": 0,
      "outputs": []
    },
    {
      "cell_type": "code",
      "metadata": {
        "colab_type": "code",
        "id": "YVufSJ8X4_Qq",
        "colab": {}
      },
      "source": [
        ""
      ],
      "execution_count": 0,
      "outputs": []
    }
  ]
}