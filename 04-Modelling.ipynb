{
 "cells": [
  {
   "cell_type": "markdown",
   "metadata": {
    "colab_type": "text",
    "id": "buFUSHKt8apx"
   },
   "source": [
    "## 04 - Modelling"
   ]
  },
  {
   "cell_type": "markdown",
   "metadata": {
    "colab_type": "text",
    "id": "YsMW-elZopc_"
   },
   "source": [
    "## Setting up Colab Environment if in Colab\n",
    "The analyses outlined in this notebook relies on the estimators provided by the RAPIDS AI CUML library (https://docs.rapids.ai/api), which provides a sci-kit learn-like API for implementations of machine learning algorithms that are specifically configured to run on GPU hardware. Using this library will significantly speed up the computation time associated with the dimensionality reduction we conduct towards the end of this notebook.\n",
    "\n",
    "As I do not personally have access to a GPU, the GPU-enabled part of this notebook is run on Google's Colab Notebook environment, which offers GPU access for free. In the cell belows below, we define the functions required to setup a 25GB RAM Colab Notebook Environment with the packages necessary for the code to function."
   ]
  },
  {
   "cell_type": "markdown",
   "metadata": {
    "colab_type": "text",
    "id": "lunHqQ7B8apz"
   },
   "source": [
    "## Optional - Colab Setup"
   ]
  },
  {
   "cell_type": "code",
   "execution_count": null,
   "metadata": {
    "colab": {},
    "colab_type": "code",
    "id": "qQQCreB5gAR_"
   },
   "outputs": [],
   "source": [
    "def upgrade_runtime_ram():\n",
    "    meminfo = subprocess.getoutput('cat /proc/meminfo').split('\\n')\n",
    "\n",
    "    memory_info = {entry.split(':')[0]: int(entry.split(':')[1].replace(' kB','').strip()) for entry in meminfo}\n",
    "\n",
    "    if memory_info['MemTotal'] > 17000000:\n",
    "        return\n",
    "\n",
    "    a = []\n",
    "    while(1):\n",
    "        a.append('1')\n",
    "\n",
    "def restart_runtime():\n",
    "    os.kill(os.getpid(), 9)"
   ]
  },
  {
   "cell_type": "code",
   "execution_count": null,
   "metadata": {
    "colab": {},
    "colab_type": "code",
    "id": "YIsGqbsy8aqB"
   },
   "outputs": [],
   "source": [
    "def setup_rapids():\n",
    "    pynvml.nvmlInit()\n",
    "    handle = pynvml.nvmlDeviceGetHandleByIndex(0)\n",
    "    device_name = pynvml.nvmlDeviceGetName(handle)\n",
    "    if (device_name != b'Tesla T4') and (device_name != b'Tesla P4') and (device_name != b'Tesla P100-PCIE-16GB'):\n",
    "        print(\"Wrong GPU - Restarting Runtime\")\n",
    "        restart_runtime()\n",
    "\n",
    "\n",
    "    # clone RAPIDS AI rapidsai-csp-utils scripts repo\n",
    "    !git clone https://github.com/rapidsai/rapidsai-csp-utils.git\n",
    "\n",
    "    # install RAPIDS\n",
    "    !bash rapidsai-csp-utils/colab/rapids-colab.sh 0.13\n",
    "\n",
    "\n",
    "    # set necessary environment variables \n",
    "    dist_package_index = sys.path.index('/usr/local/lib/python3.6/dist-packages')\n",
    "    sys.path = sys.path[:dist_package_index] + ['/usr/local/lib/python3.6/site-packages'] + sys.path[dist_package_index:]\n",
    "    sys.path\n",
    "\n",
    "    # update pyarrow & modules \n",
    "    exec(open('rapidsai-csp-utils/colab/update_modules.py').read(), globals())"
   ]
  },
  {
   "cell_type": "code",
   "execution_count": null,
   "metadata": {
    "colab": {},
    "colab_type": "code",
    "id": "9CcPvNIo8aqI"
   },
   "outputs": [],
   "source": [
    "def setup_conda():\n",
    "    if not 'Miniconda3-4.5.4-Linux-x86_64.sh' in os.listdir():\n",
    "        !wget https://repo.continuum.io/miniconda/Miniconda3-4.5.4-Linux-x86_64.sh && bash Miniconda3-4.5.4-Linux-x86_64.sh -bfp /usr/local\n",
    "\n",
    "    if not ('EPFL-Capstone-Project' in os.listdir()) and (os.getcwd().split('/')[-1] != 'EPFL-Capstone-Project'):\n",
    "        !git clone https://github.com/helmigsimon/EPFL-Capstone-Project  \n",
    "    if 'EPFL-Capstone-Project' in os.listdir():\n",
    "        os.chdir('EPFL-Capstone-Project')\n",
    "\n",
    "    !conda env create -f environment.yml\n",
    "    !conda activate exts-ml"
   ]
  },
  {
   "cell_type": "code",
   "execution_count": null,
   "metadata": {
    "colab": {},
    "colab_type": "code",
    "id": "WHSZ-lgE8aqP"
   },
   "outputs": [],
   "source": [
    "def setup_drive():\n",
    "    #Mounting Google Drive\n",
    "    global drive\n",
    "    from google.colab import drive\n",
    "    drive.mount('/content/drive')"
   ]
  },
  {
   "cell_type": "code",
   "execution_count": 5,
   "metadata": {
    "colab": {
     "base_uri": "https://localhost:8080/",
     "height": 1000
    },
    "colab_type": "code",
    "id": "N_uPJqb58aqW",
    "outputId": "1fbf6ed4-3316-4ae7-eca2-28e9ef6ece92"
   },
   "outputs": [
    {
     "name": "stdout",
     "output_type": "stream",
     "text": [
      "Drive already mounted at /content/drive; to attempt to forcibly remount, call drive.mount(\"/content/drive\", force_remount=True).\n",
      "Requirement already satisfied: geopandas in /usr/local/lib/python3.6/site-packages (0.7.0)\n",
      "Requirement already satisfied: sparse-dot-topn in /usr/local/lib/python3.6/site-packages (0.2.9)\n",
      "Requirement already satisfied: pdpipe in /usr/local/lib/python3.6/site-packages (0.0.49)\n",
      "Requirement already satisfied: category-encoders in /usr/local/lib/python3.6/site-packages (2.2.2)\n",
      "Requirement already satisfied: catboost in /usr/local/lib/python3.6/site-packages (0.23.2)\n",
      "Requirement already satisfied: pyproj>=2.2.0 in /usr/local/lib/python3.6/site-packages (from geopandas) (2.6.1.post1)\n",
      "Requirement already satisfied: pandas>=0.23.0 in /usr/local/lib/python3.6/site-packages (from geopandas) (0.25.3)\n",
      "Requirement already satisfied: shapely in /usr/local/lib/python3.6/site-packages (from geopandas) (1.7.0)\n",
      "Requirement already satisfied: fiona in /usr/local/lib/python3.6/site-packages (from geopandas) (1.8.13.post1)\n",
      "Requirement already satisfied: scipy>=1.2.3 in /usr/local/lib/python3.6/site-packages (from sparse-dot-topn) (1.4.1)\n",
      "Requirement already satisfied: setuptools>=18.0 in /usr/local/lib/python3.6/site-packages (from sparse-dot-topn) (47.1.1.post20200529)\n",
      "Requirement already satisfied: numpy>=1.16.6 in /usr/local/lib/python3.6/site-packages (from sparse-dot-topn) (1.18.5)\n",
      "Requirement already satisfied: cython>=0.29.15 in /usr/local/lib/python3.6/site-packages (from sparse-dot-topn) (0.29.19)\n",
      "Requirement already satisfied: skutil>=0.0.15 in /usr/local/lib/python3.6/site-packages (from pdpipe) (0.0.16)\n",
      "Requirement already satisfied: tqdm in /usr/local/lib/python3.6/site-packages (from pdpipe) (4.46.1)\n",
      "Requirement already satisfied: sortedcontainers in /usr/local/lib/python3.6/site-packages (from pdpipe) (2.2.1)\n",
      "Requirement already satisfied: strct in /usr/local/lib/python3.6/site-packages (from pdpipe) (0.0.30)\n",
      "Requirement already satisfied: statsmodels>=0.9.0 in /usr/local/lib/python3.6/site-packages (from category-encoders) (0.11.1)\n",
      "Requirement already satisfied: patsy>=0.5.1 in /usr/local/lib/python3.6/site-packages (from category-encoders) (0.5.1)\n",
      "Requirement already satisfied: scikit-learn>=0.20.0 in /usr/local/lib/python3.6/site-packages (from category-encoders) (0.23.1)\n",
      "Requirement already satisfied: matplotlib in /usr/local/lib/python3.6/site-packages (from catboost) (3.2.1)\n",
      "Requirement already satisfied: six in /usr/local/lib/python3.6/site-packages (from catboost) (1.11.0)\n",
      "Requirement already satisfied: graphviz in /usr/local/lib/python3.6/site-packages (from catboost) (0.14)\n",
      "Requirement already satisfied: plotly in /usr/local/lib/python3.6/site-packages (from catboost) (4.8.1)\n",
      "Requirement already satisfied: python-dateutil>=2.6.1 in /usr/local/lib/python3.6/site-packages (from pandas>=0.23.0->geopandas) (2.8.1)\n",
      "Requirement already satisfied: pytz>=2017.2 in /usr/local/lib/python3.6/site-packages (from pandas>=0.23.0->geopandas) (2020.1)\n",
      "Requirement already satisfied: munch in /usr/local/lib/python3.6/site-packages (from fiona->geopandas) (2.5.0)\n",
      "Requirement already satisfied: attrs>=17 in /usr/local/lib/python3.6/site-packages (from fiona->geopandas) (19.3.0)\n",
      "Requirement already satisfied: click-plugins>=1.0 in /usr/local/lib/python3.6/site-packages (from fiona->geopandas) (1.1.1)\n",
      "Requirement already satisfied: click<8,>=4.0 in /usr/local/lib/python3.6/site-packages (from fiona->geopandas) (7.1.2)\n",
      "Requirement already satisfied: cligj>=0.5 in /usr/local/lib/python3.6/site-packages (from fiona->geopandas) (0.5.0)\n",
      "Requirement already satisfied: decore in /usr/local/lib/python3.6/site-packages (from skutil>=0.0.15->pdpipe) (0.0.1)\n",
      "Requirement already satisfied: threadpoolctl>=2.0.0 in /usr/local/lib/python3.6/site-packages (from scikit-learn>=0.20.0->category-encoders) (2.1.0)\n",
      "Requirement already satisfied: joblib>=0.11 in /usr/local/lib/python3.6/site-packages (from scikit-learn>=0.20.0->category-encoders) (0.15.1)\n",
      "Requirement already satisfied: cycler>=0.10 in /usr/local/lib/python3.6/site-packages (from matplotlib->catboost) (0.10.0)\n",
      "Requirement already satisfied: pyparsing!=2.0.4,!=2.1.2,!=2.1.6,>=2.0.1 in /usr/local/lib/python3.6/site-packages (from matplotlib->catboost) (2.4.7)\n",
      "Requirement already satisfied: kiwisolver>=1.0.1 in /usr/local/lib/python3.6/site-packages (from matplotlib->catboost) (1.2.0)\n",
      "Requirement already satisfied: retrying>=1.3.3 in /usr/local/lib/python3.6/site-packages (from plotly->catboost) (1.3.3)\n"
     ]
    },
    {
     "name": "stderr",
     "output_type": "stream",
     "text": [
      "/usr/local/lib/python3.6/dist-packages/statsmodels/tools/_testing.py:19: FutureWarning: pandas.util.testing is deprecated. Use the functions in the public API at pandas.testing instead.\n",
      "  import pandas.util.testing as tm\n"
     ]
    },
    {
     "name": "stdout",
     "output_type": "stream",
     "text": [
      "Solving environment: failed\n",
      "\n",
      "ResolvePackageNotFound: \n",
      "  - libiconv==1.15=h0b31af3_1006\n",
      "  - markupsafe==1.1.1=py36h37b9a7d_1\n",
      "  - cfitsio==3.470=h84d2f63_2\n",
      "  - libpq==12.2=h554dc5a_0\n",
      "  - tensorflow-base==1.12.0=mkl_py36h70e0e9a_0\n",
      "  - h5py==2.10.0=nompi_py36h106b333_102\n",
      "  - scipy==1.4.1=py36h82752d6_0\n",
      "  - openjpeg==2.3.1=h254dc36_3\n",
      "  - expat==2.2.9=h4a8c4bd_2\n",
      "  - libssh2==1.8.2=hcdc9a53_2\n",
      "  - llvm-openmp==9.0.1=h28b9765_2\n",
      "  - statsmodels==0.11.1=py36h37b9a7d_1\n",
      "  - tzcode==2019a=h01d97ff_1002\n",
      "  - libxml2==2.9.10=h53d96d6_0\n",
      "  - sparse_dot_topn==0.2.9=py36h863e41a_0\n",
      "  - numpy==1.18.1=py36hde6bac1_0\n",
      "  - libnetcdf==4.7.4=nompi_he461dc0_101\n",
      "  - libcurl==7.68.0=h709d2b2_0\n",
      "  - libgdal==3.0.4=hec54991_3\n",
      "  - grpcio==1.23.0=py36h7c1f37e_1\n",
      "  - libopenblas==0.3.9=h3d69b6c_0\n",
      "  - tensorflow==1.12.0=mkl_py36h2b2bbaf_0\n",
      "  - kealib==1.4.12=h2324030_0\n",
      "  - psutil==5.7.0=py36h37b9a7d_1\n",
      "  - c-ares==1.15.0=h01d97ff_1001\n",
      "  - nodejs==13.10.1=h38d8c5a_0\n",
      "  - jpeg==9c=h1de35cc_1001\n",
      "  - gettext==0.19.8.1=h46ab8bc_1002\n",
      "  - pcre==8.44=h4a8c4bd_0\n",
      "  - libspatialite==4.3.0a=hbcd37d4_1037\n",
      "  - pandas==1.0.1=py36h4f17bb1_0\n",
      "  - libprotobuf==3.11.4=hd174df1_0\n",
      "  - sqlalchemy==1.3.13=py36h0b31af3_0\n",
      "  - zstd==1.4.4=hed8d7c8_2\n",
      "  - cairo==1.16.0=hec6a9b0_1003\n",
      "  - glib==2.58.3=py36hb0ce7ff_1003\n",
      "  - tornado==6.0.4=py36h37b9a7d_1\n",
      "  - freexl==1.0.5=h1de35cc_1002\n",
      "  - matplotlib-base==3.2.0=py36h11da6c2_1\n",
      "  - zeromq==4.3.2=h6de7cb9_2\n",
      "  - graphviz==2.42.3=h98dfb87_0\n",
      "  - kiwisolver==1.1.0=py36h863e41a_1\n",
      "  - fiona==1.8.13=py36he71f6a4_0\n",
      "  - openssl==1.1.1f=h0b31af3_0\n",
      "  - shapely==1.7.0=py36hda0b814_2\n",
      "  - psycopg2==2.8.4=py36hafa8578_1\n",
      "  - fontconfig==2.13.1=h6b1039f_1001\n",
      "  - krb5==1.16.4=h1752a42_0\n",
      "  - libffi==3.2.1=h4a8c4bd_1007\n",
      "  - libdap4==3.20.4=habf5908_0\n",
      "  - libgfortran==4.0.0=2\n",
      "  - xerces-c==3.2.2=h8f8adb3_1004\n",
      "  - libedit==3.1.20170329=hcfe32e1_1001\n",
      "  - libuv==1.34.0=h0b31af3_0\n",
      "  - cryptography==2.8=py36hc9d8292_2\n",
      "  - poppler==0.67.0=h16886b5_8\n",
      "  - libpng==1.6.37=hbbe82c9_1\n",
      "  - tiledb==1.7.0=hd5e958f_2\n",
      "  - xz==5.2.4=h0b31af3_1002\n",
      "  - hdf4==4.2.13=h84186c3_1003\n",
      "  - python-levenshtein==0.12.0=py36h0b31af3_1001\n",
      "  - libtiff==4.1.0=ha78913b_3\n",
      "  - readline==8.0=hcfe32e1_0\n",
      "  - postgresql==12.2=h16d8c28_0\n",
      "  - gdal==3.0.4=py36h5a1ef21_3\n",
      "  - libllvm8==8.0.1=h770b8ee_0\n",
      "  - proj==6.3.1=h773a61f_1\n",
      "  - boost-cpp==1.72.0=hdf9ef73_0\n",
      "  - freetype==2.10.1=h8da9a1a_0\n",
      "  - sqlite==3.30.1=h93121df_0\n",
      "  - mistune==0.8.4=py36h0b31af3_1000\n",
      "  - pyrsistent==0.16.0=py36h37b9a7d_0\n",
      "  - ncurses==6.1=h0a44026_1002\n",
      "  - bzip2==1.0.8=h0b31af3_2\n",
      "  - scikit-learn==0.20.3=py36hca23c92_1\n",
      "  - python==3.6.10=hce46be0_1009_cpython\n",
      "  - lz4-c==1.8.3=h6de7cb9_1001\n",
      "  - pillow==7.0.0=py36h918e99a_0\n",
      "  - libkml==1.3.0=h169b8f9_1011\n",
      "  - geos==3.8.1=h4a8c4bd_0\n",
      "  - pyzmq==19.0.0=py36h820b253_1\n",
      "  - curl==7.68.0=h8754def_0\n",
      "  - libsodium==1.0.17=h01d97ff_0\n",
      "  - numba==0.48.0=py36h4f17bb1_0\n",
      "  - zlib==1.2.11=h0b31af3_1006\n",
      "  - appnope==0.1.0=py36h9f0ad1d_1001\n",
      "  - icu==64.2=h6de7cb9_1\n",
      "  - libwebp==1.0.2=hd3bf737_5\n",
      "  - cffi==1.14.0=py36h356ff06_0\n",
      "  - pixman==0.38.0=h01d97ff_1003\n",
      "  - tk==8.6.10=hbbe82c9_0\n",
      "  - geotiff==1.5.1=h4bdff65_9\n",
      "  - llvmlite==0.31.0=py36hde82470_1\n",
      "  - hdf5==1.10.5=nompi_h3e39495_1104\n",
      "  - giflib==5.2.1=h0b31af3_2\n",
      "  - json-c==0.13.1=h1de35cc_1001\n",
      "\n",
      "\n",
      "CommandNotFoundError: Your shell has not been properly configured to use 'conda activate'.\n",
      "If your shell is Bash or a Bourne variant, enable conda for the current user with\n",
      "\n",
      "    $ echo \". /usr/local/etc/profile.d/conda.sh\" >> ~/.bashrc\n",
      "\n",
      "or, for all users, enable conda with\n",
      "\n",
      "    $ sudo ln -s /usr/local/etc/profile.d/conda.sh /etc/profile.d/conda.sh\n",
      "\n",
      "The options above will permanently enable the 'conda' command, but they do NOT\n",
      "put conda's base (root) environment on PATH.  To do so, run\n",
      "\n",
      "    $ conda activate\n",
      "\n",
      "in your terminal, or to put the base environment on PATH permanently, run\n",
      "\n",
      "    $ echo \"conda activate\" >> ~/.bashrc\n",
      "\n",
      "Previous to conda 4.4, the recommended way to activate conda was to modify PATH in\n",
      "your ~/.bashrc file.  You should manually remove the line that looks like\n",
      "\n",
      "    export PATH=\"/usr/local/bin:$PATH\"\n",
      "\n",
      "^^^ The above line should NO LONGER be in your ~/.bashrc file! ^^^\n",
      "\n",
      "\n",
      "[nltk_data] Downloading package stopwords to /root/nltk_data...\n",
      "[nltk_data]   Package stopwords is already up-to-date!\n",
      "[nltk_data] Downloading package punkt to /root/nltk_data...\n",
      "[nltk_data]   Package punkt is already up-to-date!\n",
      "fatal: destination path 'rapidsai-csp-utils' already exists and is not an empty directory.\n",
      "PLEASE READ\n",
      "********************************************************************************************************\n",
      "Changes:\n",
      "1. Now that most people have migrated, we have rem0ved the migration notice.\n",
      "2. default stable version is now 0.13.  Nightly is now 0.14\n",
      "3. You can now declare your RAPIDS version as a CLI option and skip the user prompts (ex: '0.13' or '0.14', between 0.11 to 0.14, without the quotes): \n",
      "        \"!bash rapidsai-csp-utils/colab/rapids-colab.sh <version/label>\"\n",
      "        Examples: '!bash rapidsai-csp-utils/colab/rapids-colab.sh 0.13', or '!bash rapidsai-csp-utils/colab/rapids-colab.sh stable', or '!bash rapidsai-csp-utils/colab/rapids-colab.sh s'\n",
      "                  '!bash rapidsai-csp-utils/colab/rapids-colab.sh 0.14, or '!bash rapidsai-csp-utils/colab/rapids-colab.sh nightly', or '!bash rapidsai-csp-utils/colab/rapids-colab.sh n'\n",
      "Enjoy using RAPIDS!\n",
      "RAPIDS Version to install is 0.13\n",
      "Checking for GPU type:\n",
      "***********************************************************************\n",
      "Woo! Your instance has the right kind of GPU, a 'Tesla P100-PCIE-16GB'!\n",
      "***********************************************************************\n",
      "\n",
      "\n",
      "************************************************\n",
      "Your Google Colab instance has RAPIDS installed!\n",
      "************************************************\n",
      "***********************************************************************\n",
      "Let us check on those pyarrow and cffi versions...\n",
      "***********************************************************************\n",
      "\n",
      "unloaded pyarrow 0.14.1\n",
      "unloaded pyarrow 0.14.1\n",
      "unloaded pyarrow 0.14.1\n",
      "unloaded pyarrow 0.14.1\n",
      "unloaded pyarrow 0.14.1\n",
      "unloaded pyarrow 0.14.1\n",
      "unloaded pyarrow 0.14.1\n",
      "unloaded pyarrow 0.14.1\n",
      "unloaded pyarrow 0.14.1\n",
      "unloaded pyarrow 0.14.1\n",
      "unloaded pyarrow 0.14.1\n",
      "unloaded pyarrow 0.14.1\n",
      "loaded pyarrow 0.15.0\n",
      "You're now running pyarrow 0.15.0 and are good to go!\n",
      "unloaded cffi 1.14.0\n",
      "loaded cffi 1.11.5\n"
     ]
    }
   ],
   "source": [
    "import sys,os,subprocess\n",
    "\n",
    "upgrade_runtime_ram()\n",
    "setup_drive()\n",
    "\n",
    "#Setting up PyPi Packages\n",
    "!pip install geopandas sparse-dot-topn pdpipe category-encoders catboost\n",
    "import geopandas as gpd\n",
    "import sparse_dot_topn.sparse_dot_topn as ct\n",
    "import pdpipe as pdp\n",
    "import category_encoders\n",
    "\n",
    "#Setting up Conda Packages\n",
    "setup_conda()\n",
    "\n",
    "#Initializing NLTK\n",
    "import nltk\n",
    "nltk.download('stopwords')\n",
    "nltk.download('punkt')\n",
    "\n",
    "#Setting up RAPIDS AI\n",
    "import pynvml\n",
    "setup_rapids()\n",
    "\n",
    "from cuml import UMAP"
   ]
  },
  {
   "cell_type": "markdown",
   "metadata": {
    "colab_type": "text",
    "id": "Kvn45BG28aqd"
   },
   "source": [
    "## Imports"
   ]
  },
  {
   "cell_type": "code",
   "execution_count": null,
   "metadata": {
    "colab": {},
    "colab_type": "code",
    "id": "IRijjSry8aqf"
   },
   "outputs": [],
   "source": [
    "%matplotlib inline\n",
    "import pandas as pd\n",
    "import numpy as np\n",
    "import matplotlib.pyplot as plt\n",
    "import seaborn as sns\n",
    "from tqdm import tqdm\n",
    "from sklearn.model_selection import GridSearchCV, train_test_split,  KFold\n",
    "from sklearn.pipeline import Pipeline\n",
    "from sklearn.metrics import mean_absolute_error\n",
    "from sklearn.impute import SimpleImputer\n",
    "from sklearn.compose import ColumnTransformer\n",
    "from sklearn.preprocessing import OneHotEncoder, FunctionTransformer, RobustScaler, MinMaxScaler\n",
    "from sklearn.dummy import DummyRegressor\n",
    "from sklearn.decomposition import PCA\n",
    "from category_encoders import LeaveOneOutEncoder"
   ]
  },
  {
   "cell_type": "code",
   "execution_count": null,
   "metadata": {
    "colab": {},
    "colab_type": "code",
    "id": "u5KwAwAe8aqp"
   },
   "outputs": [],
   "source": [
    "from lib.transformers import *\n",
    "from lib.pipelines import *\n",
    "from lib.processing import save_to_pkl, load_from_pkl\n",
    "from lib.visualization import GridSearchPlotter\n",
    "from data.util.paths import DATA_PATH"
   ]
  },
  {
   "cell_type": "code",
   "execution_count": null,
   "metadata": {
    "colab": {},
    "colab_type": "code",
    "id": "X4_WNHlLW7Lt"
   },
   "outputs": [],
   "source": [
    "from cuml import LinearRegression, Ridge, RandomForestRegressor, UMAP\n",
    "from catboost import CatBoostRegressor"
   ]
  },
  {
   "cell_type": "markdown",
   "metadata": {
    "colab_type": "text",
    "id": "YwJ6GSBC3Qtz"
   },
   "source": [
    "## Loading Data\n",
    "First, we load the dataset that we have prepared in the previous notebook, ``03-DatasetPrep``"
   ]
  },
  {
   "cell_type": "code",
   "execution_count": null,
   "metadata": {
    "colab": {},
    "colab_type": "code",
    "id": "RiNFe3gX3Qtz"
   },
   "outputs": [],
   "source": [
    "metadata_df, image_embeddings_df = tuple(load_from_pkl(i,DATA_PATH) for i in ('metadata','image_embeddings'))\n",
    "df = metadata_df.merge(image_embeddings_df,how='inner',on='release_id')"
   ]
  },
  {
   "cell_type": "markdown",
   "metadata": {
    "colab_type": "text",
    "id": "ebCZT9HhXn6N"
   },
   "source": [
    "After merging, we will take care of additional outliers that need to be addressed, namely for ``number_of_tracks``, ``running_time``, and the UMAP dimensionality reduction outputs, which were discussed in 02-Visualization&Cleaning. ``number_of_tracks`` and ``running_time`` suffer from massive outlier values which skew the distribution of the features and as such must be taken out of contention. For the case of ``running_time``, we remove those albums with that last over 3 hours, in the interest of focusing our attention on albums of a standard length."
   ]
  },
  {
   "cell_type": "code",
   "execution_count": null,
   "metadata": {
    "colab": {},
    "colab_type": "code",
    "id": "kQ_xAFLOXn6O"
   },
   "outputs": [],
   "source": [
    "df = OutlierRemover(features=['number_of_tracks'] + [i for i in df.columns if 'umap' in i]).fit_transform(df[(df['running_time'] < 180) | (df['running_time'].isna())])"
   ]
  },
  {
   "cell_type": "code",
   "execution_count": null,
   "metadata": {
    "colab": {},
    "colab_type": "code",
    "id": "8-JguLVU4_kn"
   },
   "outputs": [],
   "source": [
    "del metadata_df, image_embeddings_df"
   ]
  },
  {
   "cell_type": "code",
   "execution_count": 12,
   "metadata": {
    "colab": {
     "base_uri": "https://localhost:8080/",
     "height": 67,
     "referenced_widgets": [
      "389b1a2d2f684a50a2e06cb1a7f161cf",
      "f9804e2653b74189874dd86c5626a5ca",
      "eebd4ea404db44b5bc3691c8ced6a89a",
      "0de437df4fa54ba6bb3e7b734662b93c",
      "6b950f69cfec49ab9322b7945ac149b7",
      "cc441fb54d4c45a59789ff41b6009886",
      "07ba2083c52b424fb536898bdf3c0dd2",
      "fdb2bcd9bffa468f92b99bffd39af7e9"
     ]
    },
    "colab_type": "code",
    "id": "1hbzpOTylHCB",
    "outputId": "eede60fa-1fa5-4301-ae9f-2a67efab5d6a"
   },
   "outputs": [
    {
     "data": {
      "application/vnd.jupyter.widget-view+json": {
       "model_id": "389b1a2d2f684a50a2e06cb1a7f161cf",
       "version_major": 2,
       "version_minor": 0
      },
      "text/plain": [
       "HBox(children=(FloatProgress(value=0.0, max=7.0), HTML(value='')))"
      ]
     },
     "metadata": {
      "tags": []
     },
     "output_type": "display_data"
    },
    {
     "name": "stdout",
     "output_type": "stream",
     "text": [
      "\n"
     ]
    }
   ],
   "source": [
    "col_set = {\n",
    "    'format': {\n",
    "        'description': 'format_description_', \n",
    "        'name': 'format_name_', \n",
    "        'text': ('format_text_clean'),\n",
    "        'quantity': ('format_quantity')\n",
    "    },\n",
    "    'geography': {\n",
    "        'superregion': 'superregion_',\n",
    "        'region': 'region_',\n",
    "        'country': 'country_'\n",
    "    },\n",
    "    'timeperiod': {\n",
    "        'period': 'period_',\n",
    "        'era': 'era_'\n",
    "    },\n",
    "    'style': 'style_',\n",
    "    'null': None,\n",
    "    'indicator': lambda x: x.max() == 1 and x.min() == 0,\n",
    "    'image_embedding': 'images_umap_',\n",
    "}\n",
    "column_store = ColumnStore()\n",
    "column_store.fit(df,col_set)"
   ]
  },
  {
   "cell_type": "markdown",
   "metadata": {
    "colab_type": "text",
    "id": "Gz00X-1E8arN"
   },
   "source": [
    "## Preparing for Machine Learning\n",
    "Next, we split our dataset, ``df``, into train and test sets, which is crucial for the training and ultimate evaluation of the machine learning models we will build in this notebook. We also apply an imputation of missing values for the ``average_rating`` feature at this stage. Since we are relying on the mean for the imputation of ``average_rating`` and ``running_time``, it is crucial that this step is taken after the splitting of train and test datasets, in order to avoid datapoints from the test set influencing the values of predictors we are using to build our models. We also choose to apply additional imputation steps here for ``units_for_sale`` and ``artist`` as making use of the ``SimpleImputer`` transformer within our pipelines would compromise the format of our data."
   ]
  },
  {
   "cell_type": "code",
   "execution_count": null,
   "metadata": {
    "colab": {},
    "colab_type": "code",
    "id": "7hLwsGal8arO"
   },
   "outputs": [],
   "source": [
    "X_tr, X_te, y_tr, y_te = train_test_split(df.drop('market_value',axis=1),df.market_value,random_state=0)"
   ]
  },
  {
   "cell_type": "code",
   "execution_count": null,
   "metadata": {
    "colab": {},
    "colab_type": "code",
    "id": "dXpwfIAIfudu"
   },
   "outputs": [],
   "source": [
    "units_for_sale_imputer = SimpleImputer(strategy='constant',fill_value=0)\n",
    "average_rating_imputer = SimpleImputer(strategy='mean')\n",
    "running_time_imputer = RunningTimeImputer('running_time','number_of_tracks')"
   ]
  },
  {
   "cell_type": "code",
   "execution_count": null,
   "metadata": {
    "colab": {},
    "colab_type": "code",
    "id": "nb5EhuF_fukB"
   },
   "outputs": [],
   "source": [
    "X_tr['units_for_sale'] = units_for_sale_imputer.fit_transform(X_tr['units_for_sale'].values.reshape(-1,1))\n",
    "X_te['units_for_sale'] = units_for_sale_imputer.transform(X_te['units_for_sale'].values.reshape(-1,1))\n",
    "\n",
    "X_tr['average_rating'] = average_rating_imputer.fit_transform(X_tr['average_rating'].values.reshape(-1,1))\n",
    "X_te['average_rating'] = average_rating_imputer.transform(X_te['average_rating'].values.reshape(-1,1))\n",
    "\n",
    "X_tr['artist'] = X_tr['artist'].replace({np.nan:'Unknown'})\n",
    "X_te['artist'] = X_te['artist'].replace({np.nan:'Unknown'})\n",
    "\n",
    "X_tr = running_time_imputer.fit_transform(X_tr)\n",
    "X_te = running_time_imputer.transform(X_te)"
   ]
  },
  {
   "cell_type": "markdown",
   "metadata": {
    "colab_type": "text",
    "id": "1vGxmYxjwOsU"
   },
   "source": [
    "Finally, as we are dealing with a fairly high dimensional dataset, we create a smaller training dataset for the purposes of tuning the hyperparameters of the more sophisticated algorithms we are testing in this notebook. This will allow us to iterate quickly in the process of tuning our hyperparameters."
   ]
  },
  {
   "cell_type": "code",
   "execution_count": null,
   "metadata": {
    "colab": {},
    "colab_type": "code",
    "id": "0C52Gl1ngdey"
   },
   "outputs": [],
   "source": [
    "df_sample = pd.concat([X_tr,y_tr],axis=1).sample(frac=0.1)\n",
    "X_tr_sample = df_sample.drop('market_value',axis=1)\n",
    "y_tr_sample = df_sample['market_value']"
   ]
  },
  {
   "cell_type": "markdown",
   "metadata": {
    "colab_type": "text",
    "id": "pk_qZ4Lu947Y"
   },
   "source": [
    "## Setting up Dummy Regression for baseline\n",
    "In order to be able to interpret the results we obtain from our models, we must first set a benchmark which we expect our models to surpass. In our case, we will be employing the sci-kit learn DummyRegressor using the 'mean' strategy, and use this to calculate the baseline values for Mean Absolute Error, our evaluation metric of choice in this project."
   ]
  },
  {
   "cell_type": "code",
   "execution_count": null,
   "metadata": {
    "colab": {},
    "colab_type": "code",
    "id": "tTWU4_un6lR2"
   },
   "outputs": [],
   "source": [
    "dummy_regressor = DummyRegressor(strategy='mean')\n",
    "dummy_regressor.fit(X_tr,np.log(y_tr).values)\n",
    "dummy_pred = dummy_regressor.predict(X_te)"
   ]
  },
  {
   "cell_type": "markdown",
   "metadata": {
    "colab_type": "text",
    "id": "fe5CqeDowOsg"
   },
   "source": [
    "First, we will naively evaluate the performance of our dummy regressor by calculating the Mean Absolute Error using our predictions and the log of the ``market_value`` feature of our test set. The Mean Absolute Error (MAE) is an interpretable metric which will allow us to evaluate the error of our models in terms of the deviation from the actual price of each sample on average. For the prediction of a straightforward target feature such as ``market_value``, this is an attractive property, as it will allow us to more uniquely understand whether our models are at all useful.\n",
    "\n",
    "The results from our evaluation below cannot, however, be interpreted as one would normally interpret a Mean Absolute Error for an untransformed target feature. As we have log-linearized the target feature, the Mean Absolute Error in this case does not represent the mean difference in prediction we can expect from our model with respect to the actual value of the untransformed target variable, which we seek in this case in order to be able to interpret the quality of the model with respect how far it is from predicting the true price of a given Jazz album. To do so, we must exponentiate the predictions of our model and evaluate these with respect to the untransformed target feature values, which allows us to interpret the performance of the model in terms of mean deviation of the model from the actual album value using price as the denomination.  This practice of exponentiating our predictions and comparing these to the untransformed values of our test set will be continued throughout this notebook, and will be key in evaluating whether or not our models can be usefully predict Jazz album market value."
   ]
  },
  {
   "cell_type": "code",
   "execution_count": 18,
   "metadata": {
    "colab": {
     "base_uri": "https://localhost:8080/",
     "height": 35
    },
    "colab_type": "code",
    "id": "B72oe-r3wOsl",
    "outputId": "ba5fe359-d23f-423b-a5a8-da74ce770f13"
   },
   "outputs": [
    {
     "data": {
      "text/plain": [
       "0.6755136430676346"
      ]
     },
     "execution_count": 18,
     "metadata": {
      "tags": []
     },
     "output_type": "execute_result"
    }
   ],
   "source": [
    "mean_absolute_error(np.log(y_te),dummy_pred)"
   ]
  },
  {
   "cell_type": "code",
   "execution_count": 19,
   "metadata": {
    "colab": {
     "base_uri": "https://localhost:8080/",
     "height": 35
    },
    "colab_type": "code",
    "id": "Gw0h8_hCC4x4",
    "outputId": "16f0c722-8846-4adb-e08f-db0fdc5c9db9"
   },
   "outputs": [
    {
     "data": {
      "text/plain": [
       "10.467051614208396"
      ]
     },
     "execution_count": 19,
     "metadata": {
      "tags": []
     },
     "output_type": "execute_result"
    }
   ],
   "source": [
    "dummy_mae = mean_absolute_error(y_te,np.exp(dummy_pred))\n",
    "dummy_mae"
   ]
  },
  {
   "cell_type": "markdown",
   "metadata": {
    "colab_type": "text",
    "id": "wxbe3WY85mgm"
   },
   "source": [
    "The results above show that the fit of the DummyRegressor is very poor with a high MAE given the scale of the data, indicating that the average magnitude of the error of its predictions is 10.43 USD. Clearly, any acceptable model must significantly improve on this MAE value."
   ]
  },
  {
   "cell_type": "markdown",
   "metadata": {
    "colab_type": "text",
    "id": "Jaxlunt2wOsv"
   },
   "source": [
    "## Model Roadmap\n",
    "In what follows, we will be attempting to predict the ``market_value`` of Jazz Album on the basis of their non-musical characteristics, using models built with the help of machine learning algorithms. For this analysis, we will be making use of the following machine learning algorithms to build our models:\n",
    "- Linear Regression\n",
    "- Ridge Regression\n",
    "- Random Forest\n",
    "- CatBoost\n",
    "\n",
    "In so doing, we will also try to identify the difference in predictive power that a model built with Full Information, or all available features, has in comparison to a model built only using those features that are ostensibly available for evaluation by patrons of record stores. As such, we will be building two models each to predict ``market_value`` using the machine learning algorithms identified above, in order to test whether the information that record store patrons lack significantly inhibits their ability to make a prediction of the ``market_value`` of a given Jazz album."
   ]
  },
  {
   "cell_type": "markdown",
   "metadata": {
    "colab_type": "text",
    "id": "DPdcZGEowOsw"
   },
   "source": [
    "## Linear Regression\n",
    "For our first pair of models, we will use Linear Regression. Linear Regression is a simple algorithm which lends itself well to quickly establishing a non-dummy baseline to better understand the possible performance of our final and preferred model. The ``cuml`` implementation of this estimator has few hyperparameters to tune, and is quick to build."
   ]
  },
  {
   "cell_type": "markdown",
   "metadata": {
    "colab_type": "text",
    "id": "DYJYPpPP-AaC"
   },
   "source": [
    "## Linear Regression - Record Store\n",
    "To build and evaluate our Linear Regression model for the 'Record Store' scenario, we will create a pipeline which applies the transformations necessary to prepare the dataset for the application of this algorithm. This pipeline forms the basis for the transformations we will apply throughout this notebook, in particular for the Ridge Regression algorithm. \n",
    "\n",
    "The processing pipeline follows the following steps:\n",
    "1. Encoding categorical features with high cardinality using Leave One Out Encoding\n",
    "    - In order to be able to benefit from the information encoded within the categorical features of ``artist``, ``label``, ``format_text`` and ``master_id``, we make use of Leave One Out Encoding\n",
    "    - This approach to categorical feature encoding is beneficial for the purposes of this project as it helps keep the dimensionality of our dataset from exploding via similar techniques such as OneHotEncoding, while still being able to exploit the relationship between the given feature and the target variable\n",
    "    - Leave One Out Encoding works by calculating the mean of the target feature for all the records containing a given value for each categorical feature being encoded.\n",
    "2. Removing Unnecessary/Inappropriate Columns\n",
    "    - As has been outlined previously, in this step of our analysis, we aim to predict the ``market_value`` of a given Jazz album using only those non-musical attributes which are ostensibly available for evaluation by record store patrons\n",
    "    - As such, we remove those features pertaining to the Full Information scenario, as well as non-encoded features that will not be leveraged for estimation, such as ``track_titles`` and ``thumb_url``\n",
    "3. Encoding of ``year``\n",
    "    - Following best practices, we one-hot encode the ``year`` feature, in order to reinforce its status as a categorical, not numerical feature.\n",
    "4. Standardization\n",
    "    - Following best practices, we standardize the non-embedding features used for the prediction of ``market_value``. We forgo standardization of the features generated by UMAP in order to retain their structure\n",
    "5. Normalization\n",
    "    - In order to mitigate the impact of scale differences on our results, we normalize the range of our features to lie between 0 and 1\n",
    "\n",
    "Finally, we construct the ``record_store_lr_pipe``, which applies the aforementioned transformation pipeline and the Linear Regression algorithm we have discussed previously. As the ``cuml`` implementation offers no relevant hyperparameters to tune, we make use of the estimator as is. The use of GridSearch in the estimator is superfluous in this instance, as we are not searching over a hyperparameter space, but is useful for the natively supported cross validation, which we use to get an understanding of the performance of our model."
   ]
  },
  {
   "cell_type": "code",
   "execution_count": null,
   "metadata": {
    "colab": {},
    "colab_type": "code",
    "id": "sRH_P30fEM-W"
   },
   "outputs": [],
   "source": [
    "record_store_regression_removal_columns = set([\n",
    "    'market_price','units_for_sale','have','want','average_rating','rating_count','last_sold','lowest','median',\n",
    "    'highest','track_titles','country','genre','style','community_have','community_want','formats','thumb_url',\n",
    "    'release_url','format_description','title', 'release_id','master_id'\n",
    "])\n",
    "\n",
    "record_store_regression_transformer = ColumnTransformer(transformers=[\n",
    "  ('one_hot_encoding', OneHotEncoder(dtype=np.uint8,handle_unknown='ignore'), ['year']),\n",
    "], remainder='passthrough')\n",
    "\n",
    "record_store_regression_processing = Pipeline([\n",
    "    ('leave_one_out_encoding', LeaveOneOutEncoder(cols=['artist','label','format_text','master_id','format_name'])),\n",
    "    ('record_store_column_remover', ColumnRemover(record_store_regression_removal_columns)),\n",
    "    ('preprocessing',record_store_regression_transformer),\n",
    "    ('standardization', RobustScaler()),\n",
    "    ('normalization', MinMaxScaler())             \n",
    "])\n",
    "\n",
    "record_store_lr_pipe = Pipeline([\n",
    "    ('processing', record_store_regression_processing),\n",
    "    ('lr', GridSearchCV(\n",
    "        LinearRegression(),\n",
    "        param_grid={\n",
    "            'normalize': [False]\n",
    "        },\n",
    "        cv=KFold(n_splits=5,shuffle=True),\n",
    "        scoring='neg_mean_absolute_error',\n",
    "        verbose=5,\n",
    "        n_jobs=-1,\n",
    "    ))\n",
    "])"
   ]
  },
  {
   "cell_type": "code",
   "execution_count": 21,
   "metadata": {
    "colab": {
     "base_uri": "https://localhost:8080/",
     "height": 557
    },
    "colab_type": "code",
    "id": "0ymJQSm8RuUn",
    "outputId": "cac9c328-865d-4ad6-a018-630cb8e7665d"
   },
   "outputs": [
    {
     "name": "stdout",
     "output_type": "stream",
     "text": [
      "Fitting 5 folds for each of 1 candidates, totalling 5 fits\n"
     ]
    },
    {
     "name": "stderr",
     "output_type": "stream",
     "text": [
      "[Parallel(n_jobs=-1)]: Using backend LokyBackend with 4 concurrent workers.\n",
      "[Parallel(n_jobs=-1)]: Done   2 out of   5 | elapsed:    5.7s remaining:    8.6s\n",
      "[Parallel(n_jobs=-1)]: Done   5 out of   5 | elapsed:    5.9s finished\n",
      "/usr/local/lib/python3.6/site-packages/cuml/utils/input_utils.py:188: UserWarning: Expected column ('F') major order, but got the opposite. Converting data, this will result in additional memory utilization.\n",
      "  warnings.warn(\"Expected \" + order_to_str(order) + \" major order, \"\n"
     ]
    },
    {
     "data": {
      "text/plain": [
       "Pipeline(memory=None,\n",
       "         steps=[('processing',\n",
       "                 Pipeline(memory=None,\n",
       "                          steps=[('leave_one_out_encoding',\n",
       "                                  LeaveOneOutEncoder(cols=['artist', 'label',\n",
       "                                                           'format_text',\n",
       "                                                           'master_id',\n",
       "                                                           'format_name'],\n",
       "                                                     drop_invariant=False,\n",
       "                                                     handle_missing='value',\n",
       "                                                     handle_unknown='value',\n",
       "                                                     random_state=None,\n",
       "                                                     return_df=True, sigma=None,\n",
       "                                                     verbose=0)),\n",
       "                                 ('record_store_column_remover',\n",
       "                                  ColumnRemover(rem...\n",
       "                              estimator=LinearRegression(algorithm='eig', fit_intercept=True, normalize=False, handle=<cuml.common.handle.Handle object at 0x7f0c27f88650>, verbose=False, output_type='input'),\n",
       "                              iid='deprecated', n_jobs=-1,\n",
       "                              param_grid={'normalize': [False]},\n",
       "                              pre_dispatch='2*n_jobs', refit=True,\n",
       "                              return_train_score=False,\n",
       "                              scoring='neg_mean_absolute_error', verbose=5))],\n",
       "         verbose=False)"
      ]
     },
     "execution_count": 21,
     "metadata": {
      "tags": []
     },
     "output_type": "execute_result"
    }
   ],
   "source": [
    "record_store_lr_pipe.fit(X_tr,np.log(y_tr).values)"
   ]
  },
  {
   "cell_type": "code",
   "execution_count": 22,
   "metadata": {
    "colab": {
     "base_uri": "https://localhost:8080/",
     "height": 35
    },
    "colab_type": "code",
    "id": "bVqYCgf9EMzZ",
    "outputId": "699e696a-b889-4816-eebd-5b4071b91312"
   },
   "outputs": [
    {
     "data": {
      "text/plain": [
       "-0.5151283756432046"
      ]
     },
     "execution_count": 22,
     "metadata": {
      "tags": []
     },
     "output_type": "execute_result"
    }
   ],
   "source": [
    "record_store_lr_pipe.steps[-1][-1].best_score_"
   ]
  },
  {
   "cell_type": "markdown",
   "metadata": {
    "colab_type": "text",
    "id": "kEOfpr37wOs7"
   },
   "source": [
    "After performing grid search, we see that our model performs better than our baseline in terms of its negative mean absolute error, which we will now evaluate against the test set by exponentiating our model predictions in order to obtain a clearer picture of the scale of its error."
   ]
  },
  {
   "cell_type": "code",
   "execution_count": 23,
   "metadata": {
    "colab": {
     "base_uri": "https://localhost:8080/",
     "height": 73
    },
    "colab_type": "code",
    "id": "W6IhcYpqEMuK",
    "outputId": "a90fabc6-4893-4446-bd9b-03e8340eac82"
   },
   "outputs": [
    {
     "name": "stderr",
     "output_type": "stream",
     "text": [
      "/usr/local/lib/python3.6/site-packages/cuml/utils/input_utils.py:188: UserWarning: Expected column ('F') major order, but got the opposite. Converting data, this will result in additional memory utilization.\n",
      "  warnings.warn(\"Expected \" + order_to_str(order) + \" major order, \"\n"
     ]
    }
   ],
   "source": [
    "record_store_lr_pred = record_store_lr_pipe.predict(X_te)"
   ]
  },
  {
   "cell_type": "code",
   "execution_count": 24,
   "metadata": {
    "colab": {
     "base_uri": "https://localhost:8080/",
     "height": 35
    },
    "colab_type": "code",
    "id": "opzrKU8LE5DR",
    "outputId": "ade1e0d3-1173-4043-9997-28f7d15fd1ee"
   },
   "outputs": [
    {
     "data": {
      "text/plain": [
       "8.386369608231323"
      ]
     },
     "execution_count": 24,
     "metadata": {
      "tags": []
     },
     "output_type": "execute_result"
    }
   ],
   "source": [
    "record_store_lr_mae = mean_absolute_error(y_te,np.exp(record_store_lr_pred))\n",
    "record_store_lr_mae"
   ]
  },
  {
   "cell_type": "code",
   "execution_count": null,
   "metadata": {
    "colab": {},
    "colab_type": "code",
    "id": "AOTBf0olni69"
   },
   "outputs": [],
   "source": [
    "def print_results(algorithm,algorithm_mae,baseline,baseline_mae):\n",
    "    mae_diff = algorithm_mae - baseline_mae\n",
    "\n",
    "    print(f'{algorithm} performance wrt {baseline} is: \\nMAE: {np.round(mae_diff,3)}')"
   ]
  },
  {
   "cell_type": "code",
   "execution_count": 26,
   "metadata": {
    "colab": {
     "base_uri": "https://localhost:8080/",
     "height": 53
    },
    "colab_type": "code",
    "id": "iyAAuRZUrGFE",
    "outputId": "113138cc-b6fb-434b-d556-8d25197e9f5d"
   },
   "outputs": [
    {
     "name": "stdout",
     "output_type": "stream",
     "text": [
      "Linear Regression performance wrt Dummy Regressor is: \n",
      "MAE: -2.081\n"
     ]
    }
   ],
   "source": [
    "print_results('Linear Regression',record_store_lr_mae,'Dummy Regressor',dummy_mae)"
   ]
  },
  {
   "cell_type": "markdown",
   "metadata": {
    "colab_type": "text",
    "id": "VJMy1wkkwOtG"
   },
   "source": [
    "In comparison to our baseline model, we see there has been a clear improvement in performance using the Linear Regression model, with the Mean Absolute Error decreasing by just over 1.5 USD. However, despite this improvement in performance, the Linear Regression model cannot be argued to be a reliable model in the prediction of Jazz album market value, with a very large mean deviation from the price of a given record. As this is our best performing algorithm thus far, it will henceforth be used as the benchmark for following evaluations of algorithms.\n",
    "\n",
    "As a next step, we will investigate whether the inclusion of the Full Information suite of features will improve the performance for this algorithm."
   ]
  },
  {
   "cell_type": "markdown",
   "metadata": {
    "colab_type": "text",
    "id": "JwtgnOdrk1hP"
   },
   "source": [
    "## Linear Regression - Full Information\n",
    "In comparison to the previous model, we make only a small change to the pipeline that builds the Linear Regression model for the Full Information scenario. By retaining the features of ``unit_for_sale``, ``community_have``, ``community_want``, ``average_rating`` and ``rating_count``, we incorporate the broader scope of information available to us by using the Discogs.com platform information. In what follows, we attempt to identify whether this makes a substantive difference in the prediction of the ``market_value`` target feature for Jazz albums within the Linear Regression framework."
   ]
  },
  {
   "cell_type": "code",
   "execution_count": null,
   "metadata": {
    "colab": {},
    "colab_type": "code",
    "id": "lddHv-fzk1hX"
   },
   "outputs": [],
   "source": [
    "full_information_regression_transformer = record_store_regression_transformer\n",
    "\n",
    "full_information_columns = set([\n",
    "    'units_for_sale','community_have','community_want','average_rating','rating_count'\n",
    "])\n",
    "full_information_regression_removal_columns = record_store_regression_removal_columns - full_information_columns\n",
    "\n",
    "full_information_regression_processing = Pipeline([\n",
    "    ('leave_one_out_encoding', LeaveOneOutEncoder(cols=['artist','label','format_text','master_id','format_name'])),\n",
    "    ('record_store_column_remover', ColumnRemover(full_information_regression_removal_columns)),\n",
    "    ('preprocessing',full_information_regression_transformer),\n",
    "    ('standardization', RobustScaler()),\n",
    "    ('normalization', MinMaxScaler())\n",
    "\n",
    "])\n",
    "\n",
    "full_information_lr_pipe = Pipeline([\n",
    "    ('processing', full_information_regression_processing),\n",
    "    ('lr', GridSearchCV(\n",
    "        LinearRegression(),\n",
    "        param_grid={\n",
    "            'normalize':[False,True]\n",
    "        },\n",
    "        cv=KFold(n_splits=5,shuffle=True),\n",
    "        scoring='neg_mean_absolute_error',\n",
    "        verbose=5,\n",
    "        n_jobs=-1,\n",
    "    ))\n",
    "])"
   ]
  },
  {
   "cell_type": "code",
   "execution_count": 28,
   "metadata": {
    "colab": {
     "base_uri": "https://localhost:8080/",
     "height": 557
    },
    "colab_type": "code",
    "id": "GIxWE4WUk1hb",
    "outputId": "15452f1e-6d94-40b2-8447-12029b5e8a3e"
   },
   "outputs": [
    {
     "name": "stdout",
     "output_type": "stream",
     "text": [
      "Fitting 5 folds for each of 2 candidates, totalling 10 fits\n"
     ]
    },
    {
     "name": "stderr",
     "output_type": "stream",
     "text": [
      "[Parallel(n_jobs=-1)]: Using backend LokyBackend with 4 concurrent workers.\n",
      "[Parallel(n_jobs=-1)]: Done   6 out of  10 | elapsed:    1.0s remaining:    0.6s\n",
      "[Parallel(n_jobs=-1)]: Done  10 out of  10 | elapsed:    1.2s finished\n",
      "/usr/local/lib/python3.6/site-packages/cuml/utils/input_utils.py:188: UserWarning: Expected column ('F') major order, but got the opposite. Converting data, this will result in additional memory utilization.\n",
      "  warnings.warn(\"Expected \" + order_to_str(order) + \" major order, \"\n"
     ]
    },
    {
     "data": {
      "text/plain": [
       "Pipeline(memory=None,\n",
       "         steps=[('processing',\n",
       "                 Pipeline(memory=None,\n",
       "                          steps=[('leave_one_out_encoding',\n",
       "                                  LeaveOneOutEncoder(cols=['artist', 'label',\n",
       "                                                           'format_text',\n",
       "                                                           'master_id',\n",
       "                                                           'format_name'],\n",
       "                                                     drop_invariant=False,\n",
       "                                                     handle_missing='value',\n",
       "                                                     handle_unknown='value',\n",
       "                                                     random_state=None,\n",
       "                                                     return_df=True, sigma=None,\n",
       "                                                     verbose=0)),\n",
       "                                 ('record_store_column_remover',\n",
       "                                  ColumnRemover(rem...\n",
       "                              estimator=LinearRegression(algorithm='eig', fit_intercept=True, normalize=False, handle=<cuml.common.handle.Handle object at 0x7f0baa454db0>, verbose=False, output_type='input'),\n",
       "                              iid='deprecated', n_jobs=-1,\n",
       "                              param_grid={'normalize': [False, True]},\n",
       "                              pre_dispatch='2*n_jobs', refit=True,\n",
       "                              return_train_score=False,\n",
       "                              scoring='neg_mean_absolute_error', verbose=5))],\n",
       "         verbose=False)"
      ]
     },
     "execution_count": 28,
     "metadata": {
      "tags": []
     },
     "output_type": "execute_result"
    }
   ],
   "source": [
    "full_information_lr_pipe.fit(X_tr,np.log(y_tr).values)"
   ]
  },
  {
   "cell_type": "code",
   "execution_count": 29,
   "metadata": {
    "colab": {
     "base_uri": "https://localhost:8080/",
     "height": 35
    },
    "colab_type": "code",
    "id": "zK4yVrywk1hf",
    "outputId": "43ccc72f-890e-433f-9248-761ae9cd8590"
   },
   "outputs": [
    {
     "data": {
      "text/plain": [
       "-0.4828166224805573"
      ]
     },
     "execution_count": 29,
     "metadata": {
      "tags": []
     },
     "output_type": "execute_result"
    }
   ],
   "source": [
    "full_information_lr_pipe['lr'].best_score_"
   ]
  },
  {
   "cell_type": "markdown",
   "metadata": {
    "colab_type": "text",
    "id": "oIqje5QfwOtT"
   },
   "source": [
    "Compared to the results we obtained on the cross validation of the Linear Regression model under the Record Store scenario, we observe a small increase of around 0.05 in the negative mean absolute error. Next we will identify to what extent this improvement is reflected by evaluating our model on the test set."
   ]
  },
  {
   "cell_type": "code",
   "execution_count": 30,
   "metadata": {
    "colab": {
     "base_uri": "https://localhost:8080/",
     "height": 73
    },
    "colab_type": "code",
    "id": "lK9EGfANk1hk",
    "outputId": "5562b1bc-cf22-4c70-cf7b-c20fb29e7ac3"
   },
   "outputs": [
    {
     "name": "stderr",
     "output_type": "stream",
     "text": [
      "/usr/local/lib/python3.6/site-packages/cuml/utils/input_utils.py:188: UserWarning: Expected column ('F') major order, but got the opposite. Converting data, this will result in additional memory utilization.\n",
      "  warnings.warn(\"Expected \" + order_to_str(order) + \" major order, \"\n"
     ]
    }
   ],
   "source": [
    "full_information_lr_pred = full_information_lr_pipe.predict(X_te)"
   ]
  },
  {
   "cell_type": "code",
   "execution_count": 31,
   "metadata": {
    "colab": {
     "base_uri": "https://localhost:8080/",
     "height": 35
    },
    "colab_type": "code",
    "id": "sHCTKQZhk1hq",
    "outputId": "369f12e0-2f71-48e4-897e-58f258900623"
   },
   "outputs": [
    {
     "data": {
      "text/plain": [
       "8.226939165579678"
      ]
     },
     "execution_count": 31,
     "metadata": {
      "tags": []
     },
     "output_type": "execute_result"
    }
   ],
   "source": [
    "full_information_lr_mae = mean_absolute_error(y_te,np.exp(full_information_lr_pred))\n",
    "full_information_lr_mae"
   ]
  },
  {
   "cell_type": "code",
   "execution_count": 32,
   "metadata": {
    "colab": {
     "base_uri": "https://localhost:8080/",
     "height": 53
    },
    "colab_type": "code",
    "id": "zbjETPLvraMj",
    "outputId": "abc7378c-bf81-4f00-b98b-8e35afbe4084"
   },
   "outputs": [
    {
     "name": "stdout",
     "output_type": "stream",
     "text": [
      "Linear Regression (FI) performance wrt Linear Regression (RS) is: \n",
      "MAE: -0.159\n"
     ]
    }
   ],
   "source": [
    "print_results('Linear Regression (FI)',full_information_lr_mae,'Linear Regression (RS)',record_store_lr_mae)"
   ]
  },
  {
   "cell_type": "markdown",
   "metadata": {
    "colab_type": "text",
    "id": "P3iNwNMSwOtc"
   },
   "source": [
    "Comparing the results of the Record Store and Full Information scenarios, we see there is a small improvement in the performance of the model on the held out test set. This seems to indicate that there is certainly some value to be extracted from the information encoded in the Full Information features, albeit not enough to dramatically improve the performance of the model. Although we cannot identify which features are driving this improvement, it would be safe to assume that the increase in performance comes as a result of the features which proxy the demand and supply for a given record, namely ``community_have`` and ``community_want``. Later, we will investigate this hypothesis via the use of the CatBoost model, which will allow us to identify the most important features in the prediction of ``market_value``."
   ]
  },
  {
   "cell_type": "markdown",
   "metadata": {
    "colab_type": "text",
    "id": "Qr2uI56yk1hu"
   },
   "source": [
    "## Ridge Regression\n",
    "The next algorithm we will consider in our attempt to predict the ``market_value`` of Jazz albums is the Ridge Regression. It is an offshoot algorithm of Linear Regression, differentiating itself by making use of L2 Regularization as a means of avoiding overfitting. Ridge Regression is often used as an alternative to Linear Regression, and is generally associated with stronger performances.\n",
    "\n",
    "## Ridge Regression - Record Store\n",
    "As Ridge Regression operates under the same constraints as Linear Regression, we can make use of the previously defined ``record_store_regression_processing`` pipeline in creating our Ridge Regression training and evaluation pipeline. In this case, we simply replace the Linear Regression in our GridSearchCV step with Ridge Regression, but now also search over the space of the ``alpha`` hyperparameter, which controls the regularization strength of the Ridge Regression algorithm."
   ]
  },
  {
   "cell_type": "code",
   "execution_count": null,
   "metadata": {
    "colab": {},
    "colab_type": "code",
    "id": "BP1pxaQ18arp"
   },
   "outputs": [],
   "source": [
    "record_store_ridge_pipe = Pipeline([\n",
    "    ('processing', record_store_regression_processing),\n",
    "    ('ridge', GridSearchCV(\n",
    "        Ridge(normalize=False,solver='eig'),\n",
    "        param_grid={\n",
    "            'alpha': np.logspace(-4,-1,10),\n",
    "        },\n",
    "        cv=KFold(n_splits=5,shuffle=True),\n",
    "        scoring='neg_mean_absolute_error',\n",
    "        verbose=5,\n",
    "        n_jobs=-1,\n",
    "        return_train_score=True\n",
    "    ))\n",
    "])"
   ]
  },
  {
   "cell_type": "code",
   "execution_count": 34,
   "metadata": {
    "colab": {
     "base_uri": "https://localhost:8080/",
     "height": 575
    },
    "colab_type": "code",
    "id": "edNLg2KryH4q",
    "outputId": "27c7c1cb-f9a9-4640-a61a-d8451b34c74a"
   },
   "outputs": [
    {
     "name": "stdout",
     "output_type": "stream",
     "text": [
      "Fitting 5 folds for each of 10 candidates, totalling 50 fits\n"
     ]
    },
    {
     "name": "stderr",
     "output_type": "stream",
     "text": [
      "[Parallel(n_jobs=-1)]: Using backend LokyBackend with 4 concurrent workers.\n",
      "[Parallel(n_jobs=-1)]: Done  10 tasks      | elapsed:    1.7s\n",
      "[Parallel(n_jobs=-1)]: Done  50 out of  50 | elapsed:    6.0s finished\n",
      "/usr/local/lib/python3.6/site-packages/cuml/utils/input_utils.py:188: UserWarning: Expected column ('F') major order, but got the opposite. Converting data, this will result in additional memory utilization.\n",
      "  warnings.warn(\"Expected \" + order_to_str(order) + \" major order, \"\n"
     ]
    },
    {
     "data": {
      "text/plain": [
       "Pipeline(memory=None,\n",
       "         steps=[('processing',\n",
       "                 Pipeline(memory=None,\n",
       "                          steps=[('leave_one_out_encoding',\n",
       "                                  LeaveOneOutEncoder(cols=['artist', 'label',\n",
       "                                                           'format_text',\n",
       "                                                           'master_id',\n",
       "                                                           'format_name'],\n",
       "                                                     drop_invariant=False,\n",
       "                                                     handle_missing='value',\n",
       "                                                     handle_unknown='value',\n",
       "                                                     random_state=None,\n",
       "                                                     return_df=True, sigma=None,\n",
       "                                                     verbose=0)),\n",
       "                                 ('record_store_column_remover',\n",
       "                                  ColumnRemover(rem...\n",
       "                              estimator=Ridge(alpha=1.0, solver='eig', fit_intercept=True, normalize=False, handle=<cuml.common.handle.Handle object at 0x7f0baa1e51b0>, output_type='input'),\n",
       "                              iid='deprecated', n_jobs=-1,\n",
       "                              param_grid={'alpha': array([0.0001    , 0.00021544, 0.00046416, 0.001     , 0.00215443,\n",
       "       0.00464159, 0.01      , 0.02154435, 0.04641589, 0.1       ])},\n",
       "                              pre_dispatch='2*n_jobs', refit=True,\n",
       "                              return_train_score=True,\n",
       "                              scoring='neg_mean_absolute_error', verbose=5))],\n",
       "         verbose=False)"
      ]
     },
     "execution_count": 34,
     "metadata": {
      "tags": []
     },
     "output_type": "execute_result"
    }
   ],
   "source": [
    "record_store_ridge_pipe.fit(X_tr,np.log(y_tr).values)"
   ]
  },
  {
   "cell_type": "markdown",
   "metadata": {
    "colab_type": "text",
    "id": "imyqAF_W_B-S"
   },
   "source": [
    "In order to get a better sense of the manner in which the magnitude of the `alpha` hyperparameter impacts the Mean Absolute Error of the model, we use the GridSearchPlotter class, which plots the scores obtained over the range of hyperparameter values tested."
   ]
  },
  {
   "cell_type": "code",
   "execution_count": null,
   "metadata": {
    "colab": {},
    "colab_type": "code",
    "id": "z7tlJO3u-Tl4"
   },
   "outputs": [],
   "source": [
    "plotter = GridSearchPlotter(record_store_ridge_pipe['ridge'])"
   ]
  },
  {
   "cell_type": "code",
   "execution_count": 36,
   "metadata": {
    "colab": {
     "base_uri": "https://localhost:8080/",
     "height": 295
    },
    "colab_type": "code",
    "id": "jla1YIhr-TgT",
    "outputId": "8128c542-7e64-44ef-831d-bff4e367da55"
   },
   "outputs": [
    {
     "data": {
      "image/png": "[encoded data removed]",
      "text/plain": [
       "<Figure size 432x288 with 1 Axes>"
      ]
     },
     "metadata": {
      "needs_background": "light",
      "tags": []
     },
     "output_type": "display_data"
    }
   ],
   "source": [
    "plotter.plot_validation_curve(parameter='alpha',ylim=(-0.75,-0.25))"
   ]
  },
  {
   "cell_type": "markdown",
   "metadata": {
    "colab_type": "text",
    "id": "qtex1Rgx-_H5"
   },
   "source": [
    "It seems that there is a negligible impact of altering the value of `alpha` on the mean absolute error performance of the Ridge Regression model."
   ]
  },
  {
   "cell_type": "code",
   "execution_count": 37,
   "metadata": {
    "colab": {
     "base_uri": "https://localhost:8080/",
     "height": 35
    },
    "colab_type": "code",
    "id": "cxR9zl4f-hk9",
    "outputId": "5a8e9c5c-d87b-4c67-b206-c8f9e8d5e5bd"
   },
   "outputs": [
    {
     "data": {
      "text/plain": [
       "-0.5146006666944771"
      ]
     },
     "execution_count": 37,
     "metadata": {
      "tags": []
     },
     "output_type": "execute_result"
    }
   ],
   "source": [
    "record_store_ridge_pipe['ridge'].best_score_"
   ]
  },
  {
   "cell_type": "code",
   "execution_count": 38,
   "metadata": {
    "colab": {
     "base_uri": "https://localhost:8080/",
     "height": 35
    },
    "colab_type": "code",
    "id": "cbV-3Q9A0-hi",
    "outputId": "9ace3505-5a47-44d3-fa57-56af67ab62a5"
   },
   "outputs": [
    {
     "data": {
      "text/plain": [
       "{'alpha': 0.0001}"
      ]
     },
     "execution_count": 38,
     "metadata": {
      "tags": []
     },
     "output_type": "execute_result"
    }
   ],
   "source": [
    "record_store_ridge_pipe['ridge'].best_params_"
   ]
  },
  {
   "cell_type": "markdown",
   "metadata": {
    "colab_type": "text",
    "id": "clSH2fqX-8pS"
   },
   "source": [
    "As we see from the best score we obtain above, there seems to be a very minor improvement over the performance of the Linear Regression model treated previously. We will test whether this improvement extends to the test set below."
   ]
  },
  {
   "cell_type": "code",
   "execution_count": 39,
   "metadata": {
    "colab": {
     "base_uri": "https://localhost:8080/",
     "height": 73
    },
    "colab_type": "code",
    "id": "db1qMG0e8ar7",
    "outputId": "682a9f0c-48a8-4427-a1cd-d6c27c141332"
   },
   "outputs": [
    {
     "name": "stderr",
     "output_type": "stream",
     "text": [
      "/usr/local/lib/python3.6/site-packages/cuml/utils/input_utils.py:188: UserWarning: Expected column ('F') major order, but got the opposite. Converting data, this will result in additional memory utilization.\n",
      "  warnings.warn(\"Expected \" + order_to_str(order) + \" major order, \"\n"
     ]
    }
   ],
   "source": [
    "record_store_ridge_pred = record_store_ridge_pipe.predict(X_te)"
   ]
  },
  {
   "cell_type": "code",
   "execution_count": 40,
   "metadata": {
    "colab": {
     "base_uri": "https://localhost:8080/",
     "height": 35
    },
    "colab_type": "code",
    "id": "9oKBWYEo8asD",
    "outputId": "bdead9c0-86b8-4b83-ac67-3be7ac50e803"
   },
   "outputs": [
    {
     "data": {
      "text/plain": [
       "8.386952781964636"
      ]
     },
     "execution_count": 40,
     "metadata": {
      "tags": []
     },
     "output_type": "execute_result"
    }
   ],
   "source": [
    "record_store_ridge_mae = mean_absolute_error(y_te,np.exp(record_store_ridge_pred))\n",
    "record_store_ridge_mae"
   ]
  },
  {
   "cell_type": "code",
   "execution_count": 41,
   "metadata": {
    "colab": {
     "base_uri": "https://localhost:8080/",
     "height": 53
    },
    "colab_type": "code",
    "id": "odD9CEoor0vj",
    "outputId": "4c7ef986-5bed-46a0-c116-366ce298d896"
   },
   "outputs": [
    {
     "name": "stdout",
     "output_type": "stream",
     "text": [
      "Ridge Regression performance wrt Linear Regression is: \n",
      "MAE: 0.001\n"
     ]
    }
   ],
   "source": [
    "print_results('Ridge Regression',record_store_ridge_mae,'Linear Regression',record_store_lr_mae)"
   ]
  },
  {
   "cell_type": "markdown",
   "metadata": {
    "colab_type": "text",
    "id": "KcuLdw-M-5w4"
   },
   "source": [
    "As we can see by comparing the Mean Absolute Error scores we obtain from evaluating our model predictions on the test set, there is a negligible improvement in model performance, which leads us to conclude that our regularization efforts are not effective in improving on the performance of Linear Regression in predicting ``market_value``."
   ]
  },
  {
   "cell_type": "markdown",
   "metadata": {
    "colab_type": "text",
    "id": "Cnmd7rIWk1iS"
   },
   "source": [
    "## Ridge - Full Information\n",
    "As in the case for Linear Regression, we will now extend the analysis of the Ridge Regression to the Full Information case, using the same model preprocessing steps as we have done for the Linear Regression model."
   ]
  },
  {
   "cell_type": "code",
   "execution_count": null,
   "metadata": {
    "colab": {},
    "colab_type": "code",
    "id": "Rlb1Z8CEk1iT"
   },
   "outputs": [],
   "source": [
    "full_information_ridge_pipe = Pipeline([\n",
    "    ('processing', full_information_regression_processing),\n",
    "    ('ridge', GridSearchCV(\n",
    "        Ridge(normalize=False,solver='eig'),\n",
    "        param_grid={\n",
    "            'alpha': np.logspace(-4,1,10),\n",
    "        },\n",
    "        cv=KFold(n_splits=5,shuffle=True),\n",
    "        scoring='neg_mean_absolute_error',\n",
    "        verbose=5,\n",
    "        n_jobs=-1,\n",
    "        return_train_score=True\n",
    "    ))\n",
    "])"
   ]
  },
  {
   "cell_type": "code",
   "execution_count": 43,
   "metadata": {
    "colab": {
     "base_uri": "https://localhost:8080/",
     "height": 592
    },
    "colab_type": "code",
    "id": "6CSH5O1jk1iX",
    "outputId": "434725d9-30f9-484c-f1f4-51b6a0de38b1"
   },
   "outputs": [
    {
     "name": "stdout",
     "output_type": "stream",
     "text": [
      "Fitting 5 folds for each of 10 candidates, totalling 50 fits\n"
     ]
    },
    {
     "name": "stderr",
     "output_type": "stream",
     "text": [
      "[Parallel(n_jobs=-1)]: Using backend LokyBackend with 4 concurrent workers.\n",
      "[Parallel(n_jobs=-1)]: Done  10 tasks      | elapsed:    1.8s\n",
      "[Parallel(n_jobs=-1)]: Done  50 out of  50 | elapsed:    6.3s finished\n",
      "/usr/local/lib/python3.6/site-packages/cuml/utils/input_utils.py:188: UserWarning: Expected column ('F') major order, but got the opposite. Converting data, this will result in additional memory utilization.\n",
      "  warnings.warn(\"Expected \" + order_to_str(order) + \" major order, \"\n"
     ]
    },
    {
     "data": {
      "text/plain": [
       "Pipeline(memory=None,\n",
       "         steps=[('processing',\n",
       "                 Pipeline(memory=None,\n",
       "                          steps=[('leave_one_out_encoding',\n",
       "                                  LeaveOneOutEncoder(cols=['artist', 'label',\n",
       "                                                           'format_text',\n",
       "                                                           'master_id',\n",
       "                                                           'format_name'],\n",
       "                                                     drop_invariant=False,\n",
       "                                                     handle_missing='value',\n",
       "                                                     handle_unknown='value',\n",
       "                                                     random_state=None,\n",
       "                                                     return_df=True, sigma=None,\n",
       "                                                     verbose=0)),\n",
       "                                 ('record_store_column_remover',\n",
       "                                  ColumnRemover(rem...\n",
       "                              estimator=Ridge(alpha=1.0, solver='eig', fit_intercept=True, normalize=False, handle=<cuml.common.handle.Handle object at 0x7f0ba0fa2c10>, output_type='input'),\n",
       "                              iid='deprecated', n_jobs=-1,\n",
       "                              param_grid={'alpha': array([1.00000000e-04, 3.59381366e-04, 1.29154967e-03, 4.64158883e-03,\n",
       "       1.66810054e-02, 5.99484250e-02, 2.15443469e-01, 7.74263683e-01,\n",
       "       2.78255940e+00, 1.00000000e+01])},\n",
       "                              pre_dispatch='2*n_jobs', refit=True,\n",
       "                              return_train_score=True,\n",
       "                              scoring='neg_mean_absolute_error', verbose=5))],\n",
       "         verbose=False)"
      ]
     },
     "execution_count": 43,
     "metadata": {
      "tags": []
     },
     "output_type": "execute_result"
    }
   ],
   "source": [
    "full_information_ridge_pipe.fit(X_tr,np.log(y_tr).values)"
   ]
  },
  {
   "cell_type": "code",
   "execution_count": null,
   "metadata": {
    "colab": {},
    "colab_type": "code",
    "id": "yGvB5HQEk1ib"
   },
   "outputs": [],
   "source": [
    "plotter = GridSearchPlotter(full_information_ridge_pipe['ridge'])"
   ]
  },
  {
   "cell_type": "code",
   "execution_count": 45,
   "metadata": {
    "colab": {
     "base_uri": "https://localhost:8080/",
     "height": 295
    },
    "colab_type": "code",
    "id": "FALIex5Ak1ie",
    "outputId": "cd5a0319-1db8-4bc3-cb45-35d57602e969"
   },
   "outputs": [
    {
     "data": {
      "image/png": "[encoded data removed]",
      "text/plain": [
       "<Figure size 432x288 with 1 Axes>"
      ]
     },
     "metadata": {
      "needs_background": "light",
      "tags": []
     },
     "output_type": "display_data"
    }
   ],
   "source": [
    "plotter.plot_validation_curve(parameter='alpha',ylim=(-0.75,-0.25))"
   ]
  },
  {
   "cell_type": "code",
   "execution_count": 46,
   "metadata": {
    "colab": {
     "base_uri": "https://localhost:8080/",
     "height": 35
    },
    "colab_type": "code",
    "id": "JFbucWgVk1ih",
    "outputId": "fd9cba4b-8a69-448b-b19e-ce59be842d16"
   },
   "outputs": [
    {
     "data": {
      "text/plain": [
       "-0.4827888676725287"
      ]
     },
     "execution_count": 46,
     "metadata": {
      "tags": []
     },
     "output_type": "execute_result"
    }
   ],
   "source": [
    "full_information_ridge_pipe['ridge'].best_score_"
   ]
  },
  {
   "cell_type": "code",
   "execution_count": 47,
   "metadata": {
    "colab": {
     "base_uri": "https://localhost:8080/",
     "height": 35
    },
    "colab_type": "code",
    "id": "DmY50t1kk1iz",
    "outputId": "f08e30bf-edc8-4da7-cea1-7d3eae3d361e"
   },
   "outputs": [
    {
     "data": {
      "text/plain": [
       "{'alpha': 0.0001}"
      ]
     },
     "execution_count": 47,
     "metadata": {
      "tags": []
     },
     "output_type": "execute_result"
    }
   ],
   "source": [
    "full_information_ridge_pipe['ridge'].best_params_"
   ]
  },
  {
   "cell_type": "code",
   "execution_count": 48,
   "metadata": {
    "colab": {
     "base_uri": "https://localhost:8080/",
     "height": 73
    },
    "colab_type": "code",
    "id": "IPsBz9Yhk1i1",
    "outputId": "093af6b6-45ef-464d-f93f-65d40c8a63af"
   },
   "outputs": [
    {
     "name": "stderr",
     "output_type": "stream",
     "text": [
      "/usr/local/lib/python3.6/site-packages/cuml/utils/input_utils.py:188: UserWarning: Expected column ('F') major order, but got the opposite. Converting data, this will result in additional memory utilization.\n",
      "  warnings.warn(\"Expected \" + order_to_str(order) + \" major order, \"\n"
     ]
    }
   ],
   "source": [
    "full_information_ridge_pred = full_information_ridge_pipe.predict(X_te)"
   ]
  },
  {
   "cell_type": "code",
   "execution_count": 49,
   "metadata": {
    "colab": {
     "base_uri": "https://localhost:8080/",
     "height": 35
    },
    "colab_type": "code",
    "id": "uNXNcesPk1i6",
    "outputId": "467c4132-c033-49de-c69d-99b4bb42e41d"
   },
   "outputs": [
    {
     "data": {
      "text/plain": [
       "8.2267548845038"
      ]
     },
     "execution_count": 49,
     "metadata": {
      "tags": []
     },
     "output_type": "execute_result"
    }
   ],
   "source": [
    "full_information_ridge_mae = mean_absolute_error(y_te,np.exp(full_information_ridge_pred))\n",
    "full_information_ridge_mae"
   ]
  },
  {
   "cell_type": "code",
   "execution_count": 50,
   "metadata": {
    "colab": {
     "base_uri": "https://localhost:8080/",
     "height": 53
    },
    "colab_type": "code",
    "id": "sTyEm0l7d0mE",
    "outputId": "8939888d-7458-4915-cb41-f09d352739ff"
   },
   "outputs": [
    {
     "name": "stdout",
     "output_type": "stream",
     "text": [
      "Ridge Regression performance wrt Linear Regression is: \n",
      "MAE: -0.0\n"
     ]
    }
   ],
   "source": [
    "print_results('Ridge Regression',full_information_ridge_mae,'Linear Regression',full_information_lr_mae)"
   ]
  },
  {
   "cell_type": "code",
   "execution_count": 51,
   "metadata": {
    "colab": {
     "base_uri": "https://localhost:8080/",
     "height": 53
    },
    "colab_type": "code",
    "id": "c1GF0ftre95V",
    "outputId": "29d66574-7de5-4b05-d0b7-9c740e06ecad"
   },
   "outputs": [
    {
     "name": "stdout",
     "output_type": "stream",
     "text": [
      "Ridge Regression (FI) performance wrt Ridge Regression (RS) is: \n",
      "MAE: -0.16\n"
     ]
    }
   ],
   "source": [
    "print_results('Ridge Regression (FI)',full_information_ridge_mae, 'Ridge Regression (RS)',record_store_ridge_mae)"
   ]
  },
  {
   "cell_type": "markdown",
   "metadata": {
    "colab_type": "text",
    "id": "P0-jNats_MAI"
   },
   "source": [
    "Just like in the Record Store case, we see no improvement of the Ridge Regression model on the Linear Regression model, further indicating that regularization is ineffective in driving performance for linear models using the data for this project. The difference in performance between the two scenarios for the Ridge Regression models is also almost identical to the Linear Regression case."
   ]
  },
  {
   "cell_type": "markdown",
   "metadata": {
    "colab_type": "text",
    "id": "fbreYK1X8asG"
   },
   "source": [
    "## Random Forest\n",
    "Having obtained wanting results using standard linear regression-based approaches, we will now try the Random Forest approach in order to predict ``market_value``. Random Forest is a powerful algorithm that often perform better than standard regression-based approaches. However, it has been noted that Random Forests can at times have difficulties in accurately predicting outlier values. While we have tried to remove outliers as much as possible, our dataset continues to be defined by a high degree of variation, and as a result even this more sophisticated algorithm may run into issues in improving on the performance of the regression-based approaches outlined previously. \n",
    "## Random Forest - Record Store\n",
    "In preparing the data for prediction with a Random Forest based model, we have to make some adjustments to our preprocessing pipeline. Firstly, we increase the scope of the features we encode via the Leave One Out method, as it keeps the dimensionality of our processed dataset lower. This is important, as high dimensionality can result in poor performance for Random Forest based models. As such, we elect to encode features we had previously dummy encoded, such as ``year``, ``country`` and ``format_name``, using the aforementioned Leave One Out encoding method. The columns that are removed from the dataset are thus adjusted to reflect this change in method.\n",
    "\n",
    "Additionally, we cast the data to the ``np.float32`` datatype, as this is a strict requirement of the ``cuml`` RandomForestRegressor estimator."
   ]
  },
  {
   "cell_type": "code",
   "execution_count": null,
   "metadata": {
    "colab": {},
    "colab_type": "code",
    "id": "McTksN6VGPnv"
   },
   "outputs": [],
   "source": [
    "record_store_random_forest_removal_columns = [\n",
    "    'market_price','units_for_sale','have','want','average_rating','rating_count','last_sold','lowest','median',\n",
    "    'highest','track_titles','country','genre','style','community_have','community_want','formats','thumb_url',\n",
    "    'release_url','format_description','title','release_id'\n",
    "]\n",
    "record_store_random_forest_removal_columns.extend(\n",
    "    [*column_store._geography_country, *column_store._format_name]\n",
    ")\n",
    "record_store_random_forest_removal_columns = set(record_store_random_forest_removal_columns)"
   ]
  },
  {
   "cell_type": "code",
   "execution_count": null,
   "metadata": {
    "colab": {},
    "colab_type": "code",
    "id": "BPf-IJfD8asO"
   },
   "outputs": [],
   "source": [
    "record_store_random_forest_preprocessing_pipe = Pipeline([\n",
    "    ('leave_one_out_encoding', LeaveOneOutEncoder(cols=['artist','label','format_text','format_name','master_id','year','country'])),\n",
    "    ('record_store_column_remover', ColumnRemover(record_store_random_forest_removal_columns)),\n",
    "    ('cast_to_32', FunctionTransformer(func=lambda x: x.astype(np.float32).values))\n",
    "])\n",
    "\n",
    "random_forest = RandomForestRegressor()\n",
    "\n",
    "record_store_random_forest_search_pipe = Pipeline([\n",
    "    ('preprocessing',record_store_random_forest_preprocessing_pipe),\n",
    "    ('grid_search', GridSearchCV(\n",
    "        random_forest,\n",
    "        cv=KFold(n_splits=5,shuffle=True),\n",
    "        param_grid={\n",
    "            'n_estimators': np.linspace(10,150,5).astype(int)\n",
    "        },\n",
    "        verbose=50,\n",
    "        scoring='neg_mean_absolute_error',\n",
    "        n_jobs=-1,\n",
    "        return_train_score=True\n",
    "    ))\n",
    "])\n",
    "\n",
    "record_store_random_forest_pipe = Pipeline([\n",
    "    ('preprocessing',record_store_random_forest_preprocessing_pipe),\n",
    "    ('random_forest',random_forest)\n",
    "])"
   ]
  },
  {
   "cell_type": "code",
   "execution_count": 54,
   "metadata": {
    "colab": {
     "base_uri": "https://localhost:8080/",
     "height": 1000
    },
    "colab_type": "code",
    "id": "l97EbEPB8asR",
    "outputId": "2886c40c-210d-47f0-bcbd-99e113791595"
   },
   "outputs": [
    {
     "name": "stdout",
     "output_type": "stream",
     "text": [
      "Fitting 5 folds for each of 5 candidates, totalling 25 fits\n",
      "[Parallel(n_jobs=-1)]: Using backend LokyBackend with 4 concurrent workers.\n",
      "[Parallel(n_jobs=-1)]: Done   1 tasks      | elapsed:    1.4s\n",
      "[Parallel(n_jobs=-1)]: Done   2 tasks      | elapsed:    1.4s\n",
      "[Parallel(n_jobs=-1)]: Done   3 tasks      | elapsed:    1.5s\n",
      "[Parallel(n_jobs=-1)]: Done   4 tasks      | elapsed:    1.5s\n",
      "[Parallel(n_jobs=-1)]: Done   5 tasks      | elapsed:    2.8s\n",
      "[Parallel(n_jobs=-1)]: Done   6 tasks      | elapsed:    7.0s\n",
      "[Parallel(n_jobs=-1)]: Done   7 tasks      | elapsed:    7.1s\n",
      "[Parallel(n_jobs=-1)]: Done   8 tasks      | elapsed:    7.1s\n",
      "[Parallel(n_jobs=-1)]: Done   9 tasks      | elapsed:    7.4s\n",
      "[Parallel(n_jobs=-1)]: Done  10 tasks      | elapsed:   12.2s\n",
      "[Parallel(n_jobs=-1)]: Done  11 tasks      | elapsed:   16.6s\n",
      "[Parallel(n_jobs=-1)]: Done  12 tasks      | elapsed:   16.6s\n",
      "[Parallel(n_jobs=-1)]: Done  13 tasks      | elapsed:   17.0s\n"
     ]
    },
    {
     "name": "stderr",
     "output_type": "stream",
     "text": [
      "/usr/local/lib/python3.6/dist-packages/joblib/externals/loky/process_executor.py:691: UserWarning: A worker stopped while some jobs were given to the executor. This can be caused by a too short worker timeout or by a memory leak.\n",
      "  \"timeout or by a memory leak.\", UserWarning\n"
     ]
    },
    {
     "name": "stdout",
     "output_type": "stream",
     "text": [
      "[Parallel(n_jobs=-1)]: Done  14 tasks      | elapsed:   18.1s\n",
      "[Parallel(n_jobs=-1)]: Done  15 tasks      | elapsed:   22.5s\n",
      "[Parallel(n_jobs=-1)]: Done  16 tasks      | elapsed:   24.2s\n",
      "[Parallel(n_jobs=-1)]: Done  17 tasks      | elapsed:   29.7s\n",
      "[Parallel(n_jobs=-1)]: Done  18 tasks      | elapsed:   30.9s\n",
      "[Parallel(n_jobs=-1)]: Done  19 out of  25 | elapsed:   37.4s remaining:   11.8s\n",
      "[Parallel(n_jobs=-1)]: Done  20 out of  25 | elapsed:   41.5s remaining:   10.4s\n",
      "[Parallel(n_jobs=-1)]: Done  21 out of  25 | elapsed:   45.8s remaining:    8.7s\n",
      "[Parallel(n_jobs=-1)]: Done  22 out of  25 | elapsed:   47.1s remaining:    6.4s\n",
      "[Parallel(n_jobs=-1)]: Done  23 out of  25 | elapsed:   50.2s remaining:    4.4s\n",
      "[Parallel(n_jobs=-1)]: Done  25 out of  25 | elapsed:   56.3s remaining:    0.0s\n",
      "[Parallel(n_jobs=-1)]: Done  25 out of  25 | elapsed:   56.3s finished\n"
     ]
    },
    {
     "name": "stderr",
     "output_type": "stream",
     "text": [
      "/usr/local/lib/python3.6/site-packages/cuml/utils/input_utils.py:188: UserWarning: Expected column ('F') major order, but got the opposite. Converting data, this will result in additional memory utilization.\n",
      "  warnings.warn(\"Expected \" + order_to_str(order) + \" major order, \"\n"
     ]
    },
    {
     "data": {
      "text/plain": [
       "Pipeline(memory=None,\n",
       "         steps=[('preprocessing',\n",
       "                 Pipeline(memory=None,\n",
       "                          steps=[('leave_one_out_encoding',\n",
       "                                  LeaveOneOutEncoder(cols=['artist', 'label',\n",
       "                                                           'format_text',\n",
       "                                                           'format_name',\n",
       "                                                           'master_id', 'year',\n",
       "                                                           'country'],\n",
       "                                                     drop_invariant=False,\n",
       "                                                     handle_missing='value',\n",
       "                                                     handle_unknown='value',\n",
       "                                                     random_state=None,\n",
       "                                                     return_df=True, sigma=None,\n",
       "                                                     verbose=0)),\n",
       "                                 ('record_store_column_remove...\n",
       "                              estimator=RandomForestRegressor(n_estimators=100, max_depth=16, handle=<cuml.common.handle.Handle object at 0x7f0bcd0f41d0>, max_features='auto', n_bins=8, n_streams=8, split_algo=1, split_criterion=2, bootstrap=True, bootstrap_features=False, verbose=False, min_rows_per_node=2, rows_sample=1.0, max_leaves=-1, accuracy_metric='mse', output_type='input', min_impurity_decrease=0.0, quantile_per_tree=False, seed=None),\n",
       "                              iid='deprecated', n_jobs=-1,\n",
       "                              param_grid={'n_estimators': array([ 10,  45,  80, 115, 150])},\n",
       "                              pre_dispatch='2*n_jobs', refit=True,\n",
       "                              return_train_score=True,\n",
       "                              scoring='neg_mean_absolute_error', verbose=50))],\n",
       "         verbose=False)"
      ]
     },
     "execution_count": 54,
     "metadata": {
      "tags": []
     },
     "output_type": "execute_result"
    }
   ],
   "source": [
    "record_store_random_forest_search_pipe.fit(X_tr_sample,np.log(y_tr_sample).values.astype(np.float32))"
   ]
  },
  {
   "cell_type": "code",
   "execution_count": 55,
   "metadata": {
    "colab": {
     "base_uri": "https://localhost:8080/",
     "height": 296
    },
    "colab_type": "code",
    "id": "2awntfVd_nAJ",
    "outputId": "79f13b7b-7c92-4230-cf47-a9f3c183ab2f"
   },
   "outputs": [
    {
     "data": {
      "image/png": "[encoded data removed]",
      "text/plain": [
       "<Figure size 432x288 with 1 Axes>"
      ]
     },
     "metadata": {
      "needs_background": "light",
      "tags": []
     },
     "output_type": "display_data"
    }
   ],
   "source": [
    "record_store_random_forest_plotter = GridSearchPlotter(record_store_random_forest_search_pipe.steps[-1][1])\n",
    "record_store_random_forest_plotter.plot_validation_curve(parameter='n_estimators',ylim=(-1,0))"
   ]
  },
  {
   "cell_type": "code",
   "execution_count": 56,
   "metadata": {
    "colab": {
     "base_uri": "https://localhost:8080/",
     "height": 35
    },
    "colab_type": "code",
    "id": "kIzLmO8Bzkdr",
    "outputId": "ee637b98-6ae3-4c79-cc07-8b09d06e8a41"
   },
   "outputs": [
    {
     "data": {
      "text/plain": [
       "-0.1710609793663025"
      ]
     },
     "execution_count": 56,
     "metadata": {
      "tags": []
     },
     "output_type": "execute_result"
    }
   ],
   "source": [
    "record_store_random_forest_search_pipe.steps[-1][1].best_score_"
   ]
  },
  {
   "cell_type": "code",
   "execution_count": 57,
   "metadata": {
    "colab": {
     "base_uri": "https://localhost:8080/",
     "height": 35
    },
    "colab_type": "code",
    "id": "1Jh6GfwRzk2n",
    "outputId": "9cc70551-ce8a-4be2-ab7a-3e2602b7b713"
   },
   "outputs": [
    {
     "data": {
      "text/plain": [
       "{'n_estimators': 115}"
      ]
     },
     "execution_count": 57,
     "metadata": {
      "tags": []
     },
     "output_type": "execute_result"
    }
   ],
   "source": [
    "record_store_random_forest_search_pipe.steps[-1][1].best_params_"
   ]
  },
  {
   "cell_type": "markdown",
   "metadata": {
    "colab_type": "text",
    "id": "Xyr-Uhf2_R4c"
   },
   "source": [
    "After tuning hyperparameters using GridSearchCV and GridSearchPlotter, we obtain excellent cross-validation results using the Random Forest, with the best score obtained yielding a more than 50% reduction in the magnitude of the Mean Absolute Error we had obtained for previous models. Accordingly, we will train the algorithm on the total dataset, and then evaluate the resulting model on the test set."
   ]
  },
  {
   "cell_type": "code",
   "execution_count": 58,
   "metadata": {
    "colab": {
     "base_uri": "https://localhost:8080/",
     "height": 395
    },
    "colab_type": "code",
    "id": "7HMokfJnMYzZ",
    "outputId": "427993b2-70ba-4535-f2ac-4270c518c28a"
   },
   "outputs": [
    {
     "name": "stderr",
     "output_type": "stream",
     "text": [
      "/usr/local/lib/python3.6/site-packages/cuml/utils/input_utils.py:188: UserWarning: Expected column ('F') major order, but got the opposite. Converting data, this will result in additional memory utilization.\n",
      "  warnings.warn(\"Expected \" + order_to_str(order) + \" major order, \"\n"
     ]
    },
    {
     "data": {
      "text/plain": [
       "Pipeline(memory=None,\n",
       "         steps=[('preprocessing',\n",
       "                 Pipeline(memory=None,\n",
       "                          steps=[('leave_one_out_encoding',\n",
       "                                  LeaveOneOutEncoder(cols=['artist', 'label',\n",
       "                                                           'format_text',\n",
       "                                                           'format_name',\n",
       "                                                           'master_id', 'year',\n",
       "                                                           'country'],\n",
       "                                                     drop_invariant=False,\n",
       "                                                     handle_missing='value',\n",
       "                                                     handle_unknown='value',\n",
       "                                                     random_state=None,\n",
       "                                                     return_df=True, sigma=None,\n",
       "                                                     verbose=0)),\n",
       "                                 ('record_store_column_remove...\n",
       "                 RandomForestRegressor(n_estimators=100, max_depth=16, handle=<cuml.common.handle.Handle object at 0x7f0bcd0f41d0>, max_features='auto', n_bins=8, n_streams=8, split_algo=1, split_criterion=2, bootstrap=True, bootstrap_features=False, verbose=False, min_rows_per_node=2, rows_sample=1.0, max_leaves=-1, accuracy_metric='mse', output_type='numpy', min_impurity_decrease=0.0, quantile_per_tree=False, seed=None))],\n",
       "         verbose=False)"
      ]
     },
     "execution_count": 58,
     "metadata": {
      "tags": []
     },
     "output_type": "execute_result"
    }
   ],
   "source": [
    "record_store_random_forest_pipe.fit(X_tr,np.log(y_tr).values.astype(np.float32))"
   ]
  },
  {
   "cell_type": "code",
   "execution_count": 59,
   "metadata": {
    "colab": {
     "base_uri": "https://localhost:8080/",
     "height": 73
    },
    "colab_type": "code",
    "id": "VrdorFhMMe2P",
    "outputId": "21a584e9-a5e6-4d39-8bfe-a8c1b4451b64"
   },
   "outputs": [
    {
     "name": "stderr",
     "output_type": "stream",
     "text": [
      "/usr/local/lib/python3.6/site-packages/cuml/utils/input_utils.py:188: UserWarning: Expected row ('C') major order, but got the opposite. Converting data, this will result in additional memory utilization.\n",
      "  warnings.warn(\"Expected \" + order_to_str(order) + \" major order, \"\n"
     ]
    }
   ],
   "source": [
    "record_store_random_forest_te_pred = record_store_random_forest_pipe.predict(X_te)"
   ]
  },
  {
   "cell_type": "code",
   "execution_count": 60,
   "metadata": {
    "colab": {
     "base_uri": "https://localhost:8080/",
     "height": 35
    },
    "colab_type": "code",
    "id": "R3cCwv8t0E4R",
    "outputId": "ae2e9cca-5057-4925-c7a2-9f41586c35ff"
   },
   "outputs": [
    {
     "data": {
      "text/plain": [
       "10.634899748038789"
      ]
     },
     "execution_count": 60,
     "metadata": {
      "tags": []
     },
     "output_type": "execute_result"
    }
   ],
   "source": [
    "record_store_random_forest_mae = mean_absolute_error(y_te,np.exp(record_store_random_forest_te_pred))\n",
    "record_store_random_forest_mae"
   ]
  },
  {
   "cell_type": "markdown",
   "metadata": {
    "colab_type": "text",
    "id": "sQB6mGI3MN7g"
   },
   "source": [
    "Unfortunately, it seems that when applying the Random Forest algorithm we are not able to replicate the results we obtained in cross validation. The reason for this mismatch is unclear. Unfortunately, the very strong scores on the validation set cannot be reproduced on the test set. After having run multiple tests with different randomly selected test sets, this result continues to hold. This result also holds for when the cross validation is run over the entire training dataset, which implies that this odd mismatch is not retraceable to our choice of deciding to use a smaller sample of the training dataset for cross validation purposes.\n",
    "Putting the odd results in cross validation aside, which may be a quirk of the ``cuml`` library, it is clear from our results that the Random Forest does not perform well at all for our data. This is likely due to the fact that our data is highly unique across samples, which makes it difficult for the bagging approach of the Random Forest model to draw accurate decision-based inferences on the data.\n"
   ]
  },
  {
   "cell_type": "markdown",
   "metadata": {
    "colab_type": "text",
    "id": "gJZdJtJbk1jW"
   },
   "source": [
    "## Random Forest - Full Information\n",
    "Having tested the performance of the Random Forest in the Record Store scenario, we now turn our attention to the Full Information scenario. Despite the non-trivial delta in performance we have observed between these scenarios for previous models, due to the very poor performance of the Random Forest model in the Record Store scenario, it is unlikely that we will see a significant improvement in performance upon the introduction of the features included in the Full Information scenario."
   ]
  },
  {
   "cell_type": "code",
   "execution_count": null,
   "metadata": {
    "colab": {},
    "colab_type": "code",
    "id": "yQGDq3REk1jW"
   },
   "outputs": [],
   "source": [
    "full_information_random_forest_removal_columns = record_store_random_forest_removal_columns - full_information_columns"
   ]
  },
  {
   "cell_type": "code",
   "execution_count": null,
   "metadata": {
    "colab": {},
    "colab_type": "code",
    "id": "zuNSCmnTk1jd"
   },
   "outputs": [],
   "source": [
    "full_information_random_forest_preprocessing_pipe = Pipeline([\n",
    "    ('leave_one_out_encoding', LeaveOneOutEncoder(cols=['artist','label','format_text','format_name','master_id','year','country'])),\n",
    "    ('record_store_column_remover', ColumnRemover(full_information_random_forest_removal_columns)),\n",
    "    ('cast_to_32', FunctionTransformer(func=lambda x: x.astype(np.float32).values))\n",
    "])\n",
    "\n",
    "full_information_random_forest_search_pipe = Pipeline([\n",
    "    ('preprocessing',full_information_random_forest_preprocessing_pipe),\n",
    "    ('grid_search', GridSearchCV(\n",
    "        random_forest,\n",
    "        cv=KFold(n_splits=5,shuffle=True),\n",
    "        param_grid={\n",
    "            'n_estimators': np.linspace(10,200,5).astype(int)\n",
    "        },\n",
    "        verbose=50,\n",
    "        scoring='neg_mean_absolute_error',\n",
    "        n_jobs=-1,\n",
    "        return_train_score=True\n",
    "    ))\n",
    "])\n",
    "\n",
    "full_information_random_forest_pipe = Pipeline([\n",
    "    ('preprocessing',full_information_random_forest_preprocessing_pipe),\n",
    "    ('random_forest',random_forest)\n",
    "])"
   ]
  },
  {
   "cell_type": "code",
   "execution_count": 63,
   "metadata": {
    "colab": {
     "base_uri": "https://localhost:8080/",
     "height": 1000
    },
    "colab_type": "code",
    "id": "lOo-_NUFk1jg",
    "outputId": "03c719d8-37ef-483e-921f-0d90f3946749"
   },
   "outputs": [
    {
     "name": "stdout",
     "output_type": "stream",
     "text": [
      "Fitting 5 folds for each of 5 candidates, totalling 25 fits\n",
      "[Parallel(n_jobs=-1)]: Using backend LokyBackend with 4 concurrent workers.\n",
      "[Parallel(n_jobs=-1)]: Done   1 tasks      | elapsed:    0.7s\n",
      "[Parallel(n_jobs=-1)]: Done   2 tasks      | elapsed:    1.3s\n",
      "[Parallel(n_jobs=-1)]: Done   3 tasks      | elapsed:    4.4s\n",
      "[Parallel(n_jobs=-1)]: Done   4 tasks      | elapsed:    5.7s\n",
      "[Parallel(n_jobs=-1)]: Done   5 tasks      | elapsed:    5.8s\n",
      "[Parallel(n_jobs=-1)]: Done   6 tasks      | elapsed:    5.9s\n",
      "[Parallel(n_jobs=-1)]: Done   7 tasks      | elapsed:   10.7s\n",
      "[Parallel(n_jobs=-1)]: Done   8 tasks      | elapsed:   12.6s\n"
     ]
    },
    {
     "name": "stderr",
     "output_type": "stream",
     "text": [
      "/usr/local/lib/python3.6/dist-packages/joblib/externals/loky/process_executor.py:691: UserWarning: A worker stopped while some jobs were given to the executor. This can be caused by a too short worker timeout or by a memory leak.\n",
      "  \"timeout or by a memory leak.\", UserWarning\n"
     ]
    },
    {
     "name": "stdout",
     "output_type": "stream",
     "text": [
      "[Parallel(n_jobs=-1)]: Done   9 tasks      | elapsed:   13.1s\n",
      "[Parallel(n_jobs=-1)]: Done  10 tasks      | elapsed:   13.1s\n",
      "[Parallel(n_jobs=-1)]: Done  11 tasks      | elapsed:   16.5s\n",
      "[Parallel(n_jobs=-1)]: Done  12 tasks      | elapsed:   27.4s\n",
      "[Parallel(n_jobs=-1)]: Done  13 tasks      | elapsed:   29.8s\n",
      "[Parallel(n_jobs=-1)]: Done  14 tasks      | elapsed:   30.2s\n",
      "[Parallel(n_jobs=-1)]: Done  15 tasks      | elapsed:   30.4s\n",
      "[Parallel(n_jobs=-1)]: Done  16 tasks      | elapsed:   39.8s\n",
      "[Parallel(n_jobs=-1)]: Done  17 tasks      | elapsed:   46.7s\n",
      "[Parallel(n_jobs=-1)]: Done  18 tasks      | elapsed:   47.2s\n",
      "[Parallel(n_jobs=-1)]: Done  19 out of  25 | elapsed:   47.2s remaining:   14.9s\n",
      "[Parallel(n_jobs=-1)]: Done  20 out of  25 | elapsed:   52.5s remaining:   13.1s\n",
      "[Parallel(n_jobs=-1)]: Done  21 out of  25 | elapsed:  1.2min remaining:   14.2s\n",
      "[Parallel(n_jobs=-1)]: Done  22 out of  25 | elapsed:  1.3min remaining:   10.4s\n",
      "[Parallel(n_jobs=-1)]: Done  23 out of  25 | elapsed:  1.3min remaining:    6.7s\n",
      "[Parallel(n_jobs=-1)]: Done  25 out of  25 | elapsed:  1.4min remaining:    0.0s\n",
      "[Parallel(n_jobs=-1)]: Done  25 out of  25 | elapsed:  1.4min finished\n"
     ]
    },
    {
     "name": "stderr",
     "output_type": "stream",
     "text": [
      "/usr/local/lib/python3.6/site-packages/cuml/utils/input_utils.py:188: UserWarning: Expected column ('F') major order, but got the opposite. Converting data, this will result in additional memory utilization.\n",
      "  warnings.warn(\"Expected \" + order_to_str(order) + \" major order, \"\n"
     ]
    },
    {
     "data": {
      "text/plain": [
       "Pipeline(memory=None,\n",
       "         steps=[('preprocessing',\n",
       "                 Pipeline(memory=None,\n",
       "                          steps=[('leave_one_out_encoding',\n",
       "                                  LeaveOneOutEncoder(cols=['artist', 'label',\n",
       "                                                           'format_text',\n",
       "                                                           'format_name',\n",
       "                                                           'master_id', 'year',\n",
       "                                                           'country'],\n",
       "                                                     drop_invariant=False,\n",
       "                                                     handle_missing='value',\n",
       "                                                     handle_unknown='value',\n",
       "                                                     random_state=None,\n",
       "                                                     return_df=True, sigma=None,\n",
       "                                                     verbose=0)),\n",
       "                                 ('record_store_column_remove...\n",
       "                              estimator=RandomForestRegressor(n_estimators=100, max_depth=16, handle=<cuml.common.handle.Handle object at 0x7f0bcd0f41d0>, max_features='auto', n_bins=8, n_streams=8, split_algo=1, split_criterion=2, bootstrap=True, bootstrap_features=False, verbose=False, min_rows_per_node=2, rows_sample=1.0, max_leaves=-1, accuracy_metric='mse', output_type='numpy', min_impurity_decrease=0.0, quantile_per_tree=False, seed=None),\n",
       "                              iid='deprecated', n_jobs=-1,\n",
       "                              param_grid={'n_estimators': array([ 10,  57, 105, 152, 200])},\n",
       "                              pre_dispatch='2*n_jobs', refit=True,\n",
       "                              return_train_score=True,\n",
       "                              scoring='neg_mean_absolute_error', verbose=50))],\n",
       "         verbose=False)"
      ]
     },
     "execution_count": 63,
     "metadata": {
      "tags": []
     },
     "output_type": "execute_result"
    }
   ],
   "source": [
    "full_information_random_forest_search_pipe.fit(X_tr_sample,np.log(y_tr_sample).values.astype(np.float32))"
   ]
  },
  {
   "cell_type": "code",
   "execution_count": 64,
   "metadata": {
    "colab": {
     "base_uri": "https://localhost:8080/",
     "height": 296
    },
    "colab_type": "code",
    "id": "rCux94qKk1ji",
    "outputId": "94fd99cb-b989-495b-ad50-323e82149925"
   },
   "outputs": [
    {
     "data": {
      "image/png": "[encoded data removed]",
      "text/plain": [
       "<Figure size 432x288 with 1 Axes>"
      ]
     },
     "metadata": {
      "needs_background": "light",
      "tags": []
     },
     "output_type": "display_data"
    }
   ],
   "source": [
    "full_information_random_forest_plotter = GridSearchPlotter(full_information_random_forest_search_pipe.steps[-1][1])\n",
    "full_information_random_forest_plotter.plot_validation_curve(parameter='n_estimators',ylim=(-1,0))"
   ]
  },
  {
   "cell_type": "code",
   "execution_count": 65,
   "metadata": {
    "colab": {
     "base_uri": "https://localhost:8080/",
     "height": 35
    },
    "colab_type": "code",
    "id": "jaoOYSogk1jk",
    "outputId": "fa15ffaa-4c5b-48f7-f044-62f4e104c9de"
   },
   "outputs": [
    {
     "data": {
      "text/plain": [
       "-0.16600749790668487"
      ]
     },
     "execution_count": 65,
     "metadata": {
      "tags": []
     },
     "output_type": "execute_result"
    }
   ],
   "source": [
    "full_information_random_forest_search_pipe.steps[-1][1].best_score_"
   ]
  },
  {
   "cell_type": "code",
   "execution_count": 66,
   "metadata": {
    "colab": {
     "base_uri": "https://localhost:8080/",
     "height": 35
    },
    "colab_type": "code",
    "id": "SLNosErgk1jn",
    "outputId": "4facabab-4dbe-428f-fd2a-c315f89c78b8"
   },
   "outputs": [
    {
     "data": {
      "text/plain": [
       "{'n_estimators': 200}"
      ]
     },
     "execution_count": 66,
     "metadata": {
      "tags": []
     },
     "output_type": "execute_result"
    }
   ],
   "source": [
    "full_information_random_forest_search_pipe.steps[-1][1].best_params_"
   ]
  },
  {
   "cell_type": "code",
   "execution_count": 67,
   "metadata": {
    "colab": {
     "base_uri": "https://localhost:8080/",
     "height": 395
    },
    "colab_type": "code",
    "id": "VvtlG6n3k1jq",
    "outputId": "bf9870c8-8548-48c6-b83b-af59bd164df1"
   },
   "outputs": [
    {
     "name": "stderr",
     "output_type": "stream",
     "text": [
      "/usr/local/lib/python3.6/site-packages/cuml/utils/input_utils.py:188: UserWarning: Expected column ('F') major order, but got the opposite. Converting data, this will result in additional memory utilization.\n",
      "  warnings.warn(\"Expected \" + order_to_str(order) + \" major order, \"\n"
     ]
    },
    {
     "data": {
      "text/plain": [
       "Pipeline(memory=None,\n",
       "         steps=[('preprocessing',\n",
       "                 Pipeline(memory=None,\n",
       "                          steps=[('leave_one_out_encoding',\n",
       "                                  LeaveOneOutEncoder(cols=['artist', 'label',\n",
       "                                                           'format_text',\n",
       "                                                           'format_name',\n",
       "                                                           'master_id', 'year',\n",
       "                                                           'country'],\n",
       "                                                     drop_invariant=False,\n",
       "                                                     handle_missing='value',\n",
       "                                                     handle_unknown='value',\n",
       "                                                     random_state=None,\n",
       "                                                     return_df=True, sigma=None,\n",
       "                                                     verbose=0)),\n",
       "                                 ('record_store_column_remove...\n",
       "                 RandomForestRegressor(n_estimators=100, max_depth=16, handle=<cuml.common.handle.Handle object at 0x7f0bcd0f41d0>, max_features='auto', n_bins=8, n_streams=8, split_algo=1, split_criterion=2, bootstrap=True, bootstrap_features=False, verbose=False, min_rows_per_node=2, rows_sample=1.0, max_leaves=-1, accuracy_metric='mse', output_type='numpy', min_impurity_decrease=0.0, quantile_per_tree=False, seed=None))],\n",
       "         verbose=False)"
      ]
     },
     "execution_count": 67,
     "metadata": {
      "tags": []
     },
     "output_type": "execute_result"
    }
   ],
   "source": [
    "full_information_random_forest_pipe.fit(X_tr,np.log(y_tr).values.astype(np.float32))"
   ]
  },
  {
   "cell_type": "code",
   "execution_count": 68,
   "metadata": {
    "colab": {
     "base_uri": "https://localhost:8080/",
     "height": 73
    },
    "colab_type": "code",
    "id": "k7iHVjV-k1jt",
    "outputId": "a9438630-c1dd-4111-cc13-cf7fd21f2e00"
   },
   "outputs": [
    {
     "name": "stderr",
     "output_type": "stream",
     "text": [
      "/usr/local/lib/python3.6/site-packages/cuml/utils/input_utils.py:188: UserWarning: Expected row ('C') major order, but got the opposite. Converting data, this will result in additional memory utilization.\n",
      "  warnings.warn(\"Expected \" + order_to_str(order) + \" major order, \"\n"
     ]
    }
   ],
   "source": [
    "full_information_random_forest_te_pred = full_information_random_forest_pipe.predict(X_te)"
   ]
  },
  {
   "cell_type": "code",
   "execution_count": 69,
   "metadata": {
    "colab": {
     "base_uri": "https://localhost:8080/",
     "height": 35
    },
    "colab_type": "code",
    "id": "ZQQ8J--Yk1jy",
    "outputId": "cf289f06-c000-4afc-88ce-88a0d277c17c"
   },
   "outputs": [
    {
     "data": {
      "text/plain": [
       "10.617872102505165"
      ]
     },
     "execution_count": 69,
     "metadata": {
      "tags": []
     },
     "output_type": "execute_result"
    }
   ],
   "source": [
    "full_information_random_forest_mae = mean_absolute_error(y_te,np.exp(full_information_random_forest_te_pred))\n",
    "full_information_random_forest_mae"
   ]
  },
  {
   "cell_type": "code",
   "execution_count": 70,
   "metadata": {
    "colab": {
     "base_uri": "https://localhost:8080/",
     "height": 53
    },
    "colab_type": "code",
    "id": "FK8dtFbt-Uv4",
    "outputId": "8ea4b661-ff6d-4181-f5a7-ee9aa5ceabcb"
   },
   "outputs": [
    {
     "name": "stdout",
     "output_type": "stream",
     "text": [
      "Random Forest (FI) performance wrt Random Forest (RS) is: \n",
      "MAE: -0.017\n"
     ]
    }
   ],
   "source": [
    "print_results('Random Forest (FI)',full_information_random_forest_mae,'Random Forest (RS)',record_store_random_forest_mae)"
   ]
  },
  {
   "cell_type": "markdown",
   "metadata": {
    "colab_type": "text",
    "id": "RPKU3I5sXRM2"
   },
   "source": [
    "As we can see from the above, we see very similar results in the Full Information scenario as in the Record Store scenario, with an even slight degradation in performance in the Full Information case for the MAE metric. Unlike the results for the linear models we considered, we do not observe that including the Full Information features has any positive impact on the prediction of ``market_value``, although it must be noted that this model does not perform at all well in general, and as was mentioned prior to training, an improvement was not expected."
   ]
  },
  {
   "cell_type": "markdown",
   "metadata": {
    "colab_type": "text",
    "id": "wcM8J6K68asg"
   },
   "source": [
    "## CatBoost\n",
    "For our final attempt at predicting ``market_value`` for Jazz albums, we turn to the CatBoost algorithm. It has been developed fairly recently by Yandex Research, and has shown immense promise, as can be gathered from the following blog post: https://towardsdatascience.com/catboost-vs-light-gbm-vs-xgboost-5f93620723db.\n",
    "CatBoost is ideally suited for datasets which have high incidence of categorical features, making it a good fit in theory for our use case. \n",
    "## CatBoost - Record Store\n",
    "As for previous algorithms, we begin our evaluation of CatBoost by training the model using the features relevant to the Record Store scenario. For our preprocessing, we simply need to remove the columns that are not relevant for the Record Store scenario. The implementation of the CatBoost algorithm we use here allows us to specify categorical features which are then appropriately encoded by the algorithm. It has been noted that this is a highly important parameter to improve the performance of the algorithm, and as such, we include all features that are categorical in nature, even the ``country`` feature, which we have previously applied dummy encoding for in previous tests of algorithms."
   ]
  },
  {
   "cell_type": "code",
   "execution_count": null,
   "metadata": {
    "colab": {},
    "colab_type": "code",
    "id": "OjIxG4pI8asl"
   },
   "outputs": [],
   "source": [
    "record_store_catboost_removal_columns = set([\n",
    "    'market_price','units_for_sale','have','want','average_rating','rating_count','last_sold','lowest','median',\n",
    "    'highest','track_titles','genre','style','community_have','community_want','formats','thumb_url',\n",
    "    'release_url','format_description','title','release_id'\n",
    "])\n",
    "record_store_catboost_removal_columns = record_store_catboost_removal_columns.union(column_store._geography_country,column_store._format_name)"
   ]
  },
  {
   "cell_type": "code",
   "execution_count": null,
   "metadata": {
    "colab": {},
    "colab_type": "code",
    "id": "VCaEIJW18asr"
   },
   "outputs": [],
   "source": [
    "record_store_catboost_processing_pipe = Pipeline([\n",
    "    ('record_store_column_remover', ColumnRemover(record_store_catboost_removal_columns)),\n",
    "])\n",
    "\n",
    "catboost = CatBoostRegressor(\n",
    "    random_seed=0,\n",
    "    cat_features=['year','format_text','master_id','format_name','artist','label','country'],\n",
    "    boosting_type='Ordered',\n",
    "    n_estimators=100,\n",
    "    learning_rate=0.1,\n",
    "    l2_leaf_reg=3,\n",
    "    border_count=170,\n",
    "    max_depth=10,\n",
    ")\n",
    "\n",
    "record_store_catboost_grid_pipe = Pipeline([\n",
    "    ('processing', record_store_catboost_processing_pipe),\n",
    "    ('grid_search', GridSearchCV(\n",
    "        catboost,\n",
    "        param_grid={\n",
    "            #'learning_rate': np.logspace(-3,1,5),\n",
    "            #'border_count': np.linspace(1,200,5),\n",
    "            'l2_leaf_reg': [1,3,5,8],\n",
    "        },\n",
    "        n_jobs=-1,\n",
    "        cv=KFold(n_splits=5,shuffle=True),\n",
    "        verbose=1,\n",
    "        scoring='neg_mean_absolute_error',\n",
    "        return_train_score=True)\n",
    "    )\n",
    "])\n",
    "\n",
    "record_store_catboost_pipe = Pipeline([\n",
    "    ('processing', record_store_catboost_processing_pipe),\n",
    "    ('catboost',catboost)\n",
    "])"
   ]
  },
  {
   "cell_type": "code",
   "execution_count": 73,
   "metadata": {
    "colab": {
     "base_uri": "https://localhost:8080/",
     "height": 1000
    },
    "colab_type": "code",
    "id": "MQW9Ojz08asu",
    "outputId": "fbd3506c-c06d-4a6d-ac53-46f72e7094b6"
   },
   "outputs": [
    {
     "name": "stdout",
     "output_type": "stream",
     "text": [
      "Fitting 5 folds for each of 4 candidates, totalling 20 fits\n"
     ]
    },
    {
     "name": "stderr",
     "output_type": "stream",
     "text": [
      "[Parallel(n_jobs=-1)]: Using backend LokyBackend with 4 concurrent workers.\n",
      "/usr/local/lib/python3.6/dist-packages/joblib/externals/loky/process_executor.py:691: UserWarning: A worker stopped while some jobs were given to the executor. This can be caused by a too short worker timeout or by a memory leak.\n",
      "  \"timeout or by a memory leak.\", UserWarning\n",
      "[Parallel(n_jobs=-1)]: Done  20 out of  20 | elapsed:  1.9min finished\n"
     ]
    },
    {
     "name": "stdout",
     "output_type": "stream",
     "text": [
      "0:\tlearn: 0.8535971\ttotal: 217ms\tremaining: 21.5s\n",
      "1:\tlearn: 0.8361423\ttotal: 347ms\tremaining: 17s\n",
      "2:\tlearn: 0.8214247\ttotal: 476ms\tremaining: 15.4s\n",
      "3:\tlearn: 0.8089460\ttotal: 608ms\tremaining: 14.6s\n",
      "4:\tlearn: 0.7981460\ttotal: 736ms\tremaining: 14s\n",
      "5:\tlearn: 0.7882747\ttotal: 869ms\tremaining: 13.6s\n",
      "6:\tlearn: 0.7792782\ttotal: 998ms\tremaining: 13.3s\n",
      "7:\tlearn: 0.7731773\ttotal: 1.13s\tremaining: 13s\n",
      "8:\tlearn: 0.7648795\ttotal: 1.26s\tremaining: 12.8s\n",
      "9:\tlearn: 0.7582406\ttotal: 1.39s\tremaining: 12.5s\n",
      "10:\tlearn: 0.7522104\ttotal: 1.52s\tremaining: 12.3s\n",
      "11:\tlearn: 0.7470618\ttotal: 1.66s\tremaining: 12.1s\n",
      "12:\tlearn: 0.7425045\ttotal: 1.79s\tremaining: 12s\n",
      "13:\tlearn: 0.7389164\ttotal: 1.92s\tremaining: 11.8s\n",
      "14:\tlearn: 0.7358380\ttotal: 2.06s\tremaining: 11.6s\n",
      "15:\tlearn: 0.7329781\ttotal: 2.19s\tremaining: 11.5s\n",
      "16:\tlearn: 0.7302168\ttotal: 2.25s\tremaining: 11s\n",
      "17:\tlearn: 0.7261471\ttotal: 2.39s\tremaining: 10.9s\n",
      "18:\tlearn: 0.7233391\ttotal: 2.45s\tremaining: 10.4s\n",
      "19:\tlearn: 0.7205610\ttotal: 2.58s\tremaining: 10.3s\n",
      "20:\tlearn: 0.7185265\ttotal: 2.71s\tremaining: 10.2s\n",
      "21:\tlearn: 0.7166051\ttotal: 2.78s\tremaining: 9.86s\n",
      "22:\tlearn: 0.7154792\ttotal: 2.79s\tremaining: 9.35s\n",
      "23:\tlearn: 0.7142814\ttotal: 2.81s\tremaining: 8.88s\n",
      "24:\tlearn: 0.7124667\ttotal: 2.94s\tremaining: 8.81s\n",
      "25:\tlearn: 0.7113370\ttotal: 3s\tremaining: 8.55s\n",
      "26:\tlearn: 0.7107412\ttotal: 3.01s\tremaining: 8.14s\n",
      "27:\tlearn: 0.7089202\ttotal: 3.14s\tremaining: 8.08s\n",
      "28:\tlearn: 0.7082221\ttotal: 3.21s\tremaining: 7.86s\n",
      "29:\tlearn: 0.7075677\ttotal: 3.22s\tremaining: 7.52s\n",
      "30:\tlearn: 0.7062509\ttotal: 3.35s\tremaining: 7.46s\n",
      "31:\tlearn: 0.7053023\ttotal: 3.48s\tremaining: 7.39s\n",
      "32:\tlearn: 0.7043860\ttotal: 3.61s\tremaining: 7.33s\n",
      "33:\tlearn: 0.7039661\ttotal: 3.63s\tremaining: 7.04s\n",
      "34:\tlearn: 0.7038874\ttotal: 3.63s\tremaining: 6.75s\n",
      "35:\tlearn: 0.7020552\ttotal: 3.76s\tremaining: 6.69s\n",
      "36:\tlearn: 0.7009714\ttotal: 3.89s\tremaining: 6.63s\n",
      "37:\tlearn: 0.7008438\ttotal: 3.9s\tremaining: 6.36s\n",
      "38:\tlearn: 0.7004955\ttotal: 3.91s\tremaining: 6.11s\n",
      "39:\tlearn: 0.6996068\ttotal: 4.04s\tremaining: 6.06s\n",
      "40:\tlearn: 0.6986243\ttotal: 4.17s\tremaining: 6s\n",
      "41:\tlearn: 0.6971169\ttotal: 4.3s\tremaining: 5.94s\n",
      "42:\tlearn: 0.6970335\ttotal: 4.31s\tremaining: 5.71s\n",
      "43:\tlearn: 0.6956769\ttotal: 4.44s\tremaining: 5.65s\n",
      "44:\tlearn: 0.6952675\ttotal: 4.57s\tremaining: 5.58s\n",
      "45:\tlearn: 0.6947575\ttotal: 4.7s\tremaining: 5.51s\n",
      "46:\tlearn: 0.6938790\ttotal: 4.83s\tremaining: 5.44s\n",
      "47:\tlearn: 0.6935370\ttotal: 4.85s\tremaining: 5.25s\n",
      "48:\tlearn: 0.6935167\ttotal: 4.85s\tremaining: 5.05s\n",
      "49:\tlearn: 0.6931984\ttotal: 4.86s\tremaining: 4.86s\n",
      "50:\tlearn: 0.6931461\ttotal: 4.87s\tremaining: 4.68s\n",
      "51:\tlearn: 0.6929976\ttotal: 4.87s\tremaining: 4.5s\n",
      "52:\tlearn: 0.6924924\ttotal: 5.01s\tremaining: 4.44s\n",
      "53:\tlearn: 0.6924821\ttotal: 5.01s\tremaining: 4.27s\n",
      "54:\tlearn: 0.6922571\ttotal: 5.02s\tremaining: 4.11s\n",
      "55:\tlearn: 0.6921640\ttotal: 5.03s\tremaining: 3.95s\n",
      "56:\tlearn: 0.6921152\ttotal: 5.04s\tremaining: 3.8s\n",
      "57:\tlearn: 0.6915332\ttotal: 5.17s\tremaining: 3.74s\n",
      "58:\tlearn: 0.6915091\ttotal: 5.17s\tremaining: 3.59s\n",
      "59:\tlearn: 0.6914854\ttotal: 5.18s\tremaining: 3.45s\n",
      "60:\tlearn: 0.6906183\ttotal: 5.25s\tremaining: 3.35s\n",
      "61:\tlearn: 0.6906183\ttotal: 5.25s\tremaining: 3.22s\n",
      "62:\tlearn: 0.6906041\ttotal: 5.25s\tremaining: 3.08s\n",
      "63:\tlearn: 0.6905324\ttotal: 5.27s\tremaining: 2.96s\n",
      "64:\tlearn: 0.6903733\ttotal: 5.31s\tremaining: 2.86s\n",
      "65:\tlearn: 0.6903064\ttotal: 5.31s\tremaining: 2.74s\n",
      "66:\tlearn: 0.6897941\ttotal: 5.44s\tremaining: 2.68s\n",
      "67:\tlearn: 0.6894653\ttotal: 5.57s\tremaining: 2.62s\n",
      "68:\tlearn: 0.6886687\ttotal: 5.61s\tremaining: 2.52s\n",
      "69:\tlearn: 0.6886622\ttotal: 5.61s\tremaining: 2.4s\n",
      "70:\tlearn: 0.6886009\ttotal: 5.62s\tremaining: 2.29s\n",
      "71:\tlearn: 0.6885181\ttotal: 5.62s\tremaining: 2.19s\n",
      "72:\tlearn: 0.6885107\ttotal: 5.63s\tremaining: 2.08s\n",
      "73:\tlearn: 0.6885054\ttotal: 5.63s\tremaining: 1.98s\n",
      "74:\tlearn: 0.6884875\ttotal: 5.63s\tremaining: 1.88s\n",
      "75:\tlearn: 0.6882893\ttotal: 5.64s\tremaining: 1.78s\n",
      "76:\tlearn: 0.6882893\ttotal: 5.64s\tremaining: 1.69s\n",
      "77:\tlearn: 0.6882235\ttotal: 5.66s\tremaining: 1.6s\n",
      "78:\tlearn: 0.6882235\ttotal: 5.66s\tremaining: 1.5s\n",
      "79:\tlearn: 0.6877723\ttotal: 5.68s\tremaining: 1.42s\n",
      "80:\tlearn: 0.6869722\ttotal: 5.81s\tremaining: 1.36s\n",
      "81:\tlearn: 0.6859183\ttotal: 5.94s\tremaining: 1.3s\n",
      "82:\tlearn: 0.6859182\ttotal: 5.94s\tremaining: 1.22s\n",
      "83:\tlearn: 0.6855773\ttotal: 6.07s\tremaining: 1.16s\n",
      "84:\tlearn: 0.6846926\ttotal: 6.2s\tremaining: 1.09s\n",
      "85:\tlearn: 0.6846645\ttotal: 6.23s\tremaining: 1.01s\n",
      "86:\tlearn: 0.6845358\ttotal: 6.23s\tremaining: 931ms\n",
      "87:\tlearn: 0.6844707\ttotal: 6.24s\tremaining: 851ms\n",
      "88:\tlearn: 0.6843696\ttotal: 6.25s\tremaining: 772ms\n",
      "89:\tlearn: 0.6838263\ttotal: 6.38s\tremaining: 709ms\n",
      "90:\tlearn: 0.6836059\ttotal: 6.44s\tremaining: 637ms\n",
      "91:\tlearn: 0.6833607\ttotal: 6.57s\tremaining: 572ms\n",
      "92:\tlearn: 0.6827908\ttotal: 6.64s\tremaining: 500ms\n",
      "93:\tlearn: 0.6822365\ttotal: 6.66s\tremaining: 425ms\n",
      "94:\tlearn: 0.6822354\ttotal: 6.67s\tremaining: 351ms\n",
      "95:\tlearn: 0.6820898\ttotal: 6.67s\tremaining: 278ms\n",
      "96:\tlearn: 0.6813700\ttotal: 6.8s\tremaining: 210ms\n",
      "97:\tlearn: 0.6813457\ttotal: 6.82s\tremaining: 139ms\n",
      "98:\tlearn: 0.6811610\ttotal: 6.94s\tremaining: 70.2ms\n",
      "99:\tlearn: 0.6805336\ttotal: 7.08s\tremaining: 0us\n"
     ]
    },
    {
     "data": {
      "text/plain": [
       "Pipeline(memory=None,\n",
       "         steps=[('processing',\n",
       "                 Pipeline(memory=None,\n",
       "                          steps=[('record_store_column_remover',\n",
       "                                  ColumnRemover(remove_columns={'average_rating',\n",
       "                                                                'community_have',\n",
       "                                                                'community_want',\n",
       "                                                                'country_albania',\n",
       "                                                                'country_algeria',\n",
       "                                                                'country_andorra',\n",
       "                                                                'country_angola',\n",
       "                                                                'country_argentina',\n",
       "                                                                'country_armenia',\n",
       "                                                                'country_aruba',\n",
       "                                                                'country_australia',\n",
       "                                                                'country_austria',\n",
       "                                                                'coun...\n",
       "                          verbose=False)),\n",
       "                ('grid_search',\n",
       "                 GridSearchCV(cv=KFold(n_splits=5, random_state=None, shuffle=True),\n",
       "                              error_score=nan,\n",
       "                              estimator=<catboost.core.CatBoostRegressor object at 0x7f0bad01f9b0>,\n",
       "                              iid='deprecated', n_jobs=-1,\n",
       "                              param_grid={'l2_leaf_reg': [1, 3, 5, 8]},\n",
       "                              pre_dispatch='2*n_jobs', refit=True,\n",
       "                              return_train_score=True,\n",
       "                              scoring='neg_mean_absolute_error', verbose=1))],\n",
       "         verbose=False)"
      ]
     },
     "execution_count": 73,
     "metadata": {
      "tags": []
     },
     "output_type": "execute_result"
    }
   ],
   "source": [
    "record_store_catboost_grid_pipe.fit(X_tr_sample,np.log(y_tr_sample))"
   ]
  },
  {
   "cell_type": "code",
   "execution_count": 74,
   "metadata": {
    "colab": {
     "base_uri": "https://localhost:8080/",
     "height": 296
    },
    "colab_type": "code",
    "id": "9MWNatKvNkWQ",
    "outputId": "afd293fe-720c-4190-ba00-4d3feeaf96e8"
   },
   "outputs": [
    {
     "data": {
      "image/png": "[encoded data removed]",
      "text/plain": [
       "<Figure size 432x288 with 1 Axes>"
      ]
     },
     "metadata": {
      "needs_background": "light",
      "tags": []
     },
     "output_type": "display_data"
    }
   ],
   "source": [
    "record_store_catboost_plot = GridSearchPlotter(record_store_catboost_grid_pipe.steps[-1][1])\n",
    "record_store_catboost_plot.plot_validation_curve(parameter='l2_leaf_reg',ylim=(-2,1))"
   ]
  },
  {
   "cell_type": "code",
   "execution_count": 75,
   "metadata": {
    "colab": {
     "base_uri": "https://localhost:8080/",
     "height": 35
    },
    "colab_type": "code",
    "id": "D82wspKV8XCK",
    "outputId": "0861cb10-7939-4288-a252-7adf91e39289"
   },
   "outputs": [
    {
     "data": {
      "text/plain": [
       "-0.5258783340691499"
      ]
     },
     "execution_count": 75,
     "metadata": {
      "tags": []
     },
     "output_type": "execute_result"
    }
   ],
   "source": [
    "record_store_catboost_grid_pipe.steps[-1][1].best_score_"
   ]
  },
  {
   "cell_type": "code",
   "execution_count": 76,
   "metadata": {
    "colab": {
     "base_uri": "https://localhost:8080/",
     "height": 35
    },
    "colab_type": "code",
    "id": "iJHB_2xe8ZN_",
    "outputId": "4c742115-a1dd-4975-92fe-2f8f27a41316"
   },
   "outputs": [
    {
     "data": {
      "text/plain": [
       "{'l2_leaf_reg': 3}"
      ]
     },
     "execution_count": 76,
     "metadata": {
      "tags": []
     },
     "output_type": "execute_result"
    }
   ],
   "source": [
    "record_store_catboost_grid_pipe.steps[-1][1].best_params_"
   ]
  },
  {
   "cell_type": "markdown",
   "metadata": {
    "colab_type": "text",
    "id": "Xa83fKbBe_Nb"
   },
   "source": [
    "After searching over the hyperparameter space, we obtain cross validation results that end up looking fairly similar to those that we obtained from the Linear and Ridge regressions. This indicates that there seems to be a clear upper limit in the performance of our algorithms on our data, and that even this state of the art algorithm may not significantly improve on the performance of our previous results. "
   ]
  },
  {
   "cell_type": "code",
   "execution_count": 77,
   "metadata": {
    "colab": {
     "base_uri": "https://localhost:8080/",
     "height": 1000
    },
    "colab_type": "code",
    "id": "dU_pJkadk1kC",
    "outputId": "8e959b2b-b0d1-48b9-85fb-f34dc6cbfd21"
   },
   "outputs": [
    {
     "name": "stdout",
     "output_type": "stream",
     "text": [
      "0:\tlearn: 0.8448014\ttotal: 327ms\tremaining: 32.3s\n",
      "1:\tlearn: 0.8242734\ttotal: 605ms\tremaining: 29.6s\n",
      "2:\tlearn: 0.8078409\ttotal: 872ms\tremaining: 28.2s\n",
      "3:\tlearn: 0.7894780\ttotal: 1.14s\tremaining: 27.4s\n",
      "4:\tlearn: 0.7748192\ttotal: 1.33s\tremaining: 25.2s\n",
      "5:\tlearn: 0.7618477\ttotal: 1.6s\tremaining: 25s\n",
      "6:\tlearn: 0.7515483\ttotal: 1.86s\tremaining: 24.7s\n",
      "7:\tlearn: 0.7425225\ttotal: 2.13s\tremaining: 24.5s\n",
      "8:\tlearn: 0.7343495\ttotal: 2.41s\tremaining: 24.3s\n",
      "9:\tlearn: 0.7274379\ttotal: 2.67s\tremaining: 24.1s\n",
      "10:\tlearn: 0.7208288\ttotal: 2.94s\tremaining: 23.8s\n",
      "11:\tlearn: 0.7158437\ttotal: 3.21s\tremaining: 23.6s\n",
      "12:\tlearn: 0.7080936\ttotal: 3.48s\tremaining: 23.3s\n",
      "13:\tlearn: 0.7013542\ttotal: 3.77s\tremaining: 23.1s\n",
      "14:\tlearn: 0.6955660\ttotal: 4.03s\tremaining: 22.9s\n",
      "15:\tlearn: 0.6908069\ttotal: 4.31s\tremaining: 22.6s\n",
      "16:\tlearn: 0.6866112\ttotal: 4.58s\tremaining: 22.4s\n",
      "17:\tlearn: 0.6829455\ttotal: 4.84s\tremaining: 22.1s\n",
      "18:\tlearn: 0.6798355\ttotal: 5.11s\tremaining: 21.8s\n",
      "19:\tlearn: 0.6770859\ttotal: 5.39s\tremaining: 21.5s\n",
      "20:\tlearn: 0.6751650\ttotal: 5.65s\tremaining: 21.3s\n",
      "21:\tlearn: 0.6735028\ttotal: 5.92s\tremaining: 21s\n",
      "22:\tlearn: 0.6717194\ttotal: 6.19s\tremaining: 20.7s\n",
      "23:\tlearn: 0.6703693\ttotal: 6.46s\tremaining: 20.4s\n",
      "24:\tlearn: 0.6687357\ttotal: 6.72s\tremaining: 20.2s\n",
      "25:\tlearn: 0.6675477\ttotal: 6.98s\tremaining: 19.9s\n",
      "26:\tlearn: 0.6665960\ttotal: 7.25s\tremaining: 19.6s\n",
      "27:\tlearn: 0.6657330\ttotal: 7.52s\tremaining: 19.3s\n",
      "28:\tlearn: 0.6641777\ttotal: 7.78s\tremaining: 19.1s\n",
      "29:\tlearn: 0.6628009\ttotal: 8.05s\tremaining: 18.8s\n",
      "30:\tlearn: 0.6620512\ttotal: 8.32s\tremaining: 18.5s\n",
      "31:\tlearn: 0.6612026\ttotal: 8.63s\tremaining: 18.3s\n",
      "32:\tlearn: 0.6601080\ttotal: 8.9s\tremaining: 18.1s\n",
      "33:\tlearn: 0.6593106\ttotal: 9.17s\tremaining: 17.8s\n",
      "34:\tlearn: 0.6589388\ttotal: 9.45s\tremaining: 17.5s\n",
      "35:\tlearn: 0.6585516\ttotal: 9.71s\tremaining: 17.3s\n",
      "36:\tlearn: 0.6581099\ttotal: 9.97s\tremaining: 17s\n",
      "37:\tlearn: 0.6575841\ttotal: 10.2s\tremaining: 16.7s\n",
      "38:\tlearn: 0.6573882\ttotal: 10.4s\tremaining: 16.2s\n",
      "39:\tlearn: 0.6569521\ttotal: 10.6s\tremaining: 16s\n",
      "40:\tlearn: 0.6562932\ttotal: 10.9s\tremaining: 15.7s\n",
      "41:\tlearn: 0.6560111\ttotal: 11.2s\tremaining: 15.5s\n",
      "42:\tlearn: 0.6558981\ttotal: 11.3s\tremaining: 15s\n",
      "43:\tlearn: 0.6552087\ttotal: 11.6s\tremaining: 14.7s\n",
      "44:\tlearn: 0.6549091\ttotal: 11.8s\tremaining: 14.5s\n",
      "45:\tlearn: 0.6545642\ttotal: 12.1s\tremaining: 14.2s\n",
      "46:\tlearn: 0.6545642\ttotal: 12.1s\tremaining: 13.7s\n",
      "47:\tlearn: 0.6543276\ttotal: 12.4s\tremaining: 13.4s\n",
      "48:\tlearn: 0.6539808\ttotal: 12.6s\tremaining: 13.1s\n",
      "49:\tlearn: 0.6537746\ttotal: 12.8s\tremaining: 12.8s\n",
      "50:\tlearn: 0.6533694\ttotal: 13.1s\tremaining: 12.6s\n",
      "51:\tlearn: 0.6533569\ttotal: 13.2s\tremaining: 12.1s\n",
      "52:\tlearn: 0.6533456\ttotal: 13.2s\tremaining: 11.7s\n",
      "53:\tlearn: 0.6533456\ttotal: 13.2s\tremaining: 11.3s\n",
      "54:\tlearn: 0.6531872\ttotal: 13.5s\tremaining: 11s\n",
      "55:\tlearn: 0.6531872\ttotal: 13.5s\tremaining: 10.6s\n",
      "56:\tlearn: 0.6530944\ttotal: 13.8s\tremaining: 10.4s\n",
      "57:\tlearn: 0.6526348\ttotal: 14s\tremaining: 10.2s\n",
      "58:\tlearn: 0.6517833\ttotal: 14.3s\tremaining: 9.95s\n",
      "59:\tlearn: 0.6517833\ttotal: 14.3s\tremaining: 9.55s\n",
      "60:\tlearn: 0.6517771\ttotal: 14.4s\tremaining: 9.18s\n",
      "61:\tlearn: 0.6516434\ttotal: 14.6s\tremaining: 8.97s\n",
      "62:\tlearn: 0.6516393\ttotal: 14.7s\tremaining: 8.62s\n",
      "63:\tlearn: 0.6516036\ttotal: 14.9s\tremaining: 8.4s\n",
      "64:\tlearn: 0.6515929\ttotal: 15s\tremaining: 8.07s\n",
      "65:\tlearn: 0.6515794\ttotal: 15.1s\tremaining: 7.76s\n",
      "66:\tlearn: 0.6514121\ttotal: 15.3s\tremaining: 7.56s\n",
      "67:\tlearn: 0.6514098\ttotal: 15.4s\tremaining: 7.24s\n",
      "68:\tlearn: 0.6514059\ttotal: 15.4s\tremaining: 6.93s\n",
      "69:\tlearn: 0.6514009\ttotal: 15.5s\tremaining: 6.65s\n",
      "70:\tlearn: 0.6514003\ttotal: 15.5s\tremaining: 6.35s\n",
      "71:\tlearn: 0.6514003\ttotal: 15.6s\tremaining: 6.05s\n",
      "72:\tlearn: 0.6514003\ttotal: 15.6s\tremaining: 5.76s\n",
      "73:\tlearn: 0.6513951\ttotal: 15.7s\tremaining: 5.52s\n",
      "74:\tlearn: 0.6507522\ttotal: 16s\tremaining: 5.33s\n",
      "75:\tlearn: 0.6507522\ttotal: 16s\tremaining: 5.05s\n",
      "76:\tlearn: 0.6507522\ttotal: 16s\tremaining: 4.79s\n",
      "77:\tlearn: 0.6507522\ttotal: 16.1s\tremaining: 4.53s\n",
      "78:\tlearn: 0.6507522\ttotal: 16.1s\tremaining: 4.28s\n",
      "79:\tlearn: 0.6507521\ttotal: 16.1s\tremaining: 4.03s\n",
      "80:\tlearn: 0.6506757\ttotal: 16.4s\tremaining: 3.85s\n",
      "81:\tlearn: 0.6506709\ttotal: 16.4s\tremaining: 3.61s\n",
      "82:\tlearn: 0.6502327\ttotal: 16.7s\tremaining: 3.42s\n",
      "83:\tlearn: 0.6502257\ttotal: 16.8s\tremaining: 3.2s\n",
      "84:\tlearn: 0.6502250\ttotal: 16.9s\tremaining: 2.98s\n",
      "85:\tlearn: 0.6502247\ttotal: 16.9s\tremaining: 2.75s\n",
      "86:\tlearn: 0.6502247\ttotal: 16.9s\tremaining: 2.53s\n",
      "87:\tlearn: 0.6502206\ttotal: 17s\tremaining: 2.32s\n",
      "88:\tlearn: 0.6502163\ttotal: 17s\tremaining: 2.1s\n",
      "89:\tlearn: 0.6500899\ttotal: 17.3s\tremaining: 1.92s\n",
      "90:\tlearn: 0.6500899\ttotal: 17.3s\tremaining: 1.71s\n",
      "91:\tlearn: 0.6500899\ttotal: 17.4s\tremaining: 1.51s\n",
      "92:\tlearn: 0.6500899\ttotal: 17.4s\tremaining: 1.31s\n",
      "93:\tlearn: 0.6500305\ttotal: 17.5s\tremaining: 1.11s\n",
      "94:\tlearn: 0.6500303\ttotal: 17.5s\tremaining: 921ms\n",
      "95:\tlearn: 0.6500177\ttotal: 17.6s\tremaining: 732ms\n",
      "96:\tlearn: 0.6500151\ttotal: 17.6s\tremaining: 545ms\n",
      "97:\tlearn: 0.6499941\ttotal: 17.7s\tremaining: 361ms\n",
      "98:\tlearn: 0.6499941\ttotal: 17.7s\tremaining: 179ms\n",
      "99:\tlearn: 0.6499941\ttotal: 17.8s\tremaining: 0us\n"
     ]
    },
    {
     "data": {
      "text/plain": [
       "Pipeline(memory=None,\n",
       "         steps=[('processing',\n",
       "                 Pipeline(memory=None,\n",
       "                          steps=[('record_store_column_remover',\n",
       "                                  ColumnRemover(remove_columns={'average_rating',\n",
       "                                                                'community_have',\n",
       "                                                                'community_want',\n",
       "                                                                'country_albania',\n",
       "                                                                'country_algeria',\n",
       "                                                                'country_andorra',\n",
       "                                                                'country_angola',\n",
       "                                                                'country_argentina',\n",
       "                                                                'country_armenia',\n",
       "                                                                'country_aruba',\n",
       "                                                                'country_australia',\n",
       "                                                                'country_austria',\n",
       "                                                                'coun...\n",
       "                                                                'country_belize',\n",
       "                                                                'country_bermuda',\n",
       "                                                                'country_bolivia '\n",
       "                                                                '(plurinational '\n",
       "                                                                'state of)',\n",
       "                                                                'country_bosnia '\n",
       "                                                                'and '\n",
       "                                                                'herzegovina',\n",
       "                                                                'country_brazil',\n",
       "                                                                'country_bulgaria',\n",
       "                                                                'country_cabo '\n",
       "                                                                'verde',\n",
       "                                                                'country_cambodia',\n",
       "                                                                'country_cameroon',\n",
       "                                                                'country_canada',\n",
       "                                                                'country_chile', ...}))],\n",
       "                          verbose=False)),\n",
       "                ('catboost',\n",
       "                 <catboost.core.CatBoostRegressor object at 0x7f0bad01f9b0>)],\n",
       "         verbose=False)"
      ]
     },
     "execution_count": 77,
     "metadata": {
      "tags": []
     },
     "output_type": "execute_result"
    }
   ],
   "source": [
    "record_store_catboost_pipe.fit(X_tr,np.log(y_tr))"
   ]
  },
  {
   "cell_type": "code",
   "execution_count": null,
   "metadata": {
    "colab": {},
    "colab_type": "code",
    "id": "QtP6T-Ir8asx"
   },
   "outputs": [],
   "source": [
    "record_store_catboost_te_pred = record_store_catboost_pipe.predict(X_te)"
   ]
  },
  {
   "cell_type": "code",
   "execution_count": 79,
   "metadata": {
    "colab": {
     "base_uri": "https://localhost:8080/",
     "height": 35
    },
    "colab_type": "code",
    "id": "2BLq7nQR42RA",
    "outputId": "c39ab4b1-39b2-4bbb-aff3-8389b2a04013"
   },
   "outputs": [
    {
     "data": {
      "text/plain": [
       "7.803111882768742"
      ]
     },
     "execution_count": 79,
     "metadata": {
      "tags": []
     },
     "output_type": "execute_result"
    }
   ],
   "source": [
    "record_store_catboost_mae = mean_absolute_error(y_te,np.exp(record_store_catboost_te_pred))\n",
    "record_store_catboost_mae"
   ]
  },
  {
   "cell_type": "code",
   "execution_count": 80,
   "metadata": {
    "colab": {
     "base_uri": "https://localhost:8080/",
     "height": 53
    },
    "colab_type": "code",
    "id": "flPo1o1bAhTs",
    "outputId": "9c21bf45-2383-4125-94c5-5556f133ed7b"
   },
   "outputs": [
    {
     "name": "stdout",
     "output_type": "stream",
     "text": [
      "CatBoost performance wrt Linear Regression is: \n",
      "MAE: -0.583\n"
     ]
    }
   ],
   "source": [
    "print_results('CatBoost',record_store_catboost_mae,'Linear Regression',record_store_lr_mae)"
   ]
  },
  {
   "cell_type": "markdown",
   "metadata": {
    "colab_type": "text",
    "id": "z0DIb14ze8Zc"
   },
   "source": [
    "Despite the fairly similar looking results we obtained on our cross validation, we are able to improve on the performance of our best performing previous models by a substantial margin, with a final mean absolute error value on our test predictions of 7.79. While this performance is still far from representing a strong model for the prediction of ``market_value``, it is clear that by using the CatBoost algorithm, which is distinctly engineered to perform well for datasets with categorical features, we are able to obtain a clear improvement in performance with respect to the linear models."
   ]
  },
  {
   "cell_type": "markdown",
   "metadata": {
    "colab_type": "text",
    "id": "1N-puXCSk1kP"
   },
   "source": [
    "## CatBoost - Full Information\n",
    "Having witnessed an encouraging improvement in performance via the use of the CatBoost algorithm for our prediction problem in the Record Store scenario, we now turn to the Full Information scenario, and attempt to identify whether a significant difference can be observed in the predictive performance of CatBoost between these two scenarios."
   ]
  },
  {
   "cell_type": "code",
   "execution_count": null,
   "metadata": {
    "colab": {},
    "colab_type": "code",
    "id": "tIZEJfS6k1kQ"
   },
   "outputs": [],
   "source": [
    "full_information_catboost_removal_columns = record_store_catboost_removal_columns - full_information_columns"
   ]
  },
  {
   "cell_type": "code",
   "execution_count": null,
   "metadata": {
    "colab": {},
    "colab_type": "code",
    "id": "uOt1Def_k1kS"
   },
   "outputs": [],
   "source": [
    "full_information_catboost_processing_pipe = Pipeline([\n",
    "    ('record_store_column_remover', ColumnRemover(full_information_catboost_removal_columns)),\n",
    "])\n",
    "\n",
    "full_information_catboost_grid_pipe = Pipeline([\n",
    "    ('processing', full_information_catboost_processing_pipe),\n",
    "    ('grid_search', GridSearchCV(\n",
    "        catboost,\n",
    "        param_grid={            \n",
    "            #'learning_rate': np.logspace(-3,1,5),\n",
    "            #'border_count': np.linspace(1,200,5),\n",
    "            'l2_leaf_reg': [1,3,5,8],\n",
    "        },\n",
    "        n_jobs=3,\n",
    "        cv=KFold(n_splits=5,shuffle=True),\n",
    "        scoring='neg_mean_absolute_error',\n",
    "        verbose=50,\n",
    "        return_train_score=True)\n",
    "    )\n",
    "])\n",
    "\n",
    "full_information_catboost_pipe = Pipeline([\n",
    "    ('processing', full_information_catboost_processing_pipe),\n",
    "    ('catboost',catboost)\n",
    "])"
   ]
  },
  {
   "cell_type": "code",
   "execution_count": 83,
   "metadata": {
    "colab": {
     "base_uri": "https://localhost:8080/",
     "height": 1000
    },
    "colab_type": "code",
    "id": "YveUFwIJk1kU",
    "outputId": "014b979a-f8c6-4657-9336-43a551902621"
   },
   "outputs": [
    {
     "name": "stdout",
     "output_type": "stream",
     "text": [
      "Fitting 5 folds for each of 4 candidates, totalling 20 fits\n",
      "[Parallel(n_jobs=3)]: Using backend LokyBackend with 3 concurrent workers.\n",
      "[Parallel(n_jobs=3)]: Done   1 tasks      | elapsed:   24.6s\n",
      "[Parallel(n_jobs=3)]: Done   2 tasks      | elapsed:   24.8s\n",
      "[Parallel(n_jobs=3)]: Done   3 tasks      | elapsed:   25.8s\n",
      "[Parallel(n_jobs=3)]: Done   4 tasks      | elapsed:   47.6s\n"
     ]
    },
    {
     "name": "stderr",
     "output_type": "stream",
     "text": [
      "/usr/local/lib/python3.6/dist-packages/joblib/externals/loky/process_executor.py:691: UserWarning: A worker stopped while some jobs were given to the executor. This can be caused by a too short worker timeout or by a memory leak.\n",
      "  \"timeout or by a memory leak.\", UserWarning\n"
     ]
    },
    {
     "name": "stdout",
     "output_type": "stream",
     "text": [
      "[Parallel(n_jobs=3)]: Done   5 tasks      | elapsed:   48.6s\n",
      "[Parallel(n_jobs=3)]: Done   6 tasks      | elapsed:   49.0s\n",
      "[Parallel(n_jobs=3)]: Done   7 tasks      | elapsed:  1.3min\n",
      "[Parallel(n_jobs=3)]: Done   8 tasks      | elapsed:  1.3min\n",
      "[Parallel(n_jobs=3)]: Done   9 tasks      | elapsed:  1.3min\n",
      "[Parallel(n_jobs=3)]: Done  10 tasks      | elapsed:  1.7min\n",
      "[Parallel(n_jobs=3)]: Done  11 tasks      | elapsed:  1.7min\n",
      "[Parallel(n_jobs=3)]: Done  12 tasks      | elapsed:  1.7min\n",
      "[Parallel(n_jobs=3)]: Done  13 tasks      | elapsed:  2.1min\n",
      "[Parallel(n_jobs=3)]: Done  14 tasks      | elapsed:  2.1min\n",
      "[Parallel(n_jobs=3)]: Done  15 tasks      | elapsed:  2.2min\n",
      "[Parallel(n_jobs=3)]: Done  16 out of  20 | elapsed:  2.5min remaining:   37.2s\n",
      "[Parallel(n_jobs=3)]: Done  17 out of  20 | elapsed:  2.5min remaining:   26.8s\n",
      "[Parallel(n_jobs=3)]: Done  18 out of  20 | elapsed:  2.6min remaining:   17.2s\n",
      "[Parallel(n_jobs=3)]: Done  20 out of  20 | elapsed:  2.8min remaining:    0.0s\n",
      "[Parallel(n_jobs=3)]: Done  20 out of  20 | elapsed:  2.8min finished\n",
      "0:\tlearn: 0.8437300\ttotal: 176ms\tremaining: 17.4s\n",
      "1:\tlearn: 0.8160261\ttotal: 323ms\tremaining: 15.8s\n",
      "2:\tlearn: 0.7928813\ttotal: 475ms\tremaining: 15.4s\n",
      "3:\tlearn: 0.7719319\ttotal: 621ms\tremaining: 14.9s\n",
      "4:\tlearn: 0.7546099\ttotal: 768ms\tremaining: 14.6s\n",
      "5:\tlearn: 0.7383621\ttotal: 923ms\tremaining: 14.5s\n",
      "6:\tlearn: 0.7254833\ttotal: 1.07s\tremaining: 14.2s\n",
      "7:\tlearn: 0.7153504\ttotal: 1.14s\tremaining: 13.2s\n",
      "8:\tlearn: 0.7043800\ttotal: 1.29s\tremaining: 13s\n",
      "9:\tlearn: 0.6960190\ttotal: 1.44s\tremaining: 12.9s\n",
      "10:\tlearn: 0.6883655\ttotal: 1.59s\tremaining: 12.9s\n",
      "11:\tlearn: 0.6813525\ttotal: 1.73s\tremaining: 12.7s\n",
      "12:\tlearn: 0.6751062\ttotal: 1.88s\tremaining: 12.6s\n",
      "13:\tlearn: 0.6701520\ttotal: 2.03s\tremaining: 12.5s\n",
      "14:\tlearn: 0.6644168\ttotal: 2.18s\tremaining: 12.4s\n",
      "15:\tlearn: 0.6598838\ttotal: 2.33s\tremaining: 12.2s\n",
      "16:\tlearn: 0.6556977\ttotal: 2.48s\tremaining: 12.1s\n",
      "17:\tlearn: 0.6513146\ttotal: 2.55s\tremaining: 11.6s\n",
      "18:\tlearn: 0.6465542\ttotal: 2.7s\tremaining: 11.5s\n",
      "19:\tlearn: 0.6447247\ttotal: 2.71s\tremaining: 10.8s\n",
      "20:\tlearn: 0.6427195\ttotal: 2.73s\tremaining: 10.3s\n",
      "21:\tlearn: 0.6399249\ttotal: 2.87s\tremaining: 10.2s\n",
      "22:\tlearn: 0.6377614\ttotal: 3.02s\tremaining: 10.1s\n",
      "23:\tlearn: 0.6353666\ttotal: 3.16s\tremaining: 10s\n",
      "24:\tlearn: 0.6330849\ttotal: 3.31s\tremaining: 9.94s\n",
      "25:\tlearn: 0.6313822\ttotal: 3.33s\tremaining: 9.49s\n",
      "26:\tlearn: 0.6300926\ttotal: 3.35s\tremaining: 9.05s\n",
      "27:\tlearn: 0.6282475\ttotal: 3.43s\tremaining: 8.81s\n",
      "28:\tlearn: 0.6260985\ttotal: 3.58s\tremaining: 8.76s\n",
      "29:\tlearn: 0.6249544\ttotal: 3.65s\tremaining: 8.52s\n",
      "30:\tlearn: 0.6230857\ttotal: 3.8s\tremaining: 8.46s\n",
      "31:\tlearn: 0.6209553\ttotal: 3.95s\tremaining: 8.39s\n",
      "32:\tlearn: 0.6200419\ttotal: 3.99s\tremaining: 8.1s\n",
      "33:\tlearn: 0.6188887\ttotal: 4.14s\tremaining: 8.04s\n",
      "34:\tlearn: 0.6182577\ttotal: 4.29s\tremaining: 7.97s\n",
      "35:\tlearn: 0.6177417\ttotal: 4.3s\tremaining: 7.65s\n",
      "36:\tlearn: 0.6166331\ttotal: 4.45s\tremaining: 7.58s\n",
      "37:\tlearn: 0.6156666\ttotal: 4.6s\tremaining: 7.5s\n",
      "38:\tlearn: 0.6149129\ttotal: 4.75s\tremaining: 7.42s\n",
      "39:\tlearn: 0.6141299\ttotal: 4.9s\tremaining: 7.35s\n",
      "40:\tlearn: 0.6140041\ttotal: 4.9s\tremaining: 7.05s\n",
      "41:\tlearn: 0.6127376\ttotal: 5.05s\tremaining: 6.97s\n",
      "42:\tlearn: 0.6123863\ttotal: 5.06s\tremaining: 6.71s\n",
      "43:\tlearn: 0.6122451\ttotal: 5.07s\tremaining: 6.45s\n",
      "44:\tlearn: 0.6116660\ttotal: 5.08s\tremaining: 6.21s\n",
      "45:\tlearn: 0.6105306\ttotal: 5.12s\tremaining: 6.01s\n",
      "46:\tlearn: 0.6094045\ttotal: 5.27s\tremaining: 5.94s\n",
      "47:\tlearn: 0.6088933\ttotal: 5.28s\tremaining: 5.72s\n",
      "48:\tlearn: 0.6077765\ttotal: 5.42s\tremaining: 5.65s\n",
      "49:\tlearn: 0.6056303\ttotal: 5.5s\tremaining: 5.5s\n",
      "50:\tlearn: 0.6042816\ttotal: 5.65s\tremaining: 5.43s\n",
      "51:\tlearn: 0.6034660\ttotal: 5.8s\tremaining: 5.35s\n",
      "52:\tlearn: 0.6031018\ttotal: 5.87s\tremaining: 5.21s\n",
      "53:\tlearn: 0.6015149\ttotal: 6.02s\tremaining: 5.13s\n",
      "54:\tlearn: 0.6008729\ttotal: 6.16s\tremaining: 5.04s\n",
      "55:\tlearn: 0.6000858\ttotal: 6.31s\tremaining: 4.96s\n",
      "56:\tlearn: 0.5993709\ttotal: 6.45s\tremaining: 4.87s\n",
      "57:\tlearn: 0.5981937\ttotal: 6.61s\tremaining: 4.79s\n",
      "58:\tlearn: 0.5977219\ttotal: 6.75s\tremaining: 4.69s\n",
      "59:\tlearn: 0.5970336\ttotal: 6.9s\tremaining: 4.6s\n",
      "60:\tlearn: 0.5967547\ttotal: 6.93s\tremaining: 4.43s\n",
      "61:\tlearn: 0.5959430\ttotal: 7.07s\tremaining: 4.33s\n",
      "62:\tlearn: 0.5941689\ttotal: 7.21s\tremaining: 4.24s\n",
      "63:\tlearn: 0.5941258\ttotal: 7.22s\tremaining: 4.06s\n",
      "64:\tlearn: 0.5939237\ttotal: 7.26s\tremaining: 3.91s\n",
      "65:\tlearn: 0.5920388\ttotal: 7.41s\tremaining: 3.82s\n",
      "66:\tlearn: 0.5913932\ttotal: 7.56s\tremaining: 3.72s\n",
      "67:\tlearn: 0.5911850\ttotal: 7.71s\tremaining: 3.63s\n",
      "68:\tlearn: 0.5910773\ttotal: 7.72s\tremaining: 3.47s\n",
      "69:\tlearn: 0.5904516\ttotal: 7.87s\tremaining: 3.37s\n",
      "70:\tlearn: 0.5902213\ttotal: 7.94s\tremaining: 3.24s\n",
      "71:\tlearn: 0.5896453\ttotal: 8.09s\tremaining: 3.15s\n",
      "72:\tlearn: 0.5889683\ttotal: 8.23s\tremaining: 3.04s\n",
      "73:\tlearn: 0.5885336\ttotal: 8.24s\tremaining: 2.9s\n",
      "74:\tlearn: 0.5884834\ttotal: 8.25s\tremaining: 2.75s\n",
      "75:\tlearn: 0.5878551\ttotal: 8.39s\tremaining: 2.65s\n",
      "76:\tlearn: 0.5874184\ttotal: 8.54s\tremaining: 2.55s\n",
      "77:\tlearn: 0.5873262\ttotal: 8.56s\tremaining: 2.41s\n",
      "78:\tlearn: 0.5866029\ttotal: 8.7s\tremaining: 2.31s\n",
      "79:\tlearn: 0.5864261\ttotal: 8.72s\tremaining: 2.18s\n",
      "80:\tlearn: 0.5851772\ttotal: 8.86s\tremaining: 2.08s\n",
      "81:\tlearn: 0.5847438\ttotal: 9.02s\tremaining: 1.98s\n",
      "82:\tlearn: 0.5843354\ttotal: 9.16s\tremaining: 1.88s\n",
      "83:\tlearn: 0.5839491\ttotal: 9.17s\tremaining: 1.75s\n",
      "84:\tlearn: 0.5837242\ttotal: 9.32s\tremaining: 1.64s\n",
      "85:\tlearn: 0.5834576\ttotal: 9.33s\tremaining: 1.52s\n",
      "86:\tlearn: 0.5834313\ttotal: 9.34s\tremaining: 1.4s\n",
      "87:\tlearn: 0.5834287\ttotal: 9.34s\tremaining: 1.27s\n",
      "88:\tlearn: 0.5830212\ttotal: 9.49s\tremaining: 1.17s\n",
      "89:\tlearn: 0.5827019\ttotal: 9.57s\tremaining: 1.06s\n",
      "90:\tlearn: 0.5820953\ttotal: 9.72s\tremaining: 961ms\n",
      "91:\tlearn: 0.5820847\ttotal: 9.72s\tremaining: 846ms\n",
      "92:\tlearn: 0.5816341\ttotal: 9.88s\tremaining: 743ms\n",
      "93:\tlearn: 0.5815797\ttotal: 9.88s\tremaining: 631ms\n",
      "94:\tlearn: 0.5812497\ttotal: 9.89s\tremaining: 521ms\n",
      "95:\tlearn: 0.5804670\ttotal: 9.94s\tremaining: 414ms\n",
      "96:\tlearn: 0.5804264\ttotal: 9.95s\tremaining: 308ms\n",
      "97:\tlearn: 0.5801552\ttotal: 10.1s\tremaining: 206ms\n",
      "98:\tlearn: 0.5796320\ttotal: 10.2s\tremaining: 103ms\n",
      "99:\tlearn: 0.5795995\ttotal: 10.2s\tremaining: 0us\n"
     ]
    },
    {
     "data": {
      "text/plain": [
       "Pipeline(memory=None,\n",
       "         steps=[('processing',\n",
       "                 Pipeline(memory=None,\n",
       "                          steps=[('record_store_column_remover',\n",
       "                                  ColumnRemover(remove_columns={'country_albania',\n",
       "                                                                'country_algeria',\n",
       "                                                                'country_andorra',\n",
       "                                                                'country_angola',\n",
       "                                                                'country_argentina',\n",
       "                                                                'country_armenia',\n",
       "                                                                'country_aruba',\n",
       "                                                                'country_australia',\n",
       "                                                                'country_austria',\n",
       "                                                                'country_azerbaijan',\n",
       "                                                                'country_bahamas',\n",
       "                                                                'country_bahrain'...\n",
       "                          verbose=False)),\n",
       "                ('grid_search',\n",
       "                 GridSearchCV(cv=KFold(n_splits=5, random_state=None, shuffle=True),\n",
       "                              error_score=nan,\n",
       "                              estimator=<catboost.core.CatBoostRegressor object at 0x7f0bad01f9b0>,\n",
       "                              iid='deprecated', n_jobs=3,\n",
       "                              param_grid={'l2_leaf_reg': [1, 3, 5, 8]},\n",
       "                              pre_dispatch='2*n_jobs', refit=True,\n",
       "                              return_train_score=True,\n",
       "                              scoring='neg_mean_absolute_error', verbose=50))],\n",
       "         verbose=False)"
      ]
     },
     "execution_count": 83,
     "metadata": {
      "tags": []
     },
     "output_type": "execute_result"
    }
   ],
   "source": [
    "full_information_catboost_grid_pipe.fit(X_tr_sample,np.log(y_tr_sample).values)"
   ]
  },
  {
   "cell_type": "code",
   "execution_count": 84,
   "metadata": {
    "colab": {
     "base_uri": "https://localhost:8080/",
     "height": 296
    },
    "colab_type": "code",
    "id": "sDzqUDs6k1kW",
    "outputId": "201248ef-78c8-4ed2-ce44-b1c92061ec65"
   },
   "outputs": [
    {
     "data": {
      "image/png": "[encoded data removed]",
      "text/plain": [
       "<Figure size 432x288 with 1 Axes>"
      ]
     },
     "metadata": {
      "needs_background": "light",
      "tags": []
     },
     "output_type": "display_data"
    }
   ],
   "source": [
    "full_information_catboost_plot = GridSearchPlotter(full_information_catboost_grid_pipe.steps[-1][1])\n",
    "full_information_catboost_plot.plot_validation_curve(parameter='l2_leaf_reg',ylim=(-1,0))"
   ]
  },
  {
   "cell_type": "code",
   "execution_count": 85,
   "metadata": {
    "colab": {
     "base_uri": "https://localhost:8080/",
     "height": 35
    },
    "colab_type": "code",
    "id": "rYzXoV8jk1kY",
    "outputId": "a2e0534a-e96b-4277-9b0a-9f472e0236e7"
   },
   "outputs": [
    {
     "data": {
      "text/plain": [
       "-0.4655173351787941"
      ]
     },
     "execution_count": 85,
     "metadata": {
      "tags": []
     },
     "output_type": "execute_result"
    }
   ],
   "source": [
    "full_information_catboost_grid_pipe.steps[-1][1].best_score_"
   ]
  },
  {
   "cell_type": "code",
   "execution_count": 86,
   "metadata": {
    "colab": {
     "base_uri": "https://localhost:8080/",
     "height": 35
    },
    "colab_type": "code",
    "id": "9DoQX1JHk1ka",
    "outputId": "de81f613-a1b1-411c-9cdc-75f7ad9c3b21"
   },
   "outputs": [
    {
     "data": {
      "text/plain": [
       "{'l2_leaf_reg': 1}"
      ]
     },
     "execution_count": 86,
     "metadata": {
      "tags": []
     },
     "output_type": "execute_result"
    }
   ],
   "source": [
    "full_information_catboost_grid_pipe.steps[-1][1].best_params_"
   ]
  },
  {
   "cell_type": "markdown",
   "metadata": {
    "colab_type": "text",
    "id": "2EaXuIw_jwi6"
   },
   "source": [
    "After having performed grid search on our hyperparameters for CatBoost, we observe that in the final stages, we obtain cross validation Mean Absolute Error that is 0.06 lower than the cross validation Mean Absolute Error for the Record Store scenario. This improvement in Mean Absolute Error is a promising sign for the performance of our model on the test set."
   ]
  },
  {
   "cell_type": "code",
   "execution_count": 87,
   "metadata": {
    "colab": {
     "base_uri": "https://localhost:8080/",
     "height": 1000
    },
    "colab_type": "code",
    "id": "jo9HfiwMk1kd",
    "outputId": "85d09d45-83a4-4bb6-ba3a-57f3bf4f22a0"
   },
   "outputs": [
    {
     "name": "stdout",
     "output_type": "stream",
     "text": [
      "0:\tlearn: 0.8353250\ttotal: 361ms\tremaining: 35.7s\n",
      "1:\tlearn: 0.8057548\ttotal: 700ms\tremaining: 34.3s\n",
      "2:\tlearn: 0.7802733\ttotal: 1.02s\tremaining: 33.1s\n",
      "3:\tlearn: 0.7582575\ttotal: 1.34s\tremaining: 32.3s\n",
      "4:\tlearn: 0.7392930\ttotal: 1.67s\tremaining: 31.8s\n",
      "5:\tlearn: 0.7233265\ttotal: 2s\tremaining: 31.3s\n",
      "6:\tlearn: 0.7100145\ttotal: 2.32s\tremaining: 30.8s\n",
      "7:\tlearn: 0.6966878\ttotal: 2.64s\tremaining: 30.4s\n",
      "8:\tlearn: 0.6848340\ttotal: 2.97s\tremaining: 30s\n",
      "9:\tlearn: 0.6753740\ttotal: 3.29s\tremaining: 29.7s\n",
      "10:\tlearn: 0.6669238\ttotal: 3.62s\tremaining: 29.3s\n",
      "11:\tlearn: 0.6595110\ttotal: 3.94s\tremaining: 28.9s\n",
      "12:\tlearn: 0.6534118\ttotal: 4.26s\tremaining: 28.5s\n",
      "13:\tlearn: 0.6475448\ttotal: 4.59s\tremaining: 28.2s\n",
      "14:\tlearn: 0.6428631\ttotal: 4.91s\tremaining: 27.8s\n",
      "15:\tlearn: 0.6382576\ttotal: 5.23s\tremaining: 27.4s\n",
      "16:\tlearn: 0.6345479\ttotal: 5.54s\tremaining: 27s\n",
      "17:\tlearn: 0.6298519\ttotal: 5.87s\tremaining: 26.7s\n",
      "18:\tlearn: 0.6260884\ttotal: 6.22s\tremaining: 26.5s\n",
      "19:\tlearn: 0.6221769\ttotal: 6.54s\tremaining: 26.2s\n",
      "20:\tlearn: 0.6189646\ttotal: 6.87s\tremaining: 25.9s\n",
      "21:\tlearn: 0.6165175\ttotal: 7.2s\tremaining: 25.5s\n",
      "22:\tlearn: 0.6146018\ttotal: 7.52s\tremaining: 25.2s\n",
      "23:\tlearn: 0.6124750\ttotal: 7.84s\tremaining: 24.8s\n",
      "24:\tlearn: 0.6106370\ttotal: 8.16s\tremaining: 24.5s\n",
      "25:\tlearn: 0.6089859\ttotal: 8.48s\tremaining: 24.1s\n",
      "26:\tlearn: 0.6072609\ttotal: 8.81s\tremaining: 23.8s\n",
      "27:\tlearn: 0.6058458\ttotal: 9.13s\tremaining: 23.5s\n",
      "28:\tlearn: 0.6047656\ttotal: 9.47s\tremaining: 23.2s\n",
      "29:\tlearn: 0.6034701\ttotal: 9.79s\tremaining: 22.8s\n",
      "30:\tlearn: 0.6022682\ttotal: 10.1s\tremaining: 22.5s\n",
      "31:\tlearn: 0.6004633\ttotal: 10.4s\tremaining: 22.2s\n",
      "32:\tlearn: 0.5991334\ttotal: 10.8s\tremaining: 21.9s\n",
      "33:\tlearn: 0.5978324\ttotal: 11.1s\tremaining: 21.6s\n",
      "34:\tlearn: 0.5968969\ttotal: 11.5s\tremaining: 21.3s\n",
      "35:\tlearn: 0.5960617\ttotal: 11.8s\tremaining: 21s\n",
      "36:\tlearn: 0.5954593\ttotal: 12.1s\tremaining: 20.6s\n",
      "37:\tlearn: 0.5949430\ttotal: 12.4s\tremaining: 20.3s\n",
      "38:\tlearn: 0.5943532\ttotal: 12.7s\tremaining: 19.9s\n",
      "39:\tlearn: 0.5936632\ttotal: 13.1s\tremaining: 19.6s\n",
      "40:\tlearn: 0.5922498\ttotal: 13.4s\tremaining: 19.3s\n",
      "41:\tlearn: 0.5916325\ttotal: 13.7s\tremaining: 18.9s\n",
      "42:\tlearn: 0.5913511\ttotal: 14.1s\tremaining: 18.6s\n",
      "43:\tlearn: 0.5904256\ttotal: 14.4s\tremaining: 18.3s\n",
      "44:\tlearn: 0.5899612\ttotal: 14.7s\tremaining: 17.9s\n",
      "45:\tlearn: 0.5895458\ttotal: 15s\tremaining: 17.6s\n",
      "46:\tlearn: 0.5889864\ttotal: 15.3s\tremaining: 17.3s\n",
      "47:\tlearn: 0.5885094\ttotal: 15.6s\tremaining: 16.9s\n",
      "48:\tlearn: 0.5885082\ttotal: 15.7s\tremaining: 16.3s\n",
      "49:\tlearn: 0.5880793\ttotal: 16s\tremaining: 16s\n",
      "50:\tlearn: 0.5877635\ttotal: 16.3s\tremaining: 15.7s\n",
      "51:\tlearn: 0.5874719\ttotal: 16.7s\tremaining: 15.4s\n",
      "52:\tlearn: 0.5870467\ttotal: 17s\tremaining: 15.1s\n",
      "53:\tlearn: 0.5863612\ttotal: 17.3s\tremaining: 14.7s\n",
      "54:\tlearn: 0.5863612\ttotal: 17.3s\tremaining: 14.2s\n",
      "55:\tlearn: 0.5863612\ttotal: 17.3s\tremaining: 13.6s\n",
      "56:\tlearn: 0.5863612\ttotal: 17.4s\tremaining: 13.1s\n",
      "57:\tlearn: 0.5863612\ttotal: 17.4s\tremaining: 12.6s\n",
      "58:\tlearn: 0.5863588\ttotal: 17.4s\tremaining: 12.1s\n",
      "59:\tlearn: 0.5863588\ttotal: 17.4s\tremaining: 11.6s\n",
      "60:\tlearn: 0.5863588\ttotal: 17.5s\tremaining: 11.2s\n",
      "61:\tlearn: 0.5863585\ttotal: 17.5s\tremaining: 10.7s\n",
      "62:\tlearn: 0.5863585\ttotal: 17.5s\tremaining: 10.3s\n",
      "63:\tlearn: 0.5863582\ttotal: 17.5s\tremaining: 9.87s\n",
      "64:\tlearn: 0.5861378\ttotal: 17.9s\tremaining: 9.62s\n",
      "65:\tlearn: 0.5861378\ttotal: 17.9s\tremaining: 9.21s\n",
      "66:\tlearn: 0.5856643\ttotal: 18.2s\tremaining: 8.97s\n",
      "67:\tlearn: 0.5856630\ttotal: 18.2s\tremaining: 8.59s\n",
      "68:\tlearn: 0.5856630\ttotal: 18.3s\tremaining: 8.21s\n",
      "69:\tlearn: 0.5856619\ttotal: 18.3s\tremaining: 7.84s\n",
      "70:\tlearn: 0.5856619\ttotal: 18.3s\tremaining: 7.48s\n",
      "71:\tlearn: 0.5855999\ttotal: 18.5s\tremaining: 7.18s\n",
      "72:\tlearn: 0.5855988\ttotal: 18.5s\tremaining: 6.85s\n",
      "73:\tlearn: 0.5854031\ttotal: 18.8s\tremaining: 6.62s\n",
      "74:\tlearn: 0.5851763\ttotal: 19.2s\tremaining: 6.38s\n",
      "75:\tlearn: 0.5845431\ttotal: 19.5s\tremaining: 6.15s\n",
      "76:\tlearn: 0.5845425\ttotal: 19.5s\tremaining: 5.83s\n",
      "77:\tlearn: 0.5844806\ttotal: 19.8s\tremaining: 5.59s\n",
      "78:\tlearn: 0.5844806\ttotal: 19.9s\tremaining: 5.28s\n",
      "79:\tlearn: 0.5844803\ttotal: 19.9s\tremaining: 4.97s\n",
      "80:\tlearn: 0.5844788\ttotal: 19.9s\tremaining: 4.67s\n",
      "81:\tlearn: 0.5844769\ttotal: 20.1s\tremaining: 4.41s\n",
      "82:\tlearn: 0.5844764\ttotal: 20.1s\tremaining: 4.12s\n",
      "83:\tlearn: 0.5839974\ttotal: 20.5s\tremaining: 3.9s\n",
      "84:\tlearn: 0.5839972\ttotal: 20.5s\tremaining: 3.62s\n",
      "85:\tlearn: 0.5836265\ttotal: 20.8s\tremaining: 3.39s\n",
      "86:\tlearn: 0.5836265\ttotal: 20.8s\tremaining: 3.12s\n",
      "87:\tlearn: 0.5836236\ttotal: 20.9s\tremaining: 2.85s\n",
      "88:\tlearn: 0.5836234\ttotal: 21s\tremaining: 2.59s\n",
      "89:\tlearn: 0.5836233\ttotal: 21s\tremaining: 2.33s\n",
      "90:\tlearn: 0.5836232\ttotal: 21s\tremaining: 2.08s\n",
      "91:\tlearn: 0.5836232\ttotal: 21.1s\tremaining: 1.83s\n",
      "92:\tlearn: 0.5836221\ttotal: 21.1s\tremaining: 1.59s\n",
      "93:\tlearn: 0.5836217\ttotal: 21.2s\tremaining: 1.35s\n",
      "94:\tlearn: 0.5836214\ttotal: 21.3s\tremaining: 1.12s\n",
      "95:\tlearn: 0.5831065\ttotal: 21.6s\tremaining: 899ms\n",
      "96:\tlearn: 0.5831056\ttotal: 21.6s\tremaining: 668ms\n",
      "97:\tlearn: 0.5831052\ttotal: 21.6s\tremaining: 442ms\n",
      "98:\tlearn: 0.5830217\ttotal: 22s\tremaining: 222ms\n",
      "99:\tlearn: 0.5830217\ttotal: 22s\tremaining: 0us\n"
     ]
    },
    {
     "data": {
      "text/plain": [
       "Pipeline(memory=None,\n",
       "         steps=[('processing',\n",
       "                 Pipeline(memory=None,\n",
       "                          steps=[('record_store_column_remover',\n",
       "                                  ColumnRemover(remove_columns={'country_albania',\n",
       "                                                                'country_algeria',\n",
       "                                                                'country_andorra',\n",
       "                                                                'country_angola',\n",
       "                                                                'country_argentina',\n",
       "                                                                'country_armenia',\n",
       "                                                                'country_aruba',\n",
       "                                                                'country_australia',\n",
       "                                                                'country_austria',\n",
       "                                                                'country_azerbaijan',\n",
       "                                                                'country_bahamas',\n",
       "                                                                'country_bahrain'...\n",
       "                                                                '(plurinational '\n",
       "                                                                'state of)',\n",
       "                                                                'country_bosnia '\n",
       "                                                                'and '\n",
       "                                                                'herzegovina',\n",
       "                                                                'country_brazil',\n",
       "                                                                'country_bulgaria',\n",
       "                                                                'country_cabo '\n",
       "                                                                'verde',\n",
       "                                                                'country_cambodia',\n",
       "                                                                'country_cameroon',\n",
       "                                                                'country_canada',\n",
       "                                                                'country_chile',\n",
       "                                                                'country_china',\n",
       "                                                                'country_colombia',\n",
       "                                                                'country_congo', ...}))],\n",
       "                          verbose=False)),\n",
       "                ('catboost',\n",
       "                 <catboost.core.CatBoostRegressor object at 0x7f0bad01f9b0>)],\n",
       "         verbose=False)"
      ]
     },
     "execution_count": 87,
     "metadata": {
      "tags": []
     },
     "output_type": "execute_result"
    }
   ],
   "source": [
    "full_information_catboost_pipe.fit(X_tr,np.log(y_tr))"
   ]
  },
  {
   "cell_type": "code",
   "execution_count": null,
   "metadata": {
    "colab": {},
    "colab_type": "code",
    "id": "za9_3tZ-k1kf"
   },
   "outputs": [],
   "source": [
    "full_information_catboost_te_pred = full_information_catboost_pipe.predict(X_te)"
   ]
  },
  {
   "cell_type": "code",
   "execution_count": 89,
   "metadata": {
    "colab": {
     "base_uri": "https://localhost:8080/",
     "height": 35
    },
    "colab_type": "code",
    "id": "WmjFcYRak1kk",
    "outputId": "a8e3e57c-e5f1-47c6-d303-32a1ee0112db"
   },
   "outputs": [
    {
     "data": {
      "text/plain": [
       "7.183348995545678"
      ]
     },
     "execution_count": 89,
     "metadata": {
      "tags": []
     },
     "output_type": "execute_result"
    }
   ],
   "source": [
    "full_information_catboost_mae = mean_absolute_error(y_te,np.exp(full_information_catboost_te_pred))\n",
    "full_information_catboost_mae"
   ]
  },
  {
   "cell_type": "code",
   "execution_count": 90,
   "metadata": {
    "colab": {
     "base_uri": "https://localhost:8080/",
     "height": 53
    },
    "colab_type": "code",
    "id": "aue1hkTcBBaC",
    "outputId": "17cfc5fd-971f-4690-93c4-83dc470db174"
   },
   "outputs": [
    {
     "name": "stdout",
     "output_type": "stream",
     "text": [
      "CatBoost (FI) performance wrt CatBoost (RS) is: \n",
      "MAE: -0.62\n"
     ]
    }
   ],
   "source": [
    "print_results('CatBoost (FI)',full_information_catboost_mae,'CatBoost (RS)',record_store_catboost_mae)"
   ]
  },
  {
   "cell_type": "markdown",
   "metadata": {
    "colab_type": "text",
    "id": "-KwfGKeBgZuv"
   },
   "source": [
    "As foreshadowed by the improvement in our cross validation Mean Absolute Error, we observe a distinct reduction in the magnitude of our test set Mean Absolute Error for CatBoost, with a reduction of about 0.628. As in the case for linear models, we can identify that the inclusion of the Full Information suite of features results in a stronger model for the prediction of ``market_value``.  Given that this model actually manages to perform much better than previous models, we see this change in performance via the inclusion of the Full Information features as an argument for the importance of these features in being able to predict Jazz album ``market_value``. Nonetheless, it must also be stated that even with this improvement in performance, the model still does not prove to be highly accurate in estimating the ``market_value`` of Jazz albums, which leads us to conclude that on the whole, even with the use highly sophisticated machine learning algorithms, that it is not possible to predict the market value of a Jazz album on the basis of its meta characteristics alone to an acceptable level of error."
   ]
  },
  {
   "cell_type": "markdown",
   "metadata": {
    "colab_type": "text",
    "id": "8aGyejLgLg5q"
   },
   "source": [
    "## Identification of Feature Importances\n",
    "As we are making use of the CatBoost algorithm, we benefit from being able to identify the strength of feature importances used in the model. This will allow us to understand what features in our models are proving the most useful in the prediction of ``market_value``."
   ]
  },
  {
   "cell_type": "code",
   "execution_count": null,
   "metadata": {
    "colab": {},
    "colab_type": "code",
    "id": "Vel9VOBLLg5r"
   },
   "outputs": [],
   "source": [
    "full_information_feature_importance_transformation_pipe = full_information_catboost_processing_pipe.fit(X_tr,np.log(y_tr).values)\n",
    "record_store_feature_importance_transformation_pipe = record_store_catboost_processing_pipe.fit(X_tr,np.log(y_tr).values)\n",
    "\n",
    "record_store_catboost_feature_importances = dict(zip(\n",
    "    record_store_feature_importance_transformation_pipe.transform(X_te).columns,\n",
    "    record_store_catboost_pipe.steps[-1][-1].feature_importances_\n",
    "))\n",
    "full_information_catboost_feature_importances = dict(zip(\n",
    "    full_information_feature_importance_transformation_pipe.transform(X_te).columns,\n",
    "    full_information_catboost_pipe.steps[-1][-1].feature_importances_\n",
    "))"
   ]
  },
  {
   "cell_type": "code",
   "execution_count": 92,
   "metadata": {
    "colab": {
     "base_uri": "https://localhost:8080/",
     "height": 393
    },
    "colab_type": "code",
    "id": "oZ_AqucEotly",
    "outputId": "0db083f0-7c1c-4f4b-c1f4-4542e858bf99"
   },
   "outputs": [
    {
     "data": {
      "text/plain": [
       "artist                                    19.703097\n",
       "country                                   18.112934\n",
       "standards_count                           15.247605\n",
       "format_text                                9.919429\n",
       "label                                      5.708300\n",
       "year                                       5.682757\n",
       "superregion_americas                       3.577738\n",
       "master_id                                  3.508069\n",
       "region_latin america and the caribbean     2.745003\n",
       "region_northern europe                     2.042894\n",
       "superregion_africa                         1.789132\n",
       "format_description_LP                      1.410613\n",
       "format_description_Album                   1.360779\n",
       "superregion_oceania                        1.323937\n",
       "style_Other                                1.286455\n",
       "images_umap_0                              1.245819\n",
       "era_modern                                 0.797595\n",
       "running_time                               0.787985\n",
       "number_of_tracks                           0.775120\n",
       "images_umap_4                              0.566976\n",
       "dtype: float64"
      ]
     },
     "execution_count": 92,
     "metadata": {
      "tags": []
     },
     "output_type": "execute_result"
    }
   ],
   "source": [
    "pd.Series(record_store_catboost_feature_importances).sort_values(ascending=False).head(20)"
   ]
  },
  {
   "cell_type": "code",
   "execution_count": 93,
   "metadata": {
    "colab": {
     "base_uri": "https://localhost:8080/",
     "height": 393
    },
    "colab_type": "code",
    "id": "so5RN2cBLg5s",
    "outputId": "2611a895-b5d7-4d0d-ae13-d9b80c4b7567"
   },
   "outputs": [
    {
     "data": {
      "text/plain": [
       "community_want                19.703097\n",
       "country                       18.112934\n",
       "units_for_sale                15.247605\n",
       "format_name                    9.919429\n",
       "label                          5.708300\n",
       "year                           5.682757\n",
       "artist                         3.577738\n",
       "community_have                 3.508069\n",
       "region_eastern asia            2.745003\n",
       "region_north america           2.042894\n",
       "master_id                      1.789132\n",
       "format_text                    1.410613\n",
       "format_quantity                1.360779\n",
       "superregion_asia               1.323937\n",
       "average_rating                 1.286455\n",
       "number_of_tracks               1.245819\n",
       "format_description_Reissue     0.797595\n",
       "period_fusion                  0.787985\n",
       "period_cool                    0.775120\n",
       "format_description_Other       0.566976\n",
       "dtype: float64"
      ]
     },
     "execution_count": 93,
     "metadata": {
      "tags": []
     },
     "output_type": "execute_result"
    }
   ],
   "source": [
    "pd.Series(full_information_catboost_feature_importances).sort_values(ascending=False).head(20)"
   ]
  },
  {
   "cell_type": "markdown",
   "metadata": {
    "colab_type": "text",
    "id": "QElDrqU4xIot"
   },
   "source": [
    "From the above, we observe that the feature importances that are generated in both versions of the model are identical, but with different features attributed to each feature importance.\n",
    "\n",
    "In the Record Store scenario, we observe that the ``artist`` feature is the most important, along with ``standards_count``, ``country``, ``format_text``, ``label`` and ``year``. These are generally what we would expect to be the most important, with ``standards_count`` being notable as it indicates the importance of domain knowledge in the Record Store scenario. We also observe that ``region_latin america and the caribbean`` is a surprisingly important feature for this model.\n",
    "\n",
    "In the Full Information scenario, however the most important features takes a wholly new structure, as ``community_want`` and ``units_for_sale`` top  the list of features, along with ``country``, ``format_name``, ``label``, ``year``, ``artist`` and ``community_have``. The dominance of ``community_want`` is not unsurprising, as it reflects the demand for a given album, which economic theory has long underscored as being a fundamental driver of price, and therefore market value within the context of this project. Of the Full Information Scenario specific features, ``units_for_sale`` and ``community_have`` also have amongst the strongest influence on the prediction of ``market_value``. These are reflections of the supply of the album, and as such are also unsurprisingly important, as per economic theory. The most important features list includes many of the same features that were also to be found in the Record Store scenario, albeit in a new order. Most notably, ``artist`` becomes far less important in predicting ``market_value`` than in the Record Store scenario, and ``format_text`` has been replaced with ``format_name``. Additionally, we observe a similar case as in the Record Store scenario, where a specific region exerts substantial influence on the prediction of ``market_value``, namely ``region_eastern asia``. This fluctuation in the regions that are deemed important across models may be due to the generally poor performance of the models as a whole, thereby explaining the element of randomness that is seemingly present in determining the importance of indicators in the prediction task and the lack of consistency in their perfomance."
   ]
  },
  {
   "cell_type": "markdown",
   "metadata": {
    "colab_type": "text",
    "id": "uA8vxugaqKFb"
   },
   "source": [
    "# Discussion\n",
    "As a final step, we aggregate and discuss the results of our models."
   ]
  },
  {
   "cell_type": "code",
   "execution_count": null,
   "metadata": {
    "colab": {},
    "colab_type": "code",
    "id": "NiQlkObZFHIL"
   },
   "outputs": [],
   "source": [
    "algorithms = ('Linear Regression','Ridge Regression','Random Forest','CatBoost')*2\n",
    "mae = (record_store_lr_mae, record_store_ridge_mae, record_store_random_forest_mae, record_store_catboost_mae,full_information_lr_mae, full_information_ridge_mae, full_information_random_forest_mae, full_information_catboost_mae)\n",
    "scenario = ['Record Store']*4 + ['Full Information']*4\n",
    "results = pd.DataFrame({\n",
    "    'Algorithm': algorithms,\n",
    "    'Mean Absolute Error': mae,\n",
    "    'Scenario': scenario\n",
    "},index=algorithms)"
   ]
  },
  {
   "cell_type": "code",
   "execution_count": 95,
   "metadata": {
    "colab": {
     "base_uri": "https://localhost:8080/",
     "height": 537
    },
    "colab_type": "code",
    "id": "muT41lVBZdQN",
    "outputId": "9e6cb4ed-b200-4eea-f963-f20acbb764ae"
   },
   "outputs": [
    {
     "data": {
      "image/png": "[encoded data removed]",
      "text/plain": [
       "<Figure size 1440x720 with 1 Axes>"
      ]
     },
     "metadata": {
      "needs_background": "light",
      "tags": []
     },
     "output_type": "display_data"
    }
   ],
   "source": [
    "plt.figure(figsize=(20,10))\n",
    "plt.title('Mean Absolute Error for ML Algorithms for Record Store and Full Information Scenarios')\n",
    "sns.barplot(x='Algorithm', hue='Scenario', y='Mean Absolute Error', data=results.sort_values(['Mean Absolute Error','Algorithm'],ascending=False))\n",
    "plt.show()"
   ]
  },
  {
   "cell_type": "markdown",
   "metadata": {
    "colab_type": "text",
    "id": "J8Ir2cfPeyck"
   },
   "source": [
    "From the above, we can draw the following conclusions:\n",
    "1. It is not possible, with the data on Jazz album meta-characteristics used in this project, and the machine learning algorithms we have leveraged, to accurately predict the market value of Jazz albums to an acceptable degree.\n",
    "2. The inclusion of Full Information features does not seem to make much of a difference for our most poorly performing algorithm, Random Forest, but in the case of Lienar Regression, Ridge Regression & CatBoost, which perform far better and seems to be able to leverage the given data the best, these features make a non-trivial difference in reducing the prediction error of the model."
   ]
  },
  {
   "cell_type": "markdown",
   "metadata": {
    "colab_type": "text",
    "id": "IMTHQZ9zfpUY"
   },
   "source": [
    "With respect to the first point, we refer to the following table of descriptive statistics for the ``market_value`` feature."
   ]
  },
  {
   "cell_type": "code",
   "execution_count": 96,
   "metadata": {
    "colab": {
     "base_uri": "https://localhost:8080/",
     "height": 178
    },
    "colab_type": "code",
    "id": "g8jLG3cFfz3m",
    "outputId": "275561b4-9433-4411-ff0a-344d092477de"
   },
   "outputs": [
    {
     "data": {
      "text/plain": [
       "count    161533.000000\n",
       "mean         16.871736\n",
       "std          20.021359\n",
       "min           0.010000\n",
       "25%           6.410000\n",
       "50%          10.990000\n",
       "75%          19.670000\n",
       "max         235.386631\n",
       "Name: market_value, dtype: float64"
      ]
     },
     "execution_count": 96,
     "metadata": {
      "tags": []
     },
     "output_type": "execute_result"
    }
   ],
   "source": [
    "df['market_value'].describe()"
   ]
  },
  {
   "cell_type": "markdown",
   "metadata": {
    "colab_type": "text",
    "id": "2vv_8lBRf1Zt"
   },
   "source": [
    "As we can see, ``market_value`` has a mean value of around 16.88, and a standard deviation of around 20.05. While we have been able to predict the market value of Jazz albums at a error magnitude well under the standard deviation of the dataset, this is also the case for the Dummy Regressor baseline we set as our initial benchmark, and as such this is not an indication of the quality of our models for such a noisy dataset. The failure of the algorithms we made use of to accurately predict the market value of Jazz albums is perhaps best understood through interpreting the size of the MAE in the context of a real world use case. If we assume that our best performing model is off by around 7.3 USD, given that the mean value for a record is 16.88 USD, it is clear that the model cannot truly be trusted to deliver accurate predictions of market value.\n",
    "\n",
    "While this result is not fully satisfying for a machine learning practitioner, it is not entirely unexpected, and has interesting implications. The goal of this project was to identify whether or not it is possible to accurately determine the market value of a given record, given the very noisy indicators of its so-called \"meta-characteristics\". This is the information that the patron of a record store must rely on, before deciding whether a record is worth testing out, or buying outright in stores in which no record player is available. The analysis shown in this project shows that it is virtually impossible (using modern machine learning methods, which have access to a much broader range of data than an average patron would at any point in time) to get a reliable estimation of the market value of a given record, and that 'deal-hunting' in this way is extremely difficult.\n",
    "\n",
    "\n",
    "With respect to the second point, we see that under the most sophisticated model we use in this project, CatBoost, the inclusion of the Full Information suite of features results in a substantial improvement in the performance of our algorithm, despite being short of being truly effective in predicting Jazz album market value. This performance improvement is also shown by the linear models, albeit to a lesser extent. Nonetheless, this result, and in particular the investigation of feature importances, which confirmed that features representing product demand and supply are among the most important in determining market value, shows that record store patrons are missing crucial information to be able to make an informed decision about the market value of a given album."
   ]
  },
  {
   "cell_type": "markdown",
   "metadata": {
    "colab_type": "text",
    "id": "77DbWZmrv2Dh"
   },
   "source": [
    "There are a number of ways in which this project could be extended and improved upon in future iterations:\n",
    "- Extension of the approach to all genres\n",
    "  - The focus of this project has been on the genre of Jazz, which is due to the author's own familiarity with the genre, and the long history it has as a style of recorded music. While the dataset considered in this project is fairly large, for the purposes of a Capstone project, it is still a fraction of the total number of albums that could be considered from the source used (Discogs.com). It is possible that with the inclusion of additional genres, and more data generally, better performances could be obtained.\n",
    "- Extension to other algorithms\n",
    "  - As a result of the computational and time constraints the author was operating under, only a small subset of the machine learning algorithms that could be used for this problem have been tested. It is possible, that other algorithms, such as Neural Networks (particularly TabNet, the Google-developed Neural Network architecture which is optimized for tabular data) could lead to stronger performances\n",
    "- Consideration of more in-depth market-value data\n",
    "  - As was mentioned in 01-Processing, Discogs.com offers data on all marketplace entries, not just the lowest going value on the market, which was used in this project to create our composite target feature, ``market_value``. By scraping and then investigating this data, it could be possible to get a stronger insight into how albums are valued on the supply-side, and in particular to how these valuations are related to the quality of the medium (i.e. if the album is in good condition, both physically and sonically)\n",
    "- Econometric approach\n",
    "  - While this project has focused on the prediction of ``market_value`` via the use of machine learning, an alternative approach to analyzing the data considered here is to use econometric approaches to identify the \"true\" importances of the core features. In this project, we discussed this aspect via the feature importances feature that CatBoost makes available, but this is a flawed approach in order to find what features are truly driving the determination of ``market_value``, as trained econometricians and statisticians would note\n",
    "- Augmentation of data\n",
    "  - The data considered in this project was wholly taken from the Discogs.com platform. Clearly, it would also be possible to augment the data in this study with additional data sources, such as the assessment of album quality by music critics, for example.\n",
    "- Focused analysis of the relationship between cover images and market value\n",
    "  - As we saw in our analysis, the mathematical representation of the cover images of Jazz albums provided very little value in determining their market value. However, it must be stated that further steps could possibly be taken to identify whether or not this is truly a dead end. This would require more extensive feature engineering related to the objects that appear on the image, the colors that make them up, etc. It is possible that if this attribute is focused on, certain interesting conclusions could be drawn.\n"
   ]
  }
 ],
 "metadata": {
  "accelerator": "GPU",
  "colab": {
   "machine_shape": "hm",
   "name": "03-Modelling.ipynb",
   "provenance": [],
   "toc_visible": true
  },
  "kernelspec": {
   "display_name": "Python 3",
   "language": "python",
   "name": "python3"
  },
  "language_info": {
   "codemirror_mode": {
    "name": "ipython",
    "version": 3
   },
   "file_extension": ".py",
   "mimetype": "text/x-python",
   "name": "python",
   "nbconvert_exporter": "python",
   "pygments_lexer": "ipython3",
   "version": "3.6.10"
  },
  "widgets": {
   "application/vnd.jupyter.widget-state+json": {
    "07ba2083c52b424fb536898bdf3c0dd2": {
     "model_module": "@jupyter-widgets/controls",
     "model_name": "DescriptionStyleModel",
     "state": {
      "_model_module": "@jupyter-widgets/controls",
      "_model_module_version": "1.5.0",
      "_model_name": "DescriptionStyleModel",
      "_view_count": null,
      "_view_module": "@jupyter-widgets/base",
      "_view_module_version": "1.2.0",
      "_view_name": "StyleView",
      "description_width": ""
     }
    },
    "0de437df4fa54ba6bb3e7b734662b93c": {
     "model_module": "@jupyter-widgets/controls",
     "model_name": "HTMLModel",
     "state": {
      "_dom_classes": [],
      "_model_module": "@jupyter-widgets/controls",
      "_model_module_version": "1.5.0",
      "_model_name": "HTMLModel",
      "_view_count": null,
      "_view_module": "@jupyter-widgets/controls",
      "_view_module_version": "1.5.0",
      "_view_name": "HTMLView",
      "description": "",
      "description_tooltip": null,
      "layout": "IPY_MODEL_fdb2bcd9bffa468f92b99bffd39af7e9",
      "placeholder": "​",
      "style": "IPY_MODEL_07ba2083c52b424fb536898bdf3c0dd2",
      "value": " 7/7 [00:02&lt;00:00,  2.45it/s]"
     }
    },
    "389b1a2d2f684a50a2e06cb1a7f161cf": {
     "model_module": "@jupyter-widgets/controls",
     "model_name": "HBoxModel",
     "state": {
      "_dom_classes": [],
      "_model_module": "@jupyter-widgets/controls",
      "_model_module_version": "1.5.0",
      "_model_name": "HBoxModel",
      "_view_count": null,
      "_view_module": "@jupyter-widgets/controls",
      "_view_module_version": "1.5.0",
      "_view_name": "HBoxView",
      "box_style": "",
      "children": [
       "IPY_MODEL_eebd4ea404db44b5bc3691c8ced6a89a",
       "IPY_MODEL_0de437df4fa54ba6bb3e7b734662b93c"
      ],
      "layout": "IPY_MODEL_f9804e2653b74189874dd86c5626a5ca"
     }
    },
    "6b950f69cfec49ab9322b7945ac149b7": {
     "model_module": "@jupyter-widgets/controls",
     "model_name": "ProgressStyleModel",
     "state": {
      "_model_module": "@jupyter-widgets/controls",
      "_model_module_version": "1.5.0",
      "_model_name": "ProgressStyleModel",
      "_view_count": null,
      "_view_module": "@jupyter-widgets/base",
      "_view_module_version": "1.2.0",
      "_view_name": "StyleView",
      "bar_color": null,
      "description_width": "initial"
     }
    },
    "cc441fb54d4c45a59789ff41b6009886": {
     "model_module": "@jupyter-widgets/base",
     "model_name": "LayoutModel",
     "state": {
      "_model_module": "@jupyter-widgets/base",
      "_model_module_version": "1.2.0",
      "_model_name": "LayoutModel",
      "_view_count": null,
      "_view_module": "@jupyter-widgets/base",
      "_view_module_version": "1.2.0",
      "_view_name": "LayoutView",
      "align_content": null,
      "align_items": null,
      "align_self": null,
      "border": null,
      "bottom": null,
      "display": null,
      "flex": null,
      "flex_flow": null,
      "grid_area": null,
      "grid_auto_columns": null,
      "grid_auto_flow": null,
      "grid_auto_rows": null,
      "grid_column": null,
      "grid_gap": null,
      "grid_row": null,
      "grid_template_areas": null,
      "grid_template_columns": null,
      "grid_template_rows": null,
      "height": null,
      "justify_content": null,
      "justify_items": null,
      "left": null,
      "margin": null,
      "max_height": null,
      "max_width": null,
      "min_height": null,
      "min_width": null,
      "object_fit": null,
      "object_position": null,
      "order": null,
      "overflow": null,
      "overflow_x": null,
      "overflow_y": null,
      "padding": null,
      "right": null,
      "top": null,
      "visibility": null,
      "width": null
     }
    },
    "eebd4ea404db44b5bc3691c8ced6a89a": {
     "model_module": "@jupyter-widgets/controls",
     "model_name": "FloatProgressModel",
     "state": {
      "_dom_classes": [],
      "_model_module": "@jupyter-widgets/controls",
      "_model_module_version": "1.5.0",
      "_model_name": "FloatProgressModel",
      "_view_count": null,
      "_view_module": "@jupyter-widgets/controls",
      "_view_module_version": "1.5.0",
      "_view_name": "ProgressView",
      "bar_style": "success",
      "description": "100%",
      "description_tooltip": null,
      "layout": "IPY_MODEL_cc441fb54d4c45a59789ff41b6009886",
      "max": 7,
      "min": 0,
      "orientation": "horizontal",
      "style": "IPY_MODEL_6b950f69cfec49ab9322b7945ac149b7",
      "value": 7
     }
    },
    "f9804e2653b74189874dd86c5626a5ca": {
     "model_module": "@jupyter-widgets/base",
     "model_name": "LayoutModel",
     "state": {
      "_model_module": "@jupyter-widgets/base",
      "_model_module_version": "1.2.0",
      "_model_name": "LayoutModel",
      "_view_count": null,
      "_view_module": "@jupyter-widgets/base",
      "_view_module_version": "1.2.0",
      "_view_name": "LayoutView",
      "align_content": null,
      "align_items": null,
      "align_self": null,
      "border": null,
      "bottom": null,
      "display": null,
      "flex": null,
      "flex_flow": null,
      "grid_area": null,
      "grid_auto_columns": null,
      "grid_auto_flow": null,
      "grid_auto_rows": null,
      "grid_column": null,
      "grid_gap": null,
      "grid_row": null,
      "grid_template_areas": null,
      "grid_template_columns": null,
      "grid_template_rows": null,
      "height": null,
      "justify_content": null,
      "justify_items": null,
      "left": null,
      "margin": null,
      "max_height": null,
      "max_width": null,
      "min_height": null,
      "min_width": null,
      "object_fit": null,
      "object_position": null,
      "order": null,
      "overflow": null,
      "overflow_x": null,
      "overflow_y": null,
      "padding": null,
      "right": null,
      "top": null,
      "visibility": null,
      "width": null
     }
    },
    "fdb2bcd9bffa468f92b99bffd39af7e9": {
     "model_module": "@jupyter-widgets/base",
     "model_name": "LayoutModel",
     "state": {
      "_model_module": "@jupyter-widgets/base",
      "_model_module_version": "1.2.0",
      "_model_name": "LayoutModel",
      "_view_count": null,
      "_view_module": "@jupyter-widgets/base",
      "_view_module_version": "1.2.0",
      "_view_name": "LayoutView",
      "align_content": null,
      "align_items": null,
      "align_self": null,
      "border": null,
      "bottom": null,
      "display": null,
      "flex": null,
      "flex_flow": null,
      "grid_area": null,
      "grid_auto_columns": null,
      "grid_auto_flow": null,
      "grid_auto_rows": null,
      "grid_column": null,
      "grid_gap": null,
      "grid_row": null,
      "grid_template_areas": null,
      "grid_template_columns": null,
      "grid_template_rows": null,
      "height": null,
      "justify_content": null,
      "justify_items": null,
      "left": null,
      "margin": null,
      "max_height": null,
      "max_width": null,
      "min_height": null,
      "min_width": null,
      "object_fit": null,
      "object_position": null,
      "order": null,
      "overflow": null,
      "overflow_x": null,
      "overflow_y": null,
      "padding": null,
      "right": null,
      "top": null,
      "visibility": null,
      "width": null
     }
    }
   }
  }
 },
 "nbformat": 4,
 "nbformat_minor": 4
}
