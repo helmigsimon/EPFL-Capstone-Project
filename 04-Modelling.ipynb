{
  "nbformat": 4,
  "nbformat_minor": 0,
  "metadata": {
    "accelerator": "GPU",
    "colab": {
      "name": "03-Modelling.ipynb",
      "provenance": [],
      "toc_visible": true,
      "machine_shape": "hm"
    },
    "kernelspec": {
      "display_name": "Python 3",
      "language": "python",
      "name": "python3"
    },
    "language_info": {
      "codemirror_mode": {
        "name": "ipython",
        "version": 3
      },
      "file_extension": ".py",
      "mimetype": "text/x-python",
      "name": "python",
      "nbconvert_exporter": "python",
      "pygments_lexer": "ipython3",
      "version": "3.6.10"
    }
  },
  "cells": [
    {
      "cell_type": "markdown",
      "metadata": {
        "colab_type": "text",
        "id": "buFUSHKt8apx"
      },
      "source": [
        "## 03 - Modelling"
      ]
    },
    {
      "cell_type": "markdown",
      "metadata": {
        "colab_type": "text",
        "id": "lunHqQ7B8apz"
      },
      "source": [
        "## Optional - Colab Setup"
      ]
    },
    {
      "cell_type": "code",
      "metadata": {
        "colab_type": "code",
        "id": "qQQCreB5gAR_",
        "colab": {}
      },
      "source": [
        "def upgrade_runtime_ram():\n",
        "    meminfo = subprocess.getoutput('cat /proc/meminfo').split('\\n')\n",
        "\n",
        "    memory_info = {entry.split(':')[0]: int(entry.split(':')[1].replace(' kB','').strip()) for entry in meminfo}\n",
        "\n",
        "    if memory_info['MemTotal'] > 17000000:\n",
        "        return\n",
        "\n",
        "    a = []\n",
        "    while(1):\n",
        "        a.append('1')"
      ],
      "execution_count": 0,
      "outputs": []
    },
    {
      "cell_type": "code",
      "metadata": {
        "colab_type": "code",
        "id": "waACZBi_8ap2",
        "colab": {}
      },
      "source": [
        "def restart_runtime():\n",
        "    os.kill(os.getpid(), 9)"
      ],
      "execution_count": 0,
      "outputs": []
    },
    {
      "cell_type": "code",
      "metadata": {
        "colab_type": "code",
        "id": "YIsGqbsy8aqB",
        "colab": {}
      },
      "source": [
        "def setup_rapids():\n",
        "    pynvml.nvmlInit()\n",
        "    handle = pynvml.nvmlDeviceGetHandleByIndex(0)\n",
        "    device_name = pynvml.nvmlDeviceGetName(handle)\n",
        "    if (device_name != b'Tesla T4') and (device_name != b'Tesla P4') and (device_name != b'Tesla P100-PCIE-16GB'):\n",
        "        print(\"Wrong GPU - Restarting Runtime\")\n",
        "        restart_runtime()\n",
        "\n",
        "\n",
        "    # clone RAPIDS AI rapidsai-csp-utils scripts repo\n",
        "    !git clone https://github.com/rapidsai/rapidsai-csp-utils.git\n",
        "\n",
        "    # install RAPIDS\n",
        "    !bash rapidsai-csp-utils/colab/rapids-colab.sh 0.13\n",
        "\n",
        "\n",
        "    # set necessary environment variables \n",
        "    dist_package_index = sys.path.index('/usr/local/lib/python3.6/dist-packages')\n",
        "    sys.path = sys.path[:dist_package_index] + ['/usr/local/lib/python3.6/site-packages'] + sys.path[dist_package_index:]\n",
        "    sys.path\n",
        "\n",
        "    # update pyarrow & modules \n",
        "    exec(open('rapidsai-csp-utils/colab/update_modules.py').read(), globals())"
      ],
      "execution_count": 0,
      "outputs": []
    },
    {
      "cell_type": "code",
      "metadata": {
        "colab_type": "code",
        "id": "9CcPvNIo8aqI",
        "colab": {}
      },
      "source": [
        "def setup_conda():\n",
        "    if not 'Miniconda3-4.5.4-Linux-x86_64.sh' in os.listdir():\n",
        "        !wget https://repo.continuum.io/miniconda/Miniconda3-4.5.4-Linux-x86_64.sh && bash Miniconda3-4.5.4-Linux-x86_64.sh -bfp /usr/local\n",
        "\n",
        "    if not ('EPFL-Capstone-Project' in os.listdir()) and (os.getcwd().split('/')[-1] != 'EPFL-Capstone-Project'):\n",
        "        !git clone https://github.com/helmigsimon/EPFL-Capstone-Project  \n",
        "    if 'EPFL-Capstone-Project' in os.listdir():\n",
        "        os.chdir('EPFL-Capstone-Project')\n",
        "\n",
        "    !conda env create -f environment.yml\n",
        "    !conda activate exts-ml"
      ],
      "execution_count": 0,
      "outputs": []
    },
    {
      "cell_type": "code",
      "metadata": {
        "colab_type": "code",
        "id": "WHSZ-lgE8aqP",
        "colab": {}
      },
      "source": [
        "def setup_drive():\n",
        "    #Mounting Google Drive\n",
        "    global drive\n",
        "    from google.colab import drive\n",
        "    drive.mount('/content/drive')"
      ],
      "execution_count": 0,
      "outputs": []
    },
    {
      "cell_type": "code",
      "metadata": {
        "colab_type": "code",
        "id": "N_uPJqb58aqW",
        "colab": {}
      },
      "source": [
        "try:\n",
        "    import sys,os,subprocess\n",
        "    \n",
        "    upgrade_runtime_ram()\n",
        "    setup_drive()\n",
        "\n",
        "    #Setting up PyPi Packages\n",
        "    !pip install geopandas sparse-dot-topn pdpipe category-encoders catboost\n",
        "    import geopandas as gpd\n",
        "    import sparse_dot_topn.sparse_dot_topn as ct\n",
        "    import pdpipe as pdp\n",
        "    import category_encoders\n",
        "\n",
        "    #Setting up Conda Packages\n",
        "    setup_conda()\n",
        "    \n",
        "    #Initializing NLTK\n",
        "    import nltk\n",
        "    nltk.download('stopwords')\n",
        "    nltk.download('punkt')\n",
        "    \n",
        "    #Setting up RAPIDS AI\n",
        "    import pynvml\n",
        "    setup_rapids()\n",
        "    \n",
        "    from cuml import UMAP\n",
        "    \n",
        "except ModuleNotFoundError as e:\n",
        "    print(e)\n",
        "    print('Not in colab environment, continuing to run locally')\n",
        "    from umap import UMAP"
      ],
      "execution_count": 0,
      "outputs": []
    },
    {
      "cell_type": "markdown",
      "metadata": {
        "colab_type": "text",
        "id": "Kvn45BG28aqd"
      },
      "source": [
        "## Imports"
      ]
    },
    {
      "cell_type": "code",
      "metadata": {
        "colab_type": "code",
        "id": "IRijjSry8aqf",
        "colab": {}
      },
      "source": [
        "%matplotlib inline\n",
        "import pandas as pd\n",
        "import numpy as np\n",
        "from tqdm import tqdm\n",
        "import matplotlib.pyplot as plt\n",
        "from sklearn.linear_model import SGDRegressor\n",
        "from sklearn.preprocessing import StandardScaler\n",
        "from sklearn.model_selection import GridSearchCV, train_test_split,  StratifiedKFold\n",
        "from sklearn.pipeline import Pipeline\n",
        "from sklearn.metrics import mean_absolute_error, mean_squared_error, r2_score\n",
        "tqdm.pandas()"
      ],
      "execution_count": 0,
      "outputs": []
    },
    {
      "cell_type": "code",
      "metadata": {
        "colab_type": "code",
        "id": "fEgS7UQD8aqk",
        "colab": {}
      },
      "source": [
        "from sklearn.model_selection import train_test_split\n",
        "from sklearn.impute import SimpleImputer\n",
        "from sklearn.compose import ColumnTransformer\n",
        "from sklearn.preprocessing import OneHotEncoder, FunctionTransformer\n",
        "from sklearn.model_selection import KFold\n",
        "from sklearn.dummy import DummyRegressor\n",
        "from sklearn.ensemble import RandomForestRegressor\n",
        "from sklearn.decomposition import PCA"
      ],
      "execution_count": 0,
      "outputs": []
    },
    {
      "cell_type": "code",
      "metadata": {
        "colab_type": "code",
        "id": "u5KwAwAe8aqp",
        "colab": {}
      },
      "source": [
        "from lib.transformers import *\n",
        "from lib.pipelines import *\n",
        "from lib.processing import save_to_pkl, load_from_pkl\n",
        "from lib.visualization import GridSearchPlotter\n",
        "from data.util.paths import DATA_PATH"
      ],
      "execution_count": 0,
      "outputs": []
    },
    {
      "cell_type": "code",
      "metadata": {
        "colab_type": "code",
        "id": "ixGjIOwS8aq1",
        "colab": {}
      },
      "source": [
        "from category_encoders.leave_one_out import LeaveOneOutEncoder"
      ],
      "execution_count": 0,
      "outputs": []
    },
    {
      "cell_type": "code",
      "metadata": {
        "colab_type": "code",
        "id": "X4_WNHlLW7Lt",
        "colab": {}
      },
      "source": [
        "try:\n",
        "    from cuml import LinearRegression, RandomForestRegressor, Ridge\n",
        "except ModuleNotFoundError:\n",
        "    pass"
      ],
      "execution_count": 0,
      "outputs": []
    },
    {
      "cell_type": "code",
      "metadata": {
        "colab_type": "code",
        "id": "K3Ig2yYxXIrV",
        "colab": {}
      },
      "source": [
        "from catboost import CatBoostRegressor"
      ],
      "execution_count": 0,
      "outputs": []
    },
    {
      "cell_type": "markdown",
      "metadata": {
        "colab_type": "text",
        "id": "YwJ6GSBC3Qtz"
      },
      "source": [
        "## Loading Data"
      ]
    },
    {
      "cell_type": "code",
      "metadata": {
        "colab_type": "code",
        "id": "RiNFe3gX3Qtz",
        "colab": {}
      },
      "source": [
        "metadata_df, image_embeddings_df = tuple(load_from_pkl(i,DATA_PATH) for i in ('metadata','image_embeddings'))\n",
        "df = metadata_df.merge(image_embeddings_df,how='inner',on='release_id')\n",
        "df = OutlierRemover(features=['number_of_tracks'] + [i for i in df.columns if 'umap' in i]).fit_transform(df[(df['running_time'] < 180) | (df['running_time'].isna())])"
      ],
      "execution_count": 0,
      "outputs": []
    },
    {
      "cell_type": "code",
      "metadata": {
        "id": "8-JguLVU4_kn",
        "colab_type": "code",
        "colab": {}
      },
      "source": [
        "del metadata_df, image_embeddings_df"
      ],
      "execution_count": 0,
      "outputs": []
    },
    {
      "cell_type": "code",
      "metadata": {
        "colab_type": "code",
        "id": "1hbzpOTylHCB",
        "colab": {}
      },
      "source": [
        "col_set = {\n",
        "    'format': {\n",
        "        'description': 'format_description_', \n",
        "        'name': 'format_name_', \n",
        "        'text': ('format_text_clean'),\n",
        "        'quantity': ('format_quantity')\n",
        "    },\n",
        "    'geography': {\n",
        "        'superregion': 'superregion_',\n",
        "        'region': 'region_',\n",
        "        'country': 'country_'\n",
        "    },\n",
        "    'timeperiod': {\n",
        "        'period': 'period_',\n",
        "        'era': 'era_'\n",
        "    },\n",
        "    'genre': 'genre_',\n",
        "    'style': 'style_',\n",
        "    'null': None,\n",
        "    'indicator': lambda x: x.max() == 1 and x.min() == 0,\n",
        "    'image_embedding': 'image_umap_'\n",
        "}\n",
        "column_store = ColumnStore()\n",
        "column_store.fit(df,col_set)"
      ],
      "execution_count": 0,
      "outputs": []
    },
    {
      "cell_type": "markdown",
      "metadata": {
        "colab_type": "text",
        "id": "Gz00X-1E8arN"
      },
      "source": [
        "## Preparing for Machine Learning"
      ]
    },
    {
      "cell_type": "code",
      "metadata": {
        "colab_type": "code",
        "id": "7hLwsGal8arO",
        "colab": {}
      },
      "source": [
        "X_tr, X_te, y_tr, y_te = train_test_split(df.drop('market_value',axis=1),df.market_value)"
      ],
      "execution_count": 0,
      "outputs": []
    },
    {
      "cell_type": "code",
      "metadata": {
        "colab_type": "code",
        "id": "btPvMT9ZAfi3",
        "colab": {}
      },
      "source": [
        "df_sample = pd.concat([X_tr,y_tr],axis=1).sample(frac=0.1)\n",
        "X_tr_sample = df_sample.drop('market_value',axis=1)\n",
        "y_tr_sample = df_sample['market_value']"
      ],
      "execution_count": 0,
      "outputs": []
    },
    {
      "cell_type": "code",
      "metadata": {
        "colab_type": "code",
        "id": "KHFqqLDIZ8s-",
        "colab": {}
      },
      "source": [
        "del df"
      ],
      "execution_count": 0,
      "outputs": []
    },
    {
      "cell_type": "markdown",
      "metadata": {
        "colab_type": "text",
        "id": "pk_qZ4Lu947Y"
      },
      "source": [
        "## Setting up Dummy Regression for baseline"
      ]
    },
    {
      "cell_type": "code",
      "metadata": {
        "colab_type": "code",
        "id": "tTWU4_un6lR2",
        "colab": {}
      },
      "source": [
        "dummy_regressor = DummyRegressor(strategy='mean')"
      ],
      "execution_count": 0,
      "outputs": []
    },
    {
      "cell_type": "code",
      "metadata": {
        "colab_type": "code",
        "id": "eq6ZiI7y7Rmd",
        "outputId": "e0ac1bf9-978e-41e4-99fd-f93705ccfb7f",
        "colab": {
          "base_uri": "https://localhost:8080/",
          "height": 35
        }
      },
      "source": [
        "dummy_regressor.fit(X_tr,np.log(y_tr).values)"
      ],
      "execution_count": 20,
      "outputs": [
        {
          "output_type": "execute_result",
          "data": {
            "text/plain": [
              "DummyRegressor(constant=None, quantile=None, strategy='mean')"
            ]
          },
          "metadata": {
            "tags": []
          },
          "execution_count": 20
        }
      ]
    },
    {
      "cell_type": "code",
      "metadata": {
        "colab_type": "code",
        "id": "3ET6x4I-DXWP",
        "colab": {}
      },
      "source": [
        "dummy_pred = dummy_regressor.predict(X_te)"
      ],
      "execution_count": 0,
      "outputs": []
    },
    {
      "cell_type": "code",
      "metadata": {
        "colab_type": "code",
        "id": "h-oMdqdnDUjz",
        "outputId": "5d726b4f-7a14-4e9c-903b-bdf5d5747c10",
        "colab": {
          "base_uri": "https://localhost:8080/",
          "height": 35
        }
      },
      "source": [
        "r2_score(y_te,np.exp(dummy_pred))"
      ],
      "execution_count": 22,
      "outputs": [
        {
          "output_type": "execute_result",
          "data": {
            "text/plain": [
              "-0.07991737808981703"
            ]
          },
          "metadata": {
            "tags": []
          },
          "execution_count": 22
        }
      ]
    },
    {
      "cell_type": "code",
      "metadata": {
        "colab_type": "code",
        "id": "Gw0h8_hCC4x4",
        "outputId": "b8912322-9b33-47a3-bef9-9f3624f9ed73",
        "colab": {
          "base_uri": "https://localhost:8080/",
          "height": 35
        }
      },
      "source": [
        "mean_absolute_error(y_te,np.exp(dummy_pred))"
      ],
      "execution_count": 23,
      "outputs": [
        {
          "output_type": "execute_result",
          "data": {
            "text/plain": [
              "10.57154569276055"
            ]
          },
          "metadata": {
            "tags": []
          },
          "execution_count": 23
        }
      ]
    },
    {
      "cell_type": "markdown",
      "metadata": {
        "colab_type": "text",
        "id": "DYJYPpPP-AaC"
      },
      "source": [
        "## Linear Regression - Record Store"
      ]
    },
    {
      "cell_type": "code",
      "metadata": {
        "id": "jdZPu4pjGtE8",
        "colab_type": "code",
        "colab": {}
      },
      "source": [
        "from sklearn.preprocessing import RobustScaler\n",
        "from sklearn.preprocessing import MinMaxScaler"
      ],
      "execution_count": 0,
      "outputs": []
    },
    {
      "cell_type": "code",
      "metadata": {
        "colab_type": "code",
        "id": "WCI8WWUu8ard",
        "colab": {}
      },
      "source": [
        "record_store_lr_transformer = ColumnTransformer(transformers=[\n",
        "    ('year_encoder', OneHotEncoder(dtype=np.uint8,handle_unknown='ignore'), ['year'])\n",
        "], remainder='passthrough')"
      ],
      "execution_count": 0,
      "outputs": []
    },
    {
      "cell_type": "code",
      "metadata": {
        "colab_type": "code",
        "id": "AZHfrogk8arh",
        "colab": {}
      },
      "source": [
        "record_store_lr_removal_columns = set([\n",
        "    'market_price','units_for_sale','have','want','average_rating','rating_count','last_sold','lowest','median',\n",
        "    'highest','track_titles','country','genre','style','community_have','community_want','formats','thumb_url',\n",
        "    'release_url','format_description','days_since_last_sale','title', 'release_id'\n",
        "])"
      ],
      "execution_count": 0,
      "outputs": []
    },
    {
      "cell_type": "code",
      "metadata": {
        "colab_type": "code",
        "id": "sRH_P30fEM-W",
        "colab": {}
      },
      "source": [
        "record_store_lr_processing = Pipeline([\n",
        "    ('running_time_imputer',RunningTimeImputer('running_time','number_of_tracks')),\n",
        "    ('leave_one_out_encoding', LeaveOneOutEncoder(cols=['artist','label','format_text','master_id','format_name'])),\n",
        "    ('record_store_column_remover', ColumnRemover(record_store_lr_removal_columns)),\n",
        "    ('preprocessing',record_store_lr_transformer),\n",
        "    ('scaler', RobustScaler()),                             \n",
        "])\n",
        "\n",
        "record_store_lr_pipe = Pipeline([\n",
        "    ('processing', record_store_lr_processing),\n",
        "    ('lr', GridSearchCV(\n",
        "        LinearRegression(),\n",
        "        param_grid={\n",
        "            'normalize':[False,True]\n",
        "        },\n",
        "        cv=KFold(n_splits=5,shuffle=True),\n",
        "        scoring='neg_mean_absolute_error',\n",
        "        verbose=5,\n",
        "        n_jobs=-1,\n",
        "    ))\n",
        "])"
      ],
      "execution_count": 0,
      "outputs": []
    },
    {
      "cell_type": "code",
      "metadata": {
        "colab_type": "code",
        "id": "s9AtCvkCEM4u",
        "outputId": "218b3e52-1ace-4eed-a791-721470fc6d27",
        "colab": {
          "base_uri": "https://localhost:8080/",
          "height": 501
        }
      },
      "source": [
        "record_store_lr_pipe.fit(X_tr,np.log(y_tr).values)"
      ],
      "execution_count": 28,
      "outputs": [
        {
          "output_type": "stream",
          "text": [
            "Fitting 5 folds for each of 2 candidates, totalling 10 fits\n"
          ],
          "name": "stdout"
        },
        {
          "output_type": "stream",
          "text": [
            "[Parallel(n_jobs=-1)]: Using backend LokyBackend with 4 concurrent workers.\n",
            "[Parallel(n_jobs=-1)]: Done   6 out of  10 | elapsed:   17.5s remaining:   11.7s\n",
            "[Parallel(n_jobs=-1)]: Done  10 out of  10 | elapsed:   18.8s finished\n",
            "/usr/local/lib/python3.6/site-packages/cuml/utils/input_utils.py:188: UserWarning: Expected column ('F') major order, but got the opposite. Converting data, this will result in additional memory utilization.\n",
            "  warnings.warn(\"Expected \" + order_to_str(order) + \" major order, \"\n"
          ],
          "name": "stderr"
        },
        {
          "output_type": "execute_result",
          "data": {
            "text/plain": [
              "Pipeline(memory=None,\n",
              "         steps=[('processing',\n",
              "                 Pipeline(memory=None,\n",
              "                          steps=[('running_time_imputer',\n",
              "                                  RunningTimeImputer(number_of_tracks='number_of_tracks',\n",
              "                                                     running_time='running_time')),\n",
              "                                 ('leave_one_out_encoding',\n",
              "                                  LeaveOneOutEncoder(cols=['artist', 'label',\n",
              "                                                           'format_text',\n",
              "                                                           'master_id',\n",
              "                                                           'format_name'],\n",
              "                                                     drop_invariant=False,\n",
              "                                                     handle_missing='value',\n",
              "                                                     handle_unknown='va...\n",
              "                              estimator=LinearRegression(algorithm='eig', fit_intercept=True, normalize=False, handle=<cuml.common.handle.Handle object at 0x7f4f480dd1d0>, verbose=False, output_type='input'),\n",
              "                              iid='deprecated', n_jobs=-1,\n",
              "                              param_grid={'normalize': [False, True]},\n",
              "                              pre_dispatch='2*n_jobs', refit=True,\n",
              "                              return_train_score=False,\n",
              "                              scoring='neg_mean_absolute_error', verbose=5))],\n",
              "         verbose=False)"
            ]
          },
          "metadata": {
            "tags": []
          },
          "execution_count": 28
        }
      ]
    },
    {
      "cell_type": "code",
      "metadata": {
        "colab_type": "code",
        "id": "bVqYCgf9EMzZ",
        "outputId": "8528f911-4155-4f1c-b3cc-0bb6106b7f23",
        "colab": {
          "base_uri": "https://localhost:8080/",
          "height": 35
        }
      },
      "source": [
        "record_store_lr_pipe['lr'].best_score_"
      ],
      "execution_count": 29,
      "outputs": [
        {
          "output_type": "execute_result",
          "data": {
            "text/plain": [
              "-0.5720429551900099"
            ]
          },
          "metadata": {
            "tags": []
          },
          "execution_count": 29
        }
      ]
    },
    {
      "cell_type": "code",
      "metadata": {
        "colab_type": "code",
        "id": "W6IhcYpqEMuK",
        "outputId": "e314bd23-4611-4efe-dba4-e801d8b108a6",
        "colab": {
          "base_uri": "https://localhost:8080/",
          "height": 53
        }
      },
      "source": [
        "record_store_lr_pred = record_store_lr_pipe.predict(X_te)"
      ],
      "execution_count": 30,
      "outputs": [
        {
          "output_type": "stream",
          "text": [
            "/usr/local/lib/python3.6/site-packages/cuml/utils/input_utils.py:188: UserWarning: Expected column ('F') major order, but got the opposite. Converting data, this will result in additional memory utilization.\n",
            "  warnings.warn(\"Expected \" + order_to_str(order) + \" major order, \"\n"
          ],
          "name": "stderr"
        }
      ]
    },
    {
      "cell_type": "code",
      "metadata": {
        "colab_type": "code",
        "id": "IVdPIxrzEMoC",
        "outputId": "3e73eea3-a84e-4e19-cfc3-c700d640624f",
        "colab": {
          "base_uri": "https://localhost:8080/",
          "height": 35
        }
      },
      "source": [
        "r2_score(y_te,np.exp(record_store_lr_pred))"
      ],
      "execution_count": 31,
      "outputs": [
        {
          "output_type": "execute_result",
          "data": {
            "text/plain": [
              "0.0972992763524495"
            ]
          },
          "metadata": {
            "tags": []
          },
          "execution_count": 31
        }
      ]
    },
    {
      "cell_type": "code",
      "metadata": {
        "colab_type": "code",
        "id": "opzrKU8LE5DR",
        "outputId": "0fab6eb1-3cf6-4362-b468-ea5adf8d1b67",
        "colab": {
          "base_uri": "https://localhost:8080/",
          "height": 35
        }
      },
      "source": [
        "mean_absolute_error(y_te,np.exp(record_store_lr_pred))"
      ],
      "execution_count": 32,
      "outputs": [
        {
          "output_type": "execute_result",
          "data": {
            "text/plain": [
              "8.620359544627519"
            ]
          },
          "metadata": {
            "tags": []
          },
          "execution_count": 32
        }
      ]
    },
    {
      "cell_type": "markdown",
      "metadata": {
        "id": "JwtgnOdrk1hP",
        "colab_type": "text"
      },
      "source": [
        "## Linear Regression - Full Information"
      ]
    },
    {
      "cell_type": "code",
      "metadata": {
        "id": "2ujcQMHOk1hQ",
        "colab_type": "code",
        "colab": {}
      },
      "source": [
        "full_information_lr_transformer = ColumnTransformer(transformers=[\n",
        "    ('units_for_sale_imputer', SimpleImputer(strategy='constant',fill_value=0),['units_for_sale']),\n",
        "    ('average_rating_imputer', SimpleImputer(strategy='mean'),['average_rating']),\n",
        "    ('year_encoder', OneHotEncoder(dtype=np.uint8,handle_unknown='ignore'), ['year'])\n",
        "], remainder='passthrough')"
      ],
      "execution_count": 0,
      "outputs": []
    },
    {
      "cell_type": "code",
      "metadata": {
        "id": "p8irOAHLk1hU",
        "colab_type": "code",
        "colab": {}
      },
      "source": [
        "full_information_columns = set([\n",
        "    'units_for_sale','community_have','community_want','average_rating','rating_count'\n",
        "])\n",
        "full_information_lr_removal_columns = record_store_lr_removal_columns - full_information_columns"
      ],
      "execution_count": 0,
      "outputs": []
    },
    {
      "cell_type": "code",
      "metadata": {
        "id": "lddHv-fzk1hX",
        "colab_type": "code",
        "colab": {}
      },
      "source": [
        "full_information_lr_pipe = Pipeline([\n",
        "    ('running_time_imputer',RunningTimeImputer('running_time','number_of_tracks')),\n",
        "    ('leave_one_out_encoding', LeaveOneOutEncoder(cols=['artist','label','format_text','master_id','format_name'])),\n",
        "    ('record_store_column_remover', ColumnRemover(full_information_lr_removal_columns)),\n",
        "    ('preprocessing',full_information_lr_transformer),\n",
        "    ('scaler', RobustScaler()),\n",
        "    ('lr', GridSearchCV(\n",
        "        LinearRegression(),\n",
        "        param_grid={\n",
        "            'normalize':[False,True]\n",
        "        },\n",
        "        cv=KFold(n_splits=5,shuffle=True),\n",
        "        scoring='neg_mean_absolute_error',\n",
        "        verbose=5,\n",
        "        n_jobs=-1,\n",
        "    ))\n",
        "])"
      ],
      "execution_count": 0,
      "outputs": []
    },
    {
      "cell_type": "code",
      "metadata": {
        "colab_type": "code",
        "outputId": "ae129a50-c398-4235-ba1f-02c730d26754",
        "id": "GIxWE4WUk1hb",
        "colab": {
          "base_uri": "https://localhost:8080/",
          "height": 447
        }
      },
      "source": [
        "full_information_lr_pipe.fit(X_tr,np.log(y_tr).values)"
      ],
      "execution_count": 36,
      "outputs": [
        {
          "output_type": "stream",
          "text": [
            "Fitting 5 folds for each of 2 candidates, totalling 10 fits\n"
          ],
          "name": "stdout"
        },
        {
          "output_type": "stream",
          "text": [
            "[Parallel(n_jobs=-1)]: Using backend LokyBackend with 4 concurrent workers.\n",
            "[Parallel(n_jobs=-1)]: Done   6 out of  10 | elapsed:    6.0s remaining:    4.0s\n",
            "[Parallel(n_jobs=-1)]: Done  10 out of  10 | elapsed:    7.8s finished\n",
            "/usr/local/lib/python3.6/site-packages/cuml/utils/input_utils.py:188: UserWarning: Expected column ('F') major order, but got the opposite. Converting data, this will result in additional memory utilization.\n",
            "  warnings.warn(\"Expected \" + order_to_str(order) + \" major order, \"\n"
          ],
          "name": "stderr"
        },
        {
          "output_type": "execute_result",
          "data": {
            "text/plain": [
              "Pipeline(memory=None,\n",
              "         steps=[('running_time_imputer',\n",
              "                 RunningTimeImputer(number_of_tracks='number_of_tracks',\n",
              "                                    running_time='running_time')),\n",
              "                ('leave_one_out_encoding',\n",
              "                 LeaveOneOutEncoder(cols=['artist', 'label', 'format_text',\n",
              "                                          'master_id', 'format_name'],\n",
              "                                    drop_invariant=False,\n",
              "                                    handle_missing='value',\n",
              "                                    handle_unknown='value', random_state=None,\n",
              "                                    return_df=True, sigm...\n",
              "                              estimator=LinearRegression(algorithm='eig', fit_intercept=True, normalize=False, handle=<cuml.common.handle.Handle object at 0x7f4f5ccb23b0>, verbose=False, output_type='input'),\n",
              "                              iid='deprecated', n_jobs=-1,\n",
              "                              param_grid={'normalize': [False, True]},\n",
              "                              pre_dispatch='2*n_jobs', refit=True,\n",
              "                              return_train_score=False,\n",
              "                              scoring='neg_mean_absolute_error', verbose=5))],\n",
              "         verbose=False)"
            ]
          },
          "metadata": {
            "tags": []
          },
          "execution_count": 36
        }
      ]
    },
    {
      "cell_type": "code",
      "metadata": {
        "colab_type": "code",
        "outputId": "d3991b7e-4b5a-410e-ff5b-f583d54b9a5f",
        "id": "zK4yVrywk1hf",
        "colab": {
          "base_uri": "https://localhost:8080/",
          "height": 35
        }
      },
      "source": [
        "full_information_lr_pipe['lr'].best_score_"
      ],
      "execution_count": 37,
      "outputs": [
        {
          "output_type": "execute_result",
          "data": {
            "text/plain": [
              "-0.5114643737095746"
            ]
          },
          "metadata": {
            "tags": []
          },
          "execution_count": 37
        }
      ]
    },
    {
      "cell_type": "code",
      "metadata": {
        "colab_type": "code",
        "outputId": "cb6d4db1-c97f-4824-c608-1778d2557218",
        "id": "lK9EGfANk1hk",
        "colab": {
          "base_uri": "https://localhost:8080/",
          "height": 53
        }
      },
      "source": [
        "full_information_lr_pred = record_store_lr_pipe.predict(X_te)"
      ],
      "execution_count": 38,
      "outputs": [
        {
          "output_type": "stream",
          "text": [
            "/usr/local/lib/python3.6/site-packages/cuml/utils/input_utils.py:188: UserWarning: Expected column ('F') major order, but got the opposite. Converting data, this will result in additional memory utilization.\n",
            "  warnings.warn(\"Expected \" + order_to_str(order) + \" major order, \"\n"
          ],
          "name": "stderr"
        }
      ]
    },
    {
      "cell_type": "code",
      "metadata": {
        "colab_type": "code",
        "outputId": "b12de61c-c881-4154-b523-2c94145aa2ae",
        "id": "lSQPebt_k1hm",
        "colab": {
          "base_uri": "https://localhost:8080/",
          "height": 35
        }
      },
      "source": [
        "r2_score(y_te,np.exp(full_information_lr_pred))"
      ],
      "execution_count": 39,
      "outputs": [
        {
          "output_type": "execute_result",
          "data": {
            "text/plain": [
              "0.0972992763524495"
            ]
          },
          "metadata": {
            "tags": []
          },
          "execution_count": 39
        }
      ]
    },
    {
      "cell_type": "code",
      "metadata": {
        "colab_type": "code",
        "outputId": "b8d9a8da-999f-4164-ef0d-bc6cbc2400fe",
        "id": "sHCTKQZhk1hq",
        "colab": {
          "base_uri": "https://localhost:8080/",
          "height": 35
        }
      },
      "source": [
        "mean_absolute_error(y_te,np.exp(full_information_lr_pred))"
      ],
      "execution_count": 40,
      "outputs": [
        {
          "output_type": "execute_result",
          "data": {
            "text/plain": [
              "8.620359544627519"
            ]
          },
          "metadata": {
            "tags": []
          },
          "execution_count": 40
        }
      ]
    },
    {
      "cell_type": "markdown",
      "metadata": {
        "id": "ultNKJlHk1ht",
        "colab_type": "text"
      },
      "source": [
        "## Lasso Regression - Record Store"
      ]
    },
    {
      "cell_type": "markdown",
      "metadata": {
        "id": "BeRH6I5Mk1ht",
        "colab_type": "text"
      },
      "source": [
        "## Lasso Regression - Full Information"
      ]
    },
    {
      "cell_type": "markdown",
      "metadata": {
        "id": "Qr2uI56yk1hu",
        "colab_type": "text"
      },
      "source": [
        "## Ridge Regression - Record Store"
      ]
    },
    {
      "cell_type": "code",
      "metadata": {
        "id": "2naE4XOKk1hv",
        "colab_type": "code",
        "colab": {}
      },
      "source": [
        "record_store_ridge_removal_columns, record_store_ridge_transformer, full_information_ridge_removal_columns, full_information_ridge_transformer = (\n",
        "    record_store_lr_removal_columns,\n",
        "    record_store_lr_transformer,\n",
        "    full_information_lr_removal_columns,\n",
        "    full_information_lr_transformer\n",
        ")"
      ],
      "execution_count": 0,
      "outputs": []
    },
    {
      "cell_type": "code",
      "metadata": {
        "colab_type": "code",
        "id": "BP1pxaQ18arp",
        "colab": {}
      },
      "source": [
        "record_store_ridge_pipe = Pipeline([\n",
        "    ('running_time_imputer',RunningTimeImputer('running_time','number_of_tracks')),\n",
        "    ('leave_one_out_encoding', LeaveOneOutEncoder(cols=['artist','label','format_text','format_name','master_id'])),\n",
        "    ('record_store_column_remover', ColumnRemover(record_store_ridge_removal_columns)),\n",
        "    ('preprocessing',record_store_ridge_transformer),\n",
        "    ('scaler', RobustScaler()),\n",
        "    ('ridge', GridSearchCV(\n",
        "        Ridge(normalize=False,solver='eig'),\n",
        "        param_grid={\n",
        "            'alpha': np.linspace(1e-3,1e3,10),\n",
        "        },\n",
        "        cv=KFold(n_splits=5,shuffle=True),\n",
        "        scoring='neg_mean_absolute_error',\n",
        "        verbose=5,\n",
        "        n_jobs=-1,\n",
        "        return_train_score=True\n",
        "    ))\n",
        "])"
      ],
      "execution_count": 0,
      "outputs": []
    },
    {
      "cell_type": "code",
      "metadata": {
        "colab_type": "code",
        "id": "edNLg2KryH4q",
        "outputId": "853a8bde-1f64-4251-997b-ba4337015526",
        "colab": {
          "base_uri": "https://localhost:8080/",
          "height": 501
        }
      },
      "source": [
        "record_store_ridge_pipe.fit(X_tr,np.log(y_tr).values)"
      ],
      "execution_count": 43,
      "outputs": [
        {
          "output_type": "stream",
          "text": [
            "Fitting 5 folds for each of 10 candidates, totalling 50 fits\n"
          ],
          "name": "stdout"
        },
        {
          "output_type": "stream",
          "text": [
            "[Parallel(n_jobs=-1)]: Using backend LokyBackend with 4 concurrent workers.\n",
            "[Parallel(n_jobs=-1)]: Done  10 tasks      | elapsed:    9.3s\n",
            "/usr/local/lib/python3.6/dist-packages/joblib/externals/loky/process_executor.py:706: UserWarning: A worker stopped while some jobs were given to the executor. This can be caused by a too short worker timeout or by a memory leak.\n",
            "  \"timeout or by a memory leak.\", UserWarning\n",
            "[Parallel(n_jobs=-1)]: Done  50 out of  50 | elapsed:   37.4s finished\n",
            "/usr/local/lib/python3.6/site-packages/cuml/utils/input_utils.py:188: UserWarning: Expected column ('F') major order, but got the opposite. Converting data, this will result in additional memory utilization.\n",
            "  warnings.warn(\"Expected \" + order_to_str(order) + \" major order, \"\n"
          ],
          "name": "stderr"
        },
        {
          "output_type": "execute_result",
          "data": {
            "text/plain": [
              "Pipeline(memory=None,\n",
              "         steps=[('running_time_imputer',\n",
              "                 RunningTimeImputer(number_of_tracks='number_of_tracks',\n",
              "                                    running_time='running_time')),\n",
              "                ('leave_one_out_encoding',\n",
              "                 LeaveOneOutEncoder(cols=['artist', 'label', 'format_text',\n",
              "                                          'format_name', 'master_id'],\n",
              "                                    drop_invariant=False,\n",
              "                                    handle_missing='value',\n",
              "                                    handle_unknown='value', random_state=None,\n",
              "                                    return_df=True, sigm...\n",
              "                              estimator=Ridge(alpha=1.0, solver='eig', fit_intercept=True, normalize=False, handle=<cuml.common.handle.Handle object at 0x7f4f4a9f3a50>, output_type='input'),\n",
              "                              iid='deprecated', n_jobs=-1,\n",
              "                              param_grid={'alpha': array([1.00000e-03, 1.11112e+02, 2.22223e+02, 3.33334e+02, 4.44445e+02,\n",
              "       5.55556e+02, 6.66667e+02, 7.77778e+02, 8.88889e+02, 1.00000e+03])},\n",
              "                              pre_dispatch='2*n_jobs', refit=True,\n",
              "                              return_train_score=True,\n",
              "                              scoring='neg_mean_absolute_error', verbose=5))],\n",
              "         verbose=False)"
            ]
          },
          "metadata": {
            "tags": []
          },
          "execution_count": 43
        }
      ]
    },
    {
      "cell_type": "code",
      "metadata": {
        "colab_type": "code",
        "id": "z7tlJO3u-Tl4",
        "colab": {}
      },
      "source": [
        "plotter = GridSearchPlotter(record_store_ridge_pipe['ridge'])"
      ],
      "execution_count": 0,
      "outputs": []
    },
    {
      "cell_type": "code",
      "metadata": {
        "colab_type": "code",
        "id": "jla1YIhr-TgT",
        "outputId": "187ab6c9-e99a-42a6-a5f7-3cc87eec62c7",
        "colab": {
          "base_uri": "https://localhost:8080/",
          "height": 295
        }
      },
      "source": [
        "plotter.plot_validation_curve(parameter='alpha',ylim=(-0.75,-0.25))"
      ],
      "execution_count": 45,
      "outputs": [
        {
          "output_type": "display_data",
          "data": {
            "image/png": "[encoded data removed]",
            "text/plain": [
              "<Figure size 432x288 with 1 Axes>"
            ]
          },
          "metadata": {
            "tags": [],
            "needs_background": "light"
          }
        }
      ]
    },
    {
      "cell_type": "code",
      "metadata": {
        "colab_type": "code",
        "id": "cxR9zl4f-hk9",
        "outputId": "05a4bc38-b205-4f88-e5dc-1b43859c7035",
        "colab": {
          "base_uri": "https://localhost:8080/",
          "height": 35
        }
      },
      "source": [
        "record_store_ridge_pipe['ridge'].best_score_"
      ],
      "execution_count": 46,
      "outputs": [
        {
          "output_type": "execute_result",
          "data": {
            "text/plain": [
              "-0.5288410589336794"
            ]
          },
          "metadata": {
            "tags": []
          },
          "execution_count": 46
        }
      ]
    },
    {
      "cell_type": "code",
      "metadata": {
        "colab_type": "code",
        "id": "cbV-3Q9A0-hi",
        "outputId": "cf6b79fe-70a1-4af8-93c6-42c87d52d607",
        "colab": {
          "base_uri": "https://localhost:8080/",
          "height": 35
        }
      },
      "source": [
        "record_store_ridge_pipe['ridge'].best_params_"
      ],
      "execution_count": 47,
      "outputs": [
        {
          "output_type": "execute_result",
          "data": {
            "text/plain": [
              "{'alpha': 111.11200000000001}"
            ]
          },
          "metadata": {
            "tags": []
          },
          "execution_count": 47
        }
      ]
    },
    {
      "cell_type": "code",
      "metadata": {
        "colab_type": "code",
        "id": "db1qMG0e8ar7",
        "outputId": "5ce24509-0853-49ea-f89e-95d662c7beb1",
        "colab": {
          "base_uri": "https://localhost:8080/",
          "height": 53
        }
      },
      "source": [
        "record_store_ridge_pred = record_store_ridge_pipe.predict(X_te)"
      ],
      "execution_count": 48,
      "outputs": [
        {
          "output_type": "stream",
          "text": [
            "/usr/local/lib/python3.6/site-packages/cuml/utils/input_utils.py:188: UserWarning: Expected column ('F') major order, but got the opposite. Converting data, this will result in additional memory utilization.\n",
            "  warnings.warn(\"Expected \" + order_to_str(order) + \" major order, \"\n"
          ],
          "name": "stderr"
        }
      ]
    },
    {
      "cell_type": "code",
      "metadata": {
        "colab_type": "code",
        "id": "GsQHxrUE8ar-",
        "outputId": "f60570ec-abe0-44fd-d6b9-4f9f63d2468e",
        "colab": {
          "base_uri": "https://localhost:8080/",
          "height": 35
        }
      },
      "source": [
        "r2_score(y_te,np.exp(record_store_ridge_pred))"
      ],
      "execution_count": 49,
      "outputs": [
        {
          "output_type": "execute_result",
          "data": {
            "text/plain": [
              "0.15918522237804833"
            ]
          },
          "metadata": {
            "tags": []
          },
          "execution_count": 49
        }
      ]
    },
    {
      "cell_type": "code",
      "metadata": {
        "colab_type": "code",
        "id": "9oKBWYEo8asD",
        "outputId": "098414ed-81fb-4db2-d800-b4b57cd5b887",
        "colab": {
          "base_uri": "https://localhost:8080/",
          "height": 35
        }
      },
      "source": [
        "mean_absolute_error(y_te,np.exp(record_store_ridge_pred))"
      ],
      "execution_count": 50,
      "outputs": [
        {
          "output_type": "execute_result",
          "data": {
            "text/plain": [
              "8.59614836121766"
            ]
          },
          "metadata": {
            "tags": []
          },
          "execution_count": 50
        }
      ]
    },
    {
      "cell_type": "markdown",
      "metadata": {
        "id": "Cnmd7rIWk1iS",
        "colab_type": "text"
      },
      "source": [
        "## Ridge - Full Information"
      ]
    },
    {
      "cell_type": "code",
      "metadata": {
        "id": "Rlb1Z8CEk1iT",
        "colab_type": "code",
        "colab": {}
      },
      "source": [
        "full_information_ridge_pipe = Pipeline([\n",
        "    ('running_time_imputer',RunningTimeImputer('running_time','number_of_tracks')),\n",
        "    ('leave_one_out_encoding', LeaveOneOutEncoder(cols=['artist','label','format_text','format_name','master_id'])),\n",
        "    ('record_store_column_remover', ColumnRemover(full_information_ridge_removal_columns)),\n",
        "    ('preprocessing',full_information_ridge_transformer),\n",
        "    ('scaler', StandardScaler()),\n",
        "    ('ridge', GridSearchCV(\n",
        "        Ridge(normalize=False,solver='eig'),\n",
        "        param_grid={\n",
        "            'alpha': np.logspace(-3,3,10),\n",
        "        },\n",
        "        cv=KFold(n_splits=5,shuffle=True),\n",
        "        scoring='neg_mean_absolute_error',\n",
        "        verbose=5,\n",
        "        n_jobs=-1,\n",
        "        return_train_score=True\n",
        "    ))\n",
        "])"
      ],
      "execution_count": 0,
      "outputs": []
    },
    {
      "cell_type": "code",
      "metadata": {
        "colab_type": "code",
        "outputId": "f3146566-b603-4e0c-e22f-194d2e89b8ca",
        "id": "6CSH5O1jk1iX",
        "colab": {
          "base_uri": "https://localhost:8080/",
          "height": 519
        }
      },
      "source": [
        "full_information_ridge_pipe.fit(X_tr,np.log(y_tr).values)"
      ],
      "execution_count": 71,
      "outputs": [
        {
          "output_type": "stream",
          "text": [
            "Fitting 5 folds for each of 10 candidates, totalling 50 fits\n"
          ],
          "name": "stdout"
        },
        {
          "output_type": "stream",
          "text": [
            "[Parallel(n_jobs=-1)]: Using backend LokyBackend with 4 concurrent workers.\n",
            "/usr/local/lib/python3.6/dist-packages/joblib/externals/loky/process_executor.py:706: UserWarning: A worker stopped while some jobs were given to the executor. This can be caused by a too short worker timeout or by a memory leak.\n",
            "  \"timeout or by a memory leak.\", UserWarning\n",
            "[Parallel(n_jobs=-1)]: Done  10 tasks      | elapsed:   15.7s\n",
            "[Parallel(n_jobs=-1)]: Done  50 out of  50 | elapsed:   41.6s finished\n",
            "/usr/local/lib/python3.6/site-packages/cuml/utils/input_utils.py:188: UserWarning: Expected column ('F') major order, but got the opposite. Converting data, this will result in additional memory utilization.\n",
            "  warnings.warn(\"Expected \" + order_to_str(order) + \" major order, \"\n"
          ],
          "name": "stderr"
        },
        {
          "output_type": "execute_result",
          "data": {
            "text/plain": [
              "Pipeline(memory=None,\n",
              "         steps=[('running_time_imputer',\n",
              "                 RunningTimeImputer(number_of_tracks='number_of_tracks',\n",
              "                                    running_time='running_time')),\n",
              "                ('leave_one_out_encoding',\n",
              "                 LeaveOneOutEncoder(cols=['artist', 'label', 'format_text',\n",
              "                                          'format_name', 'master_id'],\n",
              "                                    drop_invariant=False,\n",
              "                                    handle_missing='value',\n",
              "                                    handle_unknown='value', random_state=None,\n",
              "                                    return_df=True, sigm...\n",
              "                              estimator=Ridge(alpha=1.0, solver='eig', fit_intercept=True, normalize=False, handle=<cuml.common.handle.Handle object at 0x7f4f5ccc11f0>, output_type='input'),\n",
              "                              iid='deprecated', n_jobs=-1,\n",
              "                              param_grid={'alpha': array([1.00000000e-03, 4.64158883e-03, 2.15443469e-02, 1.00000000e-01,\n",
              "       4.64158883e-01, 2.15443469e+00, 1.00000000e+01, 4.64158883e+01,\n",
              "       2.15443469e+02, 1.00000000e+03])},\n",
              "                              pre_dispatch='2*n_jobs', refit=True,\n",
              "                              return_train_score=True,\n",
              "                              scoring='neg_mean_absolute_error', verbose=5))],\n",
              "         verbose=False)"
            ]
          },
          "metadata": {
            "tags": []
          },
          "execution_count": 71
        }
      ]
    },
    {
      "cell_type": "code",
      "metadata": {
        "colab_type": "code",
        "id": "yGvB5HQEk1ib",
        "colab": {}
      },
      "source": [
        "plotter = GridSearchPlotter(full_information_ridge_pipe['ridge'])"
      ],
      "execution_count": 0,
      "outputs": []
    },
    {
      "cell_type": "code",
      "metadata": {
        "colab_type": "code",
        "outputId": "6be139bb-2fb1-457c-9d6b-faa8ec57e7b1",
        "id": "FALIex5Ak1ie",
        "colab": {
          "base_uri": "https://localhost:8080/",
          "height": 295
        }
      },
      "source": [
        "plotter.plot_validation_curve(parameter='alpha',ylim=(-0.75,-0.25))"
      ],
      "execution_count": 73,
      "outputs": [
        {
          "output_type": "display_data",
          "data": {
            "image/png": "[encoded data removed]",
            "text/plain": [
              "<Figure size 432x288 with 1 Axes>"
            ]
          },
          "metadata": {
            "tags": [],
            "needs_background": "light"
          }
        }
      ]
    },
    {
      "cell_type": "code",
      "metadata": {
        "colab_type": "code",
        "outputId": "d8089ca9-6f17-4d17-86b8-cdb40263f0a3",
        "id": "JFbucWgVk1ih",
        "colab": {
          "base_uri": "https://localhost:8080/",
          "height": 35
        }
      },
      "source": [
        "full_information_ridge_pipe['ridge'].best_score_"
      ],
      "execution_count": 74,
      "outputs": [
        {
          "output_type": "execute_result",
          "data": {
            "text/plain": [
              "-0.4970954883637084"
            ]
          },
          "metadata": {
            "tags": []
          },
          "execution_count": 74
        }
      ]
    },
    {
      "cell_type": "code",
      "metadata": {
        "colab_type": "code",
        "outputId": "ef8cedc1-2876-4bf7-e589-969806260a09",
        "id": "DmY50t1kk1iz",
        "colab": {
          "base_uri": "https://localhost:8080/",
          "height": 35
        }
      },
      "source": [
        "full_information_ridge_pipe['ridge'].best_params_"
      ],
      "execution_count": 75,
      "outputs": [
        {
          "output_type": "execute_result",
          "data": {
            "text/plain": [
              "{'alpha': 10.0}"
            ]
          },
          "metadata": {
            "tags": []
          },
          "execution_count": 75
        }
      ]
    },
    {
      "cell_type": "code",
      "metadata": {
        "colab_type": "code",
        "outputId": "cca1975d-fdf9-429a-fea9-ed828f115067",
        "id": "IPsBz9Yhk1i1",
        "colab": {
          "base_uri": "https://localhost:8080/",
          "height": 53
        }
      },
      "source": [
        "full_information_ridge_pred = full_information_ridge_pipe.predict(X_te)"
      ],
      "execution_count": 76,
      "outputs": [
        {
          "output_type": "stream",
          "text": [
            "/usr/local/lib/python3.6/site-packages/cuml/utils/input_utils.py:188: UserWarning: Expected column ('F') major order, but got the opposite. Converting data, this will result in additional memory utilization.\n",
            "  warnings.warn(\"Expected \" + order_to_str(order) + \" major order, \"\n"
          ],
          "name": "stderr"
        }
      ]
    },
    {
      "cell_type": "code",
      "metadata": {
        "colab_type": "code",
        "outputId": "be8323e1-8ec1-4a85-eeda-70b709ed6c42",
        "id": "KfoM7GS6k1i4",
        "colab": {
          "base_uri": "https://localhost:8080/",
          "height": 35
        }
      },
      "source": [
        "r2_score(y_te,np.exp(full_information_ridge_pred))"
      ],
      "execution_count": 77,
      "outputs": [
        {
          "output_type": "execute_result",
          "data": {
            "text/plain": [
              "-5.68611893017056"
            ]
          },
          "metadata": {
            "tags": []
          },
          "execution_count": 77
        }
      ]
    },
    {
      "cell_type": "code",
      "metadata": {
        "colab_type": "code",
        "outputId": "29aebce8-fda0-4ead-83fb-8242836c2290",
        "id": "uNXNcesPk1i6",
        "colab": {
          "base_uri": "https://localhost:8080/",
          "height": 35
        }
      },
      "source": [
        "mean_absolute_error(y_te,np.exp(full_information_ridge_pred))"
      ],
      "execution_count": 78,
      "outputs": [
        {
          "output_type": "execute_result",
          "data": {
            "text/plain": [
              "8.770060484090658"
            ]
          },
          "metadata": {
            "tags": []
          },
          "execution_count": 78
        }
      ]
    },
    {
      "cell_type": "markdown",
      "metadata": {
        "colab_type": "text",
        "id": "fbreYK1X8asG"
      },
      "source": [
        "## Random Forest - Record Store"
      ]
    },
    {
      "cell_type": "code",
      "metadata": {
        "colab_type": "code",
        "id": "McTksN6VGPnv",
        "colab": {}
      },
      "source": [
        "record_store_random_forest_removal_columns = [\n",
        "    'market_price','units_for_sale','have','want','average_rating','rating_count','last_sold','lowest','median',\n",
        "    'highest','track_titles','country','genre','style','community_have','community_want','formats','thumb_url',\n",
        "    'release_url','format_description','days_since_last_sale','title','release_id'\n",
        "]\n",
        "record_store_random_forest_removal_columns.extend(\n",
        "    column_store._indicator\n",
        ")\n",
        "record_store_random_forest_removal_columns = set(record_store_random_forest_removal_columns)"
      ],
      "execution_count": 0,
      "outputs": []
    },
    {
      "cell_type": "code",
      "metadata": {
        "colab_type": "code",
        "id": "BPf-IJfD8asO",
        "colab": {}
      },
      "source": [
        "record_store_random_forest_preprocessing_pipe = Pipeline([\n",
        "    ('running_time_imputer',RunningTimeImputer('running_time','number_of_tracks')),\n",
        "    ('leave_one_out_encoding', LeaveOneOutEncoder(cols=['artist','label','format_text','format_name','master_id','year'])),\n",
        "    ('reduce_indicators', IndicatorReducer(indicators=column_store._indicator,algorithm=PCA,components=40)),\n",
        "    ('record_store_column_remover', ColumnRemover(record_store_random_forest_removal_columns)),\n",
        "    ('cast_to_32', FunctionTransformer(func=lambda x: x.values.astype(np.float32)))\n",
        "])\n",
        "\n",
        "random_forest = RandomForestRegressor()\n",
        "\n",
        "record_store_random_forest_search_pipe = Pipeline([\n",
        "    ('preprocessing',record_store_random_forest_preprocessing_pipe),\n",
        "    ('grid_search', GridSearchCV(\n",
        "        random_forest,\n",
        "        cv=KFold(n_splits=5,shuffle=True),\n",
        "        param_grid={\n",
        "            'n_estimators': np.linspace(10,200,5).astype(int)\n",
        "        },\n",
        "        verbose=50,\n",
        "        scoring='neg_mean_absolute_error',\n",
        "        n_jobs=-1,\n",
        "        return_train_score=True\n",
        "    ))\n",
        "])\n",
        "\n",
        "record_store_random_forest_pipe = Pipeline([\n",
        "    ('preprocessing',record_store_random_forest_preprocessing_pipe),\n",
        "    ('random_forest',random_forest)\n",
        "])"
      ],
      "execution_count": 0,
      "outputs": []
    },
    {
      "cell_type": "code",
      "metadata": {
        "colab_type": "code",
        "id": "l97EbEPB8asR",
        "colab": {}
      },
      "source": [
        "record_store_random_forest_search_pipe.fit(X_tr_sample,np.log(y_tr_sample).values.astype(np.float32))"
      ],
      "execution_count": 0,
      "outputs": []
    },
    {
      "cell_type": "code",
      "metadata": {
        "colab_type": "code",
        "id": "2awntfVd_nAJ",
        "colab": {}
      },
      "source": [
        "record_store_random_forest_plotter = GridSearchPlotter(record_store_random_forest_search_pipe.steps[-1][1])\n",
        "record_store_random_forest_plotter.plot_validation_curve(parameter='n_estimators',ylim=(-1,0))"
      ],
      "execution_count": 0,
      "outputs": []
    },
    {
      "cell_type": "code",
      "metadata": {
        "colab_type": "code",
        "id": "kIzLmO8Bzkdr",
        "colab": {}
      },
      "source": [
        "record_store_random_forest_search_pipe.steps[-1][1].best_score_"
      ],
      "execution_count": 0,
      "outputs": []
    },
    {
      "cell_type": "code",
      "metadata": {
        "colab_type": "code",
        "id": "1Jh6GfwRzk2n",
        "colab": {}
      },
      "source": [
        "record_store_random_forest_search_pipe.steps[-1][1].best_params_"
      ],
      "execution_count": 0,
      "outputs": []
    },
    {
      "cell_type": "code",
      "metadata": {
        "colab_type": "code",
        "id": "7HMokfJnMYzZ",
        "colab": {}
      },
      "source": [
        "record_store_random_forest_pipe.fit(X_tr,np.log(y_tr).values.astype(np.float32))"
      ],
      "execution_count": 0,
      "outputs": []
    },
    {
      "cell_type": "code",
      "metadata": {
        "colab_type": "code",
        "id": "VrdorFhMMe2P",
        "colab": {}
      },
      "source": [
        "record_store_random_forest_te_pred = record_store_random_forest_pipe.predict(X_te)"
      ],
      "execution_count": 0,
      "outputs": []
    },
    {
      "cell_type": "code",
      "metadata": {
        "id": "PoTlw3MJPbkq",
        "colab_type": "code",
        "colab": {}
      },
      "source": [
        "pd.Series(record_store_random_forest_te_pred).describe()"
      ],
      "execution_count": 0,
      "outputs": []
    },
    {
      "cell_type": "code",
      "metadata": {
        "colab_type": "code",
        "id": "y1Ko_cUBMoEy",
        "colab": {}
      },
      "source": [
        "r2_score(y_te,np.exp(record_store_random_forest_te_pred))"
      ],
      "execution_count": 0,
      "outputs": []
    },
    {
      "cell_type": "code",
      "metadata": {
        "colab_type": "code",
        "id": "R3cCwv8t0E4R",
        "colab": {}
      },
      "source": [
        "mean_absolute_error(y_te,np.exp(record_store_random_forest_te_pred))"
      ],
      "execution_count": 0,
      "outputs": []
    },
    {
      "cell_type": "markdown",
      "metadata": {
        "id": "gJZdJtJbk1jW",
        "colab_type": "text"
      },
      "source": [
        "## Random Forest - Full Information"
      ]
    },
    {
      "cell_type": "code",
      "metadata": {
        "id": "yQGDq3REk1jW",
        "colab_type": "code",
        "colab": {}
      },
      "source": [
        "full_information_random_forest_removal_columns = record_store_random_forest_removal_columns - full_information_columns"
      ],
      "execution_count": 0,
      "outputs": []
    },
    {
      "cell_type": "code",
      "metadata": {
        "id": "pBKFROVdk1jb",
        "colab_type": "code",
        "colab": {}
      },
      "source": [
        "full_information_random_forest_transformer = ColumnTransformer(transformers=[\n",
        "    ('units_for_sale_imputer', SimpleImputer(strategy='constant',fill_value=0),['units_for_sale']),\n",
        "    ('average_rating_imputer', SimpleImputer(strategy='mean'),['average_rating']),\n",
        "], remainder='passthrough')"
      ],
      "execution_count": 0,
      "outputs": []
    },
    {
      "cell_type": "code",
      "metadata": {
        "id": "zuNSCmnTk1jd",
        "colab_type": "code",
        "colab": {}
      },
      "source": [
        "full_information_random_forest_preprocessing_pipe = Pipeline([\n",
        "    ('running_time_imputer',RunningTimeImputer('running_time','number_of_tracks')),\n",
        "    ('leave_one_out_encoding', LeaveOneOutEncoder(cols=['artist','label','format_text','format_name','master_id','year'])),\n",
        "    ('reduce_indicators', IndicatorReducer(indicators=column_store._indicator,algorithm=PCA,components=40)),\n",
        "    ('record_store_column_remover', ColumnRemover(full_information_random_forest_removal_columns)),\n",
        "    ('cast_to_32', FunctionTransformer(func=lambda x: x.values.astype(np.float32)))\n",
        "])\n",
        "\n",
        "random_forest = RandomForestRegressor()\n",
        "\n",
        "full_information_random_forest_search_pipe = Pipeline([\n",
        "    ('preprocessing',full_information_random_forest_preprocessing_pipe),\n",
        "    ('grid_search', GridSearchCV(\n",
        "        random_forest,\n",
        "        cv=KFold(n_splits=5,shuffle=True),\n",
        "        param_grid={\n",
        "            'n_estimators': np.linspace(10,200,5).astype(int)\n",
        "        },\n",
        "        verbose=50,\n",
        "        scoring='neg_mean_absolute_error',\n",
        "        n_jobs=-1,\n",
        "        return_train_score=True\n",
        "    ))\n",
        "])\n",
        "\n",
        "full_information_random_forest_pipe = Pipeline([\n",
        "    ('preprocessing',random_forest_preprocessing_pipe),\n",
        "    ('random_forest',random_forest)\n",
        "])"
      ],
      "execution_count": 0,
      "outputs": []
    },
    {
      "cell_type": "code",
      "metadata": {
        "colab_type": "code",
        "id": "lOo-_NUFk1jg",
        "colab": {}
      },
      "source": [
        "full_information_random_forest_search_pipe.fit(X_tr_sample,np.log(y_tr_sample))"
      ],
      "execution_count": 0,
      "outputs": []
    },
    {
      "cell_type": "code",
      "metadata": {
        "colab_type": "code",
        "id": "rCux94qKk1ji",
        "colab": {}
      },
      "source": [
        "full_information_random_forest_plotter = GridSearchPlotter(random_forest_search_pipe.steps[-1][1])\n",
        "full_information_random_forest_plotter.plot_validation_curve(parameter='n_estimators',ylim=(-1,0))"
      ],
      "execution_count": 0,
      "outputs": []
    },
    {
      "cell_type": "code",
      "metadata": {
        "colab_type": "code",
        "id": "jaoOYSogk1jk",
        "colab": {}
      },
      "source": [
        "full_information_random_forest_search_pipe.steps[-1][1].best_score_"
      ],
      "execution_count": 0,
      "outputs": []
    },
    {
      "cell_type": "code",
      "metadata": {
        "colab_type": "code",
        "id": "SLNosErgk1jn",
        "colab": {}
      },
      "source": [
        "full_information_random_forest_search_pipe.steps[-1][1].best_params_"
      ],
      "execution_count": 0,
      "outputs": []
    },
    {
      "cell_type": "code",
      "metadata": {
        "colab_type": "code",
        "id": "VvtlG6n3k1jq",
        "colab": {}
      },
      "source": [
        "full_information_random_forest_pipe.fit(X_tr,np.log(y_tr).values.astype(np.float32))"
      ],
      "execution_count": 0,
      "outputs": []
    },
    {
      "cell_type": "code",
      "metadata": {
        "colab_type": "code",
        "id": "k7iHVjV-k1jt",
        "colab": {}
      },
      "source": [
        "full_information_random_forest_te_pred = random_forest_pipe.predict(X_te)"
      ],
      "execution_count": 0,
      "outputs": []
    },
    {
      "cell_type": "code",
      "metadata": {
        "colab_type": "code",
        "id": "UBdw5WWqk1jv",
        "colab": {}
      },
      "source": [
        "full_information_r2_score(y_te,np.exp(random_forest_te_pred))"
      ],
      "execution_count": 0,
      "outputs": []
    },
    {
      "cell_type": "code",
      "metadata": {
        "colab_type": "code",
        "id": "ZQQ8J--Yk1jy",
        "colab": {}
      },
      "source": [
        "full_information_mean_absolute_error(y_te,np.exp(random_forest_te_pred))"
      ],
      "execution_count": 0,
      "outputs": []
    },
    {
      "cell_type": "markdown",
      "metadata": {
        "colab_type": "text",
        "id": "wcM8J6K68asg"
      },
      "source": [
        "## Catboost - Record Store"
      ]
    },
    {
      "cell_type": "code",
      "metadata": {
        "colab_type": "code",
        "id": "OjIxG4pI8asl",
        "colab": {}
      },
      "source": [
        "record_store_catboost_removal_columns = set([\n",
        "    'market_price','units_for_sale','have','want','average_rating','rating_count','last_sold','lowest','median',\n",
        "    'highest','track_titles','genre','style','community_have','community_want','formats','thumb_url',\n",
        "    'release_url','format_description','days_since_last_sale','title','release_id'\n",
        "])"
      ],
      "execution_count": 0,
      "outputs": []
    },
    {
      "cell_type": "code",
      "metadata": {
        "colab_type": "code",
        "id": "VCaEIJW18asr",
        "colab": {}
      },
      "source": [
        "record_store_catboost_processing_pipe = Pipeline([\n",
        "    ('running_time_imputer',RunningTimeImputer('running_time','number_of_tracks')),\n",
        "    ('record_store_column_remover', ColumnRemover(record_store_catboost_removal_columns)),\n",
        "])\n",
        "\n",
        "catboost = CatBoostRegressor(\n",
        "    random_seed=0,\n",
        "    cat_features=['year','format_text','master_id','format_name','artist','label','country'],\n",
        "    boosting_type='Ordered',\n",
        "    n_estimators=100,\n",
        "    learning_rate=0.16681005,\n",
        "    l2_leaf_reg=3,\n",
        "    border_count=170,\n",
        "    max_depth=10,\n",
        ")\n",
        "\n",
        "record_store_catboost_grid_pipe = Pipeline([\n",
        "    ('processing', record_store_catboost_processing_pipe),\n",
        "    ('grid_search', GridSearchCV(\n",
        "        catboost,\n",
        "        param_grid={\n",
        "            'learning_rate': np.linspace(1e-3,1e1,5),\n",
        "            'l2_leaf_reg': [1,3,5,8],\n",
        "            'border_count': np.linspace(0,200,5)\n",
        "        },\n",
        "        n_jobs=1,\n",
        "        cv=KFold(n_splits=5,shuffle=True),\n",
        "        verbose=5,\n",
        "        scoring='neg_mean_absolute_error',\n",
        "        return_train_score=True)\n",
        "    )\n",
        "])\n",
        "\n",
        "record_store_catboost_pipe = Pipeline([\n",
        "    ('processing', record_store_catboost_processing_pipe),\n",
        "    ('catboost',catboost)\n",
        "])"
      ],
      "execution_count": 0,
      "outputs": []
    },
    {
      "cell_type": "code",
      "metadata": {
        "colab_type": "code",
        "id": "MQW9Ojz08asu",
        "colab": {}
      },
      "source": [
        "record_store_catboost_grid_pipe.fit(X_tr_sample,np.log(y_tr_sample))"
      ],
      "execution_count": 0,
      "outputs": []
    },
    {
      "cell_type": "code",
      "metadata": {
        "colab_type": "code",
        "id": "9MWNatKvNkWQ",
        "colab": {}
      },
      "source": [
        "record_store_catboost_plot = GridSearchPlotter(catboost_grid_pipe.steps[-1][1])\n",
        "record_store_catboost_plot.plot_validation_curve(parameter='max_depth',ylim=(-1,0))"
      ],
      "execution_count": 0,
      "outputs": []
    },
    {
      "cell_type": "code",
      "metadata": {
        "colab_type": "code",
        "id": "D82wspKV8XCK",
        "colab": {}
      },
      "source": [
        "record_store_catboost_grid_pipe.steps[-1][1].best_score_"
      ],
      "execution_count": 0,
      "outputs": []
    },
    {
      "cell_type": "code",
      "metadata": {
        "colab_type": "code",
        "id": "iJHB_2xe8ZN_",
        "colab": {}
      },
      "source": [
        "record_store_catboost_grid_pipe.steps[-1][1].best_params_"
      ],
      "execution_count": 0,
      "outputs": []
    },
    {
      "cell_type": "code",
      "metadata": {
        "id": "dU_pJkadk1kC",
        "colab_type": "code",
        "colab": {
          "base_uri": "https://localhost:8080/",
          "height": 1000
        },
        "outputId": "4e58dbef-864a-4eca-8f27-c33b77888d99"
      },
      "source": [
        "record_store_catboost_pipe.fit(X_tr,np.log(y_tr))"
      ],
      "execution_count": 173,
      "outputs": [
        {
          "output_type": "stream",
          "text": [
            "0:\tlearn: 0.8746400\ttotal: 18.1ms\tremaining: 1.79s\n",
            "1:\tlearn: 0.8626872\ttotal: 35.8ms\tremaining: 1.75s\n",
            "2:\tlearn: 0.8519616\ttotal: 53.3ms\tremaining: 1.72s\n",
            "3:\tlearn: 0.8425970\ttotal: 70.6ms\tremaining: 1.69s\n",
            "4:\tlearn: 0.8341569\ttotal: 88.4ms\tremaining: 1.68s\n",
            "5:\tlearn: 0.8265830\ttotal: 106ms\tremaining: 1.66s\n",
            "6:\tlearn: 0.8193116\ttotal: 123ms\tremaining: 1.63s\n",
            "7:\tlearn: 0.8137007\ttotal: 140ms\tremaining: 1.61s\n",
            "8:\tlearn: 0.8086176\ttotal: 157ms\tremaining: 1.59s\n",
            "9:\tlearn: 0.7995927\ttotal: 178ms\tremaining: 1.6s\n",
            "10:\tlearn: 0.7952944\ttotal: 197ms\tremaining: 1.59s\n",
            "11:\tlearn: 0.7878523\ttotal: 219ms\tremaining: 1.6s\n",
            "12:\tlearn: 0.7850427\ttotal: 238ms\tremaining: 1.59s\n",
            "13:\tlearn: 0.7823424\ttotal: 255ms\tremaining: 1.57s\n",
            "14:\tlearn: 0.7797238\ttotal: 274ms\tremaining: 1.55s\n",
            "15:\tlearn: 0.7732372\ttotal: 299ms\tremaining: 1.57s\n",
            "16:\tlearn: 0.7684556\ttotal: 319ms\tremaining: 1.56s\n",
            "17:\tlearn: 0.7668142\ttotal: 336ms\tremaining: 1.53s\n",
            "18:\tlearn: 0.7633686\ttotal: 356ms\tremaining: 1.52s\n",
            "19:\tlearn: 0.7602951\ttotal: 376ms\tremaining: 1.5s\n",
            "20:\tlearn: 0.7568044\ttotal: 397ms\tremaining: 1.49s\n",
            "21:\tlearn: 0.7556737\ttotal: 414ms\tremaining: 1.47s\n",
            "22:\tlearn: 0.7545490\ttotal: 432ms\tremaining: 1.45s\n",
            "23:\tlearn: 0.7523396\ttotal: 454ms\tremaining: 1.44s\n",
            "24:\tlearn: 0.7503845\ttotal: 476ms\tremaining: 1.43s\n",
            "25:\tlearn: 0.7483290\ttotal: 499ms\tremaining: 1.42s\n",
            "26:\tlearn: 0.7474762\ttotal: 520ms\tremaining: 1.41s\n",
            "27:\tlearn: 0.7463944\ttotal: 539ms\tremaining: 1.39s\n",
            "28:\tlearn: 0.7454518\ttotal: 559ms\tremaining: 1.37s\n",
            "29:\tlearn: 0.7437962\ttotal: 582ms\tremaining: 1.36s\n",
            "30:\tlearn: 0.7420292\ttotal: 603ms\tremaining: 1.34s\n",
            "31:\tlearn: 0.7412210\ttotal: 620ms\tremaining: 1.32s\n",
            "32:\tlearn: 0.7404887\ttotal: 639ms\tremaining: 1.3s\n",
            "33:\tlearn: 0.7399679\ttotal: 656ms\tremaining: 1.27s\n",
            "34:\tlearn: 0.7386602\ttotal: 675ms\tremaining: 1.25s\n",
            "35:\tlearn: 0.7375866\ttotal: 696ms\tremaining: 1.24s\n",
            "36:\tlearn: 0.7364586\ttotal: 714ms\tremaining: 1.22s\n",
            "37:\tlearn: 0.7349150\ttotal: 735ms\tremaining: 1.2s\n",
            "38:\tlearn: 0.7339148\ttotal: 754ms\tremaining: 1.18s\n",
            "39:\tlearn: 0.7330561\ttotal: 774ms\tremaining: 1.16s\n",
            "40:\tlearn: 0.7326964\ttotal: 791ms\tremaining: 1.14s\n",
            "41:\tlearn: 0.7322664\ttotal: 807ms\tremaining: 1.11s\n",
            "42:\tlearn: 0.7307097\ttotal: 833ms\tremaining: 1.1s\n",
            "43:\tlearn: 0.7297840\ttotal: 854ms\tremaining: 1.09s\n",
            "44:\tlearn: 0.7294332\ttotal: 873ms\tremaining: 1.07s\n",
            "45:\tlearn: 0.7286100\ttotal: 894ms\tremaining: 1.05s\n",
            "46:\tlearn: 0.7280009\ttotal: 913ms\tremaining: 1.03s\n",
            "47:\tlearn: 0.7272102\ttotal: 933ms\tremaining: 1.01s\n",
            "48:\tlearn: 0.7264472\ttotal: 951ms\tremaining: 990ms\n",
            "49:\tlearn: 0.7259251\ttotal: 972ms\tremaining: 972ms\n",
            "50:\tlearn: 0.7252222\ttotal: 994ms\tremaining: 955ms\n",
            "51:\tlearn: 0.7246727\ttotal: 1.01s\tremaining: 935ms\n",
            "52:\tlearn: 0.7240751\ttotal: 1.03s\tremaining: 917ms\n",
            "53:\tlearn: 0.7234752\ttotal: 1.05s\tremaining: 898ms\n",
            "54:\tlearn: 0.7223478\ttotal: 1.08s\tremaining: 885ms\n",
            "55:\tlearn: 0.7218946\ttotal: 1.1s\tremaining: 866ms\n",
            "56:\tlearn: 0.7214798\ttotal: 1.13s\tremaining: 849ms\n",
            "57:\tlearn: 0.7210752\ttotal: 1.15s\tremaining: 830ms\n",
            "58:\tlearn: 0.7206284\ttotal: 1.16s\tremaining: 809ms\n",
            "59:\tlearn: 0.7202685\ttotal: 1.18s\tremaining: 790ms\n",
            "60:\tlearn: 0.7199417\ttotal: 1.2s\tremaining: 769ms\n",
            "61:\tlearn: 0.7195061\ttotal: 1.23s\tremaining: 751ms\n",
            "62:\tlearn: 0.7187133\ttotal: 1.25s\tremaining: 734ms\n",
            "63:\tlearn: 0.7180636\ttotal: 1.27s\tremaining: 717ms\n",
            "64:\tlearn: 0.7176561\ttotal: 1.3s\tremaining: 702ms\n",
            "65:\tlearn: 0.7173930\ttotal: 1.32s\tremaining: 682ms\n",
            "66:\tlearn: 0.7166412\ttotal: 1.35s\tremaining: 665ms\n",
            "67:\tlearn: 0.7158965\ttotal: 1.37s\tremaining: 645ms\n",
            "68:\tlearn: 0.7158035\ttotal: 1.39s\tremaining: 624ms\n",
            "69:\tlearn: 0.7155430\ttotal: 1.41s\tremaining: 604ms\n",
            "70:\tlearn: 0.7153405\ttotal: 1.43s\tremaining: 583ms\n",
            "71:\tlearn: 0.7151702\ttotal: 1.44s\tremaining: 562ms\n",
            "72:\tlearn: 0.7149393\ttotal: 1.46s\tremaining: 541ms\n",
            "73:\tlearn: 0.7148306\ttotal: 1.48s\tremaining: 521ms\n",
            "74:\tlearn: 0.7147096\ttotal: 1.5s\tremaining: 500ms\n",
            "75:\tlearn: 0.7146369\ttotal: 1.52s\tremaining: 479ms\n",
            "76:\tlearn: 0.7144845\ttotal: 1.54s\tremaining: 459ms\n",
            "77:\tlearn: 0.7143241\ttotal: 1.56s\tremaining: 439ms\n",
            "78:\tlearn: 0.7141296\ttotal: 1.58s\tremaining: 419ms\n",
            "79:\tlearn: 0.7139995\ttotal: 1.6s\tremaining: 400ms\n",
            "80:\tlearn: 0.7136205\ttotal: 1.62s\tremaining: 380ms\n",
            "81:\tlearn: 0.7135493\ttotal: 1.64s\tremaining: 360ms\n",
            "82:\tlearn: 0.7129202\ttotal: 1.67s\tremaining: 341ms\n",
            "83:\tlearn: 0.7128321\ttotal: 1.69s\tremaining: 321ms\n",
            "84:\tlearn: 0.7126303\ttotal: 1.71s\tremaining: 301ms\n",
            "85:\tlearn: 0.7124667\ttotal: 1.73s\tremaining: 282ms\n",
            "86:\tlearn: 0.7123639\ttotal: 1.75s\tremaining: 262ms\n",
            "87:\tlearn: 0.7122935\ttotal: 1.77s\tremaining: 242ms\n",
            "88:\tlearn: 0.7119084\ttotal: 1.79s\tremaining: 221ms\n",
            "89:\tlearn: 0.7118420\ttotal: 1.81s\tremaining: 201ms\n",
            "90:\tlearn: 0.7116961\ttotal: 1.83s\tremaining: 182ms\n",
            "91:\tlearn: 0.7115769\ttotal: 1.86s\tremaining: 162ms\n",
            "92:\tlearn: 0.7111017\ttotal: 1.89s\tremaining: 142ms\n",
            "93:\tlearn: 0.7110321\ttotal: 1.9s\tremaining: 121ms\n",
            "94:\tlearn: 0.7109072\ttotal: 1.92s\tremaining: 101ms\n",
            "95:\tlearn: 0.7107992\ttotal: 1.94s\tremaining: 80.7ms\n",
            "96:\tlearn: 0.7107451\ttotal: 1.95s\tremaining: 60.4ms\n",
            "97:\tlearn: 0.7106842\ttotal: 1.97s\tremaining: 40.3ms\n",
            "98:\tlearn: 0.7103757\ttotal: 1.99s\tremaining: 20.1ms\n",
            "99:\tlearn: 0.7102967\ttotal: 2.01s\tremaining: 0us\n"
          ],
          "name": "stdout"
        },
        {
          "output_type": "execute_result",
          "data": {
            "text/plain": [
              "Pipeline(memory=None,\n",
              "         steps=[('processing',\n",
              "                 Pipeline(memory=None,\n",
              "                          steps=[('running_time_imputer',\n",
              "                                  RunningTimeImputer(number_of_tracks='number_of_tracks',\n",
              "                                                     running_time='running_time')),\n",
              "                                 ('record_store_column_remover',\n",
              "                                  ColumnRemover(cols_to_remove={'average_rating',\n",
              "                                                                'community_have',\n",
              "                                                                'community_want',\n",
              "                                                                'days_since_last_sale',\n",
              "                                                                'format_description',\n",
              "                                                                'formats',\n",
              "                                                                'genre', 'have',\n",
              "                                                                'highest',\n",
              "                                                                'last_sold',\n",
              "                                                                'lowest',\n",
              "                                                                'market_price',\n",
              "                                                                'median',\n",
              "                                                                'rating_count',\n",
              "                                                                'release_url',\n",
              "                                                                'style',\n",
              "                                                                'thumb_url',\n",
              "                                                                'title',\n",
              "                                                                'track_titles',\n",
              "                                                                'units_for_sale',\n",
              "                                                                'want'}))],\n",
              "                          verbose=False)),\n",
              "                ('catboost',\n",
              "                 <catboost.core.CatBoostRegressor object at 0x7f9dfb2f4eb8>)],\n",
              "         verbose=False)"
            ]
          },
          "metadata": {
            "tags": []
          },
          "execution_count": 173
        }
      ]
    },
    {
      "cell_type": "code",
      "metadata": {
        "colab_type": "code",
        "id": "QtP6T-Ir8asx",
        "colab": {}
      },
      "source": [
        "record_store_catboost_te_pred = record_store_catboost_pipe.predict(X_te)"
      ],
      "execution_count": 0,
      "outputs": []
    },
    {
      "cell_type": "code",
      "metadata": {
        "colab_type": "code",
        "id": "Ot0BfPu28as0",
        "colab": {
          "base_uri": "https://localhost:8080/",
          "height": 35
        },
        "outputId": "5a49d95a-c20c-4fec-9736-929d3d577cf1"
      },
      "source": [
        "r2_score(y_te,np.exp(record_store_catboost_te_pred))"
      ],
      "execution_count": 176,
      "outputs": [
        {
          "output_type": "execute_result",
          "data": {
            "text/plain": [
              "0.1783573241375015"
            ]
          },
          "metadata": {
            "tags": []
          },
          "execution_count": 176
        }
      ]
    },
    {
      "cell_type": "code",
      "metadata": {
        "colab_type": "code",
        "id": "2BLq7nQR42RA",
        "colab": {
          "base_uri": "https://localhost:8080/",
          "height": 35
        },
        "outputId": "7a93f7d3-7fc2-45e4-be62-5279b73b4808"
      },
      "source": [
        "mean_absolute_error(y_te,np.exp(record_store_catboost_te_pred))"
      ],
      "execution_count": 177,
      "outputs": [
        {
          "output_type": "execute_result",
          "data": {
            "text/plain": [
              "8.403480464666007"
            ]
          },
          "metadata": {
            "tags": []
          },
          "execution_count": 177
        }
      ]
    },
    {
      "cell_type": "markdown",
      "metadata": {
        "id": "1N-puXCSk1kP",
        "colab_type": "text"
      },
      "source": [
        "## CatBoost - Full Information"
      ]
    },
    {
      "cell_type": "code",
      "metadata": {
        "id": "tIZEJfS6k1kQ",
        "colab_type": "code",
        "colab": {}
      },
      "source": [
        "full_information_catboost_removal_columns = record_store_catboost_removal_columns - full_information_columns"
      ],
      "execution_count": 0,
      "outputs": []
    },
    {
      "cell_type": "code",
      "metadata": {
        "colab_type": "code",
        "id": "uOt1Def_k1kS",
        "colab": {}
      },
      "source": [
        "full_information_catboost_processing_pipe = Pipeline([\n",
        "    ('running_time_imputer',RunningTimeImputer('running_time','number_of_tracks')),\n",
        "    ('record_store_column_remover', ColumnRemover(record_store_catboost_removal_columns))\n",
        "])\n",
        "\n",
        "full_information_catboost_grid_pipe = Pipeline([\n",
        "    ('processing', catboost_processing_pipe),\n",
        "    ('grid_search', GridSearchCV(\n",
        "        catboost,\n",
        "        param_grid={'max_depth': np.linspace(10,32,5).astype(int)},\n",
        "        n_jobs=-1,\n",
        "        cv=KFold(n_splits=5,shuffle=True),\n",
        "        scoring='neg_mean_absolute_error',\n",
        "        verbose=50,\n",
        "        return_train_score=True)\n",
        "    )\n",
        "])"
      ],
      "execution_count": 0,
      "outputs": []
    },
    {
      "cell_type": "code",
      "metadata": {
        "colab_type": "code",
        "id": "YveUFwIJk1kU",
        "colab": {}
      },
      "source": [
        "full_information_catboost_grid_pipe.fit(X_tr_sample,np.log(y_tr_sample))"
      ],
      "execution_count": 0,
      "outputs": []
    },
    {
      "cell_type": "code",
      "metadata": {
        "colab_type": "code",
        "id": "sDzqUDs6k1kW",
        "colab": {}
      },
      "source": [
        "full_information_catboost_plot = GridSearchPlotter(catboost_grid_pipe.steps[-1][1])\n",
        "full_information_catboost_plot.plot_validation_curve(parameter='max_depth',ylim=(-1,0))"
      ],
      "execution_count": 0,
      "outputs": []
    },
    {
      "cell_type": "code",
      "metadata": {
        "colab_type": "code",
        "id": "rYzXoV8jk1kY",
        "colab": {}
      },
      "source": [
        "full_information_catboost_grid_pipe.steps[-1][1].best_score_"
      ],
      "execution_count": 0,
      "outputs": []
    },
    {
      "cell_type": "code",
      "metadata": {
        "colab_type": "code",
        "id": "9DoQX1JHk1ka",
        "colab": {}
      },
      "source": [
        "full_information_catboost_grid_pipe.steps[-1][1].best_params_"
      ],
      "execution_count": 0,
      "outputs": []
    },
    {
      "cell_type": "code",
      "metadata": {
        "id": "jo9HfiwMk1kd",
        "colab_type": "code",
        "colab": {}
      },
      "source": [
        "full_information_catboost_pipe.fit(X_tr,np.log(y_tr))"
      ],
      "execution_count": 0,
      "outputs": []
    },
    {
      "cell_type": "code",
      "metadata": {
        "colab_type": "code",
        "id": "za9_3tZ-k1kf",
        "colab": {}
      },
      "source": [
        "catboost_te_pred = catboost_pipe.predict(X_te)"
      ],
      "execution_count": 0,
      "outputs": []
    },
    {
      "cell_type": "code",
      "metadata": {
        "colab_type": "code",
        "id": "fJzDaxL1k1kh",
        "colab": {}
      },
      "source": [
        "r2_score(y_te,np.exp(full_information_catboost_te_pred))"
      ],
      "execution_count": 0,
      "outputs": []
    },
    {
      "cell_type": "code",
      "metadata": {
        "colab_type": "code",
        "id": "WmjFcYRak1kk",
        "colab": {}
      },
      "source": [
        "mean_absolute_error(y_te,np.exp(full_information_catboost_te_pred))"
      ],
      "execution_count": 0,
      "outputs": []
    }
  ]
}