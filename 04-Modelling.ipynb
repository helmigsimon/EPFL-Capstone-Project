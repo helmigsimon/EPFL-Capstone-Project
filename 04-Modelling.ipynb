{
 "cells": [
  {
   "cell_type": "markdown",
   "metadata": {
    "colab_type": "text",
    "id": "buFUSHKt8apx"
   },
   "source": [
    "## 03 - Modelling"
   ]
  },
  {
   "cell_type": "markdown",
   "metadata": {
    "colab_type": "text",
    "id": "lunHqQ7B8apz"
   },
   "source": [
    "## Optional - Colab Setup"
   ]
  },
  {
   "cell_type": "code",
   "execution_count": 1,
   "metadata": {
    "colab": {},
    "colab_type": "code",
    "id": "qQQCreB5gAR_"
   },
   "outputs": [],
   "source": [
    "def upgrade_runtime_ram():\n",
    "    meminfo = subprocess.getoutput('cat /proc/meminfo').split('\\n')\n",
    "\n",
    "    memory_info = {entry.split(':')[0]: int(entry.split(':')[1].replace(' kB','').strip()) for entry in meminfo}\n",
    "\n",
    "    if memory_info['MemTotal'] > 17000000:\n",
    "        return\n",
    "\n",
    "    a = []\n",
    "    while(1):\n",
    "        a.append('1')"
   ]
  },
  {
   "cell_type": "code",
   "execution_count": 2,
   "metadata": {
    "colab": {},
    "colab_type": "code",
    "id": "waACZBi_8ap2"
   },
   "outputs": [],
   "source": [
    "def restart_runtime():\n",
    "    os.kill(os.getpid(), 9)"
   ]
  },
  {
   "cell_type": "code",
   "execution_count": 3,
   "metadata": {
    "colab": {},
    "colab_type": "code",
    "id": "YIsGqbsy8aqB"
   },
   "outputs": [],
   "source": [
    "def setup_rapids():\n",
    "    pynvml.nvmlInit()\n",
    "    handle = pynvml.nvmlDeviceGetHandleByIndex(0)\n",
    "    device_name = pynvml.nvmlDeviceGetName(handle)\n",
    "    if (device_name != b'Tesla T4') and (device_name != b'Tesla P4') and (device_name != b'Tesla P100-PCIE-16GB'):\n",
    "        print(\"Wrong GPU - Restarting Runtime\")\n",
    "        restart_runtime()\n",
    "\n",
    "\n",
    "    # clone RAPIDS AI rapidsai-csp-utils scripts repo\n",
    "    !git clone https://github.com/rapidsai/rapidsai-csp-utils.git\n",
    "\n",
    "    # install RAPIDS\n",
    "    !bash rapidsai-csp-utils/colab/rapids-colab.sh 0.13\n",
    "\n",
    "\n",
    "    # set necessary environment variables \n",
    "    dist_package_index = sys.path.index('/usr/local/lib/python3.6/dist-packages')\n",
    "    sys.path = sys.path[:dist_package_index] + ['/usr/local/lib/python3.6/site-packages'] + sys.path[dist_package_index:]\n",
    "    sys.path\n",
    "\n",
    "    # update pyarrow & modules \n",
    "    exec(open('rapidsai-csp-utils/colab/update_modules.py').read(), globals())"
   ]
  },
  {
   "cell_type": "code",
   "execution_count": 4,
   "metadata": {
    "colab": {},
    "colab_type": "code",
    "id": "9CcPvNIo8aqI"
   },
   "outputs": [],
   "source": [
    "def setup_conda():\n",
    "    if not 'Miniconda3-4.5.4-Linux-x86_64.sh' in os.listdir():\n",
    "        !wget https://repo.continuum.io/miniconda/Miniconda3-4.5.4-Linux-x86_64.sh && bash Miniconda3-4.5.4-Linux-x86_64.sh -bfp /usr/local\n",
    "\n",
    "    if not ('EPFL-Capstone-Project' in os.listdir()) and (os.getcwd().split('/')[-1] != 'EPFL-Capstone-Project'):\n",
    "        !git clone https://github.com/helmigsimon/EPFL-Capstone-Project  \n",
    "    if 'EPFL-Capstone-Project' in os.listdir():\n",
    "        os.chdir('EPFL-Capstone-Project')\n",
    "\n",
    "    !conda env create -f environment.yml\n",
    "    !conda activate exts-ml"
   ]
  },
  {
   "cell_type": "code",
   "execution_count": 5,
   "metadata": {
    "colab": {},
    "colab_type": "code",
    "id": "WHSZ-lgE8aqP"
   },
   "outputs": [],
   "source": [
    "def setup_drive():\n",
    "    #Mounting Google Drive\n",
    "    global drive\n",
    "    from google.colab import drive\n",
    "    drive.mount('/content/drive')"
   ]
  },
  {
   "cell_type": "code",
   "execution_count": 6,
   "metadata": {
    "colab": {},
    "colab_type": "code",
    "id": "N_uPJqb58aqW"
   },
   "outputs": [
    {
     "ename": "ValueError",
     "evalue": "invalid literal for int() with base 10: '/proc/meminfo'",
     "output_type": "error",
     "traceback": [
      "\u001b[0;31m---------------------------------------------------------------------------\u001b[0m",
      "\u001b[0;31mValueError\u001b[0m                                Traceback (most recent call last)",
      "\u001b[0;32m<ipython-input-6-acd082c731a8>\u001b[0m in \u001b[0;36m<module>\u001b[0;34m\u001b[0m\n\u001b[1;32m      2\u001b[0m     \u001b[0;32mimport\u001b[0m \u001b[0msys\u001b[0m\u001b[0;34m,\u001b[0m\u001b[0mos\u001b[0m\u001b[0;34m,\u001b[0m\u001b[0msubprocess\u001b[0m\u001b[0;34m\u001b[0m\u001b[0;34m\u001b[0m\u001b[0m\n\u001b[1;32m      3\u001b[0m \u001b[0;34m\u001b[0m\u001b[0m\n\u001b[0;32m----> 4\u001b[0;31m     \u001b[0mupgrade_runtime_ram\u001b[0m\u001b[0;34m(\u001b[0m\u001b[0;34m)\u001b[0m\u001b[0;34m\u001b[0m\u001b[0;34m\u001b[0m\u001b[0m\n\u001b[0m\u001b[1;32m      5\u001b[0m     \u001b[0msetup_drive\u001b[0m\u001b[0;34m(\u001b[0m\u001b[0;34m)\u001b[0m\u001b[0;34m\u001b[0m\u001b[0;34m\u001b[0m\u001b[0m\n\u001b[1;32m      6\u001b[0m \u001b[0;34m\u001b[0m\u001b[0m\n",
      "\u001b[0;32m<ipython-input-1-78d1ffa90adb>\u001b[0m in \u001b[0;36mupgrade_runtime_ram\u001b[0;34m()\u001b[0m\n\u001b[1;32m      2\u001b[0m     \u001b[0mmeminfo\u001b[0m \u001b[0;34m=\u001b[0m \u001b[0msubprocess\u001b[0m\u001b[0;34m.\u001b[0m\u001b[0mgetoutput\u001b[0m\u001b[0;34m(\u001b[0m\u001b[0;34m'cat /proc/meminfo'\u001b[0m\u001b[0;34m)\u001b[0m\u001b[0;34m.\u001b[0m\u001b[0msplit\u001b[0m\u001b[0;34m(\u001b[0m\u001b[0;34m'\\n'\u001b[0m\u001b[0;34m)\u001b[0m\u001b[0;34m\u001b[0m\u001b[0;34m\u001b[0m\u001b[0m\n\u001b[1;32m      3\u001b[0m \u001b[0;34m\u001b[0m\u001b[0m\n\u001b[0;32m----> 4\u001b[0;31m     \u001b[0mmemory_info\u001b[0m \u001b[0;34m=\u001b[0m \u001b[0;34m{\u001b[0m\u001b[0mentry\u001b[0m\u001b[0;34m.\u001b[0m\u001b[0msplit\u001b[0m\u001b[0;34m(\u001b[0m\u001b[0;34m':'\u001b[0m\u001b[0;34m)\u001b[0m\u001b[0;34m[\u001b[0m\u001b[0;36m0\u001b[0m\u001b[0;34m]\u001b[0m\u001b[0;34m:\u001b[0m \u001b[0mint\u001b[0m\u001b[0;34m(\u001b[0m\u001b[0mentry\u001b[0m\u001b[0;34m.\u001b[0m\u001b[0msplit\u001b[0m\u001b[0;34m(\u001b[0m\u001b[0;34m':'\u001b[0m\u001b[0;34m)\u001b[0m\u001b[0;34m[\u001b[0m\u001b[0;36m1\u001b[0m\u001b[0;34m]\u001b[0m\u001b[0;34m.\u001b[0m\u001b[0mreplace\u001b[0m\u001b[0;34m(\u001b[0m\u001b[0;34m' kB'\u001b[0m\u001b[0;34m,\u001b[0m\u001b[0;34m''\u001b[0m\u001b[0;34m)\u001b[0m\u001b[0;34m.\u001b[0m\u001b[0mstrip\u001b[0m\u001b[0;34m(\u001b[0m\u001b[0;34m)\u001b[0m\u001b[0;34m)\u001b[0m \u001b[0;32mfor\u001b[0m \u001b[0mentry\u001b[0m \u001b[0;32min\u001b[0m \u001b[0mmeminfo\u001b[0m\u001b[0;34m}\u001b[0m\u001b[0;34m\u001b[0m\u001b[0;34m\u001b[0m\u001b[0m\n\u001b[0m\u001b[1;32m      5\u001b[0m \u001b[0;34m\u001b[0m\u001b[0m\n\u001b[1;32m      6\u001b[0m     \u001b[0;32mif\u001b[0m \u001b[0mmemory_info\u001b[0m\u001b[0;34m[\u001b[0m\u001b[0;34m'MemTotal'\u001b[0m\u001b[0;34m]\u001b[0m \u001b[0;34m>\u001b[0m \u001b[0;36m17000000\u001b[0m\u001b[0;34m:\u001b[0m\u001b[0;34m\u001b[0m\u001b[0;34m\u001b[0m\u001b[0m\n",
      "\u001b[0;32m<ipython-input-1-78d1ffa90adb>\u001b[0m in \u001b[0;36m<dictcomp>\u001b[0;34m(.0)\u001b[0m\n\u001b[1;32m      2\u001b[0m     \u001b[0mmeminfo\u001b[0m \u001b[0;34m=\u001b[0m \u001b[0msubprocess\u001b[0m\u001b[0;34m.\u001b[0m\u001b[0mgetoutput\u001b[0m\u001b[0;34m(\u001b[0m\u001b[0;34m'cat /proc/meminfo'\u001b[0m\u001b[0;34m)\u001b[0m\u001b[0;34m.\u001b[0m\u001b[0msplit\u001b[0m\u001b[0;34m(\u001b[0m\u001b[0;34m'\\n'\u001b[0m\u001b[0;34m)\u001b[0m\u001b[0;34m\u001b[0m\u001b[0;34m\u001b[0m\u001b[0m\n\u001b[1;32m      3\u001b[0m \u001b[0;34m\u001b[0m\u001b[0m\n\u001b[0;32m----> 4\u001b[0;31m     \u001b[0mmemory_info\u001b[0m \u001b[0;34m=\u001b[0m \u001b[0;34m{\u001b[0m\u001b[0mentry\u001b[0m\u001b[0;34m.\u001b[0m\u001b[0msplit\u001b[0m\u001b[0;34m(\u001b[0m\u001b[0;34m':'\u001b[0m\u001b[0;34m)\u001b[0m\u001b[0;34m[\u001b[0m\u001b[0;36m0\u001b[0m\u001b[0;34m]\u001b[0m\u001b[0;34m:\u001b[0m \u001b[0mint\u001b[0m\u001b[0;34m(\u001b[0m\u001b[0mentry\u001b[0m\u001b[0;34m.\u001b[0m\u001b[0msplit\u001b[0m\u001b[0;34m(\u001b[0m\u001b[0;34m':'\u001b[0m\u001b[0;34m)\u001b[0m\u001b[0;34m[\u001b[0m\u001b[0;36m1\u001b[0m\u001b[0;34m]\u001b[0m\u001b[0;34m.\u001b[0m\u001b[0mreplace\u001b[0m\u001b[0;34m(\u001b[0m\u001b[0;34m' kB'\u001b[0m\u001b[0;34m,\u001b[0m\u001b[0;34m''\u001b[0m\u001b[0;34m)\u001b[0m\u001b[0;34m.\u001b[0m\u001b[0mstrip\u001b[0m\u001b[0;34m(\u001b[0m\u001b[0;34m)\u001b[0m\u001b[0;34m)\u001b[0m \u001b[0;32mfor\u001b[0m \u001b[0mentry\u001b[0m \u001b[0;32min\u001b[0m \u001b[0mmeminfo\u001b[0m\u001b[0;34m}\u001b[0m\u001b[0;34m\u001b[0m\u001b[0;34m\u001b[0m\u001b[0m\n\u001b[0m\u001b[1;32m      5\u001b[0m \u001b[0;34m\u001b[0m\u001b[0m\n\u001b[1;32m      6\u001b[0m     \u001b[0;32mif\u001b[0m \u001b[0mmemory_info\u001b[0m\u001b[0;34m[\u001b[0m\u001b[0;34m'MemTotal'\u001b[0m\u001b[0;34m]\u001b[0m \u001b[0;34m>\u001b[0m \u001b[0;36m17000000\u001b[0m\u001b[0;34m:\u001b[0m\u001b[0;34m\u001b[0m\u001b[0;34m\u001b[0m\u001b[0m\n",
      "\u001b[0;31mValueError\u001b[0m: invalid literal for int() with base 10: '/proc/meminfo'"
     ]
    }
   ],
   "source": [
    "try:\n",
    "    import sys,os,subprocess\n",
    "    \n",
    "    upgrade_runtime_ram()\n",
    "    setup_drive()\n",
    "\n",
    "    #Setting up PyPi Packages\n",
    "    !pip install geopandas sparse-dot-topn pdpipe category-encoders catboost\n",
    "    import geopandas as gpd\n",
    "    import sparse_dot_topn.sparse_dot_topn as ct\n",
    "    import pdpipe as pdp\n",
    "    import category_encoders\n",
    "\n",
    "    #Setting up Conda Packages\n",
    "    setup_conda()\n",
    "    \n",
    "    #Initializing NLTK\n",
    "    import nltk\n",
    "    nltk.download('stopwords')\n",
    "    nltk.download('punkt')\n",
    "    \n",
    "    #Setting up RAPIDS AI\n",
    "    import pynvml\n",
    "    setup_rapids()\n",
    "    \n",
    "    from cuml import UMAP\n",
    "    \n",
    "except ModuleNotFoundError as e:\n",
    "    print(e)\n",
    "    print('Not in colab environment, continuing to run locally')\n",
    "    from umap import UMAP"
   ]
  },
  {
   "cell_type": "markdown",
   "metadata": {
    "colab_type": "text",
    "id": "Kvn45BG28aqd"
   },
   "source": [
    "## Imports"
   ]
  },
  {
   "cell_type": "code",
   "execution_count": 7,
   "metadata": {
    "colab": {},
    "colab_type": "code",
    "id": "IRijjSry8aqf"
   },
   "outputs": [],
   "source": [
    "%matplotlib inline\n",
    "import pandas as pd\n",
    "import numpy as np\n",
    "from tqdm import tqdm\n",
    "import matplotlib.pyplot as plt\n",
    "from sklearn.linear_model import SGDRegressor\n",
    "from sklearn.preprocessing import StandardScaler\n",
    "from sklearn.model_selection import GridSearchCV, train_test_split,  StratifiedKFold\n",
    "from sklearn.pipeline import Pipeline\n",
    "from sklearn.metrics import mean_absolute_error, mean_squared_error, r2_score\n",
    "tqdm.pandas()"
   ]
  },
  {
   "cell_type": "code",
   "execution_count": 8,
   "metadata": {
    "colab": {},
    "colab_type": "code",
    "id": "fEgS7UQD8aqk"
   },
   "outputs": [],
   "source": [
    "from sklearn.model_selection import train_test_split\n",
    "from sklearn.impute import SimpleImputer\n",
    "from sklearn.compose import ColumnTransformer\n",
    "from sklearn.preprocessing import OneHotEncoder, FunctionTransformer\n",
    "from sklearn.model_selection import KFold\n",
    "from sklearn.dummy import DummyRegressor\n",
    "from sklearn.ensemble import RandomForestRegressor\n",
    "from sklearn.decomposition import PCA"
   ]
  },
  {
   "cell_type": "code",
   "execution_count": 9,
   "metadata": {
    "colab": {},
    "colab_type": "code",
    "id": "u5KwAwAe8aqp"
   },
   "outputs": [],
   "source": [
    "from lib.transformers import *\n",
    "from lib.pipelines import *\n",
    "from lib.processing import save_to_pkl, load_from_pkl\n",
    "from lib.visualization import GridSearchPlotter\n",
    "from data.util.paths import DATA_PATH"
   ]
  },
  {
   "cell_type": "code",
   "execution_count": 10,
   "metadata": {
    "colab": {},
    "colab_type": "code",
    "id": "ixGjIOwS8aq1"
   },
   "outputs": [],
   "source": [
    "from category_encoders.leave_one_out import LeaveOneOutEncoder"
   ]
  },
  {
   "cell_type": "code",
   "execution_count": 11,
   "metadata": {
    "colab": {},
    "colab_type": "code",
    "id": "X4_WNHlLW7Lt"
   },
   "outputs": [],
   "source": [
    "try:\n",
    "    from cuml import LinearRegression, RandomForestRegressor, Ridge\n",
    "except ModuleNotFoundError:\n",
    "    from sklearn.linear_model import SGDRegressor"
   ]
  },
  {
   "cell_type": "code",
   "execution_count": 12,
   "metadata": {
    "colab": {},
    "colab_type": "code",
    "id": "K3Ig2yYxXIrV"
   },
   "outputs": [],
   "source": [
    "from catboost import CatBoostRegressor"
   ]
  },
  {
   "cell_type": "markdown",
   "metadata": {
    "colab_type": "text",
    "id": "YwJ6GSBC3Qtz"
   },
   "source": [
    "## Loading Data"
   ]
  },
  {
   "cell_type": "code",
   "execution_count": 13,
   "metadata": {
    "colab": {},
    "colab_type": "code",
    "id": "RiNFe3gX3Qtz"
   },
   "outputs": [],
   "source": [
    "metadata_df, image_embeddings_df = tuple(load_from_pkl(i,DATA_PATH) for i in ('metadata','image_embeddings'))\n",
    "df = metadata_df.merge(image_embeddings_df,how='inner',on='release_id')\n",
    "df = OutlierRemover(features=['number_of_tracks'] + [i for i in df.columns if 'umap' in i]).fit_transform(df[(df['running_time'] < 180) | (df['running_time'].isna())])"
   ]
  },
  {
   "cell_type": "code",
   "execution_count": 14,
   "metadata": {
    "colab": {},
    "colab_type": "code",
    "id": "8-JguLVU4_kn"
   },
   "outputs": [],
   "source": [
    "del metadata_df, image_embeddings_df"
   ]
  },
  {
   "cell_type": "code",
   "execution_count": 15,
   "metadata": {
    "colab": {},
    "colab_type": "code",
    "id": "1hbzpOTylHCB"
   },
   "outputs": [
    {
     "data": {
      "application/vnd.jupyter.widget-view+json": {
       "model_id": "d0fd401199a9499f838cea05b072c3fc",
       "version_major": 2,
       "version_minor": 0
      },
      "text/plain": [
       "HBox(children=(FloatProgress(value=0.0, max=8.0), HTML(value='')))"
      ]
     },
     "metadata": {},
     "output_type": "display_data"
    },
    {
     "name": "stdout",
     "output_type": "stream",
     "text": [
      "\n"
     ]
    }
   ],
   "source": [
    "col_set = {\n",
    "    'format': {\n",
    "        'description': 'format_description_', \n",
    "        'name': 'format_name_', \n",
    "        'text': ('format_text_clean'),\n",
    "        'quantity': ('format_quantity')\n",
    "    },\n",
    "    'geography': {\n",
    "        'superregion': 'superregion_',\n",
    "        'region': 'region_',\n",
    "        'country': 'country_'\n",
    "    },\n",
    "    'timeperiod': {\n",
    "        'period': 'period_',\n",
    "        'era': 'era_'\n",
    "    },\n",
    "    'genre': 'genre_',\n",
    "    'style': 'style_',\n",
    "    'null': None,\n",
    "    'indicator': lambda x: x.max() == 1 and x.min() == 0,\n",
    "    'image_embedding': 'image_umap_'\n",
    "}\n",
    "column_store = ColumnStore()\n",
    "column_store.fit(df,col_set)"
   ]
  },
  {
   "cell_type": "markdown",
   "metadata": {
    "colab_type": "text",
    "id": "Gz00X-1E8arN"
   },
   "source": [
    "## Preparing for Machine Learning"
   ]
  },
  {
   "cell_type": "code",
   "execution_count": 16,
   "metadata": {
    "colab": {},
    "colab_type": "code",
    "id": "7hLwsGal8arO"
   },
   "outputs": [],
   "source": [
    "X_tr, X_te, y_tr, y_te = train_test_split(df.drop('market_value',axis=1),df.market_value)"
   ]
  },
  {
   "cell_type": "code",
   "execution_count": 17,
   "metadata": {
    "colab": {},
    "colab_type": "code",
    "id": "btPvMT9ZAfi3"
   },
   "outputs": [],
   "source": [
    "df_sample = pd.concat([X_tr,y_tr],axis=1).sample(frac=0.1)\n",
    "X_tr_sample = df_sample.drop('market_value',axis=1)\n",
    "y_tr_sample = df_sample['market_value']"
   ]
  },
  {
   "cell_type": "code",
   "execution_count": 18,
   "metadata": {
    "colab": {},
    "colab_type": "code",
    "id": "KHFqqLDIZ8s-"
   },
   "outputs": [],
   "source": [
    "del df"
   ]
  },
  {
   "cell_type": "markdown",
   "metadata": {
    "colab_type": "text",
    "id": "pk_qZ4Lu947Y"
   },
   "source": [
    "## Setting up Dummy Regression for baseline"
   ]
  },
  {
   "cell_type": "code",
   "execution_count": null,
   "metadata": {
    "colab": {},
    "colab_type": "code",
    "id": "tTWU4_un6lR2"
   },
   "outputs": [],
   "source": [
    "dummy_regressor = DummyRegressor(strategy='mean')"
   ]
  },
  {
   "cell_type": "code",
   "execution_count": null,
   "metadata": {
    "colab": {
     "base_uri": "https://localhost:8080/",
     "height": 35
    },
    "colab_type": "code",
    "id": "eq6ZiI7y7Rmd",
    "outputId": "e0ac1bf9-978e-41e4-99fd-f93705ccfb7f"
   },
   "outputs": [],
   "source": [
    "dummy_regressor.fit(X_tr,np.log(y_tr).values)"
   ]
  },
  {
   "cell_type": "code",
   "execution_count": null,
   "metadata": {
    "colab": {},
    "colab_type": "code",
    "id": "3ET6x4I-DXWP"
   },
   "outputs": [],
   "source": [
    "dummy_pred = dummy_regressor.predict(X_te)"
   ]
  },
  {
   "cell_type": "code",
   "execution_count": null,
   "metadata": {
    "colab": {
     "base_uri": "https://localhost:8080/",
     "height": 35
    },
    "colab_type": "code",
    "id": "h-oMdqdnDUjz",
    "outputId": "5d726b4f-7a14-4e9c-903b-bdf5d5747c10"
   },
   "outputs": [],
   "source": [
    "r2_score(y_te,np.exp(dummy_pred))"
   ]
  },
  {
   "cell_type": "code",
   "execution_count": null,
   "metadata": {
    "colab": {
     "base_uri": "https://localhost:8080/",
     "height": 35
    },
    "colab_type": "code",
    "id": "Gw0h8_hCC4x4",
    "outputId": "b8912322-9b33-47a3-bef9-9f3624f9ed73"
   },
   "outputs": [],
   "source": [
    "mean_absolute_error(y_te,np.exp(dummy_pred))"
   ]
  },
  {
   "cell_type": "markdown",
   "metadata": {
    "colab_type": "text",
    "id": "DYJYPpPP-AaC"
   },
   "source": [
    "## Linear Regression - Record Store"
   ]
  },
  {
   "cell_type": "code",
   "execution_count": 31,
   "metadata": {
    "colab": {},
    "colab_type": "code",
    "id": "jdZPu4pjGtE8"
   },
   "outputs": [],
   "source": [
    "from sklearn.preprocessing import RobustScaler\n",
    "from sklearn.preprocessing import MinMaxScaler"
   ]
  },
  {
   "cell_type": "code",
   "execution_count": null,
   "metadata": {
    "colab": {},
    "colab_type": "code",
    "id": "WCI8WWUu8ard"
   },
   "outputs": [],
   "source": [
    "record_store_lr_transformer = ColumnTransformer(transformers=[\n",
    "    ('year_encoder', OneHotEncoder(dtype=np.uint8,handle_unknown='ignore'), ['year'])\n",
    "], remainder='passthrough')"
   ]
  },
  {
   "cell_type": "code",
   "execution_count": 33,
   "metadata": {
    "colab": {},
    "colab_type": "code",
    "id": "AZHfrogk8arh"
   },
   "outputs": [],
   "source": [
    "record_store_lr_removal_columns = set([\n",
    "    'market_price','units_for_sale','have','want','average_rating','rating_count','last_sold','lowest','median',\n",
    "    'highest','track_titles','country','genre','style','community_have','community_want','formats','thumb_url',\n",
    "    'release_url','format_description','days_since_last_sale','title', 'release_id'\n",
    "])"
   ]
  },
  {
   "cell_type": "code",
   "execution_count": null,
   "metadata": {
    "colab": {},
    "colab_type": "code",
    "id": "sRH_P30fEM-W"
   },
   "outputs": [],
   "source": [
    "record_store_lr_processing = Pipeline([\n",
    "    ('running_time_imputer',RunningTimeImputer('running_time','number_of_tracks')),\n",
    "    ('leave_one_out_encoding', LeaveOneOutEncoder(cols=['artist','label','format_text','master_id','format_name'])),\n",
    "    ('record_store_column_remover', ColumnRemover(record_store_lr_removal_columns)),\n",
    "    ('preprocessing',record_store_lr_transformer),\n",
    "    ('scaler', RobustScaler()),                             \n",
    "])\n",
    "\n",
    "record_store_lr_pipe = Pipeline([\n",
    "    ('processing', record_store_lr_processing),\n",
    "    ('lr', GridSearchCV(\n",
    "        LinearRegression(),\n",
    "        param_grid={\n",
    "            'normalize': [True, False]\n",
    "        },\n",
    "        cv=KFold(n_splits=5,shuffle=True),\n",
    "        scoring='neg_mean_absolute_error',\n",
    "        verbose=5,\n",
    "        n_jobs=-1,\n",
    "    ))\n",
    "])"
   ]
  },
  {
   "cell_type": "code",
   "execution_count": null,
   "metadata": {
    "colab": {
     "base_uri": "https://localhost:8080/",
     "height": 35
    },
    "colab_type": "code",
    "id": "bVqYCgf9EMzZ",
    "outputId": "8528f911-4155-4f1c-b3cc-0bb6106b7f23"
   },
   "outputs": [],
   "source": [
    "record_store_lr_pipe.steps[-1][-1].best_score_"
   ]
  },
  {
   "cell_type": "code",
   "execution_count": null,
   "metadata": {
    "colab": {
     "base_uri": "https://localhost:8080/",
     "height": 53
    },
    "colab_type": "code",
    "id": "W6IhcYpqEMuK",
    "outputId": "e314bd23-4611-4efe-dba4-e801d8b108a6"
   },
   "outputs": [],
   "source": [
    "record_store_lr_pred = record_store_lr_pipe.predict(X_te)"
   ]
  },
  {
   "cell_type": "code",
   "execution_count": null,
   "metadata": {
    "colab": {
     "base_uri": "https://localhost:8080/",
     "height": 35
    },
    "colab_type": "code",
    "id": "IVdPIxrzEMoC",
    "outputId": "3e73eea3-a84e-4e19-cfc3-c700d640624f"
   },
   "outputs": [],
   "source": [
    "r2_score(y_te,np.exp(record_store_lr_pred))"
   ]
  },
  {
   "cell_type": "code",
   "execution_count": null,
   "metadata": {
    "colab": {
     "base_uri": "https://localhost:8080/",
     "height": 35
    },
    "colab_type": "code",
    "id": "opzrKU8LE5DR",
    "outputId": "0fab6eb1-3cf6-4362-b468-ea5adf8d1b67"
   },
   "outputs": [],
   "source": [
    "mean_absolute_error(y_te,np.exp(record_store_lr_pred))"
   ]
  },
  {
   "cell_type": "markdown",
   "metadata": {
    "colab_type": "text",
    "id": "JwtgnOdrk1hP"
   },
   "source": [
    "## Linear Regression - Full Information"
   ]
  },
  {
   "cell_type": "code",
   "execution_count": null,
   "metadata": {
    "colab": {},
    "colab_type": "code",
    "id": "2ujcQMHOk1hQ"
   },
   "outputs": [],
   "source": [
    "full_information_lr_transformer = ColumnTransformer(transformers=[\n",
    "    ('units_for_sale_imputer', SimpleImputer(strategy='constant',fill_value=0),['units_for_sale']),\n",
    "    ('average_rating_imputer', SimpleImputer(strategy='mean'),['average_rating']),\n",
    "    ('year_encoder', OneHotEncoder(dtype=np.uint8,handle_unknown='ignore'), ['year'])\n",
    "], remainder='passthrough')"
   ]
  },
  {
   "cell_type": "code",
   "execution_count": 34,
   "metadata": {
    "colab": {},
    "colab_type": "code",
    "id": "p8irOAHLk1hU"
   },
   "outputs": [],
   "source": [
    "full_information_columns = set([\n",
    "    'units_for_sale','community_have','community_want','average_rating','rating_count'\n",
    "])\n",
    "full_information_lr_removal_columns = record_store_lr_removal_columns - full_information_columns"
   ]
  },
  {
   "cell_type": "code",
   "execution_count": null,
   "metadata": {
    "colab": {},
    "colab_type": "code",
    "id": "lddHv-fzk1hX"
   },
   "outputs": [],
   "source": [
    "full_information_lr_pipe = Pipeline([\n",
    "    ('running_time_imputer',RunningTimeImputer('running_time','number_of_tracks')),\n",
    "    ('leave_one_out_encoding', LeaveOneOutEncoder(cols=['artist','label','format_text','master_id','format_name'])),\n",
    "    ('record_store_column_remover', ColumnRemover(full_information_lr_removal_columns)),\n",
    "    ('preprocessing',full_information_lr_transformer),\n",
    "    ('scaler', RobustScaler()),\n",
    "    ('lr', GridSearchCV(\n",
    "        LinearRegression(),\n",
    "        param_grid={\n",
    "            'normalize':[False,True]\n",
    "        },\n",
    "        cv=KFold(n_splits=5,shuffle=True),\n",
    "        scoring='neg_mean_absolute_error',\n",
    "        verbose=5,\n",
    "        n_jobs=-1,\n",
    "    ))\n",
    "])"
   ]
  },
  {
   "cell_type": "code",
   "execution_count": null,
   "metadata": {
    "colab": {
     "base_uri": "https://localhost:8080/",
     "height": 447
    },
    "colab_type": "code",
    "id": "GIxWE4WUk1hb",
    "outputId": "ae129a50-c398-4235-ba1f-02c730d26754"
   },
   "outputs": [],
   "source": [
    "full_information_lr_pipe.fit(X_tr,np.log(y_tr).values)"
   ]
  },
  {
   "cell_type": "code",
   "execution_count": null,
   "metadata": {
    "colab": {
     "base_uri": "https://localhost:8080/",
     "height": 35
    },
    "colab_type": "code",
    "id": "zK4yVrywk1hf",
    "outputId": "d3991b7e-4b5a-410e-ff5b-f583d54b9a5f"
   },
   "outputs": [],
   "source": [
    "full_information_lr_pipe['lr'].best_score_"
   ]
  },
  {
   "cell_type": "code",
   "execution_count": null,
   "metadata": {
    "colab": {
     "base_uri": "https://localhost:8080/",
     "height": 53
    },
    "colab_type": "code",
    "id": "lK9EGfANk1hk",
    "outputId": "cb6d4db1-c97f-4824-c608-1778d2557218"
   },
   "outputs": [],
   "source": [
    "full_information_lr_pred = record_store_lr_pipe.predict(X_te)"
   ]
  },
  {
   "cell_type": "code",
   "execution_count": null,
   "metadata": {
    "colab": {
     "base_uri": "https://localhost:8080/",
     "height": 35
    },
    "colab_type": "code",
    "id": "lSQPebt_k1hm",
    "outputId": "b12de61c-c881-4154-b523-2c94145aa2ae"
   },
   "outputs": [],
   "source": [
    "r2_score(y_te,np.exp(full_information_lr_pred))"
   ]
  },
  {
   "cell_type": "code",
   "execution_count": null,
   "metadata": {
    "colab": {
     "base_uri": "https://localhost:8080/",
     "height": 35
    },
    "colab_type": "code",
    "id": "sHCTKQZhk1hq",
    "outputId": "b8d9a8da-999f-4164-ef0d-bc6cbc2400fe"
   },
   "outputs": [],
   "source": [
    "mean_absolute_error(y_te,np.exp(full_information_lr_pred))"
   ]
  },
  {
   "cell_type": "markdown",
   "metadata": {
    "colab_type": "text",
    "id": "ultNKJlHk1ht"
   },
   "source": [
    "## Lasso Regression - Record Store"
   ]
  },
  {
   "cell_type": "markdown",
   "metadata": {
    "colab_type": "text",
    "id": "BeRH6I5Mk1ht"
   },
   "source": [
    "## Lasso Regression - Full Information"
   ]
  },
  {
   "cell_type": "markdown",
   "metadata": {
    "colab_type": "text",
    "id": "Qr2uI56yk1hu"
   },
   "source": [
    "## Ridge Regression - Record Store"
   ]
  },
  {
   "cell_type": "code",
   "execution_count": null,
   "metadata": {
    "colab": {},
    "colab_type": "code",
    "id": "2naE4XOKk1hv"
   },
   "outputs": [],
   "source": [
    "record_store_ridge_removal_columns, record_store_ridge_transformer, full_information_ridge_removal_columns, full_information_ridge_transformer = (\n",
    "    record_store_lr_removal_columns,\n",
    "    record_store_lr_transformer,\n",
    "    full_information_lr_removal_columns,\n",
    "    full_information_lr_transformer\n",
    ")"
   ]
  },
  {
   "cell_type": "code",
   "execution_count": null,
   "metadata": {
    "colab": {},
    "colab_type": "code",
    "id": "BP1pxaQ18arp"
   },
   "outputs": [],
   "source": [
    "record_store_ridge_pipe = Pipeline([\n",
    "    ('running_time_imputer',RunningTimeImputer('running_time','number_of_tracks')),\n",
    "    ('leave_one_out_encoding', LeaveOneOutEncoder(cols=['artist','label','format_text','format_name','master_id'])),\n",
    "    ('record_store_column_remover', ColumnRemover(record_store_ridge_removal_columns)),\n",
    "    ('preprocessing',record_store_ridge_transformer),\n",
    "    ('scaler', RobustScaler()),\n",
    "    ('ridge', GridSearchCV(\n",
    "        Ridge(normalize=False,solver='eig'),\n",
    "        param_grid={\n",
    "            'alpha': np.linspace(1e-3,1e3,10),\n",
    "        },\n",
    "        cv=KFold(n_splits=5,shuffle=True),\n",
    "        scoring='neg_mean_absolute_error',\n",
    "        verbose=5,\n",
    "        n_jobs=-1,\n",
    "        return_train_score=True\n",
    "    ))\n",
    "])"
   ]
  },
  {
   "cell_type": "code",
   "execution_count": null,
   "metadata": {
    "colab": {
     "base_uri": "https://localhost:8080/",
     "height": 501
    },
    "colab_type": "code",
    "id": "edNLg2KryH4q",
    "outputId": "853a8bde-1f64-4251-997b-ba4337015526"
   },
   "outputs": [],
   "source": [
    "record_store_ridge_pipe.fit(X_tr,np.log(y_tr).values)"
   ]
  },
  {
   "cell_type": "code",
   "execution_count": null,
   "metadata": {
    "colab": {},
    "colab_type": "code",
    "id": "z7tlJO3u-Tl4"
   },
   "outputs": [],
   "source": [
    "plotter = GridSearchPlotter(record_store_ridge_pipe['ridge'])"
   ]
  },
  {
   "cell_type": "code",
   "execution_count": null,
   "metadata": {
    "colab": {
     "base_uri": "https://localhost:8080/",
     "height": 295
    },
    "colab_type": "code",
    "id": "jla1YIhr-TgT",
    "outputId": "187ab6c9-e99a-42a6-a5f7-3cc87eec62c7"
   },
   "outputs": [],
   "source": [
    "plotter.plot_validation_curve(parameter='alpha',ylim=(-0.75,-0.25))"
   ]
  },
  {
   "cell_type": "code",
   "execution_count": null,
   "metadata": {
    "colab": {
     "base_uri": "https://localhost:8080/",
     "height": 35
    },
    "colab_type": "code",
    "id": "cxR9zl4f-hk9",
    "outputId": "05a4bc38-b205-4f88-e5dc-1b43859c7035"
   },
   "outputs": [],
   "source": [
    "record_store_ridge_pipe['ridge'].best_score_"
   ]
  },
  {
   "cell_type": "code",
   "execution_count": null,
   "metadata": {
    "colab": {
     "base_uri": "https://localhost:8080/",
     "height": 35
    },
    "colab_type": "code",
    "id": "cbV-3Q9A0-hi",
    "outputId": "cf6b79fe-70a1-4af8-93c6-42c87d52d607"
   },
   "outputs": [],
   "source": [
    "record_store_ridge_pipe['ridge'].best_params_"
   ]
  },
  {
   "cell_type": "code",
   "execution_count": null,
   "metadata": {
    "colab": {
     "base_uri": "https://localhost:8080/",
     "height": 53
    },
    "colab_type": "code",
    "id": "db1qMG0e8ar7",
    "outputId": "5ce24509-0853-49ea-f89e-95d662c7beb1"
   },
   "outputs": [],
   "source": [
    "record_store_ridge_pred = record_store_ridge_pipe.predict(X_te)"
   ]
  },
  {
   "cell_type": "code",
   "execution_count": null,
   "metadata": {
    "colab": {
     "base_uri": "https://localhost:8080/",
     "height": 35
    },
    "colab_type": "code",
    "id": "GsQHxrUE8ar-",
    "outputId": "f60570ec-abe0-44fd-d6b9-4f9f63d2468e"
   },
   "outputs": [],
   "source": [
    "r2_score(y_te,np.exp(record_store_ridge_pred))"
   ]
  },
  {
   "cell_type": "code",
   "execution_count": null,
   "metadata": {
    "colab": {
     "base_uri": "https://localhost:8080/",
     "height": 35
    },
    "colab_type": "code",
    "id": "9oKBWYEo8asD",
    "outputId": "098414ed-81fb-4db2-d800-b4b57cd5b887"
   },
   "outputs": [],
   "source": [
    "mean_absolute_error(y_te,np.exp(record_store_ridge_pred))"
   ]
  },
  {
   "cell_type": "markdown",
   "metadata": {
    "colab_type": "text",
    "id": "Cnmd7rIWk1iS"
   },
   "source": [
    "## Ridge - Full Information"
   ]
  },
  {
   "cell_type": "code",
   "execution_count": null,
   "metadata": {
    "colab": {},
    "colab_type": "code",
    "id": "Rlb1Z8CEk1iT"
   },
   "outputs": [],
   "source": [
    "full_information_ridge_pipe = Pipeline([\n",
    "    ('running_time_imputer',RunningTimeImputer('running_time','number_of_tracks')),\n",
    "    ('leave_one_out_encoding', LeaveOneOutEncoder(cols=['artist','label','format_text','format_name','master_id'])),\n",
    "    ('record_store_column_remover', ColumnRemover(full_information_ridge_removal_columns)),\n",
    "    ('preprocessing',full_information_ridge_transformer),\n",
    "    ('scaler', StandardScaler()),\n",
    "    ('ridge', GridSearchCV(\n",
    "        Ridge(normalize=False,solver='eig'),\n",
    "        param_grid={\n",
    "            'alpha': np.logspace(-3,3,10),\n",
    "        },\n",
    "        cv=KFold(n_splits=5,shuffle=True),\n",
    "        scoring='neg_mean_absolute_error',\n",
    "        verbose=5,\n",
    "        n_jobs=-1,\n",
    "        return_train_score=True\n",
    "    ))\n",
    "])"
   ]
  },
  {
   "cell_type": "code",
   "execution_count": null,
   "metadata": {
    "colab": {
     "base_uri": "https://localhost:8080/",
     "height": 519
    },
    "colab_type": "code",
    "id": "6CSH5O1jk1iX",
    "outputId": "f3146566-b603-4e0c-e22f-194d2e89b8ca"
   },
   "outputs": [],
   "source": [
    "full_information_ridge_pipe.fit(X_tr,np.log(y_tr).values)"
   ]
  },
  {
   "cell_type": "code",
   "execution_count": null,
   "metadata": {
    "colab": {},
    "colab_type": "code",
    "id": "yGvB5HQEk1ib"
   },
   "outputs": [],
   "source": [
    "plotter = GridSearchPlotter(full_information_ridge_pipe['ridge'])"
   ]
  },
  {
   "cell_type": "code",
   "execution_count": null,
   "metadata": {
    "colab": {
     "base_uri": "https://localhost:8080/",
     "height": 295
    },
    "colab_type": "code",
    "id": "FALIex5Ak1ie",
    "outputId": "6be139bb-2fb1-457c-9d6b-faa8ec57e7b1"
   },
   "outputs": [],
   "source": [
    "plotter.plot_validation_curve(parameter='alpha',ylim=(-0.75,-0.25))"
   ]
  },
  {
   "cell_type": "code",
   "execution_count": null,
   "metadata": {
    "colab": {
     "base_uri": "https://localhost:8080/",
     "height": 35
    },
    "colab_type": "code",
    "id": "JFbucWgVk1ih",
    "outputId": "d8089ca9-6f17-4d17-86b8-cdb40263f0a3"
   },
   "outputs": [],
   "source": [
    "full_information_ridge_pipe['ridge'].best_score_"
   ]
  },
  {
   "cell_type": "code",
   "execution_count": null,
   "metadata": {
    "colab": {
     "base_uri": "https://localhost:8080/",
     "height": 35
    },
    "colab_type": "code",
    "id": "DmY50t1kk1iz",
    "outputId": "ef8cedc1-2876-4bf7-e589-969806260a09"
   },
   "outputs": [],
   "source": [
    "full_information_ridge_pipe['ridge'].best_params_"
   ]
  },
  {
   "cell_type": "code",
   "execution_count": null,
   "metadata": {
    "colab": {
     "base_uri": "https://localhost:8080/",
     "height": 53
    },
    "colab_type": "code",
    "id": "IPsBz9Yhk1i1",
    "outputId": "cca1975d-fdf9-429a-fea9-ed828f115067"
   },
   "outputs": [],
   "source": [
    "full_information_ridge_pred = full_information_ridge_pipe.predict(X_te)"
   ]
  },
  {
   "cell_type": "code",
   "execution_count": null,
   "metadata": {
    "colab": {
     "base_uri": "https://localhost:8080/",
     "height": 35
    },
    "colab_type": "code",
    "id": "KfoM7GS6k1i4",
    "outputId": "be8323e1-8ec1-4a85-eeda-70b709ed6c42"
   },
   "outputs": [],
   "source": [
    "r2_score(y_te,np.exp(full_information_ridge_pred))"
   ]
  },
  {
   "cell_type": "code",
   "execution_count": null,
   "metadata": {
    "colab": {
     "base_uri": "https://localhost:8080/",
     "height": 35
    },
    "colab_type": "code",
    "id": "uNXNcesPk1i6",
    "outputId": "29aebce8-fda0-4ead-83fb-8242836c2290"
   },
   "outputs": [],
   "source": [
    "mean_absolute_error(y_te,np.exp(full_information_ridge_pred))"
   ]
  },
  {
   "cell_type": "markdown",
   "metadata": {
    "colab_type": "text",
    "id": "fbreYK1X8asG"
   },
   "source": [
    "## Random Forest - Record Store"
   ]
  },
  {
   "cell_type": "code",
   "execution_count": null,
   "metadata": {
    "colab": {},
    "colab_type": "code",
    "id": "McTksN6VGPnv"
   },
   "outputs": [],
   "source": [
    "record_store_random_forest_removal_columns = [\n",
    "    'market_price','units_for_sale','have','want','average_rating','rating_count','last_sold','lowest','median',\n",
    "    'highest','track_titles','country','genre','style','community_have','community_want','formats','thumb_url',\n",
    "    'release_url','format_description','days_since_last_sale','title','release_id'\n",
    "]\n",
    "record_store_random_forest_removal_columns.extend(\n",
    "    column_store._indicator\n",
    ")\n",
    "record_store_random_forest_removal_columns = set(record_store_random_forest_removal_columns)"
   ]
  },
  {
   "cell_type": "code",
   "execution_count": null,
   "metadata": {
    "colab": {},
    "colab_type": "code",
    "id": "BPf-IJfD8asO"
   },
   "outputs": [],
   "source": [
    "record_store_random_forest_preprocessing_pipe = Pipeline([\n",
    "    ('running_time_imputer',RunningTimeImputer('running_time','number_of_tracks')),\n",
    "    ('leave_one_out_encoding', LeaveOneOutEncoder(cols=['artist','label','format_text','format_name','master_id','year'])),\n",
    "    ('reduce_indicators', IndicatorReducer(indicators=column_store._indicator,algorithm=PCA,components=40)),\n",
    "    ('record_store_column_remover', ColumnRemover(record_store_random_forest_removal_columns)),\n",
    "    ('cast_to_32', FunctionTransformer(func=lambda x: x.values.astype(np.float32)))\n",
    "])\n",
    "\n",
    "random_forest = RandomForestRegressor()\n",
    "\n",
    "record_store_random_forest_search_pipe = Pipeline([\n",
    "    ('preprocessing',record_store_random_forest_preprocessing_pipe),\n",
    "    ('grid_search', GridSearchCV(\n",
    "        random_forest,\n",
    "        cv=KFold(n_splits=5,shuffle=True),\n",
    "        param_grid={\n",
    "            'n_estimators': np.linspace(10,200,5).astype(int)\n",
    "        },\n",
    "        verbose=50,\n",
    "        scoring='neg_mean_absolute_error',\n",
    "        n_jobs=-1,\n",
    "        return_train_score=True\n",
    "    ))\n",
    "])\n",
    "\n",
    "record_store_random_forest_pipe = Pipeline([\n",
    "    ('preprocessing',record_store_random_forest_preprocessing_pipe),\n",
    "    ('random_forest',random_forest)\n",
    "])"
   ]
  },
  {
   "cell_type": "code",
   "execution_count": null,
   "metadata": {
    "colab": {},
    "colab_type": "code",
    "id": "l97EbEPB8asR"
   },
   "outputs": [],
   "source": [
    "record_store_random_forest_search_pipe.fit(X_tr_sample,np.log(y_tr_sample).values.astype(np.float32))"
   ]
  },
  {
   "cell_type": "code",
   "execution_count": null,
   "metadata": {
    "colab": {},
    "colab_type": "code",
    "id": "2awntfVd_nAJ"
   },
   "outputs": [],
   "source": [
    "record_store_random_forest_plotter = GridSearchPlotter(record_store_random_forest_search_pipe.steps[-1][1])\n",
    "record_store_random_forest_plotter.plot_validation_curve(parameter='n_estimators',ylim=(-1,0))"
   ]
  },
  {
   "cell_type": "code",
   "execution_count": null,
   "metadata": {
    "colab": {},
    "colab_type": "code",
    "id": "kIzLmO8Bzkdr"
   },
   "outputs": [],
   "source": [
    "record_store_random_forest_search_pipe.steps[-1][1].best_score_"
   ]
  },
  {
   "cell_type": "code",
   "execution_count": null,
   "metadata": {
    "colab": {},
    "colab_type": "code",
    "id": "1Jh6GfwRzk2n"
   },
   "outputs": [],
   "source": [
    "record_store_random_forest_search_pipe.steps[-1][1].best_params_"
   ]
  },
  {
   "cell_type": "code",
   "execution_count": null,
   "metadata": {
    "colab": {},
    "colab_type": "code",
    "id": "7HMokfJnMYzZ"
   },
   "outputs": [],
   "source": [
    "record_store_random_forest_pipe.fit(X_tr,np.log(y_tr).values.astype(np.float32))"
   ]
  },
  {
   "cell_type": "code",
   "execution_count": null,
   "metadata": {
    "colab": {},
    "colab_type": "code",
    "id": "VrdorFhMMe2P"
   },
   "outputs": [],
   "source": [
    "record_store_random_forest_te_pred = record_store_random_forest_pipe.predict(X_te)"
   ]
  },
  {
   "cell_type": "code",
   "execution_count": null,
   "metadata": {
    "colab": {},
    "colab_type": "code",
    "id": "PoTlw3MJPbkq"
   },
   "outputs": [],
   "source": [
    "pd.Series(record_store_random_forest_te_pred).describe()"
   ]
  },
  {
   "cell_type": "code",
   "execution_count": null,
   "metadata": {
    "colab": {},
    "colab_type": "code",
    "id": "y1Ko_cUBMoEy"
   },
   "outputs": [],
   "source": [
    "r2_score(y_te,np.exp(record_store_random_forest_te_pred))"
   ]
  },
  {
   "cell_type": "code",
   "execution_count": null,
   "metadata": {
    "colab": {},
    "colab_type": "code",
    "id": "R3cCwv8t0E4R"
   },
   "outputs": [],
   "source": [
    "mean_absolute_error(y_te,np.exp(record_store_random_forest_te_pred))"
   ]
  },
  {
   "cell_type": "markdown",
   "metadata": {
    "colab_type": "text",
    "id": "gJZdJtJbk1jW"
   },
   "source": [
    "## Random Forest - Full Information"
   ]
  },
  {
   "cell_type": "code",
   "execution_count": null,
   "metadata": {
    "colab": {},
    "colab_type": "code",
    "id": "yQGDq3REk1jW"
   },
   "outputs": [],
   "source": [
    "full_information_random_forest_removal_columns = record_store_random_forest_removal_columns - full_information_columns"
   ]
  },
  {
   "cell_type": "code",
   "execution_count": null,
   "metadata": {
    "colab": {},
    "colab_type": "code",
    "id": "pBKFROVdk1jb"
   },
   "outputs": [],
   "source": [
    "full_information_random_forest_transformer = ColumnTransformer(transformers=[\n",
    "    ('units_for_sale_imputer', SimpleImputer(strategy='constant',fill_value=0),['units_for_sale']),\n",
    "    ('average_rating_imputer', SimpleImputer(strategy='mean'),['average_rating']),\n",
    "], remainder='passthrough')"
   ]
  },
  {
   "cell_type": "code",
   "execution_count": null,
   "metadata": {
    "colab": {},
    "colab_type": "code",
    "id": "zuNSCmnTk1jd"
   },
   "outputs": [],
   "source": [
    "full_information_random_forest_preprocessing_pipe = Pipeline([\n",
    "    ('running_time_imputer',RunningTimeImputer('running_time','number_of_tracks')),\n",
    "    ('leave_one_out_encoding', LeaveOneOutEncoder(cols=['artist','label','format_text','format_name','master_id','year'])),\n",
    "    ('reduce_indicators', IndicatorReducer(indicators=column_store._indicator,algorithm=PCA,components=40)),\n",
    "    ('record_store_column_remover', ColumnRemover(full_information_random_forest_removal_columns)),\n",
    "    ('cast_to_32', FunctionTransformer(func=lambda x: x.values.astype(np.float32)))\n",
    "])\n",
    "\n",
    "random_forest = RandomForestRegressor()\n",
    "\n",
    "full_information_random_forest_search_pipe = Pipeline([\n",
    "    ('preprocessing',full_information_random_forest_preprocessing_pipe),\n",
    "    ('grid_search', GridSearchCV(\n",
    "        random_forest,\n",
    "        cv=KFold(n_splits=5,shuffle=True),\n",
    "        param_grid={\n",
    "            'n_estimators': np.linspace(10,200,5).astype(int)\n",
    "        },\n",
    "        verbose=50,\n",
    "        scoring='neg_mean_absolute_error',\n",
    "        n_jobs=-1,\n",
    "        return_train_score=True\n",
    "    ))\n",
    "])\n",
    "\n",
    "full_information_random_forest_pipe = Pipeline([\n",
    "    ('preprocessing',random_forest_preprocessing_pipe),\n",
    "    ('random_forest',random_forest)\n",
    "])"
   ]
  },
  {
   "cell_type": "code",
   "execution_count": null,
   "metadata": {
    "colab": {},
    "colab_type": "code",
    "id": "lOo-_NUFk1jg"
   },
   "outputs": [],
   "source": [
    "full_information_random_forest_search_pipe.fit(X_tr_sample,np.log(y_tr_sample))"
   ]
  },
  {
   "cell_type": "code",
   "execution_count": null,
   "metadata": {
    "colab": {},
    "colab_type": "code",
    "id": "rCux94qKk1ji"
   },
   "outputs": [],
   "source": [
    "full_information_random_forest_plotter = GridSearchPlotter(random_forest_search_pipe.steps[-1][1])\n",
    "full_information_random_forest_plotter.plot_validation_curve(parameter='n_estimators',ylim=(-1,0))"
   ]
  },
  {
   "cell_type": "code",
   "execution_count": null,
   "metadata": {
    "colab": {},
    "colab_type": "code",
    "id": "jaoOYSogk1jk"
   },
   "outputs": [],
   "source": [
    "full_information_random_forest_search_pipe.steps[-1][1].best_score_"
   ]
  },
  {
   "cell_type": "code",
   "execution_count": null,
   "metadata": {
    "colab": {},
    "colab_type": "code",
    "id": "SLNosErgk1jn"
   },
   "outputs": [],
   "source": [
    "full_information_random_forest_search_pipe.steps[-1][1].best_params_"
   ]
  },
  {
   "cell_type": "code",
   "execution_count": null,
   "metadata": {
    "colab": {},
    "colab_type": "code",
    "id": "VvtlG6n3k1jq"
   },
   "outputs": [],
   "source": [
    "full_information_random_forest_pipe.fit(X_tr,np.log(y_tr).values.astype(np.float32))"
   ]
  },
  {
   "cell_type": "code",
   "execution_count": null,
   "metadata": {
    "colab": {},
    "colab_type": "code",
    "id": "k7iHVjV-k1jt"
   },
   "outputs": [],
   "source": [
    "full_information_random_forest_te_pred = random_forest_pipe.predict(X_te)"
   ]
  },
  {
   "cell_type": "code",
   "execution_count": null,
   "metadata": {
    "colab": {},
    "colab_type": "code",
    "id": "UBdw5WWqk1jv"
   },
   "outputs": [],
   "source": [
    "full_information_r2_score(y_te,np.exp(random_forest_te_pred))"
   ]
  },
  {
   "cell_type": "code",
   "execution_count": null,
   "metadata": {
    "colab": {},
    "colab_type": "code",
    "id": "ZQQ8J--Yk1jy"
   },
   "outputs": [],
   "source": [
    "full_information_mean_absolute_error(y_te,np.exp(random_forest_te_pred))"
   ]
  },
  {
   "cell_type": "markdown",
   "metadata": {
    "colab_type": "text",
    "id": "wcM8J6K68asg"
   },
   "source": [
    "## Catboost - Record Store"
   ]
  },
  {
   "cell_type": "code",
   "execution_count": 19,
   "metadata": {
    "colab": {},
    "colab_type": "code",
    "id": "OjIxG4pI8asl"
   },
   "outputs": [],
   "source": [
    "record_store_catboost_removal_columns = set([\n",
    "    'market_price','units_for_sale','have','want','average_rating','rating_count','last_sold','lowest','median',\n",
    "    'highest','track_titles','genre','style','community_have','community_want','formats','thumb_url',\n",
    "    'release_url','format_description','days_since_last_sale','title','release_id'\n",
    "])"
   ]
  },
  {
   "cell_type": "code",
   "execution_count": 23,
   "metadata": {
    "colab": {},
    "colab_type": "code",
    "id": "VCaEIJW18asr"
   },
   "outputs": [],
   "source": [
    "record_store_catboost_processing_pipe = Pipeline([\n",
    "    ('running_time_imputer',RunningTimeImputer('running_time','number_of_tracks')),\n",
    "    ('record_store_column_remover', ColumnRemover(record_store_catboost_removal_columns)),\n",
    "])\n",
    "\n",
    "catboost = CatBoostRegressor(\n",
    "    random_seed=0,\n",
    "    cat_features=['year','format_text','master_id','format_name','artist','label','country'],\n",
    "    boosting_type='Ordered',\n",
    "    n_estimators=100,\n",
    "    learning_rate=0.16681005,\n",
    "    l2_leaf_reg=3,\n",
    "    border_count=170,\n",
    "    max_depth=10,\n",
    ")\n",
    "\n",
    "record_store_catboost_grid_pipe = Pipeline([\n",
    "    ('processing', record_store_catboost_processing_pipe),\n",
    "    ('grid_search', GridSearchCV(\n",
    "        catboost,\n",
    "        param_grid={\n",
    "            'learning_rate': np.linspace(1e-3,1e1,5),\n",
    "            'l2_leaf_reg': [1,3,5,8],\n",
    "            'border_count': np.linspace(1,200,5)\n",
    "        },\n",
    "        n_jobs=-1,\n",
    "        cv=KFold(n_splits=5,shuffle=True),\n",
    "        verbose=1,\n",
    "        scoring='neg_mean_absolute_error',\n",
    "        return_train_score=True)\n",
    "    )\n",
    "])\n",
    "\n",
    "record_store_catboost_pipe = Pipeline([\n",
    "    ('processing', record_store_catboost_processing_pipe),\n",
    "    ('catboost',catboost)\n",
    "])"
   ]
  },
  {
   "cell_type": "code",
   "execution_count": 25,
   "metadata": {
    "colab": {},
    "colab_type": "code",
    "id": "MQW9Ojz08asu"
   },
   "outputs": [
    {
     "name": "stdout",
     "output_type": "stream",
     "text": [
      "0:\tlearn: 0.8537733\ttotal: 302ms\tremaining: 29.9s\n",
      "1:\tlearn: 0.8317071\ttotal: 454ms\tremaining: 22.2s\n",
      "2:\tlearn: 0.8132580\ttotal: 774ms\tremaining: 25s\n",
      "3:\tlearn: 0.7986971\ttotal: 1.08s\tremaining: 26s\n",
      "4:\tlearn: 0.7870391\ttotal: 1.4s\tremaining: 26.6s\n",
      "5:\tlearn: 0.7758067\ttotal: 1.73s\tremaining: 27.1s\n",
      "6:\tlearn: 0.7673244\ttotal: 2.11s\tremaining: 28s\n",
      "7:\tlearn: 0.7603116\ttotal: 2.43s\tremaining: 27.9s\n",
      "8:\tlearn: 0.7556745\ttotal: 2.79s\tremaining: 28.2s\n",
      "9:\tlearn: 0.7508394\ttotal: 3.1s\tremaining: 27.9s\n",
      "10:\tlearn: 0.7459590\ttotal: 3.4s\tremaining: 27.5s\n",
      "11:\tlearn: 0.7411240\ttotal: 3.71s\tremaining: 27.2s\n",
      "12:\tlearn: 0.7374160\ttotal: 4.01s\tremaining: 26.9s\n",
      "13:\tlearn: 0.7336068\ttotal: 4.32s\tremaining: 26.5s\n",
      "14:\tlearn: 0.7311829\ttotal: 4.63s\tremaining: 26.3s\n",
      "15:\tlearn: 0.7286557\ttotal: 4.97s\tremaining: 26.1s\n",
      "16:\tlearn: 0.7268638\ttotal: 5.3s\tremaining: 25.9s\n",
      "17:\tlearn: 0.7248974\ttotal: 5.35s\tremaining: 24.4s\n",
      "18:\tlearn: 0.7232668\ttotal: 5.67s\tremaining: 24.2s\n",
      "19:\tlearn: 0.7222394\ttotal: 6.02s\tremaining: 24.1s\n",
      "20:\tlearn: 0.7210149\ttotal: 6.32s\tremaining: 23.8s\n",
      "21:\tlearn: 0.7199325\ttotal: 6.62s\tremaining: 23.5s\n"
     ]
    },
    {
     "ename": "KeyboardInterrupt",
     "evalue": "",
     "output_type": "error",
     "traceback": [
      "\u001b[0;31m---------------------------------------------------------------------------\u001b[0m",
      "\u001b[0;31mKeyboardInterrupt\u001b[0m                         Traceback (most recent call last)",
      "\u001b[0;32m<ipython-input-25-9b59176775b7>\u001b[0m in \u001b[0;36m<module>\u001b[0;34m\u001b[0m\n\u001b[0;32m----> 1\u001b[0;31m \u001b[0mrecord_store_catboost_pipe\u001b[0m\u001b[0;34m.\u001b[0m\u001b[0mfit\u001b[0m\u001b[0;34m(\u001b[0m\u001b[0mX_tr_sample\u001b[0m\u001b[0;34m,\u001b[0m\u001b[0mnp\u001b[0m\u001b[0;34m.\u001b[0m\u001b[0mlog\u001b[0m\u001b[0;34m(\u001b[0m\u001b[0my_tr_sample\u001b[0m\u001b[0;34m)\u001b[0m\u001b[0;34m)\u001b[0m\u001b[0;34m\u001b[0m\u001b[0;34m\u001b[0m\u001b[0m\n\u001b[0m",
      "\u001b[0;32m~/anaconda3/envs/tabnet-test/lib/python3.6/site-packages/sklearn/pipeline.py\u001b[0m in \u001b[0;36mfit\u001b[0;34m(self, X, y, **fit_params)\u001b[0m\n\u001b[1;32m    265\u001b[0m         \u001b[0mXt\u001b[0m\u001b[0;34m,\u001b[0m \u001b[0mfit_params\u001b[0m \u001b[0;34m=\u001b[0m \u001b[0mself\u001b[0m\u001b[0;34m.\u001b[0m\u001b[0m_fit\u001b[0m\u001b[0;34m(\u001b[0m\u001b[0mX\u001b[0m\u001b[0;34m,\u001b[0m \u001b[0my\u001b[0m\u001b[0;34m,\u001b[0m \u001b[0;34m**\u001b[0m\u001b[0mfit_params\u001b[0m\u001b[0;34m)\u001b[0m\u001b[0;34m\u001b[0m\u001b[0;34m\u001b[0m\u001b[0m\n\u001b[1;32m    266\u001b[0m         \u001b[0;32mif\u001b[0m \u001b[0mself\u001b[0m\u001b[0;34m.\u001b[0m\u001b[0m_final_estimator\u001b[0m \u001b[0;32mis\u001b[0m \u001b[0;32mnot\u001b[0m \u001b[0;32mNone\u001b[0m\u001b[0;34m:\u001b[0m\u001b[0;34m\u001b[0m\u001b[0;34m\u001b[0m\u001b[0m\n\u001b[0;32m--> 267\u001b[0;31m             \u001b[0mself\u001b[0m\u001b[0;34m.\u001b[0m\u001b[0m_final_estimator\u001b[0m\u001b[0;34m.\u001b[0m\u001b[0mfit\u001b[0m\u001b[0;34m(\u001b[0m\u001b[0mXt\u001b[0m\u001b[0;34m,\u001b[0m \u001b[0my\u001b[0m\u001b[0;34m,\u001b[0m \u001b[0;34m**\u001b[0m\u001b[0mfit_params\u001b[0m\u001b[0;34m)\u001b[0m\u001b[0;34m\u001b[0m\u001b[0;34m\u001b[0m\u001b[0m\n\u001b[0m\u001b[1;32m    268\u001b[0m         \u001b[0;32mreturn\u001b[0m \u001b[0mself\u001b[0m\u001b[0;34m\u001b[0m\u001b[0;34m\u001b[0m\u001b[0m\n\u001b[1;32m    269\u001b[0m \u001b[0;34m\u001b[0m\u001b[0m\n",
      "\u001b[0;32m~/anaconda3/envs/tabnet-test/lib/python3.6/site-packages/catboost/core.py\u001b[0m in \u001b[0;36mfit\u001b[0;34m(self, X, y, cat_features, sample_weight, baseline, use_best_model, eval_set, verbose, logging_level, plot, column_description, verbose_eval, metric_period, silent, early_stopping_rounds, save_snapshot, snapshot_file, snapshot_interval, init_model)\u001b[0m\n\u001b[1;32m   4478\u001b[0m                          \u001b[0muse_best_model\u001b[0m\u001b[0;34m,\u001b[0m \u001b[0meval_set\u001b[0m\u001b[0;34m,\u001b[0m \u001b[0mverbose\u001b[0m\u001b[0;34m,\u001b[0m \u001b[0mlogging_level\u001b[0m\u001b[0;34m,\u001b[0m \u001b[0mplot\u001b[0m\u001b[0;34m,\u001b[0m \u001b[0mcolumn_description\u001b[0m\u001b[0;34m,\u001b[0m\u001b[0;34m\u001b[0m\u001b[0;34m\u001b[0m\u001b[0m\n\u001b[1;32m   4479\u001b[0m                          \u001b[0mverbose_eval\u001b[0m\u001b[0;34m,\u001b[0m \u001b[0mmetric_period\u001b[0m\u001b[0;34m,\u001b[0m \u001b[0msilent\u001b[0m\u001b[0;34m,\u001b[0m \u001b[0mearly_stopping_rounds\u001b[0m\u001b[0;34m,\u001b[0m\u001b[0;34m\u001b[0m\u001b[0;34m\u001b[0m\u001b[0m\n\u001b[0;32m-> 4480\u001b[0;31m                          save_snapshot, snapshot_file, snapshot_interval, init_model)\n\u001b[0m\u001b[1;32m   4481\u001b[0m \u001b[0;34m\u001b[0m\u001b[0m\n\u001b[1;32m   4482\u001b[0m     \u001b[0;32mdef\u001b[0m \u001b[0mpredict\u001b[0m\u001b[0;34m(\u001b[0m\u001b[0mself\u001b[0m\u001b[0;34m,\u001b[0m \u001b[0mdata\u001b[0m\u001b[0;34m,\u001b[0m \u001b[0mntree_start\u001b[0m\u001b[0;34m=\u001b[0m\u001b[0;36m0\u001b[0m\u001b[0;34m,\u001b[0m \u001b[0mntree_end\u001b[0m\u001b[0;34m=\u001b[0m\u001b[0;36m0\u001b[0m\u001b[0;34m,\u001b[0m \u001b[0mthread_count\u001b[0m\u001b[0;34m=\u001b[0m\u001b[0;34m-\u001b[0m\u001b[0;36m1\u001b[0m\u001b[0;34m,\u001b[0m \u001b[0mverbose\u001b[0m\u001b[0;34m=\u001b[0m\u001b[0;32mNone\u001b[0m\u001b[0;34m)\u001b[0m\u001b[0;34m:\u001b[0m\u001b[0;34m\u001b[0m\u001b[0;34m\u001b[0m\u001b[0m\n",
      "\u001b[0;32m~/anaconda3/envs/tabnet-test/lib/python3.6/site-packages/catboost/core.py\u001b[0m in \u001b[0;36m_fit\u001b[0;34m(self, X, y, cat_features, text_features, pairs, sample_weight, group_id, group_weight, subgroup_id, pairs_weight, baseline, use_best_model, eval_set, verbose, logging_level, plot, column_description, verbose_eval, metric_period, silent, early_stopping_rounds, save_snapshot, snapshot_file, snapshot_interval, init_model)\u001b[0m\n\u001b[1;32m   1730\u001b[0m                 \u001b[0mparams\u001b[0m\u001b[0;34m,\u001b[0m\u001b[0;34m\u001b[0m\u001b[0;34m\u001b[0m\u001b[0m\n\u001b[1;32m   1731\u001b[0m                 \u001b[0mallow_clear_pool\u001b[0m\u001b[0;34m,\u001b[0m\u001b[0;34m\u001b[0m\u001b[0;34m\u001b[0m\u001b[0m\n\u001b[0;32m-> 1732\u001b[0;31m                 \u001b[0mtrain_params\u001b[0m\u001b[0;34m[\u001b[0m\u001b[0;34m\"init_model\"\u001b[0m\u001b[0;34m]\u001b[0m\u001b[0;34m\u001b[0m\u001b[0;34m\u001b[0m\u001b[0m\n\u001b[0m\u001b[1;32m   1733\u001b[0m             )\n\u001b[1;32m   1734\u001b[0m \u001b[0;34m\u001b[0m\u001b[0m\n",
      "\u001b[0;32m~/anaconda3/envs/tabnet-test/lib/python3.6/site-packages/catboost/core.py\u001b[0m in \u001b[0;36m_train\u001b[0;34m(self, train_pool, test_pool, params, allow_clear_pool, init_model)\u001b[0m\n\u001b[1;32m   1253\u001b[0m \u001b[0;34m\u001b[0m\u001b[0m\n\u001b[1;32m   1254\u001b[0m     \u001b[0;32mdef\u001b[0m \u001b[0m_train\u001b[0m\u001b[0;34m(\u001b[0m\u001b[0mself\u001b[0m\u001b[0;34m,\u001b[0m \u001b[0mtrain_pool\u001b[0m\u001b[0;34m,\u001b[0m \u001b[0mtest_pool\u001b[0m\u001b[0;34m,\u001b[0m \u001b[0mparams\u001b[0m\u001b[0;34m,\u001b[0m \u001b[0mallow_clear_pool\u001b[0m\u001b[0;34m,\u001b[0m \u001b[0minit_model\u001b[0m\u001b[0;34m)\u001b[0m\u001b[0;34m:\u001b[0m\u001b[0;34m\u001b[0m\u001b[0;34m\u001b[0m\u001b[0m\n\u001b[0;32m-> 1255\u001b[0;31m         \u001b[0mself\u001b[0m\u001b[0;34m.\u001b[0m\u001b[0m_object\u001b[0m\u001b[0;34m.\u001b[0m\u001b[0m_train\u001b[0m\u001b[0;34m(\u001b[0m\u001b[0mtrain_pool\u001b[0m\u001b[0;34m,\u001b[0m \u001b[0mtest_pool\u001b[0m\u001b[0;34m,\u001b[0m \u001b[0mparams\u001b[0m\u001b[0;34m,\u001b[0m \u001b[0mallow_clear_pool\u001b[0m\u001b[0;34m,\u001b[0m \u001b[0minit_model\u001b[0m\u001b[0;34m.\u001b[0m\u001b[0m_object\u001b[0m \u001b[0;32mif\u001b[0m \u001b[0minit_model\u001b[0m \u001b[0;32melse\u001b[0m \u001b[0;32mNone\u001b[0m\u001b[0;34m)\u001b[0m\u001b[0;34m\u001b[0m\u001b[0;34m\u001b[0m\u001b[0m\n\u001b[0m\u001b[1;32m   1256\u001b[0m         \u001b[0mself\u001b[0m\u001b[0;34m.\u001b[0m\u001b[0m_set_trained_model_attributes\u001b[0m\u001b[0;34m(\u001b[0m\u001b[0;34m)\u001b[0m\u001b[0;34m\u001b[0m\u001b[0;34m\u001b[0m\u001b[0m\n\u001b[1;32m   1257\u001b[0m \u001b[0;34m\u001b[0m\u001b[0m\n",
      "\u001b[0;32m_catboost.pyx\u001b[0m in \u001b[0;36m_catboost._CatBoost._train\u001b[0;34m()\u001b[0m\n",
      "\u001b[0;32m_catboost.pyx\u001b[0m in \u001b[0;36m_catboost._CatBoost._train\u001b[0;34m()\u001b[0m\n",
      "\u001b[0;31mKeyboardInterrupt\u001b[0m: "
     ]
    }
   ],
   "source": [
    "record_store_catboost_grid_pipe.fit(X_tr_sample,np.log(y_tr_sample))"
   ]
  },
  {
   "cell_type": "code",
   "execution_count": null,
   "metadata": {
    "colab": {},
    "colab_type": "code",
    "id": "9MWNatKvNkWQ"
   },
   "outputs": [],
   "source": [
    "record_store_catboost_plot = GridSearchPlotter(catboost_grid_pipe.steps[-1][1])\n",
    "record_store_catboost_plot.plot_validation_curve(parameter='max_depth',ylim=(-1,0))"
   ]
  },
  {
   "cell_type": "code",
   "execution_count": null,
   "metadata": {
    "colab": {},
    "colab_type": "code",
    "id": "D82wspKV8XCK"
   },
   "outputs": [],
   "source": [
    "record_store_catboost_grid_pipe.steps[-1][1].best_score_"
   ]
  },
  {
   "cell_type": "code",
   "execution_count": null,
   "metadata": {
    "colab": {},
    "colab_type": "code",
    "id": "iJHB_2xe8ZN_"
   },
   "outputs": [],
   "source": [
    "record_store_catboost_grid_pipe.steps[-1][1].best_params_"
   ]
  },
  {
   "cell_type": "code",
   "execution_count": 26,
   "metadata": {
    "colab": {
     "base_uri": "https://localhost:8080/",
     "height": 1000
    },
    "colab_type": "code",
    "id": "dU_pJkadk1kC",
    "outputId": "4e58dbef-864a-4eca-8f27-c33b77888d99"
   },
   "outputs": [
    {
     "name": "stdout",
     "output_type": "stream",
     "text": [
      "0:\tlearn: 0.8539268\ttotal: 659ms\tremaining: 1m 5s\n",
      "1:\tlearn: 0.8268796\ttotal: 1.31s\tremaining: 1m 4s\n",
      "2:\tlearn: 0.8011497\ttotal: 1.97s\tremaining: 1m 3s\n",
      "3:\tlearn: 0.7816639\ttotal: 2.61s\tremaining: 1m 2s\n",
      "4:\tlearn: 0.7667739\ttotal: 3.25s\tremaining: 1m 1s\n",
      "5:\tlearn: 0.7552288\ttotal: 3.87s\tremaining: 1m\n",
      "6:\tlearn: 0.7414968\ttotal: 4.49s\tremaining: 59.7s\n",
      "7:\tlearn: 0.7302300\ttotal: 5.2s\tremaining: 59.8s\n",
      "8:\tlearn: 0.7226581\ttotal: 5.87s\tremaining: 59.3s\n",
      "9:\tlearn: 0.7164417\ttotal: 6.51s\tremaining: 58.6s\n",
      "10:\tlearn: 0.7118821\ttotal: 7.13s\tremaining: 57.7s\n",
      "11:\tlearn: 0.7075541\ttotal: 7.75s\tremaining: 56.8s\n",
      "12:\tlearn: 0.7048721\ttotal: 8.4s\tremaining: 56.2s\n",
      "13:\tlearn: 0.7024413\ttotal: 9.03s\tremaining: 55.5s\n",
      "14:\tlearn: 0.7006789\ttotal: 9.76s\tremaining: 55.3s\n",
      "15:\tlearn: 0.6988637\ttotal: 10.4s\tremaining: 54.8s\n",
      "16:\tlearn: 0.6965893\ttotal: 11.1s\tremaining: 54.3s\n",
      "17:\tlearn: 0.6940425\ttotal: 11.8s\tremaining: 53.6s\n",
      "18:\tlearn: 0.6928498\ttotal: 12.5s\tremaining: 53.2s\n",
      "19:\tlearn: 0.6914388\ttotal: 13.1s\tremaining: 52.4s\n",
      "20:\tlearn: 0.6902998\ttotal: 13.7s\tremaining: 51.6s\n",
      "21:\tlearn: 0.6893029\ttotal: 14.3s\tremaining: 50.9s\n",
      "22:\tlearn: 0.6886243\ttotal: 15s\tremaining: 50.1s\n",
      "23:\tlearn: 0.6879400\ttotal: 15.7s\tremaining: 49.6s\n",
      "24:\tlearn: 0.6870222\ttotal: 16.3s\tremaining: 48.9s\n",
      "25:\tlearn: 0.6864733\ttotal: 16.9s\tremaining: 48.2s\n",
      "26:\tlearn: 0.6863389\ttotal: 17.6s\tremaining: 47.5s\n",
      "27:\tlearn: 0.6863385\ttotal: 17.7s\tremaining: 45.4s\n",
      "28:\tlearn: 0.6863385\ttotal: 17.7s\tremaining: 43.3s\n",
      "29:\tlearn: 0.6858818\ttotal: 18.3s\tremaining: 42.8s\n",
      "30:\tlearn: 0.6858757\ttotal: 19s\tremaining: 42.3s\n",
      "31:\tlearn: 0.6854138\ttotal: 19.6s\tremaining: 41.7s\n",
      "32:\tlearn: 0.6854100\ttotal: 19.8s\tremaining: 40.3s\n",
      "33:\tlearn: 0.6850222\ttotal: 20.6s\tremaining: 39.9s\n",
      "34:\tlearn: 0.6850151\ttotal: 21.3s\tremaining: 39.6s\n",
      "35:\tlearn: 0.6850094\ttotal: 21.5s\tremaining: 38.2s\n",
      "36:\tlearn: 0.6847678\ttotal: 22.2s\tremaining: 37.8s\n",
      "37:\tlearn: 0.6840459\ttotal: 22.9s\tremaining: 37.4s\n",
      "38:\tlearn: 0.6834646\ttotal: 23.5s\tremaining: 36.8s\n",
      "39:\tlearn: 0.6834518\ttotal: 24.2s\tremaining: 36.3s\n",
      "40:\tlearn: 0.6832380\ttotal: 24.9s\tremaining: 35.8s\n",
      "41:\tlearn: 0.6832372\ttotal: 25s\tremaining: 34.5s\n",
      "42:\tlearn: 0.6832291\ttotal: 25.3s\tremaining: 33.6s\n",
      "43:\tlearn: 0.6832213\ttotal: 25.6s\tremaining: 32.6s\n",
      "44:\tlearn: 0.6823104\ttotal: 26.3s\tremaining: 32.1s\n",
      "45:\tlearn: 0.6820435\ttotal: 27s\tremaining: 31.7s\n",
      "46:\tlearn: 0.6820435\ttotal: 27s\tremaining: 30.5s\n",
      "47:\tlearn: 0.6820422\ttotal: 27.3s\tremaining: 29.6s\n",
      "48:\tlearn: 0.6815986\ttotal: 28s\tremaining: 29.1s\n",
      "49:\tlearn: 0.6810426\ttotal: 28.6s\tremaining: 28.6s\n",
      "50:\tlearn: 0.6810258\ttotal: 29.3s\tremaining: 28.2s\n",
      "51:\tlearn: 0.6810251\ttotal: 29.4s\tremaining: 27.1s\n",
      "52:\tlearn: 0.6810246\ttotal: 29.5s\tremaining: 26.2s\n",
      "53:\tlearn: 0.6810217\ttotal: 30.2s\tremaining: 25.7s\n",
      "54:\tlearn: 0.6810217\ttotal: 30.2s\tremaining: 24.7s\n",
      "55:\tlearn: 0.6810143\ttotal: 30.3s\tremaining: 23.8s\n",
      "56:\tlearn: 0.6810142\ttotal: 30.4s\tremaining: 22.9s\n",
      "57:\tlearn: 0.6810142\ttotal: 30.5s\tremaining: 22.1s\n",
      "58:\tlearn: 0.6810125\ttotal: 30.6s\tremaining: 21.3s\n",
      "59:\tlearn: 0.6810120\ttotal: 30.8s\tremaining: 20.6s\n",
      "60:\tlearn: 0.6810108\ttotal: 31s\tremaining: 19.8s\n",
      "61:\tlearn: 0.6810108\ttotal: 31.1s\tremaining: 19s\n",
      "62:\tlearn: 0.6805143\ttotal: 31.7s\tremaining: 18.6s\n",
      "63:\tlearn: 0.6805138\ttotal: 31.8s\tremaining: 17.9s\n",
      "64:\tlearn: 0.6802583\ttotal: 32.5s\tremaining: 17.5s\n",
      "65:\tlearn: 0.6802553\ttotal: 32.8s\tremaining: 16.9s\n",
      "66:\tlearn: 0.6792397\ttotal: 33.5s\tremaining: 16.5s\n",
      "67:\tlearn: 0.6792389\ttotal: 33.6s\tremaining: 15.8s\n",
      "68:\tlearn: 0.6792389\ttotal: 33.7s\tremaining: 15.1s\n",
      "69:\tlearn: 0.6792388\ttotal: 33.8s\tremaining: 14.5s\n",
      "70:\tlearn: 0.6790997\ttotal: 34.2s\tremaining: 14s\n",
      "71:\tlearn: 0.6790996\ttotal: 34.3s\tremaining: 13.3s\n",
      "72:\tlearn: 0.6790996\ttotal: 34.5s\tremaining: 12.8s\n",
      "73:\tlearn: 0.6782162\ttotal: 35.2s\tremaining: 12.4s\n",
      "74:\tlearn: 0.6782076\ttotal: 36s\tremaining: 12s\n",
      "75:\tlearn: 0.6782076\ttotal: 36s\tremaining: 11.4s\n",
      "76:\tlearn: 0.6782068\ttotal: 36.1s\tremaining: 10.8s\n",
      "77:\tlearn: 0.6782023\ttotal: 36.3s\tremaining: 10.2s\n",
      "78:\tlearn: 0.6781991\ttotal: 36.5s\tremaining: 9.71s\n",
      "79:\tlearn: 0.6781949\ttotal: 36.7s\tremaining: 9.18s\n",
      "80:\tlearn: 0.6781948\ttotal: 36.8s\tremaining: 8.63s\n",
      "81:\tlearn: 0.6781749\ttotal: 36.9s\tremaining: 8.11s\n",
      "82:\tlearn: 0.6781722\ttotal: 37.1s\tremaining: 7.61s\n",
      "83:\tlearn: 0.6781686\ttotal: 37.4s\tremaining: 7.13s\n",
      "84:\tlearn: 0.6781657\ttotal: 37.5s\tremaining: 6.62s\n",
      "85:\tlearn: 0.6781619\ttotal: 37.8s\tremaining: 6.15s\n",
      "86:\tlearn: 0.6781539\ttotal: 38s\tremaining: 5.68s\n",
      "87:\tlearn: 0.6781474\ttotal: 38.7s\tremaining: 5.28s\n",
      "88:\tlearn: 0.6781403\ttotal: 38.9s\tremaining: 4.81s\n",
      "89:\tlearn: 0.6781365\ttotal: 39.1s\tremaining: 4.34s\n",
      "90:\tlearn: 0.6781225\ttotal: 39.8s\tremaining: 3.93s\n",
      "91:\tlearn: 0.6781160\ttotal: 40.5s\tremaining: 3.52s\n",
      "92:\tlearn: 0.6780890\ttotal: 41.2s\tremaining: 3.1s\n",
      "93:\tlearn: 0.6780784\ttotal: 41.9s\tremaining: 2.68s\n",
      "94:\tlearn: 0.6769537\ttotal: 42.7s\tremaining: 2.25s\n",
      "95:\tlearn: 0.6765821\ttotal: 43.3s\tremaining: 1.8s\n",
      "96:\tlearn: 0.6765738\ttotal: 44s\tremaining: 1.36s\n",
      "97:\tlearn: 0.6763359\ttotal: 44.7s\tremaining: 913ms\n",
      "98:\tlearn: 0.6763250\ttotal: 45.5s\tremaining: 460ms\n",
      "99:\tlearn: 0.6761979\ttotal: 46.2s\tremaining: 0us\n"
     ]
    },
    {
     "data": {
      "text/plain": [
       "Pipeline(memory=None,\n",
       "     steps=[('processing', Pipeline(memory=None,\n",
       "     steps=[('running_time_imputer', RunningTimeImputer(number_of_tracks='number_of_tracks',\n",
       "          running_time='running_time')), ('record_store_column_remover', ColumnRemover(cols_to_remove={'lowest', 'units_for_sale', 'thumb_url', 'last_sold', 'track..._want', 'rating_count'}))])), ('catboost', <catboost.core.CatBoostRegressor object at 0x164b4deb8>)])"
      ]
     },
     "execution_count": 26,
     "metadata": {},
     "output_type": "execute_result"
    }
   ],
   "source": [
    "record_store_catboost_pipe.fit(X_tr,np.log(y_tr))"
   ]
  },
  {
   "cell_type": "code",
   "execution_count": 27,
   "metadata": {
    "colab": {},
    "colab_type": "code",
    "id": "QtP6T-Ir8asx"
   },
   "outputs": [],
   "source": [
    "record_store_catboost_te_pred = record_store_catboost_pipe.predict(X_te)"
   ]
  },
  {
   "cell_type": "code",
   "execution_count": 28,
   "metadata": {
    "colab": {
     "base_uri": "https://localhost:8080/",
     "height": 35
    },
    "colab_type": "code",
    "id": "Ot0BfPu28as0",
    "outputId": "5a49d95a-c20c-4fec-9736-929d3d577cf1"
   },
   "outputs": [
    {
     "data": {
      "text/plain": [
       "0.2374316391159783"
      ]
     },
     "execution_count": 28,
     "metadata": {},
     "output_type": "execute_result"
    }
   ],
   "source": [
    "r2_score(y_te,np.exp(record_store_catboost_te_pred))"
   ]
  },
  {
   "cell_type": "code",
   "execution_count": 29,
   "metadata": {
    "colab": {
     "base_uri": "https://localhost:8080/",
     "height": 35
    },
    "colab_type": "code",
    "id": "2BLq7nQR42RA",
    "outputId": "7a93f7d3-7fc2-45e4-be62-5279b73b4808"
   },
   "outputs": [
    {
     "data": {
      "text/plain": [
       "7.990427376956115"
      ]
     },
     "execution_count": 29,
     "metadata": {},
     "output_type": "execute_result"
    }
   ],
   "source": [
    "mean_absolute_error(y_te,np.exp(record_store_catboost_te_pred))"
   ]
  },
  {
   "cell_type": "markdown",
   "metadata": {
    "colab_type": "text",
    "id": "1N-puXCSk1kP"
   },
   "source": [
    "## CatBoost - Full Information"
   ]
  },
  {
   "cell_type": "code",
   "execution_count": 35,
   "metadata": {
    "colab": {},
    "colab_type": "code",
    "id": "tIZEJfS6k1kQ"
   },
   "outputs": [],
   "source": [
    "full_information_catboost_removal_columns = record_store_catboost_removal_columns - full_information_columns"
   ]
  },
  {
   "cell_type": "code",
   "execution_count": 36,
   "metadata": {
    "colab": {},
    "colab_type": "code",
    "id": "uOt1Def_k1kS"
   },
   "outputs": [],
   "source": [
    "full_information_catboost_processing_pipe = Pipeline([\n",
    "    ('running_time_imputer',RunningTimeImputer('running_time','number_of_tracks')),\n",
    "    ('record_store_column_remover', ColumnRemover(record_store_catboost_removal_columns))\n",
    "])\n",
    "\n",
    "full_information_catboost_grid_pipe = Pipeline([\n",
    "    ('processing', full_information_catboost_processing_pipe),\n",
    "    ('grid_search', GridSearchCV(\n",
    "        catboost,\n",
    "        param_grid={'max_depth': np.linspace(10,32,5).astype(int)},\n",
    "        n_jobs=-1,\n",
    "        cv=KFold(n_splits=5,shuffle=True),\n",
    "        scoring='neg_mean_absolute_error',\n",
    "        verbose=50,\n",
    "        return_train_score=True)\n",
    "    )\n",
    "])"
   ]
  },
  {
   "cell_type": "code",
   "execution_count": null,
   "metadata": {
    "colab": {},
    "colab_type": "code",
    "id": "YveUFwIJk1kU"
   },
   "outputs": [],
   "source": [
    "full_information_catboost_grid_pipe.fit(X_tr_sample,np.log(y_tr_sample))"
   ]
  },
  {
   "cell_type": "code",
   "execution_count": null,
   "metadata": {
    "colab": {},
    "colab_type": "code",
    "id": "sDzqUDs6k1kW"
   },
   "outputs": [],
   "source": [
    "full_information_catboost_plot = GridSearchPlotter(catboost_grid_pipe.steps[-1][1])\n",
    "full_information_catboost_plot.plot_validation_curve(parameter='max_depth',ylim=(-1,0))"
   ]
  },
  {
   "cell_type": "code",
   "execution_count": null,
   "metadata": {
    "colab": {},
    "colab_type": "code",
    "id": "rYzXoV8jk1kY"
   },
   "outputs": [],
   "source": [
    "full_information_catboost_grid_pipe.steps[-1][1].best_score_"
   ]
  },
  {
   "cell_type": "code",
   "execution_count": null,
   "metadata": {
    "colab": {},
    "colab_type": "code",
    "id": "9DoQX1JHk1ka"
   },
   "outputs": [],
   "source": [
    "full_information_catboost_grid_pipe.steps[-1][1].best_params_"
   ]
  },
  {
   "cell_type": "code",
   "execution_count": 37,
   "metadata": {
    "colab": {},
    "colab_type": "code",
    "id": "jo9HfiwMk1kd"
   },
   "outputs": [
    {
     "name": "stdout",
     "output_type": "stream",
     "text": [
      "0:\tlearn: 0.8539268\ttotal: 700ms\tremaining: 1m 9s\n",
      "1:\tlearn: 0.8268796\ttotal: 1.33s\tremaining: 1m 5s\n",
      "2:\tlearn: 0.8011497\ttotal: 1.98s\tremaining: 1m 4s\n",
      "3:\tlearn: 0.7816639\ttotal: 2.62s\tremaining: 1m 2s\n",
      "4:\tlearn: 0.7667739\ttotal: 3.27s\tremaining: 1m 2s\n",
      "5:\tlearn: 0.7552288\ttotal: 3.99s\tremaining: 1m 2s\n",
      "6:\tlearn: 0.7414968\ttotal: 4.64s\tremaining: 1m 1s\n",
      "7:\tlearn: 0.7302300\ttotal: 5.29s\tremaining: 1m\n",
      "8:\tlearn: 0.7226581\ttotal: 5.98s\tremaining: 1m\n",
      "9:\tlearn: 0.7164417\ttotal: 6.63s\tremaining: 59.7s\n",
      "10:\tlearn: 0.7118821\ttotal: 7.26s\tremaining: 58.7s\n",
      "11:\tlearn: 0.7075541\ttotal: 7.9s\tremaining: 57.9s\n",
      "12:\tlearn: 0.7048721\ttotal: 8.54s\tremaining: 57.2s\n",
      "13:\tlearn: 0.7024413\ttotal: 9.17s\tremaining: 56.3s\n",
      "14:\tlearn: 0.7006789\ttotal: 9.79s\tremaining: 55.4s\n",
      "15:\tlearn: 0.6988637\ttotal: 10.4s\tremaining: 54.8s\n",
      "16:\tlearn: 0.6965893\ttotal: 11.1s\tremaining: 54.3s\n",
      "17:\tlearn: 0.6940425\ttotal: 11.8s\tremaining: 53.6s\n",
      "18:\tlearn: 0.6928498\ttotal: 12.4s\tremaining: 52.8s\n",
      "19:\tlearn: 0.6914388\ttotal: 13s\tremaining: 52.1s\n",
      "20:\tlearn: 0.6902998\ttotal: 13.7s\tremaining: 51.4s\n",
      "21:\tlearn: 0.6893029\ttotal: 14.3s\tremaining: 50.7s\n",
      "22:\tlearn: 0.6886243\ttotal: 14.9s\tremaining: 50s\n",
      "23:\tlearn: 0.6879400\ttotal: 15.6s\tremaining: 49.4s\n",
      "24:\tlearn: 0.6870222\ttotal: 16.3s\tremaining: 48.8s\n",
      "25:\tlearn: 0.6864733\ttotal: 17s\tremaining: 48.3s\n",
      "26:\tlearn: 0.6863389\ttotal: 17.6s\tremaining: 47.6s\n",
      "27:\tlearn: 0.6863385\ttotal: 17.7s\tremaining: 45.4s\n",
      "28:\tlearn: 0.6863385\ttotal: 17.7s\tremaining: 43.4s\n",
      "29:\tlearn: 0.6858818\ttotal: 18.4s\tremaining: 42.8s\n",
      "30:\tlearn: 0.6858757\ttotal: 19s\tremaining: 42.3s\n",
      "31:\tlearn: 0.6854138\ttotal: 19.6s\tremaining: 41.7s\n",
      "32:\tlearn: 0.6854100\ttotal: 19.8s\tremaining: 40.3s\n",
      "33:\tlearn: 0.6850222\ttotal: 20.5s\tremaining: 39.8s\n",
      "34:\tlearn: 0.6850151\ttotal: 21.2s\tremaining: 39.4s\n",
      "35:\tlearn: 0.6850094\ttotal: 21.4s\tremaining: 38s\n",
      "36:\tlearn: 0.6847678\ttotal: 22s\tremaining: 37.5s\n",
      "37:\tlearn: 0.6840459\ttotal: 22.7s\tremaining: 37s\n",
      "38:\tlearn: 0.6834646\ttotal: 23.3s\tremaining: 36.5s\n",
      "39:\tlearn: 0.6834518\ttotal: 24s\tremaining: 35.9s\n",
      "40:\tlearn: 0.6832380\ttotal: 24.6s\tremaining: 35.4s\n",
      "41:\tlearn: 0.6832372\ttotal: 24.7s\tremaining: 34.1s\n",
      "42:\tlearn: 0.6832291\ttotal: 25.1s\tremaining: 33.2s\n",
      "43:\tlearn: 0.6832213\ttotal: 25.3s\tremaining: 32.3s\n",
      "44:\tlearn: 0.6823104\ttotal: 26s\tremaining: 31.8s\n",
      "45:\tlearn: 0.6820435\ttotal: 26.7s\tremaining: 31.3s\n",
      "46:\tlearn: 0.6820435\ttotal: 26.7s\tremaining: 30.1s\n",
      "47:\tlearn: 0.6820422\ttotal: 27s\tremaining: 29.3s\n",
      "48:\tlearn: 0.6815986\ttotal: 27.6s\tremaining: 28.8s\n",
      "49:\tlearn: 0.6810426\ttotal: 28.3s\tremaining: 28.3s\n",
      "50:\tlearn: 0.6810258\ttotal: 28.9s\tremaining: 27.8s\n",
      "51:\tlearn: 0.6810251\ttotal: 29s\tremaining: 26.8s\n",
      "52:\tlearn: 0.6810246\ttotal: 29.1s\tremaining: 25.8s\n",
      "53:\tlearn: 0.6810217\ttotal: 29.8s\tremaining: 25.4s\n",
      "54:\tlearn: 0.6810217\ttotal: 29.8s\tremaining: 24.4s\n",
      "55:\tlearn: 0.6810143\ttotal: 29.9s\tremaining: 23.5s\n",
      "56:\tlearn: 0.6810142\ttotal: 30s\tremaining: 22.6s\n",
      "57:\tlearn: 0.6810142\ttotal: 30.1s\tremaining: 21.8s\n",
      "58:\tlearn: 0.6810125\ttotal: 30.2s\tremaining: 21s\n",
      "59:\tlearn: 0.6810120\ttotal: 30.4s\tremaining: 20.3s\n",
      "60:\tlearn: 0.6810108\ttotal: 30.6s\tremaining: 19.6s\n",
      "61:\tlearn: 0.6810108\ttotal: 30.7s\tremaining: 18.8s\n",
      "62:\tlearn: 0.6805143\ttotal: 31.4s\tremaining: 18.5s\n",
      "63:\tlearn: 0.6805138\ttotal: 31.5s\tremaining: 17.7s\n",
      "64:\tlearn: 0.6802583\ttotal: 32.2s\tremaining: 17.3s\n",
      "65:\tlearn: 0.6802553\ttotal: 32.5s\tremaining: 16.7s\n",
      "66:\tlearn: 0.6792397\ttotal: 33.1s\tremaining: 16.3s\n",
      "67:\tlearn: 0.6792389\ttotal: 33.3s\tremaining: 15.7s\n",
      "68:\tlearn: 0.6792389\ttotal: 33.3s\tremaining: 15s\n",
      "69:\tlearn: 0.6792388\ttotal: 33.4s\tremaining: 14.3s\n",
      "70:\tlearn: 0.6790997\ttotal: 33.8s\tremaining: 13.8s\n",
      "71:\tlearn: 0.6790996\ttotal: 33.9s\tremaining: 13.2s\n",
      "72:\tlearn: 0.6790996\ttotal: 34.1s\tremaining: 12.6s\n",
      "73:\tlearn: 0.6782162\ttotal: 34.7s\tremaining: 12.2s\n",
      "74:\tlearn: 0.6782076\ttotal: 35.4s\tremaining: 11.8s\n",
      "75:\tlearn: 0.6782076\ttotal: 35.4s\tremaining: 11.2s\n",
      "76:\tlearn: 0.6782068\ttotal: 35.5s\tremaining: 10.6s\n",
      "77:\tlearn: 0.6782023\ttotal: 35.8s\tremaining: 10.1s\n",
      "78:\tlearn: 0.6781991\ttotal: 36s\tremaining: 9.56s\n",
      "79:\tlearn: 0.6781949\ttotal: 36.2s\tremaining: 9.04s\n",
      "80:\tlearn: 0.6781948\ttotal: 36.2s\tremaining: 8.5s\n",
      "81:\tlearn: 0.6781749\ttotal: 36.4s\tremaining: 7.99s\n",
      "82:\tlearn: 0.6781722\ttotal: 36.6s\tremaining: 7.49s\n",
      "83:\tlearn: 0.6781686\ttotal: 36.8s\tremaining: 7.02s\n",
      "84:\tlearn: 0.6781657\ttotal: 36.9s\tremaining: 6.52s\n",
      "85:\tlearn: 0.6781619\ttotal: 37.2s\tremaining: 6.05s\n",
      "86:\tlearn: 0.6781539\ttotal: 37.4s\tremaining: 5.59s\n",
      "87:\tlearn: 0.6781474\ttotal: 38.1s\tremaining: 5.2s\n",
      "88:\tlearn: 0.6781403\ttotal: 38.3s\tremaining: 4.74s\n",
      "89:\tlearn: 0.6781365\ttotal: 38.5s\tremaining: 4.28s\n",
      "90:\tlearn: 0.6781225\ttotal: 39.2s\tremaining: 3.87s\n",
      "91:\tlearn: 0.6781160\ttotal: 39.8s\tremaining: 3.46s\n",
      "92:\tlearn: 0.6780890\ttotal: 40.5s\tremaining: 3.05s\n",
      "93:\tlearn: 0.6780784\ttotal: 41.2s\tremaining: 2.63s\n",
      "94:\tlearn: 0.6769537\ttotal: 41.9s\tremaining: 2.21s\n",
      "95:\tlearn: 0.6765821\ttotal: 42.6s\tremaining: 1.77s\n",
      "96:\tlearn: 0.6765738\ttotal: 43.3s\tremaining: 1.34s\n",
      "97:\tlearn: 0.6763359\ttotal: 44s\tremaining: 898ms\n",
      "98:\tlearn: 0.6763250\ttotal: 44.7s\tremaining: 452ms\n",
      "99:\tlearn: 0.6761979\ttotal: 45.4s\tremaining: 0us\n"
     ]
    },
    {
     "data": {
      "text/plain": [
       "Pipeline(memory=None,\n",
       "     steps=[('processing', Pipeline(memory=None,\n",
       "     steps=[('running_time_imputer', RunningTimeImputer(number_of_tracks='number_of_tracks',\n",
       "          running_time='running_time')), ('record_store_column_remover', ColumnRemover(cols_to_remove={'lowest', 'units_for_sale', 'thumb_url', 'last_sold', 'track..._want', 'rating_count'}))])), ('catboost', <catboost.core.CatBoostRegressor object at 0x164b4deb8>)])"
      ]
     },
     "execution_count": 37,
     "metadata": {},
     "output_type": "execute_result"
    }
   ],
   "source": [
    "full_information_catboost_pipe.fit(X_tr,np.log(y_tr))"
   ]
  },
  {
   "cell_type": "code",
   "execution_count": 39,
   "metadata": {
    "colab": {},
    "colab_type": "code",
    "id": "za9_3tZ-k1kf"
   },
   "outputs": [],
   "source": [
    "full_information_catboost_te_pred = full_information_catboost_pipe.predict(X_te)"
   ]
  },
  {
   "cell_type": "code",
   "execution_count": 40,
   "metadata": {
    "colab": {},
    "colab_type": "code",
    "id": "fJzDaxL1k1kh"
   },
   "outputs": [
    {
     "data": {
      "text/plain": [
       "0.2374316391159783"
      ]
     },
     "execution_count": 40,
     "metadata": {},
     "output_type": "execute_result"
    }
   ],
   "source": [
    "r2_score(y_te,np.exp(full_information_catboost_te_pred))"
   ]
  },
  {
   "cell_type": "code",
   "execution_count": 41,
   "metadata": {
    "colab": {},
    "colab_type": "code",
    "id": "WmjFcYRak1kk"
   },
   "outputs": [
    {
     "data": {
      "text/plain": [
       "7.990427376956115"
      ]
     },
     "execution_count": 41,
     "metadata": {},
     "output_type": "execute_result"
    }
   ],
   "source": [
    "mean_absolute_error(y_te,np.exp(full_information_catboost_te_pred))"
   ]
  },
  {
   "cell_type": "markdown",
   "metadata": {},
   "source": [
    "## Identification of Feature Importances"
   ]
  },
  {
   "cell_type": "code",
   "execution_count": 63,
   "metadata": {},
   "outputs": [],
   "source": [
    "feature_importance_transformation_pipe = full_information_catboost_processing_pipe.fit(X_tr,np.log(y_tr).values)\n",
    "full_information_catboost_feature_importances = dict(zip(\n",
    "    feature_importance_transformation_pipe.transform(X_te).columns,\n",
    "    full_information_catboost_pipe.steps[-1][-1].feature_importances_\n",
    "))"
   ]
  },
  {
   "cell_type": "code",
   "execution_count": 71,
   "metadata": {},
   "outputs": [
    {
     "data": {
      "text/plain": [
       "country                               19.117469\n",
       "format_name                           18.763870\n",
       "label                                 11.618611\n",
       "year                                   9.672260\n",
       "artist                                 9.208925\n",
       "number_of_tracks                       3.850768\n",
       "master_id                              2.847195\n",
       "style_Easy Listening                   2.067571\n",
       "superregion_asia                       1.962749\n",
       "format_quantity                        1.854221\n",
       "format_description_Limited Edition     1.435032\n",
       "format_description_Reissue             1.361851\n",
       "era_modern                             1.341501\n",
       "format_description_Promo               1.171903\n",
       "format_text                            1.060279\n",
       "style_Free Jazz                        1.053303\n",
       "format_description_Test Pressing       0.990353\n",
       "style_Hard Bop                         0.950603\n",
       "region_north america                   0.895790\n",
       "superregion_europe                     0.734825\n",
       "dtype: float64"
      ]
     },
     "execution_count": 71,
     "metadata": {},
     "output_type": "execute_result"
    }
   ],
   "source": [
    "pd.Series(full_information_catboost_feature_importances).sort_values(ascending=False).head(20)"
   ]
  }
 ],
 "metadata": {
  "accelerator": "GPU",
  "colab": {
   "machine_shape": "hm",
   "name": "03-Modelling.ipynb",
   "provenance": [],
   "toc_visible": true
  },
  "kernelspec": {
   "display_name": "Python 3",
   "language": "python",
   "name": "python3"
  },
  "language_info": {
   "codemirror_mode": {
    "name": "ipython",
    "version": 3
   },
   "file_extension": ".py",
   "mimetype": "text/x-python",
   "name": "python",
   "nbconvert_exporter": "python",
   "pygments_lexer": "ipython3",
   "version": "3.6.10"
  }
 },
 "nbformat": 4,
 "nbformat_minor": 4
}
