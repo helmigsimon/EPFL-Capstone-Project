{
 "cells": [
  {
   "cell_type": "markdown",
   "metadata": {
    "colab_type": "text",
    "id": "buFUSHKt8apx"
   },
   "source": [
    "## 04 - Modelling"
   ]
  },
  {
   "cell_type": "markdown",
   "metadata": {
    "colab_type": "text",
    "id": "YsMW-elZopc_"
   },
   "source": [
    "## Setting up Colab Environment if in Colab\n",
    "The analyses outlined in this notebook relies on the estimators provided by the RAPIDS AI CUML library (https://docs.rapids.ai/api), which provides a sci-kit learn-like API for implementations of machine learning algorithms that are specifically configured to run on GPU hardware. Using this library will significantly speed up the computation time associated with the dimensionality reduction we conduct towards the end of this notebook.\n",
    "\n",
    "As I do not personally have access to a GPU, the GPU-enabled part of this notebook is run on Google's Colab Notebook environment, which offers GPU access for free. In the cell belows below, we define the functions required to setup a 25GB RAM Colab Notebook Environment with the packages necessary for the code to function."
   ]
  },
  {
   "cell_type": "markdown",
   "metadata": {
    "colab_type": "text",
    "id": "lunHqQ7B8apz"
   },
   "source": [
    "## Optional - Colab Setup"
   ]
  },
  {
   "cell_type": "code",
   "execution_count": null,
   "metadata": {
    "colab": {},
    "colab_type": "code",
    "id": "qQQCreB5gAR_"
   },
   "outputs": [],
   "source": [
    "def upgrade_runtime_ram():\n",
    "    meminfo = subprocess.getoutput('cat /proc/meminfo').split('\\n')\n",
    "\n",
    "    memory_info = {entry.split(':')[0]: int(entry.split(':')[1].replace(' kB','').strip()) for entry in meminfo}\n",
    "\n",
    "    if memory_info['MemTotal'] > 17000000:\n",
    "        return\n",
    "\n",
    "    a = []\n",
    "    while(1):\n",
    "        a.append('1')"
   ]
  },
  {
   "cell_type": "code",
   "execution_count": null,
   "metadata": {
    "colab": {},
    "colab_type": "code",
    "id": "waACZBi_8ap2"
   },
   "outputs": [],
   "source": [
    "def restart_runtime():\n",
    "    os.kill(os.getpid(), 9)"
   ]
  },
  {
   "cell_type": "code",
   "execution_count": null,
   "metadata": {
    "colab": {},
    "colab_type": "code",
    "id": "YIsGqbsy8aqB"
   },
   "outputs": [],
   "source": [
    "def setup_rapids():\n",
    "    pynvml.nvmlInit()\n",
    "    handle = pynvml.nvmlDeviceGetHandleByIndex(0)\n",
    "    device_name = pynvml.nvmlDeviceGetName(handle)\n",
    "    if (device_name != b'Tesla T4') and (device_name != b'Tesla P4') and (device_name != b'Tesla P100-PCIE-16GB'):\n",
    "        print(\"Wrong GPU - Restarting Runtime\")\n",
    "        restart_runtime()\n",
    "\n",
    "\n",
    "    # clone RAPIDS AI rapidsai-csp-utils scripts repo\n",
    "    !git clone https://github.com/rapidsai/rapidsai-csp-utils.git\n",
    "\n",
    "    # install RAPIDS\n",
    "    !bash rapidsai-csp-utils/colab/rapids-colab.sh 0.13\n",
    "\n",
    "\n",
    "    # set necessary environment variables \n",
    "    dist_package_index = sys.path.index('/usr/local/lib/python3.6/dist-packages')\n",
    "    sys.path = sys.path[:dist_package_index] + ['/usr/local/lib/python3.6/site-packages'] + sys.path[dist_package_index:]\n",
    "    sys.path\n",
    "\n",
    "    # update pyarrow & modules \n",
    "    exec(open('rapidsai-csp-utils/colab/update_modules.py').read(), globals())"
   ]
  },
  {
   "cell_type": "code",
   "execution_count": null,
   "metadata": {
    "colab": {},
    "colab_type": "code",
    "id": "9CcPvNIo8aqI"
   },
   "outputs": [],
   "source": [
    "def setup_conda():\n",
    "    if not 'Miniconda3-4.5.4-Linux-x86_64.sh' in os.listdir():\n",
    "        !wget https://repo.continuum.io/miniconda/Miniconda3-4.5.4-Linux-x86_64.sh && bash Miniconda3-4.5.4-Linux-x86_64.sh -bfp /usr/local\n",
    "\n",
    "    if not ('EPFL-Capstone-Project' in os.listdir()) and (os.getcwd().split('/')[-1] != 'EPFL-Capstone-Project'):\n",
    "        !git clone https://github.com/helmigsimon/EPFL-Capstone-Project  \n",
    "    if 'EPFL-Capstone-Project' in os.listdir():\n",
    "        os.chdir('EPFL-Capstone-Project')\n",
    "\n",
    "    !conda env create -f environment.yml\n",
    "    !conda activate exts-ml"
   ]
  },
  {
   "cell_type": "code",
   "execution_count": null,
   "metadata": {
    "colab": {},
    "colab_type": "code",
    "id": "WHSZ-lgE8aqP"
   },
   "outputs": [],
   "source": [
    "def setup_drive():\n",
    "    #Mounting Google Drive\n",
    "    global drive\n",
    "    from google.colab import drive\n",
    "    drive.mount('/content/drive')"
   ]
  },
  {
   "cell_type": "code",
   "execution_count": 6,
   "metadata": {
    "colab": {
     "base_uri": "https://localhost:8080/",
     "height": 1000
    },
    "colab_type": "code",
    "id": "N_uPJqb58aqW",
    "outputId": "4128a60e-f6a9-4b75-d96e-ef6fe37c5165"
   },
   "outputs": [
    {
     "name": "stdout",
     "output_type": "stream",
     "text": [
      "Drive already mounted at /content/drive; to attempt to forcibly remount, call drive.mount(\"/content/drive\", force_remount=True).\n",
      "Collecting geopandas\n",
      "  Using cached geopandas-0.7.0-py2.py3-none-any.whl (928 kB)\n",
      "Processing /root/.cache/pip/wheels/aa/e7/c7/e64559d518bcc12ed7e40a605ae304259b957ae8181c8d1e82/sparse_dot_topn-0.2.9-cp36-cp36m-linux_x86_64.whl\n",
      "Collecting pdpipe\n",
      "  Using cached pdpipe-0.0.49-py3-none-any.whl (48 kB)\n",
      "Collecting category-encoders\n",
      "  Using cached category_encoders-2.2.2-py2.py3-none-any.whl (80 kB)\n",
      "Collecting catboost\n",
      "  Using cached catboost-0.23.1-cp36-none-manylinux1_x86_64.whl (64.7 MB)\n",
      "Collecting xgboost\n",
      "  Downloading xgboost-1.0.2-py3-none-manylinux1_x86_64.whl (109.7 MB)\n",
      "\u001b[K     |████████████████████████████████| 109.7 MB 2.8 kB/s \n",
      "\u001b[?25hCollecting fiona\n",
      "  Using cached Fiona-1.8.13.post1-cp36-cp36m-manylinux1_x86_64.whl (14.7 MB)\n",
      "Requirement already satisfied: pandas>=0.23.0 in /usr/local/lib/python3.6/site-packages (from geopandas) (0.25.3)\n",
      "Collecting pyproj>=2.2.0\n",
      "  Using cached pyproj-2.6.1.post1-cp36-cp36m-manylinux2010_x86_64.whl (10.9 MB)\n",
      "Collecting shapely\n",
      "  Downloading Shapely-1.7.0-cp36-cp36m-manylinux1_x86_64.whl (1.8 MB)\n",
      "\u001b[K     |████████████████████████████████| 1.8 MB 41.8 MB/s \n",
      "\u001b[?25hCollecting cython>=0.29.15\n",
      "  Downloading Cython-0.29.17-cp36-cp36m-manylinux1_x86_64.whl (2.1 MB)\n",
      "\u001b[K     |████████████████████████████████| 2.1 MB 37.5 MB/s \n",
      "\u001b[?25hRequirement already satisfied: scipy>=1.2.3 in /usr/local/lib/python3.6/site-packages (from sparse-dot-topn) (1.4.1)\n",
      "Requirement already satisfied: numpy>=1.16.6 in /usr/local/lib/python3.6/site-packages (from sparse-dot-topn) (1.18.4)\n",
      "Requirement already satisfied: setuptools>=18.0 in /usr/local/lib/python3.6/site-packages (from sparse-dot-topn) (46.3.1.post20200515)\n",
      "Requirement already satisfied: sortedcontainers in /usr/local/lib/python3.6/site-packages (from pdpipe) (2.1.0)\n",
      "Collecting tqdm\n",
      "  Downloading tqdm-4.46.0-py2.py3-none-any.whl (63 kB)\n",
      "\u001b[K     |████████████████████████████████| 63 kB 2.2 MB/s \n",
      "\u001b[?25hCollecting strct\n",
      "  Using cached strct-0.0.30-py2.py3-none-any.whl (16 kB)\n",
      "Collecting skutil>=0.0.15\n",
      "  Using cached skutil-0.0.16-py2.py3-none-any.whl (18 kB)\n",
      "Collecting statsmodels>=0.9.0\n",
      "  Downloading statsmodels-0.11.1-cp36-cp36m-manylinux1_x86_64.whl (8.7 MB)\n",
      "\u001b[K     |████████████████████████████████| 8.7 MB 94 kB/s \n",
      "\u001b[?25hCollecting patsy>=0.5.1\n",
      "  Downloading patsy-0.5.1-py2.py3-none-any.whl (231 kB)\n",
      "\u001b[K     |████████████████████████████████| 231 kB 50.0 MB/s \n",
      "\u001b[?25hRequirement already satisfied: scikit-learn>=0.20.0 in /usr/local/lib/python3.6/site-packages (from category-encoders) (0.23.0)\n",
      "Collecting matplotlib\n",
      "  Downloading matplotlib-3.2.1-cp36-cp36m-manylinux1_x86_64.whl (12.4 MB)\n",
      "\u001b[K     |████████████████████████████████| 12.4 MB 233 kB/s \n",
      "\u001b[?25hCollecting graphviz\n",
      "  Downloading graphviz-0.14-py2.py3-none-any.whl (18 kB)\n",
      "Collecting plotly\n",
      "  Downloading plotly-4.7.1-py2.py3-none-any.whl (11.5 MB)\n",
      "\u001b[K     |████████████████████████████████| 11.5 MB 35.5 MB/s \n",
      "\u001b[?25hRequirement already satisfied: six in /usr/local/lib/python3.6/site-packages (from catboost) (1.11.0)\n",
      "Collecting munch\n",
      "  Using cached munch-2.5.0-py2.py3-none-any.whl (10 kB)\n",
      "Collecting attrs>=17\n",
      "  Downloading attrs-19.3.0-py2.py3-none-any.whl (39 kB)\n",
      "Collecting cligj>=0.5\n",
      "  Using cached cligj-0.5.0-py3-none-any.whl (5.7 kB)\n",
      "Collecting click-plugins>=1.0\n",
      "  Using cached click_plugins-1.1.1-py2.py3-none-any.whl (7.5 kB)\n",
      "Requirement already satisfied: click<8,>=4.0 in /usr/local/lib/python3.6/site-packages (from fiona->geopandas) (7.1.2)\n",
      "Requirement already satisfied: pytz>=2017.2 in /usr/local/lib/python3.6/site-packages (from pandas>=0.23.0->geopandas) (2020.1)\n",
      "Requirement already satisfied: python-dateutil>=2.6.1 in /usr/local/lib/python3.6/site-packages (from pandas>=0.23.0->geopandas) (2.8.1)\n",
      "Processing /root/.cache/pip/wheels/6c/1b/9c/71fa8b5df01cc605c4b5cadcd81df76d520149ca5c02b4013b/decore-0.0.1-py2.py3-none-any.whl\n",
      "Requirement already satisfied: threadpoolctl>=2.0.0 in /usr/local/lib/python3.6/site-packages (from scikit-learn>=0.20.0->category-encoders) (2.0.0)\n",
      "Requirement already satisfied: joblib>=0.11 in /usr/local/lib/python3.6/site-packages (from scikit-learn>=0.20.0->category-encoders) (0.15.0)\n",
      "Requirement already satisfied: pyparsing!=2.0.4,!=2.1.2,!=2.1.6,>=2.0.1 in /usr/local/lib/python3.6/site-packages (from matplotlib->catboost) (2.4.7)\n",
      "Collecting cycler>=0.10\n",
      "  Downloading cycler-0.10.0-py2.py3-none-any.whl (6.5 kB)\n",
      "Collecting kiwisolver>=1.0.1\n",
      "  Downloading kiwisolver-1.2.0-cp36-cp36m-manylinux1_x86_64.whl (88 kB)\n",
      "\u001b[K     |████████████████████████████████| 88 kB 8.2 MB/s \n",
      "\u001b[?25hCollecting retrying>=1.3.3\n",
      "  Downloading retrying-1.3.3.tar.gz (10 kB)\n",
      "Building wheels for collected packages: retrying\n",
      "  Building wheel for retrying (setup.py) ... \u001b[?25l\u001b[?25hdone\n",
      "  Created wheel for retrying: filename=retrying-1.3.3-py3-none-any.whl size=11430 sha256=800630944b5fa7c27b9f9a1dd54add14f63219696bfddf6a94ccb18c2edab179\n",
      "  Stored in directory: /root/.cache/pip/wheels/ac/cb/8a/b27bf6323e2f4c462dcbf77d70b7c5e7868a7fbe12871770cf\n",
      "Successfully built retrying\n",
      "Installing collected packages: munch, attrs, cligj, click-plugins, fiona, pyproj, shapely, geopandas, cython, sparse-dot-topn, tqdm, strct, decore, skutil, pdpipe, patsy, statsmodels, category-encoders, cycler, kiwisolver, matplotlib, graphviz, retrying, plotly, catboost, xgboost\n",
      "Successfully installed attrs-19.3.0 catboost-0.23.1 category-encoders-2.2.2 click-plugins-1.1.1 cligj-0.5.0 cycler-0.10.0 cython-0.29.17 decore-0.0.1 fiona-1.8.13.post1 geopandas-0.7.0 graphviz-0.14 kiwisolver-1.2.0 matplotlib-3.2.1 munch-2.5.0 patsy-0.5.1 pdpipe-0.0.49 plotly-4.7.1 pyproj-2.6.1.post1 retrying-1.3.3 shapely-1.7.0 skutil-0.0.16 sparse-dot-topn-0.2.9 statsmodels-0.11.1 strct-0.0.30 tqdm-4.46.0 xgboost-1.0.2\n"
     ]
    },
    {
     "data": {
      "application/vnd.colab-display-data+json": {
       "pip_warning": {
        "packages": [
         "cycler",
         "kiwisolver",
         "matplotlib",
         "mpl_toolkits"
        ]
       }
      }
     },
     "metadata": {
      "tags": []
     },
     "output_type": "display_data"
    },
    {
     "name": "stderr",
     "output_type": "stream",
     "text": [
      "/usr/local/lib/python3.6/dist-packages/statsmodels/tools/_testing.py:19: FutureWarning: pandas.util.testing is deprecated. Use the functions in the public API at pandas.testing instead.\n",
      "  import pandas.util.testing as tm\n"
     ]
    },
    {
     "name": "stdout",
     "output_type": "stream",
     "text": [
      "Solving environment: failed\n",
      "\n",
      "ResolvePackageNotFound: \n",
      "  - sqlalchemy==1.3.13=py36h0b31af3_0\n",
      "  - icu==64.2=h6de7cb9_1\n",
      "  - libsodium==1.0.17=h01d97ff_0\n",
      "  - libdap4==3.20.4=habf5908_0\n",
      "  - tensorflow==1.12.0=mkl_py36h2b2bbaf_0\n",
      "  - libxml2==2.9.10=h53d96d6_0\n",
      "  - libgfortran==4.0.0=2\n",
      "  - libwebp==1.0.2=hd3bf737_5\n",
      "  - json-c==0.13.1=h1de35cc_1001\n",
      "  - cfitsio==3.470=h84d2f63_2\n",
      "  - tiledb==1.7.0=hd5e958f_2\n",
      "  - libopenblas==0.3.9=h3d69b6c_0\n",
      "  - tensorflow-base==1.12.0=mkl_py36h70e0e9a_0\n",
      "  - libpng==1.6.37=hbbe82c9_1\n",
      "  - pyrsistent==0.16.0=py36h37b9a7d_0\n",
      "  - c-ares==1.15.0=h01d97ff_1001\n",
      "  - zlib==1.2.11=h0b31af3_1006\n",
      "  - libpq==12.2=h554dc5a_0\n",
      "  - appnope==0.1.0=py36h9f0ad1d_1001\n",
      "  - zstd==1.4.4=hed8d7c8_2\n",
      "  - libprotobuf==3.11.4=hd174df1_0\n",
      "  - fontconfig==2.13.1=h6b1039f_1001\n",
      "  - kealib==1.4.12=h2324030_0\n",
      "  - matplotlib-base==3.2.0=py36h11da6c2_1\n",
      "  - hdf5==1.10.5=nompi_h3e39495_1104\n",
      "  - poppler==0.67.0=h16886b5_8\n",
      "  - pyzmq==19.0.0=py36h820b253_1\n",
      "  - proj==6.3.1=h773a61f_1\n",
      "  - geotiff==1.5.1=h4bdff65_9\n",
      "  - openjpeg==2.3.1=h254dc36_3\n",
      "  - pcre==8.44=h4a8c4bd_0\n",
      "  - pillow==7.0.0=py36h918e99a_0\n",
      "  - cryptography==2.8=py36hc9d8292_2\n",
      "  - gdal==3.0.4=py36h5a1ef21_3\n",
      "  - markupsafe==1.1.1=py36h37b9a7d_1\n",
      "  - nodejs==13.10.1=h38d8c5a_0\n",
      "  - cairo==1.16.0=hec6a9b0_1003\n",
      "  - scipy==1.4.1=py36h82752d6_0\n",
      "  - sparse_dot_topn==0.2.9=py36h863e41a_0\n",
      "  - h5py==2.10.0=nompi_py36h106b333_102\n",
      "  - libllvm8==8.0.1=h770b8ee_0\n",
      "  - python-levenshtein==0.12.0=py36h0b31af3_1001\n",
      "  - shapely==1.7.0=py36hda0b814_2\n",
      "  - libgdal==3.0.4=hec54991_3\n",
      "  - libkml==1.3.0=h169b8f9_1011\n",
      "  - numba==0.48.0=py36h4f17bb1_0\n",
      "  - tornado==6.0.4=py36h37b9a7d_1\n",
      "  - zeromq==4.3.2=h6de7cb9_2\n",
      "  - libuv==1.34.0=h0b31af3_0\n",
      "  - statsmodels==0.11.1=py36h37b9a7d_1\n",
      "  - libiconv==1.15=h0b31af3_1006\n",
      "  - libffi==3.2.1=h4a8c4bd_1007\n",
      "  - pixman==0.38.0=h01d97ff_1003\n",
      "  - graphviz==2.42.3=h98dfb87_0\n",
      "  - python==3.6.10=hce46be0_1009_cpython\n",
      "  - mistune==0.8.4=py36h0b31af3_1000\n",
      "  - postgresql==12.2=h16d8c28_0\n",
      "  - psycopg2==2.8.4=py36hafa8578_1\n",
      "  - gettext==0.19.8.1=h46ab8bc_1002\n",
      "  - libtiff==4.1.0=ha78913b_3\n",
      "  - libedit==3.1.20170329=hcfe32e1_1001\n",
      "  - tk==8.6.10=hbbe82c9_0\n",
      "  - scikit-learn==0.20.3=py36hca23c92_1\n",
      "  - boost-cpp==1.72.0=hdf9ef73_0\n",
      "  - krb5==1.16.4=h1752a42_0\n",
      "  - freexl==1.0.5=h1de35cc_1002\n",
      "  - bzip2==1.0.8=h0b31af3_2\n",
      "  - expat==2.2.9=h4a8c4bd_2\n",
      "  - lz4-c==1.8.3=h6de7cb9_1001\n",
      "  - llvmlite==0.31.0=py36hde82470_1\n",
      "  - libcurl==7.68.0=h709d2b2_0\n",
      "  - giflib==5.2.1=h0b31af3_2\n",
      "  - xz==5.2.4=h0b31af3_1002\n",
      "  - geos==3.8.1=h4a8c4bd_0\n",
      "  - libspatialite==4.3.0a=hbcd37d4_1037\n",
      "  - openssl==1.1.1f=h0b31af3_0\n",
      "  - cffi==1.14.0=py36h356ff06_0\n",
      "  - tzcode==2019a=h01d97ff_1002\n",
      "  - grpcio==1.23.0=py36h7c1f37e_1\n",
      "  - llvm-openmp==9.0.1=h28b9765_2\n",
      "  - jpeg==9c=h1de35cc_1001\n",
      "  - kiwisolver==1.1.0=py36h863e41a_1\n",
      "  - fiona==1.8.13=py36he71f6a4_0\n",
      "  - xerces-c==3.2.2=h8f8adb3_1004\n",
      "  - ncurses==6.1=h0a44026_1002\n",
      "  - readline==8.0=hcfe32e1_0\n",
      "  - libssh2==1.8.2=hcdc9a53_2\n",
      "  - hdf4==4.2.13=h84186c3_1003\n",
      "  - glib==2.58.3=py36hb0ce7ff_1003\n",
      "  - pandas==1.0.1=py36h4f17bb1_0\n",
      "  - sqlite==3.30.1=h93121df_0\n",
      "  - numpy==1.18.1=py36hde6bac1_0\n",
      "  - freetype==2.10.1=h8da9a1a_0\n",
      "  - curl==7.68.0=h8754def_0\n",
      "  - psutil==5.7.0=py36h37b9a7d_1\n",
      "  - libnetcdf==4.7.4=nompi_he461dc0_101\n",
      "\n",
      "\n",
      "CommandNotFoundError: Your shell has not been properly configured to use 'conda activate'.\n",
      "If your shell is Bash or a Bourne variant, enable conda for the current user with\n",
      "\n",
      "    $ echo \". /usr/local/etc/profile.d/conda.sh\" >> ~/.bashrc\n",
      "\n",
      "or, for all users, enable conda with\n",
      "\n",
      "    $ sudo ln -s /usr/local/etc/profile.d/conda.sh /etc/profile.d/conda.sh\n",
      "\n",
      "The options above will permanently enable the 'conda' command, but they do NOT\n",
      "put conda's base (root) environment on PATH.  To do so, run\n",
      "\n",
      "    $ conda activate\n",
      "\n",
      "in your terminal, or to put the base environment on PATH permanently, run\n",
      "\n",
      "    $ echo \"conda activate\" >> ~/.bashrc\n",
      "\n",
      "Previous to conda 4.4, the recommended way to activate conda was to modify PATH in\n",
      "your ~/.bashrc file.  You should manually remove the line that looks like\n",
      "\n",
      "    export PATH=\"/usr/local/bin:$PATH\"\n",
      "\n",
      "^^^ The above line should NO LONGER be in your ~/.bashrc file! ^^^\n",
      "\n",
      "\n",
      "[nltk_data] Downloading package stopwords to /root/nltk_data...\n",
      "[nltk_data]   Package stopwords is already up-to-date!\n",
      "[nltk_data] Downloading package punkt to /root/nltk_data...\n",
      "[nltk_data]   Package punkt is already up-to-date!\n",
      "fatal: destination path 'rapidsai-csp-utils' already exists and is not an empty directory.\n",
      "PLEASE READ\n",
      "********************************************************************************************************\n",
      "Changes:\n",
      "1. Now that most people have migrated, we have rem0ved the migration notice.\n",
      "2. default stable version is now 0.13.  Nightly is now 0.14\n",
      "3. You can now declare your RAPIDS version as a CLI option and skip the user prompts (ex: '0.13' or '0.14', between 0.11 to 0.14, without the quotes): \n",
      "        \"!bash rapidsai-csp-utils/colab/rapids-colab.sh <version/label>\"\n",
      "        Examples: '!bash rapidsai-csp-utils/colab/rapids-colab.sh 0.13', or '!bash rapidsai-csp-utils/colab/rapids-colab.sh stable', or '!bash rapidsai-csp-utils/colab/rapids-colab.sh s'\n",
      "                  '!bash rapidsai-csp-utils/colab/rapids-colab.sh 0.14, or '!bash rapidsai-csp-utils/colab/rapids-colab.sh nightly', or '!bash rapidsai-csp-utils/colab/rapids-colab.sh n'\n",
      "Enjoy using RAPIDS!\n",
      "RAPIDS Version to install is 0.13\n",
      "Checking for GPU type:\n",
      "***********************************************************************\n",
      "Woo! Your instance has the right kind of GPU, a 'Tesla P100-PCIE-16GB'!\n",
      "***********************************************************************\n",
      "\n",
      "\n",
      "************************************************\n",
      "Your Google Colab instance has RAPIDS installed!\n",
      "************************************************\n",
      "***********************************************************************\n",
      "Let us check on those pyarrow and cffi versions...\n",
      "***********************************************************************\n",
      "\n",
      "unloaded pyarrow 0.14.1\n",
      "unloaded pyarrow 0.14.1\n",
      "unloaded pyarrow 0.14.1\n",
      "unloaded pyarrow 0.14.1\n",
      "unloaded pyarrow 0.14.1\n",
      "unloaded pyarrow 0.14.1\n",
      "unloaded pyarrow 0.14.1\n",
      "unloaded pyarrow 0.14.1\n",
      "unloaded pyarrow 0.14.1\n",
      "unloaded pyarrow 0.14.1\n",
      "unloaded pyarrow 0.14.1\n",
      "unloaded pyarrow 0.14.1\n",
      "loaded pyarrow 0.15.0\n",
      "You're now running pyarrow 0.15.0 and are good to go!\n",
      "unloaded cffi 1.14.0\n",
      "loaded cffi 1.11.5\n"
     ]
    }
   ],
   "source": [
    "try:\n",
    "    import sys,os,subprocess\n",
    "    \n",
    "    upgrade_runtime_ram()\n",
    "    setup_drive()\n",
    "\n",
    "    #Setting up PyPi Packages\n",
    "    !pip install geopandas sparse-dot-topn pdpipe category-encoders catboost xgboost\n",
    "    import geopandas as gpd\n",
    "    import sparse_dot_topn.sparse_dot_topn as ct\n",
    "    import pdpipe as pdp\n",
    "    import category_encoders\n",
    "    import xgboost as xgb\n",
    "\n",
    "    #Setting up Conda Packages\n",
    "    setup_conda()\n",
    "    \n",
    "    #Initializing NLTK\n",
    "    import nltk\n",
    "    nltk.download('stopwords')\n",
    "    nltk.download('punkt')\n",
    "    \n",
    "    #Setting up RAPIDS AI\n",
    "    import pynvml\n",
    "    setup_rapids()\n",
    "    \n",
    "    from cuml import UMAP\n",
    "    \n",
    "except ModuleNotFoundError as e:\n",
    "    print(e)\n",
    "    print('Not in colab environment, continuing to run locally')\n",
    "    from umap import UMAP"
   ]
  },
  {
   "cell_type": "markdown",
   "metadata": {
    "colab_type": "text",
    "id": "Kvn45BG28aqd"
   },
   "source": [
    "## Imports"
   ]
  },
  {
   "cell_type": "code",
   "execution_count": null,
   "metadata": {
    "colab": {},
    "colab_type": "code",
    "id": "IRijjSry8aqf"
   },
   "outputs": [],
   "source": [
    "%matplotlib inline\n",
    "import pandas as pd\n",
    "import numpy as np\n",
    "from tqdm import tqdm\n",
    "import matplotlib.pyplot as plt\n",
    "from sklearn.linear_model import SGDRegressor\n",
    "from sklearn.preprocessing import StandardScaler\n",
    "from sklearn.model_selection import GridSearchCV, train_test_split,  StratifiedKFold\n",
    "from sklearn.pipeline import Pipeline\n",
    "from sklearn.metrics import mean_absolute_error, mean_squared_error, r2_score\n",
    "tqdm.pandas()"
   ]
  },
  {
   "cell_type": "code",
   "execution_count": null,
   "metadata": {
    "colab": {},
    "colab_type": "code",
    "id": "fEgS7UQD8aqk"
   },
   "outputs": [],
   "source": [
    "from sklearn.model_selection import train_test_split\n",
    "from sklearn.impute import SimpleImputer\n",
    "from sklearn.compose import ColumnTransformer\n",
    "from sklearn.preprocessing import OneHotEncoder, FunctionTransformer, RobustScaler, MinMaxScaler\n",
    "from sklearn.model_selection import KFold\n",
    "from sklearn.dummy import DummyRegressor\n",
    "from sklearn.ensemble import RandomForestRegressor\n",
    "from sklearn.decomposition import PCA"
   ]
  },
  {
   "cell_type": "code",
   "execution_count": null,
   "metadata": {
    "colab": {},
    "colab_type": "code",
    "id": "u5KwAwAe8aqp"
   },
   "outputs": [],
   "source": [
    "from lib.transformers import *\n",
    "from lib.pipelines import *\n",
    "from lib.processing import save_to_pkl, load_from_pkl\n",
    "from lib.visualization import GridSearchPlotter\n",
    "from data.util.paths import DATA_PATH"
   ]
  },
  {
   "cell_type": "code",
   "execution_count": null,
   "metadata": {
    "colab": {},
    "colab_type": "code",
    "id": "ixGjIOwS8aq1"
   },
   "outputs": [],
   "source": [
    "from category_encoders.leave_one_out import LeaveOneOutEncoder"
   ]
  },
  {
   "cell_type": "code",
   "execution_count": null,
   "metadata": {
    "colab": {},
    "colab_type": "code",
    "id": "X4_WNHlLW7Lt"
   },
   "outputs": [],
   "source": [
    "from cuml import LinearRegression, RandomForestRegressor, Ridge, Lasso"
   ]
  },
  {
   "cell_type": "code",
   "execution_count": null,
   "metadata": {
    "colab": {},
    "colab_type": "code",
    "id": "K3Ig2yYxXIrV"
   },
   "outputs": [],
   "source": [
    "from catboost import CatBoostRegressor"
   ]
  },
  {
   "cell_type": "markdown",
   "metadata": {
    "colab_type": "text",
    "id": "YwJ6GSBC3Qtz"
   },
   "source": [
    "## Loading Data\n",
    "First, we load the dataset that we have prepared in the previous notebook, ``03-DatasetPrep``"
   ]
  },
  {
   "cell_type": "code",
   "execution_count": null,
   "metadata": {
    "colab": {},
    "colab_type": "code",
    "id": "RiNFe3gX3Qtz"
   },
   "outputs": [],
   "source": [
    "metadata_df, image_embeddings_df = tuple(load_from_pkl(i,DATA_PATH) for i in ('metadata','image_embeddings'))\n",
    "df = metadata_df.merge(image_embeddings_df,how='inner',on='release_id')\n",
    "df = OutlierRemover(features=['number_of_tracks'] + [i for i in df.columns if 'umap' in i]).fit_transform(df[(df['running_time'] < 180) | (df['running_time'].isna())])"
   ]
  },
  {
   "cell_type": "code",
   "execution_count": null,
   "metadata": {
    "colab": {},
    "colab_type": "code",
    "id": "8-JguLVU4_kn"
   },
   "outputs": [],
   "source": [
    "del metadata_df, image_embeddings_df"
   ]
  },
  {
   "cell_type": "code",
   "execution_count": 15,
   "metadata": {
    "colab": {
     "base_uri": "https://localhost:8080/",
     "height": 67,
     "referenced_widgets": [
      "a988f760e65e4c1d8d4c5815a6df9010",
      "b847c031e4df41db89055c797e212fd0",
      "24abc2ac46f447d394ae154c82d44587",
      "c64d0f2abd6c4207864186ceae7cd208",
      "ffdd8b42ffe643a8ab66636a8139cadc",
      "d4e68179d3454cd6a746d8ef04b882b0",
      "772edd656b674ef6b57e9a7accebc690",
      "2844ea0a04f849e3b0afe6563661def6"
     ]
    },
    "colab_type": "code",
    "id": "1hbzpOTylHCB",
    "outputId": "c653f020-e875-46ca-f2ea-2bd5fbe8a4bf"
   },
   "outputs": [
    {
     "data": {
      "application/vnd.jupyter.widget-view+json": {
       "model_id": "a988f760e65e4c1d8d4c5815a6df9010",
       "version_major": 2,
       "version_minor": 0
      },
      "text/plain": [
       "HBox(children=(FloatProgress(value=0.0, max=8.0), HTML(value='')))"
      ]
     },
     "metadata": {
      "tags": []
     },
     "output_type": "display_data"
    },
    {
     "name": "stdout",
     "output_type": "stream",
     "text": [
      "\n"
     ]
    }
   ],
   "source": [
    "col_set = {\n",
    "    'format': {\n",
    "        'description': 'format_description_', \n",
    "        'name': 'format_name_', \n",
    "        'text': ('format_text_clean'),\n",
    "        'quantity': ('format_quantity')\n",
    "    },\n",
    "    'geography': {\n",
    "        'superregion': 'superregion_',\n",
    "        'region': 'region_',\n",
    "        'country': 'country_'\n",
    "    },\n",
    "    'timeperiod': {\n",
    "        'period': 'period_',\n",
    "        'era': 'era_'\n",
    "    },\n",
    "    'genre': 'genre_',\n",
    "    'style': 'style_',\n",
    "    'null': None,\n",
    "    'indicator': lambda x: x.max() == 1 and x.min() == 0,\n",
    "    'image_embedding': 'image_umap_'\n",
    "}\n",
    "column_store = ColumnStore()\n",
    "column_store.fit(df,col_set)"
   ]
  },
  {
   "cell_type": "code",
   "execution_count": null,
   "metadata": {
    "colab": {},
    "colab_type": "code",
    "id": "QzAh-YkAF2SB"
   },
   "outputs": [],
   "source": [
    "df = df[df['year']>1949]\n",
    "df = df[df[column_store._genre].sum(axis=1)==0]"
   ]
  },
  {
   "cell_type": "markdown",
   "metadata": {
    "colab_type": "text",
    "id": "Gz00X-1E8arN"
   },
   "source": [
    "## Preparing for Machine Learning\n",
    "Next, we split our dataset, ``df``, into train and test sets, which is crucial for the training and ultimate evaluation of the machine learning models we will build in this notebook. We also apply an imputation of missing values for the ``average_rating`` feature at this stage. Since we are using the 'mean' strategy of imputation, it is crucial that this step is taken after the splitting of train and test datasets, in order to avoid datapoints from the test set influencing the values of predictors we are using to build our models."
   ]
  },
  {
   "cell_type": "code",
   "execution_count": 1,
   "metadata": {
    "colab": {},
    "colab_type": "code",
    "id": "7hLwsGal8arO"
   },
   "outputs": [
    {
     "ename": "NameError",
     "evalue": "name 'train_test_split' is not defined",
     "output_type": "error",
     "traceback": [
      "\u001b[0;31m---------------------------------------------------------------------------\u001b[0m",
      "\u001b[0;31mNameError\u001b[0m                                 Traceback (most recent call last)",
      "\u001b[0;32m<ipython-input-1-a44136d264d1>\u001b[0m in \u001b[0;36m<module>\u001b[0;34m\u001b[0m\n\u001b[0;32m----> 1\u001b[0;31m \u001b[0mX_tr\u001b[0m\u001b[0;34m,\u001b[0m \u001b[0mX_te\u001b[0m\u001b[0;34m,\u001b[0m \u001b[0my_tr\u001b[0m\u001b[0;34m,\u001b[0m \u001b[0my_te\u001b[0m \u001b[0;34m=\u001b[0m \u001b[0mtrain_test_split\u001b[0m\u001b[0;34m(\u001b[0m\u001b[0mdf\u001b[0m\u001b[0;34m.\u001b[0m\u001b[0mdrop\u001b[0m\u001b[0;34m(\u001b[0m\u001b[0;34m'market_value'\u001b[0m\u001b[0;34m,\u001b[0m\u001b[0maxis\u001b[0m\u001b[0;34m=\u001b[0m\u001b[0;36m1\u001b[0m\u001b[0;34m)\u001b[0m\u001b[0;34m,\u001b[0m\u001b[0mdf\u001b[0m\u001b[0;34m.\u001b[0m\u001b[0mmarket_value\u001b[0m\u001b[0;34m,\u001b[0m\u001b[0mrandom_state\u001b[0m\u001b[0;34m=\u001b[0m\u001b[0;36m0\u001b[0m\u001b[0;34m)\u001b[0m\u001b[0;34m\u001b[0m\u001b[0;34m\u001b[0m\u001b[0m\n\u001b[0m",
      "\u001b[0;31mNameError\u001b[0m: name 'train_test_split' is not defined"
     ]
    }
   ],
   "source": [
    "X_tr, X_te, y_tr, y_te = train_test_split(df.drop('market_value',axis=1),df.market_value,random_state=0)"
   ]
  },
  {
   "cell_type": "code",
   "execution_count": 2,
   "metadata": {
    "colab": {},
    "colab_type": "code",
    "id": "dXpwfIAIfudu"
   },
   "outputs": [
    {
     "ename": "NameError",
     "evalue": "name 'SimpleImputer' is not defined",
     "output_type": "error",
     "traceback": [
      "\u001b[0;31m---------------------------------------------------------------------------\u001b[0m",
      "\u001b[0;31mNameError\u001b[0m                                 Traceback (most recent call last)",
      "\u001b[0;32m<ipython-input-2-49cf00be10cb>\u001b[0m in \u001b[0;36m<module>\u001b[0;34m\u001b[0m\n\u001b[0;32m----> 1\u001b[0;31m \u001b[0munits_for_sale_imputer\u001b[0m \u001b[0;34m=\u001b[0m \u001b[0mSimpleImputer\u001b[0m\u001b[0;34m(\u001b[0m\u001b[0mstrategy\u001b[0m\u001b[0;34m=\u001b[0m\u001b[0;34m'constant'\u001b[0m\u001b[0;34m,\u001b[0m\u001b[0mfill_value\u001b[0m\u001b[0;34m=\u001b[0m\u001b[0;36m0\u001b[0m\u001b[0;34m)\u001b[0m\u001b[0;34m\u001b[0m\u001b[0;34m\u001b[0m\u001b[0m\n\u001b[0m\u001b[1;32m      2\u001b[0m \u001b[0maverage_rating_imputer\u001b[0m \u001b[0;34m=\u001b[0m \u001b[0mSimpleImputer\u001b[0m\u001b[0;34m(\u001b[0m\u001b[0mstrategy\u001b[0m\u001b[0;34m=\u001b[0m\u001b[0;34m'mean'\u001b[0m\u001b[0;34m)\u001b[0m\u001b[0;34m\u001b[0m\u001b[0;34m\u001b[0m\u001b[0m\n",
      "\u001b[0;31mNameError\u001b[0m: name 'SimpleImputer' is not defined"
     ]
    }
   ],
   "source": [
    "units_for_sale_imputer = SimpleImputer(strategy='constant',fill_value=0)\n",
    "average_rating_imputer = SimpleImputer(strategy='mean')\n",
    "running_time_imputer = RunningTimeImputer('running_time','number_of_tracks')"
   ]
  },
  {
   "cell_type": "code",
   "execution_count": null,
   "metadata": {
    "colab": {},
    "colab_type": "code",
    "id": "nb5EhuF_fukB"
   },
   "outputs": [],
   "source": [
    "X_tr['units_for_sale'] = units_for_sale_imputer.fit_transform(X_tr['units_for_sale'].values.reshape(-1,1))\n",
    "X_te['units_for_sale'] = units_for_sale_imputer.transform(X_te['units_for_sale'].values.reshape(-1,1))"
   ]
  },
  {
   "cell_type": "code",
   "execution_count": null,
   "metadata": {
    "colab": {},
    "colab_type": "code",
    "id": "x8fAvd_9fumo"
   },
   "outputs": [],
   "source": [
    "X_tr['average_rating'] = average_rating_imputer.fit_transform(X_tr['average_rating'].values.reshape(-1,1))\n",
    "X_te['average_rating'] = average_rating_imputer.transform(X_te['average_rating'].values.reshape(-1,1))"
   ]
  },
  {
   "cell_type": "code",
   "execution_count": null,
   "metadata": {},
   "outputs": [],
   "source": [
    "X_tr = running_time_imputer.fit_transform(X_tr)\n",
    "X_te = running_time_imputer.transform(X_te)"
   ]
  },
  {
   "cell_type": "markdown",
   "metadata": {},
   "source": [
    "Finally, as we are dealing with a fairly high dimensional dataset, we create a smaller training dataset for the purposes of tuning the hyperparameters of the more sophisticated algorithms we are testing in this notebook. This will allow us to iterate quickly in the process of tuning our hyperparameters."
   ]
  },
  {
   "cell_type": "code",
   "execution_count": null,
   "metadata": {
    "colab": {},
    "colab_type": "code",
    "id": "0C52Gl1ngdey"
   },
   "outputs": [],
   "source": [
    "df_sample = pd.concat([X_tr,y_tr],axis=1).sample(frac=0.1)\n",
    "X_tr_sample = df_sample.drop('market_value',axis=1)\n",
    "y_tr_sample = df_sample['market_value']"
   ]
  },
  {
   "cell_type": "code",
   "execution_count": null,
   "metadata": {
    "colab": {},
    "colab_type": "code",
    "id": "pAWFk-AwgfEX"
   },
   "outputs": [],
   "source": [
    "del df"
   ]
  },
  {
   "cell_type": "markdown",
   "metadata": {
    "colab_type": "text",
    "id": "pk_qZ4Lu947Y"
   },
   "source": [
    "## Setting up Dummy Regression for baseline\n",
    "In order to be able to interpret the results we obtain from our models, we must first set a benchmark which we expect our models to surpass. In our case, we will be employing the sci-kit learn DummyRegressor using the 'mean' strategy, and use this to calculate the baseline values for R2 and Mean Absolute Error, our evaluation of metrics of choice in this project."
   ]
  },
  {
   "cell_type": "code",
   "execution_count": null,
   "metadata": {
    "colab": {},
    "colab_type": "code",
    "id": "tTWU4_un6lR2"
   },
   "outputs": [],
   "source": [
    "dummy_regressor = DummyRegressor(strategy='mean')\n",
    "dummy_regressor.fit(X_tr,np.log(y_tr).values)\n",
    "dummy_pred = dummy_regressor.predict(X_te)"
   ]
  },
  {
   "cell_type": "markdown",
   "metadata": {},
   "source": [
    "First, we will naively evaluate the performance of our dummy regressor by calculating the R2 Score and Mean Absolute Error using our predictions and the log of the ``market_value`` feature of our test set. The results from this evaluation, as we can see below, indicate fairly strong results, particularly with respect to the Mean Absolute Error, but cannot be interpreted as one would normally interpret a Mean Absolute Error for a untransformed target feature. As we have log-linearized the target feature, the Mean Absolute Error in this case does not represent the mean difference in prediction we can expect from our model with respect to the actual value of the untransformed target variable, which we seek in this case in order to be able to interpret the quality of the model with respect how far it is from predicting the true price of a given Jazz album. To do so, we must exponentiate the predictions of our model and evaluate these with respect to the untransformed target feature values, which allows us to interpret the performance of the model in terms of mean deviation of the model from the actual album value using price as the denomination. This practice will be continued throughout this notebook, and will be key in evaluating whether or not our models can be said to be performant predictors of Jazz album value."
   ]
  },
  {
   "cell_type": "code",
   "execution_count": null,
   "metadata": {},
   "outputs": [],
   "source": [
    "r2_score(np.log(y_te),dummy_pred)"
   ]
  },
  {
   "cell_type": "code",
   "execution_count": null,
   "metadata": {},
   "outputs": [],
   "source": [
    "mean_absolute_error(np.log(y_te),dummy_pred)"
   ]
  },
  {
   "cell_type": "code",
   "execution_count": 26,
   "metadata": {
    "colab": {
     "base_uri": "https://localhost:8080/",
     "height": 35
    },
    "colab_type": "code",
    "id": "h-oMdqdnDUjz",
    "outputId": "d7c3edf3-56b3-4ec7-8eae-b1b3ffe4e549"
   },
   "outputs": [
    {
     "data": {
      "text/plain": [
       "-0.07504973843038432"
      ]
     },
     "execution_count": 26,
     "metadata": {
      "tags": []
     },
     "output_type": "execute_result"
    }
   ],
   "source": [
    "r2_score(y_te,np.exp(dummy_pred))"
   ]
  },
  {
   "cell_type": "code",
   "execution_count": 27,
   "metadata": {
    "colab": {
     "base_uri": "https://localhost:8080/",
     "height": 35
    },
    "colab_type": "code",
    "id": "Gw0h8_hCC4x4",
    "outputId": "0f0f9330-e8c7-4bd3-dcee-200622a85659"
   },
   "outputs": [
    {
     "data": {
      "text/plain": [
       "10.418513133902412"
      ]
     },
     "execution_count": 27,
     "metadata": {
      "tags": []
     },
     "output_type": "execute_result"
    }
   ],
   "source": [
    "mean_absolute_error(y_te,np.exp(dummy_pred))"
   ]
  },
  {
   "cell_type": "markdown",
   "metadata": {},
   "source": [
    "## Model Roadmap\n",
    "In what follows, we will be attempting to predict the ``market_value`` of Jazz Album on the basis of their non-musical characteristics, using models built with the help of machine learning algorithms. For this analysis, we will be making use of the following machine learning algorithms to build our models:\n",
    "- Linear Regression\n",
    "- Ridge Regression\n",
    "- Random Forest\n",
    "- CatBoost\n",
    "\n",
    "In so doing, we will also try to identify the difference in predictive power that a model built with full-information, or all available features, has in comparison to a model built only using those features that are ostensibly available for evaluation by patrons of record stores. As such, we will be building two models each to predict ``market_value`` using the machine learning algorithms identified above, in order to test whether the information that record store patrons lack significantly inhibits their ability to make a prediction of the ``market_value`` of a given Jazz album."
   ]
  },
  {
   "cell_type": "markdown",
   "metadata": {},
   "source": [
    "## Linear Regression\n",
    "For our first pair of models, we will use Linear Regression. Linear Regression is a simple model which lends itself well to quickly establishing a non-dummy baseline to better understand the possible performance of our final and preferred model. The ``cuml`` implementation of this estimator has few hyperparameters to tune, and is quick to build."
   ]
  },
  {
   "cell_type": "markdown",
   "metadata": {
    "colab_type": "text",
    "id": "DYJYPpPP-AaC"
   },
   "source": [
    "## Linear Regression - Record Store\n",
    "To build and evaluate our Linear Regression model for the 'Record Store' scenario, we will create a pipeline which applies the transformations necessary to prepare the dataset for the application of this algorithm.\n",
    "\n",
    "The processing pipeline follows the following steps:\n",
    "1. Encoding categorical features with high cardinality using Leave One Out Encoding\n",
    "    - In order to be able to benefit from the information encoded within the categorical features of ``artist``, ``label``, ``format_text``, ``format_name`` and ``master_id``, we make use of Leave One Out Encoding\n",
    "    - This approach to categorical feature encoding is beneficial for the purposes of this project as it helps keep the dimensionality of our dataset from exploding via similar techniques such as OneHotEncoding, while still being able to exploit the relationship between the given feature and the target variable\n",
    "    - Leave One Out Encoding effectively does so by calculating the mean of the target feature for all the records containing a given value for each categorical feature being encoded.\n",
    "2. Removing Unnecessary/Inappropriate Columns\n",
    "    - As has been outlined previously, in this step of our analysis, we aim to predict the ``market_value`` of a given Jazz album using only those non-musical attributes which are ostensibly available for evaluation by record store patrons\n",
    "    - As such, we remove those features pertaining to the Full Information scenario, as well as non-encoded features that will not be leveraged for estimation, such as 'track_titles' and 'thumb_url'\n",
    "3. Encoding of ``year``\n",
    "    - Following best practices, we one hot encode the ``year`` feature, in order to reinforce its status as a categorical, not numerical feature.\n",
    "4. Standardization\n",
    "    - Following best practices, we standardize the features use for predicting ``market_value``\n",
    "5. Normalization\n",
    "    - In order to speed up training time and mitigate the impact of scale differences on our results, we normalize the range of our features to lie between 0 and 1\n",
    "\n",
    "Finally, we construct the ``record_store_lr_pipe``, which applies the aforementioned transformation pipeline and the Linear Regression algorithm we have discussed previously. As the ``cuml`` implementation offers no relevant hyperparametesr to tune, we make use of the estimator as is. The use of GridSearch in the estimator is superfluous in this instance, as we are not searching over a hyperparameter space, but is useful for the natively supported cross validation, which we use to get an understanding of the performance of our model."
   ]
  },
  {
   "cell_type": "code",
   "execution_count": 3,
   "metadata": {
    "colab": {},
    "colab_type": "code",
    "id": "sRH_P30fEM-W"
   },
   "outputs": [
    {
     "ename": "NameError",
     "evalue": "name 'ColumnTransformer' is not defined",
     "output_type": "error",
     "traceback": [
      "\u001b[0;31m---------------------------------------------------------------------------\u001b[0m",
      "\u001b[0;31mNameError\u001b[0m                                 Traceback (most recent call last)",
      "\u001b[0;32m<ipython-input-3-0616daa5c2d5>\u001b[0m in \u001b[0;36m<module>\u001b[0;34m\u001b[0m\n\u001b[0;32m----> 1\u001b[0;31m record_store_regression_transformer = ColumnTransformer(transformers=[\n\u001b[0m\u001b[1;32m      2\u001b[0m     \u001b[0;34m(\u001b[0m\u001b[0;34m'year_encoder'\u001b[0m\u001b[0;34m,\u001b[0m \u001b[0mOneHotEncoder\u001b[0m\u001b[0;34m(\u001b[0m\u001b[0mdtype\u001b[0m\u001b[0;34m=\u001b[0m\u001b[0mnp\u001b[0m\u001b[0;34m.\u001b[0m\u001b[0muint8\u001b[0m\u001b[0;34m,\u001b[0m\u001b[0mhandle_unknown\u001b[0m\u001b[0;34m=\u001b[0m\u001b[0;34m'ignore'\u001b[0m\u001b[0;34m)\u001b[0m\u001b[0;34m,\u001b[0m \u001b[0;34m[\u001b[0m\u001b[0;34m'year'\u001b[0m\u001b[0;34m]\u001b[0m\u001b[0;34m)\u001b[0m\u001b[0;34m\u001b[0m\u001b[0;34m\u001b[0m\u001b[0m\n\u001b[1;32m      3\u001b[0m ], remainder='passthrough')\n\u001b[1;32m      4\u001b[0m \u001b[0;34m\u001b[0m\u001b[0m\n\u001b[1;32m      5\u001b[0m record_store_regression_removal_columns = set([\n",
      "\u001b[0;31mNameError\u001b[0m: name 'ColumnTransformer' is not defined"
     ]
    }
   ],
   "source": [
    "record_store_regression_removal_columns = set([\n",
    "    'market_price','units_for_sale','have','want','average_rating','rating_count','last_sold','lowest','median',\n",
    "    'highest','track_titles','country','genre','style','community_have','community_want','formats','thumb_url',\n",
    "    'release_url','format_description','days_since_last_sale','title', 'release_id'\n",
    "])\n",
    "\n",
    "record_store_regression_processing = Pipeline([\n",
    "    ('leave_one_out_encoding', LeaveOneOutEncoder(cols=['artist','label','format_text','master_id','format_name'])),\n",
    "    ('record_store_column_remover', ColumnRemover(record_store_regression_removal_columns)),\n",
    "    ('preprocessing',record_store_regression_transformer),\n",
    "    ('scaler', RobustScaler()),\n",
    "    ('normalize', MinMaxScaler())                        \n",
    "])\n",
    "\n",
    "record_store_lr_pipe = Pipeline([\n",
    "    ('processing', record_store_regression_processing),\n",
    "    ('lr', GridSearchCV(\n",
    "        LinearRegression(),\n",
    "        param_grid={\n",
    "            'normalize': [False]\n",
    "        },\n",
    "        cv=KFold(n_splits=5,shuffle=True),\n",
    "        scoring='neg_mean_absolute_error',\n",
    "        verbose=5,\n",
    "        n_jobs=-1,\n",
    "    ))\n",
    "])"
   ]
  },
  {
   "cell_type": "code",
   "execution_count": 32,
   "metadata": {
    "colab": {
     "base_uri": "https://localhost:8080/",
     "height": 521
    },
    "colab_type": "code",
    "id": "0ymJQSm8RuUn",
    "outputId": "241779fc-48bb-4857-a399-f0cfd71978ab"
   },
   "outputs": [
    {
     "name": "stdout",
     "output_type": "stream",
     "text": [
      "Fitting 5 folds for each of 2 candidates, totalling 10 fits\n"
     ]
    },
    {
     "name": "stderr",
     "output_type": "stream",
     "text": [
      "[Parallel(n_jobs=-1)]: Using backend LokyBackend with 4 concurrent workers.\n",
      "[Parallel(n_jobs=-1)]: Done   6 out of  10 | elapsed:   15.8s remaining:   10.5s\n",
      "[Parallel(n_jobs=-1)]: Done  10 out of  10 | elapsed:   16.6s finished\n",
      "/usr/local/lib/python3.6/site-packages/cuml/utils/input_utils.py:188: UserWarning: Expected column ('F') major order, but got the opposite. Converting data, this will result in additional memory utilization.\n",
      "  warnings.warn(\"Expected \" + order_to_str(order) + \" major order, \"\n"
     ]
    },
    {
     "data": {
      "text/plain": [
       "Pipeline(memory=None,\n",
       "         steps=[('processing',\n",
       "                 Pipeline(memory=None,\n",
       "                          steps=[('running_time_imputer',\n",
       "                                  RunningTimeImputer(number_of_tracks='number_of_tracks',\n",
       "                                                     running_time='running_time')),\n",
       "                                 ('leave_one_out_encoding',\n",
       "                                  LeaveOneOutEncoder(cols=['artist', 'label',\n",
       "                                                           'format_text',\n",
       "                                                           'master_id',\n",
       "                                                           'format_name'],\n",
       "                                                     drop_invariant=False,\n",
       "                                                     handle_missing='value',\n",
       "                                                     handle_unknown='va...\n",
       "                              estimator=LinearRegression(algorithm='eig', fit_intercept=True, normalize=False, handle=<cuml.common.handle.Handle object at 0x7faa7ca04e30>, verbose=False, output_type='input'),\n",
       "                              iid='deprecated', n_jobs=-1,\n",
       "                              param_grid={'normalize': [True, False]},\n",
       "                              pre_dispatch='2*n_jobs', refit=True,\n",
       "                              return_train_score=False,\n",
       "                              scoring='neg_mean_absolute_error', verbose=5))],\n",
       "         verbose=False)"
      ]
     },
     "execution_count": 32,
     "metadata": {
      "tags": []
     },
     "output_type": "execute_result"
    }
   ],
   "source": [
    "record_store_lr_pipe.fit(X_tr,np.log(y_tr).values)"
   ]
  },
  {
   "cell_type": "code",
   "execution_count": 33,
   "metadata": {
    "colab": {
     "base_uri": "https://localhost:8080/",
     "height": 35
    },
    "colab_type": "code",
    "id": "bVqYCgf9EMzZ",
    "outputId": "dfc0b4d1-642f-470a-bce3-e92e0b99f4e3"
   },
   "outputs": [
    {
     "data": {
      "text/plain": [
       "-0.520049832102794"
      ]
     },
     "execution_count": 33,
     "metadata": {
      "tags": []
     },
     "output_type": "execute_result"
    }
   ],
   "source": [
    "record_store_lr_pipe.steps[-1][-1].best_score_"
   ]
  },
  {
   "cell_type": "markdown",
   "metadata": {},
   "source": [
    "After performing grid search, we see that our model performs better than our baseline in terms of its negative mean absolute error, which we will now evaluate against the test set by exponentiating our model predictions in order to obtain a clearer picture of the scale of its error."
   ]
  },
  {
   "cell_type": "code",
   "execution_count": 34,
   "metadata": {
    "colab": {
     "base_uri": "https://localhost:8080/",
     "height": 73
    },
    "colab_type": "code",
    "id": "W6IhcYpqEMuK",
    "outputId": "50ad94f2-a6b1-41a7-b00d-519eeec5fe74"
   },
   "outputs": [
    {
     "name": "stderr",
     "output_type": "stream",
     "text": [
      "/usr/local/lib/python3.6/site-packages/cuml/utils/input_utils.py:188: UserWarning: Expected column ('F') major order, but got the opposite. Converting data, this will result in additional memory utilization.\n",
      "  warnings.warn(\"Expected \" + order_to_str(order) + \" major order, \"\n"
     ]
    }
   ],
   "source": [
    "record_store_lr_pred = record_store_lr_pipe.predict(X_te)"
   ]
  },
  {
   "cell_type": "code",
   "execution_count": 35,
   "metadata": {
    "colab": {
     "base_uri": "https://localhost:8080/",
     "height": 35
    },
    "colab_type": "code",
    "id": "IVdPIxrzEMoC",
    "outputId": "79c38d92-778e-430a-ef05-01e43ad98a43"
   },
   "outputs": [
    {
     "data": {
      "text/plain": [
       "0.20382318307613334"
      ]
     },
     "execution_count": 35,
     "metadata": {
      "tags": []
     },
     "output_type": "execute_result"
    }
   ],
   "source": [
    "r2_score(y_te,np.exp(record_store_lr_pred))"
   ]
  },
  {
   "cell_type": "code",
   "execution_count": 36,
   "metadata": {
    "colab": {
     "base_uri": "https://localhost:8080/",
     "height": 35
    },
    "colab_type": "code",
    "id": "opzrKU8LE5DR",
    "outputId": "fcdd2af6-9ade-44e8-9032-c92a16981944"
   },
   "outputs": [
    {
     "data": {
      "text/plain": [
       "8.221763449209202"
      ]
     },
     "execution_count": 36,
     "metadata": {
      "tags": []
     },
     "output_type": "execute_result"
    }
   ],
   "source": [
    "mean_absolute_error(y_te,np.exp(record_store_lr_pred))"
   ]
  },
  {
   "cell_type": "markdown",
   "metadata": {},
   "source": [
    "In comparison to our baseline model, we see there has been a clear improvement in performance using the Linear Regression model, with the R2 venturing into positive territory and the mean absolute error decreasing by just over 2.5 USD. However, despite this improvement in performance, the linear regression model cannot be argued to be a reliable model in the prediction of Jazz album market value, with a very large deviation from the price of a given record and an altogether poor evaluation of its fit as per the R2. \n",
    "\n",
    "As a next step, we will investigate whether the inclusion of the Full Information suite of features will do anything to improve model performance for this algorithm."
   ]
  },
  {
   "cell_type": "markdown",
   "metadata": {
    "colab_type": "text",
    "id": "JwtgnOdrk1hP"
   },
   "source": [
    "## Linear Regression - Full Information\n",
    "In comparison to the previous model, we make only a small change to the pipeline that builds the Linear Regression model for the Full Information scenario. By retaining the features of ``unit_for_sale``, ``community_have``, ``community_want``, ``average_rating`` and ``rating_count``, we incorporate the broader scope of information available to us by using the Discogs.com platform information. In what follows, we attempt to identify whether this makes a substantive difference in the prediction of the ``market_value`` target feature for Jazz albums within the Linear Regression framework."
   ]
  },
  {
   "cell_type": "code",
   "execution_count": null,
   "metadata": {
    "colab": {},
    "colab_type": "code",
    "id": "lddHv-fzk1hX"
   },
   "outputs": [],
   "source": [
    "full_information_regression_transformer = ColumnTransformer(transformers=[\n",
    "    ('year_encoder', OneHotEncoder(dtype=np.uint8,handle_unknown='ignore'), ['year'])\n",
    "], remainder='passthrough')\n",
    "\n",
    "full_information_columns = set([\n",
    "    'units_for_sale','community_have','community_want','average_rating','rating_count'\n",
    "])\n",
    "full_information_regression_removal_columns = record_store_regression_removal_columns - full_information_columns\n",
    "\n",
    "full_information_regression_processing = Pipeline([\n",
    "    ('leave_one_out_encoding', LeaveOneOutEncoder(cols=['artist','label','format_text','master_id','format_name'])),\n",
    "    ('record_store_column_remover', ColumnRemover(full_information_regression_removal_columns)),\n",
    "    ('preprocessing',full_information_regression_transformer),\n",
    "    ('scaler', RobustScaler()),\n",
    "    ('normalize',MinMaxScaler())\n",
    "])\n",
    "\n",
    "full_information_lr_pipe = Pipeline([\n",
    "    ('processing', full_information_regression_processing),\n",
    "    ('lr', GridSearchCV(\n",
    "        LinearRegression(),\n",
    "        param_grid={\n",
    "            'normalize':[False,True]\n",
    "        },\n",
    "        cv=KFold(n_splits=5,shuffle=True),\n",
    "        scoring='neg_mean_absolute_error',\n",
    "        verbose=5,\n",
    "        n_jobs=-1,\n",
    "    ))\n",
    "])"
   ]
  },
  {
   "cell_type": "code",
   "execution_count": 40,
   "metadata": {
    "colab": {
     "base_uri": "https://localhost:8080/",
     "height": 557
    },
    "colab_type": "code",
    "id": "GIxWE4WUk1hb",
    "outputId": "b371173f-f877-4078-91da-6df40822a689"
   },
   "outputs": [
    {
     "name": "stdout",
     "output_type": "stream",
     "text": [
      "Fitting 5 folds for each of 2 candidates, totalling 10 fits\n"
     ]
    },
    {
     "name": "stderr",
     "output_type": "stream",
     "text": [
      "[Parallel(n_jobs=-1)]: Using backend LokyBackend with 4 concurrent workers.\n",
      "/usr/local/lib/python3.6/dist-packages/joblib/externals/loky/process_executor.py:706: UserWarning: A worker stopped while some jobs were given to the executor. This can be caused by a too short worker timeout or by a memory leak.\n",
      "  \"timeout or by a memory leak.\", UserWarning\n",
      "[Parallel(n_jobs=-1)]: Done   6 out of  10 | elapsed:   11.2s remaining:    7.4s\n",
      "[Parallel(n_jobs=-1)]: Done  10 out of  10 | elapsed:   12.4s finished\n",
      "/usr/local/lib/python3.6/site-packages/cuml/utils/input_utils.py:188: UserWarning: Expected column ('F') major order, but got the opposite. Converting data, this will result in additional memory utilization.\n",
      "  warnings.warn(\"Expected \" + order_to_str(order) + \" major order, \"\n"
     ]
    },
    {
     "data": {
      "text/plain": [
       "Pipeline(memory=None,\n",
       "         steps=[('processing',\n",
       "                 Pipeline(memory=None,\n",
       "                          steps=[('running_time_imputer',\n",
       "                                  RunningTimeImputer(number_of_tracks='number_of_tracks',\n",
       "                                                     running_time='running_time')),\n",
       "                                 ('leave_one_out_encoding',\n",
       "                                  LeaveOneOutEncoder(cols=['artist', 'label',\n",
       "                                                           'format_text',\n",
       "                                                           'master_id',\n",
       "                                                           'format_name'],\n",
       "                                                     drop_invariant=False,\n",
       "                                                     handle_missing='value',\n",
       "                                                     handle_unknown='va...\n",
       "                              estimator=LinearRegression(algorithm='eig', fit_intercept=True, normalize=False, handle=<cuml.common.handle.Handle object at 0x7faaa3d24fd0>, verbose=False, output_type='input'),\n",
       "                              iid='deprecated', n_jobs=-1,\n",
       "                              param_grid={'normalize': [False, True]},\n",
       "                              pre_dispatch='2*n_jobs', refit=True,\n",
       "                              return_train_score=False,\n",
       "                              scoring='neg_mean_absolute_error', verbose=5))],\n",
       "         verbose=False)"
      ]
     },
     "execution_count": 40,
     "metadata": {
      "tags": []
     },
     "output_type": "execute_result"
    }
   ],
   "source": [
    "full_information_lr_pipe.fit(X_tr,np.log(y_tr).values)"
   ]
  },
  {
   "cell_type": "code",
   "execution_count": 41,
   "metadata": {
    "colab": {
     "base_uri": "https://localhost:8080/",
     "height": 35
    },
    "colab_type": "code",
    "id": "zK4yVrywk1hf",
    "outputId": "9c2fa85d-8b5d-4378-a0a7-2f9575e86be5"
   },
   "outputs": [
    {
     "data": {
      "text/plain": [
       "-0.47978700167755567"
      ]
     },
     "execution_count": 41,
     "metadata": {
      "tags": []
     },
     "output_type": "execute_result"
    }
   ],
   "source": [
    "full_information_lr_pipe['lr'].best_score_"
   ]
  },
  {
   "cell_type": "markdown",
   "metadata": {},
   "source": [
    "Compared to the results we obtained on the cross validation of the Linear Regression model under the Record Store scenario, we observe a small increase of around 0.05 in the negative mean absolute error. Next we will identify to what extent this improvement is reflected by evaluating our model on the test set."
   ]
  },
  {
   "cell_type": "code",
   "execution_count": 42,
   "metadata": {
    "colab": {
     "base_uri": "https://localhost:8080/",
     "height": 73
    },
    "colab_type": "code",
    "id": "lK9EGfANk1hk",
    "outputId": "806f433c-594e-4b1c-f38e-ca8585f57f9c"
   },
   "outputs": [
    {
     "name": "stderr",
     "output_type": "stream",
     "text": [
      "/usr/local/lib/python3.6/site-packages/cuml/utils/input_utils.py:188: UserWarning: Expected column ('F') major order, but got the opposite. Converting data, this will result in additional memory utilization.\n",
      "  warnings.warn(\"Expected \" + order_to_str(order) + \" major order, \"\n"
     ]
    }
   ],
   "source": [
    "full_information_lr_pred = record_store_lr_pipe.predict(X_te)"
   ]
  },
  {
   "cell_type": "code",
   "execution_count": 43,
   "metadata": {
    "colab": {
     "base_uri": "https://localhost:8080/",
     "height": 35
    },
    "colab_type": "code",
    "id": "lSQPebt_k1hm",
    "outputId": "6a857e60-bb50-4ebe-a2c2-8b9c34406cec"
   },
   "outputs": [
    {
     "data": {
      "text/plain": [
       "0.20382318307613334"
      ]
     },
     "execution_count": 43,
     "metadata": {
      "tags": []
     },
     "output_type": "execute_result"
    }
   ],
   "source": [
    "r2_score(y_te,np.exp(full_information_lr_pred))"
   ]
  },
  {
   "cell_type": "code",
   "execution_count": 44,
   "metadata": {
    "colab": {
     "base_uri": "https://localhost:8080/",
     "height": 35
    },
    "colab_type": "code",
    "id": "sHCTKQZhk1hq",
    "outputId": "0d892076-fec9-4d67-a418-df75f0fbf6c2"
   },
   "outputs": [
    {
     "data": {
      "text/plain": [
       "8.221763449209202"
      ]
     },
     "execution_count": 44,
     "metadata": {
      "tags": []
     },
     "output_type": "execute_result"
    }
   ],
   "source": [
    "mean_absolute_error(y_te,np.exp(full_information_lr_pred))"
   ]
  },
  {
   "cell_type": "markdown",
   "metadata": {},
   "source": [
    "Comparing the results of the Record Store and Full Information scenarios, we see no improvement in the performance of the model on the held out test set, as the scores maintain the same values in each case."
   ]
  },
  {
   "cell_type": "markdown",
   "metadata": {},
   "source": []
  },
  {
   "cell_type": "markdown",
   "metadata": {
    "colab_type": "text",
    "id": "Qr2uI56yk1hu"
   },
   "source": [
    "## Ridge Regression\n",
    "The next algorithm we will consider in our attempt to predict the ``market_value`` of Jazz albums is the Ridge Regression. It is an offshoot algorithm of Linear Regression, differentiating itself by making use of L2 Regularization as a means of avoiding overfitting. Ridge Regression is often used as an alternative to Linear Regression, and is generally associated with stronger performances.\n",
    "\n",
    "## Ridge Regression - Record Store\n",
    "As Ridge Regression operates under the same constraints as Linear Regression, we can make use of the previously defined ``record_store_regression_processing`` pipeline in creating our Ridge Regression training and evaluation pipeline. In this case, we simply replace the Linear Regression in our GridSearchCV step with Ridge Regression, but now also search over the space of the ``alpha`` hyperparameter, which controls the regularization strength of the Ridge Regression algorithm."
   ]
  },
  {
   "cell_type": "code",
   "execution_count": null,
   "metadata": {
    "colab": {},
    "colab_type": "code",
    "id": "BP1pxaQ18arp"
   },
   "outputs": [],
   "source": [
    "record_store_ridge_pipe = Pipeline([\n",
    "    ('processing', record_store_regression_processing)\n",
    "    ('ridge', GridSearchCV(\n",
    "        Ridge(normalize=False,solver='eig'),\n",
    "        param_grid={\n",
    "            'alpha': np.linspace(1e-20,1e-1,10),\n",
    "        },\n",
    "        cv=KFold(n_splits=5,shuffle=True),\n",
    "        scoring='neg_mean_absolute_error',\n",
    "        verbose=5,\n",
    "        n_jobs=-1,\n",
    "        return_train_score=True\n",
    "    ))\n",
    "])"
   ]
  },
  {
   "cell_type": "code",
   "execution_count": 156,
   "metadata": {
    "colab": {
     "base_uri": "https://localhost:8080/",
     "height": 503
    },
    "colab_type": "code",
    "id": "edNLg2KryH4q",
    "outputId": "32b4c606-6888-4f18-9e8d-3dbf516c3fb9"
   },
   "outputs": [
    {
     "name": "stdout",
     "output_type": "stream",
     "text": [
      "Fitting 5 folds for each of 10 candidates, totalling 50 fits\n"
     ]
    },
    {
     "name": "stderr",
     "output_type": "stream",
     "text": [
      "[Parallel(n_jobs=-1)]: Using backend LokyBackend with 4 concurrent workers.\n",
      "[Parallel(n_jobs=-1)]: Done  10 tasks      | elapsed:    6.7s\n",
      "[Parallel(n_jobs=-1)]: Done  50 out of  50 | elapsed:   22.7s finished\n",
      "/usr/local/lib/python3.6/site-packages/cuml/utils/input_utils.py:188: UserWarning: Expected column ('F') major order, but got the opposite. Converting data, this will result in additional memory utilization.\n",
      "  warnings.warn(\"Expected \" + order_to_str(order) + \" major order, \"\n"
     ]
    },
    {
     "data": {
      "text/plain": [
       "Pipeline(memory=None,\n",
       "         steps=[('running_time_imputer',\n",
       "                 RunningTimeImputer(number_of_tracks='number_of_tracks',\n",
       "                                    running_time='running_time')),\n",
       "                ('leave_one_out_encoding',\n",
       "                 LeaveOneOutEncoder(cols=['artist', 'label', 'format_text',\n",
       "                                          'format_name', 'master_id'],\n",
       "                                    drop_invariant=False,\n",
       "                                    handle_missing='value',\n",
       "                                    handle_unknown='value', random_state=None,\n",
       "                                    return_df=True, sigm...\n",
       "                              estimator=Ridge(alpha=1.0, solver='eig', fit_intercept=True, normalize=False, handle=<cuml.common.handle.Handle object at 0x7faa992d4950>, output_type='input'),\n",
       "                              iid='deprecated', n_jobs=-1,\n",
       "                              param_grid={'alpha': array([1.00000000e-20, 1.11111111e-02, 2.22222222e-02, 3.33333333e-02,\n",
       "       4.44444444e-02, 5.55555556e-02, 6.66666667e-02, 7.77777778e-02,\n",
       "       8.88888889e-02, 1.00000000e-01])},\n",
       "                              pre_dispatch='2*n_jobs', refit=True,\n",
       "                              return_train_score=True,\n",
       "                              scoring='neg_mean_absolute_error', verbose=5))],\n",
       "         verbose=False)"
      ]
     },
     "execution_count": 156,
     "metadata": {
      "tags": []
     },
     "output_type": "execute_result"
    }
   ],
   "source": [
    "record_store_ridge_pipe.fit(X_tr,np.log(y_tr).values)"
   ]
  },
  {
   "cell_type": "code",
   "execution_count": null,
   "metadata": {
    "colab": {},
    "colab_type": "code",
    "id": "z7tlJO3u-Tl4"
   },
   "outputs": [],
   "source": [
    "plotter = GridSearchPlotter(record_store_ridge_pipe['ridge'])"
   ]
  },
  {
   "cell_type": "code",
   "execution_count": 158,
   "metadata": {
    "colab": {
     "base_uri": "https://localhost:8080/",
     "height": 295
    },
    "colab_type": "code",
    "id": "jla1YIhr-TgT",
    "outputId": "4db510eb-ab0a-4ea1-d481-12dbc5735933"
   },
   "outputs": [
    {
     "data": {
      "image/png": "[encoded data removed]",
      "text/plain": [
       "<Figure size 432x288 with 1 Axes>"
      ]
     },
     "metadata": {
      "needs_background": "light",
      "tags": []
     },
     "output_type": "display_data"
    }
   ],
   "source": [
    "plotter.plot_validation_curve(parameter='alpha',ylim=(-0.75,-0.25))"
   ]
  },
  {
   "cell_type": "code",
   "execution_count": 159,
   "metadata": {
    "colab": {
     "base_uri": "https://localhost:8080/",
     "height": 35
    },
    "colab_type": "code",
    "id": "cxR9zl4f-hk9",
    "outputId": "11ff9c11-5837-4902-a855-769b634498b0"
   },
   "outputs": [
    {
     "data": {
      "text/plain": [
       "-0.5035058857221621"
      ]
     },
     "execution_count": 159,
     "metadata": {
      "tags": []
     },
     "output_type": "execute_result"
    }
   ],
   "source": [
    "record_store_ridge_pipe['ridge'].best_score_"
   ]
  },
  {
   "cell_type": "code",
   "execution_count": 160,
   "metadata": {
    "colab": {
     "base_uri": "https://localhost:8080/",
     "height": 35
    },
    "colab_type": "code",
    "id": "cbV-3Q9A0-hi",
    "outputId": "ed97ee43-4f1a-47f1-d8d4-4fd349b3dafa"
   },
   "outputs": [
    {
     "data": {
      "text/plain": [
       "{'alpha': 0.1}"
      ]
     },
     "execution_count": 160,
     "metadata": {
      "tags": []
     },
     "output_type": "execute_result"
    }
   ],
   "source": [
    "record_store_ridge_pipe['ridge'].best_params_"
   ]
  },
  {
   "cell_type": "code",
   "execution_count": 161,
   "metadata": {
    "colab": {
     "base_uri": "https://localhost:8080/",
     "height": 73
    },
    "colab_type": "code",
    "id": "db1qMG0e8ar7",
    "outputId": "d586f574-4777-480e-8bdd-9e0aa5434540"
   },
   "outputs": [
    {
     "name": "stderr",
     "output_type": "stream",
     "text": [
      "/usr/local/lib/python3.6/site-packages/cuml/utils/input_utils.py:188: UserWarning: Expected column ('F') major order, but got the opposite. Converting data, this will result in additional memory utilization.\n",
      "  warnings.warn(\"Expected \" + order_to_str(order) + \" major order, \"\n"
     ]
    }
   ],
   "source": [
    "record_store_ridge_pred = record_store_ridge_pipe.predict(X_te)"
   ]
  },
  {
   "cell_type": "code",
   "execution_count": 162,
   "metadata": {
    "colab": {
     "base_uri": "https://localhost:8080/",
     "height": 35
    },
    "colab_type": "code",
    "id": "GsQHxrUE8ar-",
    "outputId": "f985f391-9255-43d9-e30d-8ee5da197b5e"
   },
   "outputs": [
    {
     "data": {
      "text/plain": [
       "0.20449145454034268"
      ]
     },
     "execution_count": 162,
     "metadata": {
      "tags": []
     },
     "output_type": "execute_result"
    }
   ],
   "source": [
    "r2_score(y_te,np.exp(record_store_ridge_pred))"
   ]
  },
  {
   "cell_type": "code",
   "execution_count": 163,
   "metadata": {
    "colab": {
     "base_uri": "https://localhost:8080/",
     "height": 35
    },
    "colab_type": "code",
    "id": "9oKBWYEo8asD",
    "outputId": "8c62eb8b-d2c5-4392-8d10-a6de1b6d2e8a"
   },
   "outputs": [
    {
     "data": {
      "text/plain": [
       "8.218258459392512"
      ]
     },
     "execution_count": 163,
     "metadata": {
      "tags": []
     },
     "output_type": "execute_result"
    }
   ],
   "source": [
    "mean_absolute_error(y_te,np.exp(record_store_ridge_pred))"
   ]
  },
  {
   "cell_type": "markdown",
   "metadata": {
    "colab_type": "text",
    "id": "Cnmd7rIWk1iS"
   },
   "source": [
    "## Ridge - Full Information"
   ]
  },
  {
   "cell_type": "code",
   "execution_count": null,
   "metadata": {
    "colab": {},
    "colab_type": "code",
    "id": "Rlb1Z8CEk1iT"
   },
   "outputs": [],
   "source": [
    "full_information_ridge_pipe = Pipeline([\n",
    "    ('leave_one_out_encoding', LeaveOneOutEncoder(cols=['artist','label','format_text','format_name','master_id'])),\n",
    "    ('record_store_column_remover', ColumnRemover(full_information_regression_removal_columns)),\n",
    "    ('preprocessing',full_information_regression_transformer),\n",
    "    ('scaler', StandardScaler()),\n",
    "    ('normalization', MinMaxScaler()),\n",
    "    ('ridge', GridSearchCV(\n",
    "        Ridge(normalize=False,solver='eig'),\n",
    "        param_grid={\n",
    "            'alpha': np.logspace(-3,3,10),\n",
    "        },\n",
    "        cv=KFold(n_splits=5,shuffle=True),\n",
    "        scoring='neg_mean_absolute_error',\n",
    "        verbose=5,\n",
    "        n_jobs=-1,\n",
    "        return_train_score=True\n",
    "    ))\n",
    "])"
   ]
  },
  {
   "cell_type": "code",
   "execution_count": 55,
   "metadata": {
    "colab": {
     "base_uri": "https://localhost:8080/",
     "height": 503
    },
    "colab_type": "code",
    "id": "6CSH5O1jk1iX",
    "outputId": "f20b3625-06f2-4409-cc18-28eefce4f57a"
   },
   "outputs": [
    {
     "name": "stdout",
     "output_type": "stream",
     "text": [
      "Fitting 5 folds for each of 10 candidates, totalling 50 fits\n"
     ]
    },
    {
     "name": "stderr",
     "output_type": "stream",
     "text": [
      "[Parallel(n_jobs=-1)]: Using backend LokyBackend with 4 concurrent workers.\n",
      "[Parallel(n_jobs=-1)]: Done  10 tasks      | elapsed:    6.6s\n",
      "[Parallel(n_jobs=-1)]: Done  50 out of  50 | elapsed:   22.5s finished\n",
      "/usr/local/lib/python3.6/site-packages/cuml/utils/input_utils.py:188: UserWarning: Expected column ('F') major order, but got the opposite. Converting data, this will result in additional memory utilization.\n",
      "  warnings.warn(\"Expected \" + order_to_str(order) + \" major order, \"\n"
     ]
    },
    {
     "data": {
      "text/plain": [
       "Pipeline(memory=None,\n",
       "         steps=[('running_time_imputer',\n",
       "                 RunningTimeImputer(number_of_tracks='number_of_tracks',\n",
       "                                    running_time='running_time')),\n",
       "                ('leave_one_out_encoding',\n",
       "                 LeaveOneOutEncoder(cols=['artist', 'label', 'format_text',\n",
       "                                          'format_name', 'master_id'],\n",
       "                                    drop_invariant=False,\n",
       "                                    handle_missing='value',\n",
       "                                    handle_unknown='value', random_state=None,\n",
       "                                    return_df=True, sigm...\n",
       "                              estimator=Ridge(alpha=1.0, solver='eig', fit_intercept=True, normalize=False, handle=<cuml.common.handle.Handle object at 0x7faa93626fb0>, output_type='input'),\n",
       "                              iid='deprecated', n_jobs=-1,\n",
       "                              param_grid={'alpha': array([1.00000000e-03, 4.64158883e-03, 2.15443469e-02, 1.00000000e-01,\n",
       "       4.64158883e-01, 2.15443469e+00, 1.00000000e+01, 4.64158883e+01,\n",
       "       2.15443469e+02, 1.00000000e+03])},\n",
       "                              pre_dispatch='2*n_jobs', refit=True,\n",
       "                              return_train_score=True,\n",
       "                              scoring='neg_mean_absolute_error', verbose=5))],\n",
       "         verbose=False)"
      ]
     },
     "execution_count": 55,
     "metadata": {
      "tags": []
     },
     "output_type": "execute_result"
    }
   ],
   "source": [
    "full_information_ridge_pipe.fit(X_tr,np.log(y_tr).values)"
   ]
  },
  {
   "cell_type": "code",
   "execution_count": null,
   "metadata": {
    "colab": {},
    "colab_type": "code",
    "id": "yGvB5HQEk1ib"
   },
   "outputs": [],
   "source": [
    "plotter = GridSearchPlotter(full_information_ridge_pipe['ridge'])"
   ]
  },
  {
   "cell_type": "code",
   "execution_count": 57,
   "metadata": {
    "colab": {
     "base_uri": "https://localhost:8080/",
     "height": 295
    },
    "colab_type": "code",
    "id": "FALIex5Ak1ie",
    "outputId": "6450c900-50bc-4d26-e2c5-49ed2308b642"
   },
   "outputs": [
    {
     "data": {
      "image/png": "[encoded data removed]",
      "text/plain": [
       "<Figure size 432x288 with 1 Axes>"
      ]
     },
     "metadata": {
      "needs_background": "light",
      "tags": []
     },
     "output_type": "display_data"
    }
   ],
   "source": [
    "plotter.plot_validation_curve(parameter='alpha',ylim=(-0.75,-0.25))"
   ]
  },
  {
   "cell_type": "code",
   "execution_count": 58,
   "metadata": {
    "colab": {
     "base_uri": "https://localhost:8080/",
     "height": 35
    },
    "colab_type": "code",
    "id": "JFbucWgVk1ih",
    "outputId": "4d281ade-dcab-47ac-afcd-41aecbb4abaa"
   },
   "outputs": [
    {
     "data": {
      "text/plain": [
       "-0.4744432855195089"
      ]
     },
     "execution_count": 58,
     "metadata": {
      "tags": []
     },
     "output_type": "execute_result"
    }
   ],
   "source": [
    "full_information_ridge_pipe['ridge'].best_score_"
   ]
  },
  {
   "cell_type": "code",
   "execution_count": 59,
   "metadata": {
    "colab": {
     "base_uri": "https://localhost:8080/",
     "height": 35
    },
    "colab_type": "code",
    "id": "DmY50t1kk1iz",
    "outputId": "f2e917e6-06b5-4d51-d980-efa7b7609dec"
   },
   "outputs": [
    {
     "data": {
      "text/plain": [
       "{'alpha': 215.44346900318823}"
      ]
     },
     "execution_count": 59,
     "metadata": {
      "tags": []
     },
     "output_type": "execute_result"
    }
   ],
   "source": [
    "full_information_ridge_pipe['ridge'].best_params_"
   ]
  },
  {
   "cell_type": "code",
   "execution_count": 60,
   "metadata": {
    "colab": {
     "base_uri": "https://localhost:8080/",
     "height": 73
    },
    "colab_type": "code",
    "id": "IPsBz9Yhk1i1",
    "outputId": "d25cfb9a-919a-48cc-b31c-a96de36f3cb8"
   },
   "outputs": [
    {
     "name": "stderr",
     "output_type": "stream",
     "text": [
      "/usr/local/lib/python3.6/site-packages/cuml/utils/input_utils.py:188: UserWarning: Expected column ('F') major order, but got the opposite. Converting data, this will result in additional memory utilization.\n",
      "  warnings.warn(\"Expected \" + order_to_str(order) + \" major order, \"\n"
     ]
    }
   ],
   "source": [
    "full_information_ridge_pred = full_information_ridge_pipe.predict(X_te)"
   ]
  },
  {
   "cell_type": "code",
   "execution_count": 61,
   "metadata": {
    "colab": {
     "base_uri": "https://localhost:8080/",
     "height": 35
    },
    "colab_type": "code",
    "id": "KfoM7GS6k1i4",
    "outputId": "a26a2441-6296-4ef4-ebc4-37cad3b89058"
   },
   "outputs": [
    {
     "data": {
      "text/plain": [
       "-7.469775953696709"
      ]
     },
     "execution_count": 61,
     "metadata": {
      "tags": []
     },
     "output_type": "execute_result"
    }
   ],
   "source": [
    "r2_score(y_te,np.exp(full_information_ridge_pred))"
   ]
  },
  {
   "cell_type": "code",
   "execution_count": 62,
   "metadata": {
    "colab": {
     "base_uri": "https://localhost:8080/",
     "height": 35
    },
    "colab_type": "code",
    "id": "uNXNcesPk1i6",
    "outputId": "cd2cc8fd-62cd-4206-9a4f-ee0b1f5be20f"
   },
   "outputs": [
    {
     "data": {
      "text/plain": [
       "8.13795304967769"
      ]
     },
     "execution_count": 62,
     "metadata": {
      "tags": []
     },
     "output_type": "execute_result"
    }
   ],
   "source": [
    "mean_absolute_error(y_te,np.exp(full_information_ridge_pred))"
   ]
  },
  {
   "cell_type": "markdown",
   "metadata": {
    "colab_type": "text",
    "id": "fbreYK1X8asG"
   },
   "source": [
    "## Random Forest - Record Store"
   ]
  },
  {
   "cell_type": "code",
   "execution_count": null,
   "metadata": {
    "colab": {},
    "colab_type": "code",
    "id": "McTksN6VGPnv"
   },
   "outputs": [],
   "source": [
    "record_store_random_forest_removal_columns = [\n",
    "    'market_price','units_for_sale','have','want','average_rating','rating_count','last_sold','lowest','median',\n",
    "    'highest','track_titles','country','genre','style','community_have','community_want','formats','thumb_url',\n",
    "    'release_url','format_description','days_since_last_sale','title','release_id'\n",
    "]\n",
    "record_store_random_forest_removal_columns.extend(\n",
    "    column_store._indicator\n",
    ")\n",
    "record_store_random_forest_removal_columns = set(record_store_random_forest_removal_columns)"
   ]
  },
  {
   "cell_type": "code",
   "execution_count": null,
   "metadata": {
    "colab": {},
    "colab_type": "code",
    "id": "BPf-IJfD8asO"
   },
   "outputs": [],
   "source": [
    "record_store_random_forest_preprocessing_pipe = Pipeline([\n",
    "    ('leave_one_out_encoding', LeaveOneOutEncoder(cols=['artist','label','format_text','format_name','master_id','year','country'])),\n",
    "    ('reduce_indicators', IndicatorReducer(indicators=column_store._indicator,algorithm=PCA,components=40)),\n",
    "    ('record_store_column_remover', ColumnRemover(record_store_random_forest_removal_columns)),\n",
    "    ('robust_scaler', RobustScaler()),\n",
    "    ('normalization', MinMaxScaler()),\n",
    "    ('cast_to_32', FunctionTransformer(func=lambda x: x.astype(np.float32)))\n",
    "])\n",
    "\n",
    "random_forest = RandomForestRegressor()\n",
    "\n",
    "record_store_random_forest_search_pipe = Pipeline([\n",
    "    ('preprocessing',record_store_random_forest_preprocessing_pipe),\n",
    "    ('grid_search', GridSearchCV(\n",
    "        random_forest,\n",
    "        cv=KFold(n_splits=5,shuffle=True),\n",
    "        param_grid={\n",
    "            'n_estimators': np.linspace(10,200,5).astype(int)\n",
    "        },\n",
    "        verbose=50,\n",
    "        scoring='neg_mean_absolute_error',\n",
    "        n_jobs=-1,\n",
    "        return_train_score=True\n",
    "    ))\n",
    "])\n",
    "\n",
    "record_store_random_forest_pipe = Pipeline([\n",
    "    ('preprocessing',record_store_random_forest_preprocessing_pipe),\n",
    "    ('random_forest',random_forest)\n",
    "])"
   ]
  },
  {
   "cell_type": "code",
   "execution_count": 169,
   "metadata": {
    "colab": {
     "base_uri": "https://localhost:8080/",
     "height": 969
    },
    "colab_type": "code",
    "id": "l97EbEPB8asR",
    "outputId": "bca9716c-dcb3-4fe8-b636-289258264e5e"
   },
   "outputs": [
    {
     "name": "stdout",
     "output_type": "stream",
     "text": [
      "Fitting 5 folds for each of 5 candidates, totalling 25 fits\n",
      "[Parallel(n_jobs=-1)]: Using backend LokyBackend with 4 concurrent workers.\n",
      "[Parallel(n_jobs=-1)]: Done   1 tasks      | elapsed:    2.8s\n",
      "[Parallel(n_jobs=-1)]: Done   2 tasks      | elapsed:    2.8s\n",
      "[Parallel(n_jobs=-1)]: Done   3 tasks      | elapsed:    2.9s\n",
      "[Parallel(n_jobs=-1)]: Done   4 tasks      | elapsed:    2.9s\n",
      "[Parallel(n_jobs=-1)]: Done   5 tasks      | elapsed:    5.7s\n",
      "[Parallel(n_jobs=-1)]: Done   6 tasks      | elapsed:   16.1s\n",
      "[Parallel(n_jobs=-1)]: Done   7 tasks      | elapsed:   16.1s\n",
      "[Parallel(n_jobs=-1)]: Done   8 tasks      | elapsed:   16.2s\n",
      "[Parallel(n_jobs=-1)]: Done   9 tasks      | elapsed:   17.0s\n",
      "[Parallel(n_jobs=-1)]: Done  10 tasks      | elapsed:   28.7s\n",
      "[Parallel(n_jobs=-1)]: Done  11 tasks      | elapsed:   40.0s\n",
      "[Parallel(n_jobs=-1)]: Done  12 tasks      | elapsed:   40.0s\n",
      "[Parallel(n_jobs=-1)]: Done  13 tasks      | elapsed:   40.3s\n",
      "[Parallel(n_jobs=-1)]: Done  14 tasks      | elapsed:   45.6s\n",
      "[Parallel(n_jobs=-1)]: Done  15 tasks      | elapsed:  1.1min\n",
      "[Parallel(n_jobs=-1)]: Done  16 tasks      | elapsed:  1.2min\n"
     ]
    },
    {
     "name": "stderr",
     "output_type": "stream",
     "text": [
      "/usr/local/lib/python3.6/dist-packages/joblib/externals/loky/process_executor.py:706: UserWarning: A worker stopped while some jobs were given to the executor. This can be caused by a too short worker timeout or by a memory leak.\n",
      "  \"timeout or by a memory leak.\", UserWarning\n"
     ]
    },
    {
     "name": "stdout",
     "output_type": "stream",
     "text": [
      "[Parallel(n_jobs=-1)]: Done  17 tasks      | elapsed:  1.2min\n",
      "[Parallel(n_jobs=-1)]: Done  18 tasks      | elapsed:  1.3min\n",
      "[Parallel(n_jobs=-1)]: Done  19 out of  25 | elapsed:  1.4min remaining:   25.8s\n",
      "[Parallel(n_jobs=-1)]: Done  20 out of  25 | elapsed:  1.8min remaining:   27.4s\n",
      "[Parallel(n_jobs=-1)]: Done  21 out of  25 | elapsed:  2.0min remaining:   22.9s\n",
      "[Parallel(n_jobs=-1)]: Done  22 out of  25 | elapsed:  2.1min remaining:   17.1s\n",
      "[Parallel(n_jobs=-1)]: Done  23 out of  25 | elapsed:  2.2min remaining:   11.3s\n",
      "[Parallel(n_jobs=-1)]: Done  25 out of  25 | elapsed:  2.4min remaining:    0.0s\n",
      "[Parallel(n_jobs=-1)]: Done  25 out of  25 | elapsed:  2.4min finished\n"
     ]
    },
    {
     "name": "stderr",
     "output_type": "stream",
     "text": [
      "/usr/local/lib/python3.6/site-packages/cuml/utils/input_utils.py:188: UserWarning: Expected column ('F') major order, but got the opposite. Converting data, this will result in additional memory utilization.\n",
      "  warnings.warn(\"Expected \" + order_to_str(order) + \" major order, \"\n"
     ]
    },
    {
     "data": {
      "text/plain": [
       "Pipeline(memory=None,\n",
       "         steps=[('preprocessing',\n",
       "                 Pipeline(memory=None,\n",
       "                          steps=[('running_time_imputer',\n",
       "                                  RunningTimeImputer(number_of_tracks='number_of_tracks',\n",
       "                                                     running_time='running_time')),\n",
       "                                 ('leave_one_out_encoding',\n",
       "                                  LeaveOneOutEncoder(cols=['artist', 'label',\n",
       "                                                           'format_text',\n",
       "                                                           'format_name',\n",
       "                                                           'master_id', 'year',\n",
       "                                                           'country'],\n",
       "                                                     drop_invariant=False,\n",
       "                                                     handle_missing='value...\n",
       "                              estimator=RandomForestRegressor(n_estimators=100, max_depth=16, handle=<cuml.common.handle.Handle object at 0x7faa9d30a6f0>, max_features='auto', n_bins=8, n_streams=8, split_algo=1, split_criterion=2, bootstrap=True, bootstrap_features=False, verbose=False, min_rows_per_node=2, rows_sample=1.0, max_leaves=-1, accuracy_metric='mse', output_type='input', min_impurity_decrease=0.0, quantile_per_tree=False, seed=None),\n",
       "                              iid='deprecated', n_jobs=-1,\n",
       "                              param_grid={'n_estimators': array([ 10,  57, 105, 152, 200])},\n",
       "                              pre_dispatch='2*n_jobs', refit=True,\n",
       "                              return_train_score=True,\n",
       "                              scoring='neg_mean_absolute_error', verbose=50))],\n",
       "         verbose=False)"
      ]
     },
     "execution_count": 169,
     "metadata": {
      "tags": []
     },
     "output_type": "execute_result"
    }
   ],
   "source": [
    "record_store_random_forest_search_pipe.fit(X_tr_sample,np.log(y_tr_sample).values.astype(np.float32))"
   ]
  },
  {
   "cell_type": "code",
   "execution_count": 170,
   "metadata": {
    "colab": {
     "base_uri": "https://localhost:8080/",
     "height": 296
    },
    "colab_type": "code",
    "id": "2awntfVd_nAJ",
    "outputId": "3bcc5d49-8494-41b0-d373-22781b7a211d"
   },
   "outputs": [
    {
     "data": {
      "image/png": "[encoded data removed]",
      "text/plain": [
       "<Figure size 432x288 with 1 Axes>"
      ]
     },
     "metadata": {
      "needs_background": "light",
      "tags": []
     },
     "output_type": "display_data"
    }
   ],
   "source": [
    "record_store_random_forest_plotter = GridSearchPlotter(record_store_random_forest_search_pipe.steps[-1][1])\n",
    "record_store_random_forest_plotter.plot_validation_curve(parameter='n_estimators',ylim=(-1,0))"
   ]
  },
  {
   "cell_type": "code",
   "execution_count": 171,
   "metadata": {
    "colab": {
     "base_uri": "https://localhost:8080/",
     "height": 35
    },
    "colab_type": "code",
    "id": "kIzLmO8Bzkdr",
    "outputId": "33bb077f-fa57-4dfe-d5fb-1dcedff27f1b"
   },
   "outputs": [
    {
     "data": {
      "text/plain": [
       "-0.1692010998725891"
      ]
     },
     "execution_count": 171,
     "metadata": {
      "tags": []
     },
     "output_type": "execute_result"
    }
   ],
   "source": [
    "record_store_random_forest_search_pipe.steps[-1][1].best_score_"
   ]
  },
  {
   "cell_type": "code",
   "execution_count": 172,
   "metadata": {
    "colab": {
     "base_uri": "https://localhost:8080/",
     "height": 35
    },
    "colab_type": "code",
    "id": "1Jh6GfwRzk2n",
    "outputId": "fb2401fd-6a21-4c09-dba7-cb0734826912"
   },
   "outputs": [
    {
     "data": {
      "text/plain": [
       "{'n_estimators': 152}"
      ]
     },
     "execution_count": 172,
     "metadata": {
      "tags": []
     },
     "output_type": "execute_result"
    }
   ],
   "source": [
    "record_store_random_forest_search_pipe.steps[-1][1].best_params_"
   ]
  },
  {
   "cell_type": "code",
   "execution_count": 173,
   "metadata": {
    "colab": {
     "base_uri": "https://localhost:8080/",
     "height": 360
    },
    "colab_type": "code",
    "id": "7HMokfJnMYzZ",
    "outputId": "fbf2f7dc-32eb-4cbe-9dd6-7762fb8cf8ba"
   },
   "outputs": [
    {
     "name": "stderr",
     "output_type": "stream",
     "text": [
      "/usr/local/lib/python3.6/site-packages/cuml/utils/input_utils.py:188: UserWarning: Expected column ('F') major order, but got the opposite. Converting data, this will result in additional memory utilization.\n",
      "  warnings.warn(\"Expected \" + order_to_str(order) + \" major order, \"\n"
     ]
    },
    {
     "data": {
      "text/plain": [
       "Pipeline(memory=None,\n",
       "         steps=[('preprocessing',\n",
       "                 Pipeline(memory=None,\n",
       "                          steps=[('running_time_imputer',\n",
       "                                  RunningTimeImputer(number_of_tracks='number_of_tracks',\n",
       "                                                     running_time='running_time')),\n",
       "                                 ('leave_one_out_encoding',\n",
       "                                  LeaveOneOutEncoder(cols=['artist', 'label',\n",
       "                                                           'format_text',\n",
       "                                                           'format_name',\n",
       "                                                           'master_id', 'year',\n",
       "                                                           'country'],\n",
       "                                                     drop_invariant=False,\n",
       "                                                     handle_missing='value...\n",
       "                 RandomForestRegressor(n_estimators=100, max_depth=16, handle=<cuml.common.handle.Handle object at 0x7faa9d30a6f0>, max_features='auto', n_bins=8, n_streams=8, split_algo=1, split_criterion=2, bootstrap=True, bootstrap_features=False, verbose=False, min_rows_per_node=2, rows_sample=1.0, max_leaves=-1, accuracy_metric='mse', output_type='numpy', min_impurity_decrease=0.0, quantile_per_tree=False, seed=None))],\n",
       "         verbose=False)"
      ]
     },
     "execution_count": 173,
     "metadata": {
      "tags": []
     },
     "output_type": "execute_result"
    }
   ],
   "source": [
    "record_store_random_forest_pipe.fit(X_tr,np.log(y_tr).values.astype(np.float32))"
   ]
  },
  {
   "cell_type": "code",
   "execution_count": 174,
   "metadata": {
    "colab": {
     "base_uri": "https://localhost:8080/",
     "height": 73
    },
    "colab_type": "code",
    "id": "VrdorFhMMe2P",
    "outputId": "69d4c8d8-524f-4cef-9f0d-117281ee14e0"
   },
   "outputs": [
    {
     "name": "stderr",
     "output_type": "stream",
     "text": [
      "/usr/local/lib/python3.6/site-packages/cuml/utils/input_utils.py:188: UserWarning: Expected row ('C') major order, but got the opposite. Converting data, this will result in additional memory utilization.\n",
      "  warnings.warn(\"Expected \" + order_to_str(order) + \" major order, \"\n"
     ]
    }
   ],
   "source": [
    "record_store_random_forest_te_pred = record_store_random_forest_pipe.predict(X_te)"
   ]
  },
  {
   "cell_type": "code",
   "execution_count": 177,
   "metadata": {
    "colab": {
     "base_uri": "https://localhost:8080/",
     "height": 35
    },
    "colab_type": "code",
    "id": "y1Ko_cUBMoEy",
    "outputId": "9b3a26bd-9dee-48aa-a4de-e98c3ae4879a"
   },
   "outputs": [
    {
     "data": {
      "text/plain": [
       "-0.10311887111913931"
      ]
     },
     "execution_count": 177,
     "metadata": {
      "tags": []
     },
     "output_type": "execute_result"
    }
   ],
   "source": [
    "r2_score(y_te,np.exp(record_store_random_forest_te_pred))"
   ]
  },
  {
   "cell_type": "code",
   "execution_count": 178,
   "metadata": {
    "colab": {
     "base_uri": "https://localhost:8080/",
     "height": 35
    },
    "colab_type": "code",
    "id": "R3cCwv8t0E4R",
    "outputId": "0d7546df-2a87-4f34-aa62-7e52e9addef9"
   },
   "outputs": [
    {
     "data": {
      "text/plain": [
       "10.448137215461019"
      ]
     },
     "execution_count": 178,
     "metadata": {
      "tags": []
     },
     "output_type": "execute_result"
    }
   ],
   "source": [
    "mean_absolute_error(y_te,np.exp(record_store_random_forest_te_pred))"
   ]
  },
  {
   "cell_type": "markdown",
   "metadata": {
    "colab_type": "text",
    "id": "gJZdJtJbk1jW"
   },
   "source": [
    "## Random Forest - Full Information"
   ]
  },
  {
   "cell_type": "code",
   "execution_count": null,
   "metadata": {
    "colab": {},
    "colab_type": "code",
    "id": "yQGDq3REk1jW"
   },
   "outputs": [],
   "source": [
    "full_information_random_forest_removal_columns = record_store_random_forest_removal_columns - full_information_columns"
   ]
  },
  {
   "cell_type": "code",
   "execution_count": 28,
   "metadata": {
    "colab": {
     "base_uri": "https://localhost:8080/",
     "height": 260
    },
    "colab_type": "code",
    "id": "zuNSCmnTk1jd",
    "outputId": "701f68df-5572-4afd-a2e4-e55d1712b897"
   },
   "outputs": [
    {
     "ename": "NameError",
     "evalue": "ignored",
     "output_type": "error",
     "traceback": [
      "\u001b[0;31m---------------------------------------------------------------------------\u001b[0m",
      "\u001b[0;31mNameError\u001b[0m                                 Traceback (most recent call last)",
      "\u001b[0;32m<ipython-input-28-a92f3fbe081d>\u001b[0m in \u001b[0;36m<module>\u001b[0;34m()\u001b[0m\n\u001b[1;32m      3\u001b[0m     \u001b[0;34m(\u001b[0m\u001b[0;34m'leave_one_out_encoding'\u001b[0m\u001b[0;34m,\u001b[0m \u001b[0mLeaveOneOutEncoder\u001b[0m\u001b[0;34m(\u001b[0m\u001b[0mcols\u001b[0m\u001b[0;34m=\u001b[0m\u001b[0;34m[\u001b[0m\u001b[0;34m'artist'\u001b[0m\u001b[0;34m,\u001b[0m\u001b[0;34m'label'\u001b[0m\u001b[0;34m,\u001b[0m\u001b[0;34m'format_text'\u001b[0m\u001b[0;34m,\u001b[0m\u001b[0;34m'format_name'\u001b[0m\u001b[0;34m,\u001b[0m\u001b[0;34m'master_id'\u001b[0m\u001b[0;34m,\u001b[0m\u001b[0;34m'year'\u001b[0m\u001b[0;34m,\u001b[0m\u001b[0;34m'country'\u001b[0m\u001b[0;34m]\u001b[0m\u001b[0;34m)\u001b[0m\u001b[0;34m)\u001b[0m\u001b[0;34m,\u001b[0m\u001b[0;34m\u001b[0m\u001b[0;34m\u001b[0m\u001b[0m\n\u001b[1;32m      4\u001b[0m     \u001b[0;31m#('reduce_indicators', IndicatorReducer(indicators=column_store._indicator,algorithm=PCA,components=40)),\u001b[0m\u001b[0;34m\u001b[0m\u001b[0;34m\u001b[0m\u001b[0;34m\u001b[0m\u001b[0m\n\u001b[0;32m----> 5\u001b[0;31m     \u001b[0;34m(\u001b[0m\u001b[0;34m'record_store_column_remover'\u001b[0m\u001b[0;34m,\u001b[0m \u001b[0mColumnRemover\u001b[0m\u001b[0;34m(\u001b[0m\u001b[0mfull_information_random_forest_removal_columns\u001b[0m\u001b[0;34m)\u001b[0m\u001b[0;34m)\u001b[0m\u001b[0;34m,\u001b[0m\u001b[0;34m\u001b[0m\u001b[0;34m\u001b[0m\u001b[0m\n\u001b[0m\u001b[1;32m      6\u001b[0m     \u001b[0;34m(\u001b[0m\u001b[0;34m'cast_to_32'\u001b[0m\u001b[0;34m,\u001b[0m \u001b[0mFunctionTransformer\u001b[0m\u001b[0;34m(\u001b[0m\u001b[0mfunc\u001b[0m\u001b[0;34m=\u001b[0m\u001b[0;32mlambda\u001b[0m \u001b[0mx\u001b[0m\u001b[0;34m:\u001b[0m \u001b[0mx\u001b[0m\u001b[0;34m.\u001b[0m\u001b[0mastype\u001b[0m\u001b[0;34m(\u001b[0m\u001b[0mnp\u001b[0m\u001b[0;34m.\u001b[0m\u001b[0mfloat32\u001b[0m\u001b[0;34m)\u001b[0m\u001b[0;34m.\u001b[0m\u001b[0mvalues\u001b[0m\u001b[0;34m)\u001b[0m\u001b[0;34m)\u001b[0m\u001b[0;34m\u001b[0m\u001b[0;34m\u001b[0m\u001b[0m\n\u001b[1;32m      7\u001b[0m ])\n",
      "\u001b[0;31mNameError\u001b[0m: name 'full_information_random_forest_removal_columns' is not defined"
     ]
    }
   ],
   "source": [
    "full_information_random_forest_preprocessing_pipe = Pipeline([\n",
    "    ('leave_one_out_encoding', LeaveOneOutEncoder(cols=['artist','label','format_text','format_name','master_id','year','country'])),\n",
    "    #('reduce_indicators', IndicatorReducer(indicators=column_store._indicator,algorithm=PCA,components=40)),\n",
    "    ('record_store_column_remover', ColumnRemover(full_information_random_forest_removal_columns)),\n",
    "    ('cast_to_32', FunctionTransformer(func=lambda x: x.astype(np.float32).values))\n",
    "])\n",
    "\n",
    "full_information_random_forest_search_pipe = Pipeline([\n",
    "    ('preprocessing',full_information_random_forest_preprocessing_pipe),\n",
    "    ('grid_search', GridSearchCV(\n",
    "        random_forest,\n",
    "        cv=KFold(n_splits=5,shuffle=True),\n",
    "        param_grid={\n",
    "            'n_estimators': np.linspace(10,200,5).astype(int)\n",
    "        },\n",
    "        verbose=50,\n",
    "        scoring='neg_mean_absolute_error',\n",
    "        n_jobs=-1,\n",
    "        return_train_score=True\n",
    "    ))\n",
    "])\n",
    "\n",
    "full_information_random_forest_pipe = Pipeline([\n",
    "    ('preprocessing',full_information_random_forest_preprocessing_pipe),\n",
    "    ('random_forest',random_forest)\n",
    "])"
   ]
  },
  {
   "cell_type": "code",
   "execution_count": 29,
   "metadata": {
    "colab": {
     "base_uri": "https://localhost:8080/",
     "height": 169
    },
    "colab_type": "code",
    "id": "lOo-_NUFk1jg",
    "outputId": "25c99590-f2f5-413d-86e4-3b9de4f403f8"
   },
   "outputs": [
    {
     "ename": "NameError",
     "evalue": "ignored",
     "output_type": "error",
     "traceback": [
      "\u001b[0;31m---------------------------------------------------------------------------\u001b[0m",
      "\u001b[0;31mNameError\u001b[0m                                 Traceback (most recent call last)",
      "\u001b[0;32m<ipython-input-29-7c835a6e3481>\u001b[0m in \u001b[0;36m<module>\u001b[0;34m()\u001b[0m\n\u001b[0;32m----> 1\u001b[0;31m \u001b[0mfull_information_random_forest_search_pipe\u001b[0m\u001b[0;34m.\u001b[0m\u001b[0mfit\u001b[0m\u001b[0;34m(\u001b[0m\u001b[0mX_tr_sample\u001b[0m\u001b[0;34m,\u001b[0m\u001b[0mnp\u001b[0m\u001b[0;34m.\u001b[0m\u001b[0mlog\u001b[0m\u001b[0;34m(\u001b[0m\u001b[0my_tr_sample\u001b[0m\u001b[0;34m)\u001b[0m\u001b[0;34m.\u001b[0m\u001b[0mvalues\u001b[0m\u001b[0;34m.\u001b[0m\u001b[0mastype\u001b[0m\u001b[0;34m(\u001b[0m\u001b[0mnp\u001b[0m\u001b[0;34m.\u001b[0m\u001b[0mfloat32\u001b[0m\u001b[0;34m)\u001b[0m\u001b[0;34m)\u001b[0m\u001b[0;34m\u001b[0m\u001b[0;34m\u001b[0m\u001b[0m\n\u001b[0m",
      "\u001b[0;31mNameError\u001b[0m: name 'full_information_random_forest_search_pipe' is not defined"
     ]
    }
   ],
   "source": [
    "full_information_random_forest_search_pipe.fit(X_tr_sample,np.log(y_tr_sample).values.astype(np.float32))"
   ]
  },
  {
   "cell_type": "code",
   "execution_count": 76,
   "metadata": {
    "colab": {
     "base_uri": "https://localhost:8080/",
     "height": 296
    },
    "colab_type": "code",
    "id": "rCux94qKk1ji",
    "outputId": "fdc0660c-4d01-4cc7-a5e7-4656d864ef86"
   },
   "outputs": [
    {
     "data": {
      "image/png": "[encoded data removed]",
      "text/plain": [
       "<Figure size 432x288 with 1 Axes>"
      ]
     },
     "metadata": {
      "needs_background": "light",
      "tags": []
     },
     "output_type": "display_data"
    }
   ],
   "source": [
    "full_information_random_forest_plotter = GridSearchPlotter(full_information_random_forest_search_pipe.steps[-1][1])\n",
    "full_information_random_forest_plotter.plot_validation_curve(parameter='n_estimators',ylim=(-1,0))"
   ]
  },
  {
   "cell_type": "code",
   "execution_count": 77,
   "metadata": {
    "colab": {
     "base_uri": "https://localhost:8080/",
     "height": 35
    },
    "colab_type": "code",
    "id": "jaoOYSogk1jk",
    "outputId": "a48d9499-2a7c-4640-d4ed-67c5f71a4b01"
   },
   "outputs": [
    {
     "data": {
      "text/plain": [
       "-0.16753565669059753"
      ]
     },
     "execution_count": 77,
     "metadata": {
      "tags": []
     },
     "output_type": "execute_result"
    }
   ],
   "source": [
    "full_information_random_forest_search_pipe.steps[-1][1].best_score_"
   ]
  },
  {
   "cell_type": "code",
   "execution_count": 78,
   "metadata": {
    "colab": {
     "base_uri": "https://localhost:8080/",
     "height": 35
    },
    "colab_type": "code",
    "id": "SLNosErgk1jn",
    "outputId": "30c551a6-4018-4d3a-baa9-609669c8cacf"
   },
   "outputs": [
    {
     "data": {
      "text/plain": [
       "{'n_estimators': 152}"
      ]
     },
     "execution_count": 78,
     "metadata": {
      "tags": []
     },
     "output_type": "execute_result"
    }
   ],
   "source": [
    "full_information_random_forest_search_pipe.steps[-1][1].best_params_"
   ]
  },
  {
   "cell_type": "code",
   "execution_count": 79,
   "metadata": {
    "colab": {
     "base_uri": "https://localhost:8080/",
     "height": 377
    },
    "colab_type": "code",
    "id": "VvtlG6n3k1jq",
    "outputId": "2508d357-59c5-47ca-938f-bd02f3d433b5"
   },
   "outputs": [
    {
     "name": "stderr",
     "output_type": "stream",
     "text": [
      "/usr/local/lib/python3.6/site-packages/cuml/utils/input_utils.py:188: UserWarning: Expected column ('F') major order, but got the opposite. Converting data, this will result in additional memory utilization.\n",
      "  warnings.warn(\"Expected \" + order_to_str(order) + \" major order, \"\n"
     ]
    },
    {
     "data": {
      "text/plain": [
       "Pipeline(memory=None,\n",
       "         steps=[('preprocessing',\n",
       "                 Pipeline(memory=None,\n",
       "                          steps=[('running_time_imputer',\n",
       "                                  RunningTimeImputer(number_of_tracks='number_of_tracks',\n",
       "                                                     running_time='running_time')),\n",
       "                                 ('leave_one_out_encoding',\n",
       "                                  LeaveOneOutEncoder(cols=['artist', 'label',\n",
       "                                                           'format_text',\n",
       "                                                           'format_name',\n",
       "                                                           'master_id',\n",
       "                                                           'year'],\n",
       "                                                     drop_invariant=False,\n",
       "                                                     handle_missing='value',\n",
       "                                                     handle_u...\n",
       "                 RandomForestRegressor(n_estimators=100, max_depth=16, handle=<cuml.common.handle.Handle object at 0x7faaa3a45330>, max_features='auto', n_bins=8, n_streams=8, split_algo=1, split_criterion=2, bootstrap=True, bootstrap_features=False, verbose=False, min_rows_per_node=2, rows_sample=1.0, max_leaves=-1, accuracy_metric='mse', output_type='numpy', min_impurity_decrease=0.0, quantile_per_tree=False, seed=None))],\n",
       "         verbose=False)"
      ]
     },
     "execution_count": 79,
     "metadata": {
      "tags": []
     },
     "output_type": "execute_result"
    }
   ],
   "source": [
    "full_information_random_forest_pipe.fit(X_tr,np.log(y_tr).values.astype(np.float32))"
   ]
  },
  {
   "cell_type": "code",
   "execution_count": 80,
   "metadata": {
    "colab": {
     "base_uri": "https://localhost:8080/",
     "height": 73
    },
    "colab_type": "code",
    "id": "k7iHVjV-k1jt",
    "outputId": "abd89e1c-ee92-4138-8f31-eecd852dedce"
   },
   "outputs": [
    {
     "name": "stderr",
     "output_type": "stream",
     "text": [
      "/usr/local/lib/python3.6/site-packages/cuml/utils/input_utils.py:188: UserWarning: Expected row ('C') major order, but got the opposite. Converting data, this will result in additional memory utilization.\n",
      "  warnings.warn(\"Expected \" + order_to_str(order) + \" major order, \"\n"
     ]
    }
   ],
   "source": [
    "full_information_random_forest_te_pred = full_information_random_forest_pipe.predict(X_te)"
   ]
  },
  {
   "cell_type": "code",
   "execution_count": 81,
   "metadata": {
    "colab": {
     "base_uri": "https://localhost:8080/",
     "height": 35
    },
    "colab_type": "code",
    "id": "UBdw5WWqk1jv",
    "outputId": "662ad12e-ef3c-478e-ae62-80c17dd7047c"
   },
   "outputs": [
    {
     "data": {
      "text/plain": [
       "-0.10182890895470176"
      ]
     },
     "execution_count": 81,
     "metadata": {
      "tags": []
     },
     "output_type": "execute_result"
    }
   ],
   "source": [
    "r2_score(y_te,np.exp(full_information_random_forest_te_pred))"
   ]
  },
  {
   "cell_type": "code",
   "execution_count": 82,
   "metadata": {
    "colab": {
     "base_uri": "https://localhost:8080/",
     "height": 35
    },
    "colab_type": "code",
    "id": "ZQQ8J--Yk1jy",
    "outputId": "e0faeb99-53ee-487f-d05a-ab7ee2d8e2c9"
   },
   "outputs": [
    {
     "data": {
      "text/plain": [
       "10.437374548180669"
      ]
     },
     "execution_count": 82,
     "metadata": {
      "tags": []
     },
     "output_type": "execute_result"
    }
   ],
   "source": [
    "mean_absolute_error(y_te,np.exp(full_information_random_forest_te_pred))"
   ]
  },
  {
   "cell_type": "markdown",
   "metadata": {
    "colab_type": "text",
    "id": "33qqCRuAm1NZ"
   },
   "source": [
    "## XGBoost - Record Store"
   ]
  },
  {
   "cell_type": "code",
   "execution_count": null,
   "metadata": {
    "colab": {},
    "colab_type": "code",
    "id": "L1abEKL7m3dK"
   },
   "outputs": [],
   "source": [
    "xgboost = xgb.XGBRegressor(\n",
    "    max_depth=3,\n",
    "    learning_rate=0.1,\n",
    "    n_estimators=100,\n",
    "    verbosity=5,\n",
    "    objective='reg:linear',\n",
    "    booster='gbtree',\n",
    "    gamma=0,\n",
    "    random_state=0,\n",
    "    tree_method='gpu_hist',\n",
    ")\n",
    "record_store_xgb_grid_pipe = Pipeline([\n",
    "    ('processing', record_store_regression_processing),\n",
    "    ('lr', GridSearchCV(\n",
    "        xgb.XGBRegressor(),\n",
    "        param_grid={\n",
    "            'max_depth': np.linspace(3,20,5).astype(int)\n",
    "        },\n",
    "        cv=KFold(n_splits=5,shuffle=True),\n",
    "        scoring='neg_mean_absolute_error',\n",
    "        verbose=5,\n",
    "        n_jobs=-1,\n",
    "        return_train_score=True\n",
    "    ))\n",
    "])"
   ]
  },
  {
   "cell_type": "code",
   "execution_count": 50,
   "metadata": {
    "colab": {
     "base_uri": "https://localhost:8080/",
     "height": 628
    },
    "colab_type": "code",
    "id": "XVPEtriMm3YF",
    "outputId": "ed4b44e1-e65c-4d44-d809-412f9da5028d"
   },
   "outputs": [
    {
     "name": "stdout",
     "output_type": "stream",
     "text": [
      "Fitting 5 folds for each of 5 candidates, totalling 25 fits\n"
     ]
    },
    {
     "name": "stderr",
     "output_type": "stream",
     "text": [
      "[Parallel(n_jobs=-1)]: Using backend LokyBackend with 4 concurrent workers.\n",
      "[Parallel(n_jobs=-1)]: Done  10 tasks      | elapsed:  2.6min\n",
      "[Parallel(n_jobs=-1)]: Done  25 out of  25 | elapsed:  9.6min finished\n"
     ]
    },
    {
     "name": "stdout",
     "output_type": "stream",
     "text": [
      "[09:07:01] WARNING: /workspace/src/objective/regression_obj.cu:152: reg:linear is now deprecated in favor of reg:squarederror.\n"
     ]
    },
    {
     "data": {
      "text/plain": [
       "Pipeline(memory=None,\n",
       "         steps=[('processing',\n",
       "                 Pipeline(memory=None,\n",
       "                          steps=[('running_time_imputer',\n",
       "                                  RunningTimeImputer(number_of_tracks='number_of_tracks',\n",
       "                                                     running_time='running_time')),\n",
       "                                 ('leave_one_out_encoding',\n",
       "                                  LeaveOneOutEncoder(cols=['artist', 'label',\n",
       "                                                           'format_text',\n",
       "                                                           'master_id',\n",
       "                                                           'format_name'],\n",
       "                                                     drop_invariant=False,\n",
       "                                                     handle_missing='value',\n",
       "                                                     handle_unknown='va...\n",
       "                                                     n_estimators=100, n_jobs=1,\n",
       "                                                     nthread=None,\n",
       "                                                     objective='reg:linear',\n",
       "                                                     random_state=0,\n",
       "                                                     reg_alpha=0, reg_lambda=1,\n",
       "                                                     scale_pos_weight=1,\n",
       "                                                     seed=None, silent=None,\n",
       "                                                     subsample=1, verbosity=1),\n",
       "                              iid='deprecated', n_jobs=-1,\n",
       "                              param_grid={'max_depth': array([ 3,  7, 11, 15, 20])},\n",
       "                              pre_dispatch='2*n_jobs', refit=True,\n",
       "                              return_train_score=True,\n",
       "                              scoring='neg_mean_absolute_error', verbose=5))],\n",
       "         verbose=False)"
      ]
     },
     "execution_count": 50,
     "metadata": {
      "tags": []
     },
     "output_type": "execute_result"
    }
   ],
   "source": [
    "record_store_xgb_grid_pipe.fit(X_tr_sample,np.log(y_tr_sample))"
   ]
  },
  {
   "cell_type": "code",
   "execution_count": 51,
   "metadata": {
    "colab": {
     "base_uri": "https://localhost:8080/",
     "height": 296
    },
    "colab_type": "code",
    "id": "xuTzqhlysGoM",
    "outputId": "9f5df99a-84d3-4389-8053-667249cad354"
   },
   "outputs": [
    {
     "data": {
      "image/png": "[encoded data removed]",
      "text/plain": [
       "<Figure size 432x288 with 1 Axes>"
      ]
     },
     "metadata": {
      "needs_background": "light",
      "tags": []
     },
     "output_type": "display_data"
    }
   ],
   "source": [
    "record_store_xgb_plot = GridSearchPlotter(record_store_xgb_grid_pipe.steps[-1][1])\n",
    "record_store_xgb_plot.plot_validation_curve(parameter='max_depth',ylim=(-2,1))"
   ]
  },
  {
   "cell_type": "code",
   "execution_count": 52,
   "metadata": {
    "colab": {
     "base_uri": "https://localhost:8080/",
     "height": 35
    },
    "colab_type": "code",
    "id": "E5R54Ch0sGuw",
    "outputId": "92677090-824a-4243-e949-adfa8bcd1a60"
   },
   "outputs": [
    {
     "data": {
      "text/plain": [
       "-0.011496590106207173"
      ]
     },
     "execution_count": 52,
     "metadata": {
      "tags": []
     },
     "output_type": "execute_result"
    }
   ],
   "source": [
    "record_store_xgb_grid_pipe.steps[-1][1].best_score_"
   ]
  },
  {
   "cell_type": "code",
   "execution_count": 53,
   "metadata": {
    "colab": {
     "base_uri": "https://localhost:8080/",
     "height": 35
    },
    "colab_type": "code",
    "id": "5yKltq__sGz6",
    "outputId": "27e3cee6-90bc-4599-aff5-91cdb276cabd"
   },
   "outputs": [
    {
     "data": {
      "text/plain": [
       "{'max_depth': 7}"
      ]
     },
     "execution_count": 53,
     "metadata": {
      "tags": []
     },
     "output_type": "execute_result"
    }
   ],
   "source": [
    "record_store_xgb_grid_pipe.steps[-1][1].best_params_"
   ]
  },
  {
   "cell_type": "code",
   "execution_count": null,
   "metadata": {
    "colab": {},
    "colab_type": "code",
    "id": "zCH8O7_0sG5I"
   },
   "outputs": [],
   "source": [
    "record_store_xgb_te_pred = record_store_xgb_pipe.predict(X_te)"
   ]
  },
  {
   "cell_type": "code",
   "execution_count": 55,
   "metadata": {
    "colab": {
     "base_uri": "https://localhost:8080/",
     "height": 35
    },
    "colab_type": "code",
    "id": "kzLwin4csG9S",
    "outputId": "bfe670fe-bdd4-46e4-a076-072c079955a5"
   },
   "outputs": [
    {
     "data": {
      "text/plain": [
       "-0.07203988754811963"
      ]
     },
     "execution_count": 55,
     "metadata": {
      "tags": []
     },
     "output_type": "execute_result"
    }
   ],
   "source": [
    "r2_score(y_te,np.exp(record_store_xgb_te_pred))"
   ]
  },
  {
   "cell_type": "code",
   "execution_count": 56,
   "metadata": {
    "colab": {
     "base_uri": "https://localhost:8080/",
     "height": 35
    },
    "colab_type": "code",
    "id": "QySG1knnrNAx",
    "outputId": "bd135747-bcf9-403e-c174-88eee71b1846"
   },
   "outputs": [
    {
     "data": {
      "text/plain": [
       "10.193350589602566"
      ]
     },
     "execution_count": 56,
     "metadata": {
      "tags": []
     },
     "output_type": "execute_result"
    }
   ],
   "source": [
    "mean_absolute_error(y_te,np.exp(record_store_xgb_te_pred))"
   ]
  },
  {
   "cell_type": "markdown",
   "metadata": {
    "colab_type": "text",
    "id": "wcM8J6K68asg"
   },
   "source": [
    "## Catboost - Record Store"
   ]
  },
  {
   "cell_type": "code",
   "execution_count": null,
   "metadata": {
    "colab": {},
    "colab_type": "code",
    "id": "OjIxG4pI8asl"
   },
   "outputs": [],
   "source": [
    "record_store_catboost_removal_columns = set([\n",
    "    'market_price','units_for_sale','have','want','average_rating','rating_count','last_sold','lowest','median',\n",
    "    'highest','track_titles','genre','style','community_have','community_want','formats','thumb_url',\n",
    "    'release_url','format_description','days_since_last_sale','title','release_id'\n",
    "])\n",
    "record_store_catboost_removal_columns = record_store_catboost_removal_columns.union(column_store._geography_country)"
   ]
  },
  {
   "cell_type": "code",
   "execution_count": null,
   "metadata": {
    "colab": {},
    "colab_type": "code",
    "id": "VCaEIJW18asr"
   },
   "outputs": [],
   "source": [
    "record_store_catboost_processing_pipe = Pipeline([\n",
    "    ('record_store_column_remover', ColumnRemover(record_store_catboost_removal_columns)),\n",
    "])\n",
    "\n",
    "catboost = CatBoostRegressor(\n",
    "    random_seed=0,\n",
    "    cat_features=['year','format_text','master_id','format_name','artist','label','country'],\n",
    "    boosting_type='Ordered',\n",
    "    n_estimators=100,\n",
    "    learning_rate=0.1,\n",
    "    l2_leaf_reg=3,\n",
    "    border_count=170,\n",
    "    max_depth=10,\n",
    ")\n",
    "\n",
    "record_store_catboost_grid_pipe = Pipeline([\n",
    "    ('processing', record_store_catboost_processing_pipe),\n",
    "    ('grid_search', GridSearchCV(\n",
    "        catboost,\n",
    "        param_grid={\n",
    "            #'learning_rate': np.logspace(-3,1,5),\n",
    "            #'border_count': np.linspace(1,200,5),\n",
    "            'l2_leaf_reg': [1,3,5,8],\n",
    "        },\n",
    "        n_jobs=-1,\n",
    "        cv=KFold(n_splits=5,shuffle=True),\n",
    "        verbose=1,\n",
    "        scoring='neg_mean_absolute_error',\n",
    "        return_train_score=True)\n",
    "    )\n",
    "])\n",
    "\n",
    "record_store_catboost_pipe = Pipeline([\n",
    "    ('processing', record_store_catboost_processing_pipe),\n",
    "    ('catboost',catboost)\n",
    "])"
   ]
  },
  {
   "cell_type": "code",
   "execution_count": 85,
   "metadata": {
    "colab": {
     "base_uri": "https://localhost:8080/",
     "height": 1000
    },
    "colab_type": "code",
    "id": "MQW9Ojz08asu",
    "outputId": "34432f74-8b05-4a8d-df7e-c2798b0f7d61"
   },
   "outputs": [
    {
     "name": "stdout",
     "output_type": "stream",
     "text": [
      "Fitting 5 folds for each of 4 candidates, totalling 20 fits\n"
     ]
    },
    {
     "name": "stderr",
     "output_type": "stream",
     "text": [
      "[Parallel(n_jobs=-1)]: Using backend LokyBackend with 4 concurrent workers.\n",
      "/usr/local/lib/python3.6/dist-packages/joblib/externals/loky/process_executor.py:706: UserWarning: A worker stopped while some jobs were given to the executor. This can be caused by a too short worker timeout or by a memory leak.\n",
      "  \"timeout or by a memory leak.\", UserWarning\n",
      "[Parallel(n_jobs=-1)]: Done  20 out of  20 | elapsed:  4.2min finished\n"
     ]
    },
    {
     "name": "stdout",
     "output_type": "stream",
     "text": [
      "0:\tlearn: 0.8435499\ttotal: 294ms\tremaining: 29.2s\n",
      "1:\tlearn: 0.8257147\ttotal: 493ms\tremaining: 24.2s\n",
      "2:\tlearn: 0.8096158\ttotal: 696ms\tremaining: 22.5s\n",
      "3:\tlearn: 0.7954620\ttotal: 892ms\tremaining: 21.4s\n",
      "4:\tlearn: 0.7841133\ttotal: 950ms\tremaining: 18s\n",
      "5:\tlearn: 0.7732846\ttotal: 1.15s\tremaining: 18s\n",
      "6:\tlearn: 0.7630579\ttotal: 1.35s\tremaining: 18s\n",
      "7:\tlearn: 0.7557761\ttotal: 1.55s\tremaining: 17.9s\n",
      "8:\tlearn: 0.7476804\ttotal: 1.75s\tremaining: 17.7s\n",
      "9:\tlearn: 0.7396376\ttotal: 1.95s\tremaining: 17.5s\n",
      "10:\tlearn: 0.7324130\ttotal: 2.15s\tremaining: 17.4s\n",
      "11:\tlearn: 0.7275638\ttotal: 2.17s\tremaining: 15.9s\n",
      "12:\tlearn: 0.7229593\ttotal: 2.26s\tremaining: 15.1s\n",
      "13:\tlearn: 0.7193264\ttotal: 2.46s\tremaining: 15.1s\n",
      "14:\tlearn: 0.7158377\ttotal: 2.66s\tremaining: 15.1s\n",
      "15:\tlearn: 0.7121851\ttotal: 2.85s\tremaining: 15s\n",
      "16:\tlearn: 0.7092309\ttotal: 3.05s\tremaining: 14.9s\n",
      "17:\tlearn: 0.7061470\ttotal: 3.24s\tremaining: 14.8s\n",
      "18:\tlearn: 0.7041067\ttotal: 3.34s\tremaining: 14.2s\n",
      "19:\tlearn: 0.7023871\ttotal: 3.39s\tremaining: 13.6s\n",
      "20:\tlearn: 0.7005642\ttotal: 3.5s\tremaining: 13.2s\n",
      "21:\tlearn: 0.6985664\ttotal: 3.51s\tremaining: 12.4s\n",
      "22:\tlearn: 0.6961056\ttotal: 3.71s\tremaining: 12.4s\n",
      "23:\tlearn: 0.6948140\ttotal: 3.76s\tremaining: 11.9s\n",
      "24:\tlearn: 0.6928834\ttotal: 3.96s\tremaining: 11.9s\n",
      "25:\tlearn: 0.6906378\ttotal: 4.15s\tremaining: 11.8s\n",
      "26:\tlearn: 0.6877405\ttotal: 4.35s\tremaining: 11.8s\n",
      "27:\tlearn: 0.6860944\ttotal: 4.41s\tremaining: 11.3s\n",
      "28:\tlearn: 0.6852175\ttotal: 4.44s\tremaining: 10.9s\n",
      "29:\tlearn: 0.6839386\ttotal: 4.47s\tremaining: 10.4s\n",
      "30:\tlearn: 0.6833951\ttotal: 4.48s\tremaining: 9.98s\n",
      "31:\tlearn: 0.6812052\ttotal: 4.68s\tremaining: 9.95s\n",
      "32:\tlearn: 0.6798213\ttotal: 4.88s\tremaining: 9.9s\n",
      "33:\tlearn: 0.6789982\ttotal: 5.08s\tremaining: 9.85s\n",
      "34:\tlearn: 0.6774470\ttotal: 5.27s\tremaining: 9.79s\n",
      "35:\tlearn: 0.6768731\ttotal: 5.29s\tremaining: 9.41s\n",
      "36:\tlearn: 0.6760447\ttotal: 5.49s\tremaining: 9.35s\n",
      "37:\tlearn: 0.6748950\ttotal: 5.69s\tremaining: 9.29s\n",
      "38:\tlearn: 0.6739909\ttotal: 5.89s\tremaining: 9.21s\n",
      "39:\tlearn: 0.6732314\ttotal: 5.92s\tremaining: 8.89s\n",
      "40:\tlearn: 0.6728888\ttotal: 5.94s\tremaining: 8.55s\n",
      "41:\tlearn: 0.6720650\ttotal: 6.14s\tremaining: 8.47s\n",
      "42:\tlearn: 0.6715390\ttotal: 6.33s\tremaining: 8.39s\n",
      "43:\tlearn: 0.6708020\ttotal: 6.53s\tremaining: 8.31s\n",
      "44:\tlearn: 0.6703769\ttotal: 6.73s\tremaining: 8.22s\n",
      "45:\tlearn: 0.6696874\ttotal: 6.92s\tremaining: 8.13s\n",
      "46:\tlearn: 0.6688610\ttotal: 7.12s\tremaining: 8.03s\n",
      "47:\tlearn: 0.6688010\ttotal: 7.13s\tremaining: 7.72s\n",
      "48:\tlearn: 0.6686410\ttotal: 7.14s\tremaining: 7.43s\n",
      "49:\tlearn: 0.6681873\ttotal: 7.19s\tremaining: 7.19s\n",
      "50:\tlearn: 0.6671603\ttotal: 7.39s\tremaining: 7.1s\n",
      "51:\tlearn: 0.6667799\ttotal: 7.41s\tremaining: 6.84s\n",
      "52:\tlearn: 0.6666039\ttotal: 7.44s\tremaining: 6.6s\n",
      "53:\tlearn: 0.6657111\ttotal: 7.54s\tremaining: 6.42s\n",
      "54:\tlearn: 0.6654600\ttotal: 7.57s\tremaining: 6.2s\n",
      "55:\tlearn: 0.6653150\ttotal: 7.58s\tremaining: 5.96s\n",
      "56:\tlearn: 0.6644523\ttotal: 7.79s\tremaining: 5.87s\n",
      "57:\tlearn: 0.6638410\ttotal: 7.98s\tremaining: 5.78s\n",
      "58:\tlearn: 0.6636873\ttotal: 8.09s\tremaining: 5.62s\n",
      "59:\tlearn: 0.6635714\ttotal: 8.09s\tremaining: 5.4s\n",
      "60:\tlearn: 0.6628716\ttotal: 8.29s\tremaining: 5.3s\n",
      "61:\tlearn: 0.6626387\ttotal: 8.31s\tremaining: 5.09s\n",
      "62:\tlearn: 0.6626150\ttotal: 8.31s\tremaining: 4.88s\n",
      "63:\tlearn: 0.6625027\ttotal: 8.33s\tremaining: 4.68s\n",
      "64:\tlearn: 0.6621631\ttotal: 8.52s\tremaining: 4.59s\n",
      "65:\tlearn: 0.6619863\ttotal: 8.72s\tremaining: 4.49s\n",
      "66:\tlearn: 0.6607795\ttotal: 8.93s\tremaining: 4.4s\n",
      "67:\tlearn: 0.6605650\ttotal: 9.02s\tremaining: 4.25s\n",
      "68:\tlearn: 0.6605241\ttotal: 9.04s\tremaining: 4.06s\n",
      "69:\tlearn: 0.6604822\ttotal: 9.09s\tremaining: 3.9s\n",
      "70:\tlearn: 0.6604293\ttotal: 9.1s\tremaining: 3.72s\n",
      "71:\tlearn: 0.6604288\ttotal: 9.1s\tremaining: 3.54s\n",
      "72:\tlearn: 0.6600840\ttotal: 9.3s\tremaining: 3.44s\n",
      "73:\tlearn: 0.6596294\ttotal: 9.5s\tremaining: 3.34s\n",
      "74:\tlearn: 0.6595345\ttotal: 9.52s\tremaining: 3.17s\n",
      "75:\tlearn: 0.6595345\ttotal: 9.53s\tremaining: 3.01s\n",
      "76:\tlearn: 0.6594730\ttotal: 9.58s\tremaining: 2.86s\n",
      "77:\tlearn: 0.6591852\ttotal: 9.78s\tremaining: 2.76s\n",
      "78:\tlearn: 0.6591038\ttotal: 9.79s\tremaining: 2.6s\n",
      "79:\tlearn: 0.6591038\ttotal: 9.8s\tremaining: 2.45s\n",
      "80:\tlearn: 0.6591019\ttotal: 9.8s\tremaining: 2.3s\n",
      "81:\tlearn: 0.6590474\ttotal: 9.82s\tremaining: 2.15s\n",
      "82:\tlearn: 0.6590036\ttotal: 9.83s\tremaining: 2.01s\n",
      "83:\tlearn: 0.6587319\ttotal: 9.93s\tremaining: 1.89s\n",
      "84:\tlearn: 0.6587319\ttotal: 9.93s\tremaining: 1.75s\n",
      "85:\tlearn: 0.6584379\ttotal: 10.1s\tremaining: 1.65s\n",
      "86:\tlearn: 0.6581096\ttotal: 10.2s\tremaining: 1.52s\n",
      "87:\tlearn: 0.6579979\ttotal: 10.2s\tremaining: 1.39s\n",
      "88:\tlearn: 0.6576537\ttotal: 10.4s\tremaining: 1.28s\n",
      "89:\tlearn: 0.6576529\ttotal: 10.4s\tremaining: 1.15s\n",
      "90:\tlearn: 0.6574903\ttotal: 10.6s\tremaining: 1.05s\n",
      "91:\tlearn: 0.6571560\ttotal: 10.6s\tremaining: 922ms\n",
      "92:\tlearn: 0.6570891\ttotal: 10.6s\tremaining: 800ms\n",
      "93:\tlearn: 0.6568046\ttotal: 10.8s\tremaining: 692ms\n",
      "94:\tlearn: 0.6564876\ttotal: 11s\tremaining: 581ms\n",
      "95:\tlearn: 0.6564876\ttotal: 11s\tremaining: 460ms\n",
      "96:\tlearn: 0.6564222\ttotal: 11.2s\tremaining: 348ms\n",
      "97:\tlearn: 0.6563490\ttotal: 11.4s\tremaining: 233ms\n",
      "98:\tlearn: 0.6562248\ttotal: 11.5s\tremaining: 116ms\n",
      "99:\tlearn: 0.6560220\ttotal: 11.5s\tremaining: 0us\n"
     ]
    },
    {
     "data": {
      "text/plain": [
       "Pipeline(memory=None,\n",
       "         steps=[('processing',\n",
       "                 Pipeline(memory=None,\n",
       "                          steps=[('running_time_imputer',\n",
       "                                  RunningTimeImputer(number_of_tracks='number_of_tracks',\n",
       "                                                     running_time='running_time')),\n",
       "                                 ('record_store_column_remover',\n",
       "                                  ColumnRemover(cols_to_remove={'average_rating',\n",
       "                                                                'community_have',\n",
       "                                                                'community_want',\n",
       "                                                                'country_albania',\n",
       "                                                                'country_algeria',\n",
       "                                                                'country_andorra',\n",
       "                                                                'coun...\n",
       "                          verbose=False)),\n",
       "                ('grid_search',\n",
       "                 GridSearchCV(cv=KFold(n_splits=5, random_state=None, shuffle=True),\n",
       "                              error_score=nan,\n",
       "                              estimator=<catboost.core.CatBoostRegressor object at 0x7faa953fffd0>,\n",
       "                              iid='deprecated', n_jobs=-1,\n",
       "                              param_grid={'l2_leaf_reg': [1, 3, 5, 8]},\n",
       "                              pre_dispatch='2*n_jobs', refit=True,\n",
       "                              return_train_score=True,\n",
       "                              scoring='neg_mean_absolute_error', verbose=1))],\n",
       "         verbose=False)"
      ]
     },
     "execution_count": 85,
     "metadata": {
      "tags": []
     },
     "output_type": "execute_result"
    }
   ],
   "source": [
    "record_store_catboost_grid_pipe.fit(X_tr_sample,np.log(y_tr_sample))"
   ]
  },
  {
   "cell_type": "code",
   "execution_count": 86,
   "metadata": {
    "colab": {
     "base_uri": "https://localhost:8080/",
     "height": 296
    },
    "colab_type": "code",
    "id": "9MWNatKvNkWQ",
    "outputId": "493590f9-bd03-4a1c-ff22-3ac40e98af15"
   },
   "outputs": [
    {
     "data": {
      "image/png": "[encoded data removed]",
      "text/plain": [
       "<Figure size 432x288 with 1 Axes>"
      ]
     },
     "metadata": {
      "needs_background": "light",
      "tags": []
     },
     "output_type": "display_data"
    }
   ],
   "source": [
    "record_store_catboost_plot = GridSearchPlotter(record_store_catboost_grid_pipe.steps[-1][1])\n",
    "record_store_catboost_plot.plot_validation_curve(parameter='l2_leaf_reg',ylim=(-2,1))"
   ]
  },
  {
   "cell_type": "code",
   "execution_count": 87,
   "metadata": {
    "colab": {
     "base_uri": "https://localhost:8080/",
     "height": 35
    },
    "colab_type": "code",
    "id": "D82wspKV8XCK",
    "outputId": "a2a93dd3-b0c2-43d9-9996-ad42e9c57181"
   },
   "outputs": [
    {
     "data": {
      "text/plain": [
       "-0.5113422342300346"
      ]
     },
     "execution_count": 87,
     "metadata": {
      "tags": []
     },
     "output_type": "execute_result"
    }
   ],
   "source": [
    "record_store_catboost_grid_pipe.steps[-1][1].best_score_"
   ]
  },
  {
   "cell_type": "code",
   "execution_count": 88,
   "metadata": {
    "colab": {
     "base_uri": "https://localhost:8080/",
     "height": 35
    },
    "colab_type": "code",
    "id": "iJHB_2xe8ZN_",
    "outputId": "23954d29-86a8-482a-f861-9b00eebb1142"
   },
   "outputs": [
    {
     "data": {
      "text/plain": [
       "{'l2_leaf_reg': 1}"
      ]
     },
     "execution_count": 88,
     "metadata": {
      "tags": []
     },
     "output_type": "execute_result"
    }
   ],
   "source": [
    "record_store_catboost_grid_pipe.steps[-1][1].best_params_"
   ]
  },
  {
   "cell_type": "code",
   "execution_count": 89,
   "metadata": {
    "colab": {
     "base_uri": "https://localhost:8080/",
     "height": 1000
    },
    "colab_type": "code",
    "id": "dU_pJkadk1kC",
    "outputId": "d811f5ee-2fa5-4f22-b3fb-563128ec7ca5"
   },
   "outputs": [
    {
     "name": "stdout",
     "output_type": "stream",
     "text": [
      "0:\tlearn: 0.8427669\ttotal: 591ms\tremaining: 58.5s\n",
      "1:\tlearn: 0.8210181\ttotal: 1.09s\tremaining: 53.7s\n",
      "2:\tlearn: 0.8030254\ttotal: 1.6s\tremaining: 51.6s\n",
      "3:\tlearn: 0.7877739\ttotal: 2.1s\tremaining: 50.4s\n",
      "4:\tlearn: 0.7719954\ttotal: 2.6s\tremaining: 49.3s\n",
      "5:\tlearn: 0.7585067\ttotal: 3.09s\tremaining: 48.4s\n",
      "6:\tlearn: 0.7465543\ttotal: 3.6s\tremaining: 47.8s\n",
      "7:\tlearn: 0.7364661\ttotal: 4.1s\tremaining: 47.2s\n",
      "8:\tlearn: 0.7276324\ttotal: 4.61s\tremaining: 46.6s\n",
      "9:\tlearn: 0.7204550\ttotal: 5.12s\tremaining: 46s\n",
      "10:\tlearn: 0.7136106\ttotal: 5.62s\tremaining: 45.5s\n",
      "11:\tlearn: 0.7083812\ttotal: 6.13s\tremaining: 45s\n",
      "12:\tlearn: 0.7036820\ttotal: 6.63s\tremaining: 44.4s\n",
      "13:\tlearn: 0.6993458\ttotal: 7.14s\tremaining: 43.9s\n",
      "14:\tlearn: 0.6928528\ttotal: 7.64s\tremaining: 43.3s\n",
      "15:\tlearn: 0.6871808\ttotal: 8.13s\tremaining: 42.7s\n",
      "16:\tlearn: 0.6823513\ttotal: 8.63s\tremaining: 42.2s\n",
      "17:\tlearn: 0.6782538\ttotal: 9.13s\tremaining: 41.6s\n",
      "18:\tlearn: 0.6747978\ttotal: 9.62s\tremaining: 41s\n",
      "19:\tlearn: 0.6721154\ttotal: 10.1s\tremaining: 40.5s\n",
      "20:\tlearn: 0.6695953\ttotal: 10.6s\tremaining: 40s\n",
      "21:\tlearn: 0.6675505\ttotal: 11.1s\tremaining: 39.4s\n",
      "22:\tlearn: 0.6658192\ttotal: 11.3s\tremaining: 37.9s\n",
      "23:\tlearn: 0.6638018\ttotal: 11.8s\tremaining: 37.4s\n",
      "24:\tlearn: 0.6623897\ttotal: 12.3s\tremaining: 36.9s\n",
      "25:\tlearn: 0.6610973\ttotal: 12.8s\tremaining: 36.4s\n",
      "26:\tlearn: 0.6600935\ttotal: 13.3s\tremaining: 36s\n",
      "27:\tlearn: 0.6589310\ttotal: 13.8s\tremaining: 35.5s\n",
      "28:\tlearn: 0.6579432\ttotal: 14.3s\tremaining: 35s\n",
      "29:\tlearn: 0.6569367\ttotal: 14.8s\tremaining: 34.5s\n",
      "30:\tlearn: 0.6558763\ttotal: 15.3s\tremaining: 34s\n",
      "31:\tlearn: 0.6546972\ttotal: 15.8s\tremaining: 33.5s\n",
      "32:\tlearn: 0.6538094\ttotal: 16.3s\tremaining: 33.1s\n",
      "33:\tlearn: 0.6530677\ttotal: 16.8s\tremaining: 32.6s\n",
      "34:\tlearn: 0.6522195\ttotal: 17.3s\tremaining: 32.1s\n",
      "35:\tlearn: 0.6517116\ttotal: 17.8s\tremaining: 31.6s\n",
      "36:\tlearn: 0.6510240\ttotal: 18.3s\tremaining: 31.1s\n",
      "37:\tlearn: 0.6506522\ttotal: 18.7s\tremaining: 30.6s\n",
      "38:\tlearn: 0.6499462\ttotal: 19.2s\tremaining: 30.1s\n",
      "39:\tlearn: 0.6490703\ttotal: 19.7s\tremaining: 29.6s\n",
      "40:\tlearn: 0.6487162\ttotal: 20.2s\tremaining: 29.1s\n",
      "41:\tlearn: 0.6482878\ttotal: 20.7s\tremaining: 28.6s\n",
      "42:\tlearn: 0.6480305\ttotal: 21.2s\tremaining: 28.1s\n",
      "43:\tlearn: 0.6476794\ttotal: 21.7s\tremaining: 27.6s\n",
      "44:\tlearn: 0.6474596\ttotal: 22.2s\tremaining: 27.1s\n",
      "45:\tlearn: 0.6472309\ttotal: 22.7s\tremaining: 26.6s\n",
      "46:\tlearn: 0.6470127\ttotal: 23.2s\tremaining: 26.1s\n",
      "47:\tlearn: 0.6464622\ttotal: 23.7s\tremaining: 25.6s\n",
      "48:\tlearn: 0.6463515\ttotal: 24.2s\tremaining: 25.1s\n",
      "49:\tlearn: 0.6459424\ttotal: 24.6s\tremaining: 24.6s\n",
      "50:\tlearn: 0.6455990\ttotal: 25.1s\tremaining: 24.2s\n",
      "51:\tlearn: 0.6454524\ttotal: 25.3s\tremaining: 23.3s\n",
      "52:\tlearn: 0.6454488\ttotal: 25.3s\tremaining: 22.4s\n",
      "53:\tlearn: 0.6453715\ttotal: 25.8s\tremaining: 22s\n",
      "54:\tlearn: 0.6452098\ttotal: 26.3s\tremaining: 21.5s\n",
      "55:\tlearn: 0.6451228\ttotal: 26.8s\tremaining: 21s\n",
      "56:\tlearn: 0.6447913\ttotal: 27.3s\tremaining: 20.6s\n",
      "57:\tlearn: 0.6447894\ttotal: 27.3s\tremaining: 19.8s\n",
      "58:\tlearn: 0.6447823\ttotal: 27.3s\tremaining: 19s\n",
      "59:\tlearn: 0.6447807\ttotal: 27.4s\tremaining: 18.3s\n",
      "60:\tlearn: 0.6447794\ttotal: 27.5s\tremaining: 17.6s\n",
      "61:\tlearn: 0.6447782\ttotal: 27.5s\tremaining: 16.9s\n",
      "62:\tlearn: 0.6447758\ttotal: 27.6s\tremaining: 16.2s\n",
      "63:\tlearn: 0.6443699\ttotal: 28.1s\tremaining: 15.8s\n",
      "64:\tlearn: 0.6443694\ttotal: 28.2s\tremaining: 15.2s\n",
      "65:\tlearn: 0.6443694\ttotal: 28.2s\tremaining: 14.5s\n",
      "66:\tlearn: 0.6442914\ttotal: 28.5s\tremaining: 14s\n",
      "67:\tlearn: 0.6438488\ttotal: 29s\tremaining: 13.6s\n",
      "68:\tlearn: 0.6436981\ttotal: 29.5s\tremaining: 13.2s\n",
      "69:\tlearn: 0.6436441\ttotal: 29.6s\tremaining: 12.7s\n",
      "70:\tlearn: 0.6436401\ttotal: 29.7s\tremaining: 12.1s\n",
      "71:\tlearn: 0.6436398\ttotal: 29.8s\tremaining: 11.6s\n",
      "72:\tlearn: 0.6436396\ttotal: 29.9s\tremaining: 11s\n",
      "73:\tlearn: 0.6436375\ttotal: 29.9s\tremaining: 10.5s\n",
      "74:\tlearn: 0.6436333\ttotal: 30s\tremaining: 10s\n",
      "75:\tlearn: 0.6436332\ttotal: 30.1s\tremaining: 9.49s\n",
      "76:\tlearn: 0.6432085\ttotal: 30.5s\tremaining: 9.12s\n",
      "77:\tlearn: 0.6430084\ttotal: 30.6s\tremaining: 8.64s\n",
      "78:\tlearn: 0.6430001\ttotal: 30.8s\tremaining: 8.19s\n",
      "79:\tlearn: 0.6429148\ttotal: 31.3s\tremaining: 7.82s\n",
      "80:\tlearn: 0.6429081\ttotal: 31.4s\tremaining: 7.36s\n",
      "81:\tlearn: 0.6429080\ttotal: 31.4s\tremaining: 6.9s\n",
      "82:\tlearn: 0.6429064\ttotal: 31.5s\tremaining: 6.46s\n",
      "83:\tlearn: 0.6429058\ttotal: 31.6s\tremaining: 6.02s\n",
      "84:\tlearn: 0.6429022\ttotal: 31.6s\tremaining: 5.58s\n",
      "85:\tlearn: 0.6429022\ttotal: 31.7s\tremaining: 5.16s\n",
      "86:\tlearn: 0.6428821\ttotal: 31.8s\tremaining: 4.75s\n",
      "87:\tlearn: 0.6428821\ttotal: 31.8s\tremaining: 4.34s\n",
      "88:\tlearn: 0.6428821\ttotal: 31.9s\tremaining: 3.94s\n",
      "89:\tlearn: 0.6424423\ttotal: 32.4s\tremaining: 3.6s\n",
      "90:\tlearn: 0.6424395\ttotal: 32.7s\tremaining: 3.23s\n",
      "91:\tlearn: 0.6423391\ttotal: 33.1s\tremaining: 2.88s\n",
      "92:\tlearn: 0.6420742\ttotal: 33.6s\tremaining: 2.53s\n",
      "93:\tlearn: 0.6420676\ttotal: 33.7s\tremaining: 2.15s\n",
      "94:\tlearn: 0.6420674\ttotal: 33.8s\tremaining: 1.78s\n",
      "95:\tlearn: 0.6420542\ttotal: 33.8s\tremaining: 1.41s\n",
      "96:\tlearn: 0.6420478\ttotal: 33.9s\tremaining: 1.05s\n",
      "97:\tlearn: 0.6419139\ttotal: 34.4s\tremaining: 701ms\n",
      "98:\tlearn: 0.6419074\ttotal: 34.4s\tremaining: 348ms\n",
      "99:\tlearn: 0.6419074\ttotal: 34.5s\tremaining: 0us\n"
     ]
    },
    {
     "data": {
      "text/plain": [
       "Pipeline(memory=None,\n",
       "         steps=[('processing',\n",
       "                 Pipeline(memory=None,\n",
       "                          steps=[('running_time_imputer',\n",
       "                                  RunningTimeImputer(number_of_tracks='number_of_tracks',\n",
       "                                                     running_time='running_time')),\n",
       "                                 ('record_store_column_remover',\n",
       "                                  ColumnRemover(cols_to_remove={'average_rating',\n",
       "                                                                'community_have',\n",
       "                                                                'community_want',\n",
       "                                                                'country_albania',\n",
       "                                                                'country_algeria',\n",
       "                                                                'country_andorra',\n",
       "                                                                'coun...\n",
       "                                                                'country_belize',\n",
       "                                                                'country_bermuda',\n",
       "                                                                'country_bolivia '\n",
       "                                                                '(plurinational '\n",
       "                                                                'state of)',\n",
       "                                                                'country_bosnia '\n",
       "                                                                'and '\n",
       "                                                                'herzegovina',\n",
       "                                                                'country_brazil',\n",
       "                                                                'country_bulgaria',\n",
       "                                                                'country_cabo '\n",
       "                                                                'verde',\n",
       "                                                                'country_cambodia',\n",
       "                                                                'country_cameroon',\n",
       "                                                                'country_canada',\n",
       "                                                                'country_chile', ...}))],\n",
       "                          verbose=False)),\n",
       "                ('catboost',\n",
       "                 <catboost.core.CatBoostRegressor object at 0x7faa953fffd0>)],\n",
       "         verbose=False)"
      ]
     },
     "execution_count": 89,
     "metadata": {
      "tags": []
     },
     "output_type": "execute_result"
    }
   ],
   "source": [
    "record_store_catboost_pipe.fit(X_tr,np.log(y_tr))"
   ]
  },
  {
   "cell_type": "code",
   "execution_count": null,
   "metadata": {
    "colab": {},
    "colab_type": "code",
    "id": "QtP6T-Ir8asx"
   },
   "outputs": [],
   "source": [
    "record_store_catboost_te_pred = record_store_catboost_pipe.predict(X_te)"
   ]
  },
  {
   "cell_type": "code",
   "execution_count": 91,
   "metadata": {
    "colab": {
     "base_uri": "https://localhost:8080/",
     "height": 35
    },
    "colab_type": "code",
    "id": "Ot0BfPu28as0",
    "outputId": "a86ad7f8-353a-43cf-8105-c036aeac5f63"
   },
   "outputs": [
    {
     "data": {
      "text/plain": [
       "0.27608996817980935"
      ]
     },
     "execution_count": 91,
     "metadata": {
      "tags": []
     },
     "output_type": "execute_result"
    }
   ],
   "source": [
    "r2_score(y_te,np.exp(record_store_catboost_te_pred))"
   ]
  },
  {
   "cell_type": "code",
   "execution_count": 92,
   "metadata": {
    "colab": {
     "base_uri": "https://localhost:8080/",
     "height": 35
    },
    "colab_type": "code",
    "id": "2BLq7nQR42RA",
    "outputId": "d8296e15-852e-4922-bdb3-2138a3e692fe"
   },
   "outputs": [
    {
     "data": {
      "text/plain": [
       "7.788725056722764"
      ]
     },
     "execution_count": 92,
     "metadata": {
      "tags": []
     },
     "output_type": "execute_result"
    }
   ],
   "source": [
    "mean_absolute_error(y_te,np.exp(record_store_catboost_te_pred))"
   ]
  },
  {
   "cell_type": "markdown",
   "metadata": {
    "colab_type": "text",
    "id": "1N-puXCSk1kP"
   },
   "source": [
    "## CatBoost - Full Information"
   ]
  },
  {
   "cell_type": "code",
   "execution_count": null,
   "metadata": {
    "colab": {},
    "colab_type": "code",
    "id": "tIZEJfS6k1kQ"
   },
   "outputs": [],
   "source": [
    "full_information_catboost_removal_columns = record_store_catboost_removal_columns - full_information_columns"
   ]
  },
  {
   "cell_type": "code",
   "execution_count": null,
   "metadata": {
    "colab": {},
    "colab_type": "code",
    "id": "uOt1Def_k1kS"
   },
   "outputs": [],
   "source": [
    "full_information_catboost_processing_pipe = Pipeline([\n",
    "    ('record_store_column_remover', ColumnRemover(full_information_catboost_removal_columns)),\n",
    "])\n",
    "\n",
    "full_information_catboost_grid_pipe = Pipeline([\n",
    "    ('processing', full_information_catboost_processing_pipe),\n",
    "    ('grid_search', GridSearchCV(\n",
    "        catboost,\n",
    "        param_grid={            \n",
    "            #'learning_rate': np.logspace(-3,1,5),\n",
    "            #'border_count': np.linspace(1,200,5),\n",
    "            'l2_leaf_reg': [1,3,5,8],\n",
    "        },\n",
    "        n_jobs=3,\n",
    "        cv=KFold(n_splits=5,shuffle=True),\n",
    "        scoring='neg_mean_absolute_error',\n",
    "        verbose=50,\n",
    "        return_train_score=True)\n",
    "    )\n",
    "])\n",
    "\n",
    "full_information_catboost_pipe = Pipeline([\n",
    "    ('processing', full_information_catboost_processing_pipe),\n",
    "    ('catboost',catboost)\n",
    "])"
   ]
  },
  {
   "cell_type": "code",
   "execution_count": 67,
   "metadata": {
    "colab": {
     "base_uri": "https://localhost:8080/",
     "height": 1000
    },
    "colab_type": "code",
    "id": "YveUFwIJk1kU",
    "outputId": "ab5def69-8dbe-4c6e-8c2e-f8498632fabb"
   },
   "outputs": [
    {
     "name": "stdout",
     "output_type": "stream",
     "text": [
      "Fitting 5 folds for each of 4 candidates, totalling 20 fits\n",
      "[Parallel(n_jobs=3)]: Using backend LokyBackend with 3 concurrent workers.\n",
      "[Parallel(n_jobs=3)]: Done   1 tasks      | elapsed:   46.4s\n",
      "[Parallel(n_jobs=3)]: Done   2 tasks      | elapsed:   47.2s\n",
      "[Parallel(n_jobs=3)]: Done   3 tasks      | elapsed:   51.5s\n",
      "[Parallel(n_jobs=3)]: Done   4 tasks      | elapsed:  1.6min\n"
     ]
    },
    {
     "name": "stderr",
     "output_type": "stream",
     "text": [
      "/usr/local/lib/python3.6/dist-packages/joblib/externals/loky/process_executor.py:706: UserWarning: A worker stopped while some jobs were given to the executor. This can be caused by a too short worker timeout or by a memory leak.\n",
      "  \"timeout or by a memory leak.\", UserWarning\n"
     ]
    },
    {
     "name": "stdout",
     "output_type": "stream",
     "text": [
      "[Parallel(n_jobs=3)]: Done   5 tasks      | elapsed:  1.6min\n",
      "[Parallel(n_jobs=3)]: Done   6 tasks      | elapsed:  1.7min\n",
      "[Parallel(n_jobs=3)]: Done   7 tasks      | elapsed:  2.5min\n",
      "[Parallel(n_jobs=3)]: Done   8 tasks      | elapsed:  2.5min\n",
      "[Parallel(n_jobs=3)]: Done   9 tasks      | elapsed:  2.6min\n",
      "[Parallel(n_jobs=3)]: Done  10 tasks      | elapsed:  3.4min\n",
      "[Parallel(n_jobs=3)]: Done  11 tasks      | elapsed:  3.4min\n",
      "[Parallel(n_jobs=3)]: Done  12 tasks      | elapsed:  3.4min\n",
      "[Parallel(n_jobs=3)]: Done  13 tasks      | elapsed:  4.2min\n",
      "[Parallel(n_jobs=3)]: Done  14 tasks      | elapsed:  4.4min\n",
      "[Parallel(n_jobs=3)]: Done  15 tasks      | elapsed:  4.4min\n",
      "[Parallel(n_jobs=3)]: Done  16 out of  20 | elapsed:  5.1min remaining:  1.3min\n",
      "[Parallel(n_jobs=3)]: Done  17 out of  20 | elapsed:  5.2min remaining:   54.5s\n",
      "[Parallel(n_jobs=3)]: Done  18 out of  20 | elapsed:  5.2min remaining:   34.3s\n",
      "[Parallel(n_jobs=3)]: Done  20 out of  20 | elapsed:  5.7min remaining:    0.0s\n",
      "[Parallel(n_jobs=3)]: Done  20 out of  20 | elapsed:  5.7min finished\n",
      "0:\tlearn: 0.8322870\ttotal: 382ms\tremaining: 37.8s\n",
      "1:\tlearn: 0.8056370\ttotal: 628ms\tremaining: 30.8s\n",
      "2:\tlearn: 0.7832624\ttotal: 874ms\tremaining: 28.3s\n",
      "3:\tlearn: 0.7630275\ttotal: 1.13s\tremaining: 27s\n",
      "4:\tlearn: 0.7467905\ttotal: 1.38s\tremaining: 26.1s\n",
      "5:\tlearn: 0.7318044\ttotal: 1.62s\tremaining: 25.4s\n",
      "6:\tlearn: 0.7191743\ttotal: 1.87s\tremaining: 24.8s\n",
      "7:\tlearn: 0.7081515\ttotal: 2.13s\tremaining: 24.4s\n",
      "8:\tlearn: 0.6989664\ttotal: 2.17s\tremaining: 21.9s\n",
      "9:\tlearn: 0.6909630\ttotal: 2.42s\tremaining: 21.7s\n",
      "10:\tlearn: 0.6833107\ttotal: 2.67s\tremaining: 21.6s\n",
      "11:\tlearn: 0.6774562\ttotal: 2.91s\tremaining: 21.4s\n",
      "12:\tlearn: 0.6707178\ttotal: 3.17s\tremaining: 21.2s\n",
      "13:\tlearn: 0.6657897\ttotal: 3.42s\tremaining: 21s\n",
      "14:\tlearn: 0.6604368\ttotal: 3.67s\tremaining: 20.8s\n",
      "15:\tlearn: 0.6564377\ttotal: 3.92s\tremaining: 20.6s\n",
      "16:\tlearn: 0.6519488\ttotal: 4.17s\tremaining: 20.3s\n",
      "17:\tlearn: 0.6471334\ttotal: 4.42s\tremaining: 20.2s\n",
      "18:\tlearn: 0.6436764\ttotal: 4.67s\tremaining: 19.9s\n",
      "19:\tlearn: 0.6404085\ttotal: 4.92s\tremaining: 19.7s\n",
      "20:\tlearn: 0.6375429\ttotal: 5.18s\tremaining: 19.5s\n",
      "21:\tlearn: 0.6343624\ttotal: 5.43s\tremaining: 19.3s\n",
      "22:\tlearn: 0.6317164\ttotal: 5.69s\tremaining: 19s\n",
      "23:\tlearn: 0.6296449\ttotal: 5.93s\tremaining: 18.8s\n",
      "24:\tlearn: 0.6276228\ttotal: 6.18s\tremaining: 18.5s\n",
      "25:\tlearn: 0.6256109\ttotal: 6.43s\tremaining: 18.3s\n",
      "26:\tlearn: 0.6244055\ttotal: 6.67s\tremaining: 18s\n",
      "27:\tlearn: 0.6226788\ttotal: 6.92s\tremaining: 17.8s\n",
      "28:\tlearn: 0.6215606\ttotal: 6.94s\tremaining: 17s\n",
      "29:\tlearn: 0.6204430\ttotal: 7.19s\tremaining: 16.8s\n",
      "30:\tlearn: 0.6190107\ttotal: 7.45s\tremaining: 16.6s\n",
      "31:\tlearn: 0.6174955\ttotal: 7.7s\tremaining: 16.4s\n",
      "32:\tlearn: 0.6148321\ttotal: 7.95s\tremaining: 16.1s\n",
      "33:\tlearn: 0.6133524\ttotal: 8.2s\tremaining: 15.9s\n",
      "34:\tlearn: 0.6124415\ttotal: 8.45s\tremaining: 15.7s\n",
      "35:\tlearn: 0.6116390\ttotal: 8.7s\tremaining: 15.5s\n",
      "36:\tlearn: 0.6106053\ttotal: 8.94s\tremaining: 15.2s\n",
      "37:\tlearn: 0.6097392\ttotal: 8.96s\tremaining: 14.6s\n",
      "38:\tlearn: 0.6089846\ttotal: 9.21s\tremaining: 14.4s\n",
      "39:\tlearn: 0.6081217\ttotal: 9.47s\tremaining: 14.2s\n",
      "40:\tlearn: 0.6076983\ttotal: 9.49s\tremaining: 13.7s\n",
      "41:\tlearn: 0.6072111\ttotal: 9.74s\tremaining: 13.4s\n",
      "42:\tlearn: 0.6057394\ttotal: 9.98s\tremaining: 13.2s\n",
      "43:\tlearn: 0.6045875\ttotal: 10.2s\tremaining: 13s\n",
      "44:\tlearn: 0.6034644\ttotal: 10.4s\tremaining: 12.7s\n",
      "45:\tlearn: 0.6030037\ttotal: 10.5s\tremaining: 12.3s\n",
      "46:\tlearn: 0.6020855\ttotal: 10.7s\tremaining: 12.1s\n",
      "47:\tlearn: 0.6018132\ttotal: 10.8s\tremaining: 11.6s\n",
      "48:\tlearn: 0.6002744\ttotal: 11s\tremaining: 11.4s\n",
      "49:\tlearn: 0.5997794\ttotal: 11s\tremaining: 11s\n",
      "50:\tlearn: 0.5989417\ttotal: 11.3s\tremaining: 10.8s\n",
      "51:\tlearn: 0.5985562\ttotal: 11.3s\tremaining: 10.4s\n",
      "52:\tlearn: 0.5973508\ttotal: 11.5s\tremaining: 10.2s\n",
      "53:\tlearn: 0.5972998\ttotal: 11.5s\tremaining: 9.83s\n",
      "54:\tlearn: 0.5972998\ttotal: 11.5s\tremaining: 9.44s\n",
      "55:\tlearn: 0.5970809\ttotal: 11.6s\tremaining: 9.1s\n",
      "56:\tlearn: 0.5968187\ttotal: 11.7s\tremaining: 8.83s\n",
      "57:\tlearn: 0.5958081\ttotal: 12s\tremaining: 8.65s\n",
      "58:\tlearn: 0.5952860\ttotal: 12.2s\tremaining: 8.48s\n",
      "59:\tlearn: 0.5949924\ttotal: 12.3s\tremaining: 8.18s\n",
      "60:\tlearn: 0.5945408\ttotal: 12.4s\tremaining: 7.92s\n",
      "61:\tlearn: 0.5936541\ttotal: 12.6s\tremaining: 7.75s\n",
      "62:\tlearn: 0.5923955\ttotal: 12.9s\tremaining: 7.57s\n",
      "63:\tlearn: 0.5922711\ttotal: 12.9s\tremaining: 7.26s\n",
      "64:\tlearn: 0.5922294\ttotal: 12.9s\tremaining: 6.95s\n",
      "65:\tlearn: 0.5920894\ttotal: 12.9s\tremaining: 6.66s\n",
      "66:\tlearn: 0.5916754\ttotal: 12.9s\tremaining: 6.38s\n",
      "67:\tlearn: 0.5910941\ttotal: 13.2s\tremaining: 6.21s\n",
      "68:\tlearn: 0.5909451\ttotal: 13.2s\tremaining: 5.93s\n",
      "69:\tlearn: 0.5907583\ttotal: 13.3s\tremaining: 5.71s\n",
      "70:\tlearn: 0.5895116\ttotal: 13.6s\tremaining: 5.54s\n",
      "71:\tlearn: 0.5885255\ttotal: 13.8s\tremaining: 5.37s\n",
      "72:\tlearn: 0.5883709\ttotal: 13.8s\tremaining: 5.12s\n",
      "73:\tlearn: 0.5870835\ttotal: 14.1s\tremaining: 4.95s\n",
      "74:\tlearn: 0.5869592\ttotal: 14.3s\tremaining: 4.78s\n",
      "75:\tlearn: 0.5861537\ttotal: 14.6s\tremaining: 4.6s\n",
      "76:\tlearn: 0.5857747\ttotal: 14.7s\tremaining: 4.38s\n",
      "77:\tlearn: 0.5856779\ttotal: 14.7s\tremaining: 4.14s\n",
      "78:\tlearn: 0.5856668\ttotal: 14.7s\tremaining: 3.9s\n",
      "79:\tlearn: 0.5849058\ttotal: 14.9s\tremaining: 3.73s\n",
      "80:\tlearn: 0.5848402\ttotal: 15s\tremaining: 3.51s\n",
      "81:\tlearn: 0.5846018\ttotal: 15.2s\tremaining: 3.34s\n",
      "82:\tlearn: 0.5845539\ttotal: 15.2s\tremaining: 3.12s\n",
      "83:\tlearn: 0.5844016\ttotal: 15.5s\tremaining: 2.95s\n",
      "84:\tlearn: 0.5842804\ttotal: 15.5s\tremaining: 2.73s\n",
      "85:\tlearn: 0.5841235\ttotal: 15.7s\tremaining: 2.56s\n",
      "86:\tlearn: 0.5838748\ttotal: 16s\tremaining: 2.39s\n",
      "87:\tlearn: 0.5838732\ttotal: 16s\tremaining: 2.18s\n",
      "88:\tlearn: 0.5838231\ttotal: 16s\tremaining: 1.98s\n",
      "89:\tlearn: 0.5837879\ttotal: 16s\tremaining: 1.78s\n",
      "90:\tlearn: 0.5836062\ttotal: 16.3s\tremaining: 1.61s\n",
      "91:\tlearn: 0.5835930\ttotal: 16.3s\tremaining: 1.42s\n",
      "92:\tlearn: 0.5834975\ttotal: 16.3s\tremaining: 1.23s\n",
      "93:\tlearn: 0.5834447\ttotal: 16.4s\tremaining: 1.04s\n",
      "94:\tlearn: 0.5830750\ttotal: 16.5s\tremaining: 869ms\n",
      "95:\tlearn: 0.5829162\ttotal: 16.8s\tremaining: 698ms\n",
      "96:\tlearn: 0.5828431\ttotal: 16.8s\tremaining: 519ms\n",
      "97:\tlearn: 0.5827250\ttotal: 17s\tremaining: 348ms\n",
      "98:\tlearn: 0.5825634\ttotal: 17.3s\tremaining: 175ms\n",
      "99:\tlearn: 0.5819912\ttotal: 17.5s\tremaining: 0us\n"
     ]
    },
    {
     "data": {
      "text/plain": [
       "Pipeline(memory=None,\n",
       "         steps=[('processing',\n",
       "                 Pipeline(memory=None,\n",
       "                          steps=[('running_time_imputer',\n",
       "                                  RunningTimeImputer(number_of_tracks='number_of_tracks',\n",
       "                                                     running_time='running_time')),\n",
       "                                 ('record_store_column_remover',\n",
       "                                  ColumnRemover(cols_to_remove={'country_albania',\n",
       "                                                                'country_algeria',\n",
       "                                                                'country_andorra',\n",
       "                                                                'country_angola',\n",
       "                                                                'country_argentina',\n",
       "                                                                'country_armenia',\n",
       "                                                                '...\n",
       "                          verbose=False)),\n",
       "                ('grid_search',\n",
       "                 GridSearchCV(cv=KFold(n_splits=5, random_state=None, shuffle=True),\n",
       "                              error_score=nan,\n",
       "                              estimator=<catboost.core.CatBoostRegressor object at 0x7f99a97e6cf8>,\n",
       "                              iid='deprecated', n_jobs=3,\n",
       "                              param_grid={'l2_leaf_reg': [1, 3, 5, 8]},\n",
       "                              pre_dispatch='2*n_jobs', refit=True,\n",
       "                              return_train_score=True,\n",
       "                              scoring='neg_mean_absolute_error', verbose=50))],\n",
       "         verbose=False)"
      ]
     },
     "execution_count": 67,
     "metadata": {
      "tags": []
     },
     "output_type": "execute_result"
    }
   ],
   "source": [
    "full_information_catboost_grid_pipe.fit(X_tr_sample,np.log(y_tr_sample).values)"
   ]
  },
  {
   "cell_type": "code",
   "execution_count": 68,
   "metadata": {
    "colab": {
     "base_uri": "https://localhost:8080/",
     "height": 296
    },
    "colab_type": "code",
    "id": "sDzqUDs6k1kW",
    "outputId": "de50b212-5b29-4652-c747-b16ce6047d3e"
   },
   "outputs": [
    {
     "data": {
      "image/png": "[encoded data removed]",
      "text/plain": [
       "<Figure size 432x288 with 1 Axes>"
      ]
     },
     "metadata": {
      "needs_background": "light",
      "tags": []
     },
     "output_type": "display_data"
    }
   ],
   "source": [
    "full_information_catboost_plot = GridSearchPlotter(full_information_catboost_grid_pipe.steps[-1][1])\n",
    "full_information_catboost_plot.plot_validation_curve(parameter='l2_leaf_reg',ylim=(-1,0))"
   ]
  },
  {
   "cell_type": "code",
   "execution_count": 69,
   "metadata": {
    "colab": {
     "base_uri": "https://localhost:8080/",
     "height": 35
    },
    "colab_type": "code",
    "id": "rYzXoV8jk1kY",
    "outputId": "ee4cb59e-1c4f-4112-9218-0823a62e5c58"
   },
   "outputs": [
    {
     "data": {
      "text/plain": [
       "-0.45383880183986386"
      ]
     },
     "execution_count": 69,
     "metadata": {
      "tags": []
     },
     "output_type": "execute_result"
    }
   ],
   "source": [
    "full_information_catboost_grid_pipe.steps[-1][1].best_score_"
   ]
  },
  {
   "cell_type": "code",
   "execution_count": 70,
   "metadata": {
    "colab": {
     "base_uri": "https://localhost:8080/",
     "height": 35
    },
    "colab_type": "code",
    "id": "9DoQX1JHk1ka",
    "outputId": "03183ed9-d0da-4879-dea0-6f33bbc9a03e"
   },
   "outputs": [
    {
     "data": {
      "text/plain": [
       "{'l2_leaf_reg': 1}"
      ]
     },
     "execution_count": 70,
     "metadata": {
      "tags": []
     },
     "output_type": "execute_result"
    }
   ],
   "source": [
    "full_information_catboost_grid_pipe.steps[-1][1].best_params_"
   ]
  },
  {
   "cell_type": "code",
   "execution_count": 71,
   "metadata": {
    "colab": {
     "base_uri": "https://localhost:8080/",
     "height": 1000
    },
    "colab_type": "code",
    "id": "jo9HfiwMk1kd",
    "outputId": "2978fbc3-f73c-491d-e82c-e6d04dd649e4"
   },
   "outputs": [
    {
     "name": "stdout",
     "output_type": "stream",
     "text": [
      "0:\tlearn: 0.8314495\ttotal: 680ms\tremaining: 1m 7s\n",
      "1:\tlearn: 0.8016748\ttotal: 1.27s\tremaining: 1m 2s\n",
      "2:\tlearn: 0.7774311\ttotal: 1.86s\tremaining: 1m\n",
      "3:\tlearn: 0.7549796\ttotal: 2.43s\tremaining: 58.4s\n",
      "4:\tlearn: 0.7358416\ttotal: 3.01s\tremaining: 57.2s\n",
      "5:\tlearn: 0.7198930\ttotal: 3.58s\tremaining: 56.2s\n",
      "6:\tlearn: 0.7058020\ttotal: 4.15s\tremaining: 55.1s\n",
      "7:\tlearn: 0.6921657\ttotal: 4.74s\tremaining: 54.6s\n",
      "8:\tlearn: 0.6804227\ttotal: 5.31s\tremaining: 53.7s\n",
      "9:\tlearn: 0.6709621\ttotal: 5.91s\tremaining: 53.2s\n",
      "10:\tlearn: 0.6624218\ttotal: 6.49s\tremaining: 52.5s\n",
      "11:\tlearn: 0.6550002\ttotal: 7.07s\tremaining: 51.9s\n",
      "12:\tlearn: 0.6481225\ttotal: 7.65s\tremaining: 51.2s\n",
      "13:\tlearn: 0.6422551\ttotal: 8.22s\tremaining: 50.5s\n",
      "14:\tlearn: 0.6372196\ttotal: 8.81s\tremaining: 49.9s\n",
      "15:\tlearn: 0.6328979\ttotal: 9.38s\tremaining: 49.2s\n",
      "16:\tlearn: 0.6287994\ttotal: 9.95s\tremaining: 48.6s\n",
      "17:\tlearn: 0.6257298\ttotal: 10.5s\tremaining: 47.9s\n",
      "18:\tlearn: 0.6227171\ttotal: 11.1s\tremaining: 47.3s\n",
      "19:\tlearn: 0.6190108\ttotal: 11.7s\tremaining: 46.6s\n",
      "20:\tlearn: 0.6156260\ttotal: 12.2s\tremaining: 46s\n",
      "21:\tlearn: 0.6128392\ttotal: 12.8s\tremaining: 45.4s\n",
      "22:\tlearn: 0.6104353\ttotal: 13.4s\tremaining: 44.8s\n",
      "23:\tlearn: 0.6076486\ttotal: 14s\tremaining: 44.2s\n",
      "24:\tlearn: 0.6056934\ttotal: 14.3s\tremaining: 42.9s\n",
      "25:\tlearn: 0.6040891\ttotal: 14.9s\tremaining: 42.3s\n",
      "26:\tlearn: 0.6024607\ttotal: 15.5s\tremaining: 41.8s\n",
      "27:\tlearn: 0.6004009\ttotal: 16.1s\tremaining: 41.3s\n",
      "28:\tlearn: 0.5991373\ttotal: 16.6s\tremaining: 40.7s\n",
      "29:\tlearn: 0.5975002\ttotal: 17.2s\tremaining: 40.1s\n",
      "30:\tlearn: 0.5963112\ttotal: 17.8s\tremaining: 39.5s\n",
      "31:\tlearn: 0.5949143\ttotal: 18.3s\tremaining: 39s\n",
      "32:\tlearn: 0.5936488\ttotal: 18.9s\tremaining: 38.4s\n",
      "33:\tlearn: 0.5924456\ttotal: 19.5s\tremaining: 37.8s\n",
      "34:\tlearn: 0.5913890\ttotal: 20s\tremaining: 37.2s\n",
      "35:\tlearn: 0.5906797\ttotal: 20.6s\tremaining: 36.6s\n",
      "36:\tlearn: 0.5901428\ttotal: 21.2s\tremaining: 36.1s\n",
      "37:\tlearn: 0.5890798\ttotal: 21.8s\tremaining: 35.5s\n",
      "38:\tlearn: 0.5883916\ttotal: 22.3s\tremaining: 34.9s\n",
      "39:\tlearn: 0.5876029\ttotal: 22.9s\tremaining: 34.4s\n",
      "40:\tlearn: 0.5868469\ttotal: 23.5s\tremaining: 33.8s\n",
      "41:\tlearn: 0.5863592\ttotal: 24.1s\tremaining: 33.2s\n",
      "42:\tlearn: 0.5854019\ttotal: 24.6s\tremaining: 32.7s\n",
      "43:\tlearn: 0.5846797\ttotal: 25.2s\tremaining: 32.1s\n",
      "44:\tlearn: 0.5842396\ttotal: 25.8s\tremaining: 31.5s\n",
      "45:\tlearn: 0.5838429\ttotal: 26.3s\tremaining: 30.9s\n",
      "46:\tlearn: 0.5834571\ttotal: 26.9s\tremaining: 30.3s\n",
      "47:\tlearn: 0.5834564\ttotal: 27s\tremaining: 29.2s\n",
      "48:\tlearn: 0.5827801\ttotal: 27.6s\tremaining: 28.7s\n",
      "49:\tlearn: 0.5826697\ttotal: 28.1s\tremaining: 28.1s\n",
      "50:\tlearn: 0.5822617\ttotal: 28.7s\tremaining: 27.6s\n",
      "51:\tlearn: 0.5822617\ttotal: 28.7s\tremaining: 26.5s\n",
      "52:\tlearn: 0.5813741\ttotal: 29.3s\tremaining: 26s\n",
      "53:\tlearn: 0.5813736\ttotal: 29.4s\tremaining: 25s\n",
      "54:\tlearn: 0.5811063\ttotal: 30s\tremaining: 24.5s\n",
      "55:\tlearn: 0.5811041\ttotal: 30.1s\tremaining: 23.7s\n",
      "56:\tlearn: 0.5811039\ttotal: 30.2s\tremaining: 22.8s\n",
      "57:\tlearn: 0.5808205\ttotal: 30.8s\tremaining: 22.3s\n",
      "58:\tlearn: 0.5803804\ttotal: 31.3s\tremaining: 21.8s\n",
      "59:\tlearn: 0.5797648\ttotal: 31.9s\tremaining: 21.3s\n",
      "60:\tlearn: 0.5795387\ttotal: 32.5s\tremaining: 20.8s\n",
      "61:\tlearn: 0.5795381\ttotal: 32.5s\tremaining: 19.9s\n",
      "62:\tlearn: 0.5792506\ttotal: 33.1s\tremaining: 19.4s\n",
      "63:\tlearn: 0.5792493\ttotal: 33.3s\tremaining: 18.7s\n",
      "64:\tlearn: 0.5789282\ttotal: 33.8s\tremaining: 18.2s\n",
      "65:\tlearn: 0.5789008\ttotal: 34.4s\tremaining: 17.7s\n",
      "66:\tlearn: 0.5783036\ttotal: 35s\tremaining: 17.2s\n",
      "67:\tlearn: 0.5783036\ttotal: 35s\tremaining: 16.5s\n",
      "68:\tlearn: 0.5781694\ttotal: 35.6s\tremaining: 16s\n",
      "69:\tlearn: 0.5780425\ttotal: 36.2s\tremaining: 15.5s\n",
      "70:\tlearn: 0.5776240\ttotal: 36.8s\tremaining: 15s\n",
      "71:\tlearn: 0.5773691\ttotal: 37.3s\tremaining: 14.5s\n",
      "72:\tlearn: 0.5766563\ttotal: 37.9s\tremaining: 14s\n",
      "73:\tlearn: 0.5766560\ttotal: 38s\tremaining: 13.4s\n",
      "74:\tlearn: 0.5766560\ttotal: 38.1s\tremaining: 12.7s\n",
      "75:\tlearn: 0.5766539\ttotal: 38.2s\tremaining: 12.1s\n",
      "76:\tlearn: 0.5766517\ttotal: 38.5s\tremaining: 11.5s\n",
      "77:\tlearn: 0.5764032\ttotal: 39.1s\tremaining: 11s\n",
      "78:\tlearn: 0.5762796\ttotal: 39.7s\tremaining: 10.6s\n",
      "79:\tlearn: 0.5762795\ttotal: 39.8s\tremaining: 9.95s\n",
      "80:\tlearn: 0.5762790\ttotal: 39.9s\tremaining: 9.36s\n",
      "81:\tlearn: 0.5762754\ttotal: 40.1s\tremaining: 8.79s\n",
      "82:\tlearn: 0.5758560\ttotal: 40.6s\tremaining: 8.32s\n",
      "83:\tlearn: 0.5758560\ttotal: 40.7s\tremaining: 7.75s\n",
      "84:\tlearn: 0.5757760\ttotal: 41.2s\tremaining: 7.28s\n",
      "85:\tlearn: 0.5757744\ttotal: 41.3s\tremaining: 6.72s\n",
      "86:\tlearn: 0.5757200\ttotal: 41.9s\tremaining: 6.25s\n",
      "87:\tlearn: 0.5757198\ttotal: 41.9s\tremaining: 5.71s\n",
      "88:\tlearn: 0.5756811\ttotal: 42.5s\tremaining: 5.25s\n",
      "89:\tlearn: 0.5756647\ttotal: 42.6s\tremaining: 4.73s\n",
      "90:\tlearn: 0.5752491\ttotal: 43.1s\tremaining: 4.27s\n",
      "91:\tlearn: 0.5752453\ttotal: 43.3s\tremaining: 3.76s\n",
      "92:\tlearn: 0.5752446\ttotal: 43.3s\tremaining: 3.26s\n",
      "93:\tlearn: 0.5752446\ttotal: 43.4s\tremaining: 2.77s\n",
      "94:\tlearn: 0.5752446\ttotal: 43.4s\tremaining: 2.29s\n",
      "95:\tlearn: 0.5752156\ttotal: 44s\tremaining: 1.83s\n",
      "96:\tlearn: 0.5752151\ttotal: 44.1s\tremaining: 1.36s\n",
      "97:\tlearn: 0.5752151\ttotal: 44.1s\tremaining: 900ms\n",
      "98:\tlearn: 0.5749284\ttotal: 44.7s\tremaining: 451ms\n",
      "99:\tlearn: 0.5749284\ttotal: 44.7s\tremaining: 0us\n"
     ]
    },
    {
     "data": {
      "text/plain": [
       "Pipeline(memory=None,\n",
       "         steps=[('processing',\n",
       "                 Pipeline(memory=None,\n",
       "                          steps=[('running_time_imputer',\n",
       "                                  RunningTimeImputer(number_of_tracks='number_of_tracks',\n",
       "                                                     running_time='running_time')),\n",
       "                                 ('record_store_column_remover',\n",
       "                                  ColumnRemover(cols_to_remove={'country_albania',\n",
       "                                                                'country_algeria',\n",
       "                                                                'country_andorra',\n",
       "                                                                'country_angola',\n",
       "                                                                'country_argentina',\n",
       "                                                                'country_armenia',\n",
       "                                                                '...\n",
       "                                                                '(plurinational '\n",
       "                                                                'state of)',\n",
       "                                                                'country_bosnia '\n",
       "                                                                'and '\n",
       "                                                                'herzegovina',\n",
       "                                                                'country_brazil',\n",
       "                                                                'country_bulgaria',\n",
       "                                                                'country_cabo '\n",
       "                                                                'verde',\n",
       "                                                                'country_cambodia',\n",
       "                                                                'country_cameroon',\n",
       "                                                                'country_canada',\n",
       "                                                                'country_chile',\n",
       "                                                                'country_china',\n",
       "                                                                'country_colombia',\n",
       "                                                                'country_congo', ...}))],\n",
       "                          verbose=False)),\n",
       "                ('catboost',\n",
       "                 <catboost.core.CatBoostRegressor object at 0x7f99a97e6cf8>)],\n",
       "         verbose=False)"
      ]
     },
     "execution_count": 71,
     "metadata": {
      "tags": []
     },
     "output_type": "execute_result"
    }
   ],
   "source": [
    "full_information_catboost_pipe.fit(X_tr,np.log(y_tr))"
   ]
  },
  {
   "cell_type": "code",
   "execution_count": null,
   "metadata": {
    "colab": {},
    "colab_type": "code",
    "id": "za9_3tZ-k1kf"
   },
   "outputs": [],
   "source": [
    "full_information_catboost_te_pred = full_information_catboost_pipe.predict(X_te)"
   ]
  },
  {
   "cell_type": "code",
   "execution_count": 73,
   "metadata": {
    "colab": {
     "base_uri": "https://localhost:8080/",
     "height": 35
    },
    "colab_type": "code",
    "id": "fJzDaxL1k1kh",
    "outputId": "b39fb110-662e-46af-b3b1-448244ea2362"
   },
   "outputs": [
    {
     "data": {
      "text/plain": [
       "0.3944461702713298"
      ]
     },
     "execution_count": 73,
     "metadata": {
      "tags": []
     },
     "output_type": "execute_result"
    }
   ],
   "source": [
    "r2_score(y_te,np.exp(full_information_catboost_te_pred))"
   ]
  },
  {
   "cell_type": "code",
   "execution_count": 74,
   "metadata": {
    "colab": {
     "base_uri": "https://localhost:8080/",
     "height": 35
    },
    "colab_type": "code",
    "id": "WmjFcYRak1kk",
    "outputId": "50e50d02-340a-4fbd-fb25-63f754d1fe9c"
   },
   "outputs": [
    {
     "data": {
      "text/plain": [
       "7.123721140192723"
      ]
     },
     "execution_count": 74,
     "metadata": {
      "tags": []
     },
     "output_type": "execute_result"
    }
   ],
   "source": [
    "mean_absolute_error(y_te,np.exp(full_information_catboost_te_pred))"
   ]
  },
  {
   "cell_type": "markdown",
   "metadata": {
    "colab_type": "text",
    "id": "8aGyejLgLg5q"
   },
   "source": [
    "## Identification of Feature Importances"
   ]
  },
  {
   "cell_type": "code",
   "execution_count": null,
   "metadata": {
    "colab": {},
    "colab_type": "code",
    "id": "Vel9VOBLLg5r"
   },
   "outputs": [],
   "source": [
    "feature_importance_transformation_pipe = full_information_catboost_processing_pipe.fit(X_tr,np.log(y_tr).values)\n",
    "full_information_catboost_feature_importances = dict(zip(\n",
    "    feature_importance_transformation_pipe.transform(X_te).columns,\n",
    "    full_information_catboost_pipe.steps[-1][-1].feature_importances_\n",
    "))"
   ]
  },
  {
   "cell_type": "code",
   "execution_count": 76,
   "metadata": {
    "colab": {
     "base_uri": "https://localhost:8080/",
     "height": 393
    },
    "colab_type": "code",
    "id": "so5RN2cBLg5s",
    "outputId": "3f96dc7a-2b3a-4c37-9521-a41db3e0f087"
   },
   "outputs": [
    {
     "data": {
      "text/plain": [
       "community_want                        19.230088\n",
       "units_for_sale                        15.779837\n",
       "country                               15.556832\n",
       "format_name                            9.747956\n",
       "label                                  6.171569\n",
       "year                                   5.596909\n",
       "region_eastern asia                    5.427158\n",
       "artist                                 3.586493\n",
       "community_have                         2.929832\n",
       "superregion_europe                     1.835236\n",
       "average_rating                         1.459620\n",
       "format_quantity                        1.370903\n",
       "master_id                              1.207412\n",
       "format_text                            1.173255\n",
       "number_of_tracks                       1.006565\n",
       "format_description_Limited Edition     0.961755\n",
       "era_contemporary                       0.776566\n",
       "format_description_Reissue             0.758808\n",
       "format_description_Club Edition        0.608544\n",
       "period_cool                            0.539620\n",
       "dtype: float64"
      ]
     },
     "execution_count": 76,
     "metadata": {
      "tags": []
     },
     "output_type": "execute_result"
    }
   ],
   "source": [
    "pd.Series(full_information_catboost_feature_importances).sort_values(ascending=False).head(20)"
   ]
  },
  {
   "cell_type": "code",
   "execution_count": null,
   "metadata": {
    "colab": {},
    "colab_type": "code",
    "id": "QElDrqU4xIot"
   },
   "outputs": [],
   "source": []
  }
 ],
 "metadata": {
  "accelerator": "GPU",
  "colab": {
   "machine_shape": "hm",
   "name": "03-Modelling.ipynb",
   "provenance": [],
   "toc_visible": true
  },
  "kernelspec": {
   "display_name": "Python 3",
   "language": "python",
   "name": "python3"
  },
  "language_info": {
   "codemirror_mode": {
    "name": "ipython",
    "version": 3
   },
   "file_extension": ".py",
   "mimetype": "text/x-python",
   "name": "python",
   "nbconvert_exporter": "python",
   "pygments_lexer": "ipython3",
   "version": "3.6.10"
  },
  "widgets": {
   "application/vnd.jupyter.widget-state+json": {
    "24abc2ac46f447d394ae154c82d44587": {
     "model_module": "@jupyter-widgets/controls",
     "model_name": "FloatProgressModel",
     "state": {
      "_dom_classes": [],
      "_model_module": "@jupyter-widgets/controls",
      "_model_module_version": "1.5.0",
      "_model_name": "FloatProgressModel",
      "_view_count": null,
      "_view_module": "@jupyter-widgets/controls",
      "_view_module_version": "1.5.0",
      "_view_name": "ProgressView",
      "bar_style": "success",
      "description": "100%",
      "description_tooltip": null,
      "layout": "IPY_MODEL_d4e68179d3454cd6a746d8ef04b882b0",
      "max": 8,
      "min": 0,
      "orientation": "horizontal",
      "style": "IPY_MODEL_ffdd8b42ffe643a8ab66636a8139cadc",
      "value": 8
     }
    },
    "2844ea0a04f849e3b0afe6563661def6": {
     "model_module": "@jupyter-widgets/base",
     "model_name": "LayoutModel",
     "state": {
      "_model_module": "@jupyter-widgets/base",
      "_model_module_version": "1.2.0",
      "_model_name": "LayoutModel",
      "_view_count": null,
      "_view_module": "@jupyter-widgets/base",
      "_view_module_version": "1.2.0",
      "_view_name": "LayoutView",
      "align_content": null,
      "align_items": null,
      "align_self": null,
      "border": null,
      "bottom": null,
      "display": null,
      "flex": null,
      "flex_flow": null,
      "grid_area": null,
      "grid_auto_columns": null,
      "grid_auto_flow": null,
      "grid_auto_rows": null,
      "grid_column": null,
      "grid_gap": null,
      "grid_row": null,
      "grid_template_areas": null,
      "grid_template_columns": null,
      "grid_template_rows": null,
      "height": null,
      "justify_content": null,
      "justify_items": null,
      "left": null,
      "margin": null,
      "max_height": null,
      "max_width": null,
      "min_height": null,
      "min_width": null,
      "object_fit": null,
      "object_position": null,
      "order": null,
      "overflow": null,
      "overflow_x": null,
      "overflow_y": null,
      "padding": null,
      "right": null,
      "top": null,
      "visibility": null,
      "width": null
     }
    },
    "772edd656b674ef6b57e9a7accebc690": {
     "model_module": "@jupyter-widgets/controls",
     "model_name": "DescriptionStyleModel",
     "state": {
      "_model_module": "@jupyter-widgets/controls",
      "_model_module_version": "1.5.0",
      "_model_name": "DescriptionStyleModel",
      "_view_count": null,
      "_view_module": "@jupyter-widgets/base",
      "_view_module_version": "1.2.0",
      "_view_name": "StyleView",
      "description_width": ""
     }
    },
    "a988f760e65e4c1d8d4c5815a6df9010": {
     "model_module": "@jupyter-widgets/controls",
     "model_name": "HBoxModel",
     "state": {
      "_dom_classes": [],
      "_model_module": "@jupyter-widgets/controls",
      "_model_module_version": "1.5.0",
      "_model_name": "HBoxModel",
      "_view_count": null,
      "_view_module": "@jupyter-widgets/controls",
      "_view_module_version": "1.5.0",
      "_view_name": "HBoxView",
      "box_style": "",
      "children": [
       "IPY_MODEL_24abc2ac46f447d394ae154c82d44587",
       "IPY_MODEL_c64d0f2abd6c4207864186ceae7cd208"
      ],
      "layout": "IPY_MODEL_b847c031e4df41db89055c797e212fd0"
     }
    },
    "b847c031e4df41db89055c797e212fd0": {
     "model_module": "@jupyter-widgets/base",
     "model_name": "LayoutModel",
     "state": {
      "_model_module": "@jupyter-widgets/base",
      "_model_module_version": "1.2.0",
      "_model_name": "LayoutModel",
      "_view_count": null,
      "_view_module": "@jupyter-widgets/base",
      "_view_module_version": "1.2.0",
      "_view_name": "LayoutView",
      "align_content": null,
      "align_items": null,
      "align_self": null,
      "border": null,
      "bottom": null,
      "display": null,
      "flex": null,
      "flex_flow": null,
      "grid_area": null,
      "grid_auto_columns": null,
      "grid_auto_flow": null,
      "grid_auto_rows": null,
      "grid_column": null,
      "grid_gap": null,
      "grid_row": null,
      "grid_template_areas": null,
      "grid_template_columns": null,
      "grid_template_rows": null,
      "height": null,
      "justify_content": null,
      "justify_items": null,
      "left": null,
      "margin": null,
      "max_height": null,
      "max_width": null,
      "min_height": null,
      "min_width": null,
      "object_fit": null,
      "object_position": null,
      "order": null,
      "overflow": null,
      "overflow_x": null,
      "overflow_y": null,
      "padding": null,
      "right": null,
      "top": null,
      "visibility": null,
      "width": null
     }
    },
    "c64d0f2abd6c4207864186ceae7cd208": {
     "model_module": "@jupyter-widgets/controls",
     "model_name": "HTMLModel",
     "state": {
      "_dom_classes": [],
      "_model_module": "@jupyter-widgets/controls",
      "_model_module_version": "1.5.0",
      "_model_name": "HTMLModel",
      "_view_count": null,
      "_view_module": "@jupyter-widgets/controls",
      "_view_module_version": "1.5.0",
      "_view_name": "HTMLView",
      "description": "",
      "description_tooltip": null,
      "layout": "IPY_MODEL_2844ea0a04f849e3b0afe6563661def6",
      "placeholder": "​",
      "style": "IPY_MODEL_772edd656b674ef6b57e9a7accebc690",
      "value": " 8/8 [00:01&lt;00:00,  4.28it/s]"
     }
    },
    "d4e68179d3454cd6a746d8ef04b882b0": {
     "model_module": "@jupyter-widgets/base",
     "model_name": "LayoutModel",
     "state": {
      "_model_module": "@jupyter-widgets/base",
      "_model_module_version": "1.2.0",
      "_model_name": "LayoutModel",
      "_view_count": null,
      "_view_module": "@jupyter-widgets/base",
      "_view_module_version": "1.2.0",
      "_view_name": "LayoutView",
      "align_content": null,
      "align_items": null,
      "align_self": null,
      "border": null,
      "bottom": null,
      "display": null,
      "flex": null,
      "flex_flow": null,
      "grid_area": null,
      "grid_auto_columns": null,
      "grid_auto_flow": null,
      "grid_auto_rows": null,
      "grid_column": null,
      "grid_gap": null,
      "grid_row": null,
      "grid_template_areas": null,
      "grid_template_columns": null,
      "grid_template_rows": null,
      "height": null,
      "justify_content": null,
      "justify_items": null,
      "left": null,
      "margin": null,
      "max_height": null,
      "max_width": null,
      "min_height": null,
      "min_width": null,
      "object_fit": null,
      "object_position": null,
      "order": null,
      "overflow": null,
      "overflow_x": null,
      "overflow_y": null,
      "padding": null,
      "right": null,
      "top": null,
      "visibility": null,
      "width": null
     }
    },
    "ffdd8b42ffe643a8ab66636a8139cadc": {
     "model_module": "@jupyter-widgets/controls",
     "model_name": "ProgressStyleModel",
     "state": {
      "_model_module": "@jupyter-widgets/controls",
      "_model_module_version": "1.5.0",
      "_model_name": "ProgressStyleModel",
      "_view_count": null,
      "_view_module": "@jupyter-widgets/base",
      "_view_module_version": "1.2.0",
      "_view_name": "StyleView",
      "bar_color": null,
      "description_width": "initial"
     }
    }
   }
  }
 },
 "nbformat": 4,
 "nbformat_minor": 4
}
