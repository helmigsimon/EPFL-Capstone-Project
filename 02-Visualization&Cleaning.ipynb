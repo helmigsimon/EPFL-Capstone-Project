{
 "cells": [
  {
   "cell_type": "markdown",
   "metadata": {
    "colab_type": "text",
    "id": "YsMW-elZopc_"
   },
   "source": [
    "## Setting up Colab Environment if in Colab"
   ]
  },
  {
   "cell_type": "code",
   "execution_count": null,
   "metadata": {
    "colab": {
     "base_uri": "https://localhost:8080/",
     "height": 1000
    },
    "colab_type": "code",
    "id": "xrn36YQSopdB",
    "outputId": "80480562-bd92-49c2-e3ff-ac7438cf76dd"
   },
   "outputs": [],
   "source": [
    "try:\n",
    "    from google.colab import drive\n",
    "    drive.mount('/content/drive')\n",
    "    import os\n",
    "\n",
    "    DRIVE_PATH = os.path.join(os.getcwd(),'drive')\n",
    "\n",
    "    !pip install geopandas sparse-dot-topn pdpipe \n",
    "    import geopandas as gpd\n",
    "    import sparse_dot_topn.sparse_dot_topn as ct\n",
    "    import pdpipe as pdp\n",
    "\n",
    "\n",
    "    if not 'Miniconda3-4.5.4-Linux-x86_64.sh' in os.listdir():\n",
    "        !wget https://repo.continuum.io/miniconda/Miniconda3-4.5.4-Linux-x86_64.sh && bash Miniconda3-4.5.4-Linux-x86_64.sh -bfp /usr/local\n",
    "\n",
    "    if not ('EPFL-Capstone-Project' in os.listdir()) and (os.getcwd().split('/')[-1] != 'EPFL-Capstone-Project'):\n",
    "        !git clone https://github.com/helmigsimon/EPFL-Capstone-Project  \n",
    "    os.chdir('EPFL-Capstone-Project')\n",
    "\n",
    "    !conda env create -f environment.yml\n",
    "    !conda activate exts-ml\n",
    "\n",
    "    import nltk\n",
    "    nltk.download('stopwords')\n",
    "    nltk.download('punkt')\n",
    "\n",
    "    def restart_runtime():\n",
    "        os.kill(os.getpid(), 9)\n",
    "        \n",
    "    #Setting up RAPIDS AI\n",
    "\n",
    "    import pynvml\n",
    "    pynvml.nvmlInit()\n",
    "    handle = pynvml.nvmlDeviceGetHandleByIndex(0)\n",
    "    device_name = pynvml.nvmlDeviceGetName(handle)\n",
    "    if (device_name != b'Tesla T4') and (device_name != b'Tesla P4') and (device_name != b'Tesla P100-PCIE-16GB'):\n",
    "        print(\"Wrong GPU - Restarting Runtime\")\n",
    "        restart_runtime()\n",
    "\n",
    "\n",
    "    # clone RAPIDS AI rapidsai-csp-utils scripts repo\n",
    "    !git clone https://github.com/rapidsai/rapidsai-csp-utils.git\n",
    "\n",
    "    # install RAPIDS\n",
    "    !bash rapidsai-csp-utils/colab/rapids-colab.sh 0.13\n",
    "\n",
    "    import sys, os\n",
    "    # set necessary environment variables \n",
    "    dist_package_index = sys.path.index('/usr/local/lib/python3.6/dist-packages')\n",
    "    sys.path = sys.path[:dist_package_index] + ['/usr/local/lib/python3.6/site-packages'] + sys.path[dist_package_index:]\n",
    "    sys.path\n",
    "\n",
    "    # update pyarrow & modules \n",
    "    exec(open('rapidsai-csp-utils/colab/update_modules.py').read(), globals())\n",
    "    \n",
    "except ModuleNotFoundError as e:\n",
    "    print(e)\n",
    "    print('Not in colab environment, continuing to run locally')"
   ]
  },
  {
   "cell_type": "code",
   "execution_count": null,
   "metadata": {
    "colab": {
     "base_uri": "https://localhost:8080/",
     "height": 73
    },
    "colab_type": "code",
    "id": "9jIRARPsopdO",
    "outputId": "190c6ace-3a57-428c-dd14-3ffcf46c7b0c"
   },
   "outputs": [],
   "source": [
    "%matplotlib inline\n",
    "%load_ext autoreload\n",
    "%autoreload 2\n",
    "%config InlineBackend.figure_format = 'retina'\n",
    "import matplotlib.pyplot as plt\n",
    "from matplotlib import rcParams\n",
    "import seaborn as sns\n",
    "import pandas as pd\n",
    "import geopandas as gpd\n",
    "import numpy as np\n",
    "import os\n",
    "import pickle\n",
    "import random\n",
    "import umap\n",
    "from tqdm import tqdm\n",
    "from data.util.paths import DATA_PATH\n",
    "from mpl_toolkits.axes_grid1 import make_axes_locatable\n",
    "from mpl_toolkits.mplot3d import Axes3D\n",
    "from sklearn.decomposition import PCA\n",
    "from sklearn.preprocessing import StandardScaler\n",
    "from lib.transformers import *\n",
    "from sklearn.compose import ColumnTransformer\n",
    "from sklearn.pipeline import Pipeline\n",
    "tqdm.pandas()"
   ]
  },
  {
   "cell_type": "code",
   "execution_count": null,
   "metadata": {
    "colab": {},
    "colab_type": "code",
    "id": "kxi6uxZfopda"
   },
   "outputs": [],
   "source": [
    "from lib.processing import *\n",
    "from lib.pipelines import *\n",
    "from data.scripts.project_data import DataLoader\n",
    "from data.util.environment_variables import COUNTRY_CODES, M49_TO_ISO3\n",
    "DATA_PATH = '/content/drive/My Drive/EPFL Capstone'"
   ]
  },
  {
   "cell_type": "markdown",
   "metadata": {
    "colab_type": "text",
    "id": "7e19AUp0opdo"
   },
   "source": [
    "## Setting up Dataset"
   ]
  },
  {
   "cell_type": "code",
   "execution_count": null,
   "metadata": {
    "colab": {
     "base_uri": "https://localhost:8080/",
     "height": 67,
     "referenced_widgets": [
      "b5c56fc85ca545018df2a9c105be8e5c",
      "5f826aaef10547a38b6b5216b49eebde",
      "39157c7779e44678bd87aee77f91d68d",
      "55ec3fec72b44bf6a001496e49d87242",
      "1d94de6d2baf4c738445bd36cb3bf5b1",
      "8c80135ebdfa4acdb4c2783e9ebd38e7",
      "cc94c1d2ce204d88bcd4dbbd3e5120c2",
      "6198080a88dd46d09a1ecd41aff077bb"
     ]
    },
    "colab_type": "code",
    "id": "mzqe0h3Topdr",
    "outputId": "7afc6297-c783-411f-b4b0-11a85d817305"
   },
   "outputs": [],
   "source": [
    "extracted_df, api_df = load_from_pkl('extracted',path=DATA_PATH), load_from_pkl('api',path=DATA_PATH)\n",
    "extracted_df = extracted_pipe.fit_transform(extracted_df)\n",
    "api_df = api_pipe.fit_transform(api_df)"
   ]
  },
  {
   "cell_type": "code",
   "execution_count": null,
   "metadata": {
    "colab": {},
    "colab_type": "code",
    "id": "GGrpPtwSopdy"
   },
   "outputs": [],
   "source": [
    "df = pd.merge(extracted_df,api_df,on='release_id')"
   ]
  },
  {
   "cell_type": "code",
   "execution_count": null,
   "metadata": {
    "colab": {},
    "colab_type": "code",
    "id": "xca-sd7Kopd6"
   },
   "outputs": [],
   "source": [
    "del extracted_df, api_df"
   ]
  },
  {
   "cell_type": "markdown",
   "metadata": {
    "colab_type": "text",
    "id": "-CSdSscKopd_"
   },
   "source": [
    "## Create Column Store"
   ]
  },
  {
   "cell_type": "code",
   "execution_count": null,
   "metadata": {
    "colab": {},
    "colab_type": "code",
    "id": "7zRYsk69opeB"
   },
   "outputs": [],
   "source": [
    "col_set = {\n",
    "    'format': {\n",
    "        'description': 'format_description_', \n",
    "        'name': 'format_name_', \n",
    "        'text': ('format_text_clean'),\n",
    "        'quantity': ('format_quantity')\n",
    "    },\n",
    "    'geography': {\n",
    "        'superregion': 'superregion_',\n",
    "        'region': 'region_',\n",
    "        'country': 'country_'\n",
    "    },\n",
    "    'timeperiod': {\n",
    "        'period': 'period_',\n",
    "        'era': 'era_'\n",
    "    },\n",
    "    'genre': 'genre_',\n",
    "    'style': 'style_',\n",
    "    'null': None,\n",
    "    'indicator': lambda x: x.max() == 1 and x.min() == 0\n",
    "}"
   ]
  },
  {
   "cell_type": "code",
   "execution_count": null,
   "metadata": {
    "colab": {
     "base_uri": "https://localhost:8080/",
     "height": 67,
     "referenced_widgets": [
      "0b170269c940423795943290470cfa44",
      "1e316c6b48e14f9caed39578e8921d11",
      "eece4c1c7a79404b9eedf69cd2401ff4",
      "441639bf53214859bf77afd1ede50ba9",
      "d0b8053e3e8b4778b897bb6379eca6b8",
      "f3ed6bb1b70a47369d392828f584a99c",
      "1715b19eb573446d8c1b122d91e20783",
      "58569fcb3915426eaff7b612c0855d4d"
     ]
    },
    "colab_type": "code",
    "id": "zZGhQ6iEopeH",
    "outputId": "b39c24d8-ae6c-4dfc-af59-a944b250c793"
   },
   "outputs": [],
   "source": [
    "column_store = ColumnStore()\n",
    "column_store.fit(df,col_set)"
   ]
  },
  {
   "cell_type": "markdown",
   "metadata": {
    "colab_type": "text",
    "id": "jxouB3QGopeM"
   },
   "source": [
    "## Overview of Number of Records over Time"
   ]
  },
  {
   "cell_type": "code",
   "execution_count": null,
   "metadata": {
    "colab": {},
    "colab_type": "code",
    "id": "KwVeuDqIopeO"
   },
   "outputs": [],
   "source": [
    "period_year_range, era_year_range = make_year_range_dict(column_store._timeperiod_period,df=df), make_year_range_dict(column_store._timeperiod_era,df=df)\n",
    "time_period_year_range = dict(**period_year_range,**era_year_range)"
   ]
  },
  {
   "cell_type": "code",
   "execution_count": null,
   "metadata": {
    "colab": {},
    "colab_type": "code",
    "id": "CvLR6x8KopeV"
   },
   "outputs": [],
   "source": [
    "year_count_series = df.groupby(by='year')['market_value'].count()\n",
    "year_count_series[1936] = 0\n",
    "year_count_series.sort_index(inplace=True)"
   ]
  },
  {
   "cell_type": "code",
   "execution_count": null,
   "metadata": {
    "colab": {},
    "colab_type": "code",
    "id": "6_daehdNopeb"
   },
   "outputs": [],
   "source": [
    "period_colors = {\n",
    "    'period_big_band': 'red',\n",
    "    'period_bebop': 'pink',\n",
    "    'period_cool': 'blue',\n",
    "    'period_fusion': 'orange',\n",
    "}\n",
    "era_colors = {\n",
    "    'era_swing': 'purple',\n",
    "    'era_modern': 'green',\n",
    "    'era_contemporary': 'gold'\n",
    "}\n",
    "time_period_colors = dict(**period_colors,**era_colors)"
   ]
  },
  {
   "cell_type": "code",
   "execution_count": null,
   "metadata": {
    "colab": {},
    "colab_type": "code",
    "id": "PiaymLFuopeh"
   },
   "outputs": [],
   "source": [
    "def plot_variable_with_time_periods(year_series,time_periods,time_period_colors,**kwargs):\n",
    "    plt.figure(figsize=(20,10))\n",
    "\n",
    "    #Setting up plotting helpers\n",
    "    dev_constant = 200\n",
    "    convert_to_label = lambda x: ' '.join(x.split('_')).title()\n",
    "\n",
    "    #Plotting\n",
    "    plt.plot(year_series)\n",
    "    for time_period, year_range in time_periods.items():\n",
    "        if 'period' in time_period:\n",
    "            try:\n",
    "                min_, max_, hatch_ = 0, year_series.loc[year_range], '/'\n",
    "            except KeyError:\n",
    "                print(year_range)\n",
    "        else:\n",
    "            min_, max_, hatch_ = year_series.loc[year_range], year_series.loc[year_range]+dev_constant, None\n",
    "\n",
    "        plt.fill_between(year_range,max_,min_,alpha=0.25,color=time_period_colors[time_period],hatch=hatch_,label=convert_to_label(time_period))\n",
    "    \n",
    "    for attr in (kwargs):\n",
    "        try:\n",
    "            getattr(plt,attr)(kwargs[attr])\n",
    "        except Exception as e:\n",
    "            print(e)\n",
    "    \n",
    "    plt.legend()\n",
    "    plt.show()\n",
    "    "
   ]
  },
  {
   "cell_type": "code",
   "execution_count": null,
   "metadata": {
    "colab": {
     "base_uri": "https://localhost:8080/",
     "height": 620
    },
    "colab_type": "code",
    "id": "f_qboo8fopen",
    "outputId": "1a26a9b2-f1b9-4946-966c-f40100efba14"
   },
   "outputs": [],
   "source": [
    "plot_variable_with_time_periods(year_count_series,time_period_year_range,time_period_colors,xlabel='Year',ylabel='Albums',title='Albums released per Year according to Dominant Jazz Time Period')"
   ]
  },
  {
   "cell_type": "markdown",
   "metadata": {
    "colab_type": "text",
    "id": "WcMiyqzcopet"
   },
   "source": [
    "As we can see from the above, there was a massive explosion in the number of Jazz albums released per year in the 1950s, with a cyclical rise through the rest of the 20th century and into the 21st. In the Contemporary Jazz Era/Jazz Fusion Period, we see that the number of Jazz Albums released it at its highest, most likely due to the massive influence of Jazz on other genres."
   ]
  },
  {
   "cell_type": "code",
   "execution_count": null,
   "metadata": {
    "colab": {},
    "colab_type": "code",
    "id": "gvrKI3mZopet"
   },
   "outputs": [],
   "source": [
    "pure_jazz_album_count = df[df[column_store._genre].sum(axis=1)==0].groupby(by='year').count()['market_value']\n",
    "pure_jazz_album_count[1934], pure_jazz_album_count[1936] = 0,0\n",
    "pure_jazz_album_count.sort_index(inplace=True)"
   ]
  },
  {
   "cell_type": "code",
   "execution_count": null,
   "metadata": {
    "colab": {
     "base_uri": "https://localhost:8080/",
     "height": 620
    },
    "colab_type": "code",
    "id": "doMiQs_yopey",
    "outputId": "39671301-cc3a-4b29-b24d-659221649777"
   },
   "outputs": [],
   "source": [
    "plot_variable_with_time_periods(pure_jazz_album_count,time_period_year_range,time_period_colors,xlabel='Year',ylabel='Albums',title='Albums released per Year according to Dominant Jazz Time Period')"
   ]
  },
  {
   "cell_type": "markdown",
   "metadata": {
    "colab_type": "text",
    "id": "8goNt9H2ope3"
   },
   "source": [
    "As we can see, the figure above is effectively identical to the one which includes non 'Pure Jazz' albums, indicating that the rising trend in album releases is not primarily due to the incorporation of Jazz into other styles, but instead a growth of the music in its purest form over time."
   ]
  },
  {
   "cell_type": "markdown",
   "metadata": {
    "colab_type": "text",
    "id": "_5niykFLope4"
   },
   "source": [
    "## Market Value\n",
    "### Distribution"
   ]
  },
  {
   "cell_type": "code",
   "execution_count": null,
   "metadata": {
    "colab": {
     "base_uri": "https://localhost:8080/",
     "height": 279
    },
    "colab_type": "code",
    "id": "LIm-OkBkope5",
    "outputId": "ca17515e-e9d5-466b-9d8a-f4cd6ef5f74e"
   },
   "outputs": [],
   "source": [
    "sns.distplot(df['market_value'])\n",
    "plt.ylabel('Distribution')\n",
    "plt.show()"
   ]
  },
  {
   "cell_type": "markdown",
   "metadata": {
    "colab_type": "text",
    "id": "0mSsQKKCopfA"
   },
   "source": [
    "From the above we see that there is a huge left skew for market_value, which means we need to remove outliers"
   ]
  },
  {
   "cell_type": "code",
   "execution_count": null,
   "metadata": {
    "colab": {
     "base_uri": "https://localhost:8080/",
     "height": 35
    },
    "colab_type": "code",
    "id": "_sy_DZw0opfA",
    "outputId": "0e0a0abd-0380-422e-d5fa-794f17cf8128"
   },
   "outputs": [],
   "source": [
    "outlier_remover = OutlierRemover('market_value')\n",
    "outlier_remover.fit_transform(df)\n",
    "print('OutlierRemover remover %s rows' % (len(df)-len(outlier_remover.fit_transform(df))))"
   ]
  },
  {
   "cell_type": "code",
   "execution_count": null,
   "metadata": {
    "colab": {
     "base_uri": "https://localhost:8080/",
     "height": 279
    },
    "colab_type": "code",
    "id": "ms98VT6oopfG",
    "outputId": "4c37d3da-e4dd-4bc3-b88d-2f5935c5fce1"
   },
   "outputs": [],
   "source": [
    "sns.distplot(outlier_remover.transform(df)['market_value']);"
   ]
  },
  {
   "cell_type": "markdown",
   "metadata": {
    "colab_type": "text",
    "id": "Rn6qR3q1opfL"
   },
   "source": [
    "After removing entries with ``market_value`` values exceeding 3 standard deviations from the mean, we see that the distribution has skewed less, making it a prime candidate for log treatment"
   ]
  },
  {
   "cell_type": "code",
   "execution_count": null,
   "metadata": {
    "colab": {
     "base_uri": "https://localhost:8080/",
     "height": 280
    },
    "colab_type": "code",
    "id": "_Jd_SlZHopfM",
    "outputId": "dd7d13cf-479c-4383-c7d7-cbdc30eeb754"
   },
   "outputs": [],
   "source": [
    "sns.distplot(np.log(outlier_remover.transform(df)['market_value']));"
   ]
  },
  {
   "cell_type": "markdown",
   "metadata": {
    "colab_type": "text",
    "id": "a5s5juMyopfR"
   },
   "source": [
    "## Evolution of Market Value over Time"
   ]
  },
  {
   "cell_type": "code",
   "execution_count": null,
   "metadata": {
    "colab": {
     "base_uri": "https://localhost:8080/",
     "height": 605
    },
    "colab_type": "code",
    "id": "B3Q_yUBVopfS",
    "outputId": "25d642da-ea82-4865-a7a0-07347ed28c3a"
   },
   "outputs": [],
   "source": [
    "plt.figure(figsize=(20,10))\n",
    "plt.xlabel('Year')\n",
    "plt.ylabel('2020 Market Value in USD')\n",
    "plt.plot(df.groupby(by='year')['market_value'].mean())\n",
    "mean_value = df.groupby(by='year')['market_value'].mean()\n",
    "std_error = df.groupby(by='year')['market_value'].std()\n",
    "plt.fill_between(std_error.index, mean_value-std_error, mean_value+std_error, alpha=0.25)\n",
    "plt.show()"
   ]
  },
  {
   "cell_type": "markdown",
   "metadata": {
    "colab_type": "text",
    "id": "LEBO4SQTopfY"
   },
   "source": [
    "From the above, we see that even after removing the most offending outliers, there is still tremendous variation in the price of Jazz records, whic is particularly large in the mid 20th century, and slowly reduces over time, but never to a very small margin"
   ]
  },
  {
   "cell_type": "markdown",
   "metadata": {
    "colab_type": "text",
    "id": "C6fRtyVvopfZ"
   },
   "source": [
    "## Correlations "
   ]
  },
  {
   "cell_type": "code",
   "execution_count": null,
   "metadata": {
    "colab": {},
    "colab_type": "code",
    "id": "gpFaMcItopfZ"
   },
   "outputs": [],
   "source": [
    "pairplot_columns = list(filter(lambda x: df[x].dtype in (float,int) and x not in ['master_id','release_id'],column_store._rest))"
   ]
  },
  {
   "cell_type": "code",
   "execution_count": null,
   "metadata": {
    "colab": {},
    "colab_type": "code",
    "id": "rq6c4Boeopfe"
   },
   "outputs": [],
   "source": [
    "def plot_corr_subplots(df, var, var_list,nrows,ncols,figsize=(60,60)):\n",
    "    \n",
    "    fig, ax = plt.subplots(nrows=nrows,ncols=ncols,figsize=figsize)\n",
    "\n",
    "    for row_idx, row in enumerate(ax):\n",
    "        for col_idx, col in enumerate(row):\n",
    "            row_modifier = len(var_list)-ncols*row_idx\n",
    "            list_idx = len(var_list)-row_modifier+col_idx\n",
    "            col_column = var_list[list_idx]\n",
    "            col.set_title(col_column,fontdict={'fontsize':50})\n",
    "            col.scatter(df[col_column],df[var],edgecolor='white')\n",
    "    plt.show()"
   ]
  },
  {
   "cell_type": "code",
   "execution_count": null,
   "metadata": {
    "colab": {
     "base_uri": "https://localhost:8080/",
     "height": 354
    },
    "colab_type": "code",
    "id": "vtikNcAAopfi",
    "outputId": "2455725b-b89b-484b-f454-d5c4ea75acbc"
   },
   "outputs": [],
   "source": [
    "plot_corr_subplots(df,'market_value',pairplot_columns,4,4)"
   ]
  },
  {
   "cell_type": "markdown",
   "metadata": {
    "colab_type": "text",
    "id": "TSovDF6Uopfo"
   },
   "source": [
    "As we can see from the plots above, there are not many clear relationships that can be identified between the ``market_value`` feature and the numerical features of the dataset. This implies that performance of the model will rely heavily on an efficient encoding of non-numerical data, such as genre, style, artist etc. in order to be able to predict the market value of a given record with any certainty."
   ]
  },
  {
   "cell_type": "code",
   "execution_count": null,
   "metadata": {
    "colab": {},
    "colab_type": "code",
    "id": "WznHVQc4opfo"
   },
   "outputs": [],
   "source": [
    "def get_correlation_series(df,correlation_column,columns=None):\n",
    "    df = df.copy()\n",
    "    \n",
    "    if not columns:\n",
    "        columns = df.columns\n",
    "    \n",
    "    return pd.Series({\n",
    "        column: np.corrcoef(\n",
    "            df[correlation_column].values,\n",
    "            df[column].values\n",
    "        )[0][1]\n",
    "        for column in columns\n",
    "    })"
   ]
  },
  {
   "cell_type": "code",
   "execution_count": null,
   "metadata": {
    "colab": {},
    "colab_type": "code",
    "id": "0hZ86aXdopfs"
   },
   "outputs": [],
   "source": [
    "market_value_indicator_correlations = get_correlation_series(df,'market_value',column_store._indicator)"
   ]
  },
  {
   "cell_type": "code",
   "execution_count": null,
   "metadata": {
    "colab": {},
    "colab_type": "code",
    "id": "4CenNr_7opfv"
   },
   "outputs": [],
   "source": [
    "market_value_indicator_correlations.describe()"
   ]
  },
  {
   "cell_type": "markdown",
   "metadata": {
    "colab_type": "text",
    "id": "KNI80KKxopfz"
   },
   "source": [
    "From the above, it is clear that the indicator variables are not very highly correlated with ``market_value`` either. As such, we hope that via the leveraging of the multitude of categorical variables, we can improve the result of our price predictions"
   ]
  },
  {
   "cell_type": "code",
   "execution_count": null,
   "metadata": {
    "colab": {},
    "colab_type": "code",
    "id": "Ad16quzHopf0"
   },
   "outputs": [],
   "source": [
    "sign = market_value_indicator_correlations.apply(lambda x: 'positive' if x >= 0 else 'negative')\n",
    "market_value_indicator_correlations = pd.DataFrame(\n",
    "    {'correlation': market_value_indicator_correlations.abs().values,'Sign': sign.values},\n",
    "    index = market_value_indicator_correlations.index\n",
    ")"
   ]
  },
  {
   "cell_type": "code",
   "execution_count": null,
   "metadata": {
    "colab": {},
    "colab_type": "code",
    "id": "GKd3TNdbopf6"
   },
   "outputs": [],
   "source": [
    "market_value_indicator_correlations.sort_values(by='correlation',ascending=False).head(25)"
   ]
  },
  {
   "cell_type": "markdown",
   "metadata": {
    "colab_type": "text",
    "id": "B9d_SiUcopf9"
   },
   "source": [
    "As we can see by investigating the top correlations, albums from Japan in particular seem to be the most highly correlated with market value, followed by the formats of Vinyl and CD. Interestingly, there seems to be a positive correlation on price for Vinyl albums, and a negative correlation for CDs, which is what one would generally expect. We also observe that limited edition and reissued albums tend to be priced higher, which also makes sense. An interesting takeaway is that albums from europe and north america tend to be negatively correlated with price, which may be linked to their dominance in the genre and the sheer volume of albums they release. Furthermore, we see that the Hard Bop and Modal jazz styles tend to be the most positively correlated with ``market_value``, which is also understandable, given that these were the dominant styles during the modern jazz era, which defines the genre as a whole."
   ]
  },
  {
   "cell_type": "markdown",
   "metadata": {
    "colab_type": "text",
    "id": "0Pe6u5Jcopf-"
   },
   "source": [
    "## Genres"
   ]
  },
  {
   "cell_type": "code",
   "execution_count": null,
   "metadata": {
    "colab": {},
    "colab_type": "code",
    "id": "gMUGSqk6opf-"
   },
   "outputs": [],
   "source": [
    "genre_sum = df[column_store._genre].sum().sort_values(ascending=False)"
   ]
  },
  {
   "cell_type": "code",
   "execution_count": null,
   "metadata": {
    "colab": {},
    "colab_type": "code",
    "id": "ynXAj6pyopgC"
   },
   "outputs": [],
   "source": [
    "plt.figure(figsize=(20,10))\n",
    "plt.xlabel('Additional Genre')\n",
    "plt.ylabel('# of Albums')\n",
    "plt.xticks(rotation=30)\n",
    "plt.bar(genre_sum.index,genre_sum);\n",
    "plt.show()"
   ]
  },
  {
   "cell_type": "code",
   "execution_count": null,
   "metadata": {
    "colab": {},
    "colab_type": "code",
    "id": "ngGY4gf_opgF"
   },
   "outputs": [],
   "source": [
    "#How many 'pure' jazz albums\n",
    "pure_jazz_albums = len(df[df[column_store._genre].sum(axis=1)==0])\n",
    "print('There are {} albums which exclusively list Jazz as a genre, {}% of the dataset'.format(pure_jazz_albums,round(100*pure_jazz_albums/len(df),2)))"
   ]
  },
  {
   "cell_type": "markdown",
   "metadata": {
    "colab_type": "text",
    "id": "HLGvjqVuopgO"
   },
   "source": [
    "## Styles"
   ]
  },
  {
   "cell_type": "code",
   "execution_count": null,
   "metadata": {
    "colab": {},
    "colab_type": "code",
    "id": "6RjL1fNHopgO"
   },
   "outputs": [],
   "source": [
    "style_sum = df[column_store._style].sum()"
   ]
  },
  {
   "cell_type": "code",
   "execution_count": null,
   "metadata": {
    "colab": {},
    "colab_type": "code",
    "id": "cNmzyRIOopgS"
   },
   "outputs": [],
   "source": [
    "style_sum.describe()"
   ]
  },
  {
   "cell_type": "code",
   "execution_count": null,
   "metadata": {
    "colab": {},
    "colab_type": "code",
    "id": "Dqccfd9HopgV"
   },
   "outputs": [],
   "source": [
    "style_sum_top_10 = style_sum[style_sum > style_sum.quantile(0.9)].sort_values(ascending=False)"
   ]
  },
  {
   "cell_type": "code",
   "execution_count": null,
   "metadata": {
    "colab": {},
    "colab_type": "code",
    "id": "Y6Vdx85EopgZ"
   },
   "outputs": [],
   "source": [
    "plt.figure(figsize=(25,10))\n",
    "plt.xlabel('Listed Styles')\n",
    "plt.ylabel('# of Albums')\n",
    "plt.xticks(rotation=90)\n",
    "plt.bar(style_sum_top_10.index,style_sum_top_10)\n",
    "plt.show()"
   ]
  },
  {
   "cell_type": "markdown",
   "metadata": {
    "colab_type": "text",
    "id": "-CnM87HVopgd"
   },
   "source": [
    "As some of the estimators we will use as part of our estimation are sensitive to excessive dimensionality, we will implement a transformer which retains only those indicator variables which are positive for over a certain threshold of entries. This is introduced below as the IndicatorConsolidator transformer."
   ]
  },
  {
   "cell_type": "code",
   "execution_count": null,
   "metadata": {
    "colab": {},
    "colab_type": "code",
    "id": "9cnuP_dCopgd"
   },
   "outputs": [],
   "source": [
    "style_consolidator = IndicatorConsolidator(columns=column_store._style,output_column='style_Other',threshold=250,counter_name='counter_style')"
   ]
  },
  {
   "cell_type": "code",
   "execution_count": null,
   "metadata": {
    "colab": {
     "base_uri": "https://localhost:8080/",
     "height": 35
    },
    "colab_type": "code",
    "id": "wQOwXctaopgh",
    "outputId": "a1cb6098-c40c-440a-e58f-b5c052ab2ed9"
   },
   "outputs": [],
   "source": [
    "df[column_store._style].sum().median()"
   ]
  },
  {
   "cell_type": "code",
   "execution_count": null,
   "metadata": {
    "colab": {
     "base_uri": "https://localhost:8080/",
     "height": 424
    },
    "colab_type": "code",
    "id": "kke9Zk9Lopgk",
    "outputId": "90f8546a-9ce6-4975-9b1b-e42305ae36d7"
   },
   "outputs": [],
   "source": [
    "style_consolidator.fit_transform(df)[['style_Other','counter_style']]"
   ]
  },
  {
   "cell_type": "markdown",
   "metadata": {
    "colab_type": "text",
    "id": "ag2mPWvlopgn"
   },
   "source": [
    "## Format Description"
   ]
  },
  {
   "cell_type": "code",
   "execution_count": null,
   "metadata": {
    "colab": {
     "base_uri": "https://localhost:8080/",
     "height": 178
    },
    "colab_type": "code",
    "id": "Uws65qn6opgp",
    "outputId": "1b988eea-86a7-4e4e-d09b-4a7cfb4e11a5"
   },
   "outputs": [],
   "source": [
    "format_description_sum = df[column_store._format_description].sum().sort_values(ascending=False)\n",
    "format_description_sum.describe()"
   ]
  },
  {
   "cell_type": "code",
   "execution_count": null,
   "metadata": {
    "colab": {
     "base_uri": "https://localhost:8080/",
     "height": 483
    },
    "colab_type": "code",
    "id": "LX7EHKu2opgs",
    "outputId": "c36797fa-ebcf-47be-e9fe-7bdf3c5ac742"
   },
   "outputs": [],
   "source": [
    "format_description_sum.iloc[:25]"
   ]
  },
  {
   "cell_type": "code",
   "execution_count": null,
   "metadata": {
    "colab": {},
    "colab_type": "code",
    "id": "4DPGyWbMophA"
   },
   "outputs": [],
   "source": [
    "description_consolidator = IndicatorConsolidator(columns=column_store._format_description,output_column='format_description_Other',threshold=None,counter_name='counter_format_description')"
   ]
  },
  {
   "cell_type": "code",
   "execution_count": null,
   "metadata": {
    "colab": {
     "base_uri": "https://localhost:8080/"
    },
    "colab_type": "code",
    "id": "5iTGO-wKophE",
    "outputId": "04dd6656-0a13-49d1-a36f-2889199bdd2e"
   },
   "outputs": [],
   "source": [
    "description_consolidator.fit_transform(df)"
   ]
  },
  {
   "cell_type": "markdown",
   "metadata": {
    "colab_type": "text",
    "id": "tmygW_biophH"
   },
   "source": [
    "## Format Text"
   ]
  },
  {
   "cell_type": "code",
   "execution_count": null,
   "metadata": {
    "colab": {
     "base_uri": "https://localhost:8080/"
    },
    "colab_type": "code",
    "id": "OGauOQVXophH",
    "outputId": "d0ff82a2-8b57-4d36-cf15-cc2791e5522e"
   },
   "outputs": [],
   "source": [
    "format_name_sum = pd.get_dummies(df['format_name']).sum().sort_values(ascending=False)\n",
    "format_name_sum.describe()"
   ]
  },
  {
   "cell_type": "code",
   "execution_count": null,
   "metadata": {
    "colab": {
     "base_uri": "https://localhost:8080/"
    },
    "colab_type": "code",
    "id": "s_Se_WvZophK",
    "outputId": "a00ccd02-b00f-4b8d-fe55-8356d0dc8532"
   },
   "outputs": [],
   "source": [
    "plt.figure(figsize=(25,10))\n",
    "plt.xlabel('Format Names')\n",
    "plt.ylabel('# of Albums')\n",
    "plt.xticks(rotation=90)\n",
    "plt.bar(format_name_sum.index,format_name_sum)\n",
    "plt.show()"
   ]
  },
  {
   "cell_type": "markdown",
   "metadata": {
    "colab_type": "text",
    "id": "lacNJ3rVophN"
   },
   "source": [
    "From the above, we can see that it would be wise to reduce the ``format_name`` indicator variable dimensionality, as there are really three non-trivially large format categories, namely ``CD``, ``Vinyl`` and ``Cassette``. The rest we will combine into an ``Other`` indicator. We will also combine ``CD`` and ``CDr``, as these formats are essentially equivalent"
   ]
  },
  {
   "cell_type": "code",
   "execution_count": null,
   "metadata": {
    "colab": {
     "base_uri": "https://localhost:8080/"
    },
    "colab_type": "code",
    "id": "AS1vpY1oophO",
    "outputId": "652f3f2d-fade-49d6-897b-a35b76867e52"
   },
   "outputs": [],
   "source": [
    "format_name_consolidator = IndicatorConsolidator(output_column='format_name_other',threshold=5000)\n",
    "format_name_consolidator.fit_transform(pd.get_dummies(df['format_name']))"
   ]
  },
  {
   "cell_type": "markdown",
   "metadata": {
    "colab_type": "text",
    "id": "4V08yGfEophS"
   },
   "source": [
    "## Mapping Most Albums"
   ]
  },
  {
   "cell_type": "code",
   "execution_count": null,
   "metadata": {
    "colab": {
     "base_uri": "https://localhost:8080/",
     "height": 571
    },
    "colab_type": "code",
    "id": "la292RwmophT",
    "outputId": "34271260-3654-4105-ef09-4dbbcd1170f4"
   },
   "outputs": [],
   "source": [
    "map_df = gpd.read_file(os.path.join(DATA_PATH,'countries/ne_110m_admin_0_countries.shp'))"
   ]
  },
  {
   "cell_type": "code",
   "execution_count": null,
   "metadata": {
    "colab": {},
    "colab_type": "code",
    "id": "AR8OJFK9ophW"
   },
   "outputs": [],
   "source": [
    "visualization_countries = list(filter(lambda x: x not in ['country_yugoslavia','country_ussr','country_taiwan'],column_store._geography_country))\n",
    "country_album_count = df[visualization_countries].sum()"
   ]
  },
  {
   "cell_type": "code",
   "execution_count": null,
   "metadata": {
    "colab": {},
    "colab_type": "code",
    "id": "kNRpSjb5ophZ"
   },
   "outputs": [],
   "source": [
    "'Unknown' in df['country'].unique()"
   ]
  },
  {
   "cell_type": "code",
   "execution_count": null,
   "metadata": {
    "colab": {},
    "colab_type": "code",
    "id": "uekOwdhPophc"
   },
   "outputs": [],
   "source": [
    "def assign_country_codes(country):\n",
    "    try:\n",
    "        return COUNTRY_CODES[country.split('_')[-1]]\n",
    "    except KeyError as e:\n",
    "        print(country)\n",
    "        return '000'"
   ]
  },
  {
   "cell_type": "code",
   "execution_count": null,
   "metadata": {
    "colab": {},
    "colab_type": "code",
    "id": "mPEYhgIFophg"
   },
   "outputs": [],
   "source": [
    "country_codes = pd.Series(tuple(map(assign_country_codes,visualization_countries)),index=visualization_countries)"
   ]
  },
  {
   "cell_type": "code",
   "execution_count": null,
   "metadata": {
    "colab": {},
    "colab_type": "code",
    "id": "J18mANJlophl"
   },
   "outputs": [],
   "source": [
    "country_df = pd.DataFrame(country_album_count)"
   ]
  },
  {
   "cell_type": "code",
   "execution_count": null,
   "metadata": {
    "colab": {},
    "colab_type": "code",
    "id": "IQfVM6uYophp"
   },
   "outputs": [],
   "source": [
    "country_df['codes'] = country_codes"
   ]
  },
  {
   "cell_type": "code",
   "execution_count": null,
   "metadata": {
    "colab": {},
    "colab_type": "code",
    "id": "1OY5HtkYophr"
   },
   "outputs": [],
   "source": [
    "country_df['ISO_A3'] = country_df.loc[:,'codes'].map(M49_TO_ISO3) "
   ]
  },
  {
   "cell_type": "code",
   "execution_count": null,
   "metadata": {
    "colab": {},
    "colab_type": "code",
    "id": "blpuGjcnopht",
    "outputId": "04b2c082-1fc1-4b4a-fa22-413878def926"
   },
   "outputs": [],
   "source": [
    "country_df.sort_values(0,ascending=False)"
   ]
  },
  {
   "cell_type": "code",
   "execution_count": null,
   "metadata": {
    "colab": {},
    "colab_type": "code",
    "id": "E0rwj1wSophx"
   },
   "outputs": [],
   "source": [
    "merge = map_df.set_index('ISO_A3').join(country_df.set_index('ISO_A3'))"
   ]
  },
  {
   "cell_type": "code",
   "execution_count": null,
   "metadata": {
    "colab": {},
    "colab_type": "code",
    "id": "N9LcSCguophz"
   },
   "outputs": [],
   "source": [
    "merge.fillna(0,inplace=True)"
   ]
  },
  {
   "cell_type": "code",
   "execution_count": null,
   "metadata": {
    "colab": {},
    "colab_type": "code",
    "id": "9NZZ0SuJoph1",
    "outputId": "774564c9-daa8-4b1d-d3b3-25486692bb59"
   },
   "outputs": [],
   "source": [
    "vmin, vmax = min(merge[0]),max(merge[0])\n",
    "fig, ax = plt.subplots(1,figsize=(20,20))\n",
    "merge.plot(column=0,cmap='gnuplot',linewidth=0.8,ax=ax,edgecolor='0.8')\n",
    "ax.axis('off')\n",
    "sm = plt.cm.ScalarMappable(cmap='gnuplot',norm=plt.Normalize(vmin=vmin,vmax=vmax))\n",
    "sm._a = []\n",
    "divider = make_axes_locatable(ax)\n",
    "cax = divider.append_axes(\"right\", size=\"5%\", pad=0.05)\n",
    "cbar = fig.colorbar(sm,cax=cax)\n",
    "plt.show()"
   ]
  },
  {
   "cell_type": "markdown",
   "metadata": {
    "colab_type": "text",
    "id": "5KgG8UwCoph4"
   },
   "source": [
    "# High Level Features\n",
    "## Loading and Cleaning"
   ]
  },
  {
   "cell_type": "code",
   "execution_count": null,
   "metadata": {
    "colab": {},
    "colab_type": "code",
    "id": "mawl6Unxoph4"
   },
   "outputs": [],
   "source": [
    "with np.load(os.path.join(DATA_PATH,'high_level_features_labelled.npz')) as data:\n",
    "    image_embedding_df = pd.concat([pd.DataFrame(data[section]) for section in ('release_id','bitmap','features')],axis=1)\n",
    "    image_embedding_df.columns = ['release_id', 'bitmap'] + ['feature_%s' % i for i in range(1,1281)]"
   ]
  },
  {
   "cell_type": "code",
   "execution_count": null,
   "metadata": {
    "colab": {},
    "colab_type": "code",
    "id": "MvRnb99Foph7"
   },
   "outputs": [],
   "source": [
    "df = df.merge(image_embedding_df,on='release_id',how='inner')"
   ]
  },
  {
   "cell_type": "code",
   "execution_count": null,
   "metadata": {
    "colab": {},
    "colab_type": "code",
    "id": "jWS-fGRWoph9"
   },
   "outputs": [],
   "source": [
    "del image_embedding_df"
   ]
  },
  {
   "cell_type": "code",
   "execution_count": null,
   "metadata": {
    "colab": {
     "base_uri": "https://localhost:8080/",
     "height": 67,
     "referenced_widgets": [
      "325da045969947faa3741dfa8f17774b",
      "0c8b52068b5c443ab22eb9601a6dde71",
      "7c2545200060433b88a19080dc0b3b91",
      "6fe034f64775465b871f41a2b20989ae",
      "b06988289b1c4b15866cd29c4d03180c",
      "882658c5a5874436a205957a6631f737",
      "c9e334bd1cc24bf68162ad611ef56434",
      "365f6c34fe9c43ff81d335d26c731858"
     ]
    },
    "colab_type": "code",
    "id": "Xf5ZRlbvopiA",
    "outputId": "8ea1490c-dcfd-4d51-9658-aa443ed7b567"
   },
   "outputs": [],
   "source": [
    "col_set['image_embedding'] = 'feature_'\n",
    "column_store = ColumnStore()\n",
    "column_store.fit(df,col_set)"
   ]
  },
  {
   "cell_type": "code",
   "execution_count": null,
   "metadata": {
    "colab": {},
    "colab_type": "code",
    "id": "vNb-CwjP3iTS"
   },
   "outputs": [],
   "source": [
    "from cuml import UMAP"
   ]
  },
  {
   "cell_type": "code",
   "execution_count": null,
   "metadata": {
    "colab": {},
    "colab_type": "code",
    "id": "pWjg-xrrZBPA"
   },
   "outputs": [],
   "source": [
    "scaler = StandardScaler()\n",
    "image_embeddings_scaled = scaler.fit_transform(df.loc[:,sorted(list(column_store._image_embedding))])"
   ]
  },
  {
   "cell_type": "code",
   "execution_count": null,
   "metadata": {
    "colab": {},
    "colab_type": "code",
    "id": "v6WcM9iSopiC"
   },
   "outputs": [],
   "source": [
    "#Defining PCA and UMAP transformers\n",
    "pca_2d = PCA(n_components=2)\n",
    "umap_2d = UMAP(n_components=2)"
   ]
  },
  {
   "cell_type": "code",
   "execution_count": null,
   "metadata": {
    "colab": {
     "base_uri": "https://localhost:8080/",
     "height": 109
    },
    "colab_type": "code",
    "id": "XuuUjSmcopiH",
    "outputId": "26bfd9d4-9d3a-453e-896e-87c911782f1f"
   },
   "outputs": [],
   "source": [
    "pca_2d_output = pca_2d.fit_transform(image_embeddings_scaled)\n",
    "umap_2d_output = umap_2d.fit_transform(image_embeddings_scaled)"
   ]
  },
  {
   "cell_type": "code",
   "execution_count": null,
   "metadata": {
    "colab": {},
    "colab_type": "code",
    "id": "XOHWU79zbk4n"
   },
   "outputs": [],
   "source": [
    "for embedding in ('pca_2d','umap_2d'):\n",
    "    col_set[embedding] = ''.join([embedding,'_'])"
   ]
  },
  {
   "cell_type": "code",
   "execution_count": null,
   "metadata": {
    "colab": {},
    "colab_type": "code",
    "id": "PjwLYiynopik"
   },
   "outputs": [],
   "source": [
    "df = pd.concat(\n",
    "    [df,\n",
    "     pd.DataFrame(pca_2d_output,columns=('pca_2d_0','pca_2d_1')),\n",
    "     pd.DataFrame(umap_2d_output,columns=('umap_2d_0','umap_2d_1')),\n",
    "    ],\n",
    "    axis=1)"
   ]
  },
  {
   "cell_type": "code",
   "execution_count": null,
   "metadata": {
    "colab": {
     "base_uri": "https://localhost:8080/",
     "height": 67,
     "referenced_widgets": [
      "57d8fdb9c1a048f0b3cee04a3b4f0402",
      "3095ceae62c4464a9c686f784a7967ea",
      "10fb401bd3ae4b289110841b43f44be5",
      "a5ae70e917ec475d93365eb0be250ecd",
      "f5216e4d25024d8bae51ce8570c957a5",
      "87680f61830c4b0394b3dcfa53c15401",
      "9061c6550cb74aa984941741dff2d807",
      "86e8312b6c0b449f8208a8bec0033c3b"
     ]
    },
    "colab_type": "code",
    "id": "VBcTIUaDcBiP",
    "outputId": "90d481c8-7d55-4129-e87e-96ed60a6f246"
   },
   "outputs": [],
   "source": [
    "column_store.fit(df,col_set)"
   ]
  },
  {
   "cell_type": "code",
   "execution_count": null,
   "metadata": {
    "colab": {},
    "colab_type": "code",
    "id": "yfzRAOKLopim"
   },
   "outputs": [],
   "source": [
    "def get_cmap(n, name='hsv'):\n",
    "    return plt.cm.get_cmap(name, n)"
   ]
  },
  {
   "cell_type": "code",
   "execution_count": null,
   "metadata": {
    "colab": {},
    "colab_type": "code",
    "id": "o90aCWzbopis"
   },
   "outputs": [],
   "source": [
    "def plot_indicator_2d(df, columns,embedding_columns=None,**kwargs):\n",
    "    df = df.copy()\n",
    "    if not embedding_columns:\n",
    "        embedding_columns = list(filter(lambda x: 'embedding_2d' in x,df.columns))\n",
    "    cmap = get_cmap(len(columns))\n",
    "    plt.figure(figsize=(10,10))\n",
    "    \n",
    "    if kwargs.get('colors'):\n",
    "        colors = kwargs.get('colors')\n",
    "    else:\n",
    "        cmap = get_cmap(len(columns))\n",
    "        colors = [cmap(index) for index in range(len(columns))]  \n",
    "    \n",
    "    for index,column in enumerate(columns):\n",
    "        column_embedding = df[df[column]==1][embedding_columns]\n",
    "        plt.scatter(\n",
    "            column_embedding.iloc[:,0],\n",
    "            column_embedding.iloc[:,1],\n",
    "            label=column.split('_')[-1],\n",
    "            color=colors[index],\n",
    "            alpha=0.25,\n",
    "            edgecolor='white'\n",
    "        )\n",
    "    \n",
    "    plt.legend()"
   ]
  },
  {
   "cell_type": "code",
   "execution_count": null,
   "metadata": {
    "colab": {
     "base_uri": "https://localhost:8080/",
     "height": 591
    },
    "colab_type": "code",
    "id": "8cZNY7RHopiv",
    "outputId": "b28b21eb-4d8c-4e62-e5ef-d3b5686002a0"
   },
   "outputs": [],
   "source": [
    "plot_indicator_2d(df,column_store._geography_superregion,column_store._pca_2d)"
   ]
  },
  {
   "cell_type": "code",
   "execution_count": null,
   "metadata": {
    "colab": {
     "base_uri": "https://localhost:8080/",
     "height": 591
    },
    "colab_type": "code",
    "id": "KtDeV0VblIzi",
    "outputId": "b37bea6b-ae06-4c5d-8847-ab44a005debb"
   },
   "outputs": [],
   "source": [
    "plot_indicator_2d(df,column_store._geography_superregion,column_store._umap_2d)"
   ]
  },
  {
   "cell_type": "code",
   "execution_count": null,
   "metadata": {
    "colab": {
     "base_uri": "https://localhost:8080/",
     "height": 683
    },
    "colab_type": "code",
    "id": "eTG0ZzLQhAfV",
    "outputId": "07585c71-1ffe-4215-a1bf-3d7a6261586b"
   },
   "outputs": [],
   "source": [
    "outlier_remover = OutlierRemover(features=column_store._umap_2d)\n",
    "plot_indicator_2d(outlier_remover.fit_transform(df),column_store._geography_superregion,column_store._umap_2d)"
   ]
  },
  {
   "cell_type": "code",
   "execution_count": null,
   "metadata": {
    "colab": {
     "base_uri": "https://localhost:8080/",
     "height": 107
    },
    "colab_type": "code",
    "id": "_bPCLIRVopix",
    "outputId": "461b992a-0c25-4f7a-8ba0-d78c22386fef"
   },
   "outputs": [],
   "source": [
    "df['market_value'].quantile([0.25,0.5,0.75,1])"
   ]
  },
  {
   "cell_type": "code",
   "execution_count": null,
   "metadata": {
    "colab": {},
    "colab_type": "code",
    "id": "n-WNDQNdopi0"
   },
   "outputs": [],
   "source": [
    "def identify_quantile(x,lower,upper):\n",
    "    if x >= lower and x <= upper:\n",
    "        return 1\n",
    "    return 0"
   ]
  },
  {
   "cell_type": "code",
   "execution_count": null,
   "metadata": {
    "colab": {},
    "colab_type": "code",
    "id": "n6ofEK3gopi2"
   },
   "outputs": [],
   "source": [
    "for quantile in [0.25,0.5,0.75,1]:\n",
    "    df['market_value_quantile_%s' % quantile] = df['market_value'].apply(identify_quantile,lower=df['market_value'].quantile(quantile-0.25),upper=df['market_value'].quantile(quantile))"
   ]
  },
  {
   "cell_type": "code",
   "execution_count": null,
   "metadata": {
    "colab": {
     "base_uri": "https://localhost:8080/",
     "height": 300
    },
    "colab_type": "code",
    "id": "avVK2_AIopi3",
    "outputId": "dd9ccf0b-383c-4071-e323-2110dd7b6000"
   },
   "outputs": [],
   "source": [
    "market_value_quantiles = list(filter(lambda x: 'market_value_quantile' in x,df.columns))\n",
    "df[market_value_quantiles].describe()"
   ]
  },
  {
   "cell_type": "code",
   "execution_count": null,
   "metadata": {
    "colab": {
     "base_uri": "https://localhost:8080/",
     "height": 591
    },
    "colab_type": "code",
    "id": "v-EWxqfKmUAZ",
    "outputId": "fb7215ba-0721-4108-c859-e604ed848ffa"
   },
   "outputs": [],
   "source": [
    "plot_indicator_2d(df,market_value_quantiles,column_store._pca_2d)"
   ]
  },
  {
   "cell_type": "code",
   "execution_count": null,
   "metadata": {
    "colab": {
     "base_uri": "https://localhost:8080/",
     "height": 683
    },
    "colab_type": "code",
    "id": "b4iarW7WmT6Y",
    "outputId": "ed34fa99-3695-4231-fb59-dbb7277194e7"
   },
   "outputs": [],
   "source": [
    "plot_indicator_2d(outlier_remover.fit_transform(df),market_value_quantiles,column_store._umap_2d)"
   ]
  },
  {
   "cell_type": "code",
   "execution_count": null,
   "metadata": {
    "colab": {
     "base_uri": "https://localhost:8080/",
     "height": 591
    },
    "colab_type": "code",
    "id": "YnyWyB5EmT09",
    "outputId": "84ef5461-b5cc-4d80-bd84-93be1472e3f7"
   },
   "outputs": [],
   "source": [
    "plot_indicator_2d(df,column_store._genre,column_store._pca_2d)"
   ]
  },
  {
   "cell_type": "code",
   "execution_count": null,
   "metadata": {
    "colab": {
     "base_uri": "https://localhost:8080/",
     "height": 591
    },
    "colab_type": "code",
    "id": "Zl2zcjMPmTvD",
    "outputId": "793c0b22-c34d-46ca-c10e-deb15f69eec5"
   },
   "outputs": [],
   "source": [
    "plot_indicator_2d(outlier_remover.fit_transform(df),column_store._genre,column_store._umap_2d)"
   ]
  },
  {
   "cell_type": "code",
   "execution_count": null,
   "metadata": {
    "colab": {
     "base_uri": "https://localhost:8080/",
     "height": 591
    },
    "colab_type": "code",
    "id": "1MwDjDOFmTmh",
    "outputId": "3ae69fc2-2cef-4cb1-df5a-c7b7a9022cb2"
   },
   "outputs": [],
   "source": [
    "plot_indicator_2d(df,column_store._timeperiod_era,column_store._pca_2d)"
   ]
  },
  {
   "cell_type": "code",
   "execution_count": null,
   "metadata": {
    "colab": {
     "base_uri": "https://localhost:8080/",
     "height": 683
    },
    "colab_type": "code",
    "id": "ZtQinwZmnZ35",
    "outputId": "edbb433d-eea2-4c7f-f71c-5a8874e682c7"
   },
   "outputs": [],
   "source": [
    "plot_indicator_2d(outlier_remover.fit_transform(df),column_store._timeperiod_era,column_store._umap_2d)"
   ]
  },
  {
   "cell_type": "code",
   "execution_count": null,
   "metadata": {
    "colab": {
     "base_uri": "https://localhost:8080/",
     "height": 591
    },
    "colab_type": "code",
    "id": "Lrxk3snVnZyZ",
    "outputId": "d58d71f6-94ad-46fd-84bd-66f26f0988a9"
   },
   "outputs": [],
   "source": [
    "plot_indicator_2d(df,column_store._timeperiod_period,column_store._pca_2d)"
   ]
  },
  {
   "cell_type": "code",
   "execution_count": null,
   "metadata": {
    "colab": {
     "base_uri": "https://localhost:8080/",
     "height": 683
    },
    "colab_type": "code",
    "id": "yqTD8mz1nZtr",
    "outputId": "3ba67ada-daf8-4a09-d94a-83b78c6c3976"
   },
   "outputs": [],
   "source": [
    "plot_indicator_2d(outlier_remover.fit_transform(df),column_store._timeperiod_period,column_store._umap_2d)"
   ]
  },
  {
   "cell_type": "markdown",
   "metadata": {
    "colab_type": "text",
    "id": "Wn79XnBqorDZ"
   },
   "source": [
    "From the above visualizations of the high-level features obtained from the pre-trained computer vision model, we see that there are no clear lines to draw among the dimensionally reduced embeddings according to the indicators we are using in this analysis. While this is unfortunate, it is not completely unexpected, as cover images can vary essentially limitlessly and as such grouping them together according to our indicators is a difficult task to say the least. Nonetheless, we'll use these embeddings as input features for our machine learning models, after reducing the dimensions to 10. For this purpose we will use UMAP, as it seems to perform better in the 2d visualization scenario, being able to separate data points more effectively, and in less of a jammed together fashion as in the PCA examples."
   ]
  }
 ],
 "metadata": {
  "accelerator": "GPU",
  "colab": {
   "include_colab_link": true,
   "machine_shape": "hm",
   "name": "02-Visualization&Cleaning.ipynb",
   "provenance": [],
   "toc_visible": true
  },
  "kernelspec": {
   "display_name": "Python 3",
   "language": "python",
   "name": "python3"
  },
  "language_info": {
   "codemirror_mode": {
    "name": "ipython",
    "version": 3
   },
   "file_extension": ".py",
   "mimetype": "text/x-python",
   "name": "python",
   "nbconvert_exporter": "python",
   "pygments_lexer": "ipython3",
   "version": "3.6.10"
  },
  "widgets": {
   "application/vnd.jupyter.widget-state+json": {
    "0b170269c940423795943290470cfa44": {
     "model_module": "@jupyter-widgets/controls",
     "model_name": "HBoxModel",
     "state": {
      "_dom_classes": [],
      "_model_module": "@jupyter-widgets/controls",
      "_model_module_version": "1.5.0",
      "_model_name": "HBoxModel",
      "_view_count": null,
      "_view_module": "@jupyter-widgets/controls",
      "_view_module_version": "1.5.0",
      "_view_name": "HBoxView",
      "box_style": "",
      "children": [
       "IPY_MODEL_eece4c1c7a79404b9eedf69cd2401ff4",
       "IPY_MODEL_441639bf53214859bf77afd1ede50ba9"
      ],
      "layout": "IPY_MODEL_1e316c6b48e14f9caed39578e8921d11"
     }
    },
    "0c8b52068b5c443ab22eb9601a6dde71": {
     "model_module": "@jupyter-widgets/base",
     "model_name": "LayoutModel",
     "state": {
      "_model_module": "@jupyter-widgets/base",
      "_model_module_version": "1.2.0",
      "_model_name": "LayoutModel",
      "_view_count": null,
      "_view_module": "@jupyter-widgets/base",
      "_view_module_version": "1.2.0",
      "_view_name": "LayoutView",
      "align_content": null,
      "align_items": null,
      "align_self": null,
      "border": null,
      "bottom": null,
      "display": null,
      "flex": null,
      "flex_flow": null,
      "grid_area": null,
      "grid_auto_columns": null,
      "grid_auto_flow": null,
      "grid_auto_rows": null,
      "grid_column": null,
      "grid_gap": null,
      "grid_row": null,
      "grid_template_areas": null,
      "grid_template_columns": null,
      "grid_template_rows": null,
      "height": null,
      "justify_content": null,
      "justify_items": null,
      "left": null,
      "margin": null,
      "max_height": null,
      "max_width": null,
      "min_height": null,
      "min_width": null,
      "object_fit": null,
      "object_position": null,
      "order": null,
      "overflow": null,
      "overflow_x": null,
      "overflow_y": null,
      "padding": null,
      "right": null,
      "top": null,
      "visibility": null,
      "width": null
     }
    },
    "10fb401bd3ae4b289110841b43f44be5": {
     "model_module": "@jupyter-widgets/controls",
     "model_name": "IntProgressModel",
     "state": {
      "_dom_classes": [],
      "_model_module": "@jupyter-widgets/controls",
      "_model_module_version": "1.5.0",
      "_model_name": "IntProgressModel",
      "_view_count": null,
      "_view_module": "@jupyter-widgets/controls",
      "_view_module_version": "1.5.0",
      "_view_name": "ProgressView",
      "bar_style": "success",
      "description": "100%",
      "description_tooltip": null,
      "layout": "IPY_MODEL_87680f61830c4b0394b3dcfa53c15401",
      "max": 12,
      "min": 0,
      "orientation": "horizontal",
      "style": "IPY_MODEL_f5216e4d25024d8bae51ce8570c957a5",
      "value": 12
     }
    },
    "1715b19eb573446d8c1b122d91e20783": {
     "model_module": "@jupyter-widgets/controls",
     "model_name": "DescriptionStyleModel",
     "state": {
      "_model_module": "@jupyter-widgets/controls",
      "_model_module_version": "1.5.0",
      "_model_name": "DescriptionStyleModel",
      "_view_count": null,
      "_view_module": "@jupyter-widgets/base",
      "_view_module_version": "1.2.0",
      "_view_name": "StyleView",
      "description_width": ""
     }
    },
    "1d94de6d2baf4c738445bd36cb3bf5b1": {
     "model_module": "@jupyter-widgets/controls",
     "model_name": "ProgressStyleModel",
     "state": {
      "_model_module": "@jupyter-widgets/controls",
      "_model_module_version": "1.5.0",
      "_model_name": "ProgressStyleModel",
      "_view_count": null,
      "_view_module": "@jupyter-widgets/base",
      "_view_module_version": "1.2.0",
      "_view_name": "StyleView",
      "bar_color": null,
      "description_width": "initial"
     }
    },
    "1e316c6b48e14f9caed39578e8921d11": {
     "model_module": "@jupyter-widgets/base",
     "model_name": "LayoutModel",
     "state": {
      "_model_module": "@jupyter-widgets/base",
      "_model_module_version": "1.2.0",
      "_model_name": "LayoutModel",
      "_view_count": null,
      "_view_module": "@jupyter-widgets/base",
      "_view_module_version": "1.2.0",
      "_view_name": "LayoutView",
      "align_content": null,
      "align_items": null,
      "align_self": null,
      "border": null,
      "bottom": null,
      "display": null,
      "flex": null,
      "flex_flow": null,
      "grid_area": null,
      "grid_auto_columns": null,
      "grid_auto_flow": null,
      "grid_auto_rows": null,
      "grid_column": null,
      "grid_gap": null,
      "grid_row": null,
      "grid_template_areas": null,
      "grid_template_columns": null,
      "grid_template_rows": null,
      "height": null,
      "justify_content": null,
      "justify_items": null,
      "left": null,
      "margin": null,
      "max_height": null,
      "max_width": null,
      "min_height": null,
      "min_width": null,
      "object_fit": null,
      "object_position": null,
      "order": null,
      "overflow": null,
      "overflow_x": null,
      "overflow_y": null,
      "padding": null,
      "right": null,
      "top": null,
      "visibility": null,
      "width": null
     }
    },
    "3095ceae62c4464a9c686f784a7967ea": {
     "model_module": "@jupyter-widgets/base",
     "model_name": "LayoutModel",
     "state": {
      "_model_module": "@jupyter-widgets/base",
      "_model_module_version": "1.2.0",
      "_model_name": "LayoutModel",
      "_view_count": null,
      "_view_module": "@jupyter-widgets/base",
      "_view_module_version": "1.2.0",
      "_view_name": "LayoutView",
      "align_content": null,
      "align_items": null,
      "align_self": null,
      "border": null,
      "bottom": null,
      "display": null,
      "flex": null,
      "flex_flow": null,
      "grid_area": null,
      "grid_auto_columns": null,
      "grid_auto_flow": null,
      "grid_auto_rows": null,
      "grid_column": null,
      "grid_gap": null,
      "grid_row": null,
      "grid_template_areas": null,
      "grid_template_columns": null,
      "grid_template_rows": null,
      "height": null,
      "justify_content": null,
      "justify_items": null,
      "left": null,
      "margin": null,
      "max_height": null,
      "max_width": null,
      "min_height": null,
      "min_width": null,
      "object_fit": null,
      "object_position": null,
      "order": null,
      "overflow": null,
      "overflow_x": null,
      "overflow_y": null,
      "padding": null,
      "right": null,
      "top": null,
      "visibility": null,
      "width": null
     }
    },
    "325da045969947faa3741dfa8f17774b": {
     "model_module": "@jupyter-widgets/controls",
     "model_name": "HBoxModel",
     "state": {
      "_dom_classes": [],
      "_model_module": "@jupyter-widgets/controls",
      "_model_module_version": "1.5.0",
      "_model_name": "HBoxModel",
      "_view_count": null,
      "_view_module": "@jupyter-widgets/controls",
      "_view_module_version": "1.5.0",
      "_view_name": "HBoxView",
      "box_style": "",
      "children": [
       "IPY_MODEL_7c2545200060433b88a19080dc0b3b91",
       "IPY_MODEL_6fe034f64775465b871f41a2b20989ae"
      ],
      "layout": "IPY_MODEL_0c8b52068b5c443ab22eb9601a6dde71"
     }
    },
    "365f6c34fe9c43ff81d335d26c731858": {
     "model_module": "@jupyter-widgets/base",
     "model_name": "LayoutModel",
     "state": {
      "_model_module": "@jupyter-widgets/base",
      "_model_module_version": "1.2.0",
      "_model_name": "LayoutModel",
      "_view_count": null,
      "_view_module": "@jupyter-widgets/base",
      "_view_module_version": "1.2.0",
      "_view_name": "LayoutView",
      "align_content": null,
      "align_items": null,
      "align_self": null,
      "border": null,
      "bottom": null,
      "display": null,
      "flex": null,
      "flex_flow": null,
      "grid_area": null,
      "grid_auto_columns": null,
      "grid_auto_flow": null,
      "grid_auto_rows": null,
      "grid_column": null,
      "grid_gap": null,
      "grid_row": null,
      "grid_template_areas": null,
      "grid_template_columns": null,
      "grid_template_rows": null,
      "height": null,
      "justify_content": null,
      "justify_items": null,
      "left": null,
      "margin": null,
      "max_height": null,
      "max_width": null,
      "min_height": null,
      "min_width": null,
      "object_fit": null,
      "object_position": null,
      "order": null,
      "overflow": null,
      "overflow_x": null,
      "overflow_y": null,
      "padding": null,
      "right": null,
      "top": null,
      "visibility": null,
      "width": null
     }
    },
    "39157c7779e44678bd87aee77f91d68d": {
     "model_module": "@jupyter-widgets/controls",
     "model_name": "IntProgressModel",
     "state": {
      "_dom_classes": [],
      "_model_module": "@jupyter-widgets/controls",
      "_model_module_version": "1.5.0",
      "_model_name": "IntProgressModel",
      "_view_count": null,
      "_view_module": "@jupyter-widgets/controls",
      "_view_module_version": "1.5.0",
      "_view_name": "ProgressView",
      "bar_style": "success",
      "description": "",
      "description_tooltip": null,
      "layout": "IPY_MODEL_8c80135ebdfa4acdb4c2783e9ebd38e7",
      "max": 1,
      "min": 0,
      "orientation": "horizontal",
      "style": "IPY_MODEL_1d94de6d2baf4c738445bd36cb3bf5b1",
      "value": 1
     }
    },
    "441639bf53214859bf77afd1ede50ba9": {
     "model_module": "@jupyter-widgets/controls",
     "model_name": "HTMLModel",
     "state": {
      "_dom_classes": [],
      "_model_module": "@jupyter-widgets/controls",
      "_model_module_version": "1.5.0",
      "_model_name": "HTMLModel",
      "_view_count": null,
      "_view_module": "@jupyter-widgets/controls",
      "_view_module_version": "1.5.0",
      "_view_name": "HTMLView",
      "description": "",
      "description_tooltip": null,
      "layout": "IPY_MODEL_58569fcb3915426eaff7b612c0855d4d",
      "placeholder": "​",
      "style": "IPY_MODEL_1715b19eb573446d8c1b122d91e20783",
      "value": " 7/7 [00:03&lt;00:00,  2.29it/s]"
     }
    },
    "55ec3fec72b44bf6a001496e49d87242": {
     "model_module": "@jupyter-widgets/controls",
     "model_name": "HTMLModel",
     "state": {
      "_dom_classes": [],
      "_model_module": "@jupyter-widgets/controls",
      "_model_module_version": "1.5.0",
      "_model_name": "HTMLModel",
      "_view_count": null,
      "_view_module": "@jupyter-widgets/controls",
      "_view_module_version": "1.5.0",
      "_view_name": "HTMLView",
      "description": "",
      "description_tooltip": null,
      "layout": "IPY_MODEL_6198080a88dd46d09a1ecd41aff077bb",
      "placeholder": "​",
      "style": "IPY_MODEL_cc94c1d2ce204d88bcd4dbbd3e5120c2",
      "value": " 899112/? [00:17&lt;00:00, 52814.75it/s]"
     }
    },
    "57d8fdb9c1a048f0b3cee04a3b4f0402": {
     "model_module": "@jupyter-widgets/controls",
     "model_name": "HBoxModel",
     "state": {
      "_dom_classes": [],
      "_model_module": "@jupyter-widgets/controls",
      "_model_module_version": "1.5.0",
      "_model_name": "HBoxModel",
      "_view_count": null,
      "_view_module": "@jupyter-widgets/controls",
      "_view_module_version": "1.5.0",
      "_view_name": "HBoxView",
      "box_style": "",
      "children": [
       "IPY_MODEL_10fb401bd3ae4b289110841b43f44be5",
       "IPY_MODEL_a5ae70e917ec475d93365eb0be250ecd"
      ],
      "layout": "IPY_MODEL_3095ceae62c4464a9c686f784a7967ea"
     }
    },
    "58569fcb3915426eaff7b612c0855d4d": {
     "model_module": "@jupyter-widgets/base",
     "model_name": "LayoutModel",
     "state": {
      "_model_module": "@jupyter-widgets/base",
      "_model_module_version": "1.2.0",
      "_model_name": "LayoutModel",
      "_view_count": null,
      "_view_module": "@jupyter-widgets/base",
      "_view_module_version": "1.2.0",
      "_view_name": "LayoutView",
      "align_content": null,
      "align_items": null,
      "align_self": null,
      "border": null,
      "bottom": null,
      "display": null,
      "flex": null,
      "flex_flow": null,
      "grid_area": null,
      "grid_auto_columns": null,
      "grid_auto_flow": null,
      "grid_auto_rows": null,
      "grid_column": null,
      "grid_gap": null,
      "grid_row": null,
      "grid_template_areas": null,
      "grid_template_columns": null,
      "grid_template_rows": null,
      "height": null,
      "justify_content": null,
      "justify_items": null,
      "left": null,
      "margin": null,
      "max_height": null,
      "max_width": null,
      "min_height": null,
      "min_width": null,
      "object_fit": null,
      "object_position": null,
      "order": null,
      "overflow": null,
      "overflow_x": null,
      "overflow_y": null,
      "padding": null,
      "right": null,
      "top": null,
      "visibility": null,
      "width": null
     }
    },
    "5f826aaef10547a38b6b5216b49eebde": {
     "model_module": "@jupyter-widgets/base",
     "model_name": "LayoutModel",
     "state": {
      "_model_module": "@jupyter-widgets/base",
      "_model_module_version": "1.2.0",
      "_model_name": "LayoutModel",
      "_view_count": null,
      "_view_module": "@jupyter-widgets/base",
      "_view_module_version": "1.2.0",
      "_view_name": "LayoutView",
      "align_content": null,
      "align_items": null,
      "align_self": null,
      "border": null,
      "bottom": null,
      "display": null,
      "flex": null,
      "flex_flow": null,
      "grid_area": null,
      "grid_auto_columns": null,
      "grid_auto_flow": null,
      "grid_auto_rows": null,
      "grid_column": null,
      "grid_gap": null,
      "grid_row": null,
      "grid_template_areas": null,
      "grid_template_columns": null,
      "grid_template_rows": null,
      "height": null,
      "justify_content": null,
      "justify_items": null,
      "left": null,
      "margin": null,
      "max_height": null,
      "max_width": null,
      "min_height": null,
      "min_width": null,
      "object_fit": null,
      "object_position": null,
      "order": null,
      "overflow": null,
      "overflow_x": null,
      "overflow_y": null,
      "padding": null,
      "right": null,
      "top": null,
      "visibility": null,
      "width": null
     }
    },
    "6198080a88dd46d09a1ecd41aff077bb": {
     "model_module": "@jupyter-widgets/base",
     "model_name": "LayoutModel",
     "state": {
      "_model_module": "@jupyter-widgets/base",
      "_model_module_version": "1.2.0",
      "_model_name": "LayoutModel",
      "_view_count": null,
      "_view_module": "@jupyter-widgets/base",
      "_view_module_version": "1.2.0",
      "_view_name": "LayoutView",
      "align_content": null,
      "align_items": null,
      "align_self": null,
      "border": null,
      "bottom": null,
      "display": null,
      "flex": null,
      "flex_flow": null,
      "grid_area": null,
      "grid_auto_columns": null,
      "grid_auto_flow": null,
      "grid_auto_rows": null,
      "grid_column": null,
      "grid_gap": null,
      "grid_row": null,
      "grid_template_areas": null,
      "grid_template_columns": null,
      "grid_template_rows": null,
      "height": null,
      "justify_content": null,
      "justify_items": null,
      "left": null,
      "margin": null,
      "max_height": null,
      "max_width": null,
      "min_height": null,
      "min_width": null,
      "object_fit": null,
      "object_position": null,
      "order": null,
      "overflow": null,
      "overflow_x": null,
      "overflow_y": null,
      "padding": null,
      "right": null,
      "top": null,
      "visibility": null,
      "width": null
     }
    },
    "6fe034f64775465b871f41a2b20989ae": {
     "model_module": "@jupyter-widgets/controls",
     "model_name": "HTMLModel",
     "state": {
      "_dom_classes": [],
      "_model_module": "@jupyter-widgets/controls",
      "_model_module_version": "1.5.0",
      "_model_name": "HTMLModel",
      "_view_count": null,
      "_view_module": "@jupyter-widgets/controls",
      "_view_module_version": "1.5.0",
      "_view_name": "HTMLView",
      "description": "",
      "description_tooltip": null,
      "layout": "IPY_MODEL_365f6c34fe9c43ff81d335d26c731858",
      "placeholder": "​",
      "style": "IPY_MODEL_c9e334bd1cc24bf68162ad611ef56434",
      "value": " 8/8 [00:04&lt;00:00,  1.64it/s]"
     }
    },
    "7c2545200060433b88a19080dc0b3b91": {
     "model_module": "@jupyter-widgets/controls",
     "model_name": "IntProgressModel",
     "state": {
      "_dom_classes": [],
      "_model_module": "@jupyter-widgets/controls",
      "_model_module_version": "1.5.0",
      "_model_name": "IntProgressModel",
      "_view_count": null,
      "_view_module": "@jupyter-widgets/controls",
      "_view_module_version": "1.5.0",
      "_view_name": "ProgressView",
      "bar_style": "success",
      "description": "100%",
      "description_tooltip": null,
      "layout": "IPY_MODEL_882658c5a5874436a205957a6631f737",
      "max": 8,
      "min": 0,
      "orientation": "horizontal",
      "style": "IPY_MODEL_b06988289b1c4b15866cd29c4d03180c",
      "value": 8
     }
    },
    "86e8312b6c0b449f8208a8bec0033c3b": {
     "model_module": "@jupyter-widgets/base",
     "model_name": "LayoutModel",
     "state": {
      "_model_module": "@jupyter-widgets/base",
      "_model_module_version": "1.2.0",
      "_model_name": "LayoutModel",
      "_view_count": null,
      "_view_module": "@jupyter-widgets/base",
      "_view_module_version": "1.2.0",
      "_view_name": "LayoutView",
      "align_content": null,
      "align_items": null,
      "align_self": null,
      "border": null,
      "bottom": null,
      "display": null,
      "flex": null,
      "flex_flow": null,
      "grid_area": null,
      "grid_auto_columns": null,
      "grid_auto_flow": null,
      "grid_auto_rows": null,
      "grid_column": null,
      "grid_gap": null,
      "grid_row": null,
      "grid_template_areas": null,
      "grid_template_columns": null,
      "grid_template_rows": null,
      "height": null,
      "justify_content": null,
      "justify_items": null,
      "left": null,
      "margin": null,
      "max_height": null,
      "max_width": null,
      "min_height": null,
      "min_width": null,
      "object_fit": null,
      "object_position": null,
      "order": null,
      "overflow": null,
      "overflow_x": null,
      "overflow_y": null,
      "padding": null,
      "right": null,
      "top": null,
      "visibility": null,
      "width": null
     }
    },
    "87680f61830c4b0394b3dcfa53c15401": {
     "model_module": "@jupyter-widgets/base",
     "model_name": "LayoutModel",
     "state": {
      "_model_module": "@jupyter-widgets/base",
      "_model_module_version": "1.2.0",
      "_model_name": "LayoutModel",
      "_view_count": null,
      "_view_module": "@jupyter-widgets/base",
      "_view_module_version": "1.2.0",
      "_view_name": "LayoutView",
      "align_content": null,
      "align_items": null,
      "align_self": null,
      "border": null,
      "bottom": null,
      "display": null,
      "flex": null,
      "flex_flow": null,
      "grid_area": null,
      "grid_auto_columns": null,
      "grid_auto_flow": null,
      "grid_auto_rows": null,
      "grid_column": null,
      "grid_gap": null,
      "grid_row": null,
      "grid_template_areas": null,
      "grid_template_columns": null,
      "grid_template_rows": null,
      "height": null,
      "justify_content": null,
      "justify_items": null,
      "left": null,
      "margin": null,
      "max_height": null,
      "max_width": null,
      "min_height": null,
      "min_width": null,
      "object_fit": null,
      "object_position": null,
      "order": null,
      "overflow": null,
      "overflow_x": null,
      "overflow_y": null,
      "padding": null,
      "right": null,
      "top": null,
      "visibility": null,
      "width": null
     }
    },
    "882658c5a5874436a205957a6631f737": {
     "model_module": "@jupyter-widgets/base",
     "model_name": "LayoutModel",
     "state": {
      "_model_module": "@jupyter-widgets/base",
      "_model_module_version": "1.2.0",
      "_model_name": "LayoutModel",
      "_view_count": null,
      "_view_module": "@jupyter-widgets/base",
      "_view_module_version": "1.2.0",
      "_view_name": "LayoutView",
      "align_content": null,
      "align_items": null,
      "align_self": null,
      "border": null,
      "bottom": null,
      "display": null,
      "flex": null,
      "flex_flow": null,
      "grid_area": null,
      "grid_auto_columns": null,
      "grid_auto_flow": null,
      "grid_auto_rows": null,
      "grid_column": null,
      "grid_gap": null,
      "grid_row": null,
      "grid_template_areas": null,
      "grid_template_columns": null,
      "grid_template_rows": null,
      "height": null,
      "justify_content": null,
      "justify_items": null,
      "left": null,
      "margin": null,
      "max_height": null,
      "max_width": null,
      "min_height": null,
      "min_width": null,
      "object_fit": null,
      "object_position": null,
      "order": null,
      "overflow": null,
      "overflow_x": null,
      "overflow_y": null,
      "padding": null,
      "right": null,
      "top": null,
      "visibility": null,
      "width": null
     }
    },
    "8c80135ebdfa4acdb4c2783e9ebd38e7": {
     "model_module": "@jupyter-widgets/base",
     "model_name": "LayoutModel",
     "state": {
      "_model_module": "@jupyter-widgets/base",
      "_model_module_version": "1.2.0",
      "_model_name": "LayoutModel",
      "_view_count": null,
      "_view_module": "@jupyter-widgets/base",
      "_view_module_version": "1.2.0",
      "_view_name": "LayoutView",
      "align_content": null,
      "align_items": null,
      "align_self": null,
      "border": null,
      "bottom": null,
      "display": null,
      "flex": null,
      "flex_flow": null,
      "grid_area": null,
      "grid_auto_columns": null,
      "grid_auto_flow": null,
      "grid_auto_rows": null,
      "grid_column": null,
      "grid_gap": null,
      "grid_row": null,
      "grid_template_areas": null,
      "grid_template_columns": null,
      "grid_template_rows": null,
      "height": null,
      "justify_content": null,
      "justify_items": null,
      "left": null,
      "margin": null,
      "max_height": null,
      "max_width": null,
      "min_height": null,
      "min_width": null,
      "object_fit": null,
      "object_position": null,
      "order": null,
      "overflow": null,
      "overflow_x": null,
      "overflow_y": null,
      "padding": null,
      "right": null,
      "top": null,
      "visibility": null,
      "width": null
     }
    },
    "9061c6550cb74aa984941741dff2d807": {
     "model_module": "@jupyter-widgets/controls",
     "model_name": "DescriptionStyleModel",
     "state": {
      "_model_module": "@jupyter-widgets/controls",
      "_model_module_version": "1.5.0",
      "_model_name": "DescriptionStyleModel",
      "_view_count": null,
      "_view_module": "@jupyter-widgets/base",
      "_view_module_version": "1.2.0",
      "_view_name": "StyleView",
      "description_width": ""
     }
    },
    "a5ae70e917ec475d93365eb0be250ecd": {
     "model_module": "@jupyter-widgets/controls",
     "model_name": "HTMLModel",
     "state": {
      "_dom_classes": [],
      "_model_module": "@jupyter-widgets/controls",
      "_model_module_version": "1.5.0",
      "_model_name": "HTMLModel",
      "_view_count": null,
      "_view_module": "@jupyter-widgets/controls",
      "_view_module_version": "1.5.0",
      "_view_name": "HTMLView",
      "description": "",
      "description_tooltip": null,
      "layout": "IPY_MODEL_86e8312b6c0b449f8208a8bec0033c3b",
      "placeholder": "​",
      "style": "IPY_MODEL_9061c6550cb74aa984941741dff2d807",
      "value": " 12/12 [00:04&lt;00:00,  2.46it/s]"
     }
    },
    "b06988289b1c4b15866cd29c4d03180c": {
     "model_module": "@jupyter-widgets/controls",
     "model_name": "ProgressStyleModel",
     "state": {
      "_model_module": "@jupyter-widgets/controls",
      "_model_module_version": "1.5.0",
      "_model_name": "ProgressStyleModel",
      "_view_count": null,
      "_view_module": "@jupyter-widgets/base",
      "_view_module_version": "1.2.0",
      "_view_name": "StyleView",
      "bar_color": null,
      "description_width": "initial"
     }
    },
    "b5c56fc85ca545018df2a9c105be8e5c": {
     "model_module": "@jupyter-widgets/controls",
     "model_name": "HBoxModel",
     "state": {
      "_dom_classes": [],
      "_model_module": "@jupyter-widgets/controls",
      "_model_module_version": "1.5.0",
      "_model_name": "HBoxModel",
      "_view_count": null,
      "_view_module": "@jupyter-widgets/controls",
      "_view_module_version": "1.5.0",
      "_view_name": "HBoxView",
      "box_style": "",
      "children": [
       "IPY_MODEL_39157c7779e44678bd87aee77f91d68d",
       "IPY_MODEL_55ec3fec72b44bf6a001496e49d87242"
      ],
      "layout": "IPY_MODEL_5f826aaef10547a38b6b5216b49eebde"
     }
    },
    "c9e334bd1cc24bf68162ad611ef56434": {
     "model_module": "@jupyter-widgets/controls",
     "model_name": "DescriptionStyleModel",
     "state": {
      "_model_module": "@jupyter-widgets/controls",
      "_model_module_version": "1.5.0",
      "_model_name": "DescriptionStyleModel",
      "_view_count": null,
      "_view_module": "@jupyter-widgets/base",
      "_view_module_version": "1.2.0",
      "_view_name": "StyleView",
      "description_width": ""
     }
    },
    "cc94c1d2ce204d88bcd4dbbd3e5120c2": {
     "model_module": "@jupyter-widgets/controls",
     "model_name": "DescriptionStyleModel",
     "state": {
      "_model_module": "@jupyter-widgets/controls",
      "_model_module_version": "1.5.0",
      "_model_name": "DescriptionStyleModel",
      "_view_count": null,
      "_view_module": "@jupyter-widgets/base",
      "_view_module_version": "1.2.0",
      "_view_name": "StyleView",
      "description_width": ""
     }
    },
    "d0b8053e3e8b4778b897bb6379eca6b8": {
     "model_module": "@jupyter-widgets/controls",
     "model_name": "ProgressStyleModel",
     "state": {
      "_model_module": "@jupyter-widgets/controls",
      "_model_module_version": "1.5.0",
      "_model_name": "ProgressStyleModel",
      "_view_count": null,
      "_view_module": "@jupyter-widgets/base",
      "_view_module_version": "1.2.0",
      "_view_name": "StyleView",
      "bar_color": null,
      "description_width": "initial"
     }
    },
    "eece4c1c7a79404b9eedf69cd2401ff4": {
     "model_module": "@jupyter-widgets/controls",
     "model_name": "IntProgressModel",
     "state": {
      "_dom_classes": [],
      "_model_module": "@jupyter-widgets/controls",
      "_model_module_version": "1.5.0",
      "_model_name": "IntProgressModel",
      "_view_count": null,
      "_view_module": "@jupyter-widgets/controls",
      "_view_module_version": "1.5.0",
      "_view_name": "ProgressView",
      "bar_style": "success",
      "description": "100%",
      "description_tooltip": null,
      "layout": "IPY_MODEL_f3ed6bb1b70a47369d392828f584a99c",
      "max": 7,
      "min": 0,
      "orientation": "horizontal",
      "style": "IPY_MODEL_d0b8053e3e8b4778b897bb6379eca6b8",
      "value": 7
     }
    },
    "f3ed6bb1b70a47369d392828f584a99c": {
     "model_module": "@jupyter-widgets/base",
     "model_name": "LayoutModel",
     "state": {
      "_model_module": "@jupyter-widgets/base",
      "_model_module_version": "1.2.0",
      "_model_name": "LayoutModel",
      "_view_count": null,
      "_view_module": "@jupyter-widgets/base",
      "_view_module_version": "1.2.0",
      "_view_name": "LayoutView",
      "align_content": null,
      "align_items": null,
      "align_self": null,
      "border": null,
      "bottom": null,
      "display": null,
      "flex": null,
      "flex_flow": null,
      "grid_area": null,
      "grid_auto_columns": null,
      "grid_auto_flow": null,
      "grid_auto_rows": null,
      "grid_column": null,
      "grid_gap": null,
      "grid_row": null,
      "grid_template_areas": null,
      "grid_template_columns": null,
      "grid_template_rows": null,
      "height": null,
      "justify_content": null,
      "justify_items": null,
      "left": null,
      "margin": null,
      "max_height": null,
      "max_width": null,
      "min_height": null,
      "min_width": null,
      "object_fit": null,
      "object_position": null,
      "order": null,
      "overflow": null,
      "overflow_x": null,
      "overflow_y": null,
      "padding": null,
      "right": null,
      "top": null,
      "visibility": null,
      "width": null
     }
    },
    "f5216e4d25024d8bae51ce8570c957a5": {
     "model_module": "@jupyter-widgets/controls",
     "model_name": "ProgressStyleModel",
     "state": {
      "_model_module": "@jupyter-widgets/controls",
      "_model_module_version": "1.5.0",
      "_model_name": "ProgressStyleModel",
      "_view_count": null,
      "_view_module": "@jupyter-widgets/base",
      "_view_module_version": "1.2.0",
      "_view_name": "StyleView",
      "bar_color": null,
      "description_width": "initial"
     }
    }
   }
  }
 },
 "nbformat": 4,
 "nbformat_minor": 4
}