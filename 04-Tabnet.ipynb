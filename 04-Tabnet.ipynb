{
  "nbformat": 4,
  "nbformat_minor": 0,
  "metadata": {
    "kernelspec": {
      "display_name": "Python 3",
      "language": "python",
      "name": "python3"
    },
    "language_info": {
      "codemirror_mode": {
        "name": "ipython",
        "version": 3
      },
      "file_extension": ".py",
      "mimetype": "text/x-python",
      "name": "python",
      "nbconvert_exporter": "python",
      "pygments_lexer": "ipython3",
      "version": "3.6.10"
    },
    "colab": {
      "name": "04-Tabnet.ipynb",
      "provenance": [],
      "machine_shape": "hm"
    },
    "accelerator": "GPU",
    "widgets": {
      "application/vnd.jupyter.widget-state+json": {
        "f2ad41b1a3c045cc97e18c9b3957f1e3": {
          "model_module": "@jupyter-widgets/controls",
          "model_name": "HBoxModel",
          "state": {
            "_view_name": "HBoxView",
            "_dom_classes": [],
            "_model_name": "HBoxModel",
            "_view_module": "@jupyter-widgets/controls",
            "_model_module_version": "1.5.0",
            "_view_count": null,
            "_view_module_version": "1.5.0",
            "box_style": "",
            "layout": "IPY_MODEL_29b448fd54ea4f7cbb98b54bcf5f62ed",
            "_model_module": "@jupyter-widgets/controls",
            "children": [
              "IPY_MODEL_e9e3b9944ce8417d9b99cede291c523f",
              "IPY_MODEL_d8ea9839802449799dd58fa20d6ba1cb"
            ]
          }
        },
        "29b448fd54ea4f7cbb98b54bcf5f62ed": {
          "model_module": "@jupyter-widgets/base",
          "model_name": "LayoutModel",
          "state": {
            "_view_name": "LayoutView",
            "grid_template_rows": null,
            "right": null,
            "justify_content": null,
            "_view_module": "@jupyter-widgets/base",
            "overflow": null,
            "_model_module_version": "1.2.0",
            "_view_count": null,
            "flex_flow": null,
            "width": null,
            "min_width": null,
            "border": null,
            "align_items": null,
            "bottom": null,
            "_model_module": "@jupyter-widgets/base",
            "top": null,
            "grid_column": null,
            "overflow_y": null,
            "overflow_x": null,
            "grid_auto_flow": null,
            "grid_area": null,
            "grid_template_columns": null,
            "flex": null,
            "_model_name": "LayoutModel",
            "justify_items": null,
            "grid_row": null,
            "max_height": null,
            "align_content": null,
            "visibility": null,
            "align_self": null,
            "height": null,
            "min_height": null,
            "padding": null,
            "grid_auto_rows": null,
            "grid_gap": null,
            "max_width": null,
            "order": null,
            "_view_module_version": "1.2.0",
            "grid_template_areas": null,
            "object_position": null,
            "object_fit": null,
            "grid_auto_columns": null,
            "margin": null,
            "display": null,
            "left": null
          }
        },
        "e9e3b9944ce8417d9b99cede291c523f": {
          "model_module": "@jupyter-widgets/controls",
          "model_name": "IntProgressModel",
          "state": {
            "_view_name": "ProgressView",
            "style": "IPY_MODEL_438b1f42e51244e8903649f9f96cdaf6",
            "_dom_classes": [],
            "description": "",
            "_model_name": "IntProgressModel",
            "bar_style": "success",
            "max": 1,
            "_view_module": "@jupyter-widgets/controls",
            "_model_module_version": "1.5.0",
            "value": 1,
            "_view_count": null,
            "_view_module_version": "1.5.0",
            "orientation": "horizontal",
            "min": 0,
            "description_tooltip": null,
            "_model_module": "@jupyter-widgets/controls",
            "layout": "IPY_MODEL_195c27f00573424ea21470f526520954"
          }
        },
        "d8ea9839802449799dd58fa20d6ba1cb": {
          "model_module": "@jupyter-widgets/controls",
          "model_name": "HTMLModel",
          "state": {
            "_view_name": "HTMLView",
            "style": "IPY_MODEL_c302447c463e46459372ef33dd6bfd94",
            "_dom_classes": [],
            "description": "",
            "_model_name": "HTMLModel",
            "placeholder": "​",
            "_view_module": "@jupyter-widgets/controls",
            "_model_module_version": "1.5.0",
            "value": " 899112/? [02:25&lt;00:00, 6194.52it/s]",
            "_view_count": null,
            "_view_module_version": "1.5.0",
            "description_tooltip": null,
            "_model_module": "@jupyter-widgets/controls",
            "layout": "IPY_MODEL_70aa8046647a46cf9dc8ff00ece81d48"
          }
        },
        "438b1f42e51244e8903649f9f96cdaf6": {
          "model_module": "@jupyter-widgets/controls",
          "model_name": "ProgressStyleModel",
          "state": {
            "_view_name": "StyleView",
            "_model_name": "ProgressStyleModel",
            "description_width": "initial",
            "_view_module": "@jupyter-widgets/base",
            "_model_module_version": "1.5.0",
            "_view_count": null,
            "_view_module_version": "1.2.0",
            "bar_color": null,
            "_model_module": "@jupyter-widgets/controls"
          }
        },
        "195c27f00573424ea21470f526520954": {
          "model_module": "@jupyter-widgets/base",
          "model_name": "LayoutModel",
          "state": {
            "_view_name": "LayoutView",
            "grid_template_rows": null,
            "right": null,
            "justify_content": null,
            "_view_module": "@jupyter-widgets/base",
            "overflow": null,
            "_model_module_version": "1.2.0",
            "_view_count": null,
            "flex_flow": null,
            "width": null,
            "min_width": null,
            "border": null,
            "align_items": null,
            "bottom": null,
            "_model_module": "@jupyter-widgets/base",
            "top": null,
            "grid_column": null,
            "overflow_y": null,
            "overflow_x": null,
            "grid_auto_flow": null,
            "grid_area": null,
            "grid_template_columns": null,
            "flex": null,
            "_model_name": "LayoutModel",
            "justify_items": null,
            "grid_row": null,
            "max_height": null,
            "align_content": null,
            "visibility": null,
            "align_self": null,
            "height": null,
            "min_height": null,
            "padding": null,
            "grid_auto_rows": null,
            "grid_gap": null,
            "max_width": null,
            "order": null,
            "_view_module_version": "1.2.0",
            "grid_template_areas": null,
            "object_position": null,
            "object_fit": null,
            "grid_auto_columns": null,
            "margin": null,
            "display": null,
            "left": null
          }
        },
        "c302447c463e46459372ef33dd6bfd94": {
          "model_module": "@jupyter-widgets/controls",
          "model_name": "DescriptionStyleModel",
          "state": {
            "_view_name": "StyleView",
            "_model_name": "DescriptionStyleModel",
            "description_width": "",
            "_view_module": "@jupyter-widgets/base",
            "_model_module_version": "1.5.0",
            "_view_count": null,
            "_view_module_version": "1.2.0",
            "_model_module": "@jupyter-widgets/controls"
          }
        },
        "70aa8046647a46cf9dc8ff00ece81d48": {
          "model_module": "@jupyter-widgets/base",
          "model_name": "LayoutModel",
          "state": {
            "_view_name": "LayoutView",
            "grid_template_rows": null,
            "right": null,
            "justify_content": null,
            "_view_module": "@jupyter-widgets/base",
            "overflow": null,
            "_model_module_version": "1.2.0",
            "_view_count": null,
            "flex_flow": null,
            "width": null,
            "min_width": null,
            "border": null,
            "align_items": null,
            "bottom": null,
            "_model_module": "@jupyter-widgets/base",
            "top": null,
            "grid_column": null,
            "overflow_y": null,
            "overflow_x": null,
            "grid_auto_flow": null,
            "grid_area": null,
            "grid_template_columns": null,
            "flex": null,
            "_model_name": "LayoutModel",
            "justify_items": null,
            "grid_row": null,
            "max_height": null,
            "align_content": null,
            "visibility": null,
            "align_self": null,
            "height": null,
            "min_height": null,
            "padding": null,
            "grid_auto_rows": null,
            "grid_gap": null,
            "max_width": null,
            "order": null,
            "_view_module_version": "1.2.0",
            "grid_template_areas": null,
            "object_position": null,
            "object_fit": null,
            "grid_auto_columns": null,
            "margin": null,
            "display": null,
            "left": null
          }
        }
      }
    }
  },
  "cells": [
    {
      "cell_type": "markdown",
      "metadata": {
        "id": "34LQK5Wz-jOy",
        "colab_type": "text"
      },
      "source": [
        "## Tabnet"
      ]
    },
    {
      "cell_type": "code",
      "metadata": {
        "colab_type": "code",
        "id": "qQQCreB5gAR_",
        "colab": {}
      },
      "source": [
        "def upgrade_runtime_ram():\n",
        "    meminfo = subprocess.getoutput('cat /proc/meminfo').split('\\n')\n",
        "\n",
        "    memory_info = {entry.split(':')[0]: int(entry.split(':')[1].replace(' kB','').strip()) for entry in meminfo}\n",
        "\n",
        "    if memory_info['MemTotal'] > 17000000:\n",
        "        return\n",
        "\n",
        "    a = []\n",
        "    while(1):\n",
        "        a.append('1')"
      ],
      "execution_count": 0,
      "outputs": []
    },
    {
      "cell_type": "code",
      "metadata": {
        "colab_type": "code",
        "id": "waACZBi_8ap2",
        "colab": {}
      },
      "source": [
        "def restart_runtime():\n",
        "    os.kill(os.getpid(), 9)"
      ],
      "execution_count": 0,
      "outputs": []
    },
    {
      "cell_type": "code",
      "metadata": {
        "colab_type": "code",
        "id": "YIsGqbsy8aqB",
        "colab": {}
      },
      "source": [
        "def setup_rapids():\n",
        "    pynvml.nvmlInit()\n",
        "    handle = pynvml.nvmlDeviceGetHandleByIndex(0)\n",
        "    device_name = pynvml.nvmlDeviceGetName(handle)\n",
        "    if (device_name != b'Tesla T4') and (device_name != b'Tesla P4') and (device_name != b'Tesla P100-PCIE-16GB'):\n",
        "        print(\"Wrong GPU - Restarting Runtime\")\n",
        "        restart_runtime()\n",
        "\n",
        "\n",
        "    # clone RAPIDS AI rapidsai-csp-utils scripts repo\n",
        "    !git clone https://github.com/rapidsai/rapidsai-csp-utils.git\n",
        "\n",
        "    # install RAPIDS\n",
        "    !bash rapidsai-csp-utils/colab/rapids-colab.sh 0.13\n",
        "\n",
        "\n",
        "    # set necessary environment variables \n",
        "    dist_package_index = sys.path.index('/usr/local/lib/python3.6/dist-packages')\n",
        "    sys.path = sys.path[:dist_package_index] + ['/usr/local/lib/python3.6/site-packages'] + sys.path[dist_package_index:]\n",
        "    sys.path\n",
        "\n",
        "    # update pyarrow & modules \n",
        "    exec(open('rapidsai-csp-utils/colab/update_modules.py').read(), globals())"
      ],
      "execution_count": 0,
      "outputs": []
    },
    {
      "cell_type": "code",
      "metadata": {
        "colab_type": "code",
        "id": "9CcPvNIo8aqI",
        "colab": {}
      },
      "source": [
        "def setup_conda():\n",
        "    if not 'Miniconda3-4.5.4-Linux-x86_64.sh' in os.listdir():\n",
        "        !wget https://repo.continuum.io/miniconda/Miniconda3-4.5.4-Linux-x86_64.sh && bash Miniconda3-4.5.4-Linux-x86_64.sh -bfp /usr/local\n",
        "\n",
        "    if not ('EPFL-Capstone-Project' in os.listdir()) and (os.getcwd().split('/')[-1] != 'EPFL-Capstone-Project'):\n",
        "        !git clone https://github.com/helmigsimon/EPFL-Capstone-Project  \n",
        "    if 'EPFL-Capstone-Project' in os.listdir():\n",
        "        os.chdir('EPFL-Capstone-Project')\n",
        "\n",
        "    !conda env create -f environment.yml\n",
        "    !conda activate exts-ml"
      ],
      "execution_count": 0,
      "outputs": []
    },
    {
      "cell_type": "code",
      "metadata": {
        "colab_type": "code",
        "id": "WHSZ-lgE8aqP",
        "colab": {}
      },
      "source": [
        "def setup_drive():\n",
        "    #Mounting Google Drive\n",
        "    global drive\n",
        "    from google.colab import drive\n",
        "    drive.mount('/content/drive')"
      ],
      "execution_count": 0,
      "outputs": []
    },
    {
      "cell_type": "code",
      "metadata": {
        "colab_type": "code",
        "id": "N_uPJqb58aqW",
        "outputId": "a30d0c68-2971-4617-a4fb-7a4977c68f02",
        "colab": {
          "base_uri": "https://localhost:8080/",
          "height": 1000
        }
      },
      "source": [
        "try:\n",
        "    import sys,os,subprocess\n",
        "    \n",
        "    upgrade_runtime_ram()\n",
        "    setup_drive()\n",
        "\n",
        "    #Setting up PyPi Packages\n",
        "    !pip install sparse-dot-topn pdpipe category-encoders tabnet[gpu]\n",
        "    import sparse_dot_topn.sparse_dot_topn as ct\n",
        "    import pdpipe as pdp\n",
        "    import category_encoders\n",
        "    import tabnet\n",
        "\n",
        "    #Setting up Conda Packages\n",
        "    setup_conda()\n",
        "    !conda install -y tensorflow==2.1\n",
        "\n",
        "    \n",
        "    #Initializing NLTK\n",
        "    import nltk\n",
        "    nltk.download('stopwords')\n",
        "    nltk.download('punkt')\n",
        "    \n",
        "except ModuleNotFoundError as e:\n",
        "    print(e)\n",
        "    print('Not in colab environment, continuing to run locally')\n",
        "    from umap import UMAP"
      ],
      "execution_count": 7,
      "outputs": [
        {
          "output_type": "stream",
          "text": [
            "Go to this URL in a browser: https://accounts.google.com/o/oauth2/auth?client_id=947318989803-6bn6qk8qdgf4n4g3pfee6491hc0brc4i.apps.googleusercontent.com&redirect_uri=urn%3aietf%3awg%3aoauth%3a2.0%3aoob&response_type=code&scope=email%20https%3a%2f%2fwww.googleapis.com%2fauth%2fdocs.test%20https%3a%2f%2fwww.googleapis.com%2fauth%2fdrive%20https%3a%2f%2fwww.googleapis.com%2fauth%2fdrive.photos.readonly%20https%3a%2f%2fwww.googleapis.com%2fauth%2fpeopleapi.readonly\n",
            "\n",
            "Enter your authorization code:\n",
            "··········\n",
            "Mounted at /content/drive\n",
            "Collecting sparse-dot-topn\n",
            "\u001b[?25l  Downloading https://files.pythonhosted.org/packages/70/d5/2a3a52acd89344f0c45cae320bd41ee49573caec656834b98c5ea48669b7/sparse_dot_topn-0.2.9.tar.gz (106kB)\n",
            "\u001b[K     |████████████████████████████████| 112kB 2.8MB/s \n",
            "\u001b[?25hCollecting pdpipe\n",
            "\u001b[?25l  Downloading https://files.pythonhosted.org/packages/cf/78/029e7781a3029e105b1ad7bc7dc878b46408186c60c21e15d1e68030331e/pdpipe-0.0.46-py3-none-any.whl (47kB)\n",
            "\u001b[K     |████████████████████████████████| 51kB 4.4MB/s \n",
            "\u001b[?25hCollecting category-encoders\n",
            "\u001b[?25l  Downloading https://files.pythonhosted.org/packages/a0/52/c54191ad3782de633ea3d6ee3bb2837bda0cf3bc97644bb6375cf14150a0/category_encoders-2.1.0-py2.py3-none-any.whl (100kB)\n",
            "\u001b[K     |████████████████████████████████| 102kB 6.5MB/s \n",
            "\u001b[?25hCollecting tabnet[gpu]\n",
            "  Downloading https://files.pythonhosted.org/packages/13/22/851a15af4c79f5f73ffa05a71f84e7d0d65d404085cd312b2d0588a9e9ca/tabnet-0.1.4.1-py2.py3-none-any.whl\n",
            "Requirement already satisfied: setuptools>=18.0 in /usr/local/lib/python3.6/dist-packages (from sparse-dot-topn) (46.1.3)\n",
            "Requirement already satisfied: cython>=0.29.15 in /usr/local/lib/python3.6/dist-packages (from sparse-dot-topn) (0.29.16)\n",
            "Requirement already satisfied: numpy>=1.16.6 in /usr/local/lib/python3.6/dist-packages (from sparse-dot-topn) (1.18.2)\n",
            "Requirement already satisfied: scipy>=1.2.3 in /usr/local/lib/python3.6/dist-packages (from sparse-dot-topn) (1.4.1)\n",
            "Requirement already satisfied: sortedcontainers in /usr/local/lib/python3.6/dist-packages (from pdpipe) (2.1.0)\n",
            "Requirement already satisfied: tqdm in /usr/local/lib/python3.6/dist-packages (from pdpipe) (4.38.0)\n",
            "Collecting skutil>=0.0.15\n",
            "  Downloading https://files.pythonhosted.org/packages/34/2b/1b5c9e7be3c24e1bd5ce35c2d27a5780989c3d90fcee10f3fee3074dda7f/skutil-0.0.16-py2.py3-none-any.whl\n",
            "Collecting strct\n",
            "  Downloading https://files.pythonhosted.org/packages/4a/c4/bd0de8562cb3731bdfcc33a4627c755a2d9c5e6e96b73546134c43acf1be/strct-0.0.30-py2.py3-none-any.whl\n",
            "Requirement already satisfied: pandas>=0.18.0 in /usr/local/lib/python3.6/dist-packages (from pdpipe) (1.0.3)\n",
            "Requirement already satisfied: scikit-learn>=0.20.0 in /usr/local/lib/python3.6/dist-packages (from category-encoders) (0.22.2.post1)\n",
            "Requirement already satisfied: statsmodels>=0.6.1 in /usr/local/lib/python3.6/dist-packages (from category-encoders) (0.10.2)\n",
            "Requirement already satisfied: patsy>=0.4.1 in /usr/local/lib/python3.6/dist-packages (from category-encoders) (0.5.1)\n",
            "Collecting tensorflow-gpu; extra == \"gpu\"\n",
            "\u001b[?25l  Downloading https://files.pythonhosted.org/packages/0a/93/c7bca39b23aae45cd2e85ad3871c81eccc63b9c5276e926511e2e5b0879d/tensorflow_gpu-2.1.0-cp36-cp36m-manylinux2010_x86_64.whl (421.8MB)\n",
            "\u001b[K     |████████████████████████████████| 421.8MB 34kB/s \n",
            "\u001b[?25hCollecting decore\n",
            "  Downloading https://files.pythonhosted.org/packages/b4/69/9e3da3a87058d43e5b9f0f668f69da591b8b0c2763b3afbfea084582ea57/decore-0.0.1.tar.gz\n",
            "Requirement already satisfied: pytz>=2017.2 in /usr/local/lib/python3.6/dist-packages (from pandas>=0.18.0->pdpipe) (2018.9)\n",
            "Requirement already satisfied: python-dateutil>=2.6.1 in /usr/local/lib/python3.6/dist-packages (from pandas>=0.18.0->pdpipe) (2.8.1)\n",
            "Requirement already satisfied: joblib>=0.11 in /usr/local/lib/python3.6/dist-packages (from scikit-learn>=0.20.0->category-encoders) (0.14.1)\n",
            "Requirement already satisfied: six in /usr/local/lib/python3.6/dist-packages (from patsy>=0.4.1->category-encoders) (1.12.0)\n",
            "Requirement already satisfied: wrapt>=1.11.1 in /usr/local/lib/python3.6/dist-packages (from tensorflow-gpu; extra == \"gpu\"->tabnet[gpu]) (1.12.1)\n",
            "Requirement already satisfied: keras-applications>=1.0.8 in /usr/local/lib/python3.6/dist-packages (from tensorflow-gpu; extra == \"gpu\"->tabnet[gpu]) (1.0.8)\n",
            "Requirement already satisfied: google-pasta>=0.1.6 in /usr/local/lib/python3.6/dist-packages (from tensorflow-gpu; extra == \"gpu\"->tabnet[gpu]) (0.2.0)\n",
            "Collecting tensorflow-estimator<2.2.0,>=2.1.0rc0\n",
            "\u001b[?25l  Downloading https://files.pythonhosted.org/packages/18/90/b77c328a1304437ab1310b463e533fa7689f4bfc41549593056d812fab8e/tensorflow_estimator-2.1.0-py2.py3-none-any.whl (448kB)\n",
            "\u001b[K     |████████████████████████████████| 450kB 42.4MB/s \n",
            "\u001b[?25hRequirement already satisfied: absl-py>=0.7.0 in /usr/local/lib/python3.6/dist-packages (from tensorflow-gpu; extra == \"gpu\"->tabnet[gpu]) (0.9.0)\n",
            "Requirement already satisfied: keras-preprocessing>=1.1.0 in /usr/local/lib/python3.6/dist-packages (from tensorflow-gpu; extra == \"gpu\"->tabnet[gpu]) (1.1.0)\n",
            "Requirement already satisfied: grpcio>=1.8.6 in /usr/local/lib/python3.6/dist-packages (from tensorflow-gpu; extra == \"gpu\"->tabnet[gpu]) (1.28.1)\n",
            "Requirement already satisfied: wheel>=0.26; python_version >= \"3\" in /usr/local/lib/python3.6/dist-packages (from tensorflow-gpu; extra == \"gpu\"->tabnet[gpu]) (0.34.2)\n",
            "Requirement already satisfied: protobuf>=3.8.0 in /usr/local/lib/python3.6/dist-packages (from tensorflow-gpu; extra == \"gpu\"->tabnet[gpu]) (3.10.0)\n",
            "Requirement already satisfied: opt-einsum>=2.3.2 in /usr/local/lib/python3.6/dist-packages (from tensorflow-gpu; extra == \"gpu\"->tabnet[gpu]) (3.2.1)\n",
            "Collecting tensorboard<2.2.0,>=2.1.0\n",
            "\u001b[?25l  Downloading https://files.pythonhosted.org/packages/d9/41/bbf49b61370e4f4d245d4c6051dfb6db80cec672605c91b1652ac8cc3d38/tensorboard-2.1.1-py3-none-any.whl (3.8MB)\n",
            "\u001b[K     |████████████████████████████████| 3.9MB 43.2MB/s \n",
            "\u001b[?25hRequirement already satisfied: termcolor>=1.1.0 in /usr/local/lib/python3.6/dist-packages (from tensorflow-gpu; extra == \"gpu\"->tabnet[gpu]) (1.1.0)\n",
            "Collecting gast==0.2.2\n",
            "  Downloading https://files.pythonhosted.org/packages/4e/35/11749bf99b2d4e3cceb4d55ca22590b0d7c2c62b9de38ac4a4a7f4687421/gast-0.2.2.tar.gz\n",
            "Requirement already satisfied: astor>=0.6.0 in /usr/local/lib/python3.6/dist-packages (from tensorflow-gpu; extra == \"gpu\"->tabnet[gpu]) (0.8.1)\n",
            "Requirement already satisfied: h5py in /usr/local/lib/python3.6/dist-packages (from keras-applications>=1.0.8->tensorflow-gpu; extra == \"gpu\"->tabnet[gpu]) (2.10.0)\n",
            "Requirement already satisfied: werkzeug>=0.11.15 in /usr/local/lib/python3.6/dist-packages (from tensorboard<2.2.0,>=2.1.0->tensorflow-gpu; extra == \"gpu\"->tabnet[gpu]) (1.0.1)\n",
            "Requirement already satisfied: google-auth-oauthlib<0.5,>=0.4.1 in /usr/local/lib/python3.6/dist-packages (from tensorboard<2.2.0,>=2.1.0->tensorflow-gpu; extra == \"gpu\"->tabnet[gpu]) (0.4.1)\n",
            "Requirement already satisfied: markdown>=2.6.8 in /usr/local/lib/python3.6/dist-packages (from tensorboard<2.2.0,>=2.1.0->tensorflow-gpu; extra == \"gpu\"->tabnet[gpu]) (3.2.1)\n",
            "Requirement already satisfied: google-auth<2,>=1.6.3 in /usr/local/lib/python3.6/dist-packages (from tensorboard<2.2.0,>=2.1.0->tensorflow-gpu; extra == \"gpu\"->tabnet[gpu]) (1.7.2)\n",
            "Requirement already satisfied: requests<3,>=2.21.0 in /usr/local/lib/python3.6/dist-packages (from tensorboard<2.2.0,>=2.1.0->tensorflow-gpu; extra == \"gpu\"->tabnet[gpu]) (2.21.0)\n",
            "Requirement already satisfied: requests-oauthlib>=0.7.0 in /usr/local/lib/python3.6/dist-packages (from google-auth-oauthlib<0.5,>=0.4.1->tensorboard<2.2.0,>=2.1.0->tensorflow-gpu; extra == \"gpu\"->tabnet[gpu]) (1.3.0)\n",
            "Requirement already satisfied: rsa<4.1,>=3.1.4 in /usr/local/lib/python3.6/dist-packages (from google-auth<2,>=1.6.3->tensorboard<2.2.0,>=2.1.0->tensorflow-gpu; extra == \"gpu\"->tabnet[gpu]) (4.0)\n",
            "Requirement already satisfied: pyasn1-modules>=0.2.1 in /usr/local/lib/python3.6/dist-packages (from google-auth<2,>=1.6.3->tensorboard<2.2.0,>=2.1.0->tensorflow-gpu; extra == \"gpu\"->tabnet[gpu]) (0.2.8)\n",
            "Requirement already satisfied: cachetools<3.2,>=2.0.0 in /usr/local/lib/python3.6/dist-packages (from google-auth<2,>=1.6.3->tensorboard<2.2.0,>=2.1.0->tensorflow-gpu; extra == \"gpu\"->tabnet[gpu]) (3.1.1)\n",
            "Requirement already satisfied: idna<2.9,>=2.5 in /usr/local/lib/python3.6/dist-packages (from requests<3,>=2.21.0->tensorboard<2.2.0,>=2.1.0->tensorflow-gpu; extra == \"gpu\"->tabnet[gpu]) (2.8)\n",
            "Requirement already satisfied: certifi>=2017.4.17 in /usr/local/lib/python3.6/dist-packages (from requests<3,>=2.21.0->tensorboard<2.2.0,>=2.1.0->tensorflow-gpu; extra == \"gpu\"->tabnet[gpu]) (2020.4.5.1)\n",
            "Requirement already satisfied: chardet<3.1.0,>=3.0.2 in /usr/local/lib/python3.6/dist-packages (from requests<3,>=2.21.0->tensorboard<2.2.0,>=2.1.0->tensorflow-gpu; extra == \"gpu\"->tabnet[gpu]) (3.0.4)\n",
            "Requirement already satisfied: urllib3<1.25,>=1.21.1 in /usr/local/lib/python3.6/dist-packages (from requests<3,>=2.21.0->tensorboard<2.2.0,>=2.1.0->tensorflow-gpu; extra == \"gpu\"->tabnet[gpu]) (1.24.3)\n",
            "Requirement already satisfied: oauthlib>=3.0.0 in /usr/local/lib/python3.6/dist-packages (from requests-oauthlib>=0.7.0->google-auth-oauthlib<0.5,>=0.4.1->tensorboard<2.2.0,>=2.1.0->tensorflow-gpu; extra == \"gpu\"->tabnet[gpu]) (3.1.0)\n",
            "Requirement already satisfied: pyasn1>=0.1.3 in /usr/local/lib/python3.6/dist-packages (from rsa<4.1,>=3.1.4->google-auth<2,>=1.6.3->tensorboard<2.2.0,>=2.1.0->tensorflow-gpu; extra == \"gpu\"->tabnet[gpu]) (0.4.8)\n",
            "Building wheels for collected packages: sparse-dot-topn, decore, gast\n",
            "  Building wheel for sparse-dot-topn (setup.py) ... \u001b[?25l\u001b[?25hdone\n",
            "  Created wheel for sparse-dot-topn: filename=sparse_dot_topn-0.2.9-cp36-cp36m-linux_x86_64.whl size=322963 sha256=8ebf83df4f36389f196221c44163dfbe29666aba35c43608e464c2405567815b\n",
            "  Stored in directory: /root/.cache/pip/wheels/aa/e7/c7/e64559d518bcc12ed7e40a605ae304259b957ae8181c8d1e82\n",
            "  Building wheel for decore (setup.py) ... \u001b[?25l\u001b[?25hdone\n",
            "  Created wheel for decore: filename=decore-0.0.1-py2.py3-none-any.whl size=4190 sha256=deac7cf8ba3cafdda50191e0694d4bff29eb1f15205d0c966c265572265d62d8\n",
            "  Stored in directory: /root/.cache/pip/wheels/6c/1b/9c/71fa8b5df01cc605c4b5cadcd81df76d520149ca5c02b4013b\n",
            "  Building wheel for gast (setup.py) ... \u001b[?25l\u001b[?25hdone\n",
            "  Created wheel for gast: filename=gast-0.2.2-cp36-none-any.whl size=7540 sha256=56bdd3e51d110fc9d7fd153bdd75c6cd3a6f8aabea8ee221ae4cf9278424295e\n",
            "  Stored in directory: /root/.cache/pip/wheels/5c/2e/7e/a1d4d4fcebe6c381f378ce7743a3ced3699feb89bcfbdadadd\n",
            "Successfully built sparse-dot-topn decore gast\n",
            "\u001b[31mERROR: tensorflow 2.2.0rc3 has requirement gast==0.3.3, but you'll have gast 0.2.2 which is incompatible.\u001b[0m\n",
            "\u001b[31mERROR: tensorflow 2.2.0rc3 has requirement tensorboard<2.3.0,>=2.2.0, but you'll have tensorboard 2.1.1 which is incompatible.\u001b[0m\n",
            "\u001b[31mERROR: tensorflow 2.2.0rc3 has requirement tensorflow-estimator<2.3.0,>=2.2.0rc0, but you'll have tensorflow-estimator 2.1.0 which is incompatible.\u001b[0m\n",
            "\u001b[31mERROR: tensorflow-probability 0.10.0rc0 has requirement gast>=0.3.2, but you'll have gast 0.2.2 which is incompatible.\u001b[0m\n",
            "Installing collected packages: sparse-dot-topn, decore, skutil, strct, pdpipe, category-encoders, tensorflow-estimator, tensorboard, gast, tensorflow-gpu, tabnet\n",
            "  Found existing installation: tensorflow-estimator 2.2.0\n",
            "    Uninstalling tensorflow-estimator-2.2.0:\n",
            "      Successfully uninstalled tensorflow-estimator-2.2.0\n",
            "  Found existing installation: tensorboard 2.2.1\n",
            "    Uninstalling tensorboard-2.2.1:\n",
            "      Successfully uninstalled tensorboard-2.2.1\n",
            "  Found existing installation: gast 0.3.3\n",
            "    Uninstalling gast-0.3.3:\n",
            "      Successfully uninstalled gast-0.3.3\n",
            "Successfully installed category-encoders-2.1.0 decore-0.0.1 gast-0.2.2 pdpipe-0.0.46 skutil-0.0.16 sparse-dot-topn-0.2.9 strct-0.0.30 tabnet-0.1.4.1 tensorboard-2.1.1 tensorflow-estimator-2.1.0 tensorflow-gpu-2.1.0\n"
          ],
          "name": "stdout"
        },
        {
          "output_type": "display_data",
          "data": {
            "application/vnd.colab-display-data+json": {
              "pip_warning": {
                "packages": [
                  "gast",
                  "tensorboard",
                  "tensorflow"
                ]
              }
            }
          },
          "metadata": {
            "tags": []
          }
        },
        {
          "output_type": "stream",
          "text": [
            "--2020-04-23 17:45:12--  https://repo.continuum.io/miniconda/Miniconda3-4.5.4-Linux-x86_64.sh\n",
            "Resolving repo.continuum.io (repo.continuum.io)... 104.18.201.79, 104.18.200.79, 2606:4700::6812:c94f, ...\n",
            "Connecting to repo.continuum.io (repo.continuum.io)|104.18.201.79|:443... connected.\n",
            "HTTP request sent, awaiting response... 301 Moved Permanently\n",
            "Location: https://repo.anaconda.com/miniconda/Miniconda3-4.5.4-Linux-x86_64.sh [following]\n",
            "--2020-04-23 17:45:12--  https://repo.anaconda.com/miniconda/Miniconda3-4.5.4-Linux-x86_64.sh\n",
            "Resolving repo.anaconda.com (repo.anaconda.com)... 104.16.131.3, 104.16.130.3, 2606:4700::6810:8203, ...\n",
            "Connecting to repo.anaconda.com (repo.anaconda.com)|104.16.131.3|:443... connected.\n",
            "HTTP request sent, awaiting response... 200 OK\n",
            "Length: 58468498 (56M) [application/x-sh]\n",
            "Saving to: ‘Miniconda3-4.5.4-Linux-x86_64.sh’\n",
            "\n",
            "\r          Miniconda   0%[                    ]       0  --.-KB/s               \r         Miniconda3  49%[========>           ]  27.75M   139MB/s               \rMiniconda3-4.5.4-Li 100%[===================>]  55.76M   170MB/s    in 0.3s    \n",
            "\n",
            "2020-04-23 17:45:12 (170 MB/s) - ‘Miniconda3-4.5.4-Linux-x86_64.sh’ saved [58468498/58468498]\n",
            "\n",
            "PREFIX=/usr/local\n",
            "installing: python-3.6.5-hc3d631a_2 ...\n",
            "Python 3.6.5 :: Anaconda, Inc.\n",
            "installing: ca-certificates-2018.03.07-0 ...\n",
            "installing: conda-env-2.6.0-h36134e3_1 ...\n",
            "installing: libgcc-ng-7.2.0-hdf63c60_3 ...\n",
            "installing: libstdcxx-ng-7.2.0-hdf63c60_3 ...\n",
            "installing: libffi-3.2.1-hd88cf55_4 ...\n",
            "installing: ncurses-6.1-hf484d3e_0 ...\n",
            "installing: openssl-1.0.2o-h20670df_0 ...\n",
            "installing: tk-8.6.7-hc745277_3 ...\n",
            "installing: xz-5.2.4-h14c3975_4 ...\n",
            "installing: yaml-0.1.7-had09818_2 ...\n",
            "installing: zlib-1.2.11-ha838bed_2 ...\n",
            "installing: libedit-3.1.20170329-h6b74fdf_2 ...\n",
            "installing: readline-7.0-ha6073c6_4 ...\n",
            "installing: sqlite-3.23.1-he433501_0 ...\n",
            "installing: asn1crypto-0.24.0-py36_0 ...\n",
            "installing: certifi-2018.4.16-py36_0 ...\n",
            "installing: chardet-3.0.4-py36h0f667ec_1 ...\n",
            "installing: idna-2.6-py36h82fb2a8_1 ...\n",
            "installing: pycosat-0.6.3-py36h0a5515d_0 ...\n",
            "installing: pycparser-2.18-py36hf9f622e_1 ...\n",
            "installing: pysocks-1.6.8-py36_0 ...\n",
            "installing: ruamel_yaml-0.15.37-py36h14c3975_2 ...\n",
            "installing: six-1.11.0-py36h372c433_1 ...\n",
            "installing: cffi-1.11.5-py36h9745a5d_0 ...\n",
            "installing: setuptools-39.2.0-py36_0 ...\n",
            "installing: cryptography-2.2.2-py36h14c3975_0 ...\n",
            "installing: wheel-0.31.1-py36_0 ...\n",
            "installing: pip-10.0.1-py36_0 ...\n",
            "installing: pyopenssl-18.0.0-py36_0 ...\n",
            "installing: urllib3-1.22-py36hbe7ace6_0 ...\n",
            "installing: requests-2.18.4-py36he2e5f8d_1 ...\n",
            "installing: conda-4.5.4-py36_0 ...\n",
            "installation finished.\n",
            "WARNING:\n",
            "    You currently have a PYTHONPATH environment variable set. This may cause\n",
            "    unexpected behavior when running the Python interpreter in Miniconda3.\n",
            "    For best results, please verify that your PYTHONPATH only points to\n",
            "    directories of packages that are compatible with the Python interpreter\n",
            "    in Miniconda3: /usr/local\n",
            "Cloning into 'EPFL-Capstone-Project'...\n",
            "remote: Enumerating objects: 40, done.\u001b[K\n",
            "remote: Counting objects: 100% (40/40), done.\u001b[K\n",
            "remote: Compressing objects: 100% (26/26), done.\u001b[K\n",
            "remote: Total 358 (delta 24), reused 29 (delta 14), pack-reused 318\u001b[K\n",
            "Receiving objects: 100% (358/358), 25.57 MiB | 32.53 MiB/s, done.\n",
            "Resolving deltas: 100% (192/192), done.\n",
            "Solving environment: - \b\b\\ \b\b| \b\b/ \b\b- \b\b\\ \b\b| \b\b/ \b\b- \b\b\\ \b\b| \b\b/ \b\b- \b\b\\ \b\b| \b\b/ \b\b- \b\b\\ \b\b| \b\b/ \b\b- \b\b\\ \b\b| \b\b/ \b\b- \b\b\\ \b\b| \b\b/ \b\b- \b\b\\ \b\b| \b\b/ \b\b- \b\b\\ \b\b| \b\b/ \b\b- \b\b\\ \b\b| \b\b/ \b\b- \b\b\\ \b\b| \b\b/ \b\b- \b\b\\ \b\b| \b\b/ \b\b- \b\b\\ \b\b| \b\b/ \b\b- \b\b\\ \b\b| \b\b/ \b\b- \b\b\\ \b\b| \b\b/ \b\b- \b\b\\ \b\b| \b\b/ \b\b- \b\b\\ \b\b| \b\b/ \b\b- \b\b\\ \b\b| \b\b/ \b\b- \b\b\\ \b\b| \b\b/ \b\b- \b\b\\ \b\b| \b\b/ \b\b- \b\b\\ \b\b| \b\b/ \b\b- \b\b\\ \b\b| \b\b/ \b\b- \b\b\\ \b\b| \b\b/ \b\b- \b\b\\ \b\b| \b\b/ \b\b- \b\b\\ \b\b| \b\b/ \b\b- \b\b\\ \b\b| \b\b/ \b\b- \b\b\\ \b\b| \b\b/ \b\b- \b\b\\ \b\b| \b\b/ \b\b- \b\b\\ \b\b| \b\b/ \b\b- \b\b\\ \b\b| \b\b/ \b\b- \b\b\\ \b\b| \b\b/ \b\b- \b\b\\ \b\b| \b\b/ \b\b- \b\b\\ \b\b| \b\b/ \b\b- \b\b\\ \b\b| \b\b/ \b\b- \b\b\\ \b\b| \b\b/ \b\b- \b\b\\ \b\b| \b\b/ \b\b- \b\b\\ \b\b| \b\b/ \b\b- \b\b\\ \b\b| \b\b/ \b\b- \b\b\\ \b\b| \b\b/ \b\b- \b\b\\ \b\b| \b\b/ \b\b- \b\b\\ \b\b| \b\b/ \b\b- \b\b\\ \b\b| \b\b/ \b\b- \b\b\\ \b\b| \b\b/ \b\b- \b\b\\ \b\b| \b\b/ \b\b- \b\b\\ \b\b| \b\b/ \b\b- \b\b\\ \b\b| \b\b/ \b\b- \b\b\\ \b\b| \b\b/ \b\b- \b\b\\ \b\b| \b\b/ \b\b- \b\b\\ \b\b| \b\b/ \b\b- \b\b\\ \b\b| \b\b/ \b\b- \b\b\\ \b\b| \b\b/ \b\b- \b\b\\ \b\b| \b\b/ \b\b- \b\b\\ \b\b| \b\b/ \b\b- \b\b\\ \b\b| \b\b/ \b\b- \b\b\\ \b\b| \b\b/ \b\b- \b\b\\ \b\b| \b\b/ \b\b- \b\b\\ \b\b| \b\b/ \b\b- \b\b\\ \b\b| \b\b/ \b\b- \b\b\\ \b\b| \b\b/ \b\b- \b\b\\ \b\b| \b\b/ \b\b- \b\b\\ \b\b| \b\b/ \b\b- \b\b\\ \b\b| \b\b/ \b\b- \b\b\\ \b\b| \b\b/ \b\b- \b\b\\ \b\b| \b\b/ \b\b- \b\b\\ \b\b| \b\b/ \b\b- \b\b\\ \b\b| \b\b/ \b\b- \b\b\\ \b\b| \b\b/ \b\b- \b\b\\ \b\b| \b\b/ \b\b- \b\b\\ \b\b| \b\b/ \b\b- \b\b\\ \b\b| \b\b/ \b\b- \b\b\\ \b\b| \b\b/ \b\b- \b\b\\ \b\b| \b\b/ \b\b- \b\b\\ \b\b| \b\b/ \b\b- \b\b\\ \b\b| \b\b/ \b\b- \b\b\\ \b\b| \b\b/ \b\b- \b\b\\ \b\b| \b\b/ \b\b- \b\b\\ \b\b| \b\b/ \b\b- \b\b\\ \b\b| \b\b/ \b\b- \b\b\\ \b\b| \b\b/ \b\b- \b\b\\ \b\b| \b\b/ \b\b- \b\b\\ \b\b| \b\b/ \b\b- \b\b\\ \b\b| \b\b/ \b\b- \b\b\\ \b\b| \b\b/ \b\b- \b\b\\ \b\b| \b\b/ \b\b- \b\b\\ \b\b| \b\b/ \b\b- \b\b\\ \b\b| \b\b/ \b\b- \b\b\\ \b\b| \b\b/ \b\b- \b\b\\ \b\b| \b\b/ \b\b- \b\b\\ \b\b| \b\b/ \b\b- \b\b\\ \b\b| \b\b/ \b\b- \b\b\\ \b\b| \b\b/ \b\b- \b\b\\ \b\b| \b\b/ \b\b- \b\b\\ \b\b| \b\b/ \b\b- \b\b\\ \b\b| \b\b/ \b\b- \b\b\\ \b\b| \b\b/ \b\b- \b\b\\ \b\b| \b\b/ \b\b- \b\b\\ \b\b| \b\b/ \b\b- \b\b\\ \b\b| \b\b/ \b\b- \b\b\\ \b\b| \b\b/ \b\b- \b\b\\ \b\b| \b\b/ \b\b- \b\b\\ \b\b| \b\b/ \b\b- \b\b\\ \b\b| \b\b/ \b\b- \b\b\\ \b\b| \b\b/ \b\b- \b\b\\ \b\b| \b\b/ \b\b- \b\b\\ \b\b| \b\b/ \b\b- \b\b\\ \b\b| \b\b/ \b\b- \b\b\\ \b\b| \b\b/ \b\b- \b\b\\ \b\b| \b\b/ \b\b- \b\b\\ \b\b| \b\b/ \b\b- \b\b\\ \b\b| \b\b/ \b\b- \b\b\\ \b\b| \b\b/ \b\b- \b\b\\ \b\b| \b\b/ \b\b- \b\b\\ \b\b| \b\b/ \b\b- \b\b\\ \b\b| \b\b/ \b\b- \b\b\\ \b\b| \b\bfailed\n",
            "\n",
            "ResolvePackageNotFound: \n",
            "  - libopenblas==0.3.9=h3d69b6c_0\n",
            "  - fontconfig==2.13.1=h6b1039f_1001\n",
            "  - tzcode==2019a=h01d97ff_1002\n",
            "  - jpeg==9c=h1de35cc_1001\n",
            "  - tensorflow-base==1.12.0=mkl_py36h70e0e9a_0\n",
            "  - hdf4==4.2.13=h84186c3_1003\n",
            "  - graphviz==2.42.3=h98dfb87_0\n",
            "  - giflib==5.2.1=h0b31af3_2\n",
            "  - libllvm8==8.0.1=h770b8ee_0\n",
            "  - gdal==3.0.4=py36h5a1ef21_3\n",
            "  - libpng==1.6.37=hbbe82c9_1\n",
            "  - freetype==2.10.1=h8da9a1a_0\n",
            "  - libgdal==3.0.4=hec54991_3\n",
            "  - sqlite==3.30.1=h93121df_0\n",
            "  - psycopg2==2.8.4=py36hafa8578_1\n",
            "  - pillow==7.0.0=py36h918e99a_0\n",
            "  - shapely==1.7.0=py36hda0b814_2\n",
            "  - cfitsio==3.470=h84d2f63_2\n",
            "  - pcre==8.44=h4a8c4bd_0\n",
            "  - cffi==1.14.0=py36h356ff06_0\n",
            "  - expat==2.2.9=h4a8c4bd_2\n",
            "  - grpcio==1.23.0=py36h7c1f37e_1\n",
            "  - libedit==3.1.20170329=hcfe32e1_1001\n",
            "  - tensorflow==1.12.0=mkl_py36h2b2bbaf_0\n",
            "  - xz==5.2.4=h0b31af3_1002\n",
            "  - zlib==1.2.11=h0b31af3_1006\n",
            "  - libiconv==1.15=h0b31af3_1006\n",
            "  - tiledb==1.7.0=hd5e958f_2\n",
            "  - hdf5==1.10.5=nompi_h3e39495_1104\n",
            "  - tornado==6.0.4=py36h37b9a7d_1\n",
            "  - fiona==1.8.13=py36he71f6a4_0\n",
            "  - sparse_dot_topn==0.2.9=py36h863e41a_0\n",
            "  - libprotobuf==3.11.4=hd174df1_0\n",
            "  - tk==8.6.10=hbbe82c9_0\n",
            "  - proj==6.3.1=h773a61f_1\n",
            "  - gettext==0.19.8.1=h46ab8bc_1002\n",
            "  - libgfortran==4.0.0=2\n",
            "  - python-levenshtein==0.12.0=py36h0b31af3_1001\n",
            "  - xerces-c==3.2.2=h8f8adb3_1004\n",
            "  - kealib==1.4.12=h2324030_0\n",
            "  - zstd==1.4.4=hed8d7c8_2\n",
            "  - matplotlib-base==3.2.0=py36h11da6c2_1\n",
            "  - llvmlite==0.31.0=py36hde82470_1\n",
            "  - libdap4==3.20.4=habf5908_0\n",
            "  - mistune==0.8.4=py36h0b31af3_1000\n",
            "  - scikit-learn==0.20.3=py36hca23c92_1\n",
            "  - libkml==1.3.0=h169b8f9_1011\n",
            "  - lz4-c==1.8.3=h6de7cb9_1001\n",
            "  - libffi==3.2.1=h4a8c4bd_1007\n",
            "  - glib==2.58.3=py36hb0ce7ff_1003\n",
            "  - numpy==1.18.1=py36hde6bac1_0\n",
            "  - freexl==1.0.5=h1de35cc_1002\n",
            "  - geos==3.8.1=h4a8c4bd_0\n",
            "  - libuv==1.34.0=h0b31af3_0\n",
            "  - libxml2==2.9.10=h53d96d6_0\n",
            "  - libnetcdf==4.7.4=nompi_he461dc0_101\n",
            "  - icu==64.2=h6de7cb9_1\n",
            "  - libwebp==1.0.2=hd3bf737_5\n",
            "  - kiwisolver==1.1.0=py36h863e41a_1\n",
            "  - c-ares==1.15.0=h01d97ff_1001\n",
            "  - libpq==12.2=h554dc5a_0\n",
            "  - libtiff==4.1.0=ha78913b_3\n",
            "  - geotiff==1.5.1=h4bdff65_9\n",
            "  - cairo==1.16.0=hec6a9b0_1003\n",
            "  - scipy==1.4.1=py36h82752d6_0\n",
            "  - postgresql==12.2=h16d8c28_0\n",
            "  - pyzmq==19.0.0=py36h820b253_1\n",
            "  - poppler==0.67.0=h16886b5_8\n",
            "  - curl==7.68.0=h8754def_0\n",
            "  - libspatialite==4.3.0a=hbcd37d4_1037\n",
            "  - pixman==0.38.0=h01d97ff_1003\n",
            "  - llvm-openmp==9.0.1=h28b9765_2\n",
            "  - sqlalchemy==1.3.13=py36h0b31af3_0\n",
            "  - nodejs==13.10.1=h38d8c5a_0\n",
            "  - boost-cpp==1.72.0=hdf9ef73_0\n",
            "  - statsmodels==0.11.1=py36h37b9a7d_1\n",
            "  - psutil==5.7.0=py36h37b9a7d_1\n",
            "  - openssl==1.1.1f=h0b31af3_0\n",
            "  - h5py==2.10.0=nompi_py36h106b333_102\n",
            "  - python==3.6.10=hce46be0_1009_cpython\n",
            "  - readline==8.0=hcfe32e1_0\n",
            "  - markupsafe==1.1.1=py36h37b9a7d_1\n",
            "  - pyrsistent==0.16.0=py36h37b9a7d_0\n",
            "  - libssh2==1.8.2=hcdc9a53_2\n",
            "  - libcurl==7.68.0=h709d2b2_0\n",
            "  - ncurses==6.1=h0a44026_1002\n",
            "  - bzip2==1.0.8=h0b31af3_2\n",
            "  - appnope==0.1.0=py36h9f0ad1d_1001\n",
            "  - zeromq==4.3.2=h6de7cb9_2\n",
            "  - openjpeg==2.3.1=h254dc36_3\n",
            "  - krb5==1.16.4=h1752a42_0\n",
            "  - cryptography==2.8=py36hc9d8292_2\n",
            "  - pandas==1.0.1=py36h4f17bb1_0\n",
            "  - numba==0.48.0=py36h4f17bb1_0\n",
            "  - libsodium==1.0.17=h01d97ff_0\n",
            "  - json-c==0.13.1=h1de35cc_1001\n",
            "\n",
            "\n",
            "CommandNotFoundError: Your shell has not been properly configured to use 'conda activate'.\n",
            "If your shell is Bash or a Bourne variant, enable conda for the current user with\n",
            "\n",
            "    $ echo \". /usr/local/etc/profile.d/conda.sh\" >> ~/.bashrc\n",
            "\n",
            "or, for all users, enable conda with\n",
            "\n",
            "    $ sudo ln -s /usr/local/etc/profile.d/conda.sh /etc/profile.d/conda.sh\n",
            "\n",
            "The options above will permanently enable the 'conda' command, but they do NOT\n",
            "put conda's base (root) environment on PATH.  To do so, run\n",
            "\n",
            "    $ conda activate\n",
            "\n",
            "in your terminal, or to put the base environment on PATH permanently, run\n",
            "\n",
            "    $ echo \"conda activate\" >> ~/.bashrc\n",
            "\n",
            "Previous to conda 4.4, the recommended way to activate conda was to modify PATH in\n",
            "your ~/.bashrc file.  You should manually remove the line that looks like\n",
            "\n",
            "    export PATH=\"/usr/local/bin:$PATH\"\n",
            "\n",
            "^^^ The above line should NO LONGER be in your ~/.bashrc file! ^^^\n",
            "\n",
            "\n",
            "Solving environment: - \b\b\\ \b\b| \b\b/ \b\b- \b\b\\ \b\b| \b\b/ \b\b- \b\b\\ \b\b| \b\b/ \b\b- \b\b\\ \b\b| \b\b/ \b\b- \b\b\\ \b\b| \b\b/ \b\b- \b\b\\ \b\b| \b\b/ \b\b- \b\b\\ \b\b| \b\b/ \b\b- \b\b\\ \b\b| \b\b/ \b\b- \b\b\\ \b\b| \b\b/ \b\b- \b\b\\ \b\b| \b\b/ \b\b- \b\b\\ \b\b| \b\b/ \b\b- \b\b\\ \b\b| \b\b/ \b\b- \b\b\\ \b\b| \b\b/ \b\b- \b\b\\ \b\b| \b\b/ \b\b- \b\b\\ \b\b| \b\b/ \b\b- \b\b\\ \b\b| \b\b/ \b\b- \b\b\\ \b\b| \b\b/ \b\b- \b\b\\ \b\b| \b\b/ \b\b- \b\b\\ \b\b| \b\b/ \b\b- \b\b\\ \b\b| \b\b/ \b\b- \b\b\\ \b\b| \b\b/ \b\b- \b\b\\ \b\b| \b\b/ \b\b- \b\b\\ \b\b| \b\b/ \b\b- \b\b\\ \b\b| \b\b/ \b\b- \b\b\\ \b\b| \b\b/ \b\b- \b\bdone\n",
            "\n",
            "\n",
            "==> WARNING: A newer version of conda exists. <==\n",
            "  current version: 4.5.4\n",
            "  latest version: 4.8.3\n",
            "\n",
            "Please update conda by running\n",
            "\n",
            "    $ conda update -n base conda\n",
            "\n",
            "\n",
            "\n",
            "## Package Plan ##\n",
            "\n",
            "  environment location: /usr/local\n",
            "\n",
            "  added / updated specs: \n",
            "    - tensorflow==2.1\n",
            "\n",
            "\n",
            "The following packages will be downloaded:\n",
            "\n",
            "    package                    |            build\n",
            "    ---------------------------|-----------------\n",
            "    openssl-1.1.1g             |       h7b6447c_0         3.8 MB\n",
            "    protobuf-3.11.4            |   py37he6710b0_0         711 KB\n",
            "    pyasn1-modules-0.2.7       |             py_0          63 KB\n",
            "    mkl_random-1.1.0           |   py37hd6b4f25_0         376 KB\n",
            "    pyasn1-0.4.8               |             py_0          58 KB\n",
            "    _libgcc_mutex-0.1          |             main           3 KB\n",
            "    click-7.1.1                |             py_0          67 KB\n",
            "    blas-1.0                   |              mkl           6 KB\n",
            "    mkl-2020.0                 |              166       202.1 MB\n",
            "    asn1crypto-1.3.0           |           py37_0         162 KB\n",
            "    wrapt-1.12.1               |   py37h7b6447c_1          50 KB\n",
            "    tensorboard-2.1.0          |            py3_0         3.4 MB\n",
            "    absl-py-0.9.0              |           py37_0         165 KB\n",
            "    ncurses-6.2                |       he6710b0_0         1.1 MB\n",
            "    libprotobuf-3.11.4         |       hd408876_0         4.8 MB\n",
            "    libstdcxx-ng-9.1.0         |       hdf63c60_0         4.0 MB\n",
            "    pycparser-2.20             |             py_0          93 KB\n",
            "    cachetools-3.1.1           |             py_0          14 KB\n",
            "    keras-applications-1.0.8   |             py_0          33 KB\n",
            "    libedit-3.1.20181209       |       hc058e9b_0         188 KB\n",
            "    pyjwt-1.7.1                |           py37_0          32 KB\n",
            "    zlib-1.2.11                |       h7b6447c_3         120 KB\n",
            "    keras-preprocessing-1.1.0  |             py_1          36 KB\n",
            "    werkzeug-1.0.1             |             py_0         243 KB\n",
            "    intel-openmp-2020.0        |              166         916 KB\n",
            "    wheel-0.34.2               |           py37_0          49 KB\n",
            "    gast-0.2.2                 |           py37_0         137 KB\n",
            "    h5py-2.10.0                |   py37h7918eee_0         1.2 MB\n",
            "    xz-5.2.5                   |       h7b6447c_0         438 KB\n",
            "    six-1.14.0                 |           py37_0          27 KB\n",
            "    blinker-1.4                |           py37_0          21 KB\n",
            "    urllib3-1.25.8             |           py37_0         165 KB\n",
            "    mkl_fft-1.0.15             |   py37ha843d7b_0         172 KB\n",
            "    requests-oauthlib-1.3.0    |             py_0          22 KB\n",
            "    cryptography-2.8           |   py37h1ba5d50_0         612 KB\n",
            "    google-auth-1.13.1         |             py_0          58 KB\n",
            "    termcolor-1.1.0            |           py37_1           7 KB\n",
            "    pysocks-1.7.1              |           py37_0          30 KB\n",
            "    libgcc-ng-9.1.0            |       hdf63c60_0         8.1 MB\n",
            "    _tflow_select-2.3.0        |              mkl           2 KB\n",
            "    ca-certificates-2020.1.1   |                0         132 KB\n",
            "    chardet-3.0.4              |        py37_1003         173 KB\n",
            "    setuptools-46.1.3          |           py37_0         656 KB\n",
            "    requests-2.23.0            |           py37_0          91 KB\n",
            "    mkl-service-2.3.0          |   py37he904b0f_0         208 KB\n",
            "    scipy-1.4.1                |   py37h0b6359f_0        18.9 MB\n",
            "    numpy-base-1.18.1          |   py37hde5b4d6_1         5.2 MB\n",
            "    pyopenssl-19.1.0           |           py37_0          87 KB\n",
            "    idna-2.9                   |             py_1          56 KB\n",
            "    ld_impl_linux-64-2.33.1    |       h53a641e_7         645 KB\n",
            "    tk-8.6.8                   |       hbc83047_0         3.1 MB\n",
            "    python-3.7.7               |hcf32534_0_cpython        52.5 MB\n",
            "    certifi-2020.4.5.1         |           py37_0         159 KB\n",
            "    readline-8.0               |       h7b6447c_0         428 KB\n",
            "    cffi-1.14.0                |   py37h2e261b9_0         225 KB\n",
            "    c-ares-1.15.0              |    h7b6447c_1001         102 KB\n",
            "    hdf5-1.10.4                |       hb1b8bf9_0         5.3 MB\n",
            "    rsa-4.0                    |             py_0          30 KB\n",
            "    oauthlib-3.1.0             |             py_0          88 KB\n",
            "    markdown-3.1.1             |           py37_0         113 KB\n",
            "    tensorflow-base-2.1.0      |mkl_py37h6d63fb7_0       166.1 MB\n",
            "    astor-0.8.0                |           py37_0          45 KB\n",
            "    sqlite-3.31.1              |       h62c20be_1         2.0 MB\n",
            "    pip-20.0.2                 |           py37_1         1.9 MB\n",
            "    numpy-1.18.1               |   py37h4f9e942_0           5 KB\n",
            "    tensorflow-2.1.0           |mkl_py37h80a91df_0           4 KB\n",
            "    opt_einsum-3.1.0           |             py_0          54 KB\n",
            "    libgfortran-ng-7.3.0       |       hdf63c60_0         1.3 MB\n",
            "    grpcio-1.27.2              |   py37hf8bcb03_0         1.4 MB\n",
            "    google-pasta-0.2.0         |             py_0          44 KB\n",
            "    google-auth-oauthlib-0.4.1 |             py_2          21 KB\n",
            "    tensorflow-estimator-2.1.0 |     pyhd54b08b_0         273 KB\n",
            "    ------------------------------------------------------------\n",
            "                                           Total:       494.7 MB\n",
            "\n",
            "The following NEW packages will be INSTALLED:\n",
            "\n",
            "    _libgcc_mutex:        0.1-main                \n",
            "    _tflow_select:        2.3.0-mkl               \n",
            "    absl-py:              0.9.0-py37_0            \n",
            "    astor:                0.8.0-py37_0            \n",
            "    blas:                 1.0-mkl                 \n",
            "    blinker:              1.4-py37_0              \n",
            "    c-ares:               1.15.0-h7b6447c_1001    \n",
            "    cachetools:           3.1.1-py_0              \n",
            "    click:                7.1.1-py_0              \n",
            "    gast:                 0.2.2-py37_0            \n",
            "    google-auth:          1.13.1-py_0             \n",
            "    google-auth-oauthlib: 0.4.1-py_2              \n",
            "    google-pasta:         0.2.0-py_0              \n",
            "    grpcio:               1.27.2-py37hf8bcb03_0   \n",
            "    h5py:                 2.10.0-py37h7918eee_0   \n",
            "    hdf5:                 1.10.4-hb1b8bf9_0       \n",
            "    intel-openmp:         2020.0-166              \n",
            "    keras-applications:   1.0.8-py_0              \n",
            "    keras-preprocessing:  1.1.0-py_1              \n",
            "    ld_impl_linux-64:     2.33.1-h53a641e_7       \n",
            "    libgfortran-ng:       7.3.0-hdf63c60_0        \n",
            "    libprotobuf:          3.11.4-hd408876_0       \n",
            "    markdown:             3.1.1-py37_0            \n",
            "    mkl:                  2020.0-166              \n",
            "    mkl-service:          2.3.0-py37he904b0f_0    \n",
            "    mkl_fft:              1.0.15-py37ha843d7b_0   \n",
            "    mkl_random:           1.1.0-py37hd6b4f25_0    \n",
            "    numpy:                1.18.1-py37h4f9e942_0   \n",
            "    numpy-base:           1.18.1-py37hde5b4d6_1   \n",
            "    oauthlib:             3.1.0-py_0              \n",
            "    opt_einsum:           3.1.0-py_0              \n",
            "    protobuf:             3.11.4-py37he6710b0_0   \n",
            "    pyasn1:               0.4.8-py_0              \n",
            "    pyasn1-modules:       0.2.7-py_0              \n",
            "    pyjwt:                1.7.1-py37_0            \n",
            "    requests-oauthlib:    1.3.0-py_0              \n",
            "    rsa:                  4.0-py_0                \n",
            "    scipy:                1.4.1-py37h0b6359f_0    \n",
            "    tensorboard:          2.1.0-py3_0             \n",
            "    tensorflow:           2.1.0-mkl_py37h80a91df_0\n",
            "    tensorflow-base:      2.1.0-mkl_py37h6d63fb7_0\n",
            "    tensorflow-estimator: 2.1.0-pyhd54b08b_0      \n",
            "    termcolor:            1.1.0-py37_1            \n",
            "    werkzeug:             1.0.1-py_0              \n",
            "    wrapt:                1.12.1-py37h7b6447c_1   \n",
            "\n",
            "The following packages will be UPDATED:\n",
            "\n",
            "    asn1crypto:           0.24.0-py36_0            --> 1.3.0-py37_0            \n",
            "    ca-certificates:      2018.03.07-0             --> 2020.1.1-0              \n",
            "    certifi:              2018.4.16-py36_0         --> 2020.4.5.1-py37_0       \n",
            "    cffi:                 1.11.5-py36h9745a5d_0    --> 1.14.0-py37h2e261b9_0   \n",
            "    chardet:              3.0.4-py36h0f667ec_1     --> 3.0.4-py37_1003         \n",
            "    cryptography:         2.2.2-py36h14c3975_0     --> 2.8-py37h1ba5d50_0      \n",
            "    idna:                 2.6-py36h82fb2a8_1       --> 2.9-py_1                \n",
            "    libedit:              3.1.20170329-h6b74fdf_2  --> 3.1.20181209-hc058e9b_0 \n",
            "    libgcc-ng:            7.2.0-hdf63c60_3         --> 9.1.0-hdf63c60_0        \n",
            "    libstdcxx-ng:         7.2.0-hdf63c60_3         --> 9.1.0-hdf63c60_0        \n",
            "    ncurses:              6.1-hf484d3e_0           --> 6.2-he6710b0_0          \n",
            "    openssl:              1.0.2o-h20670df_0        --> 1.1.1g-h7b6447c_0       \n",
            "    pip:                  10.0.1-py36_0            --> 20.0.2-py37_1           \n",
            "    pycparser:            2.18-py36hf9f622e_1      --> 2.20-py_0               \n",
            "    pyopenssl:            18.0.0-py36_0            --> 19.1.0-py37_0           \n",
            "    pysocks:              1.6.8-py36_0             --> 1.7.1-py37_0            \n",
            "    python:               3.6.5-hc3d631a_2         --> 3.7.7-hcf32534_0_cpython\n",
            "    readline:             7.0-ha6073c6_4           --> 8.0-h7b6447c_0          \n",
            "    requests:             2.18.4-py36he2e5f8d_1    --> 2.23.0-py37_0           \n",
            "    setuptools:           39.2.0-py36_0            --> 46.1.3-py37_0           \n",
            "    six:                  1.11.0-py36h372c433_1    --> 1.14.0-py37_0           \n",
            "    sqlite:               3.23.1-he433501_0        --> 3.31.1-h62c20be_1       \n",
            "    tk:                   8.6.7-hc745277_3         --> 8.6.8-hbc83047_0        \n",
            "    urllib3:              1.22-py36hbe7ace6_0      --> 1.25.8-py37_0           \n",
            "    wheel:                0.31.1-py36_0            --> 0.34.2-py37_0           \n",
            "    xz:                   5.2.4-h14c3975_4         --> 5.2.5-h7b6447c_0        \n",
            "    zlib:                 1.2.11-ha838bed_2        --> 1.2.11-h7b6447c_3       \n",
            "\n",
            "\n",
            "Downloading and Extracting Packages\n",
            "openssl-1.1.1g       |  3.8 MB | : 100% 1.0/1 [00:00<00:00,  1.31it/s]               \n",
            "protobuf-3.11.4      |  711 KB | : 100% 1.0/1 [00:00<00:00,  3.82it/s]              \n",
            "pyasn1-modules-0.2.7 |   63 KB | : 100% 1.0/1 [00:00<00:00, 11.71it/s]\n",
            "mkl_random-1.1.0     |  376 KB | : 100% 1.0/1 [00:00<00:00, 10.02it/s]\n",
            "pyasn1-0.4.8         |   58 KB | : 100% 1.0/1 [00:00<00:00, 18.24it/s]\n",
            "_libgcc_mutex-0.1    |    3 KB | : 100% 1.0/1 [00:00<00:00, 29.49it/s]\n",
            "click-7.1.1          |   67 KB | : 100% 1.0/1 [00:00<00:00, 17.62it/s]\n",
            "blas-1.0             |    6 KB | : 100% 1.0/1 [00:00<00:00, 24.86it/s]\n",
            "mkl-2020.0           | 202.1 MB | : 100% 1.0/1 [00:36<00:00, 36.86s/it]                \n",
            "asn1crypto-1.3.0     |  162 KB | : 100% 1.0/1 [00:00<00:00, 12.29it/s]\n",
            "wrapt-1.12.1         |   50 KB | : 100% 1.0/1 [00:00<00:00, 24.18it/s]\n",
            "tensorboard-2.1.0    |  3.4 MB | : 100% 1.0/1 [00:00<00:00,  1.67it/s]               \n",
            "absl-py-0.9.0        |  165 KB | : 100% 1.0/1 [00:00<00:00, 11.87it/s]\n",
            "ncurses-6.2          |  1.1 MB | : 100% 1.0/1 [00:01<00:00,  1.01s/it]               \n",
            "libprotobuf-3.11.4   |  4.8 MB | : 100% 1.0/1 [00:01<00:00,  1.05s/it]               \n",
            "libstdcxx-ng-9.1.0   |  4.0 MB | : 100% 1.0/1 [00:00<00:00,  1.29it/s]               \n",
            "pycparser-2.20       |   93 KB | : 100% 1.0/1 [00:00<00:00, 16.14it/s]\n",
            "cachetools-3.1.1     |   14 KB | : 100% 1.0/1 [00:00<00:00, 25.75it/s]\n",
            "keras-applications-1 |   33 KB | : 100% 1.0/1 [00:00<00:00, 17.95it/s]\n",
            "libedit-3.1.20181209 |  188 KB | : 100% 1.0/1 [00:00<00:00, 11.91it/s]\n",
            "pyjwt-1.7.1          |   32 KB | : 100% 1.0/1 [00:00<00:00, 21.65it/s]\n",
            "zlib-1.2.11          |  120 KB | : 100% 1.0/1 [00:00<00:00, 15.89it/s]\n",
            "keras-preprocessing- |   36 KB | : 100% 1.0/1 [00:00<00:00, 24.04it/s]\n",
            "werkzeug-1.0.1       |  243 KB | : 100% 1.0/1 [00:00<00:00, 11.04it/s]\n",
            "intel-openmp-2020.0  |  916 KB | : 100% 1.0/1 [00:00<00:00,  5.39it/s]               \n",
            "wheel-0.34.2         |   49 KB | : 100% 1.0/1 [00:00<00:00, 19.30it/s]\n",
            "gast-0.2.2           |  137 KB | : 100% 1.0/1 [00:00<00:00, 16.34it/s]\n",
            "h5py-2.10.0          |  1.2 MB | : 100% 1.0/1 [00:00<00:00,  3.57it/s]               \n",
            "xz-5.2.5             |  438 KB | : 100% 1.0/1 [00:00<00:00,  7.21it/s]               \n",
            "six-1.14.0           |   27 KB | : 100% 1.0/1 [00:00<00:00, 25.52it/s]\n",
            "blinker-1.4          |   21 KB | : 100% 1.0/1 [00:00<00:00, 25.82it/s]\n",
            "urllib3-1.25.8       |  165 KB | : 100% 1.0/1 [00:00<00:00, 11.64it/s]\n",
            "mkl_fft-1.0.15       |  172 KB | : 100% 1.0/1 [00:00<00:00, 14.39it/s]\n",
            "requests-oauthlib-1. |   22 KB | : 100% 1.0/1 [00:00<00:00, 22.34it/s]\n",
            "cryptography-2.8     |  612 KB | : 100% 1.0/1 [00:00<00:00,  3.96it/s]              \n",
            "google-auth-1.13.1   |   58 KB | : 100% 1.0/1 [00:00<00:00, 17.94it/s]\n",
            "termcolor-1.1.0      |    7 KB | : 100% 1.0/1 [00:00<00:00, 29.03it/s]\n",
            "pysocks-1.7.1        |   30 KB | : 100% 1.0/1 [00:00<00:00, 25.98it/s]\n",
            "libgcc-ng-9.1.0      |  8.1 MB | : 100% 1.0/1 [00:01<00:00,  1.32s/it]               \n",
            "_tflow_select-2.3.0  |    2 KB | : 100% 1.0/1 [00:00<00:00, 35.41it/s]\n",
            "ca-certificates-2020 |  132 KB | : 100% 1.0/1 [00:00<00:00, 22.03it/s]\n",
            "chardet-3.0.4        |  173 KB | : 100% 1.0/1 [00:00<00:00,  9.88it/s]\n",
            "setuptools-46.1.3    |  656 KB | : 100% 1.0/1 [00:00<00:00,  4.54it/s]               \n",
            "requests-2.23.0      |   91 KB | : 100% 1.0/1 [00:00<00:00, 17.62it/s]\n",
            "mkl-service-2.3.0    |  208 KB | : 100% 1.0/1 [00:00<00:00, 13.98it/s]\n",
            "scipy-1.4.1          | 18.9 MB | : 100% 1.0/1 [00:03<00:00,  3.66s/it]              \n",
            "numpy-base-1.18.1    |  5.2 MB | : 100% 1.0/1 [00:01<00:00,  1.30s/it]               \n",
            "pyopenssl-19.1.0     |   87 KB | : 100% 1.0/1 [00:00<00:00, 17.98it/s]\n",
            "idna-2.9             |   56 KB | : 100% 1.0/1 [00:00<00:00, 21.70it/s]\n",
            "ld_impl_linux-64-2.3 |  645 KB | : 100% 1.0/1 [00:00<00:00,  5.81it/s]               \n",
            "tk-8.6.8             |  3.1 MB | : 100% 1.0/1 [00:00<00:00,  1.36it/s]               \n",
            "python-3.7.7         | 52.5 MB | : 100% 1.0/1 [00:07<00:00,  7.06s/it]               \n",
            "certifi-2020.4.5.1   |  159 KB | : 100% 1.0/1 [00:00<00:00, 16.44it/s]\n",
            "readline-8.0         |  428 KB | : 100% 1.0/1 [00:00<00:00,  7.88it/s]\n",
            "cffi-1.14.0          |  225 KB | : 100% 1.0/1 [00:00<00:00, 12.19it/s]\n",
            "c-ares-1.15.0        |  102 KB | : 100% 1.0/1 [00:00<00:00, 19.77it/s]\n",
            "hdf5-1.10.4          |  5.3 MB | : 100% 1.0/1 [00:00<00:00,  1.02it/s]               \n",
            "rsa-4.0              |   30 KB | : 100% 1.0/1 [00:00<00:00,  9.39it/s]\n",
            "oauthlib-3.1.0       |   88 KB | : 100% 1.0/1 [00:00<00:00, 12.49it/s]\n",
            "markdown-3.1.1       |  113 KB | : 100% 1.0/1 [00:00<00:00, 12.88it/s]\n",
            "tensorflow-base-2.1. | 166.1 MB | : 100% 1.0/1 [00:37<00:00, 37.08s/it]                \n",
            "astor-0.8.0          |   45 KB | : 100% 1.0/1 [00:00<00:00, 18.52it/s]\n",
            "sqlite-3.31.1        |  2.0 MB | : 100% 1.0/1 [00:00<00:00,  2.61it/s]              \n",
            "pip-20.0.2           |  1.9 MB | : 100% 1.0/1 [00:00<00:00,  1.61it/s]               \n",
            "numpy-1.18.1         |    5 KB | : 100% 1.0/1 [00:00<00:00, 26.35it/s]\n",
            "tensorflow-2.1.0     |    4 KB | : 100% 1.0/1 [00:00<00:00, 31.99it/s]\n",
            "opt_einsum-3.1.0     |   54 KB | : 100% 1.0/1 [00:00<00:00, 19.74it/s]\n",
            "libgfortran-ng-7.3.0 |  1.3 MB | : 100% 1.0/1 [00:00<00:00,  3.31it/s]               \n",
            "grpcio-1.27.2        |  1.4 MB | : 100% 1.0/1 [00:00<00:00,  3.24it/s]               \n",
            "google-pasta-0.2.0   |   44 KB | : 100% 1.0/1 [00:00<00:00, 21.17it/s]\n",
            "google-auth-oauthlib |   21 KB | : 100% 1.0/1 [00:00<00:00, 20.02it/s]\n",
            "tensorflow-estimator |  273 KB | : 100% 1.0/1 [00:00<00:00,  6.42it/s]               \n",
            "Preparing transaction: | \b\b/ \b\b- \b\b\\ \b\b| \b\b/ \b\b- \b\b\\ \b\b| \b\bdone\n",
            "Verifying transaction: - \b\b\\ \b\b| \b\b/ \b\b- \b\b\\ \b\b| \b\b/ \b\b- \b\b\\ \b\b| \b\b/ \b\b- \b\b\\ \b\b| \b\b/ \b\b- \b\b\\ \b\b| \b\b/ \b\b- \b\b\\ \b\b| \b\b/ \b\b- \b\b\\ \b\b| \b\b/ \b\b- \b\b\\ \b\b| \b\b/ \b\b- \b\b\\ \b\b| \b\b/ \b\b- \b\b\\ \b\b| \b\b/ \b\b- \b\b\\ \b\b| \b\b/ \b\b- \b\b\\ \b\b| \b\b/ \b\b- \b\b\\ \b\b| \b\b/ \b\b- \b\b\\ \b\b| \b\b/ \b\b- \b\b\\ \b\b| \b\b/ \b\b- \b\b\\ \b\b| \b\b/ \b\b- \b\b\\ \b\b| \b\b/ \b\b- \b\b\\ \b\b| \b\b/ \b\b- \b\b\\ \b\b| \b\b/ \b\b- \b\b\\ \b\b| \b\b/ \b\b- \b\b\\ \b\b| \b\b/ \b\b- \b\b\\ \b\b| \b\b/ \b\b- \b\b\\ \b\b| \b\b/ \b\b- \b\b\\ \b\b| \b\b/ \b\b- \b\b\\ \b\b| \b\b/ \b\b- \b\b\\ \b\b| \b\b/ \b\b- \b\bdone\n",
            "Executing transaction: | \b\b/ \b\b- \b\b\\ \b\b| \b\b/ \b\b- \b\b\\ \b\b| \b\b/ \b\b- \b\b\\ \b\b| \b\b/ \b\b- \b\b\\ \b\b| \b\b/ \b\b- \b\b\\ \b\b| \b\b/ \b\b- \b\b\\ \b\b| \b\b/ \b\b- \b\b\\ \b\b| \b\b/ \b\b- \b\b\\ \b\b| \b\b/ \b\b- \b\b\\ \b\b| \b\b/ \b\b- \b\b\\ \b\b| \b\b/ \b\b- \b\b\\ \b\b| \b\b/ \b\b- \b\b\\ \b\b| \b\b/ \b\b- \b\b\\ \b\b| \b\b/ \b\b- \b\b\\ \b\b| \b\b/ \b\b- \b\b\\ \b\b| \b\b/ \b\b- \b\b\\ \b\b| \b\b/ \b\b- \b\b\\ \b\b| \b\b/ \b\b- \b\b\\ \b\b| \b\b/ \b\b- \b\b\\ \b\b| \b\b/ \b\b- \b\b\\ \b\b| \b\b/ \b\b- \b\b\\ \b\b| \b\b/ \b\b- \b\b\\ \b\b| \b\b/ \b\b- \b\b\\ \b\b| \b\b/ \b\b- \b\b\\ \b\b| \b\b/ \b\b- \b\b\\ \b\b| \b\b/ \b\b- \b\b\\ \b\b| \b\b/ \b\b- \b\b\\ \b\b| \b\b/ \b\b- \b\b\\ \b\b| \b\b/ \b\b- \b\b\\ \b\b| \b\b/ \b\b- \b\b\\ \b\b| \b\b/ \b\b- \b\b\\ \b\b| \b\b/ \b\b- \b\b\\ \b\b| \b\b/ \b\b- \b\b\\ \b\b| \b\b/ \b\b- \b\b\\ \b\b| \b\b/ \b\b- \b\b\\ \b\b| \b\b/ \b\b- \b\b\\ \b\b| \b\b/ \b\b- \b\b\\ \b\b| \b\b/ \b\b- \b\b\\ \b\b| \b\b/ \b\b- \b\b\\ \b\b| \b\b/ \b\b- \b\b\\ \b\b| \b\b/ \b\b- \b\b\\ \b\b| \b\b/ \b\b- \b\b\\ \b\b| \b\b/ \b\b- \b\b\\ \b\b| \b\b/ \b\b- \b\b\\ \b\b| \b\b/ \b\b- \b\b\\ \b\b| \b\b/ \b\b- \b\b\\ \b\b| \b\b/ \b\b- \b\b\\ \b\b| \b\b/ \b\b- \b\b\\ \b\b| \b\b/ \b\b- \b\b\\ \b\b| \b\b/ \b\b- \b\b\\ \b\b| \b\b/ \b\b- \b\b\\ \b\b| \b\b/ \b\b- \b\b\\ \b\b| \b\b/ \b\b- \b\b\\ \b\b| \b\b/ \b\b- \b\b\\ \b\b| \b\b/ \b\b- \b\b\\ \b\b| \b\b/ \b\b- \b\b\\ \b\b| \b\b/ \b\b- \b\b\\ \b\b| \b\b/ \b\b- \b\b\\ \b\b| \b\b/ \b\b- \b\b\\ \b\b| \b\b/ \b\b- \b\b\\ \b\b| \b\b/ \b\b- \b\b\\ \b\b| \b\b/ \b\b- \b\b\\ \b\b| \b\b/ \b\b- \b\b\\ \b\b| \b\b/ \b\b- \b\b\\ \b\b| \b\b/ \b\b- \b\b\\ \b\b| \b\b/ \b\b- \b\b\\ \b\b| \b\b/ \b\b- \b\b\\ \b\b| \b\b/ \b\b- \b\b\\ \b\b| \b\b/ \b\b- \b\b\\ \b\b| \b\b/ \b\b- \b\b\\ \b\b| \b\b/ \b\b- \b\b\\ \b\b| \b\b/ \b\b- \b\b\\ \b\b| \b\b/ \b\b- \b\b\\ \b\b| \b\b/ \b\b- \b\b\\ \b\b| \b\b/ \b\b- \b\b\\ \b\b| \b\b/ \b\b- \b\b\\ \b\b| \b\b/ \b\b- \b\b\\ \b\b| \b\b/ \b\b- \b\b\\ \b\b| \b\b/ \b\b- \b\b\\ \b\b| \b\b/ \b\b- \b\b\\ \b\b| \b\b/ \b\b- \b\b\\ \b\b| \b\b/ \b\b- \b\b\\ \b\b| \b\b/ \b\b- \b\b\\ \b\b| \b\b/ \b\b- \b\b\\ \b\b| \b\b/ \b\b- \b\b\\ \b\b| \b\b/ \b\b- \b\b\\ \b\b| \b\b/ \b\b- \b\b\\ \b\b| \b\b/ \b\b- \b\b\\ \b\b| \b\b/ \b\b- \b\b\\ \b\b| \b\b/ \b\b- \b\b\\ \b\b| \b\b/ \b\b- \b\b\\ \b\b| \b\b/ \b\b- \b\b\\ \b\b| \b\b/ \b\b- \b\b\\ \b\b| \b\b/ \b\b- \b\b\\ \b\b| \b\b/ \b\b- \b\b\\ \b\b| \b\b/ \b\b- \b\b\\ \b\b| \b\b/ \b\b- \b\b\\ \b\b| \b\b/ \b\b- \b\b\\ \b\b| \b\b/ \b\b- \b\b\\ \b\b| \b\b/ \b\b- \b\b\\ \b\b| \b\b/ \b\b- \b\b\\ \b\b| \b\b/ \b\b- \b\b\\ \b\b| \b\b/ \b\b- \b\b\\ \b\b| \b\b/ \b\b- \b\b\\ \b\b| \b\b/ \b\b- \b\b\\ \b\b| \b\b/ \b\b- \b\b\\ \b\b| \b\b/ \b\b- \b\b\\ \b\b| \b\b/ \b\b- \b\b\\ \b\b| \b\b/ \b\b- \b\b\\ \b\b| \b\b/ \b\b- \b\b\\ \b\b| \b\b/ \b\b- \b\b\\ \b\b| \b\b/ \b\b- \b\b\\ \b\b| \b\b/ \b\b- \b\b\\ \b\b| \b\b/ \b\b- \b\b\\ \b\b| \b\b/ \b\b- \b\b\\ \b\b| \b\b/ \b\b- \b\b\\ \b\b| \b\b/ \b\b- \b\b\\ \b\b| \b\b/ \b\b- \b\b\\ \b\b| \b\b/ \b\b- \b\b\\ \b\b| \b\b/ \b\b- \b\b\\ \b\b| \b\b/ \b\b- \b\b\\ \b\b| \b\b/ \b\b- \b\b\\ \b\b| \b\b/ \b\b- \b\b\\ \b\b| \b\b/ \b\b- \b\b\\ \b\b| \b\b/ \b\b- \b\b\\ \b\b| \b\b/ \b\b- \b\b\\ \b\b| \b\b/ \b\b- \b\b\\ \b\b| \b\b/ \b\b- \b\b\\ \b\b| \b\b/ \b\b- \b\b\\ \b\b| \b\b/ \b\b- \b\b\\ \b\b| \b\b/ \b\b- \b\b\\ \b\b| \b\b/ \b\b- \b\b\\ \b\b| \b\b/ \b\b- \b\b\\ \b\b| \b\b/ \b\b- \b\b\\ \b\b| \b\b/ \b\b- \b\b\\ \b\b| \b\b/ \b\b- \b\b\\ \b\b| \b\b/ \b\b- \b\b\\ \b\b| \b\b/ \b\b- \b\b\\ \b\b| \b\b/ \b\b- \b\b\\ \b\b| \b\b/ \b\b- \b\b\\ \b\b| \b\b/ \b\b- \b\b\\ \b\b| \b\b/ \b\b- \b\b\\ \b\b| \b\b/ \b\b- \b\b\\ \b\b| \b\b/ \b\b- \b\b\\ \b\b| \b\b/ \b\b- \b\b\\ \b\b| \b\b/ \b\b- \b\b\\ \b\b| \b\b/ \b\b- \b\b\\ \b\b| \b\b/ \b\b- \b\b\\ \b\b| \b\b/ \b\b- \b\b\\ \b\b| \b\b/ \b\b- \b\b\\ \b\b| \b\b/ \b\b- \b\b\\ \b\b| \b\b/ \b\b- \b\b\\ \b\b| \b\b/ \b\b- \b\b\\ \b\b| \b\b/ \b\b- \b\b\\ \b\b| \b\b/ \b\b- \b\b\\ \b\b| \b\b/ \b\b- \b\b\\ \b\b| \b\b/ \b\b- \b\b\\ \b\b| \b\b/ \b\b- \b\b\\ \b\b| \b\b/ \b\b- \b\b\\ \b\b| \b\b/ \b\b- \b\b\\ \b\b| \b\b/ \b\b- \b\b\\ \b\b| \b\b/ \b\b- \b\b\\ \b\b| \b\b/ \b\b- \b\b\\ \b\b| \b\b/ \b\b- \b\b\\ \b\b| \b\b/ \b\b- \b\b\\ \b\b| \b\b/ \b\b- \b\b\\ \b\b| \b\b/ \b\b- \b\b\\ \b\b| \b\b/ \b\b- \b\b\\ \b\b| \b\b/ \b\b- \b\b\\ \b\b| \b\b/ \b\b- \b\b\\ \b\b| \b\b/ \b\b- \b\b\\ \b\b| \b\b/ \b\b- \b\b\\ \b\b| \b\b/ \b\b- \b\b\\ \b\b| \b\b/ \b\b- \b\b\\ \b\b| \b\b/ \b\b- \b\b\\ \b\b| \b\b/ \b\b- \b\b\\ \b\b| \b\b/ \b\b- \b\b\\ \b\b| \b\b/ \b\b- \b\b\\ \b\b| \b\b/ \b\b- \b\b\\ \b\b| \b\b/ \b\b- \b\b\\ \b\b| \b\b/ \b\b- \b\b\\ \b\b| \b\b/ \b\b- \b\b\\ \b\b| \b\b/ \b\b- \b\b\\ \b\b| \b\b/ \b\b- \b\b\\ \b\b| \b\b/ \b\b- \b\b\\ \b\b| \b\b/ \b\b- \b\b\\ \b\b| \b\b/ \b\b- \b\b\\ \b\b| \b\b/ \b\b- \b\b\\ \b\b| \b\b/ \b\b- \b\b\\ \b\b| \b\b/ \b\b- \b\b\\ \b\b| \b\b/ \b\b- \b\b\\ \b\b| \b\b/ \b\b- \b\b\\ \b\b| \b\b/ \b\b- \b\b\\ \b\b| \b\b/ \b\b- \b\b\\ \b\b| \b\b/ \b\b- \b\b\\ \b\b| \b\b/ \b\b- \b\b\\ \b\b| \b\b/ \b\b- \b\b\\ \b\b| \b\b/ \b\b- \b\b\\ \b\b| \b\b/ \b\b- \b\bdone\n",
            "[nltk_data] Downloading package stopwords to /root/nltk_data...\n",
            "[nltk_data]   Unzipping corpora/stopwords.zip.\n",
            "[nltk_data] Downloading package punkt to /root/nltk_data...\n",
            "[nltk_data]   Unzipping tokenizers/punkt.zip.\n"
          ],
          "name": "stdout"
        }
      ]
    },
    {
      "cell_type": "code",
      "metadata": {
        "id": "Ho6kfcAO-jPl",
        "colab_type": "code",
        "colab": {}
      },
      "source": [
        "import tensorflow as tf\n",
        "import tabnet\n",
        "import numpy as np\n",
        "import pandas as pd\n",
        "from sklearn.decomposition import PCA\n",
        "from sklearn.preprocessing import StandardScaler, OneHotEncoder\n",
        "from category_encoders import LeaveOneOutEncoder\n",
        "from sklearn.compose import ColumnTransformer"
      ],
      "execution_count": 0,
      "outputs": []
    },
    {
      "cell_type": "code",
      "metadata": {
        "id": "DMgXsia2BoA5",
        "colab_type": "code",
        "colab": {
          "base_uri": "https://localhost:8080/",
          "height": 35
        },
        "outputId": "bc565632-a733-4c31-8de5-0affd7142b3a"
      },
      "source": [
        "if tf.test.gpu_device_name():\n",
        "    print('Default GPU Device: {}'.format(tf.test.gpu_device_name()))\n",
        "else:\n",
        "    print(\"Please install GPU version of TF\")"
      ],
      "execution_count": 9,
      "outputs": [
        {
          "output_type": "stream",
          "text": [
            "Default GPU Device: /device:GPU:0\n"
          ],
          "name": "stdout"
        }
      ]
    },
    {
      "cell_type": "code",
      "metadata": {
        "id": "5pt47mls-jPr",
        "colab_type": "code",
        "colab": {}
      },
      "source": [
        "from lib.processing import load_from_pkl\n",
        "from data.util.paths import DATA_PATH\n",
        "from lib.pipelines import *"
      ],
      "execution_count": 0,
      "outputs": []
    },
    {
      "cell_type": "code",
      "metadata": {
        "id": "0b0-myZL-jPv",
        "colab_type": "code",
        "colab": {}
      },
      "source": [
        "api_df, extracted_df = load_from_pkl('api',DATA_PATH), load_from_pkl('extracted',DATA_PATH)"
      ],
      "execution_count": 0,
      "outputs": []
    },
    {
      "cell_type": "code",
      "metadata": {
        "id": "VyBjwkD_-jP1",
        "colab_type": "code",
        "colab": {}
      },
      "source": [
        "api_df = api_pipe.fit_transform(api_df)"
      ],
      "execution_count": 0,
      "outputs": []
    },
    {
      "cell_type": "code",
      "metadata": {
        "id": "EdL_5NT5-jP7",
        "colab_type": "code",
        "colab": {
          "base_uri": "https://localhost:8080/",
          "height": 67,
          "referenced_widgets": [
            "f2ad41b1a3c045cc97e18c9b3957f1e3",
            "29b448fd54ea4f7cbb98b54bcf5f62ed",
            "e9e3b9944ce8417d9b99cede291c523f",
            "d8ea9839802449799dd58fa20d6ba1cb",
            "438b1f42e51244e8903649f9f96cdaf6",
            "195c27f00573424ea21470f526520954",
            "c302447c463e46459372ef33dd6bfd94",
            "70aa8046647a46cf9dc8ff00ece81d48"
          ]
        },
        "outputId": "c4793ab3-e6f9-49b0-bb42-2b4555cbc352"
      },
      "source": [
        "extracted_df = extracted_pipe.fit_transform(extracted_df)"
      ],
      "execution_count": 13,
      "outputs": [
        {
          "output_type": "display_data",
          "data": {
            "application/vnd.jupyter.widget-view+json": {
              "model_id": "f2ad41b1a3c045cc97e18c9b3957f1e3",
              "version_minor": 0,
              "version_major": 2
            },
            "text/plain": [
              "HBox(children=(IntProgress(value=1, bar_style='info', max=1), HTML(value='')))"
            ]
          },
          "metadata": {
            "tags": []
          }
        },
        {
          "output_type": "stream",
          "text": [
            "\n"
          ],
          "name": "stdout"
        }
      ]
    },
    {
      "cell_type": "code",
      "metadata": {
        "id": "JKxIWDcQ-jQA",
        "colab_type": "code",
        "colab": {}
      },
      "source": [
        "with np.load(os.path.join(DATA_PATH,'high_level_features_labelled.npz')) as data:\n",
        "    image_embedding_df = pd.concat([pd.DataFrame(data[section]) for section in ('release_id','bitmap','features')],axis=1)\n",
        "    image_embedding_df.columns = ['release_id', 'bitmap'] + ['feature_%s' % i for i in range(1,1281)]"
      ],
      "execution_count": 0,
      "outputs": []
    },
    {
      "cell_type": "code",
      "metadata": {
        "colab_type": "code",
        "id": "46fQY6W28arC",
        "colab": {}
      },
      "source": [
        "scaler = StandardScaler()\n",
        "pca = PCA(n_components=10)\n",
        "image_embeddings_scaled = scaler.fit_transform(image_embedding_df.loc[:,['feature_%s' % i for i in range(1,1281)]])"
      ],
      "execution_count": 0,
      "outputs": []
    },
    {
      "cell_type": "code",
      "metadata": {
        "colab_type": "code",
        "id": "-DiegN158q_u",
        "colab": {}
      },
      "source": [
        "image_embeddings_reduced = pca.fit_transform(image_embeddings_scaled)"
      ],
      "execution_count": 0,
      "outputs": []
    },
    {
      "cell_type": "code",
      "metadata": {
        "colab_type": "code",
        "id": "9O2_hoRwzSio",
        "colab": {}
      },
      "source": [
        "image_embeddings_reduced = pd.concat([\n",
        "      image_embedding_df.loc[:,'release_id'],\n",
        "      pd.DataFrame(\n",
        "          image_embeddings_reduced,\n",
        "          columns = ['images_umap_%s' % i for i in range(image_embeddings_reduced.shape[1])]\n",
        "      )],\n",
        "      axis=1\n",
        ")\n"
      ],
      "execution_count": 0,
      "outputs": []
    },
    {
      "cell_type": "markdown",
      "metadata": {
        "colab_type": "text",
        "id": "DZgR3OYwl_Yy"
      },
      "source": [
        "Combining datasets"
      ]
    },
    {
      "cell_type": "code",
      "metadata": {
        "colab_type": "code",
        "id": "NSZb0b4JT-72",
        "colab": {}
      },
      "source": [
        "df = api_df.merge(extracted_df,how='inner',on='release_id')\n",
        "df = df.merge(image_embeddings_reduced,how='inner',on='release_id')"
      ],
      "execution_count": 0,
      "outputs": []
    },
    {
      "cell_type": "code",
      "metadata": {
        "colab_type": "code",
        "id": "0DBmeMFEUJ0N",
        "colab": {}
      },
      "source": [
        "del api_df, extracted_df, image_embedding_df, image_embeddings_scaled, image_embeddings_reduced"
      ],
      "execution_count": 0,
      "outputs": []
    },
    {
      "cell_type": "code",
      "metadata": {
        "colab_type": "code",
        "id": "WCI8WWUu8ard",
        "colab": {}
      },
      "source": [
        "record_store_tabnet_transformer = ColumnTransformer(transformers=[\n",
        "    ('year_encoder', OneHotEncoder(dtype=np.uint8,handle_unknown='ignore'), ['year']),\n",
        "    ('format_name', OneHotEncoder(dtype=np.uint8,handle_unknown='ignore'), ['format_name'])\n",
        "], remainder='passthrough')"
      ],
      "execution_count": 0,
      "outputs": []
    },
    {
      "cell_type": "code",
      "metadata": {
        "colab_type": "code",
        "id": "AZHfrogk8arh",
        "colab": {}
      },
      "source": [
        "record_store_tabnet_removal_columns = [\n",
        "    'market_price','units_for_sale','have','want','average_rating','rating_count','last_sold','lowest','median',\n",
        "    'highest','track_titles','country','genre','style','community_have','community_want','formats','thumb_url',\n",
        "    'release_url','format_description','days_since_last_sale','title',\n",
        "]"
      ],
      "execution_count": 0,
      "outputs": []
    },
    {
      "cell_type": "code",
      "metadata": {
        "colab_type": "code",
        "id": "sRH_P30fEM-W",
        "colab": {}
      },
      "source": [
        "record_store_tabnet_pipe = Pipeline([\n",
        "    ('running_time_imputer',RunningTimeImputer('running_time','number_of_tracks')),\n",
        "    ('leave_one_out_encoding', LeaveOneOutEncoder(cols=['artist','label','format_text','master_id'])),\n",
        "    ('record_store_column_remover', ColumnRemover(record_store_tabnet_removal_columns)),\n",
        "    ('preprocessing',record_store_tabnet_transformer),\n",
        "    ('scaler', StandardScaler()),\n",
        "])"
      ],
      "execution_count": 0,
      "outputs": []
    },
    {
      "cell_type": "code",
      "metadata": {
        "id": "3R4wiQyz-jQu",
        "colab_type": "code",
        "colab": {}
      },
      "source": [
        "df_arr = record_store_tabnet_pipe.fit_transform(df.drop('market_value',axis=1),df.market_value)"
      ],
      "execution_count": 0,
      "outputs": []
    },
    {
      "cell_type": "code",
      "metadata": {
        "id": "fdiL3Bqn-jQy",
        "colab_type": "code",
        "colab": {}
      },
      "source": [
        "df_pretensor = np.concatenate([df_arr,np.log(df['market_value']).values.reshape(-1,1)],axis=1)\n",
        "np.random.shuffle(df_pretensor)"
      ],
      "execution_count": 0,
      "outputs": []
    },
    {
      "cell_type": "code",
      "metadata": {
        "id": "cIBIKOFg-jQ1",
        "colab_type": "code",
        "colab": {}
      },
      "source": [
        "ds = tf.data.Dataset.from_tensor_slices(df_pretensor)"
      ],
      "execution_count": 0,
      "outputs": []
    },
    {
      "cell_type": "code",
      "metadata": {
        "id": "-bEmzK_x-jQ4",
        "colab_type": "code",
        "colab": {}
      },
      "source": [
        "def transform(ds):\n",
        "    unstacked = tf.unstack(ds)\n",
        "    features = unstacked[:-1]\n",
        "    \n",
        "    x = dict(zip(col_names,features))\n",
        "    y = unstacked[-1]\n",
        "    \n",
        "    return x,y"
      ],
      "execution_count": 0,
      "outputs": []
    },
    {
      "cell_type": "code",
      "metadata": {
        "id": "oqiOCr1M-jQ9",
        "colab_type": "code",
        "colab": {}
      },
      "source": [
        "col_names = ['column_%s' % i for i in range(975)]"
      ],
      "execution_count": 0,
      "outputs": []
    },
    {
      "cell_type": "code",
      "metadata": {
        "id": "8U1KKXLp-jRC",
        "colab_type": "code",
        "colab": {}
      },
      "source": [
        "train_size = int(0.8*len(df))\n",
        "BATCH_SIZE = 1000\n",
        "ds_train = ds.take(train_size)\n",
        "ds_train = ds_train.map(transform)\n",
        "ds_train = ds_train.batch(BATCH_SIZE)"
      ],
      "execution_count": 0,
      "outputs": []
    },
    {
      "cell_type": "code",
      "metadata": {
        "id": "E5tVfbtM-jRE",
        "colab_type": "code",
        "colab": {}
      },
      "source": [
        "ds_test = ds.skip(train_size)\n",
        "ds_test = ds_test.map(transform)\n",
        "ds_test = ds_test.batch(BATCH_SIZE)"
      ],
      "execution_count": 0,
      "outputs": []
    },
    {
      "cell_type": "code",
      "metadata": {
        "id": "aDvMC7fk-jRI",
        "colab_type": "code",
        "colab": {}
      },
      "source": [
        "feature_columns = [tf.feature_column.numeric_column(column) for column in col_names]"
      ],
      "execution_count": 0,
      "outputs": []
    },
    {
      "cell_type": "code",
      "metadata": {
        "id": "VDufhg3q-jRL",
        "colab_type": "code",
        "colab": {}
      },
      "source": [
        "model = tabnet.TabNetRegressor(\n",
        "    feature_columns,\n",
        "    feature_dim=64,\n",
        "    output_dim=64,\n",
        "    num_regressors=len(feature_columns),\n",
        "    num_decision_steps=2,\n",
        "    relaxation_factor=1,\n",
        "    sparsity_coefficient=1e-2,    \n",
        ")"
      ],
      "execution_count": 0,
      "outputs": []
    },
    {
      "cell_type": "code",
      "metadata": {
        "id": "QSiiskCe-jRO",
        "colab_type": "code",
        "colab": {}
      },
      "source": [
        "lr = tf.keras.optimizers.schedules.ExponentialDecay(0.01,decay_steps=100,decay_rate=0.9,staircase=False)\n",
        "optimizer = tf.keras.optimizers.Adam(lr)"
      ],
      "execution_count": 0,
      "outputs": []
    },
    {
      "cell_type": "code",
      "metadata": {
        "id": "0pIqB_7w-jRR",
        "colab_type": "code",
        "colab": {}
      },
      "source": [
        "model.compile(optimizer,loss='mean_squared_error',metrics=['mean_absolute_error'])"
      ],
      "execution_count": 0,
      "outputs": []
    },
    {
      "cell_type": "code",
      "metadata": {
        "id": "VnJ0rt3v-jRV",
        "colab_type": "code",
        "colab": {
          "base_uri": "https://localhost:8080/",
          "height": 162
        },
        "outputId": "c1ab226c-7bcd-4044-9bf3-093b141084cf"
      },
      "source": [
        "model.fit(ds_train,epochs=50,validation_data=ds_test,verbose=100)"
      ],
      "execution_count": 0,
      "outputs": [
        {
          "output_type": "stream",
          "text": [
            "Epoch 1/50\n",
            "WARNING:tensorflow:Layer tab_net_regressor is casting an input tensor from dtype float64 to the layer's dtype of float32, which is new behavior in TensorFlow 2.  The layer has dtype float32 because it's dtype defaults to floatx.\n",
            "\n",
            "If you intended to run this layer in float32, you can safely ignore this warning. If in doubt, this warning is likely only an issue if you are porting a TensorFlow 1.X model to TensorFlow 2.\n",
            "\n",
            "To change all layers to have dtype float64 by default, call `tf.keras.backend.set_floatx('float64')`. To change just this layer, pass dtype='float64' to the layer constructor. If you are the author of this layer, you can disable autocasting by passing autocast=False to the base Layer constructor.\n",
            "\n"
          ],
          "name": "stdout"
        }
      ]
    },
    {
      "cell_type": "code",
      "metadata": {
        "id": "6fZcu67XGMqw",
        "colab_type": "code",
        "colab": {}
      },
      "source": [
        ""
      ],
      "execution_count": 0,
      "outputs": []
    }
  ]
}